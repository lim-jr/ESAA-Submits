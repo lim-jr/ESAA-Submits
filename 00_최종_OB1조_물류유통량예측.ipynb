{
  "cells": [
    {
      "cell_type": "markdown",
      "metadata": {
        "id": "view-in-github",
        "colab_type": "text"
      },
      "source": [
        "<a href=\"https://colab.research.google.com/github/lim-jr/ESAA-Submits/blob/main/00_%EC%B5%9C%EC%A2%85_OB1%EC%A1%B0_%EB%AC%BC%EB%A5%98%EC%9C%A0%ED%86%B5%EB%9F%89%EC%98%88%EC%B8%A1.ipynb\" target=\"_parent\"><img src=\"https://colab.research.google.com/assets/colab-badge.svg\" alt=\"Open In Colab\"/></a>"
      ]
    },
    {
      "cell_type": "code",
      "execution_count": null,
      "metadata": {
        "id": "0UV5fQZ38PfW"
      },
      "outputs": [],
      "source": []
    },
    {
      "cell_type": "markdown",
      "metadata": {
        "id": "_eHWW5P0ibXv"
      },
      "source": [
        "# 물류 유통량 예측 경진대회\n",
        "\n",
        "https://dacon.io/competitions/official/235867/overview/description\n",
        "\n",
        "* 목적\n",
        ": 제주시 내 택배 운송 데이터를 이용하여 운송량 예측 AI 개발\n",
        "\n",
        "* 데이터 정보\n",
        "  - train_df.csv\n",
        "\n",
        "    - index : 인덱스\n",
        "    - 송하인_격자공간고유번호\n",
        "    - 수하인 격자공간고유번호\n",
        "    - 물품_카테고리\n",
        "    - 운송장_건수\n",
        "  - test_df.csv\n",
        "    - index : 인덱스\n",
        "    - 송하인_격자공간고유번호\n",
        "    - 수하인 격자공간고유번호\n",
        "    - 물품_카테고리\n",
        "  - sample_submission.csv\n",
        "    - index : 인덱스\n",
        "    - 운송장_건수\n",
        "\n",
        "\n",
        "\n"
      ]
    },
    {
      "cell_type": "markdown",
      "metadata": {
        "id": "m33uboHy26Vv"
      },
      "source": [
        "# 01 라이브러리 및 데이터 불러오기"
      ]
    },
    {
      "cell_type": "code",
      "execution_count": null,
      "metadata": {
        "colab": {
          "base_uri": "https://localhost:8080/"
        },
        "id": "3eTVtGc0LfcW",
        "outputId": "5eae15ee-bae5-458c-ad48-4b61bf076086"
      },
      "outputs": [
        {
          "output_type": "stream",
          "name": "stdout",
          "text": [
            "Drive already mounted at /content/drive; to attempt to forcibly remount, call drive.mount(\"/content/drive\", force_remount=True).\n"
          ]
        }
      ],
      "source": [
        "from google.colab import drive\n",
        "drive.mount('/content/drive')"
      ]
    },
    {
      "cell_type": "code",
      "execution_count": null,
      "metadata": {
        "id": "xFxlh36JLfcW"
      },
      "outputs": [],
      "source": [
        "import pandas as pd\n",
        "import numpy as np\n",
        "import seaborn as sns\n",
        "import matplotlib.pyplot as plt\n",
        "%matplotlib inline\n",
        "\n",
        "import warnings\n",
        "warnings.filterwarnings(action='ignore')"
      ]
    },
    {
      "cell_type": "code",
      "execution_count": null,
      "metadata": {
        "id": "EvvUWPgivx8J"
      },
      "outputs": [],
      "source": [
        "plt.rc('font', family='NanumBarunGothic') #matplotlib 한글 깨짐 방지"
      ]
    },
    {
      "cell_type": "code",
      "execution_count": null,
      "metadata": {
        "id": "Hlyki6BALfcX"
      },
      "outputs": [],
      "source": [
        "import os\n",
        "os.chdir(\"/content/drive/MyDrive/ESAA/OB1조/프로젝트(1)/Data\") # working directory를 설정함"
      ]
    },
    {
      "cell_type": "code",
      "execution_count": null,
      "metadata": {
        "id": "XiVBTuVqLfcX"
      },
      "outputs": [],
      "source": [
        "train = pd.read_csv('train.csv', index_col=0)\n",
        "test = pd.read_csv('test.csv', index_col=0)\n",
        "\n",
        "submission = pd.read_csv('sample_submission.csv')"
      ]
    },
    {
      "cell_type": "code",
      "execution_count": null,
      "metadata": {
        "id": "NJgjQ9rgb9Pa"
      },
      "outputs": [],
      "source": [
        "train.head()"
      ]
    },
    {
      "cell_type": "code",
      "execution_count": null,
      "metadata": {
        "id": "q7FWc9uNb-Wh"
      },
      "outputs": [],
      "source": [
        "test.head()"
      ]
    },
    {
      "cell_type": "code",
      "execution_count": null,
      "metadata": {
        "id": "KUSh9KgBb_Ub"
      },
      "outputs": [],
      "source": [
        "train.info()"
      ]
    },
    {
      "cell_type": "markdown",
      "metadata": {
        "id": "2T79wrMVnfo9"
      },
      "source": [
        "- null 데이터 없이 잘 들어가 있음을 알 수 있다. "
      ]
    },
    {
      "cell_type": "code",
      "execution_count": null,
      "metadata": {
        "id": "xrLNmZwgcBTD"
      },
      "outputs": [],
      "source": [
        "train.isnull().sum()"
      ]
    },
    {
      "cell_type": "code",
      "execution_count": null,
      "metadata": {
        "id": "7WbGkVGncAVK"
      },
      "outputs": [],
      "source": [
        "test.info()"
      ]
    },
    {
      "cell_type": "markdown",
      "metadata": {
        "id": "TUilqVTjni2s"
      },
      "source": [
        "- null 데이터 없이 잘 들어가 있음을 알 수 있다. "
      ]
    },
    {
      "cell_type": "markdown",
      "metadata": {
        "id": "aNw6OU6OML8P"
      },
      "source": [
        "# 02 데이터 해석\n"
      ]
    },
    {
      "cell_type": "markdown",
      "metadata": {
        "id": "iaomiYXKTBDz"
      },
      "source": [
        "## 1) 격자공간고유번호 의미\n",
        "\n",
        "*   의미단위별로 분리   \n",
        " *   시: 1-2번째 숫자\n",
        " *   군/구: 3-5번째 숫자\n",
        " *   동: 6-10번째 숫자"
      ]
    },
    {
      "cell_type": "code",
      "execution_count": null,
      "metadata": {
        "id": "VDQjZx-BogPB"
      },
      "outputs": [],
      "source": [
        "seoul = pd.read_csv('TC_NU_SPG_50_METER/TC_NU_SPG_50_METER_11.csv') # index_col=0\n",
        "seoul.head()"
      ]
    },
    {
      "cell_type": "code",
      "execution_count": null,
      "metadata": {
        "id": "ajrgU4wuqmGo"
      },
      "outputs": [],
      "source": [
        "seoul[['시군구명','시군구코드']].groupby(['시군구명','시군구코드']).count()"
      ]
    },
    {
      "cell_type": "code",
      "execution_count": null,
      "metadata": {
        "id": "O2UTbd5lptUI"
      },
      "outputs": [],
      "source": [
        "busan = pd.read_csv('TC_NU_SPG_50_METER/TC_NU_SPG_50_METER_26.csv') # index_col=0\n",
        "busan.head()"
      ]
    },
    {
      "cell_type": "code",
      "execution_count": null,
      "metadata": {
        "id": "88E4u9huqbZX"
      },
      "outputs": [],
      "source": [
        "busan[['시군구명','시군구코드']].groupby(['시군구명','시군구코드']).count()"
      ]
    },
    {
      "cell_type": "code",
      "execution_count": null,
      "metadata": {
        "id": "rJkvGt-xpwvn"
      },
      "outputs": [],
      "source": [
        "daegu = pd.read_csv('TC_NU_SPG_50_METER/TC_NU_SPG_50_METER_27.csv') # index_col=0\n",
        "daegu.head()"
      ]
    },
    {
      "cell_type": "code",
      "execution_count": null,
      "metadata": {
        "id": "mp_Ht0NTrXcI"
      },
      "outputs": [],
      "source": [
        "daegu[['시군구명','시군구코드']].groupby(['시군구명','시군구코드']).count()"
      ]
    },
    {
      "cell_type": "code",
      "execution_count": null,
      "metadata": {
        "id": "gk3C8RcNpxu4"
      },
      "outputs": [],
      "source": [
        "incheon = pd.read_csv('TC_NU_SPG_50_METER/TC_NU_SPG_50_METER_28.csv') # index_col=0\n",
        "incheon.head()"
      ]
    },
    {
      "cell_type": "code",
      "execution_count": null,
      "metadata": {
        "id": "y1p-rZFmrjeQ"
      },
      "outputs": [],
      "source": [
        "incheon[['시군구명','시군구코드']].groupby(['시군구명','시군구코드']).count()"
      ]
    },
    {
      "cell_type": "code",
      "execution_count": null,
      "metadata": {
        "id": "Na5YH9qJpz_g"
      },
      "outputs": [],
      "source": [
        "gwangju = pd.read_csv('TC_NU_SPG_50_METER/TC_NU_SPG_50_METER_29.csv') # index_col=0\n",
        "gwangju.head()"
      ]
    },
    {
      "cell_type": "code",
      "execution_count": null,
      "metadata": {
        "id": "Ov0Bez0hro1A"
      },
      "outputs": [],
      "source": [
        "gwangju[['시군구명','시군구코드']].groupby(['시군구명','시군구코드']).count()"
      ]
    },
    {
      "cell_type": "code",
      "execution_count": null,
      "metadata": {
        "id": "9fhcZaN_p1SY"
      },
      "outputs": [],
      "source": [
        "daejeon = pd.read_csv('TC_NU_SPG_50_METER/TC_NU_SPG_50_METER_30.csv') # index_col=0\n",
        "daejeon.tail()"
      ]
    },
    {
      "cell_type": "code",
      "execution_count": null,
      "metadata": {
        "id": "xl7o796crpQw"
      },
      "outputs": [],
      "source": [
        "daejeon[['시군구명','시군구코드']].groupby(['시군구명','시군구코드']).count()"
      ]
    },
    {
      "cell_type": "code",
      "execution_count": null,
      "metadata": {
        "id": "dbQyzsD0p2OX"
      },
      "outputs": [],
      "source": [
        "ulsan = pd.read_csv('TC_NU_SPG_50_METER/TC_NU_SPG_50_METER_31.csv') # index_col=0\n",
        "ulsan.head()"
      ]
    },
    {
      "cell_type": "code",
      "execution_count": null,
      "metadata": {
        "id": "29nJzdrprpsp"
      },
      "outputs": [],
      "source": [
        "ulsan[['시군구명','시군구코드']].groupby(['시군구명','시군구코드']).count()"
      ]
    },
    {
      "cell_type": "code",
      "execution_count": null,
      "metadata": {
        "id": "Gjvlb1Kcp5HJ"
      },
      "outputs": [],
      "source": [
        "sejong = pd.read_csv('TC_NU_SPG_50_METER/TC_NU_SPG_50_METER_36.csv') # index_col=0\n",
        "sejong.head()"
      ]
    },
    {
      "cell_type": "code",
      "execution_count": null,
      "metadata": {
        "id": "TQzyzo-0rqDo"
      },
      "outputs": [],
      "source": [
        "sejong[['시군구명','시군구코드']].groupby(['시군구명','시군구코드']).count()"
      ]
    },
    {
      "cell_type": "code",
      "execution_count": null,
      "metadata": {
        "id": "c-asn8Pxp6AX"
      },
      "outputs": [],
      "source": [
        "gyeonggi = pd.read_csv('TC_NU_SPG_50_METER/TC_NU_SPG_50_METER_41.csv') # index_col=0\n",
        "gyeonggi.head()"
      ]
    },
    {
      "cell_type": "code",
      "execution_count": null,
      "metadata": {
        "id": "QQZP5O7NrqbC"
      },
      "outputs": [],
      "source": [
        "gyeonggi[['시군구명','시군구코드']].groupby(['시군구명','시군구코드']).count()"
      ]
    },
    {
      "cell_type": "code",
      "execution_count": null,
      "metadata": {
        "id": "cKgmgDEpqGAn"
      },
      "outputs": [],
      "source": [
        "gangwon = pd.read_csv('TC_NU_SPG_50_METER/TC_NU_SPG_50_METER_42.csv') # index_col=0\n",
        "gangwon.head()"
      ]
    },
    {
      "cell_type": "code",
      "execution_count": null,
      "metadata": {
        "id": "uVFdb4QArqyq"
      },
      "outputs": [],
      "source": [
        "gangwon[['시군구명','시군구코드']].groupby(['시군구명','시군구코드']).count()"
      ]
    },
    {
      "cell_type": "code",
      "execution_count": null,
      "metadata": {
        "id": "0_zZyJTsqHHc"
      },
      "outputs": [],
      "source": [
        "north_chungcheong = pd.read_csv('TC_NU_SPG_50_METER/TC_NU_SPG_50_METER_43.csv') # index_col=0\n",
        "north_chungcheong.head()"
      ]
    },
    {
      "cell_type": "code",
      "execution_count": null,
      "metadata": {
        "id": "kI1l8R0wrsAo"
      },
      "outputs": [],
      "source": [
        "north_chungcheong[['시군구명','시군구코드']].groupby(['시군구명','시군구코드']).count()"
      ]
    },
    {
      "cell_type": "code",
      "execution_count": null,
      "metadata": {
        "id": "VG1f075yqIN6"
      },
      "outputs": [],
      "source": [
        "south_chungcheong = pd.read_csv('TC_NU_SPG_50_METER/TC_NU_SPG_50_METER_44.csv') # index_col=0\n",
        "south_chungcheong.head()"
      ]
    },
    {
      "cell_type": "code",
      "execution_count": null,
      "metadata": {
        "id": "4pUMgkKMrsW4"
      },
      "outputs": [],
      "source": [
        "south_chungcheong[['시군구명','시군구코드']].groupby(['시군구명','시군구코드']).count()"
      ]
    },
    {
      "cell_type": "code",
      "execution_count": null,
      "metadata": {
        "id": "4yfm1Dg0qJcn"
      },
      "outputs": [],
      "source": [
        "north_jeonla = pd.read_csv('TC_NU_SPG_50_METER/TC_NU_SPG_50_METER_45.csv') # index_col=0\n",
        "north_jeonla.head()"
      ]
    },
    {
      "cell_type": "code",
      "execution_count": null,
      "metadata": {
        "id": "u9c3_EOErszR"
      },
      "outputs": [],
      "source": [
        "north_jeonla[['시군구명','시군구코드']].groupby(['시군구명','시군구코드']).count()"
      ]
    },
    {
      "cell_type": "code",
      "execution_count": null,
      "metadata": {
        "id": "Qh6z2U5HqLUY"
      },
      "outputs": [],
      "source": [
        "south_th_jeonla = pd.read_csv('TC_NU_SPG_50_METER/TC_NU_SPG_50_METER_46.csv') # index_col=0\n",
        "south_th_jeonla.head()"
      ]
    },
    {
      "cell_type": "code",
      "execution_count": null,
      "metadata": {
        "id": "8ji0J1O9rtQQ"
      },
      "outputs": [],
      "source": [
        "south_th_jeonla[['시군구명','시군구코드']].groupby(['시군구명','시군구코드']).count()"
      ]
    },
    {
      "cell_type": "code",
      "execution_count": null,
      "metadata": {
        "id": "s6Qs-ziBqN2f"
      },
      "outputs": [],
      "source": [
        "north_gyeongsang = pd.read_csv('TC_NU_SPG_50_METER/TC_NU_SPG_50_METER_47.csv') # index_col=0\n",
        "north_gyeongsang.head()"
      ]
    },
    {
      "cell_type": "code",
      "execution_count": null,
      "metadata": {
        "id": "cqRkqA8ortmA"
      },
      "outputs": [],
      "source": [
        "north_gyeongsang[['시군구명','시군구코드']].groupby(['시군구명','시군구코드']).count()"
      ]
    },
    {
      "cell_type": "code",
      "execution_count": null,
      "metadata": {
        "id": "vTfjl1HDqPNQ"
      },
      "outputs": [],
      "source": [
        "south_gyeongsang = pd.read_csv('TC_NU_SPG_50_METER/TC_NU_SPG_50_METER_48.csv') # index_col=0\n",
        "south_gyeongsang.head()"
      ]
    },
    {
      "cell_type": "code",
      "execution_count": null,
      "metadata": {
        "id": "GlBhmUbHrt6s"
      },
      "outputs": [],
      "source": [
        "south_gyeongsang[['시군구명','시군구코드']].groupby(['시군구명','시군구코드']).count()"
      ]
    },
    {
      "cell_type": "code",
      "execution_count": null,
      "metadata": {
        "id": "9VVP1Gc9qQOA"
      },
      "outputs": [],
      "source": [
        "jeju = pd.read_csv('TC_NU_SPG_50_METER/TC_NU_SPG_50_METER_50.csv') # index_col=0\n",
        "jeju.head()"
      ]
    },
    {
      "cell_type": "code",
      "execution_count": null,
      "metadata": {
        "id": "kMXaz8Y_ruWB"
      },
      "outputs": [],
      "source": [
        "jeju[['시군구명','시군구코드']].groupby(['시군구명','시군구코드']).count()"
      ]
    },
    {
      "cell_type": "markdown",
      "metadata": {
        "id": "DHF0btTH2-6K"
      },
      "source": [
        "# 03 EDA 및 피처 엔지니어링"
      ]
    },
    {
      "cell_type": "markdown",
      "metadata": {
        "id": "ViiCZFX-3GeQ"
      },
      "source": [
        "## 1) 격자공간고유번호"
      ]
    },
    {
      "cell_type": "markdown",
      "metadata": {
        "id": "kG_wLcPKnqqU"
      },
      "source": [
        "### (1) 의미단위별로 분리\n",
        "* 격자공간고유번호 의미\n",
        "\n",
        "  - 시: 첫 2자, 군/구: 3-5번째, 동: 6-10번째\n",
        "  - 군/구가 달라도 같은 동이름은 있을 수 있음 -> 그래도 시,군구가 다르므로 문제가 되지 않을 것"
      ]
    },
    {
      "cell_type": "markdown",
      "metadata": {
        "id": "6yuNb18Pwgou"
      },
      "source": [
        "- 격자고유번호가 숫자로 되어 있어 슬라이싱 되지 않으므로 문자로 타입을 먼저 바꾼다"
      ]
    },
    {
      "cell_type": "code",
      "execution_count": null,
      "metadata": {
        "id": "YFyl3EKrweXP"
      },
      "outputs": [],
      "source": [
        "train['송하인_격자공간고유번호'] = train['송하인_격자공간고유번호'].astype(str)\n",
        "train['수하인_격자공간고유번호'] = train['수하인_격자공간고유번호'].astype(str)"
      ]
    },
    {
      "cell_type": "code",
      "execution_count": null,
      "metadata": {
        "id": "thieroVinpG8"
      },
      "outputs": [],
      "source": [
        "train['송하인_시코드'] = train['송하인_격자공간고유번호'].map(lambda x:x[:2])\n",
        "train['수하인_시코드'] = train['수하인_격자공간고유번호'].map(lambda x:x[:2])"
      ]
    },
    {
      "cell_type": "code",
      "execution_count": null,
      "metadata": {
        "id": "sNXP-5HEn12x"
      },
      "outputs": [],
      "source": [
        "train['송하인_군구코드'] = train['송하인_격자공간고유번호'].map(lambda x:x[2:5])\n",
        "train['수하인_군구코드'] = train['수하인_격자공간고유번호'].map(lambda x:x[2:5])"
      ]
    },
    {
      "cell_type": "code",
      "execution_count": null,
      "metadata": {
        "id": "eCk1s2D-zuxY"
      },
      "outputs": [],
      "source": [
        "train['송하인_동코드'] = train['송하인_격자공간고유번호'].map(lambda x:x[5:10])\n",
        "train['수하인_동코드'] = train['수하인_격자공간고유번호'].map(lambda x:x[5:10])"
      ]
    },
    {
      "cell_type": "code",
      "execution_count": null,
      "metadata": {
        "id": "FZVvVDMSxgDH"
      },
      "outputs": [],
      "source": [
        "train.head()"
      ]
    },
    {
      "cell_type": "code",
      "execution_count": null,
      "metadata": {
        "id": "bkAtGELdxa_f"
      },
      "outputs": [],
      "source": [
        "test['송하인_격자공간고유번호'] = test['송하인_격자공간고유번호'].astype(str)\n",
        "test['수하인_격자공간고유번호'] = test['수하인_격자공간고유번호'].astype(str)"
      ]
    },
    {
      "cell_type": "code",
      "execution_count": null,
      "metadata": {
        "id": "1DN9iTXpuaEZ"
      },
      "outputs": [],
      "source": [
        "test['송하인_시코드'] = test['송하인_격자공간고유번호'].map(lambda x:x[:2])\n",
        "test['수하인_시코드'] = test['수하인_격자공간고유번호'].map(lambda x:x[:2])"
      ]
    },
    {
      "cell_type": "code",
      "execution_count": null,
      "metadata": {
        "id": "wM6jYEsXoQzA"
      },
      "outputs": [],
      "source": [
        "test['송하인_군구코드'] = test['송하인_격자공간고유번호'].map(lambda x:x[2:5])\n",
        "test['수하인_군구코드'] = test['수하인_격자공간고유번호'].map(lambda x:x[2:5])"
      ]
    },
    {
      "cell_type": "code",
      "execution_count": null,
      "metadata": {
        "id": "y0r7El0P0QB7"
      },
      "outputs": [],
      "source": [
        "test['송하인_동코드'] = test['송하인_격자공간고유번호'].map(lambda x:x[5:10])\n",
        "test['수하인_동코드'] = test['수하인_격자공간고유번호'].map(lambda x:x[5:10])"
      ]
    },
    {
      "cell_type": "code",
      "execution_count": null,
      "metadata": {
        "id": "FXX8WoECxr9n"
      },
      "outputs": [],
      "source": [
        "test.head()"
      ]
    },
    {
      "cell_type": "markdown",
      "metadata": {
        "id": "m-_Naf4mmefl"
      },
      "source": [
        "### (2) EDA 및 인코딩\n",
        "* 시코드 : 운송장_건수의 합으로 인코딩\n",
        "* 군구, 동코드 : 빈도 값으로 인코딩\n",
        "* train 기반으로 인코딩열을 만들고 test에 붙이기기"
      ]
    },
    {
      "cell_type": "markdown",
      "metadata": {
        "id": "I3gFcRvVW621"
      },
      "source": [
        "#### 시도 : 운송장 건수로 인코딩"
      ]
    },
    {
      "cell_type": "markdown",
      "metadata": {
        "id": "KEcqk3yrBX4F"
      },
      "source": [
        "> 수하인 인코딩"
      ]
    },
    {
      "cell_type": "code",
      "execution_count": null,
      "metadata": {
        "id": "kJaWKoHhmd83"
      },
      "outputs": [],
      "source": [
        "train.groupby('수하인_시코드')['운송장_건수'].sum()"
      ]
    },
    {
      "cell_type": "code",
      "execution_count": null,
      "metadata": {
        "id": "9o3mNiMXYj1R"
      },
      "outputs": [],
      "source": [
        "수하인_시 = ['11', '26','27', '28', '29','30','31','36','41','42','43','44','45','46','47','48','50']"
      ]
    },
    {
      "cell_type": "code",
      "execution_count": null,
      "metadata": {
        "id": "vE9klBHXoJ0y"
      },
      "outputs": [],
      "source": [
        "train['수하인_시운송장총건수']=''"
      ]
    },
    {
      "cell_type": "code",
      "execution_count": null,
      "metadata": {
        "id": "EcSHWMxioQSa"
      },
      "outputs": [],
      "source": [
        "for k in range(len(train)):\n",
        "    if train['수하인_시코드'][k] == '11':\n",
        "      train['수하인_시운송장총건수'][k] = 19852\n",
        "    if train['수하인_시코드'][k] == '26':\n",
        "      train['수하인_시운송장총건수'][k] = 6561\n",
        "    if train['수하인_시코드'][k] == '27':\n",
        "      train['수하인_시운송장총건수'][k] = 3732\n",
        "    if train['수하인_시코드'][k] == '28':\n",
        "      train['수하인_시운송장총건수'][k] = 5623\n",
        "    if train['수하인_시코드'][k] == '29':\n",
        "      train['수하인_시운송장총건수'][k] = 2749\n",
        "    if train['수하인_시코드'][k] == '30':\n",
        "      train['수하인_시운송장총건수'][k] = 2990\n",
        "    if train['수하인_시코드'][k] == '31':\n",
        "      train['수하인_시운송장총건수'][k] = 2304\n",
        "    if train['수하인_시코드'][k] == '36':\n",
        "      train['수하인_시운송장총건수'][k] = 637\n",
        "    if train['수하인_시코드'][k] == '41':\n",
        "      train['수하인_시운송장총건수'][k] = 29190\n",
        "    if train['수하인_시코드'][k] == '42':\n",
        "      train['수하인_시운송장총건수'][k] = 3674\n",
        "    if train['수하인_시코드'][k] == '43':\n",
        "      train['수하인_시운송장총건수'][k] = 3378\n",
        "    if train['수하인_시코드'][k] == '44':\n",
        "      train['수하인_시운송장총건수'][k] = 5202\n",
        "    if train['수하인_시코드'][k] == '45':\n",
        "      train['수하인_시운송장총건수'][k] = 4254\n",
        "    if train['수하인_시코드'][k] == '46':\n",
        "      train['수하인_시운송장총건수'][k] = 4052\n",
        "    if train['수하인_시코드'][k] == '47':\n",
        "      train['수하인_시운송장총건수'][k] = 5009\n",
        "    if train['수하인_시코드'][k] == '48':\n",
        "      train['수하인_시운송장총건수'][k] = 6285\n",
        "    if train['수하인_시코드'][k] == '50':\n",
        "      train['수하인_시운송장총건수'][k] = 49104"
      ]
    },
    {
      "cell_type": "code",
      "execution_count": null,
      "metadata": {
        "id": "oHklaagbogPU"
      },
      "outputs": [],
      "source": [
        "train.head()"
      ]
    },
    {
      "cell_type": "markdown",
      "metadata": {
        "id": "VvIp0xdKcv8z"
      },
      "source": [
        "> 수하인 운송장 건수 EDA"
      ]
    },
    {
      "cell_type": "code",
      "execution_count": null,
      "metadata": {
        "id": "gnLAwaPcaHqA"
      },
      "outputs": [],
      "source": [
        "import numpy as np\n",
        "import pandas as pd\n",
        "\n",
        "import matplotlib.pyplot as plt\n",
        "import seaborn as sns\n",
        "\n",
        "plt.rcParams['figure.figsize'] = [10, 6]"
      ]
    },
    {
      "cell_type": "code",
      "execution_count": null,
      "metadata": {
        "id": "ruX_RnECbZda"
      },
      "outputs": [],
      "source": [
        "수하인_시운송장총건수 = pd.DataFrame(train.groupby('수하인_시코드')['운송장_건수'].sum())"
      ]
    },
    {
      "cell_type": "code",
      "execution_count": null,
      "metadata": {
        "id": "MIUAVfIBcDdN"
      },
      "outputs": [],
      "source": [
        "x1 = 수하인_시운송장총건수.index\n",
        "y1 = 수하인_시운송장총건수['운송장_건수']\n",
        "\n",
        "plt.bar(x1, y1)\n",
        "plt.title('수하인_시운송장총건수', fontsize=20)\n",
        "plt.xlabel('수하인_시코드', fontsize=18)\n",
        "plt.ylabel('운송장 총건수', fontsize=18)\n",
        "\n",
        "plt.show()"
      ]
    },
    {
      "cell_type": "markdown",
      "metadata": {
        "id": "AdxrCm3OW2sA"
      },
      "source": [
        "> 송하인 인코딩"
      ]
    },
    {
      "cell_type": "code",
      "execution_count": null,
      "metadata": {
        "id": "K-RM4xzamd_1"
      },
      "outputs": [],
      "source": [
        "train.groupby('송하인_시코드')['운송장_건수'].sum()"
      ]
    },
    {
      "cell_type": "code",
      "execution_count": null,
      "metadata": {
        "id": "DGuw7Zd___Au"
      },
      "outputs": [],
      "source": [
        "train['송하인_시운송장총건수']=''"
      ]
    },
    {
      "cell_type": "code",
      "execution_count": null,
      "metadata": {
        "id": "JrBTcmiIAA3M"
      },
      "outputs": [],
      "source": [
        "for k in range(len(train)):\n",
        "    if train['송하인_시코드'][k] == '11':\n",
        "      train['송하인_시운송장총건수'][k] = 6252\n",
        "    if train['송하인_시코드'][k] == '26':\n",
        "      train['송하인_시운송장총건수'][k] = 1214\n",
        "    if train['송하인_시코드'][k] == '27':\n",
        "      train['송하인_시운송장총건수'][k] = 1176\n",
        "    if train['송하인_시코드'][k] == '28':\n",
        "      train['송하인_시운송장총건수'][k] = 1250\n",
        "    if train['송하인_시코드'][k] == '29':\n",
        "      train['송하인_시운송장총건수'][k] = 324\n",
        "    if train['송하인_시코드'][k] == '30':\n",
        "      train['송하인_시운송장총건수'][k] = 1416\n",
        "    if train['송하인_시코드'][k] == '31':\n",
        "      train['송하인_시운송장총건수'][k] = 175\n",
        "    if train['송하인_시코드'][k] == '36':\n",
        "      train['송하인_시운송장총건수'][k] = 31\n",
        "    if train['송하인_시코드'][k] == '41':\n",
        "      train['송하인_시운송장총건수'][k] = 27198\n",
        "    if train['송하인_시코드'][k] == '42':\n",
        "      train['송하인_시운송장총건수'][k] = 724\n",
        "    if train['송하인_시코드'][k] == '43':\n",
        "      train['송하인_시운송장총건수'][k] = 1832\n",
        "    if train['송하인_시코드'][k] == '44':\n",
        "      train['송하인_시운송장총건수'][k] = 1797\n",
        "    if train['송하인_시코드'][k] == '45':\n",
        "      train['송하인_시운송장총건수'][k] = 1412\n",
        "    if train['송하인_시코드'][k] == '46':\n",
        "      train['송하인_시운송장총건수'][k] = 758\n",
        "    if train['송하인_시코드'][k] == '47':\n",
        "      train['송하인_시운송장총건수'][k] = 1502\n",
        "    if train['송하인_시코드'][k] == '48':\n",
        "      train['송하인_시운송장총건수'][k] = 953\n",
        "    if train['송하인_시코드'][k] == '50':\n",
        "      train['송하인_시운송장총건수'][k] = 106582"
      ]
    },
    {
      "cell_type": "code",
      "execution_count": null,
      "metadata": {
        "id": "bvDBWO8mDq8C"
      },
      "outputs": [],
      "source": [
        "train.head()"
      ]
    },
    {
      "cell_type": "markdown",
      "metadata": {
        "id": "5K0DMW-QdC5_"
      },
      "source": [
        "> 송하인 운송장 건수 EDA"
      ]
    },
    {
      "cell_type": "code",
      "execution_count": null,
      "metadata": {
        "id": "19W5Hq9YdC6C"
      },
      "outputs": [],
      "source": [
        "송하인_시운송장총건수 = pd.DataFrame(train.groupby('송하인_시코드')['운송장_건수'].sum())"
      ]
    },
    {
      "cell_type": "code",
      "execution_count": null,
      "metadata": {
        "id": "q55bqCNZdC6C"
      },
      "outputs": [],
      "source": [
        "x2 = 송하인_시운송장총건수.index\n",
        "y2 = 송하인_시운송장총건수['운송장_건수']\n",
        "\n",
        "plt.bar(x2, y2)\n",
        "plt.title('송하인_시운송장총건수', fontsize=20)\n",
        "plt.xlabel('송하인_시코드', fontsize=18)\n",
        "plt.ylabel('운송장 총건수', fontsize=18)\n",
        "\n",
        "plt.show()"
      ]
    },
    {
      "cell_type": "markdown",
      "metadata": {
        "id": "5oo_FonbQU2K"
      },
      "source": [
        "#### 군구/동 : 빈도로 인코딩\n",
        "* train test 합쳐서 빈도 도출\n",
        "* 빈도 도출한 뒤 split"
      ]
    },
    {
      "cell_type": "code",
      "execution_count": null,
      "metadata": {
        "id": "BESBfIXVOGrU"
      },
      "outputs": [],
      "source": [
        "num_train = len(train)\n",
        "all_data = pd.concat([train, test], ignore_index=True)\n",
        "all_data"
      ]
    },
    {
      "cell_type": "markdown",
      "metadata": {
        "id": "e2pDk2oKsJxy"
      },
      "source": [
        "군구"
      ]
    },
    {
      "cell_type": "code",
      "execution_count": null,
      "metadata": {
        "id": "fr-gXpXNsQqz"
      },
      "outputs": [],
      "source": [
        "# 송하인\n",
        "freq_song_gu = all_data['송하인_군구코드'].value_counts().sort_values()\n",
        "freq_song_gu = freq_song_gu.reset_index()\n",
        "freq_song_gu.columns = ['군구동', '빈도']\n",
        "\n",
        "all_data['송하인_군구코드_빈도']=0\n",
        "\n",
        "for i in range(len(all_data)):\n",
        "  for j in range(len(freq_song_gu)):\n",
        "    if all_data['송하인_군구코드'][i] == freq_song_gu['군구동'][j]:\n",
        "      all_data['송하인_군구코드_빈도'][i] = freq_song_gu['빈도'][j]"
      ]
    },
    {
      "cell_type": "code",
      "execution_count": null,
      "metadata": {
        "id": "vWMlPLjLbb87"
      },
      "outputs": [],
      "source": [
        "# 수하인\n",
        "freq_su_gu = all_data['수하인_군구코드'].value_counts().sort_values()\n",
        "freq_su_gu = freq_su_gu.reset_index()\n",
        "freq_su_gu.columns = ['군구동', '빈도']\n",
        "\n",
        "all_data['수하인_군구코드_빈도']=0\n",
        "\n",
        "for i in range(len(all_data)):\n",
        "  for j in range(len(freq_su_gu)):\n",
        "    if all_data['수하인_군구코드'][i] == freq_su_gu['군구동'][j]:\n",
        "      all_data['수하인_군구코드_빈도'][i] = freq_su_gu['빈도'][j]"
      ]
    },
    {
      "cell_type": "markdown",
      "metadata": {
        "id": "aIEBG-nBs79q"
      },
      "source": [
        "동"
      ]
    },
    {
      "cell_type": "code",
      "execution_count": null,
      "metadata": {
        "id": "6CyI-bJRs7W9"
      },
      "outputs": [],
      "source": [
        "# 송하인\n",
        "freq_song_dong = all_data['송하인_동코드'].value_counts().sort_values()\n",
        "freq_song_dong = freq_song_dong.reset_index()\n",
        "freq_song_dong.columns = ['군구동', '빈도']\n",
        "\n",
        "all_data['송하인_동코드_빈도']=0\n",
        "\n",
        "for i in range(len(all_data)):\n",
        "  for j in range(len(freq_song_dong)):\n",
        "    if all_data['송하인_동코드'][i] == freq_song_dong['군구동'][j]:\n",
        "      all_data['송하인_동코드_빈도'][i] = freq_song_dong['빈도'][j]"
      ]
    },
    {
      "cell_type": "code",
      "execution_count": null,
      "metadata": {
        "id": "oDk5yehys7ac"
      },
      "outputs": [],
      "source": [
        "# 수하인\n",
        "freq_su_dong = all_data['수하인_동코드'].value_counts().sort_values()\n",
        "freq_su_dong = freq_su_dong.reset_index()\n",
        "freq_su_dong.columns = ['군구동', '빈도']\n",
        "\n",
        "all_data['수하인_동코드_빈도']=0\n",
        "\n",
        "for i in range(len(all_data)):\n",
        "  for j in range(len(freq_su_dong)):\n",
        "    if all_data['수하인_동코드'][i] == freq_su_dong['군구동'][j]:\n",
        "      all_data['수하인_동코드_빈도'][i] = freq_su_dong['빈도'][j]"
      ]
    },
    {
      "cell_type": "code",
      "execution_count": null,
      "metadata": {
        "id": "k23J_jmtt6Kk"
      },
      "outputs": [],
      "source": [
        "train = all_data.iloc[0:num_train+1, :]\n",
        "test = all_data.iloc[num_train:, :]\n",
        "test.drop(['운송장_건수'], axis=1, inplace=True)"
      ]
    },
    {
      "cell_type": "code",
      "execution_count": null,
      "metadata": {
        "id": "awnWjqabuDGP"
      },
      "outputs": [],
      "source": [
        "train.head()"
      ]
    },
    {
      "cell_type": "code",
      "execution_count": null,
      "metadata": {
        "id": "yMCR5Fd1f1mF"
      },
      "outputs": [],
      "source": [
        "test.reset_index(drop=True, inplace=True)"
      ]
    },
    {
      "cell_type": "code",
      "execution_count": null,
      "metadata": {
        "id": "lVLhriryuEkh"
      },
      "outputs": [],
      "source": [
        "test.head()"
      ]
    },
    {
      "cell_type": "markdown",
      "metadata": {
        "id": "VytzCqUegZ5-"
      },
      "source": [
        "> 군구 빈도 EDA"
      ]
    },
    {
      "cell_type": "code",
      "execution_count": null,
      "metadata": {
        "id": "2CZrET-bg0em"
      },
      "outputs": [],
      "source": [
        "all_data['수하인_군구코드_빈도'].nunique()"
      ]
    },
    {
      "cell_type": "code",
      "execution_count": null,
      "metadata": {
        "id": "Kw0iksC0h3WK"
      },
      "outputs": [],
      "source": [
        "all_data['송하인_군구코드_빈도'].nunique()"
      ]
    },
    {
      "cell_type": "code",
      "execution_count": null,
      "metadata": {
        "id": "SQCjGV5Oj0CI"
      },
      "outputs": [],
      "source": [
        "fig, (ax1, ax2) = plt.subplots(1, 2, figsize=(18,5))\n",
        "\n",
        "d1 = all_data['수하인_군구코드_빈도']\n",
        "sns.boxplot(d1)\n",
        "ax1.text(50,16, \"TOTAL count: {}\".format(d1.count()))\n",
        "ax1.text(50,15, \"Mean Frequency: {:.1f}\".format(d1.mean()))\n",
        "ax1.text(50,14, \"Median Frequency: {:.1f}\".format(d1.median()))\n",
        "ax1.text(50,13, \"Std. deviation Frequency: {:.1f}\".format(d1.std()))\n",
        "ax1.set_title('수하인_군구코드_빈도')\n",
        "\n",
        "d2 = all_data['송하인_군구코드_빈도']\n",
        "sns.boxplot(d2)\n",
        "ax2.text(50,16, \"TOTAL count: {}\".format(d2.count()))\n",
        "ax2.text(50,15, \"Mean Frequency: {:.1f}\".format(d2.mean()))\n",
        "ax2.text(50,14, \"Median Frequency: {:.1f}\".format(d2.median()))\n",
        "ax2.text(50,13, \"Std. deviation Frequency: {:.1f}\".format(d2.std()))\n",
        "ax2.set_title('송하인_군구코드_빈도')\n",
        "\n",
        "plt.show()"
      ]
    },
    {
      "cell_type": "markdown",
      "metadata": {
        "id": "vWW2j1oCh3WJ"
      },
      "source": [
        "> 송하인 빈도 EDA"
      ]
    },
    {
      "cell_type": "code",
      "execution_count": null,
      "metadata": {
        "id": "WIEFmn1PhFhQ"
      },
      "outputs": [],
      "source": [
        "all_data['수하인_동코드_빈도'].nunique()"
      ]
    },
    {
      "cell_type": "code",
      "execution_count": null,
      "metadata": {
        "id": "EvgUjl3zh3WK"
      },
      "outputs": [],
      "source": [
        "all_data['송하인_동코드_빈도'].nunique()"
      ]
    },
    {
      "cell_type": "code",
      "execution_count": null,
      "metadata": {
        "id": "F0zVD3uFnyQv"
      },
      "outputs": [],
      "source": [
        "fig, (ax1, ax2) = plt.subplots(1, 2, figsize=(18,5))\n",
        "\n",
        "d3 = all_data['수하인_동코드_빈도']\n",
        "sns.boxplot(d3)\n",
        "ax1.text(50,16, \"TOTAL count: {}\".format(d3.count()))\n",
        "ax1.text(50,15, \"Mean Frequency: {:.1f}\".format(d3.mean()))\n",
        "ax1.text(50,14, \"Median Frequency: {:.1f}\".format(d3.median()))\n",
        "ax1.text(50,13, \"Std. deviation Frequency: {:.1f}\".format(d3.std()))\n",
        "ax1.set_title('수하인_동코드_빈도')\n",
        "\n",
        "d4 = all_data['송하인_동코드_빈도']\n",
        "sns.boxplot(d4)\n",
        "ax2.text(50,16, \"TOTAL count: {}\".format(d4.count()))\n",
        "ax2.text(50,15, \"Mean Frequency: {:.1f}\".format(d4.mean()))\n",
        "ax2.text(50,14, \"Median Frequency: {:.1f}\".format(d4.median()))\n",
        "ax2.text(50,13, \"Std. deviation Frequency: {:.1f}\".format(d4.std()))\n",
        "ax2.set_title('송하인_동코드_빈도')\n",
        "\n",
        "plt.show()"
      ]
    },
    {
      "cell_type": "markdown",
      "metadata": {
        "id": "M3wmIa5Ull2U"
      },
      "source": [
        "## 2) 물품_카테고리"
      ]
    },
    {
      "cell_type": "code",
      "execution_count": null,
      "metadata": {
        "id": "-OkYorKSM5g0"
      },
      "outputs": [],
      "source": [
        "pd.set_option('display.max_rows', None)\n",
        "print(train.iloc[:,3].value_counts())"
      ]
    },
    {
      "cell_type": "markdown",
      "metadata": {
        "id": "mqMPhAEA40ba"
      },
      "source": [
        "### (1) 물품_카테고리_대분류 열 생성"
      ]
    },
    {
      "cell_type": "code",
      "execution_count": null,
      "metadata": {
        "id": "pYA7d85gw6Ss"
      },
      "outputs": [],
      "source": [
        "식품 = ['농산물', '기타식품', '수산', '건강식품', '음료', '가공식품', '축산', '과자', '다이어트식품', '냉동/간편조리식품', '김치','반찬']\n",
        "생활건강 = ['의료용품','건강용품', '생활용품', '주방용품', '위생/건강용품', '재활운동용품', '자동차용품' ,\n",
        "            '수납/정리용품', '취미용품', '구강위생용품', '눈관리용품', '욕실용품', '세탁용품', '공구', '문구/사무용품']\n",
        "스포츠레저 = ['기타스포츠/레저' ,'등산', '낚시', '골프' ,'캠핑' ,'헬스' ]\n",
        "가구인테리어 = ['서재/사무용가구', '주방가구', '침실가구' ,'수납가구' ,'아웃도어가구' ,'유아가구' ,\n",
        "                 '침구세트', '침구단품', '인테리어소품', '커튼/블라인드', 'DIY자재/용품', '홈데코', '카페트/러그']\n",
        "도서음반 = ['음반', '문화컨텐츠']\n",
        "패션잡화 = ['선글라스/안경테', '양말/스타킹', '가방', '주얼리' ,'패션소품', '모자' ,'기타패션잡화' ,'지갑', '헤어액세서리']\n",
        "패션의류 = ['아우터', '신발', '상의', '하의', '기타패션의류', '잠옷', '언더웨어' ,'원피스/점프슈트', '기능성']\n",
        "기타 = ['반려동물']\n",
        "출산육아 = ['기저귀/물티슈', '기타출산/육아', '분유/이유식/아기간식', '출산/유아동잡화', '출산/유아동의류', '완구/매트']\n",
        "디지털가전 = ['모니터', 'PC' ,'PC주변기기', '게임기/타이틀', '스마트디바이스액세서리', '태블릿PC/노트북액세서리', \n",
        "               '스마트디바이스', '기타디지털/가전' ,'주방가전', '음향가전', '계절가전' ,'생활가전' ,'이미용가전']\n",
        "화장품미용 = ['스킨케어', '헤어케어', '바디케어', '선케어', '네일케어', '기타화장품/미용' ,\n",
        "               '색조메이크업', '클렌징' ,'헤어스타일링', '뷰티소품', '남성화장품' ,'베이스메이크업', '향수']"
      ]
    },
    {
      "cell_type": "code",
      "execution_count": null,
      "metadata": {
        "id": "IerkY09QxEav"
      },
      "outputs": [],
      "source": [
        "train['물품_카테고리_대분류']=' '"
      ]
    },
    {
      "cell_type": "code",
      "execution_count": null,
      "metadata": {
        "id": "qQq1Rg7xxu1h"
      },
      "outputs": [],
      "source": [
        "for i in train['물품_카테고리']:\n",
        "  if i in 식품:\n",
        "    train.loc[train['물품_카테고리']==i, '물품_카테고리_대분류'] = '식품'\n",
        "  elif i in 생활건강:\n",
        "    train.loc[train['물품_카테고리']==i,'물품_카테고리_대분류']='생활건강'\n",
        "  elif i in 스포츠레저:\n",
        "    train.loc[train['물품_카테고리']==i,'물품_카테고리_대분류']='스포츠레저'\n",
        "  elif i in 가구인테리어:\n",
        "    train.loc[train['물품_카테고리']==i,'물품_카테고리_대분류']='가구인테리어'\n",
        "  elif i in 도서음반:\n",
        "    train.loc[train['물품_카테고리']==i,'물품_카테고리_대분류']='도서음반'\n",
        "  elif i in 패션잡화:\n",
        "    train.loc[train['물품_카테고리']==i,'물품_카테고리_대분류']='패션잡화'\n",
        "  elif i in 패션의류:\n",
        "    train.loc[train['물품_카테고리']==i,'물품_카테고리_대분류']='패션의류'\n",
        "  elif i in 기타:\n",
        "    train.loc[train['물품_카테고리']==i,'물품_카테고리_대분류']='기타'\n",
        "  elif i in 출산육아:\n",
        "    train.loc[train['물품_카테고리']==i,'물품_카테고리_대분류']='출산육아'\n",
        "  elif i in 디지털가전:\n",
        "    train.loc[train['물품_카테고리']==i,'물품_카테고리_대분류']='디지털가전'\n",
        "  else:\n",
        "    train.loc[train['물품_카테고리']==i,'물품_카테고리_대분류']='화장품미용'"
      ]
    },
    {
      "cell_type": "code",
      "execution_count": null,
      "metadata": {
        "id": "4fxAtnCemH5F"
      },
      "outputs": [],
      "source": [
        "train.head()"
      ]
    },
    {
      "cell_type": "code",
      "execution_count": null,
      "metadata": {
        "id": "PdIHvwJDfkni"
      },
      "outputs": [],
      "source": [
        "test['물품_카테고리_대분류']=' '"
      ]
    },
    {
      "cell_type": "code",
      "execution_count": null,
      "metadata": {
        "id": "ftOo0o0hfknj"
      },
      "outputs": [],
      "source": [
        "for i in test['물품_카테고리']:\n",
        "  if i in 식품:\n",
        "    test.loc[test['물품_카테고리']==i, '물품_카테고리_대분류'] = '식품'\n",
        "  elif i in 생활건강:\n",
        "    test.loc[test['물품_카테고리']==i,'물품_카테고리_대분류']='생활건강'\n",
        "  elif i in 스포츠레저:\n",
        "    test.loc[test['물품_카테고리']==i,'물품_카테고리_대분류']='스포츠레저'\n",
        "  elif i in 가구인테리어:\n",
        "    test.loc[test['물품_카테고리']==i,'물품_카테고리_대분류']='가구인테리어'\n",
        "  elif i in 도서음반:\n",
        "    test.loc[test['물품_카테고리']==i,'물품_카테고리_대분류']='도서음반'\n",
        "  elif i in 패션잡화:\n",
        "    test.loc[test['물품_카테고리']==i,'물품_카테고리_대분류']='패션잡화'\n",
        "  elif i in 패션의류:\n",
        "    test.loc[test['물품_카테고리']==i,'물품_카테고리_대분류']='패션의류'\n",
        "  elif i in 기타:\n",
        "    test.loc[test['물품_카테고리']==i,'물품_카테고리_대분류']='기타'\n",
        "  elif i in 출산육아:\n",
        "    test.loc[test['물품_카테고리']==i,'물품_카테고리_대분류']='출산육아'\n",
        "  elif i in 디지털가전:\n",
        "    test.loc[test['물품_카테고리']==i,'물품_카테고리_대분류']='디지털가전'\n",
        "  else:\n",
        "    test.loc[test['물품_카테고리']==i,'물품_카테고리_대분류']='화장품미용'"
      ]
    },
    {
      "cell_type": "code",
      "execution_count": null,
      "metadata": {
        "id": "MWDBDvErfknk"
      },
      "outputs": [],
      "source": [
        "test.head()"
      ]
    },
    {
      "cell_type": "markdown",
      "metadata": {
        "id": "cYn3bYmkW3g0"
      },
      "source": [
        "### (2) 물품_카테고리_대분류 인코딩\n",
        "* 운송장_건수 합으로 인코딩"
      ]
    },
    {
      "cell_type": "code",
      "execution_count": null,
      "metadata": {
        "id": "dPDPHgpxmeEj"
      },
      "outputs": [],
      "source": [
        "train.groupby('물품_카테고리_대분류')['운송장_건수'].sum()"
      ]
    },
    {
      "cell_type": "code",
      "execution_count": null,
      "metadata": {
        "id": "07cvpzRgByVa"
      },
      "outputs": [],
      "source": [
        "train['물품_대분류_운송장총건수']=''"
      ]
    },
    {
      "cell_type": "code",
      "execution_count": null,
      "metadata": {
        "id": "lnqW-uy2B4AP"
      },
      "outputs": [],
      "source": [
        "for k in range(len(train)):\n",
        "    if train['물품_카테고리_대분류'][k] == '가구인테리어':\n",
        "      train['물품_대분류_운송장총건수'][k] = 1586\n",
        "    if train['물품_카테고리_대분류'][k] == '기타':\n",
        "      train['물품_대분류_운송장총건수'][k] = 1388\n",
        "    if train['물품_카테고리_대분류'][k] == '도서음반':\n",
        "      train['물품_대분류_운송장총건수'][k] = 7786\n",
        "    if train['물품_카테고리_대분류'][k] == '디지털가전':\n",
        "      train['물품_대분류_운송장총건수'][k] = 2908\n",
        "    if train['물품_카테고리_대분류'][k] == '생활건강':\n",
        "      train['물품_대분류_운송장총건수'][k] = 8819\n",
        "    if train['물품_카테고리_대분류'][k] == '스포츠레저':\n",
        "      train['물품_대분류_운송장총건수'][k] = 839\n",
        "    if train['물품_카테고리_대분류'][k] == '식품':\n",
        "      train['물품_대분류_운송장총건수'][k] = 119921\n",
        "    if train['물품_카테고리_대분류'][k] == '출산육아':\n",
        "      train['물품_대분류_운송장총건수'][k] = 1104\n",
        "    if train['물품_카테고리_대분류'][k] == '패션의류':\n",
        "      train['물품_대분류_운송장총건수'][k] = 6299\n",
        "    if train['물품_카테고리_대분류'][k] == '패션잡화':\n",
        "      train['물품_대분류_운송장총건수'][k] = 515\n",
        "    if train['물품_카테고리_대분류'][k] == '화장품미용':\n",
        "      train['물품_대분류_운송장총건수'][k] = 3431"
      ]
    },
    {
      "cell_type": "code",
      "execution_count": null,
      "metadata": {
        "id": "J7L1fQqODJhO"
      },
      "outputs": [],
      "source": [
        "train.head()"
      ]
    },
    {
      "cell_type": "markdown",
      "metadata": {
        "id": "QXsxPUD_VLOY"
      },
      "source": [
        "### (3) 물품_카테고리_대분류 생성 전후 비교"
      ]
    },
    {
      "cell_type": "code",
      "execution_count": null,
      "metadata": {
        "id": "HenM6RTkp0-l"
      },
      "outputs": [],
      "source": [
        "물품_운송장총건수 = pd.DataFrame(train.groupby('물품_카테고리')['운송장_건수'].sum())"
      ]
    },
    {
      "cell_type": "code",
      "execution_count": null,
      "metadata": {
        "id": "xIEivlY-pOET"
      },
      "outputs": [],
      "source": [
        "ratio1 = 물품_운송장총건수['운송장_건수']\n",
        "labels1 = 물품_운송장총건수.index\n",
        "wedgeprops={'width': 0.7, 'edgecolor': 'w', 'linewidth': 0.8}\n",
        "\n",
        "plt.pie(ratio1, labels=labels1, autopct='%.1f%%', startangle=90, counterclock=False, wedgeprops=wedgeprops)\n",
        "plt.title('물품_카테고리_대분류 생성 전', fontsize=20)\n",
        "\n",
        "plt.show()"
      ]
    },
    {
      "cell_type": "code",
      "execution_count": null,
      "metadata": {
        "id": "mG_B5PXhrEp5"
      },
      "outputs": [],
      "source": [
        "물품_대분류_운송장총건수 = pd.DataFrame(train.groupby('물품_카테고리_대분류')['운송장_건수'].sum())"
      ]
    },
    {
      "cell_type": "code",
      "execution_count": null,
      "metadata": {
        "id": "epaZFxAArEp6"
      },
      "outputs": [],
      "source": [
        "ratio2 = 물품_대분류_운송장총건수['운송장_건수']\n",
        "labels2 = 물품_대분류_운송장총건수.index\n",
        "wedgeprops={'width': 0.7, 'edgecolor': 'w', 'linewidth': 0.8}\n",
        "\n",
        "plt.pie(ratio2, labels=labels2, autopct='%.1f%%', startangle=90, counterclock=False, wedgeprops=wedgeprops)\n",
        "plt.title('물품_카테고리_대분류 생성 후', fontsize=20)\n",
        "\n",
        "plt.show()"
      ]
    },
    {
      "cell_type": "markdown",
      "metadata": {
        "id": "GJfg-kIvXNJA"
      },
      "source": [
        "## 3) test 인코딩"
      ]
    },
    {
      "cell_type": "markdown",
      "metadata": {
        "id": "rEubqRT_grXR"
      },
      "source": [
        "#### 시군구 : train의 총운송장건수로 인코딩"
      ]
    },
    {
      "cell_type": "code",
      "execution_count": null,
      "metadata": {
        "id": "jL4EU8FjgwAa"
      },
      "outputs": [],
      "source": [
        "a = train['수하인_시코드']\n",
        "a.head()\n",
        "a = list(a)\n",
        "\n",
        "# a를 먼저 나온 unique한 값 순서 맞춰 남기기 위해 처리\n",
        "a_unique = list(dict.fromkeys(a))\n",
        "a_unique\n",
        "\n",
        "b = train['수하인_시운송장총건수']\n",
        "b.head()\n",
        "b = list(b)\n",
        "\n",
        "# b를 먼저 나온 unique한 값 순서 맞춰 남기기 위해 처리\n",
        "b_unique = list(dict.fromkeys(b))\n",
        "b_unique\n",
        "\n",
        "test['수하인_시운송장총건수'] = 0\n",
        "test.head()\n",
        "\n",
        "l=0\n",
        "\n",
        "for i in a_unique: # a에 있는 시번호와 매칭해볼 예정\n",
        "  for k in range(len(test)): \n",
        "    if test['수하인_시코드'][k] == i:\n",
        "      test['수하인_시운송장총건수'][k] = b_unique[l]\n",
        "  l=l+1"
      ]
    },
    {
      "cell_type": "code",
      "execution_count": null,
      "metadata": {
        "id": "IaeyWA5_hH8P"
      },
      "outputs": [],
      "source": [
        "df3 = train.groupby('송하인_시코드')['운송장_건수'].sum()\n",
        "\n",
        "test['송하인_시운송장총건수'] = ''\n",
        "\n",
        "for i in range(len(test)):\n",
        "  for j in range(len(df3)):\n",
        "    if test['송하인_시코드'][i] == df3.index[j]:\n",
        "      test['송하인_시운송장총건수'][i] = df3[j]"
      ]
    },
    {
      "cell_type": "code",
      "execution_count": null,
      "metadata": {
        "id": "J4roiADjhUP5"
      },
      "outputs": [],
      "source": [
        "test.head()"
      ]
    },
    {
      "cell_type": "markdown",
      "metadata": {
        "id": "KiTUdyomIabZ"
      },
      "source": [
        "#### 물품 : train의 대분류 총운송장건수로 인코딩"
      ]
    },
    {
      "cell_type": "code",
      "execution_count": null,
      "metadata": {
        "id": "094HVcCBIlLf"
      },
      "outputs": [],
      "source": [
        "test['물품_카테고리_대분류']=' '"
      ]
    },
    {
      "cell_type": "code",
      "execution_count": null,
      "metadata": {
        "id": "tlPsqPS3IlLh"
      },
      "outputs": [],
      "source": [
        "for i in test['물품_카테고리']:\n",
        "  if i in 식품:\n",
        "    test.loc[test['물품_카테고리']==i, '물품_카테고리_대분류'] = '식품'\n",
        "  elif i in 생활건강:\n",
        "    test.loc[test['물품_카테고리']==i,'물품_카테고리_대분류']='생활건강'\n",
        "  elif i in 스포츠레저:\n",
        "    test.loc[test['물품_카테고리']==i,'물품_카테고리_대분류']='스포츠레저'\n",
        "  elif i in 가구인테리어:\n",
        "    test.loc[test['물품_카테고리']==i,'물품_카테고리_대분류']='가구인테리어'\n",
        "  elif i in 도서음반:\n",
        "    test.loc[test['물품_카테고리']==i,'물품_카테고리_대분류']='도서음반'\n",
        "  elif i in 패션잡화:\n",
        "    test.loc[test['물품_카테고리']==i,'물품_카테고리_대분류']='패션잡화'\n",
        "  elif i in 패션의류:\n",
        "    test.loc[test['물품_카테고리']==i,'물품_카테고리_대분류']='패션의류'\n",
        "  elif i in 기타:\n",
        "    test.loc[test['물품_카테고리']==i,'물품_카테고리_대분류']='기타'\n",
        "  elif i in 출산육아:\n",
        "    test.loc[test['물품_카테고리']==i,'물품_카테고리_대분류']='출산육아'\n",
        "  elif i in 디지털가전:\n",
        "    test.loc[test['물품_카테고리']==i,'물품_카테고리_대분류']='디지털가전'\n",
        "  else:\n",
        "    test.loc[test['물품_카테고리']==i,'물품_카테고리_대분류']='화장품미용'"
      ]
    },
    {
      "cell_type": "code",
      "execution_count": null,
      "metadata": {
        "id": "tDFHsXsAJim7"
      },
      "outputs": [],
      "source": [
        "df1 = train.groupby('물품_카테고리_대분류')['운송장_건수'].sum()\n",
        "\n",
        "test['물품_대분류_운송장총건수'] = ''\n",
        "\n",
        "for i in range(len(test)):\n",
        "  for j in range(len(df1)):\n",
        "    if test['물품_카테고리_대분류'][i] == df1.index[j]:\n",
        "      test['물품_대분류_운송장총건수'][i] = df1[j]"
      ]
    },
    {
      "cell_type": "code",
      "execution_count": null,
      "metadata": {
        "id": "rS_atX03I-qN"
      },
      "outputs": [],
      "source": [
        "test.head()"
      ]
    },
    {
      "cell_type": "markdown",
      "metadata": {
        "id": "FiRfazpqQhbn"
      },
      "source": [
        "## 4) 변수 정리"
      ]
    },
    {
      "cell_type": "code",
      "execution_count": null,
      "metadata": {
        "id": "UboIO3n9QhK4"
      },
      "outputs": [],
      "source": [
        "train.drop(['송하인_격자공간고유번호','수하인_격자공간고유번호','물품_카테고리','물품_카테고리_대분류',\n",
        "            '송하인_시코드','수하인_시코드','송하인_군구코드','수하인_군구코드','송하인_동코드','수하인_동코드'], axis=1, inplace=True)\n",
        "test.drop(['송하인_격자공간고유번호','수하인_격자공간고유번호','물품_카테고리','물품_카테고리_대분류',\n",
        "            '송하인_시코드','수하인_시코드','송하인_군구코드','수하인_군구코드','송하인_동코드','수하인_동코드'], axis=1, inplace=True)"
      ]
    },
    {
      "cell_type": "code",
      "execution_count": null,
      "metadata": {
        "id": "YOr9ymgSbjZz"
      },
      "outputs": [],
      "source": [
        "train = pd.read_csv('train_code.csv')\n",
        "test = pd.read_csv('test_code.csv')\n",
        "\n",
        "submission = pd.read_csv('sample_submission.csv')"
      ]
    },
    {
      "cell_type": "code",
      "execution_count": null,
      "metadata": {
        "id": "Ia9vb4uJpfEI"
      },
      "outputs": [],
      "source": [
        "train.head()"
      ]
    },
    {
      "cell_type": "code",
      "execution_count": null,
      "metadata": {
        "id": "fHsO-F8VppBq"
      },
      "outputs": [],
      "source": [
        "test.head()"
      ]
    },
    {
      "cell_type": "code",
      "execution_count": null,
      "metadata": {
        "id": "9R5Wypy1obqY"
      },
      "outputs": [],
      "source": [
        "from sklearn.model_selection import train_test_split\n",
        "\n",
        "X_features = train.drop(['운송장_건수'], axis=1)\n",
        "y_labels = train['운송장_건수']\n",
        "X_train, X_tr_test, y_train, y_tr_test = train_test_split(X_features, y_labels, test_size=0.2, random_state=156)"
      ]
    },
    {
      "cell_type": "code",
      "execution_count": null,
      "metadata": {
        "id": "NSUmFa71S2mO"
      },
      "outputs": [],
      "source": [
        "print(X_train.shape, y_train.shape, X_tr_test.shape, y_tr_test.shape)"
      ]
    },
    {
      "cell_type": "code",
      "execution_count": null,
      "metadata": {
        "id": "U7UkS3zC-bWc"
      },
      "outputs": [],
      "source": [
        "train.head()"
      ]
    },
    {
      "cell_type": "code",
      "execution_count": null,
      "metadata": {
        "id": "710r2KtQ-fW3"
      },
      "outputs": [],
      "source": [
        "test.head()"
      ]
    },
    {
      "cell_type": "markdown",
      "metadata": {
        "id": "ePf_Inb0obqZ"
      },
      "source": [
        "## 5) 스케일링"
      ]
    },
    {
      "cell_type": "code",
      "execution_count": null,
      "metadata": {
        "id": "j3gd3-mlobqZ"
      },
      "outputs": [],
      "source": [
        "from sklearn.preprocessing import RobustScaler"
      ]
    },
    {
      "cell_type": "code",
      "execution_count": null,
      "metadata": {
        "colab": {
          "base_uri": "https://localhost:8080/",
          "height": 74
        },
        "id": "uIROVWY8obqa",
        "outputId": "ae7e80b8-625c-4c9c-9df6-84e11dd13fab"
      },
      "outputs": [
        {
          "output_type": "execute_result",
          "data": {
            "text/plain": [
              "RobustScaler()"
            ],
            "text/html": [
              "<style>#sk-container-id-1 {color: black;background-color: white;}#sk-container-id-1 pre{padding: 0;}#sk-container-id-1 div.sk-toggleable {background-color: white;}#sk-container-id-1 label.sk-toggleable__label {cursor: pointer;display: block;width: 100%;margin-bottom: 0;padding: 0.3em;box-sizing: border-box;text-align: center;}#sk-container-id-1 label.sk-toggleable__label-arrow:before {content: \"▸\";float: left;margin-right: 0.25em;color: #696969;}#sk-container-id-1 label.sk-toggleable__label-arrow:hover:before {color: black;}#sk-container-id-1 div.sk-estimator:hover label.sk-toggleable__label-arrow:before {color: black;}#sk-container-id-1 div.sk-toggleable__content {max-height: 0;max-width: 0;overflow: hidden;text-align: left;background-color: #f0f8ff;}#sk-container-id-1 div.sk-toggleable__content pre {margin: 0.2em;color: black;border-radius: 0.25em;background-color: #f0f8ff;}#sk-container-id-1 input.sk-toggleable__control:checked~div.sk-toggleable__content {max-height: 200px;max-width: 100%;overflow: auto;}#sk-container-id-1 input.sk-toggleable__control:checked~label.sk-toggleable__label-arrow:before {content: \"▾\";}#sk-container-id-1 div.sk-estimator input.sk-toggleable__control:checked~label.sk-toggleable__label {background-color: #d4ebff;}#sk-container-id-1 div.sk-label input.sk-toggleable__control:checked~label.sk-toggleable__label {background-color: #d4ebff;}#sk-container-id-1 input.sk-hidden--visually {border: 0;clip: rect(1px 1px 1px 1px);clip: rect(1px, 1px, 1px, 1px);height: 1px;margin: -1px;overflow: hidden;padding: 0;position: absolute;width: 1px;}#sk-container-id-1 div.sk-estimator {font-family: monospace;background-color: #f0f8ff;border: 1px dotted black;border-radius: 0.25em;box-sizing: border-box;margin-bottom: 0.5em;}#sk-container-id-1 div.sk-estimator:hover {background-color: #d4ebff;}#sk-container-id-1 div.sk-parallel-item::after {content: \"\";width: 100%;border-bottom: 1px solid gray;flex-grow: 1;}#sk-container-id-1 div.sk-label:hover label.sk-toggleable__label {background-color: #d4ebff;}#sk-container-id-1 div.sk-serial::before {content: \"\";position: absolute;border-left: 1px solid gray;box-sizing: border-box;top: 0;bottom: 0;left: 50%;z-index: 0;}#sk-container-id-1 div.sk-serial {display: flex;flex-direction: column;align-items: center;background-color: white;padding-right: 0.2em;padding-left: 0.2em;position: relative;}#sk-container-id-1 div.sk-item {position: relative;z-index: 1;}#sk-container-id-1 div.sk-parallel {display: flex;align-items: stretch;justify-content: center;background-color: white;position: relative;}#sk-container-id-1 div.sk-item::before, #sk-container-id-1 div.sk-parallel-item::before {content: \"\";position: absolute;border-left: 1px solid gray;box-sizing: border-box;top: 0;bottom: 0;left: 50%;z-index: -1;}#sk-container-id-1 div.sk-parallel-item {display: flex;flex-direction: column;z-index: 1;position: relative;background-color: white;}#sk-container-id-1 div.sk-parallel-item:first-child::after {align-self: flex-end;width: 50%;}#sk-container-id-1 div.sk-parallel-item:last-child::after {align-self: flex-start;width: 50%;}#sk-container-id-1 div.sk-parallel-item:only-child::after {width: 0;}#sk-container-id-1 div.sk-dashed-wrapped {border: 1px dashed gray;margin: 0 0.4em 0.5em 0.4em;box-sizing: border-box;padding-bottom: 0.4em;background-color: white;}#sk-container-id-1 div.sk-label label {font-family: monospace;font-weight: bold;display: inline-block;line-height: 1.2em;}#sk-container-id-1 div.sk-label-container {text-align: center;}#sk-container-id-1 div.sk-container {/* jupyter's `normalize.less` sets `[hidden] { display: none; }` but bootstrap.min.css set `[hidden] { display: none !important; }` so we also need the `!important` here to be able to override the default hidden behavior on the sphinx rendered scikit-learn.org. See: https://github.com/scikit-learn/scikit-learn/issues/21755 */display: inline-block !important;position: relative;}#sk-container-id-1 div.sk-text-repr-fallback {display: none;}</style><div id=\"sk-container-id-1\" class=\"sk-top-container\"><div class=\"sk-text-repr-fallback\"><pre>RobustScaler()</pre><b>In a Jupyter environment, please rerun this cell to show the HTML representation or trust the notebook. <br />On GitHub, the HTML representation is unable to render, please try loading this page with nbviewer.org.</b></div><div class=\"sk-container\" hidden><div class=\"sk-item\"><div class=\"sk-estimator sk-toggleable\"><input class=\"sk-toggleable__control sk-hidden--visually\" id=\"sk-estimator-id-1\" type=\"checkbox\" checked><label for=\"sk-estimator-id-1\" class=\"sk-toggleable__label sk-toggleable__label-arrow\">RobustScaler</label><div class=\"sk-toggleable__content\"><pre>RobustScaler()</pre></div></div></div></div></div>"
            ]
          },
          "metadata": {},
          "execution_count": 9
        }
      ],
      "source": [
        "rbs = RobustScaler()\n",
        "rbs.fit(X_train)"
      ]
    },
    {
      "cell_type": "code",
      "execution_count": null,
      "metadata": {
        "id": "ake5soVfobqa"
      },
      "outputs": [],
      "source": [
        "X_train_scaled0 = rbs.transform(X_train)\n",
        "X_tr_test_scaled0 = rbs.transform(X_tr_test)\n",
        "test_scaled0 = rbs.transform(test)"
      ]
    },
    {
      "cell_type": "code",
      "execution_count": null,
      "metadata": {
        "id": "hs8wemEktDCF"
      },
      "outputs": [],
      "source": [
        "X_train_scaled = pd.DataFrame(X_train_scaled0)\n",
        "X_train_scaled.columns = train.columns[1:]\n",
        "\n",
        "X_tr_test_scaled = pd.DataFrame(X_tr_test_scaled0)\n",
        "X_tr_test_scaled.columns = train.columns[1:]\n",
        "\n",
        "test_scaled = pd.DataFrame(test_scaled0)\n",
        "test_scaled.columns = test.columns"
      ]
    },
    {
      "cell_type": "code",
      "execution_count": null,
      "metadata": {
        "colab": {
          "base_uri": "https://localhost:8080/",
          "height": 206
        },
        "id": "GkKkAyq4zOM8",
        "outputId": "dbf1a8c2-4ffa-4d65-d6e1-6673d82d0584"
      },
      "outputs": [
        {
          "data": {
            "text/html": [
              "\n",
              "  <div id=\"df-6b3fa66b-f572-41ab-8057-fed5f0929a60\">\n",
              "    <div class=\"colab-df-container\">\n",
              "      <div>\n",
              "<style scoped>\n",
              "    .dataframe tbody tr th:only-of-type {\n",
              "        vertical-align: middle;\n",
              "    }\n",
              "\n",
              "    .dataframe tbody tr th {\n",
              "        vertical-align: top;\n",
              "    }\n",
              "\n",
              "    .dataframe thead th {\n",
              "        text-align: right;\n",
              "    }\n",
              "</style>\n",
              "<table border=\"1\" class=\"dataframe\">\n",
              "  <thead>\n",
              "    <tr style=\"text-align: right;\">\n",
              "      <th></th>\n",
              "      <th>물품_대분류_운송장총건수</th>\n",
              "      <th>수하인_시운송장총건수</th>\n",
              "      <th>송하인_시운송장총건수</th>\n",
              "      <th>송하인_군구코드_빈도</th>\n",
              "      <th>수하인_군구코드_빈도</th>\n",
              "      <th>송하인_동코드_빈도</th>\n",
              "      <th>수하인_동코드_빈도</th>\n",
              "    </tr>\n",
              "  </thead>\n",
              "  <tbody>\n",
              "    <tr>\n",
              "      <th>0</th>\n",
              "      <td>0.0</td>\n",
              "      <td>-0.302742</td>\n",
              "      <td>0.0</td>\n",
              "      <td>0.000000</td>\n",
              "      <td>0.018679</td>\n",
              "      <td>1.083510</td>\n",
              "      <td>1.073770</td>\n",
              "    </tr>\n",
              "    <tr>\n",
              "      <th>1</th>\n",
              "      <td>0.0</td>\n",
              "      <td>-0.324108</td>\n",
              "      <td>0.0</td>\n",
              "      <td>0.000000</td>\n",
              "      <td>0.018679</td>\n",
              "      <td>-0.116773</td>\n",
              "      <td>-0.281421</td>\n",
              "    </tr>\n",
              "    <tr>\n",
              "      <th>2</th>\n",
              "      <td>0.0</td>\n",
              "      <td>0.212701</td>\n",
              "      <td>0.0</td>\n",
              "      <td>0.217461</td>\n",
              "      <td>-0.229153</td>\n",
              "      <td>-0.099788</td>\n",
              "      <td>-0.234973</td>\n",
              "    </tr>\n",
              "    <tr>\n",
              "      <th>3</th>\n",
              "      <td>0.0</td>\n",
              "      <td>0.212701</td>\n",
              "      <td>0.0</td>\n",
              "      <td>0.000000</td>\n",
              "      <td>-0.168446</td>\n",
              "      <td>-0.140127</td>\n",
              "      <td>-0.363388</td>\n",
              "    </tr>\n",
              "    <tr>\n",
              "      <th>4</th>\n",
              "      <td>0.0</td>\n",
              "      <td>-0.302742</td>\n",
              "      <td>0.0</td>\n",
              "      <td>0.000000</td>\n",
              "      <td>-0.149433</td>\n",
              "      <td>-0.137297</td>\n",
              "      <td>0.453552</td>\n",
              "    </tr>\n",
              "  </tbody>\n",
              "</table>\n",
              "</div>\n",
              "      <button class=\"colab-df-convert\" onclick=\"convertToInteractive('df-6b3fa66b-f572-41ab-8057-fed5f0929a60')\"\n",
              "              title=\"Convert this dataframe to an interactive table.\"\n",
              "              style=\"display:none;\">\n",
              "        \n",
              "  <svg xmlns=\"http://www.w3.org/2000/svg\" height=\"24px\"viewBox=\"0 0 24 24\"\n",
              "       width=\"24px\">\n",
              "    <path d=\"M0 0h24v24H0V0z\" fill=\"none\"/>\n",
              "    <path d=\"M18.56 5.44l.94 2.06.94-2.06 2.06-.94-2.06-.94-.94-2.06-.94 2.06-2.06.94zm-11 1L8.5 8.5l.94-2.06 2.06-.94-2.06-.94L8.5 2.5l-.94 2.06-2.06.94zm10 10l.94 2.06.94-2.06 2.06-.94-2.06-.94-.94-2.06-.94 2.06-2.06.94z\"/><path d=\"M17.41 7.96l-1.37-1.37c-.4-.4-.92-.59-1.43-.59-.52 0-1.04.2-1.43.59L10.3 9.45l-7.72 7.72c-.78.78-.78 2.05 0 2.83L4 21.41c.39.39.9.59 1.41.59.51 0 1.02-.2 1.41-.59l7.78-7.78 2.81-2.81c.8-.78.8-2.07 0-2.86zM5.41 20L4 18.59l7.72-7.72 1.47 1.35L5.41 20z\"/>\n",
              "  </svg>\n",
              "      </button>\n",
              "      \n",
              "  <style>\n",
              "    .colab-df-container {\n",
              "      display:flex;\n",
              "      flex-wrap:wrap;\n",
              "      gap: 12px;\n",
              "    }\n",
              "\n",
              "    .colab-df-convert {\n",
              "      background-color: #E8F0FE;\n",
              "      border: none;\n",
              "      border-radius: 50%;\n",
              "      cursor: pointer;\n",
              "      display: none;\n",
              "      fill: #1967D2;\n",
              "      height: 32px;\n",
              "      padding: 0 0 0 0;\n",
              "      width: 32px;\n",
              "    }\n",
              "\n",
              "    .colab-df-convert:hover {\n",
              "      background-color: #E2EBFA;\n",
              "      box-shadow: 0px 1px 2px rgba(60, 64, 67, 0.3), 0px 1px 3px 1px rgba(60, 64, 67, 0.15);\n",
              "      fill: #174EA6;\n",
              "    }\n",
              "\n",
              "    [theme=dark] .colab-df-convert {\n",
              "      background-color: #3B4455;\n",
              "      fill: #D2E3FC;\n",
              "    }\n",
              "\n",
              "    [theme=dark] .colab-df-convert:hover {\n",
              "      background-color: #434B5C;\n",
              "      box-shadow: 0px 1px 3px 1px rgba(0, 0, 0, 0.15);\n",
              "      filter: drop-shadow(0px 1px 2px rgba(0, 0, 0, 0.3));\n",
              "      fill: #FFFFFF;\n",
              "    }\n",
              "  </style>\n",
              "\n",
              "      <script>\n",
              "        const buttonEl =\n",
              "          document.querySelector('#df-6b3fa66b-f572-41ab-8057-fed5f0929a60 button.colab-df-convert');\n",
              "        buttonEl.style.display =\n",
              "          google.colab.kernel.accessAllowed ? 'block' : 'none';\n",
              "\n",
              "        async function convertToInteractive(key) {\n",
              "          const element = document.querySelector('#df-6b3fa66b-f572-41ab-8057-fed5f0929a60');\n",
              "          const dataTable =\n",
              "            await google.colab.kernel.invokeFunction('convertToInteractive',\n",
              "                                                     [key], {});\n",
              "          if (!dataTable) return;\n",
              "\n",
              "          const docLinkHtml = 'Like what you see? Visit the ' +\n",
              "            '<a target=\"_blank\" href=https://colab.research.google.com/notebooks/data_table.ipynb>data table notebook</a>'\n",
              "            + ' to learn more about interactive tables.';\n",
              "          element.innerHTML = '';\n",
              "          dataTable['output_type'] = 'display_data';\n",
              "          await google.colab.output.renderOutput(dataTable, element);\n",
              "          const docLink = document.createElement('div');\n",
              "          docLink.innerHTML = docLinkHtml;\n",
              "          element.appendChild(docLink);\n",
              "        }\n",
              "      </script>\n",
              "    </div>\n",
              "  </div>\n",
              "  "
            ],
            "text/plain": [
              "   물품_대분류_운송장총건수  수하인_시운송장총건수  송하인_시운송장총건수  송하인_군구코드_빈도  수하인_군구코드_빈도  \\\n",
              "0            0.0    -0.302742          0.0     0.000000     0.018679   \n",
              "1            0.0    -0.324108          0.0     0.000000     0.018679   \n",
              "2            0.0     0.212701          0.0     0.217461    -0.229153   \n",
              "3            0.0     0.212701          0.0     0.000000    -0.168446   \n",
              "4            0.0    -0.302742          0.0     0.000000    -0.149433   \n",
              "\n",
              "   송하인_동코드_빈도  수하인_동코드_빈도  \n",
              "0    1.083510    1.073770  \n",
              "1   -0.116773   -0.281421  \n",
              "2   -0.099788   -0.234973  \n",
              "3   -0.140127   -0.363388  \n",
              "4   -0.137297    0.453552  "
            ]
          },
          "execution_count": 11,
          "metadata": {},
          "output_type": "execute_result"
        }
      ],
      "source": [
        "X_train_scaled.head()"
      ]
    },
    {
      "cell_type": "code",
      "source": [
        "train['송하인_동코드_빈도'].value_counts()"
      ],
      "metadata": {
        "colab": {
          "base_uri": "https://localhost:8080/"
        },
        "id": "v9kboX2Td93z",
        "outputId": "e617ba3a-0725-4201-8a4b-0bc24d72a75c"
      },
      "execution_count": null,
      "outputs": [
        {
          "output_type": "execute_result",
          "data": {
            "text/plain": [
              "4882    3911\n",
              "2301    1812\n",
              "1752    1403\n",
              "1474    1190\n",
              "576      904\n",
              "        ... \n",
              "46        39\n",
              "50        38\n",
              "44        35\n",
              "43        34\n",
              "40        32\n",
              "Name: 송하인_동코드_빈도, Length: 147, dtype: int64"
            ]
          },
          "metadata": {},
          "execution_count": 119
        }
      ]
    },
    {
      "cell_type": "code",
      "source": [
        "corr = train.corr()\n",
        "plt.figure(figsize=(14,14))\n",
        "sns.heatmap(corr, annot=True, fmt='.1g')"
      ],
      "metadata": {
        "colab": {
          "base_uri": "https://localhost:8080/",
          "height": 806
        },
        "id": "smK_8ogYgq_d",
        "outputId": "1b4c82e4-9cc2-4cad-9ae2-20e337c030e5"
      },
      "execution_count": null,
      "outputs": [
        {
          "output_type": "execute_result",
          "data": {
            "text/plain": [
              "<Axes: >"
            ]
          },
          "metadata": {},
          "execution_count": 121
        },
        {
          "output_type": "display_data",
          "data": {
            "text/plain": [
              "<Figure size 1400x1400 with 2 Axes>"
            ],
            "image/png": "[encoded data removed]"
          },
          "metadata": {}
        }
      ]
    },
    {
      "cell_type": "markdown",
      "metadata": {
        "id": "AFhbPbR_psYU"
      },
      "source": [
        "**성능개선 try 1 : 동코드 drop**"
      ]
    },
    {
      "cell_type": "code",
      "execution_count": null,
      "metadata": {
        "id": "a-mW2ivlo5wI"
      },
      "outputs": [],
      "source": [
        "train = pd.read_csv('train_code.csv')\n",
        "test = pd.read_csv('test_code.csv')\n",
        "\n",
        "train_dr = train.drop(['송하인_동코드_빈도', '수하인_동코드_빈도'], axis=1, inplace=False)\n",
        "test_dr = test.drop(['송하인_동코드_빈도', '수하인_동코드_빈도'], axis=1, inplace=False)\n",
        "\n",
        "X_features_dr = train_dr.drop(['운송장_건수'], axis=1)\n",
        "y_labels_dr = train_dr['운송장_건수']\n",
        "X_train_dr, X_tr_test_dr, y_train_dr, y_tr_test_dr = train_test_split(X_features_dr, y_labels_dr, test_size=0.2, random_state=156)\n",
        "\n",
        "rbs = RobustScaler()\n",
        "rbs.fit(X_train_dr)\n",
        "\n",
        "X_train_scaled0_dr = rbs.transform(X_train_dr)\n",
        "X_tr_test_scaled0_dr = rbs.transform(X_tr_test_dr)\n",
        "test_scaled0_dr = rbs.transform(test_dr)\n",
        "\n",
        "X_train_scaled_dr = pd.DataFrame(X_train_scaled0_dr)\n",
        "X_train_scaled_dr.columns = train_dr.columns[1:]\n",
        "\n",
        "X_tr_test_scaled_dr = pd.DataFrame(X_tr_test_scaled0_dr)\n",
        "X_tr_test_scaled_dr.columns = train_dr.columns[1:]\n",
        "\n",
        "test_scaled_dr = pd.DataFrame(test_scaled0_dr)\n",
        "test_scaled_dr.columns = test_dr.columns"
      ]
    },
    {
      "cell_type": "markdown",
      "source": [
        "**성능개선 try 2 : 시코드 drop**"
      ],
      "metadata": {
        "id": "GbQMZSQotz95"
      }
    },
    {
      "cell_type": "code",
      "source": [
        "train = pd.read_csv('train_code.csv')\n",
        "test = pd.read_csv('test_code.csv')\n",
        "\n",
        "train_dr2 = train.drop(['수하인_시운송장총건수',\t'송하인_시운송장총건수'], axis=1, inplace=False)\n",
        "test_dr2 = test.drop(['수하인_시운송장총건수',\t'송하인_시운송장총건수'], axis=1, inplace=False)\n",
        "\n",
        "X_features_dr2 = train_dr2.drop(['운송장_건수'], axis=1)\n",
        "y_labels_dr2 = train_dr2['운송장_건수']\n",
        "X_train_dr2, X_tr_test_dr2, y_train_dr2, y_tr_test_dr2 = train_test_split(X_features_dr2, y_labels_dr2, test_size=0.2, random_state=156)\n",
        "\n",
        "rbs = RobustScaler()\n",
        "rbs.fit(X_train_dr2)\n",
        "\n",
        "X_train_scaled0_dr2 = rbs.transform(X_train_dr2)\n",
        "X_tr_test_scaled0_dr2 = rbs.transform(X_tr_test_dr2)\n",
        "test_scaled0_dr2 = rbs.transform(test_dr2)\n",
        "\n",
        "X_train_scaled_dr2 = pd.DataFrame(X_train_scaled0_dr2)\n",
        "X_train_scaled_dr2.columns = train_dr2.columns[1:]\n",
        "\n",
        "X_tr_test_scaled_dr2 = pd.DataFrame(X_tr_test_scaled0_dr2)\n",
        "X_tr_test_scaled_dr2.columns = train_dr2.columns[1:]\n",
        "\n",
        "test_scaled_dr2 = pd.DataFrame(test_scaled0_dr2)\n",
        "test_scaled_dr2.columns = test_dr2.columns"
      ],
      "metadata": {
        "id": "vb6qSq7Kt0FB"
      },
      "execution_count": null,
      "outputs": []
    },
    {
      "cell_type": "code",
      "source": [
        "train_dr2.head()"
      ],
      "metadata": {
        "colab": {
          "base_uri": "https://localhost:8080/",
          "height": 267
        },
        "id": "7ZdMT2586xCT",
        "outputId": "38e8f488-5503-4a39-c4d1-71083469993c"
      },
      "execution_count": null,
      "outputs": [
        {
          "output_type": "execute_result",
          "data": {
            "text/plain": [
              "   운송장_건수  물품_대분류_운송장총건수  송하인_군구코드_빈도  수하인_군구코드_빈도  송하인_동코드_빈도  수하인_동코드_빈도\n",
              "0     3.0           7786        16407         1019         589          31\n",
              "1     3.0           7786         1494         9136         881         332\n",
              "2     3.0         119921        16407         1437        4882         550\n",
              "3     7.0         119921           54         9136          66          20\n",
              "4     3.0         119921        16407          241        4882         604"
            ],
            "text/html": [
              "\n",
              "  <div id=\"df-e2d6d99b-40ec-49f6-9ada-b83375266df6\">\n",
              "    <div class=\"colab-df-container\">\n",
              "      <div>\n",
              "<style scoped>\n",
              "    .dataframe tbody tr th:only-of-type {\n",
              "        vertical-align: middle;\n",
              "    }\n",
              "\n",
              "    .dataframe tbody tr th {\n",
              "        vertical-align: top;\n",
              "    }\n",
              "\n",
              "    .dataframe thead th {\n",
              "        text-align: right;\n",
              "    }\n",
              "</style>\n",
              "<table border=\"1\" class=\"dataframe\">\n",
              "  <thead>\n",
              "    <tr style=\"text-align: right;\">\n",
              "      <th></th>\n",
              "      <th>운송장_건수</th>\n",
              "      <th>물품_대분류_운송장총건수</th>\n",
              "      <th>송하인_군구코드_빈도</th>\n",
              "      <th>수하인_군구코드_빈도</th>\n",
              "      <th>송하인_동코드_빈도</th>\n",
              "      <th>수하인_동코드_빈도</th>\n",
              "    </tr>\n",
              "  </thead>\n",
              "  <tbody>\n",
              "    <tr>\n",
              "      <th>0</th>\n",
              "      <td>3.0</td>\n",
              "      <td>7786</td>\n",
              "      <td>16407</td>\n",
              "      <td>1019</td>\n",
              "      <td>589</td>\n",
              "      <td>31</td>\n",
              "    </tr>\n",
              "    <tr>\n",
              "      <th>1</th>\n",
              "      <td>3.0</td>\n",
              "      <td>7786</td>\n",
              "      <td>1494</td>\n",
              "      <td>9136</td>\n",
              "      <td>881</td>\n",
              "      <td>332</td>\n",
              "    </tr>\n",
              "    <tr>\n",
              "      <th>2</th>\n",
              "      <td>3.0</td>\n",
              "      <td>119921</td>\n",
              "      <td>16407</td>\n",
              "      <td>1437</td>\n",
              "      <td>4882</td>\n",
              "      <td>550</td>\n",
              "    </tr>\n",
              "    <tr>\n",
              "      <th>3</th>\n",
              "      <td>7.0</td>\n",
              "      <td>119921</td>\n",
              "      <td>54</td>\n",
              "      <td>9136</td>\n",
              "      <td>66</td>\n",
              "      <td>20</td>\n",
              "    </tr>\n",
              "    <tr>\n",
              "      <th>4</th>\n",
              "      <td>3.0</td>\n",
              "      <td>119921</td>\n",
              "      <td>16407</td>\n",
              "      <td>241</td>\n",
              "      <td>4882</td>\n",
              "      <td>604</td>\n",
              "    </tr>\n",
              "  </tbody>\n",
              "</table>\n",
              "</div>\n",
              "      <button class=\"colab-df-convert\" onclick=\"convertToInteractive('df-e2d6d99b-40ec-49f6-9ada-b83375266df6')\"\n",
              "              title=\"Convert this dataframe to an interactive table.\"\n",
              "              style=\"display:none;\">\n",
              "        \n",
              "  <svg xmlns=\"http://www.w3.org/2000/svg\" height=\"24px\"viewBox=\"0 0 24 24\"\n",
              "       width=\"24px\">\n",
              "    <path d=\"M0 0h24v24H0V0z\" fill=\"none\"/>\n",
              "    <path d=\"M18.56 5.44l.94 2.06.94-2.06 2.06-.94-2.06-.94-.94-2.06-.94 2.06-2.06.94zm-11 1L8.5 8.5l.94-2.06 2.06-.94-2.06-.94L8.5 2.5l-.94 2.06-2.06.94zm10 10l.94 2.06.94-2.06 2.06-.94-2.06-.94-.94-2.06-.94 2.06-2.06.94z\"/><path d=\"M17.41 7.96l-1.37-1.37c-.4-.4-.92-.59-1.43-.59-.52 0-1.04.2-1.43.59L10.3 9.45l-7.72 7.72c-.78.78-.78 2.05 0 2.83L4 21.41c.39.39.9.59 1.41.59.51 0 1.02-.2 1.41-.59l7.78-7.78 2.81-2.81c.8-.78.8-2.07 0-2.86zM5.41 20L4 18.59l7.72-7.72 1.47 1.35L5.41 20z\"/>\n",
              "  </svg>\n",
              "      </button>\n",
              "      \n",
              "  <style>\n",
              "    .colab-df-container {\n",
              "      display:flex;\n",
              "      flex-wrap:wrap;\n",
              "      gap: 12px;\n",
              "    }\n",
              "\n",
              "    .colab-df-convert {\n",
              "      background-color: #E8F0FE;\n",
              "      border: none;\n",
              "      border-radius: 50%;\n",
              "      cursor: pointer;\n",
              "      display: none;\n",
              "      fill: #1967D2;\n",
              "      height: 32px;\n",
              "      padding: 0 0 0 0;\n",
              "      width: 32px;\n",
              "    }\n",
              "\n",
              "    .colab-df-convert:hover {\n",
              "      background-color: #E2EBFA;\n",
              "      box-shadow: 0px 1px 2px rgba(60, 64, 67, 0.3), 0px 1px 3px 1px rgba(60, 64, 67, 0.15);\n",
              "      fill: #174EA6;\n",
              "    }\n",
              "\n",
              "    [theme=dark] .colab-df-convert {\n",
              "      background-color: #3B4455;\n",
              "      fill: #D2E3FC;\n",
              "    }\n",
              "\n",
              "    [theme=dark] .colab-df-convert:hover {\n",
              "      background-color: #434B5C;\n",
              "      box-shadow: 0px 1px 3px 1px rgba(0, 0, 0, 0.15);\n",
              "      filter: drop-shadow(0px 1px 2px rgba(0, 0, 0, 0.3));\n",
              "      fill: #FFFFFF;\n",
              "    }\n",
              "  </style>\n",
              "\n",
              "      <script>\n",
              "        const buttonEl =\n",
              "          document.querySelector('#df-e2d6d99b-40ec-49f6-9ada-b83375266df6 button.colab-df-convert');\n",
              "        buttonEl.style.display =\n",
              "          google.colab.kernel.accessAllowed ? 'block' : 'none';\n",
              "\n",
              "        async function convertToInteractive(key) {\n",
              "          const element = document.querySelector('#df-e2d6d99b-40ec-49f6-9ada-b83375266df6');\n",
              "          const dataTable =\n",
              "            await google.colab.kernel.invokeFunction('convertToInteractive',\n",
              "                                                     [key], {});\n",
              "          if (!dataTable) return;\n",
              "\n",
              "          const docLinkHtml = 'Like what you see? Visit the ' +\n",
              "            '<a target=\"_blank\" href=https://colab.research.google.com/notebooks/data_table.ipynb>data table notebook</a>'\n",
              "            + ' to learn more about interactive tables.';\n",
              "          element.innerHTML = '';\n",
              "          dataTable['output_type'] = 'display_data';\n",
              "          await google.colab.output.renderOutput(dataTable, element);\n",
              "          const docLink = document.createElement('div');\n",
              "          docLink.innerHTML = docLinkHtml;\n",
              "          element.appendChild(docLink);\n",
              "        }\n",
              "      </script>\n",
              "    </div>\n",
              "  </div>\n",
              "  "
            ]
          },
          "metadata": {},
          "execution_count": 51
        }
      ]
    },
    {
      "cell_type": "markdown",
      "metadata": {
        "id": "xxajV5hGQ1R8"
      },
      "source": [
        "# 04 모델링"
      ]
    },
    {
      "cell_type": "code",
      "execution_count": null,
      "metadata": {
        "id": "eMRPp6IiS1Jd"
      },
      "outputs": [],
      "source": [
        "from sklearn.metrics import accuracy_score\n",
        "from sklearn.model_selection import KFold\n",
        "from sklearn.model_selection import cross_val_score\n",
        "from sklearn.model_selection import GridSearchCV\n",
        "from sklearn.model_selection import RepeatedKFold\n",
        "from sklearn.metrics import mean_squared_error\n",
        "import warnings\n",
        "warnings.filterwarnings('ignore')"
      ]
    },
    {
      "cell_type": "code",
      "source": [
        "import matplotlib.pyplot as plt\n",
        "import seaborn as sns\n",
        "%matplotlib inline\n",
        "\n",
        "from sklearn.ensemble import RandomForestRegressor\n",
        "from sklearn.ensemble import GradientBoostingRegressor\n",
        "from lightgbm import LGBMRegressor\n",
        "from xgboost import XGBRegressor"
      ],
      "metadata": {
        "id": "hDtKum9bndzS"
      },
      "execution_count": null,
      "outputs": []
    },
    {
      "cell_type": "code",
      "execution_count": null,
      "metadata": {
        "id": "mI6CTfKK7q7i"
      },
      "outputs": [],
      "source": [
        "# 랜덤서치 파라미터 튜닝\n",
        "\n",
        "from sklearn.model_selection import RandomizedSearchCV"
      ]
    },
    {
      "cell_type": "markdown",
      "metadata": {
        "id": "X_Kp4pNSdD9p"
      },
      "source": [
        "#### 1) Random Forest"
      ]
    },
    {
      "cell_type": "markdown",
      "source": [
        "1. 기본모델 "
      ],
      "metadata": {
        "id": "dPohVx88sfHI"
      }
    },
    {
      "cell_type": "code",
      "execution_count": null,
      "metadata": {
        "colab": {
          "base_uri": "https://localhost:8080/"
        },
        "id": "RWsTFsIydD9q",
        "outputId": "0c915f6b-75a8-479d-9810-a76b98562b54"
      },
      "outputs": [
        {
          "data": {
            "text/plain": [
              "6.6782196963437395"
            ]
          },
          "execution_count": 15,
          "metadata": {},
          "output_type": "execute_result"
        }
      ],
      "source": [
        "from sklearn.ensemble import RandomForestRegressor\n",
        "\n",
        "#모델 정의\n",
        "model_rf = RandomForestRegressor()\n",
        "\n",
        "# 모델 학습\n",
        "model_rf.fit(X_train_scaled, y_train)\n",
        "\n",
        "# test 데이터 예측\n",
        "y_pred_rf = model_rf.predict(X_tr_test_scaled)\n",
        "\n",
        "# RMSE 확인\n",
        "MSE_rf = mean_squared_error(y_tr_test, y_pred_rf) \n",
        "np.sqrt(MSE_rf)"
      ]
    },
    {
      "cell_type": "markdown",
      "source": [
        "2. 랜덤서치 "
      ],
      "metadata": {
        "id": "CBM2DURhsgqH"
      }
    },
    {
      "cell_type": "code",
      "execution_count": null,
      "metadata": {
        "colab": {
          "base_uri": "https://localhost:8080/"
        },
        "id": "fVe3v1ijV7x5",
        "outputId": "818b9bd6-2398-4484-ab15-c01440597fbd"
      },
      "outputs": [
        {
          "data": {
            "text/plain": [
              "6.435131958017037"
            ]
          },
          "execution_count": 17,
          "metadata": {},
          "output_type": "execute_result"
        }
      ],
      "source": [
        "# 랜덤서치 파라미터 튜닝\n",
        "\n",
        "from sklearn.model_selection import RandomizedSearchCV\n",
        "\n",
        "params = {'max_depth': range(2, 21, 2),\n",
        "              'min_samples_split': range(5, 21, 5),\n",
        "              'min_samples_leaf' : range(5, 21, 5),\n",
        "              'n_estimators': range(50, 251, 50),\n",
        "              'random_state': range(100, 2000, 200)\n",
        "}\n",
        "\n",
        "model_rf_rd_rs = RandomizedSearchCV(model_rf, param_distributions=params, \n",
        "                                    n_iter=50, cv=4, n_jobs=-1)\n",
        "\n",
        "model_rf_rd_rs.fit(X_train_scaled, y_train)\n",
        "y_pred_rf_rd_rs = model_rf_rd_rs.best_estimator_.predict(X_tr_test_scaled)\n",
        "\n",
        "MSE_rf_rd_rs = mean_squared_error(y_tr_test, y_pred_rf_rd_rs) \n",
        "np.sqrt(MSE_rf_rd_rs)"
      ]
    },
    {
      "cell_type": "code",
      "execution_count": null,
      "metadata": {
        "colab": {
          "base_uri": "https://localhost:8080/",
          "height": 91
        },
        "id": "ljY1_i2qcup2",
        "outputId": "a07b34c2-a14b-482a-fe1d-62d5b8818bea"
      },
      "outputs": [
        {
          "data": {
            "text/html": [
              "<style>#sk-container-id-2 {color: black;background-color: white;}#sk-container-id-2 pre{padding: 0;}#sk-container-id-2 div.sk-toggleable {background-color: white;}#sk-container-id-2 label.sk-toggleable__label {cursor: pointer;display: block;width: 100%;margin-bottom: 0;padding: 0.3em;box-sizing: border-box;text-align: center;}#sk-container-id-2 label.sk-toggleable__label-arrow:before {content: \"▸\";float: left;margin-right: 0.25em;color: #696969;}#sk-container-id-2 label.sk-toggleable__label-arrow:hover:before {color: black;}#sk-container-id-2 div.sk-estimator:hover label.sk-toggleable__label-arrow:before {color: black;}#sk-container-id-2 div.sk-toggleable__content {max-height: 0;max-width: 0;overflow: hidden;text-align: left;background-color: #f0f8ff;}#sk-container-id-2 div.sk-toggleable__content pre {margin: 0.2em;color: black;border-radius: 0.25em;background-color: #f0f8ff;}#sk-container-id-2 input.sk-toggleable__control:checked~div.sk-toggleable__content {max-height: 200px;max-width: 100%;overflow: auto;}#sk-container-id-2 input.sk-toggleable__control:checked~label.sk-toggleable__label-arrow:before {content: \"▾\";}#sk-container-id-2 div.sk-estimator input.sk-toggleable__control:checked~label.sk-toggleable__label {background-color: #d4ebff;}#sk-container-id-2 div.sk-label input.sk-toggleable__control:checked~label.sk-toggleable__label {background-color: #d4ebff;}#sk-container-id-2 input.sk-hidden--visually {border: 0;clip: rect(1px 1px 1px 1px);clip: rect(1px, 1px, 1px, 1px);height: 1px;margin: -1px;overflow: hidden;padding: 0;position: absolute;width: 1px;}#sk-container-id-2 div.sk-estimator {font-family: monospace;background-color: #f0f8ff;border: 1px dotted black;border-radius: 0.25em;box-sizing: border-box;margin-bottom: 0.5em;}#sk-container-id-2 div.sk-estimator:hover {background-color: #d4ebff;}#sk-container-id-2 div.sk-parallel-item::after {content: \"\";width: 100%;border-bottom: 1px solid gray;flex-grow: 1;}#sk-container-id-2 div.sk-label:hover label.sk-toggleable__label {background-color: #d4ebff;}#sk-container-id-2 div.sk-serial::before {content: \"\";position: absolute;border-left: 1px solid gray;box-sizing: border-box;top: 0;bottom: 0;left: 50%;z-index: 0;}#sk-container-id-2 div.sk-serial {display: flex;flex-direction: column;align-items: center;background-color: white;padding-right: 0.2em;padding-left: 0.2em;position: relative;}#sk-container-id-2 div.sk-item {position: relative;z-index: 1;}#sk-container-id-2 div.sk-parallel {display: flex;align-items: stretch;justify-content: center;background-color: white;position: relative;}#sk-container-id-2 div.sk-item::before, #sk-container-id-2 div.sk-parallel-item::before {content: \"\";position: absolute;border-left: 1px solid gray;box-sizing: border-box;top: 0;bottom: 0;left: 50%;z-index: -1;}#sk-container-id-2 div.sk-parallel-item {display: flex;flex-direction: column;z-index: 1;position: relative;background-color: white;}#sk-container-id-2 div.sk-parallel-item:first-child::after {align-self: flex-end;width: 50%;}#sk-container-id-2 div.sk-parallel-item:last-child::after {align-self: flex-start;width: 50%;}#sk-container-id-2 div.sk-parallel-item:only-child::after {width: 0;}#sk-container-id-2 div.sk-dashed-wrapped {border: 1px dashed gray;margin: 0 0.4em 0.5em 0.4em;box-sizing: border-box;padding-bottom: 0.4em;background-color: white;}#sk-container-id-2 div.sk-label label {font-family: monospace;font-weight: bold;display: inline-block;line-height: 1.2em;}#sk-container-id-2 div.sk-label-container {text-align: center;}#sk-container-id-2 div.sk-container {/* jupyter's `normalize.less` sets `[hidden] { display: none; }` but bootstrap.min.css set `[hidden] { display: none !important; }` so we also need the `!important` here to be able to override the default hidden behavior on the sphinx rendered scikit-learn.org. See: https://github.com/scikit-learn/scikit-learn/issues/21755 */display: inline-block !important;position: relative;}#sk-container-id-2 div.sk-text-repr-fallback {display: none;}</style><div id=\"sk-container-id-2\" class=\"sk-top-container\"><div class=\"sk-text-repr-fallback\"><pre>RandomForestRegressor(max_depth=6, min_samples_leaf=5, min_samples_split=10,\n",
              "                      n_estimators=50, random_state=1300)</pre><b>In a Jupyter environment, please rerun this cell to show the HTML representation or trust the notebook. <br />On GitHub, the HTML representation is unable to render, please try loading this page with nbviewer.org.</b></div><div class=\"sk-container\" hidden><div class=\"sk-item\"><div class=\"sk-estimator sk-toggleable\"><input class=\"sk-toggleable__control sk-hidden--visually\" id=\"sk-estimator-id-2\" type=\"checkbox\" checked><label for=\"sk-estimator-id-2\" class=\"sk-toggleable__label sk-toggleable__label-arrow\">RandomForestRegressor</label><div class=\"sk-toggleable__content\"><pre>RandomForestRegressor(max_depth=6, min_samples_leaf=5, min_samples_split=10,\n",
              "                      n_estimators=50, random_state=1300)</pre></div></div></div></div></div>"
            ],
            "text/plain": [
              "RandomForestRegressor(max_depth=6, min_samples_leaf=5, min_samples_split=10,\n",
              "                      n_estimators=50, random_state=1300)"
            ]
          },
          "execution_count": 18,
          "metadata": {},
          "output_type": "execute_result"
        }
      ],
      "source": [
        "model_rf_rd_rs.best_estimator_"
      ]
    },
    {
      "cell_type": "code",
      "execution_count": null,
      "metadata": {
        "id": "LiA1ilXCWKzE",
        "colab": {
          "base_uri": "https://localhost:8080/",
          "height": 91
        },
        "outputId": "b4e9584a-1ce8-4b26-afca-61245e5f1ca8"
      },
      "outputs": [
        {
          "output_type": "execute_result",
          "data": {
            "text/plain": [
              "RandomForestRegressor(max_depth=6, min_samples_leaf=5, min_samples_split=10,\n",
              "                      n_estimators=50, random_state=1300)"
            ],
            "text/html": [
              "<style>#sk-container-id-2 {color: black;background-color: white;}#sk-container-id-2 pre{padding: 0;}#sk-container-id-2 div.sk-toggleable {background-color: white;}#sk-container-id-2 label.sk-toggleable__label {cursor: pointer;display: block;width: 100%;margin-bottom: 0;padding: 0.3em;box-sizing: border-box;text-align: center;}#sk-container-id-2 label.sk-toggleable__label-arrow:before {content: \"▸\";float: left;margin-right: 0.25em;color: #696969;}#sk-container-id-2 label.sk-toggleable__label-arrow:hover:before {color: black;}#sk-container-id-2 div.sk-estimator:hover label.sk-toggleable__label-arrow:before {color: black;}#sk-container-id-2 div.sk-toggleable__content {max-height: 0;max-width: 0;overflow: hidden;text-align: left;background-color: #f0f8ff;}#sk-container-id-2 div.sk-toggleable__content pre {margin: 0.2em;color: black;border-radius: 0.25em;background-color: #f0f8ff;}#sk-container-id-2 input.sk-toggleable__control:checked~div.sk-toggleable__content {max-height: 200px;max-width: 100%;overflow: auto;}#sk-container-id-2 input.sk-toggleable__control:checked~label.sk-toggleable__label-arrow:before {content: \"▾\";}#sk-container-id-2 div.sk-estimator input.sk-toggleable__control:checked~label.sk-toggleable__label {background-color: #d4ebff;}#sk-container-id-2 div.sk-label input.sk-toggleable__control:checked~label.sk-toggleable__label {background-color: #d4ebff;}#sk-container-id-2 input.sk-hidden--visually {border: 0;clip: rect(1px 1px 1px 1px);clip: rect(1px, 1px, 1px, 1px);height: 1px;margin: -1px;overflow: hidden;padding: 0;position: absolute;width: 1px;}#sk-container-id-2 div.sk-estimator {font-family: monospace;background-color: #f0f8ff;border: 1px dotted black;border-radius: 0.25em;box-sizing: border-box;margin-bottom: 0.5em;}#sk-container-id-2 div.sk-estimator:hover {background-color: #d4ebff;}#sk-container-id-2 div.sk-parallel-item::after {content: \"\";width: 100%;border-bottom: 1px solid gray;flex-grow: 1;}#sk-container-id-2 div.sk-label:hover label.sk-toggleable__label {background-color: #d4ebff;}#sk-container-id-2 div.sk-serial::before {content: \"\";position: absolute;border-left: 1px solid gray;box-sizing: border-box;top: 0;bottom: 0;left: 50%;z-index: 0;}#sk-container-id-2 div.sk-serial {display: flex;flex-direction: column;align-items: center;background-color: white;padding-right: 0.2em;padding-left: 0.2em;position: relative;}#sk-container-id-2 div.sk-item {position: relative;z-index: 1;}#sk-container-id-2 div.sk-parallel {display: flex;align-items: stretch;justify-content: center;background-color: white;position: relative;}#sk-container-id-2 div.sk-item::before, #sk-container-id-2 div.sk-parallel-item::before {content: \"\";position: absolute;border-left: 1px solid gray;box-sizing: border-box;top: 0;bottom: 0;left: 50%;z-index: -1;}#sk-container-id-2 div.sk-parallel-item {display: flex;flex-direction: column;z-index: 1;position: relative;background-color: white;}#sk-container-id-2 div.sk-parallel-item:first-child::after {align-self: flex-end;width: 50%;}#sk-container-id-2 div.sk-parallel-item:last-child::after {align-self: flex-start;width: 50%;}#sk-container-id-2 div.sk-parallel-item:only-child::after {width: 0;}#sk-container-id-2 div.sk-dashed-wrapped {border: 1px dashed gray;margin: 0 0.4em 0.5em 0.4em;box-sizing: border-box;padding-bottom: 0.4em;background-color: white;}#sk-container-id-2 div.sk-label label {font-family: monospace;font-weight: bold;display: inline-block;line-height: 1.2em;}#sk-container-id-2 div.sk-label-container {text-align: center;}#sk-container-id-2 div.sk-container {/* jupyter's `normalize.less` sets `[hidden] { display: none; }` but bootstrap.min.css set `[hidden] { display: none !important; }` so we also need the `!important` here to be able to override the default hidden behavior on the sphinx rendered scikit-learn.org. See: https://github.com/scikit-learn/scikit-learn/issues/21755 */display: inline-block !important;position: relative;}#sk-container-id-2 div.sk-text-repr-fallback {display: none;}</style><div id=\"sk-container-id-2\" class=\"sk-top-container\"><div class=\"sk-text-repr-fallback\"><pre>RandomForestRegressor(max_depth=6, min_samples_leaf=5, min_samples_split=10,\n",
              "                      n_estimators=50, random_state=1300)</pre><b>In a Jupyter environment, please rerun this cell to show the HTML representation or trust the notebook. <br />On GitHub, the HTML representation is unable to render, please try loading this page with nbviewer.org.</b></div><div class=\"sk-container\" hidden><div class=\"sk-item\"><div class=\"sk-estimator sk-toggleable\"><input class=\"sk-toggleable__control sk-hidden--visually\" id=\"sk-estimator-id-2\" type=\"checkbox\" checked><label for=\"sk-estimator-id-2\" class=\"sk-toggleable__label sk-toggleable__label-arrow\">RandomForestRegressor</label><div class=\"sk-toggleable__content\"><pre>RandomForestRegressor(max_depth=6, min_samples_leaf=5, min_samples_split=10,\n",
              "                      n_estimators=50, random_state=1300)</pre></div></div></div></div></div>"
            ]
          },
          "metadata": {},
          "execution_count": 15
        }
      ],
      "source": [
        "rf_best = RandomForestRegressor(max_depth=6, min_samples_leaf=5, min_samples_split=10,\n",
        "                      n_estimators=50, random_state=1300)\n",
        "rf_best.fit(X_train_scaled, y_train)"
      ]
    },
    {
      "cell_type": "code",
      "source": [
        "ftr_importances_values = rf_best.feature_importances_\n",
        "ftr_importances = pd.Series(ftr_importances_values,index=X_train_scaled.columns  )\n",
        "ftr_top20 = ftr_importances.sort_values(ascending=False)\n",
        "\n",
        "plt.figure(figsize=(8,6))\n",
        "plt.title('Feature importances of RF')\n",
        "sns.barplot(x=ftr_top20 , y = ftr_top20.index)\n",
        "plt.show()"
      ],
      "metadata": {
        "colab": {
          "base_uri": "https://localhost:8080/",
          "height": 564
        },
        "id": "36ckNOR5ss3r",
        "outputId": "f6993a12-1389-49d9-aa5f-9a4f9c49d0b8"
      },
      "execution_count": null,
      "outputs": [
        {
          "output_type": "display_data",
          "data": {
            "text/plain": [
              "<Figure size 800x600 with 1 Axes>"
            ],
            "image/png": "[encoded data removed]"
          },
          "metadata": {}
        }
      ]
    },
    {
      "cell_type": "markdown",
      "metadata": {
        "id": "Y9SZNS_osKW2"
      },
      "source": [
        "**3. 성능개선 try1 : 동코드 drop**"
      ]
    },
    {
      "cell_type": "code",
      "execution_count": null,
      "metadata": {
        "colab": {
          "base_uri": "https://localhost:8080/"
        },
        "id": "w26i1Tmhr3jS",
        "outputId": "5907c08f-26d5-4123-b896-02d8f521210c"
      },
      "outputs": [
        {
          "data": {
            "text/plain": [
              "6.659800597861587"
            ]
          },
          "execution_count": 22,
          "metadata": {},
          "output_type": "execute_result"
        }
      ],
      "source": [
        "params = {'max_depth': range(2, 21, 2),\n",
        "              'min_samples_split': range(5, 21, 5),\n",
        "              'min_samples_leaf' : range(5, 21, 5),\n",
        "              'n_estimators': range(50, 251, 50),\n",
        "              'random_state': range(100, 2000, 200)\n",
        "}\n",
        "\n",
        "model_rf_rd_rs_dr = RandomizedSearchCV(model_rf, param_distributions=params, n_iter=50, cv=4, n_jobs=-1)\n",
        "\n",
        "model_rf_rd_rs_dr.fit(X_train_scaled_dr, y_train_dr)\n",
        "y_pred_rf_rd_rs_dr = model_rf_rd_rs_dr.best_estimator_.predict(X_tr_test_scaled_dr)\n",
        "\n",
        "MSE_rf_rd_rs_dr = mean_squared_error(y_tr_test_dr, y_pred_rf_rd_rs_dr) \n",
        "np.sqrt(MSE_rf_rd_rs_dr)"
      ]
    },
    {
      "cell_type": "code",
      "execution_count": null,
      "metadata": {
        "colab": {
          "base_uri": "https://localhost:8080/",
          "height": 91
        },
        "id": "pXDx9Ph0XibK",
        "outputId": "e80357a2-21a8-430f-812e-81472a4b5ca6"
      },
      "outputs": [
        {
          "data": {
            "text/html": [
              "<style>#sk-container-id-3 {color: black;background-color: white;}#sk-container-id-3 pre{padding: 0;}#sk-container-id-3 div.sk-toggleable {background-color: white;}#sk-container-id-3 label.sk-toggleable__label {cursor: pointer;display: block;width: 100%;margin-bottom: 0;padding: 0.3em;box-sizing: border-box;text-align: center;}#sk-container-id-3 label.sk-toggleable__label-arrow:before {content: \"▸\";float: left;margin-right: 0.25em;color: #696969;}#sk-container-id-3 label.sk-toggleable__label-arrow:hover:before {color: black;}#sk-container-id-3 div.sk-estimator:hover label.sk-toggleable__label-arrow:before {color: black;}#sk-container-id-3 div.sk-toggleable__content {max-height: 0;max-width: 0;overflow: hidden;text-align: left;background-color: #f0f8ff;}#sk-container-id-3 div.sk-toggleable__content pre {margin: 0.2em;color: black;border-radius: 0.25em;background-color: #f0f8ff;}#sk-container-id-3 input.sk-toggleable__control:checked~div.sk-toggleable__content {max-height: 200px;max-width: 100%;overflow: auto;}#sk-container-id-3 input.sk-toggleable__control:checked~label.sk-toggleable__label-arrow:before {content: \"▾\";}#sk-container-id-3 div.sk-estimator input.sk-toggleable__control:checked~label.sk-toggleable__label {background-color: #d4ebff;}#sk-container-id-3 div.sk-label input.sk-toggleable__control:checked~label.sk-toggleable__label {background-color: #d4ebff;}#sk-container-id-3 input.sk-hidden--visually {border: 0;clip: rect(1px 1px 1px 1px);clip: rect(1px, 1px, 1px, 1px);height: 1px;margin: -1px;overflow: hidden;padding: 0;position: absolute;width: 1px;}#sk-container-id-3 div.sk-estimator {font-family: monospace;background-color: #f0f8ff;border: 1px dotted black;border-radius: 0.25em;box-sizing: border-box;margin-bottom: 0.5em;}#sk-container-id-3 div.sk-estimator:hover {background-color: #d4ebff;}#sk-container-id-3 div.sk-parallel-item::after {content: \"\";width: 100%;border-bottom: 1px solid gray;flex-grow: 1;}#sk-container-id-3 div.sk-label:hover label.sk-toggleable__label {background-color: #d4ebff;}#sk-container-id-3 div.sk-serial::before {content: \"\";position: absolute;border-left: 1px solid gray;box-sizing: border-box;top: 0;bottom: 0;left: 50%;z-index: 0;}#sk-container-id-3 div.sk-serial {display: flex;flex-direction: column;align-items: center;background-color: white;padding-right: 0.2em;padding-left: 0.2em;position: relative;}#sk-container-id-3 div.sk-item {position: relative;z-index: 1;}#sk-container-id-3 div.sk-parallel {display: flex;align-items: stretch;justify-content: center;background-color: white;position: relative;}#sk-container-id-3 div.sk-item::before, #sk-container-id-3 div.sk-parallel-item::before {content: \"\";position: absolute;border-left: 1px solid gray;box-sizing: border-box;top: 0;bottom: 0;left: 50%;z-index: -1;}#sk-container-id-3 div.sk-parallel-item {display: flex;flex-direction: column;z-index: 1;position: relative;background-color: white;}#sk-container-id-3 div.sk-parallel-item:first-child::after {align-self: flex-end;width: 50%;}#sk-container-id-3 div.sk-parallel-item:last-child::after {align-self: flex-start;width: 50%;}#sk-container-id-3 div.sk-parallel-item:only-child::after {width: 0;}#sk-container-id-3 div.sk-dashed-wrapped {border: 1px dashed gray;margin: 0 0.4em 0.5em 0.4em;box-sizing: border-box;padding-bottom: 0.4em;background-color: white;}#sk-container-id-3 div.sk-label label {font-family: monospace;font-weight: bold;display: inline-block;line-height: 1.2em;}#sk-container-id-3 div.sk-label-container {text-align: center;}#sk-container-id-3 div.sk-container {/* jupyter's `normalize.less` sets `[hidden] { display: none; }` but bootstrap.min.css set `[hidden] { display: none !important; }` so we also need the `!important` here to be able to override the default hidden behavior on the sphinx rendered scikit-learn.org. See: https://github.com/scikit-learn/scikit-learn/issues/21755 */display: inline-block !important;position: relative;}#sk-container-id-3 div.sk-text-repr-fallback {display: none;}</style><div id=\"sk-container-id-3\" class=\"sk-top-container\"><div class=\"sk-text-repr-fallback\"><pre>RandomForestRegressor(max_depth=8, min_samples_leaf=5, min_samples_split=5,\n",
              "                      n_estimators=250, random_state=700)</pre><b>In a Jupyter environment, please rerun this cell to show the HTML representation or trust the notebook. <br />On GitHub, the HTML representation is unable to render, please try loading this page with nbviewer.org.</b></div><div class=\"sk-container\" hidden><div class=\"sk-item\"><div class=\"sk-estimator sk-toggleable\"><input class=\"sk-toggleable__control sk-hidden--visually\" id=\"sk-estimator-id-3\" type=\"checkbox\" checked><label for=\"sk-estimator-id-3\" class=\"sk-toggleable__label sk-toggleable__label-arrow\">RandomForestRegressor</label><div class=\"sk-toggleable__content\"><pre>RandomForestRegressor(max_depth=8, min_samples_leaf=5, min_samples_split=5,\n",
              "                      n_estimators=250, random_state=700)</pre></div></div></div></div></div>"
            ],
            "text/plain": [
              "RandomForestRegressor(max_depth=8, min_samples_leaf=5, min_samples_split=5,\n",
              "                      n_estimators=250, random_state=700)"
            ]
          },
          "execution_count": 24,
          "metadata": {},
          "output_type": "execute_result"
        }
      ],
      "source": [
        "model_rf_rd_rs_dr.best_estimator_"
      ]
    },
    {
      "cell_type": "code",
      "execution_count": null,
      "metadata": {
        "id": "qhlCUgrvXief",
        "colab": {
          "base_uri": "https://localhost:8080/",
          "height": 91
        },
        "outputId": "87fcad64-05e1-4cee-c941-6c43a15b2c80"
      },
      "outputs": [
        {
          "output_type": "execute_result",
          "data": {
            "text/plain": [
              "RandomForestRegressor(max_depth=8, min_samples_leaf=5, min_samples_split=5,\n",
              "                      n_estimators=250, random_state=700)"
            ],
            "text/html": [
              "<style>#sk-container-id-3 {color: black;background-color: white;}#sk-container-id-3 pre{padding: 0;}#sk-container-id-3 div.sk-toggleable {background-color: white;}#sk-container-id-3 label.sk-toggleable__label {cursor: pointer;display: block;width: 100%;margin-bottom: 0;padding: 0.3em;box-sizing: border-box;text-align: center;}#sk-container-id-3 label.sk-toggleable__label-arrow:before {content: \"▸\";float: left;margin-right: 0.25em;color: #696969;}#sk-container-id-3 label.sk-toggleable__label-arrow:hover:before {color: black;}#sk-container-id-3 div.sk-estimator:hover label.sk-toggleable__label-arrow:before {color: black;}#sk-container-id-3 div.sk-toggleable__content {max-height: 0;max-width: 0;overflow: hidden;text-align: left;background-color: #f0f8ff;}#sk-container-id-3 div.sk-toggleable__content pre {margin: 0.2em;color: black;border-radius: 0.25em;background-color: #f0f8ff;}#sk-container-id-3 input.sk-toggleable__control:checked~div.sk-toggleable__content {max-height: 200px;max-width: 100%;overflow: auto;}#sk-container-id-3 input.sk-toggleable__control:checked~label.sk-toggleable__label-arrow:before {content: \"▾\";}#sk-container-id-3 div.sk-estimator input.sk-toggleable__control:checked~label.sk-toggleable__label {background-color: #d4ebff;}#sk-container-id-3 div.sk-label input.sk-toggleable__control:checked~label.sk-toggleable__label {background-color: #d4ebff;}#sk-container-id-3 input.sk-hidden--visually {border: 0;clip: rect(1px 1px 1px 1px);clip: rect(1px, 1px, 1px, 1px);height: 1px;margin: -1px;overflow: hidden;padding: 0;position: absolute;width: 1px;}#sk-container-id-3 div.sk-estimator {font-family: monospace;background-color: #f0f8ff;border: 1px dotted black;border-radius: 0.25em;box-sizing: border-box;margin-bottom: 0.5em;}#sk-container-id-3 div.sk-estimator:hover {background-color: #d4ebff;}#sk-container-id-3 div.sk-parallel-item::after {content: \"\";width: 100%;border-bottom: 1px solid gray;flex-grow: 1;}#sk-container-id-3 div.sk-label:hover label.sk-toggleable__label {background-color: #d4ebff;}#sk-container-id-3 div.sk-serial::before {content: \"\";position: absolute;border-left: 1px solid gray;box-sizing: border-box;top: 0;bottom: 0;left: 50%;z-index: 0;}#sk-container-id-3 div.sk-serial {display: flex;flex-direction: column;align-items: center;background-color: white;padding-right: 0.2em;padding-left: 0.2em;position: relative;}#sk-container-id-3 div.sk-item {position: relative;z-index: 1;}#sk-container-id-3 div.sk-parallel {display: flex;align-items: stretch;justify-content: center;background-color: white;position: relative;}#sk-container-id-3 div.sk-item::before, #sk-container-id-3 div.sk-parallel-item::before {content: \"\";position: absolute;border-left: 1px solid gray;box-sizing: border-box;top: 0;bottom: 0;left: 50%;z-index: -1;}#sk-container-id-3 div.sk-parallel-item {display: flex;flex-direction: column;z-index: 1;position: relative;background-color: white;}#sk-container-id-3 div.sk-parallel-item:first-child::after {align-self: flex-end;width: 50%;}#sk-container-id-3 div.sk-parallel-item:last-child::after {align-self: flex-start;width: 50%;}#sk-container-id-3 div.sk-parallel-item:only-child::after {width: 0;}#sk-container-id-3 div.sk-dashed-wrapped {border: 1px dashed gray;margin: 0 0.4em 0.5em 0.4em;box-sizing: border-box;padding-bottom: 0.4em;background-color: white;}#sk-container-id-3 div.sk-label label {font-family: monospace;font-weight: bold;display: inline-block;line-height: 1.2em;}#sk-container-id-3 div.sk-label-container {text-align: center;}#sk-container-id-3 div.sk-container {/* jupyter's `normalize.less` sets `[hidden] { display: none; }` but bootstrap.min.css set `[hidden] { display: none !important; }` so we also need the `!important` here to be able to override the default hidden behavior on the sphinx rendered scikit-learn.org. See: https://github.com/scikit-learn/scikit-learn/issues/21755 */display: inline-block !important;position: relative;}#sk-container-id-3 div.sk-text-repr-fallback {display: none;}</style><div id=\"sk-container-id-3\" class=\"sk-top-container\"><div class=\"sk-text-repr-fallback\"><pre>RandomForestRegressor(max_depth=8, min_samples_leaf=5, min_samples_split=5,\n",
              "                      n_estimators=250, random_state=700)</pre><b>In a Jupyter environment, please rerun this cell to show the HTML representation or trust the notebook. <br />On GitHub, the HTML representation is unable to render, please try loading this page with nbviewer.org.</b></div><div class=\"sk-container\" hidden><div class=\"sk-item\"><div class=\"sk-estimator sk-toggleable\"><input class=\"sk-toggleable__control sk-hidden--visually\" id=\"sk-estimator-id-3\" type=\"checkbox\" checked><label for=\"sk-estimator-id-3\" class=\"sk-toggleable__label sk-toggleable__label-arrow\">RandomForestRegressor</label><div class=\"sk-toggleable__content\"><pre>RandomForestRegressor(max_depth=8, min_samples_leaf=5, min_samples_split=5,\n",
              "                      n_estimators=250, random_state=700)</pre></div></div></div></div></div>"
            ]
          },
          "metadata": {},
          "execution_count": 17
        }
      ],
      "source": [
        "rf_best_dr = RandomForestRegressor(max_depth=8, min_samples_leaf=5, min_samples_split=5,\n",
        "                      n_estimators=250, random_state=700)\n",
        "rf_best_dr.fit(X_train_scaled_dr, y_train_dr)"
      ]
    },
    {
      "cell_type": "code",
      "execution_count": null,
      "metadata": {
        "colab": {
          "base_uri": "https://localhost:8080/",
          "height": 544
        },
        "id": "rcEmoP3o9gNp",
        "outputId": "da28580c-db61-4c71-cb2a-6e10c55a0dc0"
      },
      "outputs": [
        {
          "output_type": "display_data",
          "data": {
            "text/plain": [
              "<Figure size 800x600 with 1 Axes>"
            ],
            "image/png": "[encoded data removed]"
          },
          "metadata": {}
        }
      ],
      "source": [
        "ftr_importances_values = rf_best_dr.feature_importances_\n",
        "ftr_importances = pd.Series(ftr_importances_values,index=X_train_scaled_dr.columns  )\n",
        "ftr_top20 = ftr_importances.sort_values(ascending=False)\n",
        "\n",
        "plt.figure(figsize=(8,6))\n",
        "plt.title('Feature importances')\n",
        "sns.barplot(x=ftr_top20 , y = ftr_top20.index)\n",
        "plt.show()"
      ]
    },
    {
      "cell_type": "markdown",
      "metadata": {
        "id": "P179hqMeufpT"
      },
      "source": [
        "**4. 성능개선 try2 : 시코드 drop**"
      ]
    },
    {
      "cell_type": "code",
      "execution_count": null,
      "metadata": {
        "colab": {
          "base_uri": "https://localhost:8080/"
        },
        "outputId": "4366e6a1-a741-4718-94f3-d98ef9482376",
        "id": "j3gRp1c6ufpU"
      },
      "outputs": [
        {
          "output_type": "execute_result",
          "data": {
            "text/plain": [
              "6.432784348982589"
            ]
          },
          "metadata": {},
          "execution_count": 34
        }
      ],
      "source": [
        "params = {'max_depth': range(2, 21, 2),\n",
        "              'min_samples_split': range(5, 21, 5),\n",
        "              'min_samples_leaf' : range(5, 21, 5),\n",
        "              'n_estimators': range(50, 251, 50),\n",
        "              'random_state': range(100, 2000, 200)\n",
        "}\n",
        "\n",
        "model_rf_rd_rs_dr2 = RandomizedSearchCV(model_rf, param_distributions=params, n_iter=50, cv=4, n_jobs=-1)\n",
        "\n",
        "model_rf_rd_rs_dr2.fit(X_train_scaled_dr2, y_train_dr2)\n",
        "y_pred_rf_rd_rs_dr2 = model_rf_rd_rs_dr2.best_estimator_.predict(X_tr_test_scaled_dr2)\n",
        "\n",
        "MSE_rf_rd_rs_dr2 = mean_squared_error(y_tr_test_dr2, y_pred_rf_rd_rs_dr2) \n",
        "np.sqrt(MSE_rf_rd_rs_dr2)"
      ]
    },
    {
      "cell_type": "code",
      "execution_count": null,
      "metadata": {
        "colab": {
          "base_uri": "https://localhost:8080/",
          "height": 91
        },
        "outputId": "338d7863-8bce-4ef2-d583-0119752e2451",
        "id": "DqiPOMxZufpU"
      },
      "outputs": [
        {
          "output_type": "execute_result",
          "data": {
            "text/plain": [
              "RandomForestRegressor(max_depth=6, min_samples_leaf=5, min_samples_split=10,\n",
              "                      n_estimators=50, random_state=1300)"
            ],
            "text/html": [
              "<style>#sk-container-id-6 {color: black;background-color: white;}#sk-container-id-6 pre{padding: 0;}#sk-container-id-6 div.sk-toggleable {background-color: white;}#sk-container-id-6 label.sk-toggleable__label {cursor: pointer;display: block;width: 100%;margin-bottom: 0;padding: 0.3em;box-sizing: border-box;text-align: center;}#sk-container-id-6 label.sk-toggleable__label-arrow:before {content: \"▸\";float: left;margin-right: 0.25em;color: #696969;}#sk-container-id-6 label.sk-toggleable__label-arrow:hover:before {color: black;}#sk-container-id-6 div.sk-estimator:hover label.sk-toggleable__label-arrow:before {color: black;}#sk-container-id-6 div.sk-toggleable__content {max-height: 0;max-width: 0;overflow: hidden;text-align: left;background-color: #f0f8ff;}#sk-container-id-6 div.sk-toggleable__content pre {margin: 0.2em;color: black;border-radius: 0.25em;background-color: #f0f8ff;}#sk-container-id-6 input.sk-toggleable__control:checked~div.sk-toggleable__content {max-height: 200px;max-width: 100%;overflow: auto;}#sk-container-id-6 input.sk-toggleable__control:checked~label.sk-toggleable__label-arrow:before {content: \"▾\";}#sk-container-id-6 div.sk-estimator input.sk-toggleable__control:checked~label.sk-toggleable__label {background-color: #d4ebff;}#sk-container-id-6 div.sk-label input.sk-toggleable__control:checked~label.sk-toggleable__label {background-color: #d4ebff;}#sk-container-id-6 input.sk-hidden--visually {border: 0;clip: rect(1px 1px 1px 1px);clip: rect(1px, 1px, 1px, 1px);height: 1px;margin: -1px;overflow: hidden;padding: 0;position: absolute;width: 1px;}#sk-container-id-6 div.sk-estimator {font-family: monospace;background-color: #f0f8ff;border: 1px dotted black;border-radius: 0.25em;box-sizing: border-box;margin-bottom: 0.5em;}#sk-container-id-6 div.sk-estimator:hover {background-color: #d4ebff;}#sk-container-id-6 div.sk-parallel-item::after {content: \"\";width: 100%;border-bottom: 1px solid gray;flex-grow: 1;}#sk-container-id-6 div.sk-label:hover label.sk-toggleable__label {background-color: #d4ebff;}#sk-container-id-6 div.sk-serial::before {content: \"\";position: absolute;border-left: 1px solid gray;box-sizing: border-box;top: 0;bottom: 0;left: 50%;z-index: 0;}#sk-container-id-6 div.sk-serial {display: flex;flex-direction: column;align-items: center;background-color: white;padding-right: 0.2em;padding-left: 0.2em;position: relative;}#sk-container-id-6 div.sk-item {position: relative;z-index: 1;}#sk-container-id-6 div.sk-parallel {display: flex;align-items: stretch;justify-content: center;background-color: white;position: relative;}#sk-container-id-6 div.sk-item::before, #sk-container-id-6 div.sk-parallel-item::before {content: \"\";position: absolute;border-left: 1px solid gray;box-sizing: border-box;top: 0;bottom: 0;left: 50%;z-index: -1;}#sk-container-id-6 div.sk-parallel-item {display: flex;flex-direction: column;z-index: 1;position: relative;background-color: white;}#sk-container-id-6 div.sk-parallel-item:first-child::after {align-self: flex-end;width: 50%;}#sk-container-id-6 div.sk-parallel-item:last-child::after {align-self: flex-start;width: 50%;}#sk-container-id-6 div.sk-parallel-item:only-child::after {width: 0;}#sk-container-id-6 div.sk-dashed-wrapped {border: 1px dashed gray;margin: 0 0.4em 0.5em 0.4em;box-sizing: border-box;padding-bottom: 0.4em;background-color: white;}#sk-container-id-6 div.sk-label label {font-family: monospace;font-weight: bold;display: inline-block;line-height: 1.2em;}#sk-container-id-6 div.sk-label-container {text-align: center;}#sk-container-id-6 div.sk-container {/* jupyter's `normalize.less` sets `[hidden] { display: none; }` but bootstrap.min.css set `[hidden] { display: none !important; }` so we also need the `!important` here to be able to override the default hidden behavior on the sphinx rendered scikit-learn.org. See: https://github.com/scikit-learn/scikit-learn/issues/21755 */display: inline-block !important;position: relative;}#sk-container-id-6 div.sk-text-repr-fallback {display: none;}</style><div id=\"sk-container-id-6\" class=\"sk-top-container\"><div class=\"sk-text-repr-fallback\"><pre>RandomForestRegressor(max_depth=6, min_samples_leaf=5, min_samples_split=10,\n",
              "                      n_estimators=50, random_state=1300)</pre><b>In a Jupyter environment, please rerun this cell to show the HTML representation or trust the notebook. <br />On GitHub, the HTML representation is unable to render, please try loading this page with nbviewer.org.</b></div><div class=\"sk-container\" hidden><div class=\"sk-item\"><div class=\"sk-estimator sk-toggleable\"><input class=\"sk-toggleable__control sk-hidden--visually\" id=\"sk-estimator-id-6\" type=\"checkbox\" checked><label for=\"sk-estimator-id-6\" class=\"sk-toggleable__label sk-toggleable__label-arrow\">RandomForestRegressor</label><div class=\"sk-toggleable__content\"><pre>RandomForestRegressor(max_depth=6, min_samples_leaf=5, min_samples_split=10,\n",
              "                      n_estimators=50, random_state=1300)</pre></div></div></div></div></div>"
            ]
          },
          "metadata": {},
          "execution_count": 35
        }
      ],
      "source": [
        "model_rf_rd_rs_dr2.best_estimator_"
      ]
    },
    {
      "cell_type": "code",
      "execution_count": null,
      "metadata": {
        "colab": {
          "base_uri": "https://localhost:8080/",
          "height": 91
        },
        "outputId": "ee1e3bd3-5240-4daf-a0a6-0ebddc606832",
        "id": "lp6rK0X8ufpU"
      },
      "outputs": [
        {
          "output_type": "execute_result",
          "data": {
            "text/plain": [
              "RandomForestRegressor(max_depth=6, min_samples_leaf=5, min_samples_split=10,\n",
              "                      n_estimators=50, random_state=1300)"
            ],
            "text/html": [
              "<style>#sk-container-id-12 {color: black;background-color: white;}#sk-container-id-12 pre{padding: 0;}#sk-container-id-12 div.sk-toggleable {background-color: white;}#sk-container-id-12 label.sk-toggleable__label {cursor: pointer;display: block;width: 100%;margin-bottom: 0;padding: 0.3em;box-sizing: border-box;text-align: center;}#sk-container-id-12 label.sk-toggleable__label-arrow:before {content: \"▸\";float: left;margin-right: 0.25em;color: #696969;}#sk-container-id-12 label.sk-toggleable__label-arrow:hover:before {color: black;}#sk-container-id-12 div.sk-estimator:hover label.sk-toggleable__label-arrow:before {color: black;}#sk-container-id-12 div.sk-toggleable__content {max-height: 0;max-width: 0;overflow: hidden;text-align: left;background-color: #f0f8ff;}#sk-container-id-12 div.sk-toggleable__content pre {margin: 0.2em;color: black;border-radius: 0.25em;background-color: #f0f8ff;}#sk-container-id-12 input.sk-toggleable__control:checked~div.sk-toggleable__content {max-height: 200px;max-width: 100%;overflow: auto;}#sk-container-id-12 input.sk-toggleable__control:checked~label.sk-toggleable__label-arrow:before {content: \"▾\";}#sk-container-id-12 div.sk-estimator input.sk-toggleable__control:checked~label.sk-toggleable__label {background-color: #d4ebff;}#sk-container-id-12 div.sk-label input.sk-toggleable__control:checked~label.sk-toggleable__label {background-color: #d4ebff;}#sk-container-id-12 input.sk-hidden--visually {border: 0;clip: rect(1px 1px 1px 1px);clip: rect(1px, 1px, 1px, 1px);height: 1px;margin: -1px;overflow: hidden;padding: 0;position: absolute;width: 1px;}#sk-container-id-12 div.sk-estimator {font-family: monospace;background-color: #f0f8ff;border: 1px dotted black;border-radius: 0.25em;box-sizing: border-box;margin-bottom: 0.5em;}#sk-container-id-12 div.sk-estimator:hover {background-color: #d4ebff;}#sk-container-id-12 div.sk-parallel-item::after {content: \"\";width: 100%;border-bottom: 1px solid gray;flex-grow: 1;}#sk-container-id-12 div.sk-label:hover label.sk-toggleable__label {background-color: #d4ebff;}#sk-container-id-12 div.sk-serial::before {content: \"\";position: absolute;border-left: 1px solid gray;box-sizing: border-box;top: 0;bottom: 0;left: 50%;z-index: 0;}#sk-container-id-12 div.sk-serial {display: flex;flex-direction: column;align-items: center;background-color: white;padding-right: 0.2em;padding-left: 0.2em;position: relative;}#sk-container-id-12 div.sk-item {position: relative;z-index: 1;}#sk-container-id-12 div.sk-parallel {display: flex;align-items: stretch;justify-content: center;background-color: white;position: relative;}#sk-container-id-12 div.sk-item::before, #sk-container-id-12 div.sk-parallel-item::before {content: \"\";position: absolute;border-left: 1px solid gray;box-sizing: border-box;top: 0;bottom: 0;left: 50%;z-index: -1;}#sk-container-id-12 div.sk-parallel-item {display: flex;flex-direction: column;z-index: 1;position: relative;background-color: white;}#sk-container-id-12 div.sk-parallel-item:first-child::after {align-self: flex-end;width: 50%;}#sk-container-id-12 div.sk-parallel-item:last-child::after {align-self: flex-start;width: 50%;}#sk-container-id-12 div.sk-parallel-item:only-child::after {width: 0;}#sk-container-id-12 div.sk-dashed-wrapped {border: 1px dashed gray;margin: 0 0.4em 0.5em 0.4em;box-sizing: border-box;padding-bottom: 0.4em;background-color: white;}#sk-container-id-12 div.sk-label label {font-family: monospace;font-weight: bold;display: inline-block;line-height: 1.2em;}#sk-container-id-12 div.sk-label-container {text-align: center;}#sk-container-id-12 div.sk-container {/* jupyter's `normalize.less` sets `[hidden] { display: none; }` but bootstrap.min.css set `[hidden] { display: none !important; }` so we also need the `!important` here to be able to override the default hidden behavior on the sphinx rendered scikit-learn.org. See: https://github.com/scikit-learn/scikit-learn/issues/21755 */display: inline-block !important;position: relative;}#sk-container-id-12 div.sk-text-repr-fallback {display: none;}</style><div id=\"sk-container-id-12\" class=\"sk-top-container\"><div class=\"sk-text-repr-fallback\"><pre>RandomForestRegressor(max_depth=6, min_samples_leaf=5, min_samples_split=10,\n",
              "                      n_estimators=50, random_state=1300)</pre><b>In a Jupyter environment, please rerun this cell to show the HTML representation or trust the notebook. <br />On GitHub, the HTML representation is unable to render, please try loading this page with nbviewer.org.</b></div><div class=\"sk-container\" hidden><div class=\"sk-item\"><div class=\"sk-estimator sk-toggleable\"><input class=\"sk-toggleable__control sk-hidden--visually\" id=\"sk-estimator-id-12\" type=\"checkbox\" checked><label for=\"sk-estimator-id-12\" class=\"sk-toggleable__label sk-toggleable__label-arrow\">RandomForestRegressor</label><div class=\"sk-toggleable__content\"><pre>RandomForestRegressor(max_depth=6, min_samples_leaf=5, min_samples_split=10,\n",
              "                      n_estimators=50, random_state=1300)</pre></div></div></div></div></div>"
            ]
          },
          "metadata": {},
          "execution_count": 49
        }
      ],
      "source": [
        "rf_best_dr2 = RandomForestRegressor(max_depth=6, min_samples_leaf=5, min_samples_split=10,\n",
        "                      n_estimators=50, random_state=1300)\n",
        "rf_best_dr2.fit(X_train_scaled_dr2, y_train_dr2)"
      ]
    },
    {
      "cell_type": "code",
      "execution_count": null,
      "metadata": {
        "colab": {
          "base_uri": "https://localhost:8080/",
          "height": 499
        },
        "outputId": "d379e096-844f-42a7-c5ef-45bbec3818c3",
        "id": "bbufLforufpU"
      },
      "outputs": [
        {
          "output_type": "display_data",
          "data": {
            "text/plain": [
              "<Figure size 800x600 with 1 Axes>"
            ],
            "image/png": "[encoded data removed]"
          },
          "metadata": {}
        }
      ],
      "source": [
        "ftr_importances_values = rf_best_dr2.feature_importances_\n",
        "ftr_importances = pd.Series(ftr_importances_values,index=X_train_scaled_dr2.columns  )\n",
        "ftr_top20 = ftr_importances.sort_values(ascending=False)\n",
        "\n",
        "plt.figure(figsize=(8,6))\n",
        "plt.title('Feature importances')\n",
        "sns.barplot(x=ftr_top20 , y = ftr_top20.index)\n",
        "plt.show()"
      ]
    },
    {
      "cell_type": "markdown",
      "metadata": {
        "id": "xPAN4vN_dD9q"
      },
      "source": [
        "#### 2) GBM"
      ]
    },
    {
      "cell_type": "markdown",
      "source": [
        "1. 기본모델"
      ],
      "metadata": {
        "id": "M3E5u28suwX-"
      }
    },
    {
      "cell_type": "code",
      "execution_count": null,
      "metadata": {
        "colab": {
          "base_uri": "https://localhost:8080/"
        },
        "id": "gGQAv4aWdD9r",
        "outputId": "16e3799b-192a-474e-9c2f-277533b0cee0"
      },
      "outputs": [
        {
          "data": {
            "text/plain": [
              "6.408173807127041"
            ]
          },
          "execution_count": 29,
          "metadata": {},
          "output_type": "execute_result"
        }
      ],
      "source": [
        "from sklearn.ensemble import GradientBoostingRegressor\n",
        "\n",
        "#모델 정의\n",
        "model_gbm = GradientBoostingRegressor()\n",
        "\n",
        "# 모델 학습\n",
        "model_gbm.fit(X_train_scaled, y_train)\n",
        "\n",
        "# test 데이터 예측\n",
        "y_pred_gbm = model_gbm.predict(X_tr_test_scaled)\n",
        "\n",
        "# RMSE 확인\n",
        "MSE_gbm = mean_squared_error(y_tr_test, y_pred_gbm) \n",
        "np.sqrt(MSE_gbm)"
      ]
    },
    {
      "cell_type": "markdown",
      "source": [
        "2. 랜덤서치 "
      ],
      "metadata": {
        "id": "ZmuUdbyauy1k"
      }
    },
    {
      "cell_type": "code",
      "execution_count": null,
      "metadata": {
        "id": "OgeqWw69XkTj"
      },
      "outputs": [],
      "source": [
        "from random import * \n",
        "from numpy import random"
      ]
    },
    {
      "cell_type": "code",
      "execution_count": null,
      "metadata": {
        "id": "WdZhSqQ6ZGFZ",
        "colab": {
          "base_uri": "https://localhost:8080/"
        },
        "outputId": "c7d4e4fd-7dec-4274-ba2c-23ef4476ea9a"
      },
      "outputs": [
        {
          "output_type": "execute_result",
          "data": {
            "text/plain": [
              "6.371161805843998"
            ]
          },
          "metadata": {},
          "execution_count": 25
        }
      ],
      "source": [
        "# 파라미터 튜닝\n",
        "params = {'max_depth': range(2, 21, 2),\n",
        "          'min_samples_leaf' :range(5,21,5),\n",
        "          'min_samples_split': range(5,21,5),\n",
        "          'n_estimators': range(50, 251, 50), \n",
        "          'learning_rate': random.uniform(0.02, 0.1, 5),\n",
        "          'random_state': range(100, 2001, 200)         \n",
        "}\n",
        "\n",
        "model_gbm_rd = RandomizedSearchCV(model_gbm, param_distributions=params, \n",
        "                                  n_iter=50, cv=4, n_jobs=-1)\n",
        "\n",
        "model_gbm_rd.fit(X_train_scaled, y_train)\n",
        "y_pred_gbm_rd = model_gbm_rd.best_estimator_.predict(X_tr_test_scaled)\n",
        "\n",
        "MSE_gbm_rd = mean_squared_error(y_tr_test, y_pred_gbm_rd) \n",
        "np.sqrt(MSE_gbm_rd)"
      ]
    },
    {
      "cell_type": "code",
      "execution_count": null,
      "metadata": {
        "id": "dEcWV_8K9weW",
        "colab": {
          "base_uri": "https://localhost:8080/",
          "height": 109
        },
        "outputId": "7460f2e0-d37b-4c0d-eee2-934049b21877"
      },
      "outputs": [
        {
          "output_type": "execute_result",
          "data": {
            "text/plain": [
              "GradientBoostingRegressor(learning_rate=0.06685027987618178, max_depth=4,\n",
              "                          min_samples_leaf=5, min_samples_split=15,\n",
              "                          random_state=500)"
            ],
            "text/html": [
              "<style>#sk-container-id-4 {color: black;background-color: white;}#sk-container-id-4 pre{padding: 0;}#sk-container-id-4 div.sk-toggleable {background-color: white;}#sk-container-id-4 label.sk-toggleable__label {cursor: pointer;display: block;width: 100%;margin-bottom: 0;padding: 0.3em;box-sizing: border-box;text-align: center;}#sk-container-id-4 label.sk-toggleable__label-arrow:before {content: \"▸\";float: left;margin-right: 0.25em;color: #696969;}#sk-container-id-4 label.sk-toggleable__label-arrow:hover:before {color: black;}#sk-container-id-4 div.sk-estimator:hover label.sk-toggleable__label-arrow:before {color: black;}#sk-container-id-4 div.sk-toggleable__content {max-height: 0;max-width: 0;overflow: hidden;text-align: left;background-color: #f0f8ff;}#sk-container-id-4 div.sk-toggleable__content pre {margin: 0.2em;color: black;border-radius: 0.25em;background-color: #f0f8ff;}#sk-container-id-4 input.sk-toggleable__control:checked~div.sk-toggleable__content {max-height: 200px;max-width: 100%;overflow: auto;}#sk-container-id-4 input.sk-toggleable__control:checked~label.sk-toggleable__label-arrow:before {content: \"▾\";}#sk-container-id-4 div.sk-estimator input.sk-toggleable__control:checked~label.sk-toggleable__label {background-color: #d4ebff;}#sk-container-id-4 div.sk-label input.sk-toggleable__control:checked~label.sk-toggleable__label {background-color: #d4ebff;}#sk-container-id-4 input.sk-hidden--visually {border: 0;clip: rect(1px 1px 1px 1px);clip: rect(1px, 1px, 1px, 1px);height: 1px;margin: -1px;overflow: hidden;padding: 0;position: absolute;width: 1px;}#sk-container-id-4 div.sk-estimator {font-family: monospace;background-color: #f0f8ff;border: 1px dotted black;border-radius: 0.25em;box-sizing: border-box;margin-bottom: 0.5em;}#sk-container-id-4 div.sk-estimator:hover {background-color: #d4ebff;}#sk-container-id-4 div.sk-parallel-item::after {content: \"\";width: 100%;border-bottom: 1px solid gray;flex-grow: 1;}#sk-container-id-4 div.sk-label:hover label.sk-toggleable__label {background-color: #d4ebff;}#sk-container-id-4 div.sk-serial::before {content: \"\";position: absolute;border-left: 1px solid gray;box-sizing: border-box;top: 0;bottom: 0;left: 50%;z-index: 0;}#sk-container-id-4 div.sk-serial {display: flex;flex-direction: column;align-items: center;background-color: white;padding-right: 0.2em;padding-left: 0.2em;position: relative;}#sk-container-id-4 div.sk-item {position: relative;z-index: 1;}#sk-container-id-4 div.sk-parallel {display: flex;align-items: stretch;justify-content: center;background-color: white;position: relative;}#sk-container-id-4 div.sk-item::before, #sk-container-id-4 div.sk-parallel-item::before {content: \"\";position: absolute;border-left: 1px solid gray;box-sizing: border-box;top: 0;bottom: 0;left: 50%;z-index: -1;}#sk-container-id-4 div.sk-parallel-item {display: flex;flex-direction: column;z-index: 1;position: relative;background-color: white;}#sk-container-id-4 div.sk-parallel-item:first-child::after {align-self: flex-end;width: 50%;}#sk-container-id-4 div.sk-parallel-item:last-child::after {align-self: flex-start;width: 50%;}#sk-container-id-4 div.sk-parallel-item:only-child::after {width: 0;}#sk-container-id-4 div.sk-dashed-wrapped {border: 1px dashed gray;margin: 0 0.4em 0.5em 0.4em;box-sizing: border-box;padding-bottom: 0.4em;background-color: white;}#sk-container-id-4 div.sk-label label {font-family: monospace;font-weight: bold;display: inline-block;line-height: 1.2em;}#sk-container-id-4 div.sk-label-container {text-align: center;}#sk-container-id-4 div.sk-container {/* jupyter's `normalize.less` sets `[hidden] { display: none; }` but bootstrap.min.css set `[hidden] { display: none !important; }` so we also need the `!important` here to be able to override the default hidden behavior on the sphinx rendered scikit-learn.org. See: https://github.com/scikit-learn/scikit-learn/issues/21755 */display: inline-block !important;position: relative;}#sk-container-id-4 div.sk-text-repr-fallback {display: none;}</style><div id=\"sk-container-id-4\" class=\"sk-top-container\"><div class=\"sk-text-repr-fallback\"><pre>GradientBoostingRegressor(learning_rate=0.06685027987618178, max_depth=4,\n",
              "                          min_samples_leaf=5, min_samples_split=15,\n",
              "                          random_state=500)</pre><b>In a Jupyter environment, please rerun this cell to show the HTML representation or trust the notebook. <br />On GitHub, the HTML representation is unable to render, please try loading this page with nbviewer.org.</b></div><div class=\"sk-container\" hidden><div class=\"sk-item\"><div class=\"sk-estimator sk-toggleable\"><input class=\"sk-toggleable__control sk-hidden--visually\" id=\"sk-estimator-id-4\" type=\"checkbox\" checked><label for=\"sk-estimator-id-4\" class=\"sk-toggleable__label sk-toggleable__label-arrow\">GradientBoostingRegressor</label><div class=\"sk-toggleable__content\"><pre>GradientBoostingRegressor(learning_rate=0.06685027987618178, max_depth=4,\n",
              "                          min_samples_leaf=5, min_samples_split=15,\n",
              "                          random_state=500)</pre></div></div></div></div></div>"
            ]
          },
          "metadata": {},
          "execution_count": 26
        }
      ],
      "source": [
        "model_gbm_rd.best_estimator_"
      ]
    },
    {
      "cell_type": "code",
      "execution_count": null,
      "metadata": {
        "id": "Ejx2KW5-92Nx",
        "colab": {
          "base_uri": "https://localhost:8080/",
          "height": 109
        },
        "outputId": "f1411ce2-b30c-4190-d5c0-6e6aeef9001a"
      },
      "outputs": [
        {
          "output_type": "execute_result",
          "data": {
            "text/plain": [
              "GradientBoostingRegressor(learning_rate=0.06685027987618178, max_depth=4,\n",
              "                          min_samples_leaf=5, min_samples_split=15,\n",
              "                          random_state=500)"
            ],
            "text/html": [
              "<style>#sk-container-id-5 {color: black;background-color: white;}#sk-container-id-5 pre{padding: 0;}#sk-container-id-5 div.sk-toggleable {background-color: white;}#sk-container-id-5 label.sk-toggleable__label {cursor: pointer;display: block;width: 100%;margin-bottom: 0;padding: 0.3em;box-sizing: border-box;text-align: center;}#sk-container-id-5 label.sk-toggleable__label-arrow:before {content: \"▸\";float: left;margin-right: 0.25em;color: #696969;}#sk-container-id-5 label.sk-toggleable__label-arrow:hover:before {color: black;}#sk-container-id-5 div.sk-estimator:hover label.sk-toggleable__label-arrow:before {color: black;}#sk-container-id-5 div.sk-toggleable__content {max-height: 0;max-width: 0;overflow: hidden;text-align: left;background-color: #f0f8ff;}#sk-container-id-5 div.sk-toggleable__content pre {margin: 0.2em;color: black;border-radius: 0.25em;background-color: #f0f8ff;}#sk-container-id-5 input.sk-toggleable__control:checked~div.sk-toggleable__content {max-height: 200px;max-width: 100%;overflow: auto;}#sk-container-id-5 input.sk-toggleable__control:checked~label.sk-toggleable__label-arrow:before {content: \"▾\";}#sk-container-id-5 div.sk-estimator input.sk-toggleable__control:checked~label.sk-toggleable__label {background-color: #d4ebff;}#sk-container-id-5 div.sk-label input.sk-toggleable__control:checked~label.sk-toggleable__label {background-color: #d4ebff;}#sk-container-id-5 input.sk-hidden--visually {border: 0;clip: rect(1px 1px 1px 1px);clip: rect(1px, 1px, 1px, 1px);height: 1px;margin: -1px;overflow: hidden;padding: 0;position: absolute;width: 1px;}#sk-container-id-5 div.sk-estimator {font-family: monospace;background-color: #f0f8ff;border: 1px dotted black;border-radius: 0.25em;box-sizing: border-box;margin-bottom: 0.5em;}#sk-container-id-5 div.sk-estimator:hover {background-color: #d4ebff;}#sk-container-id-5 div.sk-parallel-item::after {content: \"\";width: 100%;border-bottom: 1px solid gray;flex-grow: 1;}#sk-container-id-5 div.sk-label:hover label.sk-toggleable__label {background-color: #d4ebff;}#sk-container-id-5 div.sk-serial::before {content: \"\";position: absolute;border-left: 1px solid gray;box-sizing: border-box;top: 0;bottom: 0;left: 50%;z-index: 0;}#sk-container-id-5 div.sk-serial {display: flex;flex-direction: column;align-items: center;background-color: white;padding-right: 0.2em;padding-left: 0.2em;position: relative;}#sk-container-id-5 div.sk-item {position: relative;z-index: 1;}#sk-container-id-5 div.sk-parallel {display: flex;align-items: stretch;justify-content: center;background-color: white;position: relative;}#sk-container-id-5 div.sk-item::before, #sk-container-id-5 div.sk-parallel-item::before {content: \"\";position: absolute;border-left: 1px solid gray;box-sizing: border-box;top: 0;bottom: 0;left: 50%;z-index: -1;}#sk-container-id-5 div.sk-parallel-item {display: flex;flex-direction: column;z-index: 1;position: relative;background-color: white;}#sk-container-id-5 div.sk-parallel-item:first-child::after {align-self: flex-end;width: 50%;}#sk-container-id-5 div.sk-parallel-item:last-child::after {align-self: flex-start;width: 50%;}#sk-container-id-5 div.sk-parallel-item:only-child::after {width: 0;}#sk-container-id-5 div.sk-dashed-wrapped {border: 1px dashed gray;margin: 0 0.4em 0.5em 0.4em;box-sizing: border-box;padding-bottom: 0.4em;background-color: white;}#sk-container-id-5 div.sk-label label {font-family: monospace;font-weight: bold;display: inline-block;line-height: 1.2em;}#sk-container-id-5 div.sk-label-container {text-align: center;}#sk-container-id-5 div.sk-container {/* jupyter's `normalize.less` sets `[hidden] { display: none; }` but bootstrap.min.css set `[hidden] { display: none !important; }` so we also need the `!important` here to be able to override the default hidden behavior on the sphinx rendered scikit-learn.org. See: https://github.com/scikit-learn/scikit-learn/issues/21755 */display: inline-block !important;position: relative;}#sk-container-id-5 div.sk-text-repr-fallback {display: none;}</style><div id=\"sk-container-id-5\" class=\"sk-top-container\"><div class=\"sk-text-repr-fallback\"><pre>GradientBoostingRegressor(learning_rate=0.06685027987618178, max_depth=4,\n",
              "                          min_samples_leaf=5, min_samples_split=15,\n",
              "                          random_state=500)</pre><b>In a Jupyter environment, please rerun this cell to show the HTML representation or trust the notebook. <br />On GitHub, the HTML representation is unable to render, please try loading this page with nbviewer.org.</b></div><div class=\"sk-container\" hidden><div class=\"sk-item\"><div class=\"sk-estimator sk-toggleable\"><input class=\"sk-toggleable__control sk-hidden--visually\" id=\"sk-estimator-id-5\" type=\"checkbox\" checked><label for=\"sk-estimator-id-5\" class=\"sk-toggleable__label sk-toggleable__label-arrow\">GradientBoostingRegressor</label><div class=\"sk-toggleable__content\"><pre>GradientBoostingRegressor(learning_rate=0.06685027987618178, max_depth=4,\n",
              "                          min_samples_leaf=5, min_samples_split=15,\n",
              "                          random_state=500)</pre></div></div></div></div></div>"
            ]
          },
          "metadata": {},
          "execution_count": 28
        }
      ],
      "source": [
        "gbm_best = GradientBoostingRegressor(learning_rate=0.06685027987618178, max_depth=4,\n",
        "                          min_samples_leaf=5, min_samples_split=15,\n",
        "                          random_state=500)\n",
        "gbm_best.fit(X_train_scaled, y_train)"
      ]
    },
    {
      "cell_type": "code",
      "execution_count": null,
      "metadata": {
        "id": "cV2ZDKVH9pmL",
        "colab": {
          "base_uri": "https://localhost:8080/",
          "height": 499
        },
        "outputId": "6013a7d6-2928-4040-c505-fa79efb594f1"
      },
      "outputs": [
        {
          "output_type": "display_data",
          "data": {
            "text/plain": [
              "<Figure size 800x600 with 1 Axes>"
            ],
            "image/png": "[encoded data removed]"
          },
          "metadata": {}
        }
      ],
      "source": [
        "ftr_importances_values = gbm_best.feature_importances_\n",
        "ftr_importances = pd.Series(ftr_importances_values,index=X_train_scaled.columns  )\n",
        "ftr_top20 = ftr_importances.sort_values(ascending=False)\n",
        "\n",
        "plt.figure(figsize=(8,6))\n",
        "plt.title('Feature importances of GBM')\n",
        "sns.barplot(x=ftr_top20 , y = ftr_top20.index)\n",
        "plt.show()"
      ]
    },
    {
      "cell_type": "markdown",
      "metadata": {
        "id": "-y_TElX9spzh"
      },
      "source": [
        "**3. 성능개선 try1 : 동코드 drop**"
      ]
    },
    {
      "cell_type": "code",
      "execution_count": null,
      "metadata": {
        "id": "mUxnyAF_s0o8",
        "colab": {
          "base_uri": "https://localhost:8080/"
        },
        "outputId": "74089522-faa4-4e14-93fc-faaa36919f38"
      },
      "outputs": [
        {
          "output_type": "execute_result",
          "data": {
            "text/plain": [
              "6.721343884474318"
            ]
          },
          "metadata": {},
          "execution_count": 44
        }
      ],
      "source": [
        "# 파라미터 튜닝\n",
        "params = {'max_depth': range(2, 21, 2),\n",
        "          'min_samples_leaf' :range(5,21,5),\n",
        "          'min_samples_split': range(5,21,5),\n",
        "          'n_estimators': range(50, 251, 50), \n",
        "          'learning_rate': random.uniform(0.02, 0.1, 5),\n",
        "          'random_state': range(100, 2001, 200)         \n",
        "}\n",
        "\n",
        "model_gbm_rd_dr = RandomizedSearchCV(model_gbm, param_distributions=params, n_iter=50, cv=4, n_jobs=-1)\n",
        "\n",
        "model_gbm_rd_dr.fit(X_train_scaled_dr, y_train_dr)\n",
        "y_pred_gbm_rd_dr = model_gbm_rd_dr.best_estimator_.predict(X_tr_test_scaled_dr)\n",
        "\n",
        "MSE_gbm_rd_dr = mean_squared_error(y_tr_test_dr, y_pred_gbm_rd_dr) \n",
        "np.sqrt(MSE_gbm_rd_dr)"
      ]
    },
    {
      "cell_type": "code",
      "source": [
        "model_gbm_rd_dr.best_estimator_"
      ],
      "metadata": {
        "colab": {
          "base_uri": "https://localhost:8080/",
          "height": 109
        },
        "id": "mEOfcyxvsWAF",
        "outputId": "fa995e8f-57a4-4991-c37d-5e226b81f1d4"
      },
      "execution_count": null,
      "outputs": [
        {
          "output_type": "execute_result",
          "data": {
            "text/plain": [
              "GradientBoostingRegressor(learning_rate=0.06323899004932723, max_depth=6,\n",
              "                          min_samples_leaf=5, min_samples_split=5,\n",
              "                          random_state=700)"
            ],
            "text/html": [
              "<style>#sk-container-id-10 {color: black;background-color: white;}#sk-container-id-10 pre{padding: 0;}#sk-container-id-10 div.sk-toggleable {background-color: white;}#sk-container-id-10 label.sk-toggleable__label {cursor: pointer;display: block;width: 100%;margin-bottom: 0;padding: 0.3em;box-sizing: border-box;text-align: center;}#sk-container-id-10 label.sk-toggleable__label-arrow:before {content: \"▸\";float: left;margin-right: 0.25em;color: #696969;}#sk-container-id-10 label.sk-toggleable__label-arrow:hover:before {color: black;}#sk-container-id-10 div.sk-estimator:hover label.sk-toggleable__label-arrow:before {color: black;}#sk-container-id-10 div.sk-toggleable__content {max-height: 0;max-width: 0;overflow: hidden;text-align: left;background-color: #f0f8ff;}#sk-container-id-10 div.sk-toggleable__content pre {margin: 0.2em;color: black;border-radius: 0.25em;background-color: #f0f8ff;}#sk-container-id-10 input.sk-toggleable__control:checked~div.sk-toggleable__content {max-height: 200px;max-width: 100%;overflow: auto;}#sk-container-id-10 input.sk-toggleable__control:checked~label.sk-toggleable__label-arrow:before {content: \"▾\";}#sk-container-id-10 div.sk-estimator input.sk-toggleable__control:checked~label.sk-toggleable__label {background-color: #d4ebff;}#sk-container-id-10 div.sk-label input.sk-toggleable__control:checked~label.sk-toggleable__label {background-color: #d4ebff;}#sk-container-id-10 input.sk-hidden--visually {border: 0;clip: rect(1px 1px 1px 1px);clip: rect(1px, 1px, 1px, 1px);height: 1px;margin: -1px;overflow: hidden;padding: 0;position: absolute;width: 1px;}#sk-container-id-10 div.sk-estimator {font-family: monospace;background-color: #f0f8ff;border: 1px dotted black;border-radius: 0.25em;box-sizing: border-box;margin-bottom: 0.5em;}#sk-container-id-10 div.sk-estimator:hover {background-color: #d4ebff;}#sk-container-id-10 div.sk-parallel-item::after {content: \"\";width: 100%;border-bottom: 1px solid gray;flex-grow: 1;}#sk-container-id-10 div.sk-label:hover label.sk-toggleable__label {background-color: #d4ebff;}#sk-container-id-10 div.sk-serial::before {content: \"\";position: absolute;border-left: 1px solid gray;box-sizing: border-box;top: 0;bottom: 0;left: 50%;z-index: 0;}#sk-container-id-10 div.sk-serial {display: flex;flex-direction: column;align-items: center;background-color: white;padding-right: 0.2em;padding-left: 0.2em;position: relative;}#sk-container-id-10 div.sk-item {position: relative;z-index: 1;}#sk-container-id-10 div.sk-parallel {display: flex;align-items: stretch;justify-content: center;background-color: white;position: relative;}#sk-container-id-10 div.sk-item::before, #sk-container-id-10 div.sk-parallel-item::before {content: \"\";position: absolute;border-left: 1px solid gray;box-sizing: border-box;top: 0;bottom: 0;left: 50%;z-index: -1;}#sk-container-id-10 div.sk-parallel-item {display: flex;flex-direction: column;z-index: 1;position: relative;background-color: white;}#sk-container-id-10 div.sk-parallel-item:first-child::after {align-self: flex-end;width: 50%;}#sk-container-id-10 div.sk-parallel-item:last-child::after {align-self: flex-start;width: 50%;}#sk-container-id-10 div.sk-parallel-item:only-child::after {width: 0;}#sk-container-id-10 div.sk-dashed-wrapped {border: 1px dashed gray;margin: 0 0.4em 0.5em 0.4em;box-sizing: border-box;padding-bottom: 0.4em;background-color: white;}#sk-container-id-10 div.sk-label label {font-family: monospace;font-weight: bold;display: inline-block;line-height: 1.2em;}#sk-container-id-10 div.sk-label-container {text-align: center;}#sk-container-id-10 div.sk-container {/* jupyter's `normalize.less` sets `[hidden] { display: none; }` but bootstrap.min.css set `[hidden] { display: none !important; }` so we also need the `!important` here to be able to override the default hidden behavior on the sphinx rendered scikit-learn.org. See: https://github.com/scikit-learn/scikit-learn/issues/21755 */display: inline-block !important;position: relative;}#sk-container-id-10 div.sk-text-repr-fallback {display: none;}</style><div id=\"sk-container-id-10\" class=\"sk-top-container\"><div class=\"sk-text-repr-fallback\"><pre>GradientBoostingRegressor(learning_rate=0.06323899004932723, max_depth=6,\n",
              "                          min_samples_leaf=5, min_samples_split=5,\n",
              "                          random_state=700)</pre><b>In a Jupyter environment, please rerun this cell to show the HTML representation or trust the notebook. <br />On GitHub, the HTML representation is unable to render, please try loading this page with nbviewer.org.</b></div><div class=\"sk-container\" hidden><div class=\"sk-item\"><div class=\"sk-estimator sk-toggleable\"><input class=\"sk-toggleable__control sk-hidden--visually\" id=\"sk-estimator-id-10\" type=\"checkbox\" checked><label for=\"sk-estimator-id-10\" class=\"sk-toggleable__label sk-toggleable__label-arrow\">GradientBoostingRegressor</label><div class=\"sk-toggleable__content\"><pre>GradientBoostingRegressor(learning_rate=0.06323899004932723, max_depth=6,\n",
              "                          min_samples_leaf=5, min_samples_split=5,\n",
              "                          random_state=700)</pre></div></div></div></div></div>"
            ]
          },
          "metadata": {},
          "execution_count": 45
        }
      ]
    },
    {
      "cell_type": "code",
      "source": [
        "gbm_best_dr = GradientBoostingRegressor(learning_rate=0.06323899004932723, max_depth=6,\n",
        "                          min_samples_leaf=5, min_samples_split=5,\n",
        "                          random_state=700)\n",
        "gbm_best_dr.fit(X_train_scaled_dr, y_train_dr)"
      ],
      "metadata": {
        "colab": {
          "base_uri": "https://localhost:8080/",
          "height": 109
        },
        "id": "_oTdUNEOsWCY",
        "outputId": "f5bf3a62-4c29-49b6-92cf-9994760ca891"
      },
      "execution_count": null,
      "outputs": [
        {
          "output_type": "execute_result",
          "data": {
            "text/plain": [
              "GradientBoostingRegressor(learning_rate=0.06323899004932723, max_depth=6,\n",
              "                          min_samples_leaf=5, min_samples_split=5,\n",
              "                          random_state=700)"
            ],
            "text/html": [
              "<style>#sk-container-id-13 {color: black;background-color: white;}#sk-container-id-13 pre{padding: 0;}#sk-container-id-13 div.sk-toggleable {background-color: white;}#sk-container-id-13 label.sk-toggleable__label {cursor: pointer;display: block;width: 100%;margin-bottom: 0;padding: 0.3em;box-sizing: border-box;text-align: center;}#sk-container-id-13 label.sk-toggleable__label-arrow:before {content: \"▸\";float: left;margin-right: 0.25em;color: #696969;}#sk-container-id-13 label.sk-toggleable__label-arrow:hover:before {color: black;}#sk-container-id-13 div.sk-estimator:hover label.sk-toggleable__label-arrow:before {color: black;}#sk-container-id-13 div.sk-toggleable__content {max-height: 0;max-width: 0;overflow: hidden;text-align: left;background-color: #f0f8ff;}#sk-container-id-13 div.sk-toggleable__content pre {margin: 0.2em;color: black;border-radius: 0.25em;background-color: #f0f8ff;}#sk-container-id-13 input.sk-toggleable__control:checked~div.sk-toggleable__content {max-height: 200px;max-width: 100%;overflow: auto;}#sk-container-id-13 input.sk-toggleable__control:checked~label.sk-toggleable__label-arrow:before {content: \"▾\";}#sk-container-id-13 div.sk-estimator input.sk-toggleable__control:checked~label.sk-toggleable__label {background-color: #d4ebff;}#sk-container-id-13 div.sk-label input.sk-toggleable__control:checked~label.sk-toggleable__label {background-color: #d4ebff;}#sk-container-id-13 input.sk-hidden--visually {border: 0;clip: rect(1px 1px 1px 1px);clip: rect(1px, 1px, 1px, 1px);height: 1px;margin: -1px;overflow: hidden;padding: 0;position: absolute;width: 1px;}#sk-container-id-13 div.sk-estimator {font-family: monospace;background-color: #f0f8ff;border: 1px dotted black;border-radius: 0.25em;box-sizing: border-box;margin-bottom: 0.5em;}#sk-container-id-13 div.sk-estimator:hover {background-color: #d4ebff;}#sk-container-id-13 div.sk-parallel-item::after {content: \"\";width: 100%;border-bottom: 1px solid gray;flex-grow: 1;}#sk-container-id-13 div.sk-label:hover label.sk-toggleable__label {background-color: #d4ebff;}#sk-container-id-13 div.sk-serial::before {content: \"\";position: absolute;border-left: 1px solid gray;box-sizing: border-box;top: 0;bottom: 0;left: 50%;z-index: 0;}#sk-container-id-13 div.sk-serial {display: flex;flex-direction: column;align-items: center;background-color: white;padding-right: 0.2em;padding-left: 0.2em;position: relative;}#sk-container-id-13 div.sk-item {position: relative;z-index: 1;}#sk-container-id-13 div.sk-parallel {display: flex;align-items: stretch;justify-content: center;background-color: white;position: relative;}#sk-container-id-13 div.sk-item::before, #sk-container-id-13 div.sk-parallel-item::before {content: \"\";position: absolute;border-left: 1px solid gray;box-sizing: border-box;top: 0;bottom: 0;left: 50%;z-index: -1;}#sk-container-id-13 div.sk-parallel-item {display: flex;flex-direction: column;z-index: 1;position: relative;background-color: white;}#sk-container-id-13 div.sk-parallel-item:first-child::after {align-self: flex-end;width: 50%;}#sk-container-id-13 div.sk-parallel-item:last-child::after {align-self: flex-start;width: 50%;}#sk-container-id-13 div.sk-parallel-item:only-child::after {width: 0;}#sk-container-id-13 div.sk-dashed-wrapped {border: 1px dashed gray;margin: 0 0.4em 0.5em 0.4em;box-sizing: border-box;padding-bottom: 0.4em;background-color: white;}#sk-container-id-13 div.sk-label label {font-family: monospace;font-weight: bold;display: inline-block;line-height: 1.2em;}#sk-container-id-13 div.sk-label-container {text-align: center;}#sk-container-id-13 div.sk-container {/* jupyter's `normalize.less` sets `[hidden] { display: none; }` but bootstrap.min.css set `[hidden] { display: none !important; }` so we also need the `!important` here to be able to override the default hidden behavior on the sphinx rendered scikit-learn.org. See: https://github.com/scikit-learn/scikit-learn/issues/21755 */display: inline-block !important;position: relative;}#sk-container-id-13 div.sk-text-repr-fallback {display: none;}</style><div id=\"sk-container-id-13\" class=\"sk-top-container\"><div class=\"sk-text-repr-fallback\"><pre>GradientBoostingRegressor(learning_rate=0.06323899004932723, max_depth=6,\n",
              "                          min_samples_leaf=5, min_samples_split=5,\n",
              "                          random_state=700)</pre><b>In a Jupyter environment, please rerun this cell to show the HTML representation or trust the notebook. <br />On GitHub, the HTML representation is unable to render, please try loading this page with nbviewer.org.</b></div><div class=\"sk-container\" hidden><div class=\"sk-item\"><div class=\"sk-estimator sk-toggleable\"><input class=\"sk-toggleable__control sk-hidden--visually\" id=\"sk-estimator-id-13\" type=\"checkbox\" checked><label for=\"sk-estimator-id-13\" class=\"sk-toggleable__label sk-toggleable__label-arrow\">GradientBoostingRegressor</label><div class=\"sk-toggleable__content\"><pre>GradientBoostingRegressor(learning_rate=0.06323899004932723, max_depth=6,\n",
              "                          min_samples_leaf=5, min_samples_split=5,\n",
              "                          random_state=700)</pre></div></div></div></div></div>"
            ]
          },
          "metadata": {},
          "execution_count": 53
        }
      ]
    },
    {
      "cell_type": "code",
      "execution_count": null,
      "metadata": {
        "id": "RM9xXUF09-vS",
        "colab": {
          "base_uri": "https://localhost:8080/",
          "height": 498
        },
        "outputId": "54e10ca5-c011-4ceb-886c-5305fb180e2b"
      },
      "outputs": [
        {
          "output_type": "display_data",
          "data": {
            "text/plain": [
              "<Figure size 800x600 with 1 Axes>"
            ],
            "image/png": "[encoded data removed]"
          },
          "metadata": {}
        }
      ],
      "source": [
        "ftr_importances_values = gbm_best_dr.feature_importances_\n",
        "ftr_importances = pd.Series(ftr_importances_values,index=X_train_scaled_dr.columns  )\n",
        "ftr_top20 = ftr_importances.sort_values(ascending=False)\n",
        "\n",
        "plt.figure(figsize=(8,6))\n",
        "plt.title('Feature importances')\n",
        "sns.barplot(x=ftr_top20 , y = ftr_top20.index)\n",
        "plt.show()"
      ]
    },
    {
      "cell_type": "code",
      "source": [],
      "metadata": {
        "id": "2V3YTxcdTCbk"
      },
      "execution_count": null,
      "outputs": []
    },
    {
      "cell_type": "markdown",
      "metadata": {
        "id": "YNAIp7Bqu8m0"
      },
      "source": [
        "**4. 성능개선 try2 : 시코드 drop**"
      ]
    },
    {
      "cell_type": "code",
      "execution_count": null,
      "metadata": {
        "colab": {
          "base_uri": "https://localhost:8080/"
        },
        "id": "z5K7WFR8u8m1",
        "outputId": "3f24ae9d-e111-4977-8070-cff818356b4f"
      },
      "outputs": [
        {
          "output_type": "execute_result",
          "data": {
            "text/plain": [
              "6.355810219236102"
            ]
          },
          "metadata": {},
          "execution_count": 36
        }
      ],
      "source": [
        "# 파라미터 튜닝\n",
        "params = {'max_depth': range(2, 21, 2),\n",
        "          'min_samples_leaf' :range(5,21,5),\n",
        "          'min_samples_split': range(5,21,5),\n",
        "          'n_estimators': range(50, 251, 50), \n",
        "          'learning_rate': random.uniform(0.02, 0.1, 5),\n",
        "          'random_state': range(100, 2001, 200)         \n",
        "}\n",
        "\n",
        "model_gbm_rd_dr2 = RandomizedSearchCV(model_gbm, param_distributions=params, \n",
        "                                      n_iter=50, cv=4, n_jobs=-1)\n",
        "\n",
        "model_gbm_rd_dr2.fit(X_train_scaled_dr2, y_train_dr2)\n",
        "y_pred_gbm_rd_dr2 = model_gbm_rd_dr2.best_estimator_.predict(X_tr_test_scaled_dr2)\n",
        "\n",
        "MSE_gbm_rd_dr2 = mean_squared_error(y_tr_test_dr2, y_pred_gbm_rd_dr2) \n",
        "np.sqrt(MSE_gbm_rd_dr2)"
      ]
    },
    {
      "cell_type": "code",
      "source": [
        "model_gbm_rd_dr2.best_estimator_"
      ],
      "metadata": {
        "colab": {
          "base_uri": "https://localhost:8080/",
          "height": 109
        },
        "id": "eCYgEWZru8m1",
        "outputId": "515a148d-1fc7-425b-d99f-191db6eb3f8f"
      },
      "execution_count": null,
      "outputs": [
        {
          "output_type": "execute_result",
          "data": {
            "text/plain": [
              "GradientBoostingRegressor(learning_rate=0.020102741402104937, max_depth=10,\n",
              "                          min_samples_leaf=5, min_samples_split=20,\n",
              "                          n_estimators=150, random_state=100)"
            ],
            "text/html": [
              "<style>#sk-container-id-7 {color: black;background-color: white;}#sk-container-id-7 pre{padding: 0;}#sk-container-id-7 div.sk-toggleable {background-color: white;}#sk-container-id-7 label.sk-toggleable__label {cursor: pointer;display: block;width: 100%;margin-bottom: 0;padding: 0.3em;box-sizing: border-box;text-align: center;}#sk-container-id-7 label.sk-toggleable__label-arrow:before {content: \"▸\";float: left;margin-right: 0.25em;color: #696969;}#sk-container-id-7 label.sk-toggleable__label-arrow:hover:before {color: black;}#sk-container-id-7 div.sk-estimator:hover label.sk-toggleable__label-arrow:before {color: black;}#sk-container-id-7 div.sk-toggleable__content {max-height: 0;max-width: 0;overflow: hidden;text-align: left;background-color: #f0f8ff;}#sk-container-id-7 div.sk-toggleable__content pre {margin: 0.2em;color: black;border-radius: 0.25em;background-color: #f0f8ff;}#sk-container-id-7 input.sk-toggleable__control:checked~div.sk-toggleable__content {max-height: 200px;max-width: 100%;overflow: auto;}#sk-container-id-7 input.sk-toggleable__control:checked~label.sk-toggleable__label-arrow:before {content: \"▾\";}#sk-container-id-7 div.sk-estimator input.sk-toggleable__control:checked~label.sk-toggleable__label {background-color: #d4ebff;}#sk-container-id-7 div.sk-label input.sk-toggleable__control:checked~label.sk-toggleable__label {background-color: #d4ebff;}#sk-container-id-7 input.sk-hidden--visually {border: 0;clip: rect(1px 1px 1px 1px);clip: rect(1px, 1px, 1px, 1px);height: 1px;margin: -1px;overflow: hidden;padding: 0;position: absolute;width: 1px;}#sk-container-id-7 div.sk-estimator {font-family: monospace;background-color: #f0f8ff;border: 1px dotted black;border-radius: 0.25em;box-sizing: border-box;margin-bottom: 0.5em;}#sk-container-id-7 div.sk-estimator:hover {background-color: #d4ebff;}#sk-container-id-7 div.sk-parallel-item::after {content: \"\";width: 100%;border-bottom: 1px solid gray;flex-grow: 1;}#sk-container-id-7 div.sk-label:hover label.sk-toggleable__label {background-color: #d4ebff;}#sk-container-id-7 div.sk-serial::before {content: \"\";position: absolute;border-left: 1px solid gray;box-sizing: border-box;top: 0;bottom: 0;left: 50%;z-index: 0;}#sk-container-id-7 div.sk-serial {display: flex;flex-direction: column;align-items: center;background-color: white;padding-right: 0.2em;padding-left: 0.2em;position: relative;}#sk-container-id-7 div.sk-item {position: relative;z-index: 1;}#sk-container-id-7 div.sk-parallel {display: flex;align-items: stretch;justify-content: center;background-color: white;position: relative;}#sk-container-id-7 div.sk-item::before, #sk-container-id-7 div.sk-parallel-item::before {content: \"\";position: absolute;border-left: 1px solid gray;box-sizing: border-box;top: 0;bottom: 0;left: 50%;z-index: -1;}#sk-container-id-7 div.sk-parallel-item {display: flex;flex-direction: column;z-index: 1;position: relative;background-color: white;}#sk-container-id-7 div.sk-parallel-item:first-child::after {align-self: flex-end;width: 50%;}#sk-container-id-7 div.sk-parallel-item:last-child::after {align-self: flex-start;width: 50%;}#sk-container-id-7 div.sk-parallel-item:only-child::after {width: 0;}#sk-container-id-7 div.sk-dashed-wrapped {border: 1px dashed gray;margin: 0 0.4em 0.5em 0.4em;box-sizing: border-box;padding-bottom: 0.4em;background-color: white;}#sk-container-id-7 div.sk-label label {font-family: monospace;font-weight: bold;display: inline-block;line-height: 1.2em;}#sk-container-id-7 div.sk-label-container {text-align: center;}#sk-container-id-7 div.sk-container {/* jupyter's `normalize.less` sets `[hidden] { display: none; }` but bootstrap.min.css set `[hidden] { display: none !important; }` so we also need the `!important` here to be able to override the default hidden behavior on the sphinx rendered scikit-learn.org. See: https://github.com/scikit-learn/scikit-learn/issues/21755 */display: inline-block !important;position: relative;}#sk-container-id-7 div.sk-text-repr-fallback {display: none;}</style><div id=\"sk-container-id-7\" class=\"sk-top-container\"><div class=\"sk-text-repr-fallback\"><pre>GradientBoostingRegressor(learning_rate=0.020102741402104937, max_depth=10,\n",
              "                          min_samples_leaf=5, min_samples_split=20,\n",
              "                          n_estimators=150, random_state=100)</pre><b>In a Jupyter environment, please rerun this cell to show the HTML representation or trust the notebook. <br />On GitHub, the HTML representation is unable to render, please try loading this page with nbviewer.org.</b></div><div class=\"sk-container\" hidden><div class=\"sk-item\"><div class=\"sk-estimator sk-toggleable\"><input class=\"sk-toggleable__control sk-hidden--visually\" id=\"sk-estimator-id-7\" type=\"checkbox\" checked><label for=\"sk-estimator-id-7\" class=\"sk-toggleable__label sk-toggleable__label-arrow\">GradientBoostingRegressor</label><div class=\"sk-toggleable__content\"><pre>GradientBoostingRegressor(learning_rate=0.020102741402104937, max_depth=10,\n",
              "                          min_samples_leaf=5, min_samples_split=20,\n",
              "                          n_estimators=150, random_state=100)</pre></div></div></div></div></div>"
            ]
          },
          "metadata": {},
          "execution_count": 37
        }
      ]
    },
    {
      "cell_type": "code",
      "source": [
        "gbm_best_dr2 = GradientBoostingRegressor(learning_rate=0.020102741402104937, max_depth=10,\n",
        "                          min_samples_leaf=5, min_samples_split=20,\n",
        "                          n_estimators=150, random_state=100)\n",
        "gbm_best_dr2.fit(X_train_scaled_dr2, y_train_dr2)"
      ],
      "metadata": {
        "colab": {
          "base_uri": "https://localhost:8080/",
          "height": 109
        },
        "id": "oed3xO8Gu8m1",
        "outputId": "640c8798-0c18-43b8-c4b8-bf8c03f2e191"
      },
      "execution_count": null,
      "outputs": [
        {
          "output_type": "execute_result",
          "data": {
            "text/plain": [
              "GradientBoostingRegressor(learning_rate=0.020102741402104937, max_depth=10,\n",
              "                          min_samples_leaf=5, min_samples_split=20,\n",
              "                          n_estimators=150, random_state=100)"
            ],
            "text/html": [
              "<style>#sk-container-id-14 {color: black;background-color: white;}#sk-container-id-14 pre{padding: 0;}#sk-container-id-14 div.sk-toggleable {background-color: white;}#sk-container-id-14 label.sk-toggleable__label {cursor: pointer;display: block;width: 100%;margin-bottom: 0;padding: 0.3em;box-sizing: border-box;text-align: center;}#sk-container-id-14 label.sk-toggleable__label-arrow:before {content: \"▸\";float: left;margin-right: 0.25em;color: #696969;}#sk-container-id-14 label.sk-toggleable__label-arrow:hover:before {color: black;}#sk-container-id-14 div.sk-estimator:hover label.sk-toggleable__label-arrow:before {color: black;}#sk-container-id-14 div.sk-toggleable__content {max-height: 0;max-width: 0;overflow: hidden;text-align: left;background-color: #f0f8ff;}#sk-container-id-14 div.sk-toggleable__content pre {margin: 0.2em;color: black;border-radius: 0.25em;background-color: #f0f8ff;}#sk-container-id-14 input.sk-toggleable__control:checked~div.sk-toggleable__content {max-height: 200px;max-width: 100%;overflow: auto;}#sk-container-id-14 input.sk-toggleable__control:checked~label.sk-toggleable__label-arrow:before {content: \"▾\";}#sk-container-id-14 div.sk-estimator input.sk-toggleable__control:checked~label.sk-toggleable__label {background-color: #d4ebff;}#sk-container-id-14 div.sk-label input.sk-toggleable__control:checked~label.sk-toggleable__label {background-color: #d4ebff;}#sk-container-id-14 input.sk-hidden--visually {border: 0;clip: rect(1px 1px 1px 1px);clip: rect(1px, 1px, 1px, 1px);height: 1px;margin: -1px;overflow: hidden;padding: 0;position: absolute;width: 1px;}#sk-container-id-14 div.sk-estimator {font-family: monospace;background-color: #f0f8ff;border: 1px dotted black;border-radius: 0.25em;box-sizing: border-box;margin-bottom: 0.5em;}#sk-container-id-14 div.sk-estimator:hover {background-color: #d4ebff;}#sk-container-id-14 div.sk-parallel-item::after {content: \"\";width: 100%;border-bottom: 1px solid gray;flex-grow: 1;}#sk-container-id-14 div.sk-label:hover label.sk-toggleable__label {background-color: #d4ebff;}#sk-container-id-14 div.sk-serial::before {content: \"\";position: absolute;border-left: 1px solid gray;box-sizing: border-box;top: 0;bottom: 0;left: 50%;z-index: 0;}#sk-container-id-14 div.sk-serial {display: flex;flex-direction: column;align-items: center;background-color: white;padding-right: 0.2em;padding-left: 0.2em;position: relative;}#sk-container-id-14 div.sk-item {position: relative;z-index: 1;}#sk-container-id-14 div.sk-parallel {display: flex;align-items: stretch;justify-content: center;background-color: white;position: relative;}#sk-container-id-14 div.sk-item::before, #sk-container-id-14 div.sk-parallel-item::before {content: \"\";position: absolute;border-left: 1px solid gray;box-sizing: border-box;top: 0;bottom: 0;left: 50%;z-index: -1;}#sk-container-id-14 div.sk-parallel-item {display: flex;flex-direction: column;z-index: 1;position: relative;background-color: white;}#sk-container-id-14 div.sk-parallel-item:first-child::after {align-self: flex-end;width: 50%;}#sk-container-id-14 div.sk-parallel-item:last-child::after {align-self: flex-start;width: 50%;}#sk-container-id-14 div.sk-parallel-item:only-child::after {width: 0;}#sk-container-id-14 div.sk-dashed-wrapped {border: 1px dashed gray;margin: 0 0.4em 0.5em 0.4em;box-sizing: border-box;padding-bottom: 0.4em;background-color: white;}#sk-container-id-14 div.sk-label label {font-family: monospace;font-weight: bold;display: inline-block;line-height: 1.2em;}#sk-container-id-14 div.sk-label-container {text-align: center;}#sk-container-id-14 div.sk-container {/* jupyter's `normalize.less` sets `[hidden] { display: none; }` but bootstrap.min.css set `[hidden] { display: none !important; }` so we also need the `!important` here to be able to override the default hidden behavior on the sphinx rendered scikit-learn.org. See: https://github.com/scikit-learn/scikit-learn/issues/21755 */display: inline-block !important;position: relative;}#sk-container-id-14 div.sk-text-repr-fallback {display: none;}</style><div id=\"sk-container-id-14\" class=\"sk-top-container\"><div class=\"sk-text-repr-fallback\"><pre>GradientBoostingRegressor(learning_rate=0.020102741402104937, max_depth=10,\n",
              "                          min_samples_leaf=5, min_samples_split=20,\n",
              "                          n_estimators=150, random_state=100)</pre><b>In a Jupyter environment, please rerun this cell to show the HTML representation or trust the notebook. <br />On GitHub, the HTML representation is unable to render, please try loading this page with nbviewer.org.</b></div><div class=\"sk-container\" hidden><div class=\"sk-item\"><div class=\"sk-estimator sk-toggleable\"><input class=\"sk-toggleable__control sk-hidden--visually\" id=\"sk-estimator-id-14\" type=\"checkbox\" checked><label for=\"sk-estimator-id-14\" class=\"sk-toggleable__label sk-toggleable__label-arrow\">GradientBoostingRegressor</label><div class=\"sk-toggleable__content\"><pre>GradientBoostingRegressor(learning_rate=0.020102741402104937, max_depth=10,\n",
              "                          min_samples_leaf=5, min_samples_split=20,\n",
              "                          n_estimators=150, random_state=100)</pre></div></div></div></div></div>"
            ]
          },
          "metadata": {},
          "execution_count": 55
        }
      ]
    },
    {
      "cell_type": "code",
      "execution_count": null,
      "metadata": {
        "colab": {
          "base_uri": "https://localhost:8080/",
          "height": 499
        },
        "id": "Lp--IdPgu8m1",
        "outputId": "c4f8f09a-e35a-4ff7-b1dc-daaf1996f07a"
      },
      "outputs": [
        {
          "output_type": "display_data",
          "data": {
            "text/plain": [
              "<Figure size 800x600 with 1 Axes>"
            ],
            "image/png": "[encoded data removed]"
          },
          "metadata": {}
        }
      ],
      "source": [
        "ftr_importances_values = gbm_best_dr2.feature_importances_\n",
        "ftr_importances = pd.Series(ftr_importances_values,index=X_train_scaled_dr2.columns  )\n",
        "ftr_top20 = ftr_importances.sort_values(ascending=False)\n",
        "\n",
        "plt.figure(figsize=(8,6))\n",
        "plt.title('Feature importances')\n",
        "sns.barplot(x=ftr_top20 , y = ftr_top20.index)\n",
        "plt.show()"
      ]
    },
    {
      "cell_type": "markdown",
      "source": [
        "**5. 성능개선 try3 : 파라미터 범위 좁게**"
      ],
      "metadata": {
        "id": "fH0xLsW3IUiy"
      }
    },
    {
      "cell_type": "code",
      "source": [
        "# GradientBoostingRegressor(learning_rate=0.020102741402104937, max_depth=10,\n",
        "#                           min_samples_leaf=5, min_samples_split=20,\n",
        "#                           n_estimators=150, random_state=100)\n",
        "\n",
        "params = {'max_depth': range(8, 12, 4),\n",
        "          'min_samples_leaf' :range(3,7,4),\n",
        "          'min_samples_split': range(18,22,4),\n",
        "          'n_estimators': range(130,170, 10), \n",
        "          'learning_rate': random.uniform(0.019, 0.021, 4),\n",
        "          'random_state': range(80, 120, 10)         \n",
        "}\n",
        "\n",
        "model_gbm_rd_dr2_re = RandomizedSearchCV(model_gbm, param_distributions=params, \n",
        "                                         n_iter=50, cv=4, n_jobs=-1)\n",
        "\n",
        "model_gbm_rd_dr2_re.fit(X_train_scaled_dr2, y_train_dr2)\n",
        "y_pred_gbm_rd_dr2_re = model_gbm_rd_dr2_re.best_estimator_.predict(X_tr_test_scaled_dr2)\n",
        "\n",
        "MSE_gbm_rd_dr2_re = mean_squared_error(y_tr_test_dr2, y_pred_gbm_rd_dr2_re) \n",
        "np.sqrt(MSE_gbm_rd_dr2_re)"
      ],
      "metadata": {
        "colab": {
          "base_uri": "https://localhost:8080/"
        },
        "id": "gQsAjUVeIUKK",
        "outputId": "6a9fe1a8-a8ae-40ad-f7c3-08ec9e7c87af"
      },
      "execution_count": null,
      "outputs": [
        {
          "output_type": "execute_result",
          "data": {
            "text/plain": [
              "6.341007997131489"
            ]
          },
          "metadata": {},
          "execution_count": 103
        }
      ]
    },
    {
      "cell_type": "code",
      "source": [
        "model_gbm_rd_dr2_re.best_estimator_"
      ],
      "metadata": {
        "colab": {
          "base_uri": "https://localhost:8080/",
          "height": 109
        },
        "id": "EgqzD2wPJWqa",
        "outputId": "a2b5039a-9902-4e90-f7c7-5fb21d055c3f"
      },
      "execution_count": null,
      "outputs": [
        {
          "output_type": "execute_result",
          "data": {
            "text/plain": [
              "GradientBoostingRegressor(learning_rate=0.020793881418083547, max_depth=8,\n",
              "                          min_samples_leaf=3, min_samples_split=18,\n",
              "                          n_estimators=130, random_state=110)"
            ],
            "text/html": [
              "<style>#sk-container-id-24 {color: black;background-color: white;}#sk-container-id-24 pre{padding: 0;}#sk-container-id-24 div.sk-toggleable {background-color: white;}#sk-container-id-24 label.sk-toggleable__label {cursor: pointer;display: block;width: 100%;margin-bottom: 0;padding: 0.3em;box-sizing: border-box;text-align: center;}#sk-container-id-24 label.sk-toggleable__label-arrow:before {content: \"▸\";float: left;margin-right: 0.25em;color: #696969;}#sk-container-id-24 label.sk-toggleable__label-arrow:hover:before {color: black;}#sk-container-id-24 div.sk-estimator:hover label.sk-toggleable__label-arrow:before {color: black;}#sk-container-id-24 div.sk-toggleable__content {max-height: 0;max-width: 0;overflow: hidden;text-align: left;background-color: #f0f8ff;}#sk-container-id-24 div.sk-toggleable__content pre {margin: 0.2em;color: black;border-radius: 0.25em;background-color: #f0f8ff;}#sk-container-id-24 input.sk-toggleable__control:checked~div.sk-toggleable__content {max-height: 200px;max-width: 100%;overflow: auto;}#sk-container-id-24 input.sk-toggleable__control:checked~label.sk-toggleable__label-arrow:before {content: \"▾\";}#sk-container-id-24 div.sk-estimator input.sk-toggleable__control:checked~label.sk-toggleable__label {background-color: #d4ebff;}#sk-container-id-24 div.sk-label input.sk-toggleable__control:checked~label.sk-toggleable__label {background-color: #d4ebff;}#sk-container-id-24 input.sk-hidden--visually {border: 0;clip: rect(1px 1px 1px 1px);clip: rect(1px, 1px, 1px, 1px);height: 1px;margin: -1px;overflow: hidden;padding: 0;position: absolute;width: 1px;}#sk-container-id-24 div.sk-estimator {font-family: monospace;background-color: #f0f8ff;border: 1px dotted black;border-radius: 0.25em;box-sizing: border-box;margin-bottom: 0.5em;}#sk-container-id-24 div.sk-estimator:hover {background-color: #d4ebff;}#sk-container-id-24 div.sk-parallel-item::after {content: \"\";width: 100%;border-bottom: 1px solid gray;flex-grow: 1;}#sk-container-id-24 div.sk-label:hover label.sk-toggleable__label {background-color: #d4ebff;}#sk-container-id-24 div.sk-serial::before {content: \"\";position: absolute;border-left: 1px solid gray;box-sizing: border-box;top: 0;bottom: 0;left: 50%;z-index: 0;}#sk-container-id-24 div.sk-serial {display: flex;flex-direction: column;align-items: center;background-color: white;padding-right: 0.2em;padding-left: 0.2em;position: relative;}#sk-container-id-24 div.sk-item {position: relative;z-index: 1;}#sk-container-id-24 div.sk-parallel {display: flex;align-items: stretch;justify-content: center;background-color: white;position: relative;}#sk-container-id-24 div.sk-item::before, #sk-container-id-24 div.sk-parallel-item::before {content: \"\";position: absolute;border-left: 1px solid gray;box-sizing: border-box;top: 0;bottom: 0;left: 50%;z-index: -1;}#sk-container-id-24 div.sk-parallel-item {display: flex;flex-direction: column;z-index: 1;position: relative;background-color: white;}#sk-container-id-24 div.sk-parallel-item:first-child::after {align-self: flex-end;width: 50%;}#sk-container-id-24 div.sk-parallel-item:last-child::after {align-self: flex-start;width: 50%;}#sk-container-id-24 div.sk-parallel-item:only-child::after {width: 0;}#sk-container-id-24 div.sk-dashed-wrapped {border: 1px dashed gray;margin: 0 0.4em 0.5em 0.4em;box-sizing: border-box;padding-bottom: 0.4em;background-color: white;}#sk-container-id-24 div.sk-label label {font-family: monospace;font-weight: bold;display: inline-block;line-height: 1.2em;}#sk-container-id-24 div.sk-label-container {text-align: center;}#sk-container-id-24 div.sk-container {/* jupyter's `normalize.less` sets `[hidden] { display: none; }` but bootstrap.min.css set `[hidden] { display: none !important; }` so we also need the `!important` here to be able to override the default hidden behavior on the sphinx rendered scikit-learn.org. See: https://github.com/scikit-learn/scikit-learn/issues/21755 */display: inline-block !important;position: relative;}#sk-container-id-24 div.sk-text-repr-fallback {display: none;}</style><div id=\"sk-container-id-24\" class=\"sk-top-container\"><div class=\"sk-text-repr-fallback\"><pre>GradientBoostingRegressor(learning_rate=0.020793881418083547, max_depth=8,\n",
              "                          min_samples_leaf=3, min_samples_split=18,\n",
              "                          n_estimators=130, random_state=110)</pre><b>In a Jupyter environment, please rerun this cell to show the HTML representation or trust the notebook. <br />On GitHub, the HTML representation is unable to render, please try loading this page with nbviewer.org.</b></div><div class=\"sk-container\" hidden><div class=\"sk-item\"><div class=\"sk-estimator sk-toggleable\"><input class=\"sk-toggleable__control sk-hidden--visually\" id=\"sk-estimator-id-24\" type=\"checkbox\" checked><label for=\"sk-estimator-id-24\" class=\"sk-toggleable__label sk-toggleable__label-arrow\">GradientBoostingRegressor</label><div class=\"sk-toggleable__content\"><pre>GradientBoostingRegressor(learning_rate=0.020793881418083547, max_depth=8,\n",
              "                          min_samples_leaf=3, min_samples_split=18,\n",
              "                          n_estimators=130, random_state=110)</pre></div></div></div></div></div>"
            ]
          },
          "metadata": {},
          "execution_count": 104
        }
      ]
    },
    {
      "cell_type": "code",
      "source": [
        "gbm_best_dr2_re = GradientBoostingRegressor(learning_rate=0.02, max_depth=8,\n",
        "                          min_samples_leaf=3, min_samples_split=18,\n",
        "                          n_estimators=130, random_state=110)\n",
        "gbm_best_dr2_re.fit(X_train_scaled_dr2, y_train_dr2)"
      ],
      "metadata": {
        "colab": {
          "base_uri": "https://localhost:8080/",
          "height": 109
        },
        "id": "okk5B-ZtJatk",
        "outputId": "981bb13f-df45-4efb-e2c5-86d820412882"
      },
      "execution_count": null,
      "outputs": [
        {
          "output_type": "execute_result",
          "data": {
            "text/plain": [
              "GradientBoostingRegressor(learning_rate=0.02, max_depth=8, min_samples_leaf=3,\n",
              "                          min_samples_split=18, n_estimators=130,\n",
              "                          random_state=110)"
            ],
            "text/html": [
              "<style>#sk-container-id-27 {color: black;background-color: white;}#sk-container-id-27 pre{padding: 0;}#sk-container-id-27 div.sk-toggleable {background-color: white;}#sk-container-id-27 label.sk-toggleable__label {cursor: pointer;display: block;width: 100%;margin-bottom: 0;padding: 0.3em;box-sizing: border-box;text-align: center;}#sk-container-id-27 label.sk-toggleable__label-arrow:before {content: \"▸\";float: left;margin-right: 0.25em;color: #696969;}#sk-container-id-27 label.sk-toggleable__label-arrow:hover:before {color: black;}#sk-container-id-27 div.sk-estimator:hover label.sk-toggleable__label-arrow:before {color: black;}#sk-container-id-27 div.sk-toggleable__content {max-height: 0;max-width: 0;overflow: hidden;text-align: left;background-color: #f0f8ff;}#sk-container-id-27 div.sk-toggleable__content pre {margin: 0.2em;color: black;border-radius: 0.25em;background-color: #f0f8ff;}#sk-container-id-27 input.sk-toggleable__control:checked~div.sk-toggleable__content {max-height: 200px;max-width: 100%;overflow: auto;}#sk-container-id-27 input.sk-toggleable__control:checked~label.sk-toggleable__label-arrow:before {content: \"▾\";}#sk-container-id-27 div.sk-estimator input.sk-toggleable__control:checked~label.sk-toggleable__label {background-color: #d4ebff;}#sk-container-id-27 div.sk-label input.sk-toggleable__control:checked~label.sk-toggleable__label {background-color: #d4ebff;}#sk-container-id-27 input.sk-hidden--visually {border: 0;clip: rect(1px 1px 1px 1px);clip: rect(1px, 1px, 1px, 1px);height: 1px;margin: -1px;overflow: hidden;padding: 0;position: absolute;width: 1px;}#sk-container-id-27 div.sk-estimator {font-family: monospace;background-color: #f0f8ff;border: 1px dotted black;border-radius: 0.25em;box-sizing: border-box;margin-bottom: 0.5em;}#sk-container-id-27 div.sk-estimator:hover {background-color: #d4ebff;}#sk-container-id-27 div.sk-parallel-item::after {content: \"\";width: 100%;border-bottom: 1px solid gray;flex-grow: 1;}#sk-container-id-27 div.sk-label:hover label.sk-toggleable__label {background-color: #d4ebff;}#sk-container-id-27 div.sk-serial::before {content: \"\";position: absolute;border-left: 1px solid gray;box-sizing: border-box;top: 0;bottom: 0;left: 50%;z-index: 0;}#sk-container-id-27 div.sk-serial {display: flex;flex-direction: column;align-items: center;background-color: white;padding-right: 0.2em;padding-left: 0.2em;position: relative;}#sk-container-id-27 div.sk-item {position: relative;z-index: 1;}#sk-container-id-27 div.sk-parallel {display: flex;align-items: stretch;justify-content: center;background-color: white;position: relative;}#sk-container-id-27 div.sk-item::before, #sk-container-id-27 div.sk-parallel-item::before {content: \"\";position: absolute;border-left: 1px solid gray;box-sizing: border-box;top: 0;bottom: 0;left: 50%;z-index: -1;}#sk-container-id-27 div.sk-parallel-item {display: flex;flex-direction: column;z-index: 1;position: relative;background-color: white;}#sk-container-id-27 div.sk-parallel-item:first-child::after {align-self: flex-end;width: 50%;}#sk-container-id-27 div.sk-parallel-item:last-child::after {align-self: flex-start;width: 50%;}#sk-container-id-27 div.sk-parallel-item:only-child::after {width: 0;}#sk-container-id-27 div.sk-dashed-wrapped {border: 1px dashed gray;margin: 0 0.4em 0.5em 0.4em;box-sizing: border-box;padding-bottom: 0.4em;background-color: white;}#sk-container-id-27 div.sk-label label {font-family: monospace;font-weight: bold;display: inline-block;line-height: 1.2em;}#sk-container-id-27 div.sk-label-container {text-align: center;}#sk-container-id-27 div.sk-container {/* jupyter's `normalize.less` sets `[hidden] { display: none; }` but bootstrap.min.css set `[hidden] { display: none !important; }` so we also need the `!important` here to be able to override the default hidden behavior on the sphinx rendered scikit-learn.org. See: https://github.com/scikit-learn/scikit-learn/issues/21755 */display: inline-block !important;position: relative;}#sk-container-id-27 div.sk-text-repr-fallback {display: none;}</style><div id=\"sk-container-id-27\" class=\"sk-top-container\"><div class=\"sk-text-repr-fallback\"><pre>GradientBoostingRegressor(learning_rate=0.02, max_depth=8, min_samples_leaf=3,\n",
              "                          min_samples_split=18, n_estimators=130,\n",
              "                          random_state=110)</pre><b>In a Jupyter environment, please rerun this cell to show the HTML representation or trust the notebook. <br />On GitHub, the HTML representation is unable to render, please try loading this page with nbviewer.org.</b></div><div class=\"sk-container\" hidden><div class=\"sk-item\"><div class=\"sk-estimator sk-toggleable\"><input class=\"sk-toggleable__control sk-hidden--visually\" id=\"sk-estimator-id-27\" type=\"checkbox\" checked><label for=\"sk-estimator-id-27\" class=\"sk-toggleable__label sk-toggleable__label-arrow\">GradientBoostingRegressor</label><div class=\"sk-toggleable__content\"><pre>GradientBoostingRegressor(learning_rate=0.02, max_depth=8, min_samples_leaf=3,\n",
              "                          min_samples_split=18, n_estimators=130,\n",
              "                          random_state=110)</pre></div></div></div></div></div>"
            ]
          },
          "metadata": {},
          "execution_count": 114
        }
      ]
    },
    {
      "cell_type": "markdown",
      "metadata": {
        "id": "27_XeBXQdD9r"
      },
      "source": [
        "#### 3) LGBM"
      ]
    },
    {
      "cell_type": "markdown",
      "source": [
        "1. 기본모델 "
      ],
      "metadata": {
        "id": "U2l_S9hkvPAK"
      }
    },
    {
      "cell_type": "code",
      "execution_count": null,
      "metadata": {
        "id": "kt3PcJ8ydD9r"
      },
      "outputs": [],
      "source": [
        "from lightgbm import LGBMRegressor\n",
        "\n",
        "#모델 정의\n",
        "model_lgbm = LGBMRegressor()\n",
        "\n",
        "# 모델 학습\n",
        "model_lgbm.fit(X_train_scaled, y_train)\n",
        "\n",
        "# test 데이터 예측\n",
        "y_pred_lgbm = model_lgbm.predict(X_tr_test_scaled)"
      ]
    },
    {
      "cell_type": "code",
      "execution_count": null,
      "metadata": {
        "id": "XEt9rHNcdD9r",
        "colab": {
          "base_uri": "https://localhost:8080/"
        },
        "outputId": "becb67eb-441f-430a-e206-1ee412702f48"
      },
      "outputs": [
        {
          "output_type": "execute_result",
          "data": {
            "text/plain": [
              "6.4104618094844215"
            ]
          },
          "metadata": {},
          "execution_count": 57
        }
      ],
      "source": [
        "# RMSE 확인\n",
        "MSE_lgbm = mean_squared_error(y_tr_test, y_pred_lgbm) \n",
        "np.sqrt(MSE_lgbm)"
      ]
    },
    {
      "cell_type": "markdown",
      "source": [
        "2. 랜덤서치  "
      ],
      "metadata": {
        "id": "gyOQBgiZvR-9"
      }
    },
    {
      "cell_type": "code",
      "execution_count": null,
      "metadata": {
        "id": "FQT-RkWOZIlh",
        "colab": {
          "base_uri": "https://localhost:8080/"
        },
        "outputId": "187da52c-608e-491e-da93-70d8a6b5f776"
      },
      "outputs": [
        {
          "output_type": "execute_result",
          "data": {
            "text/plain": [
              "6.388405236710939"
            ]
          },
          "metadata": {},
          "execution_count": 39
        }
      ],
      "source": [
        "# 파라미터 튜닝\n",
        "params = {'max_depth': range(2, 21, 2),\n",
        "          'num_leaves': range(100, 201, 20),\n",
        "          'learning_rate': random.uniform(0.02, 0.1, 5),\n",
        "          'random_state': range(100, 2001, 200)          \n",
        "}\n",
        "\n",
        "model_lgbm_rd = RandomizedSearchCV(model_lgbm, param_distributions=params, n_iter=50, cv=4, n_jobs=-1)\n",
        "\n",
        "model_lgbm_rd.fit(X_train_scaled, y_train)\n",
        "y_pred_lgbm_rd = model_lgbm_rd.best_estimator_.predict(X_tr_test_scaled)\n",
        "\n",
        "MSE_lgbm_rd = mean_squared_error(y_tr_test, y_pred_lgbm_rd) \n",
        "np.sqrt(MSE_lgbm_rd)"
      ]
    },
    {
      "cell_type": "code",
      "execution_count": null,
      "metadata": {
        "id": "0qalH0Jg-NcI",
        "colab": {
          "base_uri": "https://localhost:8080/",
          "height": 91
        },
        "outputId": "41f1c407-8b0b-485e-a8b2-96f77798be18"
      },
      "outputs": [
        {
          "output_type": "execute_result",
          "data": {
            "text/plain": [
              "LGBMRegressor(learning_rate=0.07393570013401811, max_depth=6, num_leaves=180,\n",
              "              random_state=1100)"
            ],
            "text/html": [
              "<style>#sk-container-id-8 {color: black;background-color: white;}#sk-container-id-8 pre{padding: 0;}#sk-container-id-8 div.sk-toggleable {background-color: white;}#sk-container-id-8 label.sk-toggleable__label {cursor: pointer;display: block;width: 100%;margin-bottom: 0;padding: 0.3em;box-sizing: border-box;text-align: center;}#sk-container-id-8 label.sk-toggleable__label-arrow:before {content: \"▸\";float: left;margin-right: 0.25em;color: #696969;}#sk-container-id-8 label.sk-toggleable__label-arrow:hover:before {color: black;}#sk-container-id-8 div.sk-estimator:hover label.sk-toggleable__label-arrow:before {color: black;}#sk-container-id-8 div.sk-toggleable__content {max-height: 0;max-width: 0;overflow: hidden;text-align: left;background-color: #f0f8ff;}#sk-container-id-8 div.sk-toggleable__content pre {margin: 0.2em;color: black;border-radius: 0.25em;background-color: #f0f8ff;}#sk-container-id-8 input.sk-toggleable__control:checked~div.sk-toggleable__content {max-height: 200px;max-width: 100%;overflow: auto;}#sk-container-id-8 input.sk-toggleable__control:checked~label.sk-toggleable__label-arrow:before {content: \"▾\";}#sk-container-id-8 div.sk-estimator input.sk-toggleable__control:checked~label.sk-toggleable__label {background-color: #d4ebff;}#sk-container-id-8 div.sk-label input.sk-toggleable__control:checked~label.sk-toggleable__label {background-color: #d4ebff;}#sk-container-id-8 input.sk-hidden--visually {border: 0;clip: rect(1px 1px 1px 1px);clip: rect(1px, 1px, 1px, 1px);height: 1px;margin: -1px;overflow: hidden;padding: 0;position: absolute;width: 1px;}#sk-container-id-8 div.sk-estimator {font-family: monospace;background-color: #f0f8ff;border: 1px dotted black;border-radius: 0.25em;box-sizing: border-box;margin-bottom: 0.5em;}#sk-container-id-8 div.sk-estimator:hover {background-color: #d4ebff;}#sk-container-id-8 div.sk-parallel-item::after {content: \"\";width: 100%;border-bottom: 1px solid gray;flex-grow: 1;}#sk-container-id-8 div.sk-label:hover label.sk-toggleable__label {background-color: #d4ebff;}#sk-container-id-8 div.sk-serial::before {content: \"\";position: absolute;border-left: 1px solid gray;box-sizing: border-box;top: 0;bottom: 0;left: 50%;z-index: 0;}#sk-container-id-8 div.sk-serial {display: flex;flex-direction: column;align-items: center;background-color: white;padding-right: 0.2em;padding-left: 0.2em;position: relative;}#sk-container-id-8 div.sk-item {position: relative;z-index: 1;}#sk-container-id-8 div.sk-parallel {display: flex;align-items: stretch;justify-content: center;background-color: white;position: relative;}#sk-container-id-8 div.sk-item::before, #sk-container-id-8 div.sk-parallel-item::before {content: \"\";position: absolute;border-left: 1px solid gray;box-sizing: border-box;top: 0;bottom: 0;left: 50%;z-index: -1;}#sk-container-id-8 div.sk-parallel-item {display: flex;flex-direction: column;z-index: 1;position: relative;background-color: white;}#sk-container-id-8 div.sk-parallel-item:first-child::after {align-self: flex-end;width: 50%;}#sk-container-id-8 div.sk-parallel-item:last-child::after {align-self: flex-start;width: 50%;}#sk-container-id-8 div.sk-parallel-item:only-child::after {width: 0;}#sk-container-id-8 div.sk-dashed-wrapped {border: 1px dashed gray;margin: 0 0.4em 0.5em 0.4em;box-sizing: border-box;padding-bottom: 0.4em;background-color: white;}#sk-container-id-8 div.sk-label label {font-family: monospace;font-weight: bold;display: inline-block;line-height: 1.2em;}#sk-container-id-8 div.sk-label-container {text-align: center;}#sk-container-id-8 div.sk-container {/* jupyter's `normalize.less` sets `[hidden] { display: none; }` but bootstrap.min.css set `[hidden] { display: none !important; }` so we also need the `!important` here to be able to override the default hidden behavior on the sphinx rendered scikit-learn.org. See: https://github.com/scikit-learn/scikit-learn/issues/21755 */display: inline-block !important;position: relative;}#sk-container-id-8 div.sk-text-repr-fallback {display: none;}</style><div id=\"sk-container-id-8\" class=\"sk-top-container\"><div class=\"sk-text-repr-fallback\"><pre>LGBMRegressor(learning_rate=0.07393570013401811, max_depth=6, num_leaves=180,\n",
              "              random_state=1100)</pre><b>In a Jupyter environment, please rerun this cell to show the HTML representation or trust the notebook. <br />On GitHub, the HTML representation is unable to render, please try loading this page with nbviewer.org.</b></div><div class=\"sk-container\" hidden><div class=\"sk-item\"><div class=\"sk-estimator sk-toggleable\"><input class=\"sk-toggleable__control sk-hidden--visually\" id=\"sk-estimator-id-8\" type=\"checkbox\" checked><label for=\"sk-estimator-id-8\" class=\"sk-toggleable__label sk-toggleable__label-arrow\">LGBMRegressor</label><div class=\"sk-toggleable__content\"><pre>LGBMRegressor(learning_rate=0.07393570013401811, max_depth=6, num_leaves=180,\n",
              "              random_state=1100)</pre></div></div></div></div></div>"
            ]
          },
          "metadata": {},
          "execution_count": 40
        }
      ],
      "source": [
        "model_lgbm_rd.best_estimator_"
      ]
    },
    {
      "cell_type": "code",
      "execution_count": null,
      "metadata": {
        "id": "CBwXGhfA-Ner",
        "colab": {
          "base_uri": "https://localhost:8080/",
          "height": 91
        },
        "outputId": "db9ea26e-c533-42ea-a0fa-b4a747a86052"
      },
      "outputs": [
        {
          "output_type": "execute_result",
          "data": {
            "text/plain": [
              "LGBMRegressor(learning_rate=0.07393570013401811, max_depth=6, num_leaves=180,\n",
              "              random_state=1100)"
            ],
            "text/html": [
              "<style>#sk-container-id-15 {color: black;background-color: white;}#sk-container-id-15 pre{padding: 0;}#sk-container-id-15 div.sk-toggleable {background-color: white;}#sk-container-id-15 label.sk-toggleable__label {cursor: pointer;display: block;width: 100%;margin-bottom: 0;padding: 0.3em;box-sizing: border-box;text-align: center;}#sk-container-id-15 label.sk-toggleable__label-arrow:before {content: \"▸\";float: left;margin-right: 0.25em;color: #696969;}#sk-container-id-15 label.sk-toggleable__label-arrow:hover:before {color: black;}#sk-container-id-15 div.sk-estimator:hover label.sk-toggleable__label-arrow:before {color: black;}#sk-container-id-15 div.sk-toggleable__content {max-height: 0;max-width: 0;overflow: hidden;text-align: left;background-color: #f0f8ff;}#sk-container-id-15 div.sk-toggleable__content pre {margin: 0.2em;color: black;border-radius: 0.25em;background-color: #f0f8ff;}#sk-container-id-15 input.sk-toggleable__control:checked~div.sk-toggleable__content {max-height: 200px;max-width: 100%;overflow: auto;}#sk-container-id-15 input.sk-toggleable__control:checked~label.sk-toggleable__label-arrow:before {content: \"▾\";}#sk-container-id-15 div.sk-estimator input.sk-toggleable__control:checked~label.sk-toggleable__label {background-color: #d4ebff;}#sk-container-id-15 div.sk-label input.sk-toggleable__control:checked~label.sk-toggleable__label {background-color: #d4ebff;}#sk-container-id-15 input.sk-hidden--visually {border: 0;clip: rect(1px 1px 1px 1px);clip: rect(1px, 1px, 1px, 1px);height: 1px;margin: -1px;overflow: hidden;padding: 0;position: absolute;width: 1px;}#sk-container-id-15 div.sk-estimator {font-family: monospace;background-color: #f0f8ff;border: 1px dotted black;border-radius: 0.25em;box-sizing: border-box;margin-bottom: 0.5em;}#sk-container-id-15 div.sk-estimator:hover {background-color: #d4ebff;}#sk-container-id-15 div.sk-parallel-item::after {content: \"\";width: 100%;border-bottom: 1px solid gray;flex-grow: 1;}#sk-container-id-15 div.sk-label:hover label.sk-toggleable__label {background-color: #d4ebff;}#sk-container-id-15 div.sk-serial::before {content: \"\";position: absolute;border-left: 1px solid gray;box-sizing: border-box;top: 0;bottom: 0;left: 50%;z-index: 0;}#sk-container-id-15 div.sk-serial {display: flex;flex-direction: column;align-items: center;background-color: white;padding-right: 0.2em;padding-left: 0.2em;position: relative;}#sk-container-id-15 div.sk-item {position: relative;z-index: 1;}#sk-container-id-15 div.sk-parallel {display: flex;align-items: stretch;justify-content: center;background-color: white;position: relative;}#sk-container-id-15 div.sk-item::before, #sk-container-id-15 div.sk-parallel-item::before {content: \"\";position: absolute;border-left: 1px solid gray;box-sizing: border-box;top: 0;bottom: 0;left: 50%;z-index: -1;}#sk-container-id-15 div.sk-parallel-item {display: flex;flex-direction: column;z-index: 1;position: relative;background-color: white;}#sk-container-id-15 div.sk-parallel-item:first-child::after {align-self: flex-end;width: 50%;}#sk-container-id-15 div.sk-parallel-item:last-child::after {align-self: flex-start;width: 50%;}#sk-container-id-15 div.sk-parallel-item:only-child::after {width: 0;}#sk-container-id-15 div.sk-dashed-wrapped {border: 1px dashed gray;margin: 0 0.4em 0.5em 0.4em;box-sizing: border-box;padding-bottom: 0.4em;background-color: white;}#sk-container-id-15 div.sk-label label {font-family: monospace;font-weight: bold;display: inline-block;line-height: 1.2em;}#sk-container-id-15 div.sk-label-container {text-align: center;}#sk-container-id-15 div.sk-container {/* jupyter's `normalize.less` sets `[hidden] { display: none; }` but bootstrap.min.css set `[hidden] { display: none !important; }` so we also need the `!important` here to be able to override the default hidden behavior on the sphinx rendered scikit-learn.org. See: https://github.com/scikit-learn/scikit-learn/issues/21755 */display: inline-block !important;position: relative;}#sk-container-id-15 div.sk-text-repr-fallback {display: none;}</style><div id=\"sk-container-id-15\" class=\"sk-top-container\"><div class=\"sk-text-repr-fallback\"><pre>LGBMRegressor(learning_rate=0.07393570013401811, max_depth=6, num_leaves=180,\n",
              "              random_state=1100)</pre><b>In a Jupyter environment, please rerun this cell to show the HTML representation or trust the notebook. <br />On GitHub, the HTML representation is unable to render, please try loading this page with nbviewer.org.</b></div><div class=\"sk-container\" hidden><div class=\"sk-item\"><div class=\"sk-estimator sk-toggleable\"><input class=\"sk-toggleable__control sk-hidden--visually\" id=\"sk-estimator-id-15\" type=\"checkbox\" checked><label for=\"sk-estimator-id-15\" class=\"sk-toggleable__label sk-toggleable__label-arrow\">LGBMRegressor</label><div class=\"sk-toggleable__content\"><pre>LGBMRegressor(learning_rate=0.07393570013401811, max_depth=6, num_leaves=180,\n",
              "              random_state=1100)</pre></div></div></div></div></div>"
            ]
          },
          "metadata": {},
          "execution_count": 58
        }
      ],
      "source": [
        "lgbm_best = LGBMRegressor(learning_rate=0.07393570013401811, max_depth=6, num_leaves=180,\n",
        "              random_state=1100)\n",
        "lgbm_best.fit(X_train_scaled, y_train)"
      ]
    },
    {
      "cell_type": "code",
      "execution_count": null,
      "metadata": {
        "id": "TT-St1WY-MIV",
        "colab": {
          "base_uri": "https://localhost:8080/",
          "height": 499
        },
        "outputId": "082acb56-f13d-4bc0-8679-99887712da8a"
      },
      "outputs": [
        {
          "output_type": "display_data",
          "data": {
            "text/plain": [
              "<Figure size 800x600 with 1 Axes>"
            ],
            "image/png": "[encoded data removed]"
          },
          "metadata": {}
        }
      ],
      "source": [
        "ftr_importances_values = lgbm_best.feature_importances_\n",
        "ftr_importances = pd.Series(ftr_importances_values,index=X_train_scaled.columns  )\n",
        "ftr_top20 = ftr_importances.sort_values(ascending=False)\n",
        "\n",
        "plt.figure(figsize=(8,6))\n",
        "plt.title('Feature importances of LGBM')\n",
        "sns.barplot(x=ftr_top20 , y = ftr_top20.index)\n",
        "plt.show()"
      ]
    },
    {
      "cell_type": "markdown",
      "metadata": {
        "id": "Z3XY1XvVtBvB"
      },
      "source": [
        "**3. 성능개선 try1 : 동코드 drop**"
      ]
    },
    {
      "cell_type": "code",
      "execution_count": null,
      "metadata": {
        "id": "u_sG80vFtEqw",
        "colab": {
          "base_uri": "https://localhost:8080/"
        },
        "outputId": "7b079896-d8d6-4667-f47c-69eea09fc88c"
      },
      "outputs": [
        {
          "output_type": "execute_result",
          "data": {
            "text/plain": [
              "6.6562967400319835"
            ]
          },
          "metadata": {},
          "execution_count": 41
        }
      ],
      "source": [
        "params = {'max_depth': range(2, 21, 2),\n",
        "          'num_leaves': range(100, 201, 20),\n",
        "          'learning_rate': random.uniform(0.02, 0.1, 5),\n",
        "          'random_state': range(100, 2001, 200)          \n",
        "}\n",
        "\n",
        "model_lgbm_rd_dr = RandomizedSearchCV(model_lgbm, param_distributions=params, n_iter=50, cv=4, n_jobs=-1)\n",
        "\n",
        "model_lgbm_rd_dr.fit(X_train_scaled_dr, y_train_dr)\n",
        "y_pred_lgbm_rd_dr = model_lgbm_rd_dr.best_estimator_.predict(X_tr_test_scaled_dr)\n",
        "\n",
        "MSE_lgbm_rd_dr = mean_squared_error(y_tr_test_dr, y_pred_lgbm_rd_dr) \n",
        "np.sqrt(MSE_lgbm_rd_dr)"
      ]
    },
    {
      "cell_type": "code",
      "source": [
        "model_lgbm_rd_dr.best_estimator_"
      ],
      "metadata": {
        "colab": {
          "base_uri": "https://localhost:8080/",
          "height": 91
        },
        "id": "Z7c3TRqNtFUY",
        "outputId": "12a8b3a2-3977-4ab0-8dfe-2efb3f73681c"
      },
      "execution_count": null,
      "outputs": [
        {
          "output_type": "execute_result",
          "data": {
            "text/plain": [
              "LGBMRegressor(learning_rate=0.09684489598781318, max_depth=10, num_leaves=120,\n",
              "              random_state=1300)"
            ],
            "text/html": [
              "<style>#sk-container-id-9 {color: black;background-color: white;}#sk-container-id-9 pre{padding: 0;}#sk-container-id-9 div.sk-toggleable {background-color: white;}#sk-container-id-9 label.sk-toggleable__label {cursor: pointer;display: block;width: 100%;margin-bottom: 0;padding: 0.3em;box-sizing: border-box;text-align: center;}#sk-container-id-9 label.sk-toggleable__label-arrow:before {content: \"▸\";float: left;margin-right: 0.25em;color: #696969;}#sk-container-id-9 label.sk-toggleable__label-arrow:hover:before {color: black;}#sk-container-id-9 div.sk-estimator:hover label.sk-toggleable__label-arrow:before {color: black;}#sk-container-id-9 div.sk-toggleable__content {max-height: 0;max-width: 0;overflow: hidden;text-align: left;background-color: #f0f8ff;}#sk-container-id-9 div.sk-toggleable__content pre {margin: 0.2em;color: black;border-radius: 0.25em;background-color: #f0f8ff;}#sk-container-id-9 input.sk-toggleable__control:checked~div.sk-toggleable__content {max-height: 200px;max-width: 100%;overflow: auto;}#sk-container-id-9 input.sk-toggleable__control:checked~label.sk-toggleable__label-arrow:before {content: \"▾\";}#sk-container-id-9 div.sk-estimator input.sk-toggleable__control:checked~label.sk-toggleable__label {background-color: #d4ebff;}#sk-container-id-9 div.sk-label input.sk-toggleable__control:checked~label.sk-toggleable__label {background-color: #d4ebff;}#sk-container-id-9 input.sk-hidden--visually {border: 0;clip: rect(1px 1px 1px 1px);clip: rect(1px, 1px, 1px, 1px);height: 1px;margin: -1px;overflow: hidden;padding: 0;position: absolute;width: 1px;}#sk-container-id-9 div.sk-estimator {font-family: monospace;background-color: #f0f8ff;border: 1px dotted black;border-radius: 0.25em;box-sizing: border-box;margin-bottom: 0.5em;}#sk-container-id-9 div.sk-estimator:hover {background-color: #d4ebff;}#sk-container-id-9 div.sk-parallel-item::after {content: \"\";width: 100%;border-bottom: 1px solid gray;flex-grow: 1;}#sk-container-id-9 div.sk-label:hover label.sk-toggleable__label {background-color: #d4ebff;}#sk-container-id-9 div.sk-serial::before {content: \"\";position: absolute;border-left: 1px solid gray;box-sizing: border-box;top: 0;bottom: 0;left: 50%;z-index: 0;}#sk-container-id-9 div.sk-serial {display: flex;flex-direction: column;align-items: center;background-color: white;padding-right: 0.2em;padding-left: 0.2em;position: relative;}#sk-container-id-9 div.sk-item {position: relative;z-index: 1;}#sk-container-id-9 div.sk-parallel {display: flex;align-items: stretch;justify-content: center;background-color: white;position: relative;}#sk-container-id-9 div.sk-item::before, #sk-container-id-9 div.sk-parallel-item::before {content: \"\";position: absolute;border-left: 1px solid gray;box-sizing: border-box;top: 0;bottom: 0;left: 50%;z-index: -1;}#sk-container-id-9 div.sk-parallel-item {display: flex;flex-direction: column;z-index: 1;position: relative;background-color: white;}#sk-container-id-9 div.sk-parallel-item:first-child::after {align-self: flex-end;width: 50%;}#sk-container-id-9 div.sk-parallel-item:last-child::after {align-self: flex-start;width: 50%;}#sk-container-id-9 div.sk-parallel-item:only-child::after {width: 0;}#sk-container-id-9 div.sk-dashed-wrapped {border: 1px dashed gray;margin: 0 0.4em 0.5em 0.4em;box-sizing: border-box;padding-bottom: 0.4em;background-color: white;}#sk-container-id-9 div.sk-label label {font-family: monospace;font-weight: bold;display: inline-block;line-height: 1.2em;}#sk-container-id-9 div.sk-label-container {text-align: center;}#sk-container-id-9 div.sk-container {/* jupyter's `normalize.less` sets `[hidden] { display: none; }` but bootstrap.min.css set `[hidden] { display: none !important; }` so we also need the `!important` here to be able to override the default hidden behavior on the sphinx rendered scikit-learn.org. See: https://github.com/scikit-learn/scikit-learn/issues/21755 */display: inline-block !important;position: relative;}#sk-container-id-9 div.sk-text-repr-fallback {display: none;}</style><div id=\"sk-container-id-9\" class=\"sk-top-container\"><div class=\"sk-text-repr-fallback\"><pre>LGBMRegressor(learning_rate=0.09684489598781318, max_depth=10, num_leaves=120,\n",
              "              random_state=1300)</pre><b>In a Jupyter environment, please rerun this cell to show the HTML representation or trust the notebook. <br />On GitHub, the HTML representation is unable to render, please try loading this page with nbviewer.org.</b></div><div class=\"sk-container\" hidden><div class=\"sk-item\"><div class=\"sk-estimator sk-toggleable\"><input class=\"sk-toggleable__control sk-hidden--visually\" id=\"sk-estimator-id-9\" type=\"checkbox\" checked><label for=\"sk-estimator-id-9\" class=\"sk-toggleable__label sk-toggleable__label-arrow\">LGBMRegressor</label><div class=\"sk-toggleable__content\"><pre>LGBMRegressor(learning_rate=0.09684489598781318, max_depth=10, num_leaves=120,\n",
              "              random_state=1300)</pre></div></div></div></div></div>"
            ]
          },
          "metadata": {},
          "execution_count": 42
        }
      ]
    },
    {
      "cell_type": "code",
      "source": [
        "lgbm_best_dr = LGBMRegressor(learning_rate=0.09684489598781318, max_depth=10, num_leaves=120,\n",
        "              random_state=1300)\n",
        "lgbm_best_dr.fit(X_train_scaled_dr, y_train_dr)"
      ],
      "metadata": {
        "colab": {
          "base_uri": "https://localhost:8080/",
          "height": 91
        },
        "id": "D6z6ZENotFWy",
        "outputId": "7ae723c0-c751-4b48-beaa-9e60db01e668"
      },
      "execution_count": null,
      "outputs": [
        {
          "output_type": "execute_result",
          "data": {
            "text/plain": [
              "LGBMRegressor(learning_rate=0.09684489598781318, max_depth=10, num_leaves=120,\n",
              "              random_state=1300)"
            ],
            "text/html": [
              "<style>#sk-container-id-16 {color: black;background-color: white;}#sk-container-id-16 pre{padding: 0;}#sk-container-id-16 div.sk-toggleable {background-color: white;}#sk-container-id-16 label.sk-toggleable__label {cursor: pointer;display: block;width: 100%;margin-bottom: 0;padding: 0.3em;box-sizing: border-box;text-align: center;}#sk-container-id-16 label.sk-toggleable__label-arrow:before {content: \"▸\";float: left;margin-right: 0.25em;color: #696969;}#sk-container-id-16 label.sk-toggleable__label-arrow:hover:before {color: black;}#sk-container-id-16 div.sk-estimator:hover label.sk-toggleable__label-arrow:before {color: black;}#sk-container-id-16 div.sk-toggleable__content {max-height: 0;max-width: 0;overflow: hidden;text-align: left;background-color: #f0f8ff;}#sk-container-id-16 div.sk-toggleable__content pre {margin: 0.2em;color: black;border-radius: 0.25em;background-color: #f0f8ff;}#sk-container-id-16 input.sk-toggleable__control:checked~div.sk-toggleable__content {max-height: 200px;max-width: 100%;overflow: auto;}#sk-container-id-16 input.sk-toggleable__control:checked~label.sk-toggleable__label-arrow:before {content: \"▾\";}#sk-container-id-16 div.sk-estimator input.sk-toggleable__control:checked~label.sk-toggleable__label {background-color: #d4ebff;}#sk-container-id-16 div.sk-label input.sk-toggleable__control:checked~label.sk-toggleable__label {background-color: #d4ebff;}#sk-container-id-16 input.sk-hidden--visually {border: 0;clip: rect(1px 1px 1px 1px);clip: rect(1px, 1px, 1px, 1px);height: 1px;margin: -1px;overflow: hidden;padding: 0;position: absolute;width: 1px;}#sk-container-id-16 div.sk-estimator {font-family: monospace;background-color: #f0f8ff;border: 1px dotted black;border-radius: 0.25em;box-sizing: border-box;margin-bottom: 0.5em;}#sk-container-id-16 div.sk-estimator:hover {background-color: #d4ebff;}#sk-container-id-16 div.sk-parallel-item::after {content: \"\";width: 100%;border-bottom: 1px solid gray;flex-grow: 1;}#sk-container-id-16 div.sk-label:hover label.sk-toggleable__label {background-color: #d4ebff;}#sk-container-id-16 div.sk-serial::before {content: \"\";position: absolute;border-left: 1px solid gray;box-sizing: border-box;top: 0;bottom: 0;left: 50%;z-index: 0;}#sk-container-id-16 div.sk-serial {display: flex;flex-direction: column;align-items: center;background-color: white;padding-right: 0.2em;padding-left: 0.2em;position: relative;}#sk-container-id-16 div.sk-item {position: relative;z-index: 1;}#sk-container-id-16 div.sk-parallel {display: flex;align-items: stretch;justify-content: center;background-color: white;position: relative;}#sk-container-id-16 div.sk-item::before, #sk-container-id-16 div.sk-parallel-item::before {content: \"\";position: absolute;border-left: 1px solid gray;box-sizing: border-box;top: 0;bottom: 0;left: 50%;z-index: -1;}#sk-container-id-16 div.sk-parallel-item {display: flex;flex-direction: column;z-index: 1;position: relative;background-color: white;}#sk-container-id-16 div.sk-parallel-item:first-child::after {align-self: flex-end;width: 50%;}#sk-container-id-16 div.sk-parallel-item:last-child::after {align-self: flex-start;width: 50%;}#sk-container-id-16 div.sk-parallel-item:only-child::after {width: 0;}#sk-container-id-16 div.sk-dashed-wrapped {border: 1px dashed gray;margin: 0 0.4em 0.5em 0.4em;box-sizing: border-box;padding-bottom: 0.4em;background-color: white;}#sk-container-id-16 div.sk-label label {font-family: monospace;font-weight: bold;display: inline-block;line-height: 1.2em;}#sk-container-id-16 div.sk-label-container {text-align: center;}#sk-container-id-16 div.sk-container {/* jupyter's `normalize.less` sets `[hidden] { display: none; }` but bootstrap.min.css set `[hidden] { display: none !important; }` so we also need the `!important` here to be able to override the default hidden behavior on the sphinx rendered scikit-learn.org. See: https://github.com/scikit-learn/scikit-learn/issues/21755 */display: inline-block !important;position: relative;}#sk-container-id-16 div.sk-text-repr-fallback {display: none;}</style><div id=\"sk-container-id-16\" class=\"sk-top-container\"><div class=\"sk-text-repr-fallback\"><pre>LGBMRegressor(learning_rate=0.09684489598781318, max_depth=10, num_leaves=120,\n",
              "              random_state=1300)</pre><b>In a Jupyter environment, please rerun this cell to show the HTML representation or trust the notebook. <br />On GitHub, the HTML representation is unable to render, please try loading this page with nbviewer.org.</b></div><div class=\"sk-container\" hidden><div class=\"sk-item\"><div class=\"sk-estimator sk-toggleable\"><input class=\"sk-toggleable__control sk-hidden--visually\" id=\"sk-estimator-id-16\" type=\"checkbox\" checked><label for=\"sk-estimator-id-16\" class=\"sk-toggleable__label sk-toggleable__label-arrow\">LGBMRegressor</label><div class=\"sk-toggleable__content\"><pre>LGBMRegressor(learning_rate=0.09684489598781318, max_depth=10, num_leaves=120,\n",
              "              random_state=1300)</pre></div></div></div></div></div>"
            ]
          },
          "metadata": {},
          "execution_count": 61
        }
      ]
    },
    {
      "cell_type": "code",
      "execution_count": null,
      "metadata": {
        "id": "e_pKdT3D-Y8p",
        "colab": {
          "base_uri": "https://localhost:8080/",
          "height": 499
        },
        "outputId": "7d8276be-cbe4-4e8f-ab8a-963ac00a44ab"
      },
      "outputs": [
        {
          "output_type": "display_data",
          "data": {
            "text/plain": [
              "<Figure size 800x600 with 1 Axes>"
            ],
            "image/png": "[encoded data removed]"
          },
          "metadata": {}
        }
      ],
      "source": [
        "ftr_importances_values = lgbm_best_dr.feature_importances_\n",
        "ftr_importances = pd.Series(ftr_importances_values,index=X_train_scaled_dr.columns  )\n",
        "ftr_top20 = ftr_importances.sort_values(ascending=False)\n",
        "\n",
        "plt.figure(figsize=(8,6))\n",
        "plt.title('Feature importances')\n",
        "sns.barplot(x=ftr_top20 , y = ftr_top20.index)\n",
        "plt.show()"
      ]
    },
    {
      "cell_type": "markdown",
      "source": [
        "**4. 성능개선 try2 : 시코드 drop**"
      ],
      "metadata": {
        "id": "_j1aM020vWHg"
      }
    },
    {
      "cell_type": "code",
      "source": [
        "params = {'max_depth': range(2, 21, 2),\n",
        "          'num_leaves': range(100, 201, 20),\n",
        "          'learning_rate': random.uniform(0.02, 0.1, 5),\n",
        "          'random_state': range(100, 2001, 200)          \n",
        "}\n",
        "\n",
        "model_lgbm_rd_dr2 = RandomizedSearchCV(model_lgbm, param_distributions=params, n_iter=50, cv=4, n_jobs=-1)\n",
        "\n",
        "model_lgbm_rd_dr2.fit(X_train_scaled_dr2, y_train_dr2)\n",
        "y_pred_lgbm_rd_dr2 = model_lgbm_rd_dr2.best_estimator_.predict(X_tr_test_scaled_dr2)\n",
        "\n",
        "MSE_lgbm_rd_dr2 = mean_squared_error(y_tr_test_dr2, y_pred_lgbm_rd_dr2) \n",
        "np.sqrt(MSE_lgbm_rd_dr2)"
      ],
      "metadata": {
        "colab": {
          "base_uri": "https://localhost:8080/"
        },
        "id": "L2AKYYv_xcPf",
        "outputId": "ea2a26e8-1d63-4484-e44b-2b3130683869"
      },
      "execution_count": null,
      "outputs": [
        {
          "output_type": "execute_result",
          "data": {
            "text/plain": [
              "6.426987916583144"
            ]
          },
          "metadata": {},
          "execution_count": 46
        }
      ]
    },
    {
      "cell_type": "code",
      "source": [
        "model_lgbm_rd_dr2.best_estimator_"
      ],
      "metadata": {
        "colab": {
          "base_uri": "https://localhost:8080/",
          "height": 91
        },
        "id": "hrgFh0KyvZaq",
        "outputId": "a1c9e36d-b1ca-4243-8f0e-dff47090e7c8"
      },
      "execution_count": null,
      "outputs": [
        {
          "output_type": "execute_result",
          "data": {
            "text/plain": [
              "LGBMRegressor(learning_rate=0.052124971943112636, max_depth=6, num_leaves=200,\n",
              "              random_state=1100)"
            ],
            "text/html": [
              "<style>#sk-container-id-11 {color: black;background-color: white;}#sk-container-id-11 pre{padding: 0;}#sk-container-id-11 div.sk-toggleable {background-color: white;}#sk-container-id-11 label.sk-toggleable__label {cursor: pointer;display: block;width: 100%;margin-bottom: 0;padding: 0.3em;box-sizing: border-box;text-align: center;}#sk-container-id-11 label.sk-toggleable__label-arrow:before {content: \"▸\";float: left;margin-right: 0.25em;color: #696969;}#sk-container-id-11 label.sk-toggleable__label-arrow:hover:before {color: black;}#sk-container-id-11 div.sk-estimator:hover label.sk-toggleable__label-arrow:before {color: black;}#sk-container-id-11 div.sk-toggleable__content {max-height: 0;max-width: 0;overflow: hidden;text-align: left;background-color: #f0f8ff;}#sk-container-id-11 div.sk-toggleable__content pre {margin: 0.2em;color: black;border-radius: 0.25em;background-color: #f0f8ff;}#sk-container-id-11 input.sk-toggleable__control:checked~div.sk-toggleable__content {max-height: 200px;max-width: 100%;overflow: auto;}#sk-container-id-11 input.sk-toggleable__control:checked~label.sk-toggleable__label-arrow:before {content: \"▾\";}#sk-container-id-11 div.sk-estimator input.sk-toggleable__control:checked~label.sk-toggleable__label {background-color: #d4ebff;}#sk-container-id-11 div.sk-label input.sk-toggleable__control:checked~label.sk-toggleable__label {background-color: #d4ebff;}#sk-container-id-11 input.sk-hidden--visually {border: 0;clip: rect(1px 1px 1px 1px);clip: rect(1px, 1px, 1px, 1px);height: 1px;margin: -1px;overflow: hidden;padding: 0;position: absolute;width: 1px;}#sk-container-id-11 div.sk-estimator {font-family: monospace;background-color: #f0f8ff;border: 1px dotted black;border-radius: 0.25em;box-sizing: border-box;margin-bottom: 0.5em;}#sk-container-id-11 div.sk-estimator:hover {background-color: #d4ebff;}#sk-container-id-11 div.sk-parallel-item::after {content: \"\";width: 100%;border-bottom: 1px solid gray;flex-grow: 1;}#sk-container-id-11 div.sk-label:hover label.sk-toggleable__label {background-color: #d4ebff;}#sk-container-id-11 div.sk-serial::before {content: \"\";position: absolute;border-left: 1px solid gray;box-sizing: border-box;top: 0;bottom: 0;left: 50%;z-index: 0;}#sk-container-id-11 div.sk-serial {display: flex;flex-direction: column;align-items: center;background-color: white;padding-right: 0.2em;padding-left: 0.2em;position: relative;}#sk-container-id-11 div.sk-item {position: relative;z-index: 1;}#sk-container-id-11 div.sk-parallel {display: flex;align-items: stretch;justify-content: center;background-color: white;position: relative;}#sk-container-id-11 div.sk-item::before, #sk-container-id-11 div.sk-parallel-item::before {content: \"\";position: absolute;border-left: 1px solid gray;box-sizing: border-box;top: 0;bottom: 0;left: 50%;z-index: -1;}#sk-container-id-11 div.sk-parallel-item {display: flex;flex-direction: column;z-index: 1;position: relative;background-color: white;}#sk-container-id-11 div.sk-parallel-item:first-child::after {align-self: flex-end;width: 50%;}#sk-container-id-11 div.sk-parallel-item:last-child::after {align-self: flex-start;width: 50%;}#sk-container-id-11 div.sk-parallel-item:only-child::after {width: 0;}#sk-container-id-11 div.sk-dashed-wrapped {border: 1px dashed gray;margin: 0 0.4em 0.5em 0.4em;box-sizing: border-box;padding-bottom: 0.4em;background-color: white;}#sk-container-id-11 div.sk-label label {font-family: monospace;font-weight: bold;display: inline-block;line-height: 1.2em;}#sk-container-id-11 div.sk-label-container {text-align: center;}#sk-container-id-11 div.sk-container {/* jupyter's `normalize.less` sets `[hidden] { display: none; }` but bootstrap.min.css set `[hidden] { display: none !important; }` so we also need the `!important` here to be able to override the default hidden behavior on the sphinx rendered scikit-learn.org. See: https://github.com/scikit-learn/scikit-learn/issues/21755 */display: inline-block !important;position: relative;}#sk-container-id-11 div.sk-text-repr-fallback {display: none;}</style><div id=\"sk-container-id-11\" class=\"sk-top-container\"><div class=\"sk-text-repr-fallback\"><pre>LGBMRegressor(learning_rate=0.052124971943112636, max_depth=6, num_leaves=200,\n",
              "              random_state=1100)</pre><b>In a Jupyter environment, please rerun this cell to show the HTML representation or trust the notebook. <br />On GitHub, the HTML representation is unable to render, please try loading this page with nbviewer.org.</b></div><div class=\"sk-container\" hidden><div class=\"sk-item\"><div class=\"sk-estimator sk-toggleable\"><input class=\"sk-toggleable__control sk-hidden--visually\" id=\"sk-estimator-id-11\" type=\"checkbox\" checked><label for=\"sk-estimator-id-11\" class=\"sk-toggleable__label sk-toggleable__label-arrow\">LGBMRegressor</label><div class=\"sk-toggleable__content\"><pre>LGBMRegressor(learning_rate=0.052124971943112636, max_depth=6, num_leaves=200,\n",
              "              random_state=1100)</pre></div></div></div></div></div>"
            ]
          },
          "metadata": {},
          "execution_count": 47
        }
      ]
    },
    {
      "cell_type": "code",
      "source": [
        "lgbm_best_dr2 = LGBMRegressor(learning_rate=0.052124971943112636, max_depth=6, num_leaves=200,\n",
        "              random_state=1100)\n",
        "lgbm_best_dr2.fit(X_train_scaled_dr, y_train_dr)"
      ],
      "metadata": {
        "colab": {
          "base_uri": "https://localhost:8080/",
          "height": 91
        },
        "id": "u5WGeRavvZaq",
        "outputId": "83eb9ca5-d9f2-4929-dab4-08617edcc5df"
      },
      "execution_count": null,
      "outputs": [
        {
          "output_type": "execute_result",
          "data": {
            "text/plain": [
              "LGBMRegressor(learning_rate=0.052124971943112636, max_depth=6, num_leaves=200,\n",
              "              random_state=1100)"
            ],
            "text/html": [
              "<style>#sk-container-id-21 {color: black;background-color: white;}#sk-container-id-21 pre{padding: 0;}#sk-container-id-21 div.sk-toggleable {background-color: white;}#sk-container-id-21 label.sk-toggleable__label {cursor: pointer;display: block;width: 100%;margin-bottom: 0;padding: 0.3em;box-sizing: border-box;text-align: center;}#sk-container-id-21 label.sk-toggleable__label-arrow:before {content: \"▸\";float: left;margin-right: 0.25em;color: #696969;}#sk-container-id-21 label.sk-toggleable__label-arrow:hover:before {color: black;}#sk-container-id-21 div.sk-estimator:hover label.sk-toggleable__label-arrow:before {color: black;}#sk-container-id-21 div.sk-toggleable__content {max-height: 0;max-width: 0;overflow: hidden;text-align: left;background-color: #f0f8ff;}#sk-container-id-21 div.sk-toggleable__content pre {margin: 0.2em;color: black;border-radius: 0.25em;background-color: #f0f8ff;}#sk-container-id-21 input.sk-toggleable__control:checked~div.sk-toggleable__content {max-height: 200px;max-width: 100%;overflow: auto;}#sk-container-id-21 input.sk-toggleable__control:checked~label.sk-toggleable__label-arrow:before {content: \"▾\";}#sk-container-id-21 div.sk-estimator input.sk-toggleable__control:checked~label.sk-toggleable__label {background-color: #d4ebff;}#sk-container-id-21 div.sk-label input.sk-toggleable__control:checked~label.sk-toggleable__label {background-color: #d4ebff;}#sk-container-id-21 input.sk-hidden--visually {border: 0;clip: rect(1px 1px 1px 1px);clip: rect(1px, 1px, 1px, 1px);height: 1px;margin: -1px;overflow: hidden;padding: 0;position: absolute;width: 1px;}#sk-container-id-21 div.sk-estimator {font-family: monospace;background-color: #f0f8ff;border: 1px dotted black;border-radius: 0.25em;box-sizing: border-box;margin-bottom: 0.5em;}#sk-container-id-21 div.sk-estimator:hover {background-color: #d4ebff;}#sk-container-id-21 div.sk-parallel-item::after {content: \"\";width: 100%;border-bottom: 1px solid gray;flex-grow: 1;}#sk-container-id-21 div.sk-label:hover label.sk-toggleable__label {background-color: #d4ebff;}#sk-container-id-21 div.sk-serial::before {content: \"\";position: absolute;border-left: 1px solid gray;box-sizing: border-box;top: 0;bottom: 0;left: 50%;z-index: 0;}#sk-container-id-21 div.sk-serial {display: flex;flex-direction: column;align-items: center;background-color: white;padding-right: 0.2em;padding-left: 0.2em;position: relative;}#sk-container-id-21 div.sk-item {position: relative;z-index: 1;}#sk-container-id-21 div.sk-parallel {display: flex;align-items: stretch;justify-content: center;background-color: white;position: relative;}#sk-container-id-21 div.sk-item::before, #sk-container-id-21 div.sk-parallel-item::before {content: \"\";position: absolute;border-left: 1px solid gray;box-sizing: border-box;top: 0;bottom: 0;left: 50%;z-index: -1;}#sk-container-id-21 div.sk-parallel-item {display: flex;flex-direction: column;z-index: 1;position: relative;background-color: white;}#sk-container-id-21 div.sk-parallel-item:first-child::after {align-self: flex-end;width: 50%;}#sk-container-id-21 div.sk-parallel-item:last-child::after {align-self: flex-start;width: 50%;}#sk-container-id-21 div.sk-parallel-item:only-child::after {width: 0;}#sk-container-id-21 div.sk-dashed-wrapped {border: 1px dashed gray;margin: 0 0.4em 0.5em 0.4em;box-sizing: border-box;padding-bottom: 0.4em;background-color: white;}#sk-container-id-21 div.sk-label label {font-family: monospace;font-weight: bold;display: inline-block;line-height: 1.2em;}#sk-container-id-21 div.sk-label-container {text-align: center;}#sk-container-id-21 div.sk-container {/* jupyter's `normalize.less` sets `[hidden] { display: none; }` but bootstrap.min.css set `[hidden] { display: none !important; }` so we also need the `!important` here to be able to override the default hidden behavior on the sphinx rendered scikit-learn.org. See: https://github.com/scikit-learn/scikit-learn/issues/21755 */display: inline-block !important;position: relative;}#sk-container-id-21 div.sk-text-repr-fallback {display: none;}</style><div id=\"sk-container-id-21\" class=\"sk-top-container\"><div class=\"sk-text-repr-fallback\"><pre>LGBMRegressor(learning_rate=0.052124971943112636, max_depth=6, num_leaves=200,\n",
              "              random_state=1100)</pre><b>In a Jupyter environment, please rerun this cell to show the HTML representation or trust the notebook. <br />On GitHub, the HTML representation is unable to render, please try loading this page with nbviewer.org.</b></div><div class=\"sk-container\" hidden><div class=\"sk-item\"><div class=\"sk-estimator sk-toggleable\"><input class=\"sk-toggleable__control sk-hidden--visually\" id=\"sk-estimator-id-21\" type=\"checkbox\" checked><label for=\"sk-estimator-id-21\" class=\"sk-toggleable__label sk-toggleable__label-arrow\">LGBMRegressor</label><div class=\"sk-toggleable__content\"><pre>LGBMRegressor(learning_rate=0.052124971943112636, max_depth=6, num_leaves=200,\n",
              "              random_state=1100)</pre></div></div></div></div></div>"
            ]
          },
          "metadata": {},
          "execution_count": 75
        }
      ]
    },
    {
      "cell_type": "code",
      "execution_count": null,
      "metadata": {
        "colab": {
          "base_uri": "https://localhost:8080/",
          "height": 499
        },
        "id": "m69nkSjYvZaq",
        "outputId": "6d9d1f8f-425b-4048-98c9-cc685ed7dcb6"
      },
      "outputs": [
        {
          "output_type": "display_data",
          "data": {
            "text/plain": [
              "<Figure size 800x600 with 1 Axes>"
            ],
            "image/png": "[encoded data removed]"
          },
          "metadata": {}
        }
      ],
      "source": [
        "ftr_importances_values = lgbm_best_dr2.feature_importances_\n",
        "ftr_importances = pd.Series(ftr_importances_values,index=X_train_scaled_dr2.columns  )\n",
        "ftr_top20 = ftr_importances.sort_values(ascending=False)\n",
        "\n",
        "plt.figure(figsize=(8,6))\n",
        "plt.title('Feature importances')\n",
        "sns.barplot(x=ftr_top20 , y = ftr_top20.index)\n",
        "plt.show()"
      ]
    },
    {
      "cell_type": "markdown",
      "metadata": {
        "id": "gGuxEj9PdD9r"
      },
      "source": [
        "#### 4) XGBoost"
      ]
    },
    {
      "cell_type": "markdown",
      "source": [
        "1. 기본모델 "
      ],
      "metadata": {
        "id": "EMzKEHG6va8t"
      }
    },
    {
      "cell_type": "code",
      "execution_count": null,
      "metadata": {
        "id": "J00ARpfVdD9r"
      },
      "outputs": [],
      "source": [
        "from xgboost import XGBRegressor\n",
        "\n",
        "#모델 정의\n",
        "model_xgb = XGBRegressor()\n",
        "\n",
        "# 모델 학습\n",
        "model_xgb.fit(X_train_scaled, y_train)\n",
        "\n",
        "# test 데이터 예측\n",
        "y_pred_xgb = model_xgb.predict(X_tr_test_scaled)"
      ]
    },
    {
      "cell_type": "code",
      "execution_count": null,
      "metadata": {
        "id": "47juaz7DdD9s",
        "colab": {
          "base_uri": "https://localhost:8080/"
        },
        "outputId": "f31bf5b1-eb35-4d3a-b300-319c71ce2d4e"
      },
      "outputs": [
        {
          "output_type": "execute_result",
          "data": {
            "text/plain": [
              "6.466819792344258"
            ]
          },
          "metadata": {},
          "execution_count": 67
        }
      ],
      "source": [
        "# RMSE 확인\n",
        "MSE_xgb = mean_squared_error(y_tr_test, y_pred_xgb) \n",
        "np.sqrt(MSE_xgb)"
      ]
    },
    {
      "cell_type": "markdown",
      "source": [
        "2. 랜덤서치  "
      ],
      "metadata": {
        "id": "-Xwbie-1vccQ"
      }
    },
    {
      "cell_type": "code",
      "execution_count": null,
      "metadata": {
        "colab": {
          "background_save": true
        },
        "id": "zwvt1TMKZLTG",
        "outputId": "0cb7df9a-2a0d-48cc-db53-559dd8b26aca"
      },
      "outputs": [
        {
          "data": {
            "text/plain": [
              "6.358337366841435"
            ]
          },
          "execution_count": 41,
          "metadata": {},
          "output_type": "execute_result"
        }
      ],
      "source": [
        "# 파라미터 튜닝\n",
        "params = {'max_depth': range(2, 21, 2),\n",
        "          'subsample': random.uniform(0.4, 1, 5),\n",
        "          'n_estimators': range(50, 251, 50), \n",
        "          'learning_rate': random.uniform(0.02, 0.1, 5),\n",
        "          'random_state': range(100, 2001, 200)          \n",
        "}\n",
        "\n",
        "model_xgb_rd = RandomizedSearchCV(model_xgb, param_distributions=params, n_iter=50, cv=4, n_jobs=-1)\n",
        "\n",
        "model_xgb_rd.fit(X_train_scaled, y_train)\n",
        "y_pred_xgb_rd = model_xgb_rd.best_estimator_.predict(X_tr_test_scaled)\n",
        "\n",
        "MSE_xgb_rd = mean_squared_error(y_tr_test, y_pred_xgb_rd) \n",
        "np.sqrt(MSE_xgb_rd)"
      ]
    },
    {
      "cell_type": "code",
      "execution_count": null,
      "metadata": {
        "colab": {
          "background_save": true
        },
        "id": "I_eVhVUXizQz",
        "outputId": "1e30ae5c-a8f5-4b5c-91eb-712a3ccd6f13"
      },
      "outputs": [
        {
          "data": {
            "text/html": [
              "<style>#sk-container-id-6 {color: black;background-color: white;}#sk-container-id-6 pre{padding: 0;}#sk-container-id-6 div.sk-toggleable {background-color: white;}#sk-container-id-6 label.sk-toggleable__label {cursor: pointer;display: block;width: 100%;margin-bottom: 0;padding: 0.3em;box-sizing: border-box;text-align: center;}#sk-container-id-6 label.sk-toggleable__label-arrow:before {content: \"▸\";float: left;margin-right: 0.25em;color: #696969;}#sk-container-id-6 label.sk-toggleable__label-arrow:hover:before {color: black;}#sk-container-id-6 div.sk-estimator:hover label.sk-toggleable__label-arrow:before {color: black;}#sk-container-id-6 div.sk-toggleable__content {max-height: 0;max-width: 0;overflow: hidden;text-align: left;background-color: #f0f8ff;}#sk-container-id-6 div.sk-toggleable__content pre {margin: 0.2em;color: black;border-radius: 0.25em;background-color: #f0f8ff;}#sk-container-id-6 input.sk-toggleable__control:checked~div.sk-toggleable__content {max-height: 200px;max-width: 100%;overflow: auto;}#sk-container-id-6 input.sk-toggleable__control:checked~label.sk-toggleable__label-arrow:before {content: \"▾\";}#sk-container-id-6 div.sk-estimator input.sk-toggleable__control:checked~label.sk-toggleable__label {background-color: #d4ebff;}#sk-container-id-6 div.sk-label input.sk-toggleable__control:checked~label.sk-toggleable__label {background-color: #d4ebff;}#sk-container-id-6 input.sk-hidden--visually {border: 0;clip: rect(1px 1px 1px 1px);clip: rect(1px, 1px, 1px, 1px);height: 1px;margin: -1px;overflow: hidden;padding: 0;position: absolute;width: 1px;}#sk-container-id-6 div.sk-estimator {font-family: monospace;background-color: #f0f8ff;border: 1px dotted black;border-radius: 0.25em;box-sizing: border-box;margin-bottom: 0.5em;}#sk-container-id-6 div.sk-estimator:hover {background-color: #d4ebff;}#sk-container-id-6 div.sk-parallel-item::after {content: \"\";width: 100%;border-bottom: 1px solid gray;flex-grow: 1;}#sk-container-id-6 div.sk-label:hover label.sk-toggleable__label {background-color: #d4ebff;}#sk-container-id-6 div.sk-serial::before {content: \"\";position: absolute;border-left: 1px solid gray;box-sizing: border-box;top: 0;bottom: 0;left: 50%;z-index: 0;}#sk-container-id-6 div.sk-serial {display: flex;flex-direction: column;align-items: center;background-color: white;padding-right: 0.2em;padding-left: 0.2em;position: relative;}#sk-container-id-6 div.sk-item {position: relative;z-index: 1;}#sk-container-id-6 div.sk-parallel {display: flex;align-items: stretch;justify-content: center;background-color: white;position: relative;}#sk-container-id-6 div.sk-item::before, #sk-container-id-6 div.sk-parallel-item::before {content: \"\";position: absolute;border-left: 1px solid gray;box-sizing: border-box;top: 0;bottom: 0;left: 50%;z-index: -1;}#sk-container-id-6 div.sk-parallel-item {display: flex;flex-direction: column;z-index: 1;position: relative;background-color: white;}#sk-container-id-6 div.sk-parallel-item:first-child::after {align-self: flex-end;width: 50%;}#sk-container-id-6 div.sk-parallel-item:last-child::after {align-self: flex-start;width: 50%;}#sk-container-id-6 div.sk-parallel-item:only-child::after {width: 0;}#sk-container-id-6 div.sk-dashed-wrapped {border: 1px dashed gray;margin: 0 0.4em 0.5em 0.4em;box-sizing: border-box;padding-bottom: 0.4em;background-color: white;}#sk-container-id-6 div.sk-label label {font-family: monospace;font-weight: bold;display: inline-block;line-height: 1.2em;}#sk-container-id-6 div.sk-label-container {text-align: center;}#sk-container-id-6 div.sk-container {/* jupyter's `normalize.less` sets `[hidden] { display: none; }` but bootstrap.min.css set `[hidden] { display: none !important; }` so we also need the `!important` here to be able to override the default hidden behavior on the sphinx rendered scikit-learn.org. See: https://github.com/scikit-learn/scikit-learn/issues/21755 */display: inline-block !important;position: relative;}#sk-container-id-6 div.sk-text-repr-fallback {display: none;}</style><div id=\"sk-container-id-6\" class=\"sk-top-container\"><div class=\"sk-text-repr-fallback\"><pre>XGBRegressor(base_score=None, booster=None, callbacks=None,\n",
              "             colsample_bylevel=None, colsample_bynode=None,\n",
              "             colsample_bytree=None, early_stopping_rounds=None,\n",
              "             enable_categorical=False, eval_metric=None, feature_types=None,\n",
              "             gamma=None, gpu_id=None, grow_policy=None, importance_type=None,\n",
              "             interaction_constraints=None, learning_rate=0.06331882777117818,\n",
              "             max_bin=None, max_cat_threshold=None, max_cat_to_onehot=None,\n",
              "             max_delta_step=None, max_depth=4, max_leaves=None,\n",
              "             min_child_weight=None, missing=nan, monotone_constraints=None,\n",
              "             n_estimators=100, n_jobs=None, num_parallel_tree=None,\n",
              "             predictor=None, random_state=900, ...)</pre><b>In a Jupyter environment, please rerun this cell to show the HTML representation or trust the notebook. <br />On GitHub, the HTML representation is unable to render, please try loading this page with nbviewer.org.</b></div><div class=\"sk-container\" hidden><div class=\"sk-item\"><div class=\"sk-estimator sk-toggleable\"><input class=\"sk-toggleable__control sk-hidden--visually\" id=\"sk-estimator-id-6\" type=\"checkbox\" checked><label for=\"sk-estimator-id-6\" class=\"sk-toggleable__label sk-toggleable__label-arrow\">XGBRegressor</label><div class=\"sk-toggleable__content\"><pre>XGBRegressor(base_score=None, booster=None, callbacks=None,\n",
              "             colsample_bylevel=None, colsample_bynode=None,\n",
              "             colsample_bytree=None, early_stopping_rounds=None,\n",
              "             enable_categorical=False, eval_metric=None, feature_types=None,\n",
              "             gamma=None, gpu_id=None, grow_policy=None, importance_type=None,\n",
              "             interaction_constraints=None, learning_rate=0.06331882777117818,\n",
              "             max_bin=None, max_cat_threshold=None, max_cat_to_onehot=None,\n",
              "             max_delta_step=None, max_depth=4, max_leaves=None,\n",
              "             min_child_weight=None, missing=nan, monotone_constraints=None,\n",
              "             n_estimators=100, n_jobs=None, num_parallel_tree=None,\n",
              "             predictor=None, random_state=900, ...)</pre></div></div></div></div></div>"
            ],
            "text/plain": [
              "XGBRegressor(base_score=None, booster=None, callbacks=None,\n",
              "             colsample_bylevel=None, colsample_bynode=None,\n",
              "             colsample_bytree=None, early_stopping_rounds=None,\n",
              "             enable_categorical=False, eval_metric=None, feature_types=None,\n",
              "             gamma=None, gpu_id=None, grow_policy=None, importance_type=None,\n",
              "             interaction_constraints=None, learning_rate=0.06331882777117818,\n",
              "             max_bin=None, max_cat_threshold=None, max_cat_to_onehot=None,\n",
              "             max_delta_step=None, max_depth=4, max_leaves=None,\n",
              "             min_child_weight=None, missing=nan, monotone_constraints=None,\n",
              "             n_estimators=100, n_jobs=None, num_parallel_tree=None,\n",
              "             predictor=None, random_state=900, ...)"
            ]
          },
          "execution_count": 42,
          "metadata": {},
          "output_type": "execute_result"
        }
      ],
      "source": [
        "model_xgb_rd.best_estimator_"
      ]
    },
    {
      "cell_type": "code",
      "execution_count": null,
      "metadata": {
        "colab": {
          "background_save": true
        },
        "id": "w0MwEiu_kOsA",
        "outputId": "cd35f608-11b0-4ea2-9729-5d4071bcac37"
      },
      "outputs": [
        {
          "data": {
            "text/plain": [
              "0.9683622992333285"
            ]
          },
          "execution_count": 43,
          "metadata": {},
          "output_type": "execute_result"
        }
      ],
      "source": [
        "model_xgb_rd.best_estimator_.subsample"
      ]
    },
    {
      "cell_type": "code",
      "execution_count": null,
      "metadata": {
        "id": "40sVRYdCZ7fN",
        "colab": {
          "base_uri": "https://localhost:8080/",
          "height": 248
        },
        "outputId": "114d16ad-afe8-47c9-e5fe-a5da0c56d746"
      },
      "outputs": [
        {
          "output_type": "execute_result",
          "data": {
            "text/plain": [
              "XGBRegressor(base_score=None, booster=None, callbacks=None,\n",
              "             colsample_bylevel=None, colsample_bynode=None,\n",
              "             colsample_bytree=None, early_stopping_rounds=None,\n",
              "             enable_categorical=False, eval_metric=None, feature_types=None,\n",
              "             gamma=None, gpu_id=None, grow_policy=None, importance_type=None,\n",
              "             interaction_constraints=None, learning_rate=0.0633188,\n",
              "             max_bin=None, max_cat_threshold=None, max_cat_to_onehot=None,\n",
              "             max_delta_step=None, max_depth=4, max_leaves=None,\n",
              "             min_child_weight=None, missing=nan, monotone_constraints=None,\n",
              "             n_estimators=100, n_jobs=None, num_parallel_tree=None,\n",
              "             predictor=None, random_state=900, ...)"
            ],
            "text/html": [
              "<style>#sk-container-id-20 {color: black;background-color: white;}#sk-container-id-20 pre{padding: 0;}#sk-container-id-20 div.sk-toggleable {background-color: white;}#sk-container-id-20 label.sk-toggleable__label {cursor: pointer;display: block;width: 100%;margin-bottom: 0;padding: 0.3em;box-sizing: border-box;text-align: center;}#sk-container-id-20 label.sk-toggleable__label-arrow:before {content: \"▸\";float: left;margin-right: 0.25em;color: #696969;}#sk-container-id-20 label.sk-toggleable__label-arrow:hover:before {color: black;}#sk-container-id-20 div.sk-estimator:hover label.sk-toggleable__label-arrow:before {color: black;}#sk-container-id-20 div.sk-toggleable__content {max-height: 0;max-width: 0;overflow: hidden;text-align: left;background-color: #f0f8ff;}#sk-container-id-20 div.sk-toggleable__content pre {margin: 0.2em;color: black;border-radius: 0.25em;background-color: #f0f8ff;}#sk-container-id-20 input.sk-toggleable__control:checked~div.sk-toggleable__content {max-height: 200px;max-width: 100%;overflow: auto;}#sk-container-id-20 input.sk-toggleable__control:checked~label.sk-toggleable__label-arrow:before {content: \"▾\";}#sk-container-id-20 div.sk-estimator input.sk-toggleable__control:checked~label.sk-toggleable__label {background-color: #d4ebff;}#sk-container-id-20 div.sk-label input.sk-toggleable__control:checked~label.sk-toggleable__label {background-color: #d4ebff;}#sk-container-id-20 input.sk-hidden--visually {border: 0;clip: rect(1px 1px 1px 1px);clip: rect(1px, 1px, 1px, 1px);height: 1px;margin: -1px;overflow: hidden;padding: 0;position: absolute;width: 1px;}#sk-container-id-20 div.sk-estimator {font-family: monospace;background-color: #f0f8ff;border: 1px dotted black;border-radius: 0.25em;box-sizing: border-box;margin-bottom: 0.5em;}#sk-container-id-20 div.sk-estimator:hover {background-color: #d4ebff;}#sk-container-id-20 div.sk-parallel-item::after {content: \"\";width: 100%;border-bottom: 1px solid gray;flex-grow: 1;}#sk-container-id-20 div.sk-label:hover label.sk-toggleable__label {background-color: #d4ebff;}#sk-container-id-20 div.sk-serial::before {content: \"\";position: absolute;border-left: 1px solid gray;box-sizing: border-box;top: 0;bottom: 0;left: 50%;z-index: 0;}#sk-container-id-20 div.sk-serial {display: flex;flex-direction: column;align-items: center;background-color: white;padding-right: 0.2em;padding-left: 0.2em;position: relative;}#sk-container-id-20 div.sk-item {position: relative;z-index: 1;}#sk-container-id-20 div.sk-parallel {display: flex;align-items: stretch;justify-content: center;background-color: white;position: relative;}#sk-container-id-20 div.sk-item::before, #sk-container-id-20 div.sk-parallel-item::before {content: \"\";position: absolute;border-left: 1px solid gray;box-sizing: border-box;top: 0;bottom: 0;left: 50%;z-index: -1;}#sk-container-id-20 div.sk-parallel-item {display: flex;flex-direction: column;z-index: 1;position: relative;background-color: white;}#sk-container-id-20 div.sk-parallel-item:first-child::after {align-self: flex-end;width: 50%;}#sk-container-id-20 div.sk-parallel-item:last-child::after {align-self: flex-start;width: 50%;}#sk-container-id-20 div.sk-parallel-item:only-child::after {width: 0;}#sk-container-id-20 div.sk-dashed-wrapped {border: 1px dashed gray;margin: 0 0.4em 0.5em 0.4em;box-sizing: border-box;padding-bottom: 0.4em;background-color: white;}#sk-container-id-20 div.sk-label label {font-family: monospace;font-weight: bold;display: inline-block;line-height: 1.2em;}#sk-container-id-20 div.sk-label-container {text-align: center;}#sk-container-id-20 div.sk-container {/* jupyter's `normalize.less` sets `[hidden] { display: none; }` but bootstrap.min.css set `[hidden] { display: none !important; }` so we also need the `!important` here to be able to override the default hidden behavior on the sphinx rendered scikit-learn.org. See: https://github.com/scikit-learn/scikit-learn/issues/21755 */display: inline-block !important;position: relative;}#sk-container-id-20 div.sk-text-repr-fallback {display: none;}</style><div id=\"sk-container-id-20\" class=\"sk-top-container\"><div class=\"sk-text-repr-fallback\"><pre>XGBRegressor(base_score=None, booster=None, callbacks=None,\n",
              "             colsample_bylevel=None, colsample_bynode=None,\n",
              "             colsample_bytree=None, early_stopping_rounds=None,\n",
              "             enable_categorical=False, eval_metric=None, feature_types=None,\n",
              "             gamma=None, gpu_id=None, grow_policy=None, importance_type=None,\n",
              "             interaction_constraints=None, learning_rate=0.0633188,\n",
              "             max_bin=None, max_cat_threshold=None, max_cat_to_onehot=None,\n",
              "             max_delta_step=None, max_depth=4, max_leaves=None,\n",
              "             min_child_weight=None, missing=nan, monotone_constraints=None,\n",
              "             n_estimators=100, n_jobs=None, num_parallel_tree=None,\n",
              "             predictor=None, random_state=900, ...)</pre><b>In a Jupyter environment, please rerun this cell to show the HTML representation or trust the notebook. <br />On GitHub, the HTML representation is unable to render, please try loading this page with nbviewer.org.</b></div><div class=\"sk-container\" hidden><div class=\"sk-item\"><div class=\"sk-estimator sk-toggleable\"><input class=\"sk-toggleable__control sk-hidden--visually\" id=\"sk-estimator-id-20\" type=\"checkbox\" checked><label for=\"sk-estimator-id-20\" class=\"sk-toggleable__label sk-toggleable__label-arrow\">XGBRegressor</label><div class=\"sk-toggleable__content\"><pre>XGBRegressor(base_score=None, booster=None, callbacks=None,\n",
              "             colsample_bylevel=None, colsample_bynode=None,\n",
              "             colsample_bytree=None, early_stopping_rounds=None,\n",
              "             enable_categorical=False, eval_metric=None, feature_types=None,\n",
              "             gamma=None, gpu_id=None, grow_policy=None, importance_type=None,\n",
              "             interaction_constraints=None, learning_rate=0.0633188,\n",
              "             max_bin=None, max_cat_threshold=None, max_cat_to_onehot=None,\n",
              "             max_delta_step=None, max_depth=4, max_leaves=None,\n",
              "             min_child_weight=None, missing=nan, monotone_constraints=None,\n",
              "             n_estimators=100, n_jobs=None, num_parallel_tree=None,\n",
              "             predictor=None, random_state=900, ...)</pre></div></div></div></div></div>"
            ]
          },
          "metadata": {},
          "execution_count": 72
        }
      ],
      "source": [
        "xgb_best = XGBRegressor(learning_rate=0.0633188, max_depth=4, subsample=0.96836,\n",
        "                        n_estimators=100, random_state=900)\n",
        "xgb_best.fit(X_train_scaled, y_train)"
      ]
    },
    {
      "cell_type": "code",
      "execution_count": null,
      "metadata": {
        "id": "ydfh6Q8y-f1g",
        "colab": {
          "base_uri": "https://localhost:8080/",
          "height": 499
        },
        "outputId": "c683ed00-203d-46e2-f810-eb5263f1e382"
      },
      "outputs": [
        {
          "output_type": "display_data",
          "data": {
            "text/plain": [
              "<Figure size 800x600 with 1 Axes>"
            ],
            "image/png": "[encoded data removed]"
          },
          "metadata": {}
        }
      ],
      "source": [
        "ftr_importances_values = xgb_best.feature_importances_\n",
        "ftr_importances = pd.Series(ftr_importances_values,index=X_train_scaled.columns  )\n",
        "ftr_top20 = ftr_importances.sort_values(ascending=False)\n",
        "\n",
        "plt.figure(figsize=(8,6))\n",
        "plt.title('Feature importances of XGBoost')\n",
        "sns.barplot(x=ftr_top20 , y = ftr_top20.index)\n",
        "plt.show()"
      ]
    },
    {
      "cell_type": "markdown",
      "metadata": {
        "id": "WsjroMnKtgXk"
      },
      "source": [
        "**3. 성능개선 try1 : 동코드 drop**"
      ]
    },
    {
      "cell_type": "code",
      "execution_count": null,
      "metadata": {
        "id": "zOMouqt_tixZ",
        "colab": {
          "base_uri": "https://localhost:8080/"
        },
        "outputId": "c0c2a81f-c2bb-4bb3-a721-72b2fc1ca340"
      },
      "outputs": [
        {
          "output_type": "execute_result",
          "data": {
            "text/plain": [
              "6.678917975665224"
            ]
          },
          "metadata": {},
          "execution_count": 68
        }
      ],
      "source": [
        "params = {'max_depth': range(2, 21, 2),\n",
        "          'subsample': random.uniform(0.4, 1, 5),\n",
        "          'n_estimators': range(50, 251, 50), \n",
        "          'learning_rate': random.uniform(0.02, 0.1, 5),\n",
        "          'random_state': range(100, 2001, 200)          \n",
        "}\n",
        "\n",
        "model_xgb_rd_dr = RandomizedSearchCV(model_xgb, param_distributions=params, n_iter=50, cv=4, n_jobs=-1)\n",
        "\n",
        "model_xgb_rd_dr.fit(X_train_scaled_dr, y_train_dr)\n",
        "y_pred_xgb_rd_dr = model_xgb_rd_dr.best_estimator_.predict(X_tr_test_scaled_dr)\n",
        "\n",
        "MSE_xgb_rd_dr = mean_squared_error(y_tr_test_dr, y_pred_xgb_rd_dr) \n",
        "np.sqrt(MSE_xgb_rd_dr)"
      ]
    },
    {
      "cell_type": "code",
      "source": [
        "model_xgb_rd_dr.best_estimator_"
      ],
      "metadata": {
        "colab": {
          "base_uri": "https://localhost:8080/",
          "height": 248
        },
        "id": "sUUfamDZtOYD",
        "outputId": "2ed131dc-c247-48bc-934d-6ead6b8f8e18"
      },
      "execution_count": null,
      "outputs": [
        {
          "output_type": "execute_result",
          "data": {
            "text/plain": [
              "XGBRegressor(base_score=None, booster=None, callbacks=None,\n",
              "             colsample_bylevel=None, colsample_bynode=None,\n",
              "             colsample_bytree=None, early_stopping_rounds=None,\n",
              "             enable_categorical=False, eval_metric=None, feature_types=None,\n",
              "             gamma=None, gpu_id=None, grow_policy=None, importance_type=None,\n",
              "             interaction_constraints=None, learning_rate=0.04407398637501159,\n",
              "             max_bin=None, max_cat_threshold=None, max_cat_to_onehot=None,\n",
              "             max_delta_step=None, max_depth=6, max_leaves=None,\n",
              "             min_child_weight=None, missing=nan, monotone_constraints=None,\n",
              "             n_estimators=100, n_jobs=None, num_parallel_tree=None,\n",
              "             predictor=None, random_state=1700, ...)"
            ],
            "text/html": [
              "<style>#sk-container-id-18 {color: black;background-color: white;}#sk-container-id-18 pre{padding: 0;}#sk-container-id-18 div.sk-toggleable {background-color: white;}#sk-container-id-18 label.sk-toggleable__label {cursor: pointer;display: block;width: 100%;margin-bottom: 0;padding: 0.3em;box-sizing: border-box;text-align: center;}#sk-container-id-18 label.sk-toggleable__label-arrow:before {content: \"▸\";float: left;margin-right: 0.25em;color: #696969;}#sk-container-id-18 label.sk-toggleable__label-arrow:hover:before {color: black;}#sk-container-id-18 div.sk-estimator:hover label.sk-toggleable__label-arrow:before {color: black;}#sk-container-id-18 div.sk-toggleable__content {max-height: 0;max-width: 0;overflow: hidden;text-align: left;background-color: #f0f8ff;}#sk-container-id-18 div.sk-toggleable__content pre {margin: 0.2em;color: black;border-radius: 0.25em;background-color: #f0f8ff;}#sk-container-id-18 input.sk-toggleable__control:checked~div.sk-toggleable__content {max-height: 200px;max-width: 100%;overflow: auto;}#sk-container-id-18 input.sk-toggleable__control:checked~label.sk-toggleable__label-arrow:before {content: \"▾\";}#sk-container-id-18 div.sk-estimator input.sk-toggleable__control:checked~label.sk-toggleable__label {background-color: #d4ebff;}#sk-container-id-18 div.sk-label input.sk-toggleable__control:checked~label.sk-toggleable__label {background-color: #d4ebff;}#sk-container-id-18 input.sk-hidden--visually {border: 0;clip: rect(1px 1px 1px 1px);clip: rect(1px, 1px, 1px, 1px);height: 1px;margin: -1px;overflow: hidden;padding: 0;position: absolute;width: 1px;}#sk-container-id-18 div.sk-estimator {font-family: monospace;background-color: #f0f8ff;border: 1px dotted black;border-radius: 0.25em;box-sizing: border-box;margin-bottom: 0.5em;}#sk-container-id-18 div.sk-estimator:hover {background-color: #d4ebff;}#sk-container-id-18 div.sk-parallel-item::after {content: \"\";width: 100%;border-bottom: 1px solid gray;flex-grow: 1;}#sk-container-id-18 div.sk-label:hover label.sk-toggleable__label {background-color: #d4ebff;}#sk-container-id-18 div.sk-serial::before {content: \"\";position: absolute;border-left: 1px solid gray;box-sizing: border-box;top: 0;bottom: 0;left: 50%;z-index: 0;}#sk-container-id-18 div.sk-serial {display: flex;flex-direction: column;align-items: center;background-color: white;padding-right: 0.2em;padding-left: 0.2em;position: relative;}#sk-container-id-18 div.sk-item {position: relative;z-index: 1;}#sk-container-id-18 div.sk-parallel {display: flex;align-items: stretch;justify-content: center;background-color: white;position: relative;}#sk-container-id-18 div.sk-item::before, #sk-container-id-18 div.sk-parallel-item::before {content: \"\";position: absolute;border-left: 1px solid gray;box-sizing: border-box;top: 0;bottom: 0;left: 50%;z-index: -1;}#sk-container-id-18 div.sk-parallel-item {display: flex;flex-direction: column;z-index: 1;position: relative;background-color: white;}#sk-container-id-18 div.sk-parallel-item:first-child::after {align-self: flex-end;width: 50%;}#sk-container-id-18 div.sk-parallel-item:last-child::after {align-self: flex-start;width: 50%;}#sk-container-id-18 div.sk-parallel-item:only-child::after {width: 0;}#sk-container-id-18 div.sk-dashed-wrapped {border: 1px dashed gray;margin: 0 0.4em 0.5em 0.4em;box-sizing: border-box;padding-bottom: 0.4em;background-color: white;}#sk-container-id-18 div.sk-label label {font-family: monospace;font-weight: bold;display: inline-block;line-height: 1.2em;}#sk-container-id-18 div.sk-label-container {text-align: center;}#sk-container-id-18 div.sk-container {/* jupyter's `normalize.less` sets `[hidden] { display: none; }` but bootstrap.min.css set `[hidden] { display: none !important; }` so we also need the `!important` here to be able to override the default hidden behavior on the sphinx rendered scikit-learn.org. See: https://github.com/scikit-learn/scikit-learn/issues/21755 */display: inline-block !important;position: relative;}#sk-container-id-18 div.sk-text-repr-fallback {display: none;}</style><div id=\"sk-container-id-18\" class=\"sk-top-container\"><div class=\"sk-text-repr-fallback\"><pre>XGBRegressor(base_score=None, booster=None, callbacks=None,\n",
              "             colsample_bylevel=None, colsample_bynode=None,\n",
              "             colsample_bytree=None, early_stopping_rounds=None,\n",
              "             enable_categorical=False, eval_metric=None, feature_types=None,\n",
              "             gamma=None, gpu_id=None, grow_policy=None, importance_type=None,\n",
              "             interaction_constraints=None, learning_rate=0.04407398637501159,\n",
              "             max_bin=None, max_cat_threshold=None, max_cat_to_onehot=None,\n",
              "             max_delta_step=None, max_depth=6, max_leaves=None,\n",
              "             min_child_weight=None, missing=nan, monotone_constraints=None,\n",
              "             n_estimators=100, n_jobs=None, num_parallel_tree=None,\n",
              "             predictor=None, random_state=1700, ...)</pre><b>In a Jupyter environment, please rerun this cell to show the HTML representation or trust the notebook. <br />On GitHub, the HTML representation is unable to render, please try loading this page with nbviewer.org.</b></div><div class=\"sk-container\" hidden><div class=\"sk-item\"><div class=\"sk-estimator sk-toggleable\"><input class=\"sk-toggleable__control sk-hidden--visually\" id=\"sk-estimator-id-18\" type=\"checkbox\" checked><label for=\"sk-estimator-id-18\" class=\"sk-toggleable__label sk-toggleable__label-arrow\">XGBRegressor</label><div class=\"sk-toggleable__content\"><pre>XGBRegressor(base_score=None, booster=None, callbacks=None,\n",
              "             colsample_bylevel=None, colsample_bynode=None,\n",
              "             colsample_bytree=None, early_stopping_rounds=None,\n",
              "             enable_categorical=False, eval_metric=None, feature_types=None,\n",
              "             gamma=None, gpu_id=None, grow_policy=None, importance_type=None,\n",
              "             interaction_constraints=None, learning_rate=0.04407398637501159,\n",
              "             max_bin=None, max_cat_threshold=None, max_cat_to_onehot=None,\n",
              "             max_delta_step=None, max_depth=6, max_leaves=None,\n",
              "             min_child_weight=None, missing=nan, monotone_constraints=None,\n",
              "             n_estimators=100, n_jobs=None, num_parallel_tree=None,\n",
              "             predictor=None, random_state=1700, ...)</pre></div></div></div></div></div>"
            ]
          },
          "metadata": {},
          "execution_count": 69
        }
      ]
    },
    {
      "cell_type": "code",
      "source": [
        "model_xgb_rd_dr.best_estimator_.subsample"
      ],
      "metadata": {
        "id": "V3ljKLp__TuQ"
      },
      "execution_count": null,
      "outputs": []
    },
    {
      "cell_type": "code",
      "source": [
        "xgb_best_dr =XGBRegressor(learning_rate=0.044073986, max_depth=6,\n",
        "                          n_estimators=100, subsample=\n",
        "                          random_state=1700)\n",
        "xgb_best_dr.fit(X_train_scaled_dr, y_train_dr)"
      ],
      "metadata": {
        "id": "hn9Buyf-tObL"
      },
      "execution_count": null,
      "outputs": []
    },
    {
      "cell_type": "code",
      "execution_count": null,
      "metadata": {
        "id": "_Gne9HMs-mB5"
      },
      "outputs": [],
      "source": [
        "ftr_importances_values = xgb_best_dr.feature_importances_\n",
        "ftr_importances = pd.Series(ftr_importances_values,index=X_train_scaled_dr.columns  )\n",
        "ftr_top20 = ftr_importances.sort_values(ascending=False)\n",
        "\n",
        "plt.figure(figsize=(8,6))\n",
        "plt.title('Feature importances')\n",
        "sns.barplot(x=ftr_top20 , y = ftr_top20.index)\n",
        "plt.show()"
      ]
    },
    {
      "cell_type": "markdown",
      "source": [
        "**4. 성능개선 try2 : 시코드 drop**"
      ],
      "metadata": {
        "id": "n2T3-wb6vpG5"
      }
    },
    {
      "cell_type": "code",
      "execution_count": null,
      "metadata": {
        "colab": {
          "base_uri": "https://localhost:8080/"
        },
        "id": "5dUOyTrDvt7O",
        "outputId": "42a719e5-d32e-4468-e74b-fcb48d3a46dc"
      },
      "outputs": [
        {
          "output_type": "execute_result",
          "data": {
            "text/plain": [
              "6.515762955271127"
            ]
          },
          "metadata": {},
          "execution_count": 70
        }
      ],
      "source": [
        "params = {'max_depth': range(2, 21, 2),\n",
        "          'subsample': random.uniform(0.4, 1, 5),\n",
        "          'n_estimators': range(50, 251, 50), \n",
        "          'learning_rate': random.uniform(0.02, 0.1, 5),\n",
        "          'random_state': range(100, 2001, 200)          \n",
        "}\n",
        "\n",
        "model_xgb_rd_dr2 = RandomizedSearchCV(model_xgb, param_distributions=params, n_iter=50, cv=4, n_jobs=-1)\n",
        "\n",
        "model_xgb_rd_dr2.fit(X_train_scaled_dr2, y_train_dr2)\n",
        "y_pred_xgb_rd_dr2 = model_xgb_rd_dr2.best_estimator_.predict(X_tr_test_scaled_dr2)\n",
        "\n",
        "MSE_xgb_rd_dr2 = mean_squared_error(y_tr_test_dr2, y_pred_xgb_rd_dr2) \n",
        "np.sqrt(MSE_xgb_rd_dr2)"
      ]
    },
    {
      "cell_type": "code",
      "source": [
        "model_xgb_rd_dr2.best_estimator_"
      ],
      "metadata": {
        "colab": {
          "base_uri": "https://localhost:8080/",
          "height": 248
        },
        "id": "ZLwg2EFwvt7P",
        "outputId": "00b8e8a7-cdd8-43e4-f4e4-5cfc9bd416b6"
      },
      "execution_count": null,
      "outputs": [
        {
          "output_type": "execute_result",
          "data": {
            "text/plain": [
              "XGBRegressor(base_score=None, booster=None, callbacks=None,\n",
              "             colsample_bylevel=None, colsample_bynode=None,\n",
              "             colsample_bytree=None, early_stopping_rounds=None,\n",
              "             enable_categorical=False, eval_metric=None, feature_types=None,\n",
              "             gamma=None, gpu_id=None, grow_policy=None, importance_type=None,\n",
              "             interaction_constraints=None, learning_rate=0.0980484529482544,\n",
              "             max_bin=None, max_cat_threshold=None, max_cat_to_onehot=None,\n",
              "             max_delta_step=None, max_depth=4, max_leaves=None,\n",
              "             min_child_weight=None, missing=nan, monotone_constraints=None,\n",
              "             n_estimators=100, n_jobs=None, num_parallel_tree=None,\n",
              "             predictor=None, random_state=1300, ...)"
            ],
            "text/html": [
              "<style>#sk-container-id-19 {color: black;background-color: white;}#sk-container-id-19 pre{padding: 0;}#sk-container-id-19 div.sk-toggleable {background-color: white;}#sk-container-id-19 label.sk-toggleable__label {cursor: pointer;display: block;width: 100%;margin-bottom: 0;padding: 0.3em;box-sizing: border-box;text-align: center;}#sk-container-id-19 label.sk-toggleable__label-arrow:before {content: \"▸\";float: left;margin-right: 0.25em;color: #696969;}#sk-container-id-19 label.sk-toggleable__label-arrow:hover:before {color: black;}#sk-container-id-19 div.sk-estimator:hover label.sk-toggleable__label-arrow:before {color: black;}#sk-container-id-19 div.sk-toggleable__content {max-height: 0;max-width: 0;overflow: hidden;text-align: left;background-color: #f0f8ff;}#sk-container-id-19 div.sk-toggleable__content pre {margin: 0.2em;color: black;border-radius: 0.25em;background-color: #f0f8ff;}#sk-container-id-19 input.sk-toggleable__control:checked~div.sk-toggleable__content {max-height: 200px;max-width: 100%;overflow: auto;}#sk-container-id-19 input.sk-toggleable__control:checked~label.sk-toggleable__label-arrow:before {content: \"▾\";}#sk-container-id-19 div.sk-estimator input.sk-toggleable__control:checked~label.sk-toggleable__label {background-color: #d4ebff;}#sk-container-id-19 div.sk-label input.sk-toggleable__control:checked~label.sk-toggleable__label {background-color: #d4ebff;}#sk-container-id-19 input.sk-hidden--visually {border: 0;clip: rect(1px 1px 1px 1px);clip: rect(1px, 1px, 1px, 1px);height: 1px;margin: -1px;overflow: hidden;padding: 0;position: absolute;width: 1px;}#sk-container-id-19 div.sk-estimator {font-family: monospace;background-color: #f0f8ff;border: 1px dotted black;border-radius: 0.25em;box-sizing: border-box;margin-bottom: 0.5em;}#sk-container-id-19 div.sk-estimator:hover {background-color: #d4ebff;}#sk-container-id-19 div.sk-parallel-item::after {content: \"\";width: 100%;border-bottom: 1px solid gray;flex-grow: 1;}#sk-container-id-19 div.sk-label:hover label.sk-toggleable__label {background-color: #d4ebff;}#sk-container-id-19 div.sk-serial::before {content: \"\";position: absolute;border-left: 1px solid gray;box-sizing: border-box;top: 0;bottom: 0;left: 50%;z-index: 0;}#sk-container-id-19 div.sk-serial {display: flex;flex-direction: column;align-items: center;background-color: white;padding-right: 0.2em;padding-left: 0.2em;position: relative;}#sk-container-id-19 div.sk-item {position: relative;z-index: 1;}#sk-container-id-19 div.sk-parallel {display: flex;align-items: stretch;justify-content: center;background-color: white;position: relative;}#sk-container-id-19 div.sk-item::before, #sk-container-id-19 div.sk-parallel-item::before {content: \"\";position: absolute;border-left: 1px solid gray;box-sizing: border-box;top: 0;bottom: 0;left: 50%;z-index: -1;}#sk-container-id-19 div.sk-parallel-item {display: flex;flex-direction: column;z-index: 1;position: relative;background-color: white;}#sk-container-id-19 div.sk-parallel-item:first-child::after {align-self: flex-end;width: 50%;}#sk-container-id-19 div.sk-parallel-item:last-child::after {align-self: flex-start;width: 50%;}#sk-container-id-19 div.sk-parallel-item:only-child::after {width: 0;}#sk-container-id-19 div.sk-dashed-wrapped {border: 1px dashed gray;margin: 0 0.4em 0.5em 0.4em;box-sizing: border-box;padding-bottom: 0.4em;background-color: white;}#sk-container-id-19 div.sk-label label {font-family: monospace;font-weight: bold;display: inline-block;line-height: 1.2em;}#sk-container-id-19 div.sk-label-container {text-align: center;}#sk-container-id-19 div.sk-container {/* jupyter's `normalize.less` sets `[hidden] { display: none; }` but bootstrap.min.css set `[hidden] { display: none !important; }` so we also need the `!important` here to be able to override the default hidden behavior on the sphinx rendered scikit-learn.org. See: https://github.com/scikit-learn/scikit-learn/issues/21755 */display: inline-block !important;position: relative;}#sk-container-id-19 div.sk-text-repr-fallback {display: none;}</style><div id=\"sk-container-id-19\" class=\"sk-top-container\"><div class=\"sk-text-repr-fallback\"><pre>XGBRegressor(base_score=None, booster=None, callbacks=None,\n",
              "             colsample_bylevel=None, colsample_bynode=None,\n",
              "             colsample_bytree=None, early_stopping_rounds=None,\n",
              "             enable_categorical=False, eval_metric=None, feature_types=None,\n",
              "             gamma=None, gpu_id=None, grow_policy=None, importance_type=None,\n",
              "             interaction_constraints=None, learning_rate=0.0980484529482544,\n",
              "             max_bin=None, max_cat_threshold=None, max_cat_to_onehot=None,\n",
              "             max_delta_step=None, max_depth=4, max_leaves=None,\n",
              "             min_child_weight=None, missing=nan, monotone_constraints=None,\n",
              "             n_estimators=100, n_jobs=None, num_parallel_tree=None,\n",
              "             predictor=None, random_state=1300, ...)</pre><b>In a Jupyter environment, please rerun this cell to show the HTML representation or trust the notebook. <br />On GitHub, the HTML representation is unable to render, please try loading this page with nbviewer.org.</b></div><div class=\"sk-container\" hidden><div class=\"sk-item\"><div class=\"sk-estimator sk-toggleable\"><input class=\"sk-toggleable__control sk-hidden--visually\" id=\"sk-estimator-id-19\" type=\"checkbox\" checked><label for=\"sk-estimator-id-19\" class=\"sk-toggleable__label sk-toggleable__label-arrow\">XGBRegressor</label><div class=\"sk-toggleable__content\"><pre>XGBRegressor(base_score=None, booster=None, callbacks=None,\n",
              "             colsample_bylevel=None, colsample_bynode=None,\n",
              "             colsample_bytree=None, early_stopping_rounds=None,\n",
              "             enable_categorical=False, eval_metric=None, feature_types=None,\n",
              "             gamma=None, gpu_id=None, grow_policy=None, importance_type=None,\n",
              "             interaction_constraints=None, learning_rate=0.0980484529482544,\n",
              "             max_bin=None, max_cat_threshold=None, max_cat_to_onehot=None,\n",
              "             max_delta_step=None, max_depth=4, max_leaves=None,\n",
              "             min_child_weight=None, missing=nan, monotone_constraints=None,\n",
              "             n_estimators=100, n_jobs=None, num_parallel_tree=None,\n",
              "             predictor=None, random_state=1300, ...)</pre></div></div></div></div></div>"
            ]
          },
          "metadata": {},
          "execution_count": 71
        }
      ]
    },
    {
      "cell_type": "code",
      "source": [
        "model_xgb_rd_dr2.best_estimator_.subsample"
      ],
      "metadata": {
        "colab": {
          "base_uri": "https://localhost:8080/"
        },
        "id": "3FJS_dcuCjgE",
        "outputId": "4a9745ab-3271-4ee6-f1a1-fd7e22ebb3bf"
      },
      "execution_count": null,
      "outputs": [
        {
          "output_type": "execute_result",
          "data": {
            "text/plain": [
              "0.7170835967440049"
            ]
          },
          "metadata": {},
          "execution_count": 77
        }
      ]
    },
    {
      "cell_type": "code",
      "source": [
        "xgb_best_dr2 =XGBRegressor(learning_rate=0.098, max_depth=4,\n",
        "                           n_estimators=100, subsample=0.71708,\n",
        "                           random_state=1300)\n",
        "xgb_best_dr2.fit(X_train_scaled_dr2, y_train_dr2)"
      ],
      "metadata": {
        "colab": {
          "base_uri": "https://localhost:8080/",
          "height": 248
        },
        "id": "75qKg92mvt7P",
        "outputId": "b29f4633-c330-4c31-d754-2280b5041b9a"
      },
      "execution_count": null,
      "outputs": [
        {
          "output_type": "execute_result",
          "data": {
            "text/plain": [
              "XGBRegressor(base_score=None, booster=None, callbacks=None,\n",
              "             colsample_bylevel=None, colsample_bynode=None,\n",
              "             colsample_bytree=None, early_stopping_rounds=None,\n",
              "             enable_categorical=False, eval_metric=None, feature_types=None,\n",
              "             gamma=None, gpu_id=None, grow_policy=None, importance_type=None,\n",
              "             interaction_constraints=None, learning_rate=0.098, max_bin=None,\n",
              "             max_cat_threshold=None, max_cat_to_onehot=None,\n",
              "             max_delta_step=None, max_depth=4, max_leaves=None,\n",
              "             min_child_weight=None, missing=nan, monotone_constraints=None,\n",
              "             n_estimators=100, n_jobs=None, num_parallel_tree=None,\n",
              "             predictor=None, random_state=1300, ...)"
            ],
            "text/html": [
              "<style>#sk-container-id-23 {color: black;background-color: white;}#sk-container-id-23 pre{padding: 0;}#sk-container-id-23 div.sk-toggleable {background-color: white;}#sk-container-id-23 label.sk-toggleable__label {cursor: pointer;display: block;width: 100%;margin-bottom: 0;padding: 0.3em;box-sizing: border-box;text-align: center;}#sk-container-id-23 label.sk-toggleable__label-arrow:before {content: \"▸\";float: left;margin-right: 0.25em;color: #696969;}#sk-container-id-23 label.sk-toggleable__label-arrow:hover:before {color: black;}#sk-container-id-23 div.sk-estimator:hover label.sk-toggleable__label-arrow:before {color: black;}#sk-container-id-23 div.sk-toggleable__content {max-height: 0;max-width: 0;overflow: hidden;text-align: left;background-color: #f0f8ff;}#sk-container-id-23 div.sk-toggleable__content pre {margin: 0.2em;color: black;border-radius: 0.25em;background-color: #f0f8ff;}#sk-container-id-23 input.sk-toggleable__control:checked~div.sk-toggleable__content {max-height: 200px;max-width: 100%;overflow: auto;}#sk-container-id-23 input.sk-toggleable__control:checked~label.sk-toggleable__label-arrow:before {content: \"▾\";}#sk-container-id-23 div.sk-estimator input.sk-toggleable__control:checked~label.sk-toggleable__label {background-color: #d4ebff;}#sk-container-id-23 div.sk-label input.sk-toggleable__control:checked~label.sk-toggleable__label {background-color: #d4ebff;}#sk-container-id-23 input.sk-hidden--visually {border: 0;clip: rect(1px 1px 1px 1px);clip: rect(1px, 1px, 1px, 1px);height: 1px;margin: -1px;overflow: hidden;padding: 0;position: absolute;width: 1px;}#sk-container-id-23 div.sk-estimator {font-family: monospace;background-color: #f0f8ff;border: 1px dotted black;border-radius: 0.25em;box-sizing: border-box;margin-bottom: 0.5em;}#sk-container-id-23 div.sk-estimator:hover {background-color: #d4ebff;}#sk-container-id-23 div.sk-parallel-item::after {content: \"\";width: 100%;border-bottom: 1px solid gray;flex-grow: 1;}#sk-container-id-23 div.sk-label:hover label.sk-toggleable__label {background-color: #d4ebff;}#sk-container-id-23 div.sk-serial::before {content: \"\";position: absolute;border-left: 1px solid gray;box-sizing: border-box;top: 0;bottom: 0;left: 50%;z-index: 0;}#sk-container-id-23 div.sk-serial {display: flex;flex-direction: column;align-items: center;background-color: white;padding-right: 0.2em;padding-left: 0.2em;position: relative;}#sk-container-id-23 div.sk-item {position: relative;z-index: 1;}#sk-container-id-23 div.sk-parallel {display: flex;align-items: stretch;justify-content: center;background-color: white;position: relative;}#sk-container-id-23 div.sk-item::before, #sk-container-id-23 div.sk-parallel-item::before {content: \"\";position: absolute;border-left: 1px solid gray;box-sizing: border-box;top: 0;bottom: 0;left: 50%;z-index: -1;}#sk-container-id-23 div.sk-parallel-item {display: flex;flex-direction: column;z-index: 1;position: relative;background-color: white;}#sk-container-id-23 div.sk-parallel-item:first-child::after {align-self: flex-end;width: 50%;}#sk-container-id-23 div.sk-parallel-item:last-child::after {align-self: flex-start;width: 50%;}#sk-container-id-23 div.sk-parallel-item:only-child::after {width: 0;}#sk-container-id-23 div.sk-dashed-wrapped {border: 1px dashed gray;margin: 0 0.4em 0.5em 0.4em;box-sizing: border-box;padding-bottom: 0.4em;background-color: white;}#sk-container-id-23 div.sk-label label {font-family: monospace;font-weight: bold;display: inline-block;line-height: 1.2em;}#sk-container-id-23 div.sk-label-container {text-align: center;}#sk-container-id-23 div.sk-container {/* jupyter's `normalize.less` sets `[hidden] { display: none; }` but bootstrap.min.css set `[hidden] { display: none !important; }` so we also need the `!important` here to be able to override the default hidden behavior on the sphinx rendered scikit-learn.org. See: https://github.com/scikit-learn/scikit-learn/issues/21755 */display: inline-block !important;position: relative;}#sk-container-id-23 div.sk-text-repr-fallback {display: none;}</style><div id=\"sk-container-id-23\" class=\"sk-top-container\"><div class=\"sk-text-repr-fallback\"><pre>XGBRegressor(base_score=None, booster=None, callbacks=None,\n",
              "             colsample_bylevel=None, colsample_bynode=None,\n",
              "             colsample_bytree=None, early_stopping_rounds=None,\n",
              "             enable_categorical=False, eval_metric=None, feature_types=None,\n",
              "             gamma=None, gpu_id=None, grow_policy=None, importance_type=None,\n",
              "             interaction_constraints=None, learning_rate=0.098, max_bin=None,\n",
              "             max_cat_threshold=None, max_cat_to_onehot=None,\n",
              "             max_delta_step=None, max_depth=4, max_leaves=None,\n",
              "             min_child_weight=None, missing=nan, monotone_constraints=None,\n",
              "             n_estimators=100, n_jobs=None, num_parallel_tree=None,\n",
              "             predictor=None, random_state=1300, ...)</pre><b>In a Jupyter environment, please rerun this cell to show the HTML representation or trust the notebook. <br />On GitHub, the HTML representation is unable to render, please try loading this page with nbviewer.org.</b></div><div class=\"sk-container\" hidden><div class=\"sk-item\"><div class=\"sk-estimator sk-toggleable\"><input class=\"sk-toggleable__control sk-hidden--visually\" id=\"sk-estimator-id-23\" type=\"checkbox\" checked><label for=\"sk-estimator-id-23\" class=\"sk-toggleable__label sk-toggleable__label-arrow\">XGBRegressor</label><div class=\"sk-toggleable__content\"><pre>XGBRegressor(base_score=None, booster=None, callbacks=None,\n",
              "             colsample_bylevel=None, colsample_bynode=None,\n",
              "             colsample_bytree=None, early_stopping_rounds=None,\n",
              "             enable_categorical=False, eval_metric=None, feature_types=None,\n",
              "             gamma=None, gpu_id=None, grow_policy=None, importance_type=None,\n",
              "             interaction_constraints=None, learning_rate=0.098, max_bin=None,\n",
              "             max_cat_threshold=None, max_cat_to_onehot=None,\n",
              "             max_delta_step=None, max_depth=4, max_leaves=None,\n",
              "             min_child_weight=None, missing=nan, monotone_constraints=None,\n",
              "             n_estimators=100, n_jobs=None, num_parallel_tree=None,\n",
              "             predictor=None, random_state=1300, ...)</pre></div></div></div></div></div>"
            ]
          },
          "metadata": {},
          "execution_count": 79
        }
      ]
    },
    {
      "cell_type": "code",
      "execution_count": null,
      "metadata": {
        "colab": {
          "base_uri": "https://localhost:8080/",
          "height": 499
        },
        "id": "hf-0HsGtvt7P",
        "outputId": "190d3755-5f9b-454b-d937-792fbcffa48f"
      },
      "outputs": [
        {
          "output_type": "display_data",
          "data": {
            "text/plain": [
              "<Figure size 800x600 with 1 Axes>"
            ],
            "image/png": "[encoded data removed]"
          },
          "metadata": {}
        }
      ],
      "source": [
        "ftr_importances_values = xgb_best_dr2.feature_importances_\n",
        "ftr_importances = pd.Series(ftr_importances_values,index=X_train_scaled_dr2.columns  )\n",
        "ftr_top20 = ftr_importances.sort_values(ascending=False)\n",
        "\n",
        "plt.figure(figsize=(8,6))\n",
        "plt.title('Feature importances')\n",
        "sns.barplot(x=ftr_top20 , y = ftr_top20.index)\n",
        "plt.show()"
      ]
    },
    {
      "cell_type": "markdown",
      "metadata": {
        "id": "SkXtFuYgIOap"
      },
      "source": [
        "### 5) 앙상블"
      ]
    },
    {
      "cell_type": "markdown",
      "metadata": {
        "id": "QRCBXygbIUca"
      },
      "source": [
        "**소프트맥스**"
      ]
    },
    {
      "cell_type": "markdown",
      "source": [
        "2. 랜덤서치 "
      ],
      "metadata": {
        "id": "aI4TIF2q0Bdc"
      }
    },
    {
      "cell_type": "code",
      "execution_count": null,
      "metadata": {
        "id": "YUEgYGfrW-z7"
      },
      "outputs": [],
      "source": [
        "y_pred_soft = 0.4*y_pred_gbm_rd + 0.3*y_pred_xgb_rd + 0.2*y_pred_lgbm_rd + 0.1*y_pred_rf_rd_rs\n",
        "\n",
        "MSE_soft = mean_squared_error(y_tr_test, y_pred_soft) \n",
        "np.sqrt(MSE_soft)"
      ]
    },
    {
      "cell_type": "markdown",
      "metadata": {
        "id": "M9HYiyoYu3cF"
      },
      "source": [
        "**3. 성능개선 try1 : 동코드 drop**"
      ]
    },
    {
      "cell_type": "code",
      "execution_count": null,
      "metadata": {
        "id": "-gmi9MRst85b"
      },
      "outputs": [],
      "source": [
        "y_pred_rf_rd_rs_dr = rf_best_dr.predict(test_scaled_dr)\n",
        "y_pred_gbm_rd_dr = gbm_best_dr.predict(test_scaled_dr)\n",
        "y_pred_lgbm_rd_dr = lgbm_best_dr.predict(test_scaled_dr)\n",
        "y_pred_xgb_rd_dr = xgb_best_dr.predict(test_scaled_dr)\n",
        "\n",
        "y_pred_soft_dr = 0.1*y_pred_gbm_rd_dr + 0.2*y_pred_xgb_rd_dr + 0.2*y_pred_lgbm_rd_dr + 0.5*y_pred_rf_rd_rs_dr"
      ]
    },
    {
      "cell_type": "markdown",
      "source": [
        "**4. 성능개선 try2 : 시코드 drop**"
      ],
      "metadata": {
        "id": "c9NrYWvBv3OZ"
      }
    },
    {
      "cell_type": "code",
      "source": [
        "y_pred_rf_rd_dr2 = rf_best_dr2.predict(test_scaled_dr2)\n",
        "y_pred_gbm_rd_dr2 = gbm_best_dr2.predict(test_scaled_dr2)\n",
        "y_pred_lgbm_rd_dr2 = lgbm_best_dr2.predict(test_scaled_dr2)\n",
        "y_pred_xgb_rd_dr2 = xgb_best_dr2.predict(test_scaled_dr2)\n",
        "\n",
        "y_pred_soft_dr2_4 = 0.9*y_pred_gbm_rd_dr2 + 0*y_pred_xgb_rd_dr2 + 0*y_pred_lgbm_rd_dr2 + 0.1*y_pred_rf_rd_dr2"
      ],
      "metadata": {
        "id": "z0rfIQctv3VP"
      },
      "execution_count": null,
      "outputs": []
    },
    {
      "cell_type": "code",
      "source": [
        "y_pred_gbm_rd_dr2_re = gbm_best_dr2_re.predict(test_scaled_dr2)"
      ],
      "metadata": {
        "id": "Se4zoWvWN6lL"
      },
      "execution_count": null,
      "outputs": []
    },
    {
      "cell_type": "markdown",
      "metadata": {
        "id": "r_ZW7v38Q1R9"
      },
      "source": [
        "# 정답파일 생성"
      ]
    },
    {
      "cell_type": "code",
      "execution_count": null,
      "metadata": {
        "id": "rx0-mIPCkluL",
        "colab": {
          "base_uri": "https://localhost:8080/",
          "height": 206
        },
        "outputId": "6d60de39-00a9-464c-9311-a1cc7dc20b29"
      },
      "outputs": [
        {
          "output_type": "execute_result",
          "data": {
            "text/plain": [
              "   index  운송장_건수\n",
              "0      0       0\n",
              "1      1       0\n",
              "2      2       0\n",
              "3      3       0\n",
              "4      4       0"
            ],
            "text/html": [
              "\n",
              "  <div id=\"df-64e3455f-3cdd-4610-8287-3604424e7231\">\n",
              "    <div class=\"colab-df-container\">\n",
              "      <div>\n",
              "<style scoped>\n",
              "    .dataframe tbody tr th:only-of-type {\n",
              "        vertical-align: middle;\n",
              "    }\n",
              "\n",
              "    .dataframe tbody tr th {\n",
              "        vertical-align: top;\n",
              "    }\n",
              "\n",
              "    .dataframe thead th {\n",
              "        text-align: right;\n",
              "    }\n",
              "</style>\n",
              "<table border=\"1\" class=\"dataframe\">\n",
              "  <thead>\n",
              "    <tr style=\"text-align: right;\">\n",
              "      <th></th>\n",
              "      <th>index</th>\n",
              "      <th>운송장_건수</th>\n",
              "    </tr>\n",
              "  </thead>\n",
              "  <tbody>\n",
              "    <tr>\n",
              "      <th>0</th>\n",
              "      <td>0</td>\n",
              "      <td>0</td>\n",
              "    </tr>\n",
              "    <tr>\n",
              "      <th>1</th>\n",
              "      <td>1</td>\n",
              "      <td>0</td>\n",
              "    </tr>\n",
              "    <tr>\n",
              "      <th>2</th>\n",
              "      <td>2</td>\n",
              "      <td>0</td>\n",
              "    </tr>\n",
              "    <tr>\n",
              "      <th>3</th>\n",
              "      <td>3</td>\n",
              "      <td>0</td>\n",
              "    </tr>\n",
              "    <tr>\n",
              "      <th>4</th>\n",
              "      <td>4</td>\n",
              "      <td>0</td>\n",
              "    </tr>\n",
              "  </tbody>\n",
              "</table>\n",
              "</div>\n",
              "      <button class=\"colab-df-convert\" onclick=\"convertToInteractive('df-64e3455f-3cdd-4610-8287-3604424e7231')\"\n",
              "              title=\"Convert this dataframe to an interactive table.\"\n",
              "              style=\"display:none;\">\n",
              "        \n",
              "  <svg xmlns=\"http://www.w3.org/2000/svg\" height=\"24px\"viewBox=\"0 0 24 24\"\n",
              "       width=\"24px\">\n",
              "    <path d=\"M0 0h24v24H0V0z\" fill=\"none\"/>\n",
              "    <path d=\"M18.56 5.44l.94 2.06.94-2.06 2.06-.94-2.06-.94-.94-2.06-.94 2.06-2.06.94zm-11 1L8.5 8.5l.94-2.06 2.06-.94-2.06-.94L8.5 2.5l-.94 2.06-2.06.94zm10 10l.94 2.06.94-2.06 2.06-.94-2.06-.94-.94-2.06-.94 2.06-2.06.94z\"/><path d=\"M17.41 7.96l-1.37-1.37c-.4-.4-.92-.59-1.43-.59-.52 0-1.04.2-1.43.59L10.3 9.45l-7.72 7.72c-.78.78-.78 2.05 0 2.83L4 21.41c.39.39.9.59 1.41.59.51 0 1.02-.2 1.41-.59l7.78-7.78 2.81-2.81c.8-.78.8-2.07 0-2.86zM5.41 20L4 18.59l7.72-7.72 1.47 1.35L5.41 20z\"/>\n",
              "  </svg>\n",
              "      </button>\n",
              "      \n",
              "  <style>\n",
              "    .colab-df-container {\n",
              "      display:flex;\n",
              "      flex-wrap:wrap;\n",
              "      gap: 12px;\n",
              "    }\n",
              "\n",
              "    .colab-df-convert {\n",
              "      background-color: #E8F0FE;\n",
              "      border: none;\n",
              "      border-radius: 50%;\n",
              "      cursor: pointer;\n",
              "      display: none;\n",
              "      fill: #1967D2;\n",
              "      height: 32px;\n",
              "      padding: 0 0 0 0;\n",
              "      width: 32px;\n",
              "    }\n",
              "\n",
              "    .colab-df-convert:hover {\n",
              "      background-color: #E2EBFA;\n",
              "      box-shadow: 0px 1px 2px rgba(60, 64, 67, 0.3), 0px 1px 3px 1px rgba(60, 64, 67, 0.15);\n",
              "      fill: #174EA6;\n",
              "    }\n",
              "\n",
              "    [theme=dark] .colab-df-convert {\n",
              "      background-color: #3B4455;\n",
              "      fill: #D2E3FC;\n",
              "    }\n",
              "\n",
              "    [theme=dark] .colab-df-convert:hover {\n",
              "      background-color: #434B5C;\n",
              "      box-shadow: 0px 1px 3px 1px rgba(0, 0, 0, 0.15);\n",
              "      filter: drop-shadow(0px 1px 2px rgba(0, 0, 0, 0.3));\n",
              "      fill: #FFFFFF;\n",
              "    }\n",
              "  </style>\n",
              "\n",
              "      <script>\n",
              "        const buttonEl =\n",
              "          document.querySelector('#df-64e3455f-3cdd-4610-8287-3604424e7231 button.colab-df-convert');\n",
              "        buttonEl.style.display =\n",
              "          google.colab.kernel.accessAllowed ? 'block' : 'none';\n",
              "\n",
              "        async function convertToInteractive(key) {\n",
              "          const element = document.querySelector('#df-64e3455f-3cdd-4610-8287-3604424e7231');\n",
              "          const dataTable =\n",
              "            await google.colab.kernel.invokeFunction('convertToInteractive',\n",
              "                                                     [key], {});\n",
              "          if (!dataTable) return;\n",
              "\n",
              "          const docLinkHtml = 'Like what you see? Visit the ' +\n",
              "            '<a target=\"_blank\" href=https://colab.research.google.com/notebooks/data_table.ipynb>data table notebook</a>'\n",
              "            + ' to learn more about interactive tables.';\n",
              "          element.innerHTML = '';\n",
              "          dataTable['output_type'] = 'display_data';\n",
              "          await google.colab.output.renderOutput(dataTable, element);\n",
              "          const docLink = document.createElement('div');\n",
              "          docLink.innerHTML = docLinkHtml;\n",
              "          element.appendChild(docLink);\n",
              "        }\n",
              "      </script>\n",
              "    </div>\n",
              "  </div>\n",
              "  "
            ]
          },
          "metadata": {},
          "execution_count": 84
        }
      ],
      "source": [
        "submission = pd.read_csv('sample_submission.csv')\n",
        "submission.head()"
      ]
    },
    {
      "cell_type": "code",
      "execution_count": null,
      "metadata": {
        "id": "gWv-LVollWs4"
      },
      "outputs": [],
      "source": [
        "submission['운송장_건수'] = y_pred_soft\n",
        "submission.to_csv('/content/drive/MyDrive/ESAA/OB프로젝트/sub_soft3.csv',index = False, encoding=\"utf-8-sig\")"
      ]
    },
    {
      "cell_type": "code",
      "execution_count": null,
      "metadata": {
        "id": "diOfR-XUtaI8"
      },
      "outputs": [],
      "source": [
        "y_pred_rf_rd = model_rf_rd.best_estimator_.predict(test)\n",
        "submission['운송장_건수'] = y_pred_rf_rd\n",
        "submission.to_csv('/content/drive/MyDrive/ESAA/OB프로젝트/sub_rf_rd.csv',index = False, encoding=\"utf-8-sig\")"
      ]
    },
    {
      "cell_type": "code",
      "execution_count": null,
      "metadata": {
        "id": "QuBKqs0f0Idj"
      },
      "outputs": [],
      "source": [
        "# 29일날 제출해보기\n",
        "y_pred_rf_rd_rs = model_rf_rd_rs.best_estimator_.predict(test)\n",
        "submission['운송장_건수'] = y_pred_rf_rd_rs\n",
        "submission.to_csv('/content/drive/MyDrive/ESAA/OB프로젝트/sub_rf_rd_rs.csv',index = False, encoding=\"utf-8-sig\")"
      ]
    },
    {
      "cell_type": "code",
      "execution_count": null,
      "metadata": {
        "id": "ue6dfOc2feW-"
      },
      "outputs": [],
      "source": [
        "y_pred_gbm_rd_sc = model_gbm_rd.best_estimator_.predict(test_scaled)\n",
        "submission['운송장_건수'] = y_pred_gbm_rd_sc\n",
        "submission.to_csv('/content/drive/MyDrive/ESAA/OB프로젝트/sub_gbm_rd_sc.csv',index = False, encoding=\"utf-8-sig\")"
      ]
    },
    {
      "cell_type": "code",
      "execution_count": null,
      "metadata": {
        "id": "8RGiGvCpfeZn"
      },
      "outputs": [],
      "source": [
        "y_pred_lgbm_rd_sc = model_lgbm_rd.best_estimator_.predict(test_scaled)\n",
        "submission['운송장_건수'] = y_pred_lgbm_rd_sc\n",
        "submission.to_csv('/content/drive/MyDrive/ESAA/OB프로젝트/sub_lgbm_rd_sc.csv',index = False, encoding=\"utf-8-sig\")"
      ]
    },
    {
      "cell_type": "code",
      "execution_count": null,
      "metadata": {
        "id": "ZeMnCJ71fecV"
      },
      "outputs": [],
      "source": [
        "y_pred_xgb_rd_sc = model_xgb_rd.best_estimator_.predict(test_scaled)\n",
        "submission['운송장_건수'] = y_pred_xgb_rd_sc\n",
        "submission.to_csv('/content/drive/MyDrive/ESAA/OB프로젝트/sub_xgb_rd_sc.csv',index = False, encoding=\"utf-8-sig\")"
      ]
    },
    {
      "cell_type": "markdown",
      "metadata": {
        "id": "4iY29i8fu4aF"
      },
      "source": [
        "**성능개선 try : 동코드 drop**"
      ]
    },
    {
      "cell_type": "code",
      "source": [
        "submission['운송장_건수'] = y_pred_soft_dr*0.3 + y_pred_gbm_rd_dr2*0.7\n",
        "submission.to_csv('/content/drive/MyDrive/ESAA/OB프로젝트1/(soft_dr1)+(gbm_dr2).csv',index = False, encoding=\"utf-8-sig\")"
      ],
      "metadata": {
        "id": "TJXqfnChG6q1"
      },
      "execution_count": null,
      "outputs": []
    },
    {
      "cell_type": "code",
      "execution_count": null,
      "metadata": {
        "id": "ozzDW2Asu_H7"
      },
      "outputs": [],
      "source": [
        "submission['운송장_건수'] = y_pred_soft_dr\n",
        "submission.to_csv('/content/drive/MyDrive/ESAA/OB프로젝트/sub_soft3_dr.csv',index = False, encoding=\"utf-8-sig\")"
      ]
    },
    {
      "cell_type": "code",
      "source": [
        "submission['운송장_건수'] = y_pred_soft_dr2_4\n",
        "submission.to_csv('/content/drive/MyDrive/ESAA/OB프로젝트1/sub_soft_dr2_4.csv',index = False, encoding=\"utf-8-sig\")"
      ],
      "metadata": {
        "id": "ZPWznijnDbC1"
      },
      "execution_count": null,
      "outputs": []
    },
    {
      "cell_type": "code",
      "source": [
        "submission['운송장_건수'] = y_pred_gbm_rd_dr2\n",
        "submission.to_csv('/content/drive/MyDrive/ESAA/OB프로젝트1/sub_gbm_dr2.csv',index = False, encoding=\"utf-8-sig\")"
      ],
      "metadata": {
        "id": "scPLuBFUEOEw"
      },
      "execution_count": null,
      "outputs": []
    },
    {
      "cell_type": "code",
      "source": [
        "submission['운송장_건수'] = y_pred_xgb_rd_dr2\n",
        "submission.to_csv('/content/drive/MyDrive/ESAA/OB프로젝트1/sub_xgb_dr2.csv',index = False, encoding=\"utf-8-sig\")"
      ],
      "metadata": {
        "id": "jqlTyFAdElJh"
      },
      "execution_count": null,
      "outputs": []
    },
    {
      "cell_type": "code",
      "source": [
        "submission['운송장_건수'] = y_pred_gbm_rd_dr2_re*0.2 + y_pred_gbm_rd_dr2*0.8\n",
        "submission.to_csv('/content/drive/MyDrive/ESAA/OB프로젝트1/sub_gbm_dr2_re.csv',index = False, encoding=\"utf-8-sig\")"
      ],
      "metadata": {
        "id": "5AL9gW8VOBwy"
      },
      "execution_count": null,
      "outputs": []
    },
    {
      "cell_type": "code",
      "source": [
        "submission['운송장_건수'] = y_pred_soft_dr*0.1 + y_pred_gbm_rd_dr2_re*0.2 + y_pred_gbm_rd_dr2*0.7\n",
        "submission.to_csv('/content/drive/MyDrive/ESAA/OB프로젝트1/sub_gbm_dr2_re3.csv',index = False, encoding=\"utf-8-sig\")"
      ],
      "metadata": {
        "id": "jebbQUPPQJk6"
      },
      "execution_count": null,
      "outputs": []
    },
    {
      "cell_type": "code",
      "source": [
        "submission['운송장_건수'] = y_pred_gbm_rd_dr2_re*0.3 + y_pred_gbm_rd_dr2*0.7\n",
        "submission.to_csv('/content/drive/MyDrive/ESAA/OB프로젝트1/sub_gbm_dr2_re4.csv',index = False, encoding=\"utf-8-sig\")\n",
        "## 최종!! 100등!!!"
      ],
      "metadata": {
        "id": "MIUsdab8QauE"
      },
      "execution_count": null,
      "outputs": []
    },
    {
      "cell_type": "markdown",
      "source": [
        "# 05 시각화"
      ],
      "metadata": {
        "id": "x7NJZuWRvOZK"
      }
    },
    {
      "cell_type": "markdown",
      "source": [
        "## 1) 지역별\n"
      ],
      "metadata": {
        "id": "v_nMv_i6vQew"
      }
    },
    {
      "cell_type": "markdown",
      "source": [
        "#### 지역별(송하인:제주도)"
      ],
      "metadata": {
        "id": "7thc-Xhvp0np"
      }
    },
    {
      "cell_type": "markdown",
      "source": [
        "- 송하인이 제주도인 데이터만 추출 (제주도코드 50130, 50110)"
      ],
      "metadata": {
        "id": "BcJ3qUh3xHCg"
      }
    },
    {
      "cell_type": "code",
      "source": [
        "#제주도 제주시 -> 제주시 \n",
        "df[df['송하인_시군구코드']=='50110'][df['수하인_시군구코드']=='50110']['운송장_건수'].sum()"
      ],
      "metadata": {
        "id": "vXh6Y_eICuEb"
      },
      "execution_count": null,
      "outputs": []
    },
    {
      "cell_type": "code",
      "source": [
        "#제주도 제주시가 송하인일때\n",
        "df[df['송하인_시군구코드']=='50110'].groupby(['수하인_시군구코드'])['운송장_건수'].sum().sort_values()"
      ],
      "metadata": {
        "id": "A9BxyDUwBzNT"
      },
      "execution_count": null,
      "outputs": []
    },
    {
      "cell_type": "code",
      "source": [
        "#제주도 서귀포시 -> 서귀포시\n",
        "df[df['송하인_시군구코드']=='50130'][df['수하인_시군구코드']=='50130']['운송장_건수'].sum()"
      ],
      "metadata": {
        "id": "dge6nDV_DIVg"
      },
      "execution_count": null,
      "outputs": []
    },
    {
      "cell_type": "code",
      "source": [
        "#제주도 서귀포시가 송하인일때\n",
        "df[df['송하인_시군구코드']=='50130'].groupby(['수하인_시군구코드'])['운송장_건수'].sum().sort_values()"
      ],
      "metadata": {
        "id": "ABSQDV9NCOu8"
      },
      "execution_count": null,
      "outputs": []
    },
    {
      "cell_type": "code",
      "source": [
        "#제주도(제주시+서귀포시)가 송하인일때\n",
        "df[(df['송하인_시군구코드']=='50130')|(df['송하인_시군구코드']=='50110')].groupby(['수하인_시군구코드'])['운송장_건수'].sum().sort_values()"
      ],
      "metadata": {
        "id": "zrnC8hJfDroK"
      },
      "execution_count": null,
      "outputs": []
    },
    {
      "cell_type": "code",
      "source": [
        "#제주도(제주시+서귀포시)가 송하인일때 시군구별 운송장건수 합계\n",
        "df[(df['송하인_시군구코드']=='50130')|(df['송하인_시군구코드']=='50130')].groupby(['수하인_시군구코드'])['운송장_건수'].sum().sort_values()"
      ],
      "metadata": {
        "id": "PSrlu7u_D5a9"
      },
      "execution_count": null,
      "outputs": []
    },
    {
      "cell_type": "code",
      "source": [
        "#제주도(제주시+서귀포시)가 송하인일때 시군구별 운송장건수 합계\n",
        "df_FromJeju_Where = df[(df['송하인_시군구코드']=='50130')|(df['송하인_시군구코드']=='50110')].groupby(['수하인_시군구코드'])['운송장_건수'].sum().to_frame().reset_index()\n",
        "df_FromJeju_Where"
      ],
      "metadata": {
        "id": "p0BFiecWQANn"
      },
      "execution_count": null,
      "outputs": []
    },
    {
      "cell_type": "code",
      "source": [
        "import folium\n",
        "\n",
        "bins = list(df_FromJeju_Where['운송장_건수'].quantile([0, 0.25, 0.5, 0.75, 1]))\n",
        "korea_map = folium.Map(location=[35.8, 128.071503], zoom_start=7,) #[위도,경도] 입력 후 확대 비율 설정\n",
        "\n",
        "\n",
        "korea_DO = '/content/drive/MyDrive/OB1조/프로젝트(1)/Data//SIDO_MAP_2022.json'\n",
        "distribution_map.choropleth(geo_data=korea_DO, line_color='blue',line_weight=4,fill_color='white',fill_opacity=0.1,Highlight = True, show = False,overlay = True, line_opacity=0.8)\n",
        "\n",
        "korea_SIGUNGU = '/content/drive/MyDrive/OB1조/프로젝트(1)/Data/TL_SCCO_SIG.json'\n",
        "distribution_map.choropleth(geo_data=korea_SIGUNGU, line_color='black',line_weight=2.5,fill_color='white',fill_opacity=0.1, line_opacity=0.4)\n",
        "\n",
        "\n",
        "folium.Choropleth(geo_data=korea_SIGUNGU, data = df_FromJeju_Where, \n",
        "                  columns=('수하인_시군구코드', '운송장_건수'),\n",
        "                  key_on='feature.properties.SIG_CD',\n",
        "                  fill_color='BuPu',\n",
        "                  bins = bins,\n",
        "                legend_name='수하인 운송장 건수').add_to(korea_map)\n",
        "korea_map"
      ],
      "metadata": {
        "id": "NKLhXz0Jzdpf"
      },
      "execution_count": null,
      "outputs": []
    },
    {
      "cell_type": "markdown",
      "source": [
        "#### 지역별(수하인:제주도)"
      ],
      "metadata": {
        "id": "gTm-3wbrp7m_"
      }
    },
    {
      "cell_type": "code",
      "source": [
        "#수하인이 제주도일때 \n",
        "df_ToJeju_Where = df[(df['수하인_시군구코드']=='50130')|(df['수하인_시군구코드']=='50110')].groupby(['송하인_시군구코드'])['운송장_건수'].sum().to_frame().reset_index()\n",
        "df_ToJeju_Where"
      ],
      "metadata": {
        "id": "xP0PhoS24zGw"
      },
      "execution_count": null,
      "outputs": []
    },
    {
      "cell_type": "code",
      "source": [
        "import folium\n",
        "\n",
        "bins = list(df_ToJeju_Where['운송장_건수'].quantile([0, 0.25, 0.5, 0.75, 1]))\n",
        "korea_map = folium.Map(location=[35.8, 128.071503], zoom_start=7,) #[위도,경도] 입력 후 확대 비율 설정\n",
        "\n",
        "\n",
        "korea_DO = '/content/drive/MyDrive/OB1조/프로젝트(1)/Data//SIDO_MAP_2022.json'\n",
        "distribution_map.choropleth(geo_data=korea_DO, line_color='blue',line_weight=4,fill_color='white',fill_opacity=0.1,Highlight = True, show = False,overlay = True, line_opacity=0.8)\n",
        "\n",
        "korea_SIGUNGU = '/content/drive/MyDrive/OB1조/프로젝트(1)/Data/TL_SCCO_SIG.json'\n",
        "distribution_map.choropleth(geo_data=korea_SIGUNGU, line_color='black',line_weight=2.5,fill_color='white',fill_opacity=0.1, line_opacity=0.4)\n",
        "\n",
        "\n",
        "folium.Choropleth(geo_data=korea_SIGUNGU, data = df_ToJeju_Where, \n",
        "                  columns=('송하인_시군구코드', '운송장_건수'),\n",
        "                  key_on='feature.properties.SIG_CD',\n",
        "                  fill_color='BuPu',\n",
        "                  bins=bins,\n",
        "                  legend_name='송하인 운송장 건수').add_to(korea_map)\n",
        "korea_map"
      ],
      "metadata": {
        "id": "U_L8sy5KL6aK"
      },
      "execution_count": null,
      "outputs": []
    },
    {
      "cell_type": "markdown",
      "source": [
        "## 2) 물품별"
      ],
      "metadata": {
        "id": "4ljO3feBvS1w"
      }
    },
    {
      "cell_type": "markdown",
      "source": [
        "#### 물품별 (송하인: 제주도)"
      ],
      "metadata": {
        "id": "zTnW-uGWQYEG"
      }
    },
    {
      "cell_type": "code",
      "source": [
        "df_FromJeju = df[(df['송하인_시군구코드']=='50130')|(df['송하인_시군구코드']=='50110')]\n",
        "df_FromJeju"
      ],
      "metadata": {
        "id": "wDfIIT-3KO4H"
      },
      "execution_count": null,
      "outputs": []
    },
    {
      "cell_type": "code",
      "source": [
        "#송하인: 제주도 / 지역 별 어떤 물건을 많이 받나? \n",
        "df_FromJeju_What = df_FromJeju.groupby(['물품_카테고리_대분류'])['운송장_건수'].sum().to_frame().reset_index()\n",
        "df_FromJeju_What"
      ],
      "metadata": {
        "id": "B2QZDUUsODhK"
      },
      "execution_count": null,
      "outputs": []
    },
    {
      "cell_type": "code",
      "source": [
        "import matplotlib.pyplot as plt\n",
        "import numpy as np\n",
        " \n",
        "## 데이터 준비\n",
        "labels = df_FromJeju_What['물품_카테고리_대분류'].tolist() ## 라벨\n",
        "frequency = df_FromJeju_What['운송장_건수'].tolist() ## 빈도\n",
        " \n",
        "fig = plt.figure(figsize=(8,8)) ## 캔버스 생성\n",
        "fig.set_facecolor('white') ## 캔버스 배경색을 하얀색으로 설정\n",
        "ax = fig.add_subplot() ## 프레임 생성\n",
        " \n",
        "pie = ax.pie(frequency, ## 파이차트 출력\n",
        "       startangle=90, ## 시작점을 90도(degree)로 지정\n",
        "       counterclock=False, ## 시계 방향으로 그린다.\n",
        "       autopct=lambda p : '{:.2f}%'.format(p), ## 퍼센티지 출력\n",
        "       wedgeprops=dict(width=0.5) ## 중간의 반지름 0.5만큼 구멍을 뚫어준다.\n",
        "       )\n",
        " \n",
        "plt.legend(pie[0],labels) ## 범례 표시\n",
        "plt.show()"
      ],
      "metadata": {
        "id": "vfBSlPDqVlx6"
      },
      "execution_count": null,
      "outputs": []
    },
    {
      "cell_type": "code",
      "source": [
        "x = df_FromJeju_What['물품_카테고리_대분류'].tolist()\n",
        "values = df_FromJeju_What['운송장_건수'].tolist()\n",
        "\n",
        "plt.bar(x, values)\n",
        "\n",
        "plt.show()"
      ],
      "metadata": {
        "id": "0cDQQQ2doHn5"
      },
      "execution_count": null,
      "outputs": []
    },
    {
      "cell_type": "code",
      "source": [
        "# 식품 중에서 어떤 걸 많이?\n",
        "df_FromJeju_Food = df_FromJeju[df_FromJeju['물품_카테고리_대분류'] == '식품'].groupby('물품_카테고리')['운송장_건수'].sum().to_frame().reset_index()\n",
        "df_FromJeju_Food"
      ],
      "metadata": {
        "id": "n8xbcZtIjHjN"
      },
      "execution_count": null,
      "outputs": []
    },
    {
      "cell_type": "code",
      "source": [
        "## 데이터 준비\n",
        "labels = df_FromJeju_Food['물품_카테고리'].tolist() ## 라벨\n",
        "frequency = df_FromJeju_Food['운송장_건수'].tolist() ## 빈도\n",
        " \n",
        "fig = plt.figure(figsize=(8,8)) ## 캔버스 생성\n",
        "fig.set_facecolor('white') ## 캔버스 배경색을 하얀색으로 설정\n",
        "ax = fig.add_subplot() ## 프레임 생성\n",
        " \n",
        "pie = ax.pie(frequency, ## 파이차트 출력\n",
        "       startangle=90, ## 시작점을 90도(degree)로 지정\n",
        "       counterclock=False, ## 시계 방향으로 그린다.\n",
        "       autopct=lambda p : '{:.2f}%'.format(p), ## 퍼센티지 출력\n",
        "       wedgeprops=dict(width=0.5) ## 중간의 반지름 0.5만큼 구멍을 뚫어준다.\n",
        "       )\n",
        " \n",
        "plt.legend(pie[0],labels) ## 범례 표시\n",
        "plt.show()"
      ],
      "metadata": {
        "id": "S9i2rMVvi0Yh"
      },
      "execution_count": null,
      "outputs": []
    },
    {
      "cell_type": "markdown",
      "source": [
        "#### 물품별 (수하인: 제주도)"
      ],
      "metadata": {
        "id": "DiD-VVHIo-6b"
      }
    },
    {
      "cell_type": "code",
      "source": [
        "df_ToJeju = df[(df['수하인_시군구코드']=='50130')|(df['수하인_시군구코드']=='50110')]\n",
        "df_ToJeju"
      ],
      "metadata": {
        "id": "hdL0s4Y3o-6m"
      },
      "execution_count": null,
      "outputs": []
    },
    {
      "cell_type": "code",
      "source": [
        "#수하인: 제주도 / 지역 별 어떤 물건을 많이 보내나? \n",
        "df_ToJeju_What = df_ToJeju.groupby(['물품_카테고리_대분류'])['운송장_건수'].sum().to_frame().reset_index()\n",
        "df_ToJeju_What"
      ],
      "metadata": {
        "id": "sQZRhW4io-6m"
      },
      "execution_count": null,
      "outputs": []
    },
    {
      "cell_type": "code",
      "source": [
        "## 데이터 준비\n",
        "labels = df_ToJeju_What['물품_카테고리_대분류'].tolist() ## 라벨\n",
        "frequency = df_ToJeju_What['운송장_건수'].tolist() ## 빈도\n",
        " \n",
        "fig = plt.figure(figsize=(8,8)) ## 캔버스 생성\n",
        "fig.set_facecolor('white') ## 캔버스 배경색을 하얀색으로 설정\n",
        "ax = fig.add_subplot() ## 프레임 생성\n",
        " \n",
        "pie = ax.pie(frequency, ## 파이차트 출력\n",
        "       startangle=90, ## 시작점을 90도(degree)로 지정\n",
        "       counterclock=False, ## 시계 방향으로 그린다.\n",
        "       autopct=lambda p : '{:.2f}%'.format(p), ## 퍼센티지 출력\n",
        "       wedgeprops=dict(width=0.5) ## 중간의 반지름 0.5만큼 구멍을 뚫어준다.\n",
        "       )\n",
        " \n",
        "plt.legend(pie[0],labels) ## 범례 표시\n",
        "plt.show()"
      ],
      "metadata": {
        "id": "oyauTjZRo-6n"
      },
      "execution_count": null,
      "outputs": []
    },
    {
      "cell_type": "code",
      "source": [
        "x = df_ToJeju_What['물품_카테고리_대분류'].tolist()\n",
        "values = df_ToJeju_What['운송장_건수'].tolist()\n",
        "\n",
        "plt.bar(x, values)\n",
        "\n",
        "plt.show()"
      ],
      "metadata": {
        "id": "Ul3SlSTVo-6n"
      },
      "execution_count": null,
      "outputs": []
    },
    {
      "cell_type": "code",
      "source": [
        "# 식품 중에서 어떤 걸 많이?\n",
        "df_ToJeju_Food = df_ToJeju[df_ToJeju['물품_카테고리_대분류'] == '식품'].groupby('물품_카테고리')['운송장_건수'].sum().to_frame().reset_index()\n",
        "df_ToJeju_Food"
      ],
      "metadata": {
        "id": "OeYPsbeGo-6n"
      },
      "execution_count": null,
      "outputs": []
    },
    {
      "cell_type": "code",
      "source": [
        "import numpy as np\n",
        " \n",
        "## 데이터 준비\n",
        "labels = df_ToJeju_Food['물품_카테고리'].tolist() ## 라벨\n",
        "frequency = df_ToJeju_Food['운송장_건수'].tolist() ## 빈도\n",
        " \n",
        "fig = plt.figure(figsize=(8,8)) ## 캔버스 생성\n",
        "fig.set_facecolor('white') ## 캔버스 배경색을 하얀색으로 설정\n",
        "ax = fig.add_subplot() ## 프레임 생성\n",
        " \n",
        "pie = ax.pie(frequency, ## 파이차트 출력\n",
        "       startangle=90, ## 시작점을 90도(degree)로 지정\n",
        "       counterclock=False, ## 시계 방향으로 그린다.\n",
        "       autopct=lambda p : '{:.2f}%'.format(p), ## 퍼센티지 출력\n",
        "       wedgeprops=dict(width=0.5) ## 중간의 반지름 0.5만큼 구멍을 뚫어준다.\n",
        "       )\n",
        " \n",
        "plt.legend(pie[0],labels) ## 범례 표시\n",
        "plt.show()"
      ],
      "metadata": {
        "id": "BrnqOF4Io-6n"
      },
      "execution_count": null,
      "outputs": []
    }
  ],
  "metadata": {
    "colab": {
      "provenance": [],
      "toc_visible": true,
      "authorship_tag": "ABX9TyPQFsmUMqJEFAF1WtMA6JFl",
      "include_colab_link": true
    },
    "kernelspec": {
      "display_name": "Python 3",
      "name": "python3"
    },
    "language_info": {
      "name": "python"
    }
  },
  "nbformat": 4,
  "nbformat_minor": 0
}