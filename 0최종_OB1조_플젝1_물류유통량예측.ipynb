{
  "nbformat": 4,
  "nbformat_minor": 0,
  "metadata": {
    "colab": {
      "provenance": [],
      "toc_visible": true,
      "include_colab_link": true
    },
    "kernelspec": {
      "name": "python3",
      "display_name": "Python 3"
    },
    "language_info": {
      "name": "python"
    }
  },
  "cells": [
    {
      "cell_type": "markdown",
      "metadata": {
        "id": "view-in-github",
        "colab_type": "text"
      },
      "source": [
        "<a href=\"https://colab.research.google.com/github/lim-jr/ESAA/blob/main/0%EC%B5%9C%EC%A2%85_OB1%EC%A1%B0_%ED%94%8C%EC%A0%9D1_%EB%AC%BC%EB%A5%98%EC%9C%A0%ED%86%B5%EB%9F%89%EC%98%88%EC%B8%A1.ipynb\" target=\"_parent\"><img src=\"https://colab.research.google.com/assets/colab-badge.svg\" alt=\"Open In Colab\"/></a>"
      ]
    },
    {
      "cell_type": "markdown",
      "metadata": {
        "id": "_eHWW5P0ibXv"
      },
      "source": [
        "# 물류 유통량 예측 경진대회\n",
        "\n",
        "https://dacon.io/competitions/official/235867/overview/description\n",
        "\n",
        "* 목적\n",
        ": 제주시 내 택배 운송 데이터를 이용하여 운송량 예측 AI 개발\n",
        "\n",
        "* 데이터 정보\n",
        "  - train_df.csv\n",
        "\n",
        "    - index : 인덱스\n",
        "    - 송하인_격자공간고유번호\n",
        "    - 수하인 격자공간고유번호\n",
        "    - 물품_카테고리\n",
        "    - 운송장_건수\n",
        "  - test_df.csv\n",
        "    - index : 인덱스\n",
        "    - 송하인_격자공간고유번호\n",
        "    - 수하인 격자공간고유번호\n",
        "    - 물품_카테고리\n",
        "  - sample_submission.csv\n",
        "    - index : 인덱스\n",
        "    - 운송장_건수\n",
        "\n",
        "\n",
        "\n"
      ]
    },
    {
      "cell_type": "markdown",
      "metadata": {
        "id": "m33uboHy26Vv"
      },
      "source": [
        "# 01 라이브러리 및 데이터 불러오기"
      ]
    },
    {
      "cell_type": "code",
      "execution_count": 1,
      "metadata": {
        "colab": {
          "base_uri": "https://localhost:8080/"
        },
        "outputId": "dc97bedd-739d-4928-97aa-c89b6321d8f0",
        "id": "3eTVtGc0LfcW"
      },
      "outputs": [
        {
          "output_type": "stream",
          "name": "stdout",
          "text": [
            "Mounted at /content/drive\n"
          ]
        }
      ],
      "source": [
        "from google.colab import drive\n",
        "drive.mount('/content/drive')"
      ]
    },
    {
      "cell_type": "code",
      "execution_count": 2,
      "metadata": {
        "id": "xFxlh36JLfcW"
      },
      "outputs": [],
      "source": [
        "import pandas as pd\n",
        "import numpy as np\n",
        "import seaborn as sns\n",
        "import matplotlib.pyplot as plt\n",
        "%matplotlib inline\n",
        "\n",
        "plt.rc('font', family='NanumBarunGothic') #matplotlib 한글 깨짐 방지\n",
        "\n",
        "import warnings\n",
        "warnings.filterwarnings(action='ignore')"
      ]
    },
    {
      "cell_type": "code",
      "execution_count": 4,
      "metadata": {
        "id": "Hlyki6BALfcX"
      },
      "outputs": [],
      "source": [
        "import os\n",
        "os.chdir(\"/content/drive/MyDrive/ESAA/OB1조/프로젝트(1)/Data/\") # working directory를 설정함"
      ]
    },
    {
      "cell_type": "code",
      "execution_count": 5,
      "metadata": {
        "id": "XiVBTuVqLfcX"
      },
      "outputs": [],
      "source": [
        "train = pd.read_csv('train.csv', index_col=0)\n",
        "test = pd.read_csv('test.csv', index_col=0)\n",
        "\n",
        "submission = pd.read_csv('sample_submission.csv')"
      ]
    },
    {
      "cell_type": "code",
      "execution_count": null,
      "metadata": {
        "id": "NJgjQ9rgb9Pa"
      },
      "outputs": [],
      "source": [
        "train.head()"
      ]
    },
    {
      "cell_type": "code",
      "execution_count": null,
      "metadata": {
        "id": "q7FWc9uNb-Wh"
      },
      "outputs": [],
      "source": [
        "test.head()"
      ]
    },
    {
      "cell_type": "code",
      "execution_count": null,
      "metadata": {
        "id": "KUSh9KgBb_Ub"
      },
      "outputs": [],
      "source": [
        "train.info()"
      ]
    },
    {
      "cell_type": "markdown",
      "metadata": {
        "id": "2T79wrMVnfo9"
      },
      "source": [
        "- null 데이터 없이 잘 들어가 있음을 알 수 있다. "
      ]
    },
    {
      "cell_type": "code",
      "execution_count": null,
      "metadata": {
        "id": "xrLNmZwgcBTD"
      },
      "outputs": [],
      "source": [
        "train.isnull().sum()"
      ]
    },
    {
      "cell_type": "code",
      "execution_count": null,
      "metadata": {
        "id": "7WbGkVGncAVK"
      },
      "outputs": [],
      "source": [
        "test.info()"
      ]
    },
    {
      "cell_type": "markdown",
      "metadata": {
        "id": "TUilqVTjni2s"
      },
      "source": [
        "- null 데이터 없이 잘 들어가 있음을 알 수 있다. "
      ]
    },
    {
      "cell_type": "markdown",
      "source": [
        "# 02 데이터 해석\n"
      ],
      "metadata": {
        "id": "aNw6OU6OML8P"
      }
    },
    {
      "cell_type": "markdown",
      "source": [
        "## 1) 격자공간고유번호 의미\n",
        "\n",
        "*   의미단위별로 분리   \n",
        " *   시: 1-2번째 숫자\n",
        " *   군/구: 3-5번째 숫자\n",
        " *   동: 6-10번째 숫자"
      ],
      "metadata": {
        "id": "iaomiYXKTBDz"
      }
    },
    {
      "cell_type": "code",
      "execution_count": null,
      "metadata": {
        "id": "VDQjZx-BogPB"
      },
      "outputs": [],
      "source": [
        "seoul = pd.read_csv('TC_NU_SPG_50_METER/TC_NU_SPG_50_METER_11.csv') # index_col=0\n",
        "seoul.head()"
      ]
    },
    {
      "cell_type": "code",
      "execution_count": null,
      "metadata": {
        "id": "ajrgU4wuqmGo"
      },
      "outputs": [],
      "source": [
        "seoul[['시군구명','시군구코드']].groupby(['시군구명','시군구코드']).count()"
      ]
    },
    {
      "cell_type": "code",
      "execution_count": null,
      "metadata": {
        "id": "O2UTbd5lptUI"
      },
      "outputs": [],
      "source": [
        "busan = pd.read_csv('TC_NU_SPG_50_METER/TC_NU_SPG_50_METER_26.csv') # index_col=0\n",
        "busan.head()"
      ]
    },
    {
      "cell_type": "code",
      "execution_count": null,
      "metadata": {
        "id": "88E4u9huqbZX"
      },
      "outputs": [],
      "source": [
        "busan[['시군구명','시군구코드']].groupby(['시군구명','시군구코드']).count()"
      ]
    },
    {
      "cell_type": "code",
      "execution_count": null,
      "metadata": {
        "id": "rJkvGt-xpwvn"
      },
      "outputs": [],
      "source": [
        "daegu = pd.read_csv('TC_NU_SPG_50_METER/TC_NU_SPG_50_METER_27.csv') # index_col=0\n",
        "daegu.head()"
      ]
    },
    {
      "cell_type": "code",
      "execution_count": null,
      "metadata": {
        "id": "mp_Ht0NTrXcI"
      },
      "outputs": [],
      "source": [
        "daegu[['시군구명','시군구코드']].groupby(['시군구명','시군구코드']).count()"
      ]
    },
    {
      "cell_type": "code",
      "execution_count": null,
      "metadata": {
        "id": "gk3C8RcNpxu4"
      },
      "outputs": [],
      "source": [
        "incheon = pd.read_csv('TC_NU_SPG_50_METER/TC_NU_SPG_50_METER_28.csv') # index_col=0\n",
        "incheon.head()"
      ]
    },
    {
      "cell_type": "code",
      "execution_count": null,
      "metadata": {
        "id": "y1p-rZFmrjeQ"
      },
      "outputs": [],
      "source": [
        "incheon[['시군구명','시군구코드']].groupby(['시군구명','시군구코드']).count()"
      ]
    },
    {
      "cell_type": "code",
      "execution_count": null,
      "metadata": {
        "id": "Na5YH9qJpz_g"
      },
      "outputs": [],
      "source": [
        "gwangju = pd.read_csv('TC_NU_SPG_50_METER/TC_NU_SPG_50_METER_29.csv') # index_col=0\n",
        "gwangju.head()"
      ]
    },
    {
      "cell_type": "code",
      "execution_count": null,
      "metadata": {
        "id": "Ov0Bez0hro1A"
      },
      "outputs": [],
      "source": [
        "gwangju[['시군구명','시군구코드']].groupby(['시군구명','시군구코드']).count()"
      ]
    },
    {
      "cell_type": "code",
      "execution_count": null,
      "metadata": {
        "id": "9fhcZaN_p1SY"
      },
      "outputs": [],
      "source": [
        "daejeon = pd.read_csv('TC_NU_SPG_50_METER/TC_NU_SPG_50_METER_30.csv') # index_col=0\n",
        "daejeon.tail()"
      ]
    },
    {
      "cell_type": "code",
      "execution_count": null,
      "metadata": {
        "id": "xl7o796crpQw"
      },
      "outputs": [],
      "source": [
        "daejeon[['시군구명','시군구코드']].groupby(['시군구명','시군구코드']).count()"
      ]
    },
    {
      "cell_type": "code",
      "execution_count": null,
      "metadata": {
        "id": "dbQyzsD0p2OX"
      },
      "outputs": [],
      "source": [
        "ulsan = pd.read_csv('TC_NU_SPG_50_METER/TC_NU_SPG_50_METER_31.csv') # index_col=0\n",
        "ulsan.head()"
      ]
    },
    {
      "cell_type": "code",
      "execution_count": null,
      "metadata": {
        "id": "29nJzdrprpsp"
      },
      "outputs": [],
      "source": [
        "ulsan[['시군구명','시군구코드']].groupby(['시군구명','시군구코드']).count()"
      ]
    },
    {
      "cell_type": "code",
      "execution_count": null,
      "metadata": {
        "id": "Gjvlb1Kcp5HJ"
      },
      "outputs": [],
      "source": [
        "sejong = pd.read_csv('TC_NU_SPG_50_METER/TC_NU_SPG_50_METER_36.csv') # index_col=0\n",
        "sejong.head()"
      ]
    },
    {
      "cell_type": "code",
      "execution_count": null,
      "metadata": {
        "id": "TQzyzo-0rqDo"
      },
      "outputs": [],
      "source": [
        "sejong[['시군구명','시군구코드']].groupby(['시군구명','시군구코드']).count()"
      ]
    },
    {
      "cell_type": "code",
      "execution_count": null,
      "metadata": {
        "id": "c-asn8Pxp6AX"
      },
      "outputs": [],
      "source": [
        "gyeonggi = pd.read_csv('TC_NU_SPG_50_METER/TC_NU_SPG_50_METER_41.csv') # index_col=0\n",
        "gyeonggi.head()"
      ]
    },
    {
      "cell_type": "code",
      "execution_count": null,
      "metadata": {
        "id": "QQZP5O7NrqbC"
      },
      "outputs": [],
      "source": [
        "gyeonggi[['시군구명','시군구코드']].groupby(['시군구명','시군구코드']).count()"
      ]
    },
    {
      "cell_type": "code",
      "execution_count": null,
      "metadata": {
        "id": "cKgmgDEpqGAn"
      },
      "outputs": [],
      "source": [
        "gangwon = pd.read_csv('TC_NU_SPG_50_METER/TC_NU_SPG_50_METER_42.csv') # index_col=0\n",
        "gangwon.head()"
      ]
    },
    {
      "cell_type": "code",
      "execution_count": null,
      "metadata": {
        "id": "uVFdb4QArqyq"
      },
      "outputs": [],
      "source": [
        "gangwon[['시군구명','시군구코드']].groupby(['시군구명','시군구코드']).count()"
      ]
    },
    {
      "cell_type": "code",
      "execution_count": null,
      "metadata": {
        "id": "0_zZyJTsqHHc"
      },
      "outputs": [],
      "source": [
        "north_chungcheong = pd.read_csv('TC_NU_SPG_50_METER/TC_NU_SPG_50_METER_43.csv') # index_col=0\n",
        "north_chungcheong.head()"
      ]
    },
    {
      "cell_type": "code",
      "execution_count": null,
      "metadata": {
        "id": "kI1l8R0wrsAo"
      },
      "outputs": [],
      "source": [
        "north_chungcheong[['시군구명','시군구코드']].groupby(['시군구명','시군구코드']).count()"
      ]
    },
    {
      "cell_type": "code",
      "execution_count": null,
      "metadata": {
        "id": "VG1f075yqIN6"
      },
      "outputs": [],
      "source": [
        "south_chungcheong = pd.read_csv('TC_NU_SPG_50_METER/TC_NU_SPG_50_METER_44.csv') # index_col=0\n",
        "south_chungcheong.head()"
      ]
    },
    {
      "cell_type": "code",
      "execution_count": null,
      "metadata": {
        "id": "4pUMgkKMrsW4"
      },
      "outputs": [],
      "source": [
        "south_chungcheong[['시군구명','시군구코드']].groupby(['시군구명','시군구코드']).count()"
      ]
    },
    {
      "cell_type": "code",
      "execution_count": null,
      "metadata": {
        "id": "4yfm1Dg0qJcn"
      },
      "outputs": [],
      "source": [
        "north_jeonla = pd.read_csv('TC_NU_SPG_50_METER/TC_NU_SPG_50_METER_45.csv') # index_col=0\n",
        "north_jeonla.head()"
      ]
    },
    {
      "cell_type": "code",
      "execution_count": null,
      "metadata": {
        "id": "u9c3_EOErszR"
      },
      "outputs": [],
      "source": [
        "north_jeonla[['시군구명','시군구코드']].groupby(['시군구명','시군구코드']).count()"
      ]
    },
    {
      "cell_type": "code",
      "execution_count": null,
      "metadata": {
        "id": "Qh6z2U5HqLUY"
      },
      "outputs": [],
      "source": [
        "south_th_jeonla = pd.read_csv('TC_NU_SPG_50_METER/TC_NU_SPG_50_METER_46.csv') # index_col=0\n",
        "south_th_jeonla.head()"
      ]
    },
    {
      "cell_type": "code",
      "execution_count": null,
      "metadata": {
        "id": "8ji0J1O9rtQQ"
      },
      "outputs": [],
      "source": [
        "south_th_jeonla[['시군구명','시군구코드']].groupby(['시군구명','시군구코드']).count()"
      ]
    },
    {
      "cell_type": "code",
      "execution_count": null,
      "metadata": {
        "id": "s6Qs-ziBqN2f"
      },
      "outputs": [],
      "source": [
        "north_gyeongsang = pd.read_csv('TC_NU_SPG_50_METER/TC_NU_SPG_50_METER_47.csv') # index_col=0\n",
        "north_gyeongsang.head()"
      ]
    },
    {
      "cell_type": "code",
      "execution_count": null,
      "metadata": {
        "id": "cqRkqA8ortmA"
      },
      "outputs": [],
      "source": [
        "north_gyeongsang[['시군구명','시군구코드']].groupby(['시군구명','시군구코드']).count()"
      ]
    },
    {
      "cell_type": "code",
      "execution_count": null,
      "metadata": {
        "id": "vTfjl1HDqPNQ"
      },
      "outputs": [],
      "source": [
        "south_gyeongsang = pd.read_csv('TC_NU_SPG_50_METER/TC_NU_SPG_50_METER_48.csv') # index_col=0\n",
        "south_gyeongsang.head()"
      ]
    },
    {
      "cell_type": "code",
      "execution_count": null,
      "metadata": {
        "id": "GlBhmUbHrt6s"
      },
      "outputs": [],
      "source": [
        "south_gyeongsang[['시군구명','시군구코드']].groupby(['시군구명','시군구코드']).count()"
      ]
    },
    {
      "cell_type": "code",
      "execution_count": null,
      "metadata": {
        "id": "9VVP1Gc9qQOA"
      },
      "outputs": [],
      "source": [
        "jeju = pd.read_csv('TC_NU_SPG_50_METER/TC_NU_SPG_50_METER_50.csv') # index_col=0\n",
        "jeju.head()"
      ]
    },
    {
      "cell_type": "code",
      "execution_count": null,
      "metadata": {
        "id": "kMXaz8Y_ruWB"
      },
      "outputs": [],
      "source": [
        "jeju[['시군구명','시군구코드']].groupby(['시군구명','시군구코드']).count()"
      ]
    },
    {
      "cell_type": "markdown",
      "metadata": {
        "id": "DHF0btTH2-6K"
      },
      "source": [
        "# 03 EDA 및 피처 엔지니어링"
      ]
    },
    {
      "cell_type": "markdown",
      "metadata": {
        "id": "ViiCZFX-3GeQ"
      },
      "source": [
        "## 1) 격자공간고유번호"
      ]
    },
    {
      "cell_type": "markdown",
      "metadata": {
        "id": "kG_wLcPKnqqU"
      },
      "source": [
        "### (1) 의미단위별로 분리\n",
        "* 격자공간고유번호 의미\n",
        "\n",
        "  - 시: 첫 2자, 군/구: 3-5번째, 동: 6-10번째\n",
        "  - 군/구가 달라도 같은 동이름은 있을 수 있음 -> 그래도 시,군구가 다르므로 문제가 되지 않을 것"
      ]
    },
    {
      "cell_type": "markdown",
      "metadata": {
        "id": "6yuNb18Pwgou"
      },
      "source": [
        "- 격자고유번호가 숫자로 되어 있어 슬라이싱 되지 않으므로 문자로 타입을 먼저 바꾼다"
      ]
    },
    {
      "cell_type": "code",
      "execution_count": 6,
      "metadata": {
        "id": "YFyl3EKrweXP"
      },
      "outputs": [],
      "source": [
        "train['송하인_격자공간고유번호'] = train['송하인_격자공간고유번호'].astype(str)\n",
        "train['수하인_격자공간고유번호'] = train['수하인_격자공간고유번호'].astype(str)"
      ]
    },
    {
      "cell_type": "code",
      "execution_count": 7,
      "metadata": {
        "id": "thieroVinpG8"
      },
      "outputs": [],
      "source": [
        "train['송하인_시코드'] = train['송하인_격자공간고유번호'].map(lambda x:x[:2])\n",
        "train['수하인_시코드'] = train['수하인_격자공간고유번호'].map(lambda x:x[:2])"
      ]
    },
    {
      "cell_type": "code",
      "execution_count": 8,
      "metadata": {
        "id": "sNXP-5HEn12x"
      },
      "outputs": [],
      "source": [
        "train['송하인_군구코드'] = train['송하인_격자공간고유번호'].map(lambda x:x[2:5])\n",
        "train['수하인_군구코드'] = train['수하인_격자공간고유번호'].map(lambda x:x[2:5])"
      ]
    },
    {
      "cell_type": "code",
      "execution_count": 9,
      "metadata": {
        "id": "eCk1s2D-zuxY"
      },
      "outputs": [],
      "source": [
        "train['송하인_동코드'] = train['송하인_격자공간고유번호'].map(lambda x:x[5:10])\n",
        "train['수하인_동코드'] = train['수하인_격자공간고유번호'].map(lambda x:x[5:10])"
      ]
    },
    {
      "cell_type": "code",
      "execution_count": 10,
      "metadata": {
        "id": "FZVvVDMSxgDH",
        "colab": {
          "base_uri": "https://localhost:8080/",
          "height": 299
        },
        "outputId": "58f2336d-0eed-4a34-d820-d68a72a0810b"
      },
      "outputs": [
        {
          "output_type": "execute_result",
          "data": {
            "text/plain": [
              "           송하인_격자공간고유번호      수하인_격자공간고유번호 물품_카테고리  운송장_건수 송하인_시코드 수하인_시코드  \\\n",
              "index                                                                       \n",
              "0      5011000595017300  2871000192069300      음반       3      50      28   \n",
              "1      4148000690043300  5011000264024400   문화컨텐츠       3      41      50   \n",
              "2      5011000078068400  1120000007005400     농산물       3      50      11   \n",
              "3      4127100048006400  5011000587019400    기타식품       7      41      50   \n",
              "4      5011000078068400  2823700010076300     농산물       3      50      28   \n",
              "\n",
              "      송하인_군구코드 수하인_군구코드 송하인_동코드 수하인_동코드  \n",
              "index                                    \n",
              "0          110      710   00595   00192  \n",
              "1          480      110   00690   00264  \n",
              "2          110      200   00078   00007  \n",
              "3          271      110   00048   00587  \n",
              "4          110      237   00078   00010  "
            ],
            "text/html": [
              "\n",
              "  <div id=\"df-bd2df75f-5e02-4631-ac91-04b9da292cec\">\n",
              "    <div class=\"colab-df-container\">\n",
              "      <div>\n",
              "<style scoped>\n",
              "    .dataframe tbody tr th:only-of-type {\n",
              "        vertical-align: middle;\n",
              "    }\n",
              "\n",
              "    .dataframe tbody tr th {\n",
              "        vertical-align: top;\n",
              "    }\n",
              "\n",
              "    .dataframe thead th {\n",
              "        text-align: right;\n",
              "    }\n",
              "</style>\n",
              "<table border=\"1\" class=\"dataframe\">\n",
              "  <thead>\n",
              "    <tr style=\"text-align: right;\">\n",
              "      <th></th>\n",
              "      <th>송하인_격자공간고유번호</th>\n",
              "      <th>수하인_격자공간고유번호</th>\n",
              "      <th>물품_카테고리</th>\n",
              "      <th>운송장_건수</th>\n",
              "      <th>송하인_시코드</th>\n",
              "      <th>수하인_시코드</th>\n",
              "      <th>송하인_군구코드</th>\n",
              "      <th>수하인_군구코드</th>\n",
              "      <th>송하인_동코드</th>\n",
              "      <th>수하인_동코드</th>\n",
              "    </tr>\n",
              "    <tr>\n",
              "      <th>index</th>\n",
              "      <th></th>\n",
              "      <th></th>\n",
              "      <th></th>\n",
              "      <th></th>\n",
              "      <th></th>\n",
              "      <th></th>\n",
              "      <th></th>\n",
              "      <th></th>\n",
              "      <th></th>\n",
              "      <th></th>\n",
              "    </tr>\n",
              "  </thead>\n",
              "  <tbody>\n",
              "    <tr>\n",
              "      <th>0</th>\n",
              "      <td>5011000595017300</td>\n",
              "      <td>2871000192069300</td>\n",
              "      <td>음반</td>\n",
              "      <td>3</td>\n",
              "      <td>50</td>\n",
              "      <td>28</td>\n",
              "      <td>110</td>\n",
              "      <td>710</td>\n",
              "      <td>00595</td>\n",
              "      <td>00192</td>\n",
              "    </tr>\n",
              "    <tr>\n",
              "      <th>1</th>\n",
              "      <td>4148000690043300</td>\n",
              "      <td>5011000264024400</td>\n",
              "      <td>문화컨텐츠</td>\n",
              "      <td>3</td>\n",
              "      <td>41</td>\n",
              "      <td>50</td>\n",
              "      <td>480</td>\n",
              "      <td>110</td>\n",
              "      <td>00690</td>\n",
              "      <td>00264</td>\n",
              "    </tr>\n",
              "    <tr>\n",
              "      <th>2</th>\n",
              "      <td>5011000078068400</td>\n",
              "      <td>1120000007005400</td>\n",
              "      <td>농산물</td>\n",
              "      <td>3</td>\n",
              "      <td>50</td>\n",
              "      <td>11</td>\n",
              "      <td>110</td>\n",
              "      <td>200</td>\n",
              "      <td>00078</td>\n",
              "      <td>00007</td>\n",
              "    </tr>\n",
              "    <tr>\n",
              "      <th>3</th>\n",
              "      <td>4127100048006400</td>\n",
              "      <td>5011000587019400</td>\n",
              "      <td>기타식품</td>\n",
              "      <td>7</td>\n",
              "      <td>41</td>\n",
              "      <td>50</td>\n",
              "      <td>271</td>\n",
              "      <td>110</td>\n",
              "      <td>00048</td>\n",
              "      <td>00587</td>\n",
              "    </tr>\n",
              "    <tr>\n",
              "      <th>4</th>\n",
              "      <td>5011000078068400</td>\n",
              "      <td>2823700010076300</td>\n",
              "      <td>농산물</td>\n",
              "      <td>3</td>\n",
              "      <td>50</td>\n",
              "      <td>28</td>\n",
              "      <td>110</td>\n",
              "      <td>237</td>\n",
              "      <td>00078</td>\n",
              "      <td>00010</td>\n",
              "    </tr>\n",
              "  </tbody>\n",
              "</table>\n",
              "</div>\n",
              "      <button class=\"colab-df-convert\" onclick=\"convertToInteractive('df-bd2df75f-5e02-4631-ac91-04b9da292cec')\"\n",
              "              title=\"Convert this dataframe to an interactive table.\"\n",
              "              style=\"display:none;\">\n",
              "        \n",
              "  <svg xmlns=\"http://www.w3.org/2000/svg\" height=\"24px\"viewBox=\"0 0 24 24\"\n",
              "       width=\"24px\">\n",
              "    <path d=\"M0 0h24v24H0V0z\" fill=\"none\"/>\n",
              "    <path d=\"M18.56 5.44l.94 2.06.94-2.06 2.06-.94-2.06-.94-.94-2.06-.94 2.06-2.06.94zm-11 1L8.5 8.5l.94-2.06 2.06-.94-2.06-.94L8.5 2.5l-.94 2.06-2.06.94zm10 10l.94 2.06.94-2.06 2.06-.94-2.06-.94-.94-2.06-.94 2.06-2.06.94z\"/><path d=\"M17.41 7.96l-1.37-1.37c-.4-.4-.92-.59-1.43-.59-.52 0-1.04.2-1.43.59L10.3 9.45l-7.72 7.72c-.78.78-.78 2.05 0 2.83L4 21.41c.39.39.9.59 1.41.59.51 0 1.02-.2 1.41-.59l7.78-7.78 2.81-2.81c.8-.78.8-2.07 0-2.86zM5.41 20L4 18.59l7.72-7.72 1.47 1.35L5.41 20z\"/>\n",
              "  </svg>\n",
              "      </button>\n",
              "      \n",
              "  <style>\n",
              "    .colab-df-container {\n",
              "      display:flex;\n",
              "      flex-wrap:wrap;\n",
              "      gap: 12px;\n",
              "    }\n",
              "\n",
              "    .colab-df-convert {\n",
              "      background-color: #E8F0FE;\n",
              "      border: none;\n",
              "      border-radius: 50%;\n",
              "      cursor: pointer;\n",
              "      display: none;\n",
              "      fill: #1967D2;\n",
              "      height: 32px;\n",
              "      padding: 0 0 0 0;\n",
              "      width: 32px;\n",
              "    }\n",
              "\n",
              "    .colab-df-convert:hover {\n",
              "      background-color: #E2EBFA;\n",
              "      box-shadow: 0px 1px 2px rgba(60, 64, 67, 0.3), 0px 1px 3px 1px rgba(60, 64, 67, 0.15);\n",
              "      fill: #174EA6;\n",
              "    }\n",
              "\n",
              "    [theme=dark] .colab-df-convert {\n",
              "      background-color: #3B4455;\n",
              "      fill: #D2E3FC;\n",
              "    }\n",
              "\n",
              "    [theme=dark] .colab-df-convert:hover {\n",
              "      background-color: #434B5C;\n",
              "      box-shadow: 0px 1px 3px 1px rgba(0, 0, 0, 0.15);\n",
              "      filter: drop-shadow(0px 1px 2px rgba(0, 0, 0, 0.3));\n",
              "      fill: #FFFFFF;\n",
              "    }\n",
              "  </style>\n",
              "\n",
              "      <script>\n",
              "        const buttonEl =\n",
              "          document.querySelector('#df-bd2df75f-5e02-4631-ac91-04b9da292cec button.colab-df-convert');\n",
              "        buttonEl.style.display =\n",
              "          google.colab.kernel.accessAllowed ? 'block' : 'none';\n",
              "\n",
              "        async function convertToInteractive(key) {\n",
              "          const element = document.querySelector('#df-bd2df75f-5e02-4631-ac91-04b9da292cec');\n",
              "          const dataTable =\n",
              "            await google.colab.kernel.invokeFunction('convertToInteractive',\n",
              "                                                     [key], {});\n",
              "          if (!dataTable) return;\n",
              "\n",
              "          const docLinkHtml = 'Like what you see? Visit the ' +\n",
              "            '<a target=\"_blank\" href=https://colab.research.google.com/notebooks/data_table.ipynb>data table notebook</a>'\n",
              "            + ' to learn more about interactive tables.';\n",
              "          element.innerHTML = '';\n",
              "          dataTable['output_type'] = 'display_data';\n",
              "          await google.colab.output.renderOutput(dataTable, element);\n",
              "          const docLink = document.createElement('div');\n",
              "          docLink.innerHTML = docLinkHtml;\n",
              "          element.appendChild(docLink);\n",
              "        }\n",
              "      </script>\n",
              "    </div>\n",
              "  </div>\n",
              "  "
            ]
          },
          "metadata": {},
          "execution_count": 10
        }
      ],
      "source": [
        "train.head()"
      ]
    },
    {
      "cell_type": "code",
      "execution_count": 11,
      "metadata": {
        "id": "bkAtGELdxa_f"
      },
      "outputs": [],
      "source": [
        "test['송하인_격자공간고유번호'] = test['송하인_격자공간고유번호'].astype(str)\n",
        "test['수하인_격자공간고유번호'] = test['수하인_격자공간고유번호'].astype(str)"
      ]
    },
    {
      "cell_type": "code",
      "execution_count": 12,
      "metadata": {
        "id": "1DN9iTXpuaEZ"
      },
      "outputs": [],
      "source": [
        "test['송하인_시코드'] = test['송하인_격자공간고유번호'].map(lambda x:x[:2])\n",
        "test['수하인_시코드'] = test['수하인_격자공간고유번호'].map(lambda x:x[:2])"
      ]
    },
    {
      "cell_type": "code",
      "execution_count": 13,
      "metadata": {
        "id": "wM6jYEsXoQzA"
      },
      "outputs": [],
      "source": [
        "test['송하인_군구코드'] = test['송하인_격자공간고유번호'].map(lambda x:x[2:5])\n",
        "test['수하인_군구코드'] = test['수하인_격자공간고유번호'].map(lambda x:x[2:5])"
      ]
    },
    {
      "cell_type": "code",
      "execution_count": 14,
      "metadata": {
        "id": "y0r7El0P0QB7"
      },
      "outputs": [],
      "source": [
        "test['송하인_동코드'] = test['송하인_격자공간고유번호'].map(lambda x:x[5:10])\n",
        "test['수하인_동코드'] = test['수하인_격자공간고유번호'].map(lambda x:x[5:10])"
      ]
    },
    {
      "cell_type": "code",
      "execution_count": 15,
      "metadata": {
        "id": "FXX8WoECxr9n",
        "colab": {
          "base_uri": "https://localhost:8080/",
          "height": 316
        },
        "outputId": "62a475e6-2269-4305-a169-f4532d07bdec"
      },
      "outputs": [
        {
          "output_type": "execute_result",
          "data": {
            "text/plain": [
              "           송하인_격자공간고유번호      수하인_격자공간고유번호      물품_카테고리 송하인_시코드 수하인_시코드  \\\n",
              "index                                                                    \n",
              "0      4167000577042200  5011000435014100          선케어      41      50   \n",
              "1      1156000009012200  5011000172034400       구강위생용품      11      50   \n",
              "2      4122000363057300  5011000361097300           캠핑      41      50   \n",
              "3      5011000436041400  2826000084036400       아웃도어가구      50      28   \n",
              "4      4150000241065200  5011000169044300  분유/이유식/아기간식      41      50   \n",
              "\n",
              "      송하인_군구코드 수하인_군구코드 송하인_동코드 수하인_동코드  \n",
              "index                                    \n",
              "0          670      110   00577   00435  \n",
              "1          560      110   00009   00172  \n",
              "2          220      110   00363   00361  \n",
              "3          110      260   00436   00084  \n",
              "4          500      110   00241   00169  "
            ],
            "text/html": [
              "\n",
              "  <div id=\"df-21dd0928-5879-4255-bc8e-0af3e1ac3544\">\n",
              "    <div class=\"colab-df-container\">\n",
              "      <div>\n",
              "<style scoped>\n",
              "    .dataframe tbody tr th:only-of-type {\n",
              "        vertical-align: middle;\n",
              "    }\n",
              "\n",
              "    .dataframe tbody tr th {\n",
              "        vertical-align: top;\n",
              "    }\n",
              "\n",
              "    .dataframe thead th {\n",
              "        text-align: right;\n",
              "    }\n",
              "</style>\n",
              "<table border=\"1\" class=\"dataframe\">\n",
              "  <thead>\n",
              "    <tr style=\"text-align: right;\">\n",
              "      <th></th>\n",
              "      <th>송하인_격자공간고유번호</th>\n",
              "      <th>수하인_격자공간고유번호</th>\n",
              "      <th>물품_카테고리</th>\n",
              "      <th>송하인_시코드</th>\n",
              "      <th>수하인_시코드</th>\n",
              "      <th>송하인_군구코드</th>\n",
              "      <th>수하인_군구코드</th>\n",
              "      <th>송하인_동코드</th>\n",
              "      <th>수하인_동코드</th>\n",
              "    </tr>\n",
              "    <tr>\n",
              "      <th>index</th>\n",
              "      <th></th>\n",
              "      <th></th>\n",
              "      <th></th>\n",
              "      <th></th>\n",
              "      <th></th>\n",
              "      <th></th>\n",
              "      <th></th>\n",
              "      <th></th>\n",
              "      <th></th>\n",
              "    </tr>\n",
              "  </thead>\n",
              "  <tbody>\n",
              "    <tr>\n",
              "      <th>0</th>\n",
              "      <td>4167000577042200</td>\n",
              "      <td>5011000435014100</td>\n",
              "      <td>선케어</td>\n",
              "      <td>41</td>\n",
              "      <td>50</td>\n",
              "      <td>670</td>\n",
              "      <td>110</td>\n",
              "      <td>00577</td>\n",
              "      <td>00435</td>\n",
              "    </tr>\n",
              "    <tr>\n",
              "      <th>1</th>\n",
              "      <td>1156000009012200</td>\n",
              "      <td>5011000172034400</td>\n",
              "      <td>구강위생용품</td>\n",
              "      <td>11</td>\n",
              "      <td>50</td>\n",
              "      <td>560</td>\n",
              "      <td>110</td>\n",
              "      <td>00009</td>\n",
              "      <td>00172</td>\n",
              "    </tr>\n",
              "    <tr>\n",
              "      <th>2</th>\n",
              "      <td>4122000363057300</td>\n",
              "      <td>5011000361097300</td>\n",
              "      <td>캠핑</td>\n",
              "      <td>41</td>\n",
              "      <td>50</td>\n",
              "      <td>220</td>\n",
              "      <td>110</td>\n",
              "      <td>00363</td>\n",
              "      <td>00361</td>\n",
              "    </tr>\n",
              "    <tr>\n",
              "      <th>3</th>\n",
              "      <td>5011000436041400</td>\n",
              "      <td>2826000084036400</td>\n",
              "      <td>아웃도어가구</td>\n",
              "      <td>50</td>\n",
              "      <td>28</td>\n",
              "      <td>110</td>\n",
              "      <td>260</td>\n",
              "      <td>00436</td>\n",
              "      <td>00084</td>\n",
              "    </tr>\n",
              "    <tr>\n",
              "      <th>4</th>\n",
              "      <td>4150000241065200</td>\n",
              "      <td>5011000169044300</td>\n",
              "      <td>분유/이유식/아기간식</td>\n",
              "      <td>41</td>\n",
              "      <td>50</td>\n",
              "      <td>500</td>\n",
              "      <td>110</td>\n",
              "      <td>00241</td>\n",
              "      <td>00169</td>\n",
              "    </tr>\n",
              "  </tbody>\n",
              "</table>\n",
              "</div>\n",
              "      <button class=\"colab-df-convert\" onclick=\"convertToInteractive('df-21dd0928-5879-4255-bc8e-0af3e1ac3544')\"\n",
              "              title=\"Convert this dataframe to an interactive table.\"\n",
              "              style=\"display:none;\">\n",
              "        \n",
              "  <svg xmlns=\"http://www.w3.org/2000/svg\" height=\"24px\"viewBox=\"0 0 24 24\"\n",
              "       width=\"24px\">\n",
              "    <path d=\"M0 0h24v24H0V0z\" fill=\"none\"/>\n",
              "    <path d=\"M18.56 5.44l.94 2.06.94-2.06 2.06-.94-2.06-.94-.94-2.06-.94 2.06-2.06.94zm-11 1L8.5 8.5l.94-2.06 2.06-.94-2.06-.94L8.5 2.5l-.94 2.06-2.06.94zm10 10l.94 2.06.94-2.06 2.06-.94-2.06-.94-.94-2.06-.94 2.06-2.06.94z\"/><path d=\"M17.41 7.96l-1.37-1.37c-.4-.4-.92-.59-1.43-.59-.52 0-1.04.2-1.43.59L10.3 9.45l-7.72 7.72c-.78.78-.78 2.05 0 2.83L4 21.41c.39.39.9.59 1.41.59.51 0 1.02-.2 1.41-.59l7.78-7.78 2.81-2.81c.8-.78.8-2.07 0-2.86zM5.41 20L4 18.59l7.72-7.72 1.47 1.35L5.41 20z\"/>\n",
              "  </svg>\n",
              "      </button>\n",
              "      \n",
              "  <style>\n",
              "    .colab-df-container {\n",
              "      display:flex;\n",
              "      flex-wrap:wrap;\n",
              "      gap: 12px;\n",
              "    }\n",
              "\n",
              "    .colab-df-convert {\n",
              "      background-color: #E8F0FE;\n",
              "      border: none;\n",
              "      border-radius: 50%;\n",
              "      cursor: pointer;\n",
              "      display: none;\n",
              "      fill: #1967D2;\n",
              "      height: 32px;\n",
              "      padding: 0 0 0 0;\n",
              "      width: 32px;\n",
              "    }\n",
              "\n",
              "    .colab-df-convert:hover {\n",
              "      background-color: #E2EBFA;\n",
              "      box-shadow: 0px 1px 2px rgba(60, 64, 67, 0.3), 0px 1px 3px 1px rgba(60, 64, 67, 0.15);\n",
              "      fill: #174EA6;\n",
              "    }\n",
              "\n",
              "    [theme=dark] .colab-df-convert {\n",
              "      background-color: #3B4455;\n",
              "      fill: #D2E3FC;\n",
              "    }\n",
              "\n",
              "    [theme=dark] .colab-df-convert:hover {\n",
              "      background-color: #434B5C;\n",
              "      box-shadow: 0px 1px 3px 1px rgba(0, 0, 0, 0.15);\n",
              "      filter: drop-shadow(0px 1px 2px rgba(0, 0, 0, 0.3));\n",
              "      fill: #FFFFFF;\n",
              "    }\n",
              "  </style>\n",
              "\n",
              "      <script>\n",
              "        const buttonEl =\n",
              "          document.querySelector('#df-21dd0928-5879-4255-bc8e-0af3e1ac3544 button.colab-df-convert');\n",
              "        buttonEl.style.display =\n",
              "          google.colab.kernel.accessAllowed ? 'block' : 'none';\n",
              "\n",
              "        async function convertToInteractive(key) {\n",
              "          const element = document.querySelector('#df-21dd0928-5879-4255-bc8e-0af3e1ac3544');\n",
              "          const dataTable =\n",
              "            await google.colab.kernel.invokeFunction('convertToInteractive',\n",
              "                                                     [key], {});\n",
              "          if (!dataTable) return;\n",
              "\n",
              "          const docLinkHtml = 'Like what you see? Visit the ' +\n",
              "            '<a target=\"_blank\" href=https://colab.research.google.com/notebooks/data_table.ipynb>data table notebook</a>'\n",
              "            + ' to learn more about interactive tables.';\n",
              "          element.innerHTML = '';\n",
              "          dataTable['output_type'] = 'display_data';\n",
              "          await google.colab.output.renderOutput(dataTable, element);\n",
              "          const docLink = document.createElement('div');\n",
              "          docLink.innerHTML = docLinkHtml;\n",
              "          element.appendChild(docLink);\n",
              "        }\n",
              "      </script>\n",
              "    </div>\n",
              "  </div>\n",
              "  "
            ]
          },
          "metadata": {},
          "execution_count": 15
        }
      ],
      "source": [
        "test.head()"
      ]
    },
    {
      "cell_type": "markdown",
      "metadata": {
        "id": "m-_Naf4mmefl"
      },
      "source": [
        "### (2) EDA 및 인코딩\n",
        "* 시코드 : 운송장_건수의 합으로 인코딩\n",
        "* 군구, 동코드 : 빈도 값으로 인코딩\n",
        "* train 기반으로 인코딩열을 만들고 test에 붙이기기"
      ]
    },
    {
      "cell_type": "markdown",
      "metadata": {
        "id": "I3gFcRvVW621"
      },
      "source": [
        "#### 시도 : 운송장 건수로 인코딩"
      ]
    },
    {
      "cell_type": "markdown",
      "metadata": {
        "id": "KEcqk3yrBX4F"
      },
      "source": [
        "> 수하인 인코딩"
      ]
    },
    {
      "cell_type": "code",
      "execution_count": 16,
      "metadata": {
        "colab": {
          "base_uri": "https://localhost:8080/"
        },
        "id": "kJaWKoHhmd83",
        "outputId": "655a444f-5706-482d-de9e-c1aa990ef940"
      },
      "outputs": [
        {
          "output_type": "execute_result",
          "data": {
            "text/plain": [
              "수하인_시코드\n",
              "11    19852\n",
              "26     6561\n",
              "27     3732\n",
              "28     5623\n",
              "29     2749\n",
              "30     2990\n",
              "31     2304\n",
              "36      637\n",
              "41    29190\n",
              "42     3674\n",
              "43     3378\n",
              "44     5202\n",
              "45     4254\n",
              "46     4052\n",
              "47     5009\n",
              "48     6285\n",
              "50    49104\n",
              "Name: 운송장_건수, dtype: int64"
            ]
          },
          "metadata": {},
          "execution_count": 16
        }
      ],
      "source": [
        "train.groupby('수하인_시코드')['운송장_건수'].sum()"
      ]
    },
    {
      "cell_type": "code",
      "execution_count": 17,
      "metadata": {
        "id": "9o3mNiMXYj1R"
      },
      "outputs": [],
      "source": [
        "수하인_시 = ['11', '26','27', '28', '29','30','31','36','41','42','43','44','45','46','47','48','50']"
      ]
    },
    {
      "cell_type": "code",
      "execution_count": 18,
      "metadata": {
        "id": "vE9klBHXoJ0y"
      },
      "outputs": [],
      "source": [
        "train['수하인_시운송장총건수']=''"
      ]
    },
    {
      "cell_type": "code",
      "execution_count": 19,
      "metadata": {
        "id": "EcSHWMxioQSa"
      },
      "outputs": [],
      "source": [
        "for k in range(len(train)):\n",
        "    if train['수하인_시코드'][k] == '11':\n",
        "      train['수하인_시운송장총건수'][k] = 19852\n",
        "    if train['수하인_시코드'][k] == '26':\n",
        "      train['수하인_시운송장총건수'][k] = 6561\n",
        "    if train['수하인_시코드'][k] == '27':\n",
        "      train['수하인_시운송장총건수'][k] = 3732\n",
        "    if train['수하인_시코드'][k] == '28':\n",
        "      train['수하인_시운송장총건수'][k] = 5623\n",
        "    if train['수하인_시코드'][k] == '29':\n",
        "      train['수하인_시운송장총건수'][k] = 2749\n",
        "    if train['수하인_시코드'][k] == '30':\n",
        "      train['수하인_시운송장총건수'][k] = 2990\n",
        "    if train['수하인_시코드'][k] == '31':\n",
        "      train['수하인_시운송장총건수'][k] = 2304\n",
        "    if train['수하인_시코드'][k] == '36':\n",
        "      train['수하인_시운송장총건수'][k] = 637\n",
        "    if train['수하인_시코드'][k] == '41':\n",
        "      train['수하인_시운송장총건수'][k] = 29190\n",
        "    if train['수하인_시코드'][k] == '42':\n",
        "      train['수하인_시운송장총건수'][k] = 3674\n",
        "    if train['수하인_시코드'][k] == '43':\n",
        "      train['수하인_시운송장총건수'][k] = 3378\n",
        "    if train['수하인_시코드'][k] == '44':\n",
        "      train['수하인_시운송장총건수'][k] = 5202\n",
        "    if train['수하인_시코드'][k] == '45':\n",
        "      train['수하인_시운송장총건수'][k] = 4254\n",
        "    if train['수하인_시코드'][k] == '46':\n",
        "      train['수하인_시운송장총건수'][k] = 4052\n",
        "    if train['수하인_시코드'][k] == '47':\n",
        "      train['수하인_시운송장총건수'][k] = 5009\n",
        "    if train['수하인_시코드'][k] == '48':\n",
        "      train['수하인_시운송장총건수'][k] = 6285\n",
        "    if train['수하인_시코드'][k] == '50':\n",
        "      train['수하인_시운송장총건수'][k] = 49104"
      ]
    },
    {
      "cell_type": "code",
      "execution_count": 20,
      "metadata": {
        "id": "oHklaagbogPU",
        "colab": {
          "base_uri": "https://localhost:8080/",
          "height": 299
        },
        "outputId": "386678fd-4fe5-4033-dae3-86311bbcf06d"
      },
      "outputs": [
        {
          "output_type": "execute_result",
          "data": {
            "text/plain": [
              "           송하인_격자공간고유번호      수하인_격자공간고유번호 물품_카테고리  운송장_건수 송하인_시코드 수하인_시코드  \\\n",
              "index                                                                       \n",
              "0      5011000595017300  2871000192069300      음반       3      50      28   \n",
              "1      4148000690043300  5011000264024400   문화컨텐츠       3      41      50   \n",
              "2      5011000078068400  1120000007005400     농산물       3      50      11   \n",
              "3      4127100048006400  5011000587019400    기타식품       7      41      50   \n",
              "4      5011000078068400  2823700010076300     농산물       3      50      28   \n",
              "\n",
              "      송하인_군구코드 수하인_군구코드 송하인_동코드 수하인_동코드 수하인_시운송장총건수  \n",
              "index                                                \n",
              "0          110      710   00595   00192        5623  \n",
              "1          480      110   00690   00264       49104  \n",
              "2          110      200   00078   00007       19852  \n",
              "3          271      110   00048   00587       49104  \n",
              "4          110      237   00078   00010        5623  "
            ],
            "text/html": [
              "\n",
              "  <div id=\"df-9dcb7e07-b503-4169-b474-cd5fc354fa8c\">\n",
              "    <div class=\"colab-df-container\">\n",
              "      <div>\n",
              "<style scoped>\n",
              "    .dataframe tbody tr th:only-of-type {\n",
              "        vertical-align: middle;\n",
              "    }\n",
              "\n",
              "    .dataframe tbody tr th {\n",
              "        vertical-align: top;\n",
              "    }\n",
              "\n",
              "    .dataframe thead th {\n",
              "        text-align: right;\n",
              "    }\n",
              "</style>\n",
              "<table border=\"1\" class=\"dataframe\">\n",
              "  <thead>\n",
              "    <tr style=\"text-align: right;\">\n",
              "      <th></th>\n",
              "      <th>송하인_격자공간고유번호</th>\n",
              "      <th>수하인_격자공간고유번호</th>\n",
              "      <th>물품_카테고리</th>\n",
              "      <th>운송장_건수</th>\n",
              "      <th>송하인_시코드</th>\n",
              "      <th>수하인_시코드</th>\n",
              "      <th>송하인_군구코드</th>\n",
              "      <th>수하인_군구코드</th>\n",
              "      <th>송하인_동코드</th>\n",
              "      <th>수하인_동코드</th>\n",
              "      <th>수하인_시운송장총건수</th>\n",
              "    </tr>\n",
              "    <tr>\n",
              "      <th>index</th>\n",
              "      <th></th>\n",
              "      <th></th>\n",
              "      <th></th>\n",
              "      <th></th>\n",
              "      <th></th>\n",
              "      <th></th>\n",
              "      <th></th>\n",
              "      <th></th>\n",
              "      <th></th>\n",
              "      <th></th>\n",
              "      <th></th>\n",
              "    </tr>\n",
              "  </thead>\n",
              "  <tbody>\n",
              "    <tr>\n",
              "      <th>0</th>\n",
              "      <td>5011000595017300</td>\n",
              "      <td>2871000192069300</td>\n",
              "      <td>음반</td>\n",
              "      <td>3</td>\n",
              "      <td>50</td>\n",
              "      <td>28</td>\n",
              "      <td>110</td>\n",
              "      <td>710</td>\n",
              "      <td>00595</td>\n",
              "      <td>00192</td>\n",
              "      <td>5623</td>\n",
              "    </tr>\n",
              "    <tr>\n",
              "      <th>1</th>\n",
              "      <td>4148000690043300</td>\n",
              "      <td>5011000264024400</td>\n",
              "      <td>문화컨텐츠</td>\n",
              "      <td>3</td>\n",
              "      <td>41</td>\n",
              "      <td>50</td>\n",
              "      <td>480</td>\n",
              "      <td>110</td>\n",
              "      <td>00690</td>\n",
              "      <td>00264</td>\n",
              "      <td>49104</td>\n",
              "    </tr>\n",
              "    <tr>\n",
              "      <th>2</th>\n",
              "      <td>5011000078068400</td>\n",
              "      <td>1120000007005400</td>\n",
              "      <td>농산물</td>\n",
              "      <td>3</td>\n",
              "      <td>50</td>\n",
              "      <td>11</td>\n",
              "      <td>110</td>\n",
              "      <td>200</td>\n",
              "      <td>00078</td>\n",
              "      <td>00007</td>\n",
              "      <td>19852</td>\n",
              "    </tr>\n",
              "    <tr>\n",
              "      <th>3</th>\n",
              "      <td>4127100048006400</td>\n",
              "      <td>5011000587019400</td>\n",
              "      <td>기타식품</td>\n",
              "      <td>7</td>\n",
              "      <td>41</td>\n",
              "      <td>50</td>\n",
              "      <td>271</td>\n",
              "      <td>110</td>\n",
              "      <td>00048</td>\n",
              "      <td>00587</td>\n",
              "      <td>49104</td>\n",
              "    </tr>\n",
              "    <tr>\n",
              "      <th>4</th>\n",
              "      <td>5011000078068400</td>\n",
              "      <td>2823700010076300</td>\n",
              "      <td>농산물</td>\n",
              "      <td>3</td>\n",
              "      <td>50</td>\n",
              "      <td>28</td>\n",
              "      <td>110</td>\n",
              "      <td>237</td>\n",
              "      <td>00078</td>\n",
              "      <td>00010</td>\n",
              "      <td>5623</td>\n",
              "    </tr>\n",
              "  </tbody>\n",
              "</table>\n",
              "</div>\n",
              "      <button class=\"colab-df-convert\" onclick=\"convertToInteractive('df-9dcb7e07-b503-4169-b474-cd5fc354fa8c')\"\n",
              "              title=\"Convert this dataframe to an interactive table.\"\n",
              "              style=\"display:none;\">\n",
              "        \n",
              "  <svg xmlns=\"http://www.w3.org/2000/svg\" height=\"24px\"viewBox=\"0 0 24 24\"\n",
              "       width=\"24px\">\n",
              "    <path d=\"M0 0h24v24H0V0z\" fill=\"none\"/>\n",
              "    <path d=\"M18.56 5.44l.94 2.06.94-2.06 2.06-.94-2.06-.94-.94-2.06-.94 2.06-2.06.94zm-11 1L8.5 8.5l.94-2.06 2.06-.94-2.06-.94L8.5 2.5l-.94 2.06-2.06.94zm10 10l.94 2.06.94-2.06 2.06-.94-2.06-.94-.94-2.06-.94 2.06-2.06.94z\"/><path d=\"M17.41 7.96l-1.37-1.37c-.4-.4-.92-.59-1.43-.59-.52 0-1.04.2-1.43.59L10.3 9.45l-7.72 7.72c-.78.78-.78 2.05 0 2.83L4 21.41c.39.39.9.59 1.41.59.51 0 1.02-.2 1.41-.59l7.78-7.78 2.81-2.81c.8-.78.8-2.07 0-2.86zM5.41 20L4 18.59l7.72-7.72 1.47 1.35L5.41 20z\"/>\n",
              "  </svg>\n",
              "      </button>\n",
              "      \n",
              "  <style>\n",
              "    .colab-df-container {\n",
              "      display:flex;\n",
              "      flex-wrap:wrap;\n",
              "      gap: 12px;\n",
              "    }\n",
              "\n",
              "    .colab-df-convert {\n",
              "      background-color: #E8F0FE;\n",
              "      border: none;\n",
              "      border-radius: 50%;\n",
              "      cursor: pointer;\n",
              "      display: none;\n",
              "      fill: #1967D2;\n",
              "      height: 32px;\n",
              "      padding: 0 0 0 0;\n",
              "      width: 32px;\n",
              "    }\n",
              "\n",
              "    .colab-df-convert:hover {\n",
              "      background-color: #E2EBFA;\n",
              "      box-shadow: 0px 1px 2px rgba(60, 64, 67, 0.3), 0px 1px 3px 1px rgba(60, 64, 67, 0.15);\n",
              "      fill: #174EA6;\n",
              "    }\n",
              "\n",
              "    [theme=dark] .colab-df-convert {\n",
              "      background-color: #3B4455;\n",
              "      fill: #D2E3FC;\n",
              "    }\n",
              "\n",
              "    [theme=dark] .colab-df-convert:hover {\n",
              "      background-color: #434B5C;\n",
              "      box-shadow: 0px 1px 3px 1px rgba(0, 0, 0, 0.15);\n",
              "      filter: drop-shadow(0px 1px 2px rgba(0, 0, 0, 0.3));\n",
              "      fill: #FFFFFF;\n",
              "    }\n",
              "  </style>\n",
              "\n",
              "      <script>\n",
              "        const buttonEl =\n",
              "          document.querySelector('#df-9dcb7e07-b503-4169-b474-cd5fc354fa8c button.colab-df-convert');\n",
              "        buttonEl.style.display =\n",
              "          google.colab.kernel.accessAllowed ? 'block' : 'none';\n",
              "\n",
              "        async function convertToInteractive(key) {\n",
              "          const element = document.querySelector('#df-9dcb7e07-b503-4169-b474-cd5fc354fa8c');\n",
              "          const dataTable =\n",
              "            await google.colab.kernel.invokeFunction('convertToInteractive',\n",
              "                                                     [key], {});\n",
              "          if (!dataTable) return;\n",
              "\n",
              "          const docLinkHtml = 'Like what you see? Visit the ' +\n",
              "            '<a target=\"_blank\" href=https://colab.research.google.com/notebooks/data_table.ipynb>data table notebook</a>'\n",
              "            + ' to learn more about interactive tables.';\n",
              "          element.innerHTML = '';\n",
              "          dataTable['output_type'] = 'display_data';\n",
              "          await google.colab.output.renderOutput(dataTable, element);\n",
              "          const docLink = document.createElement('div');\n",
              "          docLink.innerHTML = docLinkHtml;\n",
              "          element.appendChild(docLink);\n",
              "        }\n",
              "      </script>\n",
              "    </div>\n",
              "  </div>\n",
              "  "
            ]
          },
          "metadata": {},
          "execution_count": 20
        }
      ],
      "source": [
        "train.head()"
      ]
    },
    {
      "cell_type": "markdown",
      "source": [
        "> 수하인 운송장 건수 EDA"
      ],
      "metadata": {
        "id": "VvIp0xdKcv8z"
      }
    },
    {
      "cell_type": "code",
      "source": [
        "import numpy as np\n",
        "import pandas as pd\n",
        "\n",
        "import matplotlib.pyplot as plt\n",
        "import seaborn as sns\n",
        "\n",
        "plt.rcParams['figure.figsize'] = [10, 6]"
      ],
      "metadata": {
        "id": "gnLAwaPcaHqA"
      },
      "execution_count": 21,
      "outputs": []
    },
    {
      "cell_type": "code",
      "source": [
        "수하인_시운송장총건수 = pd.DataFrame(train.groupby('수하인_시코드')['운송장_건수'].sum())"
      ],
      "metadata": {
        "id": "ruX_RnECbZda"
      },
      "execution_count": 22,
      "outputs": []
    },
    {
      "cell_type": "code",
      "source": [
        "x1 = 수하인_시운송장총건수.index\n",
        "y1 = 수하인_시운송장총건수['운송장_건수']\n",
        "\n",
        "plt.bar(x1, y1)\n",
        "plt.title('수하인_시운송장총건수', fontsize=20)\n",
        "plt.xlabel('수하인_시코드', fontsize=18)\n",
        "plt.ylabel('운송장 총건수', fontsize=18)\n",
        "\n",
        "plt.show()"
      ],
      "metadata": {
        "colab": {
          "base_uri": "https://localhost:8080/",
          "height": 1000
        },
        "id": "MIUAVfIBcDdN",
        "outputId": "2855b3b9-cbaf-429c-de88-aad08b1eecd1"
      },
      "execution_count": 23,
      "outputs": [
        {
          "output_type": "stream",
          "name": "stderr",
          "text": [
            "WARNING:matplotlib.font_manager:findfont: Font family 'NanumBarunGothic' not found.\n",
            "WARNING:matplotlib.font_manager:findfont: Font family 'NanumBarunGothic' not found.\n",
            "WARNING:matplotlib.font_manager:findfont: Font family 'NanumBarunGothic' not found.\n",
            "WARNING:matplotlib.font_manager:findfont: Font family 'NanumBarunGothic' not found.\n",
            "WARNING:matplotlib.font_manager:findfont: Font family 'NanumBarunGothic' not found.\n",
            "WARNING:matplotlib.font_manager:findfont: Font family 'NanumBarunGothic' not found.\n",
            "WARNING:matplotlib.font_manager:findfont: Font family 'NanumBarunGothic' not found.\n",
            "WARNING:matplotlib.font_manager:findfont: Font family 'NanumBarunGothic' not found.\n",
            "WARNING:matplotlib.font_manager:findfont: Font family 'NanumBarunGothic' not found.\n",
            "WARNING:matplotlib.font_manager:findfont: Font family 'NanumBarunGothic' not found.\n",
            "WARNING:matplotlib.font_manager:findfont: Font family 'NanumBarunGothic' not found.\n",
            "WARNING:matplotlib.font_manager:findfont: Font family 'NanumBarunGothic' not found.\n",
            "WARNING:matplotlib.font_manager:findfont: Font family 'NanumBarunGothic' not found.\n",
            "WARNING:matplotlib.font_manager:findfont: Font family 'NanumBarunGothic' not found.\n",
            "WARNING:matplotlib.font_manager:findfont: Font family 'NanumBarunGothic' not found.\n",
            "WARNING:matplotlib.font_manager:findfont: Font family 'NanumBarunGothic' not found.\n",
            "WARNING:matplotlib.font_manager:findfont: Font family 'NanumBarunGothic' not found.\n",
            "WARNING:matplotlib.font_manager:findfont: Font family 'NanumBarunGothic' not found.\n",
            "WARNING:matplotlib.font_manager:findfont: Font family 'NanumBarunGothic' not found.\n",
            "WARNING:matplotlib.font_manager:findfont: Font family 'NanumBarunGothic' not found.\n",
            "WARNING:matplotlib.font_manager:findfont: Font family 'NanumBarunGothic' not found.\n",
            "WARNING:matplotlib.font_manager:findfont: Font family 'NanumBarunGothic' not found.\n",
            "WARNING:matplotlib.font_manager:findfont: Font family 'NanumBarunGothic' not found.\n",
            "WARNING:matplotlib.font_manager:findfont: Font family 'NanumBarunGothic' not found.\n",
            "WARNING:matplotlib.font_manager:findfont: Font family 'NanumBarunGothic' not found.\n",
            "WARNING:matplotlib.font_manager:findfont: Font family 'NanumBarunGothic' not found.\n",
            "WARNING:matplotlib.font_manager:findfont: Font family 'NanumBarunGothic' not found.\n",
            "WARNING:matplotlib.font_manager:findfont: Font family 'NanumBarunGothic' not found.\n",
            "WARNING:matplotlib.font_manager:findfont: Font family 'NanumBarunGothic' not found.\n",
            "WARNING:matplotlib.font_manager:findfont: Font family 'NanumBarunGothic' not found.\n",
            "WARNING:matplotlib.font_manager:findfont: Font family 'NanumBarunGothic' not found.\n",
            "WARNING:matplotlib.font_manager:findfont: Font family 'NanumBarunGothic' not found.\n",
            "WARNING:matplotlib.font_manager:findfont: Font family 'NanumBarunGothic' not found.\n",
            "WARNING:matplotlib.font_manager:findfont: Font family 'NanumBarunGothic' not found.\n",
            "WARNING:matplotlib.font_manager:findfont: Font family 'NanumBarunGothic' not found.\n",
            "WARNING:matplotlib.font_manager:findfont: Font family 'NanumBarunGothic' not found.\n",
            "WARNING:matplotlib.font_manager:findfont: Font family 'NanumBarunGothic' not found.\n",
            "WARNING:matplotlib.font_manager:findfont: Font family 'NanumBarunGothic' not found.\n",
            "WARNING:matplotlib.font_manager:findfont: Font family 'NanumBarunGothic' not found.\n",
            "WARNING:matplotlib.font_manager:findfont: Font family 'NanumBarunGothic' not found.\n",
            "WARNING:matplotlib.font_manager:findfont: Font family 'NanumBarunGothic' not found.\n",
            "WARNING:matplotlib.font_manager:findfont: Font family 'NanumBarunGothic' not found.\n",
            "WARNING:matplotlib.font_manager:findfont: Font family 'NanumBarunGothic' not found.\n",
            "WARNING:matplotlib.font_manager:findfont: Font family 'NanumBarunGothic' not found.\n",
            "WARNING:matplotlib.font_manager:findfont: Font family 'NanumBarunGothic' not found.\n",
            "WARNING:matplotlib.font_manager:findfont: Font family 'NanumBarunGothic' not found.\n",
            "WARNING:matplotlib.font_manager:findfont: Font family 'NanumBarunGothic' not found.\n",
            "WARNING:matplotlib.font_manager:findfont: Font family 'NanumBarunGothic' not found.\n",
            "WARNING:matplotlib.font_manager:findfont: Font family 'NanumBarunGothic' not found.\n",
            "WARNING:matplotlib.font_manager:findfont: Font family 'NanumBarunGothic' not found.\n",
            "WARNING:matplotlib.font_manager:findfont: Font family 'NanumBarunGothic' not found.\n",
            "WARNING:matplotlib.font_manager:findfont: Font family 'NanumBarunGothic' not found.\n",
            "WARNING:matplotlib.font_manager:findfont: Font family 'NanumBarunGothic' not found.\n",
            "WARNING:matplotlib.font_manager:findfont: Font family 'NanumBarunGothic' not found.\n",
            "WARNING:matplotlib.font_manager:findfont: Font family 'NanumBarunGothic' not found.\n",
            "WARNING:matplotlib.font_manager:findfont: Font family 'NanumBarunGothic' not found.\n",
            "WARNING:matplotlib.font_manager:findfont: Font family 'NanumBarunGothic' not found.\n",
            "WARNING:matplotlib.font_manager:findfont: Font family 'NanumBarunGothic' not found.\n",
            "WARNING:matplotlib.font_manager:findfont: Font family 'NanumBarunGothic' not found.\n",
            "WARNING:matplotlib.font_manager:findfont: Font family 'NanumBarunGothic' not found.\n",
            "WARNING:matplotlib.font_manager:findfont: Font family 'NanumBarunGothic' not found.\n",
            "WARNING:matplotlib.font_manager:findfont: Font family 'NanumBarunGothic' not found.\n",
            "WARNING:matplotlib.font_manager:findfont: Font family 'NanumBarunGothic' not found.\n",
            "WARNING:matplotlib.font_manager:findfont: Font family 'NanumBarunGothic' not found.\n",
            "WARNING:matplotlib.font_manager:findfont: Font family 'NanumBarunGothic' not found.\n",
            "WARNING:matplotlib.font_manager:findfont: Font family 'NanumBarunGothic' not found.\n",
            "WARNING:matplotlib.font_manager:findfont: Font family 'NanumBarunGothic' not found.\n",
            "WARNING:matplotlib.font_manager:findfont: Font family 'NanumBarunGothic' not found.\n",
            "WARNING:matplotlib.font_manager:findfont: Font family 'NanumBarunGothic' not found.\n",
            "WARNING:matplotlib.font_manager:findfont: Font family 'NanumBarunGothic' not found.\n",
            "WARNING:matplotlib.font_manager:findfont: Font family 'NanumBarunGothic' not found.\n",
            "WARNING:matplotlib.font_manager:findfont: Font family 'NanumBarunGothic' not found.\n",
            "WARNING:matplotlib.font_manager:findfont: Font family 'NanumBarunGothic' not found.\n",
            "WARNING:matplotlib.font_manager:findfont: Font family 'NanumBarunGothic' not found.\n",
            "WARNING:matplotlib.font_manager:findfont: Font family 'NanumBarunGothic' not found.\n",
            "WARNING:matplotlib.font_manager:findfont: Font family 'NanumBarunGothic' not found.\n",
            "WARNING:matplotlib.font_manager:findfont: Font family 'NanumBarunGothic' not found.\n",
            "WARNING:matplotlib.font_manager:findfont: Font family 'NanumBarunGothic' not found.\n",
            "WARNING:matplotlib.font_manager:findfont: Font family 'NanumBarunGothic' not found.\n",
            "WARNING:matplotlib.font_manager:findfont: Font family 'NanumBarunGothic' not found.\n",
            "WARNING:matplotlib.font_manager:findfont: Font family 'NanumBarunGothic' not found.\n",
            "WARNING:matplotlib.font_manager:findfont: Font family 'NanumBarunGothic' not found.\n",
            "WARNING:matplotlib.font_manager:findfont: Font family 'NanumBarunGothic' not found.\n",
            "WARNING:matplotlib.font_manager:findfont: Font family 'NanumBarunGothic' not found.\n"
          ]
        },
        {
          "output_type": "display_data",
          "data": {
            "text/plain": [
              "<Figure size 1000x600 with 1 Axes>"
            ],
            "image/png": "[encoded data removed]"
          },
          "metadata": {}
        }
      ]
    },
    {
      "cell_type": "markdown",
      "metadata": {
        "id": "AdxrCm3OW2sA"
      },
      "source": [
        "> 송하인 인코딩"
      ]
    },
    {
      "cell_type": "code",
      "execution_count": 24,
      "metadata": {
        "colab": {
          "base_uri": "https://localhost:8080/"
        },
        "id": "K-RM4xzamd_1",
        "outputId": "4aa8e9e1-0ab3-4ce0-b27e-db62bdf6e62f"
      },
      "outputs": [
        {
          "output_type": "execute_result",
          "data": {
            "text/plain": [
              "송하인_시코드\n",
              "11      6252\n",
              "26      1214\n",
              "27      1176\n",
              "28      1250\n",
              "29       324\n",
              "30      1416\n",
              "31       175\n",
              "36        31\n",
              "41     27198\n",
              "42       724\n",
              "43      1832\n",
              "44      1797\n",
              "45      1412\n",
              "46       758\n",
              "47      1502\n",
              "48       953\n",
              "50    106582\n",
              "Name: 운송장_건수, dtype: int64"
            ]
          },
          "metadata": {},
          "execution_count": 24
        }
      ],
      "source": [
        "train.groupby('송하인_시코드')['운송장_건수'].sum()"
      ]
    },
    {
      "cell_type": "code",
      "execution_count": 25,
      "metadata": {
        "id": "DGuw7Zd___Au"
      },
      "outputs": [],
      "source": [
        "train['송하인_시운송장총건수']=''"
      ]
    },
    {
      "cell_type": "code",
      "execution_count": 26,
      "metadata": {
        "id": "JrBTcmiIAA3M"
      },
      "outputs": [],
      "source": [
        "for k in range(len(train)):\n",
        "    if train['송하인_시코드'][k] == '11':\n",
        "      train['송하인_시운송장총건수'][k] = 6252\n",
        "    if train['송하인_시코드'][k] == '26':\n",
        "      train['송하인_시운송장총건수'][k] = 1214\n",
        "    if train['송하인_시코드'][k] == '27':\n",
        "      train['송하인_시운송장총건수'][k] = 1176\n",
        "    if train['송하인_시코드'][k] == '28':\n",
        "      train['송하인_시운송장총건수'][k] = 1250\n",
        "    if train['송하인_시코드'][k] == '29':\n",
        "      train['송하인_시운송장총건수'][k] = 324\n",
        "    if train['송하인_시코드'][k] == '30':\n",
        "      train['송하인_시운송장총건수'][k] = 1416\n",
        "    if train['송하인_시코드'][k] == '31':\n",
        "      train['송하인_시운송장총건수'][k] = 175\n",
        "    if train['송하인_시코드'][k] == '36':\n",
        "      train['송하인_시운송장총건수'][k] = 31\n",
        "    if train['송하인_시코드'][k] == '41':\n",
        "      train['송하인_시운송장총건수'][k] = 27198\n",
        "    if train['송하인_시코드'][k] == '42':\n",
        "      train['송하인_시운송장총건수'][k] = 724\n",
        "    if train['송하인_시코드'][k] == '43':\n",
        "      train['송하인_시운송장총건수'][k] = 1832\n",
        "    if train['송하인_시코드'][k] == '44':\n",
        "      train['송하인_시운송장총건수'][k] = 1797\n",
        "    if train['송하인_시코드'][k] == '45':\n",
        "      train['송하인_시운송장총건수'][k] = 1412\n",
        "    if train['송하인_시코드'][k] == '46':\n",
        "      train['송하인_시운송장총건수'][k] = 758\n",
        "    if train['송하인_시코드'][k] == '47':\n",
        "      train['송하인_시운송장총건수'][k] = 1502\n",
        "    if train['송하인_시코드'][k] == '48':\n",
        "      train['송하인_시운송장총건수'][k] = 953\n",
        "    if train['송하인_시코드'][k] == '50':\n",
        "      train['송하인_시운송장총건수'][k] = 106582"
      ]
    },
    {
      "cell_type": "code",
      "execution_count": 27,
      "metadata": {
        "id": "bvDBWO8mDq8C",
        "colab": {
          "base_uri": "https://localhost:8080/",
          "height": 316
        },
        "outputId": "b517676a-e30b-45d8-f721-e9259d59d97e"
      },
      "outputs": [
        {
          "output_type": "execute_result",
          "data": {
            "text/plain": [
              "           송하인_격자공간고유번호      수하인_격자공간고유번호 물품_카테고리  운송장_건수 송하인_시코드 수하인_시코드  \\\n",
              "index                                                                       \n",
              "0      5011000595017300  2871000192069300      음반       3      50      28   \n",
              "1      4148000690043300  5011000264024400   문화컨텐츠       3      41      50   \n",
              "2      5011000078068400  1120000007005400     농산물       3      50      11   \n",
              "3      4127100048006400  5011000587019400    기타식품       7      41      50   \n",
              "4      5011000078068400  2823700010076300     농산물       3      50      28   \n",
              "\n",
              "      송하인_군구코드 수하인_군구코드 송하인_동코드 수하인_동코드 수하인_시운송장총건수 송하인_시운송장총건수  \n",
              "index                                                            \n",
              "0          110      710   00595   00192        5623      106582  \n",
              "1          480      110   00690   00264       49104       27198  \n",
              "2          110      200   00078   00007       19852      106582  \n",
              "3          271      110   00048   00587       49104       27198  \n",
              "4          110      237   00078   00010        5623      106582  "
            ],
            "text/html": [
              "\n",
              "  <div id=\"df-08eac999-49cf-4535-842f-19c028e35f0e\">\n",
              "    <div class=\"colab-df-container\">\n",
              "      <div>\n",
              "<style scoped>\n",
              "    .dataframe tbody tr th:only-of-type {\n",
              "        vertical-align: middle;\n",
              "    }\n",
              "\n",
              "    .dataframe tbody tr th {\n",
              "        vertical-align: top;\n",
              "    }\n",
              "\n",
              "    .dataframe thead th {\n",
              "        text-align: right;\n",
              "    }\n",
              "</style>\n",
              "<table border=\"1\" class=\"dataframe\">\n",
              "  <thead>\n",
              "    <tr style=\"text-align: right;\">\n",
              "      <th></th>\n",
              "      <th>송하인_격자공간고유번호</th>\n",
              "      <th>수하인_격자공간고유번호</th>\n",
              "      <th>물품_카테고리</th>\n",
              "      <th>운송장_건수</th>\n",
              "      <th>송하인_시코드</th>\n",
              "      <th>수하인_시코드</th>\n",
              "      <th>송하인_군구코드</th>\n",
              "      <th>수하인_군구코드</th>\n",
              "      <th>송하인_동코드</th>\n",
              "      <th>수하인_동코드</th>\n",
              "      <th>수하인_시운송장총건수</th>\n",
              "      <th>송하인_시운송장총건수</th>\n",
              "    </tr>\n",
              "    <tr>\n",
              "      <th>index</th>\n",
              "      <th></th>\n",
              "      <th></th>\n",
              "      <th></th>\n",
              "      <th></th>\n",
              "      <th></th>\n",
              "      <th></th>\n",
              "      <th></th>\n",
              "      <th></th>\n",
              "      <th></th>\n",
              "      <th></th>\n",
              "      <th></th>\n",
              "      <th></th>\n",
              "    </tr>\n",
              "  </thead>\n",
              "  <tbody>\n",
              "    <tr>\n",
              "      <th>0</th>\n",
              "      <td>5011000595017300</td>\n",
              "      <td>2871000192069300</td>\n",
              "      <td>음반</td>\n",
              "      <td>3</td>\n",
              "      <td>50</td>\n",
              "      <td>28</td>\n",
              "      <td>110</td>\n",
              "      <td>710</td>\n",
              "      <td>00595</td>\n",
              "      <td>00192</td>\n",
              "      <td>5623</td>\n",
              "      <td>106582</td>\n",
              "    </tr>\n",
              "    <tr>\n",
              "      <th>1</th>\n",
              "      <td>4148000690043300</td>\n",
              "      <td>5011000264024400</td>\n",
              "      <td>문화컨텐츠</td>\n",
              "      <td>3</td>\n",
              "      <td>41</td>\n",
              "      <td>50</td>\n",
              "      <td>480</td>\n",
              "      <td>110</td>\n",
              "      <td>00690</td>\n",
              "      <td>00264</td>\n",
              "      <td>49104</td>\n",
              "      <td>27198</td>\n",
              "    </tr>\n",
              "    <tr>\n",
              "      <th>2</th>\n",
              "      <td>5011000078068400</td>\n",
              "      <td>1120000007005400</td>\n",
              "      <td>농산물</td>\n",
              "      <td>3</td>\n",
              "      <td>50</td>\n",
              "      <td>11</td>\n",
              "      <td>110</td>\n",
              "      <td>200</td>\n",
              "      <td>00078</td>\n",
              "      <td>00007</td>\n",
              "      <td>19852</td>\n",
              "      <td>106582</td>\n",
              "    </tr>\n",
              "    <tr>\n",
              "      <th>3</th>\n",
              "      <td>4127100048006400</td>\n",
              "      <td>5011000587019400</td>\n",
              "      <td>기타식품</td>\n",
              "      <td>7</td>\n",
              "      <td>41</td>\n",
              "      <td>50</td>\n",
              "      <td>271</td>\n",
              "      <td>110</td>\n",
              "      <td>00048</td>\n",
              "      <td>00587</td>\n",
              "      <td>49104</td>\n",
              "      <td>27198</td>\n",
              "    </tr>\n",
              "    <tr>\n",
              "      <th>4</th>\n",
              "      <td>5011000078068400</td>\n",
              "      <td>2823700010076300</td>\n",
              "      <td>농산물</td>\n",
              "      <td>3</td>\n",
              "      <td>50</td>\n",
              "      <td>28</td>\n",
              "      <td>110</td>\n",
              "      <td>237</td>\n",
              "      <td>00078</td>\n",
              "      <td>00010</td>\n",
              "      <td>5623</td>\n",
              "      <td>106582</td>\n",
              "    </tr>\n",
              "  </tbody>\n",
              "</table>\n",
              "</div>\n",
              "      <button class=\"colab-df-convert\" onclick=\"convertToInteractive('df-08eac999-49cf-4535-842f-19c028e35f0e')\"\n",
              "              title=\"Convert this dataframe to an interactive table.\"\n",
              "              style=\"display:none;\">\n",
              "        \n",
              "  <svg xmlns=\"http://www.w3.org/2000/svg\" height=\"24px\"viewBox=\"0 0 24 24\"\n",
              "       width=\"24px\">\n",
              "    <path d=\"M0 0h24v24H0V0z\" fill=\"none\"/>\n",
              "    <path d=\"M18.56 5.44l.94 2.06.94-2.06 2.06-.94-2.06-.94-.94-2.06-.94 2.06-2.06.94zm-11 1L8.5 8.5l.94-2.06 2.06-.94-2.06-.94L8.5 2.5l-.94 2.06-2.06.94zm10 10l.94 2.06.94-2.06 2.06-.94-2.06-.94-.94-2.06-.94 2.06-2.06.94z\"/><path d=\"M17.41 7.96l-1.37-1.37c-.4-.4-.92-.59-1.43-.59-.52 0-1.04.2-1.43.59L10.3 9.45l-7.72 7.72c-.78.78-.78 2.05 0 2.83L4 21.41c.39.39.9.59 1.41.59.51 0 1.02-.2 1.41-.59l7.78-7.78 2.81-2.81c.8-.78.8-2.07 0-2.86zM5.41 20L4 18.59l7.72-7.72 1.47 1.35L5.41 20z\"/>\n",
              "  </svg>\n",
              "      </button>\n",
              "      \n",
              "  <style>\n",
              "    .colab-df-container {\n",
              "      display:flex;\n",
              "      flex-wrap:wrap;\n",
              "      gap: 12px;\n",
              "    }\n",
              "\n",
              "    .colab-df-convert {\n",
              "      background-color: #E8F0FE;\n",
              "      border: none;\n",
              "      border-radius: 50%;\n",
              "      cursor: pointer;\n",
              "      display: none;\n",
              "      fill: #1967D2;\n",
              "      height: 32px;\n",
              "      padding: 0 0 0 0;\n",
              "      width: 32px;\n",
              "    }\n",
              "\n",
              "    .colab-df-convert:hover {\n",
              "      background-color: #E2EBFA;\n",
              "      box-shadow: 0px 1px 2px rgba(60, 64, 67, 0.3), 0px 1px 3px 1px rgba(60, 64, 67, 0.15);\n",
              "      fill: #174EA6;\n",
              "    }\n",
              "\n",
              "    [theme=dark] .colab-df-convert {\n",
              "      background-color: #3B4455;\n",
              "      fill: #D2E3FC;\n",
              "    }\n",
              "\n",
              "    [theme=dark] .colab-df-convert:hover {\n",
              "      background-color: #434B5C;\n",
              "      box-shadow: 0px 1px 3px 1px rgba(0, 0, 0, 0.15);\n",
              "      filter: drop-shadow(0px 1px 2px rgba(0, 0, 0, 0.3));\n",
              "      fill: #FFFFFF;\n",
              "    }\n",
              "  </style>\n",
              "\n",
              "      <script>\n",
              "        const buttonEl =\n",
              "          document.querySelector('#df-08eac999-49cf-4535-842f-19c028e35f0e button.colab-df-convert');\n",
              "        buttonEl.style.display =\n",
              "          google.colab.kernel.accessAllowed ? 'block' : 'none';\n",
              "\n",
              "        async function convertToInteractive(key) {\n",
              "          const element = document.querySelector('#df-08eac999-49cf-4535-842f-19c028e35f0e');\n",
              "          const dataTable =\n",
              "            await google.colab.kernel.invokeFunction('convertToInteractive',\n",
              "                                                     [key], {});\n",
              "          if (!dataTable) return;\n",
              "\n",
              "          const docLinkHtml = 'Like what you see? Visit the ' +\n",
              "            '<a target=\"_blank\" href=https://colab.research.google.com/notebooks/data_table.ipynb>data table notebook</a>'\n",
              "            + ' to learn more about interactive tables.';\n",
              "          element.innerHTML = '';\n",
              "          dataTable['output_type'] = 'display_data';\n",
              "          await google.colab.output.renderOutput(dataTable, element);\n",
              "          const docLink = document.createElement('div');\n",
              "          docLink.innerHTML = docLinkHtml;\n",
              "          element.appendChild(docLink);\n",
              "        }\n",
              "      </script>\n",
              "    </div>\n",
              "  </div>\n",
              "  "
            ]
          },
          "metadata": {},
          "execution_count": 27
        }
      ],
      "source": [
        "train.head()"
      ]
    },
    {
      "cell_type": "markdown",
      "source": [
        "> 송하인 운송장 건수 EDA"
      ],
      "metadata": {
        "id": "5K0DMW-QdC5_"
      }
    },
    {
      "cell_type": "code",
      "source": [
        "송하인_시운송장총건수 = pd.DataFrame(train.groupby('송하인_시코드')['운송장_건수'].sum())"
      ],
      "metadata": {
        "id": "19W5Hq9YdC6C"
      },
      "execution_count": 28,
      "outputs": []
    },
    {
      "cell_type": "code",
      "source": [
        "x2 = 송하인_시운송장총건수.index\n",
        "y2 = 송하인_시운송장총건수['운송장_건수']\n",
        "\n",
        "plt.bar(x2, y2)\n",
        "plt.title('송하인_시운송장총건수', fontsize=20)\n",
        "plt.xlabel('송하인_시코드', fontsize=18)\n",
        "plt.ylabel('운송장 총건수', fontsize=18)\n",
        "\n",
        "plt.show()"
      ],
      "metadata": {
        "colab": {
          "base_uri": "https://localhost:8080/",
          "height": 1000
        },
        "outputId": "c6c5ecaa-8cd1-4bd3-fcf1-2c5c2b126fd0",
        "id": "q55bqCNZdC6C"
      },
      "execution_count": 29,
      "outputs": [
        {
          "output_type": "stream",
          "name": "stderr",
          "text": [
            "WARNING:matplotlib.font_manager:findfont: Font family 'NanumBarunGothic' not found.\n",
            "WARNING:matplotlib.font_manager:findfont: Font family 'NanumBarunGothic' not found.\n",
            "WARNING:matplotlib.font_manager:findfont: Font family 'NanumBarunGothic' not found.\n",
            "WARNING:matplotlib.font_manager:findfont: Font family 'NanumBarunGothic' not found.\n",
            "WARNING:matplotlib.font_manager:findfont: Font family 'NanumBarunGothic' not found.\n",
            "WARNING:matplotlib.font_manager:findfont: Font family 'NanumBarunGothic' not found.\n",
            "WARNING:matplotlib.font_manager:findfont: Font family 'NanumBarunGothic' not found.\n",
            "WARNING:matplotlib.font_manager:findfont: Font family 'NanumBarunGothic' not found.\n",
            "WARNING:matplotlib.font_manager:findfont: Font family 'NanumBarunGothic' not found.\n",
            "WARNING:matplotlib.font_manager:findfont: Font family 'NanumBarunGothic' not found.\n",
            "WARNING:matplotlib.font_manager:findfont: Font family 'NanumBarunGothic' not found.\n",
            "WARNING:matplotlib.font_manager:findfont: Font family 'NanumBarunGothic' not found.\n",
            "WARNING:matplotlib.font_manager:findfont: Font family 'NanumBarunGothic' not found.\n",
            "WARNING:matplotlib.font_manager:findfont: Font family 'NanumBarunGothic' not found.\n",
            "WARNING:matplotlib.font_manager:findfont: Font family 'NanumBarunGothic' not found.\n",
            "WARNING:matplotlib.font_manager:findfont: Font family 'NanumBarunGothic' not found.\n",
            "WARNING:matplotlib.font_manager:findfont: Font family 'NanumBarunGothic' not found.\n",
            "WARNING:matplotlib.font_manager:findfont: Font family 'NanumBarunGothic' not found.\n",
            "WARNING:matplotlib.font_manager:findfont: Font family 'NanumBarunGothic' not found.\n",
            "WARNING:matplotlib.font_manager:findfont: Font family 'NanumBarunGothic' not found.\n",
            "WARNING:matplotlib.font_manager:findfont: Font family 'NanumBarunGothic' not found.\n",
            "WARNING:matplotlib.font_manager:findfont: Font family 'NanumBarunGothic' not found.\n",
            "WARNING:matplotlib.font_manager:findfont: Font family 'NanumBarunGothic' not found.\n",
            "WARNING:matplotlib.font_manager:findfont: Font family 'NanumBarunGothic' not found.\n",
            "WARNING:matplotlib.font_manager:findfont: Font family 'NanumBarunGothic' not found.\n",
            "WARNING:matplotlib.font_manager:findfont: Font family 'NanumBarunGothic' not found.\n",
            "WARNING:matplotlib.font_manager:findfont: Font family 'NanumBarunGothic' not found.\n",
            "WARNING:matplotlib.font_manager:findfont: Font family 'NanumBarunGothic' not found.\n",
            "WARNING:matplotlib.font_manager:findfont: Font family 'NanumBarunGothic' not found.\n",
            "WARNING:matplotlib.font_manager:findfont: Font family 'NanumBarunGothic' not found.\n",
            "WARNING:matplotlib.font_manager:findfont: Font family 'NanumBarunGothic' not found.\n",
            "WARNING:matplotlib.font_manager:findfont: Font family 'NanumBarunGothic' not found.\n",
            "WARNING:matplotlib.font_manager:findfont: Font family 'NanumBarunGothic' not found.\n",
            "WARNING:matplotlib.font_manager:findfont: Font family 'NanumBarunGothic' not found.\n",
            "WARNING:matplotlib.font_manager:findfont: Font family 'NanumBarunGothic' not found.\n",
            "WARNING:matplotlib.font_manager:findfont: Font family 'NanumBarunGothic' not found.\n",
            "WARNING:matplotlib.font_manager:findfont: Font family 'NanumBarunGothic' not found.\n",
            "WARNING:matplotlib.font_manager:findfont: Font family 'NanumBarunGothic' not found.\n",
            "WARNING:matplotlib.font_manager:findfont: Font family 'NanumBarunGothic' not found.\n",
            "WARNING:matplotlib.font_manager:findfont: Font family 'NanumBarunGothic' not found.\n",
            "WARNING:matplotlib.font_manager:findfont: Font family 'NanumBarunGothic' not found.\n",
            "WARNING:matplotlib.font_manager:findfont: Font family 'NanumBarunGothic' not found.\n",
            "WARNING:matplotlib.font_manager:findfont: Font family 'NanumBarunGothic' not found.\n",
            "WARNING:matplotlib.font_manager:findfont: Font family 'NanumBarunGothic' not found.\n",
            "WARNING:matplotlib.font_manager:findfont: Font family 'NanumBarunGothic' not found.\n",
            "WARNING:matplotlib.font_manager:findfont: Font family 'NanumBarunGothic' not found.\n",
            "WARNING:matplotlib.font_manager:findfont: Font family 'NanumBarunGothic' not found.\n",
            "WARNING:matplotlib.font_manager:findfont: Font family 'NanumBarunGothic' not found.\n",
            "WARNING:matplotlib.font_manager:findfont: Font family 'NanumBarunGothic' not found.\n",
            "WARNING:matplotlib.font_manager:findfont: Font family 'NanumBarunGothic' not found.\n",
            "WARNING:matplotlib.font_manager:findfont: Font family 'NanumBarunGothic' not found.\n",
            "WARNING:matplotlib.font_manager:findfont: Font family 'NanumBarunGothic' not found.\n",
            "WARNING:matplotlib.font_manager:findfont: Font family 'NanumBarunGothic' not found.\n",
            "WARNING:matplotlib.font_manager:findfont: Font family 'NanumBarunGothic' not found.\n",
            "WARNING:matplotlib.font_manager:findfont: Font family 'NanumBarunGothic' not found.\n",
            "WARNING:matplotlib.font_manager:findfont: Font family 'NanumBarunGothic' not found.\n",
            "WARNING:matplotlib.font_manager:findfont: Font family 'NanumBarunGothic' not found.\n",
            "WARNING:matplotlib.font_manager:findfont: Font family 'NanumBarunGothic' not found.\n",
            "WARNING:matplotlib.font_manager:findfont: Font family 'NanumBarunGothic' not found.\n",
            "WARNING:matplotlib.font_manager:findfont: Font family 'NanumBarunGothic' not found.\n",
            "WARNING:matplotlib.font_manager:findfont: Font family 'NanumBarunGothic' not found.\n",
            "WARNING:matplotlib.font_manager:findfont: Font family 'NanumBarunGothic' not found.\n",
            "WARNING:matplotlib.font_manager:findfont: Font family 'NanumBarunGothic' not found.\n",
            "WARNING:matplotlib.font_manager:findfont: Font family 'NanumBarunGothic' not found.\n",
            "WARNING:matplotlib.font_manager:findfont: Font family 'NanumBarunGothic' not found.\n",
            "WARNING:matplotlib.font_manager:findfont: Font family 'NanumBarunGothic' not found.\n",
            "WARNING:matplotlib.font_manager:findfont: Font family 'NanumBarunGothic' not found.\n",
            "WARNING:matplotlib.font_manager:findfont: Font family 'NanumBarunGothic' not found.\n",
            "WARNING:matplotlib.font_manager:findfont: Font family 'NanumBarunGothic' not found.\n",
            "WARNING:matplotlib.font_manager:findfont: Font family 'NanumBarunGothic' not found.\n",
            "WARNING:matplotlib.font_manager:findfont: Font family 'NanumBarunGothic' not found.\n",
            "WARNING:matplotlib.font_manager:findfont: Font family 'NanumBarunGothic' not found.\n",
            "WARNING:matplotlib.font_manager:findfont: Font family 'NanumBarunGothic' not found.\n",
            "WARNING:matplotlib.font_manager:findfont: Font family 'NanumBarunGothic' not found.\n",
            "WARNING:matplotlib.font_manager:findfont: Font family 'NanumBarunGothic' not found.\n",
            "WARNING:matplotlib.font_manager:findfont: Font family 'NanumBarunGothic' not found.\n",
            "WARNING:matplotlib.font_manager:findfont: Font family 'NanumBarunGothic' not found.\n",
            "WARNING:matplotlib.font_manager:findfont: Font family 'NanumBarunGothic' not found.\n",
            "WARNING:matplotlib.font_manager:findfont: Font family 'NanumBarunGothic' not found.\n",
            "WARNING:matplotlib.font_manager:findfont: Font family 'NanumBarunGothic' not found.\n",
            "WARNING:matplotlib.font_manager:findfont: Font family 'NanumBarunGothic' not found.\n",
            "WARNING:matplotlib.font_manager:findfont: Font family 'NanumBarunGothic' not found.\n",
            "WARNING:matplotlib.font_manager:findfont: Font family 'NanumBarunGothic' not found.\n",
            "WARNING:matplotlib.font_manager:findfont: Font family 'NanumBarunGothic' not found.\n"
          ]
        },
        {
          "output_type": "display_data",
          "data": {
            "text/plain": [
              "<Figure size 1000x600 with 1 Axes>"
            ],
            "image/png": "[encoded data removed]"
          },
          "metadata": {}
        }
      ]
    },
    {
      "cell_type": "markdown",
      "metadata": {
        "id": "5oo_FonbQU2K"
      },
      "source": [
        "#### 군구/동 : 빈도로 인코딩\n",
        "* train test 합쳐서 빈도 도출\n",
        "* 빈도 도출한 뒤 split"
      ]
    },
    {
      "cell_type": "code",
      "execution_count": 30,
      "metadata": {
        "colab": {
          "base_uri": "https://localhost:8080/",
          "height": 537
        },
        "id": "BESBfIXVOGrU",
        "outputId": "60adf269-70df-4ee4-e270-446d870f3521"
      },
      "outputs": [
        {
          "output_type": "execute_result",
          "data": {
            "text/plain": [
              "           송하인_격자공간고유번호      수하인_격자공간고유번호 물품_카테고리  운송장_건수 송하인_시코드 수하인_시코드  \\\n",
              "0      5011000595017300  2871000192069300      음반     3.0      50      28   \n",
              "1      4148000690043300  5011000264024400   문화컨텐츠     3.0      41      50   \n",
              "2      5011000078068400  1120000007005400     농산물     3.0      50      11   \n",
              "3      4127100048006400  5011000587019400    기타식품     7.0      41      50   \n",
              "4      5011000078068400  2823700010076300     농산물     3.0      50      28   \n",
              "...                 ...               ...     ...     ...     ...     ...   \n",
              "39599  5011000266051200  4623000417038100     농산물     NaN      50      46   \n",
              "39600  1154500001098300  5011000264055100   문화컨텐츠     NaN      11      50   \n",
              "39601  5013000610049100  1147000018091400     농산물     NaN      50      11   \n",
              "39602  5013000610049100  3117000039026100     농산물     NaN      50      31   \n",
              "39603  1165000014095200  5011000373086400   문화컨텐츠     NaN      11      50   \n",
              "\n",
              "      송하인_군구코드 수하인_군구코드 송하인_동코드 수하인_동코드 수하인_시운송장총건수 송하인_시운송장총건수  \n",
              "0          110      710   00595   00192        5623      106582  \n",
              "1          480      110   00690   00264       49104       27198  \n",
              "2          110      200   00078   00007       19852      106582  \n",
              "3          271      110   00048   00587       49104       27198  \n",
              "4          110      237   00078   00010        5623      106582  \n",
              "...        ...      ...     ...     ...         ...         ...  \n",
              "39599      110      230   00266   00417         NaN         NaN  \n",
              "39600      545      110   00001   00264         NaN         NaN  \n",
              "39601      130      470   00610   00018         NaN         NaN  \n",
              "39602      130      170   00610   00039         NaN         NaN  \n",
              "39603      650      110   00014   00373         NaN         NaN  \n",
              "\n",
              "[39604 rows x 12 columns]"
            ],
            "text/html": [
              "\n",
              "  <div id=\"df-3579b1d8-10c9-495e-84ff-1d5b7ffbb89c\">\n",
              "    <div class=\"colab-df-container\">\n",
              "      <div>\n",
              "<style scoped>\n",
              "    .dataframe tbody tr th:only-of-type {\n",
              "        vertical-align: middle;\n",
              "    }\n",
              "\n",
              "    .dataframe tbody tr th {\n",
              "        vertical-align: top;\n",
              "    }\n",
              "\n",
              "    .dataframe thead th {\n",
              "        text-align: right;\n",
              "    }\n",
              "</style>\n",
              "<table border=\"1\" class=\"dataframe\">\n",
              "  <thead>\n",
              "    <tr style=\"text-align: right;\">\n",
              "      <th></th>\n",
              "      <th>송하인_격자공간고유번호</th>\n",
              "      <th>수하인_격자공간고유번호</th>\n",
              "      <th>물품_카테고리</th>\n",
              "      <th>운송장_건수</th>\n",
              "      <th>송하인_시코드</th>\n",
              "      <th>수하인_시코드</th>\n",
              "      <th>송하인_군구코드</th>\n",
              "      <th>수하인_군구코드</th>\n",
              "      <th>송하인_동코드</th>\n",
              "      <th>수하인_동코드</th>\n",
              "      <th>수하인_시운송장총건수</th>\n",
              "      <th>송하인_시운송장총건수</th>\n",
              "    </tr>\n",
              "  </thead>\n",
              "  <tbody>\n",
              "    <tr>\n",
              "      <th>0</th>\n",
              "      <td>5011000595017300</td>\n",
              "      <td>2871000192069300</td>\n",
              "      <td>음반</td>\n",
              "      <td>3.0</td>\n",
              "      <td>50</td>\n",
              "      <td>28</td>\n",
              "      <td>110</td>\n",
              "      <td>710</td>\n",
              "      <td>00595</td>\n",
              "      <td>00192</td>\n",
              "      <td>5623</td>\n",
              "      <td>106582</td>\n",
              "    </tr>\n",
              "    <tr>\n",
              "      <th>1</th>\n",
              "      <td>4148000690043300</td>\n",
              "      <td>5011000264024400</td>\n",
              "      <td>문화컨텐츠</td>\n",
              "      <td>3.0</td>\n",
              "      <td>41</td>\n",
              "      <td>50</td>\n",
              "      <td>480</td>\n",
              "      <td>110</td>\n",
              "      <td>00690</td>\n",
              "      <td>00264</td>\n",
              "      <td>49104</td>\n",
              "      <td>27198</td>\n",
              "    </tr>\n",
              "    <tr>\n",
              "      <th>2</th>\n",
              "      <td>5011000078068400</td>\n",
              "      <td>1120000007005400</td>\n",
              "      <td>농산물</td>\n",
              "      <td>3.0</td>\n",
              "      <td>50</td>\n",
              "      <td>11</td>\n",
              "      <td>110</td>\n",
              "      <td>200</td>\n",
              "      <td>00078</td>\n",
              "      <td>00007</td>\n",
              "      <td>19852</td>\n",
              "      <td>106582</td>\n",
              "    </tr>\n",
              "    <tr>\n",
              "      <th>3</th>\n",
              "      <td>4127100048006400</td>\n",
              "      <td>5011000587019400</td>\n",
              "      <td>기타식품</td>\n",
              "      <td>7.0</td>\n",
              "      <td>41</td>\n",
              "      <td>50</td>\n",
              "      <td>271</td>\n",
              "      <td>110</td>\n",
              "      <td>00048</td>\n",
              "      <td>00587</td>\n",
              "      <td>49104</td>\n",
              "      <td>27198</td>\n",
              "    </tr>\n",
              "    <tr>\n",
              "      <th>4</th>\n",
              "      <td>5011000078068400</td>\n",
              "      <td>2823700010076300</td>\n",
              "      <td>농산물</td>\n",
              "      <td>3.0</td>\n",
              "      <td>50</td>\n",
              "      <td>28</td>\n",
              "      <td>110</td>\n",
              "      <td>237</td>\n",
              "      <td>00078</td>\n",
              "      <td>00010</td>\n",
              "      <td>5623</td>\n",
              "      <td>106582</td>\n",
              "    </tr>\n",
              "    <tr>\n",
              "      <th>...</th>\n",
              "      <td>...</td>\n",
              "      <td>...</td>\n",
              "      <td>...</td>\n",
              "      <td>...</td>\n",
              "      <td>...</td>\n",
              "      <td>...</td>\n",
              "      <td>...</td>\n",
              "      <td>...</td>\n",
              "      <td>...</td>\n",
              "      <td>...</td>\n",
              "      <td>...</td>\n",
              "      <td>...</td>\n",
              "    </tr>\n",
              "    <tr>\n",
              "      <th>39599</th>\n",
              "      <td>5011000266051200</td>\n",
              "      <td>4623000417038100</td>\n",
              "      <td>농산물</td>\n",
              "      <td>NaN</td>\n",
              "      <td>50</td>\n",
              "      <td>46</td>\n",
              "      <td>110</td>\n",
              "      <td>230</td>\n",
              "      <td>00266</td>\n",
              "      <td>00417</td>\n",
              "      <td>NaN</td>\n",
              "      <td>NaN</td>\n",
              "    </tr>\n",
              "    <tr>\n",
              "      <th>39600</th>\n",
              "      <td>1154500001098300</td>\n",
              "      <td>5011000264055100</td>\n",
              "      <td>문화컨텐츠</td>\n",
              "      <td>NaN</td>\n",
              "      <td>11</td>\n",
              "      <td>50</td>\n",
              "      <td>545</td>\n",
              "      <td>110</td>\n",
              "      <td>00001</td>\n",
              "      <td>00264</td>\n",
              "      <td>NaN</td>\n",
              "      <td>NaN</td>\n",
              "    </tr>\n",
              "    <tr>\n",
              "      <th>39601</th>\n",
              "      <td>5013000610049100</td>\n",
              "      <td>1147000018091400</td>\n",
              "      <td>농산물</td>\n",
              "      <td>NaN</td>\n",
              "      <td>50</td>\n",
              "      <td>11</td>\n",
              "      <td>130</td>\n",
              "      <td>470</td>\n",
              "      <td>00610</td>\n",
              "      <td>00018</td>\n",
              "      <td>NaN</td>\n",
              "      <td>NaN</td>\n",
              "    </tr>\n",
              "    <tr>\n",
              "      <th>39602</th>\n",
              "      <td>5013000610049100</td>\n",
              "      <td>3117000039026100</td>\n",
              "      <td>농산물</td>\n",
              "      <td>NaN</td>\n",
              "      <td>50</td>\n",
              "      <td>31</td>\n",
              "      <td>130</td>\n",
              "      <td>170</td>\n",
              "      <td>00610</td>\n",
              "      <td>00039</td>\n",
              "      <td>NaN</td>\n",
              "      <td>NaN</td>\n",
              "    </tr>\n",
              "    <tr>\n",
              "      <th>39603</th>\n",
              "      <td>1165000014095200</td>\n",
              "      <td>5011000373086400</td>\n",
              "      <td>문화컨텐츠</td>\n",
              "      <td>NaN</td>\n",
              "      <td>11</td>\n",
              "      <td>50</td>\n",
              "      <td>650</td>\n",
              "      <td>110</td>\n",
              "      <td>00014</td>\n",
              "      <td>00373</td>\n",
              "      <td>NaN</td>\n",
              "      <td>NaN</td>\n",
              "    </tr>\n",
              "  </tbody>\n",
              "</table>\n",
              "<p>39604 rows × 12 columns</p>\n",
              "</div>\n",
              "      <button class=\"colab-df-convert\" onclick=\"convertToInteractive('df-3579b1d8-10c9-495e-84ff-1d5b7ffbb89c')\"\n",
              "              title=\"Convert this dataframe to an interactive table.\"\n",
              "              style=\"display:none;\">\n",
              "        \n",
              "  <svg xmlns=\"http://www.w3.org/2000/svg\" height=\"24px\"viewBox=\"0 0 24 24\"\n",
              "       width=\"24px\">\n",
              "    <path d=\"M0 0h24v24H0V0z\" fill=\"none\"/>\n",
              "    <path d=\"M18.56 5.44l.94 2.06.94-2.06 2.06-.94-2.06-.94-.94-2.06-.94 2.06-2.06.94zm-11 1L8.5 8.5l.94-2.06 2.06-.94-2.06-.94L8.5 2.5l-.94 2.06-2.06.94zm10 10l.94 2.06.94-2.06 2.06-.94-2.06-.94-.94-2.06-.94 2.06-2.06.94z\"/><path d=\"M17.41 7.96l-1.37-1.37c-.4-.4-.92-.59-1.43-.59-.52 0-1.04.2-1.43.59L10.3 9.45l-7.72 7.72c-.78.78-.78 2.05 0 2.83L4 21.41c.39.39.9.59 1.41.59.51 0 1.02-.2 1.41-.59l7.78-7.78 2.81-2.81c.8-.78.8-2.07 0-2.86zM5.41 20L4 18.59l7.72-7.72 1.47 1.35L5.41 20z\"/>\n",
              "  </svg>\n",
              "      </button>\n",
              "      \n",
              "  <style>\n",
              "    .colab-df-container {\n",
              "      display:flex;\n",
              "      flex-wrap:wrap;\n",
              "      gap: 12px;\n",
              "    }\n",
              "\n",
              "    .colab-df-convert {\n",
              "      background-color: #E8F0FE;\n",
              "      border: none;\n",
              "      border-radius: 50%;\n",
              "      cursor: pointer;\n",
              "      display: none;\n",
              "      fill: #1967D2;\n",
              "      height: 32px;\n",
              "      padding: 0 0 0 0;\n",
              "      width: 32px;\n",
              "    }\n",
              "\n",
              "    .colab-df-convert:hover {\n",
              "      background-color: #E2EBFA;\n",
              "      box-shadow: 0px 1px 2px rgba(60, 64, 67, 0.3), 0px 1px 3px 1px rgba(60, 64, 67, 0.15);\n",
              "      fill: #174EA6;\n",
              "    }\n",
              "\n",
              "    [theme=dark] .colab-df-convert {\n",
              "      background-color: #3B4455;\n",
              "      fill: #D2E3FC;\n",
              "    }\n",
              "\n",
              "    [theme=dark] .colab-df-convert:hover {\n",
              "      background-color: #434B5C;\n",
              "      box-shadow: 0px 1px 3px 1px rgba(0, 0, 0, 0.15);\n",
              "      filter: drop-shadow(0px 1px 2px rgba(0, 0, 0, 0.3));\n",
              "      fill: #FFFFFF;\n",
              "    }\n",
              "  </style>\n",
              "\n",
              "      <script>\n",
              "        const buttonEl =\n",
              "          document.querySelector('#df-3579b1d8-10c9-495e-84ff-1d5b7ffbb89c button.colab-df-convert');\n",
              "        buttonEl.style.display =\n",
              "          google.colab.kernel.accessAllowed ? 'block' : 'none';\n",
              "\n",
              "        async function convertToInteractive(key) {\n",
              "          const element = document.querySelector('#df-3579b1d8-10c9-495e-84ff-1d5b7ffbb89c');\n",
              "          const dataTable =\n",
              "            await google.colab.kernel.invokeFunction('convertToInteractive',\n",
              "                                                     [key], {});\n",
              "          if (!dataTable) return;\n",
              "\n",
              "          const docLinkHtml = 'Like what you see? Visit the ' +\n",
              "            '<a target=\"_blank\" href=https://colab.research.google.com/notebooks/data_table.ipynb>data table notebook</a>'\n",
              "            + ' to learn more about interactive tables.';\n",
              "          element.innerHTML = '';\n",
              "          dataTable['output_type'] = 'display_data';\n",
              "          await google.colab.output.renderOutput(dataTable, element);\n",
              "          const docLink = document.createElement('div');\n",
              "          docLink.innerHTML = docLinkHtml;\n",
              "          element.appendChild(docLink);\n",
              "        }\n",
              "      </script>\n",
              "    </div>\n",
              "  </div>\n",
              "  "
            ]
          },
          "metadata": {},
          "execution_count": 30
        }
      ],
      "source": [
        "num_train = len(train)\n",
        "all_data = pd.concat([train, test], ignore_index=True)\n",
        "all_data"
      ]
    },
    {
      "cell_type": "markdown",
      "metadata": {
        "id": "e2pDk2oKsJxy"
      },
      "source": [
        "군구"
      ]
    },
    {
      "cell_type": "code",
      "execution_count": 31,
      "metadata": {
        "id": "fr-gXpXNsQqz"
      },
      "outputs": [],
      "source": [
        "# 송하인\n",
        "freq_song_gu = all_data['송하인_군구코드'].value_counts().sort_values()\n",
        "freq_song_gu = freq_song_gu.reset_index()\n",
        "freq_song_gu.columns = ['군구동', '빈도']\n",
        "\n",
        "all_data['송하인_군구코드_빈도']=0\n",
        "\n",
        "for i in range(len(all_data)):\n",
        "  for j in range(len(freq_song_gu)):\n",
        "    if all_data['송하인_군구코드'][i] == freq_song_gu['군구동'][j]:\n",
        "      all_data['송하인_군구코드_빈도'][i] = freq_song_gu['빈도'][j]"
      ]
    },
    {
      "cell_type": "code",
      "execution_count": 32,
      "metadata": {
        "id": "vWMlPLjLbb87"
      },
      "outputs": [],
      "source": [
        "# 수하인\n",
        "freq_su_gu = all_data['수하인_군구코드'].value_counts().sort_values()\n",
        "freq_su_gu = freq_su_gu.reset_index()\n",
        "freq_su_gu.columns = ['군구동', '빈도']\n",
        "\n",
        "all_data['수하인_군구코드_빈도']=0\n",
        "\n",
        "for i in range(len(all_data)):\n",
        "  for j in range(len(freq_su_gu)):\n",
        "    if all_data['수하인_군구코드'][i] == freq_su_gu['군구동'][j]:\n",
        "      all_data['수하인_군구코드_빈도'][i] = freq_su_gu['빈도'][j]"
      ]
    },
    {
      "cell_type": "markdown",
      "metadata": {
        "id": "aIEBG-nBs79q"
      },
      "source": [
        "동"
      ]
    },
    {
      "cell_type": "code",
      "execution_count": 33,
      "metadata": {
        "id": "6CyI-bJRs7W9",
        "colab": {
          "base_uri": "https://localhost:8080/",
          "height": 387
        },
        "outputId": "28d896e8-7b27-4619-9f65-17addb673da3"
      },
      "outputs": [
        {
          "output_type": "error",
          "ename": "KeyboardInterrupt",
          "evalue": "ignored",
          "traceback": [
            "\u001b[0;31m---------------------------------------------------------------------------\u001b[0m",
            "\u001b[0;31mKeyboardInterrupt\u001b[0m                         Traceback (most recent call last)",
            "\u001b[0;32m<ipython-input-33-47dbc20fc85f>\u001b[0m in \u001b[0;36m<cell line: 8>\u001b[0;34m()\u001b[0m\n\u001b[1;32m      8\u001b[0m \u001b[0;32mfor\u001b[0m \u001b[0mi\u001b[0m \u001b[0;32min\u001b[0m \u001b[0mrange\u001b[0m\u001b[0;34m(\u001b[0m\u001b[0mlen\u001b[0m\u001b[0;34m(\u001b[0m\u001b[0mall_data\u001b[0m\u001b[0;34m)\u001b[0m\u001b[0;34m)\u001b[0m\u001b[0;34m:\u001b[0m\u001b[0;34m\u001b[0m\u001b[0;34m\u001b[0m\u001b[0m\n\u001b[1;32m      9\u001b[0m   \u001b[0;32mfor\u001b[0m \u001b[0mj\u001b[0m \u001b[0;32min\u001b[0m \u001b[0mrange\u001b[0m\u001b[0;34m(\u001b[0m\u001b[0mlen\u001b[0m\u001b[0;34m(\u001b[0m\u001b[0mfreq_song_dong\u001b[0m\u001b[0;34m)\u001b[0m\u001b[0;34m)\u001b[0m\u001b[0;34m:\u001b[0m\u001b[0;34m\u001b[0m\u001b[0;34m\u001b[0m\u001b[0m\n\u001b[0;32m---> 10\u001b[0;31m     \u001b[0;32mif\u001b[0m \u001b[0mall_data\u001b[0m\u001b[0;34m[\u001b[0m\u001b[0;34m'송하인_동코드'\u001b[0m\u001b[0;34m]\u001b[0m\u001b[0;34m[\u001b[0m\u001b[0mi\u001b[0m\u001b[0;34m]\u001b[0m \u001b[0;34m==\u001b[0m \u001b[0mfreq_song_dong\u001b[0m\u001b[0;34m[\u001b[0m\u001b[0;34m'군구동'\u001b[0m\u001b[0;34m]\u001b[0m\u001b[0;34m[\u001b[0m\u001b[0mj\u001b[0m\u001b[0;34m]\u001b[0m\u001b[0;34m:\u001b[0m\u001b[0;34m\u001b[0m\u001b[0;34m\u001b[0m\u001b[0m\n\u001b[0m\u001b[1;32m     11\u001b[0m       \u001b[0mall_data\u001b[0m\u001b[0;34m[\u001b[0m\u001b[0;34m'송하인_동코드_빈도'\u001b[0m\u001b[0;34m]\u001b[0m\u001b[0;34m[\u001b[0m\u001b[0mi\u001b[0m\u001b[0;34m]\u001b[0m \u001b[0;34m=\u001b[0m \u001b[0mfreq_song_dong\u001b[0m\u001b[0;34m[\u001b[0m\u001b[0;34m'빈도'\u001b[0m\u001b[0;34m]\u001b[0m\u001b[0;34m[\u001b[0m\u001b[0mj\u001b[0m\u001b[0;34m]\u001b[0m\u001b[0;34m\u001b[0m\u001b[0;34m\u001b[0m\u001b[0m\n",
            "\u001b[0;32m/usr/local/lib/python3.9/dist-packages/pandas/core/series.py\u001b[0m in \u001b[0;36m__getitem__\u001b[0;34m(self, key)\u001b[0m\n\u001b[1;32m    956\u001b[0m \u001b[0;34m\u001b[0m\u001b[0m\n\u001b[1;32m    957\u001b[0m         \u001b[0;32melif\u001b[0m \u001b[0mkey_is_scalar\u001b[0m\u001b[0;34m:\u001b[0m\u001b[0;34m\u001b[0m\u001b[0;34m\u001b[0m\u001b[0m\n\u001b[0;32m--> 958\u001b[0;31m             \u001b[0;32mreturn\u001b[0m \u001b[0mself\u001b[0m\u001b[0;34m.\u001b[0m\u001b[0m_get_value\u001b[0m\u001b[0;34m(\u001b[0m\u001b[0mkey\u001b[0m\u001b[0;34m)\u001b[0m\u001b[0;34m\u001b[0m\u001b[0;34m\u001b[0m\u001b[0m\n\u001b[0m\u001b[1;32m    959\u001b[0m \u001b[0;34m\u001b[0m\u001b[0m\n\u001b[1;32m    960\u001b[0m         \u001b[0;32mif\u001b[0m \u001b[0mis_hashable\u001b[0m\u001b[0;34m(\u001b[0m\u001b[0mkey\u001b[0m\u001b[0;34m)\u001b[0m\u001b[0;34m:\u001b[0m\u001b[0;34m\u001b[0m\u001b[0;34m\u001b[0m\u001b[0m\n",
            "\u001b[0;32m/usr/local/lib/python3.9/dist-packages/pandas/core/series.py\u001b[0m in \u001b[0;36m_get_value\u001b[0;34m(self, label, takeable)\u001b[0m\n\u001b[1;32m   1067\u001b[0m \u001b[0;34m\u001b[0m\u001b[0m\n\u001b[1;32m   1068\u001b[0m         \u001b[0;31m# Similar to Index.get_value, but we do not fall back to positional\u001b[0m\u001b[0;34m\u001b[0m\u001b[0;34m\u001b[0m\u001b[0m\n\u001b[0;32m-> 1069\u001b[0;31m         \u001b[0mloc\u001b[0m \u001b[0;34m=\u001b[0m \u001b[0mself\u001b[0m\u001b[0;34m.\u001b[0m\u001b[0mindex\u001b[0m\u001b[0;34m.\u001b[0m\u001b[0mget_loc\u001b[0m\u001b[0;34m(\u001b[0m\u001b[0mlabel\u001b[0m\u001b[0;34m)\u001b[0m\u001b[0;34m\u001b[0m\u001b[0;34m\u001b[0m\u001b[0m\n\u001b[0m\u001b[1;32m   1070\u001b[0m         \u001b[0;32mreturn\u001b[0m \u001b[0mself\u001b[0m\u001b[0;34m.\u001b[0m\u001b[0mindex\u001b[0m\u001b[0;34m.\u001b[0m\u001b[0m_get_values_for_loc\u001b[0m\u001b[0;34m(\u001b[0m\u001b[0mself\u001b[0m\u001b[0;34m,\u001b[0m \u001b[0mloc\u001b[0m\u001b[0;34m,\u001b[0m \u001b[0mlabel\u001b[0m\u001b[0;34m)\u001b[0m\u001b[0;34m\u001b[0m\u001b[0;34m\u001b[0m\u001b[0m\n\u001b[1;32m   1071\u001b[0m \u001b[0;34m\u001b[0m\u001b[0m\n",
            "\u001b[0;32m/usr/local/lib/python3.9/dist-packages/pandas/core/indexes/range.py\u001b[0m in \u001b[0;36mget_loc\u001b[0;34m(self, key, method, tolerance)\u001b[0m\n\u001b[1;32m    380\u001b[0m     \u001b[0;32mdef\u001b[0m \u001b[0mget_loc\u001b[0m\u001b[0;34m(\u001b[0m\u001b[0mself\u001b[0m\u001b[0;34m,\u001b[0m \u001b[0mkey\u001b[0m\u001b[0;34m,\u001b[0m \u001b[0mmethod\u001b[0m\u001b[0;34m=\u001b[0m\u001b[0;32mNone\u001b[0m\u001b[0;34m,\u001b[0m \u001b[0mtolerance\u001b[0m\u001b[0;34m=\u001b[0m\u001b[0;32mNone\u001b[0m\u001b[0;34m)\u001b[0m\u001b[0;34m:\u001b[0m\u001b[0;34m\u001b[0m\u001b[0;34m\u001b[0m\u001b[0m\n\u001b[1;32m    381\u001b[0m         \u001b[0;32mif\u001b[0m \u001b[0mmethod\u001b[0m \u001b[0;32mis\u001b[0m \u001b[0;32mNone\u001b[0m \u001b[0;32mand\u001b[0m \u001b[0mtolerance\u001b[0m \u001b[0;32mis\u001b[0m \u001b[0;32mNone\u001b[0m\u001b[0;34m:\u001b[0m\u001b[0;34m\u001b[0m\u001b[0;34m\u001b[0m\u001b[0m\n\u001b[0;32m--> 382\u001b[0;31m             \u001b[0;32mif\u001b[0m \u001b[0mis_integer\u001b[0m\u001b[0;34m(\u001b[0m\u001b[0mkey\u001b[0m\u001b[0;34m)\u001b[0m \u001b[0;32mor\u001b[0m \u001b[0;34m(\u001b[0m\u001b[0mis_float\u001b[0m\u001b[0;34m(\u001b[0m\u001b[0mkey\u001b[0m\u001b[0;34m)\u001b[0m \u001b[0;32mand\u001b[0m \u001b[0mkey\u001b[0m\u001b[0;34m.\u001b[0m\u001b[0mis_integer\u001b[0m\u001b[0;34m(\u001b[0m\u001b[0;34m)\u001b[0m\u001b[0;34m)\u001b[0m\u001b[0;34m:\u001b[0m\u001b[0;34m\u001b[0m\u001b[0;34m\u001b[0m\u001b[0m\n\u001b[0m\u001b[1;32m    383\u001b[0m                 \u001b[0mnew_key\u001b[0m \u001b[0;34m=\u001b[0m \u001b[0mint\u001b[0m\u001b[0;34m(\u001b[0m\u001b[0mkey\u001b[0m\u001b[0;34m)\u001b[0m\u001b[0;34m\u001b[0m\u001b[0;34m\u001b[0m\u001b[0m\n\u001b[1;32m    384\u001b[0m                 \u001b[0;32mtry\u001b[0m\u001b[0;34m:\u001b[0m\u001b[0;34m\u001b[0m\u001b[0;34m\u001b[0m\u001b[0m\n",
            "\u001b[0;31mKeyboardInterrupt\u001b[0m: "
          ]
        }
      ],
      "source": [
        "# 송하인\n",
        "freq_song_dong = all_data['송하인_동코드'].value_counts().sort_values()\n",
        "freq_song_dong = freq_song_dong.reset_index()\n",
        "freq_song_dong.columns = ['군구동', '빈도']\n",
        "\n",
        "all_data['송하인_동코드_빈도']=0\n",
        "\n",
        "for i in range(len(all_data)):\n",
        "  for j in range(len(freq_song_dong)):\n",
        "    if all_data['송하인_동코드'][i] == freq_song_dong['군구동'][j]:\n",
        "      all_data['송하인_동코드_빈도'][i] = freq_song_dong['빈도'][j]"
      ]
    },
    {
      "cell_type": "code",
      "execution_count": null,
      "metadata": {
        "id": "oDk5yehys7ac"
      },
      "outputs": [],
      "source": [
        "# 수하인\n",
        "freq_su_dong = all_data['수하인_동코드'].value_counts().sort_values()\n",
        "freq_su_dong = freq_su_dong.reset_index()\n",
        "freq_su_dong.columns = ['군구동', '빈도']\n",
        "\n",
        "all_data['수하인_동코드_빈도']=0\n",
        "\n",
        "for i in range(len(all_data)):\n",
        "  for j in range(len(freq_su_dong)):\n",
        "    if all_data['수하인_동코드'][i] == freq_su_dong['군구동'][j]:\n",
        "      all_data['수하인_동코드_빈도'][i] = freq_su_dong['빈도'][j]"
      ]
    },
    {
      "cell_type": "code",
      "execution_count": null,
      "metadata": {
        "id": "k23J_jmtt6Kk"
      },
      "outputs": [],
      "source": [
        "train = all_data.iloc[0:num_train+1, :]\n",
        "test = all_data.iloc[num_train:, :]\n",
        "test.drop(['운송장_건수'], axis=1, inplace=True)"
      ]
    },
    {
      "cell_type": "code",
      "execution_count": null,
      "metadata": {
        "id": "awnWjqabuDGP"
      },
      "outputs": [],
      "source": [
        "train.head()"
      ]
    },
    {
      "cell_type": "code",
      "source": [
        "test.reset_index(drop=True, inplace=True)"
      ],
      "metadata": {
        "id": "yMCR5Fd1f1mF"
      },
      "execution_count": null,
      "outputs": []
    },
    {
      "cell_type": "code",
      "execution_count": null,
      "metadata": {
        "id": "lVLhriryuEkh"
      },
      "outputs": [],
      "source": [
        "test.head()"
      ]
    },
    {
      "cell_type": "markdown",
      "source": [
        "> 군구 빈도 EDA"
      ],
      "metadata": {
        "id": "VytzCqUegZ5-"
      }
    },
    {
      "cell_type": "code",
      "source": [
        "all_data['수하인_군구코드_빈도'].nunique()"
      ],
      "metadata": {
        "id": "2CZrET-bg0em"
      },
      "execution_count": null,
      "outputs": []
    },
    {
      "cell_type": "code",
      "source": [
        "all_data['송하인_군구코드_빈도'].nunique()"
      ],
      "metadata": {
        "id": "Kw0iksC0h3WK"
      },
      "execution_count": null,
      "outputs": []
    },
    {
      "cell_type": "code",
      "source": [
        "fig, (ax1, ax2) = plt.subplots(1, 2, figsize=(18,5))\n",
        "\n",
        "d1 = all_data['수하인_군구코드_빈도']\n",
        "sns.boxplot(d1)\n",
        "ax1.text(50,16, \"TOTAL count: {}\".format(d1.count()))\n",
        "ax1.text(50,15, \"Mean Frequency: {:.1f}\".format(d1.mean()))\n",
        "ax1.text(50,14, \"Median Frequency: {:.1f}\".format(d1.median()))\n",
        "ax1.text(50,13, \"Std. deviation Frequency: {:.1f}\".format(d1.std()))\n",
        "ax1.set_title('수하인_군구코드_빈도')\n",
        "\n",
        "d2 = all_data['송하인_군구코드_빈도']\n",
        "sns.boxplot(d2)\n",
        "ax2.text(50,16, \"TOTAL count: {}\".format(d2.count()))\n",
        "ax2.text(50,15, \"Mean Frequency: {:.1f}\".format(d2.mean()))\n",
        "ax2.text(50,14, \"Median Frequency: {:.1f}\".format(d2.median()))\n",
        "ax2.text(50,13, \"Std. deviation Frequency: {:.1f}\".format(d2.std()))\n",
        "ax2.set_title('송하인_군구코드_빈도')\n",
        "\n",
        "plt.show()"
      ],
      "metadata": {
        "id": "SQCjGV5Oj0CI"
      },
      "execution_count": null,
      "outputs": []
    },
    {
      "cell_type": "markdown",
      "source": [
        "> 송하인 빈도 EDA"
      ],
      "metadata": {
        "id": "vWW2j1oCh3WJ"
      }
    },
    {
      "cell_type": "code",
      "source": [
        "all_data['수하인_동코드_빈도'].nunique()"
      ],
      "metadata": {
        "id": "WIEFmn1PhFhQ"
      },
      "execution_count": null,
      "outputs": []
    },
    {
      "cell_type": "code",
      "source": [
        "all_data['송하인_동코드_빈도'].nunique()"
      ],
      "metadata": {
        "id": "EvgUjl3zh3WK"
      },
      "execution_count": null,
      "outputs": []
    },
    {
      "cell_type": "code",
      "source": [
        "fig, (ax1, ax2) = plt.subplots(1, 2, figsize=(18,5))\n",
        "\n",
        "d3 = all_data['수하인_동코드_빈도']\n",
        "sns.boxplot(d3)\n",
        "ax1.text(50,16, \"TOTAL count: {}\".format(d3.count()))\n",
        "ax1.text(50,15, \"Mean Frequency: {:.1f}\".format(d3.mean()))\n",
        "ax1.text(50,14, \"Median Frequency: {:.1f}\".format(d3.median()))\n",
        "ax1.text(50,13, \"Std. deviation Frequency: {:.1f}\".format(d3.std()))\n",
        "ax1.set_title('수하인_동코드_빈도')\n",
        "\n",
        "d4 = all_data['송하인_동코드_빈도']\n",
        "sns.boxplot(d4)\n",
        "ax2.text(50,16, \"TOTAL count: {}\".format(d4.count()))\n",
        "ax2.text(50,15, \"Mean Frequency: {:.1f}\".format(d4.mean()))\n",
        "ax2.text(50,14, \"Median Frequency: {:.1f}\".format(d4.median()))\n",
        "ax2.text(50,13, \"Std. deviation Frequency: {:.1f}\".format(d4.std()))\n",
        "ax2.set_title('송하인_동코드_빈도')\n",
        "\n",
        "plt.show()"
      ],
      "metadata": {
        "id": "F0zVD3uFnyQv"
      },
      "execution_count": null,
      "outputs": []
    },
    {
      "cell_type": "markdown",
      "metadata": {
        "id": "M3wmIa5Ull2U"
      },
      "source": [
        "## 2) 물품_카테고리"
      ]
    },
    {
      "cell_type": "code",
      "execution_count": null,
      "metadata": {
        "id": "-OkYorKSM5g0"
      },
      "outputs": [],
      "source": [
        "pd.set_option('display.max_rows', None)\n",
        "print(train.iloc[:,3].value_counts())"
      ]
    },
    {
      "cell_type": "markdown",
      "metadata": {
        "id": "mqMPhAEA40ba"
      },
      "source": [
        "### (1) 물품_카테고리_대분류 열 생성"
      ]
    },
    {
      "cell_type": "code",
      "execution_count": null,
      "metadata": {
        "id": "pYA7d85gw6Ss"
      },
      "outputs": [],
      "source": [
        "식품 = ['농산물', '기타식품', '수산', '건강식품', '음료', '가공식품', '축산', '과자', '다이어트식품', '냉동/간편조리식품', '김치','반찬']\n",
        "생활건강 = ['의료용품','건강용품', '생활용품', '주방용품', '위생/건강용품', '재활운동용품', '자동차용품' ,\n",
        "            '수납/정리용품', '취미용품', '구강위생용품', '눈관리용품', '욕실용품', '세탁용품', '공구', '문구/사무용품']\n",
        "스포츠레저 = ['기타스포츠/레저' ,'등산', '낚시', '골프' ,'캠핑' ,'헬스' ]\n",
        "가구인테리어 = ['서재/사무용가구', '주방가구', '침실가구' ,'수납가구' ,'아웃도어가구' ,'유아가구' ,\n",
        "                 '침구세트', '침구단품', '인테리어소품', '커튼/블라인드', 'DIY자재/용품', '홈데코', '카페트/러그']\n",
        "도서음반 = ['음반', '문화컨텐츠']\n",
        "패션잡화 = ['선글라스/안경테', '양말/스타킹', '가방', '주얼리' ,'패션소품', '모자' ,'기타패션잡화' ,'지갑', '헤어액세서리']\n",
        "패션의류 = ['아우터', '신발', '상의', '하의', '기타패션의류', '잠옷', '언더웨어' ,'원피스/점프슈트', '기능성']\n",
        "기타 = ['반려동물']\n",
        "출산육아 = ['기저귀/물티슈', '기타출산/육아', '분유/이유식/아기간식', '출산/유아동잡화', '출산/유아동의류', '완구/매트']\n",
        "디지털가전 = ['모니터', 'PC' ,'PC주변기기', '게임기/타이틀', '스마트디바이스액세서리', '태블릿PC/노트북액세서리', \n",
        "               '스마트디바이스', '기타디지털/가전' ,'주방가전', '음향가전', '계절가전' ,'생활가전' ,'이미용가전']\n",
        "화장품미용 = ['스킨케어', '헤어케어', '바디케어', '선케어', '네일케어', '기타화장품/미용' ,\n",
        "               '색조메이크업', '클렌징' ,'헤어스타일링', '뷰티소품', '남성화장품' ,'베이스메이크업', '향수']"
      ]
    },
    {
      "cell_type": "code",
      "execution_count": null,
      "metadata": {
        "id": "IerkY09QxEav"
      },
      "outputs": [],
      "source": [
        "train['물품_카테고리_대분류']=' '"
      ]
    },
    {
      "cell_type": "code",
      "execution_count": null,
      "metadata": {
        "id": "qQq1Rg7xxu1h"
      },
      "outputs": [],
      "source": [
        "for i in train['물품_카테고리']:\n",
        "  if i in 식품:\n",
        "    train.loc[train['물품_카테고리']==i, '물품_카테고리_대분류'] = '식품'\n",
        "  elif i in 생활건강:\n",
        "    train.loc[train['물품_카테고리']==i,'물품_카테고리_대분류']='생활건강'\n",
        "  elif i in 스포츠레저:\n",
        "    train.loc[train['물품_카테고리']==i,'물품_카테고리_대분류']='스포츠레저'\n",
        "  elif i in 가구인테리어:\n",
        "    train.loc[train['물품_카테고리']==i,'물품_카테고리_대분류']='가구인테리어'\n",
        "  elif i in 도서음반:\n",
        "    train.loc[train['물품_카테고리']==i,'물품_카테고리_대분류']='도서음반'\n",
        "  elif i in 패션잡화:\n",
        "    train.loc[train['물품_카테고리']==i,'물품_카테고리_대분류']='패션잡화'\n",
        "  elif i in 패션의류:\n",
        "    train.loc[train['물품_카테고리']==i,'물품_카테고리_대분류']='패션의류'\n",
        "  elif i in 기타:\n",
        "    train.loc[train['물품_카테고리']==i,'물품_카테고리_대분류']='기타'\n",
        "  elif i in 출산육아:\n",
        "    train.loc[train['물품_카테고리']==i,'물품_카테고리_대분류']='출산육아'\n",
        "  elif i in 디지털가전:\n",
        "    train.loc[train['물품_카테고리']==i,'물품_카테고리_대분류']='디지털가전'\n",
        "  else:\n",
        "    train.loc[train['물품_카테고리']==i,'물품_카테고리_대분류']='화장품미용'"
      ]
    },
    {
      "cell_type": "code",
      "execution_count": null,
      "metadata": {
        "id": "4fxAtnCemH5F"
      },
      "outputs": [],
      "source": [
        "train.head()"
      ]
    },
    {
      "cell_type": "code",
      "execution_count": null,
      "metadata": {
        "id": "PdIHvwJDfkni"
      },
      "outputs": [],
      "source": [
        "test['물품_카테고리_대분류']=' '"
      ]
    },
    {
      "cell_type": "code",
      "execution_count": null,
      "metadata": {
        "id": "ftOo0o0hfknj"
      },
      "outputs": [],
      "source": [
        "for i in test['물품_카테고리']:\n",
        "  if i in 식품:\n",
        "    test.loc[test['물품_카테고리']==i, '물품_카테고리_대분류'] = '식품'\n",
        "  elif i in 생활건강:\n",
        "    test.loc[test['물품_카테고리']==i,'물품_카테고리_대분류']='생활건강'\n",
        "  elif i in 스포츠레저:\n",
        "    test.loc[test['물품_카테고리']==i,'물품_카테고리_대분류']='스포츠레저'\n",
        "  elif i in 가구인테리어:\n",
        "    test.loc[test['물품_카테고리']==i,'물품_카테고리_대분류']='가구인테리어'\n",
        "  elif i in 도서음반:\n",
        "    test.loc[test['물품_카테고리']==i,'물품_카테고리_대분류']='도서음반'\n",
        "  elif i in 패션잡화:\n",
        "    test.loc[test['물품_카테고리']==i,'물품_카테고리_대분류']='패션잡화'\n",
        "  elif i in 패션의류:\n",
        "    test.loc[test['물품_카테고리']==i,'물품_카테고리_대분류']='패션의류'\n",
        "  elif i in 기타:\n",
        "    test.loc[test['물품_카테고리']==i,'물품_카테고리_대분류']='기타'\n",
        "  elif i in 출산육아:\n",
        "    test.loc[test['물품_카테고리']==i,'물품_카테고리_대분류']='출산육아'\n",
        "  elif i in 디지털가전:\n",
        "    test.loc[test['물품_카테고리']==i,'물품_카테고리_대분류']='디지털가전'\n",
        "  else:\n",
        "    test.loc[test['물품_카테고리']==i,'물품_카테고리_대분류']='화장품미용'"
      ]
    },
    {
      "cell_type": "code",
      "execution_count": null,
      "metadata": {
        "id": "MWDBDvErfknk"
      },
      "outputs": [],
      "source": [
        "test.head()"
      ]
    },
    {
      "cell_type": "markdown",
      "metadata": {
        "id": "cYn3bYmkW3g0"
      },
      "source": [
        "### (2) 물품_카테고리_대분류 인코딩\n",
        "* 운송장_건수 합으로 인코딩"
      ]
    },
    {
      "cell_type": "code",
      "execution_count": null,
      "metadata": {
        "id": "dPDPHgpxmeEj"
      },
      "outputs": [],
      "source": [
        "train.groupby('물품_카테고리_대분류')['운송장_건수'].sum()"
      ]
    },
    {
      "cell_type": "code",
      "execution_count": null,
      "metadata": {
        "id": "07cvpzRgByVa"
      },
      "outputs": [],
      "source": [
        "train['물품_대분류_운송장총건수']=''"
      ]
    },
    {
      "cell_type": "code",
      "execution_count": null,
      "metadata": {
        "id": "lnqW-uy2B4AP"
      },
      "outputs": [],
      "source": [
        "for k in range(len(train)):\n",
        "    if train['물품_카테고리_대분류'][k] == '가구인테리어':\n",
        "      train['물품_대분류_운송장총건수'][k] = 1586\n",
        "    if train['물품_카테고리_대분류'][k] == '기타':\n",
        "      train['물품_대분류_운송장총건수'][k] = 1388\n",
        "    if train['물품_카테고리_대분류'][k] == '도서음반':\n",
        "      train['물품_대분류_운송장총건수'][k] = 7786\n",
        "    if train['물품_카테고리_대분류'][k] == '디지털가전':\n",
        "      train['물품_대분류_운송장총건수'][k] = 2908\n",
        "    if train['물품_카테고리_대분류'][k] == '생활건강':\n",
        "      train['물품_대분류_운송장총건수'][k] = 8819\n",
        "    if train['물품_카테고리_대분류'][k] == '스포츠레저':\n",
        "      train['물품_대분류_운송장총건수'][k] = 839\n",
        "    if train['물품_카테고리_대분류'][k] == '식품':\n",
        "      train['물품_대분류_운송장총건수'][k] = 119921\n",
        "    if train['물품_카테고리_대분류'][k] == '출산육아':\n",
        "      train['물품_대분류_운송장총건수'][k] = 1104\n",
        "    if train['물품_카테고리_대분류'][k] == '패션의류':\n",
        "      train['물품_대분류_운송장총건수'][k] = 6299\n",
        "    if train['물품_카테고리_대분류'][k] == '패션잡화':\n",
        "      train['물품_대분류_운송장총건수'][k] = 515\n",
        "    if train['물품_카테고리_대분류'][k] == '화장품미용':\n",
        "      train['물품_대분류_운송장총건수'][k] = 3431"
      ]
    },
    {
      "cell_type": "code",
      "execution_count": null,
      "metadata": {
        "id": "J7L1fQqODJhO"
      },
      "outputs": [],
      "source": [
        "train.head()"
      ]
    },
    {
      "cell_type": "markdown",
      "source": [
        "### (3) 물품_카테고리_대분류 생성 전후 비교"
      ],
      "metadata": {
        "id": "QXsxPUD_VLOY"
      }
    },
    {
      "cell_type": "code",
      "source": [
        "물품_운송장총건수 = pd.DataFrame(train.groupby('물품_카테고리')['운송장_건수'].sum())"
      ],
      "metadata": {
        "id": "HenM6RTkp0-l"
      },
      "execution_count": null,
      "outputs": []
    },
    {
      "cell_type": "code",
      "source": [
        "ratio1 = 물품_운송장총건수['운송장_건수']\n",
        "labels1 = 물품_운송장총건수.index\n",
        "wedgeprops={'width': 0.7, 'edgecolor': 'w', 'linewidth': 0.8}\n",
        "\n",
        "plt.pie(ratio1, labels=labels1, autopct='%.1f%%', startangle=90, counterclock=False, wedgeprops=wedgeprops)\n",
        "plt.title('물품_카테고리_대분류 생성 전', fontsize=20)\n",
        "\n",
        "plt.show()"
      ],
      "metadata": {
        "id": "xIEivlY-pOET"
      },
      "execution_count": null,
      "outputs": []
    },
    {
      "cell_type": "code",
      "source": [
        "물품_대분류_운송장총건수 = pd.DataFrame(train.groupby('물품_카테고리_대분류')['운송장_건수'].sum())"
      ],
      "metadata": {
        "id": "mG_B5PXhrEp5"
      },
      "execution_count": null,
      "outputs": []
    },
    {
      "cell_type": "code",
      "source": [
        "ratio2 = 물품_대분류_운송장총건수['운송장_건수']\n",
        "labels2 = 물품_대분류_운송장총건수.index\n",
        "wedgeprops={'width': 0.7, 'edgecolor': 'w', 'linewidth': 0.8}\n",
        "\n",
        "plt.pie(ratio2, labels=labels2, autopct='%.1f%%', startangle=90, counterclock=False, wedgeprops=wedgeprops)\n",
        "plt.title('물품_카테고리_대분류 생성 후', fontsize=20)\n",
        "\n",
        "plt.show()"
      ],
      "metadata": {
        "id": "epaZFxAArEp6"
      },
      "execution_count": null,
      "outputs": []
    },
    {
      "cell_type": "markdown",
      "metadata": {
        "id": "GJfg-kIvXNJA"
      },
      "source": [
        "## 3) test 인코딩"
      ]
    },
    {
      "cell_type": "markdown",
      "metadata": {
        "id": "rEubqRT_grXR"
      },
      "source": [
        "#### 시군구 : train의 총운송장건수로 인코딩"
      ]
    },
    {
      "cell_type": "code",
      "execution_count": null,
      "metadata": {
        "id": "jL4EU8FjgwAa"
      },
      "outputs": [],
      "source": [
        "a = train['수하인_시코드']\n",
        "a.head()\n",
        "a = list(a)\n",
        "\n",
        "# a를 먼저 나온 unique한 값 순서 맞춰 남기기 위해 처리\n",
        "a_unique = list(dict.fromkeys(a))\n",
        "a_unique\n",
        "\n",
        "b = train['수하인_시운송장총건수']\n",
        "b.head()\n",
        "b = list(b)\n",
        "\n",
        "# b를 먼저 나온 unique한 값 순서 맞춰 남기기 위해 처리\n",
        "b_unique = list(dict.fromkeys(b))\n",
        "b_unique\n",
        "\n",
        "test['수하인_시운송장총건수'] = 0\n",
        "test.head()\n",
        "\n",
        "l=0\n",
        "\n",
        "for i in a_unique: # a에 있는 시번호와 매칭해볼 예정\n",
        "  for k in range(len(test)): \n",
        "    if test['수하인_시코드'][k] == i:\n",
        "      test['수하인_시운송장총건수'][k] = b_unique[l]\n",
        "  l=l+1"
      ]
    },
    {
      "cell_type": "code",
      "execution_count": null,
      "metadata": {
        "id": "IaeyWA5_hH8P"
      },
      "outputs": [],
      "source": [
        "df3 = train.groupby('송하인_시코드')['운송장_건수'].sum()\n",
        "\n",
        "test['송하인_시운송장총건수'] = ''\n",
        "\n",
        "for i in range(len(test)):\n",
        "  for j in range(len(df3)):\n",
        "    if test['송하인_시코드'][i] == df3.index[j]:\n",
        "      test['송하인_시운송장총건수'][i] = df3[j]"
      ]
    },
    {
      "cell_type": "code",
      "execution_count": null,
      "metadata": {
        "id": "J4roiADjhUP5"
      },
      "outputs": [],
      "source": [
        "test.head()"
      ]
    },
    {
      "cell_type": "markdown",
      "metadata": {
        "id": "KiTUdyomIabZ"
      },
      "source": [
        "#### 물품 : train의 대분류 총운송장건수로 인코딩"
      ]
    },
    {
      "cell_type": "code",
      "execution_count": null,
      "metadata": {
        "id": "094HVcCBIlLf"
      },
      "outputs": [],
      "source": [
        "test['물품_카테고리_대분류']=' '"
      ]
    },
    {
      "cell_type": "code",
      "execution_count": null,
      "metadata": {
        "id": "tlPsqPS3IlLh"
      },
      "outputs": [],
      "source": [
        "for i in test['물품_카테고리']:\n",
        "  if i in 식품:\n",
        "    test.loc[test['물품_카테고리']==i, '물품_카테고리_대분류'] = '식품'\n",
        "  elif i in 생활건강:\n",
        "    test.loc[test['물품_카테고리']==i,'물품_카테고리_대분류']='생활건강'\n",
        "  elif i in 스포츠레저:\n",
        "    test.loc[test['물품_카테고리']==i,'물품_카테고리_대분류']='스포츠레저'\n",
        "  elif i in 가구인테리어:\n",
        "    test.loc[test['물품_카테고리']==i,'물품_카테고리_대분류']='가구인테리어'\n",
        "  elif i in 도서음반:\n",
        "    test.loc[test['물품_카테고리']==i,'물품_카테고리_대분류']='도서음반'\n",
        "  elif i in 패션잡화:\n",
        "    test.loc[test['물품_카테고리']==i,'물품_카테고리_대분류']='패션잡화'\n",
        "  elif i in 패션의류:\n",
        "    test.loc[test['물품_카테고리']==i,'물품_카테고리_대분류']='패션의류'\n",
        "  elif i in 기타:\n",
        "    test.loc[test['물품_카테고리']==i,'물품_카테고리_대분류']='기타'\n",
        "  elif i in 출산육아:\n",
        "    test.loc[test['물품_카테고리']==i,'물품_카테고리_대분류']='출산육아'\n",
        "  elif i in 디지털가전:\n",
        "    test.loc[test['물품_카테고리']==i,'물품_카테고리_대분류']='디지털가전'\n",
        "  else:\n",
        "    test.loc[test['물품_카테고리']==i,'물품_카테고리_대분류']='화장품미용'"
      ]
    },
    {
      "cell_type": "code",
      "execution_count": null,
      "metadata": {
        "id": "tDFHsXsAJim7"
      },
      "outputs": [],
      "source": [
        "df1 = train.groupby('물품_카테고리_대분류')['운송장_건수'].sum()\n",
        "\n",
        "test['물품_대분류_운송장총건수'] = ''\n",
        "\n",
        "for i in range(len(test)):\n",
        "  for j in range(len(df1)):\n",
        "    if test['물품_카테고리_대분류'][i] == df1.index[j]:\n",
        "      test['물품_대분류_운송장총건수'][i] = df1[j]"
      ]
    },
    {
      "cell_type": "code",
      "execution_count": null,
      "metadata": {
        "id": "rS_atX03I-qN"
      },
      "outputs": [],
      "source": [
        "test.head()"
      ]
    },
    {
      "cell_type": "markdown",
      "metadata": {
        "id": "FiRfazpqQhbn"
      },
      "source": [
        "## 4) 변수 정리"
      ]
    },
    {
      "cell_type": "code",
      "execution_count": null,
      "metadata": {
        "id": "UboIO3n9QhK4"
      },
      "outputs": [],
      "source": [
        "train.drop(['송하인_격자공간고유번호','수하인_격자공간고유번호','물품_카테고리','물품_카테고리_대분류',\n",
        "            '송하인_시코드','수하인_시코드','송하인_군구코드','수하인_군구코드','송하인_동코드','수하인_동코드'], axis=1, inplace=True)\n",
        "test.drop(['송하인_격자공간고유번호','수하인_격자공간고유번호','물품_카테고리','물품_카테고리_대분류',\n",
        "            '송하인_시코드','수하인_시코드','송하인_군구코드','수하인_군구코드','송하인_동코드','수하인_동코드'], axis=1, inplace=True)"
      ]
    },
    {
      "cell_type": "code",
      "execution_count": 39,
      "metadata": {
        "id": "YOr9ymgSbjZz"
      },
      "outputs": [],
      "source": [
        "train = pd.read_csv('train_code.csv')\n",
        "test = pd.read_csv('test_code.csv')\n",
        "\n",
        "submission = pd.read_csv('sample_submission.csv')"
      ]
    },
    {
      "cell_type": "code",
      "source": [
        "train.head()"
      ],
      "metadata": {
        "id": "Ia9vb4uJpfEI"
      },
      "execution_count": null,
      "outputs": []
    },
    {
      "cell_type": "code",
      "source": [
        "test.head()"
      ],
      "metadata": {
        "id": "fHsO-F8VppBq"
      },
      "execution_count": null,
      "outputs": []
    },
    {
      "cell_type": "code",
      "execution_count": 35,
      "metadata": {
        "id": "9R5Wypy1obqY"
      },
      "outputs": [],
      "source": [
        "from sklearn.model_selection import train_test_split\n",
        "\n",
        "X_features = train.drop(['운송장_건수'], axis=1)\n",
        "y_labels = train['운송장_건수']\n",
        "X_train, X_tr_test, y_train, y_tr_test = train_test_split(X_features, y_labels, test_size=0.2, random_state=156)"
      ]
    },
    {
      "cell_type": "code",
      "execution_count": null,
      "metadata": {
        "id": "NSUmFa71S2mO"
      },
      "outputs": [],
      "source": [
        "print(X_train.shape, y_train.shape, X_tr_test.shape, y_tr_test.shape)"
      ]
    },
    {
      "cell_type": "code",
      "execution_count": null,
      "metadata": {
        "id": "U7UkS3zC-bWc"
      },
      "outputs": [],
      "source": [
        "train.head()"
      ]
    },
    {
      "cell_type": "code",
      "execution_count": null,
      "metadata": {
        "id": "710r2KtQ-fW3"
      },
      "outputs": [],
      "source": [
        "test.head()"
      ]
    },
    {
      "cell_type": "markdown",
      "metadata": {
        "id": "ePf_Inb0obqZ"
      },
      "source": [
        "## 5) 스케일링"
      ]
    },
    {
      "cell_type": "code",
      "execution_count": 47,
      "metadata": {
        "id": "j3gd3-mlobqZ"
      },
      "outputs": [],
      "source": [
        "from sklearn.preprocessing import RobustScaler"
      ]
    },
    {
      "cell_type": "code",
      "execution_count": null,
      "metadata": {
        "id": "uIROVWY8obqa"
      },
      "outputs": [],
      "source": [
        "rbs = RobustScaler()\n",
        "rbs.fit(X_train)"
      ]
    },
    {
      "cell_type": "code",
      "execution_count": null,
      "metadata": {
        "id": "ake5soVfobqa"
      },
      "outputs": [],
      "source": [
        "X_train_scaled0 = rbs.transform(X_train)\n",
        "X_tr_test_scaled0 = rbs.transform(X_tr_test)\n",
        "test_scaled0 = rbs.transform(test)"
      ]
    },
    {
      "cell_type": "code",
      "source": [
        "X_train_scaled = pd.DataFrame(X_train_scaled0)\n",
        "X_train_scaled.columns = train.columns[1:]\n",
        "\n",
        "X_tr_test_scaled = pd.DataFrame(X_tr_test_scaled0)\n",
        "X_tr_test_scaled.columns = train.columns[1:]\n",
        "\n",
        "test_scaled = pd.DataFrame(test_scaled0)\n",
        "test_scaled.columns = test.columns"
      ],
      "metadata": {
        "id": "hs8wemEktDCF"
      },
      "execution_count": null,
      "outputs": []
    },
    {
      "cell_type": "code",
      "source": [
        "X_train_scaled.head()"
      ],
      "metadata": {
        "id": "GkKkAyq4zOM8"
      },
      "execution_count": null,
      "outputs": []
    },
    {
      "cell_type": "markdown",
      "source": [
        "**성능개선 try : 동코드 drop**"
      ],
      "metadata": {
        "id": "AFhbPbR_psYU"
      }
    },
    {
      "cell_type": "code",
      "source": [
        "train = pd.read_csv('train_code.csv')\n",
        "test = pd.read_csv('test_code.csv')\n",
        "\n",
        "train_dr = train.drop(['송하인_동코드_빈도', '수하인_동코드_빈도'], axis=1, inplace=False)\n",
        "test_dr = test.drop(['송하인_동코드_빈도', '수하인_동코드_빈도'], axis=1, inplace=False)\n",
        "\n",
        "X_features_dr = train_dr.drop(['운송장_건수'], axis=1)\n",
        "y_labels_dr = train_dr['운송장_건수']\n",
        "X_train_dr, X_tr_test_dr, y_train_dr, y_tr_test_dr = train_test_split(X_features_dr, y_labels_dr, test_size=0.2, random_state=156)\n",
        "\n",
        "rbs = RobustScaler()\n",
        "rbs.fit(X_train_dr)\n",
        "\n",
        "X_train_scaled0_dr = rbs.transform(X_train_dr)\n",
        "X_tr_test_scaled0_dr = rbs.transform(X_tr_test_dr)\n",
        "test_scaled0_dr = rbs.transform(test_dr)\n",
        "\n",
        "X_train_scaled_dr = pd.DataFrame(X_train_scaled0_dr)\n",
        "X_train_scaled_dr.columns = train_dr.columns[1:]\n",
        "\n",
        "X_tr_test_scaled_dr = pd.DataFrame(X_tr_test_scaled0_dr)\n",
        "X_tr_test_scaled_dr.columns = train_dr.columns[1:]\n",
        "\n",
        "test_scaled_dr = pd.DataFrame(test_scaled0_dr)\n",
        "test_scaled_dr.columns = test_dr.columns"
      ],
      "metadata": {
        "id": "a-mW2ivlo5wI"
      },
      "execution_count": 51,
      "outputs": []
    },
    {
      "cell_type": "markdown",
      "metadata": {
        "id": "xxajV5hGQ1R8"
      },
      "source": [
        "# 04 모델링"
      ]
    },
    {
      "cell_type": "code",
      "execution_count": 52,
      "metadata": {
        "id": "eMRPp6IiS1Jd"
      },
      "outputs": [],
      "source": [
        "from sklearn.metrics import accuracy_score\n",
        "from sklearn.model_selection import KFold\n",
        "from sklearn.model_selection import cross_val_score\n",
        "from sklearn.model_selection import GridSearchCV\n",
        "from sklearn.model_selection import RepeatedKFold\n",
        "from sklearn.metrics import mean_squared_error\n",
        "import warnings\n",
        "warnings.filterwarnings('ignore')"
      ]
    },
    {
      "cell_type": "markdown",
      "metadata": {
        "id": "X_Kp4pNSdD9p"
      },
      "source": [
        "#### (1) Random Forest"
      ]
    },
    {
      "cell_type": "code",
      "execution_count": 57,
      "metadata": {
        "id": "bkHB-O6DdD9p"
      },
      "outputs": [],
      "source": [
        "from sklearn.ensemble import RandomForestRegressor\n",
        "\n",
        "#모델 정의\n",
        "model_rf = RandomForestRegressor()\n",
        "\n",
        "# 모델 학습\n",
        "model_rf.fit(X_train_scaled, y_train)\n",
        "\n",
        "# test 데이터 예측\n",
        "y_pred_rf = model_rf.predict(X_tr_test_scaled)"
      ]
    },
    {
      "cell_type": "code",
      "execution_count": null,
      "metadata": {
        "id": "RWsTFsIydD9q"
      },
      "outputs": [],
      "source": [
        "# RMSE 확인\n",
        "MSE_rf = mean_squared_error(y_tr_test, y_pred_rf) \n",
        "np.sqrt(MSE_rf)"
      ]
    },
    {
      "cell_type": "code",
      "source": [
        "# 랜덤서치 파라미터 튜닝\n",
        "\n",
        "from sklearn.model_selection import RandomizedSearchCV"
      ],
      "metadata": {
        "id": "mI6CTfKK7q7i"
      },
      "execution_count": 54,
      "outputs": []
    },
    {
      "cell_type": "code",
      "source": [
        "params = {'max_depth': range(2, 21, 2),\n",
        "              'min_samples_split': range(5, 21, 5),\n",
        "              'min_samples_leaf' : range(5, 21, 5),\n",
        "              'n_estimators': range(50, 251, 50),\n",
        "              'random_state': range(100, 2000, 200)\n",
        "}\n",
        "\n",
        "model_rf_rd_rs = RandomizedSearchCV(model_rf, param_distributions=params, n_iter=50, cv=4, n_jobs=-1)\n",
        "\n",
        "model_rf_rd_rs.fit(X_train_scaled, y_train)\n",
        "y_pred_rf_rd_rs = model_rf_rd_rs.best_estimator_.predict(X_tr_test_scaled)\n",
        "\n",
        "MSE_rf_rd_rs = mean_squared_error(y_tr_test, y_pred_rf_rd_rs) \n",
        "np.sqrt(MSE_rf_rd_rs)"
      ],
      "metadata": {
        "id": "fVe3v1ijV7x5"
      },
      "execution_count": null,
      "outputs": []
    },
    {
      "cell_type": "code",
      "source": [
        "model_rf_rd_rs.best_estimator_"
      ],
      "metadata": {
        "id": "ljY1_i2qcup2"
      },
      "execution_count": null,
      "outputs": []
    },
    {
      "cell_type": "code",
      "source": [
        "rf_best = RandomForestRegressor(max_depth=8, min_samples_leaf=5, \n",
        "                                    min_samples_split=5, n_estimators=150, \n",
        "                                    random_state=700)"
      ],
      "metadata": {
        "id": "LiA1ilXCWKzE"
      },
      "execution_count": null,
      "outputs": []
    },
    {
      "cell_type": "markdown",
      "source": [
        "**성능개선 try : 동코드 drop**"
      ],
      "metadata": {
        "id": "Y9SZNS_osKW2"
      }
    },
    {
      "cell_type": "code",
      "source": [
        "params = {'max_depth': range(2, 21, 2),\n",
        "              'min_samples_split': range(5, 21, 5),\n",
        "              'min_samples_leaf' : range(5, 21, 5),\n",
        "              'n_estimators': range(50, 251, 50),\n",
        "              'random_state': range(100, 2000, 200)\n",
        "}\n",
        "\n",
        "model_rf_rd_rs_dr = RandomizedSearchCV(model_rf, param_distributions=params, n_iter=50, cv=4, n_jobs=-1)\n",
        "\n",
        "model_rf_rd_rs_dr.fit(X_train_scaled_dr, y_train_dr)\n",
        "y_pred_rf_rd_rs_dr = model_rf_rd_rs_dr.best_estimator_.predict(X_tr_test_scaled_dr)\n",
        "\n",
        "MSE_rf_rd_rs_dr = mean_squared_error(y_tr_test_dr, y_pred_rf_rd_rs_dr) \n",
        "np.sqrt(MSE_rf_rd_rs_dr)"
      ],
      "metadata": {
        "colab": {
          "base_uri": "https://localhost:8080/"
        },
        "outputId": "b19fa8e0-141c-4ab1-a28e-164174061880",
        "id": "w26i1Tmhr3jS"
      },
      "execution_count": 58,
      "outputs": [
        {
          "output_type": "execute_result",
          "data": {
            "text/plain": [
              "6.674997053504835"
            ]
          },
          "metadata": {},
          "execution_count": 58
        }
      ]
    },
    {
      "cell_type": "markdown",
      "metadata": {
        "id": "xPAN4vN_dD9q"
      },
      "source": [
        "#### (2) GBM"
      ]
    },
    {
      "cell_type": "code",
      "execution_count": 59,
      "metadata": {
        "id": "Fm3NdxaKdD9q"
      },
      "outputs": [],
      "source": [
        "from sklearn.ensemble import GradientBoostingRegressor\n",
        "\n",
        "#모델 정의\n",
        "model_gbm = GradientBoostingRegressor()\n",
        "\n",
        "# 모델 학습\n",
        "model_gbm.fit(X_train_scaled, y_train)\n",
        "\n",
        "# test 데이터 예측\n",
        "y_pred_gbm = model_gbm.predict(X_tr_test_scaled)"
      ]
    },
    {
      "cell_type": "code",
      "execution_count": null,
      "metadata": {
        "id": "gGQAv4aWdD9r"
      },
      "outputs": [],
      "source": [
        "# RMSE 확인\n",
        "MSE_gbm = mean_squared_error(y_tr_test, y_pred_gbm) \n",
        "np.sqrt(MSE_gbm)"
      ]
    },
    {
      "cell_type": "code",
      "source": [
        "from random import * \n",
        "from numpy import random"
      ],
      "metadata": {
        "id": "OgeqWw69XkTj"
      },
      "execution_count": 61,
      "outputs": []
    },
    {
      "cell_type": "code",
      "source": [
        "# 파라미터 튜닝\n",
        "params = {'max_depth': range(2, 21, 2),\n",
        "          'min_samples_leaf' :range(5,21,5),\n",
        "          'min_samples_split': range(5,21,5),\n",
        "          'n_estimators': range(50, 251, 50), \n",
        "          'learning_rate': random.uniform(0.02, 0.1, 5),\n",
        "          'random_state': range(100, 2001, 200)         \n",
        "}\n",
        "\n",
        "model_gbm_rd = RandomizedSearchCV(model_gbm, param_distributions=params, n_iter=50, cv=4, n_jobs=-1)\n",
        "\n",
        "model_gbm_rd.fit(X_train_scaled, y_train)\n",
        "y_pred_gbm_rd = model_gbm_rd.best_estimator_.predict(X_tr_test_scaled)\n",
        "\n",
        "MSE_gbm_rd = mean_squared_error(y_tr_test, y_pred_gbm_rd) \n",
        "np.sqrt(MSE_gbm_rd)"
      ],
      "metadata": {
        "id": "WdZhSqQ6ZGFZ"
      },
      "execution_count": null,
      "outputs": []
    },
    {
      "cell_type": "markdown",
      "source": [
        "**성능개선 try : 동코드 drop**"
      ],
      "metadata": {
        "id": "-y_TElX9spzh"
      }
    },
    {
      "cell_type": "code",
      "source": [
        "# 파라미터 튜닝\n",
        "params = {'max_depth': range(2, 21, 2),\n",
        "          'min_samples_leaf' :range(5,21,5),\n",
        "          'min_samples_split': range(5,21,5),\n",
        "          'n_estimators': range(50, 251, 50), \n",
        "          'learning_rate': random.uniform(0.02, 0.1, 5),\n",
        "          'random_state': range(100, 2001, 200)         \n",
        "}\n",
        "\n",
        "model_gbm_rd_dr = RandomizedSearchCV(model_gbm, param_distributions=params, n_iter=50, cv=4, n_jobs=-1)\n",
        "\n",
        "model_gbm_rd_dr.fit(X_train_scaled_dr, y_train_dr)\n",
        "y_pred_gbm_rd_dr = model_gbm_rd_dr.best_estimator_.predict(X_tr_test_scaled_dr)\n",
        "\n",
        "MSE_gbm_rd_dr = mean_squared_error(y_tr_test_dr, y_pred_gbm_rd_dr) \n",
        "np.sqrt(MSE_gbm_rd_dr)"
      ],
      "metadata": {
        "id": "mUxnyAF_s0o8"
      },
      "execution_count": null,
      "outputs": []
    },
    {
      "cell_type": "markdown",
      "metadata": {
        "id": "27_XeBXQdD9r"
      },
      "source": [
        "#### (3) LGBM"
      ]
    },
    {
      "cell_type": "code",
      "execution_count": null,
      "metadata": {
        "id": "kt3PcJ8ydD9r"
      },
      "outputs": [],
      "source": [
        "from lightgbm import LGBMRegressor\n",
        "\n",
        "#모델 정의\n",
        "model_lgbm = LGBMRegressor()\n",
        "\n",
        "# 모델 학습\n",
        "model_lgbm.fit(X_train_scaled, y_train)\n",
        "\n",
        "# test 데이터 예측\n",
        "y_pred_lgbm = model_lgbm.predict(X_tr_test_scaled)"
      ]
    },
    {
      "cell_type": "code",
      "execution_count": null,
      "metadata": {
        "id": "XEt9rHNcdD9r"
      },
      "outputs": [],
      "source": [
        "# RMSE 확인\n",
        "MSE_lgbm = mean_squared_error(y_tr_test, y_pred_lgbm) \n",
        "np.sqrt(MSE_lgbm)"
      ]
    },
    {
      "cell_type": "code",
      "source": [
        "# 파라미터 튜닝\n",
        "params = {'max_depth': range(2, 21, 2),\n",
        "          'num_leaves': range(100, 201, 20),\n",
        "          'learning_rate': random.uniform(0.02, 0.1, 5),\n",
        "          'random_state': range(100, 2001, 200)          \n",
        "}\n",
        "\n",
        "model_lgbm_rd = RandomizedSearchCV(model_lgbm, param_distributions=params, n_iter=50, cv=4, n_jobs=-1)\n",
        "\n",
        "model_lgbm_rd.fit(X_train_scaled, y_train)\n",
        "y_pred_lgbm_rd = model_lgbm_rd.best_estimator_.predict(X_tr_test_scaled)\n",
        "\n",
        "MSE_lgbm_rd = mean_squared_error(y_tr_test, y_pred_lgbm_rd) \n",
        "np.sqrt(MSE_lgbm_rd)"
      ],
      "metadata": {
        "id": "FQT-RkWOZIlh"
      },
      "execution_count": null,
      "outputs": []
    },
    {
      "cell_type": "markdown",
      "source": [
        "**성능개선 try : 동코드 drop**"
      ],
      "metadata": {
        "id": "Z3XY1XvVtBvB"
      }
    },
    {
      "cell_type": "code",
      "source": [
        "params = {'max_depth': range(2, 21, 2),\n",
        "          'num_leaves': range(100, 201, 20),\n",
        "          'learning_rate': random.uniform(0.02, 0.1, 5),\n",
        "          'random_state': range(100, 2001, 200)          \n",
        "}\n",
        "\n",
        "model_lgbm_rd_dr = RandomizedSearchCV(model_lgbm, param_distributions=params, n_iter=50, cv=4, n_jobs=-1)\n",
        "\n",
        "model_lgbm_rd_dr.fit(X_train_scaled_dr, y_train_dr)\n",
        "y_pred_lgbm_rd_dr = model_lgbm_rd_dr.best_estimator_.predict(X_tr_test_scaled_dr)\n",
        "\n",
        "MSE_lgbm_rd_dr = mean_squared_error(y_tr_test_dr, y_pred_lgbm_rd_dr) \n",
        "np.sqrt(MSE_lgbm_rd_dr)"
      ],
      "metadata": {
        "id": "u_sG80vFtEqw"
      },
      "execution_count": null,
      "outputs": []
    },
    {
      "cell_type": "markdown",
      "metadata": {
        "id": "gGuxEj9PdD9r"
      },
      "source": [
        "#### (4) XGBoost"
      ]
    },
    {
      "cell_type": "code",
      "execution_count": null,
      "metadata": {
        "id": "J00ARpfVdD9r"
      },
      "outputs": [],
      "source": [
        "from xgboost import XGBRegressor\n",
        "\n",
        "#모델 정의\n",
        "model_xgb = XGBRegressor()\n",
        "\n",
        "# 모델 학습\n",
        "model_xgb.fit(X_train_scaled, y_train)\n",
        "\n",
        "# test 데이터 예측\n",
        "y_pred_xgb = model_xgb.predict(X_tr_test_scaled)"
      ]
    },
    {
      "cell_type": "code",
      "execution_count": null,
      "metadata": {
        "id": "47juaz7DdD9s"
      },
      "outputs": [],
      "source": [
        "# RMSE 확인\n",
        "MSE_xgb = mean_squared_error(y_tr_test, y_pred_xgb) \n",
        "np.sqrt(MSE_xgb)"
      ]
    },
    {
      "cell_type": "code",
      "source": [
        "# 파라미터 튜닝\n",
        "params = {'max_depth': range(2, 21, 2),\n",
        "          'subsample': random.uniform(0.4, 1, 5),\n",
        "          'n_estimators': range(50, 251, 50), \n",
        "          'learning_rate': random.uniform(0.02, 0.1, 5),\n",
        "          'random_state': range(100, 2001, 200)          \n",
        "}\n",
        "\n",
        "model_xgb_rd = RandomizedSearchCV(model_xgb, param_distributions=params, n_iter=50, cv=4, n_jobs=-1)\n",
        "\n",
        "model_xgb_rd.fit(X_train_scaled, y_train)\n",
        "y_pred_xgb_rd = model_xgb_rd.best_estimator_.predict(X_tr_test_scaled)\n",
        "\n",
        "MSE_xgb_rd = mean_squared_error(y_tr_test, y_pred_xgb_rd) \n",
        "np.sqrt(MSE_xgb_rd)"
      ],
      "metadata": {
        "id": "zwvt1TMKZLTG"
      },
      "execution_count": null,
      "outputs": []
    },
    {
      "cell_type": "code",
      "source": [
        "model_xgb_rd.best_estimator_"
      ],
      "metadata": {
        "id": "I_eVhVUXizQz"
      },
      "execution_count": null,
      "outputs": []
    },
    {
      "cell_type": "code",
      "source": [
        "model_xgb_rd.best_estimator_.subsample"
      ],
      "metadata": {
        "id": "w0MwEiu_kOsA"
      },
      "execution_count": null,
      "outputs": []
    },
    {
      "cell_type": "code",
      "source": [
        "xgb_best = XGBRegressor(learning_rate=0.05, max_depth=4, subsample=0.7,\n",
        "                        n_estimators=100, random_state=100)"
      ],
      "metadata": {
        "id": "40sVRYdCZ7fN"
      },
      "execution_count": null,
      "outputs": []
    },
    {
      "cell_type": "markdown",
      "source": [
        "**성능개선 try : 동코드 drop**"
      ],
      "metadata": {
        "id": "WsjroMnKtgXk"
      }
    },
    {
      "cell_type": "code",
      "source": [
        "params = {'max_depth': range(2, 21, 2),\n",
        "          'subsample': random.uniform(0.4, 1, 5),\n",
        "          'n_estimators': range(50, 251, 50), \n",
        "          'learning_rate': random.uniform(0.02, 0.1, 5),\n",
        "          'random_state': range(100, 2001, 200)          \n",
        "}\n",
        "\n",
        "model_xgb_rd_dr = RandomizedSearchCV(model_xgb, param_distributions=params, n_iter=50, cv=4, n_jobs=-1)\n",
        "\n",
        "model_xgb_rd_dr.fit(X_train_scaled_dr, y_train_dr)\n",
        "y_pred_xgb_rd_dr = model_xgb_rd_dr.best_estimator_.predict(X_tr_test_scaled_dr)\n",
        "\n",
        "MSE_xgb_rd_dr = mean_squared_error(y_tr_test_dr, y_pred_xgb_rd_dr) \n",
        "np.sqrt(MSE_xgb_rd_dr)"
      ],
      "metadata": {
        "id": "zOMouqt_tixZ"
      },
      "execution_count": null,
      "outputs": []
    },
    {
      "cell_type": "markdown",
      "source": [
        "### 앙상블"
      ],
      "metadata": {
        "id": "SkXtFuYgIOap"
      }
    },
    {
      "cell_type": "markdown",
      "source": [
        "#### (1) 소프트맥스"
      ],
      "metadata": {
        "id": "QRCBXygbIUca"
      }
    },
    {
      "cell_type": "code",
      "source": [
        "y_pred_soft = 0.4*y_pred_gbm_rd + 0.3*y_pred_xgb_rd + 0.2*y_pred_lgbm_rd + 0.1*y_pred_rf_rd_rs\n",
        "\n",
        "MSE_soft = mean_squared_error(y_tr_test, y_pred_soft) \n",
        "np.sqrt(MSE_soft)"
      ],
      "metadata": {
        "id": "YUEgYGfrW-z7"
      },
      "execution_count": null,
      "outputs": []
    },
    {
      "cell_type": "markdown",
      "source": [
        "**성능개선 try : 동코드 drop**"
      ],
      "metadata": {
        "id": "M9HYiyoYu3cF"
      }
    },
    {
      "cell_type": "code",
      "source": [
        "y_pred_rf_rd_rs_dr = model_rf_rd_rs_dr.best_estimator_.predict(test_scaled)\n",
        "y_pred_gbm_rd_dr = model_gbm_rd_dr.best_estimator_.predict(test_scaled)\n",
        "y_pred_lgbm_rd_dr = model_lgbm_rd_dr.best_estimator_.predict(test_scaled)\n",
        "y_pred_xgb_rd_dr = model_xgb_rd_dr.best_estimator_.predict(test_scaled)\n",
        "\n",
        "y_pred_soft_dr = 0.1*y_pred_gbm_rd_dr + 0.2*y_pred_xgb_rd_dr + 0.2*y_pred_lgbm_rd_dr + 0.5*y_pred_rf_rd_rs_dr"
      ],
      "metadata": {
        "id": "-gmi9MRst85b"
      },
      "execution_count": null,
      "outputs": []
    },
    {
      "cell_type": "markdown",
      "metadata": {
        "id": "r_ZW7v38Q1R9"
      },
      "source": [
        "## 정답파일 생성"
      ]
    },
    {
      "cell_type": "code",
      "source": [
        "submission = pd.read_csv('sample_submission.csv')\n",
        "submission.head()"
      ],
      "metadata": {
        "id": "rx0-mIPCkluL"
      },
      "execution_count": null,
      "outputs": []
    },
    {
      "cell_type": "code",
      "source": [
        "y_pred_rf_rd_rs = model_rf_rd_rs.best_estimator_.predict(test_scaled)\n",
        "y_pred_gbm_rd = model_gbm_rd.best_estimator_.predict(test_scaled)\n",
        "y_pred_lgbm_rd = model_lgbm_rd.best_estimator_.predict(test_scaled)\n",
        "y_pred_xgb_rd = model_xgb_rd.best_estimator_.predict(test_scaled)\n",
        "\n",
        "y_pred_soft = 0.1*y_pred_gbm_rd + 0.2*y_pred_xgb_rd + 0.2*y_pred_lgbm_rd + 0.5*y_pred_rf_rd_rs\n",
        "\n",
        "submission['운송장_건수'] = y_pred_soft\n",
        "submission.to_csv('/content/drive/MyDrive/ESAA/OB프로젝트/sub_soft3.csv',index = False, encoding=\"utf-8-sig\")"
      ],
      "metadata": {
        "id": "gWv-LVollWs4"
      },
      "execution_count": null,
      "outputs": []
    },
    {
      "cell_type": "code",
      "source": [
        "submission['운송장_건수'] = lr_final_pred \n",
        "submission.to_csv('/content/drive/MyDrive/ESAA/OB프로젝트/sub_st_lr.csv',index = False, encoding=\"utf-8-sig\")"
      ],
      "metadata": {
        "id": "-UkgB59tfKz-"
      },
      "execution_count": null,
      "outputs": []
    },
    {
      "cell_type": "code",
      "source": [
        "submission['운송장_건수'] = lr_final_pred \n",
        "submission.to_csv('/content/drive/MyDrive/ESAA/OB프로젝트/sub_st_dt.csv',index = False, encoding=\"utf-8-sig\")"
      ],
      "metadata": {
        "id": "uxXdPL67wG6n"
      },
      "execution_count": null,
      "outputs": []
    },
    {
      "cell_type": "code",
      "source": [
        "y_pred_rf_rd = model_rf_rd.best_estimator_.predict(test)\n",
        "submission['운송장_건수'] = y_pred_rf_rd\n",
        "submission.to_csv('/content/drive/MyDrive/ESAA/OB프로젝트/sub_rf_rd.csv',index = False, encoding=\"utf-8-sig\")"
      ],
      "metadata": {
        "id": "diOfR-XUtaI8"
      },
      "execution_count": null,
      "outputs": []
    },
    {
      "cell_type": "code",
      "source": [
        "# 29일날 제출해보기\n",
        "y_pred_rf_rd_rs = model_rf_rd_rs.best_estimator_.predict(test)\n",
        "submission['운송장_건수'] = y_pred_rf_rd_rs\n",
        "submission.to_csv('/content/drive/MyDrive/ESAA/OB프로젝트/sub_rf_rd_rs.csv',index = False, encoding=\"utf-8-sig\")"
      ],
      "metadata": {
        "id": "QuBKqs0f0Idj"
      },
      "execution_count": null,
      "outputs": []
    },
    {
      "cell_type": "code",
      "source": [
        "y_pred_gbm_rd_sc = model_gbm_rd.best_estimator_.predict(test_scaled)\n",
        "submission['운송장_건수'] = y_pred_gbm_rd_sc\n",
        "submission.to_csv('/content/drive/MyDrive/ESAA/OB프로젝트/sub_gbm_rd_sc.csv',index = False, encoding=\"utf-8-sig\")"
      ],
      "metadata": {
        "id": "ue6dfOc2feW-"
      },
      "execution_count": null,
      "outputs": []
    },
    {
      "cell_type": "code",
      "source": [
        "y_pred_lgbm_rd_sc = model_lgbm_rd.best_estimator_.predict(test_scaled)\n",
        "submission['운송장_건수'] = y_pred_lgbm_rd_sc\n",
        "submission.to_csv('/content/drive/MyDrive/ESAA/OB프로젝트/sub_lgbm_rd_sc.csv',index = False, encoding=\"utf-8-sig\")"
      ],
      "metadata": {
        "id": "8RGiGvCpfeZn"
      },
      "execution_count": null,
      "outputs": []
    },
    {
      "cell_type": "code",
      "source": [
        "y_pred_xgb_rd_sc = model_xgb_rd.best_estimator_.predict(test_scaled)\n",
        "submission['운송장_건수'] = y_pred_xgb_rd_sc\n",
        "submission.to_csv('/content/drive/MyDrive/ESAA/OB프로젝트/sub_xgb_rd_sc.csv',index = False, encoding=\"utf-8-sig\")"
      ],
      "metadata": {
        "id": "ZeMnCJ71fecV"
      },
      "execution_count": null,
      "outputs": []
    },
    {
      "cell_type": "markdown",
      "source": [
        "**성능개선 try : 동코드 drop**"
      ],
      "metadata": {
        "id": "4iY29i8fu4aF"
      }
    },
    {
      "cell_type": "code",
      "source": [
        "submission['운송장_건수'] = y_pred_soft_dr\n",
        "submission.to_csv('/content/drive/MyDrive/ESAA/OB프로젝트/sub_soft3_dr.csv',index = False, encoding=\"utf-8-sig\")"
      ],
      "metadata": {
        "id": "ozzDW2Asu_H7"
      },
      "execution_count": null,
      "outputs": []
    }
  ]
}