{
  "nbformat": 4,
  "nbformat_minor": 0,
  "metadata": {
    "colab": {
      "provenance": [],
      "include_colab_link": true
    },
    "kernelspec": {
      "name": "python3",
      "display_name": "Python 3"
    },
    "language_info": {
      "name": "python"
    }
  },
  "cells": [
    {
      "cell_type": "markdown",
      "metadata": {
        "id": "view-in-github",
        "colab_type": "text"
      },
      "source": [
        "<a href=\"https://colab.research.google.com/github/lim-jr/ESAA/blob/main/%EB%B0%A9%ED%95%99%ED%94%8C%EC%A0%9D1__%EC%B5%9C%EC%A2%85%EC%B7%A8%ED%95%A9%2B%EB%B3%80%EC%88%98%EA%B2%B0%ED%95%A9%2C%EC%8A%A4%EB%AA%A8%ED%8A%B8.ipynb\" target=\"_parent\"><img src=\"https://colab.research.google.com/assets/colab-badge.svg\" alt=\"Open In Colab\"/></a>"
      ]
    },
    {
      "cell_type": "markdown",
      "source": [
        "# **유전체 정보 품종 분류 AI 경진대회**\n",
        "\n",
        "https://dacon.io/competitions/official/236035/overview/description\n",
        "\n",
        "###**배경**\n",
        "유전체 염기서열에서 획득한 유전체 변이 정보인 Single Nucleotide Polymorphism 정보는 특정 개체 및 특정 품종에 따라 다른 변이 양상을 나타낼 수 있기 때문에 동일개체를 확인하거나,동일 품종을 구분하는데 활용이 가능합니다. 따라서 이번 경진대회에서는 개체 정보와 SNP 정보를 이용하여 A, B, C 품종을 분류하는 최고의 품종구분 정확도를 획득하는 것이 목표입니다.\n",
        "농축수산 현장에서는 유전체 변이정보를 이용해서 품종을 구분하는 연구를 통해 품종의 다양성 혹은 품종 부정유통을 방지하기 위해 많이 활용하게 됩니다.\n",
        "\n",
        "\n",
        "###**주제**\n",
        "개체와 SNP 정보를 이용하여 품종 분류 AI 모델 개발\n",
        "\n",
        "\n",
        "\n",
        "###**설명**\n",
        "시장에서 세 품종이 동시에 유통될 때, 각 품종의 고유한 생산품목(우유 및 식육)의 가치 및 가격 산정에 부정유통이 차단되기 위해 현장에서 사용 할 수 있는 AI 모델이 필요합니다.\n",
        "\n",
        "즉, 많은 SNP 정보를 통해 분류하는 것보다, 보다 더 적은 SNP 정보로 높은 분류 성능을 내는 것이 중요합니다.\n",
        "\n",
        "따라서 이번 경진대회에서는 개체 정보와 사전에 구성된 15개의 SNP 정보를 바탕으로 품종 분류 모델을 개발해야 합니다.\n",
        "\n"
      ],
      "metadata": {
        "id": "WgU8nIDr5k8z"
      }
    },
    {
      "cell_type": "markdown",
      "source": [
        "##**1. 데이터 불러오기**"
      ],
      "metadata": {
        "id": "EHHS5MZn6Xns"
      }
    },
    {
      "cell_type": "code",
      "execution_count": 1,
      "metadata": {
        "id": "2R-P2UlztG9R"
      },
      "outputs": [],
      "source": [
        "import pandas as pd\n",
        "import random\n",
        "import os\n",
        "import numpy as np\n",
        "\n",
        "from sklearn import preprocessing"
      ]
    },
    {
      "cell_type": "code",
      "source": [
        "class CFG:\n",
        "    SEED = 42\n",
        "def seed_everything(seed):\n",
        "    random.seed(seed)\n",
        "    os.environ['PYTHONHASHSEED'] = str(seed)\n",
        "    np.random.seed(seed)\n",
        "seed_everything(CFG.SEED) # Seed 고정"
      ],
      "metadata": {
        "id": "F6htYQ0dx08Y"
      },
      "execution_count": 2,
      "outputs": []
    },
    {
      "cell_type": "code",
      "source": [
        "from google.colab import drive\n",
        "drive.mount('/content/drive')"
      ],
      "metadata": {
        "colab": {
          "base_uri": "https://localhost:8080/"
        },
        "id": "ybZ7fmVGEbZa",
        "outputId": "bce00867-4ada-4172-b57b-d0a901971505"
      },
      "execution_count": 3,
      "outputs": [
        {
          "output_type": "stream",
          "name": "stdout",
          "text": [
            "Mounted at /content/drive\n"
          ]
        }
      ]
    },
    {
      "cell_type": "code",
      "source": [
        "#train = pd.read_csv(\"/content/drive/MyDrive/ESAA/dacon/open/train.csv\")\n",
        "#test = pd.read_csv(\"/content/drive/MyDrive/ESAA/dacon/open/test.csv\")\n",
        "#snp_info = pd.read_csv(\"/content/drive/MyDrive/ESAA/dacon/open/snp_info.csv\")\n",
        "# train = pd.read_csv(\"/content/drive/MyDrive/ESAA/방학/DATA/train.csv\")\n",
        "# test = pd.read_csv('/content/drive/MyDrive/ESAA/방학/DATA/test.csv')\n",
        "# train=pd.read_csv('/content/drive/MyDrive/readcsv/유전체/train.csv')\n",
        "# test=pd.read_csv('/content/drive/MyDrive/readcsv/유전체/test.csv')\n",
        "# submit = pd.read_csv('/content/drive/MyDrive/readcsv/유전체/sample_submission.csv')\n",
        "train=pd.read_csv('/content/drive/MyDrive/ESAA/방학플젝1/snp_train.csv')\n",
        "test=pd.read_csv('/content/drive/MyDrive/ESAA/방학플젝1/snp_test.csv')\n",
        "submit=pd.read_csv('/content/drive/MyDrive/ESAA/방학플젝1/snp_sample_submission.csv')\n",
        "info=pd.read_csv('/content/drive/MyDrive/ESAA/방학플젝1/snp_info.csv')"
      ],
      "metadata": {
        "id": "0MyquObFuEif"
      },
      "execution_count": 12,
      "outputs": []
    },
    {
      "cell_type": "code",
      "source": [
        "def resumetable(df):\n",
        "    print(f'데이터 세트 형상: {df.shape}')\n",
        "    summary = pd.DataFrame(df.dtypes, columns=['데이터 타입'])\n",
        "    summary = summary.reset_index()\n",
        "    summary = summary.rename(columns={'index': '피처'})\n",
        "    summary['결측값 개수'] = df.isnull().sum().values\n",
        "    summary['고윳값 개수'] = df.nunique().values\n",
        "    summary['첫 번째 값'] = df.loc[0].values\n",
        "    summary['두 번째 값'] = df.loc[1].values\n",
        "    summary['세 번째 값'] = df.loc[2].values\n",
        "\n",
        "    return summary\n",
        "\n",
        "resumetable(train)"
      ],
      "metadata": {
        "colab": {
          "base_uri": "https://localhost:8080/",
          "height": 726
        },
        "id": "C0Z0KQvwW-JV",
        "outputId": "6f720448-da88-438e-ed0b-1b6ee312ee19"
      },
      "execution_count": 5,
      "outputs": [
        {
          "output_type": "stream",
          "name": "stdout",
          "text": [
            "데이터 세트 형상: (262, 21)\n"
          ]
        },
        {
          "output_type": "execute_result",
          "data": {
            "text/plain": [
              "        피처  데이터 타입  결측값 개수  고윳값 개수     첫 번째 값     두 번째 값     세 번째 값\n",
              "0       id  object       0     262  TRAIN_000  TRAIN_001  TRAIN_002\n",
              "1   father   int64       0       1          0          0          0\n",
              "2   mother   int64       0       1          0          0          0\n",
              "3   gender   int64       0       1          0          0          0\n",
              "4    trait   int64       0       2          2          2          2\n",
              "5   SNP_01  object       0       3        G G        A G        G G\n",
              "6   SNP_02  object       0       3        A G        A G        G G\n",
              "7   SNP_03  object       0       3        A A        C A        A A\n",
              "8   SNP_04  object       0       3        G A        A A        G A\n",
              "9   SNP_05  object       0       3        C A        A A        C C\n",
              "10  SNP_06  object       0       3        A A        A G        G G\n",
              "11  SNP_07  object       0       3        A A        A A        A A\n",
              "12  SNP_08  object       0       3        G G        G A        G A\n",
              "13  SNP_09  object       0       3        A A        A A        G A\n",
              "14  SNP_10  object       0       3        G G        A G        A G\n",
              "15  SNP_11  object       0       3        A G        A A        A A\n",
              "16  SNP_12  object       0       3        A A        G A        A A\n",
              "17  SNP_13  object       0       3        A A        G G        A A\n",
              "18  SNP_14  object       0       3        A A        A A        A A\n",
              "19  SNP_15  object       0       3        A A        A A        A A\n",
              "20   class  object       0       3          B          C          B"
            ],
            "text/html": [
              "\n",
              "  <div id=\"df-eb8fd85b-3f46-4ec7-949e-8712da61473f\">\n",
              "    <div class=\"colab-df-container\">\n",
              "      <div>\n",
              "<style scoped>\n",
              "    .dataframe tbody tr th:only-of-type {\n",
              "        vertical-align: middle;\n",
              "    }\n",
              "\n",
              "    .dataframe tbody tr th {\n",
              "        vertical-align: top;\n",
              "    }\n",
              "\n",
              "    .dataframe thead th {\n",
              "        text-align: right;\n",
              "    }\n",
              "</style>\n",
              "<table border=\"1\" class=\"dataframe\">\n",
              "  <thead>\n",
              "    <tr style=\"text-align: right;\">\n",
              "      <th></th>\n",
              "      <th>피처</th>\n",
              "      <th>데이터 타입</th>\n",
              "      <th>결측값 개수</th>\n",
              "      <th>고윳값 개수</th>\n",
              "      <th>첫 번째 값</th>\n",
              "      <th>두 번째 값</th>\n",
              "      <th>세 번째 값</th>\n",
              "    </tr>\n",
              "  </thead>\n",
              "  <tbody>\n",
              "    <tr>\n",
              "      <th>0</th>\n",
              "      <td>id</td>\n",
              "      <td>object</td>\n",
              "      <td>0</td>\n",
              "      <td>262</td>\n",
              "      <td>TRAIN_000</td>\n",
              "      <td>TRAIN_001</td>\n",
              "      <td>TRAIN_002</td>\n",
              "    </tr>\n",
              "    <tr>\n",
              "      <th>1</th>\n",
              "      <td>father</td>\n",
              "      <td>int64</td>\n",
              "      <td>0</td>\n",
              "      <td>1</td>\n",
              "      <td>0</td>\n",
              "      <td>0</td>\n",
              "      <td>0</td>\n",
              "    </tr>\n",
              "    <tr>\n",
              "      <th>2</th>\n",
              "      <td>mother</td>\n",
              "      <td>int64</td>\n",
              "      <td>0</td>\n",
              "      <td>1</td>\n",
              "      <td>0</td>\n",
              "      <td>0</td>\n",
              "      <td>0</td>\n",
              "    </tr>\n",
              "    <tr>\n",
              "      <th>3</th>\n",
              "      <td>gender</td>\n",
              "      <td>int64</td>\n",
              "      <td>0</td>\n",
              "      <td>1</td>\n",
              "      <td>0</td>\n",
              "      <td>0</td>\n",
              "      <td>0</td>\n",
              "    </tr>\n",
              "    <tr>\n",
              "      <th>4</th>\n",
              "      <td>trait</td>\n",
              "      <td>int64</td>\n",
              "      <td>0</td>\n",
              "      <td>2</td>\n",
              "      <td>2</td>\n",
              "      <td>2</td>\n",
              "      <td>2</td>\n",
              "    </tr>\n",
              "    <tr>\n",
              "      <th>5</th>\n",
              "      <td>SNP_01</td>\n",
              "      <td>object</td>\n",
              "      <td>0</td>\n",
              "      <td>3</td>\n",
              "      <td>G G</td>\n",
              "      <td>A G</td>\n",
              "      <td>G G</td>\n",
              "    </tr>\n",
              "    <tr>\n",
              "      <th>6</th>\n",
              "      <td>SNP_02</td>\n",
              "      <td>object</td>\n",
              "      <td>0</td>\n",
              "      <td>3</td>\n",
              "      <td>A G</td>\n",
              "      <td>A G</td>\n",
              "      <td>G G</td>\n",
              "    </tr>\n",
              "    <tr>\n",
              "      <th>7</th>\n",
              "      <td>SNP_03</td>\n",
              "      <td>object</td>\n",
              "      <td>0</td>\n",
              "      <td>3</td>\n",
              "      <td>A A</td>\n",
              "      <td>C A</td>\n",
              "      <td>A A</td>\n",
              "    </tr>\n",
              "    <tr>\n",
              "      <th>8</th>\n",
              "      <td>SNP_04</td>\n",
              "      <td>object</td>\n",
              "      <td>0</td>\n",
              "      <td>3</td>\n",
              "      <td>G A</td>\n",
              "      <td>A A</td>\n",
              "      <td>G A</td>\n",
              "    </tr>\n",
              "    <tr>\n",
              "      <th>9</th>\n",
              "      <td>SNP_05</td>\n",
              "      <td>object</td>\n",
              "      <td>0</td>\n",
              "      <td>3</td>\n",
              "      <td>C A</td>\n",
              "      <td>A A</td>\n",
              "      <td>C C</td>\n",
              "    </tr>\n",
              "    <tr>\n",
              "      <th>10</th>\n",
              "      <td>SNP_06</td>\n",
              "      <td>object</td>\n",
              "      <td>0</td>\n",
              "      <td>3</td>\n",
              "      <td>A A</td>\n",
              "      <td>A G</td>\n",
              "      <td>G G</td>\n",
              "    </tr>\n",
              "    <tr>\n",
              "      <th>11</th>\n",
              "      <td>SNP_07</td>\n",
              "      <td>object</td>\n",
              "      <td>0</td>\n",
              "      <td>3</td>\n",
              "      <td>A A</td>\n",
              "      <td>A A</td>\n",
              "      <td>A A</td>\n",
              "    </tr>\n",
              "    <tr>\n",
              "      <th>12</th>\n",
              "      <td>SNP_08</td>\n",
              "      <td>object</td>\n",
              "      <td>0</td>\n",
              "      <td>3</td>\n",
              "      <td>G G</td>\n",
              "      <td>G A</td>\n",
              "      <td>G A</td>\n",
              "    </tr>\n",
              "    <tr>\n",
              "      <th>13</th>\n",
              "      <td>SNP_09</td>\n",
              "      <td>object</td>\n",
              "      <td>0</td>\n",
              "      <td>3</td>\n",
              "      <td>A A</td>\n",
              "      <td>A A</td>\n",
              "      <td>G A</td>\n",
              "    </tr>\n",
              "    <tr>\n",
              "      <th>14</th>\n",
              "      <td>SNP_10</td>\n",
              "      <td>object</td>\n",
              "      <td>0</td>\n",
              "      <td>3</td>\n",
              "      <td>G G</td>\n",
              "      <td>A G</td>\n",
              "      <td>A G</td>\n",
              "    </tr>\n",
              "    <tr>\n",
              "      <th>15</th>\n",
              "      <td>SNP_11</td>\n",
              "      <td>object</td>\n",
              "      <td>0</td>\n",
              "      <td>3</td>\n",
              "      <td>A G</td>\n",
              "      <td>A A</td>\n",
              "      <td>A A</td>\n",
              "    </tr>\n",
              "    <tr>\n",
              "      <th>16</th>\n",
              "      <td>SNP_12</td>\n",
              "      <td>object</td>\n",
              "      <td>0</td>\n",
              "      <td>3</td>\n",
              "      <td>A A</td>\n",
              "      <td>G A</td>\n",
              "      <td>A A</td>\n",
              "    </tr>\n",
              "    <tr>\n",
              "      <th>17</th>\n",
              "      <td>SNP_13</td>\n",
              "      <td>object</td>\n",
              "      <td>0</td>\n",
              "      <td>3</td>\n",
              "      <td>A A</td>\n",
              "      <td>G G</td>\n",
              "      <td>A A</td>\n",
              "    </tr>\n",
              "    <tr>\n",
              "      <th>18</th>\n",
              "      <td>SNP_14</td>\n",
              "      <td>object</td>\n",
              "      <td>0</td>\n",
              "      <td>3</td>\n",
              "      <td>A A</td>\n",
              "      <td>A A</td>\n",
              "      <td>A A</td>\n",
              "    </tr>\n",
              "    <tr>\n",
              "      <th>19</th>\n",
              "      <td>SNP_15</td>\n",
              "      <td>object</td>\n",
              "      <td>0</td>\n",
              "      <td>3</td>\n",
              "      <td>A A</td>\n",
              "      <td>A A</td>\n",
              "      <td>A A</td>\n",
              "    </tr>\n",
              "    <tr>\n",
              "      <th>20</th>\n",
              "      <td>class</td>\n",
              "      <td>object</td>\n",
              "      <td>0</td>\n",
              "      <td>3</td>\n",
              "      <td>B</td>\n",
              "      <td>C</td>\n",
              "      <td>B</td>\n",
              "    </tr>\n",
              "  </tbody>\n",
              "</table>\n",
              "</div>\n",
              "      <button class=\"colab-df-convert\" onclick=\"convertToInteractive('df-eb8fd85b-3f46-4ec7-949e-8712da61473f')\"\n",
              "              title=\"Convert this dataframe to an interactive table.\"\n",
              "              style=\"display:none;\">\n",
              "        \n",
              "  <svg xmlns=\"http://www.w3.org/2000/svg\" height=\"24px\"viewBox=\"0 0 24 24\"\n",
              "       width=\"24px\">\n",
              "    <path d=\"M0 0h24v24H0V0z\" fill=\"none\"/>\n",
              "    <path d=\"M18.56 5.44l.94 2.06.94-2.06 2.06-.94-2.06-.94-.94-2.06-.94 2.06-2.06.94zm-11 1L8.5 8.5l.94-2.06 2.06-.94-2.06-.94L8.5 2.5l-.94 2.06-2.06.94zm10 10l.94 2.06.94-2.06 2.06-.94-2.06-.94-.94-2.06-.94 2.06-2.06.94z\"/><path d=\"M17.41 7.96l-1.37-1.37c-.4-.4-.92-.59-1.43-.59-.52 0-1.04.2-1.43.59L10.3 9.45l-7.72 7.72c-.78.78-.78 2.05 0 2.83L4 21.41c.39.39.9.59 1.41.59.51 0 1.02-.2 1.41-.59l7.78-7.78 2.81-2.81c.8-.78.8-2.07 0-2.86zM5.41 20L4 18.59l7.72-7.72 1.47 1.35L5.41 20z\"/>\n",
              "  </svg>\n",
              "      </button>\n",
              "      \n",
              "  <style>\n",
              "    .colab-df-container {\n",
              "      display:flex;\n",
              "      flex-wrap:wrap;\n",
              "      gap: 12px;\n",
              "    }\n",
              "\n",
              "    .colab-df-convert {\n",
              "      background-color: #E8F0FE;\n",
              "      border: none;\n",
              "      border-radius: 50%;\n",
              "      cursor: pointer;\n",
              "      display: none;\n",
              "      fill: #1967D2;\n",
              "      height: 32px;\n",
              "      padding: 0 0 0 0;\n",
              "      width: 32px;\n",
              "    }\n",
              "\n",
              "    .colab-df-convert:hover {\n",
              "      background-color: #E2EBFA;\n",
              "      box-shadow: 0px 1px 2px rgba(60, 64, 67, 0.3), 0px 1px 3px 1px rgba(60, 64, 67, 0.15);\n",
              "      fill: #174EA6;\n",
              "    }\n",
              "\n",
              "    [theme=dark] .colab-df-convert {\n",
              "      background-color: #3B4455;\n",
              "      fill: #D2E3FC;\n",
              "    }\n",
              "\n",
              "    [theme=dark] .colab-df-convert:hover {\n",
              "      background-color: #434B5C;\n",
              "      box-shadow: 0px 1px 3px 1px rgba(0, 0, 0, 0.15);\n",
              "      filter: drop-shadow(0px 1px 2px rgba(0, 0, 0, 0.3));\n",
              "      fill: #FFFFFF;\n",
              "    }\n",
              "  </style>\n",
              "\n",
              "      <script>\n",
              "        const buttonEl =\n",
              "          document.querySelector('#df-eb8fd85b-3f46-4ec7-949e-8712da61473f button.colab-df-convert');\n",
              "        buttonEl.style.display =\n",
              "          google.colab.kernel.accessAllowed ? 'block' : 'none';\n",
              "\n",
              "        async function convertToInteractive(key) {\n",
              "          const element = document.querySelector('#df-eb8fd85b-3f46-4ec7-949e-8712da61473f');\n",
              "          const dataTable =\n",
              "            await google.colab.kernel.invokeFunction('convertToInteractive',\n",
              "                                                     [key], {});\n",
              "          if (!dataTable) return;\n",
              "\n",
              "          const docLinkHtml = 'Like what you see? Visit the ' +\n",
              "            '<a target=\"_blank\" href=https://colab.research.google.com/notebooks/data_table.ipynb>data table notebook</a>'\n",
              "            + ' to learn more about interactive tables.';\n",
              "          element.innerHTML = '';\n",
              "          dataTable['output_type'] = 'display_data';\n",
              "          await google.colab.output.renderOutput(dataTable, element);\n",
              "          const docLink = document.createElement('div');\n",
              "          docLink.innerHTML = docLinkHtml;\n",
              "          element.appendChild(docLink);\n",
              "        }\n",
              "      </script>\n",
              "    </div>\n",
              "  </div>\n",
              "  "
            ]
          },
          "metadata": {},
          "execution_count": 5
        }
      ]
    },
    {
      "cell_type": "code",
      "source": [
        "resumetable(test)"
      ],
      "metadata": {
        "colab": {
          "base_uri": "https://localhost:8080/",
          "height": 694
        },
        "id": "KnkfRH_-XNgU",
        "outputId": "30621080-f5e2-445d-c16c-d3197ed7d418"
      },
      "execution_count": 6,
      "outputs": [
        {
          "output_type": "stream",
          "name": "stdout",
          "text": [
            "데이터 세트 형상: (175, 20)\n"
          ]
        },
        {
          "output_type": "execute_result",
          "data": {
            "text/plain": [
              "        피처  데이터 타입  결측값 개수  고윳값 개수    첫 번째 값    두 번째 값    세 번째 값\n",
              "0       id  object       0     175  TEST_000  TEST_001  TEST_002\n",
              "1   father   int64       0       1         0         0         0\n",
              "2   mother   int64       0       1         0         0         0\n",
              "3   gender   int64       0       1         0         0         0\n",
              "4    trait   int64       0       2         1         2         2\n",
              "5   SNP_01  object       0       3       A G       G G       G G\n",
              "6   SNP_02  object       0       3       G G       A G       A G\n",
              "7   SNP_03  object       0       3       A A       C C       A A\n",
              "8   SNP_04  object       0       3       G A       G G       A A\n",
              "9   SNP_05  object       0       3       A A       C C       C A\n",
              "10  SNP_06  object       0       3       A G       A A       A G\n",
              "11  SNP_07  object       0       3       G G       A A       A A\n",
              "12  SNP_08  object       0       3       G A       A A       A A\n",
              "13  SNP_09  object       0       3       G A       A A       A A\n",
              "14  SNP_10  object       0       3       A G       G G       A G\n",
              "15  SNP_11  object       0       3       A G       A G       A A\n",
              "16  SNP_12  object       0       3       G A       A A       G A\n",
              "17  SNP_13  object       0       3       G G       A A       G G\n",
              "18  SNP_14  object       0       3       C A       A A       A A\n",
              "19  SNP_15  object       0       3       G A       A A       G G"
            ],
            "text/html": [
              "\n",
              "  <div id=\"df-ee28804d-77dd-458b-a2c0-481dcc37bc76\">\n",
              "    <div class=\"colab-df-container\">\n",
              "      <div>\n",
              "<style scoped>\n",
              "    .dataframe tbody tr th:only-of-type {\n",
              "        vertical-align: middle;\n",
              "    }\n",
              "\n",
              "    .dataframe tbody tr th {\n",
              "        vertical-align: top;\n",
              "    }\n",
              "\n",
              "    .dataframe thead th {\n",
              "        text-align: right;\n",
              "    }\n",
              "</style>\n",
              "<table border=\"1\" class=\"dataframe\">\n",
              "  <thead>\n",
              "    <tr style=\"text-align: right;\">\n",
              "      <th></th>\n",
              "      <th>피처</th>\n",
              "      <th>데이터 타입</th>\n",
              "      <th>결측값 개수</th>\n",
              "      <th>고윳값 개수</th>\n",
              "      <th>첫 번째 값</th>\n",
              "      <th>두 번째 값</th>\n",
              "      <th>세 번째 값</th>\n",
              "    </tr>\n",
              "  </thead>\n",
              "  <tbody>\n",
              "    <tr>\n",
              "      <th>0</th>\n",
              "      <td>id</td>\n",
              "      <td>object</td>\n",
              "      <td>0</td>\n",
              "      <td>175</td>\n",
              "      <td>TEST_000</td>\n",
              "      <td>TEST_001</td>\n",
              "      <td>TEST_002</td>\n",
              "    </tr>\n",
              "    <tr>\n",
              "      <th>1</th>\n",
              "      <td>father</td>\n",
              "      <td>int64</td>\n",
              "      <td>0</td>\n",
              "      <td>1</td>\n",
              "      <td>0</td>\n",
              "      <td>0</td>\n",
              "      <td>0</td>\n",
              "    </tr>\n",
              "    <tr>\n",
              "      <th>2</th>\n",
              "      <td>mother</td>\n",
              "      <td>int64</td>\n",
              "      <td>0</td>\n",
              "      <td>1</td>\n",
              "      <td>0</td>\n",
              "      <td>0</td>\n",
              "      <td>0</td>\n",
              "    </tr>\n",
              "    <tr>\n",
              "      <th>3</th>\n",
              "      <td>gender</td>\n",
              "      <td>int64</td>\n",
              "      <td>0</td>\n",
              "      <td>1</td>\n",
              "      <td>0</td>\n",
              "      <td>0</td>\n",
              "      <td>0</td>\n",
              "    </tr>\n",
              "    <tr>\n",
              "      <th>4</th>\n",
              "      <td>trait</td>\n",
              "      <td>int64</td>\n",
              "      <td>0</td>\n",
              "      <td>2</td>\n",
              "      <td>1</td>\n",
              "      <td>2</td>\n",
              "      <td>2</td>\n",
              "    </tr>\n",
              "    <tr>\n",
              "      <th>5</th>\n",
              "      <td>SNP_01</td>\n",
              "      <td>object</td>\n",
              "      <td>0</td>\n",
              "      <td>3</td>\n",
              "      <td>A G</td>\n",
              "      <td>G G</td>\n",
              "      <td>G G</td>\n",
              "    </tr>\n",
              "    <tr>\n",
              "      <th>6</th>\n",
              "      <td>SNP_02</td>\n",
              "      <td>object</td>\n",
              "      <td>0</td>\n",
              "      <td>3</td>\n",
              "      <td>G G</td>\n",
              "      <td>A G</td>\n",
              "      <td>A G</td>\n",
              "    </tr>\n",
              "    <tr>\n",
              "      <th>7</th>\n",
              "      <td>SNP_03</td>\n",
              "      <td>object</td>\n",
              "      <td>0</td>\n",
              "      <td>3</td>\n",
              "      <td>A A</td>\n",
              "      <td>C C</td>\n",
              "      <td>A A</td>\n",
              "    </tr>\n",
              "    <tr>\n",
              "      <th>8</th>\n",
              "      <td>SNP_04</td>\n",
              "      <td>object</td>\n",
              "      <td>0</td>\n",
              "      <td>3</td>\n",
              "      <td>G A</td>\n",
              "      <td>G G</td>\n",
              "      <td>A A</td>\n",
              "    </tr>\n",
              "    <tr>\n",
              "      <th>9</th>\n",
              "      <td>SNP_05</td>\n",
              "      <td>object</td>\n",
              "      <td>0</td>\n",
              "      <td>3</td>\n",
              "      <td>A A</td>\n",
              "      <td>C C</td>\n",
              "      <td>C A</td>\n",
              "    </tr>\n",
              "    <tr>\n",
              "      <th>10</th>\n",
              "      <td>SNP_06</td>\n",
              "      <td>object</td>\n",
              "      <td>0</td>\n",
              "      <td>3</td>\n",
              "      <td>A G</td>\n",
              "      <td>A A</td>\n",
              "      <td>A G</td>\n",
              "    </tr>\n",
              "    <tr>\n",
              "      <th>11</th>\n",
              "      <td>SNP_07</td>\n",
              "      <td>object</td>\n",
              "      <td>0</td>\n",
              "      <td>3</td>\n",
              "      <td>G G</td>\n",
              "      <td>A A</td>\n",
              "      <td>A A</td>\n",
              "    </tr>\n",
              "    <tr>\n",
              "      <th>12</th>\n",
              "      <td>SNP_08</td>\n",
              "      <td>object</td>\n",
              "      <td>0</td>\n",
              "      <td>3</td>\n",
              "      <td>G A</td>\n",
              "      <td>A A</td>\n",
              "      <td>A A</td>\n",
              "    </tr>\n",
              "    <tr>\n",
              "      <th>13</th>\n",
              "      <td>SNP_09</td>\n",
              "      <td>object</td>\n",
              "      <td>0</td>\n",
              "      <td>3</td>\n",
              "      <td>G A</td>\n",
              "      <td>A A</td>\n",
              "      <td>A A</td>\n",
              "    </tr>\n",
              "    <tr>\n",
              "      <th>14</th>\n",
              "      <td>SNP_10</td>\n",
              "      <td>object</td>\n",
              "      <td>0</td>\n",
              "      <td>3</td>\n",
              "      <td>A G</td>\n",
              "      <td>G G</td>\n",
              "      <td>A G</td>\n",
              "    </tr>\n",
              "    <tr>\n",
              "      <th>15</th>\n",
              "      <td>SNP_11</td>\n",
              "      <td>object</td>\n",
              "      <td>0</td>\n",
              "      <td>3</td>\n",
              "      <td>A G</td>\n",
              "      <td>A G</td>\n",
              "      <td>A A</td>\n",
              "    </tr>\n",
              "    <tr>\n",
              "      <th>16</th>\n",
              "      <td>SNP_12</td>\n",
              "      <td>object</td>\n",
              "      <td>0</td>\n",
              "      <td>3</td>\n",
              "      <td>G A</td>\n",
              "      <td>A A</td>\n",
              "      <td>G A</td>\n",
              "    </tr>\n",
              "    <tr>\n",
              "      <th>17</th>\n",
              "      <td>SNP_13</td>\n",
              "      <td>object</td>\n",
              "      <td>0</td>\n",
              "      <td>3</td>\n",
              "      <td>G G</td>\n",
              "      <td>A A</td>\n",
              "      <td>G G</td>\n",
              "    </tr>\n",
              "    <tr>\n",
              "      <th>18</th>\n",
              "      <td>SNP_14</td>\n",
              "      <td>object</td>\n",
              "      <td>0</td>\n",
              "      <td>3</td>\n",
              "      <td>C A</td>\n",
              "      <td>A A</td>\n",
              "      <td>A A</td>\n",
              "    </tr>\n",
              "    <tr>\n",
              "      <th>19</th>\n",
              "      <td>SNP_15</td>\n",
              "      <td>object</td>\n",
              "      <td>0</td>\n",
              "      <td>3</td>\n",
              "      <td>G A</td>\n",
              "      <td>A A</td>\n",
              "      <td>G G</td>\n",
              "    </tr>\n",
              "  </tbody>\n",
              "</table>\n",
              "</div>\n",
              "      <button class=\"colab-df-convert\" onclick=\"convertToInteractive('df-ee28804d-77dd-458b-a2c0-481dcc37bc76')\"\n",
              "              title=\"Convert this dataframe to an interactive table.\"\n",
              "              style=\"display:none;\">\n",
              "        \n",
              "  <svg xmlns=\"http://www.w3.org/2000/svg\" height=\"24px\"viewBox=\"0 0 24 24\"\n",
              "       width=\"24px\">\n",
              "    <path d=\"M0 0h24v24H0V0z\" fill=\"none\"/>\n",
              "    <path d=\"M18.56 5.44l.94 2.06.94-2.06 2.06-.94-2.06-.94-.94-2.06-.94 2.06-2.06.94zm-11 1L8.5 8.5l.94-2.06 2.06-.94-2.06-.94L8.5 2.5l-.94 2.06-2.06.94zm10 10l.94 2.06.94-2.06 2.06-.94-2.06-.94-.94-2.06-.94 2.06-2.06.94z\"/><path d=\"M17.41 7.96l-1.37-1.37c-.4-.4-.92-.59-1.43-.59-.52 0-1.04.2-1.43.59L10.3 9.45l-7.72 7.72c-.78.78-.78 2.05 0 2.83L4 21.41c.39.39.9.59 1.41.59.51 0 1.02-.2 1.41-.59l7.78-7.78 2.81-2.81c.8-.78.8-2.07 0-2.86zM5.41 20L4 18.59l7.72-7.72 1.47 1.35L5.41 20z\"/>\n",
              "  </svg>\n",
              "      </button>\n",
              "      \n",
              "  <style>\n",
              "    .colab-df-container {\n",
              "      display:flex;\n",
              "      flex-wrap:wrap;\n",
              "      gap: 12px;\n",
              "    }\n",
              "\n",
              "    .colab-df-convert {\n",
              "      background-color: #E8F0FE;\n",
              "      border: none;\n",
              "      border-radius: 50%;\n",
              "      cursor: pointer;\n",
              "      display: none;\n",
              "      fill: #1967D2;\n",
              "      height: 32px;\n",
              "      padding: 0 0 0 0;\n",
              "      width: 32px;\n",
              "    }\n",
              "\n",
              "    .colab-df-convert:hover {\n",
              "      background-color: #E2EBFA;\n",
              "      box-shadow: 0px 1px 2px rgba(60, 64, 67, 0.3), 0px 1px 3px 1px rgba(60, 64, 67, 0.15);\n",
              "      fill: #174EA6;\n",
              "    }\n",
              "\n",
              "    [theme=dark] .colab-df-convert {\n",
              "      background-color: #3B4455;\n",
              "      fill: #D2E3FC;\n",
              "    }\n",
              "\n",
              "    [theme=dark] .colab-df-convert:hover {\n",
              "      background-color: #434B5C;\n",
              "      box-shadow: 0px 1px 3px 1px rgba(0, 0, 0, 0.15);\n",
              "      filter: drop-shadow(0px 1px 2px rgba(0, 0, 0, 0.3));\n",
              "      fill: #FFFFFF;\n",
              "    }\n",
              "  </style>\n",
              "\n",
              "      <script>\n",
              "        const buttonEl =\n",
              "          document.querySelector('#df-ee28804d-77dd-458b-a2c0-481dcc37bc76 button.colab-df-convert');\n",
              "        buttonEl.style.display =\n",
              "          google.colab.kernel.accessAllowed ? 'block' : 'none';\n",
              "\n",
              "        async function convertToInteractive(key) {\n",
              "          const element = document.querySelector('#df-ee28804d-77dd-458b-a2c0-481dcc37bc76');\n",
              "          const dataTable =\n",
              "            await google.colab.kernel.invokeFunction('convertToInteractive',\n",
              "                                                     [key], {});\n",
              "          if (!dataTable) return;\n",
              "\n",
              "          const docLinkHtml = 'Like what you see? Visit the ' +\n",
              "            '<a target=\"_blank\" href=https://colab.research.google.com/notebooks/data_table.ipynb>data table notebook</a>'\n",
              "            + ' to learn more about interactive tables.';\n",
              "          element.innerHTML = '';\n",
              "          dataTable['output_type'] = 'display_data';\n",
              "          await google.colab.output.renderOutput(dataTable, element);\n",
              "          const docLink = document.createElement('div');\n",
              "          docLink.innerHTML = docLinkHtml;\n",
              "          element.appendChild(docLink);\n",
              "        }\n",
              "      </script>\n",
              "    </div>\n",
              "  </div>\n",
              "  "
            ]
          },
          "metadata": {},
          "execution_count": 6
        }
      ]
    },
    {
      "cell_type": "code",
      "source": [
        "train.head() #data에 null 없음 #father, mother, gender는 다 0"
      ],
      "metadata": {
        "colab": {
          "base_uri": "https://localhost:8080/",
          "height": 299
        },
        "id": "Gbn5zNypuOkD",
        "outputId": "70b1fe2d-3ef8-4661-bf2f-743cf39277b9"
      },
      "execution_count": null,
      "outputs": [
        {
          "output_type": "execute_result",
          "data": {
            "text/plain": [
              "          id  father  mother  gender  trait SNP_01 SNP_02 SNP_03 SNP_04  \\\n",
              "0  TRAIN_000       0       0       0      2    G G    A G    A A    G A   \n",
              "1  TRAIN_001       0       0       0      2    A G    A G    C A    A A   \n",
              "2  TRAIN_002       0       0       0      2    G G    G G    A A    G A   \n",
              "3  TRAIN_003       0       0       0      1    A A    G G    A A    G A   \n",
              "4  TRAIN_004       0       0       0      2    G G    G G    C C    A A   \n",
              "\n",
              "  SNP_05  ... SNP_07 SNP_08 SNP_09 SNP_10 SNP_11 SNP_12 SNP_13 SNP_14 SNP_15  \\\n",
              "0    C A  ...    A A    G G    A A    G G    A G    A A    A A    A A    A A   \n",
              "1    A A  ...    A A    G A    A A    A G    A A    G A    G G    A A    A A   \n",
              "2    C C  ...    A A    G A    G A    A G    A A    A A    A A    A A    A A   \n",
              "3    A A  ...    G G    A A    G G    A G    G G    G G    G G    A A    G G   \n",
              "4    C C  ...    A A    A A    A A    G G    A A    A A    A G    A A    G A   \n",
              "\n",
              "  class  \n",
              "0     B  \n",
              "1     C  \n",
              "2     B  \n",
              "3     A  \n",
              "4     C  \n",
              "\n",
              "[5 rows x 21 columns]"
            ],
            "text/html": [
              "\n",
              "  <div id=\"df-e84b3585-1bb3-46b7-88d1-519ac46c5aba\">\n",
              "    <div class=\"colab-df-container\">\n",
              "      <div>\n",
              "<style scoped>\n",
              "    .dataframe tbody tr th:only-of-type {\n",
              "        vertical-align: middle;\n",
              "    }\n",
              "\n",
              "    .dataframe tbody tr th {\n",
              "        vertical-align: top;\n",
              "    }\n",
              "\n",
              "    .dataframe thead th {\n",
              "        text-align: right;\n",
              "    }\n",
              "</style>\n",
              "<table border=\"1\" class=\"dataframe\">\n",
              "  <thead>\n",
              "    <tr style=\"text-align: right;\">\n",
              "      <th></th>\n",
              "      <th>id</th>\n",
              "      <th>father</th>\n",
              "      <th>mother</th>\n",
              "      <th>gender</th>\n",
              "      <th>trait</th>\n",
              "      <th>SNP_01</th>\n",
              "      <th>SNP_02</th>\n",
              "      <th>SNP_03</th>\n",
              "      <th>SNP_04</th>\n",
              "      <th>SNP_05</th>\n",
              "      <th>...</th>\n",
              "      <th>SNP_07</th>\n",
              "      <th>SNP_08</th>\n",
              "      <th>SNP_09</th>\n",
              "      <th>SNP_10</th>\n",
              "      <th>SNP_11</th>\n",
              "      <th>SNP_12</th>\n",
              "      <th>SNP_13</th>\n",
              "      <th>SNP_14</th>\n",
              "      <th>SNP_15</th>\n",
              "      <th>class</th>\n",
              "    </tr>\n",
              "  </thead>\n",
              "  <tbody>\n",
              "    <tr>\n",
              "      <th>0</th>\n",
              "      <td>TRAIN_000</td>\n",
              "      <td>0</td>\n",
              "      <td>0</td>\n",
              "      <td>0</td>\n",
              "      <td>2</td>\n",
              "      <td>G G</td>\n",
              "      <td>A G</td>\n",
              "      <td>A A</td>\n",
              "      <td>G A</td>\n",
              "      <td>C A</td>\n",
              "      <td>...</td>\n",
              "      <td>A A</td>\n",
              "      <td>G G</td>\n",
              "      <td>A A</td>\n",
              "      <td>G G</td>\n",
              "      <td>A G</td>\n",
              "      <td>A A</td>\n",
              "      <td>A A</td>\n",
              "      <td>A A</td>\n",
              "      <td>A A</td>\n",
              "      <td>B</td>\n",
              "    </tr>\n",
              "    <tr>\n",
              "      <th>1</th>\n",
              "      <td>TRAIN_001</td>\n",
              "      <td>0</td>\n",
              "      <td>0</td>\n",
              "      <td>0</td>\n",
              "      <td>2</td>\n",
              "      <td>A G</td>\n",
              "      <td>A G</td>\n",
              "      <td>C A</td>\n",
              "      <td>A A</td>\n",
              "      <td>A A</td>\n",
              "      <td>...</td>\n",
              "      <td>A A</td>\n",
              "      <td>G A</td>\n",
              "      <td>A A</td>\n",
              "      <td>A G</td>\n",
              "      <td>A A</td>\n",
              "      <td>G A</td>\n",
              "      <td>G G</td>\n",
              "      <td>A A</td>\n",
              "      <td>A A</td>\n",
              "      <td>C</td>\n",
              "    </tr>\n",
              "    <tr>\n",
              "      <th>2</th>\n",
              "      <td>TRAIN_002</td>\n",
              "      <td>0</td>\n",
              "      <td>0</td>\n",
              "      <td>0</td>\n",
              "      <td>2</td>\n",
              "      <td>G G</td>\n",
              "      <td>G G</td>\n",
              "      <td>A A</td>\n",
              "      <td>G A</td>\n",
              "      <td>C C</td>\n",
              "      <td>...</td>\n",
              "      <td>A A</td>\n",
              "      <td>G A</td>\n",
              "      <td>G A</td>\n",
              "      <td>A G</td>\n",
              "      <td>A A</td>\n",
              "      <td>A A</td>\n",
              "      <td>A A</td>\n",
              "      <td>A A</td>\n",
              "      <td>A A</td>\n",
              "      <td>B</td>\n",
              "    </tr>\n",
              "    <tr>\n",
              "      <th>3</th>\n",
              "      <td>TRAIN_003</td>\n",
              "      <td>0</td>\n",
              "      <td>0</td>\n",
              "      <td>0</td>\n",
              "      <td>1</td>\n",
              "      <td>A A</td>\n",
              "      <td>G G</td>\n",
              "      <td>A A</td>\n",
              "      <td>G A</td>\n",
              "      <td>A A</td>\n",
              "      <td>...</td>\n",
              "      <td>G G</td>\n",
              "      <td>A A</td>\n",
              "      <td>G G</td>\n",
              "      <td>A G</td>\n",
              "      <td>G G</td>\n",
              "      <td>G G</td>\n",
              "      <td>G G</td>\n",
              "      <td>A A</td>\n",
              "      <td>G G</td>\n",
              "      <td>A</td>\n",
              "    </tr>\n",
              "    <tr>\n",
              "      <th>4</th>\n",
              "      <td>TRAIN_004</td>\n",
              "      <td>0</td>\n",
              "      <td>0</td>\n",
              "      <td>0</td>\n",
              "      <td>2</td>\n",
              "      <td>G G</td>\n",
              "      <td>G G</td>\n",
              "      <td>C C</td>\n",
              "      <td>A A</td>\n",
              "      <td>C C</td>\n",
              "      <td>...</td>\n",
              "      <td>A A</td>\n",
              "      <td>A A</td>\n",
              "      <td>A A</td>\n",
              "      <td>G G</td>\n",
              "      <td>A A</td>\n",
              "      <td>A A</td>\n",
              "      <td>A G</td>\n",
              "      <td>A A</td>\n",
              "      <td>G A</td>\n",
              "      <td>C</td>\n",
              "    </tr>\n",
              "  </tbody>\n",
              "</table>\n",
              "<p>5 rows × 21 columns</p>\n",
              "</div>\n",
              "      <button class=\"colab-df-convert\" onclick=\"convertToInteractive('df-e84b3585-1bb3-46b7-88d1-519ac46c5aba')\"\n",
              "              title=\"Convert this dataframe to an interactive table.\"\n",
              "              style=\"display:none;\">\n",
              "        \n",
              "  <svg xmlns=\"http://www.w3.org/2000/svg\" height=\"24px\"viewBox=\"0 0 24 24\"\n",
              "       width=\"24px\">\n",
              "    <path d=\"M0 0h24v24H0V0z\" fill=\"none\"/>\n",
              "    <path d=\"M18.56 5.44l.94 2.06.94-2.06 2.06-.94-2.06-.94-.94-2.06-.94 2.06-2.06.94zm-11 1L8.5 8.5l.94-2.06 2.06-.94-2.06-.94L8.5 2.5l-.94 2.06-2.06.94zm10 10l.94 2.06.94-2.06 2.06-.94-2.06-.94-.94-2.06-.94 2.06-2.06.94z\"/><path d=\"M17.41 7.96l-1.37-1.37c-.4-.4-.92-.59-1.43-.59-.52 0-1.04.2-1.43.59L10.3 9.45l-7.72 7.72c-.78.78-.78 2.05 0 2.83L4 21.41c.39.39.9.59 1.41.59.51 0 1.02-.2 1.41-.59l7.78-7.78 2.81-2.81c.8-.78.8-2.07 0-2.86zM5.41 20L4 18.59l7.72-7.72 1.47 1.35L5.41 20z\"/>\n",
              "  </svg>\n",
              "      </button>\n",
              "      \n",
              "  <style>\n",
              "    .colab-df-container {\n",
              "      display:flex;\n",
              "      flex-wrap:wrap;\n",
              "      gap: 12px;\n",
              "    }\n",
              "\n",
              "    .colab-df-convert {\n",
              "      background-color: #E8F0FE;\n",
              "      border: none;\n",
              "      border-radius: 50%;\n",
              "      cursor: pointer;\n",
              "      display: none;\n",
              "      fill: #1967D2;\n",
              "      height: 32px;\n",
              "      padding: 0 0 0 0;\n",
              "      width: 32px;\n",
              "    }\n",
              "\n",
              "    .colab-df-convert:hover {\n",
              "      background-color: #E2EBFA;\n",
              "      box-shadow: 0px 1px 2px rgba(60, 64, 67, 0.3), 0px 1px 3px 1px rgba(60, 64, 67, 0.15);\n",
              "      fill: #174EA6;\n",
              "    }\n",
              "\n",
              "    [theme=dark] .colab-df-convert {\n",
              "      background-color: #3B4455;\n",
              "      fill: #D2E3FC;\n",
              "    }\n",
              "\n",
              "    [theme=dark] .colab-df-convert:hover {\n",
              "      background-color: #434B5C;\n",
              "      box-shadow: 0px 1px 3px 1px rgba(0, 0, 0, 0.15);\n",
              "      filter: drop-shadow(0px 1px 2px rgba(0, 0, 0, 0.3));\n",
              "      fill: #FFFFFF;\n",
              "    }\n",
              "  </style>\n",
              "\n",
              "      <script>\n",
              "        const buttonEl =\n",
              "          document.querySelector('#df-e84b3585-1bb3-46b7-88d1-519ac46c5aba button.colab-df-convert');\n",
              "        buttonEl.style.display =\n",
              "          google.colab.kernel.accessAllowed ? 'block' : 'none';\n",
              "\n",
              "        async function convertToInteractive(key) {\n",
              "          const element = document.querySelector('#df-e84b3585-1bb3-46b7-88d1-519ac46c5aba');\n",
              "          const dataTable =\n",
              "            await google.colab.kernel.invokeFunction('convertToInteractive',\n",
              "                                                     [key], {});\n",
              "          if (!dataTable) return;\n",
              "\n",
              "          const docLinkHtml = 'Like what you see? Visit the ' +\n",
              "            '<a target=\"_blank\" href=https://colab.research.google.com/notebooks/data_table.ipynb>data table notebook</a>'\n",
              "            + ' to learn more about interactive tables.';\n",
              "          element.innerHTML = '';\n",
              "          dataTable['output_type'] = 'display_data';\n",
              "          await google.colab.output.renderOutput(dataTable, element);\n",
              "          const docLink = document.createElement('div');\n",
              "          docLink.innerHTML = docLinkHtml;\n",
              "          element.appendChild(docLink);\n",
              "        }\n",
              "      </script>\n",
              "    </div>\n",
              "  </div>\n",
              "  "
            ]
          },
          "metadata": {},
          "execution_count": 7
        }
      ]
    },
    {
      "cell_type": "code",
      "source": [
        "test.head()"
      ],
      "metadata": {
        "colab": {
          "base_uri": "https://localhost:8080/",
          "height": 270
        },
        "id": "3MKsleEeudwE",
        "outputId": "b40ea53b-542c-4245-9757-44a5dd050e75"
      },
      "execution_count": null,
      "outputs": [
        {
          "output_type": "execute_result",
          "data": {
            "text/plain": [
              "         id  father  mother  gender  trait SNP_01 SNP_02 SNP_03 SNP_04 SNP_05  \\\n",
              "0  TEST_000       0       0       0      1    A G    G G    A A    G A    A A   \n",
              "1  TEST_001       0       0       0      2    G G    A G    C C    G G    C C   \n",
              "2  TEST_002       0       0       0      2    G G    A G    A A    A A    C A   \n",
              "3  TEST_003       0       0       0      2    G G    A G    C A    A A    C C   \n",
              "4  TEST_004       0       0       0      1    A A    G G    A A    G G    A A   \n",
              "\n",
              "  SNP_06 SNP_07 SNP_08 SNP_09 SNP_10 SNP_11 SNP_12 SNP_13 SNP_14 SNP_15  \n",
              "0    A G    G G    G A    G A    A G    A G    G A    G G    C A    G A  \n",
              "1    A A    A A    A A    A A    G G    A G    A A    A A    A A    A A  \n",
              "2    A G    A A    A A    A A    A G    A A    G A    G G    A A    G G  \n",
              "3    A A    A A    A A    A A    G G    A A    G A    A G    A A    A A  \n",
              "4    G G    G G    A A    G G    A G    G G    G A    G G    A A    G G  "
            ],
            "text/html": [
              "\n",
              "  <div id=\"df-a2e6323b-17a9-47c1-9c91-4fea51b35135\">\n",
              "    <div class=\"colab-df-container\">\n",
              "      <div>\n",
              "<style scoped>\n",
              "    .dataframe tbody tr th:only-of-type {\n",
              "        vertical-align: middle;\n",
              "    }\n",
              "\n",
              "    .dataframe tbody tr th {\n",
              "        vertical-align: top;\n",
              "    }\n",
              "\n",
              "    .dataframe thead th {\n",
              "        text-align: right;\n",
              "    }\n",
              "</style>\n",
              "<table border=\"1\" class=\"dataframe\">\n",
              "  <thead>\n",
              "    <tr style=\"text-align: right;\">\n",
              "      <th></th>\n",
              "      <th>id</th>\n",
              "      <th>father</th>\n",
              "      <th>mother</th>\n",
              "      <th>gender</th>\n",
              "      <th>trait</th>\n",
              "      <th>SNP_01</th>\n",
              "      <th>SNP_02</th>\n",
              "      <th>SNP_03</th>\n",
              "      <th>SNP_04</th>\n",
              "      <th>SNP_05</th>\n",
              "      <th>SNP_06</th>\n",
              "      <th>SNP_07</th>\n",
              "      <th>SNP_08</th>\n",
              "      <th>SNP_09</th>\n",
              "      <th>SNP_10</th>\n",
              "      <th>SNP_11</th>\n",
              "      <th>SNP_12</th>\n",
              "      <th>SNP_13</th>\n",
              "      <th>SNP_14</th>\n",
              "      <th>SNP_15</th>\n",
              "    </tr>\n",
              "  </thead>\n",
              "  <tbody>\n",
              "    <tr>\n",
              "      <th>0</th>\n",
              "      <td>TEST_000</td>\n",
              "      <td>0</td>\n",
              "      <td>0</td>\n",
              "      <td>0</td>\n",
              "      <td>1</td>\n",
              "      <td>A G</td>\n",
              "      <td>G G</td>\n",
              "      <td>A A</td>\n",
              "      <td>G A</td>\n",
              "      <td>A A</td>\n",
              "      <td>A G</td>\n",
              "      <td>G G</td>\n",
              "      <td>G A</td>\n",
              "      <td>G A</td>\n",
              "      <td>A G</td>\n",
              "      <td>A G</td>\n",
              "      <td>G A</td>\n",
              "      <td>G G</td>\n",
              "      <td>C A</td>\n",
              "      <td>G A</td>\n",
              "    </tr>\n",
              "    <tr>\n",
              "      <th>1</th>\n",
              "      <td>TEST_001</td>\n",
              "      <td>0</td>\n",
              "      <td>0</td>\n",
              "      <td>0</td>\n",
              "      <td>2</td>\n",
              "      <td>G G</td>\n",
              "      <td>A G</td>\n",
              "      <td>C C</td>\n",
              "      <td>G G</td>\n",
              "      <td>C C</td>\n",
              "      <td>A A</td>\n",
              "      <td>A A</td>\n",
              "      <td>A A</td>\n",
              "      <td>A A</td>\n",
              "      <td>G G</td>\n",
              "      <td>A G</td>\n",
              "      <td>A A</td>\n",
              "      <td>A A</td>\n",
              "      <td>A A</td>\n",
              "      <td>A A</td>\n",
              "    </tr>\n",
              "    <tr>\n",
              "      <th>2</th>\n",
              "      <td>TEST_002</td>\n",
              "      <td>0</td>\n",
              "      <td>0</td>\n",
              "      <td>0</td>\n",
              "      <td>2</td>\n",
              "      <td>G G</td>\n",
              "      <td>A G</td>\n",
              "      <td>A A</td>\n",
              "      <td>A A</td>\n",
              "      <td>C A</td>\n",
              "      <td>A G</td>\n",
              "      <td>A A</td>\n",
              "      <td>A A</td>\n",
              "      <td>A A</td>\n",
              "      <td>A G</td>\n",
              "      <td>A A</td>\n",
              "      <td>G A</td>\n",
              "      <td>G G</td>\n",
              "      <td>A A</td>\n",
              "      <td>G G</td>\n",
              "    </tr>\n",
              "    <tr>\n",
              "      <th>3</th>\n",
              "      <td>TEST_003</td>\n",
              "      <td>0</td>\n",
              "      <td>0</td>\n",
              "      <td>0</td>\n",
              "      <td>2</td>\n",
              "      <td>G G</td>\n",
              "      <td>A G</td>\n",
              "      <td>C A</td>\n",
              "      <td>A A</td>\n",
              "      <td>C C</td>\n",
              "      <td>A A</td>\n",
              "      <td>A A</td>\n",
              "      <td>A A</td>\n",
              "      <td>A A</td>\n",
              "      <td>G G</td>\n",
              "      <td>A A</td>\n",
              "      <td>G A</td>\n",
              "      <td>A G</td>\n",
              "      <td>A A</td>\n",
              "      <td>A A</td>\n",
              "    </tr>\n",
              "    <tr>\n",
              "      <th>4</th>\n",
              "      <td>TEST_004</td>\n",
              "      <td>0</td>\n",
              "      <td>0</td>\n",
              "      <td>0</td>\n",
              "      <td>1</td>\n",
              "      <td>A A</td>\n",
              "      <td>G G</td>\n",
              "      <td>A A</td>\n",
              "      <td>G G</td>\n",
              "      <td>A A</td>\n",
              "      <td>G G</td>\n",
              "      <td>G G</td>\n",
              "      <td>A A</td>\n",
              "      <td>G G</td>\n",
              "      <td>A G</td>\n",
              "      <td>G G</td>\n",
              "      <td>G A</td>\n",
              "      <td>G G</td>\n",
              "      <td>A A</td>\n",
              "      <td>G G</td>\n",
              "    </tr>\n",
              "  </tbody>\n",
              "</table>\n",
              "</div>\n",
              "      <button class=\"colab-df-convert\" onclick=\"convertToInteractive('df-a2e6323b-17a9-47c1-9c91-4fea51b35135')\"\n",
              "              title=\"Convert this dataframe to an interactive table.\"\n",
              "              style=\"display:none;\">\n",
              "        \n",
              "  <svg xmlns=\"http://www.w3.org/2000/svg\" height=\"24px\"viewBox=\"0 0 24 24\"\n",
              "       width=\"24px\">\n",
              "    <path d=\"M0 0h24v24H0V0z\" fill=\"none\"/>\n",
              "    <path d=\"M18.56 5.44l.94 2.06.94-2.06 2.06-.94-2.06-.94-.94-2.06-.94 2.06-2.06.94zm-11 1L8.5 8.5l.94-2.06 2.06-.94-2.06-.94L8.5 2.5l-.94 2.06-2.06.94zm10 10l.94 2.06.94-2.06 2.06-.94-2.06-.94-.94-2.06-.94 2.06-2.06.94z\"/><path d=\"M17.41 7.96l-1.37-1.37c-.4-.4-.92-.59-1.43-.59-.52 0-1.04.2-1.43.59L10.3 9.45l-7.72 7.72c-.78.78-.78 2.05 0 2.83L4 21.41c.39.39.9.59 1.41.59.51 0 1.02-.2 1.41-.59l7.78-7.78 2.81-2.81c.8-.78.8-2.07 0-2.86zM5.41 20L4 18.59l7.72-7.72 1.47 1.35L5.41 20z\"/>\n",
              "  </svg>\n",
              "      </button>\n",
              "      \n",
              "  <style>\n",
              "    .colab-df-container {\n",
              "      display:flex;\n",
              "      flex-wrap:wrap;\n",
              "      gap: 12px;\n",
              "    }\n",
              "\n",
              "    .colab-df-convert {\n",
              "      background-color: #E8F0FE;\n",
              "      border: none;\n",
              "      border-radius: 50%;\n",
              "      cursor: pointer;\n",
              "      display: none;\n",
              "      fill: #1967D2;\n",
              "      height: 32px;\n",
              "      padding: 0 0 0 0;\n",
              "      width: 32px;\n",
              "    }\n",
              "\n",
              "    .colab-df-convert:hover {\n",
              "      background-color: #E2EBFA;\n",
              "      box-shadow: 0px 1px 2px rgba(60, 64, 67, 0.3), 0px 1px 3px 1px rgba(60, 64, 67, 0.15);\n",
              "      fill: #174EA6;\n",
              "    }\n",
              "\n",
              "    [theme=dark] .colab-df-convert {\n",
              "      background-color: #3B4455;\n",
              "      fill: #D2E3FC;\n",
              "    }\n",
              "\n",
              "    [theme=dark] .colab-df-convert:hover {\n",
              "      background-color: #434B5C;\n",
              "      box-shadow: 0px 1px 3px 1px rgba(0, 0, 0, 0.15);\n",
              "      filter: drop-shadow(0px 1px 2px rgba(0, 0, 0, 0.3));\n",
              "      fill: #FFFFFF;\n",
              "    }\n",
              "  </style>\n",
              "\n",
              "      <script>\n",
              "        const buttonEl =\n",
              "          document.querySelector('#df-a2e6323b-17a9-47c1-9c91-4fea51b35135 button.colab-df-convert');\n",
              "        buttonEl.style.display =\n",
              "          google.colab.kernel.accessAllowed ? 'block' : 'none';\n",
              "\n",
              "        async function convertToInteractive(key) {\n",
              "          const element = document.querySelector('#df-a2e6323b-17a9-47c1-9c91-4fea51b35135');\n",
              "          const dataTable =\n",
              "            await google.colab.kernel.invokeFunction('convertToInteractive',\n",
              "                                                     [key], {});\n",
              "          if (!dataTable) return;\n",
              "\n",
              "          const docLinkHtml = 'Like what you see? Visit the ' +\n",
              "            '<a target=\"_blank\" href=https://colab.research.google.com/notebooks/data_table.ipynb>data table notebook</a>'\n",
              "            + ' to learn more about interactive tables.';\n",
              "          element.innerHTML = '';\n",
              "          dataTable['output_type'] = 'display_data';\n",
              "          await google.colab.output.renderOutput(dataTable, element);\n",
              "          const docLink = document.createElement('div');\n",
              "          docLink.innerHTML = docLinkHtml;\n",
              "          element.appendChild(docLink);\n",
              "        }\n",
              "      </script>\n",
              "    </div>\n",
              "  </div>\n",
              "  "
            ]
          },
          "metadata": {},
          "execution_count": 8
        }
      ]
    },
    {
      "cell_type": "code",
      "source": [
        "def get_x_y(df):\n",
        "    if 'class' in df.columns:\n",
        "        df_x = df.drop(columns=['id', 'class'])\n",
        "        df_y = df['class']\n",
        "        return df_x, df_y\n",
        "    else:\n",
        "        df_x = df.drop(columns=['id'])\n",
        "        return df_x"
      ],
      "metadata": {
        "id": "IIMrgUHFuf04"
      },
      "execution_count": 7,
      "outputs": []
    },
    {
      "cell_type": "code",
      "source": [
        "train_x, train_y = get_x_y(train)\n",
        "test_x = get_x_y(test)"
      ],
      "metadata": {
        "id": "7PJ4ucAGx_GW"
      },
      "execution_count": 8,
      "outputs": []
    },
    {
      "cell_type": "markdown",
      "source": [
        "## **2. EDA**"
      ],
      "metadata": {
        "id": "BLl7B1Ib7zIf"
      }
    },
    {
      "cell_type": "code",
      "source": [
        "for g in train.columns[train.columns.str.contains('SNP')].tolist()+['trait']:\n",
        "    train.groupby(g)['class'].value_counts().unstack().plot.bar(figsize=(5,3));"
      ],
      "metadata": {
        "colab": {
          "base_uri": "https://localhost:8080/",
          "height": 1000
        },
        "id": "H5Rgzxw57vdQ",
        "outputId": "f0f7ab37-f9e9-4ee0-e313-290d92baaef1"
      },
      "execution_count": 9,
      "outputs": [
        {
          "output_type": "display_data",
          "data": {
            "text/plain": [
              "<Figure size 360x216 with 1 Axes>"
            ],
            "image/png": "[encoded data removed]"
          },
          "metadata": {
            "needs_background": "light"
          }
        },
        {
          "output_type": "display_data",
          "data": {
            "text/plain": [
              "<Figure size 360x216 with 1 Axes>"
            ],
            "image/png": "[encoded data removed]"
          },
          "metadata": {
            "needs_background": "light"
          }
        },
        {
          "output_type": "display_data",
          "data": {
            "text/plain": [
              "<Figure size 360x216 with 1 Axes>"
            ],
            "image/png": "[encoded data removed]"
          },
          "metadata": {
            "needs_background": "light"
          }
        },
        {
          "output_type": "display_data",
          "data": {
            "text/plain": [
              "<Figure size 360x216 with 1 Axes>"
            ],
            "image/png": "[encoded data removed]"
          },
          "metadata": {
            "needs_background": "light"
          }
        },
        {
          "output_type": "display_data",
          "data": {
            "text/plain": [
              "<Figure size 360x216 with 1 Axes>"
            ],
            "image/png": "[encoded data removed]"
          },
          "metadata": {
            "needs_background": "light"
          }
        },
        {
          "output_type": "display_data",
          "data": {
            "text/plain": [
              "<Figure size 360x216 with 1 Axes>"
            ],
            "image/png": "[encoded data removed]"
          },
          "metadata": {
            "needs_background": "light"
          }
        },
        {
          "output_type": "display_data",
          "data": {
            "text/plain": [
              "<Figure size 360x216 with 1 Axes>"
            ],
            "image/png": "[encoded data removed]"
          },
          "metadata": {
            "needs_background": "light"
          }
        },
        {
          "output_type": "display_data",
          "data": {
            "text/plain": [
              "<Figure size 360x216 with 1 Axes>"
            ],
            "image/png": "[encoded data removed]"
          },
          "metadata": {
            "needs_background": "light"
          }
        },
        {
          "output_type": "display_data",
          "data": {
            "text/plain": [
              "<Figure size 360x216 with 1 Axes>"
            ],
            "image/png": "[encoded data removed]"
          },
          "metadata": {
            "needs_background": "light"
          }
        },
        {
          "output_type": "display_data",
          "data": {
            "text/plain": [
              "<Figure size 360x216 with 1 Axes>"
            ],
            "image/png": "[encoded data removed]"
          },
          "metadata": {
            "needs_background": "light"
          }
        },
        {
          "output_type": "display_data",
          "data": {
            "text/plain": [
              "<Figure size 360x216 with 1 Axes>"
            ],
            "image/png": "[encoded data removed]"
          },
          "metadata": {
            "needs_background": "light"
          }
        },
        {
          "output_type": "display_data",
          "data": {
            "text/plain": [
              "<Figure size 360x216 with 1 Axes>"
            ],
            "image/png": "[encoded data removed]"
          },
          "metadata": {
            "needs_background": "light"
          }
        },
        {
          "output_type": "display_data",
          "data": {
            "text/plain": [
              "<Figure size 360x216 with 1 Axes>"
            ],
            "image/png": "[encoded data removed]"
          },
          "metadata": {
            "needs_background": "light"
          }
        },
        {
          "output_type": "display_data",
          "data": {
            "text/plain": [
              "<Figure size 360x216 with 1 Axes>"
            ],
            "image/png": "[encoded data removed]"
          },
          "metadata": {
            "needs_background": "light"
          }
        },
        {
          "output_type": "display_data",
          "data": {
            "text/plain": [
              "<Figure size 360x216 with 1 Axes>"
            ],
            "image/png": "[encoded data removed]"
          },
          "metadata": {
            "needs_background": "light"
          }
        },
        {
          "output_type": "display_data",
          "data": {
            "text/plain": [
              "<Figure size 360x216 with 1 Axes>"
            ],
            "image/png": "[encoded data removed]"
          },
          "metadata": {
            "needs_background": "light"
          }
        }
      ]
    },
    {
      "cell_type": "code",
      "source": [
        "train['class'].value_counts().plot.bar(figsize=(5,3))"
      ],
      "metadata": {
        "colab": {
          "base_uri": "https://localhost:8080/",
          "height": 226
        },
        "id": "mAR-98VAWK8t",
        "outputId": "3d89b3ec-3099-4baa-f539-277834ac2255"
      },
      "execution_count": 10,
      "outputs": [
        {
          "output_type": "execute_result",
          "data": {
            "text/plain": [
              "<matplotlib.axes._subplots.AxesSubplot at 0x7f946b5c1850>"
            ]
          },
          "metadata": {},
          "execution_count": 10
        },
        {
          "output_type": "display_data",
          "data": {
            "text/plain": [
              "<Figure size 360x216 with 1 Axes>"
            ],
            "image/png": "[encoded data removed]"
          },
          "metadata": {
            "needs_background": "light"
          }
        }
      ]
    },
    {
      "cell_type": "code",
      "source": [
        "#train test 비교\n",
        "train['data'] = 'train'\n",
        "test['data'] = 'test'\n",
        "tmp = pd.concat([train,test]).reset_index(drop=True)\n",
        "for g in tmp.columns[tmp.columns.str.contains('SNP')].tolist()+['trait']:   \n",
        "    tmp.groupby([g])['data'].value_counts().unstack().plot.bar(figsize=(7,3));"
      ],
      "metadata": {
        "colab": {
          "base_uri": "https://localhost:8080/",
          "height": 1000
        },
        "id": "5z2X6ZWpWTwU",
        "outputId": "686af57a-36a4-4fb7-e3b9-98386466adba"
      },
      "execution_count": 11,
      "outputs": [
        {
          "output_type": "display_data",
          "data": {
            "text/plain": [
              "<Figure size 504x216 with 1 Axes>"
            ],
            "image/png": "[encoded data removed]"
          },
          "metadata": {
            "needs_background": "light"
          }
        },
        {
          "output_type": "display_data",
          "data": {
            "text/plain": [
              "<Figure size 504x216 with 1 Axes>"
            ],
            "image/png": "[encoded data removed]"
          },
          "metadata": {
            "needs_background": "light"
          }
        },
        {
          "output_type": "display_data",
          "data": {
            "text/plain": [
              "<Figure size 504x216 with 1 Axes>"
            ],
            "image/png": "[encoded data removed]"
          },
          "metadata": {
            "needs_background": "light"
          }
        },
        {
          "output_type": "display_data",
          "data": {
            "text/plain": [
              "<Figure size 504x216 with 1 Axes>"
            ],
            "image/png": "[encoded data removed]"
          },
          "metadata": {
            "needs_background": "light"
          }
        },
        {
          "output_type": "display_data",
          "data": {
            "text/plain": [
              "<Figure size 504x216 with 1 Axes>"
            ],
            "image/png": "[encoded data removed]"
          },
          "metadata": {
            "needs_background": "light"
          }
        },
        {
          "output_type": "display_data",
          "data": {
            "text/plain": [
              "<Figure size 504x216 with 1 Axes>"
            ],
            "image/png": "[encoded data removed]"
          },
          "metadata": {
            "needs_background": "light"
          }
        },
        {
          "output_type": "display_data",
          "data": {
            "text/plain": [
              "<Figure size 504x216 with 1 Axes>"
            ],
            "image/png": "[encoded data removed]"
          },
          "metadata": {
            "needs_background": "light"
          }
        },
        {
          "output_type": "display_data",
          "data": {
            "text/plain": [
              "<Figure size 504x216 with 1 Axes>"
            ],
            "image/png": "[encoded data removed]"
          },
          "metadata": {
            "needs_background": "light"
          }
        },
        {
          "output_type": "display_data",
          "data": {
            "text/plain": [
              "<Figure size 504x216 with 1 Axes>"
            ],
            "image/png": "[encoded data removed]"
          },
          "metadata": {
            "needs_background": "light"
          }
        },
        {
          "output_type": "display_data",
          "data": {
            "text/plain": [
              "<Figure size 504x216 with 1 Axes>"
            ],
            "image/png": "[encoded data removed]"
          },
          "metadata": {
            "needs_background": "light"
          }
        },
        {
          "output_type": "display_data",
          "data": {
            "text/plain": [
              "<Figure size 504x216 with 1 Axes>"
            ],
            "image/png": "[encoded data removed]"
          },
          "metadata": {
            "needs_background": "light"
          }
        },
        {
          "output_type": "display_data",
          "data": {
            "text/plain": [
              "<Figure size 504x216 with 1 Axes>"
            ],
            "image/png": "[encoded data removed]"
          },
          "metadata": {
            "needs_background": "light"
          }
        },
        {
          "output_type": "display_data",
          "data": {
            "text/plain": [
              "<Figure size 504x216 with 1 Axes>"
            ],
            "image/png": "[encoded data removed]"
          },
          "metadata": {
            "needs_background": "light"
          }
        },
        {
          "output_type": "display_data",
          "data": {
            "text/plain": [
              "<Figure size 504x216 with 1 Axes>"
            ],
            "image/png": "[encoded data removed]"
          },
          "metadata": {
            "needs_background": "light"
          }
        },
        {
          "output_type": "display_data",
          "data": {
            "text/plain": [
              "<Figure size 504x216 with 1 Axes>"
            ],
            "image/png": "[encoded data removed]"
          },
          "metadata": {
            "needs_background": "light"
          }
        },
        {
          "output_type": "display_data",
          "data": {
            "text/plain": [
              "<Figure size 504x216 with 1 Axes>"
            ],
            "image/png": "[encoded data removed]"
          },
          "metadata": {
            "needs_background": "light"
          }
        }
      ]
    },
    {
      "cell_type": "markdown",
      "source": [
        "## **3. 데이터 전처리**"
      ],
      "metadata": {
        "id": "V6rbL7TZyHCL"
      }
    },
    {
      "cell_type": "markdown",
      "source": [
        "### **(1) 변수결합 X**"
      ],
      "metadata": {
        "id": "H06asbPIuSP0"
      }
    },
    {
      "cell_type": "markdown",
      "source": [
        "### **Label-Encoding**"
      ],
      "metadata": {
        "id": "QBHCL1tJyM6I"
      }
    },
    {
      "cell_type": "code",
      "source": [
        "train_x, train_y = get_x_y(train)\n",
        "test_x = get_x_y(test)"
      ],
      "metadata": {
        "id": "lOcV9CBMucKY"
      },
      "execution_count": null,
      "outputs": []
    },
    {
      "cell_type": "code",
      "source": [
        "class_le = preprocessing.LabelEncoder()\n",
        "snp_le = preprocessing.LabelEncoder()\n",
        "snp_col = [f'SNP_{str(x).zfill(2)}' for x in range(1,16)] #zfill(2): 길이가 2가 되도록 숫자 앞에 0을 붙임"
      ],
      "metadata": {
        "id": "xjiDPicVyKMB"
      },
      "execution_count": null,
      "outputs": []
    },
    {
      "cell_type": "code",
      "source": [
        "snp_data = []\n",
        "for col in snp_col:\n",
        "    snp_data += list(train_x[col].values)"
      ],
      "metadata": {
        "id": "BTgL9oOhyLC8"
      },
      "execution_count": null,
      "outputs": []
    },
    {
      "cell_type": "code",
      "source": [
        "train_y = class_le.fit_transform(train_y)\n",
        "snp_le.fit(snp_data)"
      ],
      "metadata": {
        "colab": {
          "base_uri": "https://localhost:8080/"
        },
        "id": "q9dwAL0YyTA1",
        "outputId": "d85486a6-62e0-4ff7-bfdf-11a8ae0d6409"
      },
      "execution_count": null,
      "outputs": [
        {
          "output_type": "execute_result",
          "data": {
            "text/plain": [
              "LabelEncoder()"
            ]
          },
          "metadata": {},
          "execution_count": 47
        }
      ]
    },
    {
      "cell_type": "code",
      "source": [
        "for col in train_x.columns:\n",
        "    if col in snp_col:\n",
        "        train_x[col] = snp_le.transform(train_x[col])\n",
        "        test_x[col] = snp_le.transform(test_x[col])"
      ],
      "metadata": {
        "id": "lQKz536uyUvd"
      },
      "execution_count": null,
      "outputs": []
    },
    {
      "cell_type": "markdown",
      "source": [
        "### **(2) 변수 결합1 -분포기준**"
      ],
      "metadata": {
        "id": "vLUGLQIJmtu_"
      }
    },
    {
      "cell_type": "markdown",
      "source": [
        "* 결합기준 1) EDA 분포 비슷한 변수끼리\n",
        "  * (7,12,15)\n",
        "  * (4,6,11)\n",
        "  * (1,5)"
      ],
      "metadata": {
        "id": "Xam_1S-kobjD"
      }
    },
    {
      "cell_type": "code",
      "source": [
        "# 데이터셋 생성\n",
        "train_comb1 = train.copy()\n",
        "test_comb1 = test.copy()\n",
        "train_comb1.drop(['father', 'mother', 'gender'], axis=1, inplace=True) #의미없는 변수 드롭\n",
        "test_comb1.drop(['father', 'mother', 'gender'], axis=1, inplace=True)"
      ],
      "metadata": {
        "id": "GNzUFegDobo4"
      },
      "execution_count": 18,
      "outputs": []
    },
    {
      "cell_type": "code",
      "source": [
        "# 변수 결합1 -분포기준\n",
        "train_comb1[\"SNP_7_12_15\"] = (train['SNP_07'].astype(str)+ \"_\"+ train['SNP_12'].astype(str)+ \"_\"+ train['SNP_15'].astype(str))\n",
        "train_comb1.drop(['SNP_07', 'SNP_12', 'SNP_15'], axis=1, inplace=True)\n",
        "train_comb1[\"SNP_7_12_15\"].astype(object) #문자열을 범주형으로 형변환\n",
        "\n",
        "train_comb1[\"SNP_4_6_11\"] = (train['SNP_04'].astype(str)+ \"_\"+ train['SNP_06'].astype(str)+ \"_\"+ train['SNP_11'].astype(str))\n",
        "train_comb1.drop(['SNP_04', 'SNP_06', 'SNP_11'], axis=1, inplace=True)\n",
        "train_comb1[\"SNP_4_6_11\"].astype(object)\n",
        "\n",
        "train_comb1[\"SNP_1_5\"] = (train['SNP_01'].astype(str)+ \"_\"+ train['SNP_05'].astype(str))\n",
        "train_comb1.drop(['SNP_01', 'SNP_05'], axis=1, inplace=True)\n",
        "train_comb1[\"SNP_1_5\"].astype(object)\n",
        "\n",
        "test_comb1[\"SNP_7_12_15\"] = (test['SNP_07'].astype(str)+ \"_\"+ test['SNP_12'].astype(str)+ \"_\"+ test['SNP_15'].astype(str))\n",
        "test_comb1.drop(['SNP_07', 'SNP_12', 'SNP_15'], axis=1, inplace=True)\n",
        "test_comb1[\"SNP_7_12_15\"].astype(object)\n",
        "\n",
        "test_comb1[\"SNP_4_6_11\"] = (test['SNP_04'].astype(str)+ \"_\"+ test['SNP_06'].astype(str)+ \"_\"+ test['SNP_11'].astype(str))\n",
        "test_comb1.drop(['SNP_04', 'SNP_06', 'SNP_11'], axis=1, inplace=True)\n",
        "test_comb1[\"SNP_4_6_11\"].astype(object)\n",
        "\n",
        "test_comb1[\"SNP_1_5\"] = (test['SNP_01'].astype(str)+ \"_\"+ test['SNP_05'].astype(str))\n",
        "test_comb1.drop(['SNP_01', 'SNP_05'], axis=1, inplace=True)\n",
        "test_comb1[\"SNP_1_5\"].astype(object)\n",
        "\n",
        "train_comb1.head()"
      ],
      "metadata": {
        "colab": {
          "base_uri": "https://localhost:8080/",
          "height": 267
        },
        "id": "XZRE0BNzoxey",
        "outputId": "1cf122aa-1f60-484e-95df-05301890df4a"
      },
      "execution_count": 19,
      "outputs": [
        {
          "output_type": "execute_result",
          "data": {
            "text/plain": [
              "          id  trait SNP_02 SNP_03 SNP_08 SNP_09 SNP_10 SNP_13 SNP_14 class  \\\n",
              "0  TRAIN_000      2    A G    A A    G G    A A    G G    A A    A A     B   \n",
              "1  TRAIN_001      2    A G    C A    G A    A A    A G    G G    A A     C   \n",
              "2  TRAIN_002      2    G G    A A    G A    G A    A G    A A    A A     B   \n",
              "3  TRAIN_003      1    G G    A A    A A    G G    A G    G G    A A     A   \n",
              "4  TRAIN_004      2    G G    C C    A A    A A    G G    A G    A A     C   \n",
              "\n",
              "   SNP_7_12_15   SNP_4_6_11  SNP_1_5  \n",
              "0  A A_A A_A A  G A_A A_A G  G G_C A  \n",
              "1  A A_G A_A A  A A_A G_A A  A G_A A  \n",
              "2  A A_A A_A A  G A_G G_A A  G G_C C  \n",
              "3  G G_G G_G G  G A_G G_G G  A A_A A  \n",
              "4  A A_A A_G A  A A_A A_A A  G G_C C  "
            ],
            "text/html": [
              "\n",
              "  <div id=\"df-f7d9f50b-7390-4d4d-829c-d81e35bc27bc\">\n",
              "    <div class=\"colab-df-container\">\n",
              "      <div>\n",
              "<style scoped>\n",
              "    .dataframe tbody tr th:only-of-type {\n",
              "        vertical-align: middle;\n",
              "    }\n",
              "\n",
              "    .dataframe tbody tr th {\n",
              "        vertical-align: top;\n",
              "    }\n",
              "\n",
              "    .dataframe thead th {\n",
              "        text-align: right;\n",
              "    }\n",
              "</style>\n",
              "<table border=\"1\" class=\"dataframe\">\n",
              "  <thead>\n",
              "    <tr style=\"text-align: right;\">\n",
              "      <th></th>\n",
              "      <th>id</th>\n",
              "      <th>trait</th>\n",
              "      <th>SNP_02</th>\n",
              "      <th>SNP_03</th>\n",
              "      <th>SNP_08</th>\n",
              "      <th>SNP_09</th>\n",
              "      <th>SNP_10</th>\n",
              "      <th>SNP_13</th>\n",
              "      <th>SNP_14</th>\n",
              "      <th>class</th>\n",
              "      <th>SNP_7_12_15</th>\n",
              "      <th>SNP_4_6_11</th>\n",
              "      <th>SNP_1_5</th>\n",
              "    </tr>\n",
              "  </thead>\n",
              "  <tbody>\n",
              "    <tr>\n",
              "      <th>0</th>\n",
              "      <td>TRAIN_000</td>\n",
              "      <td>2</td>\n",
              "      <td>A G</td>\n",
              "      <td>A A</td>\n",
              "      <td>G G</td>\n",
              "      <td>A A</td>\n",
              "      <td>G G</td>\n",
              "      <td>A A</td>\n",
              "      <td>A A</td>\n",
              "      <td>B</td>\n",
              "      <td>A A_A A_A A</td>\n",
              "      <td>G A_A A_A G</td>\n",
              "      <td>G G_C A</td>\n",
              "    </tr>\n",
              "    <tr>\n",
              "      <th>1</th>\n",
              "      <td>TRAIN_001</td>\n",
              "      <td>2</td>\n",
              "      <td>A G</td>\n",
              "      <td>C A</td>\n",
              "      <td>G A</td>\n",
              "      <td>A A</td>\n",
              "      <td>A G</td>\n",
              "      <td>G G</td>\n",
              "      <td>A A</td>\n",
              "      <td>C</td>\n",
              "      <td>A A_G A_A A</td>\n",
              "      <td>A A_A G_A A</td>\n",
              "      <td>A G_A A</td>\n",
              "    </tr>\n",
              "    <tr>\n",
              "      <th>2</th>\n",
              "      <td>TRAIN_002</td>\n",
              "      <td>2</td>\n",
              "      <td>G G</td>\n",
              "      <td>A A</td>\n",
              "      <td>G A</td>\n",
              "      <td>G A</td>\n",
              "      <td>A G</td>\n",
              "      <td>A A</td>\n",
              "      <td>A A</td>\n",
              "      <td>B</td>\n",
              "      <td>A A_A A_A A</td>\n",
              "      <td>G A_G G_A A</td>\n",
              "      <td>G G_C C</td>\n",
              "    </tr>\n",
              "    <tr>\n",
              "      <th>3</th>\n",
              "      <td>TRAIN_003</td>\n",
              "      <td>1</td>\n",
              "      <td>G G</td>\n",
              "      <td>A A</td>\n",
              "      <td>A A</td>\n",
              "      <td>G G</td>\n",
              "      <td>A G</td>\n",
              "      <td>G G</td>\n",
              "      <td>A A</td>\n",
              "      <td>A</td>\n",
              "      <td>G G_G G_G G</td>\n",
              "      <td>G A_G G_G G</td>\n",
              "      <td>A A_A A</td>\n",
              "    </tr>\n",
              "    <tr>\n",
              "      <th>4</th>\n",
              "      <td>TRAIN_004</td>\n",
              "      <td>2</td>\n",
              "      <td>G G</td>\n",
              "      <td>C C</td>\n",
              "      <td>A A</td>\n",
              "      <td>A A</td>\n",
              "      <td>G G</td>\n",
              "      <td>A G</td>\n",
              "      <td>A A</td>\n",
              "      <td>C</td>\n",
              "      <td>A A_A A_G A</td>\n",
              "      <td>A A_A A_A A</td>\n",
              "      <td>G G_C C</td>\n",
              "    </tr>\n",
              "  </tbody>\n",
              "</table>\n",
              "</div>\n",
              "      <button class=\"colab-df-convert\" onclick=\"convertToInteractive('df-f7d9f50b-7390-4d4d-829c-d81e35bc27bc')\"\n",
              "              title=\"Convert this dataframe to an interactive table.\"\n",
              "              style=\"display:none;\">\n",
              "        \n",
              "  <svg xmlns=\"http://www.w3.org/2000/svg\" height=\"24px\"viewBox=\"0 0 24 24\"\n",
              "       width=\"24px\">\n",
              "    <path d=\"M0 0h24v24H0V0z\" fill=\"none\"/>\n",
              "    <path d=\"M18.56 5.44l.94 2.06.94-2.06 2.06-.94-2.06-.94-.94-2.06-.94 2.06-2.06.94zm-11 1L8.5 8.5l.94-2.06 2.06-.94-2.06-.94L8.5 2.5l-.94 2.06-2.06.94zm10 10l.94 2.06.94-2.06 2.06-.94-2.06-.94-.94-2.06-.94 2.06-2.06.94z\"/><path d=\"M17.41 7.96l-1.37-1.37c-.4-.4-.92-.59-1.43-.59-.52 0-1.04.2-1.43.59L10.3 9.45l-7.72 7.72c-.78.78-.78 2.05 0 2.83L4 21.41c.39.39.9.59 1.41.59.51 0 1.02-.2 1.41-.59l7.78-7.78 2.81-2.81c.8-.78.8-2.07 0-2.86zM5.41 20L4 18.59l7.72-7.72 1.47 1.35L5.41 20z\"/>\n",
              "  </svg>\n",
              "      </button>\n",
              "      \n",
              "  <style>\n",
              "    .colab-df-container {\n",
              "      display:flex;\n",
              "      flex-wrap:wrap;\n",
              "      gap: 12px;\n",
              "    }\n",
              "\n",
              "    .colab-df-convert {\n",
              "      background-color: #E8F0FE;\n",
              "      border: none;\n",
              "      border-radius: 50%;\n",
              "      cursor: pointer;\n",
              "      display: none;\n",
              "      fill: #1967D2;\n",
              "      height: 32px;\n",
              "      padding: 0 0 0 0;\n",
              "      width: 32px;\n",
              "    }\n",
              "\n",
              "    .colab-df-convert:hover {\n",
              "      background-color: #E2EBFA;\n",
              "      box-shadow: 0px 1px 2px rgba(60, 64, 67, 0.3), 0px 1px 3px 1px rgba(60, 64, 67, 0.15);\n",
              "      fill: #174EA6;\n",
              "    }\n",
              "\n",
              "    [theme=dark] .colab-df-convert {\n",
              "      background-color: #3B4455;\n",
              "      fill: #D2E3FC;\n",
              "    }\n",
              "\n",
              "    [theme=dark] .colab-df-convert:hover {\n",
              "      background-color: #434B5C;\n",
              "      box-shadow: 0px 1px 3px 1px rgba(0, 0, 0, 0.15);\n",
              "      filter: drop-shadow(0px 1px 2px rgba(0, 0, 0, 0.3));\n",
              "      fill: #FFFFFF;\n",
              "    }\n",
              "  </style>\n",
              "\n",
              "      <script>\n",
              "        const buttonEl =\n",
              "          document.querySelector('#df-f7d9f50b-7390-4d4d-829c-d81e35bc27bc button.colab-df-convert');\n",
              "        buttonEl.style.display =\n",
              "          google.colab.kernel.accessAllowed ? 'block' : 'none';\n",
              "\n",
              "        async function convertToInteractive(key) {\n",
              "          const element = document.querySelector('#df-f7d9f50b-7390-4d4d-829c-d81e35bc27bc');\n",
              "          const dataTable =\n",
              "            await google.colab.kernel.invokeFunction('convertToInteractive',\n",
              "                                                     [key], {});\n",
              "          if (!dataTable) return;\n",
              "\n",
              "          const docLinkHtml = 'Like what you see? Visit the ' +\n",
              "            '<a target=\"_blank\" href=https://colab.research.google.com/notebooks/data_table.ipynb>data table notebook</a>'\n",
              "            + ' to learn more about interactive tables.';\n",
              "          element.innerHTML = '';\n",
              "          dataTable['output_type'] = 'display_data';\n",
              "          await google.colab.output.renderOutput(dataTable, element);\n",
              "          const docLink = document.createElement('div');\n",
              "          docLink.innerHTML = docLinkHtml;\n",
              "          element.appendChild(docLink);\n",
              "        }\n",
              "      </script>\n",
              "    </div>\n",
              "  </div>\n",
              "  "
            ]
          },
          "metadata": {},
          "execution_count": 19
        }
      ]
    },
    {
      "cell_type": "code",
      "source": [
        "train_comb1.isnull().sum() #결측치없음"
      ],
      "metadata": {
        "colab": {
          "base_uri": "https://localhost:8080/"
        },
        "id": "AsLJF6mxpUXS",
        "outputId": "69ee4fd4-315d-4c31-9c58-1602bfb63291"
      },
      "execution_count": 20,
      "outputs": [
        {
          "output_type": "execute_result",
          "data": {
            "text/plain": [
              "id             0\n",
              "trait          0\n",
              "SNP_02         0\n",
              "SNP_03         0\n",
              "SNP_08         0\n",
              "SNP_09         0\n",
              "SNP_10         0\n",
              "SNP_13         0\n",
              "SNP_14         0\n",
              "class          0\n",
              "SNP_7_12_15    0\n",
              "SNP_4_6_11     0\n",
              "SNP_1_5        0\n",
              "dtype: int64"
            ]
          },
          "metadata": {},
          "execution_count": 20
        }
      ]
    },
    {
      "cell_type": "code",
      "source": [
        "# train, test 비교\n",
        "train_a = set(list(train_comb1['SNP_7_12_15'].values))\n",
        "test_a = set(list(test_comb1['SNP_7_12_15'].values))\n",
        "print(test_a - train_a)\n",
        "print(train_a - test_a)\n",
        "\n",
        "train_b = set(list(train_comb1['SNP_4_6_11'].values))\n",
        "test_b = set(list(test_comb1['SNP_4_6_11'].values))\n",
        "print(test_b - train_b)\n",
        "print(train_b - test_b)\n",
        "\n",
        "train_c = set(list(train_comb1['SNP_1_5'].values))\n",
        "test_c = set(list(test_comb1['SNP_1_5'].values))\n",
        "print(test_c - train_c)\n",
        "print(train_c - test_c)\n",
        "\n",
        "## test와 train의 구성이 다르다.\n",
        "## 따라서 인코딩할때 따로해야함."
      ],
      "metadata": {
        "colab": {
          "base_uri": "https://localhost:8080/"
        },
        "id": "NWgyC54Ppttd",
        "outputId": "e4bba8a8-c0fd-41db-8e86-84d83a332507"
      },
      "execution_count": 36,
      "outputs": [
        {
          "output_type": "stream",
          "name": "stdout",
          "text": [
            "set()\n",
            "{'A A_G G_A A', 'G G_A A_G G', 'G A_G G_A A', 'G G_G A_A A', 'A A_G G_G A'}\n",
            "set()\n",
            "{'G G_A A_A A', 'A A_G G_A A', 'G A_G G_A A'}\n",
            "{'A A_C C'}\n",
            "set()\n"
          ]
        }
      ]
    },
    {
      "cell_type": "markdown",
      "source": [
        "### **Label Encoding**"
      ],
      "metadata": {
        "id": "KRGikGjlptlC"
      }
    },
    {
      "cell_type": "code",
      "source": [
        "train_x_c1, train_y_c1 = get_x_y(train_comb1)\n",
        "test_x_c1 = get_x_y(test_comb1)"
      ],
      "metadata": {
        "id": "gEUawgg-qxbx"
      },
      "execution_count": 28,
      "outputs": []
    },
    {
      "cell_type": "code",
      "source": [
        "class_le = preprocessing.LabelEncoder()\n",
        "snp_le_train = preprocessing.LabelEncoder()\n",
        "snp_le_test = preprocessing.LabelEncoder()\n",
        "snp_col = ['SNP_02','SNP_03','SNP_08',\n",
        "           'SNP_09','SNP_10','SNP_13','SNP_14',\n",
        "           'SNP_7_12_15', 'SNP_4_6_11', 'SNP_1_5']\n",
        "     \n",
        "snp_data_train = []\n",
        "for col in snp_col:\n",
        "    snp_data_train += list(train_x_c1[col].values)\n",
        "snp_data_test = []\n",
        "for col in snp_col:\n",
        "    snp_data_test += list(test_x_c1[col].values)\n",
        "\n",
        "train_y_c1 = class_le.fit_transform(train_y_c1)\n",
        "snp_le_train.fit(snp_data_train)\n",
        "snp_le_test.fit(snp_data_test)\n",
        "\n",
        "for col in train_x_c1.columns:\n",
        "    if col in snp_col:\n",
        "        train_x_c1[col] = snp_le_train.transform(train_x_c1[col])\n",
        "for col in test_x_c1.columns:\n",
        "    if col in snp_col:\n",
        "        test_x_c1[col] = snp_le_test.transform(test_x_c1[col])"
      ],
      "metadata": {
        "id": "LXhxeoSZpmii"
      },
      "execution_count": 29,
      "outputs": []
    },
    {
      "cell_type": "markdown",
      "source": [
        "### **(3) 변수 결합2 -이름기준** "
      ],
      "metadata": {
        "id": "3Sq0tI3SrUsV"
      }
    },
    {
      "cell_type": "markdown",
      "source": [
        "* 결합기준 2) 이름 비슷한 변수끼리\n",
        "  * BovineHD (5,6,8) \n",
        "  * ARS-BFGL-NGS (3,4,9,11)\n",
        "  * Hapmap (7,12,14)\n"
      ],
      "metadata": {
        "id": "po4WliR0n4Jq"
      }
    },
    {
      "cell_type": "code",
      "source": [
        "info"
      ],
      "metadata": {
        "colab": {
          "base_uri": "https://localhost:8080/",
          "height": 519
        },
        "id": "J6MNNxrfmt7F",
        "outputId": "41f6c4b4-64f2-4e17-a5ee-3816dd1bd561"
      },
      "execution_count": 14,
      "outputs": [
        {
          "output_type": "execute_result",
          "data": {
            "text/plain": [
              "    SNP_id                                   name  chrom        cm       pos\n",
              "0   SNP_01                        BTA-19852-no-rs      2  67.05460  42986890\n",
              "1   SNP_02  ARS-USMARC-Parent-DQ647190-rs29013632      6  31.15670  13897068\n",
              "2   SNP_03                    ARS-BFGL-NGS-117009      6  68.28920  44649549\n",
              "3   SNP_04                     ARS-BFGL-NGS-60567      6  77.87490  53826064\n",
              "4   SNP_05                     BovineHD0600017032      6  80.50150  61779512\n",
              "5   SNP_06                     BovineHD0600017424      6  80.59540  63048481\n",
              "6   SNP_07                 Hapmap49442-BTA-111073      6  80.78000  64037334\n",
              "7   SNP_08                     BovineHD0600018638      6  82.68560  67510588\n",
              "8   SNP_09                     ARS-BFGL-NGS-37727      6  86.87400  73092782\n",
              "9   SNP_10                           BTB-01558306      7  62.06920  40827112\n",
              "10  SNP_11                     ARS-BFGL-NGS-44247      8  97.17310  92485682\n",
              "11  SNP_12                 Hapmap32827-BTA-146530      9  62.74630  55007839\n",
              "12  SNP_13                           BTB-00395482      9  63.41810  59692848\n",
              "13  SNP_14                  Hapmap40256-BTA-84189      9  66.81970  72822507\n",
              "14  SNP_15                     BovineHD1000000224     10   1.78774    814291"
            ],
            "text/html": [
              "\n",
              "  <div id=\"df-fd84180c-ad19-476b-ab49-9a82160d4b73\">\n",
              "    <div class=\"colab-df-container\">\n",
              "      <div>\n",
              "<style scoped>\n",
              "    .dataframe tbody tr th:only-of-type {\n",
              "        vertical-align: middle;\n",
              "    }\n",
              "\n",
              "    .dataframe tbody tr th {\n",
              "        vertical-align: top;\n",
              "    }\n",
              "\n",
              "    .dataframe thead th {\n",
              "        text-align: right;\n",
              "    }\n",
              "</style>\n",
              "<table border=\"1\" class=\"dataframe\">\n",
              "  <thead>\n",
              "    <tr style=\"text-align: right;\">\n",
              "      <th></th>\n",
              "      <th>SNP_id</th>\n",
              "      <th>name</th>\n",
              "      <th>chrom</th>\n",
              "      <th>cm</th>\n",
              "      <th>pos</th>\n",
              "    </tr>\n",
              "  </thead>\n",
              "  <tbody>\n",
              "    <tr>\n",
              "      <th>0</th>\n",
              "      <td>SNP_01</td>\n",
              "      <td>BTA-19852-no-rs</td>\n",
              "      <td>2</td>\n",
              "      <td>67.05460</td>\n",
              "      <td>42986890</td>\n",
              "    </tr>\n",
              "    <tr>\n",
              "      <th>1</th>\n",
              "      <td>SNP_02</td>\n",
              "      <td>ARS-USMARC-Parent-DQ647190-rs29013632</td>\n",
              "      <td>6</td>\n",
              "      <td>31.15670</td>\n",
              "      <td>13897068</td>\n",
              "    </tr>\n",
              "    <tr>\n",
              "      <th>2</th>\n",
              "      <td>SNP_03</td>\n",
              "      <td>ARS-BFGL-NGS-117009</td>\n",
              "      <td>6</td>\n",
              "      <td>68.28920</td>\n",
              "      <td>44649549</td>\n",
              "    </tr>\n",
              "    <tr>\n",
              "      <th>3</th>\n",
              "      <td>SNP_04</td>\n",
              "      <td>ARS-BFGL-NGS-60567</td>\n",
              "      <td>6</td>\n",
              "      <td>77.87490</td>\n",
              "      <td>53826064</td>\n",
              "    </tr>\n",
              "    <tr>\n",
              "      <th>4</th>\n",
              "      <td>SNP_05</td>\n",
              "      <td>BovineHD0600017032</td>\n",
              "      <td>6</td>\n",
              "      <td>80.50150</td>\n",
              "      <td>61779512</td>\n",
              "    </tr>\n",
              "    <tr>\n",
              "      <th>5</th>\n",
              "      <td>SNP_06</td>\n",
              "      <td>BovineHD0600017424</td>\n",
              "      <td>6</td>\n",
              "      <td>80.59540</td>\n",
              "      <td>63048481</td>\n",
              "    </tr>\n",
              "    <tr>\n",
              "      <th>6</th>\n",
              "      <td>SNP_07</td>\n",
              "      <td>Hapmap49442-BTA-111073</td>\n",
              "      <td>6</td>\n",
              "      <td>80.78000</td>\n",
              "      <td>64037334</td>\n",
              "    </tr>\n",
              "    <tr>\n",
              "      <th>7</th>\n",
              "      <td>SNP_08</td>\n",
              "      <td>BovineHD0600018638</td>\n",
              "      <td>6</td>\n",
              "      <td>82.68560</td>\n",
              "      <td>67510588</td>\n",
              "    </tr>\n",
              "    <tr>\n",
              "      <th>8</th>\n",
              "      <td>SNP_09</td>\n",
              "      <td>ARS-BFGL-NGS-37727</td>\n",
              "      <td>6</td>\n",
              "      <td>86.87400</td>\n",
              "      <td>73092782</td>\n",
              "    </tr>\n",
              "    <tr>\n",
              "      <th>9</th>\n",
              "      <td>SNP_10</td>\n",
              "      <td>BTB-01558306</td>\n",
              "      <td>7</td>\n",
              "      <td>62.06920</td>\n",
              "      <td>40827112</td>\n",
              "    </tr>\n",
              "    <tr>\n",
              "      <th>10</th>\n",
              "      <td>SNP_11</td>\n",
              "      <td>ARS-BFGL-NGS-44247</td>\n",
              "      <td>8</td>\n",
              "      <td>97.17310</td>\n",
              "      <td>92485682</td>\n",
              "    </tr>\n",
              "    <tr>\n",
              "      <th>11</th>\n",
              "      <td>SNP_12</td>\n",
              "      <td>Hapmap32827-BTA-146530</td>\n",
              "      <td>9</td>\n",
              "      <td>62.74630</td>\n",
              "      <td>55007839</td>\n",
              "    </tr>\n",
              "    <tr>\n",
              "      <th>12</th>\n",
              "      <td>SNP_13</td>\n",
              "      <td>BTB-00395482</td>\n",
              "      <td>9</td>\n",
              "      <td>63.41810</td>\n",
              "      <td>59692848</td>\n",
              "    </tr>\n",
              "    <tr>\n",
              "      <th>13</th>\n",
              "      <td>SNP_14</td>\n",
              "      <td>Hapmap40256-BTA-84189</td>\n",
              "      <td>9</td>\n",
              "      <td>66.81970</td>\n",
              "      <td>72822507</td>\n",
              "    </tr>\n",
              "    <tr>\n",
              "      <th>14</th>\n",
              "      <td>SNP_15</td>\n",
              "      <td>BovineHD1000000224</td>\n",
              "      <td>10</td>\n",
              "      <td>1.78774</td>\n",
              "      <td>814291</td>\n",
              "    </tr>\n",
              "  </tbody>\n",
              "</table>\n",
              "</div>\n",
              "      <button class=\"colab-df-convert\" onclick=\"convertToInteractive('df-fd84180c-ad19-476b-ab49-9a82160d4b73')\"\n",
              "              title=\"Convert this dataframe to an interactive table.\"\n",
              "              style=\"display:none;\">\n",
              "        \n",
              "  <svg xmlns=\"http://www.w3.org/2000/svg\" height=\"24px\"viewBox=\"0 0 24 24\"\n",
              "       width=\"24px\">\n",
              "    <path d=\"M0 0h24v24H0V0z\" fill=\"none\"/>\n",
              "    <path d=\"M18.56 5.44l.94 2.06.94-2.06 2.06-.94-2.06-.94-.94-2.06-.94 2.06-2.06.94zm-11 1L8.5 8.5l.94-2.06 2.06-.94-2.06-.94L8.5 2.5l-.94 2.06-2.06.94zm10 10l.94 2.06.94-2.06 2.06-.94-2.06-.94-.94-2.06-.94 2.06-2.06.94z\"/><path d=\"M17.41 7.96l-1.37-1.37c-.4-.4-.92-.59-1.43-.59-.52 0-1.04.2-1.43.59L10.3 9.45l-7.72 7.72c-.78.78-.78 2.05 0 2.83L4 21.41c.39.39.9.59 1.41.59.51 0 1.02-.2 1.41-.59l7.78-7.78 2.81-2.81c.8-.78.8-2.07 0-2.86zM5.41 20L4 18.59l7.72-7.72 1.47 1.35L5.41 20z\"/>\n",
              "  </svg>\n",
              "      </button>\n",
              "      \n",
              "  <style>\n",
              "    .colab-df-container {\n",
              "      display:flex;\n",
              "      flex-wrap:wrap;\n",
              "      gap: 12px;\n",
              "    }\n",
              "\n",
              "    .colab-df-convert {\n",
              "      background-color: #E8F0FE;\n",
              "      border: none;\n",
              "      border-radius: 50%;\n",
              "      cursor: pointer;\n",
              "      display: none;\n",
              "      fill: #1967D2;\n",
              "      height: 32px;\n",
              "      padding: 0 0 0 0;\n",
              "      width: 32px;\n",
              "    }\n",
              "\n",
              "    .colab-df-convert:hover {\n",
              "      background-color: #E2EBFA;\n",
              "      box-shadow: 0px 1px 2px rgba(60, 64, 67, 0.3), 0px 1px 3px 1px rgba(60, 64, 67, 0.15);\n",
              "      fill: #174EA6;\n",
              "    }\n",
              "\n",
              "    [theme=dark] .colab-df-convert {\n",
              "      background-color: #3B4455;\n",
              "      fill: #D2E3FC;\n",
              "    }\n",
              "\n",
              "    [theme=dark] .colab-df-convert:hover {\n",
              "      background-color: #434B5C;\n",
              "      box-shadow: 0px 1px 3px 1px rgba(0, 0, 0, 0.15);\n",
              "      filter: drop-shadow(0px 1px 2px rgba(0, 0, 0, 0.3));\n",
              "      fill: #FFFFFF;\n",
              "    }\n",
              "  </style>\n",
              "\n",
              "      <script>\n",
              "        const buttonEl =\n",
              "          document.querySelector('#df-fd84180c-ad19-476b-ab49-9a82160d4b73 button.colab-df-convert');\n",
              "        buttonEl.style.display =\n",
              "          google.colab.kernel.accessAllowed ? 'block' : 'none';\n",
              "\n",
              "        async function convertToInteractive(key) {\n",
              "          const element = document.querySelector('#df-fd84180c-ad19-476b-ab49-9a82160d4b73');\n",
              "          const dataTable =\n",
              "            await google.colab.kernel.invokeFunction('convertToInteractive',\n",
              "                                                     [key], {});\n",
              "          if (!dataTable) return;\n",
              "\n",
              "          const docLinkHtml = 'Like what you see? Visit the ' +\n",
              "            '<a target=\"_blank\" href=https://colab.research.google.com/notebooks/data_table.ipynb>data table notebook</a>'\n",
              "            + ' to learn more about interactive tables.';\n",
              "          element.innerHTML = '';\n",
              "          dataTable['output_type'] = 'display_data';\n",
              "          await google.colab.output.renderOutput(dataTable, element);\n",
              "          const docLink = document.createElement('div');\n",
              "          docLink.innerHTML = docLinkHtml;\n",
              "          element.appendChild(docLink);\n",
              "        }\n",
              "      </script>\n",
              "    </div>\n",
              "  </div>\n",
              "  "
            ]
          },
          "metadata": {},
          "execution_count": 14
        }
      ]
    },
    {
      "cell_type": "code",
      "source": [
        "# 데이터셋 생성\n",
        "train_comb2 = train.copy()\n",
        "test_comb2 = test.copy()\n",
        "train_comb2.drop(['father', 'mother', 'gender'], axis=1, inplace=True) #의미없는 변수 드롭\n",
        "test_comb2.drop(['father', 'mother', 'gender'], axis=1, inplace=True)"
      ],
      "metadata": {
        "id": "lVn9A72nrhzR"
      },
      "execution_count": 32,
      "outputs": []
    },
    {
      "cell_type": "code",
      "source": [
        "# 변수 결합2 -이름기준\n",
        "train_comb2[\"SNP_5_6_8\"] = (train['SNP_05'].astype(str)+ \"_\"+ train['SNP_06'].astype(str)+ \"_\"+ train['SNP_08'].astype(str))\n",
        "train_comb2.drop(['SNP_05', 'SNP_06', 'SNP_08'], axis=1, inplace=True)\n",
        "train_comb2[\"SNP_5_6_8\"].astype(object) #문자열을 범주형변수로 변환\n",
        "\n",
        "train_comb2[\"SNP_3_4_9_11\"] = (train['SNP_03'].astype(str)+ \"_\"+ train['SNP_04'].astype(str)+ \"_\"+ train['SNP_09'].astype(str)+ \"_\"+ train['SNP_11'].astype(str))\n",
        "train_comb2.drop(['SNP_03', 'SNP_04', 'SNP_09', 'SNP_11'], axis=1, inplace=True)\n",
        "train_comb2[\"SNP_3_4_9_11\"].astype(object)\n",
        "\n",
        "train_comb2[\"SNP_7_12_14\"] = (train['SNP_07'].astype(str)+ \"_\"+ train['SNP_12'].astype(str)+ \"_\"+ train['SNP_14'].astype(str))\n",
        "train_comb2.drop(['SNP_07', 'SNP_12', 'SNP_14'], axis=1, inplace=True)\n",
        "train_comb2[\"SNP_7_12_14\"].astype(object)\n",
        "\n",
        "test_comb2[\"SNP_5_6_8\"] = (train['SNP_05'].astype(str)+ \"_\"+ train['SNP_06'].astype(str)+ \"_\"+ train['SNP_08'].astype(str))\n",
        "test_comb2.drop(['SNP_05', 'SNP_06', 'SNP_08'], axis=1, inplace=True)\n",
        "test_comb2[\"SNP_5_6_8\"].astype(object) #문자열을 범주형변수로 변환\n",
        "\n",
        "test_comb2[\"SNP_3_4_9_11\"] = (train['SNP_03'].astype(str)+ \"_\"+ train['SNP_04'].astype(str)+ \"_\"+ train['SNP_09'].astype(str)+ \"_\"+ train['SNP_11'].astype(str))\n",
        "test_comb2.drop(['SNP_03', 'SNP_04', 'SNP_09', 'SNP_11'], axis=1, inplace=True)\n",
        "test_comb2[\"SNP_3_4_9_11\"].astype(object)\n",
        "\n",
        "test_comb2[\"SNP_7_12_14\"] = (train['SNP_07'].astype(str)+ \"_\"+ train['SNP_12'].astype(str)+ \"_\"+ train['SNP_14'].astype(str))\n",
        "test_comb2.drop(['SNP_07', 'SNP_12', 'SNP_14'], axis=1, inplace=True)\n",
        "test_comb2[\"SNP_7_12_14\"].astype(object)\n",
        "\n",
        "train_comb2.head()"
      ],
      "metadata": {
        "colab": {
          "base_uri": "https://localhost:8080/",
          "height": 206
        },
        "outputId": "97473646-0c9f-4b25-d987-913fed018870",
        "id": "ymkyMOjErhzg"
      },
      "execution_count": 34,
      "outputs": [
        {
          "output_type": "execute_result",
          "data": {
            "text/plain": [
              "          id  trait SNP_01 SNP_02 SNP_10 SNP_13 SNP_15 class    SNP_5_6_8  \\\n",
              "0  TRAIN_000      2    G G    A G    G G    A A    A A     B  C A_A A_G G   \n",
              "1  TRAIN_001      2    A G    A G    A G    G G    A A     C  A A_A G_G A   \n",
              "2  TRAIN_002      2    G G    G G    A G    A A    A A     B  C C_G G_G A   \n",
              "3  TRAIN_003      1    A A    G G    A G    G G    G G     A  A A_G G_A A   \n",
              "4  TRAIN_004      2    G G    G G    G G    A G    G A     C  C C_A A_A A   \n",
              "\n",
              "      SNP_3_4_9_11  SNP_7_12_14  \n",
              "0  A A_G A_A A_A G  A A_A A_A A  \n",
              "1  C A_A A_A A_A A  A A_G A_A A  \n",
              "2  A A_G A_G A_A A  A A_A A_A A  \n",
              "3  A A_G A_G G_G G  G G_G G_A A  \n",
              "4  C C_A A_A A_A A  A A_A A_A A  "
            ],
            "text/html": [
              "\n",
              "  <div id=\"df-af0a880a-3699-4111-bb29-17bb01b9c8b2\">\n",
              "    <div class=\"colab-df-container\">\n",
              "      <div>\n",
              "<style scoped>\n",
              "    .dataframe tbody tr th:only-of-type {\n",
              "        vertical-align: middle;\n",
              "    }\n",
              "\n",
              "    .dataframe tbody tr th {\n",
              "        vertical-align: top;\n",
              "    }\n",
              "\n",
              "    .dataframe thead th {\n",
              "        text-align: right;\n",
              "    }\n",
              "</style>\n",
              "<table border=\"1\" class=\"dataframe\">\n",
              "  <thead>\n",
              "    <tr style=\"text-align: right;\">\n",
              "      <th></th>\n",
              "      <th>id</th>\n",
              "      <th>trait</th>\n",
              "      <th>SNP_01</th>\n",
              "      <th>SNP_02</th>\n",
              "      <th>SNP_10</th>\n",
              "      <th>SNP_13</th>\n",
              "      <th>SNP_15</th>\n",
              "      <th>class</th>\n",
              "      <th>SNP_5_6_8</th>\n",
              "      <th>SNP_3_4_9_11</th>\n",
              "      <th>SNP_7_12_14</th>\n",
              "    </tr>\n",
              "  </thead>\n",
              "  <tbody>\n",
              "    <tr>\n",
              "      <th>0</th>\n",
              "      <td>TRAIN_000</td>\n",
              "      <td>2</td>\n",
              "      <td>G G</td>\n",
              "      <td>A G</td>\n",
              "      <td>G G</td>\n",
              "      <td>A A</td>\n",
              "      <td>A A</td>\n",
              "      <td>B</td>\n",
              "      <td>C A_A A_G G</td>\n",
              "      <td>A A_G A_A A_A G</td>\n",
              "      <td>A A_A A_A A</td>\n",
              "    </tr>\n",
              "    <tr>\n",
              "      <th>1</th>\n",
              "      <td>TRAIN_001</td>\n",
              "      <td>2</td>\n",
              "      <td>A G</td>\n",
              "      <td>A G</td>\n",
              "      <td>A G</td>\n",
              "      <td>G G</td>\n",
              "      <td>A A</td>\n",
              "      <td>C</td>\n",
              "      <td>A A_A G_G A</td>\n",
              "      <td>C A_A A_A A_A A</td>\n",
              "      <td>A A_G A_A A</td>\n",
              "    </tr>\n",
              "    <tr>\n",
              "      <th>2</th>\n",
              "      <td>TRAIN_002</td>\n",
              "      <td>2</td>\n",
              "      <td>G G</td>\n",
              "      <td>G G</td>\n",
              "      <td>A G</td>\n",
              "      <td>A A</td>\n",
              "      <td>A A</td>\n",
              "      <td>B</td>\n",
              "      <td>C C_G G_G A</td>\n",
              "      <td>A A_G A_G A_A A</td>\n",
              "      <td>A A_A A_A A</td>\n",
              "    </tr>\n",
              "    <tr>\n",
              "      <th>3</th>\n",
              "      <td>TRAIN_003</td>\n",
              "      <td>1</td>\n",
              "      <td>A A</td>\n",
              "      <td>G G</td>\n",
              "      <td>A G</td>\n",
              "      <td>G G</td>\n",
              "      <td>G G</td>\n",
              "      <td>A</td>\n",
              "      <td>A A_G G_A A</td>\n",
              "      <td>A A_G A_G G_G G</td>\n",
              "      <td>G G_G G_A A</td>\n",
              "    </tr>\n",
              "    <tr>\n",
              "      <th>4</th>\n",
              "      <td>TRAIN_004</td>\n",
              "      <td>2</td>\n",
              "      <td>G G</td>\n",
              "      <td>G G</td>\n",
              "      <td>G G</td>\n",
              "      <td>A G</td>\n",
              "      <td>G A</td>\n",
              "      <td>C</td>\n",
              "      <td>C C_A A_A A</td>\n",
              "      <td>C C_A A_A A_A A</td>\n",
              "      <td>A A_A A_A A</td>\n",
              "    </tr>\n",
              "  </tbody>\n",
              "</table>\n",
              "</div>\n",
              "      <button class=\"colab-df-convert\" onclick=\"convertToInteractive('df-af0a880a-3699-4111-bb29-17bb01b9c8b2')\"\n",
              "              title=\"Convert this dataframe to an interactive table.\"\n",
              "              style=\"display:none;\">\n",
              "        \n",
              "  <svg xmlns=\"http://www.w3.org/2000/svg\" height=\"24px\"viewBox=\"0 0 24 24\"\n",
              "       width=\"24px\">\n",
              "    <path d=\"M0 0h24v24H0V0z\" fill=\"none\"/>\n",
              "    <path d=\"M18.56 5.44l.94 2.06.94-2.06 2.06-.94-2.06-.94-.94-2.06-.94 2.06-2.06.94zm-11 1L8.5 8.5l.94-2.06 2.06-.94-2.06-.94L8.5 2.5l-.94 2.06-2.06.94zm10 10l.94 2.06.94-2.06 2.06-.94-2.06-.94-.94-2.06-.94 2.06-2.06.94z\"/><path d=\"M17.41 7.96l-1.37-1.37c-.4-.4-.92-.59-1.43-.59-.52 0-1.04.2-1.43.59L10.3 9.45l-7.72 7.72c-.78.78-.78 2.05 0 2.83L4 21.41c.39.39.9.59 1.41.59.51 0 1.02-.2 1.41-.59l7.78-7.78 2.81-2.81c.8-.78.8-2.07 0-2.86zM5.41 20L4 18.59l7.72-7.72 1.47 1.35L5.41 20z\"/>\n",
              "  </svg>\n",
              "      </button>\n",
              "      \n",
              "  <style>\n",
              "    .colab-df-container {\n",
              "      display:flex;\n",
              "      flex-wrap:wrap;\n",
              "      gap: 12px;\n",
              "    }\n",
              "\n",
              "    .colab-df-convert {\n",
              "      background-color: #E8F0FE;\n",
              "      border: none;\n",
              "      border-radius: 50%;\n",
              "      cursor: pointer;\n",
              "      display: none;\n",
              "      fill: #1967D2;\n",
              "      height: 32px;\n",
              "      padding: 0 0 0 0;\n",
              "      width: 32px;\n",
              "    }\n",
              "\n",
              "    .colab-df-convert:hover {\n",
              "      background-color: #E2EBFA;\n",
              "      box-shadow: 0px 1px 2px rgba(60, 64, 67, 0.3), 0px 1px 3px 1px rgba(60, 64, 67, 0.15);\n",
              "      fill: #174EA6;\n",
              "    }\n",
              "\n",
              "    [theme=dark] .colab-df-convert {\n",
              "      background-color: #3B4455;\n",
              "      fill: #D2E3FC;\n",
              "    }\n",
              "\n",
              "    [theme=dark] .colab-df-convert:hover {\n",
              "      background-color: #434B5C;\n",
              "      box-shadow: 0px 1px 3px 1px rgba(0, 0, 0, 0.15);\n",
              "      filter: drop-shadow(0px 1px 2px rgba(0, 0, 0, 0.3));\n",
              "      fill: #FFFFFF;\n",
              "    }\n",
              "  </style>\n",
              "\n",
              "      <script>\n",
              "        const buttonEl =\n",
              "          document.querySelector('#df-af0a880a-3699-4111-bb29-17bb01b9c8b2 button.colab-df-convert');\n",
              "        buttonEl.style.display =\n",
              "          google.colab.kernel.accessAllowed ? 'block' : 'none';\n",
              "\n",
              "        async function convertToInteractive(key) {\n",
              "          const element = document.querySelector('#df-af0a880a-3699-4111-bb29-17bb01b9c8b2');\n",
              "          const dataTable =\n",
              "            await google.colab.kernel.invokeFunction('convertToInteractive',\n",
              "                                                     [key], {});\n",
              "          if (!dataTable) return;\n",
              "\n",
              "          const docLinkHtml = 'Like what you see? Visit the ' +\n",
              "            '<a target=\"_blank\" href=https://colab.research.google.com/notebooks/data_table.ipynb>data table notebook</a>'\n",
              "            + ' to learn more about interactive tables.';\n",
              "          element.innerHTML = '';\n",
              "          dataTable['output_type'] = 'display_data';\n",
              "          await google.colab.output.renderOutput(dataTable, element);\n",
              "          const docLink = document.createElement('div');\n",
              "          docLink.innerHTML = docLinkHtml;\n",
              "          element.appendChild(docLink);\n",
              "        }\n",
              "      </script>\n",
              "    </div>\n",
              "  </div>\n",
              "  "
            ]
          },
          "metadata": {},
          "execution_count": 34
        }
      ]
    },
    {
      "cell_type": "code",
      "source": [
        "train_comb2.isnull().sum() #결측치없음"
      ],
      "metadata": {
        "colab": {
          "base_uri": "https://localhost:8080/"
        },
        "outputId": "4e57d620-cfb6-4cca-ce73-8b27aae415a4",
        "id": "8rTRHGa5rhzi"
      },
      "execution_count": 35,
      "outputs": [
        {
          "output_type": "execute_result",
          "data": {
            "text/plain": [
              "id              0\n",
              "trait           0\n",
              "SNP_01          0\n",
              "SNP_02          0\n",
              "SNP_10          0\n",
              "SNP_13          0\n",
              "SNP_15          0\n",
              "class           0\n",
              "SNP_5_6_8       0\n",
              "SNP_3_4_9_11    0\n",
              "SNP_7_12_14     0\n",
              "dtype: int64"
            ]
          },
          "metadata": {},
          "execution_count": 35
        }
      ]
    },
    {
      "cell_type": "code",
      "source": [
        "# train, test 비교\n",
        "train_a = set(list(train_comb2['SNP_5_6_8'].values))\n",
        "test_a = set(list(test_comb2['SNP_5_6_8'].values))\n",
        "print(test_a - train_a)\n",
        "print(train_a - test_a)\n",
        "\n",
        "train_b = set(list(train_comb2['SNP_3_4_9_11'].values))\n",
        "test_b = set(list(test_comb2['SNP_3_4_9_11'].values))\n",
        "print(test_b - train_b)\n",
        "print(train_b - test_b)\n",
        "\n",
        "train_c = set(list(train_comb2['SNP_7_12_14'].values))\n",
        "test_c = set(list(test_comb2['SNP_7_12_14'].values))\n",
        "print(test_c - train_c)\n",
        "print(train_c - test_c)\n",
        "\n",
        "## test와 train의 구성이 다르다.\n",
        "## 따라서 인코딩할때 따로해야함."
      ],
      "metadata": {
        "colab": {
          "base_uri": "https://localhost:8080/"
        },
        "outputId": "d545768d-da11-4237-d342-bb4f23fc339a",
        "id": "lM4406Tmrhzj"
      },
      "execution_count": 38,
      "outputs": [
        {
          "output_type": "stream",
          "name": "stdout",
          "text": [
            "set()\n",
            "{'C A_A A_A A'}\n",
            "set()\n",
            "{'C C_G G_A A_A G', 'C C_G A_G A_A G', 'A A_G A_G G_A G', 'A A_G G_A A_A G', 'A A_A A_G G_A A', 'C A_G G_G A_A G'}\n",
            "set()\n",
            "{'G G_A A_A A', 'G A_A A_C A'}\n"
          ]
        }
      ]
    },
    {
      "cell_type": "markdown",
      "source": [
        "### **Label Encoding**"
      ],
      "metadata": {
        "id": "GF-aVtWErhzl"
      }
    },
    {
      "cell_type": "code",
      "source": [
        "train_x_c2, train_y_c2 = get_x_y(train_comb2)\n",
        "test_x_c2 = get_x_y(test_comb2)"
      ],
      "metadata": {
        "id": "pQxLGQfJrhzl"
      },
      "execution_count": 40,
      "outputs": []
    },
    {
      "cell_type": "code",
      "source": [
        "class_le = preprocessing.LabelEncoder()\n",
        "snp_le_train = preprocessing.LabelEncoder()\n",
        "snp_le_test = preprocessing.LabelEncoder()\n",
        "snp_col = ['SNP_01',\t'SNP_02',\t'SNP_10',\t'SNP_13',\t'SNP_15',\t\n",
        "           'SNP_5_6_8',\t'SNP_3_4_9_11',\t'SNP_7_12_14']\n",
        "     \n",
        "snp_data_train = []\n",
        "for col in snp_col:\n",
        "    snp_data_train += list(train_x_c2[col].values)\n",
        "snp_data_test = []\n",
        "for col in snp_col:\n",
        "    snp_data_test += list(test_x_c2[col].values)\n",
        "\n",
        "train_y_c2 = class_le.fit_transform(train_y_c2)\n",
        "snp_le_train.fit(snp_data_train)\n",
        "snp_le_test.fit(snp_data_test)\n",
        "\n",
        "for col in train_x_c2.columns:\n",
        "    if col in snp_col:\n",
        "        train_x_c2[col] = snp_le_train.transform(train_x_c2[col])\n",
        "for col in test_x_c2.columns:\n",
        "    if col in snp_col:\n",
        "        test_x_c2[col] = snp_le_test.transform(test_x_c2[col])"
      ],
      "metadata": {
        "id": "uyGKCiU0rhzm"
      },
      "execution_count": 41,
      "outputs": []
    },
    {
      "cell_type": "markdown",
      "source": [
        "### **(4) SMOTE**\n"
      ],
      "metadata": {
        "id": "jYia2QdDunIo"
      }
    },
    {
      "cell_type": "code",
      "source": [
        "# 변수결합x\n",
        "from imblearn.over_sampling import SMOTE\n",
        "train_x_s, train_y_s = SMOTE().fit_resample(train_x, train_y)\n",
        "\n",
        "import seaborn as sns\n",
        "sns.countplot(train_y_s)"
      ],
      "metadata": {
        "colab": {
          "base_uri": "https://localhost:8080/",
          "height": 340
        },
        "id": "uJZEyZ4xusPx",
        "outputId": "ab7fa18f-904e-4ed3-9000-207e9f71176b"
      },
      "execution_count": 51,
      "outputs": [
        {
          "output_type": "stream",
          "name": "stderr",
          "text": [
            "/usr/local/lib/python3.8/dist-packages/seaborn/_decorators.py:36: FutureWarning: Pass the following variable as a keyword arg: x. From version 0.12, the only valid positional argument will be `data`, and passing other arguments without an explicit keyword will result in an error or misinterpretation.\n",
            "  warnings.warn(\n"
          ]
        },
        {
          "output_type": "execute_result",
          "data": {
            "text/plain": [
              "<matplotlib.axes._subplots.AxesSubplot at 0x7f94593d2400>"
            ]
          },
          "metadata": {},
          "execution_count": 51
        },
        {
          "output_type": "display_data",
          "data": {
            "text/plain": [
              "<Figure size 432x288 with 1 Axes>"
            ],
            "image/png": "[encoded data removed]"
          },
          "metadata": {
            "needs_background": "light"
          }
        }
      ]
    },
    {
      "cell_type": "code",
      "source": [
        "# 변수결합1 -분포기준\n",
        "train_x_c1_s, train_y_c1_s = SMOTE().fit_resample(train_x_c1, train_y_c1)\n",
        "sns.countplot(train_y_c1_s)"
      ],
      "metadata": {
        "colab": {
          "base_uri": "https://localhost:8080/",
          "height": 340
        },
        "id": "GFI28vBwuueW",
        "outputId": "790c80e0-fa5a-4594-8625-ffdfb9c75e59"
      },
      "execution_count": 52,
      "outputs": [
        {
          "output_type": "stream",
          "name": "stderr",
          "text": [
            "/usr/local/lib/python3.8/dist-packages/seaborn/_decorators.py:36: FutureWarning: Pass the following variable as a keyword arg: x. From version 0.12, the only valid positional argument will be `data`, and passing other arguments without an explicit keyword will result in an error or misinterpretation.\n",
            "  warnings.warn(\n"
          ]
        },
        {
          "output_type": "execute_result",
          "data": {
            "text/plain": [
              "<matplotlib.axes._subplots.AxesSubplot at 0x7f94593a0c70>"
            ]
          },
          "metadata": {},
          "execution_count": 52
        },
        {
          "output_type": "display_data",
          "data": {
            "text/plain": [
              "<Figure size 432x288 with 1 Axes>"
            ],
            "image/png": "[encoded data removed]"
          },
          "metadata": {
            "needs_background": "light"
          }
        }
      ]
    },
    {
      "cell_type": "code",
      "source": [
        "# 변수결합2 -이름기준\n",
        "train_x_c2_s, train_y_c2_s = SMOTE().fit_resample(train_x_c2, train_y_c2)\n",
        "sns.countplot(train_y_c2_s)"
      ],
      "metadata": {
        "colab": {
          "base_uri": "https://localhost:8080/",
          "height": 340
        },
        "id": "3AnSHfAxuup8",
        "outputId": "bd4a6676-3590-410b-98bc-090be6cd576c"
      },
      "execution_count": 53,
      "outputs": [
        {
          "output_type": "stream",
          "name": "stderr",
          "text": [
            "/usr/local/lib/python3.8/dist-packages/seaborn/_decorators.py:36: FutureWarning: Pass the following variable as a keyword arg: x. From version 0.12, the only valid positional argument will be `data`, and passing other arguments without an explicit keyword will result in an error or misinterpretation.\n",
            "  warnings.warn(\n"
          ]
        },
        {
          "output_type": "execute_result",
          "data": {
            "text/plain": [
              "<matplotlib.axes._subplots.AxesSubplot at 0x7f945aad1760>"
            ]
          },
          "metadata": {},
          "execution_count": 53
        },
        {
          "output_type": "display_data",
          "data": {
            "text/plain": [
              "<Figure size 432x288 with 1 Axes>"
            ],
            "image/png": "[encoded data removed]"
          },
          "metadata": {
            "needs_background": "light"
          }
        }
      ]
    },
    {
      "cell_type": "markdown",
      "source": [
        "## **4. 모델 적합**"
      ],
      "metadata": {
        "id": "D69tUEDI8EOW"
      }
    },
    {
      "cell_type": "code",
      "source": [
        "from sklearn.model_selection import GridSearchCV \n",
        "from sklearn.model_selection import train_test_split"
      ],
      "metadata": {
        "id": "1ij06QPNbZeU"
      },
      "execution_count": 57,
      "outputs": []
    },
    {
      "cell_type": "code",
      "source": [
        "from sklearn.metrics import confusion_matrix, accuracy_score, precision_score, recall_score, f1_score\n",
        "\n",
        "def get_clf_eval(y_test, pred=None, pred_proba=None):\n",
        "    confusion = confusion_matrix(y_test, pred)\n",
        "    accuracy = accuracy_score(y_test , pred)\n",
        "    precision = precision_score(y_test , pred, average='macro') #'micro', 'weighted'도 가능\n",
        "    recall = recall_score(y_test , pred, average='macro')\n",
        "    f1 = f1_score(y_test,pred, average='macro')\n",
        "    print('오차 행렬')\n",
        "    print(confusion)\n",
        "    print('정확도: {0:.4f}, 정밀도: {1:.4f}, 재현율: {2:.4f}, F1: {3:.4f}'.format(accuracy, precision, recall, f1))"
      ],
      "metadata": {
        "id": "5ExmSaCskXgI"
      },
      "execution_count": 54,
      "outputs": []
    },
    {
      "cell_type": "code",
      "source": [
        "# 인자로 사이킷런의 Estimator객체와, 학습/테스트 데이터 세트를 입력 받아서 학습/예측/평가 수행\n",
        "def get_model_train_eval(model, ftr_train=None, ftr_test=None, tgt_train=None, tgt_test=None):\n",
        "    model.fit(ftr_train, tgt_train)\n",
        "    pred = model.predict(ftr_test)\n",
        "    pred_proba = model.predict_proba(ftr_test)[:, 1]\n",
        "    get_clf_eval(tgt_test, pred, pred_proba)"
      ],
      "metadata": {
        "id": "EfqK0O4vkZdB"
      },
      "execution_count": 55,
      "outputs": []
    },
    {
      "cell_type": "markdown",
      "source": [
        "### **케이스에 따라 분할**"
      ],
      "metadata": {
        "id": "zjaKSLPH9vNm"
      }
    },
    {
      "cell_type": "code",
      "source": [
        "X_train, X_tr_test, y_train, y_tr_test = train_test_split(train_x, train_y, test_size=0.2, random_state=156) #변수결합x\n",
        "X_train_s, X_tr_test_s, y_train_s, y_tr_test_s = train_test_split(train_x_s, train_y_s, test_size=0.2, random_state=156) #변수결합x +스모트\n",
        "X_train_c1, X_tr_test_c1, y_train_c1, y_tr_test_c1 = train_test_split(train_x_c1, train_y_c1, test_size=0.2, random_state=156) #변수결합1\n",
        "X_train_c2, X_tr_test_c2, y_train_c2, y_tr_test_c2 = train_test_split(train_x_c2, train_y_c2, test_size=0.2, random_state=156) #변수결합1 +스모트\n",
        "X_train_c1_s, X_tr_test_c1_s, y_train_c1_s, y_tr_test_c1_s = train_test_split(train_x_c1_s, train_y_c1_s, test_size=0.2, random_state=156) #변수결합2\n",
        "X_train_c2_s, X_tr_test_c2_s, y_train_c2_s, y_tr_test_c2_s = train_test_split(train_x_c2_s, train_y_c2_s, test_size=0.2, random_state=156) #변수결합2 +스모트"
      ],
      "metadata": {
        "id": "1EXKIllRvzMz"
      },
      "execution_count": 67,
      "outputs": []
    },
    {
      "cell_type": "markdown",
      "source": [
        "### **4-1. Decision Tree**"
      ],
      "metadata": {
        "id": "e4VdEQP8hRrt"
      }
    },
    {
      "cell_type": "code",
      "source": [
        "from sklearn.tree import DecisionTreeClassifier\n",
        "import warnings\n",
        "warnings.filterwarnings('ignore')\n",
        "dt_clf=DecisionTreeClassifier()\n",
        "get_model_train_eval(dt_clf, ftr_train=X_train, ftr_test=X_tr_test, tgt_train=y_train, tgt_test=y_tr_test)"
      ],
      "metadata": {
        "id": "OVj6EJwQiQ-k",
        "outputId": "54b0a7df-e24e-4d57-86ad-071c2f782e7d",
        "colab": {
          "base_uri": "https://localhost:8080/"
        }
      },
      "execution_count": null,
      "outputs": [
        {
          "output_type": "stream",
          "name": "stdout",
          "text": [
            "오차 행렬\n",
            "[[11  0  0]\n",
            " [ 0 20  5]\n",
            " [ 0  3 14]]\n",
            "정확도: 0.8491, 정밀도: 0.8688, 재현율: 0.8745, F1: 0.8704\n"
          ]
        }
      ]
    },
    {
      "cell_type": "code",
      "source": [
        "# feature 중요도\n",
        "import matplotlib.pyplot as plt\n",
        "import seaborn as sns\n",
        "%matplotlib inline\n",
        "\n",
        "ftr_importances_values = dt_clf.feature_importances_\n",
        "ftr_importances = pd.Series(ftr_importances_values,index=X_train.columns  )\n",
        "ftr_top20 = ftr_importances.sort_values(ascending=False)\n",
        "\n",
        "plt.figure(figsize=(8,6))\n",
        "plt.title('Feature importances')\n",
        "sns.barplot(x=ftr_top20 , y = ftr_top20.index)\n",
        "plt.show()"
      ],
      "metadata": {
        "id": "d4hIIx0_jHhe",
        "outputId": "c67ea385-e776-4a92-d2d9-3d23eee87b6b",
        "colab": {
          "base_uri": "https://localhost:8080/",
          "height": 390
        }
      },
      "execution_count": null,
      "outputs": [
        {
          "output_type": "display_data",
          "data": {
            "text/plain": [
              "<Figure size 576x432 with 1 Axes>"
            ],
            "image/png": "[encoded data removed]"
          },
          "metadata": {
            "needs_background": "light"
          }
        }
      ]
    },
    {
      "cell_type": "code",
      "source": [
        "dt_preds=dt_clf.predict(test_x)\n",
        "# submit = pd.read_csv('/content/drive/MyDrive/ESAA/방학/DATA/sample_submission.csv')\n",
        "# submit['class'] = class_le.inverse_transform(dt_preds)\n",
        "# submit.to_csv('/content/drive/MyDrive/readcsv/유전체/submit_dt.csv', index=False)"
      ],
      "metadata": {
        "id": "tL35H246jXOD"
      },
      "execution_count": null,
      "outputs": []
    },
    {
      "cell_type": "markdown",
      "source": [
        "### **4-2. Random Forest**"
      ],
      "metadata": {
        "id": "0Ctrv9J7W7IR"
      }
    },
    {
      "cell_type": "markdown",
      "source": [
        "#### 여러 알고리즘 돌린 결과, 랜덤포레스트가 가장 정확도가 높다.   \n",
        "따라서 랜덤포레스트로 변수결합+스모트 적용하여 결과값 도출해보기로 한다."
      ],
      "metadata": {
        "id": "JyTR90-gxYIy"
      }
    },
    {
      "cell_type": "code",
      "source": [
        "from sklearn.ensemble import RandomForestClassifier\n",
        "#변수결합x\n",
        "rf_clf = RandomForestClassifier()\n",
        "get_model_train_eval(rf_clf, ftr_train=X_train, ftr_test=X_tr_test, tgt_train=y_train, tgt_test=y_tr_test)\n",
        "\n",
        "#변수결합x +스모트\n",
        "rf_clf_s = RandomForestClassifier()\n",
        "get_model_train_eval(rf_clf_s, ftr_train=X_train_s, ftr_test=X_tr_test_s, tgt_train=y_train_s, tgt_test=y_tr_test_s)\n",
        "# smote안한 것이 f1더 높다."
      ],
      "metadata": {
        "colab": {
          "base_uri": "https://localhost:8080/"
        },
        "id": "Nm6iiO9DifXb",
        "outputId": "cafc5759-f117-42ae-fab7-3f720a9b41a3"
      },
      "execution_count": 60,
      "outputs": [
        {
          "output_type": "stream",
          "name": "stdout",
          "text": [
            "오차 행렬\n",
            "[[11  0  0]\n",
            " [ 0 25  0]\n",
            " [ 0  1 16]]\n",
            "정확도: 0.9811, 정밀도: 0.9872, 재현율: 0.9804, F1: 0.9834\n",
            "오차 행렬\n",
            "[[26  0  0]\n",
            " [ 0 23  1]\n",
            " [ 0  3 16]]\n",
            "정확도: 0.9420, 정밀도: 0.9419, 재현율: 0.9335, F1: 0.9363\n"
          ]
        }
      ]
    },
    {
      "cell_type": "code",
      "source": [
        "# feature 중요도\n",
        "import matplotlib.pyplot as plt\n",
        "import seaborn as sns\n",
        "%matplotlib inline\n",
        "\n",
        "ftr_importances_values = rf_clf.feature_importances_\n",
        "ftr_importances = pd.Series(ftr_importances_values,index=X_train.columns  )\n",
        "ftr_top20 = ftr_importances.sort_values(ascending=False)\n",
        "\n",
        "plt.figure(figsize=(8,6))\n",
        "plt.title('Feature importances')\n",
        "sns.barplot(x=ftr_top20 , y = ftr_top20.index)\n",
        "plt.show()"
      ],
      "metadata": {
        "colab": {
          "base_uri": "https://localhost:8080/",
          "height": 390
        },
        "id": "D95aW-AmiiGi",
        "outputId": "cc6b9e42-638b-416f-8eee-c47ef5faf7ca"
      },
      "execution_count": null,
      "outputs": [
        {
          "output_type": "display_data",
          "data": {
            "text/plain": [
              "<Figure size 576x432 with 1 Axes>"
            ],
            "image/png": "[encoded data removed]"
          },
          "metadata": {
            "needs_background": "light"
          }
        }
      ]
    },
    {
      "cell_type": "code",
      "source": [
        "# 변수결합x\n",
        "rf_preds=rf_clf.predict(test_x)\n",
        "submit['class'] = class_le.inverse_transform(rf_preds)\n",
        "# submit.to_csv('/content/drive/MyDrive/ESAA/방학플젝1/submit_rf.csv', index=False)\n",
        "# submit.to_csv('/content/drive/MyDrive/ESAA/방학/DATA/submit_rf.csv', index=False)\n",
        "\n",
        "#변수결합x +스모트\n",
        "rf_preds_s=rf_clf_s.predict(test_x)\n",
        "submit['class'] = class_le.inverse_transform(rf_preds_s)\n",
        "submit.to_csv('/content/drive/MyDrive/ESAA/방학플젝1/submit_rf_s.csv', index=False)"
      ],
      "metadata": {
        "id": "sHshGLUYkcc-"
      },
      "execution_count": null,
      "outputs": []
    },
    {
      "cell_type": "code",
      "source": [
        "rf_clf1 = RandomForestClassifier()\n",
        "parameters = {'max_depth': [4, 6, 8, 10, 12, None],\n",
        "              'min_samples_split': [2, 3, 4, 5, 8, 12, 16, 20],\n",
        "              'min_samples_leaf' : [8, 12, 15, 18],\n",
        "              'n_estimators': [10, 30, 50, 80, 100, 120, 150, 200]\n",
        "}\n",
        "\n",
        "\n",
        "rf_grid = GridSearchCV(rf_clf1,\n",
        "                        parameters,\n",
        "                        cv = 2,\n",
        "                        n_jobs = -1,\n",
        "                        verbose = True)\n",
        "rf_grid.fit(X_train, y_train)\n",
        "\n",
        "print(rf_grid.best_score_)\n",
        "print(rf_grid.best_params_)"
      ],
      "metadata": {
        "colab": {
          "base_uri": "https://localhost:8080/"
        },
        "outputId": "79f7d81e-50bf-4fd1-ff41-1de73bae66a0",
        "id": "zI8L_vWr-J-9"
      },
      "execution_count": null,
      "outputs": [
        {
          "output_type": "stream",
          "name": "stdout",
          "text": [
            "Fitting 2 folds for each of 1536 candidates, totalling 3072 fits\n",
            "0.9330128205128205\n",
            "{'max_depth': 4, 'min_samples_leaf': 8, 'min_samples_split': 12, 'n_estimators': 50}\n"
          ]
        }
      ]
    },
    {
      "cell_type": "code",
      "source": [
        "#변수결합x +그리드\n",
        "rf_model = RandomForestClassifier(max_depth=4, min_samples_leaf=8, min_samples_split=12, n_estimators=50)\n",
        "get_model_train_eval(rf_model, ftr_train=X_train, ftr_test=X_tr_test, tgt_train=y_train, tgt_test=y_tr_test)\n",
        "\n",
        "#변수결합x +그리드 +스모트\n",
        "rf_model_s = RandomForestClassifier(max_depth=4, min_samples_leaf=8, min_samples_split=12, n_estimators=50)\n",
        "get_model_train_eval(rf_model_s, ftr_train=X_train_s, ftr_test=X_tr_test_s, tgt_train=y_train_s, tgt_test=y_tr_test_s)\n",
        "# smote안한 것이 f1 더 높다."
      ],
      "metadata": {
        "colab": {
          "base_uri": "https://localhost:8080/"
        },
        "outputId": "0e1ef2ea-d575-40e0-ad38-90f57b5bcc35",
        "id": "FYdmTik8-J--"
      },
      "execution_count": null,
      "outputs": [
        {
          "output_type": "stream",
          "name": "stdout",
          "text": [
            "오차 행렬\n",
            "[[11  0  0]\n",
            " [ 0 25  0]\n",
            " [ 0  1 16]]\n",
            "정확도: 0.9811, 정밀도: 0.9872, 재현율: 0.9804, F1: 0.9834\n",
            "오차 행렬\n",
            "[[26  0  0]\n",
            " [ 0 23  1]\n",
            " [ 0  3 16]]\n",
            "정확도: 0.9420, 정밀도: 0.9419, 재현율: 0.9335, F1: 0.9363\n"
          ]
        }
      ]
    },
    {
      "cell_type": "code",
      "source": [
        "#변수결합x +그리드\n",
        "rf_preds_grid=rf_model.predict(test_x)\n",
        "submit['class'] = class_le.inverse_transform(rf_preds_grid)\n",
        "# submit.to_csv('/content/drive/MyDrive/ESAA/방학/DATA/submit_rf_model.csv', index=False)\n",
        "\n",
        "#변수결합x +그리드 +스모트\n",
        "rf_preds_grid_s=rf_model_s.predict(test_x)\n",
        "submit['class'] = class_le.inverse_transform(rf_preds_grid_s)\n",
        "submit.to_csv('/content/drive/MyDrive/ESAA/방학플젝1/submit_rf_grid_s.csv', index=False)"
      ],
      "metadata": {
        "id": "cvcULWxc_Uon"
      },
      "execution_count": null,
      "outputs": []
    },
    {
      "cell_type": "markdown",
      "source": [
        "### **변수결합 적용**"
      ],
      "metadata": {
        "id": "DxGobDI281q2"
      }
    },
    {
      "cell_type": "code",
      "source": [
        "#변수결합1\n",
        "rf_clf_c1 = RandomForestClassifier()\n",
        "get_model_train_eval(rf_clf_c1, ftr_train=X_train_c1, ftr_test=X_tr_test_c1, tgt_train=y_train_c1, tgt_test=y_tr_test_c1)\n",
        "\n",
        "#변수결합1 +스모트\n",
        "rf_clf_c1_s = RandomForestClassifier()\n",
        "get_model_train_eval(rf_clf_c1_s, ftr_train=X_train_c1_s, ftr_test=X_tr_test_c1_s, tgt_train=y_train_c1_s, tgt_test=y_tr_test_c1_s)"
      ],
      "metadata": {
        "colab": {
          "base_uri": "https://localhost:8080/"
        },
        "id": "ssb7CFDzxeg5",
        "outputId": "cabff306-2908-47b6-bb13-2d03c7827f03"
      },
      "execution_count": 69,
      "outputs": [
        {
          "output_type": "stream",
          "name": "stdout",
          "text": [
            "오차 행렬\n",
            "[[11  0  0]\n",
            " [ 0 25  0]\n",
            " [ 0  1 16]]\n",
            "정확도: 0.9811, 정밀도: 0.9872, 재현율: 0.9804, F1: 0.9834\n",
            "오차 행렬\n",
            "[[26  0  0]\n",
            " [ 0 24  0]\n",
            " [ 0  3 16]]\n",
            "정확도: 0.9565, 정밀도: 0.9630, 재현율: 0.9474, F1: 0.9518\n"
          ]
        }
      ]
    },
    {
      "cell_type": "code",
      "source": [
        "#변수결합2 \n",
        "rf_clf_c2 = RandomForestClassifier()\n",
        "get_model_train_eval(rf_clf_c2, ftr_train=X_train_c2, ftr_test=X_tr_test_c2, tgt_train=y_train_c2, tgt_test=y_tr_test_c2)\n",
        "\n",
        "#변수결합2 +스모트\n",
        "rf_clf_c2_s = RandomForestClassifier()\n",
        "get_model_train_eval(rf_clf_c2_s, ftr_train=X_train_c2_s, ftr_test=X_tr_test_c2_s, tgt_train=y_train_c2_s, tgt_test=y_tr_test_c2_s)"
      ],
      "metadata": {
        "colab": {
          "base_uri": "https://localhost:8080/"
        },
        "id": "fwBjJnvsxkMG",
        "outputId": "f9514c2b-a888-4b7b-8673-0027d8e61b39"
      },
      "execution_count": 68,
      "outputs": [
        {
          "output_type": "stream",
          "name": "stdout",
          "text": [
            "오차 행렬\n",
            "[[11  0  0]\n",
            " [ 0 23  2]\n",
            " [ 0  0 17]]\n",
            "정확도: 0.9623, 정밀도: 0.9649, 재현율: 0.9733, F1: 0.9676\n",
            "오차 행렬\n",
            "[[26  0  0]\n",
            " [ 0 24  0]\n",
            " [ 0  1 18]]\n",
            "정확도: 0.9855, 정밀도: 0.9867, 재현율: 0.9825, F1: 0.9842\n"
          ]
        }
      ]
    },
    {
      "cell_type": "code",
      "source": [
        "#변수결합1\n",
        "rf_clf_c1.fit(X_train_c1, y_train_c1)\n",
        "rf_preds_c1=rf_clf_c1.predict(test_x_c1)\n",
        "submit['class'] = class_le.inverse_transform(rf_preds_c1)\n",
        "submit.to_csv('/content/drive/MyDrive/ESAA/방학플젝1/submit_rf_c1.csv', index=False)\n",
        "\n",
        "#변수결합1 +스모트\n",
        "rf_clf_c1_s.fit(X_train_c1_s, y_train_c1_s)\n",
        "rf_preds_c1_s=rf_clf_c1_s.predict(test_x_c1)\n",
        "submit['class'] = class_le.inverse_transform(rf_preds_c1_s)\n",
        "submit.to_csv('/content/drive/MyDrive/ESAA/방학플젝1/submit_rf_c1_s.csv', index=False)"
      ],
      "metadata": {
        "id": "xtUi_E7IylVm"
      },
      "execution_count": 75,
      "outputs": []
    },
    {
      "cell_type": "code",
      "source": [
        "#변수결합2 \n",
        "rf_clf_c2.fit(X_train_c2, y_train_c2)\n",
        "rf_preds_c2=rf_clf_c2.predict(test_x_c2)\n",
        "submit['class'] = class_le.inverse_transform(rf_preds_c2)\n",
        "submit.to_csv('/content/drive/MyDrive/ESAA/방학플젝1/submit_rf_c2.csv', index=False)\n",
        "\n",
        "#변수결합2 +스모트\n",
        "rf_clf_c2_s.fit(X_train_c2_s, y_train_c2_s)\n",
        "rf_preds_c2_s=rf_clf_c2_s.predict(test_x_c2)\n",
        "submit['class'] = class_le.inverse_transform(rf_preds_c2_s)\n",
        "submit.to_csv('/content/drive/MyDrive/ESAA/방학플젝1/submit_rf_c2_s.csv', index=False)"
      ],
      "metadata": {
        "id": "KsYBXgcGy2P4"
      },
      "execution_count": 77,
      "outputs": []
    },
    {
      "cell_type": "markdown",
      "source": [
        "### **4-3. XGBoost**"
      ],
      "metadata": {
        "id": "q_ySnm0fhX_H"
      }
    },
    {
      "cell_type": "code",
      "source": [
        "import xgboost as xgb\n",
        "from xgboost import XGBClassifier\n",
        "from xgboost import plot_importance\n",
        "import warnings\n",
        "warnings.filterwarnings('ignore')"
      ],
      "metadata": {
        "id": "lWCs-hiiWloK"
      },
      "execution_count": null,
      "outputs": []
    },
    {
      "cell_type": "code",
      "source": [
        "xgb_clf = XGBClassifier()\n",
        "get_model_train_eval(xgb_clf, ftr_train=X_train, ftr_test=X_tr_test, tgt_train=y_train, tgt_test=y_tr_test)"
      ],
      "metadata": {
        "colab": {
          "base_uri": "https://localhost:8080/"
        },
        "id": "IcbrIZ-2XRVI",
        "outputId": "a42fe4ac-4288-441a-9778-081876ff5372"
      },
      "execution_count": null,
      "outputs": [
        {
          "output_type": "stream",
          "name": "stdout",
          "text": [
            "오차 행렬\n",
            "[[11  0  0]\n",
            " [ 0 25  0]\n",
            " [ 0  1 16]]\n",
            "정확도: 0.9811, 정밀도: 0.9872, 재현율: 0.9804, F1: 0.9834\n"
          ]
        }
      ]
    },
    {
      "cell_type": "code",
      "source": [
        "# feature 중요도\n",
        "import matplotlib.pyplot as plt\n",
        "import seaborn as sns\n",
        "%matplotlib inline\n",
        "\n",
        "ftr_importances_values = xgb_clf.feature_importances_\n",
        "ftr_importances = pd.Series(ftr_importances_values,index=X_train.columns  )\n",
        "ftr_top20 = ftr_importances.sort_values(ascending=False)\n",
        "\n",
        "plt.figure(figsize=(8,6))\n",
        "plt.title('Feature importances')\n",
        "sns.barplot(x=ftr_top20 , y = ftr_top20.index)\n",
        "plt.show()"
      ],
      "metadata": {
        "id": "cvfSfsUFkpEc",
        "outputId": "5a6288f9-3d66-4d1e-a31a-60a747f60105",
        "colab": {
          "base_uri": "https://localhost:8080/",
          "height": 390
        }
      },
      "execution_count": null,
      "outputs": [
        {
          "output_type": "display_data",
          "data": {
            "text/plain": [
              "<Figure size 576x432 with 1 Axes>"
            ],
            "image/png": "[encoded data removed]"
          },
          "metadata": {
            "needs_background": "light"
          }
        }
      ]
    },
    {
      "cell_type": "code",
      "source": [
        "xgb_preds = xgb_clf.predict(test_x)\n",
        "# submit = pd.read_csv('/content/drive/MyDrive/ESAA/방학/DATA/sample_submission.csv')\n",
        "# submit['class'] = class_le.inverse_transform(xgb_preds)\n",
        "# submit.to_csv('/content/drive/MyDrive/ESAA/방학/DATA/submit_xgb.csv', index=False)"
      ],
      "metadata": {
        "id": "utyXa0YvhjZl"
      },
      "execution_count": null,
      "outputs": []
    },
    {
      "cell_type": "markdown",
      "source": [
        "### **4-4. GBM**"
      ],
      "metadata": {
        "id": "GPluqOvohYB4"
      }
    },
    {
      "cell_type": "code",
      "source": [
        "from sklearn.ensemble import GradientBoostingClassifier\n",
        "gbm_clf = GradientBoostingClassifier()\n",
        "get_model_train_eval(gbm_clf, ftr_train=X_train, ftr_test=X_tr_test, tgt_train=y_train, tgt_test=y_tr_test)"
      ],
      "metadata": {
        "colab": {
          "base_uri": "https://localhost:8080/"
        },
        "id": "3DE1xcD9lJX6",
        "outputId": "71efe618-2ca4-4ec0-cb9e-4bd03f1527ad"
      },
      "execution_count": null,
      "outputs": [
        {
          "output_type": "stream",
          "name": "stdout",
          "text": [
            "오차 행렬\n",
            "[[11  0  0]\n",
            " [ 0 25  0]\n",
            " [ 0  1 16]]\n",
            "정확도: 0.9811, 정밀도: 0.9872, 재현율: 0.9804, F1: 0.9834\n"
          ]
        }
      ]
    },
    {
      "cell_type": "code",
      "source": [
        "# feature 중요도\n",
        "import matplotlib.pyplot as plt\n",
        "import seaborn as sns\n",
        "%matplotlib inline\n",
        "\n",
        "ftr_importances_values = gbm_clf.feature_importances_\n",
        "ftr_importances = pd.Series(ftr_importances_values,index=X_train.columns  )\n",
        "ftr_top20 = ftr_importances.sort_values(ascending=False)\n",
        "\n",
        "plt.figure(figsize=(8,6))\n",
        "plt.title('Feature importances')\n",
        "sns.barplot(x=ftr_top20 , y = ftr_top20.index)\n",
        "plt.show()"
      ],
      "metadata": {
        "colab": {
          "base_uri": "https://localhost:8080/",
          "height": 390
        },
        "id": "IDuZoOXRle1W",
        "outputId": "ff039fee-e09d-4af8-9feb-0e9c2b416afa"
      },
      "execution_count": null,
      "outputs": [
        {
          "output_type": "display_data",
          "data": {
            "text/plain": [
              "<Figure size 576x432 with 1 Axes>"
            ],
            "image/png": "[encoded data removed]"
          },
          "metadata": {
            "needs_background": "light"
          }
        }
      ]
    },
    {
      "cell_type": "code",
      "source": [
        "gbm_preds = gbm_clf.predict(test_x)\n",
        "# submit = pd.read_csv('/content/drive/MyDrive/ESAA/방학/DATA/sample_submission.csv')\n",
        "# submit['class'] = class_le.inverse_transform(gbm_preds)\n",
        "# submit.to_csv('/content/drive/MyDrive/ESAA/방학/DATA/submit_gbm.csv', index=False)"
      ],
      "metadata": {
        "id": "RWJSBlKSlqee"
      },
      "execution_count": null,
      "outputs": []
    },
    {
      "cell_type": "markdown",
      "source": [
        "### **4-5. Light GBM**"
      ],
      "metadata": {
        "id": "6ML17_9YW9go"
      }
    },
    {
      "cell_type": "code",
      "source": [
        "from lightgbm import LGBMClassifier\n",
        "import lightgbm as lgbm\n",
        "lgbm_clf = LGBMClassifier()\n",
        "get_model_train_eval(lgbm_clf, ftr_train=X_train, ftr_test=X_tr_test, tgt_train=y_train, tgt_test=y_tr_test)"
      ],
      "metadata": {
        "colab": {
          "base_uri": "https://localhost:8080/"
        },
        "id": "wObLilN-XGkP",
        "outputId": "fd32cdb8-aa57-4e2e-fbc8-8da57f01d02c"
      },
      "execution_count": null,
      "outputs": [
        {
          "output_type": "stream",
          "name": "stdout",
          "text": [
            "오차 행렬\n",
            "[[11  0  0]\n",
            " [ 0 25  0]\n",
            " [ 0  1 16]]\n",
            "정확도: 0.9811, 정밀도: 0.9872, 재현율: 0.9804, F1: 0.9834\n"
          ]
        }
      ]
    },
    {
      "cell_type": "code",
      "source": [
        "# feature 중요도\n",
        "import matplotlib.pyplot as plt\n",
        "import seaborn as sns\n",
        "%matplotlib inline\n",
        "\n",
        "ftr_importances_values = lgbm_clf.feature_importances_\n",
        "ftr_importances = pd.Series(ftr_importances_values,index=X_train.columns  )\n",
        "ftr_top20 = ftr_importances.sort_values(ascending=False)\n",
        "\n",
        "plt.figure(figsize=(8,6))\n",
        "plt.title('Feature importances')\n",
        "sns.barplot(x=ftr_top20 , y = ftr_top20.index)\n",
        "plt.show()"
      ],
      "metadata": {
        "colab": {
          "base_uri": "https://localhost:8080/",
          "height": 390
        },
        "id": "peMLkOAkYAd5",
        "outputId": "575b14c4-58a9-4fbc-c070-a952ed675998"
      },
      "execution_count": null,
      "outputs": [
        {
          "output_type": "display_data",
          "data": {
            "text/plain": [
              "<Figure size 576x432 with 1 Axes>"
            ],
            "image/png": "[encoded data removed]"
          },
          "metadata": {
            "needs_background": "light"
          }
        }
      ]
    },
    {
      "cell_type": "code",
      "source": [
        "lgbm_preds = lgbm_clf.predict(test_x)\n",
        "# submit = pd.read_csv('/content/drive/MyDrive/ESAA/방학/DATA/sample_submission.csv')\n",
        "# submit['class'] = class_le.inverse_transform(lgbm_preds)\n",
        "# submit.to_csv('/content/drive/MyDrive/ESAA/방학/DATA/submit_lgbm.csv', index=False)"
      ],
      "metadata": {
        "id": "eMPgCldkYkzE"
      },
      "execution_count": null,
      "outputs": []
    },
    {
      "cell_type": "code",
      "source": [
        "lgbm_clf1 = LGBMClassifier()\n",
        "parameters = {'max_depth': [4,6,8,10],\n",
        "              'learning_rate': [0.01,0.03,0.1,0.15],\n",
        "              'n_estimators': [100,300,500]\n",
        "}\n",
        "\n",
        "\n",
        "lgbm_grid = GridSearchCV(lgbm_clf1,\n",
        "                        parameters,\n",
        "                        cv = 2,\n",
        "                        n_jobs = -1,\n",
        "                        verbose = True)\n",
        "lgbm_grid.fit(X_train, y_train)\n",
        "\n",
        "print(lgbm_grid.best_score_)\n",
        "print(lgbm_grid.best_params_)"
      ],
      "metadata": {
        "id": "DYJXFpoqaW_H",
        "colab": {
          "base_uri": "https://localhost:8080/"
        },
        "outputId": "9fe17a5f-d471-477a-96da-1d2cd408cfaa"
      },
      "execution_count": null,
      "outputs": [
        {
          "output_type": "stream",
          "name": "stdout",
          "text": [
            "Fitting 2 folds for each of 48 candidates, totalling 96 fits\n",
            "0.9568681318681318\n",
            "{'learning_rate': 0.03, 'max_depth': 4, 'n_estimators': 500}\n"
          ]
        }
      ]
    },
    {
      "cell_type": "code",
      "source": [
        "lgbm_model = LGBMClassifier(learning_rate=0.03,max_depth=4,n_estimator=500)\n",
        "get_model_train_eval(lgbm_model, ftr_train=X_train, ftr_test=X_tr_test, tgt_train=y_train, tgt_test=y_tr_test)"
      ],
      "metadata": {
        "id": "pKwI9AlrbjM_",
        "colab": {
          "base_uri": "https://localhost:8080/"
        },
        "outputId": "8bcf59e6-ac3f-48b6-8b83-44cc8a52a595"
      },
      "execution_count": null,
      "outputs": [
        {
          "output_type": "stream",
          "name": "stdout",
          "text": [
            "오차 행렬\n",
            "[[11  0  0]\n",
            " [ 0 25  0]\n",
            " [ 0  3 14]]\n",
            "정확도: 0.9434, 정밀도: 0.9643, 재현율: 0.9412, F1: 0.9489\n"
          ]
        }
      ]
    },
    {
      "cell_type": "code",
      "source": [
        "lgbm_preds1 = lgbm_model.predict(test_x)\n",
        "# submit = pd.read_csv('/content/drive/MyDrive/ESAA/방학/DATA/sample_submission.csv')\n",
        "# submit['class'] = class_le.inverse_transform(lgbm_preds1)\n",
        "# submit.to_csv('/content/drive/MyDrive/ESAA/방학/DATA/submit_lgbm_model.csv', index=False)"
      ],
      "metadata": {
        "id": "rFio7eUscZcw"
      },
      "execution_count": null,
      "outputs": []
    },
    {
      "cell_type": "markdown",
      "source": [
        "### **4-6. Logistic Regression**"
      ],
      "metadata": {
        "id": "5xEmkHJPEroP"
      }
    },
    {
      "cell_type": "code",
      "source": [
        "from sklearn.linear_model import LogisticRegression\n",
        "lr_clf = LogisticRegression()\n",
        "get_model_train_eval(lr_clf, ftr_train=X_train, ftr_test=X_tr_test, tgt_train=y_train, tgt_test=y_tr_test)"
      ],
      "metadata": {
        "colab": {
          "base_uri": "https://localhost:8080/"
        },
        "outputId": "d1d1bb44-30e3-4208-d118-3a44a8877293",
        "id": "HbbouFPuEroQ"
      },
      "execution_count": null,
      "outputs": [
        {
          "output_type": "stream",
          "name": "stdout",
          "text": [
            "오차 행렬\n",
            "[[10  0  1]\n",
            " [ 0 23  2]\n",
            " [ 0  1 16]]\n",
            "정확도: 0.9245, 정밀도: 0.9335, 재현율: 0.9234, F1: 0.9267\n"
          ]
        }
      ]
    },
    {
      "cell_type": "code",
      "source": [
        "# feature 중요도 # 'LogisticRegression' object has no attribute 'feature_importances_'\n",
        "import matplotlib.pyplot as plt\n",
        "import seaborn as sns\n",
        "%matplotlib inline\n",
        "\n",
        "importance = lr_clf.coef_[0]\n",
        "#importance is a list so you can plot it. \n",
        "feat_importances = pd.Series(importance)\n",
        "\n",
        "plt.figure(figsize=(8,6))\n",
        "plt.title('Feature importances')\n",
        "feat_importances.nlargest(20).plot(kind='barh',title = 'Feature Importance')\n",
        "plt.show()"
      ],
      "metadata": {
        "colab": {
          "base_uri": "https://localhost:8080/",
          "height": 390
        },
        "id": "yVAvCxBhQ0eX",
        "outputId": "7bda03af-5bd4-4c74-d008-fef01ffb43ec"
      },
      "execution_count": null,
      "outputs": [
        {
          "output_type": "display_data",
          "data": {
            "text/plain": [
              "<Figure size 576x432 with 1 Axes>"
            ],
            "image/png": "[encoded data removed]"
          },
          "metadata": {
            "needs_background": "light"
          }
        }
      ]
    },
    {
      "cell_type": "code",
      "source": [
        "lr_preds = lr_clf.predict(test_x)\n",
        "# submit = pd.read_csv('/content/drive/MyDrive/ESAA/방학/DATA/sample_submission.csv')\n",
        "# submit['class'] = class_le.inverse_transform(lr_preds)\n",
        "# submit.to_csv('/content/drive/MyDrive/ESAA/방학/DATA/submit_lr.csv', index=False)"
      ],
      "metadata": {
        "id": "032Daq2aOCpM"
      },
      "execution_count": null,
      "outputs": []
    },
    {
      "cell_type": "markdown",
      "source": [
        "### **4-7. KNN**"
      ],
      "metadata": {
        "id": "5Fl9e_1kFlJ4"
      }
    },
    {
      "cell_type": "code",
      "source": [
        "from sklearn.neighbors import KNeighborsClassifier\n",
        "knn_clf = KNeighborsClassifier()\n",
        "get_model_train_eval(knn_clf, ftr_train=X_train, ftr_test=X_tr_test, tgt_train=y_train, tgt_test=y_tr_test)"
      ],
      "metadata": {
        "colab": {
          "base_uri": "https://localhost:8080/"
        },
        "id": "DVg5xqIPFgH2",
        "outputId": "bdfe4b24-047f-4e47-cdd1-d5aadedb2194"
      },
      "execution_count": null,
      "outputs": [
        {
          "output_type": "stream",
          "name": "stdout",
          "text": [
            "오차 행렬\n",
            "[[11  0  0]\n",
            " [ 0 24  1]\n",
            " [ 0  2 15]]\n",
            "정확도: 0.9434, 정밀도: 0.9535, 재현율: 0.9475, F1: 0.9501\n"
          ]
        }
      ]
    },
    {
      "cell_type": "code",
      "source": [
        "# feature 중요도 # 'KNeighborsClassifier' object has no attribute 'feature_importances_'"
      ],
      "metadata": {
        "id": "AFgYI6s_RaJ1"
      },
      "execution_count": null,
      "outputs": []
    },
    {
      "cell_type": "code",
      "source": [
        "knn_preds = knn_clf.predict(test_x)\n",
        "# submit = pd.read_csv('/content/drive/MyDrive/ESAA/방학/DATA/sample_submission.csv')\n",
        "# submit['class'] = class_le.inverse_transform(knn_preds)\n",
        "# submit.to_csv('/content/drive/MyDrive/ESAA/방학/DATA/submit_knn.csv', index=False)"
      ],
      "metadata": {
        "id": "29-u1qT4Plx7"
      },
      "execution_count": null,
      "outputs": []
    },
    {
      "cell_type": "code",
      "source": [
        "parameters = {\n",
        "    'n_neighbors' : list(range(1,20)),\n",
        "    'weights' : [\"uniform\", \"distance\"],\n",
        "    'metric' : ['euclidean', 'manhattan', 'minkowski']\n",
        "}"
      ],
      "metadata": {
        "id": "P9Ubtox1F9lE"
      },
      "execution_count": null,
      "outputs": []
    },
    {
      "cell_type": "code",
      "source": [
        "knn_clf1 = KNeighborsClassifier()\n",
        "knn_grid = GridSearchCV(knn_clf1,\n",
        "                        parameters,\n",
        "                        cv = 2,\n",
        "                        n_jobs = -1,\n",
        "                        verbose = True)\n",
        "knn_grid.fit(X_train, y_train)\n",
        "\n",
        "print(knn_grid.best_score_)\n",
        "print(knn_grid.best_params_)"
      ],
      "metadata": {
        "colab": {
          "base_uri": "https://localhost:8080/"
        },
        "id": "aPGuDCAfGAbZ",
        "outputId": "84ac0aef-7087-43a3-d5ff-6a004a62eb2d"
      },
      "execution_count": null,
      "outputs": [
        {
          "output_type": "stream",
          "name": "stdout",
          "text": [
            "Fitting 2 folds for each of 114 candidates, totalling 228 fits\n",
            "0.8899267399267399\n",
            "{'metric': 'manhattan', 'n_neighbors': 7, 'weights': 'uniform'}\n"
          ]
        }
      ]
    },
    {
      "cell_type": "code",
      "source": [
        "knn_model = KNeighborsClassifier(metric='manhattan', n_neighbors=7, weights='uniform')\n",
        "get_model_train_eval(knn_model, ftr_train=X_train, ftr_test=X_tr_test, tgt_train=y_train, tgt_test=y_tr_test)"
      ],
      "metadata": {
        "colab": {
          "base_uri": "https://localhost:8080/"
        },
        "id": "BZr5mMv7GqBP",
        "outputId": "c73d96a1-7c31-4bc0-fde8-18d18266463f"
      },
      "execution_count": null,
      "outputs": [
        {
          "output_type": "stream",
          "name": "stdout",
          "text": [
            "오차 행렬\n",
            "[[11  0  0]\n",
            " [ 0 25  0]\n",
            " [ 0  2 15]]\n",
            "정확도: 0.9623, 정밀도: 0.9753, 재현율: 0.9608, F1: 0.9663\n"
          ]
        }
      ]
    },
    {
      "cell_type": "code",
      "source": [
        "knn_preds1 = knn_model.predict(test_x)\n",
        "# submit = pd.read_csv('/content/drive/MyDrive/ESAA/방학/DATA/sample_submission.csv')\n",
        "# submit['class'] = class_le.inverse_transform(knn_preds1)\n",
        "# submit.to_csv('/content/drive/MyDrive/ESAA/방학/DATA/submit_knn_model.csv', index=False)"
      ],
      "metadata": {
        "id": "GK3EsI_IPhnL"
      },
      "execution_count": null,
      "outputs": []
    },
    {
      "cell_type": "markdown",
      "source": [
        "### **4-8. Extra Trees Classifier**"
      ],
      "metadata": {
        "id": "pQe4MNnkNi7Z"
      }
    },
    {
      "cell_type": "code",
      "source": [
        "from sklearn.ensemble import ExtraTreesClassifier\n",
        "extra_clf=ExtraTreesClassifier()\n",
        "get_model_train_eval(extra_clf, ftr_train=X_train, ftr_test=X_tr_test, tgt_train=y_train, tgt_test=y_tr_test)"
      ],
      "metadata": {
        "colab": {
          "base_uri": "https://localhost:8080/"
        },
        "outputId": "203cff3b-30b2-483a-a6d2-78ce6607041e",
        "id": "s2QbH4d4Ni7a"
      },
      "execution_count": null,
      "outputs": [
        {
          "output_type": "stream",
          "name": "stdout",
          "text": [
            "오차 행렬\n",
            "[[11  0  0]\n",
            " [ 0 25  0]\n",
            " [ 0  1 16]]\n",
            "정확도: 0.9811, 정밀도: 0.9872, 재현율: 0.9804, F1: 0.9834\n"
          ]
        }
      ]
    },
    {
      "cell_type": "code",
      "source": [
        "# feature 중요도\n",
        "import matplotlib.pyplot as plt\n",
        "import seaborn as sns\n",
        "%matplotlib inline\n",
        "\n",
        "ftr_importances_values = extra_clf.feature_importances_\n",
        "ftr_importances = pd.Series(ftr_importances_values,index=X_train.columns  )\n",
        "ftr_top20 = ftr_importances.sort_values(ascending=False)\n",
        "\n",
        "plt.figure(figsize=(8,6))\n",
        "plt.title('Feature importances')\n",
        "sns.barplot(x=ftr_top20 , y = ftr_top20.index)\n",
        "plt.show()"
      ],
      "metadata": {
        "colab": {
          "base_uri": "https://localhost:8080/",
          "height": 390
        },
        "id": "VMReH3maN2G-",
        "outputId": "0d945a76-edd7-4676-8d17-37306c37da2f"
      },
      "execution_count": null,
      "outputs": [
        {
          "output_type": "display_data",
          "data": {
            "text/plain": [
              "<Figure size 576x432 with 1 Axes>"
            ],
            "image/png": "[encoded data removed]"
          },
          "metadata": {
            "needs_background": "light"
          }
        }
      ]
    },
    {
      "cell_type": "code",
      "source": [
        "extra_preds = extra_clf.predict(test_x)\n",
        "# submit = pd.read_csv('/content/drive/MyDrive/ESAA/방학/DATA/sample_submission.csv')\n",
        "# submit['class'] = class_le.inverse_transform(extra_preds)\n",
        "# submit.to_csv('/content/drive/MyDrive/ESAA/방학/DATA/submit_extra.csv', index=False)"
      ],
      "metadata": {
        "id": "_3mMGhgnN4b8"
      },
      "execution_count": null,
      "outputs": []
    },
    {
      "cell_type": "markdown",
      "source": [
        "##**5. 변수결합**"
      ],
      "metadata": {
        "id": "NptXBG44z3QY"
      }
    },
    {
      "cell_type": "markdown",
      "source": [
        "###**5-1**\n",
        "5, 6, 8 결합"
      ],
      "metadata": {
        "id": "C0QD8F2tz8OP"
      }
    },
    {
      "cell_type": "code",
      "source": [
        "train_comb = pd.read_csv(\"/content/drive/MyDrive/ESAA/방학/DATA/train.csv\")\n",
        "test_comb = pd.read_csv('/content/drive/MyDrive/ESAA/방학/DATA/test.csv')"
      ],
      "metadata": {
        "id": "fxooCWui4Fvy"
      },
      "execution_count": null,
      "outputs": []
    },
    {
      "cell_type": "code",
      "source": [
        "train_comb[\"SNP_05_06_08\"] = (train_comb['SNP_05'].astype(str)+ \"_\"+ train_comb['SNP_06'].astype(str)+ \"_\"+ train_comb['SNP_08'].astype(str))\n",
        "test_comb[\"SNP_05_06_08\"] = (test_comb['SNP_05'].astype(str)+ \"_\"+ test_comb['SNP_06'].astype(str)+ \"_\"+ test_comb['SNP_08'].astype(str))\n",
        "train_comb.head()"
      ],
      "metadata": {
        "colab": {
          "base_uri": "https://localhost:8080/",
          "height": 235
        },
        "id": "Sz7120eLz20X",
        "outputId": "08820946-cf43-45ba-9b92-91fa4d62298a"
      },
      "execution_count": null,
      "outputs": [
        {
          "output_type": "execute_result",
          "data": {
            "text/plain": [
              "          id  father  mother  gender  trait SNP_01 SNP_02 SNP_03 SNP_04  \\\n",
              "0  TRAIN_000       0       0       0      2    G G    A G    A A    G A   \n",
              "1  TRAIN_001       0       0       0      2    A G    A G    C A    A A   \n",
              "2  TRAIN_002       0       0       0      2    G G    G G    A A    G A   \n",
              "3  TRAIN_003       0       0       0      1    A A    G G    A A    G A   \n",
              "4  TRAIN_004       0       0       0      2    G G    G G    C C    A A   \n",
              "\n",
              "  SNP_05  ... SNP_08 SNP_09 SNP_10 SNP_11 SNP_12 SNP_13 SNP_14 SNP_15 class  \\\n",
              "0    C A  ...    G G    A A    G G    A G    A A    A A    A A    A A     B   \n",
              "1    A A  ...    G A    A A    A G    A A    G A    G G    A A    A A     C   \n",
              "2    C C  ...    G A    G A    A G    A A    A A    A A    A A    A A     B   \n",
              "3    A A  ...    A A    G G    A G    G G    G G    G G    A A    G G     A   \n",
              "4    C C  ...    A A    A A    G G    A A    A A    A G    A A    G A     C   \n",
              "\n",
              "  SNP_05_06_08  \n",
              "0  C A_A A_G G  \n",
              "1  A A_A G_G A  \n",
              "2  C C_G G_G A  \n",
              "3  A A_G G_A A  \n",
              "4  C C_A A_A A  \n",
              "\n",
              "[5 rows x 22 columns]"
            ],
            "text/html": [
              "\n",
              "  <div id=\"df-f48121c1-70d3-45ae-87e0-339d9e57a2a4\">\n",
              "    <div class=\"colab-df-container\">\n",
              "      <div>\n",
              "<style scoped>\n",
              "    .dataframe tbody tr th:only-of-type {\n",
              "        vertical-align: middle;\n",
              "    }\n",
              "\n",
              "    .dataframe tbody tr th {\n",
              "        vertical-align: top;\n",
              "    }\n",
              "\n",
              "    .dataframe thead th {\n",
              "        text-align: right;\n",
              "    }\n",
              "</style>\n",
              "<table border=\"1\" class=\"dataframe\">\n",
              "  <thead>\n",
              "    <tr style=\"text-align: right;\">\n",
              "      <th></th>\n",
              "      <th>id</th>\n",
              "      <th>father</th>\n",
              "      <th>mother</th>\n",
              "      <th>gender</th>\n",
              "      <th>trait</th>\n",
              "      <th>SNP_01</th>\n",
              "      <th>SNP_02</th>\n",
              "      <th>SNP_03</th>\n",
              "      <th>SNP_04</th>\n",
              "      <th>SNP_05</th>\n",
              "      <th>...</th>\n",
              "      <th>SNP_08</th>\n",
              "      <th>SNP_09</th>\n",
              "      <th>SNP_10</th>\n",
              "      <th>SNP_11</th>\n",
              "      <th>SNP_12</th>\n",
              "      <th>SNP_13</th>\n",
              "      <th>SNP_14</th>\n",
              "      <th>SNP_15</th>\n",
              "      <th>class</th>\n",
              "      <th>SNP_05_06_08</th>\n",
              "    </tr>\n",
              "  </thead>\n",
              "  <tbody>\n",
              "    <tr>\n",
              "      <th>0</th>\n",
              "      <td>TRAIN_000</td>\n",
              "      <td>0</td>\n",
              "      <td>0</td>\n",
              "      <td>0</td>\n",
              "      <td>2</td>\n",
              "      <td>G G</td>\n",
              "      <td>A G</td>\n",
              "      <td>A A</td>\n",
              "      <td>G A</td>\n",
              "      <td>C A</td>\n",
              "      <td>...</td>\n",
              "      <td>G G</td>\n",
              "      <td>A A</td>\n",
              "      <td>G G</td>\n",
              "      <td>A G</td>\n",
              "      <td>A A</td>\n",
              "      <td>A A</td>\n",
              "      <td>A A</td>\n",
              "      <td>A A</td>\n",
              "      <td>B</td>\n",
              "      <td>C A_A A_G G</td>\n",
              "    </tr>\n",
              "    <tr>\n",
              "      <th>1</th>\n",
              "      <td>TRAIN_001</td>\n",
              "      <td>0</td>\n",
              "      <td>0</td>\n",
              "      <td>0</td>\n",
              "      <td>2</td>\n",
              "      <td>A G</td>\n",
              "      <td>A G</td>\n",
              "      <td>C A</td>\n",
              "      <td>A A</td>\n",
              "      <td>A A</td>\n",
              "      <td>...</td>\n",
              "      <td>G A</td>\n",
              "      <td>A A</td>\n",
              "      <td>A G</td>\n",
              "      <td>A A</td>\n",
              "      <td>G A</td>\n",
              "      <td>G G</td>\n",
              "      <td>A A</td>\n",
              "      <td>A A</td>\n",
              "      <td>C</td>\n",
              "      <td>A A_A G_G A</td>\n",
              "    </tr>\n",
              "    <tr>\n",
              "      <th>2</th>\n",
              "      <td>TRAIN_002</td>\n",
              "      <td>0</td>\n",
              "      <td>0</td>\n",
              "      <td>0</td>\n",
              "      <td>2</td>\n",
              "      <td>G G</td>\n",
              "      <td>G G</td>\n",
              "      <td>A A</td>\n",
              "      <td>G A</td>\n",
              "      <td>C C</td>\n",
              "      <td>...</td>\n",
              "      <td>G A</td>\n",
              "      <td>G A</td>\n",
              "      <td>A G</td>\n",
              "      <td>A A</td>\n",
              "      <td>A A</td>\n",
              "      <td>A A</td>\n",
              "      <td>A A</td>\n",
              "      <td>A A</td>\n",
              "      <td>B</td>\n",
              "      <td>C C_G G_G A</td>\n",
              "    </tr>\n",
              "    <tr>\n",
              "      <th>3</th>\n",
              "      <td>TRAIN_003</td>\n",
              "      <td>0</td>\n",
              "      <td>0</td>\n",
              "      <td>0</td>\n",
              "      <td>1</td>\n",
              "      <td>A A</td>\n",
              "      <td>G G</td>\n",
              "      <td>A A</td>\n",
              "      <td>G A</td>\n",
              "      <td>A A</td>\n",
              "      <td>...</td>\n",
              "      <td>A A</td>\n",
              "      <td>G G</td>\n",
              "      <td>A G</td>\n",
              "      <td>G G</td>\n",
              "      <td>G G</td>\n",
              "      <td>G G</td>\n",
              "      <td>A A</td>\n",
              "      <td>G G</td>\n",
              "      <td>A</td>\n",
              "      <td>A A_G G_A A</td>\n",
              "    </tr>\n",
              "    <tr>\n",
              "      <th>4</th>\n",
              "      <td>TRAIN_004</td>\n",
              "      <td>0</td>\n",
              "      <td>0</td>\n",
              "      <td>0</td>\n",
              "      <td>2</td>\n",
              "      <td>G G</td>\n",
              "      <td>G G</td>\n",
              "      <td>C C</td>\n",
              "      <td>A A</td>\n",
              "      <td>C C</td>\n",
              "      <td>...</td>\n",
              "      <td>A A</td>\n",
              "      <td>A A</td>\n",
              "      <td>G G</td>\n",
              "      <td>A A</td>\n",
              "      <td>A A</td>\n",
              "      <td>A G</td>\n",
              "      <td>A A</td>\n",
              "      <td>G A</td>\n",
              "      <td>C</td>\n",
              "      <td>C C_A A_A A</td>\n",
              "    </tr>\n",
              "  </tbody>\n",
              "</table>\n",
              "<p>5 rows × 22 columns</p>\n",
              "</div>\n",
              "      <button class=\"colab-df-convert\" onclick=\"convertToInteractive('df-f48121c1-70d3-45ae-87e0-339d9e57a2a4')\"\n",
              "              title=\"Convert this dataframe to an interactive table.\"\n",
              "              style=\"display:none;\">\n",
              "        \n",
              "  <svg xmlns=\"http://www.w3.org/2000/svg\" height=\"24px\"viewBox=\"0 0 24 24\"\n",
              "       width=\"24px\">\n",
              "    <path d=\"M0 0h24v24H0V0z\" fill=\"none\"/>\n",
              "    <path d=\"M18.56 5.44l.94 2.06.94-2.06 2.06-.94-2.06-.94-.94-2.06-.94 2.06-2.06.94zm-11 1L8.5 8.5l.94-2.06 2.06-.94-2.06-.94L8.5 2.5l-.94 2.06-2.06.94zm10 10l.94 2.06.94-2.06 2.06-.94-2.06-.94-.94-2.06-.94 2.06-2.06.94z\"/><path d=\"M17.41 7.96l-1.37-1.37c-.4-.4-.92-.59-1.43-.59-.52 0-1.04.2-1.43.59L10.3 9.45l-7.72 7.72c-.78.78-.78 2.05 0 2.83L4 21.41c.39.39.9.59 1.41.59.51 0 1.02-.2 1.41-.59l7.78-7.78 2.81-2.81c.8-.78.8-2.07 0-2.86zM5.41 20L4 18.59l7.72-7.72 1.47 1.35L5.41 20z\"/>\n",
              "  </svg>\n",
              "      </button>\n",
              "      \n",
              "  <style>\n",
              "    .colab-df-container {\n",
              "      display:flex;\n",
              "      flex-wrap:wrap;\n",
              "      gap: 12px;\n",
              "    }\n",
              "\n",
              "    .colab-df-convert {\n",
              "      background-color: #E8F0FE;\n",
              "      border: none;\n",
              "      border-radius: 50%;\n",
              "      cursor: pointer;\n",
              "      display: none;\n",
              "      fill: #1967D2;\n",
              "      height: 32px;\n",
              "      padding: 0 0 0 0;\n",
              "      width: 32px;\n",
              "    }\n",
              "\n",
              "    .colab-df-convert:hover {\n",
              "      background-color: #E2EBFA;\n",
              "      box-shadow: 0px 1px 2px rgba(60, 64, 67, 0.3), 0px 1px 3px 1px rgba(60, 64, 67, 0.15);\n",
              "      fill: #174EA6;\n",
              "    }\n",
              "\n",
              "    [theme=dark] .colab-df-convert {\n",
              "      background-color: #3B4455;\n",
              "      fill: #D2E3FC;\n",
              "    }\n",
              "\n",
              "    [theme=dark] .colab-df-convert:hover {\n",
              "      background-color: #434B5C;\n",
              "      box-shadow: 0px 1px 3px 1px rgba(0, 0, 0, 0.15);\n",
              "      filter: drop-shadow(0px 1px 2px rgba(0, 0, 0, 0.3));\n",
              "      fill: #FFFFFF;\n",
              "    }\n",
              "  </style>\n",
              "\n",
              "      <script>\n",
              "        const buttonEl =\n",
              "          document.querySelector('#df-f48121c1-70d3-45ae-87e0-339d9e57a2a4 button.colab-df-convert');\n",
              "        buttonEl.style.display =\n",
              "          google.colab.kernel.accessAllowed ? 'block' : 'none';\n",
              "\n",
              "        async function convertToInteractive(key) {\n",
              "          const element = document.querySelector('#df-f48121c1-70d3-45ae-87e0-339d9e57a2a4');\n",
              "          const dataTable =\n",
              "            await google.colab.kernel.invokeFunction('convertToInteractive',\n",
              "                                                     [key], {});\n",
              "          if (!dataTable) return;\n",
              "\n",
              "          const docLinkHtml = 'Like what you see? Visit the ' +\n",
              "            '<a target=\"_blank\" href=https://colab.research.google.com/notebooks/data_table.ipynb>data table notebook</a>'\n",
              "            + ' to learn more about interactive tables.';\n",
              "          element.innerHTML = '';\n",
              "          dataTable['output_type'] = 'display_data';\n",
              "          await google.colab.output.renderOutput(dataTable, element);\n",
              "          const docLink = document.createElement('div');\n",
              "          docLink.innerHTML = docLinkHtml;\n",
              "          element.appendChild(docLink);\n",
              "        }\n",
              "      </script>\n",
              "    </div>\n",
              "  </div>\n",
              "  "
            ]
          },
          "metadata": {},
          "execution_count": 243
        }
      ]
    },
    {
      "cell_type": "code",
      "source": [
        "train_comb = train_comb.drop(['SNP_05','SNP_06','SNP_08'], axis=1)\n",
        "train_comb[\"SNP_05_06_08\"].astype(object)\n",
        "test_comb = test_comb.drop(['SNP_05','SNP_06','SNP_08'], axis=1)\n",
        "test_comb[\"SNP_05_06_08\"].astype(object)\n",
        "train_comb.head()"
      ],
      "metadata": {
        "id": "TEfvffC_2wYA",
        "colab": {
          "base_uri": "https://localhost:8080/",
          "height": 206
        },
        "outputId": "3419ff3f-1b34-414e-85ae-ef26febcdf06"
      },
      "execution_count": null,
      "outputs": [
        {
          "output_type": "execute_result",
          "data": {
            "text/plain": [
              "          id  father  mother  gender  trait SNP_01 SNP_02 SNP_03 SNP_04  \\\n",
              "0  TRAIN_000       0       0       0      2    G G    A G    A A    G A   \n",
              "1  TRAIN_001       0       0       0      2    A G    A G    C A    A A   \n",
              "2  TRAIN_002       0       0       0      2    G G    G G    A A    G A   \n",
              "3  TRAIN_003       0       0       0      1    A A    G G    A A    G A   \n",
              "4  TRAIN_004       0       0       0      2    G G    G G    C C    A A   \n",
              "\n",
              "  SNP_07 SNP_09 SNP_10 SNP_11 SNP_12 SNP_13 SNP_14 SNP_15 class SNP_05_06_08  \n",
              "0    A A    A A    G G    A G    A A    A A    A A    A A     B  C A_A A_G G  \n",
              "1    A A    A A    A G    A A    G A    G G    A A    A A     C  A A_A G_G A  \n",
              "2    A A    G A    A G    A A    A A    A A    A A    A A     B  C C_G G_G A  \n",
              "3    G G    G G    A G    G G    G G    G G    A A    G G     A  A A_G G_A A  \n",
              "4    A A    A A    G G    A A    A A    A G    A A    G A     C  C C_A A_A A  "
            ],
            "text/html": [
              "\n",
              "  <div id=\"df-e3ec24c2-7507-4bc1-87ed-c2dc0068651d\">\n",
              "    <div class=\"colab-df-container\">\n",
              "      <div>\n",
              "<style scoped>\n",
              "    .dataframe tbody tr th:only-of-type {\n",
              "        vertical-align: middle;\n",
              "    }\n",
              "\n",
              "    .dataframe tbody tr th {\n",
              "        vertical-align: top;\n",
              "    }\n",
              "\n",
              "    .dataframe thead th {\n",
              "        text-align: right;\n",
              "    }\n",
              "</style>\n",
              "<table border=\"1\" class=\"dataframe\">\n",
              "  <thead>\n",
              "    <tr style=\"text-align: right;\">\n",
              "      <th></th>\n",
              "      <th>id</th>\n",
              "      <th>father</th>\n",
              "      <th>mother</th>\n",
              "      <th>gender</th>\n",
              "      <th>trait</th>\n",
              "      <th>SNP_01</th>\n",
              "      <th>SNP_02</th>\n",
              "      <th>SNP_03</th>\n",
              "      <th>SNP_04</th>\n",
              "      <th>SNP_07</th>\n",
              "      <th>SNP_09</th>\n",
              "      <th>SNP_10</th>\n",
              "      <th>SNP_11</th>\n",
              "      <th>SNP_12</th>\n",
              "      <th>SNP_13</th>\n",
              "      <th>SNP_14</th>\n",
              "      <th>SNP_15</th>\n",
              "      <th>class</th>\n",
              "      <th>SNP_05_06_08</th>\n",
              "    </tr>\n",
              "  </thead>\n",
              "  <tbody>\n",
              "    <tr>\n",
              "      <th>0</th>\n",
              "      <td>TRAIN_000</td>\n",
              "      <td>0</td>\n",
              "      <td>0</td>\n",
              "      <td>0</td>\n",
              "      <td>2</td>\n",
              "      <td>G G</td>\n",
              "      <td>A G</td>\n",
              "      <td>A A</td>\n",
              "      <td>G A</td>\n",
              "      <td>A A</td>\n",
              "      <td>A A</td>\n",
              "      <td>G G</td>\n",
              "      <td>A G</td>\n",
              "      <td>A A</td>\n",
              "      <td>A A</td>\n",
              "      <td>A A</td>\n",
              "      <td>A A</td>\n",
              "      <td>B</td>\n",
              "      <td>C A_A A_G G</td>\n",
              "    </tr>\n",
              "    <tr>\n",
              "      <th>1</th>\n",
              "      <td>TRAIN_001</td>\n",
              "      <td>0</td>\n",
              "      <td>0</td>\n",
              "      <td>0</td>\n",
              "      <td>2</td>\n",
              "      <td>A G</td>\n",
              "      <td>A G</td>\n",
              "      <td>C A</td>\n",
              "      <td>A A</td>\n",
              "      <td>A A</td>\n",
              "      <td>A A</td>\n",
              "      <td>A G</td>\n",
              "      <td>A A</td>\n",
              "      <td>G A</td>\n",
              "      <td>G G</td>\n",
              "      <td>A A</td>\n",
              "      <td>A A</td>\n",
              "      <td>C</td>\n",
              "      <td>A A_A G_G A</td>\n",
              "    </tr>\n",
              "    <tr>\n",
              "      <th>2</th>\n",
              "      <td>TRAIN_002</td>\n",
              "      <td>0</td>\n",
              "      <td>0</td>\n",
              "      <td>0</td>\n",
              "      <td>2</td>\n",
              "      <td>G G</td>\n",
              "      <td>G G</td>\n",
              "      <td>A A</td>\n",
              "      <td>G A</td>\n",
              "      <td>A A</td>\n",
              "      <td>G A</td>\n",
              "      <td>A G</td>\n",
              "      <td>A A</td>\n",
              "      <td>A A</td>\n",
              "      <td>A A</td>\n",
              "      <td>A A</td>\n",
              "      <td>A A</td>\n",
              "      <td>B</td>\n",
              "      <td>C C_G G_G A</td>\n",
              "    </tr>\n",
              "    <tr>\n",
              "      <th>3</th>\n",
              "      <td>TRAIN_003</td>\n",
              "      <td>0</td>\n",
              "      <td>0</td>\n",
              "      <td>0</td>\n",
              "      <td>1</td>\n",
              "      <td>A A</td>\n",
              "      <td>G G</td>\n",
              "      <td>A A</td>\n",
              "      <td>G A</td>\n",
              "      <td>G G</td>\n",
              "      <td>G G</td>\n",
              "      <td>A G</td>\n",
              "      <td>G G</td>\n",
              "      <td>G G</td>\n",
              "      <td>G G</td>\n",
              "      <td>A A</td>\n",
              "      <td>G G</td>\n",
              "      <td>A</td>\n",
              "      <td>A A_G G_A A</td>\n",
              "    </tr>\n",
              "    <tr>\n",
              "      <th>4</th>\n",
              "      <td>TRAIN_004</td>\n",
              "      <td>0</td>\n",
              "      <td>0</td>\n",
              "      <td>0</td>\n",
              "      <td>2</td>\n",
              "      <td>G G</td>\n",
              "      <td>G G</td>\n",
              "      <td>C C</td>\n",
              "      <td>A A</td>\n",
              "      <td>A A</td>\n",
              "      <td>A A</td>\n",
              "      <td>G G</td>\n",
              "      <td>A A</td>\n",
              "      <td>A A</td>\n",
              "      <td>A G</td>\n",
              "      <td>A A</td>\n",
              "      <td>G A</td>\n",
              "      <td>C</td>\n",
              "      <td>C C_A A_A A</td>\n",
              "    </tr>\n",
              "  </tbody>\n",
              "</table>\n",
              "</div>\n",
              "      <button class=\"colab-df-convert\" onclick=\"convertToInteractive('df-e3ec24c2-7507-4bc1-87ed-c2dc0068651d')\"\n",
              "              title=\"Convert this dataframe to an interactive table.\"\n",
              "              style=\"display:none;\">\n",
              "        \n",
              "  <svg xmlns=\"http://www.w3.org/2000/svg\" height=\"24px\"viewBox=\"0 0 24 24\"\n",
              "       width=\"24px\">\n",
              "    <path d=\"M0 0h24v24H0V0z\" fill=\"none\"/>\n",
              "    <path d=\"M18.56 5.44l.94 2.06.94-2.06 2.06-.94-2.06-.94-.94-2.06-.94 2.06-2.06.94zm-11 1L8.5 8.5l.94-2.06 2.06-.94-2.06-.94L8.5 2.5l-.94 2.06-2.06.94zm10 10l.94 2.06.94-2.06 2.06-.94-2.06-.94-.94-2.06-.94 2.06-2.06.94z\"/><path d=\"M17.41 7.96l-1.37-1.37c-.4-.4-.92-.59-1.43-.59-.52 0-1.04.2-1.43.59L10.3 9.45l-7.72 7.72c-.78.78-.78 2.05 0 2.83L4 21.41c.39.39.9.59 1.41.59.51 0 1.02-.2 1.41-.59l7.78-7.78 2.81-2.81c.8-.78.8-2.07 0-2.86zM5.41 20L4 18.59l7.72-7.72 1.47 1.35L5.41 20z\"/>\n",
              "  </svg>\n",
              "      </button>\n",
              "      \n",
              "  <style>\n",
              "    .colab-df-container {\n",
              "      display:flex;\n",
              "      flex-wrap:wrap;\n",
              "      gap: 12px;\n",
              "    }\n",
              "\n",
              "    .colab-df-convert {\n",
              "      background-color: #E8F0FE;\n",
              "      border: none;\n",
              "      border-radius: 50%;\n",
              "      cursor: pointer;\n",
              "      display: none;\n",
              "      fill: #1967D2;\n",
              "      height: 32px;\n",
              "      padding: 0 0 0 0;\n",
              "      width: 32px;\n",
              "    }\n",
              "\n",
              "    .colab-df-convert:hover {\n",
              "      background-color: #E2EBFA;\n",
              "      box-shadow: 0px 1px 2px rgba(60, 64, 67, 0.3), 0px 1px 3px 1px rgba(60, 64, 67, 0.15);\n",
              "      fill: #174EA6;\n",
              "    }\n",
              "\n",
              "    [theme=dark] .colab-df-convert {\n",
              "      background-color: #3B4455;\n",
              "      fill: #D2E3FC;\n",
              "    }\n",
              "\n",
              "    [theme=dark] .colab-df-convert:hover {\n",
              "      background-color: #434B5C;\n",
              "      box-shadow: 0px 1px 3px 1px rgba(0, 0, 0, 0.15);\n",
              "      filter: drop-shadow(0px 1px 2px rgba(0, 0, 0, 0.3));\n",
              "      fill: #FFFFFF;\n",
              "    }\n",
              "  </style>\n",
              "\n",
              "      <script>\n",
              "        const buttonEl =\n",
              "          document.querySelector('#df-e3ec24c2-7507-4bc1-87ed-c2dc0068651d button.colab-df-convert');\n",
              "        buttonEl.style.display =\n",
              "          google.colab.kernel.accessAllowed ? 'block' : 'none';\n",
              "\n",
              "        async function convertToInteractive(key) {\n",
              "          const element = document.querySelector('#df-e3ec24c2-7507-4bc1-87ed-c2dc0068651d');\n",
              "          const dataTable =\n",
              "            await google.colab.kernel.invokeFunction('convertToInteractive',\n",
              "                                                     [key], {});\n",
              "          if (!dataTable) return;\n",
              "\n",
              "          const docLinkHtml = 'Like what you see? Visit the ' +\n",
              "            '<a target=\"_blank\" href=https://colab.research.google.com/notebooks/data_table.ipynb>data table notebook</a>'\n",
              "            + ' to learn more about interactive tables.';\n",
              "          element.innerHTML = '';\n",
              "          dataTable['output_type'] = 'display_data';\n",
              "          await google.colab.output.renderOutput(dataTable, element);\n",
              "          const docLink = document.createElement('div');\n",
              "          docLink.innerHTML = docLinkHtml;\n",
              "          element.appendChild(docLink);\n",
              "        }\n",
              "      </script>\n",
              "    </div>\n",
              "  </div>\n",
              "  "
            ]
          },
          "metadata": {},
          "execution_count": 244
        }
      ]
    },
    {
      "cell_type": "code",
      "source": [
        "train_x_comb, train_y_comb = get_x_y(train_comb)\n",
        "test_x_comb = get_x_y(test_comb)"
      ],
      "metadata": {
        "id": "KwUK3YhX3_2t"
      },
      "execution_count": null,
      "outputs": []
    },
    {
      "cell_type": "markdown",
      "source": [
        "### **Label-Encoding**"
      ],
      "metadata": {
        "id": "Byv6rVVg4e3i"
      }
    },
    {
      "cell_type": "code",
      "source": [
        "class_le = preprocessing.LabelEncoder()\n",
        "snp_le = preprocessing.LabelEncoder()\n",
        "snp_col_comb = ['SNP_01','SNP_02','SNP_03','SNP_04','SNP_07','SNP_09','SNP_10','SNP_11','SNP_12','SNP_13','SNP_14','SNP_15','SNP_05_06_08']"
      ],
      "metadata": {
        "id": "vpxDIiiH4e3i"
      },
      "execution_count": null,
      "outputs": []
    },
    {
      "cell_type": "code",
      "source": [
        "snp_data_comb = []\n",
        "for col in snp_col_comb:\n",
        "    snp_data_comb += list(train_x_comb[col].values)"
      ],
      "metadata": {
        "id": "G6tA2eKD4e3i"
      },
      "execution_count": null,
      "outputs": []
    },
    {
      "cell_type": "code",
      "source": [
        "train_y_comb = class_le.fit_transform(train_y_comb)\n",
        "snp_le.fit(snp_data_comb)"
      ],
      "metadata": {
        "colab": {
          "base_uri": "https://localhost:8080/"
        },
        "outputId": "3334beab-1bc6-4331-fa31-d011c36a7b97",
        "id": "91ZKnvin4e3i"
      },
      "execution_count": null,
      "outputs": [
        {
          "output_type": "execute_result",
          "data": {
            "text/plain": [
              "LabelEncoder()"
            ]
          },
          "metadata": {},
          "execution_count": 250
        }
      ]
    },
    {
      "cell_type": "code",
      "source": [
        "for col in train_x_comb.columns:\n",
        "    if col in snp_col_comb:\n",
        "        train_x_comb[col] = snp_le.transform(train_x_comb[col])\n",
        "        test_x_comb[col] = snp_le.transform(test_x_comb[col])"
      ],
      "metadata": {
        "id": "tsP_qQDc4e3j"
      },
      "execution_count": null,
      "outputs": []
    },
    {
      "cell_type": "code",
      "source": [
        "#train, test dataset 분리\n",
        "from sklearn.model_selection import train_test_split\n",
        "X_train_comb, X_tr_test_comb, y_train_comb, y_tr_test_comb = train_test_split(train_x_comb, train_y_comb, test_size=0.2, random_state=156)"
      ],
      "metadata": {
        "id": "IIA-yY3g2-RI"
      },
      "execution_count": null,
      "outputs": []
    },
    {
      "cell_type": "markdown",
      "source": [
        "##**6. 제출**"
      ],
      "metadata": {
        "id": "jNgmYU4X6hYk"
      }
    },
    {
      "cell_type": "code",
      "source": [
        "# 개별 모델을 소프트 보팅 기반의 앙상블 모델로 구현한 분류기 \n",
        "from sklearn.ensemble import VotingClassifier\n",
        "vo_clf = VotingClassifier(estimators=[('dt',dt_clf),('RF',rf_clf),('XGB',xgb_clf),('GBM',gbm_clf),\n",
        "                                      ('LGBM',lgbm_clf),('LR',lr_clf),('KNN',knn_clf),('ETC',extra_clf)] , voting='soft')\n",
        "get_model_train_eval(vo_clf, ftr_train=X_train, ftr_test=X_tr_test, tgt_train=y_train, tgt_test=y_tr_test)\n",
        "\n",
        "# 개별 모델의 학습/예측/평가\n",
        "classifiers = [dt_clf,rf_clf,xgb_clf,gbm_clf,lgbm_clf,lr_clf,knn_clf,extra_clf]\n",
        "for classifier in classifiers:\n",
        "    classifier.fit(X_train, y_train)\n",
        "    pred = classifier.predict(X_tr_test)\n",
        "    class_name= classifier.__class__.__name__\n",
        "    print('{0} 정확도: {1:.4f}'.format(class_name, f1_score(y_tr_test, pred, average='macro')))"
      ],
      "metadata": {
        "colab": {
          "base_uri": "https://localhost:8080/"
        },
        "outputId": "60128f7b-0b47-47d1-d912-249312aa8e46",
        "id": "YHCJ3CGdNti9"
      },
      "execution_count": null,
      "outputs": [
        {
          "output_type": "stream",
          "name": "stdout",
          "text": [
            "오차 행렬\n",
            "[[11  0  0]\n",
            " [ 0 25  0]\n",
            " [ 0  1 16]]\n",
            "정확도: 0.9811, 정밀도: 0.9872, 재현율: 0.9804, F1: 0.9834\n",
            "DecisionTreeClassifier 정확도: 0.9012\n",
            "RandomForestClassifier 정확도: 0.9834\n",
            "XGBClassifier 정확도: 0.9834\n",
            "GradientBoostingClassifier 정확도: 0.9834\n",
            "LGBMClassifier 정확도: 0.9834\n",
            "LogisticRegression 정확도: 0.9267\n",
            "KNeighborsClassifier 정확도: 0.9501\n",
            "ExtraTreesClassifier 정확도: 0.9671\n"
          ]
        }
      ]
    },
    {
      "cell_type": "code",
      "source": [
        "vo_preds = vo_clf.predict(test_x)\n",
        "# submit = pd.read_csv('/content/drive/MyDrive/ESAA/방학/DATA/sample_submission.csv')\n",
        "# submit['class'] = class_le.inverse_transform(vo_preds)\n",
        "# submit.to_csv('/content/drive/MyDrive/ESAA/방학/DATA/submit_voting.csv', index=False)"
      ],
      "metadata": {
        "id": "yXPjDLE7hXCD"
      },
      "execution_count": null,
      "outputs": []
    }
  ]
}