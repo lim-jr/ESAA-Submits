{
  "nbformat": 4,
  "nbformat_minor": 0,
  "metadata": {
    "colab": {
      "provenance": [],
      "include_colab_link": true
    },
    "kernelspec": {
      "name": "python3",
      "display_name": "Python 3"
    },
    "language_info": {
      "name": "python"
    }
  },
  "cells": [
    {
      "cell_type": "markdown",
      "metadata": {
        "id": "view-in-github",
        "colab_type": "text"
      },
      "source": [
        "<a href=\"https://colab.research.google.com/github/lim-jr/ESAA/blob/main/%EB%B0%A9%ED%95%99%ED%94%8C%EC%A0%9D1_%EB%B3%80%EC%88%98%EA%B2%B0%ED%95%A9%EC%B7%A8%ED%95%A9.ipynb\" target=\"_parent\"><img src=\"https://colab.research.google.com/assets/colab-badge.svg\" alt=\"Open In Colab\"/></a>"
      ]
    },
    {
      "cell_type": "markdown",
      "source": [
        "# **유전체 정보 품종 분류 AI 경진대회**\n",
        "\n",
        "https://dacon.io/competitions/official/236035/overview/description\n",
        "\n",
        "###**배경**\n",
        "유전체 염기서열에서 획득한 유전체 변이 정보인 Single Nucleotide Polymorphism 정보는 특정 개체 및 특정 품종에 따라 다른 변이 양상을 나타낼 수 있기 때문에 동일개체를 확인하거나,동일 품종을 구분하는데 활용이 가능합니다. 따라서 이번 경진대회에서는 개체 정보와 SNP 정보를 이용하여 A, B, C 품종을 분류하는 최고의 품종구분 정확도를 획득하는 것이 목표입니다.\n",
        "농축수산 현장에서는 유전체 변이정보를 이용해서 품종을 구분하는 연구를 통해 품종의 다양성 혹은 품종 부정유통을 방지하기 위해 많이 활용하게 됩니다.\n",
        "\n",
        "\n",
        "###**주제**\n",
        "개체와 SNP 정보를 이용하여 품종 분류 AI 모델 개발\n",
        "\n",
        "\n",
        "\n",
        "###**설명**\n",
        "시장에서 세 품종이 동시에 유통될 때, 각 품종의 고유한 생산품목(우유 및 식육)의 가치 및 가격 산정에 부정유통이 차단되기 위해 현장에서 사용 할 수 있는 AI 모델이 필요합니다.\n",
        "\n",
        "즉, 많은 SNP 정보를 통해 분류하는 것보다, 보다 더 적은 SNP 정보로 높은 분류 성능을 내는 것이 중요합니다.\n",
        "\n",
        "따라서 이번 경진대회에서는 개체 정보와 사전에 구성된 15개의 SNP 정보를 바탕으로 품종 분류 모델을 개발해야 합니다.\n",
        "\n"
      ],
      "metadata": {
        "id": "WgU8nIDr5k8z"
      }
    },
    {
      "cell_type": "markdown",
      "source": [
        "##**1. 데이터 불러오기**"
      ],
      "metadata": {
        "id": "EHHS5MZn6Xns"
      }
    },
    {
      "cell_type": "code",
      "execution_count": null,
      "metadata": {
        "id": "2R-P2UlztG9R"
      },
      "outputs": [],
      "source": [
        "import pandas as pd\n",
        "import random\n",
        "import os\n",
        "import numpy as np\n",
        "\n",
        "from sklearn import preprocessing"
      ]
    },
    {
      "cell_type": "code",
      "source": [
        "class CFG:\n",
        "    SEED = 42\n",
        "def seed_everything(seed):\n",
        "    random.seed(seed)\n",
        "    os.environ['PYTHONHASHSEED'] = str(seed)\n",
        "    np.random.seed(seed)\n",
        "seed_everything(CFG.SEED) # Seed 고정"
      ],
      "metadata": {
        "id": "F6htYQ0dx08Y"
      },
      "execution_count": null,
      "outputs": []
    },
    {
      "cell_type": "code",
      "source": [
        "from google.colab import drive\n",
        "drive.mount('/content/drive')"
      ],
      "metadata": {
        "colab": {
          "base_uri": "https://localhost:8080/"
        },
        "id": "ybZ7fmVGEbZa",
        "outputId": "aa6f898b-ad12-42de-9006-84ab0cc73ff4"
      },
      "execution_count": null,
      "outputs": [
        {
          "output_type": "stream",
          "name": "stdout",
          "text": [
            "Mounted at /content/drive\n"
          ]
        }
      ]
    },
    {
      "cell_type": "code",
      "source": [
        "#train = pd.read_csv(\"/content/drive/MyDrive/ESAA/dacon/open/train.csv\")\n",
        "#test = pd.read_csv(\"/content/drive/MyDrive/ESAA/dacon/open/test.csv\")\n",
        "#snp_info = pd.read_csv(\"/content/drive/MyDrive/ESAA/dacon/open/snp_info.csv\")\n",
        "#train = pd.read_csv(\"/content/drive/MyDrive/ESAA/방학/DATA/train.csv\")\n",
        "#test = pd.read_csv('/content/drive/MyDrive/ESAA/방학/DATA/test.csv')\n",
        "# train=pd.read_csv('/content/drive/MyDrive/readcsv/유전체/train.csv')\n",
        "# test=pd.read_csv('/content/drive/MyDrive/readcsv/유전체/test.csv')\n",
        "# submit = pd.read_csv('/content/drive/MyDrive/readcsv/유전체/sample_submission.csv')\n",
        "# info=pd.read_csv('/content/drive/MyDrive/readcsv/유전체/snp_info.csv')\n",
        "train=pd.read_csv('/content/drive/MyDrive/ESAA/방학플젝1/snp_train.csv')\n",
        "test=pd.read_csv('/content/drive/MyDrive/ESAA/방학플젝1/snp_test.csv')\n",
        "submit=pd.read_csv('/content/drive/MyDrive/ESAA/방학플젝1/snp_sample_submission.csv')\n",
        "info=pd.read_csv('/content/drive/MyDrive/ESAA/방학플젝1/snp_info.csv')"
      ],
      "metadata": {
        "id": "0MyquObFuEif"
      },
      "execution_count": null,
      "outputs": []
    },
    {
      "cell_type": "code",
      "source": [
        "def resumetable(df):\n",
        "    print(f'데이터 세트 형상: {df.shape}')\n",
        "    summary = pd.DataFrame(df.dtypes, columns=['데이터 타입'])\n",
        "    summary = summary.reset_index()\n",
        "    summary = summary.rename(columns={'index': '피처'})\n",
        "    summary['결측값 개수'] = df.isnull().sum().values\n",
        "    summary['고윳값 개수'] = df.nunique().values\n",
        "    summary['첫 번째 값'] = df.loc[0].values\n",
        "    summary['두 번째 값'] = df.loc[1].values\n",
        "    summary['세 번째 값'] = df.loc[2].values\n",
        "\n",
        "    return summary\n",
        "\n",
        "resumetable(train)"
      ],
      "metadata": {
        "colab": {
          "base_uri": "https://localhost:8080/",
          "height": 726
        },
        "id": "C0Z0KQvwW-JV",
        "outputId": "2007be87-84c6-4432-f02e-8d3ab2594085"
      },
      "execution_count": null,
      "outputs": [
        {
          "output_type": "stream",
          "name": "stdout",
          "text": [
            "데이터 세트 형상: (262, 21)\n"
          ]
        },
        {
          "output_type": "execute_result",
          "data": {
            "text/plain": [
              "        피처  데이터 타입  결측값 개수  고윳값 개수     첫 번째 값     두 번째 값     세 번째 값\n",
              "0       id  object       0     262  TRAIN_000  TRAIN_001  TRAIN_002\n",
              "1   father   int64       0       1          0          0          0\n",
              "2   mother   int64       0       1          0          0          0\n",
              "3   gender   int64       0       1          0          0          0\n",
              "4    trait   int64       0       2          2          2          2\n",
              "5   SNP_01  object       0       3        G G        A G        G G\n",
              "6   SNP_02  object       0       3        A G        A G        G G\n",
              "7   SNP_03  object       0       3        A A        C A        A A\n",
              "8   SNP_04  object       0       3        G A        A A        G A\n",
              "9   SNP_05  object       0       3        C A        A A        C C\n",
              "10  SNP_06  object       0       3        A A        A G        G G\n",
              "11  SNP_07  object       0       3        A A        A A        A A\n",
              "12  SNP_08  object       0       3        G G        G A        G A\n",
              "13  SNP_09  object       0       3        A A        A A        G A\n",
              "14  SNP_10  object       0       3        G G        A G        A G\n",
              "15  SNP_11  object       0       3        A G        A A        A A\n",
              "16  SNP_12  object       0       3        A A        G A        A A\n",
              "17  SNP_13  object       0       3        A A        G G        A A\n",
              "18  SNP_14  object       0       3        A A        A A        A A\n",
              "19  SNP_15  object       0       3        A A        A A        A A\n",
              "20   class  object       0       3          B          C          B"
            ],
            "text/html": [
              "\n",
              "  <div id=\"df-4e26bffd-00ed-4046-835f-4cd35e841b0c\">\n",
              "    <div class=\"colab-df-container\">\n",
              "      <div>\n",
              "<style scoped>\n",
              "    .dataframe tbody tr th:only-of-type {\n",
              "        vertical-align: middle;\n",
              "    }\n",
              "\n",
              "    .dataframe tbody tr th {\n",
              "        vertical-align: top;\n",
              "    }\n",
              "\n",
              "    .dataframe thead th {\n",
              "        text-align: right;\n",
              "    }\n",
              "</style>\n",
              "<table border=\"1\" class=\"dataframe\">\n",
              "  <thead>\n",
              "    <tr style=\"text-align: right;\">\n",
              "      <th></th>\n",
              "      <th>피처</th>\n",
              "      <th>데이터 타입</th>\n",
              "      <th>결측값 개수</th>\n",
              "      <th>고윳값 개수</th>\n",
              "      <th>첫 번째 값</th>\n",
              "      <th>두 번째 값</th>\n",
              "      <th>세 번째 값</th>\n",
              "    </tr>\n",
              "  </thead>\n",
              "  <tbody>\n",
              "    <tr>\n",
              "      <th>0</th>\n",
              "      <td>id</td>\n",
              "      <td>object</td>\n",
              "      <td>0</td>\n",
              "      <td>262</td>\n",
              "      <td>TRAIN_000</td>\n",
              "      <td>TRAIN_001</td>\n",
              "      <td>TRAIN_002</td>\n",
              "    </tr>\n",
              "    <tr>\n",
              "      <th>1</th>\n",
              "      <td>father</td>\n",
              "      <td>int64</td>\n",
              "      <td>0</td>\n",
              "      <td>1</td>\n",
              "      <td>0</td>\n",
              "      <td>0</td>\n",
              "      <td>0</td>\n",
              "    </tr>\n",
              "    <tr>\n",
              "      <th>2</th>\n",
              "      <td>mother</td>\n",
              "      <td>int64</td>\n",
              "      <td>0</td>\n",
              "      <td>1</td>\n",
              "      <td>0</td>\n",
              "      <td>0</td>\n",
              "      <td>0</td>\n",
              "    </tr>\n",
              "    <tr>\n",
              "      <th>3</th>\n",
              "      <td>gender</td>\n",
              "      <td>int64</td>\n",
              "      <td>0</td>\n",
              "      <td>1</td>\n",
              "      <td>0</td>\n",
              "      <td>0</td>\n",
              "      <td>0</td>\n",
              "    </tr>\n",
              "    <tr>\n",
              "      <th>4</th>\n",
              "      <td>trait</td>\n",
              "      <td>int64</td>\n",
              "      <td>0</td>\n",
              "      <td>2</td>\n",
              "      <td>2</td>\n",
              "      <td>2</td>\n",
              "      <td>2</td>\n",
              "    </tr>\n",
              "    <tr>\n",
              "      <th>5</th>\n",
              "      <td>SNP_01</td>\n",
              "      <td>object</td>\n",
              "      <td>0</td>\n",
              "      <td>3</td>\n",
              "      <td>G G</td>\n",
              "      <td>A G</td>\n",
              "      <td>G G</td>\n",
              "    </tr>\n",
              "    <tr>\n",
              "      <th>6</th>\n",
              "      <td>SNP_02</td>\n",
              "      <td>object</td>\n",
              "      <td>0</td>\n",
              "      <td>3</td>\n",
              "      <td>A G</td>\n",
              "      <td>A G</td>\n",
              "      <td>G G</td>\n",
              "    </tr>\n",
              "    <tr>\n",
              "      <th>7</th>\n",
              "      <td>SNP_03</td>\n",
              "      <td>object</td>\n",
              "      <td>0</td>\n",
              "      <td>3</td>\n",
              "      <td>A A</td>\n",
              "      <td>C A</td>\n",
              "      <td>A A</td>\n",
              "    </tr>\n",
              "    <tr>\n",
              "      <th>8</th>\n",
              "      <td>SNP_04</td>\n",
              "      <td>object</td>\n",
              "      <td>0</td>\n",
              "      <td>3</td>\n",
              "      <td>G A</td>\n",
              "      <td>A A</td>\n",
              "      <td>G A</td>\n",
              "    </tr>\n",
              "    <tr>\n",
              "      <th>9</th>\n",
              "      <td>SNP_05</td>\n",
              "      <td>object</td>\n",
              "      <td>0</td>\n",
              "      <td>3</td>\n",
              "      <td>C A</td>\n",
              "      <td>A A</td>\n",
              "      <td>C C</td>\n",
              "    </tr>\n",
              "    <tr>\n",
              "      <th>10</th>\n",
              "      <td>SNP_06</td>\n",
              "      <td>object</td>\n",
              "      <td>0</td>\n",
              "      <td>3</td>\n",
              "      <td>A A</td>\n",
              "      <td>A G</td>\n",
              "      <td>G G</td>\n",
              "    </tr>\n",
              "    <tr>\n",
              "      <th>11</th>\n",
              "      <td>SNP_07</td>\n",
              "      <td>object</td>\n",
              "      <td>0</td>\n",
              "      <td>3</td>\n",
              "      <td>A A</td>\n",
              "      <td>A A</td>\n",
              "      <td>A A</td>\n",
              "    </tr>\n",
              "    <tr>\n",
              "      <th>12</th>\n",
              "      <td>SNP_08</td>\n",
              "      <td>object</td>\n",
              "      <td>0</td>\n",
              "      <td>3</td>\n",
              "      <td>G G</td>\n",
              "      <td>G A</td>\n",
              "      <td>G A</td>\n",
              "    </tr>\n",
              "    <tr>\n",
              "      <th>13</th>\n",
              "      <td>SNP_09</td>\n",
              "      <td>object</td>\n",
              "      <td>0</td>\n",
              "      <td>3</td>\n",
              "      <td>A A</td>\n",
              "      <td>A A</td>\n",
              "      <td>G A</td>\n",
              "    </tr>\n",
              "    <tr>\n",
              "      <th>14</th>\n",
              "      <td>SNP_10</td>\n",
              "      <td>object</td>\n",
              "      <td>0</td>\n",
              "      <td>3</td>\n",
              "      <td>G G</td>\n",
              "      <td>A G</td>\n",
              "      <td>A G</td>\n",
              "    </tr>\n",
              "    <tr>\n",
              "      <th>15</th>\n",
              "      <td>SNP_11</td>\n",
              "      <td>object</td>\n",
              "      <td>0</td>\n",
              "      <td>3</td>\n",
              "      <td>A G</td>\n",
              "      <td>A A</td>\n",
              "      <td>A A</td>\n",
              "    </tr>\n",
              "    <tr>\n",
              "      <th>16</th>\n",
              "      <td>SNP_12</td>\n",
              "      <td>object</td>\n",
              "      <td>0</td>\n",
              "      <td>3</td>\n",
              "      <td>A A</td>\n",
              "      <td>G A</td>\n",
              "      <td>A A</td>\n",
              "    </tr>\n",
              "    <tr>\n",
              "      <th>17</th>\n",
              "      <td>SNP_13</td>\n",
              "      <td>object</td>\n",
              "      <td>0</td>\n",
              "      <td>3</td>\n",
              "      <td>A A</td>\n",
              "      <td>G G</td>\n",
              "      <td>A A</td>\n",
              "    </tr>\n",
              "    <tr>\n",
              "      <th>18</th>\n",
              "      <td>SNP_14</td>\n",
              "      <td>object</td>\n",
              "      <td>0</td>\n",
              "      <td>3</td>\n",
              "      <td>A A</td>\n",
              "      <td>A A</td>\n",
              "      <td>A A</td>\n",
              "    </tr>\n",
              "    <tr>\n",
              "      <th>19</th>\n",
              "      <td>SNP_15</td>\n",
              "      <td>object</td>\n",
              "      <td>0</td>\n",
              "      <td>3</td>\n",
              "      <td>A A</td>\n",
              "      <td>A A</td>\n",
              "      <td>A A</td>\n",
              "    </tr>\n",
              "    <tr>\n",
              "      <th>20</th>\n",
              "      <td>class</td>\n",
              "      <td>object</td>\n",
              "      <td>0</td>\n",
              "      <td>3</td>\n",
              "      <td>B</td>\n",
              "      <td>C</td>\n",
              "      <td>B</td>\n",
              "    </tr>\n",
              "  </tbody>\n",
              "</table>\n",
              "</div>\n",
              "      <button class=\"colab-df-convert\" onclick=\"convertToInteractive('df-4e26bffd-00ed-4046-835f-4cd35e841b0c')\"\n",
              "              title=\"Convert this dataframe to an interactive table.\"\n",
              "              style=\"display:none;\">\n",
              "        \n",
              "  <svg xmlns=\"http://www.w3.org/2000/svg\" height=\"24px\"viewBox=\"0 0 24 24\"\n",
              "       width=\"24px\">\n",
              "    <path d=\"M0 0h24v24H0V0z\" fill=\"none\"/>\n",
              "    <path d=\"M18.56 5.44l.94 2.06.94-2.06 2.06-.94-2.06-.94-.94-2.06-.94 2.06-2.06.94zm-11 1L8.5 8.5l.94-2.06 2.06-.94-2.06-.94L8.5 2.5l-.94 2.06-2.06.94zm10 10l.94 2.06.94-2.06 2.06-.94-2.06-.94-.94-2.06-.94 2.06-2.06.94z\"/><path d=\"M17.41 7.96l-1.37-1.37c-.4-.4-.92-.59-1.43-.59-.52 0-1.04.2-1.43.59L10.3 9.45l-7.72 7.72c-.78.78-.78 2.05 0 2.83L4 21.41c.39.39.9.59 1.41.59.51 0 1.02-.2 1.41-.59l7.78-7.78 2.81-2.81c.8-.78.8-2.07 0-2.86zM5.41 20L4 18.59l7.72-7.72 1.47 1.35L5.41 20z\"/>\n",
              "  </svg>\n",
              "      </button>\n",
              "      \n",
              "  <style>\n",
              "    .colab-df-container {\n",
              "      display:flex;\n",
              "      flex-wrap:wrap;\n",
              "      gap: 12px;\n",
              "    }\n",
              "\n",
              "    .colab-df-convert {\n",
              "      background-color: #E8F0FE;\n",
              "      border: none;\n",
              "      border-radius: 50%;\n",
              "      cursor: pointer;\n",
              "      display: none;\n",
              "      fill: #1967D2;\n",
              "      height: 32px;\n",
              "      padding: 0 0 0 0;\n",
              "      width: 32px;\n",
              "    }\n",
              "\n",
              "    .colab-df-convert:hover {\n",
              "      background-color: #E2EBFA;\n",
              "      box-shadow: 0px 1px 2px rgba(60, 64, 67, 0.3), 0px 1px 3px 1px rgba(60, 64, 67, 0.15);\n",
              "      fill: #174EA6;\n",
              "    }\n",
              "\n",
              "    [theme=dark] .colab-df-convert {\n",
              "      background-color: #3B4455;\n",
              "      fill: #D2E3FC;\n",
              "    }\n",
              "\n",
              "    [theme=dark] .colab-df-convert:hover {\n",
              "      background-color: #434B5C;\n",
              "      box-shadow: 0px 1px 3px 1px rgba(0, 0, 0, 0.15);\n",
              "      filter: drop-shadow(0px 1px 2px rgba(0, 0, 0, 0.3));\n",
              "      fill: #FFFFFF;\n",
              "    }\n",
              "  </style>\n",
              "\n",
              "      <script>\n",
              "        const buttonEl =\n",
              "          document.querySelector('#df-4e26bffd-00ed-4046-835f-4cd35e841b0c button.colab-df-convert');\n",
              "        buttonEl.style.display =\n",
              "          google.colab.kernel.accessAllowed ? 'block' : 'none';\n",
              "\n",
              "        async function convertToInteractive(key) {\n",
              "          const element = document.querySelector('#df-4e26bffd-00ed-4046-835f-4cd35e841b0c');\n",
              "          const dataTable =\n",
              "            await google.colab.kernel.invokeFunction('convertToInteractive',\n",
              "                                                     [key], {});\n",
              "          if (!dataTable) return;\n",
              "\n",
              "          const docLinkHtml = 'Like what you see? Visit the ' +\n",
              "            '<a target=\"_blank\" href=https://colab.research.google.com/notebooks/data_table.ipynb>data table notebook</a>'\n",
              "            + ' to learn more about interactive tables.';\n",
              "          element.innerHTML = '';\n",
              "          dataTable['output_type'] = 'display_data';\n",
              "          await google.colab.output.renderOutput(dataTable, element);\n",
              "          const docLink = document.createElement('div');\n",
              "          docLink.innerHTML = docLinkHtml;\n",
              "          element.appendChild(docLink);\n",
              "        }\n",
              "      </script>\n",
              "    </div>\n",
              "  </div>\n",
              "  "
            ]
          },
          "metadata": {},
          "execution_count": 5
        }
      ]
    },
    {
      "cell_type": "code",
      "source": [
        "resumetable(test)"
      ],
      "metadata": {
        "colab": {
          "base_uri": "https://localhost:8080/",
          "height": 694
        },
        "id": "KnkfRH_-XNgU",
        "outputId": "f2de0329-4239-442d-d3ea-82f54379f741"
      },
      "execution_count": null,
      "outputs": [
        {
          "output_type": "stream",
          "name": "stdout",
          "text": [
            "데이터 세트 형상: (175, 20)\n"
          ]
        },
        {
          "output_type": "execute_result",
          "data": {
            "text/plain": [
              "        피처  데이터 타입  결측값 개수  고윳값 개수    첫 번째 값    두 번째 값    세 번째 값\n",
              "0       id  object       0     175  TEST_000  TEST_001  TEST_002\n",
              "1   father   int64       0       1         0         0         0\n",
              "2   mother   int64       0       1         0         0         0\n",
              "3   gender   int64       0       1         0         0         0\n",
              "4    trait   int64       0       2         1         2         2\n",
              "5   SNP_01  object       0       3       A G       G G       G G\n",
              "6   SNP_02  object       0       3       G G       A G       A G\n",
              "7   SNP_03  object       0       3       A A       C C       A A\n",
              "8   SNP_04  object       0       3       G A       G G       A A\n",
              "9   SNP_05  object       0       3       A A       C C       C A\n",
              "10  SNP_06  object       0       3       A G       A A       A G\n",
              "11  SNP_07  object       0       3       G G       A A       A A\n",
              "12  SNP_08  object       0       3       G A       A A       A A\n",
              "13  SNP_09  object       0       3       G A       A A       A A\n",
              "14  SNP_10  object       0       3       A G       G G       A G\n",
              "15  SNP_11  object       0       3       A G       A G       A A\n",
              "16  SNP_12  object       0       3       G A       A A       G A\n",
              "17  SNP_13  object       0       3       G G       A A       G G\n",
              "18  SNP_14  object       0       3       C A       A A       A A\n",
              "19  SNP_15  object       0       3       G A       A A       G G"
            ],
            "text/html": [
              "\n",
              "  <div id=\"df-c0a39618-050e-4516-9d2e-d3ffa39981ae\">\n",
              "    <div class=\"colab-df-container\">\n",
              "      <div>\n",
              "<style scoped>\n",
              "    .dataframe tbody tr th:only-of-type {\n",
              "        vertical-align: middle;\n",
              "    }\n",
              "\n",
              "    .dataframe tbody tr th {\n",
              "        vertical-align: top;\n",
              "    }\n",
              "\n",
              "    .dataframe thead th {\n",
              "        text-align: right;\n",
              "    }\n",
              "</style>\n",
              "<table border=\"1\" class=\"dataframe\">\n",
              "  <thead>\n",
              "    <tr style=\"text-align: right;\">\n",
              "      <th></th>\n",
              "      <th>피처</th>\n",
              "      <th>데이터 타입</th>\n",
              "      <th>결측값 개수</th>\n",
              "      <th>고윳값 개수</th>\n",
              "      <th>첫 번째 값</th>\n",
              "      <th>두 번째 값</th>\n",
              "      <th>세 번째 값</th>\n",
              "    </tr>\n",
              "  </thead>\n",
              "  <tbody>\n",
              "    <tr>\n",
              "      <th>0</th>\n",
              "      <td>id</td>\n",
              "      <td>object</td>\n",
              "      <td>0</td>\n",
              "      <td>175</td>\n",
              "      <td>TEST_000</td>\n",
              "      <td>TEST_001</td>\n",
              "      <td>TEST_002</td>\n",
              "    </tr>\n",
              "    <tr>\n",
              "      <th>1</th>\n",
              "      <td>father</td>\n",
              "      <td>int64</td>\n",
              "      <td>0</td>\n",
              "      <td>1</td>\n",
              "      <td>0</td>\n",
              "      <td>0</td>\n",
              "      <td>0</td>\n",
              "    </tr>\n",
              "    <tr>\n",
              "      <th>2</th>\n",
              "      <td>mother</td>\n",
              "      <td>int64</td>\n",
              "      <td>0</td>\n",
              "      <td>1</td>\n",
              "      <td>0</td>\n",
              "      <td>0</td>\n",
              "      <td>0</td>\n",
              "    </tr>\n",
              "    <tr>\n",
              "      <th>3</th>\n",
              "      <td>gender</td>\n",
              "      <td>int64</td>\n",
              "      <td>0</td>\n",
              "      <td>1</td>\n",
              "      <td>0</td>\n",
              "      <td>0</td>\n",
              "      <td>0</td>\n",
              "    </tr>\n",
              "    <tr>\n",
              "      <th>4</th>\n",
              "      <td>trait</td>\n",
              "      <td>int64</td>\n",
              "      <td>0</td>\n",
              "      <td>2</td>\n",
              "      <td>1</td>\n",
              "      <td>2</td>\n",
              "      <td>2</td>\n",
              "    </tr>\n",
              "    <tr>\n",
              "      <th>5</th>\n",
              "      <td>SNP_01</td>\n",
              "      <td>object</td>\n",
              "      <td>0</td>\n",
              "      <td>3</td>\n",
              "      <td>A G</td>\n",
              "      <td>G G</td>\n",
              "      <td>G G</td>\n",
              "    </tr>\n",
              "    <tr>\n",
              "      <th>6</th>\n",
              "      <td>SNP_02</td>\n",
              "      <td>object</td>\n",
              "      <td>0</td>\n",
              "      <td>3</td>\n",
              "      <td>G G</td>\n",
              "      <td>A G</td>\n",
              "      <td>A G</td>\n",
              "    </tr>\n",
              "    <tr>\n",
              "      <th>7</th>\n",
              "      <td>SNP_03</td>\n",
              "      <td>object</td>\n",
              "      <td>0</td>\n",
              "      <td>3</td>\n",
              "      <td>A A</td>\n",
              "      <td>C C</td>\n",
              "      <td>A A</td>\n",
              "    </tr>\n",
              "    <tr>\n",
              "      <th>8</th>\n",
              "      <td>SNP_04</td>\n",
              "      <td>object</td>\n",
              "      <td>0</td>\n",
              "      <td>3</td>\n",
              "      <td>G A</td>\n",
              "      <td>G G</td>\n",
              "      <td>A A</td>\n",
              "    </tr>\n",
              "    <tr>\n",
              "      <th>9</th>\n",
              "      <td>SNP_05</td>\n",
              "      <td>object</td>\n",
              "      <td>0</td>\n",
              "      <td>3</td>\n",
              "      <td>A A</td>\n",
              "      <td>C C</td>\n",
              "      <td>C A</td>\n",
              "    </tr>\n",
              "    <tr>\n",
              "      <th>10</th>\n",
              "      <td>SNP_06</td>\n",
              "      <td>object</td>\n",
              "      <td>0</td>\n",
              "      <td>3</td>\n",
              "      <td>A G</td>\n",
              "      <td>A A</td>\n",
              "      <td>A G</td>\n",
              "    </tr>\n",
              "    <tr>\n",
              "      <th>11</th>\n",
              "      <td>SNP_07</td>\n",
              "      <td>object</td>\n",
              "      <td>0</td>\n",
              "      <td>3</td>\n",
              "      <td>G G</td>\n",
              "      <td>A A</td>\n",
              "      <td>A A</td>\n",
              "    </tr>\n",
              "    <tr>\n",
              "      <th>12</th>\n",
              "      <td>SNP_08</td>\n",
              "      <td>object</td>\n",
              "      <td>0</td>\n",
              "      <td>3</td>\n",
              "      <td>G A</td>\n",
              "      <td>A A</td>\n",
              "      <td>A A</td>\n",
              "    </tr>\n",
              "    <tr>\n",
              "      <th>13</th>\n",
              "      <td>SNP_09</td>\n",
              "      <td>object</td>\n",
              "      <td>0</td>\n",
              "      <td>3</td>\n",
              "      <td>G A</td>\n",
              "      <td>A A</td>\n",
              "      <td>A A</td>\n",
              "    </tr>\n",
              "    <tr>\n",
              "      <th>14</th>\n",
              "      <td>SNP_10</td>\n",
              "      <td>object</td>\n",
              "      <td>0</td>\n",
              "      <td>3</td>\n",
              "      <td>A G</td>\n",
              "      <td>G G</td>\n",
              "      <td>A G</td>\n",
              "    </tr>\n",
              "    <tr>\n",
              "      <th>15</th>\n",
              "      <td>SNP_11</td>\n",
              "      <td>object</td>\n",
              "      <td>0</td>\n",
              "      <td>3</td>\n",
              "      <td>A G</td>\n",
              "      <td>A G</td>\n",
              "      <td>A A</td>\n",
              "    </tr>\n",
              "    <tr>\n",
              "      <th>16</th>\n",
              "      <td>SNP_12</td>\n",
              "      <td>object</td>\n",
              "      <td>0</td>\n",
              "      <td>3</td>\n",
              "      <td>G A</td>\n",
              "      <td>A A</td>\n",
              "      <td>G A</td>\n",
              "    </tr>\n",
              "    <tr>\n",
              "      <th>17</th>\n",
              "      <td>SNP_13</td>\n",
              "      <td>object</td>\n",
              "      <td>0</td>\n",
              "      <td>3</td>\n",
              "      <td>G G</td>\n",
              "      <td>A A</td>\n",
              "      <td>G G</td>\n",
              "    </tr>\n",
              "    <tr>\n",
              "      <th>18</th>\n",
              "      <td>SNP_14</td>\n",
              "      <td>object</td>\n",
              "      <td>0</td>\n",
              "      <td>3</td>\n",
              "      <td>C A</td>\n",
              "      <td>A A</td>\n",
              "      <td>A A</td>\n",
              "    </tr>\n",
              "    <tr>\n",
              "      <th>19</th>\n",
              "      <td>SNP_15</td>\n",
              "      <td>object</td>\n",
              "      <td>0</td>\n",
              "      <td>3</td>\n",
              "      <td>G A</td>\n",
              "      <td>A A</td>\n",
              "      <td>G G</td>\n",
              "    </tr>\n",
              "  </tbody>\n",
              "</table>\n",
              "</div>\n",
              "      <button class=\"colab-df-convert\" onclick=\"convertToInteractive('df-c0a39618-050e-4516-9d2e-d3ffa39981ae')\"\n",
              "              title=\"Convert this dataframe to an interactive table.\"\n",
              "              style=\"display:none;\">\n",
              "        \n",
              "  <svg xmlns=\"http://www.w3.org/2000/svg\" height=\"24px\"viewBox=\"0 0 24 24\"\n",
              "       width=\"24px\">\n",
              "    <path d=\"M0 0h24v24H0V0z\" fill=\"none\"/>\n",
              "    <path d=\"M18.56 5.44l.94 2.06.94-2.06 2.06-.94-2.06-.94-.94-2.06-.94 2.06-2.06.94zm-11 1L8.5 8.5l.94-2.06 2.06-.94-2.06-.94L8.5 2.5l-.94 2.06-2.06.94zm10 10l.94 2.06.94-2.06 2.06-.94-2.06-.94-.94-2.06-.94 2.06-2.06.94z\"/><path d=\"M17.41 7.96l-1.37-1.37c-.4-.4-.92-.59-1.43-.59-.52 0-1.04.2-1.43.59L10.3 9.45l-7.72 7.72c-.78.78-.78 2.05 0 2.83L4 21.41c.39.39.9.59 1.41.59.51 0 1.02-.2 1.41-.59l7.78-7.78 2.81-2.81c.8-.78.8-2.07 0-2.86zM5.41 20L4 18.59l7.72-7.72 1.47 1.35L5.41 20z\"/>\n",
              "  </svg>\n",
              "      </button>\n",
              "      \n",
              "  <style>\n",
              "    .colab-df-container {\n",
              "      display:flex;\n",
              "      flex-wrap:wrap;\n",
              "      gap: 12px;\n",
              "    }\n",
              "\n",
              "    .colab-df-convert {\n",
              "      background-color: #E8F0FE;\n",
              "      border: none;\n",
              "      border-radius: 50%;\n",
              "      cursor: pointer;\n",
              "      display: none;\n",
              "      fill: #1967D2;\n",
              "      height: 32px;\n",
              "      padding: 0 0 0 0;\n",
              "      width: 32px;\n",
              "    }\n",
              "\n",
              "    .colab-df-convert:hover {\n",
              "      background-color: #E2EBFA;\n",
              "      box-shadow: 0px 1px 2px rgba(60, 64, 67, 0.3), 0px 1px 3px 1px rgba(60, 64, 67, 0.15);\n",
              "      fill: #174EA6;\n",
              "    }\n",
              "\n",
              "    [theme=dark] .colab-df-convert {\n",
              "      background-color: #3B4455;\n",
              "      fill: #D2E3FC;\n",
              "    }\n",
              "\n",
              "    [theme=dark] .colab-df-convert:hover {\n",
              "      background-color: #434B5C;\n",
              "      box-shadow: 0px 1px 3px 1px rgba(0, 0, 0, 0.15);\n",
              "      filter: drop-shadow(0px 1px 2px rgba(0, 0, 0, 0.3));\n",
              "      fill: #FFFFFF;\n",
              "    }\n",
              "  </style>\n",
              "\n",
              "      <script>\n",
              "        const buttonEl =\n",
              "          document.querySelector('#df-c0a39618-050e-4516-9d2e-d3ffa39981ae button.colab-df-convert');\n",
              "        buttonEl.style.display =\n",
              "          google.colab.kernel.accessAllowed ? 'block' : 'none';\n",
              "\n",
              "        async function convertToInteractive(key) {\n",
              "          const element = document.querySelector('#df-c0a39618-050e-4516-9d2e-d3ffa39981ae');\n",
              "          const dataTable =\n",
              "            await google.colab.kernel.invokeFunction('convertToInteractive',\n",
              "                                                     [key], {});\n",
              "          if (!dataTable) return;\n",
              "\n",
              "          const docLinkHtml = 'Like what you see? Visit the ' +\n",
              "            '<a target=\"_blank\" href=https://colab.research.google.com/notebooks/data_table.ipynb>data table notebook</a>'\n",
              "            + ' to learn more about interactive tables.';\n",
              "          element.innerHTML = '';\n",
              "          dataTable['output_type'] = 'display_data';\n",
              "          await google.colab.output.renderOutput(dataTable, element);\n",
              "          const docLink = document.createElement('div');\n",
              "          docLink.innerHTML = docLinkHtml;\n",
              "          element.appendChild(docLink);\n",
              "        }\n",
              "      </script>\n",
              "    </div>\n",
              "  </div>\n",
              "  "
            ]
          },
          "metadata": {},
          "execution_count": 6
        }
      ]
    },
    {
      "cell_type": "code",
      "source": [
        "train.head() #data에 null 없음 #father, mother, gender는 다 0"
      ],
      "metadata": {
        "colab": {
          "base_uri": "https://localhost:8080/",
          "height": 235
        },
        "id": "Gbn5zNypuOkD",
        "outputId": "d4d5c6bb-b142-48ee-9864-b1ad874e5988"
      },
      "execution_count": null,
      "outputs": [
        {
          "output_type": "execute_result",
          "data": {
            "text/plain": [
              "          id  father  mother  gender  trait SNP_01 SNP_02 SNP_03 SNP_04  \\\n",
              "0  TRAIN_000       0       0       0      2    G G    A G    A A    G A   \n",
              "1  TRAIN_001       0       0       0      2    A G    A G    C A    A A   \n",
              "2  TRAIN_002       0       0       0      2    G G    G G    A A    G A   \n",
              "3  TRAIN_003       0       0       0      1    A A    G G    A A    G A   \n",
              "4  TRAIN_004       0       0       0      2    G G    G G    C C    A A   \n",
              "\n",
              "  SNP_05  ... SNP_07 SNP_08 SNP_09 SNP_10 SNP_11 SNP_12 SNP_13 SNP_14 SNP_15  \\\n",
              "0    C A  ...    A A    G G    A A    G G    A G    A A    A A    A A    A A   \n",
              "1    A A  ...    A A    G A    A A    A G    A A    G A    G G    A A    A A   \n",
              "2    C C  ...    A A    G A    G A    A G    A A    A A    A A    A A    A A   \n",
              "3    A A  ...    G G    A A    G G    A G    G G    G G    G G    A A    G G   \n",
              "4    C C  ...    A A    A A    A A    G G    A A    A A    A G    A A    G A   \n",
              "\n",
              "  class  \n",
              "0     B  \n",
              "1     C  \n",
              "2     B  \n",
              "3     A  \n",
              "4     C  \n",
              "\n",
              "[5 rows x 21 columns]"
            ],
            "text/html": [
              "\n",
              "  <div id=\"df-b064ddbe-3e71-4643-b9d8-15461086e1f1\">\n",
              "    <div class=\"colab-df-container\">\n",
              "      <div>\n",
              "<style scoped>\n",
              "    .dataframe tbody tr th:only-of-type {\n",
              "        vertical-align: middle;\n",
              "    }\n",
              "\n",
              "    .dataframe tbody tr th {\n",
              "        vertical-align: top;\n",
              "    }\n",
              "\n",
              "    .dataframe thead th {\n",
              "        text-align: right;\n",
              "    }\n",
              "</style>\n",
              "<table border=\"1\" class=\"dataframe\">\n",
              "  <thead>\n",
              "    <tr style=\"text-align: right;\">\n",
              "      <th></th>\n",
              "      <th>id</th>\n",
              "      <th>father</th>\n",
              "      <th>mother</th>\n",
              "      <th>gender</th>\n",
              "      <th>trait</th>\n",
              "      <th>SNP_01</th>\n",
              "      <th>SNP_02</th>\n",
              "      <th>SNP_03</th>\n",
              "      <th>SNP_04</th>\n",
              "      <th>SNP_05</th>\n",
              "      <th>...</th>\n",
              "      <th>SNP_07</th>\n",
              "      <th>SNP_08</th>\n",
              "      <th>SNP_09</th>\n",
              "      <th>SNP_10</th>\n",
              "      <th>SNP_11</th>\n",
              "      <th>SNP_12</th>\n",
              "      <th>SNP_13</th>\n",
              "      <th>SNP_14</th>\n",
              "      <th>SNP_15</th>\n",
              "      <th>class</th>\n",
              "    </tr>\n",
              "  </thead>\n",
              "  <tbody>\n",
              "    <tr>\n",
              "      <th>0</th>\n",
              "      <td>TRAIN_000</td>\n",
              "      <td>0</td>\n",
              "      <td>0</td>\n",
              "      <td>0</td>\n",
              "      <td>2</td>\n",
              "      <td>G G</td>\n",
              "      <td>A G</td>\n",
              "      <td>A A</td>\n",
              "      <td>G A</td>\n",
              "      <td>C A</td>\n",
              "      <td>...</td>\n",
              "      <td>A A</td>\n",
              "      <td>G G</td>\n",
              "      <td>A A</td>\n",
              "      <td>G G</td>\n",
              "      <td>A G</td>\n",
              "      <td>A A</td>\n",
              "      <td>A A</td>\n",
              "      <td>A A</td>\n",
              "      <td>A A</td>\n",
              "      <td>B</td>\n",
              "    </tr>\n",
              "    <tr>\n",
              "      <th>1</th>\n",
              "      <td>TRAIN_001</td>\n",
              "      <td>0</td>\n",
              "      <td>0</td>\n",
              "      <td>0</td>\n",
              "      <td>2</td>\n",
              "      <td>A G</td>\n",
              "      <td>A G</td>\n",
              "      <td>C A</td>\n",
              "      <td>A A</td>\n",
              "      <td>A A</td>\n",
              "      <td>...</td>\n",
              "      <td>A A</td>\n",
              "      <td>G A</td>\n",
              "      <td>A A</td>\n",
              "      <td>A G</td>\n",
              "      <td>A A</td>\n",
              "      <td>G A</td>\n",
              "      <td>G G</td>\n",
              "      <td>A A</td>\n",
              "      <td>A A</td>\n",
              "      <td>C</td>\n",
              "    </tr>\n",
              "    <tr>\n",
              "      <th>2</th>\n",
              "      <td>TRAIN_002</td>\n",
              "      <td>0</td>\n",
              "      <td>0</td>\n",
              "      <td>0</td>\n",
              "      <td>2</td>\n",
              "      <td>G G</td>\n",
              "      <td>G G</td>\n",
              "      <td>A A</td>\n",
              "      <td>G A</td>\n",
              "      <td>C C</td>\n",
              "      <td>...</td>\n",
              "      <td>A A</td>\n",
              "      <td>G A</td>\n",
              "      <td>G A</td>\n",
              "      <td>A G</td>\n",
              "      <td>A A</td>\n",
              "      <td>A A</td>\n",
              "      <td>A A</td>\n",
              "      <td>A A</td>\n",
              "      <td>A A</td>\n",
              "      <td>B</td>\n",
              "    </tr>\n",
              "    <tr>\n",
              "      <th>3</th>\n",
              "      <td>TRAIN_003</td>\n",
              "      <td>0</td>\n",
              "      <td>0</td>\n",
              "      <td>0</td>\n",
              "      <td>1</td>\n",
              "      <td>A A</td>\n",
              "      <td>G G</td>\n",
              "      <td>A A</td>\n",
              "      <td>G A</td>\n",
              "      <td>A A</td>\n",
              "      <td>...</td>\n",
              "      <td>G G</td>\n",
              "      <td>A A</td>\n",
              "      <td>G G</td>\n",
              "      <td>A G</td>\n",
              "      <td>G G</td>\n",
              "      <td>G G</td>\n",
              "      <td>G G</td>\n",
              "      <td>A A</td>\n",
              "      <td>G G</td>\n",
              "      <td>A</td>\n",
              "    </tr>\n",
              "    <tr>\n",
              "      <th>4</th>\n",
              "      <td>TRAIN_004</td>\n",
              "      <td>0</td>\n",
              "      <td>0</td>\n",
              "      <td>0</td>\n",
              "      <td>2</td>\n",
              "      <td>G G</td>\n",
              "      <td>G G</td>\n",
              "      <td>C C</td>\n",
              "      <td>A A</td>\n",
              "      <td>C C</td>\n",
              "      <td>...</td>\n",
              "      <td>A A</td>\n",
              "      <td>A A</td>\n",
              "      <td>A A</td>\n",
              "      <td>G G</td>\n",
              "      <td>A A</td>\n",
              "      <td>A A</td>\n",
              "      <td>A G</td>\n",
              "      <td>A A</td>\n",
              "      <td>G A</td>\n",
              "      <td>C</td>\n",
              "    </tr>\n",
              "  </tbody>\n",
              "</table>\n",
              "<p>5 rows × 21 columns</p>\n",
              "</div>\n",
              "      <button class=\"colab-df-convert\" onclick=\"convertToInteractive('df-b064ddbe-3e71-4643-b9d8-15461086e1f1')\"\n",
              "              title=\"Convert this dataframe to an interactive table.\"\n",
              "              style=\"display:none;\">\n",
              "        \n",
              "  <svg xmlns=\"http://www.w3.org/2000/svg\" height=\"24px\"viewBox=\"0 0 24 24\"\n",
              "       width=\"24px\">\n",
              "    <path d=\"M0 0h24v24H0V0z\" fill=\"none\"/>\n",
              "    <path d=\"M18.56 5.44l.94 2.06.94-2.06 2.06-.94-2.06-.94-.94-2.06-.94 2.06-2.06.94zm-11 1L8.5 8.5l.94-2.06 2.06-.94-2.06-.94L8.5 2.5l-.94 2.06-2.06.94zm10 10l.94 2.06.94-2.06 2.06-.94-2.06-.94-.94-2.06-.94 2.06-2.06.94z\"/><path d=\"M17.41 7.96l-1.37-1.37c-.4-.4-.92-.59-1.43-.59-.52 0-1.04.2-1.43.59L10.3 9.45l-7.72 7.72c-.78.78-.78 2.05 0 2.83L4 21.41c.39.39.9.59 1.41.59.51 0 1.02-.2 1.41-.59l7.78-7.78 2.81-2.81c.8-.78.8-2.07 0-2.86zM5.41 20L4 18.59l7.72-7.72 1.47 1.35L5.41 20z\"/>\n",
              "  </svg>\n",
              "      </button>\n",
              "      \n",
              "  <style>\n",
              "    .colab-df-container {\n",
              "      display:flex;\n",
              "      flex-wrap:wrap;\n",
              "      gap: 12px;\n",
              "    }\n",
              "\n",
              "    .colab-df-convert {\n",
              "      background-color: #E8F0FE;\n",
              "      border: none;\n",
              "      border-radius: 50%;\n",
              "      cursor: pointer;\n",
              "      display: none;\n",
              "      fill: #1967D2;\n",
              "      height: 32px;\n",
              "      padding: 0 0 0 0;\n",
              "      width: 32px;\n",
              "    }\n",
              "\n",
              "    .colab-df-convert:hover {\n",
              "      background-color: #E2EBFA;\n",
              "      box-shadow: 0px 1px 2px rgba(60, 64, 67, 0.3), 0px 1px 3px 1px rgba(60, 64, 67, 0.15);\n",
              "      fill: #174EA6;\n",
              "    }\n",
              "\n",
              "    [theme=dark] .colab-df-convert {\n",
              "      background-color: #3B4455;\n",
              "      fill: #D2E3FC;\n",
              "    }\n",
              "\n",
              "    [theme=dark] .colab-df-convert:hover {\n",
              "      background-color: #434B5C;\n",
              "      box-shadow: 0px 1px 3px 1px rgba(0, 0, 0, 0.15);\n",
              "      filter: drop-shadow(0px 1px 2px rgba(0, 0, 0, 0.3));\n",
              "      fill: #FFFFFF;\n",
              "    }\n",
              "  </style>\n",
              "\n",
              "      <script>\n",
              "        const buttonEl =\n",
              "          document.querySelector('#df-b064ddbe-3e71-4643-b9d8-15461086e1f1 button.colab-df-convert');\n",
              "        buttonEl.style.display =\n",
              "          google.colab.kernel.accessAllowed ? 'block' : 'none';\n",
              "\n",
              "        async function convertToInteractive(key) {\n",
              "          const element = document.querySelector('#df-b064ddbe-3e71-4643-b9d8-15461086e1f1');\n",
              "          const dataTable =\n",
              "            await google.colab.kernel.invokeFunction('convertToInteractive',\n",
              "                                                     [key], {});\n",
              "          if (!dataTable) return;\n",
              "\n",
              "          const docLinkHtml = 'Like what you see? Visit the ' +\n",
              "            '<a target=\"_blank\" href=https://colab.research.google.com/notebooks/data_table.ipynb>data table notebook</a>'\n",
              "            + ' to learn more about interactive tables.';\n",
              "          element.innerHTML = '';\n",
              "          dataTable['output_type'] = 'display_data';\n",
              "          await google.colab.output.renderOutput(dataTable, element);\n",
              "          const docLink = document.createElement('div');\n",
              "          docLink.innerHTML = docLinkHtml;\n",
              "          element.appendChild(docLink);\n",
              "        }\n",
              "      </script>\n",
              "    </div>\n",
              "  </div>\n",
              "  "
            ]
          },
          "metadata": {},
          "execution_count": 7
        }
      ]
    },
    {
      "cell_type": "code",
      "source": [
        "test.head()"
      ],
      "metadata": {
        "colab": {
          "base_uri": "https://localhost:8080/",
          "height": 206
        },
        "id": "3MKsleEeudwE",
        "outputId": "037457d4-b9a3-493b-8081-eee7259e9e84"
      },
      "execution_count": null,
      "outputs": [
        {
          "output_type": "execute_result",
          "data": {
            "text/plain": [
              "         id  father  mother  gender  trait SNP_01 SNP_02 SNP_03 SNP_04 SNP_05  \\\n",
              "0  TEST_000       0       0       0      1    A G    G G    A A    G A    A A   \n",
              "1  TEST_001       0       0       0      2    G G    A G    C C    G G    C C   \n",
              "2  TEST_002       0       0       0      2    G G    A G    A A    A A    C A   \n",
              "3  TEST_003       0       0       0      2    G G    A G    C A    A A    C C   \n",
              "4  TEST_004       0       0       0      1    A A    G G    A A    G G    A A   \n",
              "\n",
              "  SNP_06 SNP_07 SNP_08 SNP_09 SNP_10 SNP_11 SNP_12 SNP_13 SNP_14 SNP_15  \n",
              "0    A G    G G    G A    G A    A G    A G    G A    G G    C A    G A  \n",
              "1    A A    A A    A A    A A    G G    A G    A A    A A    A A    A A  \n",
              "2    A G    A A    A A    A A    A G    A A    G A    G G    A A    G G  \n",
              "3    A A    A A    A A    A A    G G    A A    G A    A G    A A    A A  \n",
              "4    G G    G G    A A    G G    A G    G G    G A    G G    A A    G G  "
            ],
            "text/html": [
              "\n",
              "  <div id=\"df-df182913-bb2f-4648-aabb-55f2828609c9\">\n",
              "    <div class=\"colab-df-container\">\n",
              "      <div>\n",
              "<style scoped>\n",
              "    .dataframe tbody tr th:only-of-type {\n",
              "        vertical-align: middle;\n",
              "    }\n",
              "\n",
              "    .dataframe tbody tr th {\n",
              "        vertical-align: top;\n",
              "    }\n",
              "\n",
              "    .dataframe thead th {\n",
              "        text-align: right;\n",
              "    }\n",
              "</style>\n",
              "<table border=\"1\" class=\"dataframe\">\n",
              "  <thead>\n",
              "    <tr style=\"text-align: right;\">\n",
              "      <th></th>\n",
              "      <th>id</th>\n",
              "      <th>father</th>\n",
              "      <th>mother</th>\n",
              "      <th>gender</th>\n",
              "      <th>trait</th>\n",
              "      <th>SNP_01</th>\n",
              "      <th>SNP_02</th>\n",
              "      <th>SNP_03</th>\n",
              "      <th>SNP_04</th>\n",
              "      <th>SNP_05</th>\n",
              "      <th>SNP_06</th>\n",
              "      <th>SNP_07</th>\n",
              "      <th>SNP_08</th>\n",
              "      <th>SNP_09</th>\n",
              "      <th>SNP_10</th>\n",
              "      <th>SNP_11</th>\n",
              "      <th>SNP_12</th>\n",
              "      <th>SNP_13</th>\n",
              "      <th>SNP_14</th>\n",
              "      <th>SNP_15</th>\n",
              "    </tr>\n",
              "  </thead>\n",
              "  <tbody>\n",
              "    <tr>\n",
              "      <th>0</th>\n",
              "      <td>TEST_000</td>\n",
              "      <td>0</td>\n",
              "      <td>0</td>\n",
              "      <td>0</td>\n",
              "      <td>1</td>\n",
              "      <td>A G</td>\n",
              "      <td>G G</td>\n",
              "      <td>A A</td>\n",
              "      <td>G A</td>\n",
              "      <td>A A</td>\n",
              "      <td>A G</td>\n",
              "      <td>G G</td>\n",
              "      <td>G A</td>\n",
              "      <td>G A</td>\n",
              "      <td>A G</td>\n",
              "      <td>A G</td>\n",
              "      <td>G A</td>\n",
              "      <td>G G</td>\n",
              "      <td>C A</td>\n",
              "      <td>G A</td>\n",
              "    </tr>\n",
              "    <tr>\n",
              "      <th>1</th>\n",
              "      <td>TEST_001</td>\n",
              "      <td>0</td>\n",
              "      <td>0</td>\n",
              "      <td>0</td>\n",
              "      <td>2</td>\n",
              "      <td>G G</td>\n",
              "      <td>A G</td>\n",
              "      <td>C C</td>\n",
              "      <td>G G</td>\n",
              "      <td>C C</td>\n",
              "      <td>A A</td>\n",
              "      <td>A A</td>\n",
              "      <td>A A</td>\n",
              "      <td>A A</td>\n",
              "      <td>G G</td>\n",
              "      <td>A G</td>\n",
              "      <td>A A</td>\n",
              "      <td>A A</td>\n",
              "      <td>A A</td>\n",
              "      <td>A A</td>\n",
              "    </tr>\n",
              "    <tr>\n",
              "      <th>2</th>\n",
              "      <td>TEST_002</td>\n",
              "      <td>0</td>\n",
              "      <td>0</td>\n",
              "      <td>0</td>\n",
              "      <td>2</td>\n",
              "      <td>G G</td>\n",
              "      <td>A G</td>\n",
              "      <td>A A</td>\n",
              "      <td>A A</td>\n",
              "      <td>C A</td>\n",
              "      <td>A G</td>\n",
              "      <td>A A</td>\n",
              "      <td>A A</td>\n",
              "      <td>A A</td>\n",
              "      <td>A G</td>\n",
              "      <td>A A</td>\n",
              "      <td>G A</td>\n",
              "      <td>G G</td>\n",
              "      <td>A A</td>\n",
              "      <td>G G</td>\n",
              "    </tr>\n",
              "    <tr>\n",
              "      <th>3</th>\n",
              "      <td>TEST_003</td>\n",
              "      <td>0</td>\n",
              "      <td>0</td>\n",
              "      <td>0</td>\n",
              "      <td>2</td>\n",
              "      <td>G G</td>\n",
              "      <td>A G</td>\n",
              "      <td>C A</td>\n",
              "      <td>A A</td>\n",
              "      <td>C C</td>\n",
              "      <td>A A</td>\n",
              "      <td>A A</td>\n",
              "      <td>A A</td>\n",
              "      <td>A A</td>\n",
              "      <td>G G</td>\n",
              "      <td>A A</td>\n",
              "      <td>G A</td>\n",
              "      <td>A G</td>\n",
              "      <td>A A</td>\n",
              "      <td>A A</td>\n",
              "    </tr>\n",
              "    <tr>\n",
              "      <th>4</th>\n",
              "      <td>TEST_004</td>\n",
              "      <td>0</td>\n",
              "      <td>0</td>\n",
              "      <td>0</td>\n",
              "      <td>1</td>\n",
              "      <td>A A</td>\n",
              "      <td>G G</td>\n",
              "      <td>A A</td>\n",
              "      <td>G G</td>\n",
              "      <td>A A</td>\n",
              "      <td>G G</td>\n",
              "      <td>G G</td>\n",
              "      <td>A A</td>\n",
              "      <td>G G</td>\n",
              "      <td>A G</td>\n",
              "      <td>G G</td>\n",
              "      <td>G A</td>\n",
              "      <td>G G</td>\n",
              "      <td>A A</td>\n",
              "      <td>G G</td>\n",
              "    </tr>\n",
              "  </tbody>\n",
              "</table>\n",
              "</div>\n",
              "      <button class=\"colab-df-convert\" onclick=\"convertToInteractive('df-df182913-bb2f-4648-aabb-55f2828609c9')\"\n",
              "              title=\"Convert this dataframe to an interactive table.\"\n",
              "              style=\"display:none;\">\n",
              "        \n",
              "  <svg xmlns=\"http://www.w3.org/2000/svg\" height=\"24px\"viewBox=\"0 0 24 24\"\n",
              "       width=\"24px\">\n",
              "    <path d=\"M0 0h24v24H0V0z\" fill=\"none\"/>\n",
              "    <path d=\"M18.56 5.44l.94 2.06.94-2.06 2.06-.94-2.06-.94-.94-2.06-.94 2.06-2.06.94zm-11 1L8.5 8.5l.94-2.06 2.06-.94-2.06-.94L8.5 2.5l-.94 2.06-2.06.94zm10 10l.94 2.06.94-2.06 2.06-.94-2.06-.94-.94-2.06-.94 2.06-2.06.94z\"/><path d=\"M17.41 7.96l-1.37-1.37c-.4-.4-.92-.59-1.43-.59-.52 0-1.04.2-1.43.59L10.3 9.45l-7.72 7.72c-.78.78-.78 2.05 0 2.83L4 21.41c.39.39.9.59 1.41.59.51 0 1.02-.2 1.41-.59l7.78-7.78 2.81-2.81c.8-.78.8-2.07 0-2.86zM5.41 20L4 18.59l7.72-7.72 1.47 1.35L5.41 20z\"/>\n",
              "  </svg>\n",
              "      </button>\n",
              "      \n",
              "  <style>\n",
              "    .colab-df-container {\n",
              "      display:flex;\n",
              "      flex-wrap:wrap;\n",
              "      gap: 12px;\n",
              "    }\n",
              "\n",
              "    .colab-df-convert {\n",
              "      background-color: #E8F0FE;\n",
              "      border: none;\n",
              "      border-radius: 50%;\n",
              "      cursor: pointer;\n",
              "      display: none;\n",
              "      fill: #1967D2;\n",
              "      height: 32px;\n",
              "      padding: 0 0 0 0;\n",
              "      width: 32px;\n",
              "    }\n",
              "\n",
              "    .colab-df-convert:hover {\n",
              "      background-color: #E2EBFA;\n",
              "      box-shadow: 0px 1px 2px rgba(60, 64, 67, 0.3), 0px 1px 3px 1px rgba(60, 64, 67, 0.15);\n",
              "      fill: #174EA6;\n",
              "    }\n",
              "\n",
              "    [theme=dark] .colab-df-convert {\n",
              "      background-color: #3B4455;\n",
              "      fill: #D2E3FC;\n",
              "    }\n",
              "\n",
              "    [theme=dark] .colab-df-convert:hover {\n",
              "      background-color: #434B5C;\n",
              "      box-shadow: 0px 1px 3px 1px rgba(0, 0, 0, 0.15);\n",
              "      filter: drop-shadow(0px 1px 2px rgba(0, 0, 0, 0.3));\n",
              "      fill: #FFFFFF;\n",
              "    }\n",
              "  </style>\n",
              "\n",
              "      <script>\n",
              "        const buttonEl =\n",
              "          document.querySelector('#df-df182913-bb2f-4648-aabb-55f2828609c9 button.colab-df-convert');\n",
              "        buttonEl.style.display =\n",
              "          google.colab.kernel.accessAllowed ? 'block' : 'none';\n",
              "\n",
              "        async function convertToInteractive(key) {\n",
              "          const element = document.querySelector('#df-df182913-bb2f-4648-aabb-55f2828609c9');\n",
              "          const dataTable =\n",
              "            await google.colab.kernel.invokeFunction('convertToInteractive',\n",
              "                                                     [key], {});\n",
              "          if (!dataTable) return;\n",
              "\n",
              "          const docLinkHtml = 'Like what you see? Visit the ' +\n",
              "            '<a target=\"_blank\" href=https://colab.research.google.com/notebooks/data_table.ipynb>data table notebook</a>'\n",
              "            + ' to learn more about interactive tables.';\n",
              "          element.innerHTML = '';\n",
              "          dataTable['output_type'] = 'display_data';\n",
              "          await google.colab.output.renderOutput(dataTable, element);\n",
              "          const docLink = document.createElement('div');\n",
              "          docLink.innerHTML = docLinkHtml;\n",
              "          element.appendChild(docLink);\n",
              "        }\n",
              "      </script>\n",
              "    </div>\n",
              "  </div>\n",
              "  "
            ]
          },
          "metadata": {},
          "execution_count": 8
        }
      ]
    },
    {
      "cell_type": "code",
      "source": [
        "def get_x_y(df):\n",
        "    if 'class' in df.columns:\n",
        "        df_x = df.drop(columns=['id', 'class'])\n",
        "        df_y = df['class']\n",
        "        return df_x, df_y\n",
        "    else:\n",
        "        df_x = df.drop(columns=['id'])\n",
        "        return df_x"
      ],
      "metadata": {
        "id": "IIMrgUHFuf04"
      },
      "execution_count": null,
      "outputs": []
    },
    {
      "cell_type": "code",
      "source": [
        "train_x, train_y = get_x_y(train)\n",
        "test_x = get_x_y(test)"
      ],
      "metadata": {
        "id": "7PJ4ucAGx_GW"
      },
      "execution_count": null,
      "outputs": []
    },
    {
      "cell_type": "markdown",
      "source": [
        "## **2. EDA**"
      ],
      "metadata": {
        "id": "BLl7B1Ib7zIf"
      }
    },
    {
      "cell_type": "code",
      "source": [
        "for g in train.columns[train.columns.str.contains('SNP')].tolist()+['trait']:\n",
        "    train.groupby(g)['class'].value_counts().unstack().plot.bar(figsize=(5,3));"
      ],
      "metadata": {
        "colab": {
          "base_uri": "https://localhost:8080/",
          "height": 1000
        },
        "id": "H5Rgzxw57vdQ",
        "outputId": "69f1d846-91b6-4cac-98c9-2a4018a7c56d"
      },
      "execution_count": null,
      "outputs": [
        {
          "output_type": "display_data",
          "data": {
            "text/plain": [
              "<Figure size 360x216 with 1 Axes>"
            ],
            "image/png": "[encoded data removed]"
          },
          "metadata": {
            "needs_background": "light"
          }
        },
        {
          "output_type": "display_data",
          "data": {
            "text/plain": [
              "<Figure size 360x216 with 1 Axes>"
            ],
            "image/png": "[encoded data removed]"
          },
          "metadata": {
            "needs_background": "light"
          }
        },
        {
          "output_type": "display_data",
          "data": {
            "text/plain": [
              "<Figure size 360x216 with 1 Axes>"
            ],
            "image/png": "[encoded data removed]"
          },
          "metadata": {
            "needs_background": "light"
          }
        },
        {
          "output_type": "display_data",
          "data": {
            "text/plain": [
              "<Figure size 360x216 with 1 Axes>"
            ],
            "image/png": "[encoded data removed]"
          },
          "metadata": {
            "needs_background": "light"
          }
        },
        {
          "output_type": "display_data",
          "data": {
            "text/plain": [
              "<Figure size 360x216 with 1 Axes>"
            ],
            "image/png": "[encoded data removed]"
          },
          "metadata": {
            "needs_background": "light"
          }
        },
        {
          "output_type": "display_data",
          "data": {
            "text/plain": [
              "<Figure size 360x216 with 1 Axes>"
            ],
            "image/png": "[encoded data removed]"
          },
          "metadata": {
            "needs_background": "light"
          }
        },
        {
          "output_type": "display_data",
          "data": {
            "text/plain": [
              "<Figure size 360x216 with 1 Axes>"
            ],
            "image/png": "[encoded data removed]"
          },
          "metadata": {
            "needs_background": "light"
          }
        },
        {
          "output_type": "display_data",
          "data": {
            "text/plain": [
              "<Figure size 360x216 with 1 Axes>"
            ],
            "image/png": "[encoded data removed]"
          },
          "metadata": {
            "needs_background": "light"
          }
        },
        {
          "output_type": "display_data",
          "data": {
            "text/plain": [
              "<Figure size 360x216 with 1 Axes>"
            ],
            "image/png": "[encoded data removed]"
          },
          "metadata": {
            "needs_background": "light"
          }
        },
        {
          "output_type": "display_data",
          "data": {
            "text/plain": [
              "<Figure size 360x216 with 1 Axes>"
            ],
            "image/png": "[encoded data removed]"
          },
          "metadata": {
            "needs_background": "light"
          }
        },
        {
          "output_type": "display_data",
          "data": {
            "text/plain": [
              "<Figure size 360x216 with 1 Axes>"
            ],
            "image/png": "[encoded data removed]"
          },
          "metadata": {
            "needs_background": "light"
          }
        },
        {
          "output_type": "display_data",
          "data": {
            "text/plain": [
              "<Figure size 360x216 with 1 Axes>"
            ],
            "image/png": "[encoded data removed]"
          },
          "metadata": {
            "needs_background": "light"
          }
        },
        {
          "output_type": "display_data",
          "data": {
            "text/plain": [
              "<Figure size 360x216 with 1 Axes>"
            ],
            "image/png": "[encoded data removed]"
          },
          "metadata": {
            "needs_background": "light"
          }
        },
        {
          "output_type": "display_data",
          "data": {
            "text/plain": [
              "<Figure size 360x216 with 1 Axes>"
            ],
            "image/png": "[encoded data removed]"
          },
          "metadata": {
            "needs_background": "light"
          }
        },
        {
          "output_type": "display_data",
          "data": {
            "text/plain": [
              "<Figure size 360x216 with 1 Axes>"
            ],
            "image/png": "[encoded data removed]"
          },
          "metadata": {
            "needs_background": "light"
          }
        },
        {
          "output_type": "display_data",
          "data": {
            "text/plain": [
              "<Figure size 360x216 with 1 Axes>"
            ],
            "image/png": "[encoded data removed]"
          },
          "metadata": {
            "needs_background": "light"
          }
        }
      ]
    },
    {
      "cell_type": "code",
      "source": [
        "train['class'].value_counts().plot.bar(figsize=(5,3))"
      ],
      "metadata": {
        "colab": {
          "base_uri": "https://localhost:8080/",
          "height": 226
        },
        "id": "mAR-98VAWK8t",
        "outputId": "41d65ea7-375e-4ad3-d87a-54dde4bfc301"
      },
      "execution_count": null,
      "outputs": [
        {
          "output_type": "execute_result",
          "data": {
            "text/plain": [
              "<matplotlib.axes._subplots.AxesSubplot at 0x7f595f2857f0>"
            ]
          },
          "metadata": {},
          "execution_count": 12
        },
        {
          "output_type": "display_data",
          "data": {
            "text/plain": [
              "<Figure size 360x216 with 1 Axes>"
            ],
            "image/png": "[encoded data removed]"
          },
          "metadata": {
            "needs_background": "light"
          }
        }
      ]
    },
    {
      "cell_type": "code",
      "source": [
        "#train test 비교\n",
        "train['data'] = 'train'\n",
        "test['data'] = 'test'\n",
        "tmp = pd.concat([train,test]).reset_index(drop=True)\n",
        "for g in tmp.columns[tmp.columns.str.contains('SNP')].tolist()+['trait']:   \n",
        "    tmp.groupby([g])['data'].value_counts().unstack().plot.bar(figsize=(7,3));"
      ],
      "metadata": {
        "colab": {
          "base_uri": "https://localhost:8080/",
          "height": 1000
        },
        "id": "5z2X6ZWpWTwU",
        "outputId": "ec15d5f2-b9c5-4b11-8fee-7dc30c76125f"
      },
      "execution_count": null,
      "outputs": [
        {
          "output_type": "display_data",
          "data": {
            "text/plain": [
              "<Figure size 504x216 with 1 Axes>"
            ],
            "image/png": "[encoded data removed]"
          },
          "metadata": {
            "needs_background": "light"
          }
        },
        {
          "output_type": "display_data",
          "data": {
            "text/plain": [
              "<Figure size 504x216 with 1 Axes>"
            ],
            "image/png": "[encoded data removed]"
          },
          "metadata": {
            "needs_background": "light"
          }
        },
        {
          "output_type": "display_data",
          "data": {
            "text/plain": [
              "<Figure size 504x216 with 1 Axes>"
            ],
            "image/png": "[encoded data removed]"
          },
          "metadata": {
            "needs_background": "light"
          }
        },
        {
          "output_type": "display_data",
          "data": {
            "text/plain": [
              "<Figure size 504x216 with 1 Axes>"
            ],
            "image/png": "[encoded data removed]"
          },
          "metadata": {
            "needs_background": "light"
          }
        },
        {
          "output_type": "display_data",
          "data": {
            "text/plain": [
              "<Figure size 504x216 with 1 Axes>"
            ],
            "image/png": "[encoded data removed]"
          },
          "metadata": {
            "needs_background": "light"
          }
        },
        {
          "output_type": "display_data",
          "data": {
            "text/plain": [
              "<Figure size 504x216 with 1 Axes>"
            ],
            "image/png": "[encoded data removed]"
          },
          "metadata": {
            "needs_background": "light"
          }
        },
        {
          "output_type": "display_data",
          "data": {
            "text/plain": [
              "<Figure size 504x216 with 1 Axes>"
            ],
            "image/png": "[encoded data removed]"
          },
          "metadata": {
            "needs_background": "light"
          }
        },
        {
          "output_type": "display_data",
          "data": {
            "text/plain": [
              "<Figure size 504x216 with 1 Axes>"
            ],
            "image/png": "[encoded data removed]"
          },
          "metadata": {
            "needs_background": "light"
          }
        },
        {
          "output_type": "display_data",
          "data": {
            "text/plain": [
              "<Figure size 504x216 with 1 Axes>"
            ],
            "image/png": "[encoded data removed]"
          },
          "metadata": {
            "needs_background": "light"
          }
        },
        {
          "output_type": "display_data",
          "data": {
            "text/plain": [
              "<Figure size 504x216 with 1 Axes>"
            ],
            "image/png": "[encoded data removed]"
          },
          "metadata": {
            "needs_background": "light"
          }
        },
        {
          "output_type": "display_data",
          "data": {
            "text/plain": [
              "<Figure size 504x216 with 1 Axes>"
            ],
            "image/png": "[encoded data removed]"
          },
          "metadata": {
            "needs_background": "light"
          }
        },
        {
          "output_type": "display_data",
          "data": {
            "text/plain": [
              "<Figure size 504x216 with 1 Axes>"
            ],
            "image/png": "[encoded data removed]"
          },
          "metadata": {
            "needs_background": "light"
          }
        },
        {
          "output_type": "display_data",
          "data": {
            "text/plain": [
              "<Figure size 504x216 with 1 Axes>"
            ],
            "image/png": "[encoded data removed]"
          },
          "metadata": {
            "needs_background": "light"
          }
        },
        {
          "output_type": "display_data",
          "data": {
            "text/plain": [
              "<Figure size 504x216 with 1 Axes>"
            ],
            "image/png": "[encoded data removed]"
          },
          "metadata": {
            "needs_background": "light"
          }
        },
        {
          "output_type": "display_data",
          "data": {
            "text/plain": [
              "<Figure size 504x216 with 1 Axes>"
            ],
            "image/png": "[encoded data removed]"
          },
          "metadata": {
            "needs_background": "light"
          }
        },
        {
          "output_type": "display_data",
          "data": {
            "text/plain": [
              "<Figure size 504x216 with 1 Axes>"
            ],
            "image/png": "[encoded data removed]"
          },
          "metadata": {
            "needs_background": "light"
          }
        }
      ]
    },
    {
      "cell_type": "markdown",
      "source": [
        "## **3. 데이터 전처리**"
      ],
      "metadata": {
        "id": "V6rbL7TZyHCL"
      }
    },
    {
      "cell_type": "markdown",
      "source": [
        "### **Label-Encoding**"
      ],
      "metadata": {
        "id": "QBHCL1tJyM6I"
      }
    },
    {
      "cell_type": "code",
      "source": [
        "class_le = preprocessing.LabelEncoder()\n",
        "snp_le = preprocessing.LabelEncoder()\n",
        "snp_col = [f'SNP_{str(x).zfill(2)}' for x in range(1,16)] #zfill(2): 길이가 2가 되도록 숫자 앞에 0을 붙임"
      ],
      "metadata": {
        "id": "xjiDPicVyKMB"
      },
      "execution_count": null,
      "outputs": []
    },
    {
      "cell_type": "code",
      "source": [
        "snp_data = []\n",
        "for col in snp_col:\n",
        "    snp_data += list(train_x[col].values)"
      ],
      "metadata": {
        "id": "BTgL9oOhyLC8"
      },
      "execution_count": null,
      "outputs": []
    },
    {
      "cell_type": "code",
      "source": [
        "train_y = class_le.fit_transform(train_y)\n",
        "snp_le.fit(snp_data)"
      ],
      "metadata": {
        "colab": {
          "base_uri": "https://localhost:8080/"
        },
        "id": "q9dwAL0YyTA1",
        "outputId": "b1ea363b-4b47-4fa7-8ff9-d372efd97c8d"
      },
      "execution_count": null,
      "outputs": [
        {
          "output_type": "execute_result",
          "data": {
            "text/plain": [
              "LabelEncoder()"
            ]
          },
          "metadata": {},
          "execution_count": 10
        }
      ]
    },
    {
      "cell_type": "code",
      "source": [
        "for col in train_x.columns:\n",
        "    if col in snp_col:\n",
        "        train_x[col] = snp_le.transform(train_x[col])\n",
        "        test_x[col] = snp_le.transform(test_x[col])"
      ],
      "metadata": {
        "id": "lQKz536uyUvd"
      },
      "execution_count": null,
      "outputs": []
    },
    {
      "cell_type": "markdown",
      "source": [
        "## **4. 모델 적합**"
      ],
      "metadata": {
        "id": "D69tUEDI8EOW"
      }
    },
    {
      "cell_type": "code",
      "source": [
        "from sklearn.metrics import confusion_matrix, accuracy_score, precision_score, recall_score, f1_score\n",
        "\n",
        "def get_clf_eval(y_test, pred=None, pred_proba=None):\n",
        "    confusion = confusion_matrix(y_test, pred)\n",
        "    accuracy = accuracy_score(y_test , pred)\n",
        "    precision = precision_score(y_test , pred, average='macro') #'micro', 'weighted'도 가능\n",
        "    recall = recall_score(y_test , pred, average='macro')\n",
        "    f1 = f1_score(y_test,pred, average='macro')\n",
        "    print('오차 행렬')\n",
        "    print(confusion)\n",
        "    print('정확도: {0:.4f}, 정밀도: {1:.4f}, 재현율: {2:.4f}, F1: {3:.4f}'.format(accuracy, precision, recall, f1))"
      ],
      "metadata": {
        "id": "5ExmSaCskXgI"
      },
      "execution_count": null,
      "outputs": []
    },
    {
      "cell_type": "code",
      "source": [
        "# 인자로 사이킷런의 Estimator객체와, 학습/테스트 데이터 세트를 입력 받아서 학습/예측/평가 수행\n",
        "def get_model_train_eval(model, ftr_train=None, ftr_test=None, tgt_train=None, tgt_test=None):\n",
        "    model.fit(ftr_train, tgt_train)\n",
        "    pred = model.predict(ftr_test)\n",
        "    pred_proba = model.predict_proba(ftr_test)[:, 1]\n",
        "    get_clf_eval(tgt_test, pred, pred_proba)"
      ],
      "metadata": {
        "id": "EfqK0O4vkZdB"
      },
      "execution_count": null,
      "outputs": []
    },
    {
      "cell_type": "code",
      "source": [
        "from sklearn.model_selection import train_test_split\n",
        "X_train, X_tr_test, y_train, y_tr_test = train_test_split(train_x, train_y, test_size=0.2, random_state=156)"
      ],
      "metadata": {
        "id": "Mz2LGYeklksN"
      },
      "execution_count": null,
      "outputs": []
    },
    {
      "cell_type": "code",
      "source": [
        "from sklearn.model_selection import GridSearchCV "
      ],
      "metadata": {
        "id": "1ij06QPNbZeU"
      },
      "execution_count": null,
      "outputs": []
    },
    {
      "cell_type": "markdown",
      "source": [
        "### **4-1. Decision Tree**"
      ],
      "metadata": {
        "id": "e4VdEQP8hRrt"
      }
    },
    {
      "cell_type": "code",
      "source": [
        "from sklearn.tree import DecisionTreeClassifier\n",
        "import warnings\n",
        "warnings.filterwarnings('ignore')\n",
        "dt_clf=DecisionTreeClassifier()\n",
        "get_model_train_eval(dt_clf, ftr_train=X_train, ftr_test=X_tr_test, tgt_train=y_train, tgt_test=y_tr_test)"
      ],
      "metadata": {
        "id": "OVj6EJwQiQ-k",
        "outputId": "ab324d5a-d109-4fed-ee68-b911c4b4cde2",
        "colab": {
          "base_uri": "https://localhost:8080/"
        }
      },
      "execution_count": null,
      "outputs": [
        {
          "output_type": "stream",
          "name": "stdout",
          "text": [
            "오차 행렬\n",
            "[[11  0  0]\n",
            " [ 0 22  3]\n",
            " [ 0  2 15]]\n",
            "정확도: 0.9057, 정밀도: 0.9167, 재현율: 0.9208, F1: 0.9184\n"
          ]
        }
      ]
    },
    {
      "cell_type": "code",
      "source": [
        "# feature 중요도\n",
        "import matplotlib.pyplot as plt\n",
        "import seaborn as sns\n",
        "%matplotlib inline\n",
        "\n",
        "ftr_importances_values = dt_clf.feature_importances_\n",
        "ftr_importances = pd.Series(ftr_importances_values,index=X_train.columns  )\n",
        "ftr_top20 = ftr_importances.sort_values(ascending=False)\n",
        "\n",
        "plt.figure(figsize=(8,6))\n",
        "plt.title('Feature importances')\n",
        "sns.barplot(x=ftr_top20 , y = ftr_top20.index)\n",
        "plt.show()"
      ],
      "metadata": {
        "id": "d4hIIx0_jHhe",
        "outputId": "dec8fdb7-1633-443e-a493-7abb93918240",
        "colab": {
          "base_uri": "https://localhost:8080/",
          "height": 390
        }
      },
      "execution_count": null,
      "outputs": [
        {
          "output_type": "display_data",
          "data": {
            "text/plain": [
              "<Figure size 576x432 with 1 Axes>"
            ],
            "image/png": "[encoded data removed]"
          },
          "metadata": {
            "needs_background": "light"
          }
        }
      ]
    },
    {
      "cell_type": "code",
      "source": [
        "dt_preds=dt_clf.predict(test_x)\n",
        "# submit = pd.read_csv('/content/drive/MyDrive/ESAA/방학/DATA/sample_submission.csv')\n",
        "# submit['class'] = class_le.inverse_transform(dt_preds)\n",
        "# submit.to_csv('/content/drive/MyDrive/readcsv/유전체/submit_dt.csv', index=False)"
      ],
      "metadata": {
        "id": "tL35H246jXOD"
      },
      "execution_count": null,
      "outputs": []
    },
    {
      "cell_type": "markdown",
      "source": [
        "### **4-2. Random Forest**"
      ],
      "metadata": {
        "id": "0Ctrv9J7W7IR"
      }
    },
    {
      "cell_type": "code",
      "source": [
        "from sklearn.ensemble import RandomForestClassifier\n",
        "\n",
        "rf_clf = RandomForestClassifier()\n",
        "get_model_train_eval(rf_clf, ftr_train=X_train, ftr_test=X_tr_test, tgt_train=y_train, tgt_test=y_tr_test)"
      ],
      "metadata": {
        "colab": {
          "base_uri": "https://localhost:8080/"
        },
        "id": "Nm6iiO9DifXb",
        "outputId": "96972eee-0056-4a65-a956-1ac6f853594a"
      },
      "execution_count": null,
      "outputs": [
        {
          "output_type": "stream",
          "name": "stdout",
          "text": [
            "오차 행렬\n",
            "[[11  0  0]\n",
            " [ 0 25  0]\n",
            " [ 0  1 16]]\n",
            "정확도: 0.9811, 정밀도: 0.9872, 재현율: 0.9804, F1: 0.9834\n"
          ]
        }
      ]
    },
    {
      "cell_type": "code",
      "source": [
        "# feature 중요도\n",
        "import matplotlib.pyplot as plt\n",
        "import seaborn as sns\n",
        "%matplotlib inline\n",
        "\n",
        "ftr_importances_values = rf_clf.feature_importances_\n",
        "ftr_importances = pd.Series(ftr_importances_values,index=X_train.columns  )\n",
        "ftr_top20 = ftr_importances.sort_values(ascending=False)\n",
        "\n",
        "plt.figure(figsize=(8,6))\n",
        "plt.title('Feature importances')\n",
        "sns.barplot(x=ftr_top20 , y = ftr_top20.index)\n",
        "plt.show()"
      ],
      "metadata": {
        "colab": {
          "base_uri": "https://localhost:8080/",
          "height": 390
        },
        "id": "D95aW-AmiiGi",
        "outputId": "96401944-bc5a-4094-f0e1-d8cd3e2b6eff"
      },
      "execution_count": null,
      "outputs": [
        {
          "output_type": "display_data",
          "data": {
            "text/plain": [
              "<Figure size 576x432 with 1 Axes>"
            ],
            "image/png": "[encoded data removed]"
          },
          "metadata": {
            "needs_background": "light"
          }
        }
      ]
    },
    {
      "cell_type": "code",
      "source": [
        "rf_preds=rf_clf.predict(test_x)\n",
        "# submit = pd.read_csv('/content/drive/MyDrive/ESAA/방학/DATA/sample_submission.csv')\n",
        "# submit['class'] = class_le.inverse_transform(rf_preds)\n",
        "# submit.to_csv('/content/drive/MyDrive/ESAA/방학/DATA/submit_rf.csv', index=False)"
      ],
      "metadata": {
        "id": "sHshGLUYkcc-"
      },
      "execution_count": null,
      "outputs": []
    },
    {
      "cell_type": "code",
      "source": [
        "rf_clf1 = RandomForestClassifier()\n",
        "parameters = {'max_depth': [4, 6, 8, 10, 12, None],\n",
        "              'min_samples_split': [2, 3, 4, 5, 8, 12, 16, 20],\n",
        "              'min_samples_leaf' : [8, 12, 15, 18],\n",
        "              'n_estimators': [10, 30, 50, 80, 100, 120, 150, 200]\n",
        "}\n",
        "\n",
        "\n",
        "rf_grid = GridSearchCV(rf_clf1,\n",
        "                        parameters,\n",
        "                        cv = 2,\n",
        "                        n_jobs = -1,\n",
        "                        verbose = True)\n",
        "rf_grid.fit(X_train, y_train)\n",
        "\n",
        "print(rf_grid.best_score_)\n",
        "print(rf_grid.best_params_)"
      ],
      "metadata": {
        "colab": {
          "base_uri": "https://localhost:8080/"
        },
        "outputId": "951120e1-e065-4d35-af2a-72c09da8c035",
        "id": "zI8L_vWr-J-9"
      },
      "execution_count": null,
      "outputs": [
        {
          "output_type": "stream",
          "name": "stdout",
          "text": [
            "Fitting 2 folds for each of 1536 candidates, totalling 3072 fits\n",
            "0.9330586080586081\n",
            "{'max_depth': 10, 'min_samples_leaf': 8, 'min_samples_split': 2, 'n_estimators': 80}\n"
          ]
        }
      ]
    },
    {
      "cell_type": "code",
      "source": [
        "rf_model = RandomForestClassifier(max_depth=10, min_samples_leaf=8, min_samples_split=2, n_estimators=80)\n",
        "get_model_train_eval(rf_model, ftr_train=X_train, ftr_test=X_tr_test, tgt_train=y_train, tgt_test=y_tr_test)"
      ],
      "metadata": {
        "colab": {
          "base_uri": "https://localhost:8080/"
        },
        "outputId": "73f24aba-8637-4595-8ca8-8dea40952d8a",
        "id": "FYdmTik8-J--"
      },
      "execution_count": null,
      "outputs": [
        {
          "output_type": "stream",
          "name": "stdout",
          "text": [
            "오차 행렬\n",
            "[[11  0  0]\n",
            " [ 0 25  0]\n",
            " [ 0  2 15]]\n",
            "정확도: 0.9623, 정밀도: 0.9753, 재현율: 0.9608, F1: 0.9663\n"
          ]
        }
      ]
    },
    {
      "cell_type": "code",
      "source": [
        "rf_preds=rf_model.predict(test_x)\n",
        "# submit = pd.read_csv('/content/drive/MyDrive/ESAA/방학/DATA/sample_submission.csv')\n",
        "# submit['class'] = class_le.inverse_transform(rf_preds)\n",
        "# submit.to_csv('/content/drive/MyDrive/ESAA/방학/DATA/submit_rf_model.csv', index=False)"
      ],
      "metadata": {
        "id": "cvcULWxc_Uon"
      },
      "execution_count": null,
      "outputs": []
    },
    {
      "cell_type": "markdown",
      "source": [
        "### **4-3. XGBoost**"
      ],
      "metadata": {
        "id": "q_ySnm0fhX_H"
      }
    },
    {
      "cell_type": "code",
      "source": [
        "import xgboost as xgb\n",
        "from xgboost import XGBClassifier\n",
        "from xgboost import plot_importance\n",
        "import warnings\n",
        "warnings.filterwarnings('ignore')"
      ],
      "metadata": {
        "id": "lWCs-hiiWloK"
      },
      "execution_count": null,
      "outputs": []
    },
    {
      "cell_type": "code",
      "source": [
        "xgb_clf = XGBClassifier()\n",
        "get_model_train_eval(xgb_clf, ftr_train=X_train, ftr_test=X_tr_test, tgt_train=y_train, tgt_test=y_tr_test)"
      ],
      "metadata": {
        "colab": {
          "base_uri": "https://localhost:8080/"
        },
        "id": "IcbrIZ-2XRVI",
        "outputId": "edbac2a5-7287-4a3f-ec93-551f30df726c"
      },
      "execution_count": null,
      "outputs": [
        {
          "output_type": "stream",
          "name": "stdout",
          "text": [
            "오차 행렬\n",
            "[[11  0  0]\n",
            " [ 0 25  0]\n",
            " [ 0  1 16]]\n",
            "정확도: 0.9811, 정밀도: 0.9872, 재현율: 0.9804, F1: 0.9834\n"
          ]
        }
      ]
    },
    {
      "cell_type": "code",
      "source": [
        "# feature 중요도\n",
        "import matplotlib.pyplot as plt\n",
        "import seaborn as sns\n",
        "%matplotlib inline\n",
        "\n",
        "ftr_importances_values = xgb_clf.feature_importances_\n",
        "ftr_importances = pd.Series(ftr_importances_values,index=X_train.columns  )\n",
        "ftr_top20 = ftr_importances.sort_values(ascending=False)\n",
        "\n",
        "plt.figure(figsize=(8,6))\n",
        "plt.title('Feature importances')\n",
        "sns.barplot(x=ftr_top20 , y = ftr_top20.index)\n",
        "plt.show()"
      ],
      "metadata": {
        "id": "cvfSfsUFkpEc",
        "outputId": "96830474-56de-4702-fe45-2530b9a8abfc",
        "colab": {
          "base_uri": "https://localhost:8080/",
          "height": 390
        }
      },
      "execution_count": null,
      "outputs": [
        {
          "output_type": "display_data",
          "data": {
            "text/plain": [
              "<Figure size 576x432 with 1 Axes>"
            ],
            "image/png": "[encoded data removed]"
          },
          "metadata": {
            "needs_background": "light"
          }
        }
      ]
    },
    {
      "cell_type": "code",
      "source": [
        "xgb_preds = xgb_clf.predict(test_x)\n",
        "# submit = pd.read_csv('/content/drive/MyDrive/ESAA/방학/DATA/sample_submission.csv')\n",
        "# submit['class'] = class_le.inverse_transform(xgb_preds)\n",
        "# submit.to_csv('/content/drive/MyDrive/ESAA/방학/DATA/submit_xgb.csv', index=False)"
      ],
      "metadata": {
        "id": "utyXa0YvhjZl"
      },
      "execution_count": null,
      "outputs": []
    },
    {
      "cell_type": "markdown",
      "source": [
        "### **4-4. GBM**"
      ],
      "metadata": {
        "id": "GPluqOvohYB4"
      }
    },
    {
      "cell_type": "code",
      "source": [
        "from sklearn.ensemble import GradientBoostingClassifier\n",
        "gbm_clf = GradientBoostingClassifier()\n",
        "get_model_train_eval(gbm_clf, ftr_train=X_train, ftr_test=X_tr_test, tgt_train=y_train, tgt_test=y_tr_test)"
      ],
      "metadata": {
        "colab": {
          "base_uri": "https://localhost:8080/"
        },
        "id": "3DE1xcD9lJX6",
        "outputId": "71f6df60-b211-40f9-89e6-47b6656e3151"
      },
      "execution_count": null,
      "outputs": [
        {
          "output_type": "stream",
          "name": "stdout",
          "text": [
            "오차 행렬\n",
            "[[11  0  0]\n",
            " [ 0 25  0]\n",
            " [ 0  1 16]]\n",
            "정확도: 0.9811, 정밀도: 0.9872, 재현율: 0.9804, F1: 0.9834\n"
          ]
        }
      ]
    },
    {
      "cell_type": "code",
      "source": [
        "# feature 중요도\n",
        "import matplotlib.pyplot as plt\n",
        "import seaborn as sns\n",
        "%matplotlib inline\n",
        "\n",
        "ftr_importances_values = gbm_clf.feature_importances_\n",
        "ftr_importances = pd.Series(ftr_importances_values,index=X_train.columns  )\n",
        "ftr_top20 = ftr_importances.sort_values(ascending=False)\n",
        "\n",
        "plt.figure(figsize=(8,6))\n",
        "plt.title('Feature importances')\n",
        "sns.barplot(x=ftr_top20 , y = ftr_top20.index)\n",
        "plt.show()"
      ],
      "metadata": {
        "colab": {
          "base_uri": "https://localhost:8080/",
          "height": 390
        },
        "id": "IDuZoOXRle1W",
        "outputId": "fe888a40-bb56-45e1-ab6f-bd52764c1aac"
      },
      "execution_count": null,
      "outputs": [
        {
          "output_type": "display_data",
          "data": {
            "text/plain": [
              "<Figure size 576x432 with 1 Axes>"
            ],
            "image/png": "[encoded data removed]"
          },
          "metadata": {
            "needs_background": "light"
          }
        }
      ]
    },
    {
      "cell_type": "code",
      "source": [
        "gbm_preds = gbm_clf.predict(test_x)\n",
        "# submit = pd.read_csv('/content/drive/MyDrive/ESAA/방학/DATA/sample_submission.csv')\n",
        "# submit['class'] = class_le.inverse_transform(gbm_preds)\n",
        "# submit.to_csv('/content/drive/MyDrive/ESAA/방학/DATA/submit_gbm.csv', index=False)"
      ],
      "metadata": {
        "id": "RWJSBlKSlqee"
      },
      "execution_count": null,
      "outputs": []
    },
    {
      "cell_type": "markdown",
      "source": [
        "### **4-5. Light GBM**"
      ],
      "metadata": {
        "id": "6ML17_9YW9go"
      }
    },
    {
      "cell_type": "code",
      "source": [
        "from lightgbm import LGBMClassifier\n",
        "import lightgbm as lgbm\n",
        "lgbm_clf = LGBMClassifier()\n",
        "get_model_train_eval(lgbm_clf, ftr_train=X_train, ftr_test=X_tr_test, tgt_train=y_train, tgt_test=y_tr_test)"
      ],
      "metadata": {
        "colab": {
          "base_uri": "https://localhost:8080/"
        },
        "id": "wObLilN-XGkP",
        "outputId": "53264a1f-515b-48d3-bda5-19eb0f7cb374"
      },
      "execution_count": null,
      "outputs": [
        {
          "output_type": "stream",
          "name": "stdout",
          "text": [
            "오차 행렬\n",
            "[[11  0  0]\n",
            " [ 0 25  0]\n",
            " [ 0  1 16]]\n",
            "정확도: 0.9811, 정밀도: 0.9872, 재현율: 0.9804, F1: 0.9834\n"
          ]
        }
      ]
    },
    {
      "cell_type": "code",
      "source": [
        "# feature 중요도\n",
        "import matplotlib.pyplot as plt\n",
        "import seaborn as sns\n",
        "%matplotlib inline\n",
        "\n",
        "ftr_importances_values = lgbm_clf.feature_importances_\n",
        "ftr_importances = pd.Series(ftr_importances_values,index=X_train.columns  )\n",
        "ftr_top20 = ftr_importances.sort_values(ascending=False)\n",
        "\n",
        "plt.figure(figsize=(8,6))\n",
        "plt.title('Feature importances')\n",
        "sns.barplot(x=ftr_top20 , y = ftr_top20.index)\n",
        "plt.show()"
      ],
      "metadata": {
        "colab": {
          "base_uri": "https://localhost:8080/",
          "height": 390
        },
        "id": "peMLkOAkYAd5",
        "outputId": "b63b74d5-dfd8-4720-cc05-b20f77294d68"
      },
      "execution_count": null,
      "outputs": [
        {
          "output_type": "display_data",
          "data": {
            "text/plain": [
              "<Figure size 576x432 with 1 Axes>"
            ],
            "image/png": "[encoded data removed]"
          },
          "metadata": {
            "needs_background": "light"
          }
        }
      ]
    },
    {
      "cell_type": "code",
      "source": [
        "lgbm_preds = lgbm_clf.predict(test_x)\n",
        "# submit = pd.read_csv('/content/drive/MyDrive/ESAA/방학/DATA/sample_submission.csv')\n",
        "# submit['class'] = class_le.inverse_transform(lgbm_preds)\n",
        "# submit.to_csv('/content/drive/MyDrive/ESAA/방학/DATA/submit_lgbm.csv', index=False)"
      ],
      "metadata": {
        "id": "eMPgCldkYkzE"
      },
      "execution_count": null,
      "outputs": []
    },
    {
      "cell_type": "code",
      "source": [
        "lgbm_clf1 = LGBMClassifier()\n",
        "parameters = {'max_depth': [4,6,8,10],\n",
        "              'learning_rate': [0.01,0.03,0.1,0.15],\n",
        "              'n_estimators': [100,300,500]\n",
        "}\n",
        "\n",
        "\n",
        "lgbm_grid = GridSearchCV(lgbm_clf1,\n",
        "                        parameters,\n",
        "                        cv = 2,\n",
        "                        n_jobs = -1,\n",
        "                        verbose = True)\n",
        "lgbm_grid.fit(X_train, y_train)\n",
        "\n",
        "print(lgbm_grid.best_score_)\n",
        "print(lgbm_grid.best_params_)"
      ],
      "metadata": {
        "id": "DYJXFpoqaW_H",
        "colab": {
          "base_uri": "https://localhost:8080/"
        },
        "outputId": "b20d9797-84e2-4fe8-e870-5cc41cf53a43"
      },
      "execution_count": null,
      "outputs": [
        {
          "output_type": "stream",
          "name": "stdout",
          "text": [
            "Fitting 2 folds for each of 48 candidates, totalling 96 fits\n",
            "0.9568681318681318\n",
            "{'learning_rate': 0.03, 'max_depth': 4, 'n_estimators': 500}\n"
          ]
        }
      ]
    },
    {
      "cell_type": "code",
      "source": [
        "lgbm_model = LGBMClassifier(learning_rate=0.03,max_depth=4,n_estimator=500)\n",
        "get_model_train_eval(lgbm_model, ftr_train=X_train, ftr_test=X_tr_test, tgt_train=y_train, tgt_test=y_tr_test)"
      ],
      "metadata": {
        "id": "pKwI9AlrbjM_",
        "colab": {
          "base_uri": "https://localhost:8080/"
        },
        "outputId": "133fae2e-078f-48f1-f624-e53308df1adb"
      },
      "execution_count": null,
      "outputs": [
        {
          "output_type": "stream",
          "name": "stdout",
          "text": [
            "오차 행렬\n",
            "[[11  0  0]\n",
            " [ 0 25  0]\n",
            " [ 0  3 14]]\n",
            "정확도: 0.9434, 정밀도: 0.9643, 재현율: 0.9412, F1: 0.9489\n"
          ]
        }
      ]
    },
    {
      "cell_type": "code",
      "source": [
        "lgbm_preds1 = lgbm_model.predict(test_x)\n",
        "# submit = pd.read_csv('/content/drive/MyDrive/ESAA/방학/DATA/sample_submission.csv')\n",
        "# submit['class'] = class_le.inverse_transform(lgbm_preds1)\n",
        "# submit.to_csv('/content/drive/MyDrive/ESAA/방학/DATA/submit_lgbm_model.csv', index=False)"
      ],
      "metadata": {
        "id": "rFio7eUscZcw"
      },
      "execution_count": null,
      "outputs": []
    },
    {
      "cell_type": "markdown",
      "source": [
        "### **4-6. Logistic Regression**"
      ],
      "metadata": {
        "id": "5xEmkHJPEroP"
      }
    },
    {
      "cell_type": "code",
      "source": [
        "from sklearn.linear_model import LogisticRegression\n",
        "lr_clf = LogisticRegression()\n",
        "get_model_train_eval(lr_clf, ftr_train=X_train, ftr_test=X_tr_test, tgt_train=y_train, tgt_test=y_tr_test)"
      ],
      "metadata": {
        "colab": {
          "base_uri": "https://localhost:8080/"
        },
        "outputId": "c30e8932-c484-41b9-8a6d-c301f79f3255",
        "id": "HbbouFPuEroQ"
      },
      "execution_count": null,
      "outputs": [
        {
          "output_type": "stream",
          "name": "stdout",
          "text": [
            "오차 행렬\n",
            "[[10  0  1]\n",
            " [ 0 23  2]\n",
            " [ 0  1 16]]\n",
            "정확도: 0.9245, 정밀도: 0.9335, 재현율: 0.9234, F1: 0.9267\n"
          ]
        }
      ]
    },
    {
      "cell_type": "code",
      "source": [
        "# feature 중요도 # 'LogisticRegression' object has no attribute 'feature_importances_'\n",
        "import matplotlib.pyplot as plt\n",
        "import seaborn as sns\n",
        "%matplotlib inline\n",
        "\n",
        "importance = lr_clf.coef_[0]\n",
        "#importance is a list so you can plot it. \n",
        "feat_importances = pd.Series(importance)\n",
        "\n",
        "plt.figure(figsize=(8,6))\n",
        "plt.title('Feature importances')\n",
        "feat_importances.nlargest(20).plot(kind='barh',title = 'Feature Importance')\n",
        "plt.show()"
      ],
      "metadata": {
        "colab": {
          "base_uri": "https://localhost:8080/",
          "height": 390
        },
        "id": "yVAvCxBhQ0eX",
        "outputId": "ac0fb730-d6ff-436b-bcdf-2ddc6b4f9568"
      },
      "execution_count": null,
      "outputs": [
        {
          "output_type": "display_data",
          "data": {
            "text/plain": [
              "<Figure size 576x432 with 1 Axes>"
            ],
            "image/png": "[encoded data removed]"
          },
          "metadata": {
            "needs_background": "light"
          }
        }
      ]
    },
    {
      "cell_type": "code",
      "source": [
        "lr_preds = lr_clf.predict(test_x)\n",
        "# submit = pd.read_csv('/content/drive/MyDrive/ESAA/방학/DATA/sample_submission.csv')\n",
        "# submit['class'] = class_le.inverse_transform(lr_preds)\n",
        "# submit.to_csv('/content/drive/MyDrive/ESAA/방학/DATA/submit_lr.csv', index=False)"
      ],
      "metadata": {
        "id": "032Daq2aOCpM"
      },
      "execution_count": null,
      "outputs": []
    },
    {
      "cell_type": "markdown",
      "source": [
        "### **4-7. KNN**"
      ],
      "metadata": {
        "id": "5Fl9e_1kFlJ4"
      }
    },
    {
      "cell_type": "code",
      "source": [
        "from sklearn.neighbors import KNeighborsClassifier\n",
        "knn_clf = KNeighborsClassifier()\n",
        "get_model_train_eval(knn_clf, ftr_train=X_train, ftr_test=X_tr_test, tgt_train=y_train, tgt_test=y_tr_test)"
      ],
      "metadata": {
        "colab": {
          "base_uri": "https://localhost:8080/"
        },
        "id": "DVg5xqIPFgH2",
        "outputId": "884d953b-dc2c-4718-f763-572cde6feea4"
      },
      "execution_count": null,
      "outputs": [
        {
          "output_type": "stream",
          "name": "stdout",
          "text": [
            "오차 행렬\n",
            "[[11  0  0]\n",
            " [ 0 24  1]\n",
            " [ 0  2 15]]\n",
            "정확도: 0.9434, 정밀도: 0.9535, 재현율: 0.9475, F1: 0.9501\n"
          ]
        }
      ]
    },
    {
      "cell_type": "code",
      "source": [
        "# feature 중요도 # 'KNeighborsClassifier' object has no attribute 'feature_importances_'"
      ],
      "metadata": {
        "id": "AFgYI6s_RaJ1"
      },
      "execution_count": null,
      "outputs": []
    },
    {
      "cell_type": "code",
      "source": [
        "knn_preds = knn_clf.predict(test_x)\n",
        "# submit = pd.read_csv('/content/drive/MyDrive/ESAA/방학/DATA/sample_submission.csv')\n",
        "# submit['class'] = class_le.inverse_transform(knn_preds)\n",
        "# submit.to_csv('/content/drive/MyDrive/ESAA/방학/DATA/submit_knn.csv', index=False)"
      ],
      "metadata": {
        "id": "29-u1qT4Plx7"
      },
      "execution_count": null,
      "outputs": []
    },
    {
      "cell_type": "code",
      "source": [
        "parameters = {\n",
        "    'n_neighbors' : list(range(1,20)),\n",
        "    'weights' : [\"uniform\", \"distance\"],\n",
        "    'metric' : ['euclidean', 'manhattan', 'minkowski']\n",
        "}"
      ],
      "metadata": {
        "id": "P9Ubtox1F9lE"
      },
      "execution_count": null,
      "outputs": []
    },
    {
      "cell_type": "code",
      "source": [
        "knn_clf1 = KNeighborsClassifier()\n",
        "knn_grid = GridSearchCV(knn_clf1,\n",
        "                        parameters,\n",
        "                        cv = 2,\n",
        "                        n_jobs = -1,\n",
        "                        verbose = True)\n",
        "knn_grid.fit(X_train, y_train)\n",
        "\n",
        "print(knn_grid.best_score_)\n",
        "print(knn_grid.best_params_)"
      ],
      "metadata": {
        "colab": {
          "base_uri": "https://localhost:8080/"
        },
        "id": "aPGuDCAfGAbZ",
        "outputId": "47f8425f-006d-4af3-fbd5-c36009cbfb66"
      },
      "execution_count": null,
      "outputs": [
        {
          "output_type": "stream",
          "name": "stdout",
          "text": [
            "Fitting 2 folds for each of 114 candidates, totalling 228 fits\n",
            "0.8899267399267399\n",
            "{'metric': 'manhattan', 'n_neighbors': 7, 'weights': 'uniform'}\n"
          ]
        }
      ]
    },
    {
      "cell_type": "code",
      "source": [
        "knn_model = KNeighborsClassifier(metric='manhattan', n_neighbors=7, weights='uniform')\n",
        "get_model_train_eval(knn_model, ftr_train=X_train, ftr_test=X_tr_test, tgt_train=y_train, tgt_test=y_tr_test)"
      ],
      "metadata": {
        "colab": {
          "base_uri": "https://localhost:8080/"
        },
        "id": "BZr5mMv7GqBP",
        "outputId": "58706964-f999-4eb9-f1e9-11683478c906"
      },
      "execution_count": null,
      "outputs": [
        {
          "output_type": "stream",
          "name": "stdout",
          "text": [
            "오차 행렬\n",
            "[[11  0  0]\n",
            " [ 0 25  0]\n",
            " [ 0  2 15]]\n",
            "정확도: 0.9623, 정밀도: 0.9753, 재현율: 0.9608, F1: 0.9663\n"
          ]
        }
      ]
    },
    {
      "cell_type": "code",
      "source": [
        "knn_preds1 = knn_model.predict(test_x)\n",
        "# submit = pd.read_csv('/content/drive/MyDrive/ESAA/방학/DATA/sample_submission.csv')\n",
        "# submit['class'] = class_le.inverse_transform(knn_preds1)\n",
        "# submit.to_csv('/content/drive/MyDrive/ESAA/방학/DATA/submit_knn_model.csv', index=False)"
      ],
      "metadata": {
        "id": "GK3EsI_IPhnL"
      },
      "execution_count": null,
      "outputs": []
    },
    {
      "cell_type": "markdown",
      "source": [
        "### **4-8. Extra Trees Classifier**"
      ],
      "metadata": {
        "id": "pQe4MNnkNi7Z"
      }
    },
    {
      "cell_type": "code",
      "source": [
        "from sklearn.ensemble import ExtraTreesClassifier\n",
        "extra_clf=ExtraTreesClassifier()\n",
        "get_model_train_eval(extra_clf, ftr_train=X_train, ftr_test=X_tr_test, tgt_train=y_train, tgt_test=y_tr_test)"
      ],
      "metadata": {
        "colab": {
          "base_uri": "https://localhost:8080/"
        },
        "outputId": "940b0019-566c-43f6-cf98-c811e442b6e3",
        "id": "s2QbH4d4Ni7a"
      },
      "execution_count": null,
      "outputs": [
        {
          "output_type": "stream",
          "name": "stdout",
          "text": [
            "오차 행렬\n",
            "[[11  0  0]\n",
            " [ 0 25  0]\n",
            " [ 0  1 16]]\n",
            "정확도: 0.9811, 정밀도: 0.9872, 재현율: 0.9804, F1: 0.9834\n"
          ]
        }
      ]
    },
    {
      "cell_type": "code",
      "source": [
        "# feature 중요도\n",
        "import matplotlib.pyplot as plt\n",
        "import seaborn as sns\n",
        "%matplotlib inline\n",
        "\n",
        "ftr_importances_values = extra_clf.feature_importances_\n",
        "ftr_importances = pd.Series(ftr_importances_values,index=X_train.columns  )\n",
        "ftr_top20 = ftr_importances.sort_values(ascending=False)\n",
        "\n",
        "plt.figure(figsize=(8,6))\n",
        "plt.title('Feature importances')\n",
        "sns.barplot(x=ftr_top20 , y = ftr_top20.index)\n",
        "plt.show()"
      ],
      "metadata": {
        "colab": {
          "base_uri": "https://localhost:8080/",
          "height": 390
        },
        "id": "VMReH3maN2G-",
        "outputId": "4e1978ae-6c66-40f3-a431-c532efa57271"
      },
      "execution_count": null,
      "outputs": [
        {
          "output_type": "display_data",
          "data": {
            "text/plain": [
              "<Figure size 576x432 with 1 Axes>"
            ],
            "image/png": "[encoded data removed]"
          },
          "metadata": {
            "needs_background": "light"
          }
        }
      ]
    },
    {
      "cell_type": "code",
      "source": [
        "extra_preds = extra_clf.predict(test_x)\n",
        "# submit = pd.read_csv('/content/drive/MyDrive/ESAA/방학/DATA/sample_submission.csv')\n",
        "# submit['class'] = class_le.inverse_transform(extra_preds)\n",
        "# submit.to_csv('/content/drive/MyDrive/ESAA/방학/DATA/submit_extra.csv', index=False)"
      ],
      "metadata": {
        "id": "_3mMGhgnN4b8"
      },
      "execution_count": null,
      "outputs": []
    },
    {
      "cell_type": "markdown",
      "source": [
        "##**5. 변수결합**"
      ],
      "metadata": {
        "id": "NptXBG44z3QY"
      }
    },
    {
      "cell_type": "markdown",
      "source": [
        "###**5-1**\n",
        "결합 기준 1: snp_info 상 name 비슷한 변수끼리 결합\n"
      ],
      "metadata": {
        "id": "C0QD8F2tz8OP"
      }
    },
    {
      "cell_type": "code",
      "source": [
        "snp_info=pd.read_csv('/content/drive/MyDrive/readcsv/유전체/snp_info.csv')\n",
        "snp_info"
      ],
      "metadata": {
        "colab": {
          "base_uri": "https://localhost:8080/",
          "height": 519
        },
        "id": "ItEViJ6dzpLU",
        "outputId": "6667fa94-e701-4d43-bdaf-c0056d0bc1c4"
      },
      "execution_count": null,
      "outputs": [
        {
          "output_type": "execute_result",
          "data": {
            "text/plain": [
              "    SNP_id                                   name  chrom        cm       pos\n",
              "0   SNP_01                        BTA-19852-no-rs      2  67.05460  42986890\n",
              "1   SNP_02  ARS-USMARC-Parent-DQ647190-rs29013632      6  31.15670  13897068\n",
              "2   SNP_03                    ARS-BFGL-NGS-117009      6  68.28920  44649549\n",
              "3   SNP_04                     ARS-BFGL-NGS-60567      6  77.87490  53826064\n",
              "4   SNP_05                     BovineHD0600017032      6  80.50150  61779512\n",
              "5   SNP_06                     BovineHD0600017424      6  80.59540  63048481\n",
              "6   SNP_07                 Hapmap49442-BTA-111073      6  80.78000  64037334\n",
              "7   SNP_08                     BovineHD0600018638      6  82.68560  67510588\n",
              "8   SNP_09                     ARS-BFGL-NGS-37727      6  86.87400  73092782\n",
              "9   SNP_10                           BTB-01558306      7  62.06920  40827112\n",
              "10  SNP_11                     ARS-BFGL-NGS-44247      8  97.17310  92485682\n",
              "11  SNP_12                 Hapmap32827-BTA-146530      9  62.74630  55007839\n",
              "12  SNP_13                           BTB-00395482      9  63.41810  59692848\n",
              "13  SNP_14                  Hapmap40256-BTA-84189      9  66.81970  72822507\n",
              "14  SNP_15                     BovineHD1000000224     10   1.78774    814291"
            ],
            "text/html": [
              "\n",
              "  <div id=\"df-07db898e-1a9a-4c98-922b-6ac288c62260\">\n",
              "    <div class=\"colab-df-container\">\n",
              "      <div>\n",
              "<style scoped>\n",
              "    .dataframe tbody tr th:only-of-type {\n",
              "        vertical-align: middle;\n",
              "    }\n",
              "\n",
              "    .dataframe tbody tr th {\n",
              "        vertical-align: top;\n",
              "    }\n",
              "\n",
              "    .dataframe thead th {\n",
              "        text-align: right;\n",
              "    }\n",
              "</style>\n",
              "<table border=\"1\" class=\"dataframe\">\n",
              "  <thead>\n",
              "    <tr style=\"text-align: right;\">\n",
              "      <th></th>\n",
              "      <th>SNP_id</th>\n",
              "      <th>name</th>\n",
              "      <th>chrom</th>\n",
              "      <th>cm</th>\n",
              "      <th>pos</th>\n",
              "    </tr>\n",
              "  </thead>\n",
              "  <tbody>\n",
              "    <tr>\n",
              "      <th>0</th>\n",
              "      <td>SNP_01</td>\n",
              "      <td>BTA-19852-no-rs</td>\n",
              "      <td>2</td>\n",
              "      <td>67.05460</td>\n",
              "      <td>42986890</td>\n",
              "    </tr>\n",
              "    <tr>\n",
              "      <th>1</th>\n",
              "      <td>SNP_02</td>\n",
              "      <td>ARS-USMARC-Parent-DQ647190-rs29013632</td>\n",
              "      <td>6</td>\n",
              "      <td>31.15670</td>\n",
              "      <td>13897068</td>\n",
              "    </tr>\n",
              "    <tr>\n",
              "      <th>2</th>\n",
              "      <td>SNP_03</td>\n",
              "      <td>ARS-BFGL-NGS-117009</td>\n",
              "      <td>6</td>\n",
              "      <td>68.28920</td>\n",
              "      <td>44649549</td>\n",
              "    </tr>\n",
              "    <tr>\n",
              "      <th>3</th>\n",
              "      <td>SNP_04</td>\n",
              "      <td>ARS-BFGL-NGS-60567</td>\n",
              "      <td>6</td>\n",
              "      <td>77.87490</td>\n",
              "      <td>53826064</td>\n",
              "    </tr>\n",
              "    <tr>\n",
              "      <th>4</th>\n",
              "      <td>SNP_05</td>\n",
              "      <td>BovineHD0600017032</td>\n",
              "      <td>6</td>\n",
              "      <td>80.50150</td>\n",
              "      <td>61779512</td>\n",
              "    </tr>\n",
              "    <tr>\n",
              "      <th>5</th>\n",
              "      <td>SNP_06</td>\n",
              "      <td>BovineHD0600017424</td>\n",
              "      <td>6</td>\n",
              "      <td>80.59540</td>\n",
              "      <td>63048481</td>\n",
              "    </tr>\n",
              "    <tr>\n",
              "      <th>6</th>\n",
              "      <td>SNP_07</td>\n",
              "      <td>Hapmap49442-BTA-111073</td>\n",
              "      <td>6</td>\n",
              "      <td>80.78000</td>\n",
              "      <td>64037334</td>\n",
              "    </tr>\n",
              "    <tr>\n",
              "      <th>7</th>\n",
              "      <td>SNP_08</td>\n",
              "      <td>BovineHD0600018638</td>\n",
              "      <td>6</td>\n",
              "      <td>82.68560</td>\n",
              "      <td>67510588</td>\n",
              "    </tr>\n",
              "    <tr>\n",
              "      <th>8</th>\n",
              "      <td>SNP_09</td>\n",
              "      <td>ARS-BFGL-NGS-37727</td>\n",
              "      <td>6</td>\n",
              "      <td>86.87400</td>\n",
              "      <td>73092782</td>\n",
              "    </tr>\n",
              "    <tr>\n",
              "      <th>9</th>\n",
              "      <td>SNP_10</td>\n",
              "      <td>BTB-01558306</td>\n",
              "      <td>7</td>\n",
              "      <td>62.06920</td>\n",
              "      <td>40827112</td>\n",
              "    </tr>\n",
              "    <tr>\n",
              "      <th>10</th>\n",
              "      <td>SNP_11</td>\n",
              "      <td>ARS-BFGL-NGS-44247</td>\n",
              "      <td>8</td>\n",
              "      <td>97.17310</td>\n",
              "      <td>92485682</td>\n",
              "    </tr>\n",
              "    <tr>\n",
              "      <th>11</th>\n",
              "      <td>SNP_12</td>\n",
              "      <td>Hapmap32827-BTA-146530</td>\n",
              "      <td>9</td>\n",
              "      <td>62.74630</td>\n",
              "      <td>55007839</td>\n",
              "    </tr>\n",
              "    <tr>\n",
              "      <th>12</th>\n",
              "      <td>SNP_13</td>\n",
              "      <td>BTB-00395482</td>\n",
              "      <td>9</td>\n",
              "      <td>63.41810</td>\n",
              "      <td>59692848</td>\n",
              "    </tr>\n",
              "    <tr>\n",
              "      <th>13</th>\n",
              "      <td>SNP_14</td>\n",
              "      <td>Hapmap40256-BTA-84189</td>\n",
              "      <td>9</td>\n",
              "      <td>66.81970</td>\n",
              "      <td>72822507</td>\n",
              "    </tr>\n",
              "    <tr>\n",
              "      <th>14</th>\n",
              "      <td>SNP_15</td>\n",
              "      <td>BovineHD1000000224</td>\n",
              "      <td>10</td>\n",
              "      <td>1.78774</td>\n",
              "      <td>814291</td>\n",
              "    </tr>\n",
              "  </tbody>\n",
              "</table>\n",
              "</div>\n",
              "      <button class=\"colab-df-convert\" onclick=\"convertToInteractive('df-07db898e-1a9a-4c98-922b-6ac288c62260')\"\n",
              "              title=\"Convert this dataframe to an interactive table.\"\n",
              "              style=\"display:none;\">\n",
              "        \n",
              "  <svg xmlns=\"http://www.w3.org/2000/svg\" height=\"24px\"viewBox=\"0 0 24 24\"\n",
              "       width=\"24px\">\n",
              "    <path d=\"M0 0h24v24H0V0z\" fill=\"none\"/>\n",
              "    <path d=\"M18.56 5.44l.94 2.06.94-2.06 2.06-.94-2.06-.94-.94-2.06-.94 2.06-2.06.94zm-11 1L8.5 8.5l.94-2.06 2.06-.94-2.06-.94L8.5 2.5l-.94 2.06-2.06.94zm10 10l.94 2.06.94-2.06 2.06-.94-2.06-.94-.94-2.06-.94 2.06-2.06.94z\"/><path d=\"M17.41 7.96l-1.37-1.37c-.4-.4-.92-.59-1.43-.59-.52 0-1.04.2-1.43.59L10.3 9.45l-7.72 7.72c-.78.78-.78 2.05 0 2.83L4 21.41c.39.39.9.59 1.41.59.51 0 1.02-.2 1.41-.59l7.78-7.78 2.81-2.81c.8-.78.8-2.07 0-2.86zM5.41 20L4 18.59l7.72-7.72 1.47 1.35L5.41 20z\"/>\n",
              "  </svg>\n",
              "      </button>\n",
              "      \n",
              "  <style>\n",
              "    .colab-df-container {\n",
              "      display:flex;\n",
              "      flex-wrap:wrap;\n",
              "      gap: 12px;\n",
              "    }\n",
              "\n",
              "    .colab-df-convert {\n",
              "      background-color: #E8F0FE;\n",
              "      border: none;\n",
              "      border-radius: 50%;\n",
              "      cursor: pointer;\n",
              "      display: none;\n",
              "      fill: #1967D2;\n",
              "      height: 32px;\n",
              "      padding: 0 0 0 0;\n",
              "      width: 32px;\n",
              "    }\n",
              "\n",
              "    .colab-df-convert:hover {\n",
              "      background-color: #E2EBFA;\n",
              "      box-shadow: 0px 1px 2px rgba(60, 64, 67, 0.3), 0px 1px 3px 1px rgba(60, 64, 67, 0.15);\n",
              "      fill: #174EA6;\n",
              "    }\n",
              "\n",
              "    [theme=dark] .colab-df-convert {\n",
              "      background-color: #3B4455;\n",
              "      fill: #D2E3FC;\n",
              "    }\n",
              "\n",
              "    [theme=dark] .colab-df-convert:hover {\n",
              "      background-color: #434B5C;\n",
              "      box-shadow: 0px 1px 3px 1px rgba(0, 0, 0, 0.15);\n",
              "      filter: drop-shadow(0px 1px 2px rgba(0, 0, 0, 0.3));\n",
              "      fill: #FFFFFF;\n",
              "    }\n",
              "  </style>\n",
              "\n",
              "      <script>\n",
              "        const buttonEl =\n",
              "          document.querySelector('#df-07db898e-1a9a-4c98-922b-6ac288c62260 button.colab-df-convert');\n",
              "        buttonEl.style.display =\n",
              "          google.colab.kernel.accessAllowed ? 'block' : 'none';\n",
              "\n",
              "        async function convertToInteractive(key) {\n",
              "          const element = document.querySelector('#df-07db898e-1a9a-4c98-922b-6ac288c62260');\n",
              "          const dataTable =\n",
              "            await google.colab.kernel.invokeFunction('convertToInteractive',\n",
              "                                                     [key], {});\n",
              "          if (!dataTable) return;\n",
              "\n",
              "          const docLinkHtml = 'Like what you see? Visit the ' +\n",
              "            '<a target=\"_blank\" href=https://colab.research.google.com/notebooks/data_table.ipynb>data table notebook</a>'\n",
              "            + ' to learn more about interactive tables.';\n",
              "          element.innerHTML = '';\n",
              "          dataTable['output_type'] = 'display_data';\n",
              "          await google.colab.output.renderOutput(dataTable, element);\n",
              "          const docLink = document.createElement('div');\n",
              "          docLink.innerHTML = docLinkHtml;\n",
              "          element.appendChild(docLink);\n",
              "        }\n",
              "      </script>\n",
              "    </div>\n",
              "  </div>\n",
              "  "
            ]
          },
          "metadata": {},
          "execution_count": 58
        }
      ]
    },
    {
      "cell_type": "code",
      "source": [
        "train_comb1 = train.copy()\n",
        "test_comb1 = test.copy()"
      ],
      "metadata": {
        "id": "fxooCWui4Fvy"
      },
      "execution_count": null,
      "outputs": []
    },
    {
      "cell_type": "markdown",
      "source": [
        "### BovineHD (5,6,8) 결합"
      ],
      "metadata": {
        "id": "Nl-d8NiL7JDl"
      }
    },
    {
      "cell_type": "code",
      "source": [
        "train_comb1[\"SNP_05_06_08\"] = (train_comb1['SNP_05'].astype(str)+ \"_\"+ train_comb1['SNP_06'].astype(str)+ \"_\"+ train_comb1['SNP_08'].astype(str))\n",
        "test_comb1[\"SNP_05_06_08\"] = (test_comb1['SNP_05'].astype(str)+ \"_\"+ test_comb1['SNP_06'].astype(str)+ \"_\"+ test_comb1['SNP_08'].astype(str))\n",
        "train_comb1.head()"
      ],
      "metadata": {
        "colab": {
          "base_uri": "https://localhost:8080/",
          "height": 300
        },
        "id": "Sz7120eLz20X",
        "outputId": "e38fbe37-32f0-4482-8954-ea0a90139f06"
      },
      "execution_count": null,
      "outputs": [
        {
          "output_type": "execute_result",
          "data": {
            "text/plain": [
              "          id  father  mother  gender  trait SNP_01 SNP_02 SNP_03 SNP_04  \\\n",
              "0  TRAIN_000       0       0       0      2    G G    A G    A A    G A   \n",
              "1  TRAIN_001       0       0       0      2    A G    A G    C A    A A   \n",
              "2  TRAIN_002       0       0       0      2    G G    G G    A A    G A   \n",
              "3  TRAIN_003       0       0       0      1    A A    G G    A A    G A   \n",
              "4  TRAIN_004       0       0       0      2    G G    G G    C C    A A   \n",
              "\n",
              "  SNP_05  ... SNP_08 SNP_09 SNP_10 SNP_11 SNP_12 SNP_13 SNP_14 SNP_15 class  \\\n",
              "0    C A  ...    G G    A A    G G    A G    A A    A A    A A    A A     B   \n",
              "1    A A  ...    G A    A A    A G    A A    G A    G G    A A    A A     C   \n",
              "2    C C  ...    G A    G A    A G    A A    A A    A A    A A    A A     B   \n",
              "3    A A  ...    A A    G G    A G    G G    G G    G G    A A    G G     A   \n",
              "4    C C  ...    A A    A A    G G    A A    A A    A G    A A    G A     C   \n",
              "\n",
              "  SNP_05_06_08  \n",
              "0  C A_A A_G G  \n",
              "1  A A_A G_G A  \n",
              "2  C C_G G_G A  \n",
              "3  A A_G G_A A  \n",
              "4  C C_A A_A A  \n",
              "\n",
              "[5 rows x 22 columns]"
            ],
            "text/html": [
              "\n",
              "  <div id=\"df-5e59667f-a6e0-421d-9132-fe5e26f5387f\">\n",
              "    <div class=\"colab-df-container\">\n",
              "      <div>\n",
              "<style scoped>\n",
              "    .dataframe tbody tr th:only-of-type {\n",
              "        vertical-align: middle;\n",
              "    }\n",
              "\n",
              "    .dataframe tbody tr th {\n",
              "        vertical-align: top;\n",
              "    }\n",
              "\n",
              "    .dataframe thead th {\n",
              "        text-align: right;\n",
              "    }\n",
              "</style>\n",
              "<table border=\"1\" class=\"dataframe\">\n",
              "  <thead>\n",
              "    <tr style=\"text-align: right;\">\n",
              "      <th></th>\n",
              "      <th>id</th>\n",
              "      <th>father</th>\n",
              "      <th>mother</th>\n",
              "      <th>gender</th>\n",
              "      <th>trait</th>\n",
              "      <th>SNP_01</th>\n",
              "      <th>SNP_02</th>\n",
              "      <th>SNP_03</th>\n",
              "      <th>SNP_04</th>\n",
              "      <th>SNP_05</th>\n",
              "      <th>...</th>\n",
              "      <th>SNP_08</th>\n",
              "      <th>SNP_09</th>\n",
              "      <th>SNP_10</th>\n",
              "      <th>SNP_11</th>\n",
              "      <th>SNP_12</th>\n",
              "      <th>SNP_13</th>\n",
              "      <th>SNP_14</th>\n",
              "      <th>SNP_15</th>\n",
              "      <th>class</th>\n",
              "      <th>SNP_05_06_08</th>\n",
              "    </tr>\n",
              "  </thead>\n",
              "  <tbody>\n",
              "    <tr>\n",
              "      <th>0</th>\n",
              "      <td>TRAIN_000</td>\n",
              "      <td>0</td>\n",
              "      <td>0</td>\n",
              "      <td>0</td>\n",
              "      <td>2</td>\n",
              "      <td>G G</td>\n",
              "      <td>A G</td>\n",
              "      <td>A A</td>\n",
              "      <td>G A</td>\n",
              "      <td>C A</td>\n",
              "      <td>...</td>\n",
              "      <td>G G</td>\n",
              "      <td>A A</td>\n",
              "      <td>G G</td>\n",
              "      <td>A G</td>\n",
              "      <td>A A</td>\n",
              "      <td>A A</td>\n",
              "      <td>A A</td>\n",
              "      <td>A A</td>\n",
              "      <td>B</td>\n",
              "      <td>C A_A A_G G</td>\n",
              "    </tr>\n",
              "    <tr>\n",
              "      <th>1</th>\n",
              "      <td>TRAIN_001</td>\n",
              "      <td>0</td>\n",
              "      <td>0</td>\n",
              "      <td>0</td>\n",
              "      <td>2</td>\n",
              "      <td>A G</td>\n",
              "      <td>A G</td>\n",
              "      <td>C A</td>\n",
              "      <td>A A</td>\n",
              "      <td>A A</td>\n",
              "      <td>...</td>\n",
              "      <td>G A</td>\n",
              "      <td>A A</td>\n",
              "      <td>A G</td>\n",
              "      <td>A A</td>\n",
              "      <td>G A</td>\n",
              "      <td>G G</td>\n",
              "      <td>A A</td>\n",
              "      <td>A A</td>\n",
              "      <td>C</td>\n",
              "      <td>A A_A G_G A</td>\n",
              "    </tr>\n",
              "    <tr>\n",
              "      <th>2</th>\n",
              "      <td>TRAIN_002</td>\n",
              "      <td>0</td>\n",
              "      <td>0</td>\n",
              "      <td>0</td>\n",
              "      <td>2</td>\n",
              "      <td>G G</td>\n",
              "      <td>G G</td>\n",
              "      <td>A A</td>\n",
              "      <td>G A</td>\n",
              "      <td>C C</td>\n",
              "      <td>...</td>\n",
              "      <td>G A</td>\n",
              "      <td>G A</td>\n",
              "      <td>A G</td>\n",
              "      <td>A A</td>\n",
              "      <td>A A</td>\n",
              "      <td>A A</td>\n",
              "      <td>A A</td>\n",
              "      <td>A A</td>\n",
              "      <td>B</td>\n",
              "      <td>C C_G G_G A</td>\n",
              "    </tr>\n",
              "    <tr>\n",
              "      <th>3</th>\n",
              "      <td>TRAIN_003</td>\n",
              "      <td>0</td>\n",
              "      <td>0</td>\n",
              "      <td>0</td>\n",
              "      <td>1</td>\n",
              "      <td>A A</td>\n",
              "      <td>G G</td>\n",
              "      <td>A A</td>\n",
              "      <td>G A</td>\n",
              "      <td>A A</td>\n",
              "      <td>...</td>\n",
              "      <td>A A</td>\n",
              "      <td>G G</td>\n",
              "      <td>A G</td>\n",
              "      <td>G G</td>\n",
              "      <td>G G</td>\n",
              "      <td>G G</td>\n",
              "      <td>A A</td>\n",
              "      <td>G G</td>\n",
              "      <td>A</td>\n",
              "      <td>A A_G G_A A</td>\n",
              "    </tr>\n",
              "    <tr>\n",
              "      <th>4</th>\n",
              "      <td>TRAIN_004</td>\n",
              "      <td>0</td>\n",
              "      <td>0</td>\n",
              "      <td>0</td>\n",
              "      <td>2</td>\n",
              "      <td>G G</td>\n",
              "      <td>G G</td>\n",
              "      <td>C C</td>\n",
              "      <td>A A</td>\n",
              "      <td>C C</td>\n",
              "      <td>...</td>\n",
              "      <td>A A</td>\n",
              "      <td>A A</td>\n",
              "      <td>G G</td>\n",
              "      <td>A A</td>\n",
              "      <td>A A</td>\n",
              "      <td>A G</td>\n",
              "      <td>A A</td>\n",
              "      <td>G A</td>\n",
              "      <td>C</td>\n",
              "      <td>C C_A A_A A</td>\n",
              "    </tr>\n",
              "  </tbody>\n",
              "</table>\n",
              "<p>5 rows × 22 columns</p>\n",
              "</div>\n",
              "      <button class=\"colab-df-convert\" onclick=\"convertToInteractive('df-5e59667f-a6e0-421d-9132-fe5e26f5387f')\"\n",
              "              title=\"Convert this dataframe to an interactive table.\"\n",
              "              style=\"display:none;\">\n",
              "        \n",
              "  <svg xmlns=\"http://www.w3.org/2000/svg\" height=\"24px\"viewBox=\"0 0 24 24\"\n",
              "       width=\"24px\">\n",
              "    <path d=\"M0 0h24v24H0V0z\" fill=\"none\"/>\n",
              "    <path d=\"M18.56 5.44l.94 2.06.94-2.06 2.06-.94-2.06-.94-.94-2.06-.94 2.06-2.06.94zm-11 1L8.5 8.5l.94-2.06 2.06-.94-2.06-.94L8.5 2.5l-.94 2.06-2.06.94zm10 10l.94 2.06.94-2.06 2.06-.94-2.06-.94-.94-2.06-.94 2.06-2.06.94z\"/><path d=\"M17.41 7.96l-1.37-1.37c-.4-.4-.92-.59-1.43-.59-.52 0-1.04.2-1.43.59L10.3 9.45l-7.72 7.72c-.78.78-.78 2.05 0 2.83L4 21.41c.39.39.9.59 1.41.59.51 0 1.02-.2 1.41-.59l7.78-7.78 2.81-2.81c.8-.78.8-2.07 0-2.86zM5.41 20L4 18.59l7.72-7.72 1.47 1.35L5.41 20z\"/>\n",
              "  </svg>\n",
              "      </button>\n",
              "      \n",
              "  <style>\n",
              "    .colab-df-container {\n",
              "      display:flex;\n",
              "      flex-wrap:wrap;\n",
              "      gap: 12px;\n",
              "    }\n",
              "\n",
              "    .colab-df-convert {\n",
              "      background-color: #E8F0FE;\n",
              "      border: none;\n",
              "      border-radius: 50%;\n",
              "      cursor: pointer;\n",
              "      display: none;\n",
              "      fill: #1967D2;\n",
              "      height: 32px;\n",
              "      padding: 0 0 0 0;\n",
              "      width: 32px;\n",
              "    }\n",
              "\n",
              "    .colab-df-convert:hover {\n",
              "      background-color: #E2EBFA;\n",
              "      box-shadow: 0px 1px 2px rgba(60, 64, 67, 0.3), 0px 1px 3px 1px rgba(60, 64, 67, 0.15);\n",
              "      fill: #174EA6;\n",
              "    }\n",
              "\n",
              "    [theme=dark] .colab-df-convert {\n",
              "      background-color: #3B4455;\n",
              "      fill: #D2E3FC;\n",
              "    }\n",
              "\n",
              "    [theme=dark] .colab-df-convert:hover {\n",
              "      background-color: #434B5C;\n",
              "      box-shadow: 0px 1px 3px 1px rgba(0, 0, 0, 0.15);\n",
              "      filter: drop-shadow(0px 1px 2px rgba(0, 0, 0, 0.3));\n",
              "      fill: #FFFFFF;\n",
              "    }\n",
              "  </style>\n",
              "\n",
              "      <script>\n",
              "        const buttonEl =\n",
              "          document.querySelector('#df-5e59667f-a6e0-421d-9132-fe5e26f5387f button.colab-df-convert');\n",
              "        buttonEl.style.display =\n",
              "          google.colab.kernel.accessAllowed ? 'block' : 'none';\n",
              "\n",
              "        async function convertToInteractive(key) {\n",
              "          const element = document.querySelector('#df-5e59667f-a6e0-421d-9132-fe5e26f5387f');\n",
              "          const dataTable =\n",
              "            await google.colab.kernel.invokeFunction('convertToInteractive',\n",
              "                                                     [key], {});\n",
              "          if (!dataTable) return;\n",
              "\n",
              "          const docLinkHtml = 'Like what you see? Visit the ' +\n",
              "            '<a target=\"_blank\" href=https://colab.research.google.com/notebooks/data_table.ipynb>data table notebook</a>'\n",
              "            + ' to learn more about interactive tables.';\n",
              "          element.innerHTML = '';\n",
              "          dataTable['output_type'] = 'display_data';\n",
              "          await google.colab.output.renderOutput(dataTable, element);\n",
              "          const docLink = document.createElement('div');\n",
              "          docLink.innerHTML = docLinkHtml;\n",
              "          element.appendChild(docLink);\n",
              "        }\n",
              "      </script>\n",
              "    </div>\n",
              "  </div>\n",
              "  "
            ]
          },
          "metadata": {},
          "execution_count": 26
        }
      ]
    },
    {
      "cell_type": "code",
      "source": [
        "train_comb1 = train_comb1.drop(['SNP_05','SNP_06','SNP_08'], axis=1)\n",
        "train_comb1[\"SNP_05_06_08\"].astype(object)\n",
        "test_comb1= test_comb1.drop(['SNP_05','SNP_06','SNP_08'], axis=1)\n",
        "test_comb1[\"SNP_05_06_08\"].astype(object)\n",
        "train_comb1.head()"
      ],
      "metadata": {
        "id": "TEfvffC_2wYA",
        "colab": {
          "base_uri": "https://localhost:8080/",
          "height": 270
        },
        "outputId": "19899840-2257-4e32-f896-880a2863ac70"
      },
      "execution_count": null,
      "outputs": [
        {
          "output_type": "execute_result",
          "data": {
            "text/plain": [
              "          id  father  mother  gender  trait SNP_01 SNP_02 SNP_03 SNP_04  \\\n",
              "0  TRAIN_000       0       0       0      2    G G    A G    A A    G A   \n",
              "1  TRAIN_001       0       0       0      2    A G    A G    C A    A A   \n",
              "2  TRAIN_002       0       0       0      2    G G    G G    A A    G A   \n",
              "3  TRAIN_003       0       0       0      1    A A    G G    A A    G A   \n",
              "4  TRAIN_004       0       0       0      2    G G    G G    C C    A A   \n",
              "\n",
              "  SNP_07 SNP_09 SNP_10 SNP_11 SNP_12 SNP_13 SNP_14 SNP_15 class SNP_05_06_08  \n",
              "0    A A    A A    G G    A G    A A    A A    A A    A A     B  C A_A A_G G  \n",
              "1    A A    A A    A G    A A    G A    G G    A A    A A     C  A A_A G_G A  \n",
              "2    A A    G A    A G    A A    A A    A A    A A    A A     B  C C_G G_G A  \n",
              "3    G G    G G    A G    G G    G G    G G    A A    G G     A  A A_G G_A A  \n",
              "4    A A    A A    G G    A A    A A    A G    A A    G A     C  C C_A A_A A  "
            ],
            "text/html": [
              "\n",
              "  <div id=\"df-07e2a0da-1679-4df7-9abe-f71de0c4838f\">\n",
              "    <div class=\"colab-df-container\">\n",
              "      <div>\n",
              "<style scoped>\n",
              "    .dataframe tbody tr th:only-of-type {\n",
              "        vertical-align: middle;\n",
              "    }\n",
              "\n",
              "    .dataframe tbody tr th {\n",
              "        vertical-align: top;\n",
              "    }\n",
              "\n",
              "    .dataframe thead th {\n",
              "        text-align: right;\n",
              "    }\n",
              "</style>\n",
              "<table border=\"1\" class=\"dataframe\">\n",
              "  <thead>\n",
              "    <tr style=\"text-align: right;\">\n",
              "      <th></th>\n",
              "      <th>id</th>\n",
              "      <th>father</th>\n",
              "      <th>mother</th>\n",
              "      <th>gender</th>\n",
              "      <th>trait</th>\n",
              "      <th>SNP_01</th>\n",
              "      <th>SNP_02</th>\n",
              "      <th>SNP_03</th>\n",
              "      <th>SNP_04</th>\n",
              "      <th>SNP_07</th>\n",
              "      <th>SNP_09</th>\n",
              "      <th>SNP_10</th>\n",
              "      <th>SNP_11</th>\n",
              "      <th>SNP_12</th>\n",
              "      <th>SNP_13</th>\n",
              "      <th>SNP_14</th>\n",
              "      <th>SNP_15</th>\n",
              "      <th>class</th>\n",
              "      <th>SNP_05_06_08</th>\n",
              "    </tr>\n",
              "  </thead>\n",
              "  <tbody>\n",
              "    <tr>\n",
              "      <th>0</th>\n",
              "      <td>TRAIN_000</td>\n",
              "      <td>0</td>\n",
              "      <td>0</td>\n",
              "      <td>0</td>\n",
              "      <td>2</td>\n",
              "      <td>G G</td>\n",
              "      <td>A G</td>\n",
              "      <td>A A</td>\n",
              "      <td>G A</td>\n",
              "      <td>A A</td>\n",
              "      <td>A A</td>\n",
              "      <td>G G</td>\n",
              "      <td>A G</td>\n",
              "      <td>A A</td>\n",
              "      <td>A A</td>\n",
              "      <td>A A</td>\n",
              "      <td>A A</td>\n",
              "      <td>B</td>\n",
              "      <td>C A_A A_G G</td>\n",
              "    </tr>\n",
              "    <tr>\n",
              "      <th>1</th>\n",
              "      <td>TRAIN_001</td>\n",
              "      <td>0</td>\n",
              "      <td>0</td>\n",
              "      <td>0</td>\n",
              "      <td>2</td>\n",
              "      <td>A G</td>\n",
              "      <td>A G</td>\n",
              "      <td>C A</td>\n",
              "      <td>A A</td>\n",
              "      <td>A A</td>\n",
              "      <td>A A</td>\n",
              "      <td>A G</td>\n",
              "      <td>A A</td>\n",
              "      <td>G A</td>\n",
              "      <td>G G</td>\n",
              "      <td>A A</td>\n",
              "      <td>A A</td>\n",
              "      <td>C</td>\n",
              "      <td>A A_A G_G A</td>\n",
              "    </tr>\n",
              "    <tr>\n",
              "      <th>2</th>\n",
              "      <td>TRAIN_002</td>\n",
              "      <td>0</td>\n",
              "      <td>0</td>\n",
              "      <td>0</td>\n",
              "      <td>2</td>\n",
              "      <td>G G</td>\n",
              "      <td>G G</td>\n",
              "      <td>A A</td>\n",
              "      <td>G A</td>\n",
              "      <td>A A</td>\n",
              "      <td>G A</td>\n",
              "      <td>A G</td>\n",
              "      <td>A A</td>\n",
              "      <td>A A</td>\n",
              "      <td>A A</td>\n",
              "      <td>A A</td>\n",
              "      <td>A A</td>\n",
              "      <td>B</td>\n",
              "      <td>C C_G G_G A</td>\n",
              "    </tr>\n",
              "    <tr>\n",
              "      <th>3</th>\n",
              "      <td>TRAIN_003</td>\n",
              "      <td>0</td>\n",
              "      <td>0</td>\n",
              "      <td>0</td>\n",
              "      <td>1</td>\n",
              "      <td>A A</td>\n",
              "      <td>G G</td>\n",
              "      <td>A A</td>\n",
              "      <td>G A</td>\n",
              "      <td>G G</td>\n",
              "      <td>G G</td>\n",
              "      <td>A G</td>\n",
              "      <td>G G</td>\n",
              "      <td>G G</td>\n",
              "      <td>G G</td>\n",
              "      <td>A A</td>\n",
              "      <td>G G</td>\n",
              "      <td>A</td>\n",
              "      <td>A A_G G_A A</td>\n",
              "    </tr>\n",
              "    <tr>\n",
              "      <th>4</th>\n",
              "      <td>TRAIN_004</td>\n",
              "      <td>0</td>\n",
              "      <td>0</td>\n",
              "      <td>0</td>\n",
              "      <td>2</td>\n",
              "      <td>G G</td>\n",
              "      <td>G G</td>\n",
              "      <td>C C</td>\n",
              "      <td>A A</td>\n",
              "      <td>A A</td>\n",
              "      <td>A A</td>\n",
              "      <td>G G</td>\n",
              "      <td>A A</td>\n",
              "      <td>A A</td>\n",
              "      <td>A G</td>\n",
              "      <td>A A</td>\n",
              "      <td>G A</td>\n",
              "      <td>C</td>\n",
              "      <td>C C_A A_A A</td>\n",
              "    </tr>\n",
              "  </tbody>\n",
              "</table>\n",
              "</div>\n",
              "      <button class=\"colab-df-convert\" onclick=\"convertToInteractive('df-07e2a0da-1679-4df7-9abe-f71de0c4838f')\"\n",
              "              title=\"Convert this dataframe to an interactive table.\"\n",
              "              style=\"display:none;\">\n",
              "        \n",
              "  <svg xmlns=\"http://www.w3.org/2000/svg\" height=\"24px\"viewBox=\"0 0 24 24\"\n",
              "       width=\"24px\">\n",
              "    <path d=\"M0 0h24v24H0V0z\" fill=\"none\"/>\n",
              "    <path d=\"M18.56 5.44l.94 2.06.94-2.06 2.06-.94-2.06-.94-.94-2.06-.94 2.06-2.06.94zm-11 1L8.5 8.5l.94-2.06 2.06-.94-2.06-.94L8.5 2.5l-.94 2.06-2.06.94zm10 10l.94 2.06.94-2.06 2.06-.94-2.06-.94-.94-2.06-.94 2.06-2.06.94z\"/><path d=\"M17.41 7.96l-1.37-1.37c-.4-.4-.92-.59-1.43-.59-.52 0-1.04.2-1.43.59L10.3 9.45l-7.72 7.72c-.78.78-.78 2.05 0 2.83L4 21.41c.39.39.9.59 1.41.59.51 0 1.02-.2 1.41-.59l7.78-7.78 2.81-2.81c.8-.78.8-2.07 0-2.86zM5.41 20L4 18.59l7.72-7.72 1.47 1.35L5.41 20z\"/>\n",
              "  </svg>\n",
              "      </button>\n",
              "      \n",
              "  <style>\n",
              "    .colab-df-container {\n",
              "      display:flex;\n",
              "      flex-wrap:wrap;\n",
              "      gap: 12px;\n",
              "    }\n",
              "\n",
              "    .colab-df-convert {\n",
              "      background-color: #E8F0FE;\n",
              "      border: none;\n",
              "      border-radius: 50%;\n",
              "      cursor: pointer;\n",
              "      display: none;\n",
              "      fill: #1967D2;\n",
              "      height: 32px;\n",
              "      padding: 0 0 0 0;\n",
              "      width: 32px;\n",
              "    }\n",
              "\n",
              "    .colab-df-convert:hover {\n",
              "      background-color: #E2EBFA;\n",
              "      box-shadow: 0px 1px 2px rgba(60, 64, 67, 0.3), 0px 1px 3px 1px rgba(60, 64, 67, 0.15);\n",
              "      fill: #174EA6;\n",
              "    }\n",
              "\n",
              "    [theme=dark] .colab-df-convert {\n",
              "      background-color: #3B4455;\n",
              "      fill: #D2E3FC;\n",
              "    }\n",
              "\n",
              "    [theme=dark] .colab-df-convert:hover {\n",
              "      background-color: #434B5C;\n",
              "      box-shadow: 0px 1px 3px 1px rgba(0, 0, 0, 0.15);\n",
              "      filter: drop-shadow(0px 1px 2px rgba(0, 0, 0, 0.3));\n",
              "      fill: #FFFFFF;\n",
              "    }\n",
              "  </style>\n",
              "\n",
              "      <script>\n",
              "        const buttonEl =\n",
              "          document.querySelector('#df-07e2a0da-1679-4df7-9abe-f71de0c4838f button.colab-df-convert');\n",
              "        buttonEl.style.display =\n",
              "          google.colab.kernel.accessAllowed ? 'block' : 'none';\n",
              "\n",
              "        async function convertToInteractive(key) {\n",
              "          const element = document.querySelector('#df-07e2a0da-1679-4df7-9abe-f71de0c4838f');\n",
              "          const dataTable =\n",
              "            await google.colab.kernel.invokeFunction('convertToInteractive',\n",
              "                                                     [key], {});\n",
              "          if (!dataTable) return;\n",
              "\n",
              "          const docLinkHtml = 'Like what you see? Visit the ' +\n",
              "            '<a target=\"_blank\" href=https://colab.research.google.com/notebooks/data_table.ipynb>data table notebook</a>'\n",
              "            + ' to learn more about interactive tables.';\n",
              "          element.innerHTML = '';\n",
              "          dataTable['output_type'] = 'display_data';\n",
              "          await google.colab.output.renderOutput(dataTable, element);\n",
              "          const docLink = document.createElement('div');\n",
              "          docLink.innerHTML = docLinkHtml;\n",
              "          element.appendChild(docLink);\n",
              "        }\n",
              "      </script>\n",
              "    </div>\n",
              "  </div>\n",
              "  "
            ]
          },
          "metadata": {},
          "execution_count": 27
        }
      ]
    },
    {
      "cell_type": "code",
      "source": [
        "train_x_comb1, train_y_comb1 = get_x_y(train_comb1)\n",
        "test_x_comb1 = get_x_y(test_comb1)"
      ],
      "metadata": {
        "id": "KwUK3YhX3_2t"
      },
      "execution_count": null,
      "outputs": []
    },
    {
      "cell_type": "markdown",
      "source": [
        "### ARS-BFGL-NGS (3,4,9,11) 결합"
      ],
      "metadata": {
        "id": "Xj7D_5LoP5jr"
      }
    },
    {
      "cell_type": "code",
      "source": [
        "train_comb7 = train.copy()\n",
        "test_comb7= test.copy()\n",
        "\n",
        "train_comb7[\"SNP_03_04_09_11\"] = (train_comb7['SNP_03'].astype(str)+ \"_\"+ train_comb7['SNP_04'].astype(str)+ \"_\"+ train_comb7['SNP_09'].astype(str)+ \"_\"+ train_comb7['SNP_11'].astype(str))\n",
        "test_comb7[\"SNP_03_04_09_11\"] = (test_comb7['SNP_03'].astype(str)+ \"_\"+ test_comb7['SNP_04'].astype(str)+ \"_\"+ test_comb7['SNP_09'].astype(str)+ \"_\"+ test_comb7['SNP_11'].astype(str))\n",
        "\n",
        "train_comb7 = train_comb7.drop(['SNP_03','SNP_04','SNP_09','SNP_11'], axis=1)\n",
        "train_comb7[\"SNP_03_04_09_11\"].astype(object)\n",
        "test_comb7= test_comb7.drop(['SNP_03','SNP_04','SNP_09','SNP_11'], axis=1)\n",
        "test_comb7[\"SNP_03_04_09_11\"].astype(object)\n",
        "\n",
        "train_x_comb7, train_y_comb7= get_x_y(train_comb7)\n",
        "test_x_comb7 = get_x_y(test_comb7)"
      ],
      "metadata": {
        "id": "_HOCoZYfP9xn"
      },
      "execution_count": null,
      "outputs": []
    },
    {
      "cell_type": "markdown",
      "source": [
        "Hapmap (7,12,14) 결합"
      ],
      "metadata": {
        "id": "nRjShoalWCUA"
      }
    },
    {
      "cell_type": "code",
      "source": [
        "train_comb8 = train.copy()\n",
        "test_comb8 = test.copy()\n",
        "\n",
        "train_comb8[\"SNP_07_12_14\"] = (train_comb8['SNP_07'].astype(str)+ \"_\"+ train_comb8['SNP_12'].astype(str)+ \"_\"+ train_comb8['SNP_14'].astype(str))\n",
        "test_comb8[\"SNP_07_12_14\"] = (test_comb8['SNP_07'].astype(str)+ \"_\"+ test_comb8['SNP_12'].astype(str)+ \"_\"+ test_comb8['SNP_14'].astype(str))\n",
        "\n",
        "train_comb8 = train_comb8.drop(['SNP_07','SNP_12','SNP_14'], axis=1)\n",
        "train_comb8[\"SNP_07_12_14\"].astype(object)\n",
        "test_comb8= test_comb8.drop(['SNP_07','SNP_12','SNP_14'], axis=1)\n",
        "test_comb8[\"SNP_07_12_14\"].astype(object)\n",
        "\n",
        "train_x_comb8, train_y_comb8 = get_x_y(train_comb8)\n",
        "test_x_comb8 = get_x_y(test_comb8)"
      ],
      "metadata": {
        "id": "1IrT9NHYWDwa"
      },
      "execution_count": null,
      "outputs": []
    },
    {
      "cell_type": "markdown",
      "source": [
        "(비슷한 변수들 한번에 결합)\n",
        "* BovineHD (5,6,8)\n",
        "* ARS-BFGL-NGS (3,4,9,11)\n",
        "* Hapmap (7,12,14)"
      ],
      "metadata": {
        "id": "yx9ior_z9qgZ"
      }
    },
    {
      "cell_type": "code",
      "source": [
        "train_comb5 = train.copy()\n",
        "test_comb5 = test.copy()\n",
        "train_comb5.drop(['father', 'mother', 'gender'], axis=1, inplace=True) #의미없는 변수 드롭\n",
        "test_comb5.drop(['father', 'mother', 'gender'], axis=1, inplace=True)"
      ],
      "metadata": {
        "id": "JbfPqEK494VD"
      },
      "execution_count": null,
      "outputs": []
    },
    {
      "cell_type": "code",
      "source": [
        "train_comb5[\"SNP_5_6_8\"] = (train['SNP_05'].astype(str)+ \"_\"+ train['SNP_06'].astype(str)+ \"_\"+ train['SNP_08'].astype(str))\n",
        "train_comb5.drop(['SNP_05', 'SNP_06', 'SNP_08'], axis=1, inplace=True)\n",
        "train_comb5[\"SNP_5_6_8\"].astype(object) #문자열을 범주형변수로 변환\n",
        "\n",
        "train_comb5[\"SNP_3_4_9_11\"] = (train['SNP_03'].astype(str)+ \"_\"+ train['SNP_04'].astype(str)+ \"_\"+ train['SNP_09'].astype(str)+ \"_\"+ train['SNP_11'].astype(str))\n",
        "train_comb5.drop(['SNP_03', 'SNP_04', 'SNP_09', 'SNP_11'], axis=1, inplace=True)\n",
        "train_comb5[\"SNP_3_4_9_11\"].astype(object)\n",
        "\n",
        "train_comb5[\"SNP_7_12_14\"] = (train['SNP_07'].astype(str)+ \"_\"+ train['SNP_12'].astype(str)+ \"_\"+ train['SNP_14'].astype(str))\n",
        "train_comb5.drop(['SNP_07', 'SNP_12', 'SNP_14'], axis=1, inplace=True)\n",
        "train_comb5[\"SNP_7_12_14\"].astype(object)\n",
        "\n",
        "test_comb5[\"SNP_5_6_8\"] = (train['SNP_05'].astype(str)+ \"_\"+ train['SNP_06'].astype(str)+ \"_\"+ train['SNP_08'].astype(str))\n",
        "test_comb5.drop(['SNP_05', 'SNP_06', 'SNP_08'], axis=1, inplace=True)\n",
        "test_comb5[\"SNP_5_6_8\"].astype(object) #문자열을 범주형변수로 변환\n",
        "\n",
        "test_comb5[\"SNP_3_4_9_11\"] = (train['SNP_03'].astype(str)+ \"_\"+ train['SNP_04'].astype(str)+ \"_\"+ train['SNP_09'].astype(str)+ \"_\"+ train['SNP_11'].astype(str))\n",
        "test_comb5.drop(['SNP_03', 'SNP_04', 'SNP_09', 'SNP_11'], axis=1, inplace=True)\n",
        "test_comb5[\"SNP_3_4_9_11\"].astype(object)\n",
        "\n",
        "test_comb5[\"SNP_7_12_14\"] = (train['SNP_07'].astype(str)+ \"_\"+ train['SNP_12'].astype(str)+ \"_\"+ train['SNP_14'].astype(str))\n",
        "test_comb5.drop(['SNP_07', 'SNP_12', 'SNP_14'], axis=1, inplace=True)\n",
        "test_comb5[\"SNP_7_12_14\"].astype(object)\n",
        "\n",
        "train_comb5.head()"
      ],
      "metadata": {
        "colab": {
          "base_uri": "https://localhost:8080/",
          "height": 206
        },
        "id": "UGfaWBsL-Tkt",
        "outputId": "b552403d-4fa0-4fda-a7b2-7d01533b451b"
      },
      "execution_count": null,
      "outputs": [
        {
          "output_type": "execute_result",
          "data": {
            "text/plain": [
              "          id  trait SNP_01 SNP_02 SNP_10 SNP_13 SNP_15 class    SNP_5_6_8  \\\n",
              "0  TRAIN_000      2    G G    A G    G G    A A    A A     B  C A_A A_G G   \n",
              "1  TRAIN_001      2    A G    A G    A G    G G    A A     C  A A_A G_G A   \n",
              "2  TRAIN_002      2    G G    G G    A G    A A    A A     B  C C_G G_G A   \n",
              "3  TRAIN_003      1    A A    G G    A G    G G    G G     A  A A_G G_A A   \n",
              "4  TRAIN_004      2    G G    G G    G G    A G    G A     C  C C_A A_A A   \n",
              "\n",
              "      SNP_3_4_9_11  SNP_7_12_14  \n",
              "0  A A_G A_A A_A G  A A_A A_A A  \n",
              "1  C A_A A_A A_A A  A A_G A_A A  \n",
              "2  A A_G A_G A_A A  A A_A A_A A  \n",
              "3  A A_G A_G G_G G  G G_G G_A A  \n",
              "4  C C_A A_A A_A A  A A_A A_A A  "
            ],
            "text/html": [
              "\n",
              "  <div id=\"df-f535cfec-a0c9-4352-9942-d007623621f6\">\n",
              "    <div class=\"colab-df-container\">\n",
              "      <div>\n",
              "<style scoped>\n",
              "    .dataframe tbody tr th:only-of-type {\n",
              "        vertical-align: middle;\n",
              "    }\n",
              "\n",
              "    .dataframe tbody tr th {\n",
              "        vertical-align: top;\n",
              "    }\n",
              "\n",
              "    .dataframe thead th {\n",
              "        text-align: right;\n",
              "    }\n",
              "</style>\n",
              "<table border=\"1\" class=\"dataframe\">\n",
              "  <thead>\n",
              "    <tr style=\"text-align: right;\">\n",
              "      <th></th>\n",
              "      <th>id</th>\n",
              "      <th>trait</th>\n",
              "      <th>SNP_01</th>\n",
              "      <th>SNP_02</th>\n",
              "      <th>SNP_10</th>\n",
              "      <th>SNP_13</th>\n",
              "      <th>SNP_15</th>\n",
              "      <th>class</th>\n",
              "      <th>SNP_5_6_8</th>\n",
              "      <th>SNP_3_4_9_11</th>\n",
              "      <th>SNP_7_12_14</th>\n",
              "    </tr>\n",
              "  </thead>\n",
              "  <tbody>\n",
              "    <tr>\n",
              "      <th>0</th>\n",
              "      <td>TRAIN_000</td>\n",
              "      <td>2</td>\n",
              "      <td>G G</td>\n",
              "      <td>A G</td>\n",
              "      <td>G G</td>\n",
              "      <td>A A</td>\n",
              "      <td>A A</td>\n",
              "      <td>B</td>\n",
              "      <td>C A_A A_G G</td>\n",
              "      <td>A A_G A_A A_A G</td>\n",
              "      <td>A A_A A_A A</td>\n",
              "    </tr>\n",
              "    <tr>\n",
              "      <th>1</th>\n",
              "      <td>TRAIN_001</td>\n",
              "      <td>2</td>\n",
              "      <td>A G</td>\n",
              "      <td>A G</td>\n",
              "      <td>A G</td>\n",
              "      <td>G G</td>\n",
              "      <td>A A</td>\n",
              "      <td>C</td>\n",
              "      <td>A A_A G_G A</td>\n",
              "      <td>C A_A A_A A_A A</td>\n",
              "      <td>A A_G A_A A</td>\n",
              "    </tr>\n",
              "    <tr>\n",
              "      <th>2</th>\n",
              "      <td>TRAIN_002</td>\n",
              "      <td>2</td>\n",
              "      <td>G G</td>\n",
              "      <td>G G</td>\n",
              "      <td>A G</td>\n",
              "      <td>A A</td>\n",
              "      <td>A A</td>\n",
              "      <td>B</td>\n",
              "      <td>C C_G G_G A</td>\n",
              "      <td>A A_G A_G A_A A</td>\n",
              "      <td>A A_A A_A A</td>\n",
              "    </tr>\n",
              "    <tr>\n",
              "      <th>3</th>\n",
              "      <td>TRAIN_003</td>\n",
              "      <td>1</td>\n",
              "      <td>A A</td>\n",
              "      <td>G G</td>\n",
              "      <td>A G</td>\n",
              "      <td>G G</td>\n",
              "      <td>G G</td>\n",
              "      <td>A</td>\n",
              "      <td>A A_G G_A A</td>\n",
              "      <td>A A_G A_G G_G G</td>\n",
              "      <td>G G_G G_A A</td>\n",
              "    </tr>\n",
              "    <tr>\n",
              "      <th>4</th>\n",
              "      <td>TRAIN_004</td>\n",
              "      <td>2</td>\n",
              "      <td>G G</td>\n",
              "      <td>G G</td>\n",
              "      <td>G G</td>\n",
              "      <td>A G</td>\n",
              "      <td>G A</td>\n",
              "      <td>C</td>\n",
              "      <td>C C_A A_A A</td>\n",
              "      <td>C C_A A_A A_A A</td>\n",
              "      <td>A A_A A_A A</td>\n",
              "    </tr>\n",
              "  </tbody>\n",
              "</table>\n",
              "</div>\n",
              "      <button class=\"colab-df-convert\" onclick=\"convertToInteractive('df-f535cfec-a0c9-4352-9942-d007623621f6')\"\n",
              "              title=\"Convert this dataframe to an interactive table.\"\n",
              "              style=\"display:none;\">\n",
              "        \n",
              "  <svg xmlns=\"http://www.w3.org/2000/svg\" height=\"24px\"viewBox=\"0 0 24 24\"\n",
              "       width=\"24px\">\n",
              "    <path d=\"M0 0h24v24H0V0z\" fill=\"none\"/>\n",
              "    <path d=\"M18.56 5.44l.94 2.06.94-2.06 2.06-.94-2.06-.94-.94-2.06-.94 2.06-2.06.94zm-11 1L8.5 8.5l.94-2.06 2.06-.94-2.06-.94L8.5 2.5l-.94 2.06-2.06.94zm10 10l.94 2.06.94-2.06 2.06-.94-2.06-.94-.94-2.06-.94 2.06-2.06.94z\"/><path d=\"M17.41 7.96l-1.37-1.37c-.4-.4-.92-.59-1.43-.59-.52 0-1.04.2-1.43.59L10.3 9.45l-7.72 7.72c-.78.78-.78 2.05 0 2.83L4 21.41c.39.39.9.59 1.41.59.51 0 1.02-.2 1.41-.59l7.78-7.78 2.81-2.81c.8-.78.8-2.07 0-2.86zM5.41 20L4 18.59l7.72-7.72 1.47 1.35L5.41 20z\"/>\n",
              "  </svg>\n",
              "      </button>\n",
              "      \n",
              "  <style>\n",
              "    .colab-df-container {\n",
              "      display:flex;\n",
              "      flex-wrap:wrap;\n",
              "      gap: 12px;\n",
              "    }\n",
              "\n",
              "    .colab-df-convert {\n",
              "      background-color: #E8F0FE;\n",
              "      border: none;\n",
              "      border-radius: 50%;\n",
              "      cursor: pointer;\n",
              "      display: none;\n",
              "      fill: #1967D2;\n",
              "      height: 32px;\n",
              "      padding: 0 0 0 0;\n",
              "      width: 32px;\n",
              "    }\n",
              "\n",
              "    .colab-df-convert:hover {\n",
              "      background-color: #E2EBFA;\n",
              "      box-shadow: 0px 1px 2px rgba(60, 64, 67, 0.3), 0px 1px 3px 1px rgba(60, 64, 67, 0.15);\n",
              "      fill: #174EA6;\n",
              "    }\n",
              "\n",
              "    [theme=dark] .colab-df-convert {\n",
              "      background-color: #3B4455;\n",
              "      fill: #D2E3FC;\n",
              "    }\n",
              "\n",
              "    [theme=dark] .colab-df-convert:hover {\n",
              "      background-color: #434B5C;\n",
              "      box-shadow: 0px 1px 3px 1px rgba(0, 0, 0, 0.15);\n",
              "      filter: drop-shadow(0px 1px 2px rgba(0, 0, 0, 0.3));\n",
              "      fill: #FFFFFF;\n",
              "    }\n",
              "  </style>\n",
              "\n",
              "      <script>\n",
              "        const buttonEl =\n",
              "          document.querySelector('#df-f535cfec-a0c9-4352-9942-d007623621f6 button.colab-df-convert');\n",
              "        buttonEl.style.display =\n",
              "          google.colab.kernel.accessAllowed ? 'block' : 'none';\n",
              "\n",
              "        async function convertToInteractive(key) {\n",
              "          const element = document.querySelector('#df-f535cfec-a0c9-4352-9942-d007623621f6');\n",
              "          const dataTable =\n",
              "            await google.colab.kernel.invokeFunction('convertToInteractive',\n",
              "                                                     [key], {});\n",
              "          if (!dataTable) return;\n",
              "\n",
              "          const docLinkHtml = 'Like what you see? Visit the ' +\n",
              "            '<a target=\"_blank\" href=https://colab.research.google.com/notebooks/data_table.ipynb>data table notebook</a>'\n",
              "            + ' to learn more about interactive tables.';\n",
              "          element.innerHTML = '';\n",
              "          dataTable['output_type'] = 'display_data';\n",
              "          await google.colab.output.renderOutput(dataTable, element);\n",
              "          const docLink = document.createElement('div');\n",
              "          docLink.innerHTML = docLinkHtml;\n",
              "          element.appendChild(docLink);\n",
              "        }\n",
              "      </script>\n",
              "    </div>\n",
              "  </div>\n",
              "  "
            ]
          },
          "metadata": {},
          "execution_count": 33
        }
      ]
    },
    {
      "cell_type": "code",
      "source": [
        "train_x_comb5, train_y_comb5 = get_x_y(train_comb5)\n",
        "test_x_comb5 = get_x_y(test_comb5)"
      ],
      "metadata": {
        "id": "EyjchD5WAU2H"
      },
      "execution_count": null,
      "outputs": []
    },
    {
      "cell_type": "markdown",
      "source": [
        "결합 기준 2: EDA 분포 비슷\n",
        "\n",
        "(비슷한 변수들 하나씩 결합)\n",
        "\n",
        "\n",
        "7, 12, 15 결합"
      ],
      "metadata": {
        "id": "5Jzk5qjGsDip"
      }
    },
    {
      "cell_type": "code",
      "source": [
        "train_comb2 = train.copy()\n",
        "test_comb2 = test.copy()\n",
        "\n",
        "train_comb2[\"SNP_07_12_15\"] = (train_comb2['SNP_07'].astype(str)+ \"_\"+ train_comb2['SNP_12'].astype(str)+ \"_\"+ train_comb2['SNP_15'].astype(str))\n",
        "test_comb2[\"SNP_07_12_15\"] = (test_comb2['SNP_07'].astype(str)+ \"_\"+ test_comb2['SNP_12'].astype(str)+ \"_\"+ test_comb2['SNP_15'].astype(str))\n",
        "\n",
        "train_comb2 = train_comb2.drop(['SNP_07','SNP_12','SNP_15'], axis=1)\n",
        "train_comb2[\"SNP_07_12_15\"].astype(object)\n",
        "test_comb2= test_comb2.drop(['SNP_07','SNP_12','SNP_15'], axis=1)\n",
        "test_comb2[\"SNP_07_12_15\"].astype(object)\n",
        "\n",
        "train_x_comb2, train_y_comb2 = get_x_y(train_comb2)\n",
        "test_x_comb2 = get_x_y(test_comb2)"
      ],
      "metadata": {
        "id": "U_VVi0l1sKkP"
      },
      "execution_count": null,
      "outputs": []
    },
    {
      "cell_type": "markdown",
      "source": [
        "4, 6, 11 결합"
      ],
      "metadata": {
        "id": "5WUxDMvIs1JQ"
      }
    },
    {
      "cell_type": "code",
      "source": [
        "train_comb3 = train.copy()\n",
        "test_comb3 = test.copy()\n",
        "\n",
        "train_comb3[\"SNP_04_06_11\"] = (train_comb3['SNP_04'].astype(str)+ \"_\"+ train_comb3['SNP_06'].astype(str)+ \"_\"+ train_comb3['SNP_11'].astype(str))\n",
        "test_comb3[\"SNP_04_06_11\"] = (test_comb3['SNP_04'].astype(str)+ \"_\"+ test_comb3['SNP_06'].astype(str)+ \"_\"+ test_comb3['SNP_11'].astype(str))\n",
        "\n",
        "train_comb3 = train_comb3.drop(['SNP_04','SNP_06','SNP_11'], axis=1)\n",
        "train_comb3[\"SNP_04_06_11\"].astype(object)\n",
        "test_comb3= test_comb3.drop(['SNP_04','SNP_06','SNP_11'], axis=1)\n",
        "test_comb3[\"SNP_04_06_11\"].astype(object)\n",
        "\n",
        "train_x_comb3, train_y_comb3 = get_x_y(train_comb3)\n",
        "test_x_comb3 = get_x_y(test_comb3)"
      ],
      "metadata": {
        "id": "WFOb5RH8s4tQ"
      },
      "execution_count": null,
      "outputs": []
    },
    {
      "cell_type": "markdown",
      "source": [
        "1, 5 결합"
      ],
      "metadata": {
        "id": "e6Jd8SUhtbSt"
      }
    },
    {
      "cell_type": "code",
      "source": [
        "train_comb4 = train.copy()\n",
        "test_comb4 = test.copy()\n",
        "\n",
        "train_comb4[\"SNP_01_05\"] = (train_comb4['SNP_01'].astype(str)+ \"_\"+ train_comb4['SNP_05'].astype(str))\n",
        "test_comb4[\"SNP_01_05\"] = (test_comb4['SNP_01'].astype(str)+ \"_\"+ test_comb4['SNP_05'].astype(str))\n",
        "train_comb4[\"SNP_01_05\"].astype(object)\n",
        "test_comb4[\"SNP_01_05\"].astype(object)"
      ],
      "metadata": {
        "colab": {
          "base_uri": "https://localhost:8080/"
        },
        "id": "apwzrRZ9tW86",
        "outputId": "59665af2-ce83-4d80-b7f1-1e6f0dc94e51"
      },
      "execution_count": null,
      "outputs": [
        {
          "output_type": "execute_result",
          "data": {
            "text/plain": [
              "0      A G_A A\n",
              "1      G G_C C\n",
              "2      G G_C A\n",
              "3      G G_C C\n",
              "4      A A_A A\n",
              "        ...   \n",
              "170    A G_C A\n",
              "171    G G_C A\n",
              "172    G G_C A\n",
              "173    A G_C C\n",
              "174    G G_C A\n",
              "Name: SNP_01_05, Length: 175, dtype: object"
            ]
          },
          "metadata": {},
          "execution_count": 37
        }
      ]
    },
    {
      "cell_type": "code",
      "source": [
        "train_comb4 = train_comb4.drop(['SNP_01','SNP_05'], axis=1)\n",
        "test_comb4 = test_comb4.drop(['SNP_01','SNP_05'], axis=1)\n",
        "     \n",
        "\n",
        "train_x_comb4, train_y_comb4 = get_x_y(train_comb4)\n",
        "test_x_comb4 = get_x_y(test_comb4)"
      ],
      "metadata": {
        "id": "Nn8gI44ztaTt"
      },
      "execution_count": null,
      "outputs": []
    },
    {
      "cell_type": "markdown",
      "source": [
        "(비슷한 변수들 한번에 결합)\n",
        "* (7,12,15)\n",
        "* (4,6,11)\n",
        "* (1,5)"
      ],
      "metadata": {
        "id": "-w0ZvS8IzX9Y"
      }
    },
    {
      "cell_type": "code",
      "source": [
        "train_comb6 = train.copy()\n",
        "test_comb6 = test.copy()\n",
        "train_comb6.drop(['father', 'mother', 'gender'], axis=1, inplace=True) #의미없는 변수 드롭\n",
        "test_comb6.drop(['father', 'mother', 'gender'], axis=1, inplace=True)"
      ],
      "metadata": {
        "id": "5X6BnI_Z_HR3"
      },
      "execution_count": null,
      "outputs": []
    },
    {
      "cell_type": "code",
      "source": [
        "train_comb6[\"SNP_7_12_15\"] = (train['SNP_07'].astype(str)+ \"_\"+ train['SNP_12'].astype(str)+ \"_\"+ train['SNP_15'].astype(str))\n",
        "train_comb6.drop(['SNP_07', 'SNP_12', 'SNP_15'], axis=1, inplace=True)\n",
        "train_comb6[\"SNP_7_12_15\"].astype(object) #문자열을 범주형으로 형변환\n",
        "\n",
        "train_comb6[\"SNP_4_6_11\"] = (train['SNP_04'].astype(str)+ \"_\"+ train['SNP_06'].astype(str)+ \"_\"+ train['SNP_11'].astype(str))\n",
        "train_comb6.drop(['SNP_04', 'SNP_06', 'SNP_11'], axis=1, inplace=True)\n",
        "train_comb6[\"SNP_4_6_11\"].astype(object)\n",
        "\n",
        "train_comb6[\"SNP_1_5\"] = (train['SNP_01'].astype(str)+ \"_\"+ train['SNP_05'].astype(str))\n",
        "train_comb6.drop(['SNP_01', 'SNP_05'], axis=1, inplace=True)\n",
        "train_comb6[\"SNP_1_5\"].astype(object)\n",
        "\n",
        "test_comb6[\"SNP_7_12_15\"] = (test['SNP_07'].astype(str)+ \"_\"+ test['SNP_12'].astype(str)+ \"_\"+ test['SNP_15'].astype(str))\n",
        "test_comb6.drop(['SNP_07', 'SNP_12', 'SNP_15'], axis=1, inplace=True)\n",
        "test_comb6[\"SNP_7_12_15\"].astype(object)\n",
        "\n",
        "test_comb6[\"SNP_4_6_11\"] = (test['SNP_04'].astype(str)+ \"_\"+ test['SNP_06'].astype(str)+ \"_\"+ test['SNP_11'].astype(str))\n",
        "test_comb6.drop(['SNP_04', 'SNP_06', 'SNP_11'], axis=1, inplace=True)\n",
        "test_comb6[\"SNP_4_6_11\"].astype(object)\n",
        "\n",
        "test_comb6[\"SNP_1_5\"] = (test['SNP_01'].astype(str)+ \"_\"+ test['SNP_05'].astype(str))\n",
        "test_comb6.drop(['SNP_01', 'SNP_05'], axis=1, inplace=True)\n",
        "test_comb6[\"SNP_1_5\"].astype(object)\n",
        "\n",
        "train_comb6.head()"
      ],
      "metadata": {
        "colab": {
          "base_uri": "https://localhost:8080/",
          "height": 250
        },
        "id": "QrTxKaqw_PoM",
        "outputId": "31fb05f0-2c18-439c-c255-455c8140b7d9"
      },
      "execution_count": null,
      "outputs": [
        {
          "output_type": "execute_result",
          "data": {
            "text/plain": [
              "          id  trait SNP_02 SNP_03 SNP_08 SNP_09 SNP_10 SNP_13 SNP_14 class  \\\n",
              "0  TRAIN_000      2    A G    A A    G G    A A    G G    A A    A A     B   \n",
              "1  TRAIN_001      2    A G    C A    G A    A A    A G    G G    A A     C   \n",
              "2  TRAIN_002      2    G G    A A    G A    G A    A G    A A    A A     B   \n",
              "3  TRAIN_003      1    G G    A A    A A    G G    A G    G G    A A     A   \n",
              "4  TRAIN_004      2    G G    C C    A A    A A    G G    A G    A A     C   \n",
              "\n",
              "   SNP_7_12_15   SNP_4_6_11  SNP_1_5  \n",
              "0  A A_A A_A A  G A_A A_A G  G G_C A  \n",
              "1  A A_G A_A A  A A_A G_A A  A G_A A  \n",
              "2  A A_A A_A A  G A_G G_A A  G G_C C  \n",
              "3  G G_G G_G G  G A_G G_G G  A A_A A  \n",
              "4  A A_A A_G A  A A_A A_A A  G G_C C  "
            ],
            "text/html": [
              "\n",
              "  <div id=\"df-9920b483-0223-4e07-8531-ff69bd84f2bd\">\n",
              "    <div class=\"colab-df-container\">\n",
              "      <div>\n",
              "<style scoped>\n",
              "    .dataframe tbody tr th:only-of-type {\n",
              "        vertical-align: middle;\n",
              "    }\n",
              "\n",
              "    .dataframe tbody tr th {\n",
              "        vertical-align: top;\n",
              "    }\n",
              "\n",
              "    .dataframe thead th {\n",
              "        text-align: right;\n",
              "    }\n",
              "</style>\n",
              "<table border=\"1\" class=\"dataframe\">\n",
              "  <thead>\n",
              "    <tr style=\"text-align: right;\">\n",
              "      <th></th>\n",
              "      <th>id</th>\n",
              "      <th>trait</th>\n",
              "      <th>SNP_02</th>\n",
              "      <th>SNP_03</th>\n",
              "      <th>SNP_08</th>\n",
              "      <th>SNP_09</th>\n",
              "      <th>SNP_10</th>\n",
              "      <th>SNP_13</th>\n",
              "      <th>SNP_14</th>\n",
              "      <th>class</th>\n",
              "      <th>SNP_7_12_15</th>\n",
              "      <th>SNP_4_6_11</th>\n",
              "      <th>SNP_1_5</th>\n",
              "    </tr>\n",
              "  </thead>\n",
              "  <tbody>\n",
              "    <tr>\n",
              "      <th>0</th>\n",
              "      <td>TRAIN_000</td>\n",
              "      <td>2</td>\n",
              "      <td>A G</td>\n",
              "      <td>A A</td>\n",
              "      <td>G G</td>\n",
              "      <td>A A</td>\n",
              "      <td>G G</td>\n",
              "      <td>A A</td>\n",
              "      <td>A A</td>\n",
              "      <td>B</td>\n",
              "      <td>A A_A A_A A</td>\n",
              "      <td>G A_A A_A G</td>\n",
              "      <td>G G_C A</td>\n",
              "    </tr>\n",
              "    <tr>\n",
              "      <th>1</th>\n",
              "      <td>TRAIN_001</td>\n",
              "      <td>2</td>\n",
              "      <td>A G</td>\n",
              "      <td>C A</td>\n",
              "      <td>G A</td>\n",
              "      <td>A A</td>\n",
              "      <td>A G</td>\n",
              "      <td>G G</td>\n",
              "      <td>A A</td>\n",
              "      <td>C</td>\n",
              "      <td>A A_G A_A A</td>\n",
              "      <td>A A_A G_A A</td>\n",
              "      <td>A G_A A</td>\n",
              "    </tr>\n",
              "    <tr>\n",
              "      <th>2</th>\n",
              "      <td>TRAIN_002</td>\n",
              "      <td>2</td>\n",
              "      <td>G G</td>\n",
              "      <td>A A</td>\n",
              "      <td>G A</td>\n",
              "      <td>G A</td>\n",
              "      <td>A G</td>\n",
              "      <td>A A</td>\n",
              "      <td>A A</td>\n",
              "      <td>B</td>\n",
              "      <td>A A_A A_A A</td>\n",
              "      <td>G A_G G_A A</td>\n",
              "      <td>G G_C C</td>\n",
              "    </tr>\n",
              "    <tr>\n",
              "      <th>3</th>\n",
              "      <td>TRAIN_003</td>\n",
              "      <td>1</td>\n",
              "      <td>G G</td>\n",
              "      <td>A A</td>\n",
              "      <td>A A</td>\n",
              "      <td>G G</td>\n",
              "      <td>A G</td>\n",
              "      <td>G G</td>\n",
              "      <td>A A</td>\n",
              "      <td>A</td>\n",
              "      <td>G G_G G_G G</td>\n",
              "      <td>G A_G G_G G</td>\n",
              "      <td>A A_A A</td>\n",
              "    </tr>\n",
              "    <tr>\n",
              "      <th>4</th>\n",
              "      <td>TRAIN_004</td>\n",
              "      <td>2</td>\n",
              "      <td>G G</td>\n",
              "      <td>C C</td>\n",
              "      <td>A A</td>\n",
              "      <td>A A</td>\n",
              "      <td>G G</td>\n",
              "      <td>A G</td>\n",
              "      <td>A A</td>\n",
              "      <td>C</td>\n",
              "      <td>A A_A A_G A</td>\n",
              "      <td>A A_A A_A A</td>\n",
              "      <td>G G_C C</td>\n",
              "    </tr>\n",
              "  </tbody>\n",
              "</table>\n",
              "</div>\n",
              "      <button class=\"colab-df-convert\" onclick=\"convertToInteractive('df-9920b483-0223-4e07-8531-ff69bd84f2bd')\"\n",
              "              title=\"Convert this dataframe to an interactive table.\"\n",
              "              style=\"display:none;\">\n",
              "        \n",
              "  <svg xmlns=\"http://www.w3.org/2000/svg\" height=\"24px\"viewBox=\"0 0 24 24\"\n",
              "       width=\"24px\">\n",
              "    <path d=\"M0 0h24v24H0V0z\" fill=\"none\"/>\n",
              "    <path d=\"M18.56 5.44l.94 2.06.94-2.06 2.06-.94-2.06-.94-.94-2.06-.94 2.06-2.06.94zm-11 1L8.5 8.5l.94-2.06 2.06-.94-2.06-.94L8.5 2.5l-.94 2.06-2.06.94zm10 10l.94 2.06.94-2.06 2.06-.94-2.06-.94-.94-2.06-.94 2.06-2.06.94z\"/><path d=\"M17.41 7.96l-1.37-1.37c-.4-.4-.92-.59-1.43-.59-.52 0-1.04.2-1.43.59L10.3 9.45l-7.72 7.72c-.78.78-.78 2.05 0 2.83L4 21.41c.39.39.9.59 1.41.59.51 0 1.02-.2 1.41-.59l7.78-7.78 2.81-2.81c.8-.78.8-2.07 0-2.86zM5.41 20L4 18.59l7.72-7.72 1.47 1.35L5.41 20z\"/>\n",
              "  </svg>\n",
              "      </button>\n",
              "      \n",
              "  <style>\n",
              "    .colab-df-container {\n",
              "      display:flex;\n",
              "      flex-wrap:wrap;\n",
              "      gap: 12px;\n",
              "    }\n",
              "\n",
              "    .colab-df-convert {\n",
              "      background-color: #E8F0FE;\n",
              "      border: none;\n",
              "      border-radius: 50%;\n",
              "      cursor: pointer;\n",
              "      display: none;\n",
              "      fill: #1967D2;\n",
              "      height: 32px;\n",
              "      padding: 0 0 0 0;\n",
              "      width: 32px;\n",
              "    }\n",
              "\n",
              "    .colab-df-convert:hover {\n",
              "      background-color: #E2EBFA;\n",
              "      box-shadow: 0px 1px 2px rgba(60, 64, 67, 0.3), 0px 1px 3px 1px rgba(60, 64, 67, 0.15);\n",
              "      fill: #174EA6;\n",
              "    }\n",
              "\n",
              "    [theme=dark] .colab-df-convert {\n",
              "      background-color: #3B4455;\n",
              "      fill: #D2E3FC;\n",
              "    }\n",
              "\n",
              "    [theme=dark] .colab-df-convert:hover {\n",
              "      background-color: #434B5C;\n",
              "      box-shadow: 0px 1px 3px 1px rgba(0, 0, 0, 0.15);\n",
              "      filter: drop-shadow(0px 1px 2px rgba(0, 0, 0, 0.3));\n",
              "      fill: #FFFFFF;\n",
              "    }\n",
              "  </style>\n",
              "\n",
              "      <script>\n",
              "        const buttonEl =\n",
              "          document.querySelector('#df-9920b483-0223-4e07-8531-ff69bd84f2bd button.colab-df-convert');\n",
              "        buttonEl.style.display =\n",
              "          google.colab.kernel.accessAllowed ? 'block' : 'none';\n",
              "\n",
              "        async function convertToInteractive(key) {\n",
              "          const element = document.querySelector('#df-9920b483-0223-4e07-8531-ff69bd84f2bd');\n",
              "          const dataTable =\n",
              "            await google.colab.kernel.invokeFunction('convertToInteractive',\n",
              "                                                     [key], {});\n",
              "          if (!dataTable) return;\n",
              "\n",
              "          const docLinkHtml = 'Like what you see? Visit the ' +\n",
              "            '<a target=\"_blank\" href=https://colab.research.google.com/notebooks/data_table.ipynb>data table notebook</a>'\n",
              "            + ' to learn more about interactive tables.';\n",
              "          element.innerHTML = '';\n",
              "          dataTable['output_type'] = 'display_data';\n",
              "          await google.colab.output.renderOutput(dataTable, element);\n",
              "          const docLink = document.createElement('div');\n",
              "          docLink.innerHTML = docLinkHtml;\n",
              "          element.appendChild(docLink);\n",
              "        }\n",
              "      </script>\n",
              "    </div>\n",
              "  </div>\n",
              "  "
            ]
          },
          "metadata": {},
          "execution_count": 40
        }
      ]
    },
    {
      "cell_type": "code",
      "source": [
        "train_x_comb6, train_y_comb6 = get_x_y(train_comb6)\n",
        "test_x_comb6 = get_x_y(test_comb6)"
      ],
      "metadata": {
        "id": "SELpdyHMMyOc"
      },
      "execution_count": null,
      "outputs": []
    },
    {
      "cell_type": "markdown",
      "source": [
        "###**5-2 Label-Encoding**\n",
        "(이름 비슷, 하나씩) 5, 6, 8 결합"
      ],
      "metadata": {
        "id": "Byv6rVVg4e3i"
      }
    },
    {
      "cell_type": "code",
      "source": [
        "class_le = preprocessing.LabelEncoder()\n",
        "snp_le_train = preprocessing.LabelEncoder()\n",
        "snp_le_test = preprocessing.LabelEncoder()\n",
        "snp_col_comb1 = ['SNP_01','SNP_02','SNP_03','SNP_04','SNP_07','SNP_09','SNP_10','SNP_11','SNP_12','SNP_13','SNP_14','SNP_15','SNP_05_06_08']"
      ],
      "metadata": {
        "id": "vpxDIiiH4e3i"
      },
      "execution_count": null,
      "outputs": []
    },
    {
      "cell_type": "code",
      "source": [
        "snp_data_train1 = []\n",
        "for col in snp_col_comb1:\n",
        "    snp_data_train1 += list(train_x_comb1[col].values)\n",
        "snp_data_test1 = []\n",
        "for col in snp_col_comb1:\n",
        "    snp_data_test1 += list(test_x_comb1[col].values)\n",
        "\n",
        "train_y_comb1 = class_le.fit_transform(train_y_comb1)\n",
        "snp_le_train.fit(snp_data_train1)\n",
        "snp_le_test.fit(snp_data_test1)\n",
        "\n",
        "for col in train_x_comb1.columns:\n",
        "    if col in snp_col_comb1:\n",
        "        train_x_comb1[col] = snp_le_train.transform(train_x_comb1[col])\n",
        "for col in test_x_comb1.columns:\n",
        "    if col in snp_col_comb1:\n",
        "        test_x_comb1[col] = snp_le_test.transform(test_x_comb1[col])"
      ],
      "metadata": {
        "id": "ArywHBJv788G"
      },
      "execution_count": null,
      "outputs": []
    },
    {
      "cell_type": "code",
      "source": [
        "#train, test dataset 분리\n",
        "from sklearn.model_selection import train_test_split\n",
        "X_train_comb1, X_tr_test_comb1, y_train_comb1, y_tr_test_comb1 = train_test_split(train_x_comb1, train_y_comb1, test_size=0.2, random_state=156)"
      ],
      "metadata": {
        "id": "IIA-yY3g2-RI"
      },
      "execution_count": null,
      "outputs": []
    },
    {
      "cell_type": "markdown",
      "source": [
        "3, 4, 9, 11 결합"
      ],
      "metadata": {
        "id": "op43NaN9JoZn"
      }
    },
    {
      "cell_type": "code",
      "source": [
        "class_le = preprocessing.LabelEncoder()\n",
        "snp_le_train = preprocessing.LabelEncoder()\n",
        "snp_le_test = preprocessing.LabelEncoder()\n",
        "snp_col7 = ['SNP_01','SNP_02','SNP_05','SNP_06','SNP_07','SNP_08','SNP_10','SNP_12','SNP_13','SNP_14','SNP_15','SNP_03_04_09_11']\n",
        "     \n",
        "snp_data_train7 = []\n",
        "for col in snp_col7:\n",
        "    snp_data_train7 += list(train_x_comb7[col].values)\n",
        "snp_data_test7 = []\n",
        "for col in snp_col7:\n",
        "    snp_data_test7 += list(test_x_comb7[col].values)\n",
        "\n",
        "train_y_comb7 = class_le.fit_transform(train_y_comb7)\n",
        "snp_le_train.fit(snp_data_train7)\n",
        "snp_le_test.fit(snp_data_test7)\n",
        "\n",
        "for col in train_x_comb7.columns:\n",
        "    if col in snp_col7:\n",
        "        train_x_comb7[col] = snp_le_train.transform(train_x_comb7[col])\n",
        "for col in test_x_comb7.columns:\n",
        "    if col in snp_col7:\n",
        "        test_x_comb7[col] = snp_le_test.transform(test_x_comb7[col])\n",
        "\n",
        "X_train_comb7, X_tr_test_comb7, y_train_comb7, y_tr_test_comb7 = train_test_split(train_x_comb7, train_y_comb7, test_size=0.2, random_state=156)"
      ],
      "metadata": {
        "id": "XUC4WlZxm41r"
      },
      "execution_count": null,
      "outputs": []
    },
    {
      "cell_type": "markdown",
      "source": [
        "7, 12, 14 결합"
      ],
      "metadata": {
        "id": "F_0UFBmmJuMS"
      }
    },
    {
      "cell_type": "code",
      "source": [
        "class_le = preprocessing.LabelEncoder()\n",
        "snp_le_train = preprocessing.LabelEncoder()\n",
        "snp_le_test = preprocessing.LabelEncoder()\n",
        "snp_col8 = ['SNP_01','SNP_02','SNP_03','SNP_04','SNP_05','SNP_06','SNP_08','SNP_09','SNP_10','SNP_11','SNP_13','SNP_15','SNP_07_12_14']\n",
        "\n",
        "snp_data_train8 = []\n",
        "for col in snp_col8:\n",
        "    snp_data_train8 += list(train_x_comb8[col].values)\n",
        "snp_data_test8 = []\n",
        "for col in snp_col8:\n",
        "    snp_data_test8 += list(test_x_comb8[col].values)\n",
        "\n",
        "train_y_comb8 = class_le.fit_transform(train_y_comb8)\n",
        "snp_le_train.fit(snp_data_train8)\n",
        "snp_le_test.fit(snp_data_test8)\n",
        "\n",
        "for col in train_x_comb8.columns:\n",
        "    if col in snp_col8:\n",
        "        train_x_comb8[col] = snp_le_train.transform(train_x_comb8[col])\n",
        "for col in test_x_comb8.columns:\n",
        "    if col in snp_col8:\n",
        "        test_x_comb8[col] = snp_le_test.transform(test_x_comb8[col])\n",
        "\n",
        "#train, test dataset 분리\n",
        "from sklearn.model_selection import train_test_split\n",
        "X_train_comb8, X_tr_test_comb8, y_train_comb8, y_tr_test_comb8 = train_test_split(train_x_comb8, train_y_comb8, test_size=0.2, random_state=156)"
      ],
      "metadata": {
        "id": "P1RsqM1jO01b"
      },
      "execution_count": null,
      "outputs": []
    },
    {
      "cell_type": "markdown",
      "source": [
        "(이름 비슷, 한번에) 5,6,8 / 3,4,9,11 / 7,12,14 결합"
      ],
      "metadata": {
        "id": "_e5b5Ecz_vtf"
      }
    },
    {
      "cell_type": "code",
      "source": [
        "class_le = preprocessing.LabelEncoder()\n",
        "snp_le_train = preprocessing.LabelEncoder()\n",
        "snp_le_test = preprocessing.LabelEncoder()\n",
        "snp_col5 = ['SNP_01',\t'SNP_02',\t'SNP_10',\t'SNP_13',\t'SNP_15',\t\n",
        "           'SNP_5_6_8',\t'SNP_3_4_9_11',\t'SNP_7_12_14']\n",
        "     \n",
        "snp_data_train5 = []\n",
        "for col in snp_col5:\n",
        "    snp_data_train5 += list(train_x_comb5[col].values)\n",
        "snp_data_test5 = []\n",
        "for col in snp_col5:\n",
        "    snp_data_test5 += list(test_x_comb5[col].values)\n",
        "\n",
        "train_y_comb5 = class_le.fit_transform(train_y_comb5)\n",
        "snp_le_train.fit(snp_data_train5)\n",
        "snp_le_test.fit(snp_data_test5)\n",
        "\n",
        "for col in train_x_comb5.columns:\n",
        "    if col in snp_col5:\n",
        "        train_x_comb5[col] = snp_le_train.transform(train_x_comb5[col])\n",
        "for col in test_x_comb5.columns:\n",
        "    if col in snp_col5:\n",
        "        test_x_comb5[col] = snp_le_test.transform(test_x_comb5[col])\n",
        "\n",
        "X_train_comb5, X_tr_test_comb5, y_train_comb5, y_tr_test_comb5 = train_test_split(train_x_comb5, train_y_comb5, test_size=0.2, random_state=156)"
      ],
      "metadata": {
        "id": "hkvfBsgW_flb"
      },
      "execution_count": null,
      "outputs": []
    },
    {
      "cell_type": "markdown",
      "source": [
        "(분포 비슷, 하나씩) 7, 12, 15 결합"
      ],
      "metadata": {
        "id": "Dmmfa3G3HinU"
      }
    },
    {
      "cell_type": "code",
      "source": [
        "class_le = preprocessing.LabelEncoder()\n",
        "snp_le = preprocessing.LabelEncoder()\n",
        "snp_col_comb2 = ['SNP_01','SNP_02','SNP_03','SNP_04','SNP_05','SNP_06','SNP_08','SNP_09','SNP_10','SNP_11','SNP_13','SNP_14','SNP_07_12_15']\n",
        "\n",
        "snp_data_comb2 = []\n",
        "for col in snp_col_comb2:\n",
        "    snp_data_comb2 += list(train_x_comb2[col].values)\n",
        "\n",
        "train_y_comb2 = class_le.fit_transform(train_y_comb2)\n",
        "snp_le.fit(snp_data_comb2)\n",
        "\n",
        "for col in train_x_comb2.columns:\n",
        "    if col in snp_col_comb2:\n",
        "        train_x_comb2[col] = snp_le.transform(train_x_comb2[col])\n",
        "        test_x_comb2[col] = snp_le.transform(test_x_comb2[col])\n",
        "\n",
        "#train, test dataset 분리\n",
        "from sklearn.model_selection import train_test_split\n",
        "X_train_comb2, X_tr_test_comb2, y_train_comb2, y_tr_test_comb2 = train_test_split(train_x_comb2, train_y_comb2, test_size=0.2, random_state=156)"
      ],
      "metadata": {
        "id": "T6ipDpM5HoM_"
      },
      "execution_count": null,
      "outputs": []
    },
    {
      "cell_type": "markdown",
      "source": [
        "4, 6, 11 결합"
      ],
      "metadata": {
        "id": "efbuEE-JIaUu"
      }
    },
    {
      "cell_type": "code",
      "source": [
        "class_le = preprocessing.LabelEncoder()\n",
        "snp_le = preprocessing.LabelEncoder()\n",
        "snp_col_comb3 = ['SNP_01','SNP_02','SNP_03','SNP_05','SNP_07','SNP_08','SNP_09','SNP_10','SNP_12','SNP_13','SNP_14','SNP_15','SNP_04_06_11']\n",
        "\n",
        "snp_data_comb3 = []\n",
        "for col in snp_col_comb3:\n",
        "    snp_data_comb3 += list(train_x_comb3[col].values)\n",
        "\n",
        "train_y_comb3 = class_le.fit_transform(train_y_comb3)\n",
        "snp_le.fit(snp_data_comb3)\n",
        "\n",
        "for col in train_x_comb3.columns:\n",
        "    if col in snp_col_comb3:\n",
        "        train_x_comb3[col] = snp_le.transform(train_x_comb3[col])\n",
        "        test_x_comb3[col] = snp_le.transform(test_x_comb3[col])\n",
        "\n",
        "#train, test dataset 분리\n",
        "from sklearn.model_selection import train_test_split\n",
        "X_train_comb3, X_tr_test_comb3, y_train_comb3, y_tr_test_comb3 = train_test_split(train_x_comb3, train_y_comb3, test_size=0.2, random_state=156)"
      ],
      "metadata": {
        "id": "oijOYeWcIZzF"
      },
      "execution_count": null,
      "outputs": []
    },
    {
      "cell_type": "markdown",
      "source": [
        "1, 5 결합"
      ],
      "metadata": {
        "id": "XfkLny0JJAfM"
      }
    },
    {
      "cell_type": "code",
      "source": [
        "class_le = preprocessing.LabelEncoder()\n",
        "snp_le_train = preprocessing.LabelEncoder()\n",
        "snp_le_test = preprocessing.LabelEncoder()\n",
        "snp_col4 = ['SNP_02','SNP_03','SNP_04','SNP_06','SNP_07','SNP_08','SNP_09','SNP_10','SNP_11','SNP_12','SNP_13','SNP_14','SNP_15','SNP_01_05']\n",
        "\n",
        "snp_data_train4 = []\n",
        "for col in snp_col4:\n",
        "    snp_data_train4 += list(train_x_comb4[col].values)\n",
        "     \n",
        "\n",
        "snp_data_test4 = []\n",
        "for col in snp_col4:\n",
        "    snp_data_test4 += list(test_x_comb4[col].values)\n",
        "     \n",
        "\n",
        "train_y_comb4 = class_le.fit_transform(train_y_comb4)\n",
        "snp_le_train.fit(snp_data_train4)\n",
        "snp_le_test.fit(snp_data_test4)\n",
        "     "
      ],
      "metadata": {
        "colab": {
          "base_uri": "https://localhost:8080/"
        },
        "id": "yidekxF3JFAH",
        "outputId": "ebbb5ba4-0e66-4e22-9235-776f2b8dbf45"
      },
      "execution_count": null,
      "outputs": [
        {
          "output_type": "execute_result",
          "data": {
            "text/plain": [
              "LabelEncoder()"
            ]
          },
          "metadata": {},
          "execution_count": 56
        }
      ]
    },
    {
      "cell_type": "code",
      "source": [
        "for col in train_x_comb4.columns:\n",
        "    if col in snp_col4:\n",
        "        train_x_comb4[col] = snp_le_train.transform(train_x_comb4[col])\n",
        "     \n",
        "for col in test_x_comb4.columns:\n",
        "    if col in snp_col4:\n",
        "        test_x_comb4[col] = snp_le_test.transform(test_x_comb4[col])"
      ],
      "metadata": {
        "id": "AGrRh8a5LeLE"
      },
      "execution_count": null,
      "outputs": []
    },
    {
      "cell_type": "code",
      "source": [
        "#train, test dataset 분리\n",
        "from sklearn.model_selection import train_test_split\n",
        "X_train_comb4, X_tr_test_comb4, y_train_comb4, y_tr_test_comb4 = train_test_split(train_x_comb4, train_y_comb4, test_size=0.2, random_state=156)"
      ],
      "metadata": {
        "id": "6soK4wvEMKbS"
      },
      "execution_count": null,
      "outputs": []
    },
    {
      "cell_type": "markdown",
      "source": [
        "(분포 비슷, 한번에) 7,12,15 / 4,6,11 / 1,5 결합"
      ],
      "metadata": {
        "id": "rRTEG0ddMGBw"
      }
    },
    {
      "cell_type": "code",
      "source": [
        "class_le = preprocessing.LabelEncoder()\n",
        "snp_le_train = preprocessing.LabelEncoder()\n",
        "snp_le_test = preprocessing.LabelEncoder()\n",
        "snp_col6 = ['SNP_02','SNP_03','SNP_08',\n",
        "           'SNP_09','SNP_10','SNP_13','SNP_14',\n",
        "           'SNP_7_12_15', 'SNP_4_6_11', 'SNP_1_5']\n",
        "     \n",
        "snp_data_train6 = []\n",
        "for col in snp_col6:\n",
        "    snp_data_train6 += list(train_x_comb6[col].values)\n",
        "snp_data_test6 = []\n",
        "for col in snp_col6:\n",
        "    snp_data_test6 += list(test_x_comb6[col].values)\n",
        "\n",
        "train_y_comb6 = class_le.fit_transform(train_y_comb6)\n",
        "snp_le_train.fit(snp_data_train6)\n",
        "snp_le_test.fit(snp_data_test6)\n",
        "\n",
        "for col in train_x_comb6.columns:\n",
        "    if col in snp_col6:\n",
        "        train_x_comb6[col] = snp_le_train.transform(train_x_comb6[col])\n",
        "for col in test_x_comb6.columns:\n",
        "    if col in snp_col6:\n",
        "        test_x_comb6[col] = snp_le_test.transform(test_x_comb6[col])\n",
        "\n",
        "X_train_comb6, X_tr_test_comb6, y_train_comb6, y_tr_test_comb6 = train_test_split(train_x_comb6, train_y_comb6, test_size=0.2, random_state=156)"
      ],
      "metadata": {
        "id": "OitAOhDcMFg0"
      },
      "execution_count": null,
      "outputs": []
    },
    {
      "cell_type": "markdown",
      "source": [
        "##**6. SMOTE**"
      ],
      "metadata": {
        "id": "jNgmYU4X6hYk"
      }
    },
    {
      "cell_type": "code",
      "source": [
        "# 변수결합x\n",
        "from imblearn.over_sampling import SMOTE\n",
        "train_x_s, train_y_s = SMOTE().fit_resample(train_x, train_y)\n",
        "\n",
        "import seaborn as sns\n",
        "sns.countplot(train_y_s)\n",
        "\n",
        "X_train_s, X_tr_test_s, y_train_s, y_tr_test_s = train_test_split(train_x_s, train_y_s, test_size=0.2, random_state=156)"
      ],
      "metadata": {
        "colab": {
          "base_uri": "https://localhost:8080/",
          "height": 265
        },
        "id": "bQ6-lRAkS2hf",
        "outputId": "040ec357-f033-4ecc-be3d-7ef039c5bda7"
      },
      "execution_count": null,
      "outputs": [
        {
          "output_type": "display_data",
          "data": {
            "text/plain": [
              "<Figure size 432x288 with 1 Axes>"
            ],
            "image/png": "[encoded data removed]"
          },
          "metadata": {
            "needs_background": "light"
          }
        }
      ]
    },
    {
      "cell_type": "code",
      "source": [
        "# 변수결합1 -이름기준\n",
        "train_x_comb5_s, train_y_comb5_s = SMOTE().fit_resample(train_x_comb5, train_y_comb5)\n",
        "sns.countplot(train_y_comb5_s)\n",
        "\n",
        "X_train_comb5_s, X_tr_test_comb5_s, y_train_comb5_s, y_tr_test_comb5_s = train_test_split(train_x_comb5_s, train_y_comb5_s, test_size=0.2, random_state=156)"
      ],
      "metadata": {
        "colab": {
          "base_uri": "https://localhost:8080/",
          "height": 265
        },
        "id": "ZT_O8NnNS5DG",
        "outputId": "16c618e3-d939-49df-dd55-03abbde6fadb"
      },
      "execution_count": null,
      "outputs": [
        {
          "output_type": "display_data",
          "data": {
            "text/plain": [
              "<Figure size 432x288 with 1 Axes>"
            ],
            "image/png": "[encoded data removed]"
          },
          "metadata": {
            "needs_background": "light"
          }
        }
      ]
    },
    {
      "cell_type": "code",
      "source": [
        "# 변수결합2 -분포기준\n",
        "train_x_comb6_s, train_y_comb6_s = SMOTE().fit_resample(train_x_comb6, train_y_comb6)\n",
        "sns.countplot(train_y_comb6_s)\n",
        "\n",
        "X_train_comb6_s, X_tr_test_comb6_s, y_train_comb6_s, y_tr_test_comb6_s = train_test_split(train_x_comb6_s, train_y_comb6_s, test_size=0.2, random_state=156)"
      ],
      "metadata": {
        "colab": {
          "base_uri": "https://localhost:8080/",
          "height": 265
        },
        "id": "Ds-ofAn2TLAh",
        "outputId": "f42a24ae-dd49-4482-9f42-ec864baf8b6e"
      },
      "execution_count": null,
      "outputs": [
        {
          "output_type": "display_data",
          "data": {
            "text/plain": [
              "<Figure size 432x288 with 1 Axes>"
            ],
            "image/png": "[encoded data removed]"
          },
          "metadata": {
            "needs_background": "light"
          }
        }
      ]
    },
    {
      "cell_type": "markdown",
      "source": [
        "##**7. 모델 적합 2**"
      ],
      "metadata": {
        "id": "6rGLaa1zTjBX"
      }
    },
    {
      "cell_type": "markdown",
      "source": [
        "###**7-1 Decision Tree**"
      ],
      "metadata": {
        "id": "g0TRszP-UlPa"
      }
    },
    {
      "cell_type": "code",
      "source": [
        "dt_clf=DecisionTreeClassifier()\n",
        "print('*****변수결합(이름) 하나씩*****')\n",
        "get_model_train_eval(dt_clf, ftr_train=X_train_comb1, ftr_test=X_tr_test_comb1, tgt_train=y_train_comb1, tgt_test=y_tr_test_comb1)\n",
        "get_model_train_eval(dt_clf, ftr_train=X_train_comb7, ftr_test=X_tr_test_comb7, tgt_train=y_train_comb7, tgt_test=y_tr_test_comb7)\n",
        "get_model_train_eval(dt_clf, ftr_train=X_train_comb8, ftr_test=X_tr_test_comb8, tgt_train=y_train_comb8, tgt_test=y_tr_test_comb8)\n",
        "print('*****변수결합(이름) 한번에*****')\n",
        "get_model_train_eval(dt_clf, ftr_train=X_train_comb5, ftr_test=X_tr_test_comb5, tgt_train=y_train_comb5, tgt_test=y_tr_test_comb5)\n",
        "print('*****변수결합(분포) 하나씩*****')\n",
        "get_model_train_eval(dt_clf, ftr_train=X_train_comb2, ftr_test=X_tr_test_comb2, tgt_train=y_train_comb2, tgt_test=y_tr_test_comb2)\n",
        "get_model_train_eval(dt_clf, ftr_train=X_train_comb3, ftr_test=X_tr_test_comb3, tgt_train=y_train_comb3, tgt_test=y_tr_test_comb3)\n",
        "get_model_train_eval(dt_clf, ftr_train=X_train_comb4, ftr_test=X_tr_test_comb4, tgt_train=y_train_comb4, tgt_test=y_tr_test_comb4)\n",
        "print('*****변수결합(분포) 한번에*****')\n",
        "get_model_train_eval(dt_clf, ftr_train=X_train_comb6, ftr_test=X_tr_test_comb6, tgt_train=y_train_comb6, tgt_test=y_tr_test_comb6)\n",
        "print('*****스모트*****')\n",
        "get_model_train_eval(dt_clf, ftr_train=X_train_s, ftr_test=X_tr_test_s, tgt_train=y_train_s, tgt_test=y_tr_test_s)\n",
        "print('*****변수결합(이름) 한번에 + 스모트*****')\n",
        "get_model_train_eval(dt_clf, ftr_train=X_train_comb5_s, ftr_test=X_tr_test_comb5_s, tgt_train=y_train_comb5_s, tgt_test=y_tr_test_comb5_s)\n",
        "print('*****변수결합(분포) 한번에 + 스모트*****')\n",
        "get_model_train_eval(dt_clf, ftr_train=X_train_comb6_s, ftr_test=X_tr_test_comb6_s, tgt_train=y_train_comb6_s, tgt_test=y_tr_test_comb6_s)"
      ],
      "metadata": {
        "colab": {
          "base_uri": "https://localhost:8080/"
        },
        "id": "bHh0-DAlTlzH",
        "outputId": "3c752165-95eb-4418-e92b-0bb1a6639810"
      },
      "execution_count": null,
      "outputs": [
        {
          "output_type": "stream",
          "name": "stdout",
          "text": [
            "*****변수결합(이름) 하나씩*****\n",
            "오차 행렬\n",
            "[[11  0  0]\n",
            " [ 0 21  4]\n",
            " [ 0  1 16]]\n",
            "정확도: 0.9057, 정밀도: 0.9182, 재현율: 0.9271, F1: 0.9195\n",
            "오차 행렬\n",
            "[[11  0  0]\n",
            " [ 0 20  5]\n",
            " [ 0  4 13]]\n",
            "정확도: 0.8302, 정밀도: 0.8519, 재현율: 0.8549, F1: 0.8531\n",
            "오차 행렬\n",
            "[[11  0  0]\n",
            " [ 0 22  3]\n",
            " [ 0  3 14]]\n",
            "정확도: 0.8868, 정밀도: 0.9012, 재현율: 0.9012, F1: 0.9012\n",
            "*****변수결합(이름) 한번에*****\n",
            "오차 행렬\n",
            "[[11  0  0]\n",
            " [ 0 21  4]\n",
            " [ 0  1 16]]\n",
            "정확도: 0.9057, 정밀도: 0.9182, 재현율: 0.9271, F1: 0.9195\n",
            "*****변수결합(분포) 하나씩*****\n",
            "오차 행렬\n",
            "[[11  0  0]\n",
            " [ 0 22  3]\n",
            " [ 0  2 15]]\n",
            "정확도: 0.9057, 정밀도: 0.9167, 재현율: 0.9208, F1: 0.9184\n",
            "오차 행렬\n",
            "[[11  0  0]\n",
            " [ 0 21  4]\n",
            " [ 0  1 16]]\n",
            "정확도: 0.9057, 정밀도: 0.9182, 재현율: 0.9271, F1: 0.9195\n",
            "오차 행렬\n",
            "[[11  0  0]\n",
            " [ 0 22  3]\n",
            " [ 0  2 15]]\n",
            "정확도: 0.9057, 정밀도: 0.9167, 재현율: 0.9208, F1: 0.9184\n",
            "*****변수결합(분포) 한번에*****\n",
            "오차 행렬\n",
            "[[11  0  0]\n",
            " [ 0 22  3]\n",
            " [ 0  1 16]]\n",
            "정확도: 0.9245, 정밀도: 0.9329, 재현율: 0.9404, F1: 0.9352\n",
            "*****스모트*****\n",
            "오차 행렬\n",
            "[[26  0  0]\n",
            " [ 0 22  2]\n",
            " [ 0  4 15]]\n",
            "정확도: 0.9130, 정밀도: 0.9095, 재현율: 0.9020, F1: 0.9044\n",
            "*****변수결합(이름) 한번에 + 스모트*****\n",
            "오차 행렬\n",
            "[[26  0  0]\n",
            " [ 0 22  2]\n",
            " [ 0  2 17]]\n",
            "정확도: 0.9420, 정밀도: 0.9371, 재현율: 0.9371, F1: 0.9371\n",
            "*****변수결합(분포) 한번에 + 스모트*****\n",
            "오차 행렬\n",
            "[[26  0  0]\n",
            " [ 0 21  3]\n",
            " [ 0  4 15]]\n",
            "정확도: 0.8986, 정밀도: 0.8911, 재현율: 0.8882, F1: 0.8893\n"
          ]
        }
      ]
    },
    {
      "cell_type": "markdown",
      "source": [
        "###**7-2 Random Forest**"
      ],
      "metadata": {
        "id": "3gA1rIBwYK5y"
      }
    },
    {
      "cell_type": "code",
      "source": [
        "rf_clf = RandomForestClassifier()\n",
        "print('*****변수결합(이름) 하나씩*****')\n",
        "get_model_train_eval(rf_clf, ftr_train=X_train_comb1, ftr_test=X_tr_test_comb1, tgt_train=y_train_comb1, tgt_test=y_tr_test_comb1)\n",
        "get_model_train_eval(rf_clf, ftr_train=X_train_comb7, ftr_test=X_tr_test_comb7, tgt_train=y_train_comb7, tgt_test=y_tr_test_comb7)\n",
        "get_model_train_eval(rf_clf, ftr_train=X_train_comb8, ftr_test=X_tr_test_comb8, tgt_train=y_train_comb8, tgt_test=y_tr_test_comb8)\n",
        "print('*****변수결합(이름) 한번에*****')\n",
        "get_model_train_eval(rf_clf, ftr_train=X_train_comb5, ftr_test=X_tr_test_comb5, tgt_train=y_train_comb5, tgt_test=y_tr_test_comb5)\n",
        "print('*****변수결합(분포) 하나씩*****')\n",
        "get_model_train_eval(rf_clf, ftr_train=X_train_comb2, ftr_test=X_tr_test_comb2, tgt_train=y_train_comb2, tgt_test=y_tr_test_comb2)\n",
        "get_model_train_eval(rf_clf, ftr_train=X_train_comb3, ftr_test=X_tr_test_comb3, tgt_train=y_train_comb3, tgt_test=y_tr_test_comb3)\n",
        "get_model_train_eval(rf_clf, ftr_train=X_train_comb4, ftr_test=X_tr_test_comb4, tgt_train=y_train_comb4, tgt_test=y_tr_test_comb4)\n",
        "print('*****변수결합(분포) 한번에*****')\n",
        "get_model_train_eval(rf_clf, ftr_train=X_train_comb6, ftr_test=X_tr_test_comb6, tgt_train=y_train_comb6, tgt_test=y_tr_test_comb6)\n",
        "print('*****스모트*****')\n",
        "get_model_train_eval(rf_clf, ftr_train=X_train_s, ftr_test=X_tr_test_s, tgt_train=y_train_s, tgt_test=y_tr_test_s)\n",
        "print('*****변수결합(이름) 한번에 + 스모트*****')\n",
        "get_model_train_eval(rf_clf, ftr_train=X_train_comb5_s, ftr_test=X_tr_test_comb5_s, tgt_train=y_train_comb5_s, tgt_test=y_tr_test_comb5_s)\n",
        "print('*****변수결합(분포) 한번에 + 스모트*****')\n",
        "get_model_train_eval(rf_clf, ftr_train=X_train_comb6_s, ftr_test=X_tr_test_comb6_s, tgt_train=y_train_comb6_s, tgt_test=y_tr_test_comb6_s)"
      ],
      "metadata": {
        "colab": {
          "base_uri": "https://localhost:8080/"
        },
        "id": "jvxZXRwyYRcw",
        "outputId": "73fca052-2914-4936-9b07-24976276f330"
      },
      "execution_count": null,
      "outputs": [
        {
          "output_type": "stream",
          "name": "stdout",
          "text": [
            "*****변수결합(이름) 하나씩*****\n",
            "오차 행렬\n",
            "[[11  0  0]\n",
            " [ 0 25  0]\n",
            " [ 0  1 16]]\n",
            "정확도: 0.9811, 정밀도: 0.9872, 재현율: 0.9804, F1: 0.9834\n",
            "오차 행렬\n",
            "[[11  0  0]\n",
            " [ 0 24  1]\n",
            " [ 0  2 15]]\n",
            "정확도: 0.9434, 정밀도: 0.9535, 재현율: 0.9475, F1: 0.9501\n",
            "오차 행렬\n",
            "[[11  0  0]\n",
            " [ 0 25  0]\n",
            " [ 0  1 16]]\n",
            "정확도: 0.9811, 정밀도: 0.9872, 재현율: 0.9804, F1: 0.9834\n",
            "*****변수결합(이름) 한번에*****\n",
            "오차 행렬\n",
            "[[11  0  0]\n",
            " [ 0 22  3]\n",
            " [ 0  0 17]]\n",
            "정확도: 0.9434, 정밀도: 0.9500, 재현율: 0.9600, F1: 0.9517\n",
            "*****변수결합(분포) 하나씩*****\n",
            "오차 행렬\n",
            "[[11  0  0]\n",
            " [ 0 25  0]\n",
            " [ 0  2 15]]\n",
            "정확도: 0.9623, 정밀도: 0.9753, 재현율: 0.9608, F1: 0.9663\n",
            "오차 행렬\n",
            "[[11  0  0]\n",
            " [ 0 25  0]\n",
            " [ 0  1 16]]\n",
            "정확도: 0.9811, 정밀도: 0.9872, 재현율: 0.9804, F1: 0.9834\n",
            "오차 행렬\n",
            "[[11  0  0]\n",
            " [ 0 25  0]\n",
            " [ 0  1 16]]\n",
            "정확도: 0.9811, 정밀도: 0.9872, 재현율: 0.9804, F1: 0.9834\n",
            "*****변수결합(분포) 한번에*****\n",
            "오차 행렬\n",
            "[[11  0  0]\n",
            " [ 0 25  0]\n",
            " [ 0  2 15]]\n",
            "정확도: 0.9623, 정밀도: 0.9753, 재현율: 0.9608, F1: 0.9663\n",
            "*****스모트*****\n",
            "오차 행렬\n",
            "[[26  0  0]\n",
            " [ 0 23  1]\n",
            " [ 0  1 18]]\n",
            "정확도: 0.9710, 정밀도: 0.9686, 재현율: 0.9686, F1: 0.9686\n",
            "*****변수결합(이름) 한번에 + 스모트*****\n",
            "오차 행렬\n",
            "[[26  0  0]\n",
            " [ 0 23  1]\n",
            " [ 0  1 18]]\n",
            "정확도: 0.9710, 정밀도: 0.9686, 재현율: 0.9686, F1: 0.9686\n",
            "*****변수결합(분포) 한번에 + 스모트*****\n",
            "오차 행렬\n",
            "[[26  0  0]\n",
            " [ 0 24  0]\n",
            " [ 0  1 18]]\n",
            "정확도: 0.9855, 정밀도: 0.9867, 재현율: 0.9825, F1: 0.9842\n"
          ]
        }
      ]
    },
    {
      "cell_type": "code",
      "source": [
        "rf_clf1 = RandomForestClassifier()\n",
        "parameters = {'max_depth': [4, 6, 8, 10, 12, None],\n",
        "              'min_samples_split': [2, 3, 4, 5, 8, 12, 16, 20],\n",
        "              'min_samples_leaf' : [8, 12, 15, 18],\n",
        "              'n_estimators': [10, 30, 50, 80, 100, 120, 150, 200]\n",
        "}\n",
        "\n",
        "\n",
        "rf_grid = GridSearchCV(rf_clf1,\n",
        "                        parameters,\n",
        "                        cv = 2,\n",
        "                        n_jobs = -1,\n",
        "                        verbose = True)\n",
        "rf_grid.fit(X_train, y_train)\n",
        "\n",
        "print(rf_grid.best_score_)\n",
        "print(rf_grid.best_params_)"
      ],
      "metadata": {
        "colab": {
          "base_uri": "https://localhost:8080/"
        },
        "id": "1H6FUM2Xbnu4",
        "outputId": "422f03a5-1acd-412e-ac0c-10643d6ca301"
      },
      "execution_count": null,
      "outputs": [
        {
          "output_type": "stream",
          "name": "stdout",
          "text": [
            "Fitting 2 folds for each of 1536 candidates, totalling 3072 fits\n",
            "0.9425824175824176\n",
            "{'max_depth': 4, 'min_samples_leaf': 8, 'min_samples_split': 16, 'n_estimators': 50}\n"
          ]
        }
      ]
    },
    {
      "cell_type": "code",
      "source": [
        "rf_model = RandomForestClassifier(max_depth=4, min_samples_leaf=8, min_samples_split=16, n_estimators=50)\n",
        "print('*****변수결합(이름) 하나씩*****')\n",
        "get_model_train_eval(rf_model, ftr_train=X_train_comb1, ftr_test=X_tr_test_comb1, tgt_train=y_train_comb1, tgt_test=y_tr_test_comb1)\n",
        "get_model_train_eval(rf_model, ftr_train=X_train_comb7, ftr_test=X_tr_test_comb7, tgt_train=y_train_comb7, tgt_test=y_tr_test_comb7)\n",
        "get_model_train_eval(rf_model, ftr_train=X_train_comb8, ftr_test=X_tr_test_comb8, tgt_train=y_train_comb8, tgt_test=y_tr_test_comb8)\n",
        "print('*****변수결합(이름) 한번에*****')\n",
        "get_model_train_eval(rf_model, ftr_train=X_train_comb5, ftr_test=X_tr_test_comb5, tgt_train=y_train_comb5, tgt_test=y_tr_test_comb5)\n",
        "print('*****변수결합(분포) 하나씩*****')\n",
        "get_model_train_eval(rf_model, ftr_train=X_train_comb2, ftr_test=X_tr_test_comb2, tgt_train=y_train_comb2, tgt_test=y_tr_test_comb2)\n",
        "get_model_train_eval(rf_model, ftr_train=X_train_comb3, ftr_test=X_tr_test_comb3, tgt_train=y_train_comb3, tgt_test=y_tr_test_comb3)\n",
        "get_model_train_eval(rf_model, ftr_train=X_train_comb4, ftr_test=X_tr_test_comb4, tgt_train=y_train_comb4, tgt_test=y_tr_test_comb4)\n",
        "print('*****변수결합(분포) 한번에*****')\n",
        "get_model_train_eval(rf_clf, ftr_train=X_train_comb6, ftr_test=X_tr_test_comb6, tgt_train=y_train_comb6, tgt_test=y_tr_test_comb6)\n",
        "print('*****스모트*****')\n",
        "get_model_train_eval(rf_clf, ftr_train=X_train_s, ftr_test=X_tr_test_s, tgt_train=y_train_s, tgt_test=y_tr_test_s)\n",
        "print('*****변수결합(이름) 한번에 + 스모트*****')\n",
        "get_model_train_eval(rf_clf, ftr_train=X_train_comb5_s, ftr_test=X_tr_test_comb5_s, tgt_train=y_train_comb5_s, tgt_test=y_tr_test_comb5_s)\n",
        "print('*****변수결합(분포) 한번에 + 스모트*****')\n",
        "get_model_train_eval(rf_clf, ftr_train=X_train_comb6_s, ftr_test=X_tr_test_comb6_s, tgt_train=y_train_comb6_s, tgt_test=y_tr_test_comb6_s)"
      ],
      "metadata": {
        "colab": {
          "base_uri": "https://localhost:8080/"
        },
        "id": "DFvUgXSHo3Eb",
        "outputId": "8b307295-03de-41d8-8d78-f854451f5406"
      },
      "execution_count": null,
      "outputs": [
        {
          "output_type": "stream",
          "name": "stdout",
          "text": [
            "*****변수결합(이름) 하나씩*****\n",
            "오차 행렬\n",
            "[[11  0  0]\n",
            " [ 0 24  1]\n",
            " [ 0  1 16]]\n",
            "정확도: 0.9623, 정밀도: 0.9671, 재현율: 0.9671, F1: 0.9671\n",
            "오차 행렬\n",
            "[[11  0  0]\n",
            " [ 0 23  2]\n",
            " [ 0  3 14]]\n",
            "정확도: 0.9057, 정밀도: 0.9199, 재현율: 0.9145, F1: 0.9168\n",
            "오차 행렬\n",
            "[[11  0  0]\n",
            " [ 0 25  0]\n",
            " [ 0  2 15]]\n",
            "정확도: 0.9623, 정밀도: 0.9753, 재현율: 0.9608, F1: 0.9663\n",
            "*****변수결합(이름) 한번에*****\n",
            "오차 행렬\n",
            "[[11  0  0]\n",
            " [ 0 23  2]\n",
            " [ 0  0 17]]\n",
            "정확도: 0.9623, 정밀도: 0.9649, 재현율: 0.9733, F1: 0.9676\n",
            "*****변수결합(분포) 하나씩*****\n",
            "오차 행렬\n",
            "[[11  0  0]\n",
            " [ 0 25  0]\n",
            " [ 0  3 14]]\n",
            "정확도: 0.9434, 정밀도: 0.9643, 재현율: 0.9412, F1: 0.9489\n",
            "오차 행렬\n",
            "[[11  0  0]\n",
            " [ 0 25  0]\n",
            " [ 0  2 15]]\n",
            "정확도: 0.9623, 정밀도: 0.9753, 재현율: 0.9608, F1: 0.9663\n",
            "오차 행렬\n",
            "[[11  0  0]\n",
            " [ 0 24  1]\n",
            " [ 0  3 14]]\n",
            "정확도: 0.9245, 정밀도: 0.9407, 재현율: 0.9278, F1: 0.9327\n",
            "*****변수결합(분포) 한번에*****\n",
            "오차 행렬\n",
            "[[11  0  0]\n",
            " [ 0 25  0]\n",
            " [ 0  1 16]]\n",
            "정확도: 0.9811, 정밀도: 0.9872, 재현율: 0.9804, F1: 0.9834\n",
            "*****스모트*****\n",
            "오차 행렬\n",
            "[[26  0  0]\n",
            " [ 0 23  1]\n",
            " [ 0  1 18]]\n",
            "정확도: 0.9710, 정밀도: 0.9686, 재현율: 0.9686, F1: 0.9686\n",
            "*****변수결합(이름) 한번에 + 스모트*****\n",
            "오차 행렬\n",
            "[[26  0  0]\n",
            " [ 0 23  1]\n",
            " [ 0  1 18]]\n",
            "정확도: 0.9710, 정밀도: 0.9686, 재현율: 0.9686, F1: 0.9686\n",
            "*****변수결합(분포) 한번에 + 스모트*****\n",
            "오차 행렬\n",
            "[[26  0  0]\n",
            " [ 0 24  0]\n",
            " [ 0  2 17]]\n",
            "정확도: 0.9710, 정밀도: 0.9744, 재현율: 0.9649, F1: 0.9681\n"
          ]
        }
      ]
    },
    {
      "cell_type": "markdown",
      "source": [
        "###**7-3 XGBoost**"
      ],
      "metadata": {
        "id": "oisLyaKwYL02"
      }
    },
    {
      "cell_type": "code",
      "source": [
        "xgb_clf = XGBClassifier()\n",
        "print('*****변수결합(이름) 하나씩*****')\n",
        "get_model_train_eval(xgb_clf, ftr_train=X_train_comb1, ftr_test=X_tr_test_comb1, tgt_train=y_train_comb1, tgt_test=y_tr_test_comb1)\n",
        "get_model_train_eval(xgb_clf, ftr_train=X_train_comb7, ftr_test=X_tr_test_comb7, tgt_train=y_train_comb7, tgt_test=y_tr_test_comb7)\n",
        "get_model_train_eval(xgb_clf, ftr_train=X_train_comb8, ftr_test=X_tr_test_comb8, tgt_train=y_train_comb8, tgt_test=y_tr_test_comb8)\n",
        "print('*****변수결합(이름) 한번에*****')\n",
        "get_model_train_eval(xgb_clf, ftr_train=X_train_comb5, ftr_test=X_tr_test_comb5, tgt_train=y_train_comb5, tgt_test=y_tr_test_comb5)\n",
        "print('*****변수결합(분포) 하나씩*****')\n",
        "get_model_train_eval(xgb_clf, ftr_train=X_train_comb2, ftr_test=X_tr_test_comb2, tgt_train=y_train_comb2, tgt_test=y_tr_test_comb2)\n",
        "get_model_train_eval(xgb_clf, ftr_train=X_train_comb3, ftr_test=X_tr_test_comb3, tgt_train=y_train_comb3, tgt_test=y_tr_test_comb3)\n",
        "get_model_train_eval(xgb_clf, ftr_train=X_train_comb4, ftr_test=X_tr_test_comb4, tgt_train=y_train_comb4, tgt_test=y_tr_test_comb4)\n",
        "print('*****변수결합(분포) 한번에*****')\n",
        "get_model_train_eval(xgb_clf, ftr_train=X_train_comb6, ftr_test=X_tr_test_comb6, tgt_train=y_train_comb6, tgt_test=y_tr_test_comb6)\n",
        "print('*****스모트*****')\n",
        "get_model_train_eval(xgb_clf, ftr_train=X_train_s, ftr_test=X_tr_test_s, tgt_train=y_train_s, tgt_test=y_tr_test_s)\n",
        "print('*****변수결합(이름) 한번에 + 스모트*****')\n",
        "get_model_train_eval(xgb_clf, ftr_train=X_train_comb5_s, ftr_test=X_tr_test_comb5_s, tgt_train=y_train_comb5_s, tgt_test=y_tr_test_comb5_s)\n",
        "print('*****변수결합(분포) 한번에 + 스모트*****')\n",
        "get_model_train_eval(xgb_clf, ftr_train=X_train_comb6_s, ftr_test=X_tr_test_comb6_s, tgt_train=y_train_comb6_s, tgt_test=y_tr_test_comb6_s)"
      ],
      "metadata": {
        "colab": {
          "base_uri": "https://localhost:8080/"
        },
        "id": "osHoHeMprvk2",
        "outputId": "14155ffe-870d-490d-f7dd-dec99cb20231"
      },
      "execution_count": null,
      "outputs": [
        {
          "output_type": "stream",
          "name": "stdout",
          "text": [
            "*****변수결합(이름) 하나씩*****\n",
            "오차 행렬\n",
            "[[11  0  0]\n",
            " [ 0 24  1]\n",
            " [ 0  1 16]]\n",
            "정확도: 0.9623, 정밀도: 0.9671, 재현율: 0.9671, F1: 0.9671\n",
            "오차 행렬\n",
            "[[11  0  0]\n",
            " [ 0 25  0]\n",
            " [ 0  1 16]]\n",
            "정확도: 0.9811, 정밀도: 0.9872, 재현율: 0.9804, F1: 0.9834\n",
            "오차 행렬\n",
            "[[11  0  0]\n",
            " [ 0 25  0]\n",
            " [ 0  1 16]]\n",
            "정확도: 0.9811, 정밀도: 0.9872, 재현율: 0.9804, F1: 0.9834\n",
            "*****변수결합(이름) 한번에*****\n",
            "오차 행렬\n",
            "[[11  0  0]\n",
            " [ 0 23  2]\n",
            " [ 0  1 16]]\n",
            "정확도: 0.9434, 정밀도: 0.9491, 재현율: 0.9537, F1: 0.9510\n",
            "*****변수결합(분포) 하나씩*****\n",
            "오차 행렬\n",
            "[[11  0  0]\n",
            " [ 0 25  0]\n",
            " [ 0  2 15]]\n",
            "정확도: 0.9623, 정밀도: 0.9753, 재현율: 0.9608, F1: 0.9663\n",
            "오차 행렬\n",
            "[[11  0  0]\n",
            " [ 0 25  0]\n",
            " [ 0  1 16]]\n",
            "정확도: 0.9811, 정밀도: 0.9872, 재현율: 0.9804, F1: 0.9834\n",
            "오차 행렬\n",
            "[[11  0  0]\n",
            " [ 0 25  0]\n",
            " [ 0  1 16]]\n",
            "정확도: 0.9811, 정밀도: 0.9872, 재현율: 0.9804, F1: 0.9834\n",
            "*****변수결합(분포) 한번에*****\n",
            "오차 행렬\n",
            "[[11  0  0]\n",
            " [ 0 24  1]\n",
            " [ 0  2 15]]\n",
            "정확도: 0.9434, 정밀도: 0.9535, 재현율: 0.9475, F1: 0.9501\n",
            "*****스모트*****\n",
            "오차 행렬\n",
            "[[26  0  0]\n",
            " [ 0 23  1]\n",
            " [ 0  3 16]]\n",
            "정확도: 0.9420, 정밀도: 0.9419, 재현율: 0.9335, F1: 0.9363\n",
            "*****변수결합(이름) 한번에 + 스모트*****\n",
            "오차 행렬\n",
            "[[26  0  0]\n",
            " [ 0 21  3]\n",
            " [ 0  1 18]]\n",
            "정확도: 0.9420, 정밀도: 0.9372, 재현율: 0.9408, F1: 0.9377\n",
            "*****변수결합(분포) 한번에 + 스모트*****\n",
            "오차 행렬\n",
            "[[26  0  0]\n",
            " [ 0 23  1]\n",
            " [ 0  2 17]]\n",
            "정확도: 0.9565, 정밀도: 0.9548, 재현율: 0.9510, F1: 0.9526\n"
          ]
        }
      ]
    },
    {
      "cell_type": "markdown",
      "source": [
        "###**7-4 GBM**"
      ],
      "metadata": {
        "id": "lg1V7B4lYMnH"
      }
    },
    {
      "cell_type": "code",
      "source": [
        "gbm_clf = GradientBoostingClassifier()\n",
        "print('*****변수결합(이름) 하나씩*****')\n",
        "get_model_train_eval(gbm_clf, ftr_train=X_train_comb1, ftr_test=X_tr_test_comb1, tgt_train=y_train_comb1, tgt_test=y_tr_test_comb1)\n",
        "get_model_train_eval(gbm_clf, ftr_train=X_train_comb7, ftr_test=X_tr_test_comb7, tgt_train=y_train_comb7, tgt_test=y_tr_test_comb7)\n",
        "get_model_train_eval(gbm_clf, ftr_train=X_train_comb8, ftr_test=X_tr_test_comb8, tgt_train=y_train_comb8, tgt_test=y_tr_test_comb8)\n",
        "print('*****변수결합(이름) 한번에*****')\n",
        "get_model_train_eval(gbm_clf, ftr_train=X_train_comb5, ftr_test=X_tr_test_comb5, tgt_train=y_train_comb5, tgt_test=y_tr_test_comb5)\n",
        "print('*****변수결합(분포) 하나씩*****')\n",
        "get_model_train_eval(gbm_clf, ftr_train=X_train_comb2, ftr_test=X_tr_test_comb2, tgt_train=y_train_comb2, tgt_test=y_tr_test_comb2)\n",
        "get_model_train_eval(gbm_clf, ftr_train=X_train_comb3, ftr_test=X_tr_test_comb3, tgt_train=y_train_comb3, tgt_test=y_tr_test_comb3)\n",
        "get_model_train_eval(gbm_clf, ftr_train=X_train_comb4, ftr_test=X_tr_test_comb4, tgt_train=y_train_comb4, tgt_test=y_tr_test_comb4)\n",
        "print('*****변수결합(분포) 한번에*****')\n",
        "get_model_train_eval(gbm_clf, ftr_train=X_train_comb6, ftr_test=X_tr_test_comb6, tgt_train=y_train_comb6, tgt_test=y_tr_test_comb6)\n",
        "print('*****스모트*****')\n",
        "get_model_train_eval(gbm_clf, ftr_train=X_train_s, ftr_test=X_tr_test_s, tgt_train=y_train_s, tgt_test=y_tr_test_s)\n",
        "print('*****변수결합(이름) 한번에 + 스모트*****')\n",
        "get_model_train_eval(gbm_clf, ftr_train=X_train_comb5_s, ftr_test=X_tr_test_comb5_s, tgt_train=y_train_comb5_s, tgt_test=y_tr_test_comb5_s)\n",
        "print('*****변수결합(분포) 한번에 + 스모트*****')\n",
        "get_model_train_eval(gbm_clf, ftr_train=X_train_comb6_s, ftr_test=X_tr_test_comb6_s, tgt_train=y_train_comb6_s, tgt_test=y_tr_test_comb6_s)"
      ],
      "metadata": {
        "colab": {
          "base_uri": "https://localhost:8080/"
        },
        "id": "TiJclrsYsK5I",
        "outputId": "e76dbf4f-f95d-4a18-ee1b-0dc31b941994"
      },
      "execution_count": null,
      "outputs": [
        {
          "output_type": "stream",
          "name": "stdout",
          "text": [
            "*****변수결합(이름) 하나씩*****\n",
            "오차 행렬\n",
            "[[11  0  0]\n",
            " [ 0 24  1]\n",
            " [ 0  1 16]]\n",
            "정확도: 0.9623, 정밀도: 0.9671, 재현율: 0.9671, F1: 0.9671\n",
            "오차 행렬\n",
            "[[11  0  0]\n",
            " [ 0 22  3]\n",
            " [ 0  2 15]]\n",
            "정확도: 0.9057, 정밀도: 0.9167, 재현율: 0.9208, F1: 0.9184\n",
            "오차 행렬\n",
            "[[11  0  0]\n",
            " [ 0 24  1]\n",
            " [ 0  0 17]]\n",
            "정확도: 0.9811, 정밀도: 0.9815, 재현율: 0.9867, F1: 0.9837\n",
            "*****변수결합(이름) 한번에*****\n",
            "오차 행렬\n",
            "[[11  0  0]\n",
            " [ 0 21  4]\n",
            " [ 0  2 15]]\n",
            "정확도: 0.8868, 정밀도: 0.9008, 재현율: 0.9075, F1: 0.9028\n",
            "*****변수결합(분포) 하나씩*****\n",
            "오차 행렬\n",
            "[[11  0  0]\n",
            " [ 0 25  0]\n",
            " [ 0  1 16]]\n",
            "정확도: 0.9811, 정밀도: 0.9872, 재현율: 0.9804, F1: 0.9834\n",
            "오차 행렬\n",
            "[[11  0  0]\n",
            " [ 0 24  1]\n",
            " [ 0  1 16]]\n",
            "정확도: 0.9623, 정밀도: 0.9671, 재현율: 0.9671, F1: 0.9671\n",
            "오차 행렬\n",
            "[[11  0  0]\n",
            " [ 0 24  1]\n",
            " [ 0  1 16]]\n",
            "정확도: 0.9623, 정밀도: 0.9671, 재현율: 0.9671, F1: 0.9671\n",
            "*****변수결합(분포) 한번에*****\n",
            "오차 행렬\n",
            "[[11  0  0]\n",
            " [ 0 24  1]\n",
            " [ 0  1 16]]\n",
            "정확도: 0.9623, 정밀도: 0.9671, 재현율: 0.9671, F1: 0.9671\n",
            "*****스모트*****\n",
            "오차 행렬\n",
            "[[26  0  0]\n",
            " [ 0 23  1]\n",
            " [ 0  4 15]]\n",
            "정확도: 0.9275, 정밀도: 0.9298, 재현율: 0.9159, F1: 0.9197\n",
            "*****변수결합(이름) 한번에 + 스모트*****\n",
            "오차 행렬\n",
            "[[26  0  0]\n",
            " [ 0 21  3]\n",
            " [ 0  1 18]]\n",
            "정확도: 0.9420, 정밀도: 0.9372, 재현율: 0.9408, F1: 0.9377\n",
            "*****변수결합(분포) 한번에 + 스모트*****\n",
            "오차 행렬\n",
            "[[26  0  0]\n",
            " [ 0 23  1]\n",
            " [ 0  2 17]]\n",
            "정확도: 0.9565, 정밀도: 0.9548, 재현율: 0.9510, F1: 0.9526\n"
          ]
        }
      ]
    },
    {
      "cell_type": "markdown",
      "source": [
        "###**7-5 Light GBM**"
      ],
      "metadata": {
        "id": "4J6bKWoLYNPv"
      }
    },
    {
      "cell_type": "code",
      "source": [
        "lgbm_clf = LGBMClassifier()\n",
        "print('*****변수결합(이름) 하나씩*****')\n",
        "get_model_train_eval(lgbm_clf, ftr_train=X_train_comb1, ftr_test=X_tr_test_comb1, tgt_train=y_train_comb1, tgt_test=y_tr_test_comb1)\n",
        "get_model_train_eval(lgbm_clf, ftr_train=X_train_comb7, ftr_test=X_tr_test_comb7, tgt_train=y_train_comb7, tgt_test=y_tr_test_comb7)\n",
        "get_model_train_eval(lgbm_clf, ftr_train=X_train_comb8, ftr_test=X_tr_test_comb8, tgt_train=y_train_comb8, tgt_test=y_tr_test_comb8)\n",
        "print('*****변수결합(이름) 한번에*****')\n",
        "get_model_train_eval(lgbm_clf, ftr_train=X_train_comb5, ftr_test=X_tr_test_comb5, tgt_train=y_train_comb5, tgt_test=y_tr_test_comb5)\n",
        "print('*****변수결합(분포) 하나씩*****')\n",
        "get_model_train_eval(lgbm_clf, ftr_train=X_train_comb2, ftr_test=X_tr_test_comb2, tgt_train=y_train_comb2, tgt_test=y_tr_test_comb2)\n",
        "get_model_train_eval(lgbm_clf, ftr_train=X_train_comb3, ftr_test=X_tr_test_comb3, tgt_train=y_train_comb3, tgt_test=y_tr_test_comb3)\n",
        "get_model_train_eval(lgbm_clf, ftr_train=X_train_comb4, ftr_test=X_tr_test_comb4, tgt_train=y_train_comb4, tgt_test=y_tr_test_comb4)\n",
        "print('*****변수결합(분포) 한번에*****')\n",
        "get_model_train_eval(lgbm_clf, ftr_train=X_train_comb6, ftr_test=X_tr_test_comb6, tgt_train=y_train_comb6, tgt_test=y_tr_test_comb6)\n",
        "print('*****스모트*****')\n",
        "get_model_train_eval(lgbm_clf, ftr_train=X_train_s, ftr_test=X_tr_test_s, tgt_train=y_train_s, tgt_test=y_tr_test_s)\n",
        "print('*****변수결합(이름) 한번에 + 스모트*****')\n",
        "get_model_train_eval(lgbm_clf, ftr_train=X_train_comb5_s, ftr_test=X_tr_test_comb5_s, tgt_train=y_train_comb5_s, tgt_test=y_tr_test_comb5_s)\n",
        "print('*****변수결합(분포) 한번에 + 스모트*****')\n",
        "get_model_train_eval(lgbm_clf, ftr_train=X_train_comb6_s, ftr_test=X_tr_test_comb6_s, tgt_train=y_train_comb6_s, tgt_test=y_tr_test_comb6_s)"
      ],
      "metadata": {
        "colab": {
          "base_uri": "https://localhost:8080/"
        },
        "id": "VAliZofTYACm",
        "outputId": "3bb04ebe-bf98-4055-cb92-0626944268d8"
      },
      "execution_count": null,
      "outputs": [
        {
          "output_type": "stream",
          "name": "stdout",
          "text": [
            "*****변수결합(이름) 하나씩*****\n",
            "오차 행렬\n",
            "[[11  0  0]\n",
            " [ 0 24  1]\n",
            " [ 0  2 15]]\n",
            "정확도: 0.9434, 정밀도: 0.9535, 재현율: 0.9475, F1: 0.9501\n",
            "오차 행렬\n",
            "[[11  0  0]\n",
            " [ 0 24  1]\n",
            " [ 0  1 16]]\n",
            "정확도: 0.9623, 정밀도: 0.9671, 재현율: 0.9671, F1: 0.9671\n",
            "오차 행렬\n",
            "[[11  0  0]\n",
            " [ 0 24  1]\n",
            " [ 0  1 16]]\n",
            "정확도: 0.9623, 정밀도: 0.9671, 재현율: 0.9671, F1: 0.9671\n",
            "*****변수결합(이름) 한번에*****\n",
            "오차 행렬\n",
            "[[11  0  0]\n",
            " [ 0 22  3]\n",
            " [ 0  1 16]]\n",
            "정확도: 0.9245, 정밀도: 0.9329, 재현율: 0.9404, F1: 0.9352\n",
            "*****변수결합(분포) 하나씩*****\n",
            "오차 행렬\n",
            "[[11  0  0]\n",
            " [ 0 25  0]\n",
            " [ 0  1 16]]\n",
            "정확도: 0.9811, 정밀도: 0.9872, 재현율: 0.9804, F1: 0.9834\n",
            "오차 행렬\n",
            "[[11  0  0]\n",
            " [ 0 24  1]\n",
            " [ 0  1 16]]\n",
            "정확도: 0.9623, 정밀도: 0.9671, 재현율: 0.9671, F1: 0.9671\n",
            "오차 행렬\n",
            "[[11  0  0]\n",
            " [ 0 24  1]\n",
            " [ 0  1 16]]\n",
            "정확도: 0.9623, 정밀도: 0.9671, 재현율: 0.9671, F1: 0.9671\n",
            "*****변수결합(분포) 한번에*****\n",
            "오차 행렬\n",
            "[[11  0  0]\n",
            " [ 0 25  0]\n",
            " [ 0  1 16]]\n",
            "정확도: 0.9811, 정밀도: 0.9872, 재현율: 0.9804, F1: 0.9834\n",
            "*****스모트*****\n",
            "오차 행렬\n",
            "[[26  0  0]\n",
            " [ 0 23  1]\n",
            " [ 0  3 16]]\n",
            "정확도: 0.9420, 정밀도: 0.9419, 재현율: 0.9335, F1: 0.9363\n",
            "*****변수결합(이름) 한번에 + 스모트*****\n",
            "오차 행렬\n",
            "[[26  0  0]\n",
            " [ 0 22  2]\n",
            " [ 0  1 18]]\n",
            "정확도: 0.9565, 정밀도: 0.9522, 재현율: 0.9547, F1: 0.9531\n",
            "*****변수결합(분포) 한번에 + 스모트*****\n",
            "오차 행렬\n",
            "[[26  0  0]\n",
            " [ 0 24  0]\n",
            " [ 0  1 18]]\n",
            "정확도: 0.9855, 정밀도: 0.9867, 재현율: 0.9825, F1: 0.9842\n"
          ]
        }
      ]
    },
    {
      "cell_type": "code",
      "source": [
        "lgbm_clf1 = LGBMClassifier()\n",
        "parameters = {'max_depth': [4,6,8,10],\n",
        "              'learning_rate': [0.01,0.03,0.1,0.15],\n",
        "              'n_estimators': [100,300,500]\n",
        "}\n",
        "\n",
        "\n",
        "lgbm_grid = GridSearchCV(lgbm_clf1,\n",
        "                        parameters,\n",
        "                        cv = 2,\n",
        "                        n_jobs = -1,\n",
        "                        verbose = True)\n",
        "lgbm_grid.fit(X_train, y_train)\n",
        "\n",
        "print(lgbm_grid.best_score_)\n",
        "print(lgbm_grid.best_params_)"
      ],
      "metadata": {
        "id": "cQnsZjv5sq16"
      },
      "execution_count": null,
      "outputs": []
    },
    {
      "cell_type": "code",
      "source": [
        "lgbm_model = LGBMClassifier(learning_rate=0.03,max_depth=4,n_estimator=500)\n",
        "print('*****변수결합(이름) 하나씩*****')\n",
        "get_model_train_eval(lgbm_clf1, ftr_train=X_train_comb1, ftr_test=X_tr_test_comb1, tgt_train=y_train_comb1, tgt_test=y_tr_test_comb1)\n",
        "get_model_train_eval(lgbm_clf1, ftr_train=X_train_comb7, ftr_test=X_tr_test_comb7, tgt_train=y_train_comb7, tgt_test=y_tr_test_comb7)\n",
        "get_model_train_eval(lgbm_clf1, ftr_train=X_train_comb8, ftr_test=X_tr_test_comb8, tgt_train=y_train_comb8, tgt_test=y_tr_test_comb8)\n",
        "print('*****변수결합(이름) 한번에*****')\n",
        "get_model_train_eval(lgbm_clf1, ftr_train=X_train_comb5, ftr_test=X_tr_test_comb5, tgt_train=y_train_comb5, tgt_test=y_tr_test_comb5)\n",
        "print('*****변수결합(분포) 하나씩*****')\n",
        "get_model_train_eval(lgbm_clf1, ftr_train=X_train_comb2, ftr_test=X_tr_test_comb2, tgt_train=y_train_comb2, tgt_test=y_tr_test_comb2)\n",
        "get_model_train_eval(lgbm_clf1, ftr_train=X_train_comb3, ftr_test=X_tr_test_comb3, tgt_train=y_train_comb3, tgt_test=y_tr_test_comb3)\n",
        "get_model_train_eval(lgbm_clf1, ftr_train=X_train_comb4, ftr_test=X_tr_test_comb4, tgt_train=y_train_comb4, tgt_test=y_tr_test_comb4)\n",
        "print('*****변수결합(분포) 한번에*****')\n",
        "get_model_train_eval(lgbm_clf1, ftr_train=X_train_comb6, ftr_test=X_tr_test_comb6, tgt_train=y_train_comb6, tgt_test=y_tr_test_comb6)\n",
        "print('*****스모트*****')\n",
        "get_model_train_eval(lgbm_clf1, ftr_train=X_train_s, ftr_test=X_tr_test_s, tgt_train=y_train_s, tgt_test=y_tr_test_s)\n",
        "print('*****변수결합(이름) 한번에 + 스모트*****')\n",
        "get_model_train_eval(lgbm_clf1, ftr_train=X_train_comb5_s, ftr_test=X_tr_test_comb5_s, tgt_train=y_train_comb5_s, tgt_test=y_tr_test_comb5_s)\n",
        "print('*****변수결합(분포) 한번에 + 스모트*****')\n",
        "get_model_train_eval(lgbm_clf1, ftr_train=X_train_comb6_s, ftr_test=X_tr_test_comb6_s, tgt_train=y_train_comb6_s, tgt_test=y_tr_test_comb6_s)"
      ],
      "metadata": {
        "colab": {
          "base_uri": "https://localhost:8080/"
        },
        "id": "TY-rDleXsu6H",
        "outputId": "88afb65b-9ebd-432a-9443-95ee0f902fa7"
      },
      "execution_count": null,
      "outputs": [
        {
          "output_type": "stream",
          "name": "stdout",
          "text": [
            "*****변수결합(이름) 하나씩*****\n",
            "오차 행렬\n",
            "[[11  0  0]\n",
            " [ 0 24  1]\n",
            " [ 0  2 15]]\n",
            "정확도: 0.9434, 정밀도: 0.9535, 재현율: 0.9475, F1: 0.9501\n",
            "오차 행렬\n",
            "[[11  0  0]\n",
            " [ 0 24  1]\n",
            " [ 0  1 16]]\n",
            "정확도: 0.9623, 정밀도: 0.9671, 재현율: 0.9671, F1: 0.9671\n",
            "오차 행렬\n",
            "[[11  0  0]\n",
            " [ 0 24  1]\n",
            " [ 0  1 16]]\n",
            "정확도: 0.9623, 정밀도: 0.9671, 재현율: 0.9671, F1: 0.9671\n",
            "*****변수결합(이름) 한번에*****\n",
            "오차 행렬\n",
            "[[11  0  0]\n",
            " [ 0 22  3]\n",
            " [ 0  1 16]]\n",
            "정확도: 0.9245, 정밀도: 0.9329, 재현율: 0.9404, F1: 0.9352\n",
            "*****변수결합(분포) 하나씩*****\n",
            "오차 행렬\n",
            "[[11  0  0]\n",
            " [ 0 25  0]\n",
            " [ 0  1 16]]\n",
            "정확도: 0.9811, 정밀도: 0.9872, 재현율: 0.9804, F1: 0.9834\n",
            "오차 행렬\n",
            "[[11  0  0]\n",
            " [ 0 24  1]\n",
            " [ 0  1 16]]\n",
            "정확도: 0.9623, 정밀도: 0.9671, 재현율: 0.9671, F1: 0.9671\n",
            "오차 행렬\n",
            "[[11  0  0]\n",
            " [ 0 24  1]\n",
            " [ 0  1 16]]\n",
            "정확도: 0.9623, 정밀도: 0.9671, 재현율: 0.9671, F1: 0.9671\n",
            "*****변수결합(분포) 한번에*****\n",
            "오차 행렬\n",
            "[[11  0  0]\n",
            " [ 0 25  0]\n",
            " [ 0  1 16]]\n",
            "정확도: 0.9811, 정밀도: 0.9872, 재현율: 0.9804, F1: 0.9834\n",
            "*****스모트*****\n",
            "오차 행렬\n",
            "[[26  0  0]\n",
            " [ 0 23  1]\n",
            " [ 0  3 16]]\n",
            "정확도: 0.9420, 정밀도: 0.9419, 재현율: 0.9335, F1: 0.9363\n",
            "*****변수결합(이름) 한번에 + 스모트*****\n",
            "오차 행렬\n",
            "[[26  0  0]\n",
            " [ 0 22  2]\n",
            " [ 0  1 18]]\n",
            "정확도: 0.9565, 정밀도: 0.9522, 재현율: 0.9547, F1: 0.9531\n",
            "*****변수결합(분포) 한번에 + 스모트*****\n",
            "오차 행렬\n",
            "[[26  0  0]\n",
            " [ 0 24  0]\n",
            " [ 0  1 18]]\n",
            "정확도: 0.9855, 정밀도: 0.9867, 재현율: 0.9825, F1: 0.9842\n"
          ]
        }
      ]
    },
    {
      "cell_type": "markdown",
      "source": [
        "### **7-6 Logistic Regression**"
      ],
      "metadata": {
        "id": "-rfvdvey0AYi"
      }
    },
    {
      "cell_type": "code",
      "source": [
        "lr_clf = LogisticRegression()\n",
        "print('*****변수결합(이름) 하나씩*****')\n",
        "get_model_train_eval(lr_clf, ftr_train=X_train_comb1, ftr_test=X_tr_test_comb1, tgt_train=y_train_comb1, tgt_test=y_tr_test_comb1)\n",
        "get_model_train_eval(lr_clf, ftr_train=X_train_comb7, ftr_test=X_tr_test_comb7, tgt_train=y_train_comb7, tgt_test=y_tr_test_comb7)\n",
        "get_model_train_eval(lr_clf, ftr_train=X_train_comb8, ftr_test=X_tr_test_comb8, tgt_train=y_train_comb8, tgt_test=y_tr_test_comb8)\n",
        "print('*****변수결합(이름) 한번에*****')\n",
        "get_model_train_eval(lr_clf, ftr_train=X_train_comb5, ftr_test=X_tr_test_comb5, tgt_train=y_train_comb5, tgt_test=y_tr_test_comb5)\n",
        "print('*****변수결합(분포) 하나씩*****')\n",
        "get_model_train_eval(lr_clf, ftr_train=X_train_comb2, ftr_test=X_tr_test_comb2, tgt_train=y_train_comb2, tgt_test=y_tr_test_comb2)\n",
        "get_model_train_eval(lr_clf, ftr_train=X_train_comb3, ftr_test=X_tr_test_comb3, tgt_train=y_train_comb3, tgt_test=y_tr_test_comb3)\n",
        "get_model_train_eval(lr_clf, ftr_train=X_train_comb4, ftr_test=X_tr_test_comb4, tgt_train=y_train_comb4, tgt_test=y_tr_test_comb4)\n",
        "print('*****변수결합(분포) 한번에*****')\n",
        "get_model_train_eval(lr_clf, ftr_train=X_train_comb6, ftr_test=X_tr_test_comb6, tgt_train=y_train_comb6, tgt_test=y_tr_test_comb6)\n",
        "print('*****스모트*****')\n",
        "get_model_train_eval(lr_clf, ftr_train=X_train_s, ftr_test=X_tr_test_s, tgt_train=y_train_s, tgt_test=y_tr_test_s)\n",
        "print('*****변수결합(이름) 한번에 + 스모트*****')\n",
        "get_model_train_eval(lr_clf, ftr_train=X_train_comb5_s, ftr_test=X_tr_test_comb5_s, tgt_train=y_train_comb5_s, tgt_test=y_tr_test_comb5_s)\n",
        "print('*****변수결합(분포) 한번에 + 스모트*****')\n",
        "get_model_train_eval(lr_clf, ftr_train=X_train_comb6_s, ftr_test=X_tr_test_comb6_s, tgt_train=y_train_comb6_s, tgt_test=y_tr_test_comb6_s)"
      ],
      "metadata": {
        "colab": {
          "base_uri": "https://localhost:8080/"
        },
        "id": "5ldoqayx0AEg",
        "outputId": "41968644-7aa0-4741-fd7e-7d369ad8c690"
      },
      "execution_count": null,
      "outputs": [
        {
          "output_type": "stream",
          "name": "stdout",
          "text": [
            "*****변수결합(이름) 하나씩*****\n",
            "오차 행렬\n",
            "[[11  0  0]\n",
            " [ 0 23  2]\n",
            " [ 1  0 16]]\n",
            "정확도: 0.9434, 정밀도: 0.9352, 재현율: 0.9537, F1: 0.9430\n",
            "오차 행렬\n",
            "[[11  0  0]\n",
            " [ 0 24  1]\n",
            " [ 0  1 16]]\n",
            "정확도: 0.9623, 정밀도: 0.9671, 재현율: 0.9671, F1: 0.9671\n",
            "오차 행렬\n",
            "[[11  0  0]\n",
            " [ 0 21  4]\n",
            " [ 0  1 16]]\n",
            "정확도: 0.9057, 정밀도: 0.9182, 재현율: 0.9271, F1: 0.9195\n",
            "*****변수결합(이름) 한번에*****\n",
            "오차 행렬\n",
            "[[11  0  0]\n",
            " [ 1 23  1]\n",
            " [ 1  0 16]]\n",
            "정확도: 0.9434, 정밀도: 0.9291, 재현율: 0.9537, F1: 0.9387\n",
            "*****변수결합(분포) 하나씩*****\n",
            "오차 행렬\n",
            "[[11  0  0]\n",
            " [ 0 24  1]\n",
            " [ 0  2 15]]\n",
            "정확도: 0.9434, 정밀도: 0.9535, 재현율: 0.9475, F1: 0.9501\n",
            "오차 행렬\n",
            "[[11  0  0]\n",
            " [ 0 22  3]\n",
            " [ 1  2 14]]\n",
            "정확도: 0.8868, 정밀도: 0.8856, 재현율: 0.9012, F1: 0.8927\n",
            "오차 행렬\n",
            "[[10  0  1]\n",
            " [ 0 22  3]\n",
            " [ 0  1 16]]\n",
            "정확도: 0.9057, 정밀도: 0.9188, 재현율: 0.9101, F1: 0.9113\n",
            "*****변수결합(분포) 한번에*****\n",
            "오차 행렬\n",
            "[[11  0  0]\n",
            " [ 0 23  2]\n",
            " [ 0  2 15]]\n",
            "정확도: 0.9245, 정밀도: 0.9341, 재현율: 0.9341, F1: 0.9341\n",
            "*****스모트*****\n",
            "오차 행렬\n",
            "[[25  0  1]\n",
            " [ 0 24  0]\n",
            " [ 0  1 18]]\n",
            "정확도: 0.9710, 정밀도: 0.9691, 재현율: 0.9696, F1: 0.9691\n",
            "*****변수결합(이름) 한번에 + 스모트*****\n",
            "오차 행렬\n",
            "[[25  0  1]\n",
            " [ 0 23  1]\n",
            " [ 0  1 18]]\n",
            "정확도: 0.9565, 정밀도: 0.9528, 재현율: 0.9557, F1: 0.9539\n",
            "*****변수결합(분포) 한번에 + 스모트*****\n",
            "오차 행렬\n",
            "[[26  0  0]\n",
            " [ 0 23  1]\n",
            " [ 0  1 18]]\n",
            "정확도: 0.9710, 정밀도: 0.9686, 재현율: 0.9686, F1: 0.9686\n"
          ]
        }
      ]
    },
    {
      "cell_type": "markdown",
      "source": [
        "### **7-7 KNN**"
      ],
      "metadata": {
        "id": "sUXHQvM30bKD"
      }
    },
    {
      "cell_type": "code",
      "source": [
        "knn_clf = KNeighborsClassifier()\n",
        "print('*****변수결합(이름) 하나씩*****')\n",
        "get_model_train_eval(knn_clf, ftr_train=X_train_comb1, ftr_test=X_tr_test_comb1, tgt_train=y_train_comb1, tgt_test=y_tr_test_comb1)\n",
        "get_model_train_eval(knn_clf, ftr_train=X_train_comb7, ftr_test=X_tr_test_comb7, tgt_train=y_train_comb7, tgt_test=y_tr_test_comb7)\n",
        "get_model_train_eval(knn_clf, ftr_train=X_train_comb8, ftr_test=X_tr_test_comb8, tgt_train=y_train_comb8, tgt_test=y_tr_test_comb8)\n",
        "print('*****변수결합(이름) 한번에*****')\n",
        "get_model_train_eval(knn_clf, ftr_train=X_train_comb5, ftr_test=X_tr_test_comb5, tgt_train=y_train_comb5, tgt_test=y_tr_test_comb5)\n",
        "print('*****변수결합(분포) 하나씩*****')\n",
        "get_model_train_eval(knn_clf, ftr_train=X_train_comb2, ftr_test=X_tr_test_comb2, tgt_train=y_train_comb2, tgt_test=y_tr_test_comb2)\n",
        "get_model_train_eval(knn_clf, ftr_train=X_train_comb3, ftr_test=X_tr_test_comb3, tgt_train=y_train_comb3, tgt_test=y_tr_test_comb3)\n",
        "get_model_train_eval(knn_clf, ftr_train=X_train_comb4, ftr_test=X_tr_test_comb4, tgt_train=y_train_comb4, tgt_test=y_tr_test_comb4)\n",
        "print('*****변수결합(분포) 한번에*****')\n",
        "get_model_train_eval(knn_clf, ftr_train=X_train_comb6, ftr_test=X_tr_test_comb6, tgt_train=y_train_comb6, tgt_test=y_tr_test_comb6)\n",
        "print('*****스모트*****')\n",
        "get_model_train_eval(knn_clf, ftr_train=X_train_s, ftr_test=X_tr_test_s, tgt_train=y_train_s, tgt_test=y_tr_test_s)\n",
        "print('*****변수결합(이름) 한번에 + 스모트*****')\n",
        "get_model_train_eval(knn_clf, ftr_train=X_train_comb5_s, ftr_test=X_tr_test_comb5_s, tgt_train=y_train_comb5_s, tgt_test=y_tr_test_comb5_s)\n",
        "print('*****변수결합(분포) 한번에 + 스모트*****')\n",
        "get_model_train_eval(knn_clf, ftr_train=X_train_comb6_s, ftr_test=X_tr_test_comb6_s, tgt_train=y_train_comb6_s, tgt_test=y_tr_test_comb6_s)"
      ],
      "metadata": {
        "colab": {
          "base_uri": "https://localhost:8080/"
        },
        "id": "NqsiyBIg0mMt",
        "outputId": "177f7bf1-09fd-48d1-d63d-b364f76c3b2c"
      },
      "execution_count": null,
      "outputs": [
        {
          "output_type": "stream",
          "name": "stdout",
          "text": [
            "*****변수결합(이름) 하나씩*****\n",
            "오차 행렬\n",
            "[[11  0  0]\n",
            " [ 0 23  2]\n",
            " [ 0  1 16]]\n",
            "정확도: 0.9434, 정밀도: 0.9491, 재현율: 0.9537, F1: 0.9510\n",
            "오차 행렬\n",
            "[[11  0  0]\n",
            " [ 0 24  1]\n",
            " [ 0  2 15]]\n",
            "정확도: 0.9434, 정밀도: 0.9535, 재현율: 0.9475, F1: 0.9501\n",
            "오차 행렬\n",
            "[[11  0  0]\n",
            " [ 0 25  0]\n",
            " [ 0  1 16]]\n",
            "정확도: 0.9811, 정밀도: 0.9872, 재현율: 0.9804, F1: 0.9834\n",
            "*****변수결합(이름) 한번에*****\n",
            "오차 행렬\n",
            "[[11  0  0]\n",
            " [ 0 22  3]\n",
            " [ 2  1 14]]\n",
            "정확도: 0.8868, 정밀도: 0.8754, 재현율: 0.9012, F1: 0.8856\n",
            "*****변수결합(분포) 하나씩*****\n",
            "오차 행렬\n",
            "[[11  0  0]\n",
            " [ 0 24  1]\n",
            " [ 0  3 14]]\n",
            "정확도: 0.9245, 정밀도: 0.9407, 재현율: 0.9278, F1: 0.9327\n",
            "오차 행렬\n",
            "[[11  0  0]\n",
            " [ 0 25  0]\n",
            " [ 0  3 14]]\n",
            "정확도: 0.9434, 정밀도: 0.9643, 재현율: 0.9412, F1: 0.9489\n",
            "오차 행렬\n",
            "[[11  0  0]\n",
            " [ 0 22  3]\n",
            " [ 0  1 16]]\n",
            "정확도: 0.9245, 정밀도: 0.9329, 재현율: 0.9404, F1: 0.9352\n",
            "*****변수결합(분포) 한번에*****\n",
            "오차 행렬\n",
            "[[11  0  0]\n",
            " [ 0 25  0]\n",
            " [ 0  1 16]]\n",
            "정확도: 0.9811, 정밀도: 0.9872, 재현율: 0.9804, F1: 0.9834\n",
            "*****스모트*****\n",
            "오차 행렬\n",
            "[[26  0  0]\n",
            " [ 0 24  0]\n",
            " [ 0  2 17]]\n",
            "정확도: 0.9710, 정밀도: 0.9744, 재현율: 0.9649, F1: 0.9681\n",
            "*****변수결합(이름) 한번에 + 스모트*****\n",
            "오차 행렬\n",
            "[[26  0  0]\n",
            " [ 0 21  3]\n",
            " [ 0  1 18]]\n",
            "정확도: 0.9420, 정밀도: 0.9372, 재현율: 0.9408, F1: 0.9377\n",
            "*****변수결합(분포) 한번에 + 스모트*****\n",
            "오차 행렬\n",
            "[[26  0  0]\n",
            " [ 0 22  2]\n",
            " [ 0  3 16]]\n",
            "정확도: 0.9275, 정밀도: 0.9230, 재현율: 0.9196, F1: 0.9209\n"
          ]
        }
      ]
    },
    {
      "cell_type": "code",
      "source": [
        "parameters = {\n",
        "    'n_neighbors' : list(range(1,20)),\n",
        "    'weights' : [\"uniform\", \"distance\"],\n",
        "    'metric' : ['euclidean', 'manhattan', 'minkowski']\n",
        "}\n",
        "knn_clf1 = KNeighborsClassifier()\n",
        "knn_grid = GridSearchCV(knn_clf1,\n",
        "                        parameters,\n",
        "                        cv = 2,\n",
        "                        n_jobs = -1,\n",
        "                        verbose = True)\n",
        "knn_grid.fit(X_train, y_train)\n",
        "\n",
        "print(knn_grid.best_score_)\n",
        "print(knn_grid.best_params_)"
      ],
      "metadata": {
        "colab": {
          "base_uri": "https://localhost:8080/"
        },
        "id": "xo9QbXUi1ABo",
        "outputId": "7e46c985-4412-474c-c7bf-301d40e5bf31"
      },
      "execution_count": null,
      "outputs": [
        {
          "output_type": "stream",
          "name": "stdout",
          "text": [
            "Fitting 2 folds for each of 114 candidates, totalling 228 fits\n",
            "0.8899267399267399\n",
            "{'metric': 'manhattan', 'n_neighbors': 7, 'weights': 'uniform'}\n"
          ]
        }
      ]
    },
    {
      "cell_type": "code",
      "source": [
        "knn_model = KNeighborsClassifier(metric='manhattan', n_neighbors=7, weights='uniform')\n",
        "print('*****변수결합(이름) 하나씩*****')\n",
        "get_model_train_eval(knn_model, ftr_train=X_train_comb1, ftr_test=X_tr_test_comb1, tgt_train=y_train_comb1, tgt_test=y_tr_test_comb1)\n",
        "get_model_train_eval(knn_model, ftr_train=X_train_comb7, ftr_test=X_tr_test_comb7, tgt_train=y_train_comb7, tgt_test=y_tr_test_comb7)\n",
        "get_model_train_eval(knn_model, ftr_train=X_train_comb8, ftr_test=X_tr_test_comb8, tgt_train=y_train_comb8, tgt_test=y_tr_test_comb8)\n",
        "print('*****변수결합(이름) 한번에*****')\n",
        "get_model_train_eval(knn_model, ftr_train=X_train_comb5, ftr_test=X_tr_test_comb5, tgt_train=y_train_comb5, tgt_test=y_tr_test_comb5)\n",
        "print('*****변수결합(분포) 하나씩*****')\n",
        "get_model_train_eval(knn_model, ftr_train=X_train_comb2, ftr_test=X_tr_test_comb2, tgt_train=y_train_comb2, tgt_test=y_tr_test_comb2)\n",
        "get_model_train_eval(knn_model, ftr_train=X_train_comb3, ftr_test=X_tr_test_comb3, tgt_train=y_train_comb3, tgt_test=y_tr_test_comb3)\n",
        "get_model_train_eval(knn_model, ftr_train=X_train_comb4, ftr_test=X_tr_test_comb4, tgt_train=y_train_comb4, tgt_test=y_tr_test_comb4)\n",
        "print('*****변수결합(분포) 한번에*****')\n",
        "get_model_train_eval(knn_model, ftr_train=X_train_comb6, ftr_test=X_tr_test_comb6, tgt_train=y_train_comb6, tgt_test=y_tr_test_comb6)\n",
        "print('*****스모트*****')\n",
        "get_model_train_eval(knn_model, ftr_train=X_train_s, ftr_test=X_tr_test_s, tgt_train=y_train_s, tgt_test=y_tr_test_s)\n",
        "print('*****변수결합(이름) 한번에 + 스모트*****')\n",
        "get_model_train_eval(knn_model, ftr_train=X_train_comb5_s, ftr_test=X_tr_test_comb5_s, tgt_train=y_train_comb5_s, tgt_test=y_tr_test_comb5_s)\n",
        "print('*****변수결합(분포) 한번에 + 스모트*****')\n",
        "get_model_train_eval(knn_model, ftr_train=X_train_comb6_s, ftr_test=X_tr_test_comb6_s, tgt_train=y_train_comb6_s, tgt_test=y_tr_test_comb6_s)"
      ],
      "metadata": {
        "colab": {
          "base_uri": "https://localhost:8080/"
        },
        "id": "G9bFLSv00_2E",
        "outputId": "8ce47877-0a6f-4914-9959-c27ab8cdcf26"
      },
      "execution_count": null,
      "outputs": [
        {
          "output_type": "stream",
          "name": "stdout",
          "text": [
            "*****변수결합(이름) 하나씩*****\n",
            "오차 행렬\n",
            "[[11  0  0]\n",
            " [ 0 24  1]\n",
            " [ 0  2 15]]\n",
            "정확도: 0.9434, 정밀도: 0.9535, 재현율: 0.9475, F1: 0.9501\n",
            "오차 행렬\n",
            "[[11  0  0]\n",
            " [ 0 24  1]\n",
            " [ 1  2 14]]\n",
            "정확도: 0.9245, 정밀도: 0.9244, 재현율: 0.9278, F1: 0.9242\n",
            "오차 행렬\n",
            "[[11  0  0]\n",
            " [ 0 25  0]\n",
            " [ 0  1 16]]\n",
            "정확도: 0.9811, 정밀도: 0.9872, 재현율: 0.9804, F1: 0.9834\n",
            "*****변수결합(이름) 한번에*****\n",
            "오차 행렬\n",
            "[[11  0  0]\n",
            " [ 0 22  3]\n",
            " [ 1  3 13]]\n",
            "정확도: 0.8679, 정밀도: 0.8697, 재현율: 0.8816, F1: 0.8748\n",
            "*****변수결합(분포) 하나씩*****\n",
            "오차 행렬\n",
            "[[11  0  0]\n",
            " [ 0 25  0]\n",
            " [ 0  2 15]]\n",
            "정확도: 0.9623, 정밀도: 0.9753, 재현율: 0.9608, F1: 0.9663\n",
            "오차 행렬\n",
            "[[11  0  0]\n",
            " [ 0 25  0]\n",
            " [ 0  3 14]]\n",
            "정확도: 0.9434, 정밀도: 0.9643, 재현율: 0.9412, F1: 0.9489\n",
            "오차 행렬\n",
            "[[11  0  0]\n",
            " [ 0 23  2]\n",
            " [ 0  2 15]]\n",
            "정확도: 0.9245, 정밀도: 0.9341, 재현율: 0.9341, F1: 0.9341\n",
            "*****변수결합(분포) 한번에*****\n",
            "오차 행렬\n",
            "[[11  0  0]\n",
            " [ 0 25  0]\n",
            " [ 0  2 15]]\n",
            "정확도: 0.9623, 정밀도: 0.9753, 재현율: 0.9608, F1: 0.9663\n",
            "*****스모트*****\n",
            "오차 행렬\n",
            "[[26  0  0]\n",
            " [ 0 23  1]\n",
            " [ 0  2 17]]\n",
            "정확도: 0.9565, 정밀도: 0.9548, 재현율: 0.9510, F1: 0.9526\n",
            "*****변수결합(이름) 한번에 + 스모트*****\n",
            "오차 행렬\n",
            "[[26  0  0]\n",
            " [ 0 22  2]\n",
            " [ 0  1 18]]\n",
            "정확도: 0.9565, 정밀도: 0.9522, 재현율: 0.9547, F1: 0.9531\n",
            "*****변수결합(분포) 한번에 + 스모트*****\n",
            "오차 행렬\n",
            "[[26  0  0]\n",
            " [ 0 23  1]\n",
            " [ 0  3 16]]\n",
            "정확도: 0.9420, 정밀도: 0.9419, 재현율: 0.9335, F1: 0.9363\n"
          ]
        }
      ]
    },
    {
      "cell_type": "markdown",
      "source": [
        "### **7-8 Extra Trees Classifier**"
      ],
      "metadata": {
        "id": "jWaG_LL80d8H"
      }
    },
    {
      "cell_type": "code",
      "source": [
        "extra_clf=ExtraTreesClassifier()\n",
        "print('*****변수결합(이름) 하나씩*****')\n",
        "get_model_train_eval(extra_clf, ftr_train=X_train_comb1, ftr_test=X_tr_test_comb1, tgt_train=y_train_comb1, tgt_test=y_tr_test_comb1)\n",
        "get_model_train_eval(extra_clf, ftr_train=X_train_comb7, ftr_test=X_tr_test_comb7, tgt_train=y_train_comb7, tgt_test=y_tr_test_comb7)\n",
        "get_model_train_eval(extra_clf, ftr_train=X_train_comb8, ftr_test=X_tr_test_comb8, tgt_train=y_train_comb8, tgt_test=y_tr_test_comb8)\n",
        "print('*****변수결합(이름) 한번에*****')\n",
        "get_model_train_eval(extra_clf, ftr_train=X_train_comb5, ftr_test=X_tr_test_comb5, tgt_train=y_train_comb5, tgt_test=y_tr_test_comb5)\n",
        "print('*****변수결합(분포) 하나씩*****')\n",
        "get_model_train_eval(extra_clf, ftr_train=X_train_comb2, ftr_test=X_tr_test_comb2, tgt_train=y_train_comb2, tgt_test=y_tr_test_comb2)\n",
        "get_model_train_eval(extra_clf, ftr_train=X_train_comb3, ftr_test=X_tr_test_comb3, tgt_train=y_train_comb3, tgt_test=y_tr_test_comb3)\n",
        "get_model_train_eval(extra_clf, ftr_train=X_train_comb4, ftr_test=X_tr_test_comb4, tgt_train=y_train_comb4, tgt_test=y_tr_test_comb4)\n",
        "print('*****변수결합(분포) 한번에*****')\n",
        "get_model_train_eval(extra_clf, ftr_train=X_train_comb6, ftr_test=X_tr_test_comb6, tgt_train=y_train_comb6, tgt_test=y_tr_test_comb6)\n",
        "print('*****스모트*****')\n",
        "get_model_train_eval(extra_clf, ftr_train=X_train_s, ftr_test=X_tr_test_s, tgt_train=y_train_s, tgt_test=y_tr_test_s)\n",
        "print('*****변수결합(이름) 한번에 + 스모트*****')\n",
        "get_model_train_eval(extra_clf, ftr_train=X_train_comb5_s, ftr_test=X_tr_test_comb5_s, tgt_train=y_train_comb5_s, tgt_test=y_tr_test_comb5_s)\n",
        "print('*****변수결합(분포) 한번에 + 스모트*****')\n",
        "get_model_train_eval(extra_clf, ftr_train=X_train_comb6_s, ftr_test=X_tr_test_comb6_s, tgt_train=y_train_comb6_s, tgt_test=y_tr_test_comb6_s)"
      ],
      "metadata": {
        "colab": {
          "base_uri": "https://localhost:8080/"
        },
        "id": "1nSYJVTf0n1j",
        "outputId": "6d448e18-c099-46aa-a0ca-4c5e554586cb"
      },
      "execution_count": null,
      "outputs": [
        {
          "output_type": "stream",
          "name": "stdout",
          "text": [
            "*****변수결합(이름) 하나씩*****\n",
            "오차 행렬\n",
            "[[11  0  0]\n",
            " [ 0 24  1]\n",
            " [ 0  2 15]]\n",
            "정확도: 0.9434, 정밀도: 0.9535, 재현율: 0.9475, F1: 0.9501\n",
            "오차 행렬\n",
            "[[11  0  0]\n",
            " [ 0 25  0]\n",
            " [ 0  1 16]]\n",
            "정확도: 0.9811, 정밀도: 0.9872, 재현율: 0.9804, F1: 0.9834\n",
            "오차 행렬\n",
            "[[11  0  0]\n",
            " [ 0 24  1]\n",
            " [ 0  0 17]]\n",
            "정확도: 0.9811, 정밀도: 0.9815, 재현율: 0.9867, F1: 0.9837\n",
            "*****변수결합(이름) 한번에*****\n",
            "오차 행렬\n",
            "[[11  0  0]\n",
            " [ 0 22  3]\n",
            " [ 0  0 17]]\n",
            "정확도: 0.9434, 정밀도: 0.9500, 재현율: 0.9600, F1: 0.9517\n",
            "*****변수결합(분포) 하나씩*****\n",
            "오차 행렬\n",
            "[[11  0  0]\n",
            " [ 0 24  1]\n",
            " [ 0  1 16]]\n",
            "정확도: 0.9623, 정밀도: 0.9671, 재현율: 0.9671, F1: 0.9671\n",
            "오차 행렬\n",
            "[[11  0  0]\n",
            " [ 0 25  0]\n",
            " [ 0  2 15]]\n",
            "정확도: 0.9623, 정밀도: 0.9753, 재현율: 0.9608, F1: 0.9663\n",
            "오차 행렬\n",
            "[[11  0  0]\n",
            " [ 0 24  1]\n",
            " [ 0  1 16]]\n",
            "정확도: 0.9623, 정밀도: 0.9671, 재현율: 0.9671, F1: 0.9671\n",
            "*****변수결합(분포) 한번에*****\n",
            "오차 행렬\n",
            "[[11  0  0]\n",
            " [ 0 25  0]\n",
            " [ 0  2 15]]\n",
            "정확도: 0.9623, 정밀도: 0.9753, 재현율: 0.9608, F1: 0.9663\n",
            "*****스모트*****\n",
            "오차 행렬\n",
            "[[26  0  0]\n",
            " [ 0 24  0]\n",
            " [ 0  2 17]]\n",
            "정확도: 0.9710, 정밀도: 0.9744, 재현율: 0.9649, F1: 0.9681\n",
            "*****변수결합(이름) 한번에 + 스모트*****\n",
            "오차 행렬\n",
            "[[26  0  0]\n",
            " [ 0 21  3]\n",
            " [ 0  1 18]]\n",
            "정확도: 0.9420, 정밀도: 0.9372, 재현율: 0.9408, F1: 0.9377\n",
            "*****변수결합(분포) 한번에 + 스모트*****\n",
            "오차 행렬\n",
            "[[26  0  0]\n",
            " [ 0 23  1]\n",
            " [ 0  3 16]]\n",
            "정확도: 0.9420, 정밀도: 0.9419, 재현율: 0.9335, F1: 0.9363\n"
          ]
        }
      ]
    },
    {
      "cell_type": "markdown",
      "source": [
        "##**8. 제출**"
      ],
      "metadata": {
        "id": "ejVqPg8VNiOi"
      }
    },
    {
      "cell_type": "code",
      "source": [
        "# 개별 모델을 소프트 보팅 기반의 앙상블 모델로 구현한 분류기 \n",
        "from sklearn.ensemble import VotingClassifier\n",
        "# 모든 모델 한꺼번에\n",
        "vo_clf = VotingClassifier(estimators=[('dt',dt_clf),('RF',rf_clf),('XGB',xgb_clf),('GBM',gbm_clf),\n",
        "                                      ('LGBM',lgbm_clf),('LR',lr_clf),('KNN',knn_clf),('ETC',extra_clf)] , voting='soft')\n",
        "get_model_train_eval(vo_clf, ftr_train=X_train, ftr_test=X_tr_test, tgt_train=y_train, tgt_test=y_tr_test)\n",
        "\n",
        "# 개별 모델의 학습/예측/평가\n",
        "classifiers = [dt_clf,rf_clf,xgb_clf,gbm_clf,lgbm_clf,lr_clf,knn_clf,extra_clf]\n",
        "for classifier in classifiers:\n",
        "    classifier.fit(X_train, y_train)\n",
        "    pred = classifier.predict(X_tr_test)\n",
        "    class_name= classifier.__class__.__name__\n",
        "    print('{0} 정확도: {1:.4f}'.format(class_name, f1_score(y_tr_test, pred, average='macro')))"
      ],
      "metadata": {
        "id": "YHCJ3CGdNti9",
        "outputId": "7325c5e4-f014-4019-8e89-b2ea2ae4b237",
        "colab": {
          "base_uri": "https://localhost:8080/"
        }
      },
      "execution_count": null,
      "outputs": [
        {
          "output_type": "stream",
          "name": "stdout",
          "text": [
            "오차 행렬\n",
            "[[11  0  0]\n",
            " [ 0 25  0]\n",
            " [ 0  1 16]]\n",
            "정확도: 0.9811, 정밀도: 0.9872, 재현율: 0.9804, F1: 0.9834\n",
            "DecisionTreeClassifier 정확도: 0.8873\n",
            "RandomForestClassifier 정확도: 0.9834\n",
            "XGBClassifier 정확도: 0.9834\n",
            "GradientBoostingClassifier 정확도: 0.9834\n",
            "LGBMClassifier 정확도: 0.9834\n",
            "LogisticRegression 정확도: 0.9267\n",
            "KNeighborsClassifier 정확도: 0.9501\n",
            "ExtraTreesClassifier 정확도: 0.9671\n"
          ]
        }
      ]
    },
    {
      "cell_type": "code",
      "source": [
        "vo_preds = vo_clf.predict(test_x)\n",
        "# submit = pd.read_csv('/content/drive/MyDrive/ESAA/방학/DATA/sample_submission.csv')\n",
        "# submit['class'] = class_le.inverse_transform(vo_preds)\n",
        "# submit.to_csv('/content/drive/MyDrive/ESAA/방학/DATA/submit_voting.csv', index=False)"
      ],
      "metadata": {
        "id": "YYEm7td22A9a"
      },
      "execution_count": null,
      "outputs": []
    },
    {
      "cell_type": "code",
      "source": [
        "# 가장 성능이 높았던 조합 : 변수결합(분포) 한번에 + 스모트\n",
        "# 가장 성능이 높았던 모델 : rf, lgbm\n",
        "# 소포트보팅에 적용\n",
        "\n",
        "vo_clf1 = VotingClassifier(estimators=[('RF',rf_clf), ('LGBM',lgbm_clf)], voting='soft')\n",
        "get_model_train_eval(vo_clf, ftr_train=X_train_comb6_s, ftr_test=X_tr_test_comb6_s, tgt_train=y_train_comb6_s, tgt_test=y_tr_test_comb6_s)"
      ],
      "metadata": {
        "id": "vdGLo2nI92Jk",
        "outputId": "44565c35-1651-46a9-ac8e-23d4c1cc216a",
        "colab": {
          "base_uri": "https://localhost:8080/"
        }
      },
      "execution_count": null,
      "outputs": [
        {
          "output_type": "stream",
          "name": "stdout",
          "text": [
            "오차 행렬\n",
            "[[26  0  0]\n",
            " [ 0 24  0]\n",
            " [ 0  1 18]]\n",
            "정확도: 0.9855, 정밀도: 0.9867, 재현율: 0.9825, F1: 0.9842\n"
          ]
        }
      ]
    },
    {
      "cell_type": "code",
      "source": [
        "vo_clf1.fit(X_train_comb6_s, y_train_comb6_s)\n",
        "vo_pred_comb6_s = vo_clf1.predict(test_x_comb6)\n",
        "submit['class'] = class_le.inverse_transform(vo_pred_comb6_s)\n",
        "submit.to_csv('/content/drive/MyDrive/ESAA/방학플젝1/submit_vo_pred_comb6_s.csv', index=False)"
      ],
      "metadata": {
        "id": "yNcU6U_8_KpH"
      },
      "execution_count": null,
      "outputs": []
    },
    {
      "cell_type": "code",
      "source": [
        "rf_clf=RandomForestClassifier()\n",
        "rf_clf.fit(X_train_comb6_s,y_train_comb6_s)\n",
        "rf_preds_comb6_s=rf_clf.predict(test_x_comb6)\n",
        "submit['class'] = class_le.inverse_transform(rf_preds_comb6_s)\n",
        "submit.to_csv('/content/drive/MyDrive/ESAA/방학플젝1/submit_rf_preds_comb6_s.csv', index=False)"
      ],
      "metadata": {
        "id": "ONuwpjTm1dmT"
      },
      "execution_count": null,
      "outputs": []
    }
  ]
}