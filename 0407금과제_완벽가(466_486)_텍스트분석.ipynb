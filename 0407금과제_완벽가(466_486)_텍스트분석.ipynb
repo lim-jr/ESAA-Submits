{
  "nbformat": 4,
  "nbformat_minor": 0,
  "metadata": {
    "colab": {
      "provenance": [],
      "authorship_tag": "ABX9TyOpPvslWmsE6tzOWLtTal1e",
      "include_colab_link": true
    },
    "kernelspec": {
      "name": "python3",
      "display_name": "Python 3"
    },
    "language_info": {
      "name": "python"
    }
  },
  "cells": [
    {
      "cell_type": "markdown",
      "metadata": {
        "id": "view-in-github",
        "colab_type": "text"
      },
      "source": [
        "<a href=\"https://colab.research.google.com/github/lim-jr/ESAA/blob/main/0407%EA%B8%88%EA%B3%BC%EC%A0%9C_%EC%99%84%EB%B2%BD%EA%B0%80(466_486)_%ED%85%8D%EC%8A%A4%ED%8A%B8%EB%B6%84%EC%84%9D.ipynb\" target=\"_parent\"><img src=\"https://colab.research.google.com/assets/colab-badge.svg\" alt=\"Open In Colab\"/></a>"
      ]
    },
    {
      "cell_type": "markdown",
      "source": [
        "# ch8. 텍스트분석"
      ],
      "metadata": {
        "id": "gzkScevUCI9k"
      }
    },
    {
      "cell_type": "markdown",
      "source": [
        "* NLP \n",
        "  * 머신이 인간의 언어를 이하해고 해석하는데 중점\n",
        "  * 기계번역, 질의응답 시스템\n",
        "  * 텍스트 분석의 기반 기술\n",
        "\n",
        "* 텍스트 분석 (텍스트마이닝)\n",
        "  * 비정형 텍스트에서 의미있는 정보를 추출하는데 중점\n",
        "  * 머신러닝, 언어이해, 통계 등을 활용해 모델을 수립하고 정보를 추출해 BI(비즈니스 인텔리전스)나 예측 분석 등의 작업을 수행\n",
        "  1. 텍스트 분류 : 문서가 특정분류 또는 카테고리에 속하는 것을 예측하는 기법. 특정 신문기사 내용이 연애/정치/사회/문화 중 어떤 카테고리에 속하는지지\n",
        "  2. 감성 분석 : 텍스트에 나타나는 감정/판단/믿음/의견/기분 등의 주관적 요소를 분석하는 기법. 소셜미디어 감정분석, 리뷰, 여론조사 분석\n",
        "  3. 텍스트 요약 : 텍스트 내에서 중요한 주제나 중심사상을 추출하는 기법. 토픽 모델링\n",
        "  4. 텍스트 군집화와 유사도 측정 : 비슷한 유형의 문서에 대해 군집화를 수행하는 기법. 텍스트 분류를 비지도학습으로 수행하는 방법. \n",
        "\n"
      ],
      "metadata": {
        "id": "i4PNGIMDCJAZ"
      }
    },
    {
      "cell_type": "markdown",
      "source": [
        "## 8.1 텍스트 분석 이해"
      ],
      "metadata": {
        "id": "ZHLPZ0WICJDP"
      }
    },
    {
      "cell_type": "markdown",
      "source": [
        "* 텍스트 분석은 비정형 데이터인 텍스트를 분석\n",
        "* 텍스트를 머신러닝에 적용하기 위해서는   \n",
        "  비정형 텍스트 데이터를 어떻게 피처 형태로 추출하고 추출된 피처에 의미 있는 값을 부여하는가 하는 것이 중요한 요소\n",
        "* 피처 벡터화/ 피처 추출 : word 기반의 다수의 피처로 추출하고, 이 피처에 단어 빈도수와 같은 숫자 값을 부여하면 벡터값으로 표현됨\n"
      ],
      "metadata": {
        "id": "uiy_uVLoCJGw"
      }
    },
    {
      "cell_type": "markdown",
      "source": [
        "### 8.1.1 텍스트 분석 수행 프로세스\n",
        "  1. 텍스트 전처리 : 텍스트를 피처로 만들기 전에   \n",
        "  대/소문자 변경, 특수문자 삭제 등의 클렌징 작업, 단어 등의 토큰화 작업, 의미없는 단어 제거 작업, 어근 추출 등의 텍스트 정규화 작업을 수행하는 것을 통찰\n",
        "2. 피처 벡터화/추출 : 사전준비 작업으로 가공된 텍스트에서, 피처를 추출하고 여기에 벡터 값을 할당. Bow, Word2Vec\n",
        "3. ML 모델 수립 및 학습/예측/평가 : 피처 벡터화된 데이터 세트에 ML모델을 적용해 학습/예측/평가를 수행행"
      ],
      "metadata": {
        "id": "xgFEycMyK6k8"
      }
    },
    {
      "cell_type": "markdown",
      "source": [
        "### 8.1.2 파이썬 기반의 NLP, 텍스트 분석 패키지\n",
        "  * 영어 기반의 라이브러리가 대부분\n",
        "  * NLTK\n",
        "  * Gensim\n",
        "  * SpaCy\n"
      ],
      "metadata": {
        "id": "iU-j9HT1Lqri"
      }
    },
    {
      "cell_type": "markdown",
      "source": [
        "## 8.2 텍스트 전처리 -텍스트 정규화\n",
        "* 클렌징   \n",
        "  : 텍스트에는 분석에 오히려 방해가 되는 불필요한 문자, 기호 등을 사전에 제거하는 작업.   \n",
        "  예를 들어 HTML, XML 태그나 특정 기호 제거\n",
        "* 텍스트 토큰화   \n",
        "  : 1문서에서 문장을 분리하는 문장 토큰화와     \n",
        "  2단어를 토큰으로 분리하는 단어 토큰화.    \n",
        "  NLTK가 대표적 패키지"
      ],
      "metadata": {
        "id": "lpAltbp_MCKr"
      }
    },
    {
      "cell_type": "markdown",
      "source": [
        "### 8.2.1 텍스트 토큰화"
      ],
      "metadata": {
        "id": "QKs5ovylW3S9"
      }
    },
    {
      "cell_type": "markdown",
      "source": [
        "**문장 토큰화**\n",
        "* 문장의 마침표, 개행문자(\\n) 등 문장의 마지막을 뜻하는 기호에 따라 분리하는 것이 일반적\n",
        "* 각 문장이 가지는 시맨틱적인 의미가 중요한 요소로 사용될 때 문장토큰화 사용"
      ],
      "metadata": {
        "id": "aoG2cXmKM56O"
      }
    },
    {
      "cell_type": "code",
      "source": [
        "from nltk import sent_tokenize\n",
        "import nltk\n",
        "nltk.download('punkt')\n",
        "\n",
        "text_sample = 'The Matrix is every'\n",
        "\n",
        "text_sample='The Matrix is everywhere its all around us, here even in this room. \\nYou can see it out your window or on your television. \\nYou feel it when you go to work, or go to church or pay your taxes.'\n",
        "sentences = sent_tokenize(text=text_sample)\n",
        "\n",
        "print(type(sentences), len(sentences))\n",
        "print(sentences)\n",
        "\n",
        "## 리스트 타입"
      ],
      "metadata": {
        "colab": {
          "base_uri": "https://localhost:8080/"
        },
        "id": "E9At866iM0vo",
        "outputId": "ec000aad-220b-42ec-a62e-adc2c0465234"
      },
      "execution_count": 3,
      "outputs": [
        {
          "output_type": "stream",
          "name": "stdout",
          "text": [
            "<class 'list'> 3\n",
            "['The Matrix is everywhere its all around us, here even in this room.', 'You can see it out your window or on your television.', 'You feel it when you go to work, or go to church or pay your taxes.']\n"
          ]
        },
        {
          "output_type": "stream",
          "name": "stderr",
          "text": [
            "[nltk_data] Downloading package punkt to /root/nltk_data...\n",
            "[nltk_data]   Package punkt is already up-to-date!\n"
          ]
        }
      ]
    },
    {
      "cell_type": "markdown",
      "source": [
        "**단어 토큰화**\n",
        "* 공백, 콤마, 마침표, 개행문자 등으로 단어를 분리하지만 \n",
        "* 정규 표현식을 이용해 다양한 유형으로 토큰화를 수행\n",
        "* 단어의 순서가 중요하지 않은 경우 단어 토큰화만 사용 "
      ],
      "metadata": {
        "id": "4HcS2WdDM7eq"
      }
    },
    {
      "cell_type": "code",
      "source": [
        "from nltk import word_tokenize\n",
        "\n",
        "sentence = \"The matrix is everywhere its all around us, here even in this room.\"\n",
        "words = word_tokenize(sentence)\n",
        "print(type(words), len(words))\n",
        "print(words)\n",
        "\n",
        "## 리스트 타입\n",
        "## 마침표(.)도 단어에 포함"
      ],
      "metadata": {
        "colab": {
          "base_uri": "https://localhost:8080/"
        },
        "id": "nFRqsETjM0yo",
        "outputId": "3ff668c6-fac6-4fa4-d2a5-4a4fdd055dab"
      },
      "execution_count": 4,
      "outputs": [
        {
          "output_type": "stream",
          "name": "stdout",
          "text": [
            "<class 'list'> 15\n",
            "['The', 'matrix', 'is', 'everywhere', 'its', 'all', 'around', 'us', ',', 'here', 'even', 'in', 'this', 'room', '.']\n"
          ]
        }
      ]
    },
    {
      "cell_type": "markdown",
      "source": [
        "모든 단어를 토큰화   \n",
        "문장 나누기 -> 개별 문장을 다시 단어로 토큰화"
      ],
      "metadata": {
        "id": "eECiKMxXUQJs"
      }
    },
    {
      "cell_type": "code",
      "source": [
        "from nltk import word_tokenize, sent_tokenize\n",
        "\n",
        "# 여러 개의 문장으로 된 입력 데이터를 문장별로 단어 토큰화하게 만드는 함수 생성\n",
        "def tokenize_text(text):\n",
        "  # 문장을 분리\n",
        "  sentences = sent_tokenize(text)\n",
        "  # 분리된 문장별 단어 토큰화\n",
        "  word_tokens = [word_tokenize(sentence) for sentence in sentences]\n",
        "  return word_tokens\n",
        "\n",
        "# 여러 문장에 대해 문장별 단어 \n",
        "word_tokens = tokenize_text(text_sample)\n",
        "\n",
        "print(type(word_tokens), len(word_tokens))\n",
        "print(word_tokens)\n",
        "\n",
        "## 리스트 안에 3개의 리스트 "
      ],
      "metadata": {
        "colab": {
          "base_uri": "https://localhost:8080/"
        },
        "id": "SvcFyFe8M02K",
        "outputId": "3669a6c6-67cf-4c40-a54b-75c84d7fd0c2"
      },
      "execution_count": 10,
      "outputs": [
        {
          "output_type": "stream",
          "name": "stdout",
          "text": [
            "<class 'list'> 3\n",
            "[['The', 'Matrix', 'is', 'everywhere', 'its', 'all', 'around', 'us', ',', 'here', 'even', 'in', 'this', 'room', '.'], ['You', 'can', 'see', 'it', 'out', 'your', 'window', 'or', 'on', 'your', 'television', '.'], ['You', 'feel', 'it', 'when', 'you', 'go', 'to', 'work', ',', 'or', 'go', 'to', 'church', 'or', 'pay', 'your', 'taxes', '.']]\n"
          ]
        }
      ]
    },
    {
      "cell_type": "markdown",
      "source": [
        "### 8.2.2 스톱 워드 제거\n",
        "* 스톱 워드(Stop Word)는 분석에 큰 의미가 없는 단어를 지칭.    \n",
        "  ex. is, the, a, will \n",
        "* 이 단어들은 문법적 특성으로 인해 빈번하게 나타나므로 이것들을 사전에 제거하지 않으면 빈번함으로 인해 오히려 중요한 단어로 인지될 수 있음. \n",
        "* 언어별로 스톱워드가 목록화돼 있음. \n"
      ],
      "metadata": {
        "id": "s5tqjd9uW7BX"
      }
    },
    {
      "cell_type": "markdown",
      "source": [
        "NLTK는 가장 다양한 언어의 스톱워드를 제공"
      ],
      "metadata": {
        "id": "_eVVkIJzX_jM"
      }
    },
    {
      "cell_type": "code",
      "source": [
        "import nltk \n",
        "nltk.download('stopwords')"
      ],
      "metadata": {
        "colab": {
          "base_uri": "https://localhost:8080/"
        },
        "id": "tEDw4mWtXzXM",
        "outputId": "35ec0e04-5926-41f9-fdff-0324d65ee5d1"
      },
      "execution_count": 11,
      "outputs": [
        {
          "output_type": "stream",
          "name": "stderr",
          "text": [
            "[nltk_data] Downloading package stopwords to /root/nltk_data...\n",
            "[nltk_data]   Unzipping corpora/stopwords.zip.\n"
          ]
        },
        {
          "output_type": "execute_result",
          "data": {
            "text/plain": [
              "True"
            ]
          },
          "metadata": {},
          "execution_count": 11
        }
      ]
    },
    {
      "cell_type": "code",
      "source": [
        "print('영어 stop words 개수:', len(nltk.corpus.stopwords.words('english')))\n",
        "print(nltk.corpus.stopwords.words('english')[:20])"
      ],
      "metadata": {
        "colab": {
          "base_uri": "https://localhost:8080/"
        },
        "id": "wdDlieOFXzaI",
        "outputId": "2bf2c88c-8291-4940-e9da-c4ea6e62e012"
      },
      "execution_count": 12,
      "outputs": [
        {
          "output_type": "stream",
          "name": "stdout",
          "text": [
            "영어 stop words 개수: 179\n",
            "['i', 'me', 'my', 'myself', 'we', 'our', 'ours', 'ourselves', 'you', \"you're\", \"you've\", \"you'll\", \"you'd\", 'your', 'yours', 'yourself', 'yourselves', 'he', 'him', 'his']\n"
          ]
        }
      ]
    },
    {
      "cell_type": "markdown",
      "source": [
        "위에서 생성한 word_tokens 리스트에 대해서  \n",
        "stopwords를 필터링으로 제거해     \n",
        "분석을 위한 의미있는 단어만 추출출"
      ],
      "metadata": {
        "id": "wzNjaR4leAlW"
      }
    },
    {
      "cell_type": "code",
      "source": [
        "import nltk\n",
        "\n",
        "stopwords = nltk.corpus.stopwords.words('english')\n",
        "all_tokens = []\n",
        "\n",
        "# 위 예제에서 3개의 문장별로 얻은 word_tokens list에 대해 스톱워드를 제거하는 반복문\n",
        "for sentence in word_tokens:\n",
        "  filtered_words=[]\n",
        "  # 개별 문장별로 토큰화된 문장 list에 대해 스톱워드를 제거하는 반복문\n",
        "  for word in sentence:\n",
        "    # 소문자로 모두 변환\n",
        "    word=word.lower()\n",
        "    # 토큰화된 개별단어가 스톱워드에 포함되지 않으면 word_tokens에 추가\n",
        "    if word not in stopwords:\n",
        "      filtered_words.append(word)\n",
        "  all_tokens.append(filtered_words)\n",
        "\n",
        "print(all_tokens) #us는 잇다다\n",
        "print(word_tokens)"
      ],
      "metadata": {
        "colab": {
          "base_uri": "https://localhost:8080/"
        },
        "id": "FFBinHKQXzdq",
        "outputId": "eded7fc8-0901-4457-b5eb-77d1a527cc3e"
      },
      "execution_count": 14,
      "outputs": [
        {
          "output_type": "stream",
          "name": "stdout",
          "text": [
            "[['matrix', 'everywhere', 'around', 'us', ',', 'even', 'room', '.'], ['see', 'window', 'television', '.'], ['feel', 'go', 'work', ',', 'go', 'church', 'pay', 'taxes', '.']]\n",
            "[['The', 'Matrix', 'is', 'everywhere', 'its', 'all', 'around', 'us', ',', 'here', 'even', 'in', 'this', 'room', '.'], ['You', 'can', 'see', 'it', 'out', 'your', 'window', 'or', 'on', 'your', 'television', '.'], ['You', 'feel', 'it', 'when', 'you', 'go', 'to', 'work', ',', 'or', 'go', 'to', 'church', 'or', 'pay', 'your', 'taxes', '.']]\n"
          ]
        }
      ]
    },
    {
      "cell_type": "markdown",
      "source": [
        "### 8.2.3 Stemming과 Lemmatization\n"
      ],
      "metadata": {
        "id": "Khzib8fIfrot"
      }
    },
    {
      "cell_type": "markdown",
      "source": [
        "* 많은 언어에서 문법적인 요소에 따라 단어가 다양하게 변함. \n",
        "* Stemming\n",
        "  * 원형 단어로 변환 시 일반적인 방법을 적용하거나 더 단순화된 방법을 적용해   \n",
        " 원래 던어에서 일부 철자가 훼손된 어근 단어를 추출하는 경향\n",
        "* Lemmatization\n",
        "  * Stemming보다 정교하며 의미론적인 기반에서 단어의 원형을 찾는다.\n",
        "  * 품사와 같은 문법적 요소와 의미적 요소를 감안해 정확한 철자로 된 어근 단어를 찾아줌\n",
        "  * Stemming보다 변환에 더 오랜 시간 필요"
      ],
      "metadata": {
        "id": "dg31LvDXhljX"
      }
    },
    {
      "cell_type": "markdown",
      "source": [
        "stem('단어') 메서드를 호출하면   \n",
        "원하는 '단어'의 Stemming(원형단어 찾아주기) 해줌"
      ],
      "metadata": {
        "id": "wvH2RuXriYzB"
      }
    },
    {
      "cell_type": "code",
      "source": [
        "from nltk.stem import LancasterStemmer\n",
        "stemmer = LancasterStemmer()\n",
        "\n",
        "print(stemmer.stem('working'), stemmer.stem('works'), stemmer.stem('worked'))\n",
        "print(stemmer.stem('amusing'), stemmer.stem('amuses'), stemmer.stem('amused'))\n",
        "print(stemmer.stem('happier'), stemmer.stem('happiest'))\n",
        "print(stemmer.stem('fancier'), stemmer.stem('fanciest'))\n",
        "\n",
        "## 덜 정교"
      ],
      "metadata": {
        "colab": {
          "base_uri": "https://localhost:8080/"
        },
        "id": "Jd0J8carhlx5",
        "outputId": "8180671e-81f3-4506-de52-5f980a38577e"
      },
      "execution_count": 16,
      "outputs": [
        {
          "output_type": "stream",
          "name": "stdout",
          "text": [
            "work work work\n",
            "amus amus amus\n",
            "happy happiest\n",
            "fant fanciest\n"
          ]
        }
      ]
    },
    {
      "cell_type": "markdown",
      "source": [
        "lemmatize는 정확한 원형 단어 추출을 위해 단어의 품사를 입력해줘야함.  \n",
        "lemmatize(동사, 'v')   \n",
        "lemmatize(형용사, 'a')   \n"
      ],
      "metadata": {
        "id": "PnvCE4XFhl0v"
      }
    },
    {
      "cell_type": "code",
      "source": [
        "from nltk.stem import WordNetLemmatizer\n",
        "import nltk\n",
        "nltk.download('wordnet')\n",
        "\n",
        "lemma = WordNetLemmatizer()\n",
        "print(lemma.lemmatize('amusing', 'v'), lemma.lemmatize('amuses', 'v'), lemma.lemmatize('amused', 'v'))\n",
        "print(lemma.lemmatize('happier', 'a'), lemma.lemmatize('happiest', 'a'))\n",
        "print(lemma.lemmatize('fancier', 'a'), lemma.lemmatize('fanciest', 'a'))\n",
        "\n",
        "## 더 정교교"
      ],
      "metadata": {
        "colab": {
          "base_uri": "https://localhost:8080/"
        },
        "id": "5MJAkEIjhl4O",
        "outputId": "a5c4a65b-8c9f-4653-82f1-691cb5a4b9a6"
      },
      "execution_count": 17,
      "outputs": [
        {
          "output_type": "stream",
          "name": "stderr",
          "text": [
            "[nltk_data] Downloading package wordnet to /root/nltk_data...\n"
          ]
        },
        {
          "output_type": "stream",
          "name": "stdout",
          "text": [
            "amuse amuse amuse\n",
            "happy happy\n",
            "fancy fancy\n"
          ]
        }
      ]
    },
    {
      "cell_type": "markdown",
      "source": [
        "## 8.3 BOW (Bag of Words)"
      ],
      "metadata": {
        "id": "qIScrwT8kNoX"
      }
    },
    {
      "cell_type": "markdown",
      "source": [
        "* BOW 모델은 문서가 가지는 모든 단어를 문맥이나 순서를 무시하고   \n",
        "  일괄적으로 단어에 대해 빈도값을 부여해 피처 값을 추출하는 모델\n",
        "  1. 문장1과 문장2에 있는 모든 단어에서 중복을 제거하고 각 단어를 칼럼 형태로 나열한다. 그러고 나서 각 단어에 고유의 인덱스를 부여. \n",
        "  2. 개별 문장에서 해당 단어가 나타나는 횟수를 각단어에 기재함. \n",
        "* 장점 : 쉽고 빠른 구축.    \n",
        "* 단점 \n",
        "  * 문맥 의미 반영 부족\n",
        "  * 희소 행렬 문제\n"
      ],
      "metadata": {
        "id": "mfKTnXl3ksxA"
      }
    },
    {
      "cell_type": "markdown",
      "source": [
        "### 8.3.1 BOW 피처 벡터화\n",
        "* 머신러닝은 숫자형 피처를 입력받아 동작하기 때문에 텍스트와 같은 데이터는 바로 입력x\n",
        "* 텍스트는 특정의미를 가지는 숫자형 값인 벡터값으로 변환해야함. : **피처벡터화**\n",
        "* BOW모델에서 피처벡터화\n",
        "  * 모든 문서에서 모든 단어를 칼럼 형태로 나열하고\n",
        "  * 각 문서에서 해당 단어의 횟수나 정규화된 빈도를 값으로 부여하는 데이터셋 모델로 변경\n",
        "  * 피처 백터화 방식 \n",
        "  1. 카운트 기반의 벡터화   \n",
        "    단어 피처에 값을 부여할 때 각 문서에서 해당 단어가 나타나는 횟수 즉, Count를 부여하는 경우\n",
        "  2. TF-IDF  \n",
        "    카운트 기반에서 카운트만 부여할 경우 그 문서의 특징을 나타내기보다는 언어의 특성상 문장에서 자주 사용되는 단어까지 높은값 부여     \n",
        "    이를 보완하기 위해 개별 문서에서 자주 나타나는 단어에 높은 가중치를 주되, 모든 문서에서 전반적으로 자주 나타나는 단어에 대해서는 페널티를 주는 방식으로 값을 부여   \n",
        "    텍스트가 길고 문서의 개수가 많은 경우, 카운트 방식보다는 TF-IDF 방식을 사용하는 것이 더 좋은 예측성능능"
      ],
      "metadata": {
        "id": "2fsnTX6fm9d9"
      }
    },
    {
      "cell_type": "markdown",
      "source": [
        "### 8.3.2 사이킷런의 Count 및 TF-IDF 벡터화 구현   \n",
        "  : CountVectorizer, TfidfVectorizer\n",
        "  "
      ],
      "metadata": {
        "id": "I9LDcyczvQ0o"
      }
    },
    {
      "cell_type": "markdown",
      "source": [
        "* CountVectorizer \n",
        "  * 카운트 기반의 벡터화를 구현한 클래스\n",
        "  * 단지 피처 벡터화만 수행하지는 않으며\n",
        "  * 소문자 일괄변환, 토큰화, 스톱워드 필터링 등의 텍스트 전처리도 함께 수행\n",
        "  * fit, transform 통해 객체 반환\n",
        "  * 파라미터를 설정해 동작\n",
        "    1. max_df=100: 너무 높은 빈도수 가지는 단어 피처 제외, 100개 이하로 나타나는 피처만 추출\n",
        "    2. min_df=2 : 너무 낮은 빈도수 가지는 단어 피처 제외, 2번 이하로 나타나는 피처 추출x\n",
        "    3. max_features=2000 : 추출하는 피처의 개수를 제한. 정수로 값 지정. 빈도순으로 정렬해 2000개까지만 추출\n",
        "    4. stop_words='english' : 영어의 스톱워드로 지정된 단어 추출x    \n",
        "    5. n_gram_range=(1,2) : BOW모델의 단어순서를 보강. 토큰화된 단어를 1개씩, 그리고 순서대로 2개씩 묶어 피처로 추출출 \n",
        "    등등\n",
        "  * CountVectorizer 클래스 구현 방법   \n",
        "    1. 영어의 경우 모든 문자를 소문자로 변경하는 등 전처리 작업\n",
        "    2. 디폴트 단어 기준으로 n_gram_range를 반영해 각 단어를 토큰화.\n",
        "    3. 텍스트 정규화를 수행    \n",
        "      단, stop_words가 주어진 경우 스톱워드 필터링만 가능능"
      ],
      "metadata": {
        "id": "pNp9B-JqvQ3_"
      }
    },
    {
      "cell_type": "markdown",
      "source": [
        "### 8.3.3 BOW 벡터화를 위한 희소 행렬"
      ],
      "metadata": {
        "id": "ICnRY0aKwuel"
      }
    },
    {
      "cell_type": "markdown",
      "source": [
        "* CountVectorizer or TfidfVectorizer을 이용해   \n",
        "  텍스트를 피처 단위로 벡터화해 변환하고 CSR형태의 희소행렬을 반환\n",
        "* 모든 단어를 추출해 피처로 벡터화해 행렬로 만들면 피처수가 많고 대부분 값이 0인 형태임    \n",
        "=> 희소행렬 : 대규모 행렬의 대부분의 값을 0이 차지하는 행렬\n",
        "* BOW형태를 가진 언어모델의 피처 벡터화는 대부분 희소행렬\n",
        "* 희소행렬은 너무 많은 불필요한 0값이 많아 메모리공간이 많이 필요하고 시간이 많이 소모\n",
        "* 따라서 물리적으로 적은 공간을 차지할수있도록 변환해야하는데, 대표적으로 COO형식과 SCR 형식이 있음\n",
        "* CSR을 더 많이 사용\n",
        "* 희소행렬 변환을 위해 scipy 이용"
      ],
      "metadata": {
        "id": "bZVEzEUuxT-j"
      }
    },
    {
      "cell_type": "markdown",
      "source": [
        "#### 8.3.4 희소행렬 - COO 형식\n",
        "* COO(Coordinate 좌표)형식은 0이 아닌 데이터만 별도의 array에 저장하고, 그 데이터가 가리키는 행과 열의 위치를 별도의 배열로 저장하는 방식\n"
      ],
      "metadata": {
        "id": "WvTlshRBxUCH"
      }
    },
    {
      "cell_type": "code",
      "source": [
        "import numpy as np\n",
        "\n",
        "dense = np.array([[3,0,1],\n",
        "                  [0,2,0]])\n",
        "\n",
        "# 위 밀집 행렬을 사이파이의 coo_matrix 클래스를 이용해 \n",
        "# COO형식의 희소행렬로 변환\n",
        "from scipy import sparse\n",
        "\n",
        "# 1. 0이 아닌 데이터 추출\n",
        "data = np.array([3,1,2])\n",
        "\n",
        "# 2. 행위치와 열위치를 각각 배열로 생성\n",
        "row_pos = np.array([0,0,1])\n",
        "col_pos = np.array([0,2,1])\n",
        "## 3:(0,0), 1:(0,2), 2:(1,1)\n",
        "\n",
        "# 3. sparse 패키지의 coo_matrix를 이용해 COO형식으로 희소행렬 생성\n",
        "sparse_coo = sparse.coo_matrix((data, (row_pos, col_pos)))"
      ],
      "metadata": {
        "id": "QwHH_ybwkhm3"
      },
      "execution_count": 19,
      "outputs": []
    },
    {
      "cell_type": "code",
      "source": [
        "sparse_coo.toarray()\n",
        "## 확인"
      ],
      "metadata": {
        "colab": {
          "base_uri": "https://localhost:8080/"
        },
        "id": "TJjkxa8mzmS_",
        "outputId": "9d91e98d-baea-4a63-928d-5a2f26bea91f"
      },
      "execution_count": 20,
      "outputs": [
        {
          "output_type": "execute_result",
          "data": {
            "text/plain": [
              "array([[3, 0, 1],\n",
              "       [0, 2, 0]])"
            ]
          },
          "metadata": {},
          "execution_count": 20
        }
      ]
    },
    {
      "cell_type": "markdown",
      "source": [
        "### 8.3.5 희소행렬 - CSR 형식\n",
        "* CSR(Compressed Sparse Row) 형식은 COO형식이 반복적인 위치 데이터를 사용해야 하는 문제점을 해결\n"
      ],
      "metadata": {
        "id": "LcE-12U4zs4l"
      }
    },
    {
      "cell_type": "markdown",
      "source": [
        "* COO의 문제점\n",
        "  * 행위치 배열을 보면 순차적인 같은 값이 반복적으로 나타남. \n",
        "  * 행위치 배열의 고유한 값의 시작 위치만 표기하는 방법으로 이러한 반복을 제거할 수 있음.   \n",
        "  행위치배열:[0,0,1,1,1] -> 고윳값시작위치[0,2]   \n",
        "  (0이 0번인덱스에서 시작, 1이 2번인덱스에서 시작)"
      ],
      "metadata": {
        "id": "qA2X5uvwz4O3"
      }
    },
    {
      "cell_type": "code",
      "source": [
        "from scipy import sparse\n",
        "\n",
        "dense2=np.array([[0,0,1,0,0,5],\n",
        "                 [1,4,0,3,2,5],\n",
        "                 [0,6,0,3,0,0],\n",
        "                 [2,0,0,0,0,0],\n",
        "                 [0,0,0,7,0,8],\n",
        "                 [1,0,0,0,0,0]])\n",
        "\n",
        "#0이 아닌 데이터 추출\n",
        "data2=np.array([1,5,1,4,3,2,5,6,3,2,7,8,1])\n",
        "\n",
        "#행 위치와 열 위치를 각각 array로 생성\n",
        "row_pos=np.array([0,0,1,1,1,1,1,2,2,3,4,4,5])\n",
        "col_pos=np.array([2,5,0,1,3,4,5,1,3,0,3,5,0])\n",
        "\n",
        "#COO 형식으로 변환\n",
        "sparse_coo=sparse.coo_matrix((data2, (row_pos, col_pos)))\n",
        "\n",
        "#행 위치 배열의 고유한 값의 시작 위치 인덱스를 배열로 생성 + 맨 끝에는 총 데이터 수\n",
        "row_pos_ind=np.array([0,2,7,9,10,12,13])\n",
        "\n",
        "#CSR 형식으로 변환\n",
        "sparse_csr=sparse.csr_matrix((data2, col_pos, row_pos_ind))\n",
        "\n",
        "print('COO 변환된 데이터가 제대로 되었는지 다시 dense로 출력 확인')\n",
        "print(sparse_coo.toarray())\n",
        "print('CSR 변환된 데이터가 제대로 되었는지 다시 dense로 출력 확인')\n",
        "print(sparse_csr.toarray())"
      ],
      "metadata": {
        "colab": {
          "base_uri": "https://localhost:8080/"
        },
        "id": "ybWTXj5vzmVi",
        "outputId": "51f6187d-ca4f-47f3-adbc-fe7685cdebb9"
      },
      "execution_count": 21,
      "outputs": [
        {
          "output_type": "stream",
          "name": "stdout",
          "text": [
            "COO 변환된 데이터가 제대로 되었는지 다시 dense로 출력 확인\n",
            "[[0 0 1 0 0 5]\n",
            " [1 4 0 3 2 5]\n",
            " [0 6 0 3 0 0]\n",
            " [2 0 0 0 0 0]\n",
            " [0 0 0 7 0 8]\n",
            " [1 0 0 0 0 0]]\n",
            "CSR 변환된 데이터가 제대로 되었는지 다시 dense로 출력 확인\n",
            "[[0 0 1 0 0 5]\n",
            " [1 4 0 3 2 5]\n",
            " [0 6 0 3 0 0]\n",
            " [2 0 0 0 0 0]\n",
            " [0 0 0 7 0 8]\n",
            " [1 0 0 0 0 0]]\n"
          ]
        }
      ]
    },
    {
      "cell_type": "code",
      "source": [
        "# 실제 사용시에는 바로 밀집행렬을 input을 넣으면 됨\n",
        "\n",
        "\n",
        "dense3=np.array([[0,0,1,0,0,5],\n",
        "                 [1,4,0,3,2,5],\n",
        "                 [0,6,0,3,0,0],\n",
        "                 [2,0,0,0,0,0],\n",
        "                 [0,0,0,7,0,8],\n",
        "                 [1,0,0,0,0,0]])\n",
        "\n",
        "coo=sparse.coo_matrix(dense3)\n",
        "csr=sparse.csr_matrix(dense3)\n",
        "\n",
        "print(coo.toarray())\n",
        "print(csr.toarray())"
      ],
      "metadata": {
        "colab": {
          "base_uri": "https://localhost:8080/"
        },
        "id": "TkP-RRBxzmXL",
        "outputId": "3172b386-8321-4bac-f1b0-11ca5f0cc9e3"
      },
      "execution_count": 22,
      "outputs": [
        {
          "output_type": "stream",
          "name": "stdout",
          "text": [
            "[[0 0 1 0 0 5]\n",
            " [1 4 0 3 2 5]\n",
            " [0 6 0 3 0 0]\n",
            " [2 0 0 0 0 0]\n",
            " [0 0 0 7 0 8]\n",
            " [1 0 0 0 0 0]]\n",
            "[[0 0 1 0 0 5]\n",
            " [1 4 0 3 2 5]\n",
            " [0 6 0 3 0 0]\n",
            " [2 0 0 0 0 0]\n",
            " [0 0 0 7 0 8]\n",
            " [1 0 0 0 0 0]]\n"
          ]
        }
      ]
    }
  ]
}