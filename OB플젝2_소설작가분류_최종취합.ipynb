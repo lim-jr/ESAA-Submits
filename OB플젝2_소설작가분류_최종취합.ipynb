{
  "nbformat": 4,
  "nbformat_minor": 0,
  "metadata": {
    "colab": {
      "provenance": [],
      "toc_visible": true,
      "include_colab_link": true
    },
    "kernelspec": {
      "name": "python3",
      "display_name": "Python 3"
    },
    "language_info": {
      "name": "python"
    }
  },
  "cells": [
    {
      "cell_type": "markdown",
      "metadata": {
        "id": "view-in-github",
        "colab_type": "text"
      },
      "source": [
        "<a href=\"https://colab.research.google.com/github/lim-jr/ESAA-Submits/blob/main/OB%ED%94%8C%EC%A0%9D2_%EC%86%8C%EC%84%A4%EC%9E%91%EA%B0%80%EB%B6%84%EB%A5%98_%EC%B5%9C%EC%A2%85%EC%B7%A8%ED%95%A9.ipynb\" target=\"_parent\"><img src=\"https://colab.research.google.com/assets/colab-badge.svg\" alt=\"Open In Colab\"/></a>"
      ]
    },
    {
      "cell_type": "markdown",
      "source": [
        "# **월간 데이콘 소설 작가 분류 AI 경진대회**\n",
        "(https://dacon.io/competitions/official/235670/overview/description)   \n",
        "주어진 데이터를 활용하여 분체 분석 알고리즘 개발\n"
      ],
      "metadata": {
        "id": "SnezQ2Zu8lhS"
      }
    },
    {
      "cell_type": "markdown",
      "source": [
        "# 1. 패키지 및 데이터 로드"
      ],
      "metadata": {
        "id": "He5y9ttiKumV"
      }
    },
    {
      "cell_type": "code",
      "execution_count": null,
      "metadata": {
        "colab": {
          "base_uri": "https://localhost:8080/"
        },
        "id": "q8PJ5eMpA5M8",
        "outputId": "2f1731e6-a9a1-46f3-d4df-60210d118599"
      },
      "outputs": [
        {
          "output_type": "stream",
          "name": "stderr",
          "text": [
            "[nltk_data] Downloading package stopwords to /root/nltk_data...\n",
            "[nltk_data]   Unzipping corpora/stopwords.zip.\n"
          ]
        },
        {
          "output_type": "execute_result",
          "data": {
            "text/plain": [
              "True"
            ]
          },
          "metadata": {},
          "execution_count": 2
        }
      ],
      "source": [
        "# 필요한 패키지 로드\n",
        "from nltk.corpus import stopwords\n",
        "from nltk.tokenize import word_tokenize \n",
        "from matplotlib import pyplot as plt\n",
        "from matplotlib import rcParams\n",
        "from nltk.corpus import stopwords\n",
        "from nltk.tokenize import word_tokenize\n",
        "import numpy as np\n",
        "from pathlib import Path\n",
        "import pandas as pd\n",
        "from sklearn.linear_model import LogisticRegression\n",
        "from sklearn.metrics import accuracy_score, log_loss\n",
        "from sklearn.model_selection import StratifiedKFold\n",
        "from sklearn.feature_extraction.text import CountVectorizer, TfidfVectorizer, HashingVectorizer\n",
        "import seaborn as sns\n",
        "import warnings\n",
        "warnings.simplefilter('ignore')\n",
        "import nltk\n",
        "nltk.download('stopwords')"
      ]
    },
    {
      "cell_type": "code",
      "source": [
        "from nltk.tokenize import word_tokenize\n",
        "from nltk.stem import WordNetLemmatizer \n",
        "from nltk.stem.snowball import SnowballStemmer\n",
        "import nltk\n",
        "nltk.download('punkt')\n",
        "import nltk\n",
        "nltk.download('wordnet')"
      ],
      "metadata": {
        "colab": {
          "base_uri": "https://localhost:8080/"
        },
        "id": "E_dQVq5YA-gm",
        "outputId": "e8a6cc5b-e2c0-4342-ab5a-eee6705820d6"
      },
      "execution_count": null,
      "outputs": [
        {
          "output_type": "stream",
          "name": "stderr",
          "text": [
            "[nltk_data] Downloading package punkt to /root/nltk_data...\n",
            "[nltk_data]   Unzipping tokenizers/punkt.zip.\n",
            "[nltk_data] Downloading package wordnet to /root/nltk_data...\n"
          ]
        },
        {
          "output_type": "execute_result",
          "data": {
            "text/plain": [
              "True"
            ]
          },
          "metadata": {},
          "execution_count": 3
        }
      ]
    },
    {
      "cell_type": "code",
      "source": [
        "from google.colab import drive\n",
        "drive.mount('/content/drive')\n",
        "\n",
        "import os\n",
        "os.chdir('/content/drive/MyDrive/ESAA/데이터셋') # working directory를 설정함.#"
      ],
      "metadata": {
        "id": "N_5OTyEEaE6w"
      },
      "execution_count": null,
      "outputs": []
    },
    {
      "cell_type": "code",
      "source": [
        "import pandas as pd\n",
        "\n",
        "train = pd.read_csv('train.csv', index_col=0)\n",
        "test = pd.read_csv('test_x.csv', index_col=0)"
      ],
      "metadata": {
        "id": "_4iDQSZqaGqT"
      },
      "execution_count": null,
      "outputs": []
    },
    {
      "cell_type": "markdown",
      "source": [
        "# 2. EDA"
      ],
      "metadata": {
        "id": "b2jGTJiaM0FC"
      }
    },
    {
      "cell_type": "markdown",
      "source": [
        "## 1) stopword 분포"
      ],
      "metadata": {
        "id": "A39eyM06MczQ"
      }
    },
    {
      "cell_type": "markdown",
      "source": [
        "상위 20개의 불용어 추출"
      ],
      "metadata": {
        "id": "YKYc5W0KK_He"
      }
    },
    {
      "cell_type": "code",
      "source": [
        "import matplotlib.pyplot as plt\n",
        "\n",
        "\n",
        "def plot_top_stopwords_barchart(text):\n",
        "    stop=set(stopwords.words('english'))\n",
        "    \n",
        "    new= text.str.split()\n",
        "    new=new.values.tolist()\n",
        "    corpus=[word for i in new for word in i]\n",
        "    from collections import defaultdict\n",
        "    dic=defaultdict(int)\n",
        "    for word in corpus:\n",
        "        if word in stop:\n",
        "            dic[word]+=1\n",
        "            \n",
        "    top=sorted(dic.items(), key=lambda x:x[1],reverse=True)[:20] \n",
        "    x,y=zip(*top)\n",
        "    plt.bar(x,y)\n",
        "\n",
        "plot_top_stopwords_barchart(train['text'])    "
      ],
      "metadata": {
        "colab": {
          "base_uri": "https://localhost:8080/",
          "height": 430
        },
        "id": "VITnBLvGK_yf",
        "outputId": "d6272967-148d-4208-9dd5-78f2e94ac36a"
      },
      "execution_count": null,
      "outputs": [
        {
          "output_type": "display_data",
          "data": {
            "text/plain": [
              "<Figure size 640x480 with 1 Axes>"
            ],
            "image/png": "[encoded data removed]"
          },
          "metadata": {}
        }
      ]
    },
    {
      "cell_type": "code",
      "source": [
        "stop_words_list = stopwords.words('english')\n",
        "print('불용어 개수 :', len(stop_words_list))"
      ],
      "metadata": {
        "id": "OKNBU1ZkMhGG",
        "colab": {
          "base_uri": "https://localhost:8080/"
        },
        "outputId": "64115d52-e1be-4498-c5e7-872530dc2a48"
      },
      "execution_count": null,
      "outputs": [
        {
          "output_type": "stream",
          "name": "stdout",
          "text": [
            "불용어 개수 : 179\n"
          ]
        }
      ]
    },
    {
      "cell_type": "code",
      "source": [
        "stop_words_list"
      ],
      "metadata": {
        "id": "PV5crnjoLoPi"
      },
      "execution_count": null,
      "outputs": []
    },
    {
      "cell_type": "code",
      "source": [
        "stop_words_list = ['the', 'and','to','of','a','in','was','that','he','his','you','with','had','it','fpr','as','at','not','my','have']"
      ],
      "metadata": {
        "id": "9HlcHCfUM9Xk"
      },
      "execution_count": null,
      "outputs": []
    },
    {
      "cell_type": "code",
      "source": [
        "import matplotlib.pyplot as plt\n",
        "\n",
        "\n",
        "def plot_top_stopwords_barchart(text):\n",
        "    stop=set(stopwords.words('english'))\n",
        "    \n",
        "    new= text.str.split()\n",
        "    new=new.values.tolist()\n",
        "    corpus=[word for i in new for word in i]\n",
        "    from collections import defaultdict\n",
        "    dic=defaultdict(int)\n",
        "    for word in corpus:\n",
        "        if word in stop:\n",
        "            dic[word]+=1\n",
        "            \n",
        "    top=sorted(dic.items(), key=lambda x:x[1],reverse=True)[:30] \n",
        "    x,y=zip(*top)\n",
        "    plt.bar(x,y)\n",
        "\n",
        "plot_top_stopwords_barchart(train['text'])    "
      ],
      "metadata": {
        "colab": {
          "base_uri": "https://localhost:8080/",
          "height": 430
        },
        "id": "YhhkUKI3NxWI",
        "outputId": "8f3d1d80-cdbf-4936-8bed-96b927100235"
      },
      "execution_count": null,
      "outputs": [
        {
          "output_type": "display_data",
          "data": {
            "text/plain": [
              "<Figure size 640x480 with 1 Axes>"
            ],
            "image/png": "[encoded data removed]"
          },
          "metadata": {}
        }
      ]
    },
    {
      "cell_type": "markdown",
      "source": [
        "## 2) 작가별 상위20개의 stop word 분포"
      ],
      "metadata": {
        "id": "uCzLHL96Ug3e"
      }
    },
    {
      "cell_type": "code",
      "source": [
        "import pandas as pd\n",
        "\n",
        "train = pd.read_csv('train.csv', index_col=0)\n",
        "test = pd.read_csv('test_x.csv', index_col=0)"
      ],
      "metadata": {
        "id": "HoxwzFpjVdC4"
      },
      "execution_count": null,
      "outputs": []
    },
    {
      "cell_type": "code",
      "source": [
        "train[train['author']==1][\"text\"]"
      ],
      "metadata": {
        "colab": {
          "base_uri": "https://localhost:8080/"
        },
        "id": "Ddeqgq2cU4oL",
        "outputId": "f4134fe8-52fe-4744-9705-7a09bb141c03"
      },
      "execution_count": null,
      "outputs": [
        {
          "output_type": "execute_result",
          "data": {
            "text/plain": [
              "index\n",
              "2         She was engaged one day as she walked, in per...\n",
              "13       It suited odin best to think odin the one pref...\n",
              "16       The bustle in the vestibule, as she passed alo...\n",
              "24                     “Oh! dear, no,” said her companion.\n",
              "27       From this day odin grew more comfortable. She ...\n",
              "                               ...                        \n",
              "54861    Her mind made up on these several points, and ...\n",
              "54863    “Well, if it was my house, I should never sit ...\n",
              "54864    He appeared presently, looking a little irrita...\n",
              "54867    \"My dear odin, you are talking quite idly. Pra...\n",
              "54876     \"Your sincere well-wisher, friend, and sister...\n",
              "Name: text, Length: 7222, dtype: object"
            ]
          },
          "metadata": {},
          "execution_count": 9
        }
      ]
    },
    {
      "cell_type": "code",
      "source": [
        "import matplotlib.pyplot as plt\n",
        "\n",
        "\n",
        "def plot_top_stopwords_barchart(text):\n",
        "    stop=set(stopwords.words('english'))\n",
        "    \n",
        "    new= text.str.split()\n",
        "    new=new.values.tolist()\n",
        "    corpus=[word for i in new for word in i]\n",
        "    from collections import defaultdict\n",
        "    dic=defaultdict(int)\n",
        "    for word in corpus:\n",
        "        if word in stop:\n",
        "            dic[word]+=1\n",
        "            \n",
        "    top=sorted(dic.items(), key=lambda x:x[1],reverse=True)[:10] \n",
        "    x,y=zip(*top)\n",
        "    plt.bar(x,y)\n",
        "\n",
        "plot_top_stopwords_barchart(train[train['author']==0][\"text\"])    "
      ],
      "metadata": {
        "colab": {
          "base_uri": "https://localhost:8080/",
          "height": 430
        },
        "id": "-1QYzww7Vm0D",
        "outputId": "4914b71b-26b6-400b-cbb1-66fa1a14791a"
      },
      "execution_count": null,
      "outputs": [
        {
          "output_type": "display_data",
          "data": {
            "text/plain": [
              "<Figure size 640x480 with 1 Axes>"
            ],
            "image/png": "[encoded data removed]"
          },
          "metadata": {}
        }
      ]
    },
    {
      "cell_type": "code",
      "source": [
        "import matplotlib.pyplot as plt\n",
        "\n",
        "\n",
        "def plot_top_stopwords_barchart(text):\n",
        "    stop=set(stopwords.words('english'))\n",
        "    \n",
        "    new= text.str.split()\n",
        "    new=new.values.tolist()\n",
        "    corpus=[word for i in new for word in i]\n",
        "    from collections import defaultdict\n",
        "    dic=defaultdict(int)\n",
        "    for word in corpus:\n",
        "        if word in stop:\n",
        "            dic[word]+=1\n",
        "            \n",
        "    top=sorted(dic.items(), key=lambda x:x[1],reverse=True)[:10] \n",
        "    x,y=zip(*top)\n",
        "    plt.bar(x,y)\n",
        "\n",
        "plot_top_stopwords_barchart(train[train['author']==1][\"text\"])    "
      ],
      "metadata": {
        "colab": {
          "base_uri": "https://localhost:8080/",
          "height": 430
        },
        "id": "eGivQk9DUpVU",
        "outputId": "3947a011-cb33-45fe-8c94-316fd8a517b3"
      },
      "execution_count": null,
      "outputs": [
        {
          "output_type": "display_data",
          "data": {
            "text/plain": [
              "<Figure size 640x480 with 1 Axes>"
            ],
            "image/png": "[encoded data removed]"
          },
          "metadata": {}
        }
      ]
    },
    {
      "cell_type": "code",
      "source": [
        "import matplotlib.pyplot as plt\n",
        "\n",
        "\n",
        "def plot_top_stopwords_barchart(text):\n",
        "    stop=set(stopwords.words('english'))\n",
        "    \n",
        "    new= text.str.split()\n",
        "    new=new.values.tolist()\n",
        "    corpus=[word for i in new for word in i]\n",
        "    from collections import defaultdict\n",
        "    dic=defaultdict(int)\n",
        "    for word in corpus:\n",
        "        if word in stop:\n",
        "            dic[word]+=1\n",
        "            \n",
        "    top=sorted(dic.items(), key=lambda x:x[1],reverse=True)[:10] \n",
        "    x,y=zip(*top)\n",
        "    plt.bar(x,y)\n",
        "\n",
        "plot_top_stopwords_barchart(train[train['author']==2][\"text\"])    "
      ],
      "metadata": {
        "colab": {
          "base_uri": "https://localhost:8080/",
          "height": 430
        },
        "id": "OSYdMWj-Vl6o",
        "outputId": "cc6c8b10-0f94-41d8-f7f1-3820da72ea49"
      },
      "execution_count": null,
      "outputs": [
        {
          "output_type": "display_data",
          "data": {
            "text/plain": [
              "<Figure size 640x480 with 1 Axes>"
            ],
            "image/png": "[encoded data removed]"
          },
          "metadata": {}
        }
      ]
    },
    {
      "cell_type": "code",
      "source": [
        "import matplotlib.pyplot as plt\n",
        "\n",
        "\n",
        "def plot_top_stopwords_barchart(text):\n",
        "    stop=set(stopwords.words('english'))\n",
        "    \n",
        "    new= text.str.split()\n",
        "    new=new.values.tolist()\n",
        "    corpus=[word for i in new for word in i]\n",
        "    from collections import defaultdict\n",
        "    dic=defaultdict(int)\n",
        "    for word in corpus:\n",
        "        if word in stop:\n",
        "            dic[word]+=1\n",
        "            \n",
        "    top=sorted(dic.items(), key=lambda x:x[1],reverse=True)[:10] \n",
        "    x,y=zip(*top)\n",
        "    plt.bar(x,y)\n",
        "\n",
        "plot_top_stopwords_barchart(train[train['author']==3][\"text\"])    "
      ],
      "metadata": {
        "colab": {
          "base_uri": "https://localhost:8080/",
          "height": 430
        },
        "id": "TQ1f8B1WVuIe",
        "outputId": "0eafa112-1174-4592-d537-643efb1c4b5c"
      },
      "execution_count": null,
      "outputs": [
        {
          "output_type": "display_data",
          "data": {
            "text/plain": [
              "<Figure size 640x480 with 1 Axes>"
            ],
            "image/png": "[encoded data removed]"
          },
          "metadata": {}
        }
      ]
    },
    {
      "cell_type": "markdown",
      "source": [
        "## 3) 작가별 문장부호 빈도분포"
      ],
      "metadata": {
        "id": "WGrgiW3RUl89"
      }
    },
    {
      "cell_type": "markdown",
      "source": [
        "문장부호"
      ],
      "metadata": {
        "id": "Pa1-z8hNL4-o"
      }
    },
    {
      "cell_type": "code",
      "source": [
        "stop_list_b = [\",\",\";\",'\\\"',\"...\",\"?\",\"!\",\".\",\":\",\"*\",\"-\",\"The\",\"a\",\"I\",\"It\",\"He\",\"She\",\"Me\",\"You\"]"
      ],
      "metadata": {
        "id": "6Ke80dzbWosA"
      },
      "execution_count": null,
      "outputs": []
    },
    {
      "cell_type": "markdown",
      "source": [
        "토큰화 하기"
      ],
      "metadata": {
        "id": "nvjVkmcVL3AX"
      }
    },
    {
      "cell_type": "code",
      "source": [
        "from nltk.tokenize import word_tokenize\n",
        "\n",
        "for i in range(len(train)):\n",
        "  train['text'][i] = word_tokenize(train['text'][i])\n",
        "\n",
        "train.head()"
      ],
      "metadata": {
        "colab": {
          "base_uri": "https://localhost:8080/",
          "height": 238
        },
        "id": "EjxgdbqjXjHt",
        "outputId": "daa93820-5d32-4c02-fda2-e10fe8c184c2"
      },
      "execution_count": null,
      "outputs": [
        {
          "output_type": "execute_result",
          "data": {
            "text/plain": [
              "                                                    text  author\n",
              "index                                                           \n",
              "0      [He, was, almost, choking, ., There, was, so, ...       3\n",
              "1      [“, Your, sister, asked, for, it, ,, I, suppos...       2\n",
              "2      [She, was, engaged, one, day, as, she, walked,...       1\n",
              "3      [The, captain, was, in, the, porch, ,, keeping...       4\n",
              "4      [“, Have, mercy, ,, gentlemen, !, ”, odin, flu...       3"
            ],
            "text/html": [
              "\n",
              "  <div id=\"df-d3a91d13-34f1-497d-89e6-41426bf97c17\">\n",
              "    <div class=\"colab-df-container\">\n",
              "      <div>\n",
              "<style scoped>\n",
              "    .dataframe tbody tr th:only-of-type {\n",
              "        vertical-align: middle;\n",
              "    }\n",
              "\n",
              "    .dataframe tbody tr th {\n",
              "        vertical-align: top;\n",
              "    }\n",
              "\n",
              "    .dataframe thead th {\n",
              "        text-align: right;\n",
              "    }\n",
              "</style>\n",
              "<table border=\"1\" class=\"dataframe\">\n",
              "  <thead>\n",
              "    <tr style=\"text-align: right;\">\n",
              "      <th></th>\n",
              "      <th>text</th>\n",
              "      <th>author</th>\n",
              "    </tr>\n",
              "    <tr>\n",
              "      <th>index</th>\n",
              "      <th></th>\n",
              "      <th></th>\n",
              "    </tr>\n",
              "  </thead>\n",
              "  <tbody>\n",
              "    <tr>\n",
              "      <th>0</th>\n",
              "      <td>[He, was, almost, choking, ., There, was, so, ...</td>\n",
              "      <td>3</td>\n",
              "    </tr>\n",
              "    <tr>\n",
              "      <th>1</th>\n",
              "      <td>[“, Your, sister, asked, for, it, ,, I, suppos...</td>\n",
              "      <td>2</td>\n",
              "    </tr>\n",
              "    <tr>\n",
              "      <th>2</th>\n",
              "      <td>[She, was, engaged, one, day, as, she, walked,...</td>\n",
              "      <td>1</td>\n",
              "    </tr>\n",
              "    <tr>\n",
              "      <th>3</th>\n",
              "      <td>[The, captain, was, in, the, porch, ,, keeping...</td>\n",
              "      <td>4</td>\n",
              "    </tr>\n",
              "    <tr>\n",
              "      <th>4</th>\n",
              "      <td>[“, Have, mercy, ,, gentlemen, !, ”, odin, flu...</td>\n",
              "      <td>3</td>\n",
              "    </tr>\n",
              "  </tbody>\n",
              "</table>\n",
              "</div>\n",
              "      <button class=\"colab-df-convert\" onclick=\"convertToInteractive('df-d3a91d13-34f1-497d-89e6-41426bf97c17')\"\n",
              "              title=\"Convert this dataframe to an interactive table.\"\n",
              "              style=\"display:none;\">\n",
              "        \n",
              "  <svg xmlns=\"http://www.w3.org/2000/svg\" height=\"24px\"viewBox=\"0 0 24 24\"\n",
              "       width=\"24px\">\n",
              "    <path d=\"M0 0h24v24H0V0z\" fill=\"none\"/>\n",
              "    <path d=\"M18.56 5.44l.94 2.06.94-2.06 2.06-.94-2.06-.94-.94-2.06-.94 2.06-2.06.94zm-11 1L8.5 8.5l.94-2.06 2.06-.94-2.06-.94L8.5 2.5l-.94 2.06-2.06.94zm10 10l.94 2.06.94-2.06 2.06-.94-2.06-.94-.94-2.06-.94 2.06-2.06.94z\"/><path d=\"M17.41 7.96l-1.37-1.37c-.4-.4-.92-.59-1.43-.59-.52 0-1.04.2-1.43.59L10.3 9.45l-7.72 7.72c-.78.78-.78 2.05 0 2.83L4 21.41c.39.39.9.59 1.41.59.51 0 1.02-.2 1.41-.59l7.78-7.78 2.81-2.81c.8-.78.8-2.07 0-2.86zM5.41 20L4 18.59l7.72-7.72 1.47 1.35L5.41 20z\"/>\n",
              "  </svg>\n",
              "      </button>\n",
              "      \n",
              "  <style>\n",
              "    .colab-df-container {\n",
              "      display:flex;\n",
              "      flex-wrap:wrap;\n",
              "      gap: 12px;\n",
              "    }\n",
              "\n",
              "    .colab-df-convert {\n",
              "      background-color: #E8F0FE;\n",
              "      border: none;\n",
              "      border-radius: 50%;\n",
              "      cursor: pointer;\n",
              "      display: none;\n",
              "      fill: #1967D2;\n",
              "      height: 32px;\n",
              "      padding: 0 0 0 0;\n",
              "      width: 32px;\n",
              "    }\n",
              "\n",
              "    .colab-df-convert:hover {\n",
              "      background-color: #E2EBFA;\n",
              "      box-shadow: 0px 1px 2px rgba(60, 64, 67, 0.3), 0px 1px 3px 1px rgba(60, 64, 67, 0.15);\n",
              "      fill: #174EA6;\n",
              "    }\n",
              "\n",
              "    [theme=dark] .colab-df-convert {\n",
              "      background-color: #3B4455;\n",
              "      fill: #D2E3FC;\n",
              "    }\n",
              "\n",
              "    [theme=dark] .colab-df-convert:hover {\n",
              "      background-color: #434B5C;\n",
              "      box-shadow: 0px 1px 3px 1px rgba(0, 0, 0, 0.15);\n",
              "      filter: drop-shadow(0px 1px 2px rgba(0, 0, 0, 0.3));\n",
              "      fill: #FFFFFF;\n",
              "    }\n",
              "  </style>\n",
              "\n",
              "      <script>\n",
              "        const buttonEl =\n",
              "          document.querySelector('#df-d3a91d13-34f1-497d-89e6-41426bf97c17 button.colab-df-convert');\n",
              "        buttonEl.style.display =\n",
              "          google.colab.kernel.accessAllowed ? 'block' : 'none';\n",
              "\n",
              "        async function convertToInteractive(key) {\n",
              "          const element = document.querySelector('#df-d3a91d13-34f1-497d-89e6-41426bf97c17');\n",
              "          const dataTable =\n",
              "            await google.colab.kernel.invokeFunction('convertToInteractive',\n",
              "                                                     [key], {});\n",
              "          if (!dataTable) return;\n",
              "\n",
              "          const docLinkHtml = 'Like what you see? Visit the ' +\n",
              "            '<a target=\"_blank\" href=https://colab.research.google.com/notebooks/data_table.ipynb>data table notebook</a>'\n",
              "            + ' to learn more about interactive tables.';\n",
              "          element.innerHTML = '';\n",
              "          dataTable['output_type'] = 'display_data';\n",
              "          await google.colab.output.renderOutput(dataTable, element);\n",
              "          const docLink = document.createElement('div');\n",
              "          docLink.innerHTML = docLinkHtml;\n",
              "          element.appendChild(docLink);\n",
              "        }\n",
              "      </script>\n",
              "    </div>\n",
              "  </div>\n",
              "  "
            ]
          },
          "metadata": {},
          "execution_count": 9
        }
      ]
    },
    {
      "cell_type": "code",
      "source": [
        "import matplotlib.pyplot as plt\n",
        "\n",
        "\n",
        "def plot_top_stopwords_barchart(text):\n",
        "    stop=set((stop_list_b))\n",
        "\n",
        "    corpus=[word for i in train[train['author']==0][\"text\"] for word in i]\n",
        "    from collections import defaultdict\n",
        "    dic=defaultdict(int)\n",
        "    for word in corpus:\n",
        "        if word in stop:\n",
        "            dic[word]+=1\n",
        "            \n",
        "    top=sorted(dic.items(), key=lambda x:x[1],reverse=True)[:15] \n",
        "    x,y=zip(*top)\n",
        "    plt.bar(x,y)\n",
        "\n",
        "plot_top_stopwords_barchart(train[train['author']==0][\"text\"])    "
      ],
      "metadata": {
        "colab": {
          "base_uri": "https://localhost:8080/",
          "height": 430
        },
        "id": "J7QgYD-lUocT",
        "outputId": "2ed8683f-6789-4890-da2d-e3d7e2e8e1ea"
      },
      "execution_count": null,
      "outputs": [
        {
          "output_type": "display_data",
          "data": {
            "text/plain": [
              "<Figure size 640x480 with 1 Axes>"
            ],
            "image/png": "[encoded data removed]"
          },
          "metadata": {}
        }
      ]
    },
    {
      "cell_type": "code",
      "source": [
        "import matplotlib.pyplot as plt\n",
        "\n",
        "\n",
        "def plot_top_stopwords_barchart(text):\n",
        "    stop=set((stop_list_b))\n",
        "\n",
        "    corpus=[word for i in train[train['author']==1][\"text\"] for word in i]\n",
        "    from collections import defaultdict\n",
        "    dic=defaultdict(int)\n",
        "    for word in corpus:\n",
        "        if word in stop:\n",
        "            dic[word]+=1\n",
        "            \n",
        "    top=sorted(dic.items(), key=lambda x:x[1],reverse=True)[:15] \n",
        "    x,y=zip(*top)\n",
        "    plt.bar(x,y)\n",
        "\n",
        "plot_top_stopwords_barchart(train[train['author']==1][\"text\"])    "
      ],
      "metadata": {
        "colab": {
          "base_uri": "https://localhost:8080/",
          "height": 430
        },
        "id": "cpdk4aT1Wh81",
        "outputId": "406c3e22-1a28-427b-cb52-799ad782d861"
      },
      "execution_count": null,
      "outputs": [
        {
          "output_type": "display_data",
          "data": {
            "text/plain": [
              "<Figure size 640x480 with 1 Axes>"
            ],
            "image/png": "[encoded data removed]"
          },
          "metadata": {}
        }
      ]
    },
    {
      "cell_type": "markdown",
      "source": [
        "- 인물과 관련한 빈도가 상대적으로 높음"
      ],
      "metadata": {
        "id": "VfhVK9dgRkID"
      }
    },
    {
      "cell_type": "code",
      "source": [
        "import matplotlib.pyplot as plt\n",
        "\n",
        "\n",
        "def plot_top_stopwords_barchart(text):\n",
        "    stop=set((stop_list_b))\n",
        "\n",
        "    corpus=[word for i in train[train['author']==2][\"text\"] for word in i]\n",
        "    from collections import defaultdict\n",
        "    dic=defaultdict(int)\n",
        "    for word in corpus:\n",
        "        if word in stop:\n",
        "            dic[word]+=1\n",
        "            \n",
        "    top=sorted(dic.items(), key=lambda x:x[1],reverse=True)[:10] \n",
        "    x,y=zip(*top)\n",
        "    plt.bar(x,y)\n",
        "\n",
        "plot_top_stopwords_barchart(train[train['author']==2][\"text\"])    "
      ],
      "metadata": {
        "colab": {
          "base_uri": "https://localhost:8080/",
          "height": 430
        },
        "id": "OUOIhpcpYLv3",
        "outputId": "57adae5d-2044-47a9-ca83-2c2bc9a563ca"
      },
      "execution_count": null,
      "outputs": [
        {
          "output_type": "display_data",
          "data": {
            "text/plain": [
              "<Figure size 640x480 with 1 Axes>"
            ],
            "image/png": "[encoded data removed]"
          },
          "metadata": {}
        }
      ]
    },
    {
      "cell_type": "code",
      "source": [
        "import matplotlib.pyplot as plt\n",
        "\n",
        "\n",
        "def plot_top_stopwords_barchart(text):\n",
        "    stop=set((stop_list_b))\n",
        "\n",
        "    corpus=[word for i in train[train['author']==3][\"text\"] for word in i]\n",
        "    from collections import defaultdict\n",
        "    dic=defaultdict(int)\n",
        "    for word in corpus:\n",
        "        if word in stop:\n",
        "            dic[word]+=1\n",
        "            \n",
        "    top=sorted(dic.items(), key=lambda x:x[1],reverse=True)[:10] \n",
        "    x,y=zip(*top)\n",
        "    plt.bar(x,y)\n",
        "\n",
        "plot_top_stopwords_barchart(train[train['author']==3][\"text\"])    "
      ],
      "metadata": {
        "colab": {
          "base_uri": "https://localhost:8080/",
          "height": 430
        },
        "id": "rBcuqklWYjqO",
        "outputId": "92b2c6e2-9372-427d-a287-052abd409dc2"
      },
      "execution_count": null,
      "outputs": [
        {
          "output_type": "display_data",
          "data": {
            "text/plain": [
              "<Figure size 640x480 with 1 Axes>"
            ],
            "image/png": "[encoded data removed]"
          },
          "metadata": {}
        }
      ]
    },
    {
      "cell_type": "markdown",
      "source": [
        "- 다른 작가보다 he/she 등은 거의 사용 않고 문장 부호만을 주로 많이 사용하는 것 같음. 특히\",\""
      ],
      "metadata": {
        "id": "7hH7HOLgRX6k"
      }
    },
    {
      "cell_type": "markdown",
      "source": [
        "# 3. 데이터 전처리\n",
        "**version 별로 처리**   \n",
        "ver1. 불용어 제거 안하기 : 세영      \n",
        "ver2. nltk패키지 불용어 중에서, EDA상 상위 20개 불용어만 제거하기 : 유빈      \n",
        "ver3. 베이스라인코드에서 추천하는 불용어 제거하기 : 수빈     \n",
        "ver4. nltk 패키지의 모든 불용어 제거하기 : 민경       \n",
        "ver5. nltk 패지키의 불용어에서 부정어를 제외한 불용어 제거하기 : 재령  \n",
        "> 1) 소문자화   \n",
        "> 2) 토큰화    \n",
        "> 3) 불용어 제거 + 문장부호 제거 o/x   \n",
        "> 4) 표제어 추출 : stemming / lemmatization     \n",
        "> 5) 토큰화 해제    \n",
        "\n"
      ],
      "metadata": {
        "id": "G2v8QbzEQT53"
      }
    },
    {
      "cell_type": "markdown",
      "source": [
        "## ver1. 불용어 제거 안하기 : 세영   \n"
      ],
      "metadata": {
        "id": "GrWQIElkOexx"
      }
    },
    {
      "cell_type": "code",
      "source": [
        "import pandas as pd\n",
        "\n",
        "train = pd.read_csv('train.csv', index_col=0)\n",
        "test = pd.read_csv('test_x.csv', index_col=0)"
      ],
      "metadata": {
        "id": "2HICa23bv3Fo"
      },
      "execution_count": null,
      "outputs": []
    },
    {
      "cell_type": "markdown",
      "source": [
        "### 1) 소문자 처리"
      ],
      "metadata": {
        "id": "KIGXxtRMSAg6"
      }
    },
    {
      "cell_type": "code",
      "source": [
        "# 전체 문자 소문자 변환\n",
        "train['text'] = train['text'].str.lower()\n",
        "test['text'] = test['text'].str.lower()"
      ],
      "metadata": {
        "id": "Yr9iZBLhvz4I"
      },
      "execution_count": null,
      "outputs": []
    },
    {
      "cell_type": "markdown",
      "source": [
        "### 2) 문장부호 o/x 및 토큰화"
      ],
      "metadata": {
        "id": "HSpgZiH_SAjl"
      }
    },
    {
      "cell_type": "code",
      "source": [
        "# 문장부호 제거해주는 함수\n",
        "import re\n",
        "\n",
        "def alpha_num(text):\n",
        "    return re.sub(r'[^A-Za-z0-9 ]', '', text)"
      ],
      "metadata": {
        "id": "m8Ad5h83wO1Q"
      },
      "execution_count": null,
      "outputs": []
    },
    {
      "cell_type": "code",
      "source": [
        "# 문장부호 제거 ver 칼럼 ('text_del') 생성\n",
        "train['text_del']=train['text'].apply(alpha_num)\n",
        "test['text_del']=test['text'].apply(alpha_num)"
      ],
      "metadata": {
        "id": "gXsuptaKwRCK"
      },
      "execution_count": null,
      "outputs": []
    },
    {
      "cell_type": "code",
      "source": [
        "nltk.download('punkt', quiet=True)"
      ],
      "metadata": {
        "id": "D27OsZSSwWaq"
      },
      "execution_count": null,
      "outputs": []
    },
    {
      "cell_type": "code",
      "source": [
        "from nltk.tokenize import word_tokenize\n",
        "\n",
        "def token(df, text):\n",
        "  for i in range(len(df)):\n",
        "    df[text][i] = word_tokenize(df[text][i])"
      ],
      "metadata": {
        "id": "aTluNDUCwnCx"
      },
      "execution_count": null,
      "outputs": []
    },
    {
      "cell_type": "code",
      "source": [
        "token(train, 'text')\n",
        "token(test, 'text')\n",
        "token(train, 'text_del')\n",
        "token(test, 'text_del')"
      ],
      "metadata": {
        "id": "sJeYw2XiwoIM"
      },
      "execution_count": null,
      "outputs": []
    },
    {
      "cell_type": "markdown",
      "source": [
        "### 3) 불용어 제거"
      ],
      "metadata": {
        "id": "zC4Qff_-SDAH"
      }
    },
    {
      "cell_type": "markdown",
      "source": [
        "### 4) 표제어 추출 "
      ],
      "metadata": {
        "id": "hFJtaPubSArq"
      }
    },
    {
      "cell_type": "markdown",
      "source": [
        "A. Stemming"
      ],
      "metadata": {
        "id": "LmZjSp_LTxfx"
      }
    },
    {
      "cell_type": "code",
      "source": [
        "porter = nltk.PorterStemmer()"
      ],
      "metadata": {
        "id": "fCJDTYIcyhZU"
      },
      "execution_count": null,
      "outputs": []
    },
    {
      "cell_type": "code",
      "source": [
        "porter_stem = []\n",
        "text_PorterStem = [] \n",
        "\n",
        "def stem_porter(df, col):\n",
        "  for i in range(len(df[col])):\n",
        "    for j in range(len(df[col][i])):\n",
        "      porter_stem.append(porter.stem(df[col][i][j]))\n",
        "    text_PorterStem.append(list(porter_stem))\n",
        "    porter_stem.clear()\n",
        "  return(len(text_PorterStem[1]))"
      ],
      "metadata": {
        "id": "uEYf9tXxyiRm"
      },
      "execution_count": null,
      "outputs": []
    },
    {
      "cell_type": "code",
      "source": [
        "text_PorterStem.clear()\n",
        "\n",
        "stem_porter(train, 'text')\n",
        "train = train.assign(text_Stem = text_PorterStem)"
      ],
      "metadata": {
        "id": "bDaxElRZy_Zb"
      },
      "execution_count": null,
      "outputs": []
    },
    {
      "cell_type": "code",
      "source": [
        "text_PorterStem.clear()\n",
        "\n",
        "stem_porter(train, 'text_del')\n",
        "train=train.assign(text_del_Stem = text_PorterStem)"
      ],
      "metadata": {
        "id": "w2xh65IwzA-s"
      },
      "execution_count": null,
      "outputs": []
    },
    {
      "cell_type": "code",
      "source": [
        "train"
      ],
      "metadata": {
        "id": "DBfqsWtPzCwu"
      },
      "execution_count": null,
      "outputs": []
    },
    {
      "cell_type": "code",
      "source": [
        "text_PorterStem.clear()\n",
        "\n",
        "stem_porter(test, 'text')\n",
        "test=test.assign(text_Stem = text_PorterStem)"
      ],
      "metadata": {
        "id": "3BktUwokzRwe"
      },
      "execution_count": null,
      "outputs": []
    },
    {
      "cell_type": "code",
      "source": [
        "text_PorterStem.clear()\n",
        "\n",
        "stem_porter(test, 'text_del')\n",
        "test=test.assign(text_del_Stem = text_PorterStem)"
      ],
      "metadata": {
        "id": "OYtaVZ2OzXCc"
      },
      "execution_count": null,
      "outputs": []
    },
    {
      "cell_type": "code",
      "source": [
        "test"
      ],
      "metadata": {
        "id": "vCWrLMMfzaxj"
      },
      "execution_count": null,
      "outputs": []
    },
    {
      "cell_type": "markdown",
      "source": [
        "B. Lemmatization"
      ],
      "metadata": {
        "id": "VAjA66ozTxfx"
      }
    },
    {
      "cell_type": "code",
      "source": [
        "from nltk.stem import WordNetLemmatizer\n",
        "lemmatizer = WordNetLemmatizer()"
      ],
      "metadata": {
        "id": "NVHHocVbzdCt"
      },
      "execution_count": null,
      "outputs": []
    },
    {
      "cell_type": "code",
      "source": [
        "nltk.download('wordnet', quiet=True)"
      ],
      "metadata": {
        "id": "MKHqZKbvzfAo"
      },
      "execution_count": null,
      "outputs": []
    },
    {
      "cell_type": "code",
      "source": [
        "lemma = []\n",
        "text_Lemma = [] \n",
        "\n",
        "def lem(df,col):\n",
        "  for i in range(len(df[col])):\n",
        "    for j in range(len(df[col][i])):\n",
        "      lemma.append(lemmatizer.lemmatize(df[col][i][j], pos='v'))\n",
        "    text_Lemma.append(list(lemma))\n",
        "    lemma.clear()"
      ],
      "metadata": {
        "id": "i2nPj8QHzfT6"
      },
      "execution_count": null,
      "outputs": []
    },
    {
      "cell_type": "code",
      "source": [
        "text_Lemma.clear()\n",
        "\n",
        "lem(train, 'text')\n",
        "train=train.assign(text_Lem = text_Lemma)"
      ],
      "metadata": {
        "id": "6YoBGKj6zhVP"
      },
      "execution_count": null,
      "outputs": []
    },
    {
      "cell_type": "code",
      "source": [
        "text_Lemma.clear()\n",
        "\n",
        "lem(train, 'text_del')\n",
        "train=train.assign(text_del_Lem = text_Lemma)"
      ],
      "metadata": {
        "id": "LAo3kpHGzj6d"
      },
      "execution_count": null,
      "outputs": []
    },
    {
      "cell_type": "code",
      "source": [
        "text_Lemma.clear()\n",
        "lem(test, 'text')\n",
        "test=test.assign(text_Lem = text_Lemma)"
      ],
      "metadata": {
        "id": "mjwm0Zg1zsva"
      },
      "execution_count": null,
      "outputs": []
    },
    {
      "cell_type": "code",
      "source": [
        "text_Lemma.clear()\n",
        "lem(test, 'text_del')\n",
        "test=test.assign(text_del_Lem = text_Lemma)"
      ],
      "metadata": {
        "id": "B4IanQuQ0Cc8"
      },
      "execution_count": null,
      "outputs": []
    },
    {
      "cell_type": "code",
      "source": [
        "train.head()"
      ],
      "metadata": {
        "id": "LXZrcZBh0JLS"
      },
      "execution_count": null,
      "outputs": []
    },
    {
      "cell_type": "code",
      "source": [
        "test.head()"
      ],
      "metadata": {
        "id": "m5Me78zr0K2A"
      },
      "execution_count": null,
      "outputs": []
    },
    {
      "cell_type": "markdown",
      "source": [
        "### 5) 토큰화 해제 및 파일 생성"
      ],
      "metadata": {
        "id": "nddHaJZCSJ6p"
      }
    },
    {
      "cell_type": "code",
      "source": [
        "# 토큰화 해제 함수\n",
        "def con(text):\n",
        "    final_text = []\n",
        "    for i in text:\n",
        "      final_text.append(i.strip())\n",
        "    return \" \".join(final_text)"
      ],
      "metadata": {
        "id": "Hc9Ey2vNy8OT"
      },
      "execution_count": null,
      "outputs": []
    },
    {
      "cell_type": "code",
      "source": [
        "train['text_Stem'] = train['text_Stem'].apply(con)\n",
        "train['text_del_Stem'] = train['text_del_Stem'].apply(con)\n",
        "test['text_Stem'] = test['text_Stem'].apply(con)\n",
        "test['text_del_Stem'] = test['text_del_Stem'].apply(con)"
      ],
      "metadata": {
        "id": "YN_GkKGw3AsA"
      },
      "execution_count": null,
      "outputs": []
    },
    {
      "cell_type": "code",
      "source": [
        "train['text_Lem'] = train['text_Lem'].apply(con)\n",
        "train['text_del_Lem'] = train['text_del_Lem'].apply(con)\n",
        "test['text_Lem'] = test['text_Lem'].apply(con)\n",
        "test['text_del_Lem'] = test['text_del_Lem'].apply(con)"
      ],
      "metadata": {
        "id": "Eebj21393OEV"
      },
      "execution_count": null,
      "outputs": []
    },
    {
      "cell_type": "code",
      "source": [
        "train = train.drop('text', axis=1)\n",
        "train = train.drop('text_del',axis=1)\n",
        "test = test.drop('text', axis=1)\n",
        "test = test.drop('text_del',axis=1)\n",
        "\n",
        "train.columns = ['author', 'S_o', 'S_x', 'L_o', 'L_x']\n",
        "test.columns = ['S_o', 'S_x', 'L_o', 'L_x']"
      ],
      "metadata": {
        "id": "eHweTTrIrdqg"
      },
      "execution_count": null,
      "outputs": []
    },
    {
      "cell_type": "code",
      "source": [
        "# 데이터를 파일로 저장 \n",
        "\n",
        "file_path =  \"/content/drive/My Drive/OB1조/프로젝트2/data/\"\n",
        "\n",
        "file_name = \"X_train_1.csv\"\n",
        "\n",
        "file_full_path = file_path + file_name\n",
        "\n",
        "train.to_csv(file_full_path)  "
      ],
      "metadata": {
        "id": "M1-4hk5g0N_e"
      },
      "execution_count": null,
      "outputs": []
    },
    {
      "cell_type": "code",
      "source": [
        "file_path =  \"/content/drive/My Drive/OB1조/프로젝트2/data/\"\n",
        "\n",
        "file_name = \"X_test_1.csv\"\n",
        "\n",
        "file_full_path = file_path + file_name\n",
        "\n",
        "test.to_csv(file_full_path)"
      ],
      "metadata": {
        "id": "wgdhcmOx0i7l"
      },
      "execution_count": null,
      "outputs": []
    },
    {
      "cell_type": "markdown",
      "source": [
        "## ver2. nltk패키지 불용어 중에서, EDA상 상위 20개 불용어만 제거하기 : 유빈    \n"
      ],
      "metadata": {
        "id": "wyAdILm3Omg0"
      }
    },
    {
      "cell_type": "markdown",
      "source": [
        "### 1) 소문자 처리"
      ],
      "metadata": {
        "id": "6sRHid3ESMuO"
      }
    },
    {
      "cell_type": "markdown",
      "source": [
        "### 2) 토큰화"
      ],
      "metadata": {
        "id": "ULq6X7K8SMuW"
      }
    },
    {
      "cell_type": "markdown",
      "source": [
        "### 3) 불용어 제거 + 문장부호 o/x"
      ],
      "metadata": {
        "id": "8hh8oa4lSMuX"
      }
    },
    {
      "cell_type": "markdown",
      "source": [
        "### 4) 표제어 추출"
      ],
      "metadata": {
        "id": "H_GbRhaWSMuX"
      }
    },
    {
      "cell_type": "markdown",
      "source": [
        "A. Stemming"
      ],
      "metadata": {
        "id": "gdJoWqyWTwvc"
      }
    },
    {
      "cell_type": "markdown",
      "source": [
        "B. Lemmatization"
      ],
      "metadata": {
        "id": "3T6BG70KTwvk"
      }
    },
    {
      "cell_type": "markdown",
      "source": [
        "### 5) 토큰화 해제"
      ],
      "metadata": {
        "id": "X_HJ-bGiSMuX"
      }
    },
    {
      "cell_type": "markdown",
      "source": [
        "## ver3. 베이스라인코드에서 추천하는 불용어 제거하기 : 수빈   \n"
      ],
      "metadata": {
        "id": "HY2hBhsFOmvl"
      }
    },
    {
      "cell_type": "markdown",
      "source": [
        "### 1) 소문자 처리"
      ],
      "metadata": {
        "id": "pTweniLMSNRE"
      }
    },
    {
      "cell_type": "code",
      "source": [
        "import pandas as pd\n",
        "\n",
        "\n",
        "train = pd.read_csv('/content/drive/MyDrive/OB 1조/프로젝트2/data/train.csv', index_col=0)\n",
        "test = pd.read_csv('/content/drive/MyDrive/OB 1조/프로젝트2/data/test_x.csv', index_col=0)"
      ],
      "metadata": {
        "id": "5hjWBqIWZzVP"
      },
      "execution_count": null,
      "outputs": []
    },
    {
      "cell_type": "code",
      "source": [
        "train['text'] = train['text'].str.lower() \n",
        "test['text'] = test['text'].str.lower()"
      ],
      "metadata": {
        "id": "8QCSNeNyZh12"
      },
      "execution_count": null,
      "outputs": []
    },
    {
      "cell_type": "markdown",
      "source": [
        "### 2) 토큰화 + 문장부호 제거\n",
        "\n",
        "**2-1 문장부호 제거 ver**"
      ],
      "metadata": {
        "id": "Rrv-20nMSNRE"
      }
    },
    {
      "cell_type": "code",
      "source": [
        "# 문장부호 제거해주는 함수\n",
        "def alpha_num(text):\n",
        "    return re.sub(r'[^A-Za-z0-9 ]', '', text)"
      ],
      "metadata": {
        "id": "G7wvS5HEsxVs"
      },
      "execution_count": null,
      "outputs": []
    },
    {
      "cell_type": "code",
      "source": [
        "train['text_del']=train['text'].apply(alpha_num)\n",
        "train"
      ],
      "metadata": {
        "id": "k6ncvVo3szlP",
        "colab": {
          "base_uri": "https://localhost:8080/",
          "height": 455
        },
        "outputId": "255d91bd-f477-4ef9-b729-dfe9513f9344"
      },
      "execution_count": null,
      "outputs": [
        {
          "output_type": "execute_result",
          "data": {
            "text/plain": [
              "                                                    text  author  \\\n",
              "index                                                              \n",
              "0      he was almost choking. there was so much, so m...       3   \n",
              "1                 “your sister asked for it, i suppose?”       2   \n",
              "2       she was engaged one day as she walked, in per...       1   \n",
              "3      the captain was in the porch, keeping himself ...       4   \n",
              "4      “have mercy, gentlemen!” odin flung up his han...       3   \n",
              "...                                                  ...     ...   \n",
              "54874  “is that you, mr. smith?” odin whispered. “i h...       2   \n",
              "54875  i told my plan to the captain, and between us ...       4   \n",
              "54876   \"your sincere well-wisher, friend, and sister...       1   \n",
              "54877            “then you wanted me to lend you money?”       3   \n",
              "54878  it certainly had not occurred to me before, bu...       0   \n",
              "\n",
              "                                                text_del  \n",
              "index                                                     \n",
              "0      he was almost choking there was so much so muc...  \n",
              "1                     your sister asked for it i suppose  \n",
              "2       she was engaged one day as she walked in peru...  \n",
              "3      the captain was in the porch keeping himself c...  \n",
              "4      have mercy gentlemen odin flung up his hands d...  \n",
              "...                                                  ...  \n",
              "54874  is that you mr smith odin whispered i hardly d...  \n",
              "54875  i told my plan to the captain and between us w...  \n",
              "54876   your sincere wellwisher friend and sister luc...  \n",
              "54877               then you wanted me to lend you money  \n",
              "54878  it certainly had not occurred to me before but...  \n",
              "\n",
              "[54879 rows x 3 columns]"
            ],
            "text/html": [
              "\n",
              "  <div id=\"df-a3023c5a-3307-4daa-8645-6089b7d48f5a\">\n",
              "    <div class=\"colab-df-container\">\n",
              "      <div>\n",
              "<style scoped>\n",
              "    .dataframe tbody tr th:only-of-type {\n",
              "        vertical-align: middle;\n",
              "    }\n",
              "\n",
              "    .dataframe tbody tr th {\n",
              "        vertical-align: top;\n",
              "    }\n",
              "\n",
              "    .dataframe thead th {\n",
              "        text-align: right;\n",
              "    }\n",
              "</style>\n",
              "<table border=\"1\" class=\"dataframe\">\n",
              "  <thead>\n",
              "    <tr style=\"text-align: right;\">\n",
              "      <th></th>\n",
              "      <th>text</th>\n",
              "      <th>author</th>\n",
              "      <th>text_del</th>\n",
              "    </tr>\n",
              "    <tr>\n",
              "      <th>index</th>\n",
              "      <th></th>\n",
              "      <th></th>\n",
              "      <th></th>\n",
              "    </tr>\n",
              "  </thead>\n",
              "  <tbody>\n",
              "    <tr>\n",
              "      <th>0</th>\n",
              "      <td>he was almost choking. there was so much, so m...</td>\n",
              "      <td>3</td>\n",
              "      <td>he was almost choking there was so much so muc...</td>\n",
              "    </tr>\n",
              "    <tr>\n",
              "      <th>1</th>\n",
              "      <td>“your sister asked for it, i suppose?”</td>\n",
              "      <td>2</td>\n",
              "      <td>your sister asked for it i suppose</td>\n",
              "    </tr>\n",
              "    <tr>\n",
              "      <th>2</th>\n",
              "      <td>she was engaged one day as she walked, in per...</td>\n",
              "      <td>1</td>\n",
              "      <td>she was engaged one day as she walked in peru...</td>\n",
              "    </tr>\n",
              "    <tr>\n",
              "      <th>3</th>\n",
              "      <td>the captain was in the porch, keeping himself ...</td>\n",
              "      <td>4</td>\n",
              "      <td>the captain was in the porch keeping himself c...</td>\n",
              "    </tr>\n",
              "    <tr>\n",
              "      <th>4</th>\n",
              "      <td>“have mercy, gentlemen!” odin flung up his han...</td>\n",
              "      <td>3</td>\n",
              "      <td>have mercy gentlemen odin flung up his hands d...</td>\n",
              "    </tr>\n",
              "    <tr>\n",
              "      <th>...</th>\n",
              "      <td>...</td>\n",
              "      <td>...</td>\n",
              "      <td>...</td>\n",
              "    </tr>\n",
              "    <tr>\n",
              "      <th>54874</th>\n",
              "      <td>“is that you, mr. smith?” odin whispered. “i h...</td>\n",
              "      <td>2</td>\n",
              "      <td>is that you mr smith odin whispered i hardly d...</td>\n",
              "    </tr>\n",
              "    <tr>\n",
              "      <th>54875</th>\n",
              "      <td>i told my plan to the captain, and between us ...</td>\n",
              "      <td>4</td>\n",
              "      <td>i told my plan to the captain and between us w...</td>\n",
              "    </tr>\n",
              "    <tr>\n",
              "      <th>54876</th>\n",
              "      <td>\"your sincere well-wisher, friend, and sister...</td>\n",
              "      <td>1</td>\n",
              "      <td>your sincere wellwisher friend and sister luc...</td>\n",
              "    </tr>\n",
              "    <tr>\n",
              "      <th>54877</th>\n",
              "      <td>“then you wanted me to lend you money?”</td>\n",
              "      <td>3</td>\n",
              "      <td>then you wanted me to lend you money</td>\n",
              "    </tr>\n",
              "    <tr>\n",
              "      <th>54878</th>\n",
              "      <td>it certainly had not occurred to me before, bu...</td>\n",
              "      <td>0</td>\n",
              "      <td>it certainly had not occurred to me before but...</td>\n",
              "    </tr>\n",
              "  </tbody>\n",
              "</table>\n",
              "<p>54879 rows × 3 columns</p>\n",
              "</div>\n",
              "      <button class=\"colab-df-convert\" onclick=\"convertToInteractive('df-a3023c5a-3307-4daa-8645-6089b7d48f5a')\"\n",
              "              title=\"Convert this dataframe to an interactive table.\"\n",
              "              style=\"display:none;\">\n",
              "        \n",
              "  <svg xmlns=\"http://www.w3.org/2000/svg\" height=\"24px\"viewBox=\"0 0 24 24\"\n",
              "       width=\"24px\">\n",
              "    <path d=\"M0 0h24v24H0V0z\" fill=\"none\"/>\n",
              "    <path d=\"M18.56 5.44l.94 2.06.94-2.06 2.06-.94-2.06-.94-.94-2.06-.94 2.06-2.06.94zm-11 1L8.5 8.5l.94-2.06 2.06-.94-2.06-.94L8.5 2.5l-.94 2.06-2.06.94zm10 10l.94 2.06.94-2.06 2.06-.94-2.06-.94-.94-2.06-.94 2.06-2.06.94z\"/><path d=\"M17.41 7.96l-1.37-1.37c-.4-.4-.92-.59-1.43-.59-.52 0-1.04.2-1.43.59L10.3 9.45l-7.72 7.72c-.78.78-.78 2.05 0 2.83L4 21.41c.39.39.9.59 1.41.59.51 0 1.02-.2 1.41-.59l7.78-7.78 2.81-2.81c.8-.78.8-2.07 0-2.86zM5.41 20L4 18.59l7.72-7.72 1.47 1.35L5.41 20z\"/>\n",
              "  </svg>\n",
              "      </button>\n",
              "      \n",
              "  <style>\n",
              "    .colab-df-container {\n",
              "      display:flex;\n",
              "      flex-wrap:wrap;\n",
              "      gap: 12px;\n",
              "    }\n",
              "\n",
              "    .colab-df-convert {\n",
              "      background-color: #E8F0FE;\n",
              "      border: none;\n",
              "      border-radius: 50%;\n",
              "      cursor: pointer;\n",
              "      display: none;\n",
              "      fill: #1967D2;\n",
              "      height: 32px;\n",
              "      padding: 0 0 0 0;\n",
              "      width: 32px;\n",
              "    }\n",
              "\n",
              "    .colab-df-convert:hover {\n",
              "      background-color: #E2EBFA;\n",
              "      box-shadow: 0px 1px 2px rgba(60, 64, 67, 0.3), 0px 1px 3px 1px rgba(60, 64, 67, 0.15);\n",
              "      fill: #174EA6;\n",
              "    }\n",
              "\n",
              "    [theme=dark] .colab-df-convert {\n",
              "      background-color: #3B4455;\n",
              "      fill: #D2E3FC;\n",
              "    }\n",
              "\n",
              "    [theme=dark] .colab-df-convert:hover {\n",
              "      background-color: #434B5C;\n",
              "      box-shadow: 0px 1px 3px 1px rgba(0, 0, 0, 0.15);\n",
              "      filter: drop-shadow(0px 1px 2px rgba(0, 0, 0, 0.3));\n",
              "      fill: #FFFFFF;\n",
              "    }\n",
              "  </style>\n",
              "\n",
              "      <script>\n",
              "        const buttonEl =\n",
              "          document.querySelector('#df-a3023c5a-3307-4daa-8645-6089b7d48f5a button.colab-df-convert');\n",
              "        buttonEl.style.display =\n",
              "          google.colab.kernel.accessAllowed ? 'block' : 'none';\n",
              "\n",
              "        async function convertToInteractive(key) {\n",
              "          const element = document.querySelector('#df-a3023c5a-3307-4daa-8645-6089b7d48f5a');\n",
              "          const dataTable =\n",
              "            await google.colab.kernel.invokeFunction('convertToInteractive',\n",
              "                                                     [key], {});\n",
              "          if (!dataTable) return;\n",
              "\n",
              "          const docLinkHtml = 'Like what you see? Visit the ' +\n",
              "            '<a target=\"_blank\" href=https://colab.research.google.com/notebooks/data_table.ipynb>data table notebook</a>'\n",
              "            + ' to learn more about interactive tables.';\n",
              "          element.innerHTML = '';\n",
              "          dataTable['output_type'] = 'display_data';\n",
              "          await google.colab.output.renderOutput(dataTable, element);\n",
              "          const docLink = document.createElement('div');\n",
              "          docLink.innerHTML = docLinkHtml;\n",
              "          element.appendChild(docLink);\n",
              "        }\n",
              "      </script>\n",
              "    </div>\n",
              "  </div>\n",
              "  "
            ]
          },
          "metadata": {},
          "execution_count": 82
        }
      ]
    },
    {
      "cell_type": "code",
      "source": [
        "test['text_del']=test['text'].apply(alpha_num)\n",
        "test"
      ],
      "metadata": {
        "id": "oiZuf48ys07S",
        "colab": {
          "base_uri": "https://localhost:8080/",
          "height": 455
        },
        "outputId": "bae1c62b-6e1b-4e99-bb8f-8a8f40069c84"
      },
      "execution_count": null,
      "outputs": [
        {
          "output_type": "execute_result",
          "data": {
            "text/plain": [
              "                                                    text  \\\n",
              "index                                                      \n",
              "0      “not at all. i think she is one of the most ch...   \n",
              "1      \"no,\" replied he, with sudden consciousness, \"...   \n",
              "2      as the lady had stated her intention of scream...   \n",
              "3      “and then suddenly in the silence i heard a so...   \n",
              "4      his conviction remained unchanged. so far as i...   \n",
              "...                                                  ...   \n",
              "19612  at the end of another day or two, odin growing...   \n",
              "19613  all afternoon we sat together, mostly in silen...   \n",
              "19614   odin, having carried his thanks to odin, proc...   \n",
              "19615  soon after this, upon odin's leaving the room,...   \n",
              "19616  and all the worse for the doomed man, that the...   \n",
              "\n",
              "                                                text_del  \n",
              "index                                                     \n",
              "0      not at all i think she is one of the most char...  \n",
              "1      no replied he with sudden consciousness not to...  \n",
              "2      as the lady had stated her intention of scream...  \n",
              "3      and then suddenly in the silence i heard a sou...  \n",
              "4      his conviction remained unchanged so far as i ...  \n",
              "...                                                  ...  \n",
              "19612  at the end of another day or two odin growing ...  \n",
              "19613  all afternoon we sat together mostly in silenc...  \n",
              "19614   odin having carried his thanks to odin procee...  \n",
              "19615  soon after this upon odins leaving the room ma...  \n",
              "19616  and all the worse for the doomed man that the ...  \n",
              "\n",
              "[19617 rows x 2 columns]"
            ],
            "text/html": [
              "\n",
              "  <div id=\"df-52f5c4d0-147e-472c-8e0c-02822da1fe4f\">\n",
              "    <div class=\"colab-df-container\">\n",
              "      <div>\n",
              "<style scoped>\n",
              "    .dataframe tbody tr th:only-of-type {\n",
              "        vertical-align: middle;\n",
              "    }\n",
              "\n",
              "    .dataframe tbody tr th {\n",
              "        vertical-align: top;\n",
              "    }\n",
              "\n",
              "    .dataframe thead th {\n",
              "        text-align: right;\n",
              "    }\n",
              "</style>\n",
              "<table border=\"1\" class=\"dataframe\">\n",
              "  <thead>\n",
              "    <tr style=\"text-align: right;\">\n",
              "      <th></th>\n",
              "      <th>text</th>\n",
              "      <th>text_del</th>\n",
              "    </tr>\n",
              "    <tr>\n",
              "      <th>index</th>\n",
              "      <th></th>\n",
              "      <th></th>\n",
              "    </tr>\n",
              "  </thead>\n",
              "  <tbody>\n",
              "    <tr>\n",
              "      <th>0</th>\n",
              "      <td>“not at all. i think she is one of the most ch...</td>\n",
              "      <td>not at all i think she is one of the most char...</td>\n",
              "    </tr>\n",
              "    <tr>\n",
              "      <th>1</th>\n",
              "      <td>\"no,\" replied he, with sudden consciousness, \"...</td>\n",
              "      <td>no replied he with sudden consciousness not to...</td>\n",
              "    </tr>\n",
              "    <tr>\n",
              "      <th>2</th>\n",
              "      <td>as the lady had stated her intention of scream...</td>\n",
              "      <td>as the lady had stated her intention of scream...</td>\n",
              "    </tr>\n",
              "    <tr>\n",
              "      <th>3</th>\n",
              "      <td>“and then suddenly in the silence i heard a so...</td>\n",
              "      <td>and then suddenly in the silence i heard a sou...</td>\n",
              "    </tr>\n",
              "    <tr>\n",
              "      <th>4</th>\n",
              "      <td>his conviction remained unchanged. so far as i...</td>\n",
              "      <td>his conviction remained unchanged so far as i ...</td>\n",
              "    </tr>\n",
              "    <tr>\n",
              "      <th>...</th>\n",
              "      <td>...</td>\n",
              "      <td>...</td>\n",
              "    </tr>\n",
              "    <tr>\n",
              "      <th>19612</th>\n",
              "      <td>at the end of another day or two, odin growing...</td>\n",
              "      <td>at the end of another day or two odin growing ...</td>\n",
              "    </tr>\n",
              "    <tr>\n",
              "      <th>19613</th>\n",
              "      <td>all afternoon we sat together, mostly in silen...</td>\n",
              "      <td>all afternoon we sat together mostly in silenc...</td>\n",
              "    </tr>\n",
              "    <tr>\n",
              "      <th>19614</th>\n",
              "      <td>odin, having carried his thanks to odin, proc...</td>\n",
              "      <td>odin having carried his thanks to odin procee...</td>\n",
              "    </tr>\n",
              "    <tr>\n",
              "      <th>19615</th>\n",
              "      <td>soon after this, upon odin's leaving the room,...</td>\n",
              "      <td>soon after this upon odins leaving the room ma...</td>\n",
              "    </tr>\n",
              "    <tr>\n",
              "      <th>19616</th>\n",
              "      <td>and all the worse for the doomed man, that the...</td>\n",
              "      <td>and all the worse for the doomed man that the ...</td>\n",
              "    </tr>\n",
              "  </tbody>\n",
              "</table>\n",
              "<p>19617 rows × 2 columns</p>\n",
              "</div>\n",
              "      <button class=\"colab-df-convert\" onclick=\"convertToInteractive('df-52f5c4d0-147e-472c-8e0c-02822da1fe4f')\"\n",
              "              title=\"Convert this dataframe to an interactive table.\"\n",
              "              style=\"display:none;\">\n",
              "        \n",
              "  <svg xmlns=\"http://www.w3.org/2000/svg\" height=\"24px\"viewBox=\"0 0 24 24\"\n",
              "       width=\"24px\">\n",
              "    <path d=\"M0 0h24v24H0V0z\" fill=\"none\"/>\n",
              "    <path d=\"M18.56 5.44l.94 2.06.94-2.06 2.06-.94-2.06-.94-.94-2.06-.94 2.06-2.06.94zm-11 1L8.5 8.5l.94-2.06 2.06-.94-2.06-.94L8.5 2.5l-.94 2.06-2.06.94zm10 10l.94 2.06.94-2.06 2.06-.94-2.06-.94-.94-2.06-.94 2.06-2.06.94z\"/><path d=\"M17.41 7.96l-1.37-1.37c-.4-.4-.92-.59-1.43-.59-.52 0-1.04.2-1.43.59L10.3 9.45l-7.72 7.72c-.78.78-.78 2.05 0 2.83L4 21.41c.39.39.9.59 1.41.59.51 0 1.02-.2 1.41-.59l7.78-7.78 2.81-2.81c.8-.78.8-2.07 0-2.86zM5.41 20L4 18.59l7.72-7.72 1.47 1.35L5.41 20z\"/>\n",
              "  </svg>\n",
              "      </button>\n",
              "      \n",
              "  <style>\n",
              "    .colab-df-container {\n",
              "      display:flex;\n",
              "      flex-wrap:wrap;\n",
              "      gap: 12px;\n",
              "    }\n",
              "\n",
              "    .colab-df-convert {\n",
              "      background-color: #E8F0FE;\n",
              "      border: none;\n",
              "      border-radius: 50%;\n",
              "      cursor: pointer;\n",
              "      display: none;\n",
              "      fill: #1967D2;\n",
              "      height: 32px;\n",
              "      padding: 0 0 0 0;\n",
              "      width: 32px;\n",
              "    }\n",
              "\n",
              "    .colab-df-convert:hover {\n",
              "      background-color: #E2EBFA;\n",
              "      box-shadow: 0px 1px 2px rgba(60, 64, 67, 0.3), 0px 1px 3px 1px rgba(60, 64, 67, 0.15);\n",
              "      fill: #174EA6;\n",
              "    }\n",
              "\n",
              "    [theme=dark] .colab-df-convert {\n",
              "      background-color: #3B4455;\n",
              "      fill: #D2E3FC;\n",
              "    }\n",
              "\n",
              "    [theme=dark] .colab-df-convert:hover {\n",
              "      background-color: #434B5C;\n",
              "      box-shadow: 0px 1px 3px 1px rgba(0, 0, 0, 0.15);\n",
              "      filter: drop-shadow(0px 1px 2px rgba(0, 0, 0, 0.3));\n",
              "      fill: #FFFFFF;\n",
              "    }\n",
              "  </style>\n",
              "\n",
              "      <script>\n",
              "        const buttonEl =\n",
              "          document.querySelector('#df-52f5c4d0-147e-472c-8e0c-02822da1fe4f button.colab-df-convert');\n",
              "        buttonEl.style.display =\n",
              "          google.colab.kernel.accessAllowed ? 'block' : 'none';\n",
              "\n",
              "        async function convertToInteractive(key) {\n",
              "          const element = document.querySelector('#df-52f5c4d0-147e-472c-8e0c-02822da1fe4f');\n",
              "          const dataTable =\n",
              "            await google.colab.kernel.invokeFunction('convertToInteractive',\n",
              "                                                     [key], {});\n",
              "          if (!dataTable) return;\n",
              "\n",
              "          const docLinkHtml = 'Like what you see? Visit the ' +\n",
              "            '<a target=\"_blank\" href=https://colab.research.google.com/notebooks/data_table.ipynb>data table notebook</a>'\n",
              "            + ' to learn more about interactive tables.';\n",
              "          element.innerHTML = '';\n",
              "          dataTable['output_type'] = 'display_data';\n",
              "          await google.colab.output.renderOutput(dataTable, element);\n",
              "          const docLink = document.createElement('div');\n",
              "          docLink.innerHTML = docLinkHtml;\n",
              "          element.appendChild(docLink);\n",
              "        }\n",
              "      </script>\n",
              "    </div>\n",
              "  </div>\n",
              "  "
            ]
          },
          "metadata": {},
          "execution_count": 83
        }
      ]
    },
    {
      "cell_type": "code",
      "source": [
        "# 토큰화 \n",
        "from nltk.tokenize import word_tokenize\n",
        "\n",
        "for i in range(len(train)):\n",
        "  train['text_del'][i] = word_tokenize(train['text_del'][i])\n",
        "\n",
        "train.head() "
      ],
      "metadata": {
        "id": "7Eq58fpIs-Pc",
        "colab": {
          "base_uri": "https://localhost:8080/",
          "height": 238
        },
        "outputId": "829976c5-17a2-4af8-97c6-307ce5a9c134"
      },
      "execution_count": null,
      "outputs": [
        {
          "output_type": "execute_result",
          "data": {
            "text/plain": [
              "                                                    text  author  \\\n",
              "index                                                              \n",
              "0      he was almost choking. there was so much, so m...       3   \n",
              "1                 “your sister asked for it, i suppose?”       2   \n",
              "2       she was engaged one day as she walked, in per...       1   \n",
              "3      the captain was in the porch, keeping himself ...       4   \n",
              "4      “have mercy, gentlemen!” odin flung up his han...       3   \n",
              "\n",
              "                                                text_del  \n",
              "index                                                     \n",
              "0      [he, was, almost, choking, there, was, so, muc...  \n",
              "1             [your, sister, asked, for, it, i, suppose]  \n",
              "2      [she, was, engaged, one, day, as, she, walked,...  \n",
              "3      [the, captain, was, in, the, porch, keeping, h...  \n",
              "4      [have, mercy, gentlemen, odin, flung, up, his,...  "
            ],
            "text/html": [
              "\n",
              "  <div id=\"df-2100d313-23b5-46c2-8c1f-790aaf0c63b8\">\n",
              "    <div class=\"colab-df-container\">\n",
              "      <div>\n",
              "<style scoped>\n",
              "    .dataframe tbody tr th:only-of-type {\n",
              "        vertical-align: middle;\n",
              "    }\n",
              "\n",
              "    .dataframe tbody tr th {\n",
              "        vertical-align: top;\n",
              "    }\n",
              "\n",
              "    .dataframe thead th {\n",
              "        text-align: right;\n",
              "    }\n",
              "</style>\n",
              "<table border=\"1\" class=\"dataframe\">\n",
              "  <thead>\n",
              "    <tr style=\"text-align: right;\">\n",
              "      <th></th>\n",
              "      <th>text</th>\n",
              "      <th>author</th>\n",
              "      <th>text_del</th>\n",
              "    </tr>\n",
              "    <tr>\n",
              "      <th>index</th>\n",
              "      <th></th>\n",
              "      <th></th>\n",
              "      <th></th>\n",
              "    </tr>\n",
              "  </thead>\n",
              "  <tbody>\n",
              "    <tr>\n",
              "      <th>0</th>\n",
              "      <td>he was almost choking. there was so much, so m...</td>\n",
              "      <td>3</td>\n",
              "      <td>[he, was, almost, choking, there, was, so, muc...</td>\n",
              "    </tr>\n",
              "    <tr>\n",
              "      <th>1</th>\n",
              "      <td>“your sister asked for it, i suppose?”</td>\n",
              "      <td>2</td>\n",
              "      <td>[your, sister, asked, for, it, i, suppose]</td>\n",
              "    </tr>\n",
              "    <tr>\n",
              "      <th>2</th>\n",
              "      <td>she was engaged one day as she walked, in per...</td>\n",
              "      <td>1</td>\n",
              "      <td>[she, was, engaged, one, day, as, she, walked,...</td>\n",
              "    </tr>\n",
              "    <tr>\n",
              "      <th>3</th>\n",
              "      <td>the captain was in the porch, keeping himself ...</td>\n",
              "      <td>4</td>\n",
              "      <td>[the, captain, was, in, the, porch, keeping, h...</td>\n",
              "    </tr>\n",
              "    <tr>\n",
              "      <th>4</th>\n",
              "      <td>“have mercy, gentlemen!” odin flung up his han...</td>\n",
              "      <td>3</td>\n",
              "      <td>[have, mercy, gentlemen, odin, flung, up, his,...</td>\n",
              "    </tr>\n",
              "  </tbody>\n",
              "</table>\n",
              "</div>\n",
              "      <button class=\"colab-df-convert\" onclick=\"convertToInteractive('df-2100d313-23b5-46c2-8c1f-790aaf0c63b8')\"\n",
              "              title=\"Convert this dataframe to an interactive table.\"\n",
              "              style=\"display:none;\">\n",
              "        \n",
              "  <svg xmlns=\"http://www.w3.org/2000/svg\" height=\"24px\"viewBox=\"0 0 24 24\"\n",
              "       width=\"24px\">\n",
              "    <path d=\"M0 0h24v24H0V0z\" fill=\"none\"/>\n",
              "    <path d=\"M18.56 5.44l.94 2.06.94-2.06 2.06-.94-2.06-.94-.94-2.06-.94 2.06-2.06.94zm-11 1L8.5 8.5l.94-2.06 2.06-.94-2.06-.94L8.5 2.5l-.94 2.06-2.06.94zm10 10l.94 2.06.94-2.06 2.06-.94-2.06-.94-.94-2.06-.94 2.06-2.06.94z\"/><path d=\"M17.41 7.96l-1.37-1.37c-.4-.4-.92-.59-1.43-.59-.52 0-1.04.2-1.43.59L10.3 9.45l-7.72 7.72c-.78.78-.78 2.05 0 2.83L4 21.41c.39.39.9.59 1.41.59.51 0 1.02-.2 1.41-.59l7.78-7.78 2.81-2.81c.8-.78.8-2.07 0-2.86zM5.41 20L4 18.59l7.72-7.72 1.47 1.35L5.41 20z\"/>\n",
              "  </svg>\n",
              "      </button>\n",
              "      \n",
              "  <style>\n",
              "    .colab-df-container {\n",
              "      display:flex;\n",
              "      flex-wrap:wrap;\n",
              "      gap: 12px;\n",
              "    }\n",
              "\n",
              "    .colab-df-convert {\n",
              "      background-color: #E8F0FE;\n",
              "      border: none;\n",
              "      border-radius: 50%;\n",
              "      cursor: pointer;\n",
              "      display: none;\n",
              "      fill: #1967D2;\n",
              "      height: 32px;\n",
              "      padding: 0 0 0 0;\n",
              "      width: 32px;\n",
              "    }\n",
              "\n",
              "    .colab-df-convert:hover {\n",
              "      background-color: #E2EBFA;\n",
              "      box-shadow: 0px 1px 2px rgba(60, 64, 67, 0.3), 0px 1px 3px 1px rgba(60, 64, 67, 0.15);\n",
              "      fill: #174EA6;\n",
              "    }\n",
              "\n",
              "    [theme=dark] .colab-df-convert {\n",
              "      background-color: #3B4455;\n",
              "      fill: #D2E3FC;\n",
              "    }\n",
              "\n",
              "    [theme=dark] .colab-df-convert:hover {\n",
              "      background-color: #434B5C;\n",
              "      box-shadow: 0px 1px 3px 1px rgba(0, 0, 0, 0.15);\n",
              "      filter: drop-shadow(0px 1px 2px rgba(0, 0, 0, 0.3));\n",
              "      fill: #FFFFFF;\n",
              "    }\n",
              "  </style>\n",
              "\n",
              "      <script>\n",
              "        const buttonEl =\n",
              "          document.querySelector('#df-2100d313-23b5-46c2-8c1f-790aaf0c63b8 button.colab-df-convert');\n",
              "        buttonEl.style.display =\n",
              "          google.colab.kernel.accessAllowed ? 'block' : 'none';\n",
              "\n",
              "        async function convertToInteractive(key) {\n",
              "          const element = document.querySelector('#df-2100d313-23b5-46c2-8c1f-790aaf0c63b8');\n",
              "          const dataTable =\n",
              "            await google.colab.kernel.invokeFunction('convertToInteractive',\n",
              "                                                     [key], {});\n",
              "          if (!dataTable) return;\n",
              "\n",
              "          const docLinkHtml = 'Like what you see? Visit the ' +\n",
              "            '<a target=\"_blank\" href=https://colab.research.google.com/notebooks/data_table.ipynb>data table notebook</a>'\n",
              "            + ' to learn more about interactive tables.';\n",
              "          element.innerHTML = '';\n",
              "          dataTable['output_type'] = 'display_data';\n",
              "          await google.colab.output.renderOutput(dataTable, element);\n",
              "          const docLink = document.createElement('div');\n",
              "          docLink.innerHTML = docLinkHtml;\n",
              "          element.appendChild(docLink);\n",
              "        }\n",
              "      </script>\n",
              "    </div>\n",
              "  </div>\n",
              "  "
            ]
          },
          "metadata": {},
          "execution_count": 84
        }
      ]
    },
    {
      "cell_type": "code",
      "source": [
        "# 토큰화 \n",
        "from nltk.tokenize import word_tokenize\n",
        "\n",
        "for i in range(len(test)):\n",
        "  test['text_del'][i] = word_tokenize(test['text_del'][i])\n",
        "\n",
        "test.head()"
      ],
      "metadata": {
        "id": "GCnNvhK7uKu7",
        "colab": {
          "base_uri": "https://localhost:8080/",
          "height": 238
        },
        "outputId": "41fd47d3-c7fb-4aba-d1d3-1b08a7645b99"
      },
      "execution_count": null,
      "outputs": [
        {
          "output_type": "execute_result",
          "data": {
            "text/plain": [
              "                                                    text  \\\n",
              "index                                                      \n",
              "0      “not at all. i think she is one of the most ch...   \n",
              "1      \"no,\" replied he, with sudden consciousness, \"...   \n",
              "2      as the lady had stated her intention of scream...   \n",
              "3      “and then suddenly in the silence i heard a so...   \n",
              "4      his conviction remained unchanged. so far as i...   \n",
              "\n",
              "                                                text_del  \n",
              "index                                                     \n",
              "0      [not, at, all, i, think, she, is, one, of, the...  \n",
              "1      [no, replied, he, with, sudden, consciousness,...  \n",
              "2      [as, the, lady, had, stated, her, intention, o...  \n",
              "3      [and, then, suddenly, in, the, silence, i, hea...  \n",
              "4      [his, conviction, remained, unchanged, so, far...  "
            ],
            "text/html": [
              "\n",
              "  <div id=\"df-b4333efa-8626-472f-9cda-279c32aa7b10\">\n",
              "    <div class=\"colab-df-container\">\n",
              "      <div>\n",
              "<style scoped>\n",
              "    .dataframe tbody tr th:only-of-type {\n",
              "        vertical-align: middle;\n",
              "    }\n",
              "\n",
              "    .dataframe tbody tr th {\n",
              "        vertical-align: top;\n",
              "    }\n",
              "\n",
              "    .dataframe thead th {\n",
              "        text-align: right;\n",
              "    }\n",
              "</style>\n",
              "<table border=\"1\" class=\"dataframe\">\n",
              "  <thead>\n",
              "    <tr style=\"text-align: right;\">\n",
              "      <th></th>\n",
              "      <th>text</th>\n",
              "      <th>text_del</th>\n",
              "    </tr>\n",
              "    <tr>\n",
              "      <th>index</th>\n",
              "      <th></th>\n",
              "      <th></th>\n",
              "    </tr>\n",
              "  </thead>\n",
              "  <tbody>\n",
              "    <tr>\n",
              "      <th>0</th>\n",
              "      <td>“not at all. i think she is one of the most ch...</td>\n",
              "      <td>[not, at, all, i, think, she, is, one, of, the...</td>\n",
              "    </tr>\n",
              "    <tr>\n",
              "      <th>1</th>\n",
              "      <td>\"no,\" replied he, with sudden consciousness, \"...</td>\n",
              "      <td>[no, replied, he, with, sudden, consciousness,...</td>\n",
              "    </tr>\n",
              "    <tr>\n",
              "      <th>2</th>\n",
              "      <td>as the lady had stated her intention of scream...</td>\n",
              "      <td>[as, the, lady, had, stated, her, intention, o...</td>\n",
              "    </tr>\n",
              "    <tr>\n",
              "      <th>3</th>\n",
              "      <td>“and then suddenly in the silence i heard a so...</td>\n",
              "      <td>[and, then, suddenly, in, the, silence, i, hea...</td>\n",
              "    </tr>\n",
              "    <tr>\n",
              "      <th>4</th>\n",
              "      <td>his conviction remained unchanged. so far as i...</td>\n",
              "      <td>[his, conviction, remained, unchanged, so, far...</td>\n",
              "    </tr>\n",
              "  </tbody>\n",
              "</table>\n",
              "</div>\n",
              "      <button class=\"colab-df-convert\" onclick=\"convertToInteractive('df-b4333efa-8626-472f-9cda-279c32aa7b10')\"\n",
              "              title=\"Convert this dataframe to an interactive table.\"\n",
              "              style=\"display:none;\">\n",
              "        \n",
              "  <svg xmlns=\"http://www.w3.org/2000/svg\" height=\"24px\"viewBox=\"0 0 24 24\"\n",
              "       width=\"24px\">\n",
              "    <path d=\"M0 0h24v24H0V0z\" fill=\"none\"/>\n",
              "    <path d=\"M18.56 5.44l.94 2.06.94-2.06 2.06-.94-2.06-.94-.94-2.06-.94 2.06-2.06.94zm-11 1L8.5 8.5l.94-2.06 2.06-.94-2.06-.94L8.5 2.5l-.94 2.06-2.06.94zm10 10l.94 2.06.94-2.06 2.06-.94-2.06-.94-.94-2.06-.94 2.06-2.06.94z\"/><path d=\"M17.41 7.96l-1.37-1.37c-.4-.4-.92-.59-1.43-.59-.52 0-1.04.2-1.43.59L10.3 9.45l-7.72 7.72c-.78.78-.78 2.05 0 2.83L4 21.41c.39.39.9.59 1.41.59.51 0 1.02-.2 1.41-.59l7.78-7.78 2.81-2.81c.8-.78.8-2.07 0-2.86zM5.41 20L4 18.59l7.72-7.72 1.47 1.35L5.41 20z\"/>\n",
              "  </svg>\n",
              "      </button>\n",
              "      \n",
              "  <style>\n",
              "    .colab-df-container {\n",
              "      display:flex;\n",
              "      flex-wrap:wrap;\n",
              "      gap: 12px;\n",
              "    }\n",
              "\n",
              "    .colab-df-convert {\n",
              "      background-color: #E8F0FE;\n",
              "      border: none;\n",
              "      border-radius: 50%;\n",
              "      cursor: pointer;\n",
              "      display: none;\n",
              "      fill: #1967D2;\n",
              "      height: 32px;\n",
              "      padding: 0 0 0 0;\n",
              "      width: 32px;\n",
              "    }\n",
              "\n",
              "    .colab-df-convert:hover {\n",
              "      background-color: #E2EBFA;\n",
              "      box-shadow: 0px 1px 2px rgba(60, 64, 67, 0.3), 0px 1px 3px 1px rgba(60, 64, 67, 0.15);\n",
              "      fill: #174EA6;\n",
              "    }\n",
              "\n",
              "    [theme=dark] .colab-df-convert {\n",
              "      background-color: #3B4455;\n",
              "      fill: #D2E3FC;\n",
              "    }\n",
              "\n",
              "    [theme=dark] .colab-df-convert:hover {\n",
              "      background-color: #434B5C;\n",
              "      box-shadow: 0px 1px 3px 1px rgba(0, 0, 0, 0.15);\n",
              "      filter: drop-shadow(0px 1px 2px rgba(0, 0, 0, 0.3));\n",
              "      fill: #FFFFFF;\n",
              "    }\n",
              "  </style>\n",
              "\n",
              "      <script>\n",
              "        const buttonEl =\n",
              "          document.querySelector('#df-b4333efa-8626-472f-9cda-279c32aa7b10 button.colab-df-convert');\n",
              "        buttonEl.style.display =\n",
              "          google.colab.kernel.accessAllowed ? 'block' : 'none';\n",
              "\n",
              "        async function convertToInteractive(key) {\n",
              "          const element = document.querySelector('#df-b4333efa-8626-472f-9cda-279c32aa7b10');\n",
              "          const dataTable =\n",
              "            await google.colab.kernel.invokeFunction('convertToInteractive',\n",
              "                                                     [key], {});\n",
              "          if (!dataTable) return;\n",
              "\n",
              "          const docLinkHtml = 'Like what you see? Visit the ' +\n",
              "            '<a target=\"_blank\" href=https://colab.research.google.com/notebooks/data_table.ipynb>data table notebook</a>'\n",
              "            + ' to learn more about interactive tables.';\n",
              "          element.innerHTML = '';\n",
              "          dataTable['output_type'] = 'display_data';\n",
              "          await google.colab.output.renderOutput(dataTable, element);\n",
              "          const docLink = document.createElement('div');\n",
              "          docLink.innerHTML = docLinkHtml;\n",
              "          element.appendChild(docLink);\n",
              "        }\n",
              "      </script>\n",
              "    </div>\n",
              "  </div>\n",
              "  "
            ]
          },
          "metadata": {},
          "execution_count": 85
        }
      ]
    },
    {
      "cell_type": "markdown",
      "source": [
        "**2-2 문장부호 제거 X 버전**"
      ],
      "metadata": {
        "id": "eVGL-tXutD4G"
      }
    },
    {
      "cell_type": "code",
      "source": [
        "from nltk.tokenize import word_tokenize\n",
        "\n",
        "for i in range(len(train)):\n",
        "  train['text'][i] = word_tokenize(train['text'][i])\n",
        "\n",
        "train.head()"
      ],
      "metadata": {
        "id": "-AG-zNpYQ078",
        "colab": {
          "base_uri": "https://localhost:8080/",
          "height": 238
        },
        "outputId": "f157ec0a-d5df-4745-96f1-8ff3a24d75b3"
      },
      "execution_count": null,
      "outputs": [
        {
          "output_type": "execute_result",
          "data": {
            "text/plain": [
              "                                                    text  author  \\\n",
              "index                                                              \n",
              "0      [he, was, almost, choking, ., there, was, so, ...       3   \n",
              "1      [“, your, sister, asked, for, it, ,, i, suppos...       2   \n",
              "2      [she, was, engaged, one, day, as, she, walked,...       1   \n",
              "3      [the, captain, was, in, the, porch, ,, keeping...       4   \n",
              "4      [“, have, mercy, ,, gentlemen, !, ”, odin, flu...       3   \n",
              "\n",
              "                                                text_del  \n",
              "index                                                     \n",
              "0      [he, was, almost, choking, there, was, so, muc...  \n",
              "1             [your, sister, asked, for, it, i, suppose]  \n",
              "2      [she, was, engaged, one, day, as, she, walked,...  \n",
              "3      [the, captain, was, in, the, porch, keeping, h...  \n",
              "4      [have, mercy, gentlemen, odin, flung, up, his,...  "
            ],
            "text/html": [
              "\n",
              "  <div id=\"df-bb58a9a0-03fa-4406-9a49-78ceed384a94\">\n",
              "    <div class=\"colab-df-container\">\n",
              "      <div>\n",
              "<style scoped>\n",
              "    .dataframe tbody tr th:only-of-type {\n",
              "        vertical-align: middle;\n",
              "    }\n",
              "\n",
              "    .dataframe tbody tr th {\n",
              "        vertical-align: top;\n",
              "    }\n",
              "\n",
              "    .dataframe thead th {\n",
              "        text-align: right;\n",
              "    }\n",
              "</style>\n",
              "<table border=\"1\" class=\"dataframe\">\n",
              "  <thead>\n",
              "    <tr style=\"text-align: right;\">\n",
              "      <th></th>\n",
              "      <th>text</th>\n",
              "      <th>author</th>\n",
              "      <th>text_del</th>\n",
              "    </tr>\n",
              "    <tr>\n",
              "      <th>index</th>\n",
              "      <th></th>\n",
              "      <th></th>\n",
              "      <th></th>\n",
              "    </tr>\n",
              "  </thead>\n",
              "  <tbody>\n",
              "    <tr>\n",
              "      <th>0</th>\n",
              "      <td>[he, was, almost, choking, ., there, was, so, ...</td>\n",
              "      <td>3</td>\n",
              "      <td>[he, was, almost, choking, there, was, so, muc...</td>\n",
              "    </tr>\n",
              "    <tr>\n",
              "      <th>1</th>\n",
              "      <td>[“, your, sister, asked, for, it, ,, i, suppos...</td>\n",
              "      <td>2</td>\n",
              "      <td>[your, sister, asked, for, it, i, suppose]</td>\n",
              "    </tr>\n",
              "    <tr>\n",
              "      <th>2</th>\n",
              "      <td>[she, was, engaged, one, day, as, she, walked,...</td>\n",
              "      <td>1</td>\n",
              "      <td>[she, was, engaged, one, day, as, she, walked,...</td>\n",
              "    </tr>\n",
              "    <tr>\n",
              "      <th>3</th>\n",
              "      <td>[the, captain, was, in, the, porch, ,, keeping...</td>\n",
              "      <td>4</td>\n",
              "      <td>[the, captain, was, in, the, porch, keeping, h...</td>\n",
              "    </tr>\n",
              "    <tr>\n",
              "      <th>4</th>\n",
              "      <td>[“, have, mercy, ,, gentlemen, !, ”, odin, flu...</td>\n",
              "      <td>3</td>\n",
              "      <td>[have, mercy, gentlemen, odin, flung, up, his,...</td>\n",
              "    </tr>\n",
              "  </tbody>\n",
              "</table>\n",
              "</div>\n",
              "      <button class=\"colab-df-convert\" onclick=\"convertToInteractive('df-bb58a9a0-03fa-4406-9a49-78ceed384a94')\"\n",
              "              title=\"Convert this dataframe to an interactive table.\"\n",
              "              style=\"display:none;\">\n",
              "        \n",
              "  <svg xmlns=\"http://www.w3.org/2000/svg\" height=\"24px\"viewBox=\"0 0 24 24\"\n",
              "       width=\"24px\">\n",
              "    <path d=\"M0 0h24v24H0V0z\" fill=\"none\"/>\n",
              "    <path d=\"M18.56 5.44l.94 2.06.94-2.06 2.06-.94-2.06-.94-.94-2.06-.94 2.06-2.06.94zm-11 1L8.5 8.5l.94-2.06 2.06-.94-2.06-.94L8.5 2.5l-.94 2.06-2.06.94zm10 10l.94 2.06.94-2.06 2.06-.94-2.06-.94-.94-2.06-.94 2.06-2.06.94z\"/><path d=\"M17.41 7.96l-1.37-1.37c-.4-.4-.92-.59-1.43-.59-.52 0-1.04.2-1.43.59L10.3 9.45l-7.72 7.72c-.78.78-.78 2.05 0 2.83L4 21.41c.39.39.9.59 1.41.59.51 0 1.02-.2 1.41-.59l7.78-7.78 2.81-2.81c.8-.78.8-2.07 0-2.86zM5.41 20L4 18.59l7.72-7.72 1.47 1.35L5.41 20z\"/>\n",
              "  </svg>\n",
              "      </button>\n",
              "      \n",
              "  <style>\n",
              "    .colab-df-container {\n",
              "      display:flex;\n",
              "      flex-wrap:wrap;\n",
              "      gap: 12px;\n",
              "    }\n",
              "\n",
              "    .colab-df-convert {\n",
              "      background-color: #E8F0FE;\n",
              "      border: none;\n",
              "      border-radius: 50%;\n",
              "      cursor: pointer;\n",
              "      display: none;\n",
              "      fill: #1967D2;\n",
              "      height: 32px;\n",
              "      padding: 0 0 0 0;\n",
              "      width: 32px;\n",
              "    }\n",
              "\n",
              "    .colab-df-convert:hover {\n",
              "      background-color: #E2EBFA;\n",
              "      box-shadow: 0px 1px 2px rgba(60, 64, 67, 0.3), 0px 1px 3px 1px rgba(60, 64, 67, 0.15);\n",
              "      fill: #174EA6;\n",
              "    }\n",
              "\n",
              "    [theme=dark] .colab-df-convert {\n",
              "      background-color: #3B4455;\n",
              "      fill: #D2E3FC;\n",
              "    }\n",
              "\n",
              "    [theme=dark] .colab-df-convert:hover {\n",
              "      background-color: #434B5C;\n",
              "      box-shadow: 0px 1px 3px 1px rgba(0, 0, 0, 0.15);\n",
              "      filter: drop-shadow(0px 1px 2px rgba(0, 0, 0, 0.3));\n",
              "      fill: #FFFFFF;\n",
              "    }\n",
              "  </style>\n",
              "\n",
              "      <script>\n",
              "        const buttonEl =\n",
              "          document.querySelector('#df-bb58a9a0-03fa-4406-9a49-78ceed384a94 button.colab-df-convert');\n",
              "        buttonEl.style.display =\n",
              "          google.colab.kernel.accessAllowed ? 'block' : 'none';\n",
              "\n",
              "        async function convertToInteractive(key) {\n",
              "          const element = document.querySelector('#df-bb58a9a0-03fa-4406-9a49-78ceed384a94');\n",
              "          const dataTable =\n",
              "            await google.colab.kernel.invokeFunction('convertToInteractive',\n",
              "                                                     [key], {});\n",
              "          if (!dataTable) return;\n",
              "\n",
              "          const docLinkHtml = 'Like what you see? Visit the ' +\n",
              "            '<a target=\"_blank\" href=https://colab.research.google.com/notebooks/data_table.ipynb>data table notebook</a>'\n",
              "            + ' to learn more about interactive tables.';\n",
              "          element.innerHTML = '';\n",
              "          dataTable['output_type'] = 'display_data';\n",
              "          await google.colab.output.renderOutput(dataTable, element);\n",
              "          const docLink = document.createElement('div');\n",
              "          docLink.innerHTML = docLinkHtml;\n",
              "          element.appendChild(docLink);\n",
              "        }\n",
              "      </script>\n",
              "    </div>\n",
              "  </div>\n",
              "  "
            ]
          },
          "metadata": {},
          "execution_count": 86
        }
      ]
    },
    {
      "cell_type": "code",
      "source": [
        "from nltk.tokenize import word_tokenize\n",
        "\n",
        "for i in range(len(test)):\n",
        "  test['text'][i] = word_tokenize(test['text'][i])\n",
        "\n",
        "test.head()"
      ],
      "metadata": {
        "id": "8v6T9y8bq83v",
        "colab": {
          "base_uri": "https://localhost:8080/",
          "height": 238
        },
        "outputId": "b9a6fc80-78a8-4c64-f92d-1ed5c5d1734d"
      },
      "execution_count": null,
      "outputs": [
        {
          "output_type": "execute_result",
          "data": {
            "text/plain": [
              "                                                    text  \\\n",
              "index                                                      \n",
              "0      [“, not, at, all, ., i, think, she, is, one, o...   \n",
              "1      [``, no, ,, '', replied, he, ,, with, sudden, ...   \n",
              "2      [as, the, lady, had, stated, her, intention, o...   \n",
              "3      [“, and, then, suddenly, in, the, silence, i, ...   \n",
              "4      [his, conviction, remained, unchanged, ., so, ...   \n",
              "\n",
              "                                                text_del  \n",
              "index                                                     \n",
              "0      [not, at, all, i, think, she, is, one, of, the...  \n",
              "1      [no, replied, he, with, sudden, consciousness,...  \n",
              "2      [as, the, lady, had, stated, her, intention, o...  \n",
              "3      [and, then, suddenly, in, the, silence, i, hea...  \n",
              "4      [his, conviction, remained, unchanged, so, far...  "
            ],
            "text/html": [
              "\n",
              "  <div id=\"df-bf5262f6-3067-414b-8f33-bc686f20b368\">\n",
              "    <div class=\"colab-df-container\">\n",
              "      <div>\n",
              "<style scoped>\n",
              "    .dataframe tbody tr th:only-of-type {\n",
              "        vertical-align: middle;\n",
              "    }\n",
              "\n",
              "    .dataframe tbody tr th {\n",
              "        vertical-align: top;\n",
              "    }\n",
              "\n",
              "    .dataframe thead th {\n",
              "        text-align: right;\n",
              "    }\n",
              "</style>\n",
              "<table border=\"1\" class=\"dataframe\">\n",
              "  <thead>\n",
              "    <tr style=\"text-align: right;\">\n",
              "      <th></th>\n",
              "      <th>text</th>\n",
              "      <th>text_del</th>\n",
              "    </tr>\n",
              "    <tr>\n",
              "      <th>index</th>\n",
              "      <th></th>\n",
              "      <th></th>\n",
              "    </tr>\n",
              "  </thead>\n",
              "  <tbody>\n",
              "    <tr>\n",
              "      <th>0</th>\n",
              "      <td>[“, not, at, all, ., i, think, she, is, one, o...</td>\n",
              "      <td>[not, at, all, i, think, she, is, one, of, the...</td>\n",
              "    </tr>\n",
              "    <tr>\n",
              "      <th>1</th>\n",
              "      <td>[``, no, ,, '', replied, he, ,, with, sudden, ...</td>\n",
              "      <td>[no, replied, he, with, sudden, consciousness,...</td>\n",
              "    </tr>\n",
              "    <tr>\n",
              "      <th>2</th>\n",
              "      <td>[as, the, lady, had, stated, her, intention, o...</td>\n",
              "      <td>[as, the, lady, had, stated, her, intention, o...</td>\n",
              "    </tr>\n",
              "    <tr>\n",
              "      <th>3</th>\n",
              "      <td>[“, and, then, suddenly, in, the, silence, i, ...</td>\n",
              "      <td>[and, then, suddenly, in, the, silence, i, hea...</td>\n",
              "    </tr>\n",
              "    <tr>\n",
              "      <th>4</th>\n",
              "      <td>[his, conviction, remained, unchanged, ., so, ...</td>\n",
              "      <td>[his, conviction, remained, unchanged, so, far...</td>\n",
              "    </tr>\n",
              "  </tbody>\n",
              "</table>\n",
              "</div>\n",
              "      <button class=\"colab-df-convert\" onclick=\"convertToInteractive('df-bf5262f6-3067-414b-8f33-bc686f20b368')\"\n",
              "              title=\"Convert this dataframe to an interactive table.\"\n",
              "              style=\"display:none;\">\n",
              "        \n",
              "  <svg xmlns=\"http://www.w3.org/2000/svg\" height=\"24px\"viewBox=\"0 0 24 24\"\n",
              "       width=\"24px\">\n",
              "    <path d=\"M0 0h24v24H0V0z\" fill=\"none\"/>\n",
              "    <path d=\"M18.56 5.44l.94 2.06.94-2.06 2.06-.94-2.06-.94-.94-2.06-.94 2.06-2.06.94zm-11 1L8.5 8.5l.94-2.06 2.06-.94-2.06-.94L8.5 2.5l-.94 2.06-2.06.94zm10 10l.94 2.06.94-2.06 2.06-.94-2.06-.94-.94-2.06-.94 2.06-2.06.94z\"/><path d=\"M17.41 7.96l-1.37-1.37c-.4-.4-.92-.59-1.43-.59-.52 0-1.04.2-1.43.59L10.3 9.45l-7.72 7.72c-.78.78-.78 2.05 0 2.83L4 21.41c.39.39.9.59 1.41.59.51 0 1.02-.2 1.41-.59l7.78-7.78 2.81-2.81c.8-.78.8-2.07 0-2.86zM5.41 20L4 18.59l7.72-7.72 1.47 1.35L5.41 20z\"/>\n",
              "  </svg>\n",
              "      </button>\n",
              "      \n",
              "  <style>\n",
              "    .colab-df-container {\n",
              "      display:flex;\n",
              "      flex-wrap:wrap;\n",
              "      gap: 12px;\n",
              "    }\n",
              "\n",
              "    .colab-df-convert {\n",
              "      background-color: #E8F0FE;\n",
              "      border: none;\n",
              "      border-radius: 50%;\n",
              "      cursor: pointer;\n",
              "      display: none;\n",
              "      fill: #1967D2;\n",
              "      height: 32px;\n",
              "      padding: 0 0 0 0;\n",
              "      width: 32px;\n",
              "    }\n",
              "\n",
              "    .colab-df-convert:hover {\n",
              "      background-color: #E2EBFA;\n",
              "      box-shadow: 0px 1px 2px rgba(60, 64, 67, 0.3), 0px 1px 3px 1px rgba(60, 64, 67, 0.15);\n",
              "      fill: #174EA6;\n",
              "    }\n",
              "\n",
              "    [theme=dark] .colab-df-convert {\n",
              "      background-color: #3B4455;\n",
              "      fill: #D2E3FC;\n",
              "    }\n",
              "\n",
              "    [theme=dark] .colab-df-convert:hover {\n",
              "      background-color: #434B5C;\n",
              "      box-shadow: 0px 1px 3px 1px rgba(0, 0, 0, 0.15);\n",
              "      filter: drop-shadow(0px 1px 2px rgba(0, 0, 0, 0.3));\n",
              "      fill: #FFFFFF;\n",
              "    }\n",
              "  </style>\n",
              "\n",
              "      <script>\n",
              "        const buttonEl =\n",
              "          document.querySelector('#df-bf5262f6-3067-414b-8f33-bc686f20b368 button.colab-df-convert');\n",
              "        buttonEl.style.display =\n",
              "          google.colab.kernel.accessAllowed ? 'block' : 'none';\n",
              "\n",
              "        async function convertToInteractive(key) {\n",
              "          const element = document.querySelector('#df-bf5262f6-3067-414b-8f33-bc686f20b368');\n",
              "          const dataTable =\n",
              "            await google.colab.kernel.invokeFunction('convertToInteractive',\n",
              "                                                     [key], {});\n",
              "          if (!dataTable) return;\n",
              "\n",
              "          const docLinkHtml = 'Like what you see? Visit the ' +\n",
              "            '<a target=\"_blank\" href=https://colab.research.google.com/notebooks/data_table.ipynb>data table notebook</a>'\n",
              "            + ' to learn more about interactive tables.';\n",
              "          element.innerHTML = '';\n",
              "          dataTable['output_type'] = 'display_data';\n",
              "          await google.colab.output.renderOutput(dataTable, element);\n",
              "          const docLink = document.createElement('div');\n",
              "          docLink.innerHTML = docLinkHtml;\n",
              "          element.appendChild(docLink);\n",
              "        }\n",
              "      </script>\n",
              "    </div>\n",
              "  </div>\n",
              "  "
            ]
          },
          "metadata": {},
          "execution_count": 87
        }
      ]
    },
    {
      "cell_type": "markdown",
      "source": [
        "### 3) 불용어 제거 \n"
      ],
      "metadata": {
        "id": "Z_o1xQSySNRF"
      }
    },
    {
      "cell_type": "code",
      "source": [
        "# 불용어 - 임의로 지정\n",
        "mystopwords = [ \"a\", \"about\", \"above\", \"after\", \"again\", \"against\", \"all\", \"am\", \"an\", \"and\", \"any\", \"are\", \"as\", \n",
        "             \"at\", \"be\", \"because\", \"been\", \"before\", \"being\", \"below\", \"between\", \"both\", \"but\", \"by\", \"could\", \n",
        "             \"did\", \"do\", \"does\", \"doing\", \"down\", \"during\", \"each\", \"few\", \"for\", \"from\", \"further\", \"had\", \"has\", \n",
        "             \"have\", \"having\", \"he\", \"he'd\", \"he'll\", \"he's\", \"her\", \"here\", \"here's\", \"hers\", \"herself\", \"him\", \"himself\", \n",
        "             \"his\", \"how\", \"how's\", \"i\", \"i'd\", \"i'll\", \"i'm\", \"i've\", \"if\", \"in\", \"into\", \"is\", \"it\", \"it's\", \"its\", \"itself\", \n",
        "             \"let's\", \"me\", \"more\", \"most\", \"my\", \"myself\", \"nor\", \"of\", \"on\", \"once\", \"only\", \"or\", \"other\", \"ought\", \"our\", \"ours\", \n",
        "             \"ourselves\", \"out\", \"over\", \"own\", \"same\", \"she\", \"she'd\", \"she'll\", \"she's\", \"should\", \"so\", \"some\", \"such\", \"than\", \"that\", \n",
        "             \"that's\", \"the\", \"their\", \"theirs\", \"them\", \"themselves\", \"then\", \"there\", \"there's\", \"these\", \"they\", \"they'd\", \"they'll\", \n",
        "             \"they're\", \"they've\", \"this\", \"those\", \"through\", \"to\", \"too\", \"under\", \"until\", \"up\", \"very\", \"was\", \"we\", \"we'd\", \"we'll\", \n",
        "             \"we're\", \"we've\", \"were\", \"what\", \"what's\", \"when\", \"when's\", \"where\", \"where's\", \"which\", \"while\", \"who\", \"who's\", \"whom\", \n",
        "             \"why\", \"why's\", \"with\", \"would\", \"you\", \"you'd\", \"you'll\", \"you're\", \"you've\", \"your\", \"yours\", \"yourself\", \"yourselves\" ]\n",
        "             "
      ],
      "metadata": {
        "id": "9lttLhJhrNm-"
      },
      "execution_count": null,
      "outputs": []
    },
    {
      "cell_type": "code",
      "source": [
        "# 불용어를 제거\n",
        "train['text'] = train['text'].apply(lambda x: [item for item in x if item not in mystopwords])\n",
        "test['text'] = test['text'].apply(lambda x: [item for item in x if item not in mystopwords])"
      ],
      "metadata": {
        "id": "3N0axk4oSqRa"
      },
      "execution_count": null,
      "outputs": []
    },
    {
      "cell_type": "code",
      "source": [
        "# 불용어를 제거\n",
        "train['text_del'] = train['text_del'].apply(lambda x: [item for item in x if item not in mystopwords])\n",
        "test['text_del'] = test['text_del'].apply(lambda x: [item for item in x if item not in mystopwords])"
      ],
      "metadata": {
        "id": "V1-b7D6sSzeK"
      },
      "execution_count": null,
      "outputs": []
    },
    {
      "cell_type": "code",
      "source": [
        "train.head()"
      ],
      "metadata": {
        "id": "RzK3oaKV1gKd",
        "colab": {
          "base_uri": "https://localhost:8080/",
          "height": 238
        },
        "outputId": "4753792f-c055-43a4-fce0-35c86ca978c8"
      },
      "execution_count": null,
      "outputs": [
        {
          "output_type": "execute_result",
          "data": {
            "text/plain": [
              "                                                    text  author  \\\n",
              "index                                                              \n",
              "0      [almost, choking, ., much, ,, much, wanted, sa...       3   \n",
              "1                   [“, sister, asked, ,, suppose, ?, ”]       2   \n",
              "2      [engaged, one, day, walked, ,, perusing, jane,...       1   \n",
              "3      [captain, porch, ,, keeping, carefully, way, t...       4   \n",
              "4      [“, mercy, ,, gentlemen, !, ”, odin, flung, ha...       3   \n",
              "\n",
              "                                                text_del  \n",
              "index                                                     \n",
              "0      [almost, choking, much, much, wanted, say, str...  \n",
              "1                               [sister, asked, suppose]  \n",
              "2      [engaged, one, day, walked, perusing, janes, l...  \n",
              "3      [captain, porch, keeping, carefully, way, trea...  \n",
              "4      [mercy, gentlemen, odin, flung, hands, dont, w...  "
            ],
            "text/html": [
              "\n",
              "  <div id=\"df-440d9856-97f0-4750-a9f5-686cdaddb8a9\">\n",
              "    <div class=\"colab-df-container\">\n",
              "      <div>\n",
              "<style scoped>\n",
              "    .dataframe tbody tr th:only-of-type {\n",
              "        vertical-align: middle;\n",
              "    }\n",
              "\n",
              "    .dataframe tbody tr th {\n",
              "        vertical-align: top;\n",
              "    }\n",
              "\n",
              "    .dataframe thead th {\n",
              "        text-align: right;\n",
              "    }\n",
              "</style>\n",
              "<table border=\"1\" class=\"dataframe\">\n",
              "  <thead>\n",
              "    <tr style=\"text-align: right;\">\n",
              "      <th></th>\n",
              "      <th>text</th>\n",
              "      <th>author</th>\n",
              "      <th>text_del</th>\n",
              "    </tr>\n",
              "    <tr>\n",
              "      <th>index</th>\n",
              "      <th></th>\n",
              "      <th></th>\n",
              "      <th></th>\n",
              "    </tr>\n",
              "  </thead>\n",
              "  <tbody>\n",
              "    <tr>\n",
              "      <th>0</th>\n",
              "      <td>[almost, choking, ., much, ,, much, wanted, sa...</td>\n",
              "      <td>3</td>\n",
              "      <td>[almost, choking, much, much, wanted, say, str...</td>\n",
              "    </tr>\n",
              "    <tr>\n",
              "      <th>1</th>\n",
              "      <td>[“, sister, asked, ,, suppose, ?, ”]</td>\n",
              "      <td>2</td>\n",
              "      <td>[sister, asked, suppose]</td>\n",
              "    </tr>\n",
              "    <tr>\n",
              "      <th>2</th>\n",
              "      <td>[engaged, one, day, walked, ,, perusing, jane,...</td>\n",
              "      <td>1</td>\n",
              "      <td>[engaged, one, day, walked, perusing, janes, l...</td>\n",
              "    </tr>\n",
              "    <tr>\n",
              "      <th>3</th>\n",
              "      <td>[captain, porch, ,, keeping, carefully, way, t...</td>\n",
              "      <td>4</td>\n",
              "      <td>[captain, porch, keeping, carefully, way, trea...</td>\n",
              "    </tr>\n",
              "    <tr>\n",
              "      <th>4</th>\n",
              "      <td>[“, mercy, ,, gentlemen, !, ”, odin, flung, ha...</td>\n",
              "      <td>3</td>\n",
              "      <td>[mercy, gentlemen, odin, flung, hands, dont, w...</td>\n",
              "    </tr>\n",
              "  </tbody>\n",
              "</table>\n",
              "</div>\n",
              "      <button class=\"colab-df-convert\" onclick=\"convertToInteractive('df-440d9856-97f0-4750-a9f5-686cdaddb8a9')\"\n",
              "              title=\"Convert this dataframe to an interactive table.\"\n",
              "              style=\"display:none;\">\n",
              "        \n",
              "  <svg xmlns=\"http://www.w3.org/2000/svg\" height=\"24px\"viewBox=\"0 0 24 24\"\n",
              "       width=\"24px\">\n",
              "    <path d=\"M0 0h24v24H0V0z\" fill=\"none\"/>\n",
              "    <path d=\"M18.56 5.44l.94 2.06.94-2.06 2.06-.94-2.06-.94-.94-2.06-.94 2.06-2.06.94zm-11 1L8.5 8.5l.94-2.06 2.06-.94-2.06-.94L8.5 2.5l-.94 2.06-2.06.94zm10 10l.94 2.06.94-2.06 2.06-.94-2.06-.94-.94-2.06-.94 2.06-2.06.94z\"/><path d=\"M17.41 7.96l-1.37-1.37c-.4-.4-.92-.59-1.43-.59-.52 0-1.04.2-1.43.59L10.3 9.45l-7.72 7.72c-.78.78-.78 2.05 0 2.83L4 21.41c.39.39.9.59 1.41.59.51 0 1.02-.2 1.41-.59l7.78-7.78 2.81-2.81c.8-.78.8-2.07 0-2.86zM5.41 20L4 18.59l7.72-7.72 1.47 1.35L5.41 20z\"/>\n",
              "  </svg>\n",
              "      </button>\n",
              "      \n",
              "  <style>\n",
              "    .colab-df-container {\n",
              "      display:flex;\n",
              "      flex-wrap:wrap;\n",
              "      gap: 12px;\n",
              "    }\n",
              "\n",
              "    .colab-df-convert {\n",
              "      background-color: #E8F0FE;\n",
              "      border: none;\n",
              "      border-radius: 50%;\n",
              "      cursor: pointer;\n",
              "      display: none;\n",
              "      fill: #1967D2;\n",
              "      height: 32px;\n",
              "      padding: 0 0 0 0;\n",
              "      width: 32px;\n",
              "    }\n",
              "\n",
              "    .colab-df-convert:hover {\n",
              "      background-color: #E2EBFA;\n",
              "      box-shadow: 0px 1px 2px rgba(60, 64, 67, 0.3), 0px 1px 3px 1px rgba(60, 64, 67, 0.15);\n",
              "      fill: #174EA6;\n",
              "    }\n",
              "\n",
              "    [theme=dark] .colab-df-convert {\n",
              "      background-color: #3B4455;\n",
              "      fill: #D2E3FC;\n",
              "    }\n",
              "\n",
              "    [theme=dark] .colab-df-convert:hover {\n",
              "      background-color: #434B5C;\n",
              "      box-shadow: 0px 1px 3px 1px rgba(0, 0, 0, 0.15);\n",
              "      filter: drop-shadow(0px 1px 2px rgba(0, 0, 0, 0.3));\n",
              "      fill: #FFFFFF;\n",
              "    }\n",
              "  </style>\n",
              "\n",
              "      <script>\n",
              "        const buttonEl =\n",
              "          document.querySelector('#df-440d9856-97f0-4750-a9f5-686cdaddb8a9 button.colab-df-convert');\n",
              "        buttonEl.style.display =\n",
              "          google.colab.kernel.accessAllowed ? 'block' : 'none';\n",
              "\n",
              "        async function convertToInteractive(key) {\n",
              "          const element = document.querySelector('#df-440d9856-97f0-4750-a9f5-686cdaddb8a9');\n",
              "          const dataTable =\n",
              "            await google.colab.kernel.invokeFunction('convertToInteractive',\n",
              "                                                     [key], {});\n",
              "          if (!dataTable) return;\n",
              "\n",
              "          const docLinkHtml = 'Like what you see? Visit the ' +\n",
              "            '<a target=\"_blank\" href=https://colab.research.google.com/notebooks/data_table.ipynb>data table notebook</a>'\n",
              "            + ' to learn more about interactive tables.';\n",
              "          element.innerHTML = '';\n",
              "          dataTable['output_type'] = 'display_data';\n",
              "          await google.colab.output.renderOutput(dataTable, element);\n",
              "          const docLink = document.createElement('div');\n",
              "          docLink.innerHTML = docLinkHtml;\n",
              "          element.appendChild(docLink);\n",
              "        }\n",
              "      </script>\n",
              "    </div>\n",
              "  </div>\n",
              "  "
            ]
          },
          "metadata": {},
          "execution_count": 91
        }
      ]
    },
    {
      "cell_type": "code",
      "source": [
        "test.head()"
      ],
      "metadata": {
        "id": "70c0nN4B1iDS",
        "colab": {
          "base_uri": "https://localhost:8080/",
          "height": 238
        },
        "outputId": "11cae774-1ee6-454f-e09d-774b924f7a07"
      },
      "execution_count": null,
      "outputs": [
        {
          "output_type": "execute_result",
          "data": {
            "text/plain": [
              "                                                    text  \\\n",
              "index                                                      \n",
              "0      [“, not, ., think, one, charming, young, ladie...   \n",
              "1      [``, no, ,, '', replied, ,, sudden, consciousn...   \n",
              "2      [lady, stated, intention, screaming, ,, course...   \n",
              "3      [“, suddenly, silence, heard, sound, sent, hea...   \n",
              "4      [conviction, remained, unchanged, ., far, know...   \n",
              "\n",
              "                                                text_del  \n",
              "index                                                     \n",
              "0      [not, think, one, charming, young, ladies, eve...  \n",
              "1      [no, replied, sudden, consciousness, not, find...  \n",
              "2      [lady, stated, intention, screaming, course, s...  \n",
              "3      [suddenly, silence, heard, sound, sent, heart,...  \n",
              "4      [conviction, remained, unchanged, far, knowand...  "
            ],
            "text/html": [
              "\n",
              "  <div id=\"df-6e9e3c20-58f8-4d1f-aa22-2e73dda348e7\">\n",
              "    <div class=\"colab-df-container\">\n",
              "      <div>\n",
              "<style scoped>\n",
              "    .dataframe tbody tr th:only-of-type {\n",
              "        vertical-align: middle;\n",
              "    }\n",
              "\n",
              "    .dataframe tbody tr th {\n",
              "        vertical-align: top;\n",
              "    }\n",
              "\n",
              "    .dataframe thead th {\n",
              "        text-align: right;\n",
              "    }\n",
              "</style>\n",
              "<table border=\"1\" class=\"dataframe\">\n",
              "  <thead>\n",
              "    <tr style=\"text-align: right;\">\n",
              "      <th></th>\n",
              "      <th>text</th>\n",
              "      <th>text_del</th>\n",
              "    </tr>\n",
              "    <tr>\n",
              "      <th>index</th>\n",
              "      <th></th>\n",
              "      <th></th>\n",
              "    </tr>\n",
              "  </thead>\n",
              "  <tbody>\n",
              "    <tr>\n",
              "      <th>0</th>\n",
              "      <td>[“, not, ., think, one, charming, young, ladie...</td>\n",
              "      <td>[not, think, one, charming, young, ladies, eve...</td>\n",
              "    </tr>\n",
              "    <tr>\n",
              "      <th>1</th>\n",
              "      <td>[``, no, ,, '', replied, ,, sudden, consciousn...</td>\n",
              "      <td>[no, replied, sudden, consciousness, not, find...</td>\n",
              "    </tr>\n",
              "    <tr>\n",
              "      <th>2</th>\n",
              "      <td>[lady, stated, intention, screaming, ,, course...</td>\n",
              "      <td>[lady, stated, intention, screaming, course, s...</td>\n",
              "    </tr>\n",
              "    <tr>\n",
              "      <th>3</th>\n",
              "      <td>[“, suddenly, silence, heard, sound, sent, hea...</td>\n",
              "      <td>[suddenly, silence, heard, sound, sent, heart,...</td>\n",
              "    </tr>\n",
              "    <tr>\n",
              "      <th>4</th>\n",
              "      <td>[conviction, remained, unchanged, ., far, know...</td>\n",
              "      <td>[conviction, remained, unchanged, far, knowand...</td>\n",
              "    </tr>\n",
              "  </tbody>\n",
              "</table>\n",
              "</div>\n",
              "      <button class=\"colab-df-convert\" onclick=\"convertToInteractive('df-6e9e3c20-58f8-4d1f-aa22-2e73dda348e7')\"\n",
              "              title=\"Convert this dataframe to an interactive table.\"\n",
              "              style=\"display:none;\">\n",
              "        \n",
              "  <svg xmlns=\"http://www.w3.org/2000/svg\" height=\"24px\"viewBox=\"0 0 24 24\"\n",
              "       width=\"24px\">\n",
              "    <path d=\"M0 0h24v24H0V0z\" fill=\"none\"/>\n",
              "    <path d=\"M18.56 5.44l.94 2.06.94-2.06 2.06-.94-2.06-.94-.94-2.06-.94 2.06-2.06.94zm-11 1L8.5 8.5l.94-2.06 2.06-.94-2.06-.94L8.5 2.5l-.94 2.06-2.06.94zm10 10l.94 2.06.94-2.06 2.06-.94-2.06-.94-.94-2.06-.94 2.06-2.06.94z\"/><path d=\"M17.41 7.96l-1.37-1.37c-.4-.4-.92-.59-1.43-.59-.52 0-1.04.2-1.43.59L10.3 9.45l-7.72 7.72c-.78.78-.78 2.05 0 2.83L4 21.41c.39.39.9.59 1.41.59.51 0 1.02-.2 1.41-.59l7.78-7.78 2.81-2.81c.8-.78.8-2.07 0-2.86zM5.41 20L4 18.59l7.72-7.72 1.47 1.35L5.41 20z\"/>\n",
              "  </svg>\n",
              "      </button>\n",
              "      \n",
              "  <style>\n",
              "    .colab-df-container {\n",
              "      display:flex;\n",
              "      flex-wrap:wrap;\n",
              "      gap: 12px;\n",
              "    }\n",
              "\n",
              "    .colab-df-convert {\n",
              "      background-color: #E8F0FE;\n",
              "      border: none;\n",
              "      border-radius: 50%;\n",
              "      cursor: pointer;\n",
              "      display: none;\n",
              "      fill: #1967D2;\n",
              "      height: 32px;\n",
              "      padding: 0 0 0 0;\n",
              "      width: 32px;\n",
              "    }\n",
              "\n",
              "    .colab-df-convert:hover {\n",
              "      background-color: #E2EBFA;\n",
              "      box-shadow: 0px 1px 2px rgba(60, 64, 67, 0.3), 0px 1px 3px 1px rgba(60, 64, 67, 0.15);\n",
              "      fill: #174EA6;\n",
              "    }\n",
              "\n",
              "    [theme=dark] .colab-df-convert {\n",
              "      background-color: #3B4455;\n",
              "      fill: #D2E3FC;\n",
              "    }\n",
              "\n",
              "    [theme=dark] .colab-df-convert:hover {\n",
              "      background-color: #434B5C;\n",
              "      box-shadow: 0px 1px 3px 1px rgba(0, 0, 0, 0.15);\n",
              "      filter: drop-shadow(0px 1px 2px rgba(0, 0, 0, 0.3));\n",
              "      fill: #FFFFFF;\n",
              "    }\n",
              "  </style>\n",
              "\n",
              "      <script>\n",
              "        const buttonEl =\n",
              "          document.querySelector('#df-6e9e3c20-58f8-4d1f-aa22-2e73dda348e7 button.colab-df-convert');\n",
              "        buttonEl.style.display =\n",
              "          google.colab.kernel.accessAllowed ? 'block' : 'none';\n",
              "\n",
              "        async function convertToInteractive(key) {\n",
              "          const element = document.querySelector('#df-6e9e3c20-58f8-4d1f-aa22-2e73dda348e7');\n",
              "          const dataTable =\n",
              "            await google.colab.kernel.invokeFunction('convertToInteractive',\n",
              "                                                     [key], {});\n",
              "          if (!dataTable) return;\n",
              "\n",
              "          const docLinkHtml = 'Like what you see? Visit the ' +\n",
              "            '<a target=\"_blank\" href=https://colab.research.google.com/notebooks/data_table.ipynb>data table notebook</a>'\n",
              "            + ' to learn more about interactive tables.';\n",
              "          element.innerHTML = '';\n",
              "          dataTable['output_type'] = 'display_data';\n",
              "          await google.colab.output.renderOutput(dataTable, element);\n",
              "          const docLink = document.createElement('div');\n",
              "          docLink.innerHTML = docLinkHtml;\n",
              "          element.appendChild(docLink);\n",
              "        }\n",
              "      </script>\n",
              "    </div>\n",
              "  </div>\n",
              "  "
            ]
          },
          "metadata": {},
          "execution_count": 92
        }
      ]
    },
    {
      "cell_type": "markdown",
      "source": [
        "### 4) 표제어 추출"
      ],
      "metadata": {
        "id": "5GH1h8zvSNRF"
      }
    },
    {
      "cell_type": "markdown",
      "source": [
        "A. Stemming"
      ],
      "metadata": {
        "id": "ZtXL0CilTvxm"
      }
    },
    {
      "cell_type": "code",
      "source": [
        "porter = nltk.PorterStemmer()"
      ],
      "metadata": {
        "id": "nyxokwjyTQ7X"
      },
      "execution_count": null,
      "outputs": []
    },
    {
      "cell_type": "code",
      "source": [
        "porter_stem = []\n",
        "text_PorterStem = [] \n",
        "\n",
        "def stem_porter(df, col):\n",
        "  for i in range(len(df[col])):\n",
        "    for j in range(len(df[col][i])):\n",
        "      porter_stem.append(porter.stem(df[col][i][j]))\n",
        "    text_PorterStem.append(list(porter_stem))\n",
        "    porter_stem.clear()\n",
        "  return(len(text_PorterStem[1]))"
      ],
      "metadata": {
        "id": "ap_AQQ62RN7I"
      },
      "execution_count": null,
      "outputs": []
    },
    {
      "cell_type": "code",
      "source": [
        "stem_porter(train, 'text')\n",
        "train=train.assign(text = text_PorterStem)"
      ],
      "metadata": {
        "id": "lgTJ8HJGRWKq"
      },
      "execution_count": null,
      "outputs": []
    },
    {
      "cell_type": "code",
      "source": [
        "text_PorterStem.clear()\n",
        "stem_porter(train, 'text_del')\n",
        "train=train.assign(text_del = text_PorterStem)"
      ],
      "metadata": {
        "id": "A-LKnh0HRdwp"
      },
      "execution_count": null,
      "outputs": []
    },
    {
      "cell_type": "code",
      "source": [
        "train"
      ],
      "metadata": {
        "colab": {
          "base_uri": "https://localhost:8080/",
          "height": 455
        },
        "id": "5fgEUjXDTbaL",
        "outputId": "42158e5a-89a3-4814-d12a-69e5013318a6"
      },
      "execution_count": null,
      "outputs": [
        {
          "output_type": "execute_result",
          "data": {
            "text/plain": [
              "                                                    text  author  \\\n",
              "index                                                              \n",
              "0      [almost, choke, ., much, ,, much, want, say, ,...       3   \n",
              "1                      [“, sister, ask, ,, suppos, ?, ”]       2   \n",
              "2      [engag, one, day, walk, ,, perus, jane, ’, s, ...       1   \n",
              "3      [captain, porch, ,, keep, care, way, treacher,...       4   \n",
              "4      [“, merci, ,, gentlemen, !, ”, odin, flung, ha...       3   \n",
              "...                                                  ...     ...   \n",
              "54874  [“, ,, mr., smith, ?, ”, odin, whisper, ., “, ...       2   \n",
              "54875  [told, plan, captain, ,, us, settl, detail, ac...       4   \n",
              "54876  [``, sincer, well-wish, ,, friend, ,, sister, ...       1   \n",
              "54877                       [“, want, lend, money, ?, ”]       3   \n",
              "54878  [certainli, not, occur, ,, said, ,, ye, ,, lik...       0   \n",
              "\n",
              "                                            text_delcode  \n",
              "index                                                     \n",
              "0      [almost, choke, much, much, want, say, strang,...  \n",
              "1                                  [sister, ask, suppos]  \n",
              "2      [engag, one, day, walk, perus, jane, last, let...  \n",
              "3      [captain, porch, keep, care, way, treacher, sh...  \n",
              "4      [merci, gentlemen, odin, flung, hand, dont, wr...  \n",
              "...                                                  ...  \n",
              "54874  [mr, smith, odin, whisper, hardli, dare, hope,...  \n",
              "54875  [told, plan, captain, us, settl, detail, accom...  \n",
              "54876     [sincer, wellwish, friend, sister, luci, odin]  \n",
              "54877                                [want, lend, money]  \n",
              "54878            [certainli, not, occur, said, ye, like]  \n",
              "\n",
              "[54879 rows x 3 columns]"
            ],
            "text/html": [
              "\n",
              "  <div id=\"df-71eb034e-4a70-4075-99e9-522d214efe93\">\n",
              "    <div class=\"colab-df-container\">\n",
              "      <div>\n",
              "<style scoped>\n",
              "    .dataframe tbody tr th:only-of-type {\n",
              "        vertical-align: middle;\n",
              "    }\n",
              "\n",
              "    .dataframe tbody tr th {\n",
              "        vertical-align: top;\n",
              "    }\n",
              "\n",
              "    .dataframe thead th {\n",
              "        text-align: right;\n",
              "    }\n",
              "</style>\n",
              "<table border=\"1\" class=\"dataframe\">\n",
              "  <thead>\n",
              "    <tr style=\"text-align: right;\">\n",
              "      <th></th>\n",
              "      <th>text</th>\n",
              "      <th>author</th>\n",
              "      <th>text_delcode</th>\n",
              "    </tr>\n",
              "    <tr>\n",
              "      <th>index</th>\n",
              "      <th></th>\n",
              "      <th></th>\n",
              "      <th></th>\n",
              "    </tr>\n",
              "  </thead>\n",
              "  <tbody>\n",
              "    <tr>\n",
              "      <th>0</th>\n",
              "      <td>[almost, choke, ., much, ,, much, want, say, ,...</td>\n",
              "      <td>3</td>\n",
              "      <td>[almost, choke, much, much, want, say, strang,...</td>\n",
              "    </tr>\n",
              "    <tr>\n",
              "      <th>1</th>\n",
              "      <td>[“, sister, ask, ,, suppos, ?, ”]</td>\n",
              "      <td>2</td>\n",
              "      <td>[sister, ask, suppos]</td>\n",
              "    </tr>\n",
              "    <tr>\n",
              "      <th>2</th>\n",
              "      <td>[engag, one, day, walk, ,, perus, jane, ’, s, ...</td>\n",
              "      <td>1</td>\n",
              "      <td>[engag, one, day, walk, perus, jane, last, let...</td>\n",
              "    </tr>\n",
              "    <tr>\n",
              "      <th>3</th>\n",
              "      <td>[captain, porch, ,, keep, care, way, treacher,...</td>\n",
              "      <td>4</td>\n",
              "      <td>[captain, porch, keep, care, way, treacher, sh...</td>\n",
              "    </tr>\n",
              "    <tr>\n",
              "      <th>4</th>\n",
              "      <td>[“, merci, ,, gentlemen, !, ”, odin, flung, ha...</td>\n",
              "      <td>3</td>\n",
              "      <td>[merci, gentlemen, odin, flung, hand, dont, wr...</td>\n",
              "    </tr>\n",
              "    <tr>\n",
              "      <th>...</th>\n",
              "      <td>...</td>\n",
              "      <td>...</td>\n",
              "      <td>...</td>\n",
              "    </tr>\n",
              "    <tr>\n",
              "      <th>54874</th>\n",
              "      <td>[“, ,, mr., smith, ?, ”, odin, whisper, ., “, ...</td>\n",
              "      <td>2</td>\n",
              "      <td>[mr, smith, odin, whisper, hardli, dare, hope,...</td>\n",
              "    </tr>\n",
              "    <tr>\n",
              "      <th>54875</th>\n",
              "      <td>[told, plan, captain, ,, us, settl, detail, ac...</td>\n",
              "      <td>4</td>\n",
              "      <td>[told, plan, captain, us, settl, detail, accom...</td>\n",
              "    </tr>\n",
              "    <tr>\n",
              "      <th>54876</th>\n",
              "      <td>[``, sincer, well-wish, ,, friend, ,, sister, ...</td>\n",
              "      <td>1</td>\n",
              "      <td>[sincer, wellwish, friend, sister, luci, odin]</td>\n",
              "    </tr>\n",
              "    <tr>\n",
              "      <th>54877</th>\n",
              "      <td>[“, want, lend, money, ?, ”]</td>\n",
              "      <td>3</td>\n",
              "      <td>[want, lend, money]</td>\n",
              "    </tr>\n",
              "    <tr>\n",
              "      <th>54878</th>\n",
              "      <td>[certainli, not, occur, ,, said, ,, ye, ,, lik...</td>\n",
              "      <td>0</td>\n",
              "      <td>[certainli, not, occur, said, ye, like]</td>\n",
              "    </tr>\n",
              "  </tbody>\n",
              "</table>\n",
              "<p>54879 rows × 3 columns</p>\n",
              "</div>\n",
              "      <button class=\"colab-df-convert\" onclick=\"convertToInteractive('df-71eb034e-4a70-4075-99e9-522d214efe93')\"\n",
              "              title=\"Convert this dataframe to an interactive table.\"\n",
              "              style=\"display:none;\">\n",
              "        \n",
              "  <svg xmlns=\"http://www.w3.org/2000/svg\" height=\"24px\"viewBox=\"0 0 24 24\"\n",
              "       width=\"24px\">\n",
              "    <path d=\"M0 0h24v24H0V0z\" fill=\"none\"/>\n",
              "    <path d=\"M18.56 5.44l.94 2.06.94-2.06 2.06-.94-2.06-.94-.94-2.06-.94 2.06-2.06.94zm-11 1L8.5 8.5l.94-2.06 2.06-.94-2.06-.94L8.5 2.5l-.94 2.06-2.06.94zm10 10l.94 2.06.94-2.06 2.06-.94-2.06-.94-.94-2.06-.94 2.06-2.06.94z\"/><path d=\"M17.41 7.96l-1.37-1.37c-.4-.4-.92-.59-1.43-.59-.52 0-1.04.2-1.43.59L10.3 9.45l-7.72 7.72c-.78.78-.78 2.05 0 2.83L4 21.41c.39.39.9.59 1.41.59.51 0 1.02-.2 1.41-.59l7.78-7.78 2.81-2.81c.8-.78.8-2.07 0-2.86zM5.41 20L4 18.59l7.72-7.72 1.47 1.35L5.41 20z\"/>\n",
              "  </svg>\n",
              "      </button>\n",
              "      \n",
              "  <style>\n",
              "    .colab-df-container {\n",
              "      display:flex;\n",
              "      flex-wrap:wrap;\n",
              "      gap: 12px;\n",
              "    }\n",
              "\n",
              "    .colab-df-convert {\n",
              "      background-color: #E8F0FE;\n",
              "      border: none;\n",
              "      border-radius: 50%;\n",
              "      cursor: pointer;\n",
              "      display: none;\n",
              "      fill: #1967D2;\n",
              "      height: 32px;\n",
              "      padding: 0 0 0 0;\n",
              "      width: 32px;\n",
              "    }\n",
              "\n",
              "    .colab-df-convert:hover {\n",
              "      background-color: #E2EBFA;\n",
              "      box-shadow: 0px 1px 2px rgba(60, 64, 67, 0.3), 0px 1px 3px 1px rgba(60, 64, 67, 0.15);\n",
              "      fill: #174EA6;\n",
              "    }\n",
              "\n",
              "    [theme=dark] .colab-df-convert {\n",
              "      background-color: #3B4455;\n",
              "      fill: #D2E3FC;\n",
              "    }\n",
              "\n",
              "    [theme=dark] .colab-df-convert:hover {\n",
              "      background-color: #434B5C;\n",
              "      box-shadow: 0px 1px 3px 1px rgba(0, 0, 0, 0.15);\n",
              "      filter: drop-shadow(0px 1px 2px rgba(0, 0, 0, 0.3));\n",
              "      fill: #FFFFFF;\n",
              "    }\n",
              "  </style>\n",
              "\n",
              "      <script>\n",
              "        const buttonEl =\n",
              "          document.querySelector('#df-71eb034e-4a70-4075-99e9-522d214efe93 button.colab-df-convert');\n",
              "        buttonEl.style.display =\n",
              "          google.colab.kernel.accessAllowed ? 'block' : 'none';\n",
              "\n",
              "        async function convertToInteractive(key) {\n",
              "          const element = document.querySelector('#df-71eb034e-4a70-4075-99e9-522d214efe93');\n",
              "          const dataTable =\n",
              "            await google.colab.kernel.invokeFunction('convertToInteractive',\n",
              "                                                     [key], {});\n",
              "          if (!dataTable) return;\n",
              "\n",
              "          const docLinkHtml = 'Like what you see? Visit the ' +\n",
              "            '<a target=\"_blank\" href=https://colab.research.google.com/notebooks/data_table.ipynb>data table notebook</a>'\n",
              "            + ' to learn more about interactive tables.';\n",
              "          element.innerHTML = '';\n",
              "          dataTable['output_type'] = 'display_data';\n",
              "          await google.colab.output.renderOutput(dataTable, element);\n",
              "          const docLink = document.createElement('div');\n",
              "          docLink.innerHTML = docLinkHtml;\n",
              "          element.appendChild(docLink);\n",
              "        }\n",
              "      </script>\n",
              "    </div>\n",
              "  </div>\n",
              "  "
            ]
          },
          "metadata": {},
          "execution_count": 112
        }
      ]
    },
    {
      "cell_type": "code",
      "source": [
        "text_PorterStem.clear()\n",
        "stem_porter(test, 'text')\n",
        "test=test.assign(text = text_PorterStem)"
      ],
      "metadata": {
        "id": "zqjUwJXKTm3c"
      },
      "execution_count": null,
      "outputs": []
    },
    {
      "cell_type": "code",
      "source": [
        "text_PorterStem.clear()\n",
        "stem_porter(test, 'text_del')\n",
        "test=test.assign(text_del = text_PorterStem)"
      ],
      "metadata": {
        "id": "v4OU8yDnTpkh"
      },
      "execution_count": null,
      "outputs": []
    },
    {
      "cell_type": "code",
      "source": [
        "test"
      ],
      "metadata": {
        "colab": {
          "base_uri": "https://localhost:8080/",
          "height": 455
        },
        "id": "iFe4D9WMTyfw",
        "outputId": "61cd883f-722d-4e7e-8f9e-8b9770330299"
      },
      "execution_count": null,
      "outputs": [
        {
          "output_type": "execute_result",
          "data": {
            "text/plain": [
              "                                                    text  \\\n",
              "index                                                      \n",
              "0      [“, not, ., think, one, charm, young, ladi, ev...   \n",
              "1      [``, no, ,, '', repli, ,, sudden, conscious, ,...   \n",
              "2      [ladi, state, intent, scream, ,, cours, scream...   \n",
              "3      [“, suddenli, silenc, heard, sound, sent, hear...   \n",
              "4      [convict, remain, unchang, ., far, know, --, b...   \n",
              "...                                                  ...   \n",
              "19612  [end, anoth, day, two, ,, odin, grow, visibl, ...   \n",
              "19613  [afternoon, sat, togeth, ,, mostli, silenc, ,,...   \n",
              "19614  [odin, ,, carri, thank, odin, ,, proceed, happ...   \n",
              "19615  [soon, ,, upon, odin, 's, leav, room, ,, ``, m...   \n",
              "19616  [wors, doom, man, ,, denounc, well-known, citi...   \n",
              "\n",
              "                                            text_delcode  \n",
              "index                                                     \n",
              "0      [not, think, one, charm, young, ladi, ever, me...  \n",
              "1      [no, repli, sudden, conscious, not, find, can,...  \n",
              "2      [ladi, state, intent, scream, cours, scream, a...  \n",
              "3      [suddenli, silenc, heard, sound, sent, heart, ...  \n",
              "4      [convict, remain, unchang, far, knowand, belie...  \n",
              "...                                                  ...  \n",
              "19612  [end, anoth, day, two, odin, grow, visibl, str...  \n",
              "19613  [afternoon, sat, togeth, mostli, silenc, watch...  \n",
              "19614  [odin, carri, thank, odin, proceed, happi, luc...  \n",
              "19615  [soon, upon, odin, leav, room, mama, said, odi...  \n",
              "19616  [wors, doom, man, denounc, wellknown, citizen,...  \n",
              "\n",
              "[19617 rows x 2 columns]"
            ],
            "text/html": [
              "\n",
              "  <div id=\"df-0a2785b9-61e0-4cd8-8ff8-5610ef9a30ae\">\n",
              "    <div class=\"colab-df-container\">\n",
              "      <div>\n",
              "<style scoped>\n",
              "    .dataframe tbody tr th:only-of-type {\n",
              "        vertical-align: middle;\n",
              "    }\n",
              "\n",
              "    .dataframe tbody tr th {\n",
              "        vertical-align: top;\n",
              "    }\n",
              "\n",
              "    .dataframe thead th {\n",
              "        text-align: right;\n",
              "    }\n",
              "</style>\n",
              "<table border=\"1\" class=\"dataframe\">\n",
              "  <thead>\n",
              "    <tr style=\"text-align: right;\">\n",
              "      <th></th>\n",
              "      <th>text</th>\n",
              "      <th>text_delcode</th>\n",
              "    </tr>\n",
              "    <tr>\n",
              "      <th>index</th>\n",
              "      <th></th>\n",
              "      <th></th>\n",
              "    </tr>\n",
              "  </thead>\n",
              "  <tbody>\n",
              "    <tr>\n",
              "      <th>0</th>\n",
              "      <td>[“, not, ., think, one, charm, young, ladi, ev...</td>\n",
              "      <td>[not, think, one, charm, young, ladi, ever, me...</td>\n",
              "    </tr>\n",
              "    <tr>\n",
              "      <th>1</th>\n",
              "      <td>[``, no, ,, '', repli, ,, sudden, conscious, ,...</td>\n",
              "      <td>[no, repli, sudden, conscious, not, find, can,...</td>\n",
              "    </tr>\n",
              "    <tr>\n",
              "      <th>2</th>\n",
              "      <td>[ladi, state, intent, scream, ,, cours, scream...</td>\n",
              "      <td>[ladi, state, intent, scream, cours, scream, a...</td>\n",
              "    </tr>\n",
              "    <tr>\n",
              "      <th>3</th>\n",
              "      <td>[“, suddenli, silenc, heard, sound, sent, hear...</td>\n",
              "      <td>[suddenli, silenc, heard, sound, sent, heart, ...</td>\n",
              "    </tr>\n",
              "    <tr>\n",
              "      <th>4</th>\n",
              "      <td>[convict, remain, unchang, ., far, know, --, b...</td>\n",
              "      <td>[convict, remain, unchang, far, knowand, belie...</td>\n",
              "    </tr>\n",
              "    <tr>\n",
              "      <th>...</th>\n",
              "      <td>...</td>\n",
              "      <td>...</td>\n",
              "    </tr>\n",
              "    <tr>\n",
              "      <th>19612</th>\n",
              "      <td>[end, anoth, day, two, ,, odin, grow, visibl, ...</td>\n",
              "      <td>[end, anoth, day, two, odin, grow, visibl, str...</td>\n",
              "    </tr>\n",
              "    <tr>\n",
              "      <th>19613</th>\n",
              "      <td>[afternoon, sat, togeth, ,, mostli, silenc, ,,...</td>\n",
              "      <td>[afternoon, sat, togeth, mostli, silenc, watch...</td>\n",
              "    </tr>\n",
              "    <tr>\n",
              "      <th>19614</th>\n",
              "      <td>[odin, ,, carri, thank, odin, ,, proceed, happ...</td>\n",
              "      <td>[odin, carri, thank, odin, proceed, happi, luc...</td>\n",
              "    </tr>\n",
              "    <tr>\n",
              "      <th>19615</th>\n",
              "      <td>[soon, ,, upon, odin, 's, leav, room, ,, ``, m...</td>\n",
              "      <td>[soon, upon, odin, leav, room, mama, said, odi...</td>\n",
              "    </tr>\n",
              "    <tr>\n",
              "      <th>19616</th>\n",
              "      <td>[wors, doom, man, ,, denounc, well-known, citi...</td>\n",
              "      <td>[wors, doom, man, denounc, wellknown, citizen,...</td>\n",
              "    </tr>\n",
              "  </tbody>\n",
              "</table>\n",
              "<p>19617 rows × 2 columns</p>\n",
              "</div>\n",
              "      <button class=\"colab-df-convert\" onclick=\"convertToInteractive('df-0a2785b9-61e0-4cd8-8ff8-5610ef9a30ae')\"\n",
              "              title=\"Convert this dataframe to an interactive table.\"\n",
              "              style=\"display:none;\">\n",
              "        \n",
              "  <svg xmlns=\"http://www.w3.org/2000/svg\" height=\"24px\"viewBox=\"0 0 24 24\"\n",
              "       width=\"24px\">\n",
              "    <path d=\"M0 0h24v24H0V0z\" fill=\"none\"/>\n",
              "    <path d=\"M18.56 5.44l.94 2.06.94-2.06 2.06-.94-2.06-.94-.94-2.06-.94 2.06-2.06.94zm-11 1L8.5 8.5l.94-2.06 2.06-.94-2.06-.94L8.5 2.5l-.94 2.06-2.06.94zm10 10l.94 2.06.94-2.06 2.06-.94-2.06-.94-.94-2.06-.94 2.06-2.06.94z\"/><path d=\"M17.41 7.96l-1.37-1.37c-.4-.4-.92-.59-1.43-.59-.52 0-1.04.2-1.43.59L10.3 9.45l-7.72 7.72c-.78.78-.78 2.05 0 2.83L4 21.41c.39.39.9.59 1.41.59.51 0 1.02-.2 1.41-.59l7.78-7.78 2.81-2.81c.8-.78.8-2.07 0-2.86zM5.41 20L4 18.59l7.72-7.72 1.47 1.35L5.41 20z\"/>\n",
              "  </svg>\n",
              "      </button>\n",
              "      \n",
              "  <style>\n",
              "    .colab-df-container {\n",
              "      display:flex;\n",
              "      flex-wrap:wrap;\n",
              "      gap: 12px;\n",
              "    }\n",
              "\n",
              "    .colab-df-convert {\n",
              "      background-color: #E8F0FE;\n",
              "      border: none;\n",
              "      border-radius: 50%;\n",
              "      cursor: pointer;\n",
              "      display: none;\n",
              "      fill: #1967D2;\n",
              "      height: 32px;\n",
              "      padding: 0 0 0 0;\n",
              "      width: 32px;\n",
              "    }\n",
              "\n",
              "    .colab-df-convert:hover {\n",
              "      background-color: #E2EBFA;\n",
              "      box-shadow: 0px 1px 2px rgba(60, 64, 67, 0.3), 0px 1px 3px 1px rgba(60, 64, 67, 0.15);\n",
              "      fill: #174EA6;\n",
              "    }\n",
              "\n",
              "    [theme=dark] .colab-df-convert {\n",
              "      background-color: #3B4455;\n",
              "      fill: #D2E3FC;\n",
              "    }\n",
              "\n",
              "    [theme=dark] .colab-df-convert:hover {\n",
              "      background-color: #434B5C;\n",
              "      box-shadow: 0px 1px 3px 1px rgba(0, 0, 0, 0.15);\n",
              "      filter: drop-shadow(0px 1px 2px rgba(0, 0, 0, 0.3));\n",
              "      fill: #FFFFFF;\n",
              "    }\n",
              "  </style>\n",
              "\n",
              "      <script>\n",
              "        const buttonEl =\n",
              "          document.querySelector('#df-0a2785b9-61e0-4cd8-8ff8-5610ef9a30ae button.colab-df-convert');\n",
              "        buttonEl.style.display =\n",
              "          google.colab.kernel.accessAllowed ? 'block' : 'none';\n",
              "\n",
              "        async function convertToInteractive(key) {\n",
              "          const element = document.querySelector('#df-0a2785b9-61e0-4cd8-8ff8-5610ef9a30ae');\n",
              "          const dataTable =\n",
              "            await google.colab.kernel.invokeFunction('convertToInteractive',\n",
              "                                                     [key], {});\n",
              "          if (!dataTable) return;\n",
              "\n",
              "          const docLinkHtml = 'Like what you see? Visit the ' +\n",
              "            '<a target=\"_blank\" href=https://colab.research.google.com/notebooks/data_table.ipynb>data table notebook</a>'\n",
              "            + ' to learn more about interactive tables.';\n",
              "          element.innerHTML = '';\n",
              "          dataTable['output_type'] = 'display_data';\n",
              "          await google.colab.output.renderOutput(dataTable, element);\n",
              "          const docLink = document.createElement('div');\n",
              "          docLink.innerHTML = docLinkHtml;\n",
              "          element.appendChild(docLink);\n",
              "        }\n",
              "      </script>\n",
              "    </div>\n",
              "  </div>\n",
              "  "
            ]
          },
          "metadata": {},
          "execution_count": 115
        }
      ]
    },
    {
      "cell_type": "markdown",
      "source": [
        "B. Lemmatization"
      ],
      "metadata": {
        "id": "cwJrl7xkTvxu"
      }
    },
    {
      "cell_type": "code",
      "source": [
        "from nltk.stem import WordNetLemmatizer\n",
        "\n",
        "lemmatizer = WordNetLemmatizer()"
      ],
      "metadata": {
        "id": "c7KjWOmjUSO9"
      },
      "execution_count": null,
      "outputs": []
    },
    {
      "cell_type": "code",
      "source": [
        "nltk.download('wordnet', quiet=True)"
      ],
      "metadata": {
        "colab": {
          "base_uri": "https://localhost:8080/"
        },
        "id": "RVbBaHTSUTx5",
        "outputId": "f1c82c83-08f4-4707-952f-c937b8ba078a"
      },
      "execution_count": null,
      "outputs": [
        {
          "output_type": "execute_result",
          "data": {
            "text/plain": [
              "True"
            ]
          },
          "metadata": {},
          "execution_count": 94
        }
      ]
    },
    {
      "cell_type": "markdown",
      "source": [
        "train"
      ],
      "metadata": {
        "id": "veFkWSGUWqOV"
      }
    },
    {
      "cell_type": "code",
      "source": [
        "lemma = []\n",
        "text_Lemma = [] \n",
        "\n",
        "for i in range(len(train['text'])):\n",
        "  for j in range(len(train['text'][i])):\n",
        "    lemma.append(lemmatizer.lemmatize(train['text'][i][j], pos='v'))\n",
        "  text_Lemma.append(list(lemma))\n",
        "  lemma.clear()"
      ],
      "metadata": {
        "id": "9qQt7egxUVQ6"
      },
      "execution_count": null,
      "outputs": []
    },
    {
      "cell_type": "code",
      "source": [
        "train = train.assign(text = text_Lemma)\n",
        "train.head()"
      ],
      "metadata": {
        "colab": {
          "base_uri": "https://localhost:8080/",
          "height": 238
        },
        "id": "z2UFA0xXUWwZ",
        "outputId": "019ef005-a2f3-48b6-f2bb-fc6ac15dc0e1"
      },
      "execution_count": null,
      "outputs": [
        {
          "output_type": "execute_result",
          "data": {
            "text/plain": [
              "                                                    text  author  \\\n",
              "index                                                              \n",
              "0      [almost, choke, ., much, ,, much, want, say, ,...       3   \n",
              "1                     [“, sister, ask, ,, suppose, ?, ”]       2   \n",
              "2      [engage, one, day, walk, ,, peruse, jane, ’, s...       1   \n",
              "3      [captain, porch, ,, keep, carefully, way, trea...       4   \n",
              "4      [“, mercy, ,, gentlemen, !, ”, odin, fling, ha...       3   \n",
              "\n",
              "                                                text_del  \n",
              "index                                                     \n",
              "0      [almost, choking, much, much, wanted, say, str...  \n",
              "1                               [sister, asked, suppose]  \n",
              "2      [engaged, one, day, walked, perusing, janes, l...  \n",
              "3      [captain, porch, keeping, carefully, way, trea...  \n",
              "4      [mercy, gentlemen, odin, flung, hands, dont, w...  "
            ],
            "text/html": [
              "\n",
              "  <div id=\"df-01884343-d4d6-4cea-bcbb-53f2eb7ce493\">\n",
              "    <div class=\"colab-df-container\">\n",
              "      <div>\n",
              "<style scoped>\n",
              "    .dataframe tbody tr th:only-of-type {\n",
              "        vertical-align: middle;\n",
              "    }\n",
              "\n",
              "    .dataframe tbody tr th {\n",
              "        vertical-align: top;\n",
              "    }\n",
              "\n",
              "    .dataframe thead th {\n",
              "        text-align: right;\n",
              "    }\n",
              "</style>\n",
              "<table border=\"1\" class=\"dataframe\">\n",
              "  <thead>\n",
              "    <tr style=\"text-align: right;\">\n",
              "      <th></th>\n",
              "      <th>text</th>\n",
              "      <th>author</th>\n",
              "      <th>text_del</th>\n",
              "    </tr>\n",
              "    <tr>\n",
              "      <th>index</th>\n",
              "      <th></th>\n",
              "      <th></th>\n",
              "      <th></th>\n",
              "    </tr>\n",
              "  </thead>\n",
              "  <tbody>\n",
              "    <tr>\n",
              "      <th>0</th>\n",
              "      <td>[almost, choke, ., much, ,, much, want, say, ,...</td>\n",
              "      <td>3</td>\n",
              "      <td>[almost, choking, much, much, wanted, say, str...</td>\n",
              "    </tr>\n",
              "    <tr>\n",
              "      <th>1</th>\n",
              "      <td>[“, sister, ask, ,, suppose, ?, ”]</td>\n",
              "      <td>2</td>\n",
              "      <td>[sister, asked, suppose]</td>\n",
              "    </tr>\n",
              "    <tr>\n",
              "      <th>2</th>\n",
              "      <td>[engage, one, day, walk, ,, peruse, jane, ’, s...</td>\n",
              "      <td>1</td>\n",
              "      <td>[engaged, one, day, walked, perusing, janes, l...</td>\n",
              "    </tr>\n",
              "    <tr>\n",
              "      <th>3</th>\n",
              "      <td>[captain, porch, ,, keep, carefully, way, trea...</td>\n",
              "      <td>4</td>\n",
              "      <td>[captain, porch, keeping, carefully, way, trea...</td>\n",
              "    </tr>\n",
              "    <tr>\n",
              "      <th>4</th>\n",
              "      <td>[“, mercy, ,, gentlemen, !, ”, odin, fling, ha...</td>\n",
              "      <td>3</td>\n",
              "      <td>[mercy, gentlemen, odin, flung, hands, dont, w...</td>\n",
              "    </tr>\n",
              "  </tbody>\n",
              "</table>\n",
              "</div>\n",
              "      <button class=\"colab-df-convert\" onclick=\"convertToInteractive('df-01884343-d4d6-4cea-bcbb-53f2eb7ce493')\"\n",
              "              title=\"Convert this dataframe to an interactive table.\"\n",
              "              style=\"display:none;\">\n",
              "        \n",
              "  <svg xmlns=\"http://www.w3.org/2000/svg\" height=\"24px\"viewBox=\"0 0 24 24\"\n",
              "       width=\"24px\">\n",
              "    <path d=\"M0 0h24v24H0V0z\" fill=\"none\"/>\n",
              "    <path d=\"M18.56 5.44l.94 2.06.94-2.06 2.06-.94-2.06-.94-.94-2.06-.94 2.06-2.06.94zm-11 1L8.5 8.5l.94-2.06 2.06-.94-2.06-.94L8.5 2.5l-.94 2.06-2.06.94zm10 10l.94 2.06.94-2.06 2.06-.94-2.06-.94-.94-2.06-.94 2.06-2.06.94z\"/><path d=\"M17.41 7.96l-1.37-1.37c-.4-.4-.92-.59-1.43-.59-.52 0-1.04.2-1.43.59L10.3 9.45l-7.72 7.72c-.78.78-.78 2.05 0 2.83L4 21.41c.39.39.9.59 1.41.59.51 0 1.02-.2 1.41-.59l7.78-7.78 2.81-2.81c.8-.78.8-2.07 0-2.86zM5.41 20L4 18.59l7.72-7.72 1.47 1.35L5.41 20z\"/>\n",
              "  </svg>\n",
              "      </button>\n",
              "      \n",
              "  <style>\n",
              "    .colab-df-container {\n",
              "      display:flex;\n",
              "      flex-wrap:wrap;\n",
              "      gap: 12px;\n",
              "    }\n",
              "\n",
              "    .colab-df-convert {\n",
              "      background-color: #E8F0FE;\n",
              "      border: none;\n",
              "      border-radius: 50%;\n",
              "      cursor: pointer;\n",
              "      display: none;\n",
              "      fill: #1967D2;\n",
              "      height: 32px;\n",
              "      padding: 0 0 0 0;\n",
              "      width: 32px;\n",
              "    }\n",
              "\n",
              "    .colab-df-convert:hover {\n",
              "      background-color: #E2EBFA;\n",
              "      box-shadow: 0px 1px 2px rgba(60, 64, 67, 0.3), 0px 1px 3px 1px rgba(60, 64, 67, 0.15);\n",
              "      fill: #174EA6;\n",
              "    }\n",
              "\n",
              "    [theme=dark] .colab-df-convert {\n",
              "      background-color: #3B4455;\n",
              "      fill: #D2E3FC;\n",
              "    }\n",
              "\n",
              "    [theme=dark] .colab-df-convert:hover {\n",
              "      background-color: #434B5C;\n",
              "      box-shadow: 0px 1px 3px 1px rgba(0, 0, 0, 0.15);\n",
              "      filter: drop-shadow(0px 1px 2px rgba(0, 0, 0, 0.3));\n",
              "      fill: #FFFFFF;\n",
              "    }\n",
              "  </style>\n",
              "\n",
              "      <script>\n",
              "        const buttonEl =\n",
              "          document.querySelector('#df-01884343-d4d6-4cea-bcbb-53f2eb7ce493 button.colab-df-convert');\n",
              "        buttonEl.style.display =\n",
              "          google.colab.kernel.accessAllowed ? 'block' : 'none';\n",
              "\n",
              "        async function convertToInteractive(key) {\n",
              "          const element = document.querySelector('#df-01884343-d4d6-4cea-bcbb-53f2eb7ce493');\n",
              "          const dataTable =\n",
              "            await google.colab.kernel.invokeFunction('convertToInteractive',\n",
              "                                                     [key], {});\n",
              "          if (!dataTable) return;\n",
              "\n",
              "          const docLinkHtml = 'Like what you see? Visit the ' +\n",
              "            '<a target=\"_blank\" href=https://colab.research.google.com/notebooks/data_table.ipynb>data table notebook</a>'\n",
              "            + ' to learn more about interactive tables.';\n",
              "          element.innerHTML = '';\n",
              "          dataTable['output_type'] = 'display_data';\n",
              "          await google.colab.output.renderOutput(dataTable, element);\n",
              "          const docLink = document.createElement('div');\n",
              "          docLink.innerHTML = docLinkHtml;\n",
              "          element.appendChild(docLink);\n",
              "        }\n",
              "      </script>\n",
              "    </div>\n",
              "  </div>\n",
              "  "
            ]
          },
          "metadata": {},
          "execution_count": 96
        }
      ]
    },
    {
      "cell_type": "code",
      "source": [
        "text_Lemma.clear()"
      ],
      "metadata": {
        "id": "GlLacK_iWXc3"
      },
      "execution_count": null,
      "outputs": []
    },
    {
      "cell_type": "code",
      "source": [
        "lemma = []\n",
        "text_Lemma = [] \n",
        "\n",
        "for i in range(len(train['text_del'])):\n",
        "  for j in range(len(train['text_del'][i])):\n",
        "    lemma.append(lemmatizer.lemmatize(train['text_del'][i][j], pos='v'))\n",
        "  text_Lemma.append(list(lemma))\n",
        "  lemma.clear()"
      ],
      "metadata": {
        "id": "2gZvF-PuWd9a"
      },
      "execution_count": null,
      "outputs": []
    },
    {
      "cell_type": "code",
      "source": [
        "train = train.assign(text_del = text_Lemma)\n",
        "train.head()"
      ],
      "metadata": {
        "colab": {
          "base_uri": "https://localhost:8080/",
          "height": 238
        },
        "id": "VRnV0fhkWkEA",
        "outputId": "dccf8dcd-81cf-4195-83e6-abf4f2a74865"
      },
      "execution_count": null,
      "outputs": [
        {
          "output_type": "execute_result",
          "data": {
            "text/plain": [
              "                                                    text  author  \\\n",
              "index                                                              \n",
              "0      [almost, choke, ., much, ,, much, want, say, ,...       3   \n",
              "1                     [“, sister, ask, ,, suppose, ?, ”]       2   \n",
              "2      [engage, one, day, walk, ,, peruse, jane, ’, s...       1   \n",
              "3      [captain, porch, ,, keep, carefully, way, trea...       4   \n",
              "4      [“, mercy, ,, gentlemen, !, ”, odin, fling, ha...       3   \n",
              "\n",
              "                                                text_del  \n",
              "index                                                     \n",
              "0      [almost, choke, much, much, want, say, strange...  \n",
              "1                                 [sister, ask, suppose]  \n",
              "2      [engage, one, day, walk, peruse, janes, last, ...  \n",
              "3      [captain, porch, keep, carefully, way, treache...  \n",
              "4      [mercy, gentlemen, odin, fling, hand, dont, wr...  "
            ],
            "text/html": [
              "\n",
              "  <div id=\"df-c3da2a56-532b-4fc7-a0b5-1e4831bc2906\">\n",
              "    <div class=\"colab-df-container\">\n",
              "      <div>\n",
              "<style scoped>\n",
              "    .dataframe tbody tr th:only-of-type {\n",
              "        vertical-align: middle;\n",
              "    }\n",
              "\n",
              "    .dataframe tbody tr th {\n",
              "        vertical-align: top;\n",
              "    }\n",
              "\n",
              "    .dataframe thead th {\n",
              "        text-align: right;\n",
              "    }\n",
              "</style>\n",
              "<table border=\"1\" class=\"dataframe\">\n",
              "  <thead>\n",
              "    <tr style=\"text-align: right;\">\n",
              "      <th></th>\n",
              "      <th>text</th>\n",
              "      <th>author</th>\n",
              "      <th>text_del</th>\n",
              "    </tr>\n",
              "    <tr>\n",
              "      <th>index</th>\n",
              "      <th></th>\n",
              "      <th></th>\n",
              "      <th></th>\n",
              "    </tr>\n",
              "  </thead>\n",
              "  <tbody>\n",
              "    <tr>\n",
              "      <th>0</th>\n",
              "      <td>[almost, choke, ., much, ,, much, want, say, ,...</td>\n",
              "      <td>3</td>\n",
              "      <td>[almost, choke, much, much, want, say, strange...</td>\n",
              "    </tr>\n",
              "    <tr>\n",
              "      <th>1</th>\n",
              "      <td>[“, sister, ask, ,, suppose, ?, ”]</td>\n",
              "      <td>2</td>\n",
              "      <td>[sister, ask, suppose]</td>\n",
              "    </tr>\n",
              "    <tr>\n",
              "      <th>2</th>\n",
              "      <td>[engage, one, day, walk, ,, peruse, jane, ’, s...</td>\n",
              "      <td>1</td>\n",
              "      <td>[engage, one, day, walk, peruse, janes, last, ...</td>\n",
              "    </tr>\n",
              "    <tr>\n",
              "      <th>3</th>\n",
              "      <td>[captain, porch, ,, keep, carefully, way, trea...</td>\n",
              "      <td>4</td>\n",
              "      <td>[captain, porch, keep, carefully, way, treache...</td>\n",
              "    </tr>\n",
              "    <tr>\n",
              "      <th>4</th>\n",
              "      <td>[“, mercy, ,, gentlemen, !, ”, odin, fling, ha...</td>\n",
              "      <td>3</td>\n",
              "      <td>[mercy, gentlemen, odin, fling, hand, dont, wr...</td>\n",
              "    </tr>\n",
              "  </tbody>\n",
              "</table>\n",
              "</div>\n",
              "      <button class=\"colab-df-convert\" onclick=\"convertToInteractive('df-c3da2a56-532b-4fc7-a0b5-1e4831bc2906')\"\n",
              "              title=\"Convert this dataframe to an interactive table.\"\n",
              "              style=\"display:none;\">\n",
              "        \n",
              "  <svg xmlns=\"http://www.w3.org/2000/svg\" height=\"24px\"viewBox=\"0 0 24 24\"\n",
              "       width=\"24px\">\n",
              "    <path d=\"M0 0h24v24H0V0z\" fill=\"none\"/>\n",
              "    <path d=\"M18.56 5.44l.94 2.06.94-2.06 2.06-.94-2.06-.94-.94-2.06-.94 2.06-2.06.94zm-11 1L8.5 8.5l.94-2.06 2.06-.94-2.06-.94L8.5 2.5l-.94 2.06-2.06.94zm10 10l.94 2.06.94-2.06 2.06-.94-2.06-.94-.94-2.06-.94 2.06-2.06.94z\"/><path d=\"M17.41 7.96l-1.37-1.37c-.4-.4-.92-.59-1.43-.59-.52 0-1.04.2-1.43.59L10.3 9.45l-7.72 7.72c-.78.78-.78 2.05 0 2.83L4 21.41c.39.39.9.59 1.41.59.51 0 1.02-.2 1.41-.59l7.78-7.78 2.81-2.81c.8-.78.8-2.07 0-2.86zM5.41 20L4 18.59l7.72-7.72 1.47 1.35L5.41 20z\"/>\n",
              "  </svg>\n",
              "      </button>\n",
              "      \n",
              "  <style>\n",
              "    .colab-df-container {\n",
              "      display:flex;\n",
              "      flex-wrap:wrap;\n",
              "      gap: 12px;\n",
              "    }\n",
              "\n",
              "    .colab-df-convert {\n",
              "      background-color: #E8F0FE;\n",
              "      border: none;\n",
              "      border-radius: 50%;\n",
              "      cursor: pointer;\n",
              "      display: none;\n",
              "      fill: #1967D2;\n",
              "      height: 32px;\n",
              "      padding: 0 0 0 0;\n",
              "      width: 32px;\n",
              "    }\n",
              "\n",
              "    .colab-df-convert:hover {\n",
              "      background-color: #E2EBFA;\n",
              "      box-shadow: 0px 1px 2px rgba(60, 64, 67, 0.3), 0px 1px 3px 1px rgba(60, 64, 67, 0.15);\n",
              "      fill: #174EA6;\n",
              "    }\n",
              "\n",
              "    [theme=dark] .colab-df-convert {\n",
              "      background-color: #3B4455;\n",
              "      fill: #D2E3FC;\n",
              "    }\n",
              "\n",
              "    [theme=dark] .colab-df-convert:hover {\n",
              "      background-color: #434B5C;\n",
              "      box-shadow: 0px 1px 3px 1px rgba(0, 0, 0, 0.15);\n",
              "      filter: drop-shadow(0px 1px 2px rgba(0, 0, 0, 0.3));\n",
              "      fill: #FFFFFF;\n",
              "    }\n",
              "  </style>\n",
              "\n",
              "      <script>\n",
              "        const buttonEl =\n",
              "          document.querySelector('#df-c3da2a56-532b-4fc7-a0b5-1e4831bc2906 button.colab-df-convert');\n",
              "        buttonEl.style.display =\n",
              "          google.colab.kernel.accessAllowed ? 'block' : 'none';\n",
              "\n",
              "        async function convertToInteractive(key) {\n",
              "          const element = document.querySelector('#df-c3da2a56-532b-4fc7-a0b5-1e4831bc2906');\n",
              "          const dataTable =\n",
              "            await google.colab.kernel.invokeFunction('convertToInteractive',\n",
              "                                                     [key], {});\n",
              "          if (!dataTable) return;\n",
              "\n",
              "          const docLinkHtml = 'Like what you see? Visit the ' +\n",
              "            '<a target=\"_blank\" href=https://colab.research.google.com/notebooks/data_table.ipynb>data table notebook</a>'\n",
              "            + ' to learn more about interactive tables.';\n",
              "          element.innerHTML = '';\n",
              "          dataTable['output_type'] = 'display_data';\n",
              "          await google.colab.output.renderOutput(dataTable, element);\n",
              "          const docLink = document.createElement('div');\n",
              "          docLink.innerHTML = docLinkHtml;\n",
              "          element.appendChild(docLink);\n",
              "        }\n",
              "      </script>\n",
              "    </div>\n",
              "  </div>\n",
              "  "
            ]
          },
          "metadata": {},
          "execution_count": 99
        }
      ]
    },
    {
      "cell_type": "markdown",
      "source": [
        "test"
      ],
      "metadata": {
        "id": "G8dXHyELWrfc"
      }
    },
    {
      "cell_type": "code",
      "source": [
        "lemma = []\n",
        "text_Lemma = [] \n",
        "\n",
        "for i in range(len(test['text'])):\n",
        "  for j in range(len(test['text'][i])):\n",
        "    lemma.append(lemmatizer.lemmatize(test['text'][i][j], pos='v'))\n",
        "  text_Lemma.append(list(lemma))\n",
        "  lemma.clear()"
      ],
      "metadata": {
        "id": "WsGiN9htWtf4"
      },
      "execution_count": null,
      "outputs": []
    },
    {
      "cell_type": "code",
      "source": [
        "test = test.assign(text = text_Lemma)\n",
        "test.head()"
      ],
      "metadata": {
        "colab": {
          "base_uri": "https://localhost:8080/",
          "height": 238
        },
        "id": "bZK3uKMuWvv7",
        "outputId": "f0563141-a763-4709-ee6e-d0b2fe9c3e65"
      },
      "execution_count": null,
      "outputs": [
        {
          "output_type": "execute_result",
          "data": {
            "text/plain": [
              "                                                    text  \\\n",
              "index                                                      \n",
              "0      [“, not, ., think, one, charm, young, ladies, ...   \n",
              "1      [``, no, ,, '', reply, ,, sudden, consciousnes...   \n",
              "2      [lady, state, intention, scream, ,, course, sc...   \n",
              "3      [“, suddenly, silence, hear, sound, send, hear...   \n",
              "4      [conviction, remain, unchanged, ., far, know, ...   \n",
              "\n",
              "                                                text_del  \n",
              "index                                                     \n",
              "0      [not, think, one, charming, young, ladies, eve...  \n",
              "1      [no, replied, sudden, consciousness, not, find...  \n",
              "2      [lady, stated, intention, screaming, course, s...  \n",
              "3      [suddenly, silence, heard, sound, sent, heart,...  \n",
              "4      [conviction, remained, unchanged, far, knowand...  "
            ],
            "text/html": [
              "\n",
              "  <div id=\"df-c010bf7e-12a5-42ff-a13a-9fe018d4a328\">\n",
              "    <div class=\"colab-df-container\">\n",
              "      <div>\n",
              "<style scoped>\n",
              "    .dataframe tbody tr th:only-of-type {\n",
              "        vertical-align: middle;\n",
              "    }\n",
              "\n",
              "    .dataframe tbody tr th {\n",
              "        vertical-align: top;\n",
              "    }\n",
              "\n",
              "    .dataframe thead th {\n",
              "        text-align: right;\n",
              "    }\n",
              "</style>\n",
              "<table border=\"1\" class=\"dataframe\">\n",
              "  <thead>\n",
              "    <tr style=\"text-align: right;\">\n",
              "      <th></th>\n",
              "      <th>text</th>\n",
              "      <th>text_del</th>\n",
              "    </tr>\n",
              "    <tr>\n",
              "      <th>index</th>\n",
              "      <th></th>\n",
              "      <th></th>\n",
              "    </tr>\n",
              "  </thead>\n",
              "  <tbody>\n",
              "    <tr>\n",
              "      <th>0</th>\n",
              "      <td>[“, not, ., think, one, charm, young, ladies, ...</td>\n",
              "      <td>[not, think, one, charming, young, ladies, eve...</td>\n",
              "    </tr>\n",
              "    <tr>\n",
              "      <th>1</th>\n",
              "      <td>[``, no, ,, '', reply, ,, sudden, consciousnes...</td>\n",
              "      <td>[no, replied, sudden, consciousness, not, find...</td>\n",
              "    </tr>\n",
              "    <tr>\n",
              "      <th>2</th>\n",
              "      <td>[lady, state, intention, scream, ,, course, sc...</td>\n",
              "      <td>[lady, stated, intention, screaming, course, s...</td>\n",
              "    </tr>\n",
              "    <tr>\n",
              "      <th>3</th>\n",
              "      <td>[“, suddenly, silence, hear, sound, send, hear...</td>\n",
              "      <td>[suddenly, silence, heard, sound, sent, heart,...</td>\n",
              "    </tr>\n",
              "    <tr>\n",
              "      <th>4</th>\n",
              "      <td>[conviction, remain, unchanged, ., far, know, ...</td>\n",
              "      <td>[conviction, remained, unchanged, far, knowand...</td>\n",
              "    </tr>\n",
              "  </tbody>\n",
              "</table>\n",
              "</div>\n",
              "      <button class=\"colab-df-convert\" onclick=\"convertToInteractive('df-c010bf7e-12a5-42ff-a13a-9fe018d4a328')\"\n",
              "              title=\"Convert this dataframe to an interactive table.\"\n",
              "              style=\"display:none;\">\n",
              "        \n",
              "  <svg xmlns=\"http://www.w3.org/2000/svg\" height=\"24px\"viewBox=\"0 0 24 24\"\n",
              "       width=\"24px\">\n",
              "    <path d=\"M0 0h24v24H0V0z\" fill=\"none\"/>\n",
              "    <path d=\"M18.56 5.44l.94 2.06.94-2.06 2.06-.94-2.06-.94-.94-2.06-.94 2.06-2.06.94zm-11 1L8.5 8.5l.94-2.06 2.06-.94-2.06-.94L8.5 2.5l-.94 2.06-2.06.94zm10 10l.94 2.06.94-2.06 2.06-.94-2.06-.94-.94-2.06-.94 2.06-2.06.94z\"/><path d=\"M17.41 7.96l-1.37-1.37c-.4-.4-.92-.59-1.43-.59-.52 0-1.04.2-1.43.59L10.3 9.45l-7.72 7.72c-.78.78-.78 2.05 0 2.83L4 21.41c.39.39.9.59 1.41.59.51 0 1.02-.2 1.41-.59l7.78-7.78 2.81-2.81c.8-.78.8-2.07 0-2.86zM5.41 20L4 18.59l7.72-7.72 1.47 1.35L5.41 20z\"/>\n",
              "  </svg>\n",
              "      </button>\n",
              "      \n",
              "  <style>\n",
              "    .colab-df-container {\n",
              "      display:flex;\n",
              "      flex-wrap:wrap;\n",
              "      gap: 12px;\n",
              "    }\n",
              "\n",
              "    .colab-df-convert {\n",
              "      background-color: #E8F0FE;\n",
              "      border: none;\n",
              "      border-radius: 50%;\n",
              "      cursor: pointer;\n",
              "      display: none;\n",
              "      fill: #1967D2;\n",
              "      height: 32px;\n",
              "      padding: 0 0 0 0;\n",
              "      width: 32px;\n",
              "    }\n",
              "\n",
              "    .colab-df-convert:hover {\n",
              "      background-color: #E2EBFA;\n",
              "      box-shadow: 0px 1px 2px rgba(60, 64, 67, 0.3), 0px 1px 3px 1px rgba(60, 64, 67, 0.15);\n",
              "      fill: #174EA6;\n",
              "    }\n",
              "\n",
              "    [theme=dark] .colab-df-convert {\n",
              "      background-color: #3B4455;\n",
              "      fill: #D2E3FC;\n",
              "    }\n",
              "\n",
              "    [theme=dark] .colab-df-convert:hover {\n",
              "      background-color: #434B5C;\n",
              "      box-shadow: 0px 1px 3px 1px rgba(0, 0, 0, 0.15);\n",
              "      filter: drop-shadow(0px 1px 2px rgba(0, 0, 0, 0.3));\n",
              "      fill: #FFFFFF;\n",
              "    }\n",
              "  </style>\n",
              "\n",
              "      <script>\n",
              "        const buttonEl =\n",
              "          document.querySelector('#df-c010bf7e-12a5-42ff-a13a-9fe018d4a328 button.colab-df-convert');\n",
              "        buttonEl.style.display =\n",
              "          google.colab.kernel.accessAllowed ? 'block' : 'none';\n",
              "\n",
              "        async function convertToInteractive(key) {\n",
              "          const element = document.querySelector('#df-c010bf7e-12a5-42ff-a13a-9fe018d4a328');\n",
              "          const dataTable =\n",
              "            await google.colab.kernel.invokeFunction('convertToInteractive',\n",
              "                                                     [key], {});\n",
              "          if (!dataTable) return;\n",
              "\n",
              "          const docLinkHtml = 'Like what you see? Visit the ' +\n",
              "            '<a target=\"_blank\" href=https://colab.research.google.com/notebooks/data_table.ipynb>data table notebook</a>'\n",
              "            + ' to learn more about interactive tables.';\n",
              "          element.innerHTML = '';\n",
              "          dataTable['output_type'] = 'display_data';\n",
              "          await google.colab.output.renderOutput(dataTable, element);\n",
              "          const docLink = document.createElement('div');\n",
              "          docLink.innerHTML = docLinkHtml;\n",
              "          element.appendChild(docLink);\n",
              "        }\n",
              "      </script>\n",
              "    </div>\n",
              "  </div>\n",
              "  "
            ]
          },
          "metadata": {},
          "execution_count": 101
        }
      ]
    },
    {
      "cell_type": "code",
      "source": [
        "text_Lemma.clear()"
      ],
      "metadata": {
        "id": "GhapxjgzWxWV"
      },
      "execution_count": null,
      "outputs": []
    },
    {
      "cell_type": "code",
      "source": [
        "lemma = []\n",
        "text_Lemma = [] \n",
        "\n",
        "for i in range(len(test['text_del'])):\n",
        "  for j in range(len(test['text_del'][i])):\n",
        "    lemma.append(lemmatizer.lemmatize(test['text_del'][i][j], pos='v'))\n",
        "  text_Lemma.append(list(lemma))\n",
        "  lemma.clear()"
      ],
      "metadata": {
        "id": "tz04uPVwW7Rp"
      },
      "execution_count": null,
      "outputs": []
    },
    {
      "cell_type": "code",
      "source": [
        "test = test.assign(text_del = text_Lemma)\n",
        "test.head()"
      ],
      "metadata": {
        "colab": {
          "base_uri": "https://localhost:8080/",
          "height": 238
        },
        "id": "c-TWvj0eXBt2",
        "outputId": "d055dc52-6e02-4d50-9d92-aa06e431ff97"
      },
      "execution_count": null,
      "outputs": [
        {
          "output_type": "execute_result",
          "data": {
            "text/plain": [
              "                                                    text  \\\n",
              "index                                                      \n",
              "0      [“, not, ., think, one, charm, young, ladies, ...   \n",
              "1      [``, no, ,, '', reply, ,, sudden, consciousnes...   \n",
              "2      [lady, state, intention, scream, ,, course, sc...   \n",
              "3      [“, suddenly, silence, hear, sound, send, hear...   \n",
              "4      [conviction, remain, unchanged, ., far, know, ...   \n",
              "\n",
              "                                                text_del  \n",
              "index                                                     \n",
              "0      [not, think, one, charm, young, ladies, ever, ...  \n",
              "1      [no, reply, sudden, consciousness, not, find, ...  \n",
              "2      [lady, state, intention, scream, course, screa...  \n",
              "3      [suddenly, silence, hear, sound, send, heart, ...  \n",
              "4      [conviction, remain, unchanged, far, knowand, ...  "
            ],
            "text/html": [
              "\n",
              "  <div id=\"df-d5d1bbc5-695c-4fae-b55a-62bbfa6987da\">\n",
              "    <div class=\"colab-df-container\">\n",
              "      <div>\n",
              "<style scoped>\n",
              "    .dataframe tbody tr th:only-of-type {\n",
              "        vertical-align: middle;\n",
              "    }\n",
              "\n",
              "    .dataframe tbody tr th {\n",
              "        vertical-align: top;\n",
              "    }\n",
              "\n",
              "    .dataframe thead th {\n",
              "        text-align: right;\n",
              "    }\n",
              "</style>\n",
              "<table border=\"1\" class=\"dataframe\">\n",
              "  <thead>\n",
              "    <tr style=\"text-align: right;\">\n",
              "      <th></th>\n",
              "      <th>text</th>\n",
              "      <th>text_del</th>\n",
              "    </tr>\n",
              "    <tr>\n",
              "      <th>index</th>\n",
              "      <th></th>\n",
              "      <th></th>\n",
              "    </tr>\n",
              "  </thead>\n",
              "  <tbody>\n",
              "    <tr>\n",
              "      <th>0</th>\n",
              "      <td>[“, not, ., think, one, charm, young, ladies, ...</td>\n",
              "      <td>[not, think, one, charm, young, ladies, ever, ...</td>\n",
              "    </tr>\n",
              "    <tr>\n",
              "      <th>1</th>\n",
              "      <td>[``, no, ,, '', reply, ,, sudden, consciousnes...</td>\n",
              "      <td>[no, reply, sudden, consciousness, not, find, ...</td>\n",
              "    </tr>\n",
              "    <tr>\n",
              "      <th>2</th>\n",
              "      <td>[lady, state, intention, scream, ,, course, sc...</td>\n",
              "      <td>[lady, state, intention, scream, course, screa...</td>\n",
              "    </tr>\n",
              "    <tr>\n",
              "      <th>3</th>\n",
              "      <td>[“, suddenly, silence, hear, sound, send, hear...</td>\n",
              "      <td>[suddenly, silence, hear, sound, send, heart, ...</td>\n",
              "    </tr>\n",
              "    <tr>\n",
              "      <th>4</th>\n",
              "      <td>[conviction, remain, unchanged, ., far, know, ...</td>\n",
              "      <td>[conviction, remain, unchanged, far, knowand, ...</td>\n",
              "    </tr>\n",
              "  </tbody>\n",
              "</table>\n",
              "</div>\n",
              "      <button class=\"colab-df-convert\" onclick=\"convertToInteractive('df-d5d1bbc5-695c-4fae-b55a-62bbfa6987da')\"\n",
              "              title=\"Convert this dataframe to an interactive table.\"\n",
              "              style=\"display:none;\">\n",
              "        \n",
              "  <svg xmlns=\"http://www.w3.org/2000/svg\" height=\"24px\"viewBox=\"0 0 24 24\"\n",
              "       width=\"24px\">\n",
              "    <path d=\"M0 0h24v24H0V0z\" fill=\"none\"/>\n",
              "    <path d=\"M18.56 5.44l.94 2.06.94-2.06 2.06-.94-2.06-.94-.94-2.06-.94 2.06-2.06.94zm-11 1L8.5 8.5l.94-2.06 2.06-.94-2.06-.94L8.5 2.5l-.94 2.06-2.06.94zm10 10l.94 2.06.94-2.06 2.06-.94-2.06-.94-.94-2.06-.94 2.06-2.06.94z\"/><path d=\"M17.41 7.96l-1.37-1.37c-.4-.4-.92-.59-1.43-.59-.52 0-1.04.2-1.43.59L10.3 9.45l-7.72 7.72c-.78.78-.78 2.05 0 2.83L4 21.41c.39.39.9.59 1.41.59.51 0 1.02-.2 1.41-.59l7.78-7.78 2.81-2.81c.8-.78.8-2.07 0-2.86zM5.41 20L4 18.59l7.72-7.72 1.47 1.35L5.41 20z\"/>\n",
              "  </svg>\n",
              "      </button>\n",
              "      \n",
              "  <style>\n",
              "    .colab-df-container {\n",
              "      display:flex;\n",
              "      flex-wrap:wrap;\n",
              "      gap: 12px;\n",
              "    }\n",
              "\n",
              "    .colab-df-convert {\n",
              "      background-color: #E8F0FE;\n",
              "      border: none;\n",
              "      border-radius: 50%;\n",
              "      cursor: pointer;\n",
              "      display: none;\n",
              "      fill: #1967D2;\n",
              "      height: 32px;\n",
              "      padding: 0 0 0 0;\n",
              "      width: 32px;\n",
              "    }\n",
              "\n",
              "    .colab-df-convert:hover {\n",
              "      background-color: #E2EBFA;\n",
              "      box-shadow: 0px 1px 2px rgba(60, 64, 67, 0.3), 0px 1px 3px 1px rgba(60, 64, 67, 0.15);\n",
              "      fill: #174EA6;\n",
              "    }\n",
              "\n",
              "    [theme=dark] .colab-df-convert {\n",
              "      background-color: #3B4455;\n",
              "      fill: #D2E3FC;\n",
              "    }\n",
              "\n",
              "    [theme=dark] .colab-df-convert:hover {\n",
              "      background-color: #434B5C;\n",
              "      box-shadow: 0px 1px 3px 1px rgba(0, 0, 0, 0.15);\n",
              "      filter: drop-shadow(0px 1px 2px rgba(0, 0, 0, 0.3));\n",
              "      fill: #FFFFFF;\n",
              "    }\n",
              "  </style>\n",
              "\n",
              "      <script>\n",
              "        const buttonEl =\n",
              "          document.querySelector('#df-d5d1bbc5-695c-4fae-b55a-62bbfa6987da button.colab-df-convert');\n",
              "        buttonEl.style.display =\n",
              "          google.colab.kernel.accessAllowed ? 'block' : 'none';\n",
              "\n",
              "        async function convertToInteractive(key) {\n",
              "          const element = document.querySelector('#df-d5d1bbc5-695c-4fae-b55a-62bbfa6987da');\n",
              "          const dataTable =\n",
              "            await google.colab.kernel.invokeFunction('convertToInteractive',\n",
              "                                                     [key], {});\n",
              "          if (!dataTable) return;\n",
              "\n",
              "          const docLinkHtml = 'Like what you see? Visit the ' +\n",
              "            '<a target=\"_blank\" href=https://colab.research.google.com/notebooks/data_table.ipynb>data table notebook</a>'\n",
              "            + ' to learn more about interactive tables.';\n",
              "          element.innerHTML = '';\n",
              "          dataTable['output_type'] = 'display_data';\n",
              "          await google.colab.output.renderOutput(dataTable, element);\n",
              "          const docLink = document.createElement('div');\n",
              "          docLink.innerHTML = docLinkHtml;\n",
              "          element.appendChild(docLink);\n",
              "        }\n",
              "      </script>\n",
              "    </div>\n",
              "  </div>\n",
              "  "
            ]
          },
          "metadata": {},
          "execution_count": 104
        }
      ]
    },
    {
      "cell_type": "markdown",
      "source": [
        "### 5) 토큰화 해제\n",
        "\n",
        "1. train"
      ],
      "metadata": {
        "id": "Vxp7oBrKSNRF"
      }
    },
    {
      "cell_type": "code",
      "source": [
        "# 토큰화 해제 함수\n",
        "def con(text):\n",
        "    final_text = []\n",
        "    for i in text:\n",
        "      final_text.append(i.strip())\n",
        "    return \" \".join(final_text)"
      ],
      "metadata": {
        "id": "D1uC3LGx_34u"
      },
      "execution_count": null,
      "outputs": []
    },
    {
      "cell_type": "code",
      "source": [
        "train['text'] = train['text'].apply(con).tolist() # 이부분 이름만 바꿔서 사용하면 됨\n",
        "train['text_del'] = train['text_del'].apply(con).tolist()"
      ],
      "metadata": {
        "id": "JzDfo5iu_8Er"
      },
      "execution_count": null,
      "outputs": []
    },
    {
      "cell_type": "code",
      "source": [
        "train.head()"
      ],
      "metadata": {
        "colab": {
          "base_uri": "https://localhost:8080/",
          "height": 238
        },
        "id": "VDbSOaH1AI6M",
        "outputId": "96d523b7-1654-40b7-fd6c-c0b1b57a9742"
      },
      "execution_count": null,
      "outputs": [
        {
          "output_type": "execute_result",
          "data": {
            "text/plain": [
              "                                                    text  author  \\\n",
              "index                                                              \n",
              "0      almost choke . much , much want say , strange ...       3   \n",
              "1                             “ sister ask , suppose ? ”       2   \n",
              "2      engage one day walk , peruse jane ’ s last let...       1   \n",
              "3      captain porch , keep carefully way treacherous...       4   \n",
              "4      “ mercy , gentlemen ! ” odin fling hand . “ do...       3   \n",
              "\n",
              "                                                text_del  \n",
              "index                                                     \n",
              "0      almost choke much much want say strange exclam...  \n",
              "1                                     sister ask suppose  \n",
              "2      engage one day walk peruse janes last letter d...  \n",
              "3      captain porch keep carefully way treacherous s...  \n",
              "4      mercy gentlemen odin fling hand dont write any...  "
            ],
            "text/html": [
              "\n",
              "  <div id=\"df-ea40d7db-54c1-4b77-901c-5f8957b014e7\">\n",
              "    <div class=\"colab-df-container\">\n",
              "      <div>\n",
              "<style scoped>\n",
              "    .dataframe tbody tr th:only-of-type {\n",
              "        vertical-align: middle;\n",
              "    }\n",
              "\n",
              "    .dataframe tbody tr th {\n",
              "        vertical-align: top;\n",
              "    }\n",
              "\n",
              "    .dataframe thead th {\n",
              "        text-align: right;\n",
              "    }\n",
              "</style>\n",
              "<table border=\"1\" class=\"dataframe\">\n",
              "  <thead>\n",
              "    <tr style=\"text-align: right;\">\n",
              "      <th></th>\n",
              "      <th>text</th>\n",
              "      <th>author</th>\n",
              "      <th>text_del</th>\n",
              "    </tr>\n",
              "    <tr>\n",
              "      <th>index</th>\n",
              "      <th></th>\n",
              "      <th></th>\n",
              "      <th></th>\n",
              "    </tr>\n",
              "  </thead>\n",
              "  <tbody>\n",
              "    <tr>\n",
              "      <th>0</th>\n",
              "      <td>almost choke . much , much want say , strange ...</td>\n",
              "      <td>3</td>\n",
              "      <td>almost choke much much want say strange exclam...</td>\n",
              "    </tr>\n",
              "    <tr>\n",
              "      <th>1</th>\n",
              "      <td>“ sister ask , suppose ? ”</td>\n",
              "      <td>2</td>\n",
              "      <td>sister ask suppose</td>\n",
              "    </tr>\n",
              "    <tr>\n",
              "      <th>2</th>\n",
              "      <td>engage one day walk , peruse jane ’ s last let...</td>\n",
              "      <td>1</td>\n",
              "      <td>engage one day walk peruse janes last letter d...</td>\n",
              "    </tr>\n",
              "    <tr>\n",
              "      <th>3</th>\n",
              "      <td>captain porch , keep carefully way treacherous...</td>\n",
              "      <td>4</td>\n",
              "      <td>captain porch keep carefully way treacherous s...</td>\n",
              "    </tr>\n",
              "    <tr>\n",
              "      <th>4</th>\n",
              "      <td>“ mercy , gentlemen ! ” odin fling hand . “ do...</td>\n",
              "      <td>3</td>\n",
              "      <td>mercy gentlemen odin fling hand dont write any...</td>\n",
              "    </tr>\n",
              "  </tbody>\n",
              "</table>\n",
              "</div>\n",
              "      <button class=\"colab-df-convert\" onclick=\"convertToInteractive('df-ea40d7db-54c1-4b77-901c-5f8957b014e7')\"\n",
              "              title=\"Convert this dataframe to an interactive table.\"\n",
              "              style=\"display:none;\">\n",
              "        \n",
              "  <svg xmlns=\"http://www.w3.org/2000/svg\" height=\"24px\"viewBox=\"0 0 24 24\"\n",
              "       width=\"24px\">\n",
              "    <path d=\"M0 0h24v24H0V0z\" fill=\"none\"/>\n",
              "    <path d=\"M18.56 5.44l.94 2.06.94-2.06 2.06-.94-2.06-.94-.94-2.06-.94 2.06-2.06.94zm-11 1L8.5 8.5l.94-2.06 2.06-.94-2.06-.94L8.5 2.5l-.94 2.06-2.06.94zm10 10l.94 2.06.94-2.06 2.06-.94-2.06-.94-.94-2.06-.94 2.06-2.06.94z\"/><path d=\"M17.41 7.96l-1.37-1.37c-.4-.4-.92-.59-1.43-.59-.52 0-1.04.2-1.43.59L10.3 9.45l-7.72 7.72c-.78.78-.78 2.05 0 2.83L4 21.41c.39.39.9.59 1.41.59.51 0 1.02-.2 1.41-.59l7.78-7.78 2.81-2.81c.8-.78.8-2.07 0-2.86zM5.41 20L4 18.59l7.72-7.72 1.47 1.35L5.41 20z\"/>\n",
              "  </svg>\n",
              "      </button>\n",
              "      \n",
              "  <style>\n",
              "    .colab-df-container {\n",
              "      display:flex;\n",
              "      flex-wrap:wrap;\n",
              "      gap: 12px;\n",
              "    }\n",
              "\n",
              "    .colab-df-convert {\n",
              "      background-color: #E8F0FE;\n",
              "      border: none;\n",
              "      border-radius: 50%;\n",
              "      cursor: pointer;\n",
              "      display: none;\n",
              "      fill: #1967D2;\n",
              "      height: 32px;\n",
              "      padding: 0 0 0 0;\n",
              "      width: 32px;\n",
              "    }\n",
              "\n",
              "    .colab-df-convert:hover {\n",
              "      background-color: #E2EBFA;\n",
              "      box-shadow: 0px 1px 2px rgba(60, 64, 67, 0.3), 0px 1px 3px 1px rgba(60, 64, 67, 0.15);\n",
              "      fill: #174EA6;\n",
              "    }\n",
              "\n",
              "    [theme=dark] .colab-df-convert {\n",
              "      background-color: #3B4455;\n",
              "      fill: #D2E3FC;\n",
              "    }\n",
              "\n",
              "    [theme=dark] .colab-df-convert:hover {\n",
              "      background-color: #434B5C;\n",
              "      box-shadow: 0px 1px 3px 1px rgba(0, 0, 0, 0.15);\n",
              "      filter: drop-shadow(0px 1px 2px rgba(0, 0, 0, 0.3));\n",
              "      fill: #FFFFFF;\n",
              "    }\n",
              "  </style>\n",
              "\n",
              "      <script>\n",
              "        const buttonEl =\n",
              "          document.querySelector('#df-ea40d7db-54c1-4b77-901c-5f8957b014e7 button.colab-df-convert');\n",
              "        buttonEl.style.display =\n",
              "          google.colab.kernel.accessAllowed ? 'block' : 'none';\n",
              "\n",
              "        async function convertToInteractive(key) {\n",
              "          const element = document.querySelector('#df-ea40d7db-54c1-4b77-901c-5f8957b014e7');\n",
              "          const dataTable =\n",
              "            await google.colab.kernel.invokeFunction('convertToInteractive',\n",
              "                                                     [key], {});\n",
              "          if (!dataTable) return;\n",
              "\n",
              "          const docLinkHtml = 'Like what you see? Visit the ' +\n",
              "            '<a target=\"_blank\" href=https://colab.research.google.com/notebooks/data_table.ipynb>data table notebook</a>'\n",
              "            + ' to learn more about interactive tables.';\n",
              "          element.innerHTML = '';\n",
              "          dataTable['output_type'] = 'display_data';\n",
              "          await google.colab.output.renderOutput(dataTable, element);\n",
              "          const docLink = document.createElement('div');\n",
              "          docLink.innerHTML = docLinkHtml;\n",
              "          element.appendChild(docLink);\n",
              "        }\n",
              "      </script>\n",
              "    </div>\n",
              "  </div>\n",
              "  "
            ]
          },
          "metadata": {},
          "execution_count": 107
        }
      ]
    },
    {
      "cell_type": "markdown",
      "source": [
        "2. test"
      ],
      "metadata": {
        "id": "gF-do5a3AHOL"
      }
    },
    {
      "cell_type": "code",
      "source": [
        "test['text'] = test['text'].apply(con).tolist() # 이부분 이름만 바꿔서 사용하면 됨\n",
        "test['text_del'] = test['text_del'].apply(con).tolist()"
      ],
      "metadata": {
        "id": "FznowXaAAIbg"
      },
      "execution_count": null,
      "outputs": []
    },
    {
      "cell_type": "code",
      "source": [
        "test"
      ],
      "metadata": {
        "colab": {
          "base_uri": "https://localhost:8080/",
          "height": 455
        },
        "id": "7WHjz6ewAQFr",
        "outputId": "1730778f-e8e1-4bf5-e281-b06876eabbdf"
      },
      "execution_count": null,
      "outputs": [
        {
          "output_type": "execute_result",
          "data": {
            "text/plain": [
              "                                                    text  \\\n",
              "index                                                      \n",
              "0      “ not . think one charm young ladies ever meet...   \n",
              "1      `` no , '' reply , sudden consciousness , `` n...   \n",
              "2      lady state intention scream , course scream ad...   \n",
              "3      “ suddenly silence hear sound send heart mouth...   \n",
              "4      conviction remain unchanged . far know -- beli...   \n",
              "...                                                  ...   \n",
              "19612  end another day two , odin grow visibly strong...   \n",
              "19613  afternoon sit together , mostly silence , watc...   \n",
              "19614  odin , carry thank odin , proceed happiness lu...   \n",
              "19615  soon , upon odin 's leave room , `` mama , '' ...   \n",
              "19616  worse doom man , denouncer well-known citizen ...   \n",
              "\n",
              "                                                text_del  \n",
              "index                                                     \n",
              "0      not think one charm young ladies ever meet mig...  \n",
              "1      no reply sudden consciousness not find can not...  \n",
              "2      lady state intention scream course scream addi...  \n",
              "3      suddenly silence hear sound send heart mouth c...  \n",
              "4      conviction remain unchanged far knowand believ...  \n",
              "...                                                  ...  \n",
              "19612  end another day two odin grow visibly stronger...  \n",
              "19613  afternoon sit together mostly silence watch lo...  \n",
              "19614  odin carry thank odin proceed happiness lucy e...  \n",
              "19615  soon upon odins leave room mama say odin alarm...  \n",
              "19616  worse doom man denouncer wellknown citizen att...  \n",
              "\n",
              "[19617 rows x 2 columns]"
            ],
            "text/html": [
              "\n",
              "  <div id=\"df-a97ac9f0-bb80-45ec-b0e8-6f97b49803e4\">\n",
              "    <div class=\"colab-df-container\">\n",
              "      <div>\n",
              "<style scoped>\n",
              "    .dataframe tbody tr th:only-of-type {\n",
              "        vertical-align: middle;\n",
              "    }\n",
              "\n",
              "    .dataframe tbody tr th {\n",
              "        vertical-align: top;\n",
              "    }\n",
              "\n",
              "    .dataframe thead th {\n",
              "        text-align: right;\n",
              "    }\n",
              "</style>\n",
              "<table border=\"1\" class=\"dataframe\">\n",
              "  <thead>\n",
              "    <tr style=\"text-align: right;\">\n",
              "      <th></th>\n",
              "      <th>text</th>\n",
              "      <th>text_del</th>\n",
              "    </tr>\n",
              "    <tr>\n",
              "      <th>index</th>\n",
              "      <th></th>\n",
              "      <th></th>\n",
              "    </tr>\n",
              "  </thead>\n",
              "  <tbody>\n",
              "    <tr>\n",
              "      <th>0</th>\n",
              "      <td>“ not . think one charm young ladies ever meet...</td>\n",
              "      <td>not think one charm young ladies ever meet mig...</td>\n",
              "    </tr>\n",
              "    <tr>\n",
              "      <th>1</th>\n",
              "      <td>`` no , '' reply , sudden consciousness , `` n...</td>\n",
              "      <td>no reply sudden consciousness not find can not...</td>\n",
              "    </tr>\n",
              "    <tr>\n",
              "      <th>2</th>\n",
              "      <td>lady state intention scream , course scream ad...</td>\n",
              "      <td>lady state intention scream course scream addi...</td>\n",
              "    </tr>\n",
              "    <tr>\n",
              "      <th>3</th>\n",
              "      <td>“ suddenly silence hear sound send heart mouth...</td>\n",
              "      <td>suddenly silence hear sound send heart mouth c...</td>\n",
              "    </tr>\n",
              "    <tr>\n",
              "      <th>4</th>\n",
              "      <td>conviction remain unchanged . far know -- beli...</td>\n",
              "      <td>conviction remain unchanged far knowand believ...</td>\n",
              "    </tr>\n",
              "    <tr>\n",
              "      <th>...</th>\n",
              "      <td>...</td>\n",
              "      <td>...</td>\n",
              "    </tr>\n",
              "    <tr>\n",
              "      <th>19612</th>\n",
              "      <td>end another day two , odin grow visibly strong...</td>\n",
              "      <td>end another day two odin grow visibly stronger...</td>\n",
              "    </tr>\n",
              "    <tr>\n",
              "      <th>19613</th>\n",
              "      <td>afternoon sit together , mostly silence , watc...</td>\n",
              "      <td>afternoon sit together mostly silence watch lo...</td>\n",
              "    </tr>\n",
              "    <tr>\n",
              "      <th>19614</th>\n",
              "      <td>odin , carry thank odin , proceed happiness lu...</td>\n",
              "      <td>odin carry thank odin proceed happiness lucy e...</td>\n",
              "    </tr>\n",
              "    <tr>\n",
              "      <th>19615</th>\n",
              "      <td>soon , upon odin 's leave room , `` mama , '' ...</td>\n",
              "      <td>soon upon odins leave room mama say odin alarm...</td>\n",
              "    </tr>\n",
              "    <tr>\n",
              "      <th>19616</th>\n",
              "      <td>worse doom man , denouncer well-known citizen ...</td>\n",
              "      <td>worse doom man denouncer wellknown citizen att...</td>\n",
              "    </tr>\n",
              "  </tbody>\n",
              "</table>\n",
              "<p>19617 rows × 2 columns</p>\n",
              "</div>\n",
              "      <button class=\"colab-df-convert\" onclick=\"convertToInteractive('df-a97ac9f0-bb80-45ec-b0e8-6f97b49803e4')\"\n",
              "              title=\"Convert this dataframe to an interactive table.\"\n",
              "              style=\"display:none;\">\n",
              "        \n",
              "  <svg xmlns=\"http://www.w3.org/2000/svg\" height=\"24px\"viewBox=\"0 0 24 24\"\n",
              "       width=\"24px\">\n",
              "    <path d=\"M0 0h24v24H0V0z\" fill=\"none\"/>\n",
              "    <path d=\"M18.56 5.44l.94 2.06.94-2.06 2.06-.94-2.06-.94-.94-2.06-.94 2.06-2.06.94zm-11 1L8.5 8.5l.94-2.06 2.06-.94-2.06-.94L8.5 2.5l-.94 2.06-2.06.94zm10 10l.94 2.06.94-2.06 2.06-.94-2.06-.94-.94-2.06-.94 2.06-2.06.94z\"/><path d=\"M17.41 7.96l-1.37-1.37c-.4-.4-.92-.59-1.43-.59-.52 0-1.04.2-1.43.59L10.3 9.45l-7.72 7.72c-.78.78-.78 2.05 0 2.83L4 21.41c.39.39.9.59 1.41.59.51 0 1.02-.2 1.41-.59l7.78-7.78 2.81-2.81c.8-.78.8-2.07 0-2.86zM5.41 20L4 18.59l7.72-7.72 1.47 1.35L5.41 20z\"/>\n",
              "  </svg>\n",
              "      </button>\n",
              "      \n",
              "  <style>\n",
              "    .colab-df-container {\n",
              "      display:flex;\n",
              "      flex-wrap:wrap;\n",
              "      gap: 12px;\n",
              "    }\n",
              "\n",
              "    .colab-df-convert {\n",
              "      background-color: #E8F0FE;\n",
              "      border: none;\n",
              "      border-radius: 50%;\n",
              "      cursor: pointer;\n",
              "      display: none;\n",
              "      fill: #1967D2;\n",
              "      height: 32px;\n",
              "      padding: 0 0 0 0;\n",
              "      width: 32px;\n",
              "    }\n",
              "\n",
              "    .colab-df-convert:hover {\n",
              "      background-color: #E2EBFA;\n",
              "      box-shadow: 0px 1px 2px rgba(60, 64, 67, 0.3), 0px 1px 3px 1px rgba(60, 64, 67, 0.15);\n",
              "      fill: #174EA6;\n",
              "    }\n",
              "\n",
              "    [theme=dark] .colab-df-convert {\n",
              "      background-color: #3B4455;\n",
              "      fill: #D2E3FC;\n",
              "    }\n",
              "\n",
              "    [theme=dark] .colab-df-convert:hover {\n",
              "      background-color: #434B5C;\n",
              "      box-shadow: 0px 1px 3px 1px rgba(0, 0, 0, 0.15);\n",
              "      filter: drop-shadow(0px 1px 2px rgba(0, 0, 0, 0.3));\n",
              "      fill: #FFFFFF;\n",
              "    }\n",
              "  </style>\n",
              "\n",
              "      <script>\n",
              "        const buttonEl =\n",
              "          document.querySelector('#df-a97ac9f0-bb80-45ec-b0e8-6f97b49803e4 button.colab-df-convert');\n",
              "        buttonEl.style.display =\n",
              "          google.colab.kernel.accessAllowed ? 'block' : 'none';\n",
              "\n",
              "        async function convertToInteractive(key) {\n",
              "          const element = document.querySelector('#df-a97ac9f0-bb80-45ec-b0e8-6f97b49803e4');\n",
              "          const dataTable =\n",
              "            await google.colab.kernel.invokeFunction('convertToInteractive',\n",
              "                                                     [key], {});\n",
              "          if (!dataTable) return;\n",
              "\n",
              "          const docLinkHtml = 'Like what you see? Visit the ' +\n",
              "            '<a target=\"_blank\" href=https://colab.research.google.com/notebooks/data_table.ipynb>data table notebook</a>'\n",
              "            + ' to learn more about interactive tables.';\n",
              "          element.innerHTML = '';\n",
              "          dataTable['output_type'] = 'display_data';\n",
              "          await google.colab.output.renderOutput(dataTable, element);\n",
              "          const docLink = document.createElement('div');\n",
              "          docLink.innerHTML = docLinkHtml;\n",
              "          element.appendChild(docLink);\n",
              "        }\n",
              "      </script>\n",
              "    </div>\n",
              "  </div>\n",
              "  "
            ]
          },
          "metadata": {},
          "execution_count": 109
        }
      ]
    },
    {
      "cell_type": "markdown",
      "source": [
        "내보내기"
      ],
      "metadata": {
        "id": "k6B-Ez9OXFAe"
      }
    },
    {
      "cell_type": "code",
      "source": [
        "train.to_csv('/content/drive/MyDrive/OB 1조/프로젝트2/data/베이스라인/train_3-2.csv', index = False)"
      ],
      "metadata": {
        "id": "RQl3DEAWXF7k"
      },
      "execution_count": null,
      "outputs": []
    },
    {
      "cell_type": "code",
      "source": [
        "test.to_csv('/content/drive/MyDrive/OB 1조/프로젝트2/data/베이스라인/test_3-2.csv', index = False)"
      ],
      "metadata": {
        "id": "RzR7ZmGuXIjw"
      },
      "execution_count": null,
      "outputs": []
    },
    {
      "cell_type": "markdown",
      "source": [
        "## ver4. nltk 패키지의 모든 불용어 제거하기 : 민경   "
      ],
      "metadata": {
        "id": "BsGgaFZQOmx9"
      }
    },
    {
      "cell_type": "markdown",
      "source": [
        "### 1) 소문자 처리"
      ],
      "metadata": {
        "id": "dGeLAevaSNzN"
      }
    },
    {
      "cell_type": "code",
      "source": [
        "# 위에서 처리했기에 데이터 새로 로드할시에만 실행\n",
        "train['text'] = train['text'].str.lower() \n",
        "test['text'] = test['text'].str.lower() "
      ],
      "metadata": {
        "id": "NjOe57vkuM-m"
      },
      "execution_count": null,
      "outputs": []
    },
    {
      "cell_type": "markdown",
      "source": [
        "### 2) 토큰화"
      ],
      "metadata": {
        "id": "obrzXcdbSNzO"
      }
    },
    {
      "cell_type": "code",
      "source": [
        "from nltk.tokenize import word_tokenize\n",
        "\n",
        "for i in range(len(train)):\n",
        "  train['text'][i] = word_tokenize(train['text'][i])"
      ],
      "metadata": {
        "id": "ovYDT-HeuTWg"
      },
      "execution_count": null,
      "outputs": []
    },
    {
      "cell_type": "code",
      "source": [
        "for i in range(len(test)):\n",
        "  test['text'][i] = word_tokenize(test['text'][i])"
      ],
      "metadata": {
        "id": "22MaNAEduVH1"
      },
      "execution_count": null,
      "outputs": []
    },
    {
      "cell_type": "markdown",
      "source": [
        "### 3) 불용어 제거 + 문장부호 o/x"
      ],
      "metadata": {
        "id": "LDgH7_jdSNzO"
      }
    },
    {
      "cell_type": "code",
      "source": [
        "# nltk 불용어 데이터 다운로드\n",
        "from nltk.corpus import stopwords\n",
        "nltk.download('stopwords')"
      ],
      "metadata": {
        "id": "s47pK9zXum0C"
      },
      "execution_count": null,
      "outputs": []
    },
    {
      "cell_type": "code",
      "source": [
        "stop_words = stopwords.words('english')"
      ],
      "metadata": {
        "id": "97s0PCIuuoQv"
      },
      "execution_count": null,
      "outputs": []
    },
    {
      "cell_type": "code",
      "source": [
        "# 불용어를 제거\n",
        "train['text_all'] = train['text'].apply(lambda x: [item for item in x if item not in stop_words])\n",
        "test['text_all'] = test['text'].apply(lambda x: [item for item in x if item not in stop_words])"
      ],
      "metadata": {
        "id": "3uz87ecqupae"
      },
      "execution_count": null,
      "outputs": []
    },
    {
      "cell_type": "markdown",
      "source": [
        "### 4) 표제어 추출 및 토큰화 해제"
      ],
      "metadata": {
        "id": "4A3U9-RNSNzO"
      }
    },
    {
      "cell_type": "markdown",
      "source": [
        "A. Stemming"
      ],
      "metadata": {
        "id": "ObZeLE07ToFR"
      }
    },
    {
      "cell_type": "code",
      "source": [
        "porter = nltk.PorterStemmer()"
      ],
      "metadata": {
        "id": "E2OCx_iJutTa"
      },
      "execution_count": null,
      "outputs": []
    },
    {
      "cell_type": "code",
      "source": [
        "porter_stem = []\n",
        "text_PorterStem = [] \n",
        "\n",
        "for i in range(len(train['text_all'])):\n",
        "  for j in range(len(train['text_all'][i])):\n",
        "    porter_stem.append(porter.stem(train['text_all'][i][j]))\n",
        "  text_PorterStem.append(list(porter_stem))\n",
        "  porter_stem.clear()"
      ],
      "metadata": {
        "id": "a0Rw2YYy3e4i"
      },
      "execution_count": null,
      "outputs": []
    },
    {
      "cell_type": "code",
      "source": [
        "len(text_PorterStem)"
      ],
      "metadata": {
        "id": "ikN1hq4MFJFP"
      },
      "execution_count": null,
      "outputs": []
    },
    {
      "cell_type": "code",
      "source": [
        "train=train.assign(text_Stem = text_PorterStem)\n",
        "train.head()"
      ],
      "metadata": {
        "id": "YicNMzyc_Y69",
        "colab": {
          "base_uri": "https://localhost:8080/",
          "height": 238
        },
        "outputId": "e2dd3857-fdbd-432d-cfc9-b050b130a5ee"
      },
      "execution_count": null,
      "outputs": [
        {
          "output_type": "execute_result",
          "data": {
            "text/plain": [
              "                                                    text  author  \\\n",
              "index                                                              \n",
              "0      [he, was, almost, choking, ., there, was, so, ...       3   \n",
              "1      [“, your, sister, asked, for, it, ,, i, suppos...       2   \n",
              "2      [she, was, engaged, one, day, as, she, walked,...       1   \n",
              "3      [the, captain, was, in, the, porch, ,, keeping...       4   \n",
              "4      [“, have, mercy, ,, gentlemen, !, ”, odin, flu...       3   \n",
              "\n",
              "                                                text_all  \\\n",
              "index                                                      \n",
              "0      [almost, choking, ., much, ,, much, wanted, sa...   \n",
              "1                   [“, sister, asked, ,, suppose, ?, ”]   \n",
              "2      [engaged, one, day, walked, ,, perusing, jane,...   \n",
              "3      [captain, porch, ,, keeping, carefully, way, t...   \n",
              "4      [“, mercy, ,, gentlemen, !, ”, odin, flung, ha...   \n",
              "\n",
              "                                               text_Stem  \n",
              "index                                                     \n",
              "0      [almost, choke, ., much, ,, much, want, say, ,...  \n",
              "1                      [“, sister, ask, ,, suppos, ?, ”]  \n",
              "2      [engag, one, day, walk, ,, perus, jane, ’, las...  \n",
              "3      [captain, porch, ,, keep, care, way, treacher,...  \n",
              "4      [“, merci, ,, gentlemen, !, ”, odin, flung, ha...  "
            ],
            "text/html": [
              "\n",
              "  <div id=\"df-cca56d10-fa72-45ba-a850-39f5a23af4b1\">\n",
              "    <div class=\"colab-df-container\">\n",
              "      <div>\n",
              "<style scoped>\n",
              "    .dataframe tbody tr th:only-of-type {\n",
              "        vertical-align: middle;\n",
              "    }\n",
              "\n",
              "    .dataframe tbody tr th {\n",
              "        vertical-align: top;\n",
              "    }\n",
              "\n",
              "    .dataframe thead th {\n",
              "        text-align: right;\n",
              "    }\n",
              "</style>\n",
              "<table border=\"1\" class=\"dataframe\">\n",
              "  <thead>\n",
              "    <tr style=\"text-align: right;\">\n",
              "      <th></th>\n",
              "      <th>text</th>\n",
              "      <th>author</th>\n",
              "      <th>text_all</th>\n",
              "      <th>text_Stem</th>\n",
              "    </tr>\n",
              "    <tr>\n",
              "      <th>index</th>\n",
              "      <th></th>\n",
              "      <th></th>\n",
              "      <th></th>\n",
              "      <th></th>\n",
              "    </tr>\n",
              "  </thead>\n",
              "  <tbody>\n",
              "    <tr>\n",
              "      <th>0</th>\n",
              "      <td>[he, was, almost, choking, ., there, was, so, ...</td>\n",
              "      <td>3</td>\n",
              "      <td>[almost, choking, ., much, ,, much, wanted, sa...</td>\n",
              "      <td>[almost, choke, ., much, ,, much, want, say, ,...</td>\n",
              "    </tr>\n",
              "    <tr>\n",
              "      <th>1</th>\n",
              "      <td>[“, your, sister, asked, for, it, ,, i, suppos...</td>\n",
              "      <td>2</td>\n",
              "      <td>[“, sister, asked, ,, suppose, ?, ”]</td>\n",
              "      <td>[“, sister, ask, ,, suppos, ?, ”]</td>\n",
              "    </tr>\n",
              "    <tr>\n",
              "      <th>2</th>\n",
              "      <td>[she, was, engaged, one, day, as, she, walked,...</td>\n",
              "      <td>1</td>\n",
              "      <td>[engaged, one, day, walked, ,, perusing, jane,...</td>\n",
              "      <td>[engag, one, day, walk, ,, perus, jane, ’, las...</td>\n",
              "    </tr>\n",
              "    <tr>\n",
              "      <th>3</th>\n",
              "      <td>[the, captain, was, in, the, porch, ,, keeping...</td>\n",
              "      <td>4</td>\n",
              "      <td>[captain, porch, ,, keeping, carefully, way, t...</td>\n",
              "      <td>[captain, porch, ,, keep, care, way, treacher,...</td>\n",
              "    </tr>\n",
              "    <tr>\n",
              "      <th>4</th>\n",
              "      <td>[“, have, mercy, ,, gentlemen, !, ”, odin, flu...</td>\n",
              "      <td>3</td>\n",
              "      <td>[“, mercy, ,, gentlemen, !, ”, odin, flung, ha...</td>\n",
              "      <td>[“, merci, ,, gentlemen, !, ”, odin, flung, ha...</td>\n",
              "    </tr>\n",
              "  </tbody>\n",
              "</table>\n",
              "</div>\n",
              "      <button class=\"colab-df-convert\" onclick=\"convertToInteractive('df-cca56d10-fa72-45ba-a850-39f5a23af4b1')\"\n",
              "              title=\"Convert this dataframe to an interactive table.\"\n",
              "              style=\"display:none;\">\n",
              "        \n",
              "  <svg xmlns=\"http://www.w3.org/2000/svg\" height=\"24px\"viewBox=\"0 0 24 24\"\n",
              "       width=\"24px\">\n",
              "    <path d=\"M0 0h24v24H0V0z\" fill=\"none\"/>\n",
              "    <path d=\"M18.56 5.44l.94 2.06.94-2.06 2.06-.94-2.06-.94-.94-2.06-.94 2.06-2.06.94zm-11 1L8.5 8.5l.94-2.06 2.06-.94-2.06-.94L8.5 2.5l-.94 2.06-2.06.94zm10 10l.94 2.06.94-2.06 2.06-.94-2.06-.94-.94-2.06-.94 2.06-2.06.94z\"/><path d=\"M17.41 7.96l-1.37-1.37c-.4-.4-.92-.59-1.43-.59-.52 0-1.04.2-1.43.59L10.3 9.45l-7.72 7.72c-.78.78-.78 2.05 0 2.83L4 21.41c.39.39.9.59 1.41.59.51 0 1.02-.2 1.41-.59l7.78-7.78 2.81-2.81c.8-.78.8-2.07 0-2.86zM5.41 20L4 18.59l7.72-7.72 1.47 1.35L5.41 20z\"/>\n",
              "  </svg>\n",
              "      </button>\n",
              "      \n",
              "  <style>\n",
              "    .colab-df-container {\n",
              "      display:flex;\n",
              "      flex-wrap:wrap;\n",
              "      gap: 12px;\n",
              "    }\n",
              "\n",
              "    .colab-df-convert {\n",
              "      background-color: #E8F0FE;\n",
              "      border: none;\n",
              "      border-radius: 50%;\n",
              "      cursor: pointer;\n",
              "      display: none;\n",
              "      fill: #1967D2;\n",
              "      height: 32px;\n",
              "      padding: 0 0 0 0;\n",
              "      width: 32px;\n",
              "    }\n",
              "\n",
              "    .colab-df-convert:hover {\n",
              "      background-color: #E2EBFA;\n",
              "      box-shadow: 0px 1px 2px rgba(60, 64, 67, 0.3), 0px 1px 3px 1px rgba(60, 64, 67, 0.15);\n",
              "      fill: #174EA6;\n",
              "    }\n",
              "\n",
              "    [theme=dark] .colab-df-convert {\n",
              "      background-color: #3B4455;\n",
              "      fill: #D2E3FC;\n",
              "    }\n",
              "\n",
              "    [theme=dark] .colab-df-convert:hover {\n",
              "      background-color: #434B5C;\n",
              "      box-shadow: 0px 1px 3px 1px rgba(0, 0, 0, 0.15);\n",
              "      filter: drop-shadow(0px 1px 2px rgba(0, 0, 0, 0.3));\n",
              "      fill: #FFFFFF;\n",
              "    }\n",
              "  </style>\n",
              "\n",
              "      <script>\n",
              "        const buttonEl =\n",
              "          document.querySelector('#df-cca56d10-fa72-45ba-a850-39f5a23af4b1 button.colab-df-convert');\n",
              "        buttonEl.style.display =\n",
              "          google.colab.kernel.accessAllowed ? 'block' : 'none';\n",
              "\n",
              "        async function convertToInteractive(key) {\n",
              "          const element = document.querySelector('#df-cca56d10-fa72-45ba-a850-39f5a23af4b1');\n",
              "          const dataTable =\n",
              "            await google.colab.kernel.invokeFunction('convertToInteractive',\n",
              "                                                     [key], {});\n",
              "          if (!dataTable) return;\n",
              "\n",
              "          const docLinkHtml = 'Like what you see? Visit the ' +\n",
              "            '<a target=\"_blank\" href=https://colab.research.google.com/notebooks/data_table.ipynb>data table notebook</a>'\n",
              "            + ' to learn more about interactive tables.';\n",
              "          element.innerHTML = '';\n",
              "          dataTable['output_type'] = 'display_data';\n",
              "          await google.colab.output.renderOutput(dataTable, element);\n",
              "          const docLink = document.createElement('div');\n",
              "          docLink.innerHTML = docLinkHtml;\n",
              "          element.appendChild(docLink);\n",
              "        }\n",
              "      </script>\n",
              "    </div>\n",
              "  </div>\n",
              "  "
            ]
          },
          "metadata": {},
          "execution_count": 49
        }
      ]
    },
    {
      "cell_type": "code",
      "source": [
        "porter_stem2 = []\n",
        "text_PorterStem2 = [] \n",
        "\n",
        "for i in range(len(test['text_all'])):\n",
        "  for j in range(len(test['text_all'][i])):\n",
        "    porter_stem2.append(porter.stem(test['text_all'][i][j]))\n",
        "  text_PorterStem2.append(list(porter_stem2))\n",
        "  porter_stem2.clear()"
      ],
      "metadata": {
        "id": "WyTgLUtw3FSA"
      },
      "execution_count": null,
      "outputs": []
    },
    {
      "cell_type": "code",
      "source": [
        "len(text_PorterStem2)"
      ],
      "metadata": {
        "colab": {
          "base_uri": "https://localhost:8080/"
        },
        "outputId": "3142f5fd-0746-4580-b38d-0035a65f15fe",
        "id": "6WEsiIdG3FSF"
      },
      "execution_count": null,
      "outputs": [
        {
          "output_type": "execute_result",
          "data": {
            "text/plain": [
              "19617"
            ]
          },
          "metadata": {},
          "execution_count": 27
        }
      ]
    },
    {
      "cell_type": "code",
      "source": [
        "test=test.assign(text_Stem = text_PorterStem2)\n",
        "test.head()"
      ],
      "metadata": {
        "colab": {
          "base_uri": "https://localhost:8080/",
          "height": 238
        },
        "outputId": "95cbb462-6569-42bd-c9d9-a26e4bd6b56e",
        "id": "a7aR1J4l3FSO"
      },
      "execution_count": null,
      "outputs": [
        {
          "output_type": "execute_result",
          "data": {
            "text/plain": [
              "                                                    text  \\\n",
              "index                                                      \n",
              "0      [“, not, at, all, ., i, think, she, is, one, o...   \n",
              "1      [``, no, ,, '', replied, he, ,, with, sudden, ...   \n",
              "2      [as, the, lady, had, stated, her, intention, o...   \n",
              "3      [“, and, then, suddenly, in, the, silence, i, ...   \n",
              "4      [his, conviction, remained, unchanged, ., so, ...   \n",
              "\n",
              "                                                text_all  \\\n",
              "index                                                      \n",
              "0      [“, ., think, one, charming, young, ladies, ev...   \n",
              "1      [``, ,, '', replied, ,, sudden, consciousness,...   \n",
              "2      [lady, stated, intention, screaming, ,, course...   \n",
              "3      [“, suddenly, silence, heard, sound, sent, hea...   \n",
              "4      [conviction, remained, unchanged, ., far, know...   \n",
              "\n",
              "                                               text_Stem  \n",
              "index                                                     \n",
              "0      [“, ., think, one, charm, young, ladi, ever, m...  \n",
              "1      [``, ,, '', repli, ,, sudden, conscious, ,, ``...  \n",
              "2      [ladi, state, intent, scream, ,, cours, would,...  \n",
              "3      [“, suddenli, silenc, heard, sound, sent, hear...  \n",
              "4      [convict, remain, unchang, ., far, know, --, b...  "
            ],
            "text/html": [
              "\n",
              "  <div id=\"df-f1430fcb-55c6-47bd-8f99-93e4338c5542\">\n",
              "    <div class=\"colab-df-container\">\n",
              "      <div>\n",
              "<style scoped>\n",
              "    .dataframe tbody tr th:only-of-type {\n",
              "        vertical-align: middle;\n",
              "    }\n",
              "\n",
              "    .dataframe tbody tr th {\n",
              "        vertical-align: top;\n",
              "    }\n",
              "\n",
              "    .dataframe thead th {\n",
              "        text-align: right;\n",
              "    }\n",
              "</style>\n",
              "<table border=\"1\" class=\"dataframe\">\n",
              "  <thead>\n",
              "    <tr style=\"text-align: right;\">\n",
              "      <th></th>\n",
              "      <th>text</th>\n",
              "      <th>text_all</th>\n",
              "      <th>text_Stem</th>\n",
              "    </tr>\n",
              "    <tr>\n",
              "      <th>index</th>\n",
              "      <th></th>\n",
              "      <th></th>\n",
              "      <th></th>\n",
              "    </tr>\n",
              "  </thead>\n",
              "  <tbody>\n",
              "    <tr>\n",
              "      <th>0</th>\n",
              "      <td>[“, not, at, all, ., i, think, she, is, one, o...</td>\n",
              "      <td>[“, ., think, one, charming, young, ladies, ev...</td>\n",
              "      <td>[“, ., think, one, charm, young, ladi, ever, m...</td>\n",
              "    </tr>\n",
              "    <tr>\n",
              "      <th>1</th>\n",
              "      <td>[``, no, ,, '', replied, he, ,, with, sudden, ...</td>\n",
              "      <td>[``, ,, '', replied, ,, sudden, consciousness,...</td>\n",
              "      <td>[``, ,, '', repli, ,, sudden, conscious, ,, ``...</td>\n",
              "    </tr>\n",
              "    <tr>\n",
              "      <th>2</th>\n",
              "      <td>[as, the, lady, had, stated, her, intention, o...</td>\n",
              "      <td>[lady, stated, intention, screaming, ,, course...</td>\n",
              "      <td>[ladi, state, intent, scream, ,, cours, would,...</td>\n",
              "    </tr>\n",
              "    <tr>\n",
              "      <th>3</th>\n",
              "      <td>[“, and, then, suddenly, in, the, silence, i, ...</td>\n",
              "      <td>[“, suddenly, silence, heard, sound, sent, hea...</td>\n",
              "      <td>[“, suddenli, silenc, heard, sound, sent, hear...</td>\n",
              "    </tr>\n",
              "    <tr>\n",
              "      <th>4</th>\n",
              "      <td>[his, conviction, remained, unchanged, ., so, ...</td>\n",
              "      <td>[conviction, remained, unchanged, ., far, know...</td>\n",
              "      <td>[convict, remain, unchang, ., far, know, --, b...</td>\n",
              "    </tr>\n",
              "  </tbody>\n",
              "</table>\n",
              "</div>\n",
              "      <button class=\"colab-df-convert\" onclick=\"convertToInteractive('df-f1430fcb-55c6-47bd-8f99-93e4338c5542')\"\n",
              "              title=\"Convert this dataframe to an interactive table.\"\n",
              "              style=\"display:none;\">\n",
              "        \n",
              "  <svg xmlns=\"http://www.w3.org/2000/svg\" height=\"24px\"viewBox=\"0 0 24 24\"\n",
              "       width=\"24px\">\n",
              "    <path d=\"M0 0h24v24H0V0z\" fill=\"none\"/>\n",
              "    <path d=\"M18.56 5.44l.94 2.06.94-2.06 2.06-.94-2.06-.94-.94-2.06-.94 2.06-2.06.94zm-11 1L8.5 8.5l.94-2.06 2.06-.94-2.06-.94L8.5 2.5l-.94 2.06-2.06.94zm10 10l.94 2.06.94-2.06 2.06-.94-2.06-.94-.94-2.06-.94 2.06-2.06.94z\"/><path d=\"M17.41 7.96l-1.37-1.37c-.4-.4-.92-.59-1.43-.59-.52 0-1.04.2-1.43.59L10.3 9.45l-7.72 7.72c-.78.78-.78 2.05 0 2.83L4 21.41c.39.39.9.59 1.41.59.51 0 1.02-.2 1.41-.59l7.78-7.78 2.81-2.81c.8-.78.8-2.07 0-2.86zM5.41 20L4 18.59l7.72-7.72 1.47 1.35L5.41 20z\"/>\n",
              "  </svg>\n",
              "      </button>\n",
              "      \n",
              "  <style>\n",
              "    .colab-df-container {\n",
              "      display:flex;\n",
              "      flex-wrap:wrap;\n",
              "      gap: 12px;\n",
              "    }\n",
              "\n",
              "    .colab-df-convert {\n",
              "      background-color: #E8F0FE;\n",
              "      border: none;\n",
              "      border-radius: 50%;\n",
              "      cursor: pointer;\n",
              "      display: none;\n",
              "      fill: #1967D2;\n",
              "      height: 32px;\n",
              "      padding: 0 0 0 0;\n",
              "      width: 32px;\n",
              "    }\n",
              "\n",
              "    .colab-df-convert:hover {\n",
              "      background-color: #E2EBFA;\n",
              "      box-shadow: 0px 1px 2px rgba(60, 64, 67, 0.3), 0px 1px 3px 1px rgba(60, 64, 67, 0.15);\n",
              "      fill: #174EA6;\n",
              "    }\n",
              "\n",
              "    [theme=dark] .colab-df-convert {\n",
              "      background-color: #3B4455;\n",
              "      fill: #D2E3FC;\n",
              "    }\n",
              "\n",
              "    [theme=dark] .colab-df-convert:hover {\n",
              "      background-color: #434B5C;\n",
              "      box-shadow: 0px 1px 3px 1px rgba(0, 0, 0, 0.15);\n",
              "      filter: drop-shadow(0px 1px 2px rgba(0, 0, 0, 0.3));\n",
              "      fill: #FFFFFF;\n",
              "    }\n",
              "  </style>\n",
              "\n",
              "      <script>\n",
              "        const buttonEl =\n",
              "          document.querySelector('#df-f1430fcb-55c6-47bd-8f99-93e4338c5542 button.colab-df-convert');\n",
              "        buttonEl.style.display =\n",
              "          google.colab.kernel.accessAllowed ? 'block' : 'none';\n",
              "\n",
              "        async function convertToInteractive(key) {\n",
              "          const element = document.querySelector('#df-f1430fcb-55c6-47bd-8f99-93e4338c5542');\n",
              "          const dataTable =\n",
              "            await google.colab.kernel.invokeFunction('convertToInteractive',\n",
              "                                                     [key], {});\n",
              "          if (!dataTable) return;\n",
              "\n",
              "          const docLinkHtml = 'Like what you see? Visit the ' +\n",
              "            '<a target=\"_blank\" href=https://colab.research.google.com/notebooks/data_table.ipynb>data table notebook</a>'\n",
              "            + ' to learn more about interactive tables.';\n",
              "          element.innerHTML = '';\n",
              "          dataTable['output_type'] = 'display_data';\n",
              "          await google.colab.output.renderOutput(dataTable, element);\n",
              "          const docLink = document.createElement('div');\n",
              "          docLink.innerHTML = docLinkHtml;\n",
              "          element.appendChild(docLink);\n",
              "        }\n",
              "      </script>\n",
              "    </div>\n",
              "  </div>\n",
              "  "
            ]
          },
          "metadata": {},
          "execution_count": 51
        }
      ]
    },
    {
      "cell_type": "code",
      "source": [
        "train['text_Stem_2'] = 0\n",
        "test['text_Stem_2'] = 0"
      ],
      "metadata": {
        "id": "z3Rq11502CEb"
      },
      "execution_count": null,
      "outputs": []
    },
    {
      "cell_type": "code",
      "source": [
        "a = -1\n",
        "result = []\n",
        "\n",
        "for i in train['text_Stem']:\n",
        "  for word in i: \n",
        "    if word.isalpha(): \n",
        "        result.append(word)\n",
        "  a = a+1\n",
        "  train['text_Stem_2'][a] = result\n",
        "  result = []"
      ],
      "metadata": {
        "id": "8flX63Y0UHWX"
      },
      "execution_count": null,
      "outputs": []
    },
    {
      "cell_type": "code",
      "source": [
        "a = -1\n",
        "result = []\n",
        "\n",
        "for i in test['text_Stem']:\n",
        "  for word in i: \n",
        "    if word.isalpha(): \n",
        "        result.append(word)\n",
        "  a = a+1\n",
        "  test['text_Stem_2'][a] = result\n",
        "  result = []"
      ],
      "metadata": {
        "id": "4-pKJkcc2KXE"
      },
      "execution_count": null,
      "outputs": []
    },
    {
      "cell_type": "code",
      "source": [
        "# 토큰화 해제 함수\n",
        "def con(text):\n",
        "    final_text = []\n",
        "    for i in text:\n",
        "      final_text.append(i.strip())\n",
        "    return \" \".join(final_text)"
      ],
      "metadata": {
        "id": "n0d1VKn1xkTa"
      },
      "execution_count": null,
      "outputs": []
    },
    {
      "cell_type": "code",
      "source": [
        "train['S_o'] = train['text_Stem'].apply(con).tolist() # 이부분 이름만 바꿔서 사용하면 됨\n",
        "train['S_x'] = train['text_Stem_2'].apply(con).tolist()"
      ],
      "metadata": {
        "id": "7yXqrsyt4qxE"
      },
      "execution_count": null,
      "outputs": []
    },
    {
      "cell_type": "code",
      "source": [
        "test['S_o'] = test['text_Stem'].apply(con).tolist() # 이부분 이름만 바꿔서 사용하면 됨\n",
        "test['S_x'] = test['text_Stem_2'].apply(con).tolist()"
      ],
      "metadata": {
        "id": "E2_l9m4ayvQf"
      },
      "execution_count": null,
      "outputs": []
    },
    {
      "cell_type": "code",
      "source": [
        "train.to_csv(\"train_4_S.csv\")\n",
        "test.to_csv(\"test_4_S.csv\")"
      ],
      "metadata": {
        "id": "1pmS54zqvoKE"
      },
      "execution_count": null,
      "outputs": []
    },
    {
      "cell_type": "code",
      "source": [
        "train = train.drop(['text_Stem', 'text_Stem_2', 'S_o', 'S_x'], axis=1)\n",
        "test = test.drop(['text_Stem', 'text_Stem_2', 'S_o', 'S_x'], axis=1)"
      ],
      "metadata": {
        "id": "HU7yI2cKvpMB"
      },
      "execution_count": null,
      "outputs": []
    },
    {
      "cell_type": "markdown",
      "source": [
        "B. Lemmatization"
      ],
      "metadata": {
        "id": "LlW_qJ9DToHp"
      }
    },
    {
      "cell_type": "code",
      "source": [
        "from nltk.stem import WordNetLemmatizer\n",
        "\n",
        "lemmatizer = WordNetLemmatizer()"
      ],
      "metadata": {
        "id": "d4GVCWQsvGai"
      },
      "execution_count": null,
      "outputs": []
    },
    {
      "cell_type": "code",
      "source": [
        "nltk.download('wordnet', quiet=True)"
      ],
      "metadata": {
        "colab": {
          "base_uri": "https://localhost:8080/"
        },
        "outputId": "a405ab58-271a-469e-e048-09e18fc1703d",
        "id": "NI7iZDrYvGal"
      },
      "execution_count": null,
      "outputs": [
        {
          "output_type": "execute_result",
          "data": {
            "text/plain": [
              "True"
            ]
          },
          "metadata": {},
          "execution_count": 63
        }
      ]
    },
    {
      "cell_type": "code",
      "source": [
        "lemma = []\n",
        "text_Lemma = [] \n",
        "\n",
        "for i in range(len(train['text_all'])):\n",
        "  for j in range(len(train['text_all'][i])):\n",
        "    lemma.append(lemmatizer.lemmatize(train['text_all'][i][j], pos='v'))\n",
        "  text_Lemma.append(list(lemma))\n",
        "  lemma.clear()"
      ],
      "metadata": {
        "id": "hb3VXbicvGan"
      },
      "execution_count": null,
      "outputs": []
    },
    {
      "cell_type": "code",
      "source": [
        "train = train.assign(text_Lem = text_Lemma)\n",
        "train.head()"
      ],
      "metadata": {
        "colab": {
          "base_uri": "https://localhost:8080/",
          "height": 238
        },
        "outputId": "10c2fcc3-8383-4b8e-f0fa-c901e7648cf8",
        "id": "IrL2lE9MvGao"
      },
      "execution_count": null,
      "outputs": [
        {
          "output_type": "execute_result",
          "data": {
            "text/plain": [
              "                                                    text  author  \\\n",
              "index                                                              \n",
              "0      [he, was, almost, choking, ., there, was, so, ...       3   \n",
              "1      [“, your, sister, asked, for, it, ,, i, suppos...       2   \n",
              "2      [she, was, engaged, one, day, as, she, walked,...       1   \n",
              "3      [the, captain, was, in, the, porch, ,, keeping...       4   \n",
              "4      [“, have, mercy, ,, gentlemen, !, ”, odin, flu...       3   \n",
              "\n",
              "                                                text_all  \\\n",
              "index                                                      \n",
              "0      [almost, choking, ., much, ,, much, wanted, sa...   \n",
              "1                   [“, sister, asked, ,, suppose, ?, ”]   \n",
              "2      [engaged, one, day, walked, ,, perusing, jane,...   \n",
              "3      [captain, porch, ,, keeping, carefully, way, t...   \n",
              "4      [“, mercy, ,, gentlemen, !, ”, odin, flung, ha...   \n",
              "\n",
              "                                                text_Lem  \n",
              "index                                                     \n",
              "0      [almost, choke, ., much, ,, much, want, say, ,...  \n",
              "1                     [“, sister, ask, ,, suppose, ?, ”]  \n",
              "2      [engage, one, day, walk, ,, peruse, jane, ’, l...  \n",
              "3      [captain, porch, ,, keep, carefully, way, trea...  \n",
              "4      [“, mercy, ,, gentlemen, !, ”, odin, fling, ha...  "
            ],
            "text/html": [
              "\n",
              "  <div id=\"df-bd2fa524-c3dd-4d7d-91f8-56e78536e082\">\n",
              "    <div class=\"colab-df-container\">\n",
              "      <div>\n",
              "<style scoped>\n",
              "    .dataframe tbody tr th:only-of-type {\n",
              "        vertical-align: middle;\n",
              "    }\n",
              "\n",
              "    .dataframe tbody tr th {\n",
              "        vertical-align: top;\n",
              "    }\n",
              "\n",
              "    .dataframe thead th {\n",
              "        text-align: right;\n",
              "    }\n",
              "</style>\n",
              "<table border=\"1\" class=\"dataframe\">\n",
              "  <thead>\n",
              "    <tr style=\"text-align: right;\">\n",
              "      <th></th>\n",
              "      <th>text</th>\n",
              "      <th>author</th>\n",
              "      <th>text_all</th>\n",
              "      <th>text_Lem</th>\n",
              "    </tr>\n",
              "    <tr>\n",
              "      <th>index</th>\n",
              "      <th></th>\n",
              "      <th></th>\n",
              "      <th></th>\n",
              "      <th></th>\n",
              "    </tr>\n",
              "  </thead>\n",
              "  <tbody>\n",
              "    <tr>\n",
              "      <th>0</th>\n",
              "      <td>[he, was, almost, choking, ., there, was, so, ...</td>\n",
              "      <td>3</td>\n",
              "      <td>[almost, choking, ., much, ,, much, wanted, sa...</td>\n",
              "      <td>[almost, choke, ., much, ,, much, want, say, ,...</td>\n",
              "    </tr>\n",
              "    <tr>\n",
              "      <th>1</th>\n",
              "      <td>[“, your, sister, asked, for, it, ,, i, suppos...</td>\n",
              "      <td>2</td>\n",
              "      <td>[“, sister, asked, ,, suppose, ?, ”]</td>\n",
              "      <td>[“, sister, ask, ,, suppose, ?, ”]</td>\n",
              "    </tr>\n",
              "    <tr>\n",
              "      <th>2</th>\n",
              "      <td>[she, was, engaged, one, day, as, she, walked,...</td>\n",
              "      <td>1</td>\n",
              "      <td>[engaged, one, day, walked, ,, perusing, jane,...</td>\n",
              "      <td>[engage, one, day, walk, ,, peruse, jane, ’, l...</td>\n",
              "    </tr>\n",
              "    <tr>\n",
              "      <th>3</th>\n",
              "      <td>[the, captain, was, in, the, porch, ,, keeping...</td>\n",
              "      <td>4</td>\n",
              "      <td>[captain, porch, ,, keeping, carefully, way, t...</td>\n",
              "      <td>[captain, porch, ,, keep, carefully, way, trea...</td>\n",
              "    </tr>\n",
              "    <tr>\n",
              "      <th>4</th>\n",
              "      <td>[“, have, mercy, ,, gentlemen, !, ”, odin, flu...</td>\n",
              "      <td>3</td>\n",
              "      <td>[“, mercy, ,, gentlemen, !, ”, odin, flung, ha...</td>\n",
              "      <td>[“, mercy, ,, gentlemen, !, ”, odin, fling, ha...</td>\n",
              "    </tr>\n",
              "  </tbody>\n",
              "</table>\n",
              "</div>\n",
              "      <button class=\"colab-df-convert\" onclick=\"convertToInteractive('df-bd2fa524-c3dd-4d7d-91f8-56e78536e082')\"\n",
              "              title=\"Convert this dataframe to an interactive table.\"\n",
              "              style=\"display:none;\">\n",
              "        \n",
              "  <svg xmlns=\"http://www.w3.org/2000/svg\" height=\"24px\"viewBox=\"0 0 24 24\"\n",
              "       width=\"24px\">\n",
              "    <path d=\"M0 0h24v24H0V0z\" fill=\"none\"/>\n",
              "    <path d=\"M18.56 5.44l.94 2.06.94-2.06 2.06-.94-2.06-.94-.94-2.06-.94 2.06-2.06.94zm-11 1L8.5 8.5l.94-2.06 2.06-.94-2.06-.94L8.5 2.5l-.94 2.06-2.06.94zm10 10l.94 2.06.94-2.06 2.06-.94-2.06-.94-.94-2.06-.94 2.06-2.06.94z\"/><path d=\"M17.41 7.96l-1.37-1.37c-.4-.4-.92-.59-1.43-.59-.52 0-1.04.2-1.43.59L10.3 9.45l-7.72 7.72c-.78.78-.78 2.05 0 2.83L4 21.41c.39.39.9.59 1.41.59.51 0 1.02-.2 1.41-.59l7.78-7.78 2.81-2.81c.8-.78.8-2.07 0-2.86zM5.41 20L4 18.59l7.72-7.72 1.47 1.35L5.41 20z\"/>\n",
              "  </svg>\n",
              "      </button>\n",
              "      \n",
              "  <style>\n",
              "    .colab-df-container {\n",
              "      display:flex;\n",
              "      flex-wrap:wrap;\n",
              "      gap: 12px;\n",
              "    }\n",
              "\n",
              "    .colab-df-convert {\n",
              "      background-color: #E8F0FE;\n",
              "      border: none;\n",
              "      border-radius: 50%;\n",
              "      cursor: pointer;\n",
              "      display: none;\n",
              "      fill: #1967D2;\n",
              "      height: 32px;\n",
              "      padding: 0 0 0 0;\n",
              "      width: 32px;\n",
              "    }\n",
              "\n",
              "    .colab-df-convert:hover {\n",
              "      background-color: #E2EBFA;\n",
              "      box-shadow: 0px 1px 2px rgba(60, 64, 67, 0.3), 0px 1px 3px 1px rgba(60, 64, 67, 0.15);\n",
              "      fill: #174EA6;\n",
              "    }\n",
              "\n",
              "    [theme=dark] .colab-df-convert {\n",
              "      background-color: #3B4455;\n",
              "      fill: #D2E3FC;\n",
              "    }\n",
              "\n",
              "    [theme=dark] .colab-df-convert:hover {\n",
              "      background-color: #434B5C;\n",
              "      box-shadow: 0px 1px 3px 1px rgba(0, 0, 0, 0.15);\n",
              "      filter: drop-shadow(0px 1px 2px rgba(0, 0, 0, 0.3));\n",
              "      fill: #FFFFFF;\n",
              "    }\n",
              "  </style>\n",
              "\n",
              "      <script>\n",
              "        const buttonEl =\n",
              "          document.querySelector('#df-bd2fa524-c3dd-4d7d-91f8-56e78536e082 button.colab-df-convert');\n",
              "        buttonEl.style.display =\n",
              "          google.colab.kernel.accessAllowed ? 'block' : 'none';\n",
              "\n",
              "        async function convertToInteractive(key) {\n",
              "          const element = document.querySelector('#df-bd2fa524-c3dd-4d7d-91f8-56e78536e082');\n",
              "          const dataTable =\n",
              "            await google.colab.kernel.invokeFunction('convertToInteractive',\n",
              "                                                     [key], {});\n",
              "          if (!dataTable) return;\n",
              "\n",
              "          const docLinkHtml = 'Like what you see? Visit the ' +\n",
              "            '<a target=\"_blank\" href=https://colab.research.google.com/notebooks/data_table.ipynb>data table notebook</a>'\n",
              "            + ' to learn more about interactive tables.';\n",
              "          element.innerHTML = '';\n",
              "          dataTable['output_type'] = 'display_data';\n",
              "          await google.colab.output.renderOutput(dataTable, element);\n",
              "          const docLink = document.createElement('div');\n",
              "          docLink.innerHTML = docLinkHtml;\n",
              "          element.appendChild(docLink);\n",
              "        }\n",
              "      </script>\n",
              "    </div>\n",
              "  </div>\n",
              "  "
            ]
          },
          "metadata": {},
          "execution_count": 65
        }
      ]
    },
    {
      "cell_type": "code",
      "source": [
        "lemma = []\n",
        "text_Lemma = [] \n",
        "\n",
        "for i in range(len(test['text_all'])):\n",
        "  for j in range(len(test['text_all'][i])):\n",
        "    lemma.append(lemmatizer.lemmatize(test['text_all'][i][j], pos='v'))\n",
        "  text_Lemma.append(list(lemma))\n",
        "  lemma.clear()"
      ],
      "metadata": {
        "id": "GZt7qoht7kHi"
      },
      "execution_count": null,
      "outputs": []
    },
    {
      "cell_type": "code",
      "source": [
        "test = test.assign(text_Lem = text_Lemma)\n",
        "test.head()"
      ],
      "metadata": {
        "colab": {
          "base_uri": "https://localhost:8080/",
          "height": 238
        },
        "outputId": "4f7977dd-ee01-4b0b-a9b0-010694586d67",
        "id": "8-FOyQig7kHj"
      },
      "execution_count": null,
      "outputs": [
        {
          "output_type": "execute_result",
          "data": {
            "text/plain": [
              "                                                    text  \\\n",
              "index                                                      \n",
              "0      [“, not, at, all, ., i, think, she, is, one, o...   \n",
              "1      [``, no, ,, '', replied, he, ,, with, sudden, ...   \n",
              "2      [as, the, lady, had, stated, her, intention, o...   \n",
              "3      [“, and, then, suddenly, in, the, silence, i, ...   \n",
              "4      [his, conviction, remained, unchanged, ., so, ...   \n",
              "\n",
              "                                                text_all  \\\n",
              "index                                                      \n",
              "0      [“, ., think, one, charming, young, ladies, ev...   \n",
              "1      [``, ,, '', replied, ,, sudden, consciousness,...   \n",
              "2      [lady, stated, intention, screaming, ,, course...   \n",
              "3      [“, suddenly, silence, heard, sound, sent, hea...   \n",
              "4      [conviction, remained, unchanged, ., far, know...   \n",
              "\n",
              "                                                text_Lem  \n",
              "index                                                     \n",
              "0      [“, ., think, one, charm, young, ladies, ever,...  \n",
              "1      [``, ,, '', reply, ,, sudden, consciousness, ,...  \n",
              "2      [lady, state, intention, scream, ,, course, wo...  \n",
              "3      [“, suddenly, silence, hear, sound, send, hear...  \n",
              "4      [conviction, remain, unchanged, ., far, know, ...  "
            ],
            "text/html": [
              "\n",
              "  <div id=\"df-fd00eca2-e60e-4986-b1a1-0668b41232d0\">\n",
              "    <div class=\"colab-df-container\">\n",
              "      <div>\n",
              "<style scoped>\n",
              "    .dataframe tbody tr th:only-of-type {\n",
              "        vertical-align: middle;\n",
              "    }\n",
              "\n",
              "    .dataframe tbody tr th {\n",
              "        vertical-align: top;\n",
              "    }\n",
              "\n",
              "    .dataframe thead th {\n",
              "        text-align: right;\n",
              "    }\n",
              "</style>\n",
              "<table border=\"1\" class=\"dataframe\">\n",
              "  <thead>\n",
              "    <tr style=\"text-align: right;\">\n",
              "      <th></th>\n",
              "      <th>text</th>\n",
              "      <th>text_all</th>\n",
              "      <th>text_Lem</th>\n",
              "    </tr>\n",
              "    <tr>\n",
              "      <th>index</th>\n",
              "      <th></th>\n",
              "      <th></th>\n",
              "      <th></th>\n",
              "    </tr>\n",
              "  </thead>\n",
              "  <tbody>\n",
              "    <tr>\n",
              "      <th>0</th>\n",
              "      <td>[“, not, at, all, ., i, think, she, is, one, o...</td>\n",
              "      <td>[“, ., think, one, charming, young, ladies, ev...</td>\n",
              "      <td>[“, ., think, one, charm, young, ladies, ever,...</td>\n",
              "    </tr>\n",
              "    <tr>\n",
              "      <th>1</th>\n",
              "      <td>[``, no, ,, '', replied, he, ,, with, sudden, ...</td>\n",
              "      <td>[``, ,, '', replied, ,, sudden, consciousness,...</td>\n",
              "      <td>[``, ,, '', reply, ,, sudden, consciousness, ,...</td>\n",
              "    </tr>\n",
              "    <tr>\n",
              "      <th>2</th>\n",
              "      <td>[as, the, lady, had, stated, her, intention, o...</td>\n",
              "      <td>[lady, stated, intention, screaming, ,, course...</td>\n",
              "      <td>[lady, state, intention, scream, ,, course, wo...</td>\n",
              "    </tr>\n",
              "    <tr>\n",
              "      <th>3</th>\n",
              "      <td>[“, and, then, suddenly, in, the, silence, i, ...</td>\n",
              "      <td>[“, suddenly, silence, heard, sound, sent, hea...</td>\n",
              "      <td>[“, suddenly, silence, hear, sound, send, hear...</td>\n",
              "    </tr>\n",
              "    <tr>\n",
              "      <th>4</th>\n",
              "      <td>[his, conviction, remained, unchanged, ., so, ...</td>\n",
              "      <td>[conviction, remained, unchanged, ., far, know...</td>\n",
              "      <td>[conviction, remain, unchanged, ., far, know, ...</td>\n",
              "    </tr>\n",
              "  </tbody>\n",
              "</table>\n",
              "</div>\n",
              "      <button class=\"colab-df-convert\" onclick=\"convertToInteractive('df-fd00eca2-e60e-4986-b1a1-0668b41232d0')\"\n",
              "              title=\"Convert this dataframe to an interactive table.\"\n",
              "              style=\"display:none;\">\n",
              "        \n",
              "  <svg xmlns=\"http://www.w3.org/2000/svg\" height=\"24px\"viewBox=\"0 0 24 24\"\n",
              "       width=\"24px\">\n",
              "    <path d=\"M0 0h24v24H0V0z\" fill=\"none\"/>\n",
              "    <path d=\"M18.56 5.44l.94 2.06.94-2.06 2.06-.94-2.06-.94-.94-2.06-.94 2.06-2.06.94zm-11 1L8.5 8.5l.94-2.06 2.06-.94-2.06-.94L8.5 2.5l-.94 2.06-2.06.94zm10 10l.94 2.06.94-2.06 2.06-.94-2.06-.94-.94-2.06-.94 2.06-2.06.94z\"/><path d=\"M17.41 7.96l-1.37-1.37c-.4-.4-.92-.59-1.43-.59-.52 0-1.04.2-1.43.59L10.3 9.45l-7.72 7.72c-.78.78-.78 2.05 0 2.83L4 21.41c.39.39.9.59 1.41.59.51 0 1.02-.2 1.41-.59l7.78-7.78 2.81-2.81c.8-.78.8-2.07 0-2.86zM5.41 20L4 18.59l7.72-7.72 1.47 1.35L5.41 20z\"/>\n",
              "  </svg>\n",
              "      </button>\n",
              "      \n",
              "  <style>\n",
              "    .colab-df-container {\n",
              "      display:flex;\n",
              "      flex-wrap:wrap;\n",
              "      gap: 12px;\n",
              "    }\n",
              "\n",
              "    .colab-df-convert {\n",
              "      background-color: #E8F0FE;\n",
              "      border: none;\n",
              "      border-radius: 50%;\n",
              "      cursor: pointer;\n",
              "      display: none;\n",
              "      fill: #1967D2;\n",
              "      height: 32px;\n",
              "      padding: 0 0 0 0;\n",
              "      width: 32px;\n",
              "    }\n",
              "\n",
              "    .colab-df-convert:hover {\n",
              "      background-color: #E2EBFA;\n",
              "      box-shadow: 0px 1px 2px rgba(60, 64, 67, 0.3), 0px 1px 3px 1px rgba(60, 64, 67, 0.15);\n",
              "      fill: #174EA6;\n",
              "    }\n",
              "\n",
              "    [theme=dark] .colab-df-convert {\n",
              "      background-color: #3B4455;\n",
              "      fill: #D2E3FC;\n",
              "    }\n",
              "\n",
              "    [theme=dark] .colab-df-convert:hover {\n",
              "      background-color: #434B5C;\n",
              "      box-shadow: 0px 1px 3px 1px rgba(0, 0, 0, 0.15);\n",
              "      filter: drop-shadow(0px 1px 2px rgba(0, 0, 0, 0.3));\n",
              "      fill: #FFFFFF;\n",
              "    }\n",
              "  </style>\n",
              "\n",
              "      <script>\n",
              "        const buttonEl =\n",
              "          document.querySelector('#df-fd00eca2-e60e-4986-b1a1-0668b41232d0 button.colab-df-convert');\n",
              "        buttonEl.style.display =\n",
              "          google.colab.kernel.accessAllowed ? 'block' : 'none';\n",
              "\n",
              "        async function convertToInteractive(key) {\n",
              "          const element = document.querySelector('#df-fd00eca2-e60e-4986-b1a1-0668b41232d0');\n",
              "          const dataTable =\n",
              "            await google.colab.kernel.invokeFunction('convertToInteractive',\n",
              "                                                     [key], {});\n",
              "          if (!dataTable) return;\n",
              "\n",
              "          const docLinkHtml = 'Like what you see? Visit the ' +\n",
              "            '<a target=\"_blank\" href=https://colab.research.google.com/notebooks/data_table.ipynb>data table notebook</a>'\n",
              "            + ' to learn more about interactive tables.';\n",
              "          element.innerHTML = '';\n",
              "          dataTable['output_type'] = 'display_data';\n",
              "          await google.colab.output.renderOutput(dataTable, element);\n",
              "          const docLink = document.createElement('div');\n",
              "          docLink.innerHTML = docLinkHtml;\n",
              "          element.appendChild(docLink);\n",
              "        }\n",
              "      </script>\n",
              "    </div>\n",
              "  </div>\n",
              "  "
            ]
          },
          "metadata": {},
          "execution_count": 67
        }
      ]
    },
    {
      "cell_type": "code",
      "source": [
        "train['text_Lem_2'] = 0\n",
        "test['text_Lem_2'] = 0"
      ],
      "metadata": {
        "id": "ocuUfQZf6BRh"
      },
      "execution_count": null,
      "outputs": []
    },
    {
      "cell_type": "code",
      "source": [
        "a = -1\n",
        "result = []\n",
        "\n",
        "for i in train['text_Lem']:\n",
        "  for word in i: \n",
        "    if word.isalpha(): \n",
        "        result.append(word)\n",
        "  a = a+1\n",
        "  train['text_Lem_2'][a] = result\n",
        "  result = []"
      ],
      "metadata": {
        "id": "YhXhk0rj6BRj"
      },
      "execution_count": null,
      "outputs": []
    },
    {
      "cell_type": "code",
      "source": [
        "a = -1\n",
        "result = []\n",
        "\n",
        "for i in test['text_Lem']:\n",
        "  for word in i: \n",
        "    if word.isalpha(): \n",
        "        result.append(word)\n",
        "  a = a+1\n",
        "  test['text_Lem_2'][a] = result\n",
        "  result = []"
      ],
      "metadata": {
        "id": "spUQb20W6BRk"
      },
      "execution_count": null,
      "outputs": []
    },
    {
      "cell_type": "code",
      "source": [
        "train['L_o'] = train['text_Lem'].apply(con).tolist() # 이부분 이름만 바꿔서 사용하면 됨\n",
        "train['L_x'] = train['text_Lem_2'].apply(con).tolist()"
      ],
      "metadata": {
        "id": "V04THls6zX2B"
      },
      "execution_count": null,
      "outputs": []
    },
    {
      "cell_type": "code",
      "source": [
        "test['L_o'] = test['text_Lem'].apply(con).tolist() # 이부분 이름만 바꿔서 사용하면 됨\n",
        "test['L_x'] = test['text_Lem_2'].apply(con).tolist()"
      ],
      "metadata": {
        "id": "Who2iddkzX2B"
      },
      "execution_count": null,
      "outputs": []
    },
    {
      "cell_type": "code",
      "source": [
        "train.to_csv(\"train_4_L.csv\")\n",
        "test.to_csv(\"test_4_L.csv\")"
      ],
      "metadata": {
        "id": "Vp2EUIaLvVjn"
      },
      "execution_count": null,
      "outputs": []
    },
    {
      "cell_type": "markdown",
      "source": [
        "## ver5. nltk 패지키의 불용어에서 부정어를 제외한 불용어 제거하기 : 재령"
      ],
      "metadata": {
        "id": "1_qOLsDGOm0n"
      }
    },
    {
      "cell_type": "code",
      "source": [
        "import pandas as pd\n",
        "\n",
        "train = pd.read_csv('train.csv', index_col=0)\n",
        "test = pd.read_csv('test_x.csv', index_col=0)"
      ],
      "metadata": {
        "id": "RDW2JPqwQIfL"
      },
      "execution_count": null,
      "outputs": []
    },
    {
      "cell_type": "markdown",
      "source": [
        "### 1) 소문자 처리"
      ],
      "metadata": {
        "id": "hgL-wkj3K2dI"
      }
    },
    {
      "cell_type": "code",
      "source": [
        "train.head()"
      ],
      "metadata": {
        "colab": {
          "base_uri": "https://localhost:8080/",
          "height": 237
        },
        "id": "EsPhjH9KLNrk",
        "outputId": "97f84c7d-bd7f-46d6-dae6-72cfb84fb0cc"
      },
      "execution_count": null,
      "outputs": [
        {
          "output_type": "execute_result",
          "data": {
            "text/plain": [
              "                                                    text  author\n",
              "index                                                           \n",
              "0      He was almost choking. There was so much, so m...       3\n",
              "1                 “Your sister asked for it, I suppose?”       2\n",
              "2       She was engaged one day as she walked, in per...       1\n",
              "3      The captain was in the porch, keeping himself ...       4\n",
              "4      “Have mercy, gentlemen!” odin flung up his han...       3"
            ],
            "text/html": [
              "\n",
              "  <div id=\"df-f7241d70-4ab9-4f97-9b50-529f1247d92c\">\n",
              "    <div class=\"colab-df-container\">\n",
              "      <div>\n",
              "<style scoped>\n",
              "    .dataframe tbody tr th:only-of-type {\n",
              "        vertical-align: middle;\n",
              "    }\n",
              "\n",
              "    .dataframe tbody tr th {\n",
              "        vertical-align: top;\n",
              "    }\n",
              "\n",
              "    .dataframe thead th {\n",
              "        text-align: right;\n",
              "    }\n",
              "</style>\n",
              "<table border=\"1\" class=\"dataframe\">\n",
              "  <thead>\n",
              "    <tr style=\"text-align: right;\">\n",
              "      <th></th>\n",
              "      <th>text</th>\n",
              "      <th>author</th>\n",
              "    </tr>\n",
              "    <tr>\n",
              "      <th>index</th>\n",
              "      <th></th>\n",
              "      <th></th>\n",
              "    </tr>\n",
              "  </thead>\n",
              "  <tbody>\n",
              "    <tr>\n",
              "      <th>0</th>\n",
              "      <td>He was almost choking. There was so much, so m...</td>\n",
              "      <td>3</td>\n",
              "    </tr>\n",
              "    <tr>\n",
              "      <th>1</th>\n",
              "      <td>“Your sister asked for it, I suppose?”</td>\n",
              "      <td>2</td>\n",
              "    </tr>\n",
              "    <tr>\n",
              "      <th>2</th>\n",
              "      <td>She was engaged one day as she walked, in per...</td>\n",
              "      <td>1</td>\n",
              "    </tr>\n",
              "    <tr>\n",
              "      <th>3</th>\n",
              "      <td>The captain was in the porch, keeping himself ...</td>\n",
              "      <td>4</td>\n",
              "    </tr>\n",
              "    <tr>\n",
              "      <th>4</th>\n",
              "      <td>“Have mercy, gentlemen!” odin flung up his han...</td>\n",
              "      <td>3</td>\n",
              "    </tr>\n",
              "  </tbody>\n",
              "</table>\n",
              "</div>\n",
              "      <button class=\"colab-df-convert\" onclick=\"convertToInteractive('df-f7241d70-4ab9-4f97-9b50-529f1247d92c')\"\n",
              "              title=\"Convert this dataframe to an interactive table.\"\n",
              "              style=\"display:none;\">\n",
              "        \n",
              "  <svg xmlns=\"http://www.w3.org/2000/svg\" height=\"24px\"viewBox=\"0 0 24 24\"\n",
              "       width=\"24px\">\n",
              "    <path d=\"M0 0h24v24H0V0z\" fill=\"none\"/>\n",
              "    <path d=\"M18.56 5.44l.94 2.06.94-2.06 2.06-.94-2.06-.94-.94-2.06-.94 2.06-2.06.94zm-11 1L8.5 8.5l.94-2.06 2.06-.94-2.06-.94L8.5 2.5l-.94 2.06-2.06.94zm10 10l.94 2.06.94-2.06 2.06-.94-2.06-.94-.94-2.06-.94 2.06-2.06.94z\"/><path d=\"M17.41 7.96l-1.37-1.37c-.4-.4-.92-.59-1.43-.59-.52 0-1.04.2-1.43.59L10.3 9.45l-7.72 7.72c-.78.78-.78 2.05 0 2.83L4 21.41c.39.39.9.59 1.41.59.51 0 1.02-.2 1.41-.59l7.78-7.78 2.81-2.81c.8-.78.8-2.07 0-2.86zM5.41 20L4 18.59l7.72-7.72 1.47 1.35L5.41 20z\"/>\n",
              "  </svg>\n",
              "      </button>\n",
              "      \n",
              "  <style>\n",
              "    .colab-df-container {\n",
              "      display:flex;\n",
              "      flex-wrap:wrap;\n",
              "      gap: 12px;\n",
              "    }\n",
              "\n",
              "    .colab-df-convert {\n",
              "      background-color: #E8F0FE;\n",
              "      border: none;\n",
              "      border-radius: 50%;\n",
              "      cursor: pointer;\n",
              "      display: none;\n",
              "      fill: #1967D2;\n",
              "      height: 32px;\n",
              "      padding: 0 0 0 0;\n",
              "      width: 32px;\n",
              "    }\n",
              "\n",
              "    .colab-df-convert:hover {\n",
              "      background-color: #E2EBFA;\n",
              "      box-shadow: 0px 1px 2px rgba(60, 64, 67, 0.3), 0px 1px 3px 1px rgba(60, 64, 67, 0.15);\n",
              "      fill: #174EA6;\n",
              "    }\n",
              "\n",
              "    [theme=dark] .colab-df-convert {\n",
              "      background-color: #3B4455;\n",
              "      fill: #D2E3FC;\n",
              "    }\n",
              "\n",
              "    [theme=dark] .colab-df-convert:hover {\n",
              "      background-color: #434B5C;\n",
              "      box-shadow: 0px 1px 3px 1px rgba(0, 0, 0, 0.15);\n",
              "      filter: drop-shadow(0px 1px 2px rgba(0, 0, 0, 0.3));\n",
              "      fill: #FFFFFF;\n",
              "    }\n",
              "  </style>\n",
              "\n",
              "      <script>\n",
              "        const buttonEl =\n",
              "          document.querySelector('#df-f7241d70-4ab9-4f97-9b50-529f1247d92c button.colab-df-convert');\n",
              "        buttonEl.style.display =\n",
              "          google.colab.kernel.accessAllowed ? 'block' : 'none';\n",
              "\n",
              "        async function convertToInteractive(key) {\n",
              "          const element = document.querySelector('#df-f7241d70-4ab9-4f97-9b50-529f1247d92c');\n",
              "          const dataTable =\n",
              "            await google.colab.kernel.invokeFunction('convertToInteractive',\n",
              "                                                     [key], {});\n",
              "          if (!dataTable) return;\n",
              "\n",
              "          const docLinkHtml = 'Like what you see? Visit the ' +\n",
              "            '<a target=\"_blank\" href=https://colab.research.google.com/notebooks/data_table.ipynb>data table notebook</a>'\n",
              "            + ' to learn more about interactive tables.';\n",
              "          element.innerHTML = '';\n",
              "          dataTable['output_type'] = 'display_data';\n",
              "          await google.colab.output.renderOutput(dataTable, element);\n",
              "          const docLink = document.createElement('div');\n",
              "          docLink.innerHTML = docLinkHtml;\n",
              "          element.appendChild(docLink);\n",
              "        }\n",
              "      </script>\n",
              "    </div>\n",
              "  </div>\n",
              "  "
            ]
          },
          "metadata": {},
          "execution_count": 10
        }
      ]
    },
    {
      "cell_type": "code",
      "source": [
        "train['text'] = train['text'].str.lower() \n",
        "test['text'] = test['text'].str.lower() "
      ],
      "metadata": {
        "id": "W6MWTSXGJw7Z"
      },
      "execution_count": null,
      "outputs": []
    },
    {
      "cell_type": "code",
      "source": [
        "train.head()"
      ],
      "metadata": {
        "colab": {
          "base_uri": "https://localhost:8080/",
          "height": 237
        },
        "id": "JcNeUqTnLV8S",
        "outputId": "b3a2f64c-37e9-449d-910a-79943f78d0dd"
      },
      "execution_count": null,
      "outputs": [
        {
          "output_type": "execute_result",
          "data": {
            "text/plain": [
              "                                                    text  author\n",
              "index                                                           \n",
              "0      he was almost choking. there was so much, so m...       3\n",
              "1                 “your sister asked for it, i suppose?”       2\n",
              "2       she was engaged one day as she walked, in per...       1\n",
              "3      the captain was in the porch, keeping himself ...       4\n",
              "4      “have mercy, gentlemen!” odin flung up his han...       3"
            ],
            "text/html": [
              "\n",
              "  <div id=\"df-a72113ad-b9bd-43f7-b9b3-16f49de01e77\">\n",
              "    <div class=\"colab-df-container\">\n",
              "      <div>\n",
              "<style scoped>\n",
              "    .dataframe tbody tr th:only-of-type {\n",
              "        vertical-align: middle;\n",
              "    }\n",
              "\n",
              "    .dataframe tbody tr th {\n",
              "        vertical-align: top;\n",
              "    }\n",
              "\n",
              "    .dataframe thead th {\n",
              "        text-align: right;\n",
              "    }\n",
              "</style>\n",
              "<table border=\"1\" class=\"dataframe\">\n",
              "  <thead>\n",
              "    <tr style=\"text-align: right;\">\n",
              "      <th></th>\n",
              "      <th>text</th>\n",
              "      <th>author</th>\n",
              "    </tr>\n",
              "    <tr>\n",
              "      <th>index</th>\n",
              "      <th></th>\n",
              "      <th></th>\n",
              "    </tr>\n",
              "  </thead>\n",
              "  <tbody>\n",
              "    <tr>\n",
              "      <th>0</th>\n",
              "      <td>he was almost choking. there was so much, so m...</td>\n",
              "      <td>3</td>\n",
              "    </tr>\n",
              "    <tr>\n",
              "      <th>1</th>\n",
              "      <td>“your sister asked for it, i suppose?”</td>\n",
              "      <td>2</td>\n",
              "    </tr>\n",
              "    <tr>\n",
              "      <th>2</th>\n",
              "      <td>she was engaged one day as she walked, in per...</td>\n",
              "      <td>1</td>\n",
              "    </tr>\n",
              "    <tr>\n",
              "      <th>3</th>\n",
              "      <td>the captain was in the porch, keeping himself ...</td>\n",
              "      <td>4</td>\n",
              "    </tr>\n",
              "    <tr>\n",
              "      <th>4</th>\n",
              "      <td>“have mercy, gentlemen!” odin flung up his han...</td>\n",
              "      <td>3</td>\n",
              "    </tr>\n",
              "  </tbody>\n",
              "</table>\n",
              "</div>\n",
              "      <button class=\"colab-df-convert\" onclick=\"convertToInteractive('df-a72113ad-b9bd-43f7-b9b3-16f49de01e77')\"\n",
              "              title=\"Convert this dataframe to an interactive table.\"\n",
              "              style=\"display:none;\">\n",
              "        \n",
              "  <svg xmlns=\"http://www.w3.org/2000/svg\" height=\"24px\"viewBox=\"0 0 24 24\"\n",
              "       width=\"24px\">\n",
              "    <path d=\"M0 0h24v24H0V0z\" fill=\"none\"/>\n",
              "    <path d=\"M18.56 5.44l.94 2.06.94-2.06 2.06-.94-2.06-.94-.94-2.06-.94 2.06-2.06.94zm-11 1L8.5 8.5l.94-2.06 2.06-.94-2.06-.94L8.5 2.5l-.94 2.06-2.06.94zm10 10l.94 2.06.94-2.06 2.06-.94-2.06-.94-.94-2.06-.94 2.06-2.06.94z\"/><path d=\"M17.41 7.96l-1.37-1.37c-.4-.4-.92-.59-1.43-.59-.52 0-1.04.2-1.43.59L10.3 9.45l-7.72 7.72c-.78.78-.78 2.05 0 2.83L4 21.41c.39.39.9.59 1.41.59.51 0 1.02-.2 1.41-.59l7.78-7.78 2.81-2.81c.8-.78.8-2.07 0-2.86zM5.41 20L4 18.59l7.72-7.72 1.47 1.35L5.41 20z\"/>\n",
              "  </svg>\n",
              "      </button>\n",
              "      \n",
              "  <style>\n",
              "    .colab-df-container {\n",
              "      display:flex;\n",
              "      flex-wrap:wrap;\n",
              "      gap: 12px;\n",
              "    }\n",
              "\n",
              "    .colab-df-convert {\n",
              "      background-color: #E8F0FE;\n",
              "      border: none;\n",
              "      border-radius: 50%;\n",
              "      cursor: pointer;\n",
              "      display: none;\n",
              "      fill: #1967D2;\n",
              "      height: 32px;\n",
              "      padding: 0 0 0 0;\n",
              "      width: 32px;\n",
              "    }\n",
              "\n",
              "    .colab-df-convert:hover {\n",
              "      background-color: #E2EBFA;\n",
              "      box-shadow: 0px 1px 2px rgba(60, 64, 67, 0.3), 0px 1px 3px 1px rgba(60, 64, 67, 0.15);\n",
              "      fill: #174EA6;\n",
              "    }\n",
              "\n",
              "    [theme=dark] .colab-df-convert {\n",
              "      background-color: #3B4455;\n",
              "      fill: #D2E3FC;\n",
              "    }\n",
              "\n",
              "    [theme=dark] .colab-df-convert:hover {\n",
              "      background-color: #434B5C;\n",
              "      box-shadow: 0px 1px 3px 1px rgba(0, 0, 0, 0.15);\n",
              "      filter: drop-shadow(0px 1px 2px rgba(0, 0, 0, 0.3));\n",
              "      fill: #FFFFFF;\n",
              "    }\n",
              "  </style>\n",
              "\n",
              "      <script>\n",
              "        const buttonEl =\n",
              "          document.querySelector('#df-a72113ad-b9bd-43f7-b9b3-16f49de01e77 button.colab-df-convert');\n",
              "        buttonEl.style.display =\n",
              "          google.colab.kernel.accessAllowed ? 'block' : 'none';\n",
              "\n",
              "        async function convertToInteractive(key) {\n",
              "          const element = document.querySelector('#df-a72113ad-b9bd-43f7-b9b3-16f49de01e77');\n",
              "          const dataTable =\n",
              "            await google.colab.kernel.invokeFunction('convertToInteractive',\n",
              "                                                     [key], {});\n",
              "          if (!dataTable) return;\n",
              "\n",
              "          const docLinkHtml = 'Like what you see? Visit the ' +\n",
              "            '<a target=\"_blank\" href=https://colab.research.google.com/notebooks/data_table.ipynb>data table notebook</a>'\n",
              "            + ' to learn more about interactive tables.';\n",
              "          element.innerHTML = '';\n",
              "          dataTable['output_type'] = 'display_data';\n",
              "          await google.colab.output.renderOutput(dataTable, element);\n",
              "          const docLink = document.createElement('div');\n",
              "          docLink.innerHTML = docLinkHtml;\n",
              "          element.appendChild(docLink);\n",
              "        }\n",
              "      </script>\n",
              "    </div>\n",
              "  </div>\n",
              "  "
            ]
          },
          "metadata": {},
          "execution_count": 12
        }
      ]
    },
    {
      "cell_type": "markdown",
      "source": [
        "### 2) 토큰화"
      ],
      "metadata": {
        "id": "KuNepUFgLBfg"
      }
    },
    {
      "cell_type": "code",
      "source": [
        "train.head() # 문장 부호가 살아있음"
      ],
      "metadata": {
        "colab": {
          "base_uri": "https://localhost:8080/",
          "height": 237
        },
        "id": "8JYaoiBuPMDQ",
        "outputId": "24be2252-e2bc-4840-9600-36bd215252ed"
      },
      "execution_count": null,
      "outputs": [
        {
          "output_type": "execute_result",
          "data": {
            "text/plain": [
              "                                                    text  author\n",
              "index                                                           \n",
              "0      he was almost choking. there was so much, so m...       3\n",
              "1                 “your sister asked for it, i suppose?”       2\n",
              "2       she was engaged one day as she walked, in per...       1\n",
              "3      the captain was in the porch, keeping himself ...       4\n",
              "4      “have mercy, gentlemen!” odin flung up his han...       3"
            ],
            "text/html": [
              "\n",
              "  <div id=\"df-c97a289d-dd69-4a7d-96a1-3039500fbbb4\">\n",
              "    <div class=\"colab-df-container\">\n",
              "      <div>\n",
              "<style scoped>\n",
              "    .dataframe tbody tr th:only-of-type {\n",
              "        vertical-align: middle;\n",
              "    }\n",
              "\n",
              "    .dataframe tbody tr th {\n",
              "        vertical-align: top;\n",
              "    }\n",
              "\n",
              "    .dataframe thead th {\n",
              "        text-align: right;\n",
              "    }\n",
              "</style>\n",
              "<table border=\"1\" class=\"dataframe\">\n",
              "  <thead>\n",
              "    <tr style=\"text-align: right;\">\n",
              "      <th></th>\n",
              "      <th>text</th>\n",
              "      <th>author</th>\n",
              "    </tr>\n",
              "    <tr>\n",
              "      <th>index</th>\n",
              "      <th></th>\n",
              "      <th></th>\n",
              "    </tr>\n",
              "  </thead>\n",
              "  <tbody>\n",
              "    <tr>\n",
              "      <th>0</th>\n",
              "      <td>he was almost choking. there was so much, so m...</td>\n",
              "      <td>3</td>\n",
              "    </tr>\n",
              "    <tr>\n",
              "      <th>1</th>\n",
              "      <td>“your sister asked for it, i suppose?”</td>\n",
              "      <td>2</td>\n",
              "    </tr>\n",
              "    <tr>\n",
              "      <th>2</th>\n",
              "      <td>she was engaged one day as she walked, in per...</td>\n",
              "      <td>1</td>\n",
              "    </tr>\n",
              "    <tr>\n",
              "      <th>3</th>\n",
              "      <td>the captain was in the porch, keeping himself ...</td>\n",
              "      <td>4</td>\n",
              "    </tr>\n",
              "    <tr>\n",
              "      <th>4</th>\n",
              "      <td>“have mercy, gentlemen!” odin flung up his han...</td>\n",
              "      <td>3</td>\n",
              "    </tr>\n",
              "  </tbody>\n",
              "</table>\n",
              "</div>\n",
              "      <button class=\"colab-df-convert\" onclick=\"convertToInteractive('df-c97a289d-dd69-4a7d-96a1-3039500fbbb4')\"\n",
              "              title=\"Convert this dataframe to an interactive table.\"\n",
              "              style=\"display:none;\">\n",
              "        \n",
              "  <svg xmlns=\"http://www.w3.org/2000/svg\" height=\"24px\"viewBox=\"0 0 24 24\"\n",
              "       width=\"24px\">\n",
              "    <path d=\"M0 0h24v24H0V0z\" fill=\"none\"/>\n",
              "    <path d=\"M18.56 5.44l.94 2.06.94-2.06 2.06-.94-2.06-.94-.94-2.06-.94 2.06-2.06.94zm-11 1L8.5 8.5l.94-2.06 2.06-.94-2.06-.94L8.5 2.5l-.94 2.06-2.06.94zm10 10l.94 2.06.94-2.06 2.06-.94-2.06-.94-.94-2.06-.94 2.06-2.06.94z\"/><path d=\"M17.41 7.96l-1.37-1.37c-.4-.4-.92-.59-1.43-.59-.52 0-1.04.2-1.43.59L10.3 9.45l-7.72 7.72c-.78.78-.78 2.05 0 2.83L4 21.41c.39.39.9.59 1.41.59.51 0 1.02-.2 1.41-.59l7.78-7.78 2.81-2.81c.8-.78.8-2.07 0-2.86zM5.41 20L4 18.59l7.72-7.72 1.47 1.35L5.41 20z\"/>\n",
              "  </svg>\n",
              "      </button>\n",
              "      \n",
              "  <style>\n",
              "    .colab-df-container {\n",
              "      display:flex;\n",
              "      flex-wrap:wrap;\n",
              "      gap: 12px;\n",
              "    }\n",
              "\n",
              "    .colab-df-convert {\n",
              "      background-color: #E8F0FE;\n",
              "      border: none;\n",
              "      border-radius: 50%;\n",
              "      cursor: pointer;\n",
              "      display: none;\n",
              "      fill: #1967D2;\n",
              "      height: 32px;\n",
              "      padding: 0 0 0 0;\n",
              "      width: 32px;\n",
              "    }\n",
              "\n",
              "    .colab-df-convert:hover {\n",
              "      background-color: #E2EBFA;\n",
              "      box-shadow: 0px 1px 2px rgba(60, 64, 67, 0.3), 0px 1px 3px 1px rgba(60, 64, 67, 0.15);\n",
              "      fill: #174EA6;\n",
              "    }\n",
              "\n",
              "    [theme=dark] .colab-df-convert {\n",
              "      background-color: #3B4455;\n",
              "      fill: #D2E3FC;\n",
              "    }\n",
              "\n",
              "    [theme=dark] .colab-df-convert:hover {\n",
              "      background-color: #434B5C;\n",
              "      box-shadow: 0px 1px 3px 1px rgba(0, 0, 0, 0.15);\n",
              "      filter: drop-shadow(0px 1px 2px rgba(0, 0, 0, 0.3));\n",
              "      fill: #FFFFFF;\n",
              "    }\n",
              "  </style>\n",
              "\n",
              "      <script>\n",
              "        const buttonEl =\n",
              "          document.querySelector('#df-c97a289d-dd69-4a7d-96a1-3039500fbbb4 button.colab-df-convert');\n",
              "        buttonEl.style.display =\n",
              "          google.colab.kernel.accessAllowed ? 'block' : 'none';\n",
              "\n",
              "        async function convertToInteractive(key) {\n",
              "          const element = document.querySelector('#df-c97a289d-dd69-4a7d-96a1-3039500fbbb4');\n",
              "          const dataTable =\n",
              "            await google.colab.kernel.invokeFunction('convertToInteractive',\n",
              "                                                     [key], {});\n",
              "          if (!dataTable) return;\n",
              "\n",
              "          const docLinkHtml = 'Like what you see? Visit the ' +\n",
              "            '<a target=\"_blank\" href=https://colab.research.google.com/notebooks/data_table.ipynb>data table notebook</a>'\n",
              "            + ' to learn more about interactive tables.';\n",
              "          element.innerHTML = '';\n",
              "          dataTable['output_type'] = 'display_data';\n",
              "          await google.colab.output.renderOutput(dataTable, element);\n",
              "          const docLink = document.createElement('div');\n",
              "          docLink.innerHTML = docLinkHtml;\n",
              "          element.appendChild(docLink);\n",
              "        }\n",
              "      </script>\n",
              "    </div>\n",
              "  </div>\n",
              "  "
            ]
          },
          "metadata": {},
          "execution_count": 14
        }
      ]
    },
    {
      "cell_type": "code",
      "source": [
        "from nltk.tokenize import word_tokenize\n",
        "\n",
        "for i in range(len(train)):\n",
        "  train['text'][i] = word_tokenize(train['text'][i])\n",
        "\n",
        "train.head()"
      ],
      "metadata": {
        "colab": {
          "base_uri": "https://localhost:8080/",
          "height": 237
        },
        "id": "vkKeyDaTPy2I",
        "outputId": "e7d21800-cb64-41fd-9b2f-ef8d99ad3c73"
      },
      "execution_count": null,
      "outputs": [
        {
          "output_type": "execute_result",
          "data": {
            "text/plain": [
              "                                                    text  author\n",
              "index                                                           \n",
              "0      [he, was, almost, choking, ., there, was, so, ...       3\n",
              "1      [“, your, sister, asked, for, it, ,, i, suppos...       2\n",
              "2      [she, was, engaged, one, day, as, she, walked,...       1\n",
              "3      [the, captain, was, in, the, porch, ,, keeping...       4\n",
              "4      [“, have, mercy, ,, gentlemen, !, ”, odin, flu...       3"
            ],
            "text/html": [
              "\n",
              "  <div id=\"df-37a084d4-f0e2-441e-bfb6-b4fdae5896e3\">\n",
              "    <div class=\"colab-df-container\">\n",
              "      <div>\n",
              "<style scoped>\n",
              "    .dataframe tbody tr th:only-of-type {\n",
              "        vertical-align: middle;\n",
              "    }\n",
              "\n",
              "    .dataframe tbody tr th {\n",
              "        vertical-align: top;\n",
              "    }\n",
              "\n",
              "    .dataframe thead th {\n",
              "        text-align: right;\n",
              "    }\n",
              "</style>\n",
              "<table border=\"1\" class=\"dataframe\">\n",
              "  <thead>\n",
              "    <tr style=\"text-align: right;\">\n",
              "      <th></th>\n",
              "      <th>text</th>\n",
              "      <th>author</th>\n",
              "    </tr>\n",
              "    <tr>\n",
              "      <th>index</th>\n",
              "      <th></th>\n",
              "      <th></th>\n",
              "    </tr>\n",
              "  </thead>\n",
              "  <tbody>\n",
              "    <tr>\n",
              "      <th>0</th>\n",
              "      <td>[he, was, almost, choking, ., there, was, so, ...</td>\n",
              "      <td>3</td>\n",
              "    </tr>\n",
              "    <tr>\n",
              "      <th>1</th>\n",
              "      <td>[“, your, sister, asked, for, it, ,, i, suppos...</td>\n",
              "      <td>2</td>\n",
              "    </tr>\n",
              "    <tr>\n",
              "      <th>2</th>\n",
              "      <td>[she, was, engaged, one, day, as, she, walked,...</td>\n",
              "      <td>1</td>\n",
              "    </tr>\n",
              "    <tr>\n",
              "      <th>3</th>\n",
              "      <td>[the, captain, was, in, the, porch, ,, keeping...</td>\n",
              "      <td>4</td>\n",
              "    </tr>\n",
              "    <tr>\n",
              "      <th>4</th>\n",
              "      <td>[“, have, mercy, ,, gentlemen, !, ”, odin, flu...</td>\n",
              "      <td>3</td>\n",
              "    </tr>\n",
              "  </tbody>\n",
              "</table>\n",
              "</div>\n",
              "      <button class=\"colab-df-convert\" onclick=\"convertToInteractive('df-37a084d4-f0e2-441e-bfb6-b4fdae5896e3')\"\n",
              "              title=\"Convert this dataframe to an interactive table.\"\n",
              "              style=\"display:none;\">\n",
              "        \n",
              "  <svg xmlns=\"http://www.w3.org/2000/svg\" height=\"24px\"viewBox=\"0 0 24 24\"\n",
              "       width=\"24px\">\n",
              "    <path d=\"M0 0h24v24H0V0z\" fill=\"none\"/>\n",
              "    <path d=\"M18.56 5.44l.94 2.06.94-2.06 2.06-.94-2.06-.94-.94-2.06-.94 2.06-2.06.94zm-11 1L8.5 8.5l.94-2.06 2.06-.94-2.06-.94L8.5 2.5l-.94 2.06-2.06.94zm10 10l.94 2.06.94-2.06 2.06-.94-2.06-.94-.94-2.06-.94 2.06-2.06.94z\"/><path d=\"M17.41 7.96l-1.37-1.37c-.4-.4-.92-.59-1.43-.59-.52 0-1.04.2-1.43.59L10.3 9.45l-7.72 7.72c-.78.78-.78 2.05 0 2.83L4 21.41c.39.39.9.59 1.41.59.51 0 1.02-.2 1.41-.59l7.78-7.78 2.81-2.81c.8-.78.8-2.07 0-2.86zM5.41 20L4 18.59l7.72-7.72 1.47 1.35L5.41 20z\"/>\n",
              "  </svg>\n",
              "      </button>\n",
              "      \n",
              "  <style>\n",
              "    .colab-df-container {\n",
              "      display:flex;\n",
              "      flex-wrap:wrap;\n",
              "      gap: 12px;\n",
              "    }\n",
              "\n",
              "    .colab-df-convert {\n",
              "      background-color: #E8F0FE;\n",
              "      border: none;\n",
              "      border-radius: 50%;\n",
              "      cursor: pointer;\n",
              "      display: none;\n",
              "      fill: #1967D2;\n",
              "      height: 32px;\n",
              "      padding: 0 0 0 0;\n",
              "      width: 32px;\n",
              "    }\n",
              "\n",
              "    .colab-df-convert:hover {\n",
              "      background-color: #E2EBFA;\n",
              "      box-shadow: 0px 1px 2px rgba(60, 64, 67, 0.3), 0px 1px 3px 1px rgba(60, 64, 67, 0.15);\n",
              "      fill: #174EA6;\n",
              "    }\n",
              "\n",
              "    [theme=dark] .colab-df-convert {\n",
              "      background-color: #3B4455;\n",
              "      fill: #D2E3FC;\n",
              "    }\n",
              "\n",
              "    [theme=dark] .colab-df-convert:hover {\n",
              "      background-color: #434B5C;\n",
              "      box-shadow: 0px 1px 3px 1px rgba(0, 0, 0, 0.15);\n",
              "      filter: drop-shadow(0px 1px 2px rgba(0, 0, 0, 0.3));\n",
              "      fill: #FFFFFF;\n",
              "    }\n",
              "  </style>\n",
              "\n",
              "      <script>\n",
              "        const buttonEl =\n",
              "          document.querySelector('#df-37a084d4-f0e2-441e-bfb6-b4fdae5896e3 button.colab-df-convert');\n",
              "        buttonEl.style.display =\n",
              "          google.colab.kernel.accessAllowed ? 'block' : 'none';\n",
              "\n",
              "        async function convertToInteractive(key) {\n",
              "          const element = document.querySelector('#df-37a084d4-f0e2-441e-bfb6-b4fdae5896e3');\n",
              "          const dataTable =\n",
              "            await google.colab.kernel.invokeFunction('convertToInteractive',\n",
              "                                                     [key], {});\n",
              "          if (!dataTable) return;\n",
              "\n",
              "          const docLinkHtml = 'Like what you see? Visit the ' +\n",
              "            '<a target=\"_blank\" href=https://colab.research.google.com/notebooks/data_table.ipynb>data table notebook</a>'\n",
              "            + ' to learn more about interactive tables.';\n",
              "          element.innerHTML = '';\n",
              "          dataTable['output_type'] = 'display_data';\n",
              "          await google.colab.output.renderOutput(dataTable, element);\n",
              "          const docLink = document.createElement('div');\n",
              "          docLink.innerHTML = docLinkHtml;\n",
              "          element.appendChild(docLink);\n",
              "        }\n",
              "      </script>\n",
              "    </div>\n",
              "  </div>\n",
              "  "
            ]
          },
          "metadata": {},
          "execution_count": 15
        }
      ]
    },
    {
      "cell_type": "markdown",
      "source": [
        "### 3) 불용어 제거 + 문장부호 o/x"
      ],
      "metadata": {
        "id": "PWpJS5HXMWfc"
      }
    },
    {
      "cell_type": "markdown",
      "source": [
        "작가별 부정어 분포"
      ],
      "metadata": {
        "id": "4BsVLYpERlWS"
      }
    },
    {
      "cell_type": "code",
      "source": [
        "stop=set(stopwords.words('english'))\n",
        "stop_list_c = set([\"aren't\",\"aren\", \"couldn't\", \"couldn\",\"didn't\",\"didn\", \"doesn't\",\"doesn\", \"don't\",\"don\",\n",
        "    \"hadn't\",\"hadn\", \"hasn't\",\"hasn\", \"haven't\",\"haven\", \"isn't\",\"isn\", \"mightn't\", \"mightn\",\"mustn't\", \"mustn\",\n",
        "    \"needn't\",\"needn\", \"shan't\", \"shouldn't\",\"shouldn\", \"wasn't\",\"wasn\", \"weren't\",\"weren\", \"wouldn't\", \"wouldn\", \"won't\", \"won\"])\n",
        "\n",
        "stop_list_cc = stop - stop_list_c\n",
        "print(len(stop), len(stop_list_c), len(stop_list_cc))\n",
        "stop_list_cc"
      ],
      "metadata": {
        "id": "E941FzP5PRpr"
      },
      "execution_count": null,
      "outputs": []
    },
    {
      "cell_type": "code",
      "source": [
        "import matplotlib.pyplot as plt\n",
        "\n",
        "stop_list_c = list(stop_list_c)\n",
        "def plot_top_stopwords_barchart(text):\n",
        "    stop=set((stop_list_c))\n",
        "\n",
        "    corpus=[word for i in train[train['author']==3][\"text\"] for word in i]\n",
        "    from collections import defaultdict\n",
        "    dic=defaultdict(int)\n",
        "    for word in corpus:\n",
        "        if word in stop:\n",
        "            dic[word]+=1\n",
        "            \n",
        "    top=sorted(dic.items(), key=lambda x:x[1],reverse=True)[:10] \n",
        "    x,y=zip(*top)\n",
        "    plt.bar(x,y)\n",
        "\n",
        "plot_top_stopwords_barchart(train[train['author']==0][\"text\"])    "
      ],
      "metadata": {
        "id": "7TBXaGGZPRvA"
      },
      "execution_count": null,
      "outputs": []
    },
    {
      "cell_type": "code",
      "source": [
        "import matplotlib.pyplot as plt\n",
        "\n",
        "stop_list_c = list(stop_list_c)\n",
        "def plot_top_stopwords_barchart(text):\n",
        "    stop=set((stop_list_c))\n",
        "\n",
        "    corpus=[word for i in train[train['author']==3][\"text\"] for word in i]\n",
        "    from collections import defaultdict\n",
        "    dic=defaultdict(int)\n",
        "    for word in corpus:\n",
        "        if word in stop:\n",
        "            dic[word]+=1\n",
        "            \n",
        "    top=sorted(dic.items(), key=lambda x:x[1],reverse=True)[:10] \n",
        "    x,y=zip(*top)\n",
        "    plt.bar(x,y)\n",
        "\n",
        "plot_top_stopwords_barchart(train[train['author']==1][\"text\"])    "
      ],
      "metadata": {
        "id": "NmjDb238Pach"
      },
      "execution_count": null,
      "outputs": []
    },
    {
      "cell_type": "code",
      "source": [
        "import matplotlib.pyplot as plt\n",
        "\n",
        "stop_list_c = list(stop_list_c)\n",
        "def plot_top_stopwords_barchart(text):\n",
        "    stop=set((stop_list_c))\n",
        "\n",
        "    corpus=[word for i in train[train['author']==3][\"text\"] for word in i]\n",
        "    from collections import defaultdict\n",
        "    dic=defaultdict(int)\n",
        "    for word in corpus:\n",
        "        if word in stop:\n",
        "            dic[word]+=1\n",
        "            \n",
        "    top=sorted(dic.items(), key=lambda x:x[1],reverse=True)[:10] \n",
        "    x,y=zip(*top)\n",
        "    plt.bar(x,y)\n",
        "\n",
        "plot_top_stopwords_barchart(train[train['author']==2][\"text\"])    "
      ],
      "metadata": {
        "id": "3r0VAIFjPavD"
      },
      "execution_count": null,
      "outputs": []
    },
    {
      "cell_type": "code",
      "source": [
        "import matplotlib.pyplot as plt\n",
        "\n",
        "stop_list_c = list(stop_list_c)\n",
        "def plot_top_stopwords_barchart(text):\n",
        "    stop=set((stop_list_c))\n",
        "\n",
        "    corpus=[word for i in train[train['author']==3][\"text\"] for word in i]\n",
        "    from collections import defaultdict\n",
        "    dic=defaultdict(int)\n",
        "    for word in corpus:\n",
        "        if word in stop:\n",
        "            dic[word]+=1\n",
        "            \n",
        "    top=sorted(dic.items(), key=lambda x:x[1],reverse=True)[:10] \n",
        "    x,y=zip(*top)\n",
        "    plt.bar(x,y)\n",
        "\n",
        "plot_top_stopwords_barchart(train[train['author']==3][\"text\"])    "
      ],
      "metadata": {
        "id": "QFFG9QX4Pa46"
      },
      "execution_count": null,
      "outputs": []
    },
    {
      "cell_type": "markdown",
      "source": [
        "부정어 남기고 불용어 제외하기"
      ],
      "metadata": {
        "id": "rBNHR5YlRsd8"
      }
    },
    {
      "cell_type": "code",
      "source": [
        "# 1. 불용어 제외할때, 부정어 남기고 문장부호 남긴다. \n",
        "train['text1'] = 0\n",
        "a = -1\n",
        "result = []\n",
        "for i in train['text']:\n",
        "  for word in i: \n",
        "    if word not in stop_list_cc: \n",
        "        result.append(word)\n",
        "  a = a+1\n",
        "  train['text1'][a] = result\n",
        "  result = []\n",
        "\n",
        "test['text1'] = 0\n",
        "a = -1\n",
        "result = []\n",
        "for i in test['text']:\n",
        "  for word in i: \n",
        "    if word not in stop_list_cc: \n",
        "        result.append(word)\n",
        "  a = a+1\n",
        "  test['text1'][a] = result\n",
        "  result = []"
      ],
      "metadata": {
        "id": "ICV50-Y5Pem2"
      },
      "execution_count": null,
      "outputs": []
    },
    {
      "cell_type": "code",
      "source": [
        "train.head()"
      ],
      "metadata": {
        "id": "_xc8nOQ5PepO"
      },
      "execution_count": null,
      "outputs": []
    },
    {
      "cell_type": "code",
      "source": [
        "# 2. 불용어 제외할때, 부정어 남기고 문장부호 지운다.\n",
        "\n",
        "stop_list_b = [\",\",\";\",'\\\"',\"...\",\"?\",\"!\",\".\",\":\",\"*\",\"-\",\"The\",\"a\",\"I\",\"It\",\"He\",\"She\",\"Me\",\"You\"]\n",
        "a = -1\n",
        "result = []\n",
        "train['text2']=train['text1'].copy()\n",
        "for i in train['text2']:\n",
        "  for word in i: \n",
        "    if word not in stop_list_b: \n",
        "        result.append(word)\n",
        "  a = a+1\n",
        "  train['text2'][a] = result\n",
        "  result = []\n",
        "\n",
        "a = -1\n",
        "result = []\n",
        "test['text2']=test['text1'].copy()\n",
        "for i in test['text2']:\n",
        "  for word in i: \n",
        "    if word not in stop_list_b: \n",
        "        result.append(word)\n",
        "  a = a+1\n",
        "  test['text2'][a] = result\n",
        "  result = []"
      ],
      "metadata": {
        "id": "a2bL3k16PoQO"
      },
      "execution_count": null,
      "outputs": []
    },
    {
      "cell_type": "code",
      "source": [
        "train.head()"
      ],
      "metadata": {
        "id": "6hxvHHWXPoSr"
      },
      "execution_count": null,
      "outputs": []
    },
    {
      "cell_type": "markdown",
      "source": [
        "### 4) 표제어 추출"
      ],
      "metadata": {
        "id": "tZ1ysr12O-qS"
      }
    },
    {
      "cell_type": "markdown",
      "metadata": {
        "id": "AaxgZkxWT32F"
      },
      "source": [
        "A. Stemming"
      ]
    },
    {
      "cell_type": "markdown",
      "metadata": {
        "id": "9ldhBWp79N0r"
      },
      "source": [
        "Porter"
      ]
    },
    {
      "cell_type": "code",
      "execution_count": null,
      "metadata": {
        "id": "MRr_8KdmT9Q0"
      },
      "outputs": [],
      "source": [
        "porter = nltk.PorterStemmer()"
      ]
    },
    {
      "cell_type": "code",
      "execution_count": null,
      "metadata": {
        "id": "hIKk8diVehQH"
      },
      "outputs": [],
      "source": [
        "# 1. 불용어 제외할때, 부정어 남기고 문장부호 남긴다. \n",
        "\n",
        "porter_stem = []\n",
        "text_PorterStem = [] \n",
        "\n",
        "for i in range(len(train['text1'])):\n",
        "  for j in range(len(train['text1'][i])):\n",
        "    porter_stem.append(porter.stem(train['text1'][i][j]))\n",
        "  text_PorterStem.append(list(porter_stem))\n",
        "  porter_stem.clear()\n",
        "train=train.assign(text_Stem1 = text_PorterStem)"
      ]
    },
    {
      "cell_type": "code",
      "source": [
        "porter_stem = []\n",
        "text_PorterStem = [] \n",
        "\n",
        "for i in range(len(test['text1'])):\n",
        "  for j in range(len(test['text1'][i])):\n",
        "    porter_stem.append(porter.stem(test['text1'][i][j]))\n",
        "  text_PorterStem.append(list(porter_stem))\n",
        "  porter_stem.clear()\n",
        "test=test.assign(text_Stem1 = text_PorterStem)"
      ],
      "metadata": {
        "id": "02rSDDPDRBTG"
      },
      "execution_count": null,
      "outputs": []
    },
    {
      "cell_type": "code",
      "source": [
        "train.head()"
      ],
      "metadata": {
        "colab": {
          "base_uri": "https://localhost:8080/",
          "height": 351
        },
        "id": "4jh1ReTKR2W0",
        "outputId": "3965aa0d-d01f-477e-b106-dd4b60dfb069"
      },
      "execution_count": null,
      "outputs": [
        {
          "output_type": "execute_result",
          "data": {
            "text/plain": [
              "                                                    text  author  \\\n",
              "index                                                              \n",
              "0      [he, was, almost, choking, ., there, was, so, ...       3   \n",
              "1      [“, your, sister, asked, for, it, ,, i, suppos...       2   \n",
              "2      [she, was, engaged, one, day, as, she, walked,...       1   \n",
              "3      [the, captain, was, in, the, porch, ,, keeping...       4   \n",
              "4      [“, have, mercy, ,, gentlemen, !, ”, odin, flu...       3   \n",
              "\n",
              "                                                   text1  \\\n",
              "index                                                      \n",
              "0      [almost, choking, ., much, ,, much, wanted, sa...   \n",
              "1                   [“, sister, asked, ,, suppose, ?, ”]   \n",
              "2      [engaged, one, day, walked, ,, perusing, jane,...   \n",
              "3      [captain, porch, ,, keeping, carefully, way, t...   \n",
              "4      [“, mercy, ,, gentlemen, !, ”, odin, flung, ha...   \n",
              "\n",
              "                                                   text2  \\\n",
              "index                                                      \n",
              "0      [almost, choking, much, much, wanted, say, str...   \n",
              "1                         [“, sister, asked, suppose, ”]   \n",
              "2      [engaged, one, day, walked, perusing, jane, ’,...   \n",
              "3      [captain, porch, keeping, carefully, way, trea...   \n",
              "4      [“, mercy, gentlemen, ”, odin, flung, hands, “...   \n",
              "\n",
              "                                              text_Stem1  \n",
              "index                                                     \n",
              "0      [almost, choke, ., much, ,, much, want, say, ,...  \n",
              "1                      [“, sister, ask, ,, suppos, ?, ”]  \n",
              "2      [engag, one, day, walk, ,, perus, jane, ’, las...  \n",
              "3      [captain, porch, ,, keep, care, way, treacher,...  \n",
              "4      [“, merci, ,, gentlemen, !, ”, odin, flung, ha...  "
            ],
            "text/html": [
              "\n",
              "  <div id=\"df-6d12adf1-8ae5-4504-b94c-481adbdcdb50\">\n",
              "    <div class=\"colab-df-container\">\n",
              "      <div>\n",
              "<style scoped>\n",
              "    .dataframe tbody tr th:only-of-type {\n",
              "        vertical-align: middle;\n",
              "    }\n",
              "\n",
              "    .dataframe tbody tr th {\n",
              "        vertical-align: top;\n",
              "    }\n",
              "\n",
              "    .dataframe thead th {\n",
              "        text-align: right;\n",
              "    }\n",
              "</style>\n",
              "<table border=\"1\" class=\"dataframe\">\n",
              "  <thead>\n",
              "    <tr style=\"text-align: right;\">\n",
              "      <th></th>\n",
              "      <th>text</th>\n",
              "      <th>author</th>\n",
              "      <th>text1</th>\n",
              "      <th>text2</th>\n",
              "      <th>text_Stem1</th>\n",
              "    </tr>\n",
              "    <tr>\n",
              "      <th>index</th>\n",
              "      <th></th>\n",
              "      <th></th>\n",
              "      <th></th>\n",
              "      <th></th>\n",
              "      <th></th>\n",
              "    </tr>\n",
              "  </thead>\n",
              "  <tbody>\n",
              "    <tr>\n",
              "      <th>0</th>\n",
              "      <td>[he, was, almost, choking, ., there, was, so, ...</td>\n",
              "      <td>3</td>\n",
              "      <td>[almost, choking, ., much, ,, much, wanted, sa...</td>\n",
              "      <td>[almost, choking, much, much, wanted, say, str...</td>\n",
              "      <td>[almost, choke, ., much, ,, much, want, say, ,...</td>\n",
              "    </tr>\n",
              "    <tr>\n",
              "      <th>1</th>\n",
              "      <td>[“, your, sister, asked, for, it, ,, i, suppos...</td>\n",
              "      <td>2</td>\n",
              "      <td>[“, sister, asked, ,, suppose, ?, ”]</td>\n",
              "      <td>[“, sister, asked, suppose, ”]</td>\n",
              "      <td>[“, sister, ask, ,, suppos, ?, ”]</td>\n",
              "    </tr>\n",
              "    <tr>\n",
              "      <th>2</th>\n",
              "      <td>[she, was, engaged, one, day, as, she, walked,...</td>\n",
              "      <td>1</td>\n",
              "      <td>[engaged, one, day, walked, ,, perusing, jane,...</td>\n",
              "      <td>[engaged, one, day, walked, perusing, jane, ’,...</td>\n",
              "      <td>[engag, one, day, walk, ,, perus, jane, ’, las...</td>\n",
              "    </tr>\n",
              "    <tr>\n",
              "      <th>3</th>\n",
              "      <td>[the, captain, was, in, the, porch, ,, keeping...</td>\n",
              "      <td>4</td>\n",
              "      <td>[captain, porch, ,, keeping, carefully, way, t...</td>\n",
              "      <td>[captain, porch, keeping, carefully, way, trea...</td>\n",
              "      <td>[captain, porch, ,, keep, care, way, treacher,...</td>\n",
              "    </tr>\n",
              "    <tr>\n",
              "      <th>4</th>\n",
              "      <td>[“, have, mercy, ,, gentlemen, !, ”, odin, flu...</td>\n",
              "      <td>3</td>\n",
              "      <td>[“, mercy, ,, gentlemen, !, ”, odin, flung, ha...</td>\n",
              "      <td>[“, mercy, gentlemen, ”, odin, flung, hands, “...</td>\n",
              "      <td>[“, merci, ,, gentlemen, !, ”, odin, flung, ha...</td>\n",
              "    </tr>\n",
              "  </tbody>\n",
              "</table>\n",
              "</div>\n",
              "      <button class=\"colab-df-convert\" onclick=\"convertToInteractive('df-6d12adf1-8ae5-4504-b94c-481adbdcdb50')\"\n",
              "              title=\"Convert this dataframe to an interactive table.\"\n",
              "              style=\"display:none;\">\n",
              "        \n",
              "  <svg xmlns=\"http://www.w3.org/2000/svg\" height=\"24px\"viewBox=\"0 0 24 24\"\n",
              "       width=\"24px\">\n",
              "    <path d=\"M0 0h24v24H0V0z\" fill=\"none\"/>\n",
              "    <path d=\"M18.56 5.44l.94 2.06.94-2.06 2.06-.94-2.06-.94-.94-2.06-.94 2.06-2.06.94zm-11 1L8.5 8.5l.94-2.06 2.06-.94-2.06-.94L8.5 2.5l-.94 2.06-2.06.94zm10 10l.94 2.06.94-2.06 2.06-.94-2.06-.94-.94-2.06-.94 2.06-2.06.94z\"/><path d=\"M17.41 7.96l-1.37-1.37c-.4-.4-.92-.59-1.43-.59-.52 0-1.04.2-1.43.59L10.3 9.45l-7.72 7.72c-.78.78-.78 2.05 0 2.83L4 21.41c.39.39.9.59 1.41.59.51 0 1.02-.2 1.41-.59l7.78-7.78 2.81-2.81c.8-.78.8-2.07 0-2.86zM5.41 20L4 18.59l7.72-7.72 1.47 1.35L5.41 20z\"/>\n",
              "  </svg>\n",
              "      </button>\n",
              "      \n",
              "  <style>\n",
              "    .colab-df-container {\n",
              "      display:flex;\n",
              "      flex-wrap:wrap;\n",
              "      gap: 12px;\n",
              "    }\n",
              "\n",
              "    .colab-df-convert {\n",
              "      background-color: #E8F0FE;\n",
              "      border: none;\n",
              "      border-radius: 50%;\n",
              "      cursor: pointer;\n",
              "      display: none;\n",
              "      fill: #1967D2;\n",
              "      height: 32px;\n",
              "      padding: 0 0 0 0;\n",
              "      width: 32px;\n",
              "    }\n",
              "\n",
              "    .colab-df-convert:hover {\n",
              "      background-color: #E2EBFA;\n",
              "      box-shadow: 0px 1px 2px rgba(60, 64, 67, 0.3), 0px 1px 3px 1px rgba(60, 64, 67, 0.15);\n",
              "      fill: #174EA6;\n",
              "    }\n",
              "\n",
              "    [theme=dark] .colab-df-convert {\n",
              "      background-color: #3B4455;\n",
              "      fill: #D2E3FC;\n",
              "    }\n",
              "\n",
              "    [theme=dark] .colab-df-convert:hover {\n",
              "      background-color: #434B5C;\n",
              "      box-shadow: 0px 1px 3px 1px rgba(0, 0, 0, 0.15);\n",
              "      filter: drop-shadow(0px 1px 2px rgba(0, 0, 0, 0.3));\n",
              "      fill: #FFFFFF;\n",
              "    }\n",
              "  </style>\n",
              "\n",
              "      <script>\n",
              "        const buttonEl =\n",
              "          document.querySelector('#df-6d12adf1-8ae5-4504-b94c-481adbdcdb50 button.colab-df-convert');\n",
              "        buttonEl.style.display =\n",
              "          google.colab.kernel.accessAllowed ? 'block' : 'none';\n",
              "\n",
              "        async function convertToInteractive(key) {\n",
              "          const element = document.querySelector('#df-6d12adf1-8ae5-4504-b94c-481adbdcdb50');\n",
              "          const dataTable =\n",
              "            await google.colab.kernel.invokeFunction('convertToInteractive',\n",
              "                                                     [key], {});\n",
              "          if (!dataTable) return;\n",
              "\n",
              "          const docLinkHtml = 'Like what you see? Visit the ' +\n",
              "            '<a target=\"_blank\" href=https://colab.research.google.com/notebooks/data_table.ipynb>data table notebook</a>'\n",
              "            + ' to learn more about interactive tables.';\n",
              "          element.innerHTML = '';\n",
              "          dataTable['output_type'] = 'display_data';\n",
              "          await google.colab.output.renderOutput(dataTable, element);\n",
              "          const docLink = document.createElement('div');\n",
              "          docLink.innerHTML = docLinkHtml;\n",
              "          element.appendChild(docLink);\n",
              "        }\n",
              "      </script>\n",
              "    </div>\n",
              "  </div>\n",
              "  "
            ]
          },
          "metadata": {},
          "execution_count": 20
        }
      ]
    },
    {
      "cell_type": "code",
      "execution_count": null,
      "metadata": {
        "id": "A5ddu7W72u43"
      },
      "outputs": [],
      "source": [
        "# 2. 불용어 제외할때, 부정어 남기고 문장부호 지운다.\n",
        "\n",
        "porter_stem = []\n",
        "text_PorterStem = [] \n",
        "\n",
        "for i in range(len(train['text2'])):\n",
        "  for j in range(len(train['text2'][i])):\n",
        "    porter_stem.append(porter.stem(train['text2'][i][j]))\n",
        "  text_PorterStem.append(list(porter_stem))\n",
        "  porter_stem.clear()\n",
        "train=train.assign(text_Stem2 = text_PorterStem)"
      ]
    },
    {
      "cell_type": "code",
      "source": [
        "porter_stem = []\n",
        "text_PorterStem = [] \n",
        "\n",
        "for i in range(len(test['text2'])):\n",
        "  for j in range(len(test['text2'][i])):\n",
        "    porter_stem.append(porter.stem(test['text2'][i][j]))\n",
        "  text_PorterStem.append(list(porter_stem))\n",
        "  porter_stem.clear()\n",
        "\n",
        "test=test.assign(text_Stem2 = text_PorterStem)"
      ],
      "metadata": {
        "id": "KPD7zmQIReks"
      },
      "execution_count": null,
      "outputs": []
    },
    {
      "cell_type": "code",
      "execution_count": null,
      "metadata": {
        "colab": {
          "base_uri": "https://localhost:8080/",
          "height": 368
        },
        "outputId": "8f7ebe38-7d00-49d4-e572-98c1baa21155",
        "id": "6bHle9B72u44"
      },
      "outputs": [
        {
          "output_type": "execute_result",
          "data": {
            "text/plain": [
              "                                                    text  author  \\\n",
              "index                                                              \n",
              "0      [he, was, almost, choking, ., there, was, so, ...       3   \n",
              "1      [“, your, sister, asked, for, it, ,, i, suppos...       2   \n",
              "2      [she, was, engaged, one, day, as, she, walked,...       1   \n",
              "3      [the, captain, was, in, the, porch, ,, keeping...       4   \n",
              "4      [“, have, mercy, ,, gentlemen, !, ”, odin, flu...       3   \n",
              "\n",
              "                                                   text1  \\\n",
              "index                                                      \n",
              "0      [almost, choking, ., much, ,, much, wanted, sa...   \n",
              "1                   [“, sister, asked, ,, suppose, ?, ”]   \n",
              "2      [engaged, one, day, walked, ,, perusing, jane,...   \n",
              "3      [captain, porch, ,, keeping, carefully, way, t...   \n",
              "4      [“, mercy, ,, gentlemen, !, ”, odin, flung, ha...   \n",
              "\n",
              "                                                   text2  \\\n",
              "index                                                      \n",
              "0      [almost, choking, much, much, wanted, say, str...   \n",
              "1                         [“, sister, asked, suppose, ”]   \n",
              "2      [engaged, one, day, walked, perusing, jane, ’,...   \n",
              "3      [captain, porch, keeping, carefully, way, trea...   \n",
              "4      [“, mercy, gentlemen, ”, odin, flung, hands, “...   \n",
              "\n",
              "                                              text_Stem1  \\\n",
              "index                                                      \n",
              "0      [almost, choke, ., much, ,, much, want, say, ,...   \n",
              "1                      [“, sister, ask, ,, suppos, ?, ”]   \n",
              "2      [engag, one, day, walk, ,, perus, jane, ’, las...   \n",
              "3      [captain, porch, ,, keep, care, way, treacher,...   \n",
              "4      [“, merci, ,, gentlemen, !, ”, odin, flung, ha...   \n",
              "\n",
              "                                              text_Stem2  \n",
              "index                                                     \n",
              "0      [almost, choke, much, much, want, say, strang,...  \n",
              "1                            [“, sister, ask, suppos, ”]  \n",
              "2      [engag, one, day, walk, perus, jane, ’, last, ...  \n",
              "3      [captain, porch, keep, care, way, treacher, sh...  \n",
              "4      [“, merci, gentlemen, ”, odin, flung, hand, “,...  "
            ],
            "text/html": [
              "\n",
              "  <div id=\"df-46e66158-9476-46f4-a7e9-2339613988d5\">\n",
              "    <div class=\"colab-df-container\">\n",
              "      <div>\n",
              "<style scoped>\n",
              "    .dataframe tbody tr th:only-of-type {\n",
              "        vertical-align: middle;\n",
              "    }\n",
              "\n",
              "    .dataframe tbody tr th {\n",
              "        vertical-align: top;\n",
              "    }\n",
              "\n",
              "    .dataframe thead th {\n",
              "        text-align: right;\n",
              "    }\n",
              "</style>\n",
              "<table border=\"1\" class=\"dataframe\">\n",
              "  <thead>\n",
              "    <tr style=\"text-align: right;\">\n",
              "      <th></th>\n",
              "      <th>text</th>\n",
              "      <th>author</th>\n",
              "      <th>text1</th>\n",
              "      <th>text2</th>\n",
              "      <th>text_Stem1</th>\n",
              "      <th>text_Stem2</th>\n",
              "    </tr>\n",
              "    <tr>\n",
              "      <th>index</th>\n",
              "      <th></th>\n",
              "      <th></th>\n",
              "      <th></th>\n",
              "      <th></th>\n",
              "      <th></th>\n",
              "      <th></th>\n",
              "    </tr>\n",
              "  </thead>\n",
              "  <tbody>\n",
              "    <tr>\n",
              "      <th>0</th>\n",
              "      <td>[he, was, almost, choking, ., there, was, so, ...</td>\n",
              "      <td>3</td>\n",
              "      <td>[almost, choking, ., much, ,, much, wanted, sa...</td>\n",
              "      <td>[almost, choking, much, much, wanted, say, str...</td>\n",
              "      <td>[almost, choke, ., much, ,, much, want, say, ,...</td>\n",
              "      <td>[almost, choke, much, much, want, say, strang,...</td>\n",
              "    </tr>\n",
              "    <tr>\n",
              "      <th>1</th>\n",
              "      <td>[“, your, sister, asked, for, it, ,, i, suppos...</td>\n",
              "      <td>2</td>\n",
              "      <td>[“, sister, asked, ,, suppose, ?, ”]</td>\n",
              "      <td>[“, sister, asked, suppose, ”]</td>\n",
              "      <td>[“, sister, ask, ,, suppos, ?, ”]</td>\n",
              "      <td>[“, sister, ask, suppos, ”]</td>\n",
              "    </tr>\n",
              "    <tr>\n",
              "      <th>2</th>\n",
              "      <td>[she, was, engaged, one, day, as, she, walked,...</td>\n",
              "      <td>1</td>\n",
              "      <td>[engaged, one, day, walked, ,, perusing, jane,...</td>\n",
              "      <td>[engaged, one, day, walked, perusing, jane, ’,...</td>\n",
              "      <td>[engag, one, day, walk, ,, perus, jane, ’, las...</td>\n",
              "      <td>[engag, one, day, walk, perus, jane, ’, last, ...</td>\n",
              "    </tr>\n",
              "    <tr>\n",
              "      <th>3</th>\n",
              "      <td>[the, captain, was, in, the, porch, ,, keeping...</td>\n",
              "      <td>4</td>\n",
              "      <td>[captain, porch, ,, keeping, carefully, way, t...</td>\n",
              "      <td>[captain, porch, keeping, carefully, way, trea...</td>\n",
              "      <td>[captain, porch, ,, keep, care, way, treacher,...</td>\n",
              "      <td>[captain, porch, keep, care, way, treacher, sh...</td>\n",
              "    </tr>\n",
              "    <tr>\n",
              "      <th>4</th>\n",
              "      <td>[“, have, mercy, ,, gentlemen, !, ”, odin, flu...</td>\n",
              "      <td>3</td>\n",
              "      <td>[“, mercy, ,, gentlemen, !, ”, odin, flung, ha...</td>\n",
              "      <td>[“, mercy, gentlemen, ”, odin, flung, hands, “...</td>\n",
              "      <td>[“, merci, ,, gentlemen, !, ”, odin, flung, ha...</td>\n",
              "      <td>[“, merci, gentlemen, ”, odin, flung, hand, “,...</td>\n",
              "    </tr>\n",
              "  </tbody>\n",
              "</table>\n",
              "</div>\n",
              "      <button class=\"colab-df-convert\" onclick=\"convertToInteractive('df-46e66158-9476-46f4-a7e9-2339613988d5')\"\n",
              "              title=\"Convert this dataframe to an interactive table.\"\n",
              "              style=\"display:none;\">\n",
              "        \n",
              "  <svg xmlns=\"http://www.w3.org/2000/svg\" height=\"24px\"viewBox=\"0 0 24 24\"\n",
              "       width=\"24px\">\n",
              "    <path d=\"M0 0h24v24H0V0z\" fill=\"none\"/>\n",
              "    <path d=\"M18.56 5.44l.94 2.06.94-2.06 2.06-.94-2.06-.94-.94-2.06-.94 2.06-2.06.94zm-11 1L8.5 8.5l.94-2.06 2.06-.94-2.06-.94L8.5 2.5l-.94 2.06-2.06.94zm10 10l.94 2.06.94-2.06 2.06-.94-2.06-.94-.94-2.06-.94 2.06-2.06.94z\"/><path d=\"M17.41 7.96l-1.37-1.37c-.4-.4-.92-.59-1.43-.59-.52 0-1.04.2-1.43.59L10.3 9.45l-7.72 7.72c-.78.78-.78 2.05 0 2.83L4 21.41c.39.39.9.59 1.41.59.51 0 1.02-.2 1.41-.59l7.78-7.78 2.81-2.81c.8-.78.8-2.07 0-2.86zM5.41 20L4 18.59l7.72-7.72 1.47 1.35L5.41 20z\"/>\n",
              "  </svg>\n",
              "      </button>\n",
              "      \n",
              "  <style>\n",
              "    .colab-df-container {\n",
              "      display:flex;\n",
              "      flex-wrap:wrap;\n",
              "      gap: 12px;\n",
              "    }\n",
              "\n",
              "    .colab-df-convert {\n",
              "      background-color: #E8F0FE;\n",
              "      border: none;\n",
              "      border-radius: 50%;\n",
              "      cursor: pointer;\n",
              "      display: none;\n",
              "      fill: #1967D2;\n",
              "      height: 32px;\n",
              "      padding: 0 0 0 0;\n",
              "      width: 32px;\n",
              "    }\n",
              "\n",
              "    .colab-df-convert:hover {\n",
              "      background-color: #E2EBFA;\n",
              "      box-shadow: 0px 1px 2px rgba(60, 64, 67, 0.3), 0px 1px 3px 1px rgba(60, 64, 67, 0.15);\n",
              "      fill: #174EA6;\n",
              "    }\n",
              "\n",
              "    [theme=dark] .colab-df-convert {\n",
              "      background-color: #3B4455;\n",
              "      fill: #D2E3FC;\n",
              "    }\n",
              "\n",
              "    [theme=dark] .colab-df-convert:hover {\n",
              "      background-color: #434B5C;\n",
              "      box-shadow: 0px 1px 3px 1px rgba(0, 0, 0, 0.15);\n",
              "      filter: drop-shadow(0px 1px 2px rgba(0, 0, 0, 0.3));\n",
              "      fill: #FFFFFF;\n",
              "    }\n",
              "  </style>\n",
              "\n",
              "      <script>\n",
              "        const buttonEl =\n",
              "          document.querySelector('#df-46e66158-9476-46f4-a7e9-2339613988d5 button.colab-df-convert');\n",
              "        buttonEl.style.display =\n",
              "          google.colab.kernel.accessAllowed ? 'block' : 'none';\n",
              "\n",
              "        async function convertToInteractive(key) {\n",
              "          const element = document.querySelector('#df-46e66158-9476-46f4-a7e9-2339613988d5');\n",
              "          const dataTable =\n",
              "            await google.colab.kernel.invokeFunction('convertToInteractive',\n",
              "                                                     [key], {});\n",
              "          if (!dataTable) return;\n",
              "\n",
              "          const docLinkHtml = 'Like what you see? Visit the ' +\n",
              "            '<a target=\"_blank\" href=https://colab.research.google.com/notebooks/data_table.ipynb>data table notebook</a>'\n",
              "            + ' to learn more about interactive tables.';\n",
              "          element.innerHTML = '';\n",
              "          dataTable['output_type'] = 'display_data';\n",
              "          await google.colab.output.renderOutput(dataTable, element);\n",
              "          const docLink = document.createElement('div');\n",
              "          docLink.innerHTML = docLinkHtml;\n",
              "          element.appendChild(docLink);\n",
              "        }\n",
              "      </script>\n",
              "    </div>\n",
              "  </div>\n",
              "  "
            ]
          },
          "metadata": {},
          "execution_count": 23
        }
      ],
      "source": [
        "train.head()"
      ]
    },
    {
      "cell_type": "markdown",
      "metadata": {
        "id": "O9nMD88TWvZR"
      },
      "source": [
        "B. Lemmatization"
      ]
    },
    {
      "cell_type": "code",
      "execution_count": null,
      "metadata": {
        "id": "pgt_aG3OW5C3"
      },
      "outputs": [],
      "source": [
        "from nltk.stem import WordNetLemmatizer\n",
        "\n",
        "lemmatizer = WordNetLemmatizer()"
      ]
    },
    {
      "cell_type": "code",
      "execution_count": null,
      "metadata": {
        "colab": {
          "base_uri": "https://localhost:8080/"
        },
        "id": "qCAKZv0HEehS",
        "outputId": "89ebc5eb-4309-4de6-da36-188f79007b08"
      },
      "outputs": [
        {
          "output_type": "execute_result",
          "data": {
            "text/plain": [
              "True"
            ]
          },
          "metadata": {},
          "execution_count": 25
        }
      ],
      "source": [
        "nltk.download('wordnet', quiet=True)"
      ]
    },
    {
      "cell_type": "code",
      "execution_count": null,
      "metadata": {
        "id": "QeZBaAD-n7CZ"
      },
      "outputs": [],
      "source": [
        "# 1. 불용어 제외할때, 부정어 남기고 문장부호 남긴다. \n",
        "\n",
        "lemma = []\n",
        "text_Lemma = [] \n",
        "\n",
        "for i in range(len(train['text1'])):\n",
        "  for j in range(len(train['text1'][i])):\n",
        "    lemma.append(lemmatizer.lemmatize(train['text1'][i][j], pos='v'))\n",
        "  text_Lemma.append(list(lemma))\n",
        "  lemma.clear()\n",
        "train = train.assign(text_Lem1 = text_Lemma)"
      ]
    },
    {
      "cell_type": "code",
      "source": [
        "lemma = []\n",
        "text_Lemma = [] \n",
        "\n",
        "for i in range(len(test['text1'])):\n",
        "  for j in range(len(test['text1'][i])):\n",
        "    lemma.append(lemmatizer.lemmatize(test['text1'][i][j], pos='v'))\n",
        "  text_Lemma.append(list(lemma))\n",
        "  lemma.clear()\n",
        "test = test.assign(text_Lem1 = text_Lemma)"
      ],
      "metadata": {
        "id": "PxV3C8YIRq1y"
      },
      "execution_count": null,
      "outputs": []
    },
    {
      "cell_type": "code",
      "execution_count": null,
      "metadata": {
        "colab": {
          "base_uri": "https://localhost:8080/",
          "height": 368
        },
        "id": "3cJXroL7EBZy",
        "outputId": "3ad9702d-ff9d-4979-ae0a-c4a19d1350c8"
      },
      "outputs": [
        {
          "output_type": "execute_result",
          "data": {
            "text/plain": [
              "                                                    text  author  \\\n",
              "index                                                              \n",
              "0      [he, was, almost, choking, ., there, was, so, ...       3   \n",
              "1      [“, your, sister, asked, for, it, ,, i, suppos...       2   \n",
              "2      [she, was, engaged, one, day, as, she, walked,...       1   \n",
              "3      [the, captain, was, in, the, porch, ,, keeping...       4   \n",
              "4      [“, have, mercy, ,, gentlemen, !, ”, odin, flu...       3   \n",
              "\n",
              "                                                   text1  \\\n",
              "index                                                      \n",
              "0      [almost, choking, ., much, ,, much, wanted, sa...   \n",
              "1                   [“, sister, asked, ,, suppose, ?, ”]   \n",
              "2      [engaged, one, day, walked, ,, perusing, jane,...   \n",
              "3      [captain, porch, ,, keeping, carefully, way, t...   \n",
              "4      [“, mercy, ,, gentlemen, !, ”, odin, flung, ha...   \n",
              "\n",
              "                                                   text2  \\\n",
              "index                                                      \n",
              "0      [almost, choking, much, much, wanted, say, str...   \n",
              "1                         [“, sister, asked, suppose, ”]   \n",
              "2      [engaged, one, day, walked, perusing, jane, ’,...   \n",
              "3      [captain, porch, keeping, carefully, way, trea...   \n",
              "4      [“, mercy, gentlemen, ”, odin, flung, hands, “...   \n",
              "\n",
              "                                              text_Stem1  \\\n",
              "index                                                      \n",
              "0      [almost, choke, ., much, ,, much, want, say, ,...   \n",
              "1                      [“, sister, ask, ,, suppos, ?, ”]   \n",
              "2      [engag, one, day, walk, ,, perus, jane, ’, las...   \n",
              "3      [captain, porch, ,, keep, care, way, treacher,...   \n",
              "4      [“, merci, ,, gentlemen, !, ”, odin, flung, ha...   \n",
              "\n",
              "                                              text_Stem2  \\\n",
              "index                                                      \n",
              "0      [almost, choke, much, much, want, say, strang,...   \n",
              "1                            [“, sister, ask, suppos, ”]   \n",
              "2      [engag, one, day, walk, perus, jane, ’, last, ...   \n",
              "3      [captain, porch, keep, care, way, treacher, sh...   \n",
              "4      [“, merci, gentlemen, ”, odin, flung, hand, “,...   \n",
              "\n",
              "                                               text_Lem1  \n",
              "index                                                     \n",
              "0      [almost, choke, ., much, ,, much, want, say, ,...  \n",
              "1                     [“, sister, ask, ,, suppose, ?, ”]  \n",
              "2      [engage, one, day, walk, ,, peruse, jane, ’, l...  \n",
              "3      [captain, porch, ,, keep, carefully, way, trea...  \n",
              "4      [“, mercy, ,, gentlemen, !, ”, odin, fling, ha...  "
            ],
            "text/html": [
              "\n",
              "  <div id=\"df-0670e8c4-8601-4c0e-aafd-cf4fc51b29b8\">\n",
              "    <div class=\"colab-df-container\">\n",
              "      <div>\n",
              "<style scoped>\n",
              "    .dataframe tbody tr th:only-of-type {\n",
              "        vertical-align: middle;\n",
              "    }\n",
              "\n",
              "    .dataframe tbody tr th {\n",
              "        vertical-align: top;\n",
              "    }\n",
              "\n",
              "    .dataframe thead th {\n",
              "        text-align: right;\n",
              "    }\n",
              "</style>\n",
              "<table border=\"1\" class=\"dataframe\">\n",
              "  <thead>\n",
              "    <tr style=\"text-align: right;\">\n",
              "      <th></th>\n",
              "      <th>text</th>\n",
              "      <th>author</th>\n",
              "      <th>text1</th>\n",
              "      <th>text2</th>\n",
              "      <th>text_Stem1</th>\n",
              "      <th>text_Stem2</th>\n",
              "      <th>text_Lem1</th>\n",
              "    </tr>\n",
              "    <tr>\n",
              "      <th>index</th>\n",
              "      <th></th>\n",
              "      <th></th>\n",
              "      <th></th>\n",
              "      <th></th>\n",
              "      <th></th>\n",
              "      <th></th>\n",
              "      <th></th>\n",
              "    </tr>\n",
              "  </thead>\n",
              "  <tbody>\n",
              "    <tr>\n",
              "      <th>0</th>\n",
              "      <td>[he, was, almost, choking, ., there, was, so, ...</td>\n",
              "      <td>3</td>\n",
              "      <td>[almost, choking, ., much, ,, much, wanted, sa...</td>\n",
              "      <td>[almost, choking, much, much, wanted, say, str...</td>\n",
              "      <td>[almost, choke, ., much, ,, much, want, say, ,...</td>\n",
              "      <td>[almost, choke, much, much, want, say, strang,...</td>\n",
              "      <td>[almost, choke, ., much, ,, much, want, say, ,...</td>\n",
              "    </tr>\n",
              "    <tr>\n",
              "      <th>1</th>\n",
              "      <td>[“, your, sister, asked, for, it, ,, i, suppos...</td>\n",
              "      <td>2</td>\n",
              "      <td>[“, sister, asked, ,, suppose, ?, ”]</td>\n",
              "      <td>[“, sister, asked, suppose, ”]</td>\n",
              "      <td>[“, sister, ask, ,, suppos, ?, ”]</td>\n",
              "      <td>[“, sister, ask, suppos, ”]</td>\n",
              "      <td>[“, sister, ask, ,, suppose, ?, ”]</td>\n",
              "    </tr>\n",
              "    <tr>\n",
              "      <th>2</th>\n",
              "      <td>[she, was, engaged, one, day, as, she, walked,...</td>\n",
              "      <td>1</td>\n",
              "      <td>[engaged, one, day, walked, ,, perusing, jane,...</td>\n",
              "      <td>[engaged, one, day, walked, perusing, jane, ’,...</td>\n",
              "      <td>[engag, one, day, walk, ,, perus, jane, ’, las...</td>\n",
              "      <td>[engag, one, day, walk, perus, jane, ’, last, ...</td>\n",
              "      <td>[engage, one, day, walk, ,, peruse, jane, ’, l...</td>\n",
              "    </tr>\n",
              "    <tr>\n",
              "      <th>3</th>\n",
              "      <td>[the, captain, was, in, the, porch, ,, keeping...</td>\n",
              "      <td>4</td>\n",
              "      <td>[captain, porch, ,, keeping, carefully, way, t...</td>\n",
              "      <td>[captain, porch, keeping, carefully, way, trea...</td>\n",
              "      <td>[captain, porch, ,, keep, care, way, treacher,...</td>\n",
              "      <td>[captain, porch, keep, care, way, treacher, sh...</td>\n",
              "      <td>[captain, porch, ,, keep, carefully, way, trea...</td>\n",
              "    </tr>\n",
              "    <tr>\n",
              "      <th>4</th>\n",
              "      <td>[“, have, mercy, ,, gentlemen, !, ”, odin, flu...</td>\n",
              "      <td>3</td>\n",
              "      <td>[“, mercy, ,, gentlemen, !, ”, odin, flung, ha...</td>\n",
              "      <td>[“, mercy, gentlemen, ”, odin, flung, hands, “...</td>\n",
              "      <td>[“, merci, ,, gentlemen, !, ”, odin, flung, ha...</td>\n",
              "      <td>[“, merci, gentlemen, ”, odin, flung, hand, “,...</td>\n",
              "      <td>[“, mercy, ,, gentlemen, !, ”, odin, fling, ha...</td>\n",
              "    </tr>\n",
              "  </tbody>\n",
              "</table>\n",
              "</div>\n",
              "      <button class=\"colab-df-convert\" onclick=\"convertToInteractive('df-0670e8c4-8601-4c0e-aafd-cf4fc51b29b8')\"\n",
              "              title=\"Convert this dataframe to an interactive table.\"\n",
              "              style=\"display:none;\">\n",
              "        \n",
              "  <svg xmlns=\"http://www.w3.org/2000/svg\" height=\"24px\"viewBox=\"0 0 24 24\"\n",
              "       width=\"24px\">\n",
              "    <path d=\"M0 0h24v24H0V0z\" fill=\"none\"/>\n",
              "    <path d=\"M18.56 5.44l.94 2.06.94-2.06 2.06-.94-2.06-.94-.94-2.06-.94 2.06-2.06.94zm-11 1L8.5 8.5l.94-2.06 2.06-.94-2.06-.94L8.5 2.5l-.94 2.06-2.06.94zm10 10l.94 2.06.94-2.06 2.06-.94-2.06-.94-.94-2.06-.94 2.06-2.06.94z\"/><path d=\"M17.41 7.96l-1.37-1.37c-.4-.4-.92-.59-1.43-.59-.52 0-1.04.2-1.43.59L10.3 9.45l-7.72 7.72c-.78.78-.78 2.05 0 2.83L4 21.41c.39.39.9.59 1.41.59.51 0 1.02-.2 1.41-.59l7.78-7.78 2.81-2.81c.8-.78.8-2.07 0-2.86zM5.41 20L4 18.59l7.72-7.72 1.47 1.35L5.41 20z\"/>\n",
              "  </svg>\n",
              "      </button>\n",
              "      \n",
              "  <style>\n",
              "    .colab-df-container {\n",
              "      display:flex;\n",
              "      flex-wrap:wrap;\n",
              "      gap: 12px;\n",
              "    }\n",
              "\n",
              "    .colab-df-convert {\n",
              "      background-color: #E8F0FE;\n",
              "      border: none;\n",
              "      border-radius: 50%;\n",
              "      cursor: pointer;\n",
              "      display: none;\n",
              "      fill: #1967D2;\n",
              "      height: 32px;\n",
              "      padding: 0 0 0 0;\n",
              "      width: 32px;\n",
              "    }\n",
              "\n",
              "    .colab-df-convert:hover {\n",
              "      background-color: #E2EBFA;\n",
              "      box-shadow: 0px 1px 2px rgba(60, 64, 67, 0.3), 0px 1px 3px 1px rgba(60, 64, 67, 0.15);\n",
              "      fill: #174EA6;\n",
              "    }\n",
              "\n",
              "    [theme=dark] .colab-df-convert {\n",
              "      background-color: #3B4455;\n",
              "      fill: #D2E3FC;\n",
              "    }\n",
              "\n",
              "    [theme=dark] .colab-df-convert:hover {\n",
              "      background-color: #434B5C;\n",
              "      box-shadow: 0px 1px 3px 1px rgba(0, 0, 0, 0.15);\n",
              "      filter: drop-shadow(0px 1px 2px rgba(0, 0, 0, 0.3));\n",
              "      fill: #FFFFFF;\n",
              "    }\n",
              "  </style>\n",
              "\n",
              "      <script>\n",
              "        const buttonEl =\n",
              "          document.querySelector('#df-0670e8c4-8601-4c0e-aafd-cf4fc51b29b8 button.colab-df-convert');\n",
              "        buttonEl.style.display =\n",
              "          google.colab.kernel.accessAllowed ? 'block' : 'none';\n",
              "\n",
              "        async function convertToInteractive(key) {\n",
              "          const element = document.querySelector('#df-0670e8c4-8601-4c0e-aafd-cf4fc51b29b8');\n",
              "          const dataTable =\n",
              "            await google.colab.kernel.invokeFunction('convertToInteractive',\n",
              "                                                     [key], {});\n",
              "          if (!dataTable) return;\n",
              "\n",
              "          const docLinkHtml = 'Like what you see? Visit the ' +\n",
              "            '<a target=\"_blank\" href=https://colab.research.google.com/notebooks/data_table.ipynb>data table notebook</a>'\n",
              "            + ' to learn more about interactive tables.';\n",
              "          element.innerHTML = '';\n",
              "          dataTable['output_type'] = 'display_data';\n",
              "          await google.colab.output.renderOutput(dataTable, element);\n",
              "          const docLink = document.createElement('div');\n",
              "          docLink.innerHTML = docLinkHtml;\n",
              "          element.appendChild(docLink);\n",
              "        }\n",
              "      </script>\n",
              "    </div>\n",
              "  </div>\n",
              "  "
            ]
          },
          "metadata": {},
          "execution_count": 28
        }
      ],
      "source": [
        "train.head()"
      ]
    },
    {
      "cell_type": "code",
      "execution_count": null,
      "metadata": {
        "id": "OCuKFHfs26oz"
      },
      "outputs": [],
      "source": [
        "# 2. 불용어 제외할때, 부정어 남기고 문장부호 지운다.\n",
        "\n",
        "lemma = []\n",
        "text_Lemma = [] \n",
        "\n",
        "for i in range(len(train['text2'])):\n",
        "  for j in range(len(train['text2'][i])):\n",
        "    lemma.append(lemmatizer.lemmatize(train['text2'][i][j], pos='v'))\n",
        "  text_Lemma.append(list(lemma))\n",
        "  lemma.clear()\n",
        "train = train.assign(text_Lem2 = text_Lemma)"
      ]
    },
    {
      "cell_type": "code",
      "source": [
        "# 2. 불용어 제외할때, 부정어 남기고 문장부호 지운다.\n",
        "\n",
        "lemma = []\n",
        "text_Lemma = [] \n",
        "\n",
        "for i in range(len(test['text2'])):\n",
        "  for j in range(len(test['text2'][i])):\n",
        "    lemma.append(lemmatizer.lemmatize(test['text2'][i][j], pos='v'))\n",
        "  text_Lemma.append(list(lemma))\n",
        "  lemma.clear()\n",
        "test = test.assign(text_Lem2 = text_Lemma)"
      ],
      "metadata": {
        "id": "kPYjn37ESLJV"
      },
      "execution_count": null,
      "outputs": []
    },
    {
      "cell_type": "code",
      "execution_count": null,
      "metadata": {
        "colab": {
          "base_uri": "https://localhost:8080/",
          "height": 437
        },
        "outputId": "f4942caa-4ce4-4fc0-f79b-bd473ed9073e",
        "id": "wTwg97mK26pC"
      },
      "outputs": [
        {
          "output_type": "execute_result",
          "data": {
            "text/plain": [
              "                                                    text  author  \\\n",
              "index                                                              \n",
              "0      [he, was, almost, choking, ., there, was, so, ...       3   \n",
              "1      [“, your, sister, asked, for, it, ,, i, suppos...       2   \n",
              "2      [she, was, engaged, one, day, as, she, walked,...       1   \n",
              "3      [the, captain, was, in, the, porch, ,, keeping...       4   \n",
              "4      [“, have, mercy, ,, gentlemen, !, ”, odin, flu...       3   \n",
              "\n",
              "                                                   text1  \\\n",
              "index                                                      \n",
              "0      [almost, choking, ., much, ,, much, wanted, sa...   \n",
              "1                   [“, sister, asked, ,, suppose, ?, ”]   \n",
              "2      [engaged, one, day, walked, ,, perusing, jane,...   \n",
              "3      [captain, porch, ,, keeping, carefully, way, t...   \n",
              "4      [“, mercy, ,, gentlemen, !, ”, odin, flung, ha...   \n",
              "\n",
              "                                                   text2  \\\n",
              "index                                                      \n",
              "0      [almost, choking, much, much, wanted, say, str...   \n",
              "1                         [“, sister, asked, suppose, ”]   \n",
              "2      [engaged, one, day, walked, perusing, jane, ’,...   \n",
              "3      [captain, porch, keeping, carefully, way, trea...   \n",
              "4      [“, mercy, gentlemen, ”, odin, flung, hands, “...   \n",
              "\n",
              "                                              text_Stem1  \\\n",
              "index                                                      \n",
              "0      [almost, choke, ., much, ,, much, want, say, ,...   \n",
              "1                      [“, sister, ask, ,, suppos, ?, ”]   \n",
              "2      [engag, one, day, walk, ,, perus, jane, ’, las...   \n",
              "3      [captain, porch, ,, keep, care, way, treacher,...   \n",
              "4      [“, merci, ,, gentlemen, !, ”, odin, flung, ha...   \n",
              "\n",
              "                                              text_Stem2  \\\n",
              "index                                                      \n",
              "0      [almost, choke, much, much, want, say, strang,...   \n",
              "1                            [“, sister, ask, suppos, ”]   \n",
              "2      [engag, one, day, walk, perus, jane, ’, last, ...   \n",
              "3      [captain, porch, keep, care, way, treacher, sh...   \n",
              "4      [“, merci, gentlemen, ”, odin, flung, hand, “,...   \n",
              "\n",
              "                                               text_Lem1  \\\n",
              "index                                                      \n",
              "0      [almost, choke, ., much, ,, much, want, say, ,...   \n",
              "1                     [“, sister, ask, ,, suppose, ?, ”]   \n",
              "2      [engage, one, day, walk, ,, peruse, jane, ’, l...   \n",
              "3      [captain, porch, ,, keep, carefully, way, trea...   \n",
              "4      [“, mercy, ,, gentlemen, !, ”, odin, fling, ha...   \n",
              "\n",
              "                                               text_Lem2  \n",
              "index                                                     \n",
              "0      [almost, choke, much, much, want, say, strange...  \n",
              "1                           [“, sister, ask, suppose, ”]  \n",
              "2      [engage, one, day, walk, peruse, jane, ’, last...  \n",
              "3      [captain, porch, keep, carefully, way, treache...  \n",
              "4      [“, mercy, gentlemen, ”, odin, fling, hand, “,...  "
            ],
            "text/html": [
              "\n",
              "  <div id=\"df-b22ceb35-cced-4e57-a388-599ba77b6d35\">\n",
              "    <div class=\"colab-df-container\">\n",
              "      <div>\n",
              "<style scoped>\n",
              "    .dataframe tbody tr th:only-of-type {\n",
              "        vertical-align: middle;\n",
              "    }\n",
              "\n",
              "    .dataframe tbody tr th {\n",
              "        vertical-align: top;\n",
              "    }\n",
              "\n",
              "    .dataframe thead th {\n",
              "        text-align: right;\n",
              "    }\n",
              "</style>\n",
              "<table border=\"1\" class=\"dataframe\">\n",
              "  <thead>\n",
              "    <tr style=\"text-align: right;\">\n",
              "      <th></th>\n",
              "      <th>text</th>\n",
              "      <th>author</th>\n",
              "      <th>text1</th>\n",
              "      <th>text2</th>\n",
              "      <th>text_Stem1</th>\n",
              "      <th>text_Stem2</th>\n",
              "      <th>text_Lem1</th>\n",
              "      <th>text_Lem2</th>\n",
              "    </tr>\n",
              "    <tr>\n",
              "      <th>index</th>\n",
              "      <th></th>\n",
              "      <th></th>\n",
              "      <th></th>\n",
              "      <th></th>\n",
              "      <th></th>\n",
              "      <th></th>\n",
              "      <th></th>\n",
              "      <th></th>\n",
              "    </tr>\n",
              "  </thead>\n",
              "  <tbody>\n",
              "    <tr>\n",
              "      <th>0</th>\n",
              "      <td>[he, was, almost, choking, ., there, was, so, ...</td>\n",
              "      <td>3</td>\n",
              "      <td>[almost, choking, ., much, ,, much, wanted, sa...</td>\n",
              "      <td>[almost, choking, much, much, wanted, say, str...</td>\n",
              "      <td>[almost, choke, ., much, ,, much, want, say, ,...</td>\n",
              "      <td>[almost, choke, much, much, want, say, strang,...</td>\n",
              "      <td>[almost, choke, ., much, ,, much, want, say, ,...</td>\n",
              "      <td>[almost, choke, much, much, want, say, strange...</td>\n",
              "    </tr>\n",
              "    <tr>\n",
              "      <th>1</th>\n",
              "      <td>[“, your, sister, asked, for, it, ,, i, suppos...</td>\n",
              "      <td>2</td>\n",
              "      <td>[“, sister, asked, ,, suppose, ?, ”]</td>\n",
              "      <td>[“, sister, asked, suppose, ”]</td>\n",
              "      <td>[“, sister, ask, ,, suppos, ?, ”]</td>\n",
              "      <td>[“, sister, ask, suppos, ”]</td>\n",
              "      <td>[“, sister, ask, ,, suppose, ?, ”]</td>\n",
              "      <td>[“, sister, ask, suppose, ”]</td>\n",
              "    </tr>\n",
              "    <tr>\n",
              "      <th>2</th>\n",
              "      <td>[she, was, engaged, one, day, as, she, walked,...</td>\n",
              "      <td>1</td>\n",
              "      <td>[engaged, one, day, walked, ,, perusing, jane,...</td>\n",
              "      <td>[engaged, one, day, walked, perusing, jane, ’,...</td>\n",
              "      <td>[engag, one, day, walk, ,, perus, jane, ’, las...</td>\n",
              "      <td>[engag, one, day, walk, perus, jane, ’, last, ...</td>\n",
              "      <td>[engage, one, day, walk, ,, peruse, jane, ’, l...</td>\n",
              "      <td>[engage, one, day, walk, peruse, jane, ’, last...</td>\n",
              "    </tr>\n",
              "    <tr>\n",
              "      <th>3</th>\n",
              "      <td>[the, captain, was, in, the, porch, ,, keeping...</td>\n",
              "      <td>4</td>\n",
              "      <td>[captain, porch, ,, keeping, carefully, way, t...</td>\n",
              "      <td>[captain, porch, keeping, carefully, way, trea...</td>\n",
              "      <td>[captain, porch, ,, keep, care, way, treacher,...</td>\n",
              "      <td>[captain, porch, keep, care, way, treacher, sh...</td>\n",
              "      <td>[captain, porch, ,, keep, carefully, way, trea...</td>\n",
              "      <td>[captain, porch, keep, carefully, way, treache...</td>\n",
              "    </tr>\n",
              "    <tr>\n",
              "      <th>4</th>\n",
              "      <td>[“, have, mercy, ,, gentlemen, !, ”, odin, flu...</td>\n",
              "      <td>3</td>\n",
              "      <td>[“, mercy, ,, gentlemen, !, ”, odin, flung, ha...</td>\n",
              "      <td>[“, mercy, gentlemen, ”, odin, flung, hands, “...</td>\n",
              "      <td>[“, merci, ,, gentlemen, !, ”, odin, flung, ha...</td>\n",
              "      <td>[“, merci, gentlemen, ”, odin, flung, hand, “,...</td>\n",
              "      <td>[“, mercy, ,, gentlemen, !, ”, odin, fling, ha...</td>\n",
              "      <td>[“, mercy, gentlemen, ”, odin, fling, hand, “,...</td>\n",
              "    </tr>\n",
              "  </tbody>\n",
              "</table>\n",
              "</div>\n",
              "      <button class=\"colab-df-convert\" onclick=\"convertToInteractive('df-b22ceb35-cced-4e57-a388-599ba77b6d35')\"\n",
              "              title=\"Convert this dataframe to an interactive table.\"\n",
              "              style=\"display:none;\">\n",
              "        \n",
              "  <svg xmlns=\"http://www.w3.org/2000/svg\" height=\"24px\"viewBox=\"0 0 24 24\"\n",
              "       width=\"24px\">\n",
              "    <path d=\"M0 0h24v24H0V0z\" fill=\"none\"/>\n",
              "    <path d=\"M18.56 5.44l.94 2.06.94-2.06 2.06-.94-2.06-.94-.94-2.06-.94 2.06-2.06.94zm-11 1L8.5 8.5l.94-2.06 2.06-.94-2.06-.94L8.5 2.5l-.94 2.06-2.06.94zm10 10l.94 2.06.94-2.06 2.06-.94-2.06-.94-.94-2.06-.94 2.06-2.06.94z\"/><path d=\"M17.41 7.96l-1.37-1.37c-.4-.4-.92-.59-1.43-.59-.52 0-1.04.2-1.43.59L10.3 9.45l-7.72 7.72c-.78.78-.78 2.05 0 2.83L4 21.41c.39.39.9.59 1.41.59.51 0 1.02-.2 1.41-.59l7.78-7.78 2.81-2.81c.8-.78.8-2.07 0-2.86zM5.41 20L4 18.59l7.72-7.72 1.47 1.35L5.41 20z\"/>\n",
              "  </svg>\n",
              "      </button>\n",
              "      \n",
              "  <style>\n",
              "    .colab-df-container {\n",
              "      display:flex;\n",
              "      flex-wrap:wrap;\n",
              "      gap: 12px;\n",
              "    }\n",
              "\n",
              "    .colab-df-convert {\n",
              "      background-color: #E8F0FE;\n",
              "      border: none;\n",
              "      border-radius: 50%;\n",
              "      cursor: pointer;\n",
              "      display: none;\n",
              "      fill: #1967D2;\n",
              "      height: 32px;\n",
              "      padding: 0 0 0 0;\n",
              "      width: 32px;\n",
              "    }\n",
              "\n",
              "    .colab-df-convert:hover {\n",
              "      background-color: #E2EBFA;\n",
              "      box-shadow: 0px 1px 2px rgba(60, 64, 67, 0.3), 0px 1px 3px 1px rgba(60, 64, 67, 0.15);\n",
              "      fill: #174EA6;\n",
              "    }\n",
              "\n",
              "    [theme=dark] .colab-df-convert {\n",
              "      background-color: #3B4455;\n",
              "      fill: #D2E3FC;\n",
              "    }\n",
              "\n",
              "    [theme=dark] .colab-df-convert:hover {\n",
              "      background-color: #434B5C;\n",
              "      box-shadow: 0px 1px 3px 1px rgba(0, 0, 0, 0.15);\n",
              "      filter: drop-shadow(0px 1px 2px rgba(0, 0, 0, 0.3));\n",
              "      fill: #FFFFFF;\n",
              "    }\n",
              "  </style>\n",
              "\n",
              "      <script>\n",
              "        const buttonEl =\n",
              "          document.querySelector('#df-b22ceb35-cced-4e57-a388-599ba77b6d35 button.colab-df-convert');\n",
              "        buttonEl.style.display =\n",
              "          google.colab.kernel.accessAllowed ? 'block' : 'none';\n",
              "\n",
              "        async function convertToInteractive(key) {\n",
              "          const element = document.querySelector('#df-b22ceb35-cced-4e57-a388-599ba77b6d35');\n",
              "          const dataTable =\n",
              "            await google.colab.kernel.invokeFunction('convertToInteractive',\n",
              "                                                     [key], {});\n",
              "          if (!dataTable) return;\n",
              "\n",
              "          const docLinkHtml = 'Like what you see? Visit the ' +\n",
              "            '<a target=\"_blank\" href=https://colab.research.google.com/notebooks/data_table.ipynb>data table notebook</a>'\n",
              "            + ' to learn more about interactive tables.';\n",
              "          element.innerHTML = '';\n",
              "          dataTable['output_type'] = 'display_data';\n",
              "          await google.colab.output.renderOutput(dataTable, element);\n",
              "          const docLink = document.createElement('div');\n",
              "          docLink.innerHTML = docLinkHtml;\n",
              "          element.appendChild(docLink);\n",
              "        }\n",
              "      </script>\n",
              "    </div>\n",
              "  </div>\n",
              "  "
            ]
          },
          "metadata": {},
          "execution_count": 31
        }
      ],
      "source": [
        "train.head()"
      ]
    },
    {
      "cell_type": "markdown",
      "source": [
        "### 5) 토큰화 해제"
      ],
      "metadata": {
        "id": "bvhjbYN5O-rw"
      }
    },
    {
      "cell_type": "code",
      "execution_count": null,
      "metadata": {
        "id": "zRRERNUlN9W0"
      },
      "outputs": [],
      "source": [
        "# 전처리 안한 칼럼들 드롭하기\n",
        "train.drop(['text', 'text1', 'text2'], axis=1, inplace=True)\n",
        "test.drop(['text', 'text1', 'text2'], axis=1, inplace=True)"
      ]
    },
    {
      "cell_type": "code",
      "execution_count": null,
      "metadata": {
        "id": "LYKJITYXGOpH"
      },
      "outputs": [],
      "source": [
        "# 토큰화 해제 함수\n",
        "def con(text):\n",
        "    final_text = []\n",
        "    for i in text:\n",
        "      final_text.append(i.strip())\n",
        "    return \" \".join(final_text)"
      ]
    },
    {
      "cell_type": "code",
      "execution_count": null,
      "metadata": {
        "colab": {
          "base_uri": "https://localhost:8080/",
          "height": 351
        },
        "id": "rilU7ECCIIEj",
        "outputId": "9be53cd4-4884-4bcb-9b8d-f93cda71f8fc"
      },
      "outputs": [
        {
          "output_type": "execute_result",
          "data": {
            "text/plain": [
              "       author                                         text_Stem1  \\\n",
              "index                                                              \n",
              "0           3  almost choke . much , much want say , strang e...   \n",
              "1           2                          “ sister ask , suppos ? ”   \n",
              "2           1  engag one day walk , perus jane ’ last letter ...   \n",
              "3           4  captain porch , keep care way treacher shot , ...   \n",
              "4           3  “ merci , gentlemen ! ” odin flung hand . “ do...   \n",
              "\n",
              "                                              text_Stem2  \\\n",
              "index                                                      \n",
              "0      almost choke much much want say strang exclam ...   \n",
              "1                                  “ sister ask suppos ”   \n",
              "2      engag one day walk perus jane ’ last letter dw...   \n",
              "3      captain porch keep care way treacher shot inte...   \n",
              "4      “ merci gentlemen ” odin flung hand “ don ’ wr...   \n",
              "\n",
              "                                               text_Lem1  \\\n",
              "index                                                      \n",
              "0      almost choke . much , much want say , strange ...   \n",
              "1                             “ sister ask , suppose ? ”   \n",
              "2      engage one day walk , peruse jane ’ last lette...   \n",
              "3      captain porch , keep carefully way treacherous...   \n",
              "4      “ mercy , gentlemen ! ” odin fling hand . “ do...   \n",
              "\n",
              "                                               text_Lem2  \n",
              "index                                                     \n",
              "0      almost choke much much want say strange exclam...  \n",
              "1                                 “ sister ask suppose ”  \n",
              "2      engage one day walk peruse jane ’ last letter ...  \n",
              "3      captain porch keep carefully way treacherous s...  \n",
              "4      “ mercy gentlemen ” odin fling hand “ don ’ wr...  "
            ],
            "text/html": [
              "\n",
              "  <div id=\"df-caa69fab-8339-4f97-8887-f917d34ab069\">\n",
              "    <div class=\"colab-df-container\">\n",
              "      <div>\n",
              "<style scoped>\n",
              "    .dataframe tbody tr th:only-of-type {\n",
              "        vertical-align: middle;\n",
              "    }\n",
              "\n",
              "    .dataframe tbody tr th {\n",
              "        vertical-align: top;\n",
              "    }\n",
              "\n",
              "    .dataframe thead th {\n",
              "        text-align: right;\n",
              "    }\n",
              "</style>\n",
              "<table border=\"1\" class=\"dataframe\">\n",
              "  <thead>\n",
              "    <tr style=\"text-align: right;\">\n",
              "      <th></th>\n",
              "      <th>author</th>\n",
              "      <th>text_Stem1</th>\n",
              "      <th>text_Stem2</th>\n",
              "      <th>text_Lem1</th>\n",
              "      <th>text_Lem2</th>\n",
              "    </tr>\n",
              "    <tr>\n",
              "      <th>index</th>\n",
              "      <th></th>\n",
              "      <th></th>\n",
              "      <th></th>\n",
              "      <th></th>\n",
              "      <th></th>\n",
              "    </tr>\n",
              "  </thead>\n",
              "  <tbody>\n",
              "    <tr>\n",
              "      <th>0</th>\n",
              "      <td>3</td>\n",
              "      <td>almost choke . much , much want say , strang e...</td>\n",
              "      <td>almost choke much much want say strang exclam ...</td>\n",
              "      <td>almost choke . much , much want say , strange ...</td>\n",
              "      <td>almost choke much much want say strange exclam...</td>\n",
              "    </tr>\n",
              "    <tr>\n",
              "      <th>1</th>\n",
              "      <td>2</td>\n",
              "      <td>“ sister ask , suppos ? ”</td>\n",
              "      <td>“ sister ask suppos ”</td>\n",
              "      <td>“ sister ask , suppose ? ”</td>\n",
              "      <td>“ sister ask suppose ”</td>\n",
              "    </tr>\n",
              "    <tr>\n",
              "      <th>2</th>\n",
              "      <td>1</td>\n",
              "      <td>engag one day walk , perus jane ’ last letter ...</td>\n",
              "      <td>engag one day walk perus jane ’ last letter dw...</td>\n",
              "      <td>engage one day walk , peruse jane ’ last lette...</td>\n",
              "      <td>engage one day walk peruse jane ’ last letter ...</td>\n",
              "    </tr>\n",
              "    <tr>\n",
              "      <th>3</th>\n",
              "      <td>4</td>\n",
              "      <td>captain porch , keep care way treacher shot , ...</td>\n",
              "      <td>captain porch keep care way treacher shot inte...</td>\n",
              "      <td>captain porch , keep carefully way treacherous...</td>\n",
              "      <td>captain porch keep carefully way treacherous s...</td>\n",
              "    </tr>\n",
              "    <tr>\n",
              "      <th>4</th>\n",
              "      <td>3</td>\n",
              "      <td>“ merci , gentlemen ! ” odin flung hand . “ do...</td>\n",
              "      <td>“ merci gentlemen ” odin flung hand “ don ’ wr...</td>\n",
              "      <td>“ mercy , gentlemen ! ” odin fling hand . “ do...</td>\n",
              "      <td>“ mercy gentlemen ” odin fling hand “ don ’ wr...</td>\n",
              "    </tr>\n",
              "  </tbody>\n",
              "</table>\n",
              "</div>\n",
              "      <button class=\"colab-df-convert\" onclick=\"convertToInteractive('df-caa69fab-8339-4f97-8887-f917d34ab069')\"\n",
              "              title=\"Convert this dataframe to an interactive table.\"\n",
              "              style=\"display:none;\">\n",
              "        \n",
              "  <svg xmlns=\"http://www.w3.org/2000/svg\" height=\"24px\"viewBox=\"0 0 24 24\"\n",
              "       width=\"24px\">\n",
              "    <path d=\"M0 0h24v24H0V0z\" fill=\"none\"/>\n",
              "    <path d=\"M18.56 5.44l.94 2.06.94-2.06 2.06-.94-2.06-.94-.94-2.06-.94 2.06-2.06.94zm-11 1L8.5 8.5l.94-2.06 2.06-.94-2.06-.94L8.5 2.5l-.94 2.06-2.06.94zm10 10l.94 2.06.94-2.06 2.06-.94-2.06-.94-.94-2.06-.94 2.06-2.06.94z\"/><path d=\"M17.41 7.96l-1.37-1.37c-.4-.4-.92-.59-1.43-.59-.52 0-1.04.2-1.43.59L10.3 9.45l-7.72 7.72c-.78.78-.78 2.05 0 2.83L4 21.41c.39.39.9.59 1.41.59.51 0 1.02-.2 1.41-.59l7.78-7.78 2.81-2.81c.8-.78.8-2.07 0-2.86zM5.41 20L4 18.59l7.72-7.72 1.47 1.35L5.41 20z\"/>\n",
              "  </svg>\n",
              "      </button>\n",
              "      \n",
              "  <style>\n",
              "    .colab-df-container {\n",
              "      display:flex;\n",
              "      flex-wrap:wrap;\n",
              "      gap: 12px;\n",
              "    }\n",
              "\n",
              "    .colab-df-convert {\n",
              "      background-color: #E8F0FE;\n",
              "      border: none;\n",
              "      border-radius: 50%;\n",
              "      cursor: pointer;\n",
              "      display: none;\n",
              "      fill: #1967D2;\n",
              "      height: 32px;\n",
              "      padding: 0 0 0 0;\n",
              "      width: 32px;\n",
              "    }\n",
              "\n",
              "    .colab-df-convert:hover {\n",
              "      background-color: #E2EBFA;\n",
              "      box-shadow: 0px 1px 2px rgba(60, 64, 67, 0.3), 0px 1px 3px 1px rgba(60, 64, 67, 0.15);\n",
              "      fill: #174EA6;\n",
              "    }\n",
              "\n",
              "    [theme=dark] .colab-df-convert {\n",
              "      background-color: #3B4455;\n",
              "      fill: #D2E3FC;\n",
              "    }\n",
              "\n",
              "    [theme=dark] .colab-df-convert:hover {\n",
              "      background-color: #434B5C;\n",
              "      box-shadow: 0px 1px 3px 1px rgba(0, 0, 0, 0.15);\n",
              "      filter: drop-shadow(0px 1px 2px rgba(0, 0, 0, 0.3));\n",
              "      fill: #FFFFFF;\n",
              "    }\n",
              "  </style>\n",
              "\n",
              "      <script>\n",
              "        const buttonEl =\n",
              "          document.querySelector('#df-caa69fab-8339-4f97-8887-f917d34ab069 button.colab-df-convert');\n",
              "        buttonEl.style.display =\n",
              "          google.colab.kernel.accessAllowed ? 'block' : 'none';\n",
              "\n",
              "        async function convertToInteractive(key) {\n",
              "          const element = document.querySelector('#df-caa69fab-8339-4f97-8887-f917d34ab069');\n",
              "          const dataTable =\n",
              "            await google.colab.kernel.invokeFunction('convertToInteractive',\n",
              "                                                     [key], {});\n",
              "          if (!dataTable) return;\n",
              "\n",
              "          const docLinkHtml = 'Like what you see? Visit the ' +\n",
              "            '<a target=\"_blank\" href=https://colab.research.google.com/notebooks/data_table.ipynb>data table notebook</a>'\n",
              "            + ' to learn more about interactive tables.';\n",
              "          element.innerHTML = '';\n",
              "          dataTable['output_type'] = 'display_data';\n",
              "          await google.colab.output.renderOutput(dataTable, element);\n",
              "          const docLink = document.createElement('div');\n",
              "          docLink.innerHTML = docLinkHtml;\n",
              "          element.appendChild(docLink);\n",
              "        }\n",
              "      </script>\n",
              "    </div>\n",
              "  </div>\n",
              "  "
            ]
          },
          "metadata": {},
          "execution_count": 34
        }
      ],
      "source": [
        "train['text_Stem1'] = train['text_Stem1'].apply(con).tolist()\n",
        "train['text_Stem2'] = train['text_Stem2'].apply(con).tolist()\n",
        "train['text_Lem1'] = train['text_Lem1'].apply(con).tolist()\n",
        "train['text_Lem2'] = train['text_Lem2'].apply(con).tolist()\n",
        "\n",
        "test['text_Stem1'] = test['text_Stem1'].apply(con).tolist()\n",
        "test['text_Stem2'] = test['text_Stem2'].apply(con).tolist()\n",
        "test['text_Lem1'] = test['text_Lem1'].apply(con).tolist()\n",
        "test['text_Lem2'] = test['text_Lem2'].apply(con).tolist()\n",
        "\n",
        "train.head()"
      ]
    },
    {
      "cell_type": "markdown",
      "source": [
        "데이터 저장하기"
      ],
      "metadata": {
        "id": "sliCOBCfSyUp"
      }
    },
    {
      "cell_type": "code",
      "source": [
        "train.columns = ['author', 'S_o', 'S_x', 'L_o', 'L_x']\n",
        "test.columns = ['S_o', 'S_x', 'L_o', 'L_x']\n",
        "\n",
        "train.to_csv(\"/content/drive/MyDrive/ESAA/OB/OB1조/프로젝트2/data/data_5 (재령)/train_5.csv\", index=False)\n",
        "test.to_csv(\"/content/drive/MyDrive/ESAA/OB/OB1조/프로젝트2/data/data_5 (재령)/test_5.csv\", index=False)"
      ],
      "metadata": {
        "id": "9PCnJ49aSycM"
      },
      "execution_count": null,
      "outputs": []
    },
    {
      "cell_type": "markdown",
      "source": [
        "데이터 불러오기"
      ],
      "metadata": {
        "id": "yfdsLYubVWmr"
      }
    },
    {
      "cell_type": "markdown",
      "source": [
        "**데이터저장경로 가져와서 코드 완성하기!!!!**"
      ],
      "metadata": {
        "id": "yfvTGQWeWBJL"
      }
    },
    {
      "cell_type": "code",
      "source": [
        "X_train_1 = pd.read_csv(\"/content/drive/My Drive/OB1조/프로젝트2/data/X_train_1.csv\", index_col=0)\n",
        "X_test_1 = pd.read_csv(\"/content/drive/My Drive/OB1조/프로젝트2/data/X_test_1.csv\", index_col=0)"
      ],
      "metadata": {
        "id": "5tQ2iJCnV8r-"
      },
      "execution_count": null,
      "outputs": []
    },
    {
      "cell_type": "code",
      "source": [
        "y_train = X_train_1.author.values"
      ],
      "metadata": {
        "id": "u-d2dC4R7LUr"
      },
      "execution_count": null,
      "outputs": []
    },
    {
      "cell_type": "code",
      "source": [
        "X_train_2\n",
        "X_test_2"
      ],
      "metadata": {
        "id": "up1FJ3WWV8uO"
      },
      "execution_count": null,
      "outputs": []
    },
    {
      "cell_type": "code",
      "source": [
        "X_train_3\n",
        "X_test_3"
      ],
      "metadata": {
        "id": "LANC5tfeV8wy"
      },
      "execution_count": null,
      "outputs": []
    },
    {
      "cell_type": "code",
      "source": [
        "X_train_4\n",
        "X_test_4"
      ],
      "metadata": {
        "id": "gRVuB9aZV8za"
      },
      "execution_count": null,
      "outputs": []
    },
    {
      "cell_type": "code",
      "source": [
        "X_train_5 = pd.read_csv(\"/content/drive/MyDrive/ESAA/OB/OB1조/프로젝트2/data/data_5 (재령)/train_5.csv\", index=False)\n",
        "X_test_5 = pd.read_csv(\"/content/drive/MyDrive/ESAA/OB/OB1조/프로젝트2/data/data_5 (재령)/test_5.csv\", index=False)\n",
        "X_train_5.head()"
      ],
      "metadata": {
        "id": "-P8_ybfvVmDn"
      },
      "execution_count": null,
      "outputs": []
    },
    {
      "cell_type": "code",
      "source": [
        "y_train = X_train_5.author.values"
      ],
      "metadata": {
        "id": "AeI_rRa1R0na"
      },
      "execution_count": null,
      "outputs": []
    },
    {
      "cell_type": "markdown",
      "source": [
        "# 4. 벡터화 + 모델링"
      ],
      "metadata": {
        "id": "VNrIMgWwO-87"
      }
    },
    {
      "cell_type": "markdown",
      "source": [
        "## 1) Logistic Regression"
      ],
      "metadata": {
        "id": "OiVT1oQPPKgb"
      }
    },
    {
      "cell_type": "code",
      "source": [
        "# 제출파일 저장할 dir 지정\n",
        "os.chdir(\"/content/drive/MyDrive/ESAA/데이터셋\")"
      ],
      "metadata": {
        "id": "4ywvIXgWCqi6"
      },
      "execution_count": null,
      "outputs": []
    },
    {
      "cell_type": "code",
      "source": [
        "n_fold = 5\n",
        "n_class = 5\n",
        "seed = 42"
      ],
      "metadata": {
        "id": "Ss7jN59ec9kZ"
      },
      "execution_count": null,
      "outputs": []
    },
    {
      "cell_type": "code",
      "source": [
        "cv = StratifiedKFold(n_splits=n_fold, shuffle=True, random_state=seed)"
      ],
      "metadata": {
        "id": "PvEHkJmbc9kZ"
      },
      "execution_count": null,
      "outputs": []
    },
    {
      "cell_type": "code",
      "source": [
        "from tensorflow.keras.preprocessing.text import Tokenizer\n",
        "from tensorflow.keras.utils import to_categorical\n",
        "from tensorflow.keras.preprocessing.sequence import pad_sequences"
      ],
      "metadata": {
        "id": "jA7J6yAfc9ka"
      },
      "execution_count": null,
      "outputs": []
    },
    {
      "cell_type": "markdown",
      "source": [
        "### 데이터셋 1 (세영)"
      ],
      "metadata": {
        "id": "oX2FSBomo5wJ"
      }
    },
    {
      "cell_type": "markdown",
      "source": [
        "2-4. CountVector + X_Lem + 문장부호x"
      ],
      "metadata": {
        "id": "15USzHg7pDVW"
      }
    },
    {
      "cell_type": "code",
      "source": [
        "vec = CountVectorizer(ngram_range=(1, 2), min_df=100)"
      ],
      "metadata": {
        "id": "q7NbGJTrpDVW"
      },
      "execution_count": null,
      "outputs": []
    },
    {
      "cell_type": "code",
      "source": [
        "X_tr_l2 = vec.fit_transform(X_train_1['text_del'].astype(str))\n",
        "X_va_l2 = vec.transform(X_test_1['text_del'].astype(str))\n",
        "\n",
        "p = np.zeros((X_tr_l2.shape[0], n_class))\n",
        "p_tst = np.zeros((X_va_l2.shape[0], n_class))\n",
        "for i_cv, (i_trn, i_val) in enumerate(cv.split(X_tr_l2, y_train), 1):\n",
        "    clf = LogisticRegression()\n",
        "    clf.fit(X_tr_l2[i_trn], y_train[i_trn])\n",
        "    p[i_val, :] = clf.predict_proba(X_tr_l2[i_val])\n",
        "    p_tst += clf.predict_proba(X_va_l2) / n_class\n",
        "\n",
        "print(f'Accuracy (CV): {accuracy_score(y_train, np.argmax(p, axis=1)) * 100:8.4f}%')\n",
        "print(f'Log Loss (CV): {log_loss(pd.get_dummies(y_train), p):8.4f}')"
      ],
      "metadata": {
        "colab": {
          "base_uri": "https://localhost:8080/"
        },
        "id": "nzueX8hhpDVW",
        "outputId": "95af3367-d63f-4bbd-d4b1-9e5d476db2c1"
      },
      "execution_count": null,
      "outputs": [
        {
          "output_type": "stream",
          "name": "stdout",
          "text": [
            "Accuracy (CV):  69.5148%\n",
            "Log Loss (CV):   0.8307\n"
          ]
        }
      ]
    },
    {
      "cell_type": "code",
      "source": [
        "sub = pd.read_csv(\"sample_submission.csv\", index_col=0)\n",
        "sub[sub.columns] = p_tst\n",
        "sub.to_csv(\"sub_1_bow_l2.csv\", index=False)"
      ],
      "metadata": {
        "id": "-MLGanCNpDVW"
      },
      "execution_count": null,
      "outputs": []
    },
    {
      "cell_type": "markdown",
      "source": [
        "3-3. TF-IDF + Lem + 문장부호o\n"
      ],
      "metadata": {
        "id": "iL3wB9_M81Ew"
      }
    },
    {
      "cell_type": "code",
      "source": [
        "X_tr_l2 = vec.fit_transform(X_train_1['text'].astype(str))\n",
        "X_va_l2 = vec.transform(X_test_1['text'].astype(str))\n",
        "\n",
        "p = np.zeros((X_tr_l2.shape[0], n_class))\n",
        "p_tst = np.zeros((X_va_l2.shape[0], n_class))\n",
        "for i_cv, (i_trn, i_val) in enumerate(cv.split(X_tr_l2, y_train), 1):\n",
        "    clf = LogisticRegression()\n",
        "    clf.fit(X_tr_l2[i_trn], y_train[i_trn])\n",
        "    p[i_val, :] = clf.predict_proba(X_tr_l2[i_val])\n",
        "    p_tst += clf.predict_proba(X_va_l2) / n_class\n",
        "\n",
        "print(f'Accuracy (CV): {accuracy_score(y_train, np.argmax(p, axis=1)) * 100:8.4f}%')\n",
        "print(f'Log Loss (CV): {log_loss(pd.get_dummies(y_train), p):8.4f}')"
      ],
      "metadata": {
        "colab": {
          "base_uri": "https://localhost:8080/"
        },
        "outputId": "4f1feed7-794b-4316-f1c5-e00f7438f45a",
        "id": "sxggF7iM8zzR"
      },
      "execution_count": null,
      "outputs": [
        {
          "output_type": "stream",
          "name": "stdout",
          "text": [
            "Accuracy (CV):  73.2484%\n",
            "Log Loss (CV):   0.7741\n"
          ]
        }
      ]
    },
    {
      "cell_type": "code",
      "source": [
        "sub = pd.read_csv(\"sample_submission.csv\", index_col=0)\n",
        "sub[sub.columns] = p_tst\n",
        "sub.to_csv(\"sub_1_tf_l2_o.csv\", index=True)"
      ],
      "metadata": {
        "id": "mzDFceYY8zzf"
      },
      "execution_count": null,
      "outputs": []
    },
    {
      "cell_type": "markdown",
      "source": [
        "3-4. TF-IDF + Lem + 문장부호x"
      ],
      "metadata": {
        "id": "zuJ9twCdpDVX"
      }
    },
    {
      "cell_type": "code",
      "source": [
        "vec = TfidfVectorizer()"
      ],
      "metadata": {
        "id": "KaV3Kt4KpDVW"
      },
      "execution_count": null,
      "outputs": []
    },
    {
      "cell_type": "code",
      "source": [
        "X_tr_l2 = vec.fit_transform(X_train_1['text_del'].astype(str))\n",
        "X_va_l2 = vec.transform(X_test_1['text_del'].astype(str))\n",
        "\n",
        "p = np.zeros((X_tr_l2.shape[0], n_class))\n",
        "p_tst = np.zeros((X_va_l2.shape[0], n_class))\n",
        "for i_cv, (i_trn, i_val) in enumerate(cv.split(X_tr_l2, y_train), 1):\n",
        "    clf = LogisticRegression()\n",
        "    clf.fit(X_tr_l2[i_trn], y_train[i_trn])\n",
        "    p[i_val, :] = clf.predict_proba(X_tr_l2[i_val])\n",
        "    p_tst += clf.predict_proba(X_va_l2) / n_class\n",
        "\n",
        "print(f'Accuracy (CV): {accuracy_score(y_train, np.argmax(p, axis=1)) * 100:8.4f}%')\n",
        "print(f'Log Loss (CV): {log_loss(pd.get_dummies(y_train), p):8.4f}')"
      ],
      "metadata": {
        "colab": {
          "base_uri": "https://localhost:8080/"
        },
        "id": "oMIhaWUapDVX",
        "outputId": "c2ebab3a-f00d-4714-dd4c-d8b05847f5cf"
      },
      "execution_count": null,
      "outputs": [
        {
          "output_type": "stream",
          "name": "stdout",
          "text": [
            "Accuracy (CV):  73.1518%\n",
            "Log Loss (CV):   0.7751\n"
          ]
        }
      ]
    },
    {
      "cell_type": "code",
      "source": [
        "sub = pd.read_csv(\"sample_submission.csv\", index_col=0)\n",
        "sub[sub.columns] = p_tst\n",
        "sub.to_csv(\"sub_1_tf_l2.csv\", index=True)"
      ],
      "metadata": {
        "id": "UgB8XvT3pDVX"
      },
      "execution_count": null,
      "outputs": []
    },
    {
      "cell_type": "markdown",
      "source": [
        "### 데이터셋 2(유빈)"
      ],
      "metadata": {
        "id": "0iw2j4N1cz0L"
      }
    },
    {
      "cell_type": "markdown",
      "source": [
        "2-4. CountVector + X_Lem + 문장부호x"
      ],
      "metadata": {
        "id": "4zHTepMnfFWC"
      }
    },
    {
      "cell_type": "code",
      "source": [
        "vec = CountVectorizer(ngram_range=(1, 2), min_df=100)"
      ],
      "metadata": {
        "id": "D7i8Qd1xfFWB"
      },
      "execution_count": null,
      "outputs": []
    },
    {
      "cell_type": "code",
      "source": [
        "X_tr_l2 = vec.fit_transform(X_train_2['L_x'].astype(str))\n",
        "X_va_l2 = vec.transform(X_test_2['L_x'].astype(str))\n",
        "\n",
        "p = np.zeros((X_tr_l2.shape[0], n_class))\n",
        "p_tst = np.zeros((X_va_l2.shape[0], n_class))\n",
        "for i_cv, (i_trn, i_val) in enumerate(cv.split(X_tr_l2, y_tr), 1):\n",
        "    clf = LogisticRegression()\n",
        "    clf.fit(X_tr_l2[i_trn], y_tr[i_trn])\n",
        "    p[i_val, :] = clf.predict_proba(X_tr_l2[i_val])\n",
        "    p_tst += clf.predict_proba(X_va_l2) / n_class\n",
        "\n",
        "print(f'Accuracy (CV): {accuracy_score(y_tr, np.argmax(p, axis=1)) * 100:8.4f}%')\n",
        "print(f'Log Loss (CV): {log_loss(pd.get_dummies(y_tr), p):8.4f}')"
      ],
      "metadata": {
        "id": "hgx0onFbfFWC"
      },
      "execution_count": null,
      "outputs": []
    },
    {
      "cell_type": "code",
      "source": [
        "sub = pd.read_csv(\"sample_submission.csv\", index_col=0)\n",
        "sub[sub.columns] = p_tst\n",
        "sub.to_csv(\"sub_2_bow_l2.csv\", index=False)"
      ],
      "metadata": {
        "id": "VIQlXRFqfFWC"
      },
      "execution_count": null,
      "outputs": []
    },
    {
      "cell_type": "markdown",
      "source": [
        "3-1. TF-IDF + X_Stem + 문장부호o"
      ],
      "metadata": {
        "id": "fhmRGN8BfFWC"
      }
    },
    {
      "cell_type": "code",
      "source": [
        "vec = TfidfVectorizer()"
      ],
      "metadata": {
        "id": "9BFEx1XYfFWC"
      },
      "execution_count": null,
      "outputs": []
    },
    {
      "cell_type": "code",
      "source": [
        "X_tr_s1 = vec.fit_transform(X_train_2['S_o'])\n",
        "X_va_s1 = vec.transform(X_test_2['S_o'])\n",
        "\n",
        "p = np.zeros((X_tr_s1.shape[0], n_class))\n",
        "p_tst = np.zeros((X_va_s1.shape[0], n_class))\n",
        "for i_cv, (i_trn, i_val) in enumerate(cv.split(X_tr_s1, y_train), 1):\n",
        "    clf = LogisticRegression()\n",
        "    clf.fit(X_tr_s1[i_trn], y_train[i_trn])\n",
        "    p[i_val, :] = clf.predict_proba(X_tr_s1[i_val])\n",
        "    p_tst += clf.predict_proba(X_va_s1) / n_class\n",
        "\n",
        "print(f'Accuracy (CV): {accuracy_score(y_train, np.argmax(p, axis=1)) * 100:8.4f}%')\n",
        "print(f'Log Loss (CV): {log_loss(pd.get_dummies(y_train), p):8.4f}')"
      ],
      "metadata": {
        "id": "DP6bW1kUhClm"
      },
      "execution_count": null,
      "outputs": []
    },
    {
      "cell_type": "code",
      "source": [
        "sub = pd.read_csv(\"sample_submission.csv\", index_col=0)\n",
        "sub[sub.columns] = p_tst\n",
        "sub.to_csv(\"sub_2_tf_s1.csv\", index=True)"
      ],
      "metadata": {
        "id": "rJuu2b4pfFWC"
      },
      "execution_count": null,
      "outputs": []
    },
    {
      "cell_type": "markdown",
      "source": [
        "3-2. TF-IDF + X_Stem + 문장부호x"
      ],
      "metadata": {
        "id": "FdNhx3cafFWC"
      }
    },
    {
      "cell_type": "code",
      "source": [
        "X_tr_s2 = vec.fit_transform(X_train_2['S_x'].astype(str))\n",
        "X_va_s2 = vec.transform(X_test_2['S_x'].astype(str))\n",
        "\n",
        "p = np.zeros((X_tr_s2.shape[0], n_class))\n",
        "p_tst = np.zeros((X_va_s2.shape[0], n_class))\n",
        "for i_cv, (i_trn, i_val) in enumerate(cv.split(X_tr_s2, y_train), 1):\n",
        "    clf = LogisticRegression()\n",
        "    clf.fit(X_tr_s2[i_trn], y_train[i_trn])\n",
        "    p[i_val, :] = clf.predict_proba(X_tr_s2[i_val])\n",
        "    p_tst += clf.predict_proba(X_va_s2) / n_class\n",
        "\n",
        "print(f'Accuracy (CV): {accuracy_score(y_train, np.argmax(p, axis=1)) * 100:8.4f}%')\n",
        "print(f'Log Loss (CV): {log_loss(pd.get_dummies(y_train), p):8.4f}')"
      ],
      "metadata": {
        "id": "4swFn83kfFWC"
      },
      "execution_count": null,
      "outputs": []
    },
    {
      "cell_type": "code",
      "source": [
        "sub = pd.read_csv(\"sample_submission.csv\", index_col=0)\n",
        "sub[sub.columns] = p_tst\n",
        "sub.to_csv(\"sub_2_tf_s2.csv\", index=True)"
      ],
      "metadata": {
        "id": "EA7-bGbnfFWC"
      },
      "execution_count": null,
      "outputs": []
    },
    {
      "cell_type": "markdown",
      "source": [
        "3-3. TF-IDF + Lem + 문장부호o"
      ],
      "metadata": {
        "id": "wak2sBVAfFWC"
      }
    },
    {
      "cell_type": "code",
      "source": [
        "X_tr_l1 = vec.fit_transform(X_train_2['L_o'])\n",
        "X_va_l1 = vec.transform(X_test_2['L_o'])\n",
        "\n",
        "p = np.zeros((X_tr_l1.shape[0], n_class))\n",
        "p_tst = np.zeros((X_va_l1.shape[0], n_class))\n",
        "for i_cv, (i_trn, i_val) in enumerate(cv.split(X_tr_l1, y_train), 1):\n",
        "    clf = LogisticRegression()\n",
        "    clf.fit(X_tr_l1[i_trn], y_train[i_trn])\n",
        "    p[i_val, :] = clf.predict_proba(X_tr_l1[i_val])\n",
        "    p_tst += clf.predict_proba(X_va_l1) / n_class\n",
        "\n",
        "print(f'Accuracy (CV): {accuracy_score(y_train, np.argmax(p, axis=1)) * 100:8.4f}%')\n",
        "print(f'Log Loss (CV): {log_loss(pd.get_dummies(y_train), p):8.4f}')"
      ],
      "metadata": {
        "colab": {
          "base_uri": "https://localhost:8080/"
        },
        "outputId": "13662577-9e1b-4240-dbff-15582b52dae7",
        "id": "w3fhzB-YfFWD"
      },
      "execution_count": null,
      "outputs": [
        {
          "output_type": "stream",
          "name": "stdout",
          "text": [
            "Accuracy (CV):  73.4416%\n",
            "Log Loss (CV):   0.7728\n"
          ]
        }
      ]
    },
    {
      "cell_type": "code",
      "source": [
        "sub = pd.read_csv(\"sample_submission.csv\", index_col=0)\n",
        "sub[sub.columns] = p_tst\n",
        "sub.to_csv(\"sub_2_tf_l1.csv\", index=False)"
      ],
      "metadata": {
        "id": "uDlPc7oxfFWD"
      },
      "execution_count": null,
      "outputs": []
    },
    {
      "cell_type": "markdown",
      "source": [
        "3-4. TF-IDF + Lem + 문장부호x"
      ],
      "metadata": {
        "id": "qT3ZVYUjfFWD"
      }
    },
    {
      "cell_type": "code",
      "source": [
        "X_tr_l2 = vec.fit_transform(X_train_2['L_x'].astype(str))\n",
        "X_va_l2 = vec.transform(X_test_2['L_x'].astype(str))\n",
        "\n",
        "p = np.zeros((X_tr_l2.shape[0], n_class))\n",
        "p_tst = np.zeros((X_va_l2.shape[0], n_class))\n",
        "for i_cv, (i_trn, i_val) in enumerate(cv.split(X_tr_l2, y_train), 1):\n",
        "    clf = LogisticRegression()\n",
        "    clf.fit(X_tr_l2[i_trn], y_train[i_trn])\n",
        "    p[i_val, :] = clf.predict_proba(X_tr_l2[i_val])\n",
        "    p_tst += clf.predict_proba(X_va_l2) / n_class\n",
        "\n",
        "print(f'Accuracy (CV): {accuracy_score(y_train, np.argmax(p, axis=1)) * 100:8.4f}%')\n",
        "print(f'Log Loss (CV): {log_loss(pd.get_dummies(y_train), p):8.4f}')"
      ],
      "metadata": {
        "id": "l8LVCn__fFWD"
      },
      "execution_count": null,
      "outputs": []
    },
    {
      "cell_type": "code",
      "source": [
        "sub = pd.read_csv(\"sample_submission.csv\", index_col=0)\n",
        "sub[sub.columns] = p_tst\n",
        "sub.to_csv(\"sub_2_tf_l2.csv\", index=True)"
      ],
      "metadata": {
        "id": "KS_-CydPfFWD"
      },
      "execution_count": null,
      "outputs": []
    },
    {
      "cell_type": "markdown",
      "source": [
        "### 데이터셋 3(수빈)"
      ],
      "metadata": {
        "id": "tcS8wzJppzl2"
      }
    },
    {
      "cell_type": "code",
      "source": [
        "X_train_3.head()"
      ],
      "metadata": {
        "colab": {
          "base_uri": "https://localhost:8080/",
          "height": 206
        },
        "id": "bbQK9qGQwj9D",
        "outputId": "825f7083-7d76-42a3-e6c0-75d943d2b8bf"
      },
      "execution_count": null,
      "outputs": [
        {
          "output_type": "execute_result",
          "data": {
            "text/plain": [
              "                                                text  author  \\\n",
              "0  almost choke . much , much want say , strange ...       3   \n",
              "1                         “ sister ask , suppose ? ”       2   \n",
              "2  engage one day walk , peruse jane ’ s last let...       1   \n",
              "3  captain porch , keep carefully way treacherous...       4   \n",
              "4  “ mercy , gentlemen ! ” odin fling hand . “ do...       3   \n",
              "\n",
              "                                        text_delcode  \n",
              "0  almost choke much much want say strange exclam...  \n",
              "1                                 sister ask suppose  \n",
              "2  engage one day walk peruse janes last letter d...  \n",
              "3  captain porch keep carefully way treacherous s...  \n",
              "4  mercy gentlemen odin fling hand dont write any...  "
            ],
            "text/html": [
              "\n",
              "  <div id=\"df-249d7b24-423e-496a-a433-ecf9bdaddc11\">\n",
              "    <div class=\"colab-df-container\">\n",
              "      <div>\n",
              "<style scoped>\n",
              "    .dataframe tbody tr th:only-of-type {\n",
              "        vertical-align: middle;\n",
              "    }\n",
              "\n",
              "    .dataframe tbody tr th {\n",
              "        vertical-align: top;\n",
              "    }\n",
              "\n",
              "    .dataframe thead th {\n",
              "        text-align: right;\n",
              "    }\n",
              "</style>\n",
              "<table border=\"1\" class=\"dataframe\">\n",
              "  <thead>\n",
              "    <tr style=\"text-align: right;\">\n",
              "      <th></th>\n",
              "      <th>text</th>\n",
              "      <th>author</th>\n",
              "      <th>text_delcode</th>\n",
              "    </tr>\n",
              "  </thead>\n",
              "  <tbody>\n",
              "    <tr>\n",
              "      <th>0</th>\n",
              "      <td>almost choke . much , much want say , strange ...</td>\n",
              "      <td>3</td>\n",
              "      <td>almost choke much much want say strange exclam...</td>\n",
              "    </tr>\n",
              "    <tr>\n",
              "      <th>1</th>\n",
              "      <td>“ sister ask , suppose ? ”</td>\n",
              "      <td>2</td>\n",
              "      <td>sister ask suppose</td>\n",
              "    </tr>\n",
              "    <tr>\n",
              "      <th>2</th>\n",
              "      <td>engage one day walk , peruse jane ’ s last let...</td>\n",
              "      <td>1</td>\n",
              "      <td>engage one day walk peruse janes last letter d...</td>\n",
              "    </tr>\n",
              "    <tr>\n",
              "      <th>3</th>\n",
              "      <td>captain porch , keep carefully way treacherous...</td>\n",
              "      <td>4</td>\n",
              "      <td>captain porch keep carefully way treacherous s...</td>\n",
              "    </tr>\n",
              "    <tr>\n",
              "      <th>4</th>\n",
              "      <td>“ mercy , gentlemen ! ” odin fling hand . “ do...</td>\n",
              "      <td>3</td>\n",
              "      <td>mercy gentlemen odin fling hand dont write any...</td>\n",
              "    </tr>\n",
              "  </tbody>\n",
              "</table>\n",
              "</div>\n",
              "      <button class=\"colab-df-convert\" onclick=\"convertToInteractive('df-249d7b24-423e-496a-a433-ecf9bdaddc11')\"\n",
              "              title=\"Convert this dataframe to an interactive table.\"\n",
              "              style=\"display:none;\">\n",
              "        \n",
              "  <svg xmlns=\"http://www.w3.org/2000/svg\" height=\"24px\"viewBox=\"0 0 24 24\"\n",
              "       width=\"24px\">\n",
              "    <path d=\"M0 0h24v24H0V0z\" fill=\"none\"/>\n",
              "    <path d=\"M18.56 5.44l.94 2.06.94-2.06 2.06-.94-2.06-.94-.94-2.06-.94 2.06-2.06.94zm-11 1L8.5 8.5l.94-2.06 2.06-.94-2.06-.94L8.5 2.5l-.94 2.06-2.06.94zm10 10l.94 2.06.94-2.06 2.06-.94-2.06-.94-.94-2.06-.94 2.06-2.06.94z\"/><path d=\"M17.41 7.96l-1.37-1.37c-.4-.4-.92-.59-1.43-.59-.52 0-1.04.2-1.43.59L10.3 9.45l-7.72 7.72c-.78.78-.78 2.05 0 2.83L4 21.41c.39.39.9.59 1.41.59.51 0 1.02-.2 1.41-.59l7.78-7.78 2.81-2.81c.8-.78.8-2.07 0-2.86zM5.41 20L4 18.59l7.72-7.72 1.47 1.35L5.41 20z\"/>\n",
              "  </svg>\n",
              "      </button>\n",
              "      \n",
              "  <style>\n",
              "    .colab-df-container {\n",
              "      display:flex;\n",
              "      flex-wrap:wrap;\n",
              "      gap: 12px;\n",
              "    }\n",
              "\n",
              "    .colab-df-convert {\n",
              "      background-color: #E8F0FE;\n",
              "      border: none;\n",
              "      border-radius: 50%;\n",
              "      cursor: pointer;\n",
              "      display: none;\n",
              "      fill: #1967D2;\n",
              "      height: 32px;\n",
              "      padding: 0 0 0 0;\n",
              "      width: 32px;\n",
              "    }\n",
              "\n",
              "    .colab-df-convert:hover {\n",
              "      background-color: #E2EBFA;\n",
              "      box-shadow: 0px 1px 2px rgba(60, 64, 67, 0.3), 0px 1px 3px 1px rgba(60, 64, 67, 0.15);\n",
              "      fill: #174EA6;\n",
              "    }\n",
              "\n",
              "    [theme=dark] .colab-df-convert {\n",
              "      background-color: #3B4455;\n",
              "      fill: #D2E3FC;\n",
              "    }\n",
              "\n",
              "    [theme=dark] .colab-df-convert:hover {\n",
              "      background-color: #434B5C;\n",
              "      box-shadow: 0px 1px 3px 1px rgba(0, 0, 0, 0.15);\n",
              "      filter: drop-shadow(0px 1px 2px rgba(0, 0, 0, 0.3));\n",
              "      fill: #FFFFFF;\n",
              "    }\n",
              "  </style>\n",
              "\n",
              "      <script>\n",
              "        const buttonEl =\n",
              "          document.querySelector('#df-249d7b24-423e-496a-a433-ecf9bdaddc11 button.colab-df-convert');\n",
              "        buttonEl.style.display =\n",
              "          google.colab.kernel.accessAllowed ? 'block' : 'none';\n",
              "\n",
              "        async function convertToInteractive(key) {\n",
              "          const element = document.querySelector('#df-249d7b24-423e-496a-a433-ecf9bdaddc11');\n",
              "          const dataTable =\n",
              "            await google.colab.kernel.invokeFunction('convertToInteractive',\n",
              "                                                     [key], {});\n",
              "          if (!dataTable) return;\n",
              "\n",
              "          const docLinkHtml = 'Like what you see? Visit the ' +\n",
              "            '<a target=\"_blank\" href=https://colab.research.google.com/notebooks/data_table.ipynb>data table notebook</a>'\n",
              "            + ' to learn more about interactive tables.';\n",
              "          element.innerHTML = '';\n",
              "          dataTable['output_type'] = 'display_data';\n",
              "          await google.colab.output.renderOutput(dataTable, element);\n",
              "          const docLink = document.createElement('div');\n",
              "          docLink.innerHTML = docLinkHtml;\n",
              "          element.appendChild(docLink);\n",
              "        }\n",
              "      </script>\n",
              "    </div>\n",
              "  </div>\n",
              "  "
            ]
          },
          "metadata": {},
          "execution_count": 28
        }
      ]
    },
    {
      "cell_type": "markdown",
      "source": [
        "2-4. CountVector + X_Lem + 문장부호x"
      ],
      "metadata": {
        "id": "2ye0mXeYp4U4"
      }
    },
    {
      "cell_type": "code",
      "source": [
        "X_tr_l2 = vec.fit_transform(X_train_3['text_delcode'].astype(str))\n",
        "X_va_l2 = vec.transform(X_test_3['text_delcode'].astype(str))\n",
        "\n",
        "p = np.zeros((X_tr_l2.shape[0], n_class))\n",
        "p_tst = np.zeros((X_va_l2.shape[0], n_class))\n",
        "for i_cv, (i_trn, i_val) in enumerate(cv.split(X_tr_l2, y_train), 1):\n",
        "    clf = LogisticRegression()\n",
        "    clf.fit(X_tr_l2[i_trn], y_train[i_trn])\n",
        "    p[i_val, :] = clf.predict_proba(X_tr_l2[i_val])\n",
        "    p_tst += clf.predict_proba(X_va_l2) / n_class\n",
        "\n",
        "print(f'Accuracy (CV): {accuracy_score(y_train, np.argmax(p, axis=1)) * 100:8.4f}%')\n",
        "print(f'Log Loss (CV): {log_loss(pd.get_dummies(y_train), p):8.4f}')"
      ],
      "metadata": {
        "colab": {
          "base_uri": "https://localhost:8080/"
        },
        "id": "KFgUj6P0p4U5",
        "outputId": "5a8b30a2-2fe6-4127-83e8-f4aba5276b54"
      },
      "execution_count": null,
      "outputs": [
        {
          "output_type": "stream",
          "name": "stdout",
          "text": [
            "Accuracy (CV):  72.3719%\n",
            "Log Loss (CV):   0.8014\n"
          ]
        }
      ]
    },
    {
      "cell_type": "code",
      "source": [
        "sub = pd.read_csv(\"sample_submission.csv\", index_col=0)\n",
        "sub[sub.columns] = p_tst\n",
        "sub.to_csv(\"sub_3_bow_l2.csv\", index=False)"
      ],
      "metadata": {
        "id": "4UoH1jmtp4U6"
      },
      "execution_count": null,
      "outputs": []
    },
    {
      "cell_type": "markdown",
      "source": [
        "3-4. TF-IDF + Lem + 문장부호x"
      ],
      "metadata": {
        "id": "C0kf15N9pzAs"
      }
    },
    {
      "cell_type": "code",
      "source": [
        "X_tr_l2 = vec.fit_transform(X_train_3['text_delcode'].astype(str))\n",
        "X_va_l2 = vec.transform(X_test_3['text_delcode'].astype(str))\n",
        "\n",
        "p = np.zeros((X_tr_l2.shape[0], n_class))\n",
        "p_tst = np.zeros((X_va_l2.shape[0], n_class))\n",
        "for i_cv, (i_trn, i_val) in enumerate(cv.split(X_tr_l2, y_train), 1):\n",
        "    clf = LogisticRegression()\n",
        "    clf.fit(X_tr_l2[i_trn], y_train[i_trn])\n",
        "    p[i_val, :] = clf.predict_proba(X_tr_l2[i_val])\n",
        "    p_tst += clf.predict_proba(X_va_l2) / n_class\n",
        "\n",
        "print(f'Accuracy (CV): {accuracy_score(y_train, np.argmax(p, axis=1)) * 100:8.4f}%')\n",
        "print(f'Log Loss (CV): {log_loss(pd.get_dummies(y_train), p):8.4f}')"
      ],
      "metadata": {
        "colab": {
          "base_uri": "https://localhost:8080/"
        },
        "id": "XL_eLuyHpzAt",
        "outputId": "6e13942d-cae7-45ba-bfac-a5b2e6af415c"
      },
      "execution_count": null,
      "outputs": [
        {
          "output_type": "stream",
          "name": "stdout",
          "text": [
            "Accuracy (CV):  72.3719%\n",
            "Log Loss (CV):   0.8014\n"
          ]
        }
      ]
    },
    {
      "cell_type": "code",
      "source": [
        "sub = pd.read_csv(\"sample_submission.csv\", index_col=0)\n",
        "sub[sub.columns] = p_tst\n",
        "sub.to_csv(\"sub_3_tf_l2.csv\", index=True)"
      ],
      "metadata": {
        "id": "VOFHUNXJpzAt"
      },
      "execution_count": null,
      "outputs": []
    },
    {
      "cell_type": "markdown",
      "source": [
        "### 데이터셋 4(민경)"
      ],
      "metadata": {
        "id": "4VDfmjWaCWHJ"
      }
    },
    {
      "cell_type": "code",
      "source": [
        "X_train_4.info()"
      ],
      "metadata": {
        "colab": {
          "base_uri": "https://localhost:8080/"
        },
        "id": "PJNlxhiUOwxN",
        "outputId": "f6660603-b062-40e1-c020-d9d57d36fbd7"
      },
      "execution_count": null,
      "outputs": [
        {
          "output_type": "stream",
          "name": "stdout",
          "text": [
            "<class 'pandas.core.frame.DataFrame'>\n",
            "Int64Index: 54879 entries, 0 to 54878\n",
            "Data columns (total 4 columns):\n",
            " #   Column  Non-Null Count  Dtype \n",
            "---  ------  --------------  ----- \n",
            " 0   S_o     54879 non-null  object\n",
            " 1   S_x     54769 non-null  object\n",
            " 2   L_o     54879 non-null  object\n",
            " 3   L_x     54769 non-null  object\n",
            "dtypes: object(4)\n",
            "memory usage: 2.1+ MB\n"
          ]
        }
      ]
    },
    {
      "cell_type": "markdown",
      "source": [
        "1-1. OneHot + X_Stem + 문장부호o"
      ],
      "metadata": {
        "id": "SFOcxGG8CWHK"
      }
    },
    {
      "cell_type": "code",
      "source": [
        "tokenizer= Tokenizer()\n",
        "tokenizer.fit_on_texts(X_train_4['S_o']) # Tokenizer 에 데이터 실제로 입력\n",
        "sequences_train = tokenizer.texts_to_sequences(X_train_4['S_o'])    # 문장 내 모든 단어를 시퀀스 번호로 변환\n",
        "sequences_test = tokenizer.texts_to_sequences(X_test_4['S_o'])      # 문장 내 모든 단어를 시퀀스 번호로 변환\n",
        "\n",
        "word_index = tokenizer.word_index\n",
        "\n",
        "max_length = 150    \n",
        "padding_type='post'\n",
        "\n",
        "X_tr_s1 = pad_sequences(sequences_train, padding='post', maxlen=max_length)\n",
        "X_va_s1 = pad_sequences(sequences_test, padding=padding_type, maxlen=max_length)"
      ],
      "metadata": {
        "id": "f89hAmCBCWHL"
      },
      "execution_count": null,
      "outputs": []
    },
    {
      "cell_type": "code",
      "source": [
        "p = np.zeros((X_tr_s1.shape[0], n_class))\n",
        "p_tst = np.zeros((X_va_s1.shape[0], n_class))\n",
        "for i_cv, (i_trn, i_val) in enumerate(cv.split(X_tr_s1, y_train), 1):\n",
        "    clf = LogisticRegression()\n",
        "    clf.fit(X_tr_s1[i_trn], y_train[i_trn])\n",
        "    p[i_val, :] = clf.predict_proba(X_tr_s1[i_val])\n",
        "    p_tst += clf.predict_proba(X_va_s1) / n_class\n",
        "\n",
        "print(f'Accuracy (CV): {accuracy_score(y_train, np.argmax(p, axis=1)) * 100:8.4f}%')\n",
        "print(f'Log Loss (CV): {log_loss(pd.get_dummies(y_train), p):8.4f}')"
      ],
      "metadata": {
        "colab": {
          "base_uri": "https://localhost:8080/"
        },
        "outputId": "aaa3a93e-4213-494f-deb5-c7da5fa50f94",
        "id": "VfsjnlBwCWHM"
      },
      "execution_count": null,
      "outputs": [
        {
          "output_type": "stream",
          "name": "stdout",
          "text": [
            "Accuracy (CV):  29.1059%\n",
            "Log Loss (CV):   1.5815\n"
          ]
        }
      ]
    },
    {
      "cell_type": "code",
      "source": [
        "sub = pd.read_csv(\"sample_submission.csv\", index_col=0)\n",
        "sub[sub.columns] = p_tst\n",
        "sub.to_csv(\"sub_4_oh_s1.csv\", index=True)"
      ],
      "metadata": {
        "id": "ilR2i5P8CWHN"
      },
      "execution_count": null,
      "outputs": []
    },
    {
      "cell_type": "markdown",
      "source": [
        "1-2. OneHot + X_Stem + 문장부호x"
      ],
      "metadata": {
        "id": "qkB5lKpPCWHN"
      }
    },
    {
      "cell_type": "code",
      "source": [
        "tokenizer.fit_on_texts(X_train_2['S_x'].astype(str)) # Tokenizer 에 데이터 실제로 입력\n",
        "sequences_train = tokenizer.texts_to_sequences(X_train_2['S_x'].astype(str))    # 문장 내 모든 단어를 시퀀스 번호로 변환\n",
        "sequences_test = tokenizer.texts_to_sequences(X_test_2['S_x'].astype(str))      # 문장 내 모든 단어를 시퀀스 번호로 변환\n",
        "\n",
        "word_index = tokenizer.word_index\n",
        "\n",
        "max_length = 150    \n",
        "padding_type='post'\n",
        "\n",
        "X_tr_s2 = pad_sequences(sequences_train, padding='post', maxlen=max_length)\n",
        "X_va_s2 = pad_sequences(sequences_test, padding=padding_type, maxlen=max_length)"
      ],
      "metadata": {
        "id": "HAWlxZ1zCWHN"
      },
      "execution_count": null,
      "outputs": []
    },
    {
      "cell_type": "code",
      "source": [
        "p = np.zeros((X_tr_s2.shape[0], n_class))\n",
        "p_tst = np.zeros((X_va_s2.shape[0], n_class))\n",
        "for i_cv, (i_trn, i_val) in enumerate(cv.split(X_tr_s2, y_train), 1):\n",
        "    clf = LogisticRegression()\n",
        "    clf.fit(X_tr_s2[i_trn], y_train[i_trn])\n",
        "    p[i_val, :] = clf.predict_proba(X_tr_s2[i_val])\n",
        "    p_tst += clf.predict_proba(X_va_s2) / n_class\n",
        "\n",
        "print(f'Accuracy (CV): {accuracy_score(y_train, np.argmax(p, axis=1)) * 100:8.4f}%')\n",
        "print(f'Log Loss (CV): {log_loss(pd.get_dummies(y_train), p):8.4f}')"
      ],
      "metadata": {
        "colab": {
          "base_uri": "https://localhost:8080/"
        },
        "outputId": "4c6d5a2f-3143-42b9-b410-463d774b2e05",
        "id": "2lukVvBCCWHO"
      },
      "execution_count": null,
      "outputs": [
        {
          "output_type": "stream",
          "name": "stdout",
          "text": [
            "Accuracy (CV):  26.7826%\n",
            "Log Loss (CV):   1.5884\n"
          ]
        }
      ]
    },
    {
      "cell_type": "code",
      "source": [
        "sub = pd.read_csv(\"sample_submission.csv\", index_col=0)\n",
        "sub[sub.columns] = p_tst\n",
        "sub.to_csv(\"sub_2_oh_s2.csv\", index=True)"
      ],
      "metadata": {
        "id": "NVl8_x3FCWHO"
      },
      "execution_count": null,
      "outputs": []
    },
    {
      "cell_type": "markdown",
      "source": [
        "1-3. OneHot + X_Lem + 문장부호o"
      ],
      "metadata": {
        "id": "N3YYlC-HCWHO"
      }
    },
    {
      "cell_type": "code",
      "source": [
        "tokenizer.fit_on_texts(X_train_2['L_o']) # Tokenizer 에 데이터 실제로 입력\n",
        "sequences_train = tokenizer.texts_to_sequences(X_train_2['L_o'])    # 문장 내 모든 단어를 시퀀스 번호로 변환\n",
        "sequences_test = tokenizer.texts_to_sequences(X_test_2['L_o'])      # 문장 내 모든 단어를 시퀀스 번호로 변환\n",
        "\n",
        "word_index = tokenizer.word_index\n",
        "\n",
        "max_length = 150    \n",
        "padding_type='post'\n",
        "\n",
        "X_tr_l1 = pad_sequences(sequences_train, padding='post', maxlen=max_length)\n",
        "X_va_l1 = pad_sequences(sequences_test, padding=padding_type, maxlen=max_length)"
      ],
      "metadata": {
        "id": "tAFjujFZCWHO"
      },
      "execution_count": null,
      "outputs": []
    },
    {
      "cell_type": "code",
      "source": [
        "p = np.zeros((X_tr_l1.shape[0], n_class))\n",
        "p_tst = np.zeros((X_va_l1.shape[0], n_class))\n",
        "for i_cv, (i_trn, i_val) in enumerate(cv.split(X_tr_l1, y_train), 1):\n",
        "    clf = LogisticRegression()\n",
        "    clf.fit(X_tr_l1[i_trn], y_train[i_trn])\n",
        "    p[i_val, :] = clf.predict_proba(X_tr_l1[i_val])\n",
        "    p_tst += clf.predict_proba(X_va_l1) / n_class\n",
        "\n",
        "print(f'Accuracy (CV): {accuracy_score(y_train, np.argmax(p, axis=1)) * 100:8.4f}%')\n",
        "print(f'Log Loss (CV): {log_loss(pd.get_dummies(y_train), p):8.4f}')"
      ],
      "metadata": {
        "colab": {
          "base_uri": "https://localhost:8080/"
        },
        "outputId": "289ad37e-67c0-4999-bd2a-6786720f69eb",
        "id": "z3H57-miCWHO"
      },
      "execution_count": null,
      "outputs": [
        {
          "output_type": "stream",
          "name": "stdout",
          "text": [
            "Accuracy (CV):  28.6303%\n",
            "Log Loss (CV):   1.5856\n"
          ]
        }
      ]
    },
    {
      "cell_type": "code",
      "source": [
        "sub = pd.read_csv(\"sample_submission.csv\", index_col=0)\n",
        "sub[sub.columns] = p_tst\n",
        "sub.to_csv(\"sub_2_oh_l1.csv\", index=True)"
      ],
      "metadata": {
        "id": "vYuR3Jv8CWHP"
      },
      "execution_count": null,
      "outputs": []
    },
    {
      "cell_type": "markdown",
      "source": [
        "1-4. OneHot + X_Lem + 문장부호x"
      ],
      "metadata": {
        "id": "KLSEu61QCWHP"
      }
    },
    {
      "cell_type": "code",
      "source": [
        "tokenizer.fit_on_texts(X_train_2['L_x'].astype(str)) # Tokenizer 에 데이터 실제로 입력\n",
        "sequences_train = tokenizer.texts_to_sequences(X_train_2['L_x'].astype(str))    # 문장 내 모든 단어를 시퀀스 번호로 변환\n",
        "sequences_test = tokenizer.texts_to_sequences(X_test_2['L_x'].astype(str))      # 문장 내 모든 단어를 시퀀스 번호로 변환\n",
        "\n",
        "word_index = tokenizer.word_index\n",
        "\n",
        "max_length = 150    \n",
        "padding_type='post'\n",
        "\n",
        "X_tr_l2 = pad_sequences(sequences_train, padding='post', maxlen=max_length)\n",
        "X_va_l2 = pad_sequences(sequences_test, padding=padding_type, maxlen=max_length)"
      ],
      "metadata": {
        "id": "1fkFH_04CWHP"
      },
      "execution_count": null,
      "outputs": []
    },
    {
      "cell_type": "code",
      "source": [
        "p = np.zeros((X_tr_l2.shape[0], n_class))\n",
        "p_tst = np.zeros((X_va_l2.shape[0], n_class))\n",
        "for i_cv, (i_trn, i_val) in enumerate(cv.split(X_tr_l2, y_train), 1):\n",
        "    clf = LogisticRegression()\n",
        "    clf.fit(X_tr_l2[i_trn], y_train[i_trn])\n",
        "    p[i_val, :] = clf.predict_proba(X_tr_l2[i_val])\n",
        "    p_tst += clf.predict_proba(X_va_l2) / n_class\n",
        "\n",
        "print(f'Accuracy (CV): {accuracy_score(y_train, np.argmax(p, axis=1)) * 100:8.4f}%')\n",
        "print(f'Log Loss (CV): {log_loss(pd.get_dummies(y_train), p):8.4f}')"
      ],
      "metadata": {
        "colab": {
          "base_uri": "https://localhost:8080/"
        },
        "outputId": "840d39fe-a8df-499e-8fbc-b52aa7522816",
        "id": "YMny72UnCWHP"
      },
      "execution_count": null,
      "outputs": [
        {
          "output_type": "stream",
          "name": "stdout",
          "text": [
            "Accuracy (CV):  26.7443%\n",
            "Log Loss (CV):   1.5946\n"
          ]
        }
      ]
    },
    {
      "cell_type": "code",
      "source": [
        "sub = pd.read_csv(\"sample_submission.csv\", index_col=0)\n",
        "sub[sub.columns] = p_tst\n",
        "sub.to_csv(\"sub_2_oh_l2.csv\", index=True)"
      ],
      "metadata": {
        "id": "no_IJl1aCWHP"
      },
      "execution_count": null,
      "outputs": []
    },
    {
      "cell_type": "markdown",
      "source": [
        "3-1. TF-IDF + X_Stem + 문장부호o"
      ],
      "metadata": {
        "id": "-wAJJwnoCWHQ"
      }
    },
    {
      "cell_type": "code",
      "source": [
        "vec = TfidfVectorizer()"
      ],
      "metadata": {
        "id": "qYGQvh38CWHQ"
      },
      "execution_count": null,
      "outputs": []
    },
    {
      "cell_type": "code",
      "source": [
        "X_tr_s1 = vec.fit_transform(X_train_4['S_o'])\n",
        "X_va_s1 = vec.transform(X_test_4['S_o'])\n",
        "\n",
        "p = np.zeros((X_tr_s1.shape[0], n_class))\n",
        "p_tst = np.zeros((X_va_s1.shape[0], n_class))\n",
        "for i_cv, (i_trn, i_val) in enumerate(cv.split(X_tr_s1, y_train), 1):\n",
        "    clf = LogisticRegression()\n",
        "    clf.fit(X_tr_s1[i_trn], y_train[i_trn])\n",
        "    p[i_val, :] = clf.predict_proba(X_tr_s1[i_val])\n",
        "    p_tst += clf.predict_proba(X_va_s1) / n_class\n",
        "\n",
        "print(f'Accuracy (CV): {accuracy_score(y_train, np.argmax(p, axis=1)) * 100:8.4f}%')\n",
        "print(f'Log Loss (CV): {log_loss(pd.get_dummies(y_train), p):8.4f}')"
      ],
      "metadata": {
        "id": "_fdk1ewLCWHR",
        "colab": {
          "base_uri": "https://localhost:8080/"
        },
        "outputId": "770198b0-c2de-4e42-dddc-c2cd3a58d49a"
      },
      "execution_count": null,
      "outputs": [
        {
          "output_type": "stream",
          "name": "stdout",
          "text": [
            "Accuracy (CV):  71.9838%\n",
            "Log Loss (CV):   0.8089\n"
          ]
        }
      ]
    },
    {
      "cell_type": "code",
      "source": [
        "sub = pd.read_csv(\"sample_submission.csv\", index_col=0)\n",
        "sub[sub.columns] = p_tst\n",
        "sub.to_csv(\"sub_4_tf_s1.csv\", index=True)"
      ],
      "metadata": {
        "id": "b9cojMGMCWHR"
      },
      "execution_count": null,
      "outputs": []
    },
    {
      "cell_type": "markdown",
      "source": [
        "3-2. TF-IDF + X_Stem + 문장부호x"
      ],
      "metadata": {
        "id": "8dNeARU1CWHR"
      }
    },
    {
      "cell_type": "code",
      "source": [
        "X_tr_s2 = vec.fit_transform(X_train_4['S_x'].astype(str))\n",
        "X_va_s2 = vec.transform(X_test_4['S_x'].astype(str))\n",
        "\n",
        "p = np.zeros((X_tr_s2.shape[0], n_class))\n",
        "p_tst = np.zeros((X_va_s2.shape[0], n_class))\n",
        "for i_cv, (i_trn, i_val) in enumerate(cv.split(X_tr_s2, y_train), 1):\n",
        "    clf = LogisticRegression()\n",
        "    clf.fit(X_tr_s2[i_trn], y_train[i_trn])\n",
        "    p[i_val, :] = clf.predict_proba(X_tr_s2[i_val])\n",
        "    p_tst += clf.predict_proba(X_va_s2) / n_class\n",
        "\n",
        "print(f'Accuracy (CV): {accuracy_score(y_train, np.argmax(p, axis=1)) * 100:8.4f}%')\n",
        "print(f'Log Loss (CV): {log_loss(pd.get_dummies(y_train), p):8.4f}')"
      ],
      "metadata": {
        "id": "e7pL6mw8CWHR",
        "colab": {
          "base_uri": "https://localhost:8080/"
        },
        "outputId": "16570bb2-2fb0-4f6d-ed60-99743c124271"
      },
      "execution_count": null,
      "outputs": [
        {
          "output_type": "stream",
          "name": "stdout",
          "text": [
            "Accuracy (CV):  70.6864%\n",
            "Log Loss (CV):   0.8345\n"
          ]
        }
      ]
    },
    {
      "cell_type": "code",
      "source": [
        "sub = pd.read_csv(\"sample_submission.csv\", index_col=0)\n",
        "sub[sub.columns] = p_tst\n",
        "sub.to_csv(\"sub_4_tf_s2.csv\", index=True)"
      ],
      "metadata": {
        "id": "uDUgSVsdCWHR"
      },
      "execution_count": null,
      "outputs": []
    },
    {
      "cell_type": "markdown",
      "source": [
        "3-3. TF-IDF + Lem + 문장부호o"
      ],
      "metadata": {
        "id": "IWPMPOV6CWHR"
      }
    },
    {
      "cell_type": "code",
      "source": [
        "X_tr_l1 = vec.fit_transform(X_train_4['L_o'])\n",
        "X_va_l1 = vec.transform(X_test_4['L_o'])\n",
        "\n",
        "p = np.zeros((X_tr_l1.shape[0], n_class))\n",
        "p_tst = np.zeros((X_va_l1.shape[0], n_class))\n",
        "for i_cv, (i_trn, i_val) in enumerate(cv.split(X_tr_l1, y_train), 1):\n",
        "    clf = LogisticRegression()\n",
        "    clf.fit(X_tr_l1[i_trn], y_train[i_trn])\n",
        "    p[i_val, :] = clf.predict_proba(X_tr_l1[i_val])\n",
        "    p_tst += clf.predict_proba(X_va_l1) / n_class\n",
        "\n",
        "print(f'Accuracy (CV): {accuracy_score(y_train, np.argmax(p, axis=1)) * 100:8.4f}%')\n",
        "print(f'Log Loss (CV): {log_loss(pd.get_dummies(y_train), p):8.4f}')"
      ],
      "metadata": {
        "colab": {
          "base_uri": "https://localhost:8080/"
        },
        "outputId": "a2d50d0b-ad66-4b2e-f2f2-b707d2245343",
        "id": "UHDN6T2yCWHR"
      },
      "execution_count": null,
      "outputs": [
        {
          "output_type": "stream",
          "name": "stdout",
          "text": [
            "Accuracy (CV):  72.4448%\n",
            "Log Loss (CV):   0.8027\n"
          ]
        }
      ]
    },
    {
      "cell_type": "code",
      "source": [
        "sub = pd.read_csv(\"sample_submission.csv\", index_col=0)\n",
        "sub[sub.columns] = p_tst\n",
        "sub.to_csv(\"sub_4_tf_l1.csv\", index=False)"
      ],
      "metadata": {
        "id": "G_u5z-DvCWHR"
      },
      "execution_count": null,
      "outputs": []
    },
    {
      "cell_type": "markdown",
      "source": [
        "3-4. TF-IDF + Lem + 문장부호x"
      ],
      "metadata": {
        "id": "hFNRqhPqCWHS"
      }
    },
    {
      "cell_type": "code",
      "source": [
        "X_tr_l2 = vec.fit_transform(X_train_4['L_x'].astype(str))\n",
        "X_va_l2 = vec.transform(X_test_4['L_x'].astype(str))\n",
        "\n",
        "p = np.zeros((X_tr_l2.shape[0], n_class))\n",
        "p_tst = np.zeros((X_va_l2.shape[0], n_class))\n",
        "for i_cv, (i_trn, i_val) in enumerate(cv.split(X_tr_l2, y_train), 1):\n",
        "    clf = LogisticRegression()\n",
        "    clf.fit(X_tr_l2[i_trn], y_train[i_trn])\n",
        "    p[i_val, :] = clf.predict_proba(X_tr_l2[i_val])\n",
        "    p_tst += clf.predict_proba(X_va_l2) / n_class\n",
        "\n",
        "print(f'Accuracy (CV): {accuracy_score(y_train, np.argmax(p, axis=1)) * 100:8.4f}%')\n",
        "print(f'Log Loss (CV): {log_loss(pd.get_dummies(y_train), p):8.4f}')"
      ],
      "metadata": {
        "id": "Y_Ng96FeCWHS",
        "colab": {
          "base_uri": "https://localhost:8080/"
        },
        "outputId": "444e7486-6e2a-4e3c-93d6-d86cc0944984"
      },
      "execution_count": null,
      "outputs": [
        {
          "output_type": "stream",
          "name": "stdout",
          "text": [
            "Accuracy (CV):  71.3934%\n",
            "Log Loss (CV):   0.8299\n"
          ]
        }
      ]
    },
    {
      "cell_type": "code",
      "source": [
        "sub = pd.read_csv(\"sample_submission.csv\", index_col=0)\n",
        "sub[sub.columns] = p_tst\n",
        "sub.to_csv(\"sub_4_tf_l2.csv\", index=True)"
      ],
      "metadata": {
        "id": "LQFX8He4CWHS"
      },
      "execution_count": null,
      "outputs": []
    },
    {
      "cell_type": "markdown",
      "source": [
        "### 데이터셋 5(재령)"
      ],
      "metadata": {
        "id": "2YyRe1ptRSS7"
      }
    },
    {
      "cell_type": "markdown",
      "source": [
        "1-1. OneHot + X_Stem + 문장부호o"
      ],
      "metadata": {
        "id": "nWd1m3M0si9H"
      }
    },
    {
      "cell_type": "code",
      "source": [
        "# 문장부호 o\n",
        "tokenizer= Tokenizer()\n",
        "tokenizer.fit_on_texts(X_train_5['S_o']) # Tokenizer 에 데이터 실제로 입력\n",
        "sequences_train = tokenizer.texts_to_sequences(X_train_5['S_o'])    # 문장 내 모든 단어를 시퀀스 번호로 변환\n",
        "sequences_test = tokenizer.texts_to_sequences(X_test_5['S_o'])      # 문장 내 모든 단어를 시퀀스 번호로 변환\n",
        "\n",
        "word_index = tokenizer.word_index\n",
        "\n",
        "max_length = 150    \n",
        "padding_type='post'\n",
        "\n",
        "X_tr_s1 = pad_sequences(sequences_train, padding='post', maxlen=max_length)\n",
        "X_va_s1 = pad_sequences(sequences_test, padding=padding_type, maxlen=max_length)"
      ],
      "metadata": {
        "id": "XHCkJbUzxpSh"
      },
      "execution_count": null,
      "outputs": []
    },
    {
      "cell_type": "code",
      "source": [
        "p = np.zeros((X_tr_s1.shape[0], n_class))\n",
        "p_tst = np.zeros((X_va_s1.shape[0], n_class))\n",
        "for i_cv, (i_trn, i_val) in enumerate(cv.split(X_tr_s1, y_train), 1):\n",
        "    clf = LogisticRegression()\n",
        "    clf.fit(X_tr_s1[i_trn], y_train[i_trn])\n",
        "    p[i_val, :] = clf.predict_proba(X_tr_s1[i_val])\n",
        "    p_tst += clf.predict_proba(X_va_s1) / n_class\n",
        "\n",
        "print(f'Accuracy (CV): {accuracy_score(y_train, np.argmax(p, axis=1)) * 100:8.4f}%')\n",
        "print(f'Log Loss (CV): {log_loss(pd.get_dummies(y_train), p):8.4f}')"
      ],
      "metadata": {
        "id": "wYFYxum0SJKb"
      },
      "execution_count": null,
      "outputs": []
    },
    {
      "cell_type": "code",
      "source": [
        "sub = pd.read_csv(\"sample_submission.csv\", index_col=0)\n",
        "sub[sub.columns] = p_tst\n",
        "sub.to_csv(\"sub_5_oh_s1.csv\", index=False)"
      ],
      "metadata": {
        "id": "UOE6kVP2QtiL"
      },
      "execution_count": null,
      "outputs": []
    },
    {
      "cell_type": "markdown",
      "source": [
        "1-2. OneHot + X_Stem + 문장부호x"
      ],
      "metadata": {
        "id": "z-XIWEXStP2V"
      }
    },
    {
      "cell_type": "code",
      "source": [
        "tokenizer.fit_on_texts(X_train_5['S_x'].astype(str)) # Tokenizer 에 데이터 실제로 입력\n",
        "sequences_train = tokenizer.texts_to_sequences(X_train_5['S_x'].astype(str))    # 문장 내 모든 단어를 시퀀스 번호로 변환\n",
        "sequences_test = tokenizer.texts_to_sequences(X_test_5['S_x'].astype(str))      # 문장 내 모든 단어를 시퀀스 번호로 변환\n",
        "\n",
        "word_index = tokenizer.word_index\n",
        "\n",
        "max_length = 150    \n",
        "padding_type='post'\n",
        "\n",
        "X_tr_s2 = pad_sequences(sequences_train, padding='post', maxlen=max_length)\n",
        "X_va_s2 = pad_sequences(sequences_test, padding=padding_type, maxlen=max_length)"
      ],
      "metadata": {
        "id": "rGXc_iWZyTCD"
      },
      "execution_count": null,
      "outputs": []
    },
    {
      "cell_type": "code",
      "source": [
        "p = np.zeros((X_tr_s2.shape[0], n_class))\n",
        "p_tst = np.zeros((X_va_s2.shape[0], n_class))\n",
        "for i_cv, (i_trn, i_val) in enumerate(cv.split(X_tr_s2, y_train), 1):\n",
        "    clf = LogisticRegression()\n",
        "    clf.fit(X_tr_s2[i_trn], y_train[i_trn])\n",
        "    p[i_val, :] = clf.predict_proba(X_tr_s2[i_val])\n",
        "    p_tst += clf.predict_proba(X_va_s2) / n_class\n",
        "\n",
        "print(f'Accuracy (CV): {accuracy_score(y_train, np.argmax(p, axis=1)) * 100:8.4f}%')\n",
        "print(f'Log Loss (CV): {log_loss(pd.get_dummies(y_train), p):8.4f}')"
      ],
      "metadata": {
        "colab": {
          "base_uri": "https://localhost:8080/"
        },
        "id": "6T9tHtoMyTEu",
        "outputId": "88220e8f-b468-4811-f2ae-337199ec564c"
      },
      "execution_count": null,
      "outputs": [
        {
          "output_type": "stream",
          "name": "stdout",
          "text": [
            "Accuracy (CV):  29.1660%\n",
            "Log Loss (CV):   1.5809\n"
          ]
        }
      ]
    },
    {
      "cell_type": "code",
      "source": [
        "sub = pd.read_csv(\"sample_submission.csv\", index_col=0)\n",
        "sub[sub.columns] = p_tst\n",
        "sub.to_csv(\"sub_5_oh_s2.csv\", index=False)"
      ],
      "metadata": {
        "id": "tPYmVqJqQxQt"
      },
      "execution_count": null,
      "outputs": []
    },
    {
      "cell_type": "markdown",
      "source": [
        "1-3. OneHot + X_Lem + 문장부호o"
      ],
      "metadata": {
        "id": "Ov5yXz3ntP41"
      }
    },
    {
      "cell_type": "code",
      "source": [
        "tokenizer.fit_on_texts(X_train_5['L_o']) # Tokenizer 에 데이터 실제로 입력\n",
        "sequences_train = tokenizer.texts_to_sequences(X_train_5['L_o'])    # 문장 내 모든 단어를 시퀀스 번호로 변환\n",
        "sequences_test = tokenizer.texts_to_sequences(X_test_5['L_o'])      # 문장 내 모든 단어를 시퀀스 번호로 변환\n",
        "\n",
        "word_index = tokenizer.word_index\n",
        "\n",
        "max_length = 150    \n",
        "padding_type='post'\n",
        "\n",
        "X_tr_l1 = pad_sequences(sequences_train, padding='post', maxlen=max_length)\n",
        "X_va_l1 = pad_sequences(sequences_test, padding=padding_type, maxlen=max_length)"
      ],
      "metadata": {
        "id": "uORVYdJMy3AY"
      },
      "execution_count": null,
      "outputs": []
    },
    {
      "cell_type": "code",
      "source": [
        "p = np.zeros((X_tr_l1.shape[0], n_class))\n",
        "p_tst = np.zeros((X_va_l1.shape[0], n_class))\n",
        "for i_cv, (i_trn, i_val) in enumerate(cv.split(X_tr_l1, y_train), 1):\n",
        "    clf = LogisticRegression()\n",
        "    clf.fit(X_tr_l1[i_trn], y_train[i_trn])\n",
        "    p[i_val, :] = clf.predict_proba(X_tr_l1[i_val])\n",
        "    p_tst += clf.predict_proba(X_va_l1) / n_class\n",
        "\n",
        "print(f'Accuracy (CV): {accuracy_score(y_train, np.argmax(p, axis=1)) * 100:8.4f}%')\n",
        "print(f'Log Loss (CV): {log_loss(pd.get_dummies(y_train), p):8.4f}')"
      ],
      "metadata": {
        "colab": {
          "base_uri": "https://localhost:8080/"
        },
        "id": "2gU70cudy3DI",
        "outputId": "05f672a7-0ada-4d7c-f9d7-3f73387a229e"
      },
      "execution_count": null,
      "outputs": [
        {
          "output_type": "stream",
          "name": "stdout",
          "text": [
            "Accuracy (CV):  29.3026%\n",
            "Log Loss (CV):   1.5884\n"
          ]
        }
      ]
    },
    {
      "cell_type": "code",
      "source": [
        "sub = pd.read_csv(\"sample_submission.csv\", index_col=0)\n",
        "sub[sub.columns] = p_tst\n",
        "sub.to_csv(\"sub_5_oh_l1.csv\", index=False)"
      ],
      "metadata": {
        "id": "44_qvhflQzCL"
      },
      "execution_count": null,
      "outputs": []
    },
    {
      "cell_type": "markdown",
      "source": [
        "1-4. OneHot + X_Lem2"
      ],
      "metadata": {
        "id": "s8RtZO_htP7X"
      }
    },
    {
      "cell_type": "code",
      "source": [
        "tokenizer.fit_on_texts(X_train_5['L_x'].astype(str)) # Tokenizer 에 데이터 실제로 입력\n",
        "sequences_train = tokenizer.texts_to_sequences(X_train_5['L_x'].astype(str))    # 문장 내 모든 단어를 시퀀스 번호로 변환\n",
        "sequences_test = tokenizer.texts_to_sequences(X_test_5['L_x'].astype(str))      # 문장 내 모든 단어를 시퀀스 번호로 변환\n",
        "\n",
        "word_index = tokenizer.word_index\n",
        "\n",
        "max_length = 150    \n",
        "padding_type='post'\n",
        "\n",
        "X_tr_l2 = pad_sequences(sequences_train, padding='post', maxlen=max_length)\n",
        "X_va_l2 = pad_sequences(sequences_test, padding=padding_type, maxlen=max_length)"
      ],
      "metadata": {
        "id": "3NpoS-pTyYp2"
      },
      "execution_count": null,
      "outputs": []
    },
    {
      "cell_type": "code",
      "source": [
        "p = np.zeros((X_tr_l2.shape[0], n_class))\n",
        "p_tst = np.zeros((X_va_l2.shape[0], n_class))\n",
        "for i_cv, (i_trn, i_val) in enumerate(cv.split(X_tr_l2, y_train), 1):\n",
        "    clf = LogisticRegression()\n",
        "    clf.fit(X_tr_l2[i_trn], y_train[i_trn])\n",
        "    p[i_val, :] = clf.predict_proba(X_tr_l2[i_val])\n",
        "    p_tst += clf.predict_proba(X_va_l2) / n_class\n",
        "\n",
        "print(f'Accuracy (CV): {accuracy_score(y_train, np.argmax(p, axis=1)) * 100:8.4f}%')\n",
        "print(f'Log Loss (CV): {log_loss(pd.get_dummies(y_train), p):8.4f}')"
      ],
      "metadata": {
        "colab": {
          "base_uri": "https://localhost:8080/"
        },
        "id": "4Y21ooLFzCof",
        "outputId": "4e2951d2-7901-4c41-eb20-8b08d70d47d8"
      },
      "execution_count": null,
      "outputs": [
        {
          "output_type": "stream",
          "name": "stdout",
          "text": [
            "Accuracy (CV):  29.2097%\n",
            "Log Loss (CV):   1.5883\n"
          ]
        }
      ]
    },
    {
      "cell_type": "code",
      "source": [
        "sub = pd.read_csv(\"sample_submission.csv\", index_col=0)\n",
        "sub[sub.columns] = p_tst\n",
        "sub.to_csv(\"sub_5_oh_l2.csv\", index=False)"
      ],
      "metadata": {
        "id": "zg-toJaeQ0mx"
      },
      "execution_count": null,
      "outputs": []
    },
    {
      "cell_type": "markdown",
      "source": [
        "2-1. CountVector + X_Stem1"
      ],
      "metadata": {
        "id": "b_V0cJtFtP9-"
      }
    },
    {
      "cell_type": "code",
      "source": [
        "vec = CountVectorizer(ngram_range=(1, 2), min_df=100)"
      ],
      "metadata": {
        "id": "xrdeyJzyu2EW"
      },
      "execution_count": null,
      "outputs": []
    },
    {
      "cell_type": "code",
      "source": [
        "X_tr_s1 = vec.fit_transform(X_train_5['S_o'])\n",
        "X_va_s1 = vec.transform(X_test_5['S_o'])\n",
        "\n",
        "p = np.zeros((X_tr_s1.shape[0], n_class))\n",
        "p_tst = np.zeros((X_va_s1.shape[0], n_class))\n",
        "for i_cv, (i_trn, i_val) in enumerate(cv.split(X_tr_s1, y_train), 1):\n",
        "    clf = LogisticRegression()\n",
        "    clf.fit(X_tr_s1[i_trn], y_train[i_trn])\n",
        "    p[i_val, :] = clf.predict_proba(X_tr_s1[i_val])\n",
        "    p_tst += clf.predict_proba(X_va_s1) / n_class\n",
        "\n",
        "print(f'Accuracy (CV): {accuracy_score(y_train, np.argmax(p, axis=1)) * 100:8.4f}%')\n",
        "print(f'Log Loss (CV): {log_loss(pd.get_dummies(y_train), p):8.4f}')"
      ],
      "metadata": {
        "colab": {
          "base_uri": "https://localhost:8080/"
        },
        "id": "f5upUzr5wDYd",
        "outputId": "9eb43554-36a4-494e-adfc-932e13bec566"
      },
      "execution_count": null,
      "outputs": [
        {
          "output_type": "stream",
          "name": "stdout",
          "text": [
            "Accuracy (CV):  64.6021%\n",
            "Log Loss (CV):   0.9235\n"
          ]
        }
      ]
    },
    {
      "cell_type": "code",
      "source": [
        "sub = pd.read_csv(\"sample_submission.csv\", index_col=0)\n",
        "sub[sub.columns] = p_tst\n",
        "sub.to_csv(\"sub_bow_s1.csv\", index=False)"
      ],
      "metadata": {
        "id": "NGVkcy6YQ2TT"
      },
      "execution_count": null,
      "outputs": []
    },
    {
      "cell_type": "markdown",
      "source": [
        "2-2. CountVector + X_Stem2"
      ],
      "metadata": {
        "id": "iSsXjJo4tQAj"
      }
    },
    {
      "cell_type": "code",
      "source": [
        "X_tr_s2 = vec.fit_transform(X_train_5['S_x'].astype(str))\n",
        "X_va_s2 = vec.transformX_(test_5['S_x'])\n",
        "\n",
        "p = np.zeros((X_tr_s2.shape[0], n_class))\n",
        "p_tst = np.zeros((X_va_s2.shape[0], n_class))\n",
        "for i_cv, (i_trn, i_val) in enumerate(cv.split(X_tr_s2, y_train), 1):\n",
        "    clf = LogisticRegression()\n",
        "    clf.fit(X_tr_s2[i_trn], y_train[i_trn])\n",
        "    p[i_val, :] = clf.predict_proba(X_tr_s2[i_val])\n",
        "    p_tst += clf.predict_proba(X_va_s2) / n_class\n",
        "\n",
        "print(f'Accuracy (CV): {accuracy_score(y_train, np.argmax(p, axis=1)) * 100:8.4f}%')\n",
        "print(f'Log Loss (CV): {log_loss(pd.get_dummies(y_train), p):8.4f}')"
      ],
      "metadata": {
        "colab": {
          "base_uri": "https://localhost:8080/"
        },
        "id": "QilQzuFWwF-7",
        "outputId": "de89c0be-ef20-4857-f9a6-4b6b7a5eceeb"
      },
      "execution_count": null,
      "outputs": [
        {
          "output_type": "stream",
          "name": "stdout",
          "text": [
            "Accuracy (CV):  64.6021%\n",
            "Log Loss (CV):   0.9235\n"
          ]
        }
      ]
    },
    {
      "cell_type": "code",
      "source": [
        "sub = pd.read_csv(\"sample_submission.csv\", index_col=0)\n",
        "sub[sub.columns] = p_tst\n",
        "sub.to_csv(\"sub_bow_s2.csv\", index=False)"
      ],
      "metadata": {
        "id": "HGa2DIqvQ6cs"
      },
      "execution_count": null,
      "outputs": []
    },
    {
      "cell_type": "markdown",
      "source": [
        "2-3. CountVector + X_Lem1"
      ],
      "metadata": {
        "id": "v6Nf4JeTvN3z"
      }
    },
    {
      "cell_type": "code",
      "source": [
        "X_tr_l1 = vec.fit_transform(X_train_5['L_o'])\n",
        "X_va_l1 = vec.transform(X_test_5['L_o'])\n",
        "\n",
        "p = np.zeros((X_tr_l1.shape[0], n_class))\n",
        "p_tst = np.zeros((X_va_l1.shape[0], n_class))\n",
        "for i_cv, (i_trn, i_val) in enumerate(cv.split(X_tr_l1, y_train), 1):\n",
        "    clf = LogisticRegression()\n",
        "    clf.fit(X_tr_l1[i_trn], y_train[i_trn])\n",
        "    p[i_val, :] = clf.predict_proba(X_tr_l1[i_val])\n",
        "    p_tst += clf.predict_proba(X_va_l1) / n_class\n",
        "\n",
        "print(f'Accuracy (CV): {accuracy_score(y_train, np.argmax(p, axis=1)) * 100:8.4f}%')\n",
        "print(f'Log Loss (CV): {log_loss(pd.get_dummies(y_train), p):8.4f}')"
      ],
      "metadata": {
        "colab": {
          "base_uri": "https://localhost:8080/"
        },
        "id": "SU-arytnwI1H",
        "outputId": "47d726e3-7586-4c63-dae5-625bd13d277d"
      },
      "execution_count": null,
      "outputs": [
        {
          "output_type": "stream",
          "name": "stdout",
          "text": [
            "Accuracy (CV):  64.4873%\n",
            "Log Loss (CV):   0.9234\n"
          ]
        }
      ]
    },
    {
      "cell_type": "code",
      "source": [
        "sub = pd.read_csv(\"sample_submission.csv\", index_col=0)\n",
        "sub[sub.columns] = p_tst\n",
        "sub.to_csv(\"sub_bow_l1.csv\", index=False)"
      ],
      "metadata": {
        "id": "CEVYcBA7Q72a"
      },
      "execution_count": null,
      "outputs": []
    },
    {
      "cell_type": "markdown",
      "source": [
        "2-4. CountVector + X_Lem2"
      ],
      "metadata": {
        "id": "L3rfUdaqtQCq"
      }
    },
    {
      "cell_type": "code",
      "source": [
        "X_tr_l2 = vec.fit_transform(X_train_5['L_x'].astype(str))\n",
        "X_va_l2 = vec.transform(X_test_5['L_x'].astype(str))\n",
        "\n",
        "p = np.zeros((X_tr_l2.shape[0], n_class))\n",
        "p_tst = np.zeros((X_va_l2.shape[0], n_class))\n",
        "for i_cv, (i_trn, i_val) in enumerate(cv.split(X_tr_l2, y_train), 1):\n",
        "    clf = LogisticRegression()\n",
        "    clf.fit(X_tr_l2[i_trn], y_train[i_trn])\n",
        "    p[i_val, :] = clf.predict_proba(X_tr_l2[i_val])\n",
        "    p_tst += clf.predict_proba(X_va_l2) / n_class\n",
        "\n",
        "print(f'Accuracy (CV): {accuracy_score(y_train, np.argmax(p, axis=1)) * 100:8.4f}%')\n",
        "print(f'Log Loss (CV): {log_loss(pd.get_dummies(y_train), p):8.4f}')"
      ],
      "metadata": {
        "colab": {
          "base_uri": "https://localhost:8080/"
        },
        "id": "QRDfnL4swKfC",
        "outputId": "f577fc1b-95a1-4b84-81f5-6797e48f821f"
      },
      "execution_count": null,
      "outputs": [
        {
          "output_type": "stream",
          "name": "stdout",
          "text": [
            "Accuracy (CV):  64.4873%\n",
            "Log Loss (CV):   0.9234\n"
          ]
        }
      ]
    },
    {
      "cell_type": "code",
      "source": [
        "sub = pd.read_csv(\"sample_submission.csv\", index_col=0)\n",
        "sub[sub.columns] = p_tst\n",
        "sub.to_csv(\"sub_bow_l2.csv\", index=False)"
      ],
      "metadata": {
        "id": "uuaFAefjQ9eK"
      },
      "execution_count": null,
      "outputs": []
    },
    {
      "cell_type": "markdown",
      "source": [
        "3-1. TF-IDF + X_Stem1"
      ],
      "metadata": {
        "id": "Ak_5_SqntG0_"
      }
    },
    {
      "cell_type": "code",
      "source": [
        "vec = TfidfVectorizer()"
      ],
      "metadata": {
        "id": "KLfEYaKwuwkS"
      },
      "execution_count": null,
      "outputs": []
    },
    {
      "cell_type": "code",
      "source": [
        "X_tr_s1 = vec.fit_transform(X_train_5['S_o'])\n",
        "X_va_s1 = vec.transform(X_test_5['S_o'])\n",
        "\n",
        "p = np.zeros((X_tr_s1.shape[0], n_class))\n",
        "p_tst = np.zeros((X_va_s1.shape[0], n_class))\n",
        "for i_cv, (i_trn, i_val) in enumerate(cv.split(X_tr_s1, y_train), 1):\n",
        "    clf = LogisticRegression()\n",
        "    clf.fit(X_tr_s1[i_trn], y_train[i_trn])\n",
        "    p[i_val, :] = clf.predict_proba(X_tr_s1[i_val])\n",
        "    p_tst += clf.predict_proba(X_va_s1) / n_class\n",
        "\n",
        "print(f'Accuracy (CV): {accuracy_score(y_train, np.argmax(p, axis=1)) * 100:8.4f}%')\n",
        "print(f'Log Loss (CV): {log_loss(pd.get_dummies(y_train), p):8.4f}')"
      ],
      "metadata": {
        "colab": {
          "base_uri": "https://localhost:8080/"
        },
        "id": "W7lJIG-ipf4A",
        "outputId": "c3f67002-43e8-4272-9db5-cf1886d31e5a"
      },
      "execution_count": null,
      "outputs": [
        {
          "output_type": "stream",
          "name": "stdout",
          "text": [
            "Accuracy (CV):  72.1606%\n",
            "Log Loss (CV):   0.8033\n"
          ]
        }
      ]
    },
    {
      "cell_type": "code",
      "source": [
        "sub = pd.read_csv(\"sample_submission.csv\", index_col=0)\n",
        "sub[sub.columns] = p_tst\n",
        "sub.to_csv(\"sub_tf_s1.csv\", index=False)"
      ],
      "metadata": {
        "id": "ovQaWp0c26N-"
      },
      "execution_count": null,
      "outputs": []
    },
    {
      "cell_type": "markdown",
      "source": [
        "3-2. TF-IDF + X_Stem2"
      ],
      "metadata": {
        "id": "zUCN7W0-spNw"
      }
    },
    {
      "cell_type": "code",
      "source": [
        "X_tr_s2 = vec.fit_transform(X_train_5['S_x'].astype(str))\n",
        "X_va_s2 = vec.transform(X_test_5['S_x'])\n",
        "\n",
        "p = np.zeros((X_tr_s2.shape[0], n_class))\n",
        "p_tst = np.zeros((X_va_s2.shape[0], n_class))\n",
        "for i_cv, (i_trn, i_val) in enumerate(cv.split(X_tr_s2, y_train), 1):\n",
        "    clf = LogisticRegression()\n",
        "    clf.fit(X_tr_s2[i_trn], y_train[i_trn])\n",
        "    p[i_val, :] = clf.predict_proba(X_tr_s2[i_val])\n",
        "    p_tst += clf.predict_proba(X_va_s2) / n_class\n",
        "\n",
        "print(f'Accuracy (CV): {accuracy_score(y_train, np.argmax(p, axis=1)) * 100:8.4f}%')\n",
        "print(f'Log Loss (CV): {log_loss(pd.get_dummies(y_train), p):8.4f}')"
      ],
      "metadata": {
        "colab": {
          "base_uri": "https://localhost:8080/"
        },
        "id": "-tbOfiv6spfH",
        "outputId": "52ab1e2c-74e6-4a01-add5-0f206756f36c"
      },
      "execution_count": null,
      "outputs": [
        {
          "output_type": "stream",
          "name": "stdout",
          "text": [
            "Accuracy (CV):  72.2553%\n",
            "Log Loss (CV):   0.7989\n"
          ]
        }
      ]
    },
    {
      "cell_type": "code",
      "source": [
        "sub = pd.read_csv(\"sample_submission.csv\", index_col=0)\n",
        "sub[sub.columns] = p_tst\n",
        "sub.to_csv(\"sub_tf_s2.csv\", index=False)"
      ],
      "metadata": {
        "id": "An1vi4Y11gE5"
      },
      "execution_count": null,
      "outputs": []
    },
    {
      "cell_type": "markdown",
      "source": [
        "3-3. TF-IDF + Lem1"
      ],
      "metadata": {
        "id": "Acnuuqkxspm7"
      }
    },
    {
      "cell_type": "code",
      "source": [
        "X_tr_l1 = vec.fit_transform(X_train_5['L_o'])\n",
        "X_va_l1 = vec.transform(X_test_5['L_o'])\n",
        "\n",
        "p = np.zeros((X_tr_l1.shape[0], n_class))\n",
        "p_tst = np.zeros((X_va_l1.shape[0], n_class))\n",
        "for i_cv, (i_trn, i_val) in enumerate(cv.split(X_tr_l1, y_train), 1):\n",
        "    clf = LogisticRegression()\n",
        "    clf.fit(X_tr_l1[i_trn], y_train[i_trn])\n",
        "    p[i_val, :] = clf.predict_proba(X_tr_l1[i_val])\n",
        "    p_tst += clf.predict_proba(X_va_l1) / n_class\n",
        "\n",
        "print(f'Accuracy (CV): {accuracy_score(y_train, np.argmax(p, axis=1)) * 100:8.4f}%')\n",
        "print(f'Log Loss (CV): {log_loss(pd.get_dummies(y_train), p):8.4f}')"
      ],
      "metadata": {
        "colab": {
          "base_uri": "https://localhost:8080/"
        },
        "id": "I5aeq3Pjspwn",
        "outputId": "8e8e69c5-d008-4374-df9f-0fc36e4c250b"
      },
      "execution_count": null,
      "outputs": [
        {
          "output_type": "stream",
          "name": "stdout",
          "text": [
            "Accuracy (CV):  72.7346%\n",
            "Log Loss (CV):   0.7963\n"
          ]
        }
      ]
    },
    {
      "cell_type": "code",
      "source": [
        "sub = pd.read_csv(\"sample_submission.csv\", index_col=0)\n",
        "sub[sub.columns] = p_tst\n",
        "sub.to_csv(\"sub_tf_l1.csv\", index=False)"
      ],
      "metadata": {
        "id": "Y_cfOPzq1iLQ"
      },
      "execution_count": null,
      "outputs": []
    },
    {
      "cell_type": "markdown",
      "source": [
        "3-4. TF-IDF + Lem2"
      ],
      "metadata": {
        "id": "m4ZvdEu0sp2k"
      }
    },
    {
      "cell_type": "code",
      "source": [
        "X_tr_l2 = vec.fit_transform(X_train_5['L_x'].astype(str))\n",
        "X_va_l2 = vec.transform(X_test_5['L_x'])\n",
        "\n",
        "p = np.zeros((X_tr_l2.shape[0], n_class))\n",
        "p_tst = np.zeros((X_va_l2.shape[0], n_class))\n",
        "for i_cv, (i_trn, i_val) in enumerate(cv.split(X_tr_l2, y_train), 1):\n",
        "    clf = LogisticRegression()\n",
        "    clf.fit(X_tr_l2[i_trn], y_train[i_trn])\n",
        "    p[i_val, :] = clf.predict_proba(X_tr_l2[i_val])\n",
        "    p_tst += clf.predict_proba(X_va_l2) / n_class\n",
        "\n",
        "print(f'Accuracy (CV): {accuracy_score(y_train, np.argmax(p, axis=1)) * 100:8.4f}%')\n",
        "print(f'Log Loss (CV): {log_loss(pd.get_dummies(y_train), p):8.4f}')"
      ],
      "metadata": {
        "colab": {
          "base_uri": "https://localhost:8080/"
        },
        "id": "enKMQ4mPsp9v",
        "outputId": "e7855360-3114-49f0-a737-c381df8a92aa"
      },
      "execution_count": null,
      "outputs": [
        {
          "output_type": "stream",
          "name": "stdout",
          "text": [
            "Accuracy (CV):  72.7838%\n",
            "Log Loss (CV):   0.7958\n"
          ]
        }
      ]
    },
    {
      "cell_type": "code",
      "source": [
        "sub = pd.read_csv(\"sample_submission.csv\", index_col=0)\n",
        "sub[sub.columns] = p_tst\n",
        "sub.to_csv(\"sub_tf_l2.csv\", index=False)"
      ],
      "metadata": {
        "id": "zUj1bgR11jlI"
      },
      "execution_count": null,
      "outputs": []
    },
    {
      "cell_type": "markdown",
      "source": [
        "## 2) XGBoost"
      ],
      "metadata": {
        "id": "2bt2GC7sPKs4"
      }
    },
    {
      "cell_type": "code",
      "source": [
        "import xgboost\n",
        "xgbt = xgboost.XGBClassifier(max_depth = 3, n_estimators = 200, learning_rate = 0.1, random_state = 777)"
      ],
      "metadata": {
        "id": "uuLPxRINlEej"
      },
      "execution_count": null,
      "outputs": []
    },
    {
      "cell_type": "markdown",
      "source": [
        "### 데이터셋1 (세영)"
      ],
      "metadata": {
        "id": "SDCmR2sRuuLD"
      }
    },
    {
      "cell_type": "code",
      "source": [
        "X_train_1 = pd.read_csv(\"/content/drive/My Drive/OB1조/프로젝트2/data/X_train_1.csv\", index_col=0)\n",
        "X_test_1 = pd.read_csv(\"/content/drive/My Drive/OB1조/프로젝트2/data/X_test_1.csv\", index_col=0)\n",
        "\n",
        "y_train_1 = X_train_1.author.values\n",
        "\n",
        "sample_submission = pd.read_csv('sample_submission.csv', index_col=0, encoding = 'utf-8')"
      ],
      "metadata": {
        "id": "xLywLn8E6tTU"
      },
      "execution_count": null,
      "outputs": []
    },
    {
      "cell_type": "code",
      "source": [
        "X_train_1.head()"
      ],
      "metadata": {
        "colab": {
          "base_uri": "https://localhost:8080/",
          "height": 368
        },
        "id": "wdUIh66N60W4",
        "outputId": "f98c6ae4-73d9-4d49-847d-d2be8a2e6b5d"
      },
      "execution_count": null,
      "outputs": [
        {
          "output_type": "execute_result",
          "data": {
            "text/plain": [
              "       author                                                S_o  \\\n",
              "index                                                              \n",
              "0           3  he wa almost choke . there wa so much , so muc...   \n",
              "1           2            “ your sister ask for it , i suppos ? ”   \n",
              "2           1  she wa engag one day as she walk , in perus ja...   \n",
              "3           4  the captain wa in the porch , keep himself car...   \n",
              "4           3  “ have merci , gentlemen ! ” odin flung up hi ...   \n",
              "\n",
              "                                                     S_x  \\\n",
              "index                                                      \n",
              "0      he wa almost choke there wa so much so much he...   \n",
              "1                        your sister ask for it i suppos   \n",
              "2      she wa engag one day as she walk in perus jane...   \n",
              "3      the captain wa in the porch keep himself care ...   \n",
              "4      have merci gentlemen odin flung up hi hand don...   \n",
              "\n",
              "                                                     L_o  \\\n",
              "index                                                      \n",
              "0      he be almost choke . there be so much , so muc...   \n",
              "1               “ your sister ask for it , i suppose ? ”   \n",
              "2      she be engage one day as she walk , in peruse ...   \n",
              "3      the captain be in the porch , keep himself car...   \n",
              "4      “ have mercy , gentlemen ! ” odin fling up his...   \n",
              "\n",
              "                                                     L_x  \n",
              "index                                                     \n",
              "0      he be almost choke there be so much so much he...  \n",
              "1                       your sister ask for it i suppose  \n",
              "2      she be engage one day as she walk in peruse ja...  \n",
              "3      the captain be in the porch keep himself caref...  \n",
              "4      have mercy gentlemen odin fling up his hand do...  "
            ],
            "text/html": [
              "\n",
              "  <div id=\"df-66f35f04-6f2d-4e67-90ee-0d40aae7b667\">\n",
              "    <div class=\"colab-df-container\">\n",
              "      <div>\n",
              "<style scoped>\n",
              "    .dataframe tbody tr th:only-of-type {\n",
              "        vertical-align: middle;\n",
              "    }\n",
              "\n",
              "    .dataframe tbody tr th {\n",
              "        vertical-align: top;\n",
              "    }\n",
              "\n",
              "    .dataframe thead th {\n",
              "        text-align: right;\n",
              "    }\n",
              "</style>\n",
              "<table border=\"1\" class=\"dataframe\">\n",
              "  <thead>\n",
              "    <tr style=\"text-align: right;\">\n",
              "      <th></th>\n",
              "      <th>author</th>\n",
              "      <th>S_o</th>\n",
              "      <th>S_x</th>\n",
              "      <th>L_o</th>\n",
              "      <th>L_x</th>\n",
              "    </tr>\n",
              "    <tr>\n",
              "      <th>index</th>\n",
              "      <th></th>\n",
              "      <th></th>\n",
              "      <th></th>\n",
              "      <th></th>\n",
              "      <th></th>\n",
              "    </tr>\n",
              "  </thead>\n",
              "  <tbody>\n",
              "    <tr>\n",
              "      <th>0</th>\n",
              "      <td>3</td>\n",
              "      <td>he wa almost choke . there wa so much , so muc...</td>\n",
              "      <td>he wa almost choke there wa so much so much he...</td>\n",
              "      <td>he be almost choke . there be so much , so muc...</td>\n",
              "      <td>he be almost choke there be so much so much he...</td>\n",
              "    </tr>\n",
              "    <tr>\n",
              "      <th>1</th>\n",
              "      <td>2</td>\n",
              "      <td>“ your sister ask for it , i suppos ? ”</td>\n",
              "      <td>your sister ask for it i suppos</td>\n",
              "      <td>“ your sister ask for it , i suppose ? ”</td>\n",
              "      <td>your sister ask for it i suppose</td>\n",
              "    </tr>\n",
              "    <tr>\n",
              "      <th>2</th>\n",
              "      <td>1</td>\n",
              "      <td>she wa engag one day as she walk , in perus ja...</td>\n",
              "      <td>she wa engag one day as she walk in perus jane...</td>\n",
              "      <td>she be engage one day as she walk , in peruse ...</td>\n",
              "      <td>she be engage one day as she walk in peruse ja...</td>\n",
              "    </tr>\n",
              "    <tr>\n",
              "      <th>3</th>\n",
              "      <td>4</td>\n",
              "      <td>the captain wa in the porch , keep himself car...</td>\n",
              "      <td>the captain wa in the porch keep himself care ...</td>\n",
              "      <td>the captain be in the porch , keep himself car...</td>\n",
              "      <td>the captain be in the porch keep himself caref...</td>\n",
              "    </tr>\n",
              "    <tr>\n",
              "      <th>4</th>\n",
              "      <td>3</td>\n",
              "      <td>“ have merci , gentlemen ! ” odin flung up hi ...</td>\n",
              "      <td>have merci gentlemen odin flung up hi hand don...</td>\n",
              "      <td>“ have mercy , gentlemen ! ” odin fling up his...</td>\n",
              "      <td>have mercy gentlemen odin fling up his hand do...</td>\n",
              "    </tr>\n",
              "  </tbody>\n",
              "</table>\n",
              "</div>\n",
              "      <button class=\"colab-df-convert\" onclick=\"convertToInteractive('df-66f35f04-6f2d-4e67-90ee-0d40aae7b667')\"\n",
              "              title=\"Convert this dataframe to an interactive table.\"\n",
              "              style=\"display:none;\">\n",
              "        \n",
              "  <svg xmlns=\"http://www.w3.org/2000/svg\" height=\"24px\"viewBox=\"0 0 24 24\"\n",
              "       width=\"24px\">\n",
              "    <path d=\"M0 0h24v24H0V0z\" fill=\"none\"/>\n",
              "    <path d=\"M18.56 5.44l.94 2.06.94-2.06 2.06-.94-2.06-.94-.94-2.06-.94 2.06-2.06.94zm-11 1L8.5 8.5l.94-2.06 2.06-.94-2.06-.94L8.5 2.5l-.94 2.06-2.06.94zm10 10l.94 2.06.94-2.06 2.06-.94-2.06-.94-.94-2.06-.94 2.06-2.06.94z\"/><path d=\"M17.41 7.96l-1.37-1.37c-.4-.4-.92-.59-1.43-.59-.52 0-1.04.2-1.43.59L10.3 9.45l-7.72 7.72c-.78.78-.78 2.05 0 2.83L4 21.41c.39.39.9.59 1.41.59.51 0 1.02-.2 1.41-.59l7.78-7.78 2.81-2.81c.8-.78.8-2.07 0-2.86zM5.41 20L4 18.59l7.72-7.72 1.47 1.35L5.41 20z\"/>\n",
              "  </svg>\n",
              "      </button>\n",
              "      \n",
              "  <style>\n",
              "    .colab-df-container {\n",
              "      display:flex;\n",
              "      flex-wrap:wrap;\n",
              "      gap: 12px;\n",
              "    }\n",
              "\n",
              "    .colab-df-convert {\n",
              "      background-color: #E8F0FE;\n",
              "      border: none;\n",
              "      border-radius: 50%;\n",
              "      cursor: pointer;\n",
              "      display: none;\n",
              "      fill: #1967D2;\n",
              "      height: 32px;\n",
              "      padding: 0 0 0 0;\n",
              "      width: 32px;\n",
              "    }\n",
              "\n",
              "    .colab-df-convert:hover {\n",
              "      background-color: #E2EBFA;\n",
              "      box-shadow: 0px 1px 2px rgba(60, 64, 67, 0.3), 0px 1px 3px 1px rgba(60, 64, 67, 0.15);\n",
              "      fill: #174EA6;\n",
              "    }\n",
              "\n",
              "    [theme=dark] .colab-df-convert {\n",
              "      background-color: #3B4455;\n",
              "      fill: #D2E3FC;\n",
              "    }\n",
              "\n",
              "    [theme=dark] .colab-df-convert:hover {\n",
              "      background-color: #434B5C;\n",
              "      box-shadow: 0px 1px 3px 1px rgba(0, 0, 0, 0.15);\n",
              "      filter: drop-shadow(0px 1px 2px rgba(0, 0, 0, 0.3));\n",
              "      fill: #FFFFFF;\n",
              "    }\n",
              "  </style>\n",
              "\n",
              "      <script>\n",
              "        const buttonEl =\n",
              "          document.querySelector('#df-66f35f04-6f2d-4e67-90ee-0d40aae7b667 button.colab-df-convert');\n",
              "        buttonEl.style.display =\n",
              "          google.colab.kernel.accessAllowed ? 'block' : 'none';\n",
              "\n",
              "        async function convertToInteractive(key) {\n",
              "          const element = document.querySelector('#df-66f35f04-6f2d-4e67-90ee-0d40aae7b667');\n",
              "          const dataTable =\n",
              "            await google.colab.kernel.invokeFunction('convertToInteractive',\n",
              "                                                     [key], {});\n",
              "          if (!dataTable) return;\n",
              "\n",
              "          const docLinkHtml = 'Like what you see? Visit the ' +\n",
              "            '<a target=\"_blank\" href=https://colab.research.google.com/notebooks/data_table.ipynb>data table notebook</a>'\n",
              "            + ' to learn more about interactive tables.';\n",
              "          element.innerHTML = '';\n",
              "          dataTable['output_type'] = 'display_data';\n",
              "          await google.colab.output.renderOutput(dataTable, element);\n",
              "          const docLink = document.createElement('div');\n",
              "          docLink.innerHTML = docLinkHtml;\n",
              "          element.appendChild(docLink);\n",
              "        }\n",
              "      </script>\n",
              "    </div>\n",
              "  </div>\n",
              "  "
            ]
          },
          "metadata": {},
          "execution_count": 9
        }
      ]
    },
    {
      "cell_type": "code",
      "source": [
        "X_test_1.head()"
      ],
      "metadata": {
        "colab": {
          "base_uri": "https://localhost:8080/",
          "height": 368
        },
        "id": "erEhTyhrvkbB",
        "outputId": "d30ccd8d-21c8-4090-ac9c-5d9c64b06c7a"
      },
      "execution_count": null,
      "outputs": [
        {
          "output_type": "execute_result",
          "data": {
            "text/plain": [
              "                                                     S_o  \\\n",
              "index                                                      \n",
              "0      “ not at all . i think she is one of the most ...   \n",
              "1      `` no , '' repli he , with sudden conscious , ...   \n",
              "2      as the ladi had state her intent of scream , o...   \n",
              "3      “ and then suddenli in the silenc i heard a so...   \n",
              "4      hi convict remain unchang . so far as i know -...   \n",
              "\n",
              "                                                     S_x  \\\n",
              "index                                                      \n",
              "0      not at all i think she is one of the most char...   \n",
              "1      no repli he with sudden conscious not to find ...   \n",
              "2      as the ladi had state her intent of scream of ...   \n",
              "3      and then suddenli in the silenc i heard a soun...   \n",
              "4      hi convict remain unchang so far as i knowand ...   \n",
              "\n",
              "                                                     L_o  \\\n",
              "index                                                      \n",
              "0      “ not at all . i think she be one of the most ...   \n",
              "1      `` no , '' reply he , with sudden consciousnes...   \n",
              "2      as the lady have state her intention of scream...   \n",
              "3      “ and then suddenly in the silence i hear a so...   \n",
              "4      his conviction remain unchanged . so far as i ...   \n",
              "\n",
              "                                                     L_x  \n",
              "index                                                     \n",
              "0      not at all i think she be one of the most char...  \n",
              "1      no reply he with sudden consciousness not to f...  \n",
              "2      as the lady have state her intention of scream...  \n",
              "3      and then suddenly in the silence i hear a soun...  \n",
              "4      his conviction remain unchanged so far as i kn...  "
            ],
            "text/html": [
              "\n",
              "  <div id=\"df-0ee61a9c-3c7a-40e2-a564-d61334d5f8bb\">\n",
              "    <div class=\"colab-df-container\">\n",
              "      <div>\n",
              "<style scoped>\n",
              "    .dataframe tbody tr th:only-of-type {\n",
              "        vertical-align: middle;\n",
              "    }\n",
              "\n",
              "    .dataframe tbody tr th {\n",
              "        vertical-align: top;\n",
              "    }\n",
              "\n",
              "    .dataframe thead th {\n",
              "        text-align: right;\n",
              "    }\n",
              "</style>\n",
              "<table border=\"1\" class=\"dataframe\">\n",
              "  <thead>\n",
              "    <tr style=\"text-align: right;\">\n",
              "      <th></th>\n",
              "      <th>S_o</th>\n",
              "      <th>S_x</th>\n",
              "      <th>L_o</th>\n",
              "      <th>L_x</th>\n",
              "    </tr>\n",
              "    <tr>\n",
              "      <th>index</th>\n",
              "      <th></th>\n",
              "      <th></th>\n",
              "      <th></th>\n",
              "      <th></th>\n",
              "    </tr>\n",
              "  </thead>\n",
              "  <tbody>\n",
              "    <tr>\n",
              "      <th>0</th>\n",
              "      <td>“ not at all . i think she is one of the most ...</td>\n",
              "      <td>not at all i think she is one of the most char...</td>\n",
              "      <td>“ not at all . i think she be one of the most ...</td>\n",
              "      <td>not at all i think she be one of the most char...</td>\n",
              "    </tr>\n",
              "    <tr>\n",
              "      <th>1</th>\n",
              "      <td>`` no , '' repli he , with sudden conscious , ...</td>\n",
              "      <td>no repli he with sudden conscious not to find ...</td>\n",
              "      <td>`` no , '' reply he , with sudden consciousnes...</td>\n",
              "      <td>no reply he with sudden consciousness not to f...</td>\n",
              "    </tr>\n",
              "    <tr>\n",
              "      <th>2</th>\n",
              "      <td>as the ladi had state her intent of scream , o...</td>\n",
              "      <td>as the ladi had state her intent of scream of ...</td>\n",
              "      <td>as the lady have state her intention of scream...</td>\n",
              "      <td>as the lady have state her intention of scream...</td>\n",
              "    </tr>\n",
              "    <tr>\n",
              "      <th>3</th>\n",
              "      <td>“ and then suddenli in the silenc i heard a so...</td>\n",
              "      <td>and then suddenli in the silenc i heard a soun...</td>\n",
              "      <td>“ and then suddenly in the silence i hear a so...</td>\n",
              "      <td>and then suddenly in the silence i hear a soun...</td>\n",
              "    </tr>\n",
              "    <tr>\n",
              "      <th>4</th>\n",
              "      <td>hi convict remain unchang . so far as i know -...</td>\n",
              "      <td>hi convict remain unchang so far as i knowand ...</td>\n",
              "      <td>his conviction remain unchanged . so far as i ...</td>\n",
              "      <td>his conviction remain unchanged so far as i kn...</td>\n",
              "    </tr>\n",
              "  </tbody>\n",
              "</table>\n",
              "</div>\n",
              "      <button class=\"colab-df-convert\" onclick=\"convertToInteractive('df-0ee61a9c-3c7a-40e2-a564-d61334d5f8bb')\"\n",
              "              title=\"Convert this dataframe to an interactive table.\"\n",
              "              style=\"display:none;\">\n",
              "        \n",
              "  <svg xmlns=\"http://www.w3.org/2000/svg\" height=\"24px\"viewBox=\"0 0 24 24\"\n",
              "       width=\"24px\">\n",
              "    <path d=\"M0 0h24v24H0V0z\" fill=\"none\"/>\n",
              "    <path d=\"M18.56 5.44l.94 2.06.94-2.06 2.06-.94-2.06-.94-.94-2.06-.94 2.06-2.06.94zm-11 1L8.5 8.5l.94-2.06 2.06-.94-2.06-.94L8.5 2.5l-.94 2.06-2.06.94zm10 10l.94 2.06.94-2.06 2.06-.94-2.06-.94-.94-2.06-.94 2.06-2.06.94z\"/><path d=\"M17.41 7.96l-1.37-1.37c-.4-.4-.92-.59-1.43-.59-.52 0-1.04.2-1.43.59L10.3 9.45l-7.72 7.72c-.78.78-.78 2.05 0 2.83L4 21.41c.39.39.9.59 1.41.59.51 0 1.02-.2 1.41-.59l7.78-7.78 2.81-2.81c.8-.78.8-2.07 0-2.86zM5.41 20L4 18.59l7.72-7.72 1.47 1.35L5.41 20z\"/>\n",
              "  </svg>\n",
              "      </button>\n",
              "      \n",
              "  <style>\n",
              "    .colab-df-container {\n",
              "      display:flex;\n",
              "      flex-wrap:wrap;\n",
              "      gap: 12px;\n",
              "    }\n",
              "\n",
              "    .colab-df-convert {\n",
              "      background-color: #E8F0FE;\n",
              "      border: none;\n",
              "      border-radius: 50%;\n",
              "      cursor: pointer;\n",
              "      display: none;\n",
              "      fill: #1967D2;\n",
              "      height: 32px;\n",
              "      padding: 0 0 0 0;\n",
              "      width: 32px;\n",
              "    }\n",
              "\n",
              "    .colab-df-convert:hover {\n",
              "      background-color: #E2EBFA;\n",
              "      box-shadow: 0px 1px 2px rgba(60, 64, 67, 0.3), 0px 1px 3px 1px rgba(60, 64, 67, 0.15);\n",
              "      fill: #174EA6;\n",
              "    }\n",
              "\n",
              "    [theme=dark] .colab-df-convert {\n",
              "      background-color: #3B4455;\n",
              "      fill: #D2E3FC;\n",
              "    }\n",
              "\n",
              "    [theme=dark] .colab-df-convert:hover {\n",
              "      background-color: #434B5C;\n",
              "      box-shadow: 0px 1px 3px 1px rgba(0, 0, 0, 0.15);\n",
              "      filter: drop-shadow(0px 1px 2px rgba(0, 0, 0, 0.3));\n",
              "      fill: #FFFFFF;\n",
              "    }\n",
              "  </style>\n",
              "\n",
              "      <script>\n",
              "        const buttonEl =\n",
              "          document.querySelector('#df-0ee61a9c-3c7a-40e2-a564-d61334d5f8bb button.colab-df-convert');\n",
              "        buttonEl.style.display =\n",
              "          google.colab.kernel.accessAllowed ? 'block' : 'none';\n",
              "\n",
              "        async function convertToInteractive(key) {\n",
              "          const element = document.querySelector('#df-0ee61a9c-3c7a-40e2-a564-d61334d5f8bb');\n",
              "          const dataTable =\n",
              "            await google.colab.kernel.invokeFunction('convertToInteractive',\n",
              "                                                     [key], {});\n",
              "          if (!dataTable) return;\n",
              "\n",
              "          const docLinkHtml = 'Like what you see? Visit the ' +\n",
              "            '<a target=\"_blank\" href=https://colab.research.google.com/notebooks/data_table.ipynb>data table notebook</a>'\n",
              "            + ' to learn more about interactive tables.';\n",
              "          element.innerHTML = '';\n",
              "          dataTable['output_type'] = 'display_data';\n",
              "          await google.colab.output.renderOutput(dataTable, element);\n",
              "          const docLink = document.createElement('div');\n",
              "          docLink.innerHTML = docLinkHtml;\n",
              "          element.appendChild(docLink);\n",
              "        }\n",
              "      </script>\n",
              "    </div>\n",
              "  </div>\n",
              "  "
            ]
          },
          "metadata": {},
          "execution_count": 10
        }
      ]
    },
    {
      "cell_type": "markdown",
      "source": [
        "#### Vectorization"
      ],
      "metadata": {
        "id": "p4sU6Gzot9ev"
      }
    },
    {
      "cell_type": "code",
      "source": [
        "from sklearn.feature_extraction.text import CountVectorizer\n",
        "\n",
        "cv1 = CountVectorizer(ngram_range=(1,2), max_df=0.5, min_df=2)\n",
        "cv2 = CountVectorizer(ngram_range=(1,3), max_df=0.5, min_df=2)  "
      ],
      "metadata": {
        "id": "outhTRCjuSL8"
      },
      "execution_count": null,
      "outputs": []
    },
    {
      "cell_type": "code",
      "source": [
        "from sklearn.feature_extraction.text import TfidfVectorizer\n",
        "\n",
        "tfidf = TfidfVectorizer(ngram_range=(1,2), min_df=5, max_df=0.5)"
      ],
      "metadata": {
        "id": "vBM5K7Kvtad6"
      },
      "execution_count": null,
      "outputs": []
    },
    {
      "cell_type": "markdown",
      "source": [
        "#### cv + stem + 문장부호 0"
      ],
      "metadata": {
        "id": "LPfg7XU4uAbH"
      }
    },
    {
      "cell_type": "markdown",
      "source": [
        "ngram (1,2)"
      ],
      "metadata": {
        "id": "DFFXYTPF4ZEi"
      }
    },
    {
      "cell_type": "code",
      "source": [
        "X_train1 = cv1.fit_transform(X_train_1['S_o'])\n",
        "X_test1 = cv1.transform(X_test_1['S_o'])"
      ],
      "metadata": {
        "id": "jtt4_8J_u-oT"
      },
      "execution_count": null,
      "outputs": []
    },
    {
      "cell_type": "code",
      "source": [
        "xgbt.fit(X_train1, y_train_1)"
      ],
      "metadata": {
        "colab": {
          "base_uri": "https://localhost:8080/",
          "height": 248
        },
        "id": "CE-mAlSguowJ",
        "outputId": "e57240bf-1ef0-406d-a910-49d8026d55bb"
      },
      "execution_count": null,
      "outputs": [
        {
          "output_type": "execute_result",
          "data": {
            "text/plain": [
              "XGBClassifier(base_score=None, booster=None, callbacks=None,\n",
              "              colsample_bylevel=None, colsample_bynode=None,\n",
              "              colsample_bytree=None, early_stopping_rounds=None,\n",
              "              enable_categorical=False, eval_metric=None, feature_types=None,\n",
              "              gamma=None, gpu_id=None, grow_policy=None, importance_type=None,\n",
              "              interaction_constraints=None, learning_rate=0.1, max_bin=None,\n",
              "              max_cat_threshold=None, max_cat_to_onehot=None,\n",
              "              max_delta_step=None, max_depth=3, max_leaves=None,\n",
              "              min_child_weight=None, missing=nan, monotone_constraints=None,\n",
              "              n_estimators=200, n_jobs=None, num_parallel_tree=None,\n",
              "              objective='multi:softprob', predictor=None, ...)"
            ],
            "text/html": [
              "<style>#sk-container-id-2 {color: black;background-color: white;}#sk-container-id-2 pre{padding: 0;}#sk-container-id-2 div.sk-toggleable {background-color: white;}#sk-container-id-2 label.sk-toggleable__label {cursor: pointer;display: block;width: 100%;margin-bottom: 0;padding: 0.3em;box-sizing: border-box;text-align: center;}#sk-container-id-2 label.sk-toggleable__label-arrow:before {content: \"▸\";float: left;margin-right: 0.25em;color: #696969;}#sk-container-id-2 label.sk-toggleable__label-arrow:hover:before {color: black;}#sk-container-id-2 div.sk-estimator:hover label.sk-toggleable__label-arrow:before {color: black;}#sk-container-id-2 div.sk-toggleable__content {max-height: 0;max-width: 0;overflow: hidden;text-align: left;background-color: #f0f8ff;}#sk-container-id-2 div.sk-toggleable__content pre {margin: 0.2em;color: black;border-radius: 0.25em;background-color: #f0f8ff;}#sk-container-id-2 input.sk-toggleable__control:checked~div.sk-toggleable__content {max-height: 200px;max-width: 100%;overflow: auto;}#sk-container-id-2 input.sk-toggleable__control:checked~label.sk-toggleable__label-arrow:before {content: \"▾\";}#sk-container-id-2 div.sk-estimator input.sk-toggleable__control:checked~label.sk-toggleable__label {background-color: #d4ebff;}#sk-container-id-2 div.sk-label input.sk-toggleable__control:checked~label.sk-toggleable__label {background-color: #d4ebff;}#sk-container-id-2 input.sk-hidden--visually {border: 0;clip: rect(1px 1px 1px 1px);clip: rect(1px, 1px, 1px, 1px);height: 1px;margin: -1px;overflow: hidden;padding: 0;position: absolute;width: 1px;}#sk-container-id-2 div.sk-estimator {font-family: monospace;background-color: #f0f8ff;border: 1px dotted black;border-radius: 0.25em;box-sizing: border-box;margin-bottom: 0.5em;}#sk-container-id-2 div.sk-estimator:hover {background-color: #d4ebff;}#sk-container-id-2 div.sk-parallel-item::after {content: \"\";width: 100%;border-bottom: 1px solid gray;flex-grow: 1;}#sk-container-id-2 div.sk-label:hover label.sk-toggleable__label {background-color: #d4ebff;}#sk-container-id-2 div.sk-serial::before {content: \"\";position: absolute;border-left: 1px solid gray;box-sizing: border-box;top: 0;bottom: 0;left: 50%;z-index: 0;}#sk-container-id-2 div.sk-serial {display: flex;flex-direction: column;align-items: center;background-color: white;padding-right: 0.2em;padding-left: 0.2em;position: relative;}#sk-container-id-2 div.sk-item {position: relative;z-index: 1;}#sk-container-id-2 div.sk-parallel {display: flex;align-items: stretch;justify-content: center;background-color: white;position: relative;}#sk-container-id-2 div.sk-item::before, #sk-container-id-2 div.sk-parallel-item::before {content: \"\";position: absolute;border-left: 1px solid gray;box-sizing: border-box;top: 0;bottom: 0;left: 50%;z-index: -1;}#sk-container-id-2 div.sk-parallel-item {display: flex;flex-direction: column;z-index: 1;position: relative;background-color: white;}#sk-container-id-2 div.sk-parallel-item:first-child::after {align-self: flex-end;width: 50%;}#sk-container-id-2 div.sk-parallel-item:last-child::after {align-self: flex-start;width: 50%;}#sk-container-id-2 div.sk-parallel-item:only-child::after {width: 0;}#sk-container-id-2 div.sk-dashed-wrapped {border: 1px dashed gray;margin: 0 0.4em 0.5em 0.4em;box-sizing: border-box;padding-bottom: 0.4em;background-color: white;}#sk-container-id-2 div.sk-label label {font-family: monospace;font-weight: bold;display: inline-block;line-height: 1.2em;}#sk-container-id-2 div.sk-label-container {text-align: center;}#sk-container-id-2 div.sk-container {/* jupyter's `normalize.less` sets `[hidden] { display: none; }` but bootstrap.min.css set `[hidden] { display: none !important; }` so we also need the `!important` here to be able to override the default hidden behavior on the sphinx rendered scikit-learn.org. See: https://github.com/scikit-learn/scikit-learn/issues/21755 */display: inline-block !important;position: relative;}#sk-container-id-2 div.sk-text-repr-fallback {display: none;}</style><div id=\"sk-container-id-2\" class=\"sk-top-container\"><div class=\"sk-text-repr-fallback\"><pre>XGBClassifier(base_score=None, booster=None, callbacks=None,\n",
              "              colsample_bylevel=None, colsample_bynode=None,\n",
              "              colsample_bytree=None, early_stopping_rounds=None,\n",
              "              enable_categorical=False, eval_metric=None, feature_types=None,\n",
              "              gamma=None, gpu_id=None, grow_policy=None, importance_type=None,\n",
              "              interaction_constraints=None, learning_rate=0.1, max_bin=None,\n",
              "              max_cat_threshold=None, max_cat_to_onehot=None,\n",
              "              max_delta_step=None, max_depth=3, max_leaves=None,\n",
              "              min_child_weight=None, missing=nan, monotone_constraints=None,\n",
              "              n_estimators=200, n_jobs=None, num_parallel_tree=None,\n",
              "              objective=&#x27;multi:softprob&#x27;, predictor=None, ...)</pre><b>In a Jupyter environment, please rerun this cell to show the HTML representation or trust the notebook. <br />On GitHub, the HTML representation is unable to render, please try loading this page with nbviewer.org.</b></div><div class=\"sk-container\" hidden><div class=\"sk-item\"><div class=\"sk-estimator sk-toggleable\"><input class=\"sk-toggleable__control sk-hidden--visually\" id=\"sk-estimator-id-2\" type=\"checkbox\" checked><label for=\"sk-estimator-id-2\" class=\"sk-toggleable__label sk-toggleable__label-arrow\">XGBClassifier</label><div class=\"sk-toggleable__content\"><pre>XGBClassifier(base_score=None, booster=None, callbacks=None,\n",
              "              colsample_bylevel=None, colsample_bynode=None,\n",
              "              colsample_bytree=None, early_stopping_rounds=None,\n",
              "              enable_categorical=False, eval_metric=None, feature_types=None,\n",
              "              gamma=None, gpu_id=None, grow_policy=None, importance_type=None,\n",
              "              interaction_constraints=None, learning_rate=0.1, max_bin=None,\n",
              "              max_cat_threshold=None, max_cat_to_onehot=None,\n",
              "              max_delta_step=None, max_depth=3, max_leaves=None,\n",
              "              min_child_weight=None, missing=nan, monotone_constraints=None,\n",
              "              n_estimators=200, n_jobs=None, num_parallel_tree=None,\n",
              "              objective=&#x27;multi:softprob&#x27;, predictor=None, ...)</pre></div></div></div></div></div>"
            ]
          },
          "metadata": {},
          "execution_count": 75
        }
      ]
    },
    {
      "cell_type": "code",
      "source": [
        "xgbt.score(X_train1, y_train_1)"
      ],
      "metadata": {
        "colab": {
          "base_uri": "https://localhost:8080/"
        },
        "id": "HM9OubqX3atL",
        "outputId": "21417b73-413a-41ee-f7db-7382d4d19053"
      },
      "execution_count": null,
      "outputs": [
        {
          "output_type": "execute_result",
          "data": {
            "text/plain": [
              "0.6127844895132929"
            ]
          },
          "metadata": {},
          "execution_count": 76
        }
      ]
    },
    {
      "cell_type": "code",
      "source": [
        "pred = xgbt.predict_proba(X_test1)\n",
        "\n",
        "# submission\n",
        "sample_submission[['0','1','2','3','4']] = pred\n",
        "sample_submission.to_csv('submission_1_cvSo.csv', index = True, encoding = 'utf-8')"
      ],
      "metadata": {
        "id": "XflwhEzT0TIe"
      },
      "execution_count": null,
      "outputs": []
    },
    {
      "cell_type": "markdown",
      "source": [
        "ngram (1,3) - 크게 차이 없으므로 ngram=(1,2) 이용"
      ],
      "metadata": {
        "id": "_1Id7tyG4Jad"
      }
    },
    {
      "cell_type": "code",
      "source": [
        "X_train1 = cv2.fit_transform(X_train_1['S_o'])\n",
        "X_test1 = cv2.transform(X_test_1['S_o'])"
      ],
      "metadata": {
        "id": "1F1hypEF3s3-"
      },
      "execution_count": null,
      "outputs": []
    },
    {
      "cell_type": "markdown",
      "source": [
        "#### cv + lem + 문장부호 0"
      ],
      "metadata": {
        "id": "Ex9ysggXuGIF"
      }
    },
    {
      "cell_type": "code",
      "source": [
        "X_train1 = cv1.fit_transform(X_train_1['L_o'])\n",
        "X_test1 = cv1.transform(X_test_1['L_o'])"
      ],
      "metadata": {
        "id": "DUu63V983lYX"
      },
      "execution_count": null,
      "outputs": []
    },
    {
      "cell_type": "code",
      "source": [
        "xgbt.fit(X_train1, y_train_1)\n",
        "xgbt.score(X_train1, y_train_1)"
      ],
      "metadata": {
        "colab": {
          "base_uri": "https://localhost:8080/"
        },
        "id": "3Jsg3n-f31KF",
        "outputId": "6d9e9cd8-6602-4c66-f0d1-67aa18b5baab"
      },
      "execution_count": null,
      "outputs": [
        {
          "output_type": "execute_result",
          "data": {
            "text/plain": [
              "0.6147888992146359"
            ]
          },
          "metadata": {},
          "execution_count": 82
        }
      ]
    },
    {
      "cell_type": "code",
      "source": [
        "pred = xgbt.predict_proba(X_test1)\n",
        "# submission\n",
        "sample_submission[['0','1','2','3','4']] = pred\n",
        "sample_submission.to_csv('submission_1_cvLo.csv', index = True, encoding = 'utf-8')"
      ],
      "metadata": {
        "id": "ccL2zxttAph6"
      },
      "execution_count": null,
      "outputs": []
    },
    {
      "cell_type": "markdown",
      "source": [
        "#### cv + lem + 문장부호 x \n",
        " L_x 결측값 존재"
      ],
      "metadata": {
        "id": "UTCato4MAjQd"
      }
    },
    {
      "cell_type": "code",
      "source": [
        "xgbt.fit(X_train1, y_train_1)\n",
        "xgbt.score(X_train1, y_train_1)"
      ],
      "metadata": {
        "colab": {
          "base_uri": "https://localhost:8080/"
        },
        "id": "n17XBOLj4JBc",
        "outputId": "6a193fd8-3d8c-4f34-f783-8ae5ea0eac42"
      },
      "execution_count": null,
      "outputs": [
        {
          "output_type": "execute_result",
          "data": {
            "text/plain": [
              "0.6121467227901383"
            ]
          },
          "metadata": {},
          "execution_count": 79
        }
      ]
    },
    {
      "cell_type": "code",
      "source": [
        "X_train_1['L_x'][X_train_1['L_x'].isna()]"
      ],
      "metadata": {
        "colab": {
          "base_uri": "https://localhost:8080/"
        },
        "id": "M2y684B7DLbc",
        "outputId": "7349d643-666e-4a4d-885b-019640efdd47"
      },
      "execution_count": null,
      "outputs": [
        {
          "output_type": "execute_result",
          "data": {
            "text/plain": [
              "index\n",
              "1455     NaN\n",
              "3493     NaN\n",
              "5523     NaN\n",
              "5985     NaN\n",
              "8400     NaN\n",
              "9874     NaN\n",
              "12267    NaN\n",
              "12460    NaN\n",
              "13055    NaN\n",
              "14698    NaN\n",
              "15958    NaN\n",
              "18475    NaN\n",
              "19802    NaN\n",
              "22532    NaN\n",
              "23137    NaN\n",
              "23211    NaN\n",
              "23829    NaN\n",
              "24589    NaN\n",
              "25719    NaN\n",
              "27424    NaN\n",
              "27575    NaN\n",
              "27811    NaN\n",
              "28023    NaN\n",
              "28224    NaN\n",
              "28917    NaN\n",
              "35594    NaN\n",
              "35754    NaN\n",
              "38536    NaN\n",
              "39121    NaN\n",
              "40152    NaN\n",
              "43324    NaN\n",
              "43464    NaN\n",
              "43686    NaN\n",
              "43706    NaN\n",
              "47345    NaN\n",
              "47525    NaN\n",
              "47699    NaN\n",
              "47783    NaN\n",
              "49308    NaN\n",
              "50326    NaN\n",
              "50343    NaN\n",
              "50963    NaN\n",
              "52675    NaN\n",
              "54750    NaN\n",
              "Name: L_x, dtype: object"
            ]
          },
          "metadata": {},
          "execution_count": 91
        }
      ]
    },
    {
      "cell_type": "code",
      "source": [
        "X_train_1.iloc[54750]"
      ],
      "metadata": {
        "colab": {
          "base_uri": "https://localhost:8080/"
        },
        "id": "EU1DOZGwFmsA",
        "outputId": "4c95cd5c-b7b7-4234-9183-5d500155a45c"
      },
      "execution_count": null,
      "outputs": [
        {
          "output_type": "execute_result",
          "data": {
            "text/plain": [
              "author            4\n",
              "S_o       * * * * *\n",
              "S_x             NaN\n",
              "L_o       * * * * *\n",
              "L_x             NaN\n",
              "Name: 54750, dtype: object"
            ]
          },
          "metadata": {},
          "execution_count": 99
        }
      ]
    },
    {
      "cell_type": "markdown",
      "source": [
        "#### tfidf + lem + 문장부호 0"
      ],
      "metadata": {
        "id": "VysKHtiqET7U"
      }
    },
    {
      "cell_type": "code",
      "source": [
        "X_train1 = tfidf.fit_transform(X_train_1['L_o'])\n",
        "X_test1 = tfidf.transform(X_test_1['L_o'])"
      ],
      "metadata": {
        "id": "EWP5YdDMET7g"
      },
      "execution_count": null,
      "outputs": []
    },
    {
      "cell_type": "code",
      "source": [
        "xgbt.fit(X_train1, y_train_1)\n",
        "xgbt.score(X_train1, y_train_1)"
      ],
      "metadata": {
        "colab": {
          "base_uri": "https://localhost:8080/"
        },
        "outputId": "47e99e67-8eba-43de-aa48-33d4b364d2e3",
        "id": "tXS2xYmmET7g"
      },
      "execution_count": null,
      "outputs": [
        {
          "output_type": "execute_result",
          "data": {
            "text/plain": [
              "0.6242642905300753"
            ]
          },
          "metadata": {},
          "execution_count": 95
        }
      ]
    },
    {
      "cell_type": "code",
      "source": [
        "pred = xgbt.predict_proba(X_test1)\n",
        "# submission\n",
        "sample_submission[['0','1','2','3','4']] = pred\n",
        "sample_submission.to_csv('submission_1_tfLo.csv', index = True, encoding = 'utf-8')"
      ],
      "metadata": {
        "id": "AGBw2taAET7h"
      },
      "execution_count": null,
      "outputs": []
    },
    {
      "cell_type": "markdown",
      "source": [
        "### 데이터셋2 (유빈)"
      ],
      "metadata": {
        "id": "YLbd5jZjuxpM"
      }
    },
    {
      "cell_type": "code",
      "source": [
        "X_train_2 = pd.read_csv(\"/content/drive/My Drive/OB1조/프로젝트2/data/20list untoken/train_lem2.csv\", index_col=0)\n",
        "X_test_2= pd.read_csv(\"/content/drive/My Drive/OB1조/프로젝트2/data/20list untoken/test_lem2.csv\",index_col=0)\n",
        "y_train_2 = X_train_2.author.values\n",
        "\n",
        "sample_submission = pd.read_csv('sample_submission.csv', index_col=0, encoding = 'utf-8')"
      ],
      "metadata": {
        "id": "QlBzU2gzshpq"
      },
      "execution_count": null,
      "outputs": []
    },
    {
      "cell_type": "code",
      "source": [
        "X_train_2.head()"
      ],
      "metadata": {
        "colab": {
          "base_uri": "https://localhost:8080/",
          "height": 455
        },
        "outputId": "6cd2e124-8184-4669-8543-30977b1df21b",
        "id": "qdZMIHJnshps"
      },
      "execution_count": null,
      "outputs": [
        {
          "output_type": "execute_result",
          "data": {
            "text/plain": [
              "                                                    text  author  \\\n",
              "index                                                              \n",
              "0      ['he', 'was', 'almost', 'choking', '.', 'there...       3   \n",
              "1      ['“', 'your', 'sister', 'asked', 'for', 'it', ...       2   \n",
              "2      ['she', 'was', 'engaged', 'one', 'day', 'as', ...       1   \n",
              "3      ['the', 'captain', 'was', 'in', 'the', 'porch'...       4   \n",
              "4      ['“', 'have', 'mercy', ',', 'gentlemen', '!', ...       3   \n",
              "\n",
              "                                                 stop_20  \\\n",
              "index                                                      \n",
              "0      ['almost', 'choking', '.', 'there', 'so', 'muc...   \n",
              "1      ['“', 'your', 'sister', 'asked', 'for', ',', '...   \n",
              "2      ['she', 'engaged', 'one', 'day', 'she', 'walke...   \n",
              "3      ['captain', 'porch', ',', 'keeping', 'himself'...   \n",
              "4      ['“', 'mercy', ',', 'gentlemen', '!', '”', 'od...   \n",
              "\n",
              "                                            stop_20_buho  \\\n",
              "index                                                      \n",
              "0      ['almost', 'choking', 'there', 'so', 'much', '...   \n",
              "1      ['your', 'sister', 'asked', 'for', 'i', 'suppo...   \n",
              "2      ['she', 'engaged', 'one', 'day', 'she', 'walke...   \n",
              "3      ['captain', 'porch', 'keeping', 'himself', 'ca...   \n",
              "4      ['mercy', 'gentlemen', 'odin', 'flung', 'up', ...   \n",
              "\n",
              "                                        text_Lem_stop_20  \\\n",
              "index                                                      \n",
              "0      almost choke . there so much , so much want sa...   \n",
              "1                  “ your sister ask for , i suppose ? ”   \n",
              "2      she engage one day she walk , peruse jane ’ s ...   \n",
              "3      captain porch , keep himself carefully out way...   \n",
              "4      “ mercy , gentlemen ! ” odin fling up hand . “...   \n",
              "\n",
              "                                   text_Lem_stop_20_buho  \n",
              "index                                                     \n",
              "0      almost choke there so much so much want say bu...  \n",
              "1                          your sister ask for i suppose  \n",
              "2      she engage one day she walk peruse jane s last...  \n",
              "3      captain porch keep himself carefully out way t...  \n",
              "4      mercy gentlemen odin fling up hand don t write...  "
            ],
            "text/html": [
              "\n",
              "  <div id=\"df-aae4bf56-0980-4742-9a02-febcd31a4698\">\n",
              "    <div class=\"colab-df-container\">\n",
              "      <div>\n",
              "<style scoped>\n",
              "    .dataframe tbody tr th:only-of-type {\n",
              "        vertical-align: middle;\n",
              "    }\n",
              "\n",
              "    .dataframe tbody tr th {\n",
              "        vertical-align: top;\n",
              "    }\n",
              "\n",
              "    .dataframe thead th {\n",
              "        text-align: right;\n",
              "    }\n",
              "</style>\n",
              "<table border=\"1\" class=\"dataframe\">\n",
              "  <thead>\n",
              "    <tr style=\"text-align: right;\">\n",
              "      <th></th>\n",
              "      <th>text</th>\n",
              "      <th>author</th>\n",
              "      <th>stop_20</th>\n",
              "      <th>stop_20_buho</th>\n",
              "      <th>text_Lem_stop_20</th>\n",
              "      <th>text_Lem_stop_20_buho</th>\n",
              "    </tr>\n",
              "    <tr>\n",
              "      <th>index</th>\n",
              "      <th></th>\n",
              "      <th></th>\n",
              "      <th></th>\n",
              "      <th></th>\n",
              "      <th></th>\n",
              "      <th></th>\n",
              "    </tr>\n",
              "  </thead>\n",
              "  <tbody>\n",
              "    <tr>\n",
              "      <th>0</th>\n",
              "      <td>['he', 'was', 'almost', 'choking', '.', 'there...</td>\n",
              "      <td>3</td>\n",
              "      <td>['almost', 'choking', '.', 'there', 'so', 'muc...</td>\n",
              "      <td>['almost', 'choking', 'there', 'so', 'much', '...</td>\n",
              "      <td>almost choke . there so much , so much want sa...</td>\n",
              "      <td>almost choke there so much so much want say bu...</td>\n",
              "    </tr>\n",
              "    <tr>\n",
              "      <th>1</th>\n",
              "      <td>['“', 'your', 'sister', 'asked', 'for', 'it', ...</td>\n",
              "      <td>2</td>\n",
              "      <td>['“', 'your', 'sister', 'asked', 'for', ',', '...</td>\n",
              "      <td>['your', 'sister', 'asked', 'for', 'i', 'suppo...</td>\n",
              "      <td>“ your sister ask for , i suppose ? ”</td>\n",
              "      <td>your sister ask for i suppose</td>\n",
              "    </tr>\n",
              "    <tr>\n",
              "      <th>2</th>\n",
              "      <td>['she', 'was', 'engaged', 'one', 'day', 'as', ...</td>\n",
              "      <td>1</td>\n",
              "      <td>['she', 'engaged', 'one', 'day', 'she', 'walke...</td>\n",
              "      <td>['she', 'engaged', 'one', 'day', 'she', 'walke...</td>\n",
              "      <td>she engage one day she walk , peruse jane ’ s ...</td>\n",
              "      <td>she engage one day she walk peruse jane s last...</td>\n",
              "    </tr>\n",
              "    <tr>\n",
              "      <th>3</th>\n",
              "      <td>['the', 'captain', 'was', 'in', 'the', 'porch'...</td>\n",
              "      <td>4</td>\n",
              "      <td>['captain', 'porch', ',', 'keeping', 'himself'...</td>\n",
              "      <td>['captain', 'porch', 'keeping', 'himself', 'ca...</td>\n",
              "      <td>captain porch , keep himself carefully out way...</td>\n",
              "      <td>captain porch keep himself carefully out way t...</td>\n",
              "    </tr>\n",
              "    <tr>\n",
              "      <th>4</th>\n",
              "      <td>['“', 'have', 'mercy', ',', 'gentlemen', '!', ...</td>\n",
              "      <td>3</td>\n",
              "      <td>['“', 'mercy', ',', 'gentlemen', '!', '”', 'od...</td>\n",
              "      <td>['mercy', 'gentlemen', 'odin', 'flung', 'up', ...</td>\n",
              "      <td>“ mercy , gentlemen ! ” odin fling up hand . “...</td>\n",
              "      <td>mercy gentlemen odin fling up hand don t write...</td>\n",
              "    </tr>\n",
              "  </tbody>\n",
              "</table>\n",
              "</div>\n",
              "      <button class=\"colab-df-convert\" onclick=\"convertToInteractive('df-aae4bf56-0980-4742-9a02-febcd31a4698')\"\n",
              "              title=\"Convert this dataframe to an interactive table.\"\n",
              "              style=\"display:none;\">\n",
              "        \n",
              "  <svg xmlns=\"http://www.w3.org/2000/svg\" height=\"24px\"viewBox=\"0 0 24 24\"\n",
              "       width=\"24px\">\n",
              "    <path d=\"M0 0h24v24H0V0z\" fill=\"none\"/>\n",
              "    <path d=\"M18.56 5.44l.94 2.06.94-2.06 2.06-.94-2.06-.94-.94-2.06-.94 2.06-2.06.94zm-11 1L8.5 8.5l.94-2.06 2.06-.94-2.06-.94L8.5 2.5l-.94 2.06-2.06.94zm10 10l.94 2.06.94-2.06 2.06-.94-2.06-.94-.94-2.06-.94 2.06-2.06.94z\"/><path d=\"M17.41 7.96l-1.37-1.37c-.4-.4-.92-.59-1.43-.59-.52 0-1.04.2-1.43.59L10.3 9.45l-7.72 7.72c-.78.78-.78 2.05 0 2.83L4 21.41c.39.39.9.59 1.41.59.51 0 1.02-.2 1.41-.59l7.78-7.78 2.81-2.81c.8-.78.8-2.07 0-2.86zM5.41 20L4 18.59l7.72-7.72 1.47 1.35L5.41 20z\"/>\n",
              "  </svg>\n",
              "      </button>\n",
              "      \n",
              "  <style>\n",
              "    .colab-df-container {\n",
              "      display:flex;\n",
              "      flex-wrap:wrap;\n",
              "      gap: 12px;\n",
              "    }\n",
              "\n",
              "    .colab-df-convert {\n",
              "      background-color: #E8F0FE;\n",
              "      border: none;\n",
              "      border-radius: 50%;\n",
              "      cursor: pointer;\n",
              "      display: none;\n",
              "      fill: #1967D2;\n",
              "      height: 32px;\n",
              "      padding: 0 0 0 0;\n",
              "      width: 32px;\n",
              "    }\n",
              "\n",
              "    .colab-df-convert:hover {\n",
              "      background-color: #E2EBFA;\n",
              "      box-shadow: 0px 1px 2px rgba(60, 64, 67, 0.3), 0px 1px 3px 1px rgba(60, 64, 67, 0.15);\n",
              "      fill: #174EA6;\n",
              "    }\n",
              "\n",
              "    [theme=dark] .colab-df-convert {\n",
              "      background-color: #3B4455;\n",
              "      fill: #D2E3FC;\n",
              "    }\n",
              "\n",
              "    [theme=dark] .colab-df-convert:hover {\n",
              "      background-color: #434B5C;\n",
              "      box-shadow: 0px 1px 3px 1px rgba(0, 0, 0, 0.15);\n",
              "      filter: drop-shadow(0px 1px 2px rgba(0, 0, 0, 0.3));\n",
              "      fill: #FFFFFF;\n",
              "    }\n",
              "  </style>\n",
              "\n",
              "      <script>\n",
              "        const buttonEl =\n",
              "          document.querySelector('#df-aae4bf56-0980-4742-9a02-febcd31a4698 button.colab-df-convert');\n",
              "        buttonEl.style.display =\n",
              "          google.colab.kernel.accessAllowed ? 'block' : 'none';\n",
              "\n",
              "        async function convertToInteractive(key) {\n",
              "          const element = document.querySelector('#df-aae4bf56-0980-4742-9a02-febcd31a4698');\n",
              "          const dataTable =\n",
              "            await google.colab.kernel.invokeFunction('convertToInteractive',\n",
              "                                                     [key], {});\n",
              "          if (!dataTable) return;\n",
              "\n",
              "          const docLinkHtml = 'Like what you see? Visit the ' +\n",
              "            '<a target=\"_blank\" href=https://colab.research.google.com/notebooks/data_table.ipynb>data table notebook</a>'\n",
              "            + ' to learn more about interactive tables.';\n",
              "          element.innerHTML = '';\n",
              "          dataTable['output_type'] = 'display_data';\n",
              "          await google.colab.output.renderOutput(dataTable, element);\n",
              "          const docLink = document.createElement('div');\n",
              "          docLink.innerHTML = docLinkHtml;\n",
              "          element.appendChild(docLink);\n",
              "        }\n",
              "      </script>\n",
              "    </div>\n",
              "  </div>\n",
              "  "
            ]
          },
          "metadata": {},
          "execution_count": 31
        }
      ]
    },
    {
      "cell_type": "code",
      "source": [
        "X_test_2.head()"
      ],
      "metadata": {
        "colab": {
          "base_uri": "https://localhost:8080/",
          "height": 385
        },
        "outputId": "3f8634e7-214a-4aaa-f2cf-ff5642ebae2b",
        "id": "zKtNq_GVshpt"
      },
      "execution_count": null,
      "outputs": [
        {
          "output_type": "execute_result",
          "data": {
            "text/plain": [
              "                                                    text  \\\n",
              "index                                                      \n",
              "0      ['“', 'not', 'at', 'all', '.', 'i', 'think', '...   \n",
              "1      ['``', 'no', ',', \"''\", 'replied', 'he', ',', ...   \n",
              "2      ['as', 'the', 'lady', 'had', 'stated', 'her', ...   \n",
              "3      ['“', 'and', 'then', 'suddenly', 'in', 'the', ...   \n",
              "4      ['his', 'conviction', 'remained', 'unchanged',...   \n",
              "\n",
              "                                                 stop_20  \\\n",
              "index                                                      \n",
              "0      ['“', 'all', '.', 'i', 'think', 'she', 'is', '...   \n",
              "1      ['``', 'no', ',', \"''\", 'replied', ',', 'sudde...   \n",
              "2      ['lady', 'stated', 'her', 'intention', 'scream...   \n",
              "3      ['“', 'then', 'suddenly', 'silence', 'i', 'hea...   \n",
              "4      ['conviction', 'remained', 'unchanged', '.', '...   \n",
              "\n",
              "                                            stop_20_buho  \\\n",
              "index                                                      \n",
              "0      ['all', 'i', 'think', 'she', 'is', 'one', 'mos...   \n",
              "1      ['no', 'replied', 'sudden', 'consciousness', '...   \n",
              "2      ['lady', 'stated', 'her', 'intention', 'scream...   \n",
              "3      ['then', 'suddenly', 'silence', 'i', 'heard', ...   \n",
              "4      ['conviction', 'remained', 'unchanged', 'so', ...   \n",
              "\n",
              "                                        text_Lem_stop_20  \\\n",
              "index                                                      \n",
              "0      “ all . i think she be one most charm young la...   \n",
              "1      `` no , '' reply , sudden consciousness , `` f...   \n",
              "2      lady state her intention scream , course she w...   \n",
              "3      “ then suddenly silence i hear sound which sen...   \n",
              "4      conviction remain unchanged . so far i know --...   \n",
              "\n",
              "                                   text_Lem_stop_20_buho  \n",
              "index                                                     \n",
              "0      all i think she be one most charm young ladies...  \n",
              "1      no reply sudden consciousness find for i can b...  \n",
              "2      lady state her intention scream course she wou...  \n",
              "3      then suddenly silence i hear sound which send ...  \n",
              "4      conviction remain unchanged so far i know i be...  "
            ],
            "text/html": [
              "\n",
              "  <div id=\"df-3ad598cb-e287-44e0-b96c-7ea2747afd52\">\n",
              "    <div class=\"colab-df-container\">\n",
              "      <div>\n",
              "<style scoped>\n",
              "    .dataframe tbody tr th:only-of-type {\n",
              "        vertical-align: middle;\n",
              "    }\n",
              "\n",
              "    .dataframe tbody tr th {\n",
              "        vertical-align: top;\n",
              "    }\n",
              "\n",
              "    .dataframe thead th {\n",
              "        text-align: right;\n",
              "    }\n",
              "</style>\n",
              "<table border=\"1\" class=\"dataframe\">\n",
              "  <thead>\n",
              "    <tr style=\"text-align: right;\">\n",
              "      <th></th>\n",
              "      <th>text</th>\n",
              "      <th>stop_20</th>\n",
              "      <th>stop_20_buho</th>\n",
              "      <th>text_Lem_stop_20</th>\n",
              "      <th>text_Lem_stop_20_buho</th>\n",
              "    </tr>\n",
              "    <tr>\n",
              "      <th>index</th>\n",
              "      <th></th>\n",
              "      <th></th>\n",
              "      <th></th>\n",
              "      <th></th>\n",
              "      <th></th>\n",
              "    </tr>\n",
              "  </thead>\n",
              "  <tbody>\n",
              "    <tr>\n",
              "      <th>0</th>\n",
              "      <td>['“', 'not', 'at', 'all', '.', 'i', 'think', '...</td>\n",
              "      <td>['“', 'all', '.', 'i', 'think', 'she', 'is', '...</td>\n",
              "      <td>['all', 'i', 'think', 'she', 'is', 'one', 'mos...</td>\n",
              "      <td>“ all . i think she be one most charm young la...</td>\n",
              "      <td>all i think she be one most charm young ladies...</td>\n",
              "    </tr>\n",
              "    <tr>\n",
              "      <th>1</th>\n",
              "      <td>['``', 'no', ',', \"''\", 'replied', 'he', ',', ...</td>\n",
              "      <td>['``', 'no', ',', \"''\", 'replied', ',', 'sudde...</td>\n",
              "      <td>['no', 'replied', 'sudden', 'consciousness', '...</td>\n",
              "      <td>`` no , '' reply , sudden consciousness , `` f...</td>\n",
              "      <td>no reply sudden consciousness find for i can b...</td>\n",
              "    </tr>\n",
              "    <tr>\n",
              "      <th>2</th>\n",
              "      <td>['as', 'the', 'lady', 'had', 'stated', 'her', ...</td>\n",
              "      <td>['lady', 'stated', 'her', 'intention', 'scream...</td>\n",
              "      <td>['lady', 'stated', 'her', 'intention', 'scream...</td>\n",
              "      <td>lady state her intention scream , course she w...</td>\n",
              "      <td>lady state her intention scream course she wou...</td>\n",
              "    </tr>\n",
              "    <tr>\n",
              "      <th>3</th>\n",
              "      <td>['“', 'and', 'then', 'suddenly', 'in', 'the', ...</td>\n",
              "      <td>['“', 'then', 'suddenly', 'silence', 'i', 'hea...</td>\n",
              "      <td>['then', 'suddenly', 'silence', 'i', 'heard', ...</td>\n",
              "      <td>“ then suddenly silence i hear sound which sen...</td>\n",
              "      <td>then suddenly silence i hear sound which send ...</td>\n",
              "    </tr>\n",
              "    <tr>\n",
              "      <th>4</th>\n",
              "      <td>['his', 'conviction', 'remained', 'unchanged',...</td>\n",
              "      <td>['conviction', 'remained', 'unchanged', '.', '...</td>\n",
              "      <td>['conviction', 'remained', 'unchanged', 'so', ...</td>\n",
              "      <td>conviction remain unchanged . so far i know --...</td>\n",
              "      <td>conviction remain unchanged so far i know i be...</td>\n",
              "    </tr>\n",
              "  </tbody>\n",
              "</table>\n",
              "</div>\n",
              "      <button class=\"colab-df-convert\" onclick=\"convertToInteractive('df-3ad598cb-e287-44e0-b96c-7ea2747afd52')\"\n",
              "              title=\"Convert this dataframe to an interactive table.\"\n",
              "              style=\"display:none;\">\n",
              "        \n",
              "  <svg xmlns=\"http://www.w3.org/2000/svg\" height=\"24px\"viewBox=\"0 0 24 24\"\n",
              "       width=\"24px\">\n",
              "    <path d=\"M0 0h24v24H0V0z\" fill=\"none\"/>\n",
              "    <path d=\"M18.56 5.44l.94 2.06.94-2.06 2.06-.94-2.06-.94-.94-2.06-.94 2.06-2.06.94zm-11 1L8.5 8.5l.94-2.06 2.06-.94-2.06-.94L8.5 2.5l-.94 2.06-2.06.94zm10 10l.94 2.06.94-2.06 2.06-.94-2.06-.94-.94-2.06-.94 2.06-2.06.94z\"/><path d=\"M17.41 7.96l-1.37-1.37c-.4-.4-.92-.59-1.43-.59-.52 0-1.04.2-1.43.59L10.3 9.45l-7.72 7.72c-.78.78-.78 2.05 0 2.83L4 21.41c.39.39.9.59 1.41.59.51 0 1.02-.2 1.41-.59l7.78-7.78 2.81-2.81c.8-.78.8-2.07 0-2.86zM5.41 20L4 18.59l7.72-7.72 1.47 1.35L5.41 20z\"/>\n",
              "  </svg>\n",
              "      </button>\n",
              "      \n",
              "  <style>\n",
              "    .colab-df-container {\n",
              "      display:flex;\n",
              "      flex-wrap:wrap;\n",
              "      gap: 12px;\n",
              "    }\n",
              "\n",
              "    .colab-df-convert {\n",
              "      background-color: #E8F0FE;\n",
              "      border: none;\n",
              "      border-radius: 50%;\n",
              "      cursor: pointer;\n",
              "      display: none;\n",
              "      fill: #1967D2;\n",
              "      height: 32px;\n",
              "      padding: 0 0 0 0;\n",
              "      width: 32px;\n",
              "    }\n",
              "\n",
              "    .colab-df-convert:hover {\n",
              "      background-color: #E2EBFA;\n",
              "      box-shadow: 0px 1px 2px rgba(60, 64, 67, 0.3), 0px 1px 3px 1px rgba(60, 64, 67, 0.15);\n",
              "      fill: #174EA6;\n",
              "    }\n",
              "\n",
              "    [theme=dark] .colab-df-convert {\n",
              "      background-color: #3B4455;\n",
              "      fill: #D2E3FC;\n",
              "    }\n",
              "\n",
              "    [theme=dark] .colab-df-convert:hover {\n",
              "      background-color: #434B5C;\n",
              "      box-shadow: 0px 1px 3px 1px rgba(0, 0, 0, 0.15);\n",
              "      filter: drop-shadow(0px 1px 2px rgba(0, 0, 0, 0.3));\n",
              "      fill: #FFFFFF;\n",
              "    }\n",
              "  </style>\n",
              "\n",
              "      <script>\n",
              "        const buttonEl =\n",
              "          document.querySelector('#df-3ad598cb-e287-44e0-b96c-7ea2747afd52 button.colab-df-convert');\n",
              "        buttonEl.style.display =\n",
              "          google.colab.kernel.accessAllowed ? 'block' : 'none';\n",
              "\n",
              "        async function convertToInteractive(key) {\n",
              "          const element = document.querySelector('#df-3ad598cb-e287-44e0-b96c-7ea2747afd52');\n",
              "          const dataTable =\n",
              "            await google.colab.kernel.invokeFunction('convertToInteractive',\n",
              "                                                     [key], {});\n",
              "          if (!dataTable) return;\n",
              "\n",
              "          const docLinkHtml = 'Like what you see? Visit the ' +\n",
              "            '<a target=\"_blank\" href=https://colab.research.google.com/notebooks/data_table.ipynb>data table notebook</a>'\n",
              "            + ' to learn more about interactive tables.';\n",
              "          element.innerHTML = '';\n",
              "          dataTable['output_type'] = 'display_data';\n",
              "          await google.colab.output.renderOutput(dataTable, element);\n",
              "          const docLink = document.createElement('div');\n",
              "          docLink.innerHTML = docLinkHtml;\n",
              "          element.appendChild(docLink);\n",
              "        }\n",
              "      </script>\n",
              "    </div>\n",
              "  </div>\n",
              "  "
            ]
          },
          "metadata": {},
          "execution_count": 32
        }
      ]
    },
    {
      "cell_type": "code",
      "source": [
        "X_train2 = tfidf.fit_transform(X_train_2['text_Lem_stop_20'])\n",
        "X_test2 = tfidf.transform(X_test_2['text_Lem_stop_20'])"
      ],
      "metadata": {
        "id": "n0mZpyHMshpu"
      },
      "execution_count": null,
      "outputs": []
    },
    {
      "cell_type": "code",
      "source": [
        "xgbt.fit(X_train2, y_train_2)\n",
        "xgbt.score(X_train2, y_train_2)"
      ],
      "metadata": {
        "colab": {
          "base_uri": "https://localhost:8080/"
        },
        "id": "j_z40cxXshpv",
        "outputId": "f132c79f-c8ed-44ce-85ec-554313234a61"
      },
      "execution_count": null,
      "outputs": [
        {
          "output_type": "execute_result",
          "data": {
            "text/plain": [
              "0.6069534794730225"
            ]
          },
          "metadata": {},
          "execution_count": 30
        }
      ]
    },
    {
      "cell_type": "markdown",
      "source": [
        "### 데이터셋3 (수빈)"
      ],
      "metadata": {
        "id": "uv7CFnyvuz4j"
      }
    },
    {
      "cell_type": "code",
      "source": [
        "X_train_3 = pd.read_csv(\"/content/drive/My Drive/OB1조/프로젝트2/data/베이스라인/train_3-2.csv\")\n",
        "X_test_3 = pd.read_csv(\"/content/drive/My Drive/OB1조/프로젝트2/data/베이스라인/test_3-2.csv\")\n",
        "y_train_3 = X_train_3.author.values\n",
        "\n",
        "sample_submission = pd.read_csv('sample_submission.csv', index_col=0, encoding = 'utf-8')"
      ],
      "metadata": {
        "id": "Wzj9vnKKMYXQ"
      },
      "execution_count": null,
      "outputs": []
    },
    {
      "cell_type": "code",
      "source": [
        "X_train_3.head()"
      ],
      "metadata": {
        "colab": {
          "base_uri": "https://localhost:8080/",
          "height": 206
        },
        "id": "JZVRAQVTM1Tg",
        "outputId": "a9ba0754-0303-47d3-e957-23c64feca4e6"
      },
      "execution_count": null,
      "outputs": [
        {
          "output_type": "execute_result",
          "data": {
            "text/plain": [
              "                                                text  author  \\\n",
              "0  almost choke . much , much want say , strange ...       3   \n",
              "1                         “ sister ask , suppose ? ”       2   \n",
              "2  engage one day walk , peruse jane ’ s last let...       1   \n",
              "3  captain porch , keep carefully way treacherous...       4   \n",
              "4  “ mercy , gentlemen ! ” odin fling hand . “ do...       3   \n",
              "\n",
              "                                            text_del  \n",
              "0  almost choke much much want say strange exclam...  \n",
              "1                                 sister ask suppose  \n",
              "2  engage one day walk peruse janes last letter d...  \n",
              "3  captain porch keep carefully way treacherous s...  \n",
              "4  mercy gentlemen odin fling hand dont write any...  "
            ],
            "text/html": [
              "\n",
              "  <div id=\"df-89dcb91b-6105-433d-8b03-53a98a147fec\">\n",
              "    <div class=\"colab-df-container\">\n",
              "      <div>\n",
              "<style scoped>\n",
              "    .dataframe tbody tr th:only-of-type {\n",
              "        vertical-align: middle;\n",
              "    }\n",
              "\n",
              "    .dataframe tbody tr th {\n",
              "        vertical-align: top;\n",
              "    }\n",
              "\n",
              "    .dataframe thead th {\n",
              "        text-align: right;\n",
              "    }\n",
              "</style>\n",
              "<table border=\"1\" class=\"dataframe\">\n",
              "  <thead>\n",
              "    <tr style=\"text-align: right;\">\n",
              "      <th></th>\n",
              "      <th>text</th>\n",
              "      <th>author</th>\n",
              "      <th>text_del</th>\n",
              "    </tr>\n",
              "  </thead>\n",
              "  <tbody>\n",
              "    <tr>\n",
              "      <th>0</th>\n",
              "      <td>almost choke . much , much want say , strange ...</td>\n",
              "      <td>3</td>\n",
              "      <td>almost choke much much want say strange exclam...</td>\n",
              "    </tr>\n",
              "    <tr>\n",
              "      <th>1</th>\n",
              "      <td>“ sister ask , suppose ? ”</td>\n",
              "      <td>2</td>\n",
              "      <td>sister ask suppose</td>\n",
              "    </tr>\n",
              "    <tr>\n",
              "      <th>2</th>\n",
              "      <td>engage one day walk , peruse jane ’ s last let...</td>\n",
              "      <td>1</td>\n",
              "      <td>engage one day walk peruse janes last letter d...</td>\n",
              "    </tr>\n",
              "    <tr>\n",
              "      <th>3</th>\n",
              "      <td>captain porch , keep carefully way treacherous...</td>\n",
              "      <td>4</td>\n",
              "      <td>captain porch keep carefully way treacherous s...</td>\n",
              "    </tr>\n",
              "    <tr>\n",
              "      <th>4</th>\n",
              "      <td>“ mercy , gentlemen ! ” odin fling hand . “ do...</td>\n",
              "      <td>3</td>\n",
              "      <td>mercy gentlemen odin fling hand dont write any...</td>\n",
              "    </tr>\n",
              "  </tbody>\n",
              "</table>\n",
              "</div>\n",
              "      <button class=\"colab-df-convert\" onclick=\"convertToInteractive('df-89dcb91b-6105-433d-8b03-53a98a147fec')\"\n",
              "              title=\"Convert this dataframe to an interactive table.\"\n",
              "              style=\"display:none;\">\n",
              "        \n",
              "  <svg xmlns=\"http://www.w3.org/2000/svg\" height=\"24px\"viewBox=\"0 0 24 24\"\n",
              "       width=\"24px\">\n",
              "    <path d=\"M0 0h24v24H0V0z\" fill=\"none\"/>\n",
              "    <path d=\"M18.56 5.44l.94 2.06.94-2.06 2.06-.94-2.06-.94-.94-2.06-.94 2.06-2.06.94zm-11 1L8.5 8.5l.94-2.06 2.06-.94-2.06-.94L8.5 2.5l-.94 2.06-2.06.94zm10 10l.94 2.06.94-2.06 2.06-.94-2.06-.94-.94-2.06-.94 2.06-2.06.94z\"/><path d=\"M17.41 7.96l-1.37-1.37c-.4-.4-.92-.59-1.43-.59-.52 0-1.04.2-1.43.59L10.3 9.45l-7.72 7.72c-.78.78-.78 2.05 0 2.83L4 21.41c.39.39.9.59 1.41.59.51 0 1.02-.2 1.41-.59l7.78-7.78 2.81-2.81c.8-.78.8-2.07 0-2.86zM5.41 20L4 18.59l7.72-7.72 1.47 1.35L5.41 20z\"/>\n",
              "  </svg>\n",
              "      </button>\n",
              "      \n",
              "  <style>\n",
              "    .colab-df-container {\n",
              "      display:flex;\n",
              "      flex-wrap:wrap;\n",
              "      gap: 12px;\n",
              "    }\n",
              "\n",
              "    .colab-df-convert {\n",
              "      background-color: #E8F0FE;\n",
              "      border: none;\n",
              "      border-radius: 50%;\n",
              "      cursor: pointer;\n",
              "      display: none;\n",
              "      fill: #1967D2;\n",
              "      height: 32px;\n",
              "      padding: 0 0 0 0;\n",
              "      width: 32px;\n",
              "    }\n",
              "\n",
              "    .colab-df-convert:hover {\n",
              "      background-color: #E2EBFA;\n",
              "      box-shadow: 0px 1px 2px rgba(60, 64, 67, 0.3), 0px 1px 3px 1px rgba(60, 64, 67, 0.15);\n",
              "      fill: #174EA6;\n",
              "    }\n",
              "\n",
              "    [theme=dark] .colab-df-convert {\n",
              "      background-color: #3B4455;\n",
              "      fill: #D2E3FC;\n",
              "    }\n",
              "\n",
              "    [theme=dark] .colab-df-convert:hover {\n",
              "      background-color: #434B5C;\n",
              "      box-shadow: 0px 1px 3px 1px rgba(0, 0, 0, 0.15);\n",
              "      filter: drop-shadow(0px 1px 2px rgba(0, 0, 0, 0.3));\n",
              "      fill: #FFFFFF;\n",
              "    }\n",
              "  </style>\n",
              "\n",
              "      <script>\n",
              "        const buttonEl =\n",
              "          document.querySelector('#df-89dcb91b-6105-433d-8b03-53a98a147fec button.colab-df-convert');\n",
              "        buttonEl.style.display =\n",
              "          google.colab.kernel.accessAllowed ? 'block' : 'none';\n",
              "\n",
              "        async function convertToInteractive(key) {\n",
              "          const element = document.querySelector('#df-89dcb91b-6105-433d-8b03-53a98a147fec');\n",
              "          const dataTable =\n",
              "            await google.colab.kernel.invokeFunction('convertToInteractive',\n",
              "                                                     [key], {});\n",
              "          if (!dataTable) return;\n",
              "\n",
              "          const docLinkHtml = 'Like what you see? Visit the ' +\n",
              "            '<a target=\"_blank\" href=https://colab.research.google.com/notebooks/data_table.ipynb>data table notebook</a>'\n",
              "            + ' to learn more about interactive tables.';\n",
              "          element.innerHTML = '';\n",
              "          dataTable['output_type'] = 'display_data';\n",
              "          await google.colab.output.renderOutput(dataTable, element);\n",
              "          const docLink = document.createElement('div');\n",
              "          docLink.innerHTML = docLinkHtml;\n",
              "          element.appendChild(docLink);\n",
              "        }\n",
              "      </script>\n",
              "    </div>\n",
              "  </div>\n",
              "  "
            ]
          },
          "metadata": {},
          "execution_count": 20
        }
      ]
    },
    {
      "cell_type": "code",
      "source": [
        "X_test_3.head()"
      ],
      "metadata": {
        "colab": {
          "base_uri": "https://localhost:8080/",
          "height": 206
        },
        "id": "BssvgeTYNHVx",
        "outputId": "39e1a74d-a546-423a-e08d-0c2140a95c95"
      },
      "execution_count": null,
      "outputs": [
        {
          "output_type": "execute_result",
          "data": {
            "text/plain": [
              "                                                text  \\\n",
              "0  “ not . think one charm young ladies ever meet...   \n",
              "1  `` no , '' reply , sudden consciousness , `` n...   \n",
              "2  lady state intention scream , course scream ad...   \n",
              "3  “ suddenly silence hear sound send heart mouth...   \n",
              "4  conviction remain unchanged . far know -- beli...   \n",
              "\n",
              "                                            text_del  \n",
              "0  not think one charm young ladies ever meet mig...  \n",
              "1  no reply sudden consciousness not find can not...  \n",
              "2  lady state intention scream course scream addi...  \n",
              "3  suddenly silence hear sound send heart mouth c...  \n",
              "4  conviction remain unchanged far knowand believ...  "
            ],
            "text/html": [
              "\n",
              "  <div id=\"df-1cfe7034-69b2-499d-8162-a5d41bdceef4\">\n",
              "    <div class=\"colab-df-container\">\n",
              "      <div>\n",
              "<style scoped>\n",
              "    .dataframe tbody tr th:only-of-type {\n",
              "        vertical-align: middle;\n",
              "    }\n",
              "\n",
              "    .dataframe tbody tr th {\n",
              "        vertical-align: top;\n",
              "    }\n",
              "\n",
              "    .dataframe thead th {\n",
              "        text-align: right;\n",
              "    }\n",
              "</style>\n",
              "<table border=\"1\" class=\"dataframe\">\n",
              "  <thead>\n",
              "    <tr style=\"text-align: right;\">\n",
              "      <th></th>\n",
              "      <th>text</th>\n",
              "      <th>text_del</th>\n",
              "    </tr>\n",
              "  </thead>\n",
              "  <tbody>\n",
              "    <tr>\n",
              "      <th>0</th>\n",
              "      <td>“ not . think one charm young ladies ever meet...</td>\n",
              "      <td>not think one charm young ladies ever meet mig...</td>\n",
              "    </tr>\n",
              "    <tr>\n",
              "      <th>1</th>\n",
              "      <td>`` no , '' reply , sudden consciousness , `` n...</td>\n",
              "      <td>no reply sudden consciousness not find can not...</td>\n",
              "    </tr>\n",
              "    <tr>\n",
              "      <th>2</th>\n",
              "      <td>lady state intention scream , course scream ad...</td>\n",
              "      <td>lady state intention scream course scream addi...</td>\n",
              "    </tr>\n",
              "    <tr>\n",
              "      <th>3</th>\n",
              "      <td>“ suddenly silence hear sound send heart mouth...</td>\n",
              "      <td>suddenly silence hear sound send heart mouth c...</td>\n",
              "    </tr>\n",
              "    <tr>\n",
              "      <th>4</th>\n",
              "      <td>conviction remain unchanged . far know -- beli...</td>\n",
              "      <td>conviction remain unchanged far knowand believ...</td>\n",
              "    </tr>\n",
              "  </tbody>\n",
              "</table>\n",
              "</div>\n",
              "      <button class=\"colab-df-convert\" onclick=\"convertToInteractive('df-1cfe7034-69b2-499d-8162-a5d41bdceef4')\"\n",
              "              title=\"Convert this dataframe to an interactive table.\"\n",
              "              style=\"display:none;\">\n",
              "        \n",
              "  <svg xmlns=\"http://www.w3.org/2000/svg\" height=\"24px\"viewBox=\"0 0 24 24\"\n",
              "       width=\"24px\">\n",
              "    <path d=\"M0 0h24v24H0V0z\" fill=\"none\"/>\n",
              "    <path d=\"M18.56 5.44l.94 2.06.94-2.06 2.06-.94-2.06-.94-.94-2.06-.94 2.06-2.06.94zm-11 1L8.5 8.5l.94-2.06 2.06-.94-2.06-.94L8.5 2.5l-.94 2.06-2.06.94zm10 10l.94 2.06.94-2.06 2.06-.94-2.06-.94-.94-2.06-.94 2.06-2.06.94z\"/><path d=\"M17.41 7.96l-1.37-1.37c-.4-.4-.92-.59-1.43-.59-.52 0-1.04.2-1.43.59L10.3 9.45l-7.72 7.72c-.78.78-.78 2.05 0 2.83L4 21.41c.39.39.9.59 1.41.59.51 0 1.02-.2 1.41-.59l7.78-7.78 2.81-2.81c.8-.78.8-2.07 0-2.86zM5.41 20L4 18.59l7.72-7.72 1.47 1.35L5.41 20z\"/>\n",
              "  </svg>\n",
              "      </button>\n",
              "      \n",
              "  <style>\n",
              "    .colab-df-container {\n",
              "      display:flex;\n",
              "      flex-wrap:wrap;\n",
              "      gap: 12px;\n",
              "    }\n",
              "\n",
              "    .colab-df-convert {\n",
              "      background-color: #E8F0FE;\n",
              "      border: none;\n",
              "      border-radius: 50%;\n",
              "      cursor: pointer;\n",
              "      display: none;\n",
              "      fill: #1967D2;\n",
              "      height: 32px;\n",
              "      padding: 0 0 0 0;\n",
              "      width: 32px;\n",
              "    }\n",
              "\n",
              "    .colab-df-convert:hover {\n",
              "      background-color: #E2EBFA;\n",
              "      box-shadow: 0px 1px 2px rgba(60, 64, 67, 0.3), 0px 1px 3px 1px rgba(60, 64, 67, 0.15);\n",
              "      fill: #174EA6;\n",
              "    }\n",
              "\n",
              "    [theme=dark] .colab-df-convert {\n",
              "      background-color: #3B4455;\n",
              "      fill: #D2E3FC;\n",
              "    }\n",
              "\n",
              "    [theme=dark] .colab-df-convert:hover {\n",
              "      background-color: #434B5C;\n",
              "      box-shadow: 0px 1px 3px 1px rgba(0, 0, 0, 0.15);\n",
              "      filter: drop-shadow(0px 1px 2px rgba(0, 0, 0, 0.3));\n",
              "      fill: #FFFFFF;\n",
              "    }\n",
              "  </style>\n",
              "\n",
              "      <script>\n",
              "        const buttonEl =\n",
              "          document.querySelector('#df-1cfe7034-69b2-499d-8162-a5d41bdceef4 button.colab-df-convert');\n",
              "        buttonEl.style.display =\n",
              "          google.colab.kernel.accessAllowed ? 'block' : 'none';\n",
              "\n",
              "        async function convertToInteractive(key) {\n",
              "          const element = document.querySelector('#df-1cfe7034-69b2-499d-8162-a5d41bdceef4');\n",
              "          const dataTable =\n",
              "            await google.colab.kernel.invokeFunction('convertToInteractive',\n",
              "                                                     [key], {});\n",
              "          if (!dataTable) return;\n",
              "\n",
              "          const docLinkHtml = 'Like what you see? Visit the ' +\n",
              "            '<a target=\"_blank\" href=https://colab.research.google.com/notebooks/data_table.ipynb>data table notebook</a>'\n",
              "            + ' to learn more about interactive tables.';\n",
              "          element.innerHTML = '';\n",
              "          dataTable['output_type'] = 'display_data';\n",
              "          await google.colab.output.renderOutput(dataTable, element);\n",
              "          const docLink = document.createElement('div');\n",
              "          docLink.innerHTML = docLinkHtml;\n",
              "          element.appendChild(docLink);\n",
              "        }\n",
              "      </script>\n",
              "    </div>\n",
              "  </div>\n",
              "  "
            ]
          },
          "metadata": {},
          "execution_count": 21
        }
      ]
    },
    {
      "cell_type": "code",
      "source": [
        "X_train3 = tfidf.fit_transform(X_train_3['text'])\n",
        "X_test3 = tfidf.transform(X_test_3['text'])"
      ],
      "metadata": {
        "id": "47JgJcETM1ZH"
      },
      "execution_count": null,
      "outputs": []
    },
    {
      "cell_type": "code",
      "source": [
        "xgbt.fit(X_train3, y_train_3)\n",
        "xgbt.score(X_train3, y_train_3)"
      ],
      "metadata": {
        "colab": {
          "base_uri": "https://localhost:8080/"
        },
        "outputId": "cdb08679-5dae-4c29-ccd8-b9f426dfecb9",
        "id": "60t704o8M1ZH"
      },
      "execution_count": null,
      "outputs": [
        {
          "output_type": "execute_result",
          "data": {
            "text/plain": [
              "0.5902622132327484"
            ]
          },
          "metadata": {},
          "execution_count": 23
        }
      ]
    },
    {
      "cell_type": "markdown",
      "source": [
        "### 데이터셋 4(민경)"
      ],
      "metadata": {
        "id": "1kxOXGOKu1_f"
      }
    },
    {
      "cell_type": "code",
      "source": [
        "X_train_4 = pd.read_csv(\"/content/drive/My Drive/OB1조/프로젝트2/data/nltk untoken/train_4_L.csv\", index_col=0)\n",
        "X_test_4 = pd.read_csv(\"/content/drive/My Drive/OB1조/프로젝트2/data/nltk untoken/test_4_L.csv\", index_col=0)\n",
        "\n",
        "y_train_4 = X_train_4.author.values\n",
        "\n",
        "sample_submission = pd.read_csv('sample_submission.csv', index_col=0, encoding = 'utf-8')"
      ],
      "metadata": {
        "id": "h20J2m-9PA7z"
      },
      "execution_count": null,
      "outputs": []
    },
    {
      "cell_type": "code",
      "source": [
        "X_train_4 = X_train_4.drop(['text', 'text_all','text_Lem','text_Lem_2'], axis=1)\n",
        "X_test_4 = X_test_4.drop(['text', 'text_all','text_Lem','text_Lem_2'], axis=1)"
      ],
      "metadata": {
        "id": "BG1NYAWcPRq2"
      },
      "execution_count": null,
      "outputs": []
    },
    {
      "cell_type": "code",
      "source": [
        "X_train4 = tfidf.fit_transform(X_train_4['L_o'])\n",
        "X_test4 = tfidf.transform(X_test_4['L_o'])"
      ],
      "metadata": {
        "id": "bh0Hc0QDPESN"
      },
      "execution_count": null,
      "outputs": []
    },
    {
      "cell_type": "code",
      "source": [
        "import xgboost\n",
        "xgbt = xgboost.XGBClassifier(max_depth = 3, n_estimators = 200, learning_rate = 0.1, random_state = 777)\n",
        "\n",
        "xgbt.fit(X_train4, y_train_4)\n",
        "xgbt.score(X_train4, y_train_4)"
      ],
      "metadata": {
        "colab": {
          "base_uri": "https://localhost:8080/"
        },
        "outputId": "b1ef8c21-febc-469c-b95b-d23c70c5646f",
        "id": "clYEYvenPESa"
      },
      "execution_count": null,
      "outputs": [
        {
          "output_type": "execute_result",
          "data": {
            "text/plain": [
              "0.5827730097122761"
            ]
          },
          "metadata": {},
          "execution_count": 35
        }
      ]
    },
    {
      "cell_type": "code",
      "source": [
        "pred = xgbt.predict_proba(X_test4)\n",
        "# submission\n",
        "sample_submission = pd.read_csv('sample_submission.csv', index_col=0, encoding = 'utf-8')\n",
        "sample_submission[['0','1','2','3','4']] = pred\n",
        "sample_submission.to_csv('submission_4_tfLo.csv', index = True, encoding = 'utf-8')"
      ],
      "metadata": {
        "id": "NclyTwEVnyoE"
      },
      "execution_count": null,
      "outputs": []
    },
    {
      "cell_type": "code",
      "source": [
        "sample_submission"
      ],
      "metadata": {
        "colab": {
          "base_uri": "https://localhost:8080/",
          "height": 455
        },
        "id": "4yjWQMTjpThu",
        "outputId": "f86c7bc2-87e1-4f9f-e736-6c7a02cda46a"
      },
      "execution_count": null,
      "outputs": [
        {
          "output_type": "execute_result",
          "data": {
            "text/plain": [
              "              0         1         2         3         4\n",
              "index                                                  \n",
              "0      0.165996  0.186536  0.268498  0.272291  0.106679\n",
              "1      0.360755  0.252774  0.055683  0.169794  0.160994\n",
              "2      0.553024  0.161584  0.110795  0.064014  0.110583\n",
              "3      0.172884  0.116251  0.387763  0.184513  0.138589\n",
              "4      0.179282  0.158780  0.225465  0.325815  0.110658\n",
              "...         ...       ...       ...       ...       ...\n",
              "19612  0.044249  0.864899  0.014572  0.061753  0.014527\n",
              "19613  0.347316  0.068014  0.267586  0.034649  0.282435\n",
              "19614  0.058303  0.835941  0.029341  0.056962  0.019453\n",
              "19615  0.127886  0.560543  0.115528  0.117513  0.078530\n",
              "19616  0.257784  0.118780  0.227459  0.263963  0.132015\n",
              "\n",
              "[19617 rows x 5 columns]"
            ],
            "text/html": [
              "\n",
              "  <div id=\"df-01fde5ff-5f05-48b3-9901-1c18c5ca2550\">\n",
              "    <div class=\"colab-df-container\">\n",
              "      <div>\n",
              "<style scoped>\n",
              "    .dataframe tbody tr th:only-of-type {\n",
              "        vertical-align: middle;\n",
              "    }\n",
              "\n",
              "    .dataframe tbody tr th {\n",
              "        vertical-align: top;\n",
              "    }\n",
              "\n",
              "    .dataframe thead th {\n",
              "        text-align: right;\n",
              "    }\n",
              "</style>\n",
              "<table border=\"1\" class=\"dataframe\">\n",
              "  <thead>\n",
              "    <tr style=\"text-align: right;\">\n",
              "      <th></th>\n",
              "      <th>0</th>\n",
              "      <th>1</th>\n",
              "      <th>2</th>\n",
              "      <th>3</th>\n",
              "      <th>4</th>\n",
              "    </tr>\n",
              "    <tr>\n",
              "      <th>index</th>\n",
              "      <th></th>\n",
              "      <th></th>\n",
              "      <th></th>\n",
              "      <th></th>\n",
              "      <th></th>\n",
              "    </tr>\n",
              "  </thead>\n",
              "  <tbody>\n",
              "    <tr>\n",
              "      <th>0</th>\n",
              "      <td>0.165996</td>\n",
              "      <td>0.186536</td>\n",
              "      <td>0.268498</td>\n",
              "      <td>0.272291</td>\n",
              "      <td>0.106679</td>\n",
              "    </tr>\n",
              "    <tr>\n",
              "      <th>1</th>\n",
              "      <td>0.360755</td>\n",
              "      <td>0.252774</td>\n",
              "      <td>0.055683</td>\n",
              "      <td>0.169794</td>\n",
              "      <td>0.160994</td>\n",
              "    </tr>\n",
              "    <tr>\n",
              "      <th>2</th>\n",
              "      <td>0.553024</td>\n",
              "      <td>0.161584</td>\n",
              "      <td>0.110795</td>\n",
              "      <td>0.064014</td>\n",
              "      <td>0.110583</td>\n",
              "    </tr>\n",
              "    <tr>\n",
              "      <th>3</th>\n",
              "      <td>0.172884</td>\n",
              "      <td>0.116251</td>\n",
              "      <td>0.387763</td>\n",
              "      <td>0.184513</td>\n",
              "      <td>0.138589</td>\n",
              "    </tr>\n",
              "    <tr>\n",
              "      <th>4</th>\n",
              "      <td>0.179282</td>\n",
              "      <td>0.158780</td>\n",
              "      <td>0.225465</td>\n",
              "      <td>0.325815</td>\n",
              "      <td>0.110658</td>\n",
              "    </tr>\n",
              "    <tr>\n",
              "      <th>...</th>\n",
              "      <td>...</td>\n",
              "      <td>...</td>\n",
              "      <td>...</td>\n",
              "      <td>...</td>\n",
              "      <td>...</td>\n",
              "    </tr>\n",
              "    <tr>\n",
              "      <th>19612</th>\n",
              "      <td>0.044249</td>\n",
              "      <td>0.864899</td>\n",
              "      <td>0.014572</td>\n",
              "      <td>0.061753</td>\n",
              "      <td>0.014527</td>\n",
              "    </tr>\n",
              "    <tr>\n",
              "      <th>19613</th>\n",
              "      <td>0.347316</td>\n",
              "      <td>0.068014</td>\n",
              "      <td>0.267586</td>\n",
              "      <td>0.034649</td>\n",
              "      <td>0.282435</td>\n",
              "    </tr>\n",
              "    <tr>\n",
              "      <th>19614</th>\n",
              "      <td>0.058303</td>\n",
              "      <td>0.835941</td>\n",
              "      <td>0.029341</td>\n",
              "      <td>0.056962</td>\n",
              "      <td>0.019453</td>\n",
              "    </tr>\n",
              "    <tr>\n",
              "      <th>19615</th>\n",
              "      <td>0.127886</td>\n",
              "      <td>0.560543</td>\n",
              "      <td>0.115528</td>\n",
              "      <td>0.117513</td>\n",
              "      <td>0.078530</td>\n",
              "    </tr>\n",
              "    <tr>\n",
              "      <th>19616</th>\n",
              "      <td>0.257784</td>\n",
              "      <td>0.118780</td>\n",
              "      <td>0.227459</td>\n",
              "      <td>0.263963</td>\n",
              "      <td>0.132015</td>\n",
              "    </tr>\n",
              "  </tbody>\n",
              "</table>\n",
              "<p>19617 rows × 5 columns</p>\n",
              "</div>\n",
              "      <button class=\"colab-df-convert\" onclick=\"convertToInteractive('df-01fde5ff-5f05-48b3-9901-1c18c5ca2550')\"\n",
              "              title=\"Convert this dataframe to an interactive table.\"\n",
              "              style=\"display:none;\">\n",
              "        \n",
              "  <svg xmlns=\"http://www.w3.org/2000/svg\" height=\"24px\"viewBox=\"0 0 24 24\"\n",
              "       width=\"24px\">\n",
              "    <path d=\"M0 0h24v24H0V0z\" fill=\"none\"/>\n",
              "    <path d=\"M18.56 5.44l.94 2.06.94-2.06 2.06-.94-2.06-.94-.94-2.06-.94 2.06-2.06.94zm-11 1L8.5 8.5l.94-2.06 2.06-.94-2.06-.94L8.5 2.5l-.94 2.06-2.06.94zm10 10l.94 2.06.94-2.06 2.06-.94-2.06-.94-.94-2.06-.94 2.06-2.06.94z\"/><path d=\"M17.41 7.96l-1.37-1.37c-.4-.4-.92-.59-1.43-.59-.52 0-1.04.2-1.43.59L10.3 9.45l-7.72 7.72c-.78.78-.78 2.05 0 2.83L4 21.41c.39.39.9.59 1.41.59.51 0 1.02-.2 1.41-.59l7.78-7.78 2.81-2.81c.8-.78.8-2.07 0-2.86zM5.41 20L4 18.59l7.72-7.72 1.47 1.35L5.41 20z\"/>\n",
              "  </svg>\n",
              "      </button>\n",
              "      \n",
              "  <style>\n",
              "    .colab-df-container {\n",
              "      display:flex;\n",
              "      flex-wrap:wrap;\n",
              "      gap: 12px;\n",
              "    }\n",
              "\n",
              "    .colab-df-convert {\n",
              "      background-color: #E8F0FE;\n",
              "      border: none;\n",
              "      border-radius: 50%;\n",
              "      cursor: pointer;\n",
              "      display: none;\n",
              "      fill: #1967D2;\n",
              "      height: 32px;\n",
              "      padding: 0 0 0 0;\n",
              "      width: 32px;\n",
              "    }\n",
              "\n",
              "    .colab-df-convert:hover {\n",
              "      background-color: #E2EBFA;\n",
              "      box-shadow: 0px 1px 2px rgba(60, 64, 67, 0.3), 0px 1px 3px 1px rgba(60, 64, 67, 0.15);\n",
              "      fill: #174EA6;\n",
              "    }\n",
              "\n",
              "    [theme=dark] .colab-df-convert {\n",
              "      background-color: #3B4455;\n",
              "      fill: #D2E3FC;\n",
              "    }\n",
              "\n",
              "    [theme=dark] .colab-df-convert:hover {\n",
              "      background-color: #434B5C;\n",
              "      box-shadow: 0px 1px 3px 1px rgba(0, 0, 0, 0.15);\n",
              "      filter: drop-shadow(0px 1px 2px rgba(0, 0, 0, 0.3));\n",
              "      fill: #FFFFFF;\n",
              "    }\n",
              "  </style>\n",
              "\n",
              "      <script>\n",
              "        const buttonEl =\n",
              "          document.querySelector('#df-01fde5ff-5f05-48b3-9901-1c18c5ca2550 button.colab-df-convert');\n",
              "        buttonEl.style.display =\n",
              "          google.colab.kernel.accessAllowed ? 'block' : 'none';\n",
              "\n",
              "        async function convertToInteractive(key) {\n",
              "          const element = document.querySelector('#df-01fde5ff-5f05-48b3-9901-1c18c5ca2550');\n",
              "          const dataTable =\n",
              "            await google.colab.kernel.invokeFunction('convertToInteractive',\n",
              "                                                     [key], {});\n",
              "          if (!dataTable) return;\n",
              "\n",
              "          const docLinkHtml = 'Like what you see? Visit the ' +\n",
              "            '<a target=\"_blank\" href=https://colab.research.google.com/notebooks/data_table.ipynb>data table notebook</a>'\n",
              "            + ' to learn more about interactive tables.';\n",
              "          element.innerHTML = '';\n",
              "          dataTable['output_type'] = 'display_data';\n",
              "          await google.colab.output.renderOutput(dataTable, element);\n",
              "          const docLink = document.createElement('div');\n",
              "          docLink.innerHTML = docLinkHtml;\n",
              "          element.appendChild(docLink);\n",
              "        }\n",
              "      </script>\n",
              "    </div>\n",
              "  </div>\n",
              "  "
            ]
          },
          "metadata": {},
          "execution_count": 46
        }
      ]
    },
    {
      "cell_type": "markdown",
      "source": [
        "### 데이터셋 5(재령)"
      ],
      "metadata": {
        "id": "6WnN9rkLu4Kz"
      }
    },
    {
      "cell_type": "code",
      "source": [
        "X_train_5 = pd.read_csv(\"/content/drive/My Drive/OB1조/프로젝트2/data/train_pre_jr.csv\")\n",
        "X_test_5 = pd.read_csv(\"/content/drive/My Drive/OB1조/프로젝트2/data/test_pre_jr.csv\")\n",
        "y_train_5 = X_train_5.author.values\n",
        "\n",
        "sample_submission = pd.read_csv('sample_submission.csv', index_col=0, encoding = 'utf-8')"
      ],
      "metadata": {
        "id": "uG9D-3aOoL9x"
      },
      "execution_count": null,
      "outputs": []
    },
    {
      "cell_type": "code",
      "source": [
        "X_train_5.head()"
      ],
      "metadata": {
        "colab": {
          "base_uri": "https://localhost:8080/",
          "height": 354
        },
        "id": "NbLgC_qEotGv",
        "outputId": "b77ba89c-599e-4ae7-8fb1-bbd66c121edc"
      },
      "execution_count": null,
      "outputs": [
        {
          "output_type": "execute_result",
          "data": {
            "text/plain": [
              "   author                                         text_Stem1  \\\n",
              "0       3  almost choke . much , much want say , strang e...   \n",
              "1       2                          “ sister ask , suppos ? ”   \n",
              "2       1  engag one day walk , perus jane ’ last letter ...   \n",
              "3       4  captain porch , keep care way treacher shot , ...   \n",
              "4       3  “ merci , gentlemen ! ” odin flung hand . “ do...   \n",
              "\n",
              "                                          text_Stem2  \\\n",
              "0  almost choke much much want say strang exclam ...   \n",
              "1                              “ sister ask suppos ”   \n",
              "2  engag one day walk perus jane ’ last letter dw...   \n",
              "3  captain porch keep care way treacher shot inte...   \n",
              "4  “ merci gentlemen ” odin flung hand “ don ’ wr...   \n",
              "\n",
              "                                           text_Lem1  \\\n",
              "0  almost choke . much , much want say , strange ...   \n",
              "1                         “ sister ask , suppose ? ”   \n",
              "2  engage one day walk , peruse jane ’ last lette...   \n",
              "3  captain porch , keep carefully way treacherous...   \n",
              "4  “ mercy , gentlemen ! ” odin fling hand . “ do...   \n",
              "\n",
              "                                           text_Lem2  \n",
              "0  almost choke much much want say strange exclam...  \n",
              "1                             “ sister ask suppose ”  \n",
              "2  engage one day walk peruse jane ’ last letter ...  \n",
              "3  captain porch keep carefully way treacherous s...  \n",
              "4  “ mercy gentlemen ” odin fling hand “ don ’ wr...  "
            ],
            "text/html": [
              "\n",
              "  <div id=\"df-8511e7bd-0d61-4092-b569-f1a299ad97e8\">\n",
              "    <div class=\"colab-df-container\">\n",
              "      <div>\n",
              "<style scoped>\n",
              "    .dataframe tbody tr th:only-of-type {\n",
              "        vertical-align: middle;\n",
              "    }\n",
              "\n",
              "    .dataframe tbody tr th {\n",
              "        vertical-align: top;\n",
              "    }\n",
              "\n",
              "    .dataframe thead th {\n",
              "        text-align: right;\n",
              "    }\n",
              "</style>\n",
              "<table border=\"1\" class=\"dataframe\">\n",
              "  <thead>\n",
              "    <tr style=\"text-align: right;\">\n",
              "      <th></th>\n",
              "      <th>author</th>\n",
              "      <th>text_Stem1</th>\n",
              "      <th>text_Stem2</th>\n",
              "      <th>text_Lem1</th>\n",
              "      <th>text_Lem2</th>\n",
              "    </tr>\n",
              "  </thead>\n",
              "  <tbody>\n",
              "    <tr>\n",
              "      <th>0</th>\n",
              "      <td>3</td>\n",
              "      <td>almost choke . much , much want say , strang e...</td>\n",
              "      <td>almost choke much much want say strang exclam ...</td>\n",
              "      <td>almost choke . much , much want say , strange ...</td>\n",
              "      <td>almost choke much much want say strange exclam...</td>\n",
              "    </tr>\n",
              "    <tr>\n",
              "      <th>1</th>\n",
              "      <td>2</td>\n",
              "      <td>“ sister ask , suppos ? ”</td>\n",
              "      <td>“ sister ask suppos ”</td>\n",
              "      <td>“ sister ask , suppose ? ”</td>\n",
              "      <td>“ sister ask suppose ”</td>\n",
              "    </tr>\n",
              "    <tr>\n",
              "      <th>2</th>\n",
              "      <td>1</td>\n",
              "      <td>engag one day walk , perus jane ’ last letter ...</td>\n",
              "      <td>engag one day walk perus jane ’ last letter dw...</td>\n",
              "      <td>engage one day walk , peruse jane ’ last lette...</td>\n",
              "      <td>engage one day walk peruse jane ’ last letter ...</td>\n",
              "    </tr>\n",
              "    <tr>\n",
              "      <th>3</th>\n",
              "      <td>4</td>\n",
              "      <td>captain porch , keep care way treacher shot , ...</td>\n",
              "      <td>captain porch keep care way treacher shot inte...</td>\n",
              "      <td>captain porch , keep carefully way treacherous...</td>\n",
              "      <td>captain porch keep carefully way treacherous s...</td>\n",
              "    </tr>\n",
              "    <tr>\n",
              "      <th>4</th>\n",
              "      <td>3</td>\n",
              "      <td>“ merci , gentlemen ! ” odin flung hand . “ do...</td>\n",
              "      <td>“ merci gentlemen ” odin flung hand “ don ’ wr...</td>\n",
              "      <td>“ mercy , gentlemen ! ” odin fling hand . “ do...</td>\n",
              "      <td>“ mercy gentlemen ” odin fling hand “ don ’ wr...</td>\n",
              "    </tr>\n",
              "  </tbody>\n",
              "</table>\n",
              "</div>\n",
              "      <button class=\"colab-df-convert\" onclick=\"convertToInteractive('df-8511e7bd-0d61-4092-b569-f1a299ad97e8')\"\n",
              "              title=\"Convert this dataframe to an interactive table.\"\n",
              "              style=\"display:none;\">\n",
              "        \n",
              "  <svg xmlns=\"http://www.w3.org/2000/svg\" height=\"24px\"viewBox=\"0 0 24 24\"\n",
              "       width=\"24px\">\n",
              "    <path d=\"M0 0h24v24H0V0z\" fill=\"none\"/>\n",
              "    <path d=\"M18.56 5.44l.94 2.06.94-2.06 2.06-.94-2.06-.94-.94-2.06-.94 2.06-2.06.94zm-11 1L8.5 8.5l.94-2.06 2.06-.94-2.06-.94L8.5 2.5l-.94 2.06-2.06.94zm10 10l.94 2.06.94-2.06 2.06-.94-2.06-.94-.94-2.06-.94 2.06-2.06.94z\"/><path d=\"M17.41 7.96l-1.37-1.37c-.4-.4-.92-.59-1.43-.59-.52 0-1.04.2-1.43.59L10.3 9.45l-7.72 7.72c-.78.78-.78 2.05 0 2.83L4 21.41c.39.39.9.59 1.41.59.51 0 1.02-.2 1.41-.59l7.78-7.78 2.81-2.81c.8-.78.8-2.07 0-2.86zM5.41 20L4 18.59l7.72-7.72 1.47 1.35L5.41 20z\"/>\n",
              "  </svg>\n",
              "      </button>\n",
              "      \n",
              "  <style>\n",
              "    .colab-df-container {\n",
              "      display:flex;\n",
              "      flex-wrap:wrap;\n",
              "      gap: 12px;\n",
              "    }\n",
              "\n",
              "    .colab-df-convert {\n",
              "      background-color: #E8F0FE;\n",
              "      border: none;\n",
              "      border-radius: 50%;\n",
              "      cursor: pointer;\n",
              "      display: none;\n",
              "      fill: #1967D2;\n",
              "      height: 32px;\n",
              "      padding: 0 0 0 0;\n",
              "      width: 32px;\n",
              "    }\n",
              "\n",
              "    .colab-df-convert:hover {\n",
              "      background-color: #E2EBFA;\n",
              "      box-shadow: 0px 1px 2px rgba(60, 64, 67, 0.3), 0px 1px 3px 1px rgba(60, 64, 67, 0.15);\n",
              "      fill: #174EA6;\n",
              "    }\n",
              "\n",
              "    [theme=dark] .colab-df-convert {\n",
              "      background-color: #3B4455;\n",
              "      fill: #D2E3FC;\n",
              "    }\n",
              "\n",
              "    [theme=dark] .colab-df-convert:hover {\n",
              "      background-color: #434B5C;\n",
              "      box-shadow: 0px 1px 3px 1px rgba(0, 0, 0, 0.15);\n",
              "      filter: drop-shadow(0px 1px 2px rgba(0, 0, 0, 0.3));\n",
              "      fill: #FFFFFF;\n",
              "    }\n",
              "  </style>\n",
              "\n",
              "      <script>\n",
              "        const buttonEl =\n",
              "          document.querySelector('#df-8511e7bd-0d61-4092-b569-f1a299ad97e8 button.colab-df-convert');\n",
              "        buttonEl.style.display =\n",
              "          google.colab.kernel.accessAllowed ? 'block' : 'none';\n",
              "\n",
              "        async function convertToInteractive(key) {\n",
              "          const element = document.querySelector('#df-8511e7bd-0d61-4092-b569-f1a299ad97e8');\n",
              "          const dataTable =\n",
              "            await google.colab.kernel.invokeFunction('convertToInteractive',\n",
              "                                                     [key], {});\n",
              "          if (!dataTable) return;\n",
              "\n",
              "          const docLinkHtml = 'Like what you see? Visit the ' +\n",
              "            '<a target=\"_blank\" href=https://colab.research.google.com/notebooks/data_table.ipynb>data table notebook</a>'\n",
              "            + ' to learn more about interactive tables.';\n",
              "          element.innerHTML = '';\n",
              "          dataTable['output_type'] = 'display_data';\n",
              "          await google.colab.output.renderOutput(dataTable, element);\n",
              "          const docLink = document.createElement('div');\n",
              "          docLink.innerHTML = docLinkHtml;\n",
              "          element.appendChild(docLink);\n",
              "        }\n",
              "      </script>\n",
              "    </div>\n",
              "  </div>\n",
              "  "
            ]
          },
          "metadata": {},
          "execution_count": 15
        }
      ]
    },
    {
      "cell_type": "code",
      "source": [
        "X_test_5.head()"
      ],
      "metadata": {
        "colab": {
          "base_uri": "https://localhost:8080/",
          "height": 337
        },
        "id": "-nFitSqcovKO",
        "outputId": "c6837240-f57e-4b4d-cfd5-8d98883826bc"
      },
      "execution_count": null,
      "outputs": [
        {
          "output_type": "execute_result",
          "data": {
            "text/plain": [
              "                                          text_Stem1  \\\n",
              "0  “ . think one charm young ladi ever met , migh...   \n",
              "1  `` , '' repli , sudden conscious , `` find ; i...   \n",
              "2  ladi state intent scream , cours would scream ...   \n",
              "3  “ suddenli silenc heard sound sent heart mouth...   \n",
              "4  convict remain unchang . far know -- believ ho...   \n",
              "\n",
              "                                          text_Stem2  \\\n",
              "0  “ think one charm young ladi ever met might us...   \n",
              "1  `` '' repli sudden conscious `` find ignor goo...   \n",
              "2  ladi state intent scream cours would scream ad...   \n",
              "3  “ suddenli silenc heard sound sent heart mouth...   \n",
              "4  convict remain unchang far know -- believ hone...   \n",
              "\n",
              "                                           text_Lem1  \\\n",
              "0  “ . think one charm young ladies ever meet , m...   \n",
              "1  `` , '' reply , sudden consciousness , `` find...   \n",
              "2  lady state intention scream , course would scr...   \n",
              "3  “ suddenly silence hear sound send heart mouth...   \n",
              "4  conviction remain unchanged . far know -- beli...   \n",
              "\n",
              "                                           text_Lem2  \n",
              "0  “ think one charm young ladies ever meet might...  \n",
              "1  `` '' reply sudden consciousness `` find ignor...  \n",
              "2  lady state intention scream course would screa...  \n",
              "3  “ suddenly silence hear sound send heart mouth...  \n",
              "4  conviction remain unchanged far know -- believ...  "
            ],
            "text/html": [
              "\n",
              "  <div id=\"df-e54e28be-0b27-41e1-828b-44ee67e1fdd6\">\n",
              "    <div class=\"colab-df-container\">\n",
              "      <div>\n",
              "<style scoped>\n",
              "    .dataframe tbody tr th:only-of-type {\n",
              "        vertical-align: middle;\n",
              "    }\n",
              "\n",
              "    .dataframe tbody tr th {\n",
              "        vertical-align: top;\n",
              "    }\n",
              "\n",
              "    .dataframe thead th {\n",
              "        text-align: right;\n",
              "    }\n",
              "</style>\n",
              "<table border=\"1\" class=\"dataframe\">\n",
              "  <thead>\n",
              "    <tr style=\"text-align: right;\">\n",
              "      <th></th>\n",
              "      <th>text_Stem1</th>\n",
              "      <th>text_Stem2</th>\n",
              "      <th>text_Lem1</th>\n",
              "      <th>text_Lem2</th>\n",
              "    </tr>\n",
              "  </thead>\n",
              "  <tbody>\n",
              "    <tr>\n",
              "      <th>0</th>\n",
              "      <td>“ . think one charm young ladi ever met , migh...</td>\n",
              "      <td>“ think one charm young ladi ever met might us...</td>\n",
              "      <td>“ . think one charm young ladies ever meet , m...</td>\n",
              "      <td>“ think one charm young ladies ever meet might...</td>\n",
              "    </tr>\n",
              "    <tr>\n",
              "      <th>1</th>\n",
              "      <td>`` , '' repli , sudden conscious , `` find ; i...</td>\n",
              "      <td>`` '' repli sudden conscious `` find ignor goo...</td>\n",
              "      <td>`` , '' reply , sudden consciousness , `` find...</td>\n",
              "      <td>`` '' reply sudden consciousness `` find ignor...</td>\n",
              "    </tr>\n",
              "    <tr>\n",
              "      <th>2</th>\n",
              "      <td>ladi state intent scream , cours would scream ...</td>\n",
              "      <td>ladi state intent scream cours would scream ad...</td>\n",
              "      <td>lady state intention scream , course would scr...</td>\n",
              "      <td>lady state intention scream course would screa...</td>\n",
              "    </tr>\n",
              "    <tr>\n",
              "      <th>3</th>\n",
              "      <td>“ suddenli silenc heard sound sent heart mouth...</td>\n",
              "      <td>“ suddenli silenc heard sound sent heart mouth...</td>\n",
              "      <td>“ suddenly silence hear sound send heart mouth...</td>\n",
              "      <td>“ suddenly silence hear sound send heart mouth...</td>\n",
              "    </tr>\n",
              "    <tr>\n",
              "      <th>4</th>\n",
              "      <td>convict remain unchang . far know -- believ ho...</td>\n",
              "      <td>convict remain unchang far know -- believ hone...</td>\n",
              "      <td>conviction remain unchanged . far know -- beli...</td>\n",
              "      <td>conviction remain unchanged far know -- believ...</td>\n",
              "    </tr>\n",
              "  </tbody>\n",
              "</table>\n",
              "</div>\n",
              "      <button class=\"colab-df-convert\" onclick=\"convertToInteractive('df-e54e28be-0b27-41e1-828b-44ee67e1fdd6')\"\n",
              "              title=\"Convert this dataframe to an interactive table.\"\n",
              "              style=\"display:none;\">\n",
              "        \n",
              "  <svg xmlns=\"http://www.w3.org/2000/svg\" height=\"24px\"viewBox=\"0 0 24 24\"\n",
              "       width=\"24px\">\n",
              "    <path d=\"M0 0h24v24H0V0z\" fill=\"none\"/>\n",
              "    <path d=\"M18.56 5.44l.94 2.06.94-2.06 2.06-.94-2.06-.94-.94-2.06-.94 2.06-2.06.94zm-11 1L8.5 8.5l.94-2.06 2.06-.94-2.06-.94L8.5 2.5l-.94 2.06-2.06.94zm10 10l.94 2.06.94-2.06 2.06-.94-2.06-.94-.94-2.06-.94 2.06-2.06.94z\"/><path d=\"M17.41 7.96l-1.37-1.37c-.4-.4-.92-.59-1.43-.59-.52 0-1.04.2-1.43.59L10.3 9.45l-7.72 7.72c-.78.78-.78 2.05 0 2.83L4 21.41c.39.39.9.59 1.41.59.51 0 1.02-.2 1.41-.59l7.78-7.78 2.81-2.81c.8-.78.8-2.07 0-2.86zM5.41 20L4 18.59l7.72-7.72 1.47 1.35L5.41 20z\"/>\n",
              "  </svg>\n",
              "      </button>\n",
              "      \n",
              "  <style>\n",
              "    .colab-df-container {\n",
              "      display:flex;\n",
              "      flex-wrap:wrap;\n",
              "      gap: 12px;\n",
              "    }\n",
              "\n",
              "    .colab-df-convert {\n",
              "      background-color: #E8F0FE;\n",
              "      border: none;\n",
              "      border-radius: 50%;\n",
              "      cursor: pointer;\n",
              "      display: none;\n",
              "      fill: #1967D2;\n",
              "      height: 32px;\n",
              "      padding: 0 0 0 0;\n",
              "      width: 32px;\n",
              "    }\n",
              "\n",
              "    .colab-df-convert:hover {\n",
              "      background-color: #E2EBFA;\n",
              "      box-shadow: 0px 1px 2px rgba(60, 64, 67, 0.3), 0px 1px 3px 1px rgba(60, 64, 67, 0.15);\n",
              "      fill: #174EA6;\n",
              "    }\n",
              "\n",
              "    [theme=dark] .colab-df-convert {\n",
              "      background-color: #3B4455;\n",
              "      fill: #D2E3FC;\n",
              "    }\n",
              "\n",
              "    [theme=dark] .colab-df-convert:hover {\n",
              "      background-color: #434B5C;\n",
              "      box-shadow: 0px 1px 3px 1px rgba(0, 0, 0, 0.15);\n",
              "      filter: drop-shadow(0px 1px 2px rgba(0, 0, 0, 0.3));\n",
              "      fill: #FFFFFF;\n",
              "    }\n",
              "  </style>\n",
              "\n",
              "      <script>\n",
              "        const buttonEl =\n",
              "          document.querySelector('#df-e54e28be-0b27-41e1-828b-44ee67e1fdd6 button.colab-df-convert');\n",
              "        buttonEl.style.display =\n",
              "          google.colab.kernel.accessAllowed ? 'block' : 'none';\n",
              "\n",
              "        async function convertToInteractive(key) {\n",
              "          const element = document.querySelector('#df-e54e28be-0b27-41e1-828b-44ee67e1fdd6');\n",
              "          const dataTable =\n",
              "            await google.colab.kernel.invokeFunction('convertToInteractive',\n",
              "                                                     [key], {});\n",
              "          if (!dataTable) return;\n",
              "\n",
              "          const docLinkHtml = 'Like what you see? Visit the ' +\n",
              "            '<a target=\"_blank\" href=https://colab.research.google.com/notebooks/data_table.ipynb>data table notebook</a>'\n",
              "            + ' to learn more about interactive tables.';\n",
              "          element.innerHTML = '';\n",
              "          dataTable['output_type'] = 'display_data';\n",
              "          await google.colab.output.renderOutput(dataTable, element);\n",
              "          const docLink = document.createElement('div');\n",
              "          docLink.innerHTML = docLinkHtml;\n",
              "          element.appendChild(docLink);\n",
              "        }\n",
              "      </script>\n",
              "    </div>\n",
              "  </div>\n",
              "  "
            ]
          },
          "metadata": {},
          "execution_count": 16
        }
      ]
    },
    {
      "cell_type": "code",
      "source": [
        "X_train5 = tfidf.fit_transform(X_train_5['text_Lem1'])\n",
        "X_test5 = tfidf.transform(X_test_5['text_Lem1'])"
      ],
      "metadata": {
        "id": "nNQkvscNo2Cg"
      },
      "execution_count": null,
      "outputs": []
    },
    {
      "cell_type": "code",
      "source": [
        "import xgboost\n",
        "xgbt = xgboost.XGBClassifier(max_depth = 3, n_estimators = 200, learning_rate = 0.1, random_state = 777)\n",
        "\n",
        "xgbt.fit(X_train5, y_train_5)\n",
        "xgbt.score(X_train5, y_train_5)"
      ],
      "metadata": {
        "colab": {
          "base_uri": "https://localhost:8080/"
        },
        "outputId": "e734a8e3-4ed0-45aa-d7ae-6195af1279a8",
        "id": "WcRXtadGpSVE"
      },
      "execution_count": null,
      "outputs": [
        {
          "output_type": "execute_result",
          "data": {
            "text/plain": [
              "0.5835565516864374"
            ]
          },
          "metadata": {},
          "execution_count": 18
        }
      ]
    },
    {
      "cell_type": "code",
      "source": [
        "pred = xgbt.predict_proba(X_test5)\n",
        "# submission\n",
        "sample_submission = pd.read_csv('sample_submission.csv', index_col=0, encoding = 'utf-8')\n",
        "sample_submission[['0','1','2','3','4']] = pred\n",
        "sample_submission.to_csv('submission_5_tfLo.csv', index = True, encoding = 'utf-8')"
      ],
      "metadata": {
        "id": "7dsOLFTvpSVF"
      },
      "execution_count": null,
      "outputs": []
    },
    {
      "cell_type": "markdown",
      "source": [
        "## 3) LSTM"
      ],
      "metadata": {
        "id": "6j2vt_MDPKvh"
      }
    },
    {
      "cell_type": "markdown",
      "source": [
        "### 데이터셋1 (세영)"
      ],
      "metadata": {
        "id": "cMx7YRRXn4L1"
      }
    },
    {
      "cell_type": "code",
      "source": [
        "train_L = pd.read_csv('/content/drive/MyDrive/OB 1조/프로젝트2/data/train_1-1.csv', index_col=0)\n",
        "test_L = pd.read_csv('/content/drive/MyDrive/OB 1조/프로젝트2/data/test_1-1.csv', index_col=0)"
      ],
      "metadata": {
        "id": "0lAId_Wz8HjX"
      },
      "execution_count": null,
      "outputs": []
    },
    {
      "cell_type": "code",
      "source": [
        "train_L"
      ],
      "metadata": {
        "colab": {
          "base_uri": "https://localhost:8080/",
          "height": 424
        },
        "outputId": "e35a6e8b-9b27-496e-804a-9138e10f29a8",
        "id": "ba_UGTWN-lAr"
      },
      "execution_count": null,
      "outputs": [
        {
          "output_type": "execute_result",
          "data": {
            "text/plain": [
              "       index                                               text  author  \\\n",
              "0          0  he wa almost choke . there wa so much , so muc...       3   \n",
              "1          1            “ your sister ask for it , i suppos ? ”       2   \n",
              "2          2  she wa engag one day as she walk , in perus ja...       1   \n",
              "3          3  the captain wa in the porch , keep himself car...       4   \n",
              "4          4  “ have merci , gentlemen ! ” odin flung up hi ...       3   \n",
              "...      ...                                                ...     ...   \n",
              "54874  54874  “ is that you , mr. smith ? ” odin whisper . “...       2   \n",
              "54875  54875  i told my plan to the captain , and between us...       4   \n",
              "54876  54876  `` your sincer well-wish , friend , and sister...       1   \n",
              "54877  54877           “ then you want me to lend you money ? ”       3   \n",
              "54878  54878  it certainli had not occur to me befor , but i...       0   \n",
              "\n",
              "                                                text_del  \n",
              "0      he wa almost choke there wa so much so much he...  \n",
              "1                        your sister ask for it i suppos  \n",
              "2      she wa engag one day as she walk in perus jane...  \n",
              "3      the captain wa in the porch keep himself care ...  \n",
              "4      have merci gentlemen odin flung up hi hand don...  \n",
              "...                                                  ...  \n",
              "54874  is that you mr smith odin whisper i hardli dar...  \n",
              "54875  i told my plan to the captain and between us w...  \n",
              "54876   your sincer wellwish friend and sister luci odin  \n",
              "54877                 then you want me to lend you money  \n",
              "54878  it certainli had not occur to me befor but i s...  \n",
              "\n",
              "[54879 rows x 4 columns]"
            ],
            "text/html": [
              "\n",
              "  <div id=\"df-ae65d6f4-36ef-4092-b952-e6aa634ed833\">\n",
              "    <div class=\"colab-df-container\">\n",
              "      <div>\n",
              "<style scoped>\n",
              "    .dataframe tbody tr th:only-of-type {\n",
              "        vertical-align: middle;\n",
              "    }\n",
              "\n",
              "    .dataframe tbody tr th {\n",
              "        vertical-align: top;\n",
              "    }\n",
              "\n",
              "    .dataframe thead th {\n",
              "        text-align: right;\n",
              "    }\n",
              "</style>\n",
              "<table border=\"1\" class=\"dataframe\">\n",
              "  <thead>\n",
              "    <tr style=\"text-align: right;\">\n",
              "      <th></th>\n",
              "      <th>index</th>\n",
              "      <th>text</th>\n",
              "      <th>author</th>\n",
              "      <th>text_del</th>\n",
              "    </tr>\n",
              "  </thead>\n",
              "  <tbody>\n",
              "    <tr>\n",
              "      <th>0</th>\n",
              "      <td>0</td>\n",
              "      <td>he wa almost choke . there wa so much , so muc...</td>\n",
              "      <td>3</td>\n",
              "      <td>he wa almost choke there wa so much so much he...</td>\n",
              "    </tr>\n",
              "    <tr>\n",
              "      <th>1</th>\n",
              "      <td>1</td>\n",
              "      <td>“ your sister ask for it , i suppos ? ”</td>\n",
              "      <td>2</td>\n",
              "      <td>your sister ask for it i suppos</td>\n",
              "    </tr>\n",
              "    <tr>\n",
              "      <th>2</th>\n",
              "      <td>2</td>\n",
              "      <td>she wa engag one day as she walk , in perus ja...</td>\n",
              "      <td>1</td>\n",
              "      <td>she wa engag one day as she walk in perus jane...</td>\n",
              "    </tr>\n",
              "    <tr>\n",
              "      <th>3</th>\n",
              "      <td>3</td>\n",
              "      <td>the captain wa in the porch , keep himself car...</td>\n",
              "      <td>4</td>\n",
              "      <td>the captain wa in the porch keep himself care ...</td>\n",
              "    </tr>\n",
              "    <tr>\n",
              "      <th>4</th>\n",
              "      <td>4</td>\n",
              "      <td>“ have merci , gentlemen ! ” odin flung up hi ...</td>\n",
              "      <td>3</td>\n",
              "      <td>have merci gentlemen odin flung up hi hand don...</td>\n",
              "    </tr>\n",
              "    <tr>\n",
              "      <th>...</th>\n",
              "      <td>...</td>\n",
              "      <td>...</td>\n",
              "      <td>...</td>\n",
              "      <td>...</td>\n",
              "    </tr>\n",
              "    <tr>\n",
              "      <th>54874</th>\n",
              "      <td>54874</td>\n",
              "      <td>“ is that you , mr. smith ? ” odin whisper . “...</td>\n",
              "      <td>2</td>\n",
              "      <td>is that you mr smith odin whisper i hardli dar...</td>\n",
              "    </tr>\n",
              "    <tr>\n",
              "      <th>54875</th>\n",
              "      <td>54875</td>\n",
              "      <td>i told my plan to the captain , and between us...</td>\n",
              "      <td>4</td>\n",
              "      <td>i told my plan to the captain and between us w...</td>\n",
              "    </tr>\n",
              "    <tr>\n",
              "      <th>54876</th>\n",
              "      <td>54876</td>\n",
              "      <td>`` your sincer well-wish , friend , and sister...</td>\n",
              "      <td>1</td>\n",
              "      <td>your sincer wellwish friend and sister luci odin</td>\n",
              "    </tr>\n",
              "    <tr>\n",
              "      <th>54877</th>\n",
              "      <td>54877</td>\n",
              "      <td>“ then you want me to lend you money ? ”</td>\n",
              "      <td>3</td>\n",
              "      <td>then you want me to lend you money</td>\n",
              "    </tr>\n",
              "    <tr>\n",
              "      <th>54878</th>\n",
              "      <td>54878</td>\n",
              "      <td>it certainli had not occur to me befor , but i...</td>\n",
              "      <td>0</td>\n",
              "      <td>it certainli had not occur to me befor but i s...</td>\n",
              "    </tr>\n",
              "  </tbody>\n",
              "</table>\n",
              "<p>54879 rows × 4 columns</p>\n",
              "</div>\n",
              "      <button class=\"colab-df-convert\" onclick=\"convertToInteractive('df-ae65d6f4-36ef-4092-b952-e6aa634ed833')\"\n",
              "              title=\"Convert this dataframe to an interactive table.\"\n",
              "              style=\"display:none;\">\n",
              "        \n",
              "  <svg xmlns=\"http://www.w3.org/2000/svg\" height=\"24px\"viewBox=\"0 0 24 24\"\n",
              "       width=\"24px\">\n",
              "    <path d=\"M0 0h24v24H0V0z\" fill=\"none\"/>\n",
              "    <path d=\"M18.56 5.44l.94 2.06.94-2.06 2.06-.94-2.06-.94-.94-2.06-.94 2.06-2.06.94zm-11 1L8.5 8.5l.94-2.06 2.06-.94-2.06-.94L8.5 2.5l-.94 2.06-2.06.94zm10 10l.94 2.06.94-2.06 2.06-.94-2.06-.94-.94-2.06-.94 2.06-2.06.94z\"/><path d=\"M17.41 7.96l-1.37-1.37c-.4-.4-.92-.59-1.43-.59-.52 0-1.04.2-1.43.59L10.3 9.45l-7.72 7.72c-.78.78-.78 2.05 0 2.83L4 21.41c.39.39.9.59 1.41.59.51 0 1.02-.2 1.41-.59l7.78-7.78 2.81-2.81c.8-.78.8-2.07 0-2.86zM5.41 20L4 18.59l7.72-7.72 1.47 1.35L5.41 20z\"/>\n",
              "  </svg>\n",
              "      </button>\n",
              "      \n",
              "  <style>\n",
              "    .colab-df-container {\n",
              "      display:flex;\n",
              "      flex-wrap:wrap;\n",
              "      gap: 12px;\n",
              "    }\n",
              "\n",
              "    .colab-df-convert {\n",
              "      background-color: #E8F0FE;\n",
              "      border: none;\n",
              "      border-radius: 50%;\n",
              "      cursor: pointer;\n",
              "      display: none;\n",
              "      fill: #1967D2;\n",
              "      height: 32px;\n",
              "      padding: 0 0 0 0;\n",
              "      width: 32px;\n",
              "    }\n",
              "\n",
              "    .colab-df-convert:hover {\n",
              "      background-color: #E2EBFA;\n",
              "      box-shadow: 0px 1px 2px rgba(60, 64, 67, 0.3), 0px 1px 3px 1px rgba(60, 64, 67, 0.15);\n",
              "      fill: #174EA6;\n",
              "    }\n",
              "\n",
              "    [theme=dark] .colab-df-convert {\n",
              "      background-color: #3B4455;\n",
              "      fill: #D2E3FC;\n",
              "    }\n",
              "\n",
              "    [theme=dark] .colab-df-convert:hover {\n",
              "      background-color: #434B5C;\n",
              "      box-shadow: 0px 1px 3px 1px rgba(0, 0, 0, 0.15);\n",
              "      filter: drop-shadow(0px 1px 2px rgba(0, 0, 0, 0.3));\n",
              "      fill: #FFFFFF;\n",
              "    }\n",
              "  </style>\n",
              "\n",
              "      <script>\n",
              "        const buttonEl =\n",
              "          document.querySelector('#df-ae65d6f4-36ef-4092-b952-e6aa634ed833 button.colab-df-convert');\n",
              "        buttonEl.style.display =\n",
              "          google.colab.kernel.accessAllowed ? 'block' : 'none';\n",
              "\n",
              "        async function convertToInteractive(key) {\n",
              "          const element = document.querySelector('#df-ae65d6f4-36ef-4092-b952-e6aa634ed833');\n",
              "          const dataTable =\n",
              "            await google.colab.kernel.invokeFunction('convertToInteractive',\n",
              "                                                     [key], {});\n",
              "          if (!dataTable) return;\n",
              "\n",
              "          const docLinkHtml = 'Like what you see? Visit the ' +\n",
              "            '<a target=\"_blank\" href=https://colab.research.google.com/notebooks/data_table.ipynb>data table notebook</a>'\n",
              "            + ' to learn more about interactive tables.';\n",
              "          element.innerHTML = '';\n",
              "          dataTable['output_type'] = 'display_data';\n",
              "          await google.colab.output.renderOutput(dataTable, element);\n",
              "          const docLink = document.createElement('div');\n",
              "          docLink.innerHTML = docLinkHtml;\n",
              "          element.appendChild(docLink);\n",
              "        }\n",
              "      </script>\n",
              "    </div>\n",
              "  </div>\n",
              "  "
            ]
          },
          "metadata": {},
          "execution_count": 51
        }
      ]
    },
    {
      "cell_type": "markdown",
      "source": [
        "**1. 부호 제거 한 버전**"
      ],
      "metadata": {
        "id": "ZbRvwruMj3sf"
      }
    },
    {
      "cell_type": "code",
      "source": [
        "X_train=np.array([x for x in train_L['text_del']])\n",
        "X_test = np.array([x for x in test_L['text_del']])\n",
        "Y_train = np.array([x for x in train['author']])"
      ],
      "metadata": {
        "id": "4leo6CGJ-lAx"
      },
      "execution_count": null,
      "outputs": []
    },
    {
      "cell_type": "code",
      "source": [
        "print(X_train)\n",
        "print(X_test)\n",
        "print(Y_train)"
      ],
      "metadata": {
        "colab": {
          "base_uri": "https://localhost:8080/"
        },
        "id": "JoKCYDOm-lAz",
        "outputId": "4bf0eab8-dc22-463b-fad8-0d4d3b0050d8"
      },
      "execution_count": null,
      "outputs": [
        {
          "output_type": "stream",
          "name": "stdout",
          "text": [
            "['he wa almost choke there wa so much so much he want to say but strang exclam were all that came from hi lip the pole gaze fixedli at him at the bundl of note in hi hand look at odin and wa in evid perplex'\n",
            " 'your sister ask for it i suppos'\n",
            " 'she wa engag one day as she walk in perus jane last letter and dwell on some passag which prove that jane had not written in spirit when instead of be again surpris by mr odin she saw on look up that odin wa meet her put away the letter immedi and forc a smile she said'\n",
            " ... 'your sincer wellwish friend and sister luci odin'\n",
            " 'then you want me to lend you money'\n",
            " 'it certainli had not occur to me befor but i said ye i should like that']\n",
            "['not at all i think she is one of the most charm young ladi i ever met and might have been most use in such work as we have been do she had a decid geniu that way wit the way in which she preserv that agra plan from all the other paper of her father but love is an emot thing and whatev is emot is oppos to that true cold reason which i place abov all thing i should never marri myself lest i bia my judgment'\n",
            " 'no repli he with sudden conscious not to find it in you for i can not be ignor that to you to your good i owe it alli feel iti would express it if i couldbut as you well know i am no orat'\n",
            " 'as the ladi had state her intent of scream of cours she would have scream at thi addit bold but that the exert wa render unnecessari by a hasti knock at the door which wa no sooner heard than mr odin dart with much agil to the wine bottl and began dust them with great violenc while the matron sharpli demand who wa there'\n",
            " ...\n",
            " 'odin have carri hi thank to odin proceed with hi happi to luci and such wa the excess of it by the time he reach bartlett build that she wa abl to assur mr odin who call on her again the next day with her congratul that she had never seen him in such spirit befor in her life'\n",
            " 'soon after thi upon odin leav the room mama said odin i have an alarm on the subject of ill which i can not conceal from you i am sure odin is not well we have now been here almost a fortnight and yet he doe not come noth but real indisposit could occas thi extraordinari delay what els can detain him at norland'\n",
            " 'and all the wors for the doom man that the denounc wa a wellknown citizen hi own attach friend the father of hi wife one of the frenzi aspir of the populac wa for imit of the question public virtu of antiqu and for sacrific and selfimmol on the peopl altar therefor when the presid said els had hi own head quiver on hi shoulder that the good physician of the republ would deserv better still of the republ by root out an obnoxi famili of aristocrat and would doubtless feel a sacr glow and joy in make hi daughter a widow and her child an orphan there wa wild excit patriot fervour not a touch of human sympathi']\n",
            "[3 2 1 ... 1 3 0]\n"
          ]
        }
      ]
    },
    {
      "cell_type": "markdown",
      "source": [
        "**Vectorization**\n"
      ],
      "metadata": {
        "id": "46fTm22u-lA1"
      }
    },
    {
      "cell_type": "code",
      "source": [
        "# Tokenizer\n",
        "from keras.preprocessing.text import Tokenizer\n",
        "vocab_size = 2000  \n",
        "\n",
        "tokenizer = Tokenizer(num_words = vocab_size)  \n",
        "  # Tokenizer 는 데이터에 출현하는 모든 단어의 개수를 세고 빈도 수로 정렬해서 \n",
        "  # num_words 에 지정된 만큼만 숫자로 반환하고, 나머지는 0 으로 반환합니다                 \n",
        "tokenizer.fit_on_texts(X_train) # Tokenizer 에 데이터 실제로 입력\n",
        "sequences_train = tokenizer.texts_to_sequences(X_train)    # 문장 내 모든 단어를 시퀀스 번호로 변환\n",
        "sequences_test = tokenizer.texts_to_sequences(X_test)      # 문장 내 모든 단어를 시퀀스 번호로 변환\n",
        "\n",
        "print(len(sequences_train), len(sequences_test))"
      ],
      "metadata": {
        "colab": {
          "base_uri": "https://localhost:8080/"
        },
        "outputId": "b316242a-32d9-473f-ef0b-c588480e5273",
        "id": "0TSxWtpe-lA4"
      },
      "execution_count": null,
      "outputs": [
        {
          "output_type": "stream",
          "name": "stdout",
          "text": [
            "54879 19617\n"
          ]
        }
      ]
    },
    {
      "cell_type": "code",
      "source": [
        "# 변환된 시퀀스 번호를 이용해 단어 임베딩 벡터 생성\n",
        "word_index = tokenizer.word_index"
      ],
      "metadata": {
        "id": "ioNtOpsT-lA6"
      },
      "execution_count": null,
      "outputs": []
    },
    {
      "cell_type": "code",
      "source": [
        "# 독립변수 데이터 전처리\n",
        "  ## 문장의 길이기 제각각이기 때문에 벡터 크기 다 다름\n",
        "  ## 그러므로 최대 시퀀스 길이 크기(211) 만큼 넉넉하게 늘리고\n",
        "  ## 패딩(padding) 작업을 통해 나머지 빈 공간을 0으로 채움\n",
        "\n",
        "from tensorflow.keras.preprocessing.sequence import pad_sequences\n",
        "\n",
        "max_length = 150    # 위에서 그래프 확인 후 정함\n",
        "padding_type='post'\n",
        "\n",
        "train_x = pad_sequences(sequences_train, padding='post', maxlen=max_length)\n",
        "test_x = pad_sequences(sequences_test, padding=padding_type, maxlen=max_length)\n",
        "\n",
        "print(train_x.shape, test_x.shape)"
      ],
      "metadata": {
        "colab": {
          "base_uri": "https://localhost:8080/"
        },
        "outputId": "5c510cbe-1b31-494e-9977-d3e95d58488c",
        "id": "rP6AYd4P-lA6"
      },
      "execution_count": null,
      "outputs": [
        {
          "output_type": "stream",
          "name": "stdout",
          "text": [
            "(54879, 150) (19617, 150)\n"
          ]
        }
      ]
    },
    {
      "cell_type": "code",
      "source": [
        "from keras.utils import np_utils\n",
        "\n",
        "# 종속변수 데이터 전처리\n",
        "train_y = np_utils.to_categorical(Y_train) # Y_train 에 원-핫 인코딩\n",
        "print(train_y)\n",
        "print(train_y.shape)"
      ],
      "metadata": {
        "colab": {
          "base_uri": "https://localhost:8080/"
        },
        "outputId": "34ce126b-6c66-49cd-fe4b-0af9bdd0a78a",
        "id": "jxAuP-0T-lBB"
      },
      "execution_count": null,
      "outputs": [
        {
          "output_type": "stream",
          "name": "stdout",
          "text": [
            "[[0. 0. 0. 1. 0.]\n",
            " [0. 0. 1. 0. 0.]\n",
            " [0. 1. 0. 0. 0.]\n",
            " ...\n",
            " [0. 1. 0. 0. 0.]\n",
            " [0. 0. 0. 1. 0.]\n",
            " [1. 0. 0. 0. 0.]]\n",
            "(54879, 5)\n"
          ]
        }
      ]
    },
    {
      "cell_type": "markdown",
      "source": [
        "**모델링**"
      ],
      "metadata": {
        "id": "VGxj87C4-lBG"
      }
    },
    {
      "cell_type": "code",
      "source": [
        "pip install keras"
      ],
      "metadata": {
        "colab": {
          "base_uri": "https://localhost:8080/"
        },
        "outputId": "200cbe44-d48d-48ed-f5c9-5a4bde8bc86b",
        "id": "8uNSCXer-lBI"
      },
      "execution_count": null,
      "outputs": [
        {
          "output_type": "stream",
          "name": "stdout",
          "text": [
            "Looking in indexes: https://pypi.org/simple, https://us-python.pkg.dev/colab-wheels/public/simple/\n",
            "Requirement already satisfied: keras in /usr/local/lib/python3.10/dist-packages (2.12.0)\n"
          ]
        }
      ]
    },
    {
      "cell_type": "code",
      "source": [
        "#파라미터 설정\n",
        "vocab_size = 2000 # 제일 많이 사용하는 사이즈\n",
        "embedding_dim = 200  \n",
        "max_length = 150    # 위에서 그래프 확인 후 정함\n",
        "padding_type='post'\n",
        "#oov_tok = \"<OOV>\""
      ],
      "metadata": {
        "id": "Ymw2Zxte-lBL"
      },
      "execution_count": null,
      "outputs": []
    },
    {
      "cell_type": "code",
      "source": [
        "# 양방향 LSTM 레이어를 사용한 모델 (model3) 정의\n",
        "\n",
        "from keras.models import Sequential\n",
        "from keras.layers import Embedding\n",
        "import tensorflow as tf\n",
        "from keras.layers import LSTM\n",
        "from keras.layers import Dense\n",
        "\n",
        "\n",
        "model3 = Sequential([Embedding(vocab_size, embedding_dim, input_length =max_length),\n",
        "        tf.keras.layers.Bidirectional(LSTM(units = 64, return_sequences = True)),\n",
        "        tf.keras.layers.Bidirectional(LSTM(units = 64, return_sequences = True)),\n",
        "        tf.keras.layers.Bidirectional(LSTM(units = 64)),\n",
        "        Dense(5, activation='softmax')    # 결과값이 0~4 이므로 Dense(5)\n",
        "    ])\n",
        "    \n",
        "model3.compile(loss= 'categorical_crossentropy', #여러개 정답 중 하나 맞추는 문제이므로 손실 함수는 categorical_crossentropy\n",
        "              optimizer= 'adam',\n",
        "              metrics = ['accuracy']) \n",
        "model3.summary()"
      ],
      "metadata": {
        "colab": {
          "base_uri": "https://localhost:8080/"
        },
        "outputId": "2dacbbef-8f86-48e8-8888-0c26f083f7d0",
        "id": "U8KxbR7M-lBP"
      },
      "execution_count": null,
      "outputs": [
        {
          "output_type": "stream",
          "name": "stdout",
          "text": [
            "Model: \"sequential_2\"\n",
            "_________________________________________________________________\n",
            " Layer (type)                Output Shape              Param #   \n",
            "=================================================================\n",
            " embedding_2 (Embedding)     (None, 150, 200)          400000    \n",
            "                                                                 \n",
            " bidirectional_6 (Bidirectio  (None, 150, 128)         135680    \n",
            " nal)                                                            \n",
            "                                                                 \n",
            " bidirectional_7 (Bidirectio  (None, 150, 128)         98816     \n",
            " nal)                                                            \n",
            "                                                                 \n",
            " bidirectional_8 (Bidirectio  (None, 128)              98816     \n",
            " nal)                                                            \n",
            "                                                                 \n",
            " dense_2 (Dense)             (None, 5)                 645       \n",
            "                                                                 \n",
            "=================================================================\n",
            "Total params: 733,957\n",
            "Trainable params: 733,957\n",
            "Non-trainable params: 0\n",
            "_________________________________________________________________\n"
          ]
        }
      ]
    },
    {
      "cell_type": "code",
      "source": [
        "# 모델 실행해보기\n",
        "history = model3.fit(train_x, train_y, epochs=3, batch_size=100, validation_split= 0.2)"
      ],
      "metadata": {
        "colab": {
          "base_uri": "https://localhost:8080/"
        },
        "outputId": "5b56a467-99af-4e9c-c1ff-baeb4139a801",
        "id": "4wUYxgKJ-lBT"
      },
      "execution_count": null,
      "outputs": [
        {
          "output_type": "stream",
          "name": "stdout",
          "text": [
            "Epoch 1/3\n",
            "440/440 [==============================] - 61s 116ms/step - loss: 1.0996 - accuracy: 0.5538 - val_loss: 0.9414 - val_accuracy: 0.6503\n",
            "Epoch 2/3\n",
            "440/440 [==============================] - 26s 58ms/step - loss: 0.8510 - accuracy: 0.6779 - val_loss: 0.8722 - val_accuracy: 0.6640\n",
            "Epoch 3/3\n",
            "440/440 [==============================] - 22s 51ms/step - loss: 0.8067 - accuracy: 0.6941 - val_loss: 0.8279 - val_accuracy: 0.6874\n"
          ]
        }
      ]
    },
    {
      "cell_type": "code",
      "source": [
        "test_y = np.zeros((test_x.shape[0], 5))"
      ],
      "metadata": {
        "id": "tqg1uBqg-lBV"
      },
      "execution_count": null,
      "outputs": []
    },
    {
      "cell_type": "code",
      "source": [
        "test_y=model3.predict(test_x)"
      ],
      "metadata": {
        "colab": {
          "base_uri": "https://localhost:8080/"
        },
        "outputId": "8a8fcc4f-e711-4cc0-df5f-2b8b3ca22709",
        "id": "TkIt6Hzb-lBW"
      },
      "execution_count": null,
      "outputs": [
        {
          "output_type": "stream",
          "name": "stdout",
          "text": [
            "614/614 [==============================] - 11s 14ms/step\n"
          ]
        }
      ]
    },
    {
      "cell_type": "code",
      "source": [
        "submission=pd.read_csv('/content/drive/MyDrive/OB 1조/프로젝트2/data/sample_submission.csv')"
      ],
      "metadata": {
        "id": "2DCWk0yg-lBY"
      },
      "execution_count": null,
      "outputs": []
    },
    {
      "cell_type": "code",
      "source": [
        "submission[['0','1','2','3','4']] = test_y\n",
        "submission"
      ],
      "metadata": {
        "colab": {
          "base_uri": "https://localhost:8080/",
          "height": 424
        },
        "outputId": "303f91de-c5e5-48ff-a390-c758a3231a7e",
        "id": "iG3-J4uD-lBZ"
      },
      "execution_count": null,
      "outputs": [
        {
          "output_type": "execute_result",
          "data": {
            "text/plain": [
              "       index         0         1         2         3         4\n",
              "0          0  0.059092  0.593869  0.232545  0.097376  0.017118\n",
              "1          1  0.247491  0.319500  0.018092  0.027849  0.387067\n",
              "2          2  0.788156  0.022335  0.073874  0.008766  0.106869\n",
              "3          3  0.016485  0.021815  0.944260  0.005098  0.012341\n",
              "4          4  0.928349  0.007645  0.020883  0.015221  0.027902\n",
              "...      ...       ...       ...       ...       ...       ...\n",
              "19612  19612  0.011939  0.982462  0.000712  0.003813  0.001074\n",
              "19613  19613  0.056047  0.020073  0.107436  0.133672  0.682772\n",
              "19614  19614  0.014137  0.979795  0.001006  0.003888  0.001174\n",
              "19615  19615  0.017643  0.969467  0.002191  0.006996  0.003702\n",
              "19616  19616  0.429444  0.022159  0.061380  0.044998  0.442019\n",
              "\n",
              "[19617 rows x 6 columns]"
            ],
            "text/html": [
              "\n",
              "  <div id=\"df-be85a424-db8c-40cc-a919-66caafa9392d\">\n",
              "    <div class=\"colab-df-container\">\n",
              "      <div>\n",
              "<style scoped>\n",
              "    .dataframe tbody tr th:only-of-type {\n",
              "        vertical-align: middle;\n",
              "    }\n",
              "\n",
              "    .dataframe tbody tr th {\n",
              "        vertical-align: top;\n",
              "    }\n",
              "\n",
              "    .dataframe thead th {\n",
              "        text-align: right;\n",
              "    }\n",
              "</style>\n",
              "<table border=\"1\" class=\"dataframe\">\n",
              "  <thead>\n",
              "    <tr style=\"text-align: right;\">\n",
              "      <th></th>\n",
              "      <th>index</th>\n",
              "      <th>0</th>\n",
              "      <th>1</th>\n",
              "      <th>2</th>\n",
              "      <th>3</th>\n",
              "      <th>4</th>\n",
              "    </tr>\n",
              "  </thead>\n",
              "  <tbody>\n",
              "    <tr>\n",
              "      <th>0</th>\n",
              "      <td>0</td>\n",
              "      <td>0.059092</td>\n",
              "      <td>0.593869</td>\n",
              "      <td>0.232545</td>\n",
              "      <td>0.097376</td>\n",
              "      <td>0.017118</td>\n",
              "    </tr>\n",
              "    <tr>\n",
              "      <th>1</th>\n",
              "      <td>1</td>\n",
              "      <td>0.247491</td>\n",
              "      <td>0.319500</td>\n",
              "      <td>0.018092</td>\n",
              "      <td>0.027849</td>\n",
              "      <td>0.387067</td>\n",
              "    </tr>\n",
              "    <tr>\n",
              "      <th>2</th>\n",
              "      <td>2</td>\n",
              "      <td>0.788156</td>\n",
              "      <td>0.022335</td>\n",
              "      <td>0.073874</td>\n",
              "      <td>0.008766</td>\n",
              "      <td>0.106869</td>\n",
              "    </tr>\n",
              "    <tr>\n",
              "      <th>3</th>\n",
              "      <td>3</td>\n",
              "      <td>0.016485</td>\n",
              "      <td>0.021815</td>\n",
              "      <td>0.944260</td>\n",
              "      <td>0.005098</td>\n",
              "      <td>0.012341</td>\n",
              "    </tr>\n",
              "    <tr>\n",
              "      <th>4</th>\n",
              "      <td>4</td>\n",
              "      <td>0.928349</td>\n",
              "      <td>0.007645</td>\n",
              "      <td>0.020883</td>\n",
              "      <td>0.015221</td>\n",
              "      <td>0.027902</td>\n",
              "    </tr>\n",
              "    <tr>\n",
              "      <th>...</th>\n",
              "      <td>...</td>\n",
              "      <td>...</td>\n",
              "      <td>...</td>\n",
              "      <td>...</td>\n",
              "      <td>...</td>\n",
              "      <td>...</td>\n",
              "    </tr>\n",
              "    <tr>\n",
              "      <th>19612</th>\n",
              "      <td>19612</td>\n",
              "      <td>0.011939</td>\n",
              "      <td>0.982462</td>\n",
              "      <td>0.000712</td>\n",
              "      <td>0.003813</td>\n",
              "      <td>0.001074</td>\n",
              "    </tr>\n",
              "    <tr>\n",
              "      <th>19613</th>\n",
              "      <td>19613</td>\n",
              "      <td>0.056047</td>\n",
              "      <td>0.020073</td>\n",
              "      <td>0.107436</td>\n",
              "      <td>0.133672</td>\n",
              "      <td>0.682772</td>\n",
              "    </tr>\n",
              "    <tr>\n",
              "      <th>19614</th>\n",
              "      <td>19614</td>\n",
              "      <td>0.014137</td>\n",
              "      <td>0.979795</td>\n",
              "      <td>0.001006</td>\n",
              "      <td>0.003888</td>\n",
              "      <td>0.001174</td>\n",
              "    </tr>\n",
              "    <tr>\n",
              "      <th>19615</th>\n",
              "      <td>19615</td>\n",
              "      <td>0.017643</td>\n",
              "      <td>0.969467</td>\n",
              "      <td>0.002191</td>\n",
              "      <td>0.006996</td>\n",
              "      <td>0.003702</td>\n",
              "    </tr>\n",
              "    <tr>\n",
              "      <th>19616</th>\n",
              "      <td>19616</td>\n",
              "      <td>0.429444</td>\n",
              "      <td>0.022159</td>\n",
              "      <td>0.061380</td>\n",
              "      <td>0.044998</td>\n",
              "      <td>0.442019</td>\n",
              "    </tr>\n",
              "  </tbody>\n",
              "</table>\n",
              "<p>19617 rows × 6 columns</p>\n",
              "</div>\n",
              "      <button class=\"colab-df-convert\" onclick=\"convertToInteractive('df-be85a424-db8c-40cc-a919-66caafa9392d')\"\n",
              "              title=\"Convert this dataframe to an interactive table.\"\n",
              "              style=\"display:none;\">\n",
              "        \n",
              "  <svg xmlns=\"http://www.w3.org/2000/svg\" height=\"24px\"viewBox=\"0 0 24 24\"\n",
              "       width=\"24px\">\n",
              "    <path d=\"M0 0h24v24H0V0z\" fill=\"none\"/>\n",
              "    <path d=\"M18.56 5.44l.94 2.06.94-2.06 2.06-.94-2.06-.94-.94-2.06-.94 2.06-2.06.94zm-11 1L8.5 8.5l.94-2.06 2.06-.94-2.06-.94L8.5 2.5l-.94 2.06-2.06.94zm10 10l.94 2.06.94-2.06 2.06-.94-2.06-.94-.94-2.06-.94 2.06-2.06.94z\"/><path d=\"M17.41 7.96l-1.37-1.37c-.4-.4-.92-.59-1.43-.59-.52 0-1.04.2-1.43.59L10.3 9.45l-7.72 7.72c-.78.78-.78 2.05 0 2.83L4 21.41c.39.39.9.59 1.41.59.51 0 1.02-.2 1.41-.59l7.78-7.78 2.81-2.81c.8-.78.8-2.07 0-2.86zM5.41 20L4 18.59l7.72-7.72 1.47 1.35L5.41 20z\"/>\n",
              "  </svg>\n",
              "      </button>\n",
              "      \n",
              "  <style>\n",
              "    .colab-df-container {\n",
              "      display:flex;\n",
              "      flex-wrap:wrap;\n",
              "      gap: 12px;\n",
              "    }\n",
              "\n",
              "    .colab-df-convert {\n",
              "      background-color: #E8F0FE;\n",
              "      border: none;\n",
              "      border-radius: 50%;\n",
              "      cursor: pointer;\n",
              "      display: none;\n",
              "      fill: #1967D2;\n",
              "      height: 32px;\n",
              "      padding: 0 0 0 0;\n",
              "      width: 32px;\n",
              "    }\n",
              "\n",
              "    .colab-df-convert:hover {\n",
              "      background-color: #E2EBFA;\n",
              "      box-shadow: 0px 1px 2px rgba(60, 64, 67, 0.3), 0px 1px 3px 1px rgba(60, 64, 67, 0.15);\n",
              "      fill: #174EA6;\n",
              "    }\n",
              "\n",
              "    [theme=dark] .colab-df-convert {\n",
              "      background-color: #3B4455;\n",
              "      fill: #D2E3FC;\n",
              "    }\n",
              "\n",
              "    [theme=dark] .colab-df-convert:hover {\n",
              "      background-color: #434B5C;\n",
              "      box-shadow: 0px 1px 3px 1px rgba(0, 0, 0, 0.15);\n",
              "      filter: drop-shadow(0px 1px 2px rgba(0, 0, 0, 0.3));\n",
              "      fill: #FFFFFF;\n",
              "    }\n",
              "  </style>\n",
              "\n",
              "      <script>\n",
              "        const buttonEl =\n",
              "          document.querySelector('#df-be85a424-db8c-40cc-a919-66caafa9392d button.colab-df-convert');\n",
              "        buttonEl.style.display =\n",
              "          google.colab.kernel.accessAllowed ? 'block' : 'none';\n",
              "\n",
              "        async function convertToInteractive(key) {\n",
              "          const element = document.querySelector('#df-be85a424-db8c-40cc-a919-66caafa9392d');\n",
              "          const dataTable =\n",
              "            await google.colab.kernel.invokeFunction('convertToInteractive',\n",
              "                                                     [key], {});\n",
              "          if (!dataTable) return;\n",
              "\n",
              "          const docLinkHtml = 'Like what you see? Visit the ' +\n",
              "            '<a target=\"_blank\" href=https://colab.research.google.com/notebooks/data_table.ipynb>data table notebook</a>'\n",
              "            + ' to learn more about interactive tables.';\n",
              "          element.innerHTML = '';\n",
              "          dataTable['output_type'] = 'display_data';\n",
              "          await google.colab.output.renderOutput(dataTable, element);\n",
              "          const docLink = document.createElement('div');\n",
              "          docLink.innerHTML = docLinkHtml;\n",
              "          element.appendChild(docLink);\n",
              "        }\n",
              "      </script>\n",
              "    </div>\n",
              "  </div>\n",
              "  "
            ]
          },
          "metadata": {},
          "execution_count": 65
        }
      ]
    },
    {
      "cell_type": "code",
      "source": [
        "# CSV 파일로 내보내기\n",
        "submission.to_csv('/content/drive/MyDrive/김수빈/ESAA/OB/submission-세영3.csv', index=False)"
      ],
      "metadata": {
        "id": "ET1KzTZ3-lBc"
      },
      "execution_count": null,
      "outputs": []
    },
    {
      "cell_type": "markdown",
      "source": [
        "**2. 부호 제거 안한 버전**"
      ],
      "metadata": {
        "id": "CWwoEN3nkJB-"
      }
    },
    {
      "cell_type": "code",
      "source": [
        "X_train=np.array([x for x in train_L['text']])\n",
        "X_test = np.array([x for x in test_L['text']])\n",
        "Y_train = np.array([x for x in train['author']])"
      ],
      "metadata": {
        "id": "3vFsIH0zkJB_"
      },
      "execution_count": null,
      "outputs": []
    },
    {
      "cell_type": "code",
      "source": [
        "print(X_train)\n",
        "print(X_test)\n",
        "print(Y_train)"
      ],
      "metadata": {
        "colab": {
          "base_uri": "https://localhost:8080/"
        },
        "outputId": "4bf0eab8-dc22-463b-fad8-0d4d3b0050d8",
        "id": "_YgTrM9WkJCA"
      },
      "execution_count": null,
      "outputs": [
        {
          "output_type": "stream",
          "name": "stdout",
          "text": [
            "['he wa almost choke there wa so much so much he want to say but strang exclam were all that came from hi lip the pole gaze fixedli at him at the bundl of note in hi hand look at odin and wa in evid perplex'\n",
            " 'your sister ask for it i suppos'\n",
            " 'she wa engag one day as she walk in perus jane last letter and dwell on some passag which prove that jane had not written in spirit when instead of be again surpris by mr odin she saw on look up that odin wa meet her put away the letter immedi and forc a smile she said'\n",
            " ... 'your sincer wellwish friend and sister luci odin'\n",
            " 'then you want me to lend you money'\n",
            " 'it certainli had not occur to me befor but i said ye i should like that']\n",
            "['not at all i think she is one of the most charm young ladi i ever met and might have been most use in such work as we have been do she had a decid geniu that way wit the way in which she preserv that agra plan from all the other paper of her father but love is an emot thing and whatev is emot is oppos to that true cold reason which i place abov all thing i should never marri myself lest i bia my judgment'\n",
            " 'no repli he with sudden conscious not to find it in you for i can not be ignor that to you to your good i owe it alli feel iti would express it if i couldbut as you well know i am no orat'\n",
            " 'as the ladi had state her intent of scream of cours she would have scream at thi addit bold but that the exert wa render unnecessari by a hasti knock at the door which wa no sooner heard than mr odin dart with much agil to the wine bottl and began dust them with great violenc while the matron sharpli demand who wa there'\n",
            " ...\n",
            " 'odin have carri hi thank to odin proceed with hi happi to luci and such wa the excess of it by the time he reach bartlett build that she wa abl to assur mr odin who call on her again the next day with her congratul that she had never seen him in such spirit befor in her life'\n",
            " 'soon after thi upon odin leav the room mama said odin i have an alarm on the subject of ill which i can not conceal from you i am sure odin is not well we have now been here almost a fortnight and yet he doe not come noth but real indisposit could occas thi extraordinari delay what els can detain him at norland'\n",
            " 'and all the wors for the doom man that the denounc wa a wellknown citizen hi own attach friend the father of hi wife one of the frenzi aspir of the populac wa for imit of the question public virtu of antiqu and for sacrific and selfimmol on the peopl altar therefor when the presid said els had hi own head quiver on hi shoulder that the good physician of the republ would deserv better still of the republ by root out an obnoxi famili of aristocrat and would doubtless feel a sacr glow and joy in make hi daughter a widow and her child an orphan there wa wild excit patriot fervour not a touch of human sympathi']\n",
            "[3 2 1 ... 1 3 0]\n"
          ]
        }
      ]
    },
    {
      "cell_type": "markdown",
      "source": [
        "**Vectorization**\n"
      ],
      "metadata": {
        "id": "qkxDGXowkJCA"
      }
    },
    {
      "cell_type": "code",
      "source": [
        "# Tokenizer\n",
        "from keras.preprocessing.text import Tokenizer\n",
        "vocab_size = 2000  \n",
        "\n",
        "tokenizer = Tokenizer(num_words = vocab_size)  \n",
        "  # Tokenizer 는 데이터에 출현하는 모든 단어의 개수를 세고 빈도 수로 정렬해서 \n",
        "  # num_words 에 지정된 만큼만 숫자로 반환하고, 나머지는 0 으로 반환합니다                 \n",
        "tokenizer.fit_on_texts(X_train) # Tokenizer 에 데이터 실제로 입력\n",
        "sequences_train = tokenizer.texts_to_sequences(X_train)    # 문장 내 모든 단어를 시퀀스 번호로 변환\n",
        "sequences_test = tokenizer.texts_to_sequences(X_test)      # 문장 내 모든 단어를 시퀀스 번호로 변환\n",
        "\n",
        "print(len(sequences_train), len(sequences_test))"
      ],
      "metadata": {
        "colab": {
          "base_uri": "https://localhost:8080/"
        },
        "outputId": "b316242a-32d9-473f-ef0b-c588480e5273",
        "id": "ka0JvlrUkJCB"
      },
      "execution_count": null,
      "outputs": [
        {
          "output_type": "stream",
          "name": "stdout",
          "text": [
            "54879 19617\n"
          ]
        }
      ]
    },
    {
      "cell_type": "code",
      "source": [
        "# 변환된 시퀀스 번호를 이용해 단어 임베딩 벡터 생성\n",
        "word_index = tokenizer.word_index"
      ],
      "metadata": {
        "id": "ZkQrEiLtkJCB"
      },
      "execution_count": null,
      "outputs": []
    },
    {
      "cell_type": "code",
      "source": [
        "# 독립변수 데이터 전처리\n",
        "  ## 문장의 길이기 제각각이기 때문에 벡터 크기 다 다름\n",
        "  ## 그러므로 최대 시퀀스 길이 크기(211) 만큼 넉넉하게 늘리고\n",
        "  ## 패딩(padding) 작업을 통해 나머지 빈 공간을 0으로 채움\n",
        "\n",
        "from tensorflow.keras.preprocessing.sequence import pad_sequences\n",
        "\n",
        "max_length = 150    # 위에서 그래프 확인 후 정함\n",
        "padding_type='post'\n",
        "\n",
        "train_x = pad_sequences(sequences_train, padding='post', maxlen=max_length)\n",
        "test_x = pad_sequences(sequences_test, padding=padding_type, maxlen=max_length)\n",
        "\n",
        "print(train_x.shape, test_x.shape)"
      ],
      "metadata": {
        "colab": {
          "base_uri": "https://localhost:8080/"
        },
        "outputId": "5c510cbe-1b31-494e-9977-d3e95d58488c",
        "id": "I3BPn5PgkJCC"
      },
      "execution_count": null,
      "outputs": [
        {
          "output_type": "stream",
          "name": "stdout",
          "text": [
            "(54879, 150) (19617, 150)\n"
          ]
        }
      ]
    },
    {
      "cell_type": "code",
      "source": [
        "from keras.utils import np_utils\n",
        "\n",
        "# 종속변수 데이터 전처리\n",
        "train_y = np_utils.to_categorical(Y_train) # Y_train 에 원-핫 인코딩\n",
        "print(train_y)\n",
        "print(train_y.shape)"
      ],
      "metadata": {
        "colab": {
          "base_uri": "https://localhost:8080/"
        },
        "outputId": "34ce126b-6c66-49cd-fe4b-0af9bdd0a78a",
        "id": "nQ1apkwNkJCD"
      },
      "execution_count": null,
      "outputs": [
        {
          "output_type": "stream",
          "name": "stdout",
          "text": [
            "[[0. 0. 0. 1. 0.]\n",
            " [0. 0. 1. 0. 0.]\n",
            " [0. 1. 0. 0. 0.]\n",
            " ...\n",
            " [0. 1. 0. 0. 0.]\n",
            " [0. 0. 0. 1. 0.]\n",
            " [1. 0. 0. 0. 0.]]\n",
            "(54879, 5)\n"
          ]
        }
      ]
    },
    {
      "cell_type": "markdown",
      "source": [
        "**모델링**"
      ],
      "metadata": {
        "id": "iCx-oklskJCD"
      }
    },
    {
      "cell_type": "code",
      "source": [
        "pip install keras"
      ],
      "metadata": {
        "colab": {
          "base_uri": "https://localhost:8080/"
        },
        "outputId": "200cbe44-d48d-48ed-f5c9-5a4bde8bc86b",
        "id": "zWX_b9aakJCE"
      },
      "execution_count": null,
      "outputs": [
        {
          "output_type": "stream",
          "name": "stdout",
          "text": [
            "Looking in indexes: https://pypi.org/simple, https://us-python.pkg.dev/colab-wheels/public/simple/\n",
            "Requirement already satisfied: keras in /usr/local/lib/python3.10/dist-packages (2.12.0)\n"
          ]
        }
      ]
    },
    {
      "cell_type": "code",
      "source": [
        "#파라미터 설정\n",
        "vocab_size = 2000 # 제일 많이 사용하는 사이즈\n",
        "embedding_dim = 200  \n",
        "max_length = 150    # 위에서 그래프 확인 후 정함\n",
        "padding_type='post'\n",
        "#oov_tok = \"<OOV>\""
      ],
      "metadata": {
        "id": "q67tE4X5kJCF"
      },
      "execution_count": null,
      "outputs": []
    },
    {
      "cell_type": "code",
      "source": [
        "# 양방향 LSTM 레이어를 사용한 모델 (model3) 정의\n",
        "\n",
        "from keras.models import Sequential\n",
        "from keras.layers import Embedding\n",
        "import tensorflow as tf\n",
        "from keras.layers import LSTM\n",
        "from keras.layers import Dense\n",
        "\n",
        "\n",
        "model3 = Sequential([Embedding(vocab_size, embedding_dim, input_length =max_length),\n",
        "        tf.keras.layers.Bidirectional(LSTM(units = 64, return_sequences = True)),\n",
        "        tf.keras.layers.Bidirectional(LSTM(units = 64, return_sequences = True)),\n",
        "        tf.keras.layers.Bidirectional(LSTM(units = 64)),\n",
        "        Dense(5, activation='softmax')    # 결과값이 0~4 이므로 Dense(5)\n",
        "    ])\n",
        "    \n",
        "model3.compile(loss= 'categorical_crossentropy', #여러개 정답 중 하나 맞추는 문제이므로 손실 함수는 categorical_crossentropy\n",
        "              optimizer= 'adam',\n",
        "              metrics = ['accuracy']) \n",
        "model3.summary()"
      ],
      "metadata": {
        "colab": {
          "base_uri": "https://localhost:8080/"
        },
        "outputId": "2dacbbef-8f86-48e8-8888-0c26f083f7d0",
        "id": "T6bt6eu9kJCF"
      },
      "execution_count": null,
      "outputs": [
        {
          "output_type": "stream",
          "name": "stdout",
          "text": [
            "Model: \"sequential_2\"\n",
            "_________________________________________________________________\n",
            " Layer (type)                Output Shape              Param #   \n",
            "=================================================================\n",
            " embedding_2 (Embedding)     (None, 150, 200)          400000    \n",
            "                                                                 \n",
            " bidirectional_6 (Bidirectio  (None, 150, 128)         135680    \n",
            " nal)                                                            \n",
            "                                                                 \n",
            " bidirectional_7 (Bidirectio  (None, 150, 128)         98816     \n",
            " nal)                                                            \n",
            "                                                                 \n",
            " bidirectional_8 (Bidirectio  (None, 128)              98816     \n",
            " nal)                                                            \n",
            "                                                                 \n",
            " dense_2 (Dense)             (None, 5)                 645       \n",
            "                                                                 \n",
            "=================================================================\n",
            "Total params: 733,957\n",
            "Trainable params: 733,957\n",
            "Non-trainable params: 0\n",
            "_________________________________________________________________\n"
          ]
        }
      ]
    },
    {
      "cell_type": "code",
      "source": [
        "# 모델 실행해보기\n",
        "history = model3.fit(train_x, train_y, epochs=3, batch_size=100, validation_split= 0.2)"
      ],
      "metadata": {
        "colab": {
          "base_uri": "https://localhost:8080/"
        },
        "outputId": "5b56a467-99af-4e9c-c1ff-baeb4139a801",
        "id": "M0J0NBIGkJCG"
      },
      "execution_count": null,
      "outputs": [
        {
          "output_type": "stream",
          "name": "stdout",
          "text": [
            "Epoch 1/3\n",
            "440/440 [==============================] - 61s 116ms/step - loss: 1.0996 - accuracy: 0.5538 - val_loss: 0.9414 - val_accuracy: 0.6503\n",
            "Epoch 2/3\n",
            "440/440 [==============================] - 26s 58ms/step - loss: 0.8510 - accuracy: 0.6779 - val_loss: 0.8722 - val_accuracy: 0.6640\n",
            "Epoch 3/3\n",
            "440/440 [==============================] - 22s 51ms/step - loss: 0.8067 - accuracy: 0.6941 - val_loss: 0.8279 - val_accuracy: 0.6874\n"
          ]
        }
      ]
    },
    {
      "cell_type": "code",
      "source": [
        "test_y = np.zeros((test_x.shape[0], 5))"
      ],
      "metadata": {
        "id": "6CLOqcoDkJCH"
      },
      "execution_count": null,
      "outputs": []
    },
    {
      "cell_type": "code",
      "source": [
        "test_y=model3.predict(test_x)"
      ],
      "metadata": {
        "colab": {
          "base_uri": "https://localhost:8080/"
        },
        "outputId": "8a8fcc4f-e711-4cc0-df5f-2b8b3ca22709",
        "id": "zkm-rxlwkJCI"
      },
      "execution_count": null,
      "outputs": [
        {
          "output_type": "stream",
          "name": "stdout",
          "text": [
            "614/614 [==============================] - 11s 14ms/step\n"
          ]
        }
      ]
    },
    {
      "cell_type": "code",
      "source": [
        "submission=pd.read_csv('/content/drive/MyDrive/OB 1조/프로젝트2/data/sample_submission.csv')"
      ],
      "metadata": {
        "id": "ReSZKyOwkJCJ"
      },
      "execution_count": null,
      "outputs": []
    },
    {
      "cell_type": "code",
      "source": [
        "submission[['0','1','2','3','4']] = test_y\n",
        "submission"
      ],
      "metadata": {
        "colab": {
          "base_uri": "https://localhost:8080/",
          "height": 424
        },
        "outputId": "303f91de-c5e5-48ff-a390-c758a3231a7e",
        "id": "vFnzpKU-kJCJ"
      },
      "execution_count": null,
      "outputs": [
        {
          "output_type": "execute_result",
          "data": {
            "text/plain": [
              "       index         0         1         2         3         4\n",
              "0          0  0.059092  0.593869  0.232545  0.097376  0.017118\n",
              "1          1  0.247491  0.319500  0.018092  0.027849  0.387067\n",
              "2          2  0.788156  0.022335  0.073874  0.008766  0.106869\n",
              "3          3  0.016485  0.021815  0.944260  0.005098  0.012341\n",
              "4          4  0.928349  0.007645  0.020883  0.015221  0.027902\n",
              "...      ...       ...       ...       ...       ...       ...\n",
              "19612  19612  0.011939  0.982462  0.000712  0.003813  0.001074\n",
              "19613  19613  0.056047  0.020073  0.107436  0.133672  0.682772\n",
              "19614  19614  0.014137  0.979795  0.001006  0.003888  0.001174\n",
              "19615  19615  0.017643  0.969467  0.002191  0.006996  0.003702\n",
              "19616  19616  0.429444  0.022159  0.061380  0.044998  0.442019\n",
              "\n",
              "[19617 rows x 6 columns]"
            ],
            "text/html": [
              "\n",
              "  <div id=\"df-be85a424-db8c-40cc-a919-66caafa9392d\">\n",
              "    <div class=\"colab-df-container\">\n",
              "      <div>\n",
              "<style scoped>\n",
              "    .dataframe tbody tr th:only-of-type {\n",
              "        vertical-align: middle;\n",
              "    }\n",
              "\n",
              "    .dataframe tbody tr th {\n",
              "        vertical-align: top;\n",
              "    }\n",
              "\n",
              "    .dataframe thead th {\n",
              "        text-align: right;\n",
              "    }\n",
              "</style>\n",
              "<table border=\"1\" class=\"dataframe\">\n",
              "  <thead>\n",
              "    <tr style=\"text-align: right;\">\n",
              "      <th></th>\n",
              "      <th>index</th>\n",
              "      <th>0</th>\n",
              "      <th>1</th>\n",
              "      <th>2</th>\n",
              "      <th>3</th>\n",
              "      <th>4</th>\n",
              "    </tr>\n",
              "  </thead>\n",
              "  <tbody>\n",
              "    <tr>\n",
              "      <th>0</th>\n",
              "      <td>0</td>\n",
              "      <td>0.059092</td>\n",
              "      <td>0.593869</td>\n",
              "      <td>0.232545</td>\n",
              "      <td>0.097376</td>\n",
              "      <td>0.017118</td>\n",
              "    </tr>\n",
              "    <tr>\n",
              "      <th>1</th>\n",
              "      <td>1</td>\n",
              "      <td>0.247491</td>\n",
              "      <td>0.319500</td>\n",
              "      <td>0.018092</td>\n",
              "      <td>0.027849</td>\n",
              "      <td>0.387067</td>\n",
              "    </tr>\n",
              "    <tr>\n",
              "      <th>2</th>\n",
              "      <td>2</td>\n",
              "      <td>0.788156</td>\n",
              "      <td>0.022335</td>\n",
              "      <td>0.073874</td>\n",
              "      <td>0.008766</td>\n",
              "      <td>0.106869</td>\n",
              "    </tr>\n",
              "    <tr>\n",
              "      <th>3</th>\n",
              "      <td>3</td>\n",
              "      <td>0.016485</td>\n",
              "      <td>0.021815</td>\n",
              "      <td>0.944260</td>\n",
              "      <td>0.005098</td>\n",
              "      <td>0.012341</td>\n",
              "    </tr>\n",
              "    <tr>\n",
              "      <th>4</th>\n",
              "      <td>4</td>\n",
              "      <td>0.928349</td>\n",
              "      <td>0.007645</td>\n",
              "      <td>0.020883</td>\n",
              "      <td>0.015221</td>\n",
              "      <td>0.027902</td>\n",
              "    </tr>\n",
              "    <tr>\n",
              "      <th>...</th>\n",
              "      <td>...</td>\n",
              "      <td>...</td>\n",
              "      <td>...</td>\n",
              "      <td>...</td>\n",
              "      <td>...</td>\n",
              "      <td>...</td>\n",
              "    </tr>\n",
              "    <tr>\n",
              "      <th>19612</th>\n",
              "      <td>19612</td>\n",
              "      <td>0.011939</td>\n",
              "      <td>0.982462</td>\n",
              "      <td>0.000712</td>\n",
              "      <td>0.003813</td>\n",
              "      <td>0.001074</td>\n",
              "    </tr>\n",
              "    <tr>\n",
              "      <th>19613</th>\n",
              "      <td>19613</td>\n",
              "      <td>0.056047</td>\n",
              "      <td>0.020073</td>\n",
              "      <td>0.107436</td>\n",
              "      <td>0.133672</td>\n",
              "      <td>0.682772</td>\n",
              "    </tr>\n",
              "    <tr>\n",
              "      <th>19614</th>\n",
              "      <td>19614</td>\n",
              "      <td>0.014137</td>\n",
              "      <td>0.979795</td>\n",
              "      <td>0.001006</td>\n",
              "      <td>0.003888</td>\n",
              "      <td>0.001174</td>\n",
              "    </tr>\n",
              "    <tr>\n",
              "      <th>19615</th>\n",
              "      <td>19615</td>\n",
              "      <td>0.017643</td>\n",
              "      <td>0.969467</td>\n",
              "      <td>0.002191</td>\n",
              "      <td>0.006996</td>\n",
              "      <td>0.003702</td>\n",
              "    </tr>\n",
              "    <tr>\n",
              "      <th>19616</th>\n",
              "      <td>19616</td>\n",
              "      <td>0.429444</td>\n",
              "      <td>0.022159</td>\n",
              "      <td>0.061380</td>\n",
              "      <td>0.044998</td>\n",
              "      <td>0.442019</td>\n",
              "    </tr>\n",
              "  </tbody>\n",
              "</table>\n",
              "<p>19617 rows × 6 columns</p>\n",
              "</div>\n",
              "      <button class=\"colab-df-convert\" onclick=\"convertToInteractive('df-be85a424-db8c-40cc-a919-66caafa9392d')\"\n",
              "              title=\"Convert this dataframe to an interactive table.\"\n",
              "              style=\"display:none;\">\n",
              "        \n",
              "  <svg xmlns=\"http://www.w3.org/2000/svg\" height=\"24px\"viewBox=\"0 0 24 24\"\n",
              "       width=\"24px\">\n",
              "    <path d=\"M0 0h24v24H0V0z\" fill=\"none\"/>\n",
              "    <path d=\"M18.56 5.44l.94 2.06.94-2.06 2.06-.94-2.06-.94-.94-2.06-.94 2.06-2.06.94zm-11 1L8.5 8.5l.94-2.06 2.06-.94-2.06-.94L8.5 2.5l-.94 2.06-2.06.94zm10 10l.94 2.06.94-2.06 2.06-.94-2.06-.94-.94-2.06-.94 2.06-2.06.94z\"/><path d=\"M17.41 7.96l-1.37-1.37c-.4-.4-.92-.59-1.43-.59-.52 0-1.04.2-1.43.59L10.3 9.45l-7.72 7.72c-.78.78-.78 2.05 0 2.83L4 21.41c.39.39.9.59 1.41.59.51 0 1.02-.2 1.41-.59l7.78-7.78 2.81-2.81c.8-.78.8-2.07 0-2.86zM5.41 20L4 18.59l7.72-7.72 1.47 1.35L5.41 20z\"/>\n",
              "  </svg>\n",
              "      </button>\n",
              "      \n",
              "  <style>\n",
              "    .colab-df-container {\n",
              "      display:flex;\n",
              "      flex-wrap:wrap;\n",
              "      gap: 12px;\n",
              "    }\n",
              "\n",
              "    .colab-df-convert {\n",
              "      background-color: #E8F0FE;\n",
              "      border: none;\n",
              "      border-radius: 50%;\n",
              "      cursor: pointer;\n",
              "      display: none;\n",
              "      fill: #1967D2;\n",
              "      height: 32px;\n",
              "      padding: 0 0 0 0;\n",
              "      width: 32px;\n",
              "    }\n",
              "\n",
              "    .colab-df-convert:hover {\n",
              "      background-color: #E2EBFA;\n",
              "      box-shadow: 0px 1px 2px rgba(60, 64, 67, 0.3), 0px 1px 3px 1px rgba(60, 64, 67, 0.15);\n",
              "      fill: #174EA6;\n",
              "    }\n",
              "\n",
              "    [theme=dark] .colab-df-convert {\n",
              "      background-color: #3B4455;\n",
              "      fill: #D2E3FC;\n",
              "    }\n",
              "\n",
              "    [theme=dark] .colab-df-convert:hover {\n",
              "      background-color: #434B5C;\n",
              "      box-shadow: 0px 1px 3px 1px rgba(0, 0, 0, 0.15);\n",
              "      filter: drop-shadow(0px 1px 2px rgba(0, 0, 0, 0.3));\n",
              "      fill: #FFFFFF;\n",
              "    }\n",
              "  </style>\n",
              "\n",
              "      <script>\n",
              "        const buttonEl =\n",
              "          document.querySelector('#df-be85a424-db8c-40cc-a919-66caafa9392d button.colab-df-convert');\n",
              "        buttonEl.style.display =\n",
              "          google.colab.kernel.accessAllowed ? 'block' : 'none';\n",
              "\n",
              "        async function convertToInteractive(key) {\n",
              "          const element = document.querySelector('#df-be85a424-db8c-40cc-a919-66caafa9392d');\n",
              "          const dataTable =\n",
              "            await google.colab.kernel.invokeFunction('convertToInteractive',\n",
              "                                                     [key], {});\n",
              "          if (!dataTable) return;\n",
              "\n",
              "          const docLinkHtml = 'Like what you see? Visit the ' +\n",
              "            '<a target=\"_blank\" href=https://colab.research.google.com/notebooks/data_table.ipynb>data table notebook</a>'\n",
              "            + ' to learn more about interactive tables.';\n",
              "          element.innerHTML = '';\n",
              "          dataTable['output_type'] = 'display_data';\n",
              "          await google.colab.output.renderOutput(dataTable, element);\n",
              "          const docLink = document.createElement('div');\n",
              "          docLink.innerHTML = docLinkHtml;\n",
              "          element.appendChild(docLink);\n",
              "        }\n",
              "      </script>\n",
              "    </div>\n",
              "  </div>\n",
              "  "
            ]
          },
          "metadata": {},
          "execution_count": 65
        }
      ]
    },
    {
      "cell_type": "code",
      "source": [
        "# CSV 파일로 내보내기\n",
        "submission.to_csv('/content/drive/MyDrive/김수빈/ESAA/OB/submission-세영3.csv', index=False)"
      ],
      "metadata": {
        "id": "vdQ1dpqJkJCK"
      },
      "execution_count": null,
      "outputs": []
    },
    {
      "cell_type": "markdown",
      "source": [
        "### 데이터셋2 (유빈)"
      ],
      "metadata": {
        "id": "mFjuq8LVn4L9"
      }
    },
    {
      "cell_type": "code",
      "source": [
        "train_L=pd.read_csv('/content/drive/MyDrive/OB 1조/프로젝트2/data/20list untoken/train_lem2.csv')\n",
        "test_L=pd.read_csv('/content/drive/MyDrive/OB 1조/프로젝트2/data/20list untoken/test_lem2.csv')"
      ],
      "metadata": {
        "id": "_KRbgt1NFKFC"
      },
      "execution_count": null,
      "outputs": []
    },
    {
      "cell_type": "code",
      "source": [
        "test_L"
      ],
      "metadata": {
        "colab": {
          "base_uri": "https://localhost:8080/",
          "height": 424
        },
        "outputId": "ab22f505-0185-42a8-d610-497dab4e8c0d",
        "id": "32uzoLMrFKFC"
      },
      "execution_count": null,
      "outputs": [
        {
          "output_type": "execute_result",
          "data": {
            "text/plain": [
              "       index                                               text  \\\n",
              "0          0  ['“', 'not', 'at', 'all', '.', 'i', 'think', '...   \n",
              "1          1  ['``', 'no', ',', \"''\", 'replied', 'he', ',', ...   \n",
              "2          2  ['as', 'the', 'lady', 'had', 'stated', 'her', ...   \n",
              "3          3  ['“', 'and', 'then', 'suddenly', 'in', 'the', ...   \n",
              "4          4  ['his', 'conviction', 'remained', 'unchanged',...   \n",
              "...      ...                                                ...   \n",
              "19612  19612  ['at', 'the', 'end', 'of', 'another', 'day', '...   \n",
              "19613  19613  ['all', 'afternoon', 'we', 'sat', 'together', ...   \n",
              "19614  19614  ['odin', ',', 'having', 'carried', 'his', 'tha...   \n",
              "19615  19615  ['soon', 'after', 'this', ',', 'upon', 'odin',...   \n",
              "19616  19616  ['and', 'all', 'the', 'worse', 'for', 'the', '...   \n",
              "\n",
              "                                                 stop_20  \\\n",
              "0      ['“', 'all', '.', 'i', 'think', 'she', 'is', '...   \n",
              "1      ['``', 'no', ',', \"''\", 'replied', ',', 'sudde...   \n",
              "2      ['lady', 'stated', 'her', 'intention', 'scream...   \n",
              "3      ['“', 'then', 'suddenly', 'silence', 'i', 'hea...   \n",
              "4      ['conviction', 'remained', 'unchanged', '.', '...   \n",
              "...                                                  ...   \n",
              "19612  ['end', 'another', 'day', 'or', 'two', ',', 'o...   \n",
              "19613  ['all', 'afternoon', 'we', 'sat', 'together', ...   \n",
              "19614  ['odin', ',', 'having', 'carried', 'thanks', '...   \n",
              "19615  ['soon', 'after', 'this', ',', 'upon', 'odin',...   \n",
              "19616  ['all', 'worse', 'for', 'doomed', 'man', ',', ...   \n",
              "\n",
              "                                            stop_20_buho  \\\n",
              "0      ['all', 'i', 'think', 'she', 'is', 'one', 'mos...   \n",
              "1      ['no', 'replied', 'sudden', 'consciousness', '...   \n",
              "2      ['lady', 'stated', 'her', 'intention', 'scream...   \n",
              "3      ['then', 'suddenly', 'silence', 'i', 'heard', ...   \n",
              "4      ['conviction', 'remained', 'unchanged', 'so', ...   \n",
              "...                                                  ...   \n",
              "19612  ['end', 'another', 'day', 'or', 'two', 'odin',...   \n",
              "19613  ['all', 'afternoon', 'we', 'sat', 'together', ...   \n",
              "19614  ['odin', 'having', 'carried', 'thanks', 'odin'...   \n",
              "19615  ['soon', 'after', 'this', 'upon', 'odin', 'lea...   \n",
              "19616  ['all', 'worse', 'for', 'doomed', 'man', 'deno...   \n",
              "\n",
              "                                        text_Lem_stop_20  \\\n",
              "0      “ all . i think she be one most charm young la...   \n",
              "1      `` no , '' reply , sudden consciousness , `` f...   \n",
              "2      lady state her intention scream , course she w...   \n",
              "3      “ then suddenly silence i hear sound which sen...   \n",
              "4      conviction remain unchanged . so far i know --...   \n",
              "...                                                  ...   \n",
              "19612  end another day or two , odin grow visibly str...   \n",
              "19613  all afternoon we sit together , mostly silence...   \n",
              "19614  odin , have carry thank odin , proceed happine...   \n",
              "19615  soon after this , upon odin 's leave room , ``...   \n",
              "19616  all worse for doom man , denouncer well-known ...   \n",
              "\n",
              "                                   text_Lem_stop_20_buho  \n",
              "0      all i think she be one most charm young ladies...  \n",
              "1      no reply sudden consciousness find for i can b...  \n",
              "2      lady state her intention scream course she wou...  \n",
              "3      then suddenly silence i hear sound which send ...  \n",
              "4      conviction remain unchanged so far i know i be...  \n",
              "...                                                  ...  \n",
              "19612  end another day or two odin grow visibly stron...  \n",
              "19613  all afternoon we sit together mostly silence w...  \n",
              "19614  odin have carry thank odin proceed happiness l...  \n",
              "19615  soon after this upon odin leave room mama say ...  \n",
              "19616  all worse for doom man denouncer citizen own a...  \n",
              "\n",
              "[19617 rows x 6 columns]"
            ],
            "text/html": [
              "\n",
              "  <div id=\"df-df0b01f3-9aa3-4131-8c0e-d60297c5f0c9\">\n",
              "    <div class=\"colab-df-container\">\n",
              "      <div>\n",
              "<style scoped>\n",
              "    .dataframe tbody tr th:only-of-type {\n",
              "        vertical-align: middle;\n",
              "    }\n",
              "\n",
              "    .dataframe tbody tr th {\n",
              "        vertical-align: top;\n",
              "    }\n",
              "\n",
              "    .dataframe thead th {\n",
              "        text-align: right;\n",
              "    }\n",
              "</style>\n",
              "<table border=\"1\" class=\"dataframe\">\n",
              "  <thead>\n",
              "    <tr style=\"text-align: right;\">\n",
              "      <th></th>\n",
              "      <th>index</th>\n",
              "      <th>text</th>\n",
              "      <th>stop_20</th>\n",
              "      <th>stop_20_buho</th>\n",
              "      <th>text_Lem_stop_20</th>\n",
              "      <th>text_Lem_stop_20_buho</th>\n",
              "    </tr>\n",
              "  </thead>\n",
              "  <tbody>\n",
              "    <tr>\n",
              "      <th>0</th>\n",
              "      <td>0</td>\n",
              "      <td>['“', 'not', 'at', 'all', '.', 'i', 'think', '...</td>\n",
              "      <td>['“', 'all', '.', 'i', 'think', 'she', 'is', '...</td>\n",
              "      <td>['all', 'i', 'think', 'she', 'is', 'one', 'mos...</td>\n",
              "      <td>“ all . i think she be one most charm young la...</td>\n",
              "      <td>all i think she be one most charm young ladies...</td>\n",
              "    </tr>\n",
              "    <tr>\n",
              "      <th>1</th>\n",
              "      <td>1</td>\n",
              "      <td>['``', 'no', ',', \"''\", 'replied', 'he', ',', ...</td>\n",
              "      <td>['``', 'no', ',', \"''\", 'replied', ',', 'sudde...</td>\n",
              "      <td>['no', 'replied', 'sudden', 'consciousness', '...</td>\n",
              "      <td>`` no , '' reply , sudden consciousness , `` f...</td>\n",
              "      <td>no reply sudden consciousness find for i can b...</td>\n",
              "    </tr>\n",
              "    <tr>\n",
              "      <th>2</th>\n",
              "      <td>2</td>\n",
              "      <td>['as', 'the', 'lady', 'had', 'stated', 'her', ...</td>\n",
              "      <td>['lady', 'stated', 'her', 'intention', 'scream...</td>\n",
              "      <td>['lady', 'stated', 'her', 'intention', 'scream...</td>\n",
              "      <td>lady state her intention scream , course she w...</td>\n",
              "      <td>lady state her intention scream course she wou...</td>\n",
              "    </tr>\n",
              "    <tr>\n",
              "      <th>3</th>\n",
              "      <td>3</td>\n",
              "      <td>['“', 'and', 'then', 'suddenly', 'in', 'the', ...</td>\n",
              "      <td>['“', 'then', 'suddenly', 'silence', 'i', 'hea...</td>\n",
              "      <td>['then', 'suddenly', 'silence', 'i', 'heard', ...</td>\n",
              "      <td>“ then suddenly silence i hear sound which sen...</td>\n",
              "      <td>then suddenly silence i hear sound which send ...</td>\n",
              "    </tr>\n",
              "    <tr>\n",
              "      <th>4</th>\n",
              "      <td>4</td>\n",
              "      <td>['his', 'conviction', 'remained', 'unchanged',...</td>\n",
              "      <td>['conviction', 'remained', 'unchanged', '.', '...</td>\n",
              "      <td>['conviction', 'remained', 'unchanged', 'so', ...</td>\n",
              "      <td>conviction remain unchanged . so far i know --...</td>\n",
              "      <td>conviction remain unchanged so far i know i be...</td>\n",
              "    </tr>\n",
              "    <tr>\n",
              "      <th>...</th>\n",
              "      <td>...</td>\n",
              "      <td>...</td>\n",
              "      <td>...</td>\n",
              "      <td>...</td>\n",
              "      <td>...</td>\n",
              "      <td>...</td>\n",
              "    </tr>\n",
              "    <tr>\n",
              "      <th>19612</th>\n",
              "      <td>19612</td>\n",
              "      <td>['at', 'the', 'end', 'of', 'another', 'day', '...</td>\n",
              "      <td>['end', 'another', 'day', 'or', 'two', ',', 'o...</td>\n",
              "      <td>['end', 'another', 'day', 'or', 'two', 'odin',...</td>\n",
              "      <td>end another day or two , odin grow visibly str...</td>\n",
              "      <td>end another day or two odin grow visibly stron...</td>\n",
              "    </tr>\n",
              "    <tr>\n",
              "      <th>19613</th>\n",
              "      <td>19613</td>\n",
              "      <td>['all', 'afternoon', 'we', 'sat', 'together', ...</td>\n",
              "      <td>['all', 'afternoon', 'we', 'sat', 'together', ...</td>\n",
              "      <td>['all', 'afternoon', 'we', 'sat', 'together', ...</td>\n",
              "      <td>all afternoon we sit together , mostly silence...</td>\n",
              "      <td>all afternoon we sit together mostly silence w...</td>\n",
              "    </tr>\n",
              "    <tr>\n",
              "      <th>19614</th>\n",
              "      <td>19614</td>\n",
              "      <td>['odin', ',', 'having', 'carried', 'his', 'tha...</td>\n",
              "      <td>['odin', ',', 'having', 'carried', 'thanks', '...</td>\n",
              "      <td>['odin', 'having', 'carried', 'thanks', 'odin'...</td>\n",
              "      <td>odin , have carry thank odin , proceed happine...</td>\n",
              "      <td>odin have carry thank odin proceed happiness l...</td>\n",
              "    </tr>\n",
              "    <tr>\n",
              "      <th>19615</th>\n",
              "      <td>19615</td>\n",
              "      <td>['soon', 'after', 'this', ',', 'upon', 'odin',...</td>\n",
              "      <td>['soon', 'after', 'this', ',', 'upon', 'odin',...</td>\n",
              "      <td>['soon', 'after', 'this', 'upon', 'odin', 'lea...</td>\n",
              "      <td>soon after this , upon odin 's leave room , ``...</td>\n",
              "      <td>soon after this upon odin leave room mama say ...</td>\n",
              "    </tr>\n",
              "    <tr>\n",
              "      <th>19616</th>\n",
              "      <td>19616</td>\n",
              "      <td>['and', 'all', 'the', 'worse', 'for', 'the', '...</td>\n",
              "      <td>['all', 'worse', 'for', 'doomed', 'man', ',', ...</td>\n",
              "      <td>['all', 'worse', 'for', 'doomed', 'man', 'deno...</td>\n",
              "      <td>all worse for doom man , denouncer well-known ...</td>\n",
              "      <td>all worse for doom man denouncer citizen own a...</td>\n",
              "    </tr>\n",
              "  </tbody>\n",
              "</table>\n",
              "<p>19617 rows × 6 columns</p>\n",
              "</div>\n",
              "      <button class=\"colab-df-convert\" onclick=\"convertToInteractive('df-df0b01f3-9aa3-4131-8c0e-d60297c5f0c9')\"\n",
              "              title=\"Convert this dataframe to an interactive table.\"\n",
              "              style=\"display:none;\">\n",
              "        \n",
              "  <svg xmlns=\"http://www.w3.org/2000/svg\" height=\"24px\"viewBox=\"0 0 24 24\"\n",
              "       width=\"24px\">\n",
              "    <path d=\"M0 0h24v24H0V0z\" fill=\"none\"/>\n",
              "    <path d=\"M18.56 5.44l.94 2.06.94-2.06 2.06-.94-2.06-.94-.94-2.06-.94 2.06-2.06.94zm-11 1L8.5 8.5l.94-2.06 2.06-.94-2.06-.94L8.5 2.5l-.94 2.06-2.06.94zm10 10l.94 2.06.94-2.06 2.06-.94-2.06-.94-.94-2.06-.94 2.06-2.06.94z\"/><path d=\"M17.41 7.96l-1.37-1.37c-.4-.4-.92-.59-1.43-.59-.52 0-1.04.2-1.43.59L10.3 9.45l-7.72 7.72c-.78.78-.78 2.05 0 2.83L4 21.41c.39.39.9.59 1.41.59.51 0 1.02-.2 1.41-.59l7.78-7.78 2.81-2.81c.8-.78.8-2.07 0-2.86zM5.41 20L4 18.59l7.72-7.72 1.47 1.35L5.41 20z\"/>\n",
              "  </svg>\n",
              "      </button>\n",
              "      \n",
              "  <style>\n",
              "    .colab-df-container {\n",
              "      display:flex;\n",
              "      flex-wrap:wrap;\n",
              "      gap: 12px;\n",
              "    }\n",
              "\n",
              "    .colab-df-convert {\n",
              "      background-color: #E8F0FE;\n",
              "      border: none;\n",
              "      border-radius: 50%;\n",
              "      cursor: pointer;\n",
              "      display: none;\n",
              "      fill: #1967D2;\n",
              "      height: 32px;\n",
              "      padding: 0 0 0 0;\n",
              "      width: 32px;\n",
              "    }\n",
              "\n",
              "    .colab-df-convert:hover {\n",
              "      background-color: #E2EBFA;\n",
              "      box-shadow: 0px 1px 2px rgba(60, 64, 67, 0.3), 0px 1px 3px 1px rgba(60, 64, 67, 0.15);\n",
              "      fill: #174EA6;\n",
              "    }\n",
              "\n",
              "    [theme=dark] .colab-df-convert {\n",
              "      background-color: #3B4455;\n",
              "      fill: #D2E3FC;\n",
              "    }\n",
              "\n",
              "    [theme=dark] .colab-df-convert:hover {\n",
              "      background-color: #434B5C;\n",
              "      box-shadow: 0px 1px 3px 1px rgba(0, 0, 0, 0.15);\n",
              "      filter: drop-shadow(0px 1px 2px rgba(0, 0, 0, 0.3));\n",
              "      fill: #FFFFFF;\n",
              "    }\n",
              "  </style>\n",
              "\n",
              "      <script>\n",
              "        const buttonEl =\n",
              "          document.querySelector('#df-df0b01f3-9aa3-4131-8c0e-d60297c5f0c9 button.colab-df-convert');\n",
              "        buttonEl.style.display =\n",
              "          google.colab.kernel.accessAllowed ? 'block' : 'none';\n",
              "\n",
              "        async function convertToInteractive(key) {\n",
              "          const element = document.querySelector('#df-df0b01f3-9aa3-4131-8c0e-d60297c5f0c9');\n",
              "          const dataTable =\n",
              "            await google.colab.kernel.invokeFunction('convertToInteractive',\n",
              "                                                     [key], {});\n",
              "          if (!dataTable) return;\n",
              "\n",
              "          const docLinkHtml = 'Like what you see? Visit the ' +\n",
              "            '<a target=\"_blank\" href=https://colab.research.google.com/notebooks/data_table.ipynb>data table notebook</a>'\n",
              "            + ' to learn more about interactive tables.';\n",
              "          element.innerHTML = '';\n",
              "          dataTable['output_type'] = 'display_data';\n",
              "          await google.colab.output.renderOutput(dataTable, element);\n",
              "          const docLink = document.createElement('div');\n",
              "          docLink.innerHTML = docLinkHtml;\n",
              "          element.appendChild(docLink);\n",
              "        }\n",
              "      </script>\n",
              "    </div>\n",
              "  </div>\n",
              "  "
            ]
          },
          "metadata": {},
          "execution_count": 84
        }
      ]
    },
    {
      "cell_type": "markdown",
      "source": [
        "**1. 부호 제거 안한 버전**"
      ],
      "metadata": {
        "id": "JU45LVecjIVm"
      }
    },
    {
      "cell_type": "code",
      "source": [
        "X_train=np.array([x for x in train_L['text_Lem_stop_20']])\n",
        "X_test = np.array([x for x in test_L['text_Lem_stop_20']])\n",
        "Y_train = np.array([x for x in train['author']])"
      ],
      "metadata": {
        "id": "9qQuk4aAjMN7"
      },
      "execution_count": null,
      "outputs": []
    },
    {
      "cell_type": "code",
      "source": [
        "print(X_train)\n",
        "print(X_test)\n",
        "print(Y_train)"
      ],
      "metadata": {
        "id": "ImN7pt2PFKFD"
      },
      "execution_count": null,
      "outputs": []
    },
    {
      "cell_type": "markdown",
      "source": [
        "**Vectorization**"
      ],
      "metadata": {
        "id": "I6h_C4cXFKFD"
      }
    },
    {
      "cell_type": "code",
      "source": [
        "# Tokenizer\n",
        "from keras.preprocessing.text import Tokenizer\n",
        "vocab_size = 2000  \n",
        "\n",
        "tokenizer = Tokenizer(num_words = vocab_size)  \n",
        "  # Tokenizer 는 데이터에 출현하는 모든 단어의 개수를 세고 빈도 수로 정렬해서 \n",
        "  # num_words 에 지정된 만큼만 숫자로 반환하고, 나머지는 0 으로 반환합니다                 \n",
        "tokenizer.fit_on_texts(X_train) # Tokenizer 에 데이터 실제로 입력\n",
        "sequences_train = tokenizer.texts_to_sequences(X_train)    # 문장 내 모든 단어를 시퀀스 번호로 변환\n",
        "sequences_test = tokenizer.texts_to_sequences(X_test)      # 문장 내 모든 단어를 시퀀스 번호로 변환\n",
        "\n",
        "print(len(sequences_train), len(sequences_test))"
      ],
      "metadata": {
        "colab": {
          "base_uri": "https://localhost:8080/"
        },
        "outputId": "2c4dc2a1-3850-425c-84bb-cd0c1bd67e1c",
        "id": "lYhsDdYBFKFD"
      },
      "execution_count": null,
      "outputs": [
        {
          "output_type": "stream",
          "name": "stdout",
          "text": [
            "54879 19617\n"
          ]
        }
      ]
    },
    {
      "cell_type": "code",
      "source": [
        "# 변환된 시퀀스 번호를 이용해 단어 임베딩 벡터 생성\n",
        "word_index = tokenizer.word_index"
      ],
      "metadata": {
        "id": "6AvLqH3nFKFE"
      },
      "execution_count": null,
      "outputs": []
    },
    {
      "cell_type": "code",
      "source": [
        "# 독립변수 데이터 전처리\n",
        "  ## 문장의 길이기 제각각이기 때문에 벡터 크기 다 다름\n",
        "  ## 그러므로 최대 시퀀스 길이 크기(211) 만큼 넉넉하게 늘리고\n",
        "  ## 패딩(padding) 작업을 통해 나머지 빈 공간을 0으로 채움\n",
        "\n",
        "from tensorflow.keras.preprocessing.sequence import pad_sequences\n",
        "\n",
        "max_length = 150    # 위에서 그래프 확인 후 정함\n",
        "padding_type='post'\n",
        "\n",
        "train_x = pad_sequences(sequences_train, padding='post', maxlen=max_length)\n",
        "test_x = pad_sequences(sequences_test, padding=padding_type, maxlen=max_length)\n",
        "\n",
        "print(train_x.shape, test_x.shape)"
      ],
      "metadata": {
        "colab": {
          "base_uri": "https://localhost:8080/"
        },
        "outputId": "f15a0d85-fa88-4fb7-8f33-a615194c23a2",
        "id": "TpwSugu5FKFE"
      },
      "execution_count": null,
      "outputs": [
        {
          "output_type": "stream",
          "name": "stdout",
          "text": [
            "(54879, 150) (19617, 150)\n"
          ]
        }
      ]
    },
    {
      "cell_type": "code",
      "source": [
        "from keras.utils import np_utils\n",
        "\n",
        "# 종속변수 데이터 전처리\n",
        "train_y = np_utils.to_categorical(Y_train) # Y_train 에 원-핫 인코딩\n",
        "print(train_y)\n",
        "print(train_y.shape)"
      ],
      "metadata": {
        "colab": {
          "base_uri": "https://localhost:8080/"
        },
        "outputId": "3f73191e-958e-4a0d-e93c-59efb70a6edd",
        "id": "21ubr13tFKFE"
      },
      "execution_count": null,
      "outputs": [
        {
          "output_type": "stream",
          "name": "stdout",
          "text": [
            "[[0. 0. 0. 1. 0.]\n",
            " [0. 0. 1. 0. 0.]\n",
            " [0. 1. 0. 0. 0.]\n",
            " ...\n",
            " [0. 1. 0. 0. 0.]\n",
            " [0. 0. 0. 1. 0.]\n",
            " [1. 0. 0. 0. 0.]]\n",
            "(54879, 5)\n"
          ]
        }
      ]
    },
    {
      "cell_type": "markdown",
      "source": [
        "**모델링**"
      ],
      "metadata": {
        "id": "gLA1WgfUFKFE"
      }
    },
    {
      "cell_type": "code",
      "source": [
        "pip install keras"
      ],
      "metadata": {
        "colab": {
          "base_uri": "https://localhost:8080/"
        },
        "outputId": "d3d21a33-5ce4-41e4-c9c7-5527b7c3aa39",
        "id": "DzZfoINjFKFE"
      },
      "execution_count": null,
      "outputs": [
        {
          "output_type": "stream",
          "name": "stdout",
          "text": [
            "Looking in indexes: https://pypi.org/simple, https://us-python.pkg.dev/colab-wheels/public/simple/\n",
            "Requirement already satisfied: keras in /usr/local/lib/python3.10/dist-packages (2.12.0)\n"
          ]
        }
      ]
    },
    {
      "cell_type": "code",
      "source": [
        "#파라미터 설정\n",
        "vocab_size = 2000 # 제일 많이 사용하는 사이즈\n",
        "embedding_dim = 200  \n",
        "max_length = 150    # 위에서 그래프 확인 후 정함\n",
        "padding_type='post'\n",
        "#oov_tok = \"<OOV>\""
      ],
      "metadata": {
        "id": "W2l_Qw0_FKFE"
      },
      "execution_count": null,
      "outputs": []
    },
    {
      "cell_type": "code",
      "source": [
        "# 양방향 LSTM 레이어를 사용한 모델 (model3) 정의\n",
        "\n",
        "from keras.models import Sequential\n",
        "from keras.layers import Embedding\n",
        "import tensorflow as tf\n",
        "from keras.layers import LSTM\n",
        "from keras.layers import Dense\n",
        "\n",
        "\n",
        "model3 = Sequential([Embedding(vocab_size, embedding_dim, input_length =max_length),\n",
        "        tf.keras.layers.Bidirectional(LSTM(units = 64, return_sequences = True)),\n",
        "        tf.keras.layers.Bidirectional(LSTM(units = 64, return_sequences = True)),\n",
        "        tf.keras.layers.Bidirectional(LSTM(units = 64)),\n",
        "        Dense(5, activation='softmax')    # 결과값이 0~4 이므로 Dense(5)\n",
        "    ])\n",
        "    \n",
        "model3.compile(loss= 'categorical_crossentropy', #여러개 정답 중 하나 맞추는 문제이므로 손실 함수는 categorical_crossentropy\n",
        "              optimizer= 'adam',\n",
        "              metrics = ['accuracy']) \n",
        "model3.summary()"
      ],
      "metadata": {
        "colab": {
          "base_uri": "https://localhost:8080/"
        },
        "outputId": "12c5e497-4352-41e0-80b4-44e9444b899d",
        "id": "2Fj0hfPOFKFF"
      },
      "execution_count": null,
      "outputs": [
        {
          "output_type": "stream",
          "name": "stdout",
          "text": [
            "Model: \"sequential_2\"\n",
            "_________________________________________________________________\n",
            " Layer (type)                Output Shape              Param #   \n",
            "=================================================================\n",
            " embedding_5 (Embedding)     (None, 150, 200)          400000    \n",
            "                                                                 \n",
            " bidirectional_9 (Bidirectio  (None, 150, 128)         135680    \n",
            " nal)                                                            \n",
            "                                                                 \n",
            " bidirectional_10 (Bidirecti  (None, 150, 128)         98816     \n",
            " onal)                                                           \n",
            "                                                                 \n",
            " bidirectional_11 (Bidirecti  (None, 128)              98816     \n",
            " onal)                                                           \n",
            "                                                                 \n",
            " dense_2 (Dense)             (None, 5)                 645       \n",
            "                                                                 \n",
            "=================================================================\n",
            "Total params: 733,957\n",
            "Trainable params: 733,957\n",
            "Non-trainable params: 0\n",
            "_________________________________________________________________\n"
          ]
        }
      ]
    },
    {
      "cell_type": "code",
      "source": [
        "# 모델 실행해보기\n",
        "history = model3.fit(train_x, train_y, epochs=5, batch_size=100, validation_split= 0.2)"
      ],
      "metadata": {
        "colab": {
          "base_uri": "https://localhost:8080/"
        },
        "outputId": "7cb826ed-c49b-47f0-fcb8-ff6637f77210",
        "id": "kNavKxm9FKFF"
      },
      "execution_count": null,
      "outputs": [
        {
          "output_type": "stream",
          "name": "stdout",
          "text": [
            "Epoch 1/5\n",
            "440/440 [==============================] - 65s 120ms/step - loss: 0.9926 - accuracy: 0.6091 - val_loss: 0.7784 - val_accuracy: 0.7095\n",
            "Epoch 2/5\n",
            "440/440 [==============================] - 27s 61ms/step - loss: 0.7190 - accuracy: 0.7317 - val_loss: 0.7197 - val_accuracy: 0.7310\n",
            "Epoch 3/5\n",
            "440/440 [==============================] - 21s 48ms/step - loss: 0.6401 - accuracy: 0.7622 - val_loss: 0.7288 - val_accuracy: 0.7301\n",
            "Epoch 4/5\n",
            "440/440 [==============================] - 20s 46ms/step - loss: 0.6147 - accuracy: 0.7722 - val_loss: 0.7231 - val_accuracy: 0.7371\n",
            "Epoch 5/5\n",
            "440/440 [==============================] - 22s 50ms/step - loss: 0.5661 - accuracy: 0.7888 - val_loss: 0.7217 - val_accuracy: 0.7345\n"
          ]
        }
      ]
    },
    {
      "cell_type": "code",
      "source": [
        "test_y = np.zeros((test_x.shape[0], 5))"
      ],
      "metadata": {
        "id": "71Ax-A7NFKFF"
      },
      "execution_count": null,
      "outputs": []
    },
    {
      "cell_type": "code",
      "source": [
        "test_y=model3.predict(test_x)"
      ],
      "metadata": {
        "colab": {
          "base_uri": "https://localhost:8080/"
        },
        "outputId": "ca6239d9-6662-4148-a34f-cbf304606e9c",
        "id": "8wfafuOiFKFF"
      },
      "execution_count": null,
      "outputs": [
        {
          "output_type": "stream",
          "name": "stdout",
          "text": [
            "614/614 [==============================] - 10s 13ms/step\n"
          ]
        }
      ]
    },
    {
      "cell_type": "code",
      "source": [
        "submission=pd.read_csv('/content/drive/MyDrive/OB 1조/프로젝트2/data/sample_submission.csv')"
      ],
      "metadata": {
        "id": "jo-lOL9FFKFF"
      },
      "execution_count": null,
      "outputs": []
    },
    {
      "cell_type": "code",
      "source": [
        "submission[['0','1','2','3','4']] = test_y\n",
        "submission"
      ],
      "metadata": {
        "colab": {
          "base_uri": "https://localhost:8080/",
          "height": 424
        },
        "outputId": "91a9b1ae-a366-4965-cacb-2bc7f62bbfa4",
        "id": "klTy0GSiFKFG"
      },
      "execution_count": null,
      "outputs": [
        {
          "output_type": "execute_result",
          "data": {
            "text/plain": [
              "       index         0         1         2         3         4\n",
              "0          0  0.051698  0.778544  0.094551  0.073903  0.001305\n",
              "1          1  0.041769  0.258416  0.007128  0.612550  0.080137\n",
              "2          2  0.587370  0.007574  0.080521  0.005644  0.318891\n",
              "3          3  0.001589  0.009731  0.984528  0.001832  0.002319\n",
              "4          4  0.515952  0.044726  0.004662  0.415151  0.019508\n",
              "...      ...       ...       ...       ...       ...       ...\n",
              "19612  19612  0.002905  0.994795  0.000340  0.001638  0.000322\n",
              "19613  19613  0.002128  0.001638  0.295749  0.002650  0.697834\n",
              "19614  19614  0.004659  0.993581  0.000652  0.000858  0.000250\n",
              "19615  19615  0.005332  0.986788  0.000628  0.006294  0.000958\n",
              "19616  19616  0.306723  0.017637  0.142539  0.523058  0.010044\n",
              "\n",
              "[19617 rows x 6 columns]"
            ],
            "text/html": [
              "\n",
              "  <div id=\"df-1e7ac6c9-4ac0-4eca-80a3-4376bd44ab4a\">\n",
              "    <div class=\"colab-df-container\">\n",
              "      <div>\n",
              "<style scoped>\n",
              "    .dataframe tbody tr th:only-of-type {\n",
              "        vertical-align: middle;\n",
              "    }\n",
              "\n",
              "    .dataframe tbody tr th {\n",
              "        vertical-align: top;\n",
              "    }\n",
              "\n",
              "    .dataframe thead th {\n",
              "        text-align: right;\n",
              "    }\n",
              "</style>\n",
              "<table border=\"1\" class=\"dataframe\">\n",
              "  <thead>\n",
              "    <tr style=\"text-align: right;\">\n",
              "      <th></th>\n",
              "      <th>index</th>\n",
              "      <th>0</th>\n",
              "      <th>1</th>\n",
              "      <th>2</th>\n",
              "      <th>3</th>\n",
              "      <th>4</th>\n",
              "    </tr>\n",
              "  </thead>\n",
              "  <tbody>\n",
              "    <tr>\n",
              "      <th>0</th>\n",
              "      <td>0</td>\n",
              "      <td>0.051698</td>\n",
              "      <td>0.778544</td>\n",
              "      <td>0.094551</td>\n",
              "      <td>0.073903</td>\n",
              "      <td>0.001305</td>\n",
              "    </tr>\n",
              "    <tr>\n",
              "      <th>1</th>\n",
              "      <td>1</td>\n",
              "      <td>0.041769</td>\n",
              "      <td>0.258416</td>\n",
              "      <td>0.007128</td>\n",
              "      <td>0.612550</td>\n",
              "      <td>0.080137</td>\n",
              "    </tr>\n",
              "    <tr>\n",
              "      <th>2</th>\n",
              "      <td>2</td>\n",
              "      <td>0.587370</td>\n",
              "      <td>0.007574</td>\n",
              "      <td>0.080521</td>\n",
              "      <td>0.005644</td>\n",
              "      <td>0.318891</td>\n",
              "    </tr>\n",
              "    <tr>\n",
              "      <th>3</th>\n",
              "      <td>3</td>\n",
              "      <td>0.001589</td>\n",
              "      <td>0.009731</td>\n",
              "      <td>0.984528</td>\n",
              "      <td>0.001832</td>\n",
              "      <td>0.002319</td>\n",
              "    </tr>\n",
              "    <tr>\n",
              "      <th>4</th>\n",
              "      <td>4</td>\n",
              "      <td>0.515952</td>\n",
              "      <td>0.044726</td>\n",
              "      <td>0.004662</td>\n",
              "      <td>0.415151</td>\n",
              "      <td>0.019508</td>\n",
              "    </tr>\n",
              "    <tr>\n",
              "      <th>...</th>\n",
              "      <td>...</td>\n",
              "      <td>...</td>\n",
              "      <td>...</td>\n",
              "      <td>...</td>\n",
              "      <td>...</td>\n",
              "      <td>...</td>\n",
              "    </tr>\n",
              "    <tr>\n",
              "      <th>19612</th>\n",
              "      <td>19612</td>\n",
              "      <td>0.002905</td>\n",
              "      <td>0.994795</td>\n",
              "      <td>0.000340</td>\n",
              "      <td>0.001638</td>\n",
              "      <td>0.000322</td>\n",
              "    </tr>\n",
              "    <tr>\n",
              "      <th>19613</th>\n",
              "      <td>19613</td>\n",
              "      <td>0.002128</td>\n",
              "      <td>0.001638</td>\n",
              "      <td>0.295749</td>\n",
              "      <td>0.002650</td>\n",
              "      <td>0.697834</td>\n",
              "    </tr>\n",
              "    <tr>\n",
              "      <th>19614</th>\n",
              "      <td>19614</td>\n",
              "      <td>0.004659</td>\n",
              "      <td>0.993581</td>\n",
              "      <td>0.000652</td>\n",
              "      <td>0.000858</td>\n",
              "      <td>0.000250</td>\n",
              "    </tr>\n",
              "    <tr>\n",
              "      <th>19615</th>\n",
              "      <td>19615</td>\n",
              "      <td>0.005332</td>\n",
              "      <td>0.986788</td>\n",
              "      <td>0.000628</td>\n",
              "      <td>0.006294</td>\n",
              "      <td>0.000958</td>\n",
              "    </tr>\n",
              "    <tr>\n",
              "      <th>19616</th>\n",
              "      <td>19616</td>\n",
              "      <td>0.306723</td>\n",
              "      <td>0.017637</td>\n",
              "      <td>0.142539</td>\n",
              "      <td>0.523058</td>\n",
              "      <td>0.010044</td>\n",
              "    </tr>\n",
              "  </tbody>\n",
              "</table>\n",
              "<p>19617 rows × 6 columns</p>\n",
              "</div>\n",
              "      <button class=\"colab-df-convert\" onclick=\"convertToInteractive('df-1e7ac6c9-4ac0-4eca-80a3-4376bd44ab4a')\"\n",
              "              title=\"Convert this dataframe to an interactive table.\"\n",
              "              style=\"display:none;\">\n",
              "        \n",
              "  <svg xmlns=\"http://www.w3.org/2000/svg\" height=\"24px\"viewBox=\"0 0 24 24\"\n",
              "       width=\"24px\">\n",
              "    <path d=\"M0 0h24v24H0V0z\" fill=\"none\"/>\n",
              "    <path d=\"M18.56 5.44l.94 2.06.94-2.06 2.06-.94-2.06-.94-.94-2.06-.94 2.06-2.06.94zm-11 1L8.5 8.5l.94-2.06 2.06-.94-2.06-.94L8.5 2.5l-.94 2.06-2.06.94zm10 10l.94 2.06.94-2.06 2.06-.94-2.06-.94-.94-2.06-.94 2.06-2.06.94z\"/><path d=\"M17.41 7.96l-1.37-1.37c-.4-.4-.92-.59-1.43-.59-.52 0-1.04.2-1.43.59L10.3 9.45l-7.72 7.72c-.78.78-.78 2.05 0 2.83L4 21.41c.39.39.9.59 1.41.59.51 0 1.02-.2 1.41-.59l7.78-7.78 2.81-2.81c.8-.78.8-2.07 0-2.86zM5.41 20L4 18.59l7.72-7.72 1.47 1.35L5.41 20z\"/>\n",
              "  </svg>\n",
              "      </button>\n",
              "      \n",
              "  <style>\n",
              "    .colab-df-container {\n",
              "      display:flex;\n",
              "      flex-wrap:wrap;\n",
              "      gap: 12px;\n",
              "    }\n",
              "\n",
              "    .colab-df-convert {\n",
              "      background-color: #E8F0FE;\n",
              "      border: none;\n",
              "      border-radius: 50%;\n",
              "      cursor: pointer;\n",
              "      display: none;\n",
              "      fill: #1967D2;\n",
              "      height: 32px;\n",
              "      padding: 0 0 0 0;\n",
              "      width: 32px;\n",
              "    }\n",
              "\n",
              "    .colab-df-convert:hover {\n",
              "      background-color: #E2EBFA;\n",
              "      box-shadow: 0px 1px 2px rgba(60, 64, 67, 0.3), 0px 1px 3px 1px rgba(60, 64, 67, 0.15);\n",
              "      fill: #174EA6;\n",
              "    }\n",
              "\n",
              "    [theme=dark] .colab-df-convert {\n",
              "      background-color: #3B4455;\n",
              "      fill: #D2E3FC;\n",
              "    }\n",
              "\n",
              "    [theme=dark] .colab-df-convert:hover {\n",
              "      background-color: #434B5C;\n",
              "      box-shadow: 0px 1px 3px 1px rgba(0, 0, 0, 0.15);\n",
              "      filter: drop-shadow(0px 1px 2px rgba(0, 0, 0, 0.3));\n",
              "      fill: #FFFFFF;\n",
              "    }\n",
              "  </style>\n",
              "\n",
              "      <script>\n",
              "        const buttonEl =\n",
              "          document.querySelector('#df-1e7ac6c9-4ac0-4eca-80a3-4376bd44ab4a button.colab-df-convert');\n",
              "        buttonEl.style.display =\n",
              "          google.colab.kernel.accessAllowed ? 'block' : 'none';\n",
              "\n",
              "        async function convertToInteractive(key) {\n",
              "          const element = document.querySelector('#df-1e7ac6c9-4ac0-4eca-80a3-4376bd44ab4a');\n",
              "          const dataTable =\n",
              "            await google.colab.kernel.invokeFunction('convertToInteractive',\n",
              "                                                     [key], {});\n",
              "          if (!dataTable) return;\n",
              "\n",
              "          const docLinkHtml = 'Like what you see? Visit the ' +\n",
              "            '<a target=\"_blank\" href=https://colab.research.google.com/notebooks/data_table.ipynb>data table notebook</a>'\n",
              "            + ' to learn more about interactive tables.';\n",
              "          element.innerHTML = '';\n",
              "          dataTable['output_type'] = 'display_data';\n",
              "          await google.colab.output.renderOutput(dataTable, element);\n",
              "          const docLink = document.createElement('div');\n",
              "          docLink.innerHTML = docLinkHtml;\n",
              "          element.appendChild(docLink);\n",
              "        }\n",
              "      </script>\n",
              "    </div>\n",
              "  </div>\n",
              "  "
            ]
          },
          "metadata": {},
          "execution_count": 97
        }
      ]
    },
    {
      "cell_type": "code",
      "source": [
        "# CSV 파일로 내보내기\n",
        "submission.to_csv('/content/drive/MyDrive/김수빈/ESAA/OB/submission-유빈.csv', index=False)"
      ],
      "metadata": {
        "id": "bi31lOYnFKFG"
      },
      "execution_count": null,
      "outputs": []
    },
    {
      "cell_type": "markdown",
      "source": [
        "**2. 부호 제거 한 버전**"
      ],
      "metadata": {
        "id": "jwjvqpqBjZwr"
      }
    },
    {
      "cell_type": "code",
      "source": [
        "X_train=np.array([x for x in train_L['text_Lem_stop_20_buho']])\n",
        "X_test = np.array([x for x in test_L['text_Lem_stop_20_buho']])\n",
        "Y_train = np.array([x for x in train['author']])"
      ],
      "metadata": {
        "id": "-IyPTzDjjZws"
      },
      "execution_count": null,
      "outputs": []
    },
    {
      "cell_type": "code",
      "source": [
        "print(X_train)\n",
        "print(X_test)\n",
        "print(Y_train)"
      ],
      "metadata": {
        "id": "wB14Hvv7jZwt"
      },
      "execution_count": null,
      "outputs": []
    },
    {
      "cell_type": "markdown",
      "source": [
        "**Vectorization**"
      ],
      "metadata": {
        "id": "_GW0GDPfjZwt"
      }
    },
    {
      "cell_type": "code",
      "source": [
        "# Tokenizer\n",
        "from keras.preprocessing.text import Tokenizer\n",
        "vocab_size = 2000  \n",
        "\n",
        "tokenizer = Tokenizer(num_words = vocab_size)  \n",
        "  # Tokenizer 는 데이터에 출현하는 모든 단어의 개수를 세고 빈도 수로 정렬해서 \n",
        "  # num_words 에 지정된 만큼만 숫자로 반환하고, 나머지는 0 으로 반환합니다                 \n",
        "tokenizer.fit_on_texts(X_train) # Tokenizer 에 데이터 실제로 입력\n",
        "sequences_train = tokenizer.texts_to_sequences(X_train)    # 문장 내 모든 단어를 시퀀스 번호로 변환\n",
        "sequences_test = tokenizer.texts_to_sequences(X_test)      # 문장 내 모든 단어를 시퀀스 번호로 변환\n",
        "\n",
        "print(len(sequences_train), len(sequences_test))"
      ],
      "metadata": {
        "colab": {
          "base_uri": "https://localhost:8080/"
        },
        "outputId": "2c4dc2a1-3850-425c-84bb-cd0c1bd67e1c",
        "id": "i51lv6gejZwu"
      },
      "execution_count": null,
      "outputs": [
        {
          "output_type": "stream",
          "name": "stdout",
          "text": [
            "54879 19617\n"
          ]
        }
      ]
    },
    {
      "cell_type": "code",
      "source": [
        "# 변환된 시퀀스 번호를 이용해 단어 임베딩 벡터 생성\n",
        "word_index = tokenizer.word_index"
      ],
      "metadata": {
        "id": "S9EnIe6LjZwv"
      },
      "execution_count": null,
      "outputs": []
    },
    {
      "cell_type": "code",
      "source": [
        "# 독립변수 데이터 전처리\n",
        "  ## 문장의 길이기 제각각이기 때문에 벡터 크기 다 다름\n",
        "  ## 그러므로 최대 시퀀스 길이 크기(211) 만큼 넉넉하게 늘리고\n",
        "  ## 패딩(padding) 작업을 통해 나머지 빈 공간을 0으로 채움\n",
        "\n",
        "from tensorflow.keras.preprocessing.sequence import pad_sequences\n",
        "\n",
        "max_length = 150    # 위에서 그래프 확인 후 정함\n",
        "padding_type='post'\n",
        "\n",
        "train_x = pad_sequences(sequences_train, padding='post', maxlen=max_length)\n",
        "test_x = pad_sequences(sequences_test, padding=padding_type, maxlen=max_length)\n",
        "\n",
        "print(train_x.shape, test_x.shape)"
      ],
      "metadata": {
        "colab": {
          "base_uri": "https://localhost:8080/"
        },
        "outputId": "f15a0d85-fa88-4fb7-8f33-a615194c23a2",
        "id": "WPoQbhc3jZwv"
      },
      "execution_count": null,
      "outputs": [
        {
          "output_type": "stream",
          "name": "stdout",
          "text": [
            "(54879, 150) (19617, 150)\n"
          ]
        }
      ]
    },
    {
      "cell_type": "code",
      "source": [
        "from keras.utils import np_utils\n",
        "\n",
        "# 종속변수 데이터 전처리\n",
        "train_y = np_utils.to_categorical(Y_train) # Y_train 에 원-핫 인코딩\n",
        "print(train_y)\n",
        "print(train_y.shape)"
      ],
      "metadata": {
        "colab": {
          "base_uri": "https://localhost:8080/"
        },
        "outputId": "3f73191e-958e-4a0d-e93c-59efb70a6edd",
        "id": "ACRbs5mOjZww"
      },
      "execution_count": null,
      "outputs": [
        {
          "output_type": "stream",
          "name": "stdout",
          "text": [
            "[[0. 0. 0. 1. 0.]\n",
            " [0. 0. 1. 0. 0.]\n",
            " [0. 1. 0. 0. 0.]\n",
            " ...\n",
            " [0. 1. 0. 0. 0.]\n",
            " [0. 0. 0. 1. 0.]\n",
            " [1. 0. 0. 0. 0.]]\n",
            "(54879, 5)\n"
          ]
        }
      ]
    },
    {
      "cell_type": "markdown",
      "source": [
        "**모델링**"
      ],
      "metadata": {
        "id": "hDRfhj1yjZww"
      }
    },
    {
      "cell_type": "code",
      "source": [
        "pip install keras"
      ],
      "metadata": {
        "colab": {
          "base_uri": "https://localhost:8080/"
        },
        "outputId": "d3d21a33-5ce4-41e4-c9c7-5527b7c3aa39",
        "id": "EpM43tHUjZwx"
      },
      "execution_count": null,
      "outputs": [
        {
          "output_type": "stream",
          "name": "stdout",
          "text": [
            "Looking in indexes: https://pypi.org/simple, https://us-python.pkg.dev/colab-wheels/public/simple/\n",
            "Requirement already satisfied: keras in /usr/local/lib/python3.10/dist-packages (2.12.0)\n"
          ]
        }
      ]
    },
    {
      "cell_type": "code",
      "source": [
        "#파라미터 설정\n",
        "vocab_size = 2000 # 제일 많이 사용하는 사이즈\n",
        "embedding_dim = 200  \n",
        "max_length = 150    # 위에서 그래프 확인 후 정함\n",
        "padding_type='post'\n",
        "#oov_tok = \"<OOV>\""
      ],
      "metadata": {
        "id": "lg71H06wjZwx"
      },
      "execution_count": null,
      "outputs": []
    },
    {
      "cell_type": "code",
      "source": [
        "# 양방향 LSTM 레이어를 사용한 모델 (model3) 정의\n",
        "\n",
        "from keras.models import Sequential\n",
        "from keras.layers import Embedding\n",
        "import tensorflow as tf\n",
        "from keras.layers import LSTM\n",
        "from keras.layers import Dense\n",
        "\n",
        "\n",
        "model3 = Sequential([Embedding(vocab_size, embedding_dim, input_length =max_length),\n",
        "        tf.keras.layers.Bidirectional(LSTM(units = 64, return_sequences = True)),\n",
        "        tf.keras.layers.Bidirectional(LSTM(units = 64, return_sequences = True)),\n",
        "        tf.keras.layers.Bidirectional(LSTM(units = 64)),\n",
        "        Dense(5, activation='softmax')    # 결과값이 0~4 이므로 Dense(5)\n",
        "    ])\n",
        "    \n",
        "model3.compile(loss= 'categorical_crossentropy', #여러개 정답 중 하나 맞추는 문제이므로 손실 함수는 categorical_crossentropy\n",
        "              optimizer= 'adam',\n",
        "              metrics = ['accuracy']) \n",
        "model3.summary()"
      ],
      "metadata": {
        "colab": {
          "base_uri": "https://localhost:8080/"
        },
        "outputId": "12c5e497-4352-41e0-80b4-44e9444b899d",
        "id": "XFf-W_yyjZwy"
      },
      "execution_count": null,
      "outputs": [
        {
          "output_type": "stream",
          "name": "stdout",
          "text": [
            "Model: \"sequential_2\"\n",
            "_________________________________________________________________\n",
            " Layer (type)                Output Shape              Param #   \n",
            "=================================================================\n",
            " embedding_5 (Embedding)     (None, 150, 200)          400000    \n",
            "                                                                 \n",
            " bidirectional_9 (Bidirectio  (None, 150, 128)         135680    \n",
            " nal)                                                            \n",
            "                                                                 \n",
            " bidirectional_10 (Bidirecti  (None, 150, 128)         98816     \n",
            " onal)                                                           \n",
            "                                                                 \n",
            " bidirectional_11 (Bidirecti  (None, 128)              98816     \n",
            " onal)                                                           \n",
            "                                                                 \n",
            " dense_2 (Dense)             (None, 5)                 645       \n",
            "                                                                 \n",
            "=================================================================\n",
            "Total params: 733,957\n",
            "Trainable params: 733,957\n",
            "Non-trainable params: 0\n",
            "_________________________________________________________________\n"
          ]
        }
      ]
    },
    {
      "cell_type": "code",
      "source": [
        "# 모델 실행해보기\n",
        "history = model3.fit(train_x, train_y, epochs=5, batch_size=100, validation_split= 0.2)"
      ],
      "metadata": {
        "colab": {
          "base_uri": "https://localhost:8080/"
        },
        "outputId": "7cb826ed-c49b-47f0-fcb8-ff6637f77210",
        "id": "_IPf0SNNjZwz"
      },
      "execution_count": null,
      "outputs": [
        {
          "output_type": "stream",
          "name": "stdout",
          "text": [
            "Epoch 1/5\n",
            "440/440 [==============================] - 65s 120ms/step - loss: 0.9926 - accuracy: 0.6091 - val_loss: 0.7784 - val_accuracy: 0.7095\n",
            "Epoch 2/5\n",
            "440/440 [==============================] - 27s 61ms/step - loss: 0.7190 - accuracy: 0.7317 - val_loss: 0.7197 - val_accuracy: 0.7310\n",
            "Epoch 3/5\n",
            "440/440 [==============================] - 21s 48ms/step - loss: 0.6401 - accuracy: 0.7622 - val_loss: 0.7288 - val_accuracy: 0.7301\n",
            "Epoch 4/5\n",
            "440/440 [==============================] - 20s 46ms/step - loss: 0.6147 - accuracy: 0.7722 - val_loss: 0.7231 - val_accuracy: 0.7371\n",
            "Epoch 5/5\n",
            "440/440 [==============================] - 22s 50ms/step - loss: 0.5661 - accuracy: 0.7888 - val_loss: 0.7217 - val_accuracy: 0.7345\n"
          ]
        }
      ]
    },
    {
      "cell_type": "code",
      "source": [
        "test_y = np.zeros((test_x.shape[0], 5))"
      ],
      "metadata": {
        "id": "2JhVPI7JjZw0"
      },
      "execution_count": null,
      "outputs": []
    },
    {
      "cell_type": "code",
      "source": [
        "test_y=model3.predict(test_x)"
      ],
      "metadata": {
        "colab": {
          "base_uri": "https://localhost:8080/"
        },
        "outputId": "ca6239d9-6662-4148-a34f-cbf304606e9c",
        "id": "8Jpu-omojZw0"
      },
      "execution_count": null,
      "outputs": [
        {
          "output_type": "stream",
          "name": "stdout",
          "text": [
            "614/614 [==============================] - 10s 13ms/step\n"
          ]
        }
      ]
    },
    {
      "cell_type": "code",
      "source": [
        "submission=pd.read_csv('/content/drive/MyDrive/OB 1조/프로젝트2/data/sample_submission.csv')"
      ],
      "metadata": {
        "id": "NoGc1K3ejZw1"
      },
      "execution_count": null,
      "outputs": []
    },
    {
      "cell_type": "code",
      "source": [
        "submission[['0','1','2','3','4']] = test_y\n",
        "submission"
      ],
      "metadata": {
        "colab": {
          "base_uri": "https://localhost:8080/",
          "height": 424
        },
        "outputId": "91a9b1ae-a366-4965-cacb-2bc7f62bbfa4",
        "id": "xlPdhn7rjZw1"
      },
      "execution_count": null,
      "outputs": [
        {
          "output_type": "execute_result",
          "data": {
            "text/plain": [
              "       index         0         1         2         3         4\n",
              "0          0  0.051698  0.778544  0.094551  0.073903  0.001305\n",
              "1          1  0.041769  0.258416  0.007128  0.612550  0.080137\n",
              "2          2  0.587370  0.007574  0.080521  0.005644  0.318891\n",
              "3          3  0.001589  0.009731  0.984528  0.001832  0.002319\n",
              "4          4  0.515952  0.044726  0.004662  0.415151  0.019508\n",
              "...      ...       ...       ...       ...       ...       ...\n",
              "19612  19612  0.002905  0.994795  0.000340  0.001638  0.000322\n",
              "19613  19613  0.002128  0.001638  0.295749  0.002650  0.697834\n",
              "19614  19614  0.004659  0.993581  0.000652  0.000858  0.000250\n",
              "19615  19615  0.005332  0.986788  0.000628  0.006294  0.000958\n",
              "19616  19616  0.306723  0.017637  0.142539  0.523058  0.010044\n",
              "\n",
              "[19617 rows x 6 columns]"
            ],
            "text/html": [
              "\n",
              "  <div id=\"df-1e7ac6c9-4ac0-4eca-80a3-4376bd44ab4a\">\n",
              "    <div class=\"colab-df-container\">\n",
              "      <div>\n",
              "<style scoped>\n",
              "    .dataframe tbody tr th:only-of-type {\n",
              "        vertical-align: middle;\n",
              "    }\n",
              "\n",
              "    .dataframe tbody tr th {\n",
              "        vertical-align: top;\n",
              "    }\n",
              "\n",
              "    .dataframe thead th {\n",
              "        text-align: right;\n",
              "    }\n",
              "</style>\n",
              "<table border=\"1\" class=\"dataframe\">\n",
              "  <thead>\n",
              "    <tr style=\"text-align: right;\">\n",
              "      <th></th>\n",
              "      <th>index</th>\n",
              "      <th>0</th>\n",
              "      <th>1</th>\n",
              "      <th>2</th>\n",
              "      <th>3</th>\n",
              "      <th>4</th>\n",
              "    </tr>\n",
              "  </thead>\n",
              "  <tbody>\n",
              "    <tr>\n",
              "      <th>0</th>\n",
              "      <td>0</td>\n",
              "      <td>0.051698</td>\n",
              "      <td>0.778544</td>\n",
              "      <td>0.094551</td>\n",
              "      <td>0.073903</td>\n",
              "      <td>0.001305</td>\n",
              "    </tr>\n",
              "    <tr>\n",
              "      <th>1</th>\n",
              "      <td>1</td>\n",
              "      <td>0.041769</td>\n",
              "      <td>0.258416</td>\n",
              "      <td>0.007128</td>\n",
              "      <td>0.612550</td>\n",
              "      <td>0.080137</td>\n",
              "    </tr>\n",
              "    <tr>\n",
              "      <th>2</th>\n",
              "      <td>2</td>\n",
              "      <td>0.587370</td>\n",
              "      <td>0.007574</td>\n",
              "      <td>0.080521</td>\n",
              "      <td>0.005644</td>\n",
              "      <td>0.318891</td>\n",
              "    </tr>\n",
              "    <tr>\n",
              "      <th>3</th>\n",
              "      <td>3</td>\n",
              "      <td>0.001589</td>\n",
              "      <td>0.009731</td>\n",
              "      <td>0.984528</td>\n",
              "      <td>0.001832</td>\n",
              "      <td>0.002319</td>\n",
              "    </tr>\n",
              "    <tr>\n",
              "      <th>4</th>\n",
              "      <td>4</td>\n",
              "      <td>0.515952</td>\n",
              "      <td>0.044726</td>\n",
              "      <td>0.004662</td>\n",
              "      <td>0.415151</td>\n",
              "      <td>0.019508</td>\n",
              "    </tr>\n",
              "    <tr>\n",
              "      <th>...</th>\n",
              "      <td>...</td>\n",
              "      <td>...</td>\n",
              "      <td>...</td>\n",
              "      <td>...</td>\n",
              "      <td>...</td>\n",
              "      <td>...</td>\n",
              "    </tr>\n",
              "    <tr>\n",
              "      <th>19612</th>\n",
              "      <td>19612</td>\n",
              "      <td>0.002905</td>\n",
              "      <td>0.994795</td>\n",
              "      <td>0.000340</td>\n",
              "      <td>0.001638</td>\n",
              "      <td>0.000322</td>\n",
              "    </tr>\n",
              "    <tr>\n",
              "      <th>19613</th>\n",
              "      <td>19613</td>\n",
              "      <td>0.002128</td>\n",
              "      <td>0.001638</td>\n",
              "      <td>0.295749</td>\n",
              "      <td>0.002650</td>\n",
              "      <td>0.697834</td>\n",
              "    </tr>\n",
              "    <tr>\n",
              "      <th>19614</th>\n",
              "      <td>19614</td>\n",
              "      <td>0.004659</td>\n",
              "      <td>0.993581</td>\n",
              "      <td>0.000652</td>\n",
              "      <td>0.000858</td>\n",
              "      <td>0.000250</td>\n",
              "    </tr>\n",
              "    <tr>\n",
              "      <th>19615</th>\n",
              "      <td>19615</td>\n",
              "      <td>0.005332</td>\n",
              "      <td>0.986788</td>\n",
              "      <td>0.000628</td>\n",
              "      <td>0.006294</td>\n",
              "      <td>0.000958</td>\n",
              "    </tr>\n",
              "    <tr>\n",
              "      <th>19616</th>\n",
              "      <td>19616</td>\n",
              "      <td>0.306723</td>\n",
              "      <td>0.017637</td>\n",
              "      <td>0.142539</td>\n",
              "      <td>0.523058</td>\n",
              "      <td>0.010044</td>\n",
              "    </tr>\n",
              "  </tbody>\n",
              "</table>\n",
              "<p>19617 rows × 6 columns</p>\n",
              "</div>\n",
              "      <button class=\"colab-df-convert\" onclick=\"convertToInteractive('df-1e7ac6c9-4ac0-4eca-80a3-4376bd44ab4a')\"\n",
              "              title=\"Convert this dataframe to an interactive table.\"\n",
              "              style=\"display:none;\">\n",
              "        \n",
              "  <svg xmlns=\"http://www.w3.org/2000/svg\" height=\"24px\"viewBox=\"0 0 24 24\"\n",
              "       width=\"24px\">\n",
              "    <path d=\"M0 0h24v24H0V0z\" fill=\"none\"/>\n",
              "    <path d=\"M18.56 5.44l.94 2.06.94-2.06 2.06-.94-2.06-.94-.94-2.06-.94 2.06-2.06.94zm-11 1L8.5 8.5l.94-2.06 2.06-.94-2.06-.94L8.5 2.5l-.94 2.06-2.06.94zm10 10l.94 2.06.94-2.06 2.06-.94-2.06-.94-.94-2.06-.94 2.06-2.06.94z\"/><path d=\"M17.41 7.96l-1.37-1.37c-.4-.4-.92-.59-1.43-.59-.52 0-1.04.2-1.43.59L10.3 9.45l-7.72 7.72c-.78.78-.78 2.05 0 2.83L4 21.41c.39.39.9.59 1.41.59.51 0 1.02-.2 1.41-.59l7.78-7.78 2.81-2.81c.8-.78.8-2.07 0-2.86zM5.41 20L4 18.59l7.72-7.72 1.47 1.35L5.41 20z\"/>\n",
              "  </svg>\n",
              "      </button>\n",
              "      \n",
              "  <style>\n",
              "    .colab-df-container {\n",
              "      display:flex;\n",
              "      flex-wrap:wrap;\n",
              "      gap: 12px;\n",
              "    }\n",
              "\n",
              "    .colab-df-convert {\n",
              "      background-color: #E8F0FE;\n",
              "      border: none;\n",
              "      border-radius: 50%;\n",
              "      cursor: pointer;\n",
              "      display: none;\n",
              "      fill: #1967D2;\n",
              "      height: 32px;\n",
              "      padding: 0 0 0 0;\n",
              "      width: 32px;\n",
              "    }\n",
              "\n",
              "    .colab-df-convert:hover {\n",
              "      background-color: #E2EBFA;\n",
              "      box-shadow: 0px 1px 2px rgba(60, 64, 67, 0.3), 0px 1px 3px 1px rgba(60, 64, 67, 0.15);\n",
              "      fill: #174EA6;\n",
              "    }\n",
              "\n",
              "    [theme=dark] .colab-df-convert {\n",
              "      background-color: #3B4455;\n",
              "      fill: #D2E3FC;\n",
              "    }\n",
              "\n",
              "    [theme=dark] .colab-df-convert:hover {\n",
              "      background-color: #434B5C;\n",
              "      box-shadow: 0px 1px 3px 1px rgba(0, 0, 0, 0.15);\n",
              "      filter: drop-shadow(0px 1px 2px rgba(0, 0, 0, 0.3));\n",
              "      fill: #FFFFFF;\n",
              "    }\n",
              "  </style>\n",
              "\n",
              "      <script>\n",
              "        const buttonEl =\n",
              "          document.querySelector('#df-1e7ac6c9-4ac0-4eca-80a3-4376bd44ab4a button.colab-df-convert');\n",
              "        buttonEl.style.display =\n",
              "          google.colab.kernel.accessAllowed ? 'block' : 'none';\n",
              "\n",
              "        async function convertToInteractive(key) {\n",
              "          const element = document.querySelector('#df-1e7ac6c9-4ac0-4eca-80a3-4376bd44ab4a');\n",
              "          const dataTable =\n",
              "            await google.colab.kernel.invokeFunction('convertToInteractive',\n",
              "                                                     [key], {});\n",
              "          if (!dataTable) return;\n",
              "\n",
              "          const docLinkHtml = 'Like what you see? Visit the ' +\n",
              "            '<a target=\"_blank\" href=https://colab.research.google.com/notebooks/data_table.ipynb>data table notebook</a>'\n",
              "            + ' to learn more about interactive tables.';\n",
              "          element.innerHTML = '';\n",
              "          dataTable['output_type'] = 'display_data';\n",
              "          await google.colab.output.renderOutput(dataTable, element);\n",
              "          const docLink = document.createElement('div');\n",
              "          docLink.innerHTML = docLinkHtml;\n",
              "          element.appendChild(docLink);\n",
              "        }\n",
              "      </script>\n",
              "    </div>\n",
              "  </div>\n",
              "  "
            ]
          },
          "metadata": {},
          "execution_count": 97
        }
      ]
    },
    {
      "cell_type": "code",
      "source": [
        "# CSV 파일로 내보내기\n",
        "submission.to_csv('/content/drive/MyDrive/김수빈/ESAA/OB/submission-유빈.csv', index=False)"
      ],
      "metadata": {
        "id": "57y6RGQtjZw2"
      },
      "execution_count": null,
      "outputs": []
    },
    {
      "cell_type": "markdown",
      "source": [
        "### 데이터셋3 (수빈)"
      ],
      "metadata": {
        "id": "KtKhz4ySn4L9"
      }
    },
    {
      "cell_type": "code",
      "source": [
        "train_L=pd.read_csv('/content/drive/MyDrive/OB 1조/프로젝트2/data/베이스라인/train_3-2.csv')\n",
        "test_L=pd.read_csv('/content/drive/MyDrive/OB 1조/프로젝트2/data/베이스라인/test_3-2.csv')"
      ],
      "metadata": {
        "id": "ENcB83v194wy"
      },
      "execution_count": null,
      "outputs": []
    },
    {
      "cell_type": "code",
      "source": [
        "test_L"
      ],
      "metadata": {
        "colab": {
          "base_uri": "https://localhost:8080/",
          "height": 424
        },
        "id": "waD90NU2JSp3",
        "outputId": "849b0c52-bbba-4bfa-df57-d8f179f061c6"
      },
      "execution_count": null,
      "outputs": [
        {
          "output_type": "execute_result",
          "data": {
            "text/plain": [
              "                                                    text  \\\n",
              "0      “ not . think one charm young ladies ever meet...   \n",
              "1      `` no , '' reply , sudden consciousness , `` n...   \n",
              "2      lady state intention scream , course scream ad...   \n",
              "3      “ suddenly silence hear sound send heart mouth...   \n",
              "4      conviction remain unchanged . far know -- beli...   \n",
              "...                                                  ...   \n",
              "19612  end another day two , odin grow visibly strong...   \n",
              "19613  afternoon sit together , mostly silence , watc...   \n",
              "19614  odin , carry thank odin , proceed happiness lu...   \n",
              "19615  soon , upon odin 's leave room , `` mama , '' ...   \n",
              "19616  worse doom man , denouncer well-known citizen ...   \n",
              "\n",
              "                                                text_del  \n",
              "0      not think one charm young ladies ever meet mig...  \n",
              "1      no reply sudden consciousness not find can not...  \n",
              "2      lady state intention scream course scream addi...  \n",
              "3      suddenly silence hear sound send heart mouth c...  \n",
              "4      conviction remain unchanged far knowand believ...  \n",
              "...                                                  ...  \n",
              "19612  end another day two odin grow visibly stronger...  \n",
              "19613  afternoon sit together mostly silence watch lo...  \n",
              "19614  odin carry thank odin proceed happiness lucy e...  \n",
              "19615  soon upon odins leave room mama say odin alarm...  \n",
              "19616  worse doom man denouncer wellknown citizen att...  \n",
              "\n",
              "[19617 rows x 2 columns]"
            ],
            "text/html": [
              "\n",
              "  <div id=\"df-a38c2cff-8b45-43a5-bd5a-6915940e5f59\">\n",
              "    <div class=\"colab-df-container\">\n",
              "      <div>\n",
              "<style scoped>\n",
              "    .dataframe tbody tr th:only-of-type {\n",
              "        vertical-align: middle;\n",
              "    }\n",
              "\n",
              "    .dataframe tbody tr th {\n",
              "        vertical-align: top;\n",
              "    }\n",
              "\n",
              "    .dataframe thead th {\n",
              "        text-align: right;\n",
              "    }\n",
              "</style>\n",
              "<table border=\"1\" class=\"dataframe\">\n",
              "  <thead>\n",
              "    <tr style=\"text-align: right;\">\n",
              "      <th></th>\n",
              "      <th>text</th>\n",
              "      <th>text_del</th>\n",
              "    </tr>\n",
              "  </thead>\n",
              "  <tbody>\n",
              "    <tr>\n",
              "      <th>0</th>\n",
              "      <td>“ not . think one charm young ladies ever meet...</td>\n",
              "      <td>not think one charm young ladies ever meet mig...</td>\n",
              "    </tr>\n",
              "    <tr>\n",
              "      <th>1</th>\n",
              "      <td>`` no , '' reply , sudden consciousness , `` n...</td>\n",
              "      <td>no reply sudden consciousness not find can not...</td>\n",
              "    </tr>\n",
              "    <tr>\n",
              "      <th>2</th>\n",
              "      <td>lady state intention scream , course scream ad...</td>\n",
              "      <td>lady state intention scream course scream addi...</td>\n",
              "    </tr>\n",
              "    <tr>\n",
              "      <th>3</th>\n",
              "      <td>“ suddenly silence hear sound send heart mouth...</td>\n",
              "      <td>suddenly silence hear sound send heart mouth c...</td>\n",
              "    </tr>\n",
              "    <tr>\n",
              "      <th>4</th>\n",
              "      <td>conviction remain unchanged . far know -- beli...</td>\n",
              "      <td>conviction remain unchanged far knowand believ...</td>\n",
              "    </tr>\n",
              "    <tr>\n",
              "      <th>...</th>\n",
              "      <td>...</td>\n",
              "      <td>...</td>\n",
              "    </tr>\n",
              "    <tr>\n",
              "      <th>19612</th>\n",
              "      <td>end another day two , odin grow visibly strong...</td>\n",
              "      <td>end another day two odin grow visibly stronger...</td>\n",
              "    </tr>\n",
              "    <tr>\n",
              "      <th>19613</th>\n",
              "      <td>afternoon sit together , mostly silence , watc...</td>\n",
              "      <td>afternoon sit together mostly silence watch lo...</td>\n",
              "    </tr>\n",
              "    <tr>\n",
              "      <th>19614</th>\n",
              "      <td>odin , carry thank odin , proceed happiness lu...</td>\n",
              "      <td>odin carry thank odin proceed happiness lucy e...</td>\n",
              "    </tr>\n",
              "    <tr>\n",
              "      <th>19615</th>\n",
              "      <td>soon , upon odin 's leave room , `` mama , '' ...</td>\n",
              "      <td>soon upon odins leave room mama say odin alarm...</td>\n",
              "    </tr>\n",
              "    <tr>\n",
              "      <th>19616</th>\n",
              "      <td>worse doom man , denouncer well-known citizen ...</td>\n",
              "      <td>worse doom man denouncer wellknown citizen att...</td>\n",
              "    </tr>\n",
              "  </tbody>\n",
              "</table>\n",
              "<p>19617 rows × 2 columns</p>\n",
              "</div>\n",
              "      <button class=\"colab-df-convert\" onclick=\"convertToInteractive('df-a38c2cff-8b45-43a5-bd5a-6915940e5f59')\"\n",
              "              title=\"Convert this dataframe to an interactive table.\"\n",
              "              style=\"display:none;\">\n",
              "        \n",
              "  <svg xmlns=\"http://www.w3.org/2000/svg\" height=\"24px\"viewBox=\"0 0 24 24\"\n",
              "       width=\"24px\">\n",
              "    <path d=\"M0 0h24v24H0V0z\" fill=\"none\"/>\n",
              "    <path d=\"M18.56 5.44l.94 2.06.94-2.06 2.06-.94-2.06-.94-.94-2.06-.94 2.06-2.06.94zm-11 1L8.5 8.5l.94-2.06 2.06-.94-2.06-.94L8.5 2.5l-.94 2.06-2.06.94zm10 10l.94 2.06.94-2.06 2.06-.94-2.06-.94-.94-2.06-.94 2.06-2.06.94z\"/><path d=\"M17.41 7.96l-1.37-1.37c-.4-.4-.92-.59-1.43-.59-.52 0-1.04.2-1.43.59L10.3 9.45l-7.72 7.72c-.78.78-.78 2.05 0 2.83L4 21.41c.39.39.9.59 1.41.59.51 0 1.02-.2 1.41-.59l7.78-7.78 2.81-2.81c.8-.78.8-2.07 0-2.86zM5.41 20L4 18.59l7.72-7.72 1.47 1.35L5.41 20z\"/>\n",
              "  </svg>\n",
              "      </button>\n",
              "      \n",
              "  <style>\n",
              "    .colab-df-container {\n",
              "      display:flex;\n",
              "      flex-wrap:wrap;\n",
              "      gap: 12px;\n",
              "    }\n",
              "\n",
              "    .colab-df-convert {\n",
              "      background-color: #E8F0FE;\n",
              "      border: none;\n",
              "      border-radius: 50%;\n",
              "      cursor: pointer;\n",
              "      display: none;\n",
              "      fill: #1967D2;\n",
              "      height: 32px;\n",
              "      padding: 0 0 0 0;\n",
              "      width: 32px;\n",
              "    }\n",
              "\n",
              "    .colab-df-convert:hover {\n",
              "      background-color: #E2EBFA;\n",
              "      box-shadow: 0px 1px 2px rgba(60, 64, 67, 0.3), 0px 1px 3px 1px rgba(60, 64, 67, 0.15);\n",
              "      fill: #174EA6;\n",
              "    }\n",
              "\n",
              "    [theme=dark] .colab-df-convert {\n",
              "      background-color: #3B4455;\n",
              "      fill: #D2E3FC;\n",
              "    }\n",
              "\n",
              "    [theme=dark] .colab-df-convert:hover {\n",
              "      background-color: #434B5C;\n",
              "      box-shadow: 0px 1px 3px 1px rgba(0, 0, 0, 0.15);\n",
              "      filter: drop-shadow(0px 1px 2px rgba(0, 0, 0, 0.3));\n",
              "      fill: #FFFFFF;\n",
              "    }\n",
              "  </style>\n",
              "\n",
              "      <script>\n",
              "        const buttonEl =\n",
              "          document.querySelector('#df-a38c2cff-8b45-43a5-bd5a-6915940e5f59 button.colab-df-convert');\n",
              "        buttonEl.style.display =\n",
              "          google.colab.kernel.accessAllowed ? 'block' : 'none';\n",
              "\n",
              "        async function convertToInteractive(key) {\n",
              "          const element = document.querySelector('#df-a38c2cff-8b45-43a5-bd5a-6915940e5f59');\n",
              "          const dataTable =\n",
              "            await google.colab.kernel.invokeFunction('convertToInteractive',\n",
              "                                                     [key], {});\n",
              "          if (!dataTable) return;\n",
              "\n",
              "          const docLinkHtml = 'Like what you see? Visit the ' +\n",
              "            '<a target=\"_blank\" href=https://colab.research.google.com/notebooks/data_table.ipynb>data table notebook</a>'\n",
              "            + ' to learn more about interactive tables.';\n",
              "          element.innerHTML = '';\n",
              "          dataTable['output_type'] = 'display_data';\n",
              "          await google.colab.output.renderOutput(dataTable, element);\n",
              "          const docLink = document.createElement('div');\n",
              "          docLink.innerHTML = docLinkHtml;\n",
              "          element.appendChild(docLink);\n",
              "        }\n",
              "      </script>\n",
              "    </div>\n",
              "  </div>\n",
              "  "
            ]
          },
          "metadata": {},
          "execution_count": 113
        }
      ]
    },
    {
      "cell_type": "markdown",
      "source": [
        "**1. 코드 지운거로 모델링**"
      ],
      "metadata": {
        "id": "VbdOnMdOiNjM"
      }
    },
    {
      "cell_type": "code",
      "source": [
        "X_train=np.array([x for x in train_L['text_del']])\n",
        "X_test = np.array([x for x in test_L['text_del']])\n",
        "Y_train = np.array([x for x in train['author']])"
      ],
      "metadata": {
        "id": "UdgFrU-GNlrt"
      },
      "execution_count": null,
      "outputs": []
    },
    {
      "cell_type": "code",
      "source": [
        "print(X_train)\n",
        "print(X_test)\n",
        "print(Y_train)"
      ],
      "metadata": {
        "colab": {
          "base_uri": "https://localhost:8080/"
        },
        "id": "CbHy_vgHN8jP",
        "outputId": "d9acd4b5-fbc0-4d45-e0ec-4010ba0de76e"
      },
      "execution_count": null,
      "outputs": [
        {
          "output_type": "stream",
          "name": "stdout",
          "text": [
            "['almost choke much much want say strange exclamations come lips pole gaze fixedly bundle note hand look odin evident perplexity'\n",
            " 'sister ask suppose'\n",
            " 'engage one day walk peruse janes last letter dwell passages prove jane not write spirit instead surprise mr odin saw look odin meet put away letter immediately force smile say'\n",
            " ... 'sincere wellwisher friend sister lucy odin' 'want lend money'\n",
            " 'certainly not occur say yes like']\n",
            "['not think one charm young ladies ever meet might useful work decide genius way witness way preserve agra plan paper father love emotional thing whatever emotional oppose true cold reason place things never marry lest bias judgment'\n",
            " 'no reply sudden consciousness not find can not ignorant goodness owe alli feel iti express couldbut well know no orator'\n",
            " 'lady state intention scream course scream additional boldness exertion render unnecessary hasty knock door no sooner hear mr odin dart much agility wine bottle begin dust great violence matron sharply demand'\n",
            " ...\n",
            " 'odin carry thank odin proceed happiness lucy excess time reach bartletts build able assure mrs odin call next day congratulations never see spirit life'\n",
            " 'soon upon odins leave room mama say odin alarm subject illness can not conceal sure odin not well now almost fortnight yet not come nothing real indisposition occasion extraordinary delay else can detain norland'\n",
            " 'worse doom man denouncer wellknown citizen attach friend father wife one frenzied aspirations populace imitations questionable public virtues antiquity sacrifice selfimmolations people altar therefore president say else head quiver shoulder good physician republic deserve better still republic root obnoxious family aristocrats doubtless feel sacred glow joy make daughter widow child orphan wild excitement patriotic fervour not touch human sympathy']\n",
            "[3 2 1 ... 1 3 0]\n"
          ]
        }
      ]
    },
    {
      "cell_type": "markdown",
      "source": [
        "**Vectorization**"
      ],
      "metadata": {
        "id": "YHwDipZuBcyy"
      }
    },
    {
      "cell_type": "code",
      "source": [
        "# Tokenizer\n",
        "from keras.preprocessing.text import Tokenizer\n",
        "vocab_size = 2000  \n",
        "\n",
        "tokenizer = Tokenizer(num_words = vocab_size)  \n",
        "  # Tokenizer 는 데이터에 출현하는 모든 단어의 개수를 세고 빈도 수로 정렬해서 \n",
        "  # num_words 에 지정된 만큼만 숫자로 반환하고, 나머지는 0 으로 반환합니다                 \n",
        "tokenizer.fit_on_texts(X_train) # Tokenizer 에 데이터 실제로 입력\n",
        "sequences_train = tokenizer.texts_to_sequences(X_train)    # 문장 내 모든 단어를 시퀀스 번호로 변환\n",
        "sequences_test = tokenizer.texts_to_sequences(X_test)      # 문장 내 모든 단어를 시퀀스 번호로 변환\n",
        "\n",
        "print(len(sequences_train), len(sequences_test))"
      ],
      "metadata": {
        "colab": {
          "base_uri": "https://localhost:8080/"
        },
        "id": "xSzusoUIOIur",
        "outputId": "cf55905d-42d3-49a9-9dbc-6e3841eca855"
      },
      "execution_count": null,
      "outputs": [
        {
          "output_type": "stream",
          "name": "stdout",
          "text": [
            "54879 19617\n"
          ]
        }
      ]
    },
    {
      "cell_type": "code",
      "source": [
        "# 변환된 시퀀스 번호를 이용해 단어 임베딩 벡터 생성\n",
        "word_index = tokenizer.word_index"
      ],
      "metadata": {
        "id": "9Al6Ca6XOHUj"
      },
      "execution_count": null,
      "outputs": []
    },
    {
      "cell_type": "code",
      "source": [
        "# 독립변수 데이터 전처리\n",
        "  ## 문장의 길이기 제각각이기 때문에 벡터 크기 다 다름\n",
        "  ## 그러므로 최대 시퀀스 길이 크기(211) 만큼 넉넉하게 늘리고\n",
        "  ## 패딩(padding) 작업을 통해 나머지 빈 공간을 0으로 채움\n",
        "\n",
        "from tensorflow.keras.preprocessing.sequence import pad_sequences\n",
        "\n",
        "max_length = 150    # 위에서 그래프 확인 후 정함\n",
        "padding_type='post'\n",
        "\n",
        "train_x = pad_sequences(sequences_train, padding='post', maxlen=max_length)\n",
        "test_x = pad_sequences(sequences_test, padding=padding_type, maxlen=max_length)\n",
        "\n",
        "print(train_x.shape, test_x.shape)"
      ],
      "metadata": {
        "colab": {
          "base_uri": "https://localhost:8080/"
        },
        "id": "f_viux-OOMQ-",
        "outputId": "9a902157-f588-4ad9-862d-5524d14c5b61"
      },
      "execution_count": null,
      "outputs": [
        {
          "output_type": "stream",
          "name": "stdout",
          "text": [
            "(54879, 150) (19617, 150)\n"
          ]
        }
      ]
    },
    {
      "cell_type": "code",
      "source": [
        "from keras.utils import np_utils\n",
        "\n",
        "# 종속변수 데이터 전처리\n",
        "train_y = np_utils.to_categorical(Y_train) # Y_train 에 원-핫 인코딩\n",
        "print(train_y)\n",
        "print(train_y.shape)"
      ],
      "metadata": {
        "colab": {
          "base_uri": "https://localhost:8080/"
        },
        "id": "Nom0rITIOgGn",
        "outputId": "af24b59b-1a63-44b7-a34e-8dd4e109f015"
      },
      "execution_count": null,
      "outputs": [
        {
          "output_type": "stream",
          "name": "stdout",
          "text": [
            "[[0. 0. 0. 1. 0.]\n",
            " [0. 0. 1. 0. 0.]\n",
            " [0. 1. 0. 0. 0.]\n",
            " ...\n",
            " [0. 1. 0. 0. 0.]\n",
            " [0. 0. 0. 1. 0.]\n",
            " [1. 0. 0. 0. 0.]]\n",
            "(54879, 5)\n"
          ]
        }
      ]
    },
    {
      "cell_type": "markdown",
      "source": [
        "**모델링**\n"
      ],
      "metadata": {
        "id": "572Vjy64JZ8E"
      }
    },
    {
      "cell_type": "code",
      "source": [
        "pip install keras"
      ],
      "metadata": {
        "colab": {
          "base_uri": "https://localhost:8080/"
        },
        "id": "hOq_-g3KKut-",
        "outputId": "39aaddf5-9db9-4f50-d4c8-8fbe289b72d7"
      },
      "execution_count": null,
      "outputs": [
        {
          "output_type": "stream",
          "name": "stdout",
          "text": [
            "Looking in indexes: https://pypi.org/simple, https://us-python.pkg.dev/colab-wheels/public/simple/\n",
            "Requirement already satisfied: keras in /usr/local/lib/python3.10/dist-packages (2.12.0)\n"
          ]
        }
      ]
    },
    {
      "cell_type": "code",
      "source": [
        "#파라미터 설정\n",
        "vocab_size = 2000 # 제일 많이 사용하는 사이즈\n",
        "embedding_dim = 200  \n",
        "max_length = 150    # 위에서 그래프 확인 후 정함\n",
        "padding_type='post'\n",
        "#oov_tok = \"<OOV>\""
      ],
      "metadata": {
        "id": "oe_w8O07PJfq"
      },
      "execution_count": null,
      "outputs": []
    },
    {
      "cell_type": "code",
      "source": [
        "# 양방향 LSTM 레이어를 사용한 모델 (model3) 정의\n",
        "\n",
        "from keras.models import Sequential\n",
        "from keras.layers import Embedding\n",
        "import tensorflow as tf\n",
        "from keras.layers import LSTM\n",
        "from keras.layers import Dense\n",
        "\n",
        "\n",
        "model3 = Sequential([Embedding(vocab_size, embedding_dim, input_length =max_length),\n",
        "        tf.keras.layers.Bidirectional(LSTM(units = 64, return_sequences = True)),\n",
        "        tf.keras.layers.Bidirectional(LSTM(units = 64, return_sequences = True)),\n",
        "        tf.keras.layers.Bidirectional(LSTM(units = 64)),\n",
        "        Dense(5, activation='softmax')    # 결과값이 0~4 이므로 Dense(5)\n",
        "    ])\n",
        "    \n",
        "model3.compile(loss= 'categorical_crossentropy', #여러개 정답 중 하나 맞추는 문제이므로 손실 함수는 categorical_crossentropy\n",
        "              optimizer= 'adam',\n",
        "              metrics = ['accuracy']) \n",
        "model3.summary()"
      ],
      "metadata": {
        "colab": {
          "base_uri": "https://localhost:8080/"
        },
        "id": "ULLNaIo9PLLI",
        "outputId": "864259f8-2adc-400f-8d34-af1a2b2ab293"
      },
      "execution_count": null,
      "outputs": [
        {
          "output_type": "stream",
          "name": "stdout",
          "text": [
            "Model: \"sequential_1\"\n",
            "_________________________________________________________________\n",
            " Layer (type)                Output Shape              Param #   \n",
            "=================================================================\n",
            " embedding_1 (Embedding)     (None, 150, 200)          400000    \n",
            "                                                                 \n",
            " bidirectional_3 (Bidirectio  (None, 150, 128)         135680    \n",
            " nal)                                                            \n",
            "                                                                 \n",
            " bidirectional_4 (Bidirectio  (None, 150, 128)         98816     \n",
            " nal)                                                            \n",
            "                                                                 \n",
            " bidirectional_5 (Bidirectio  (None, 128)              98816     \n",
            " nal)                                                            \n",
            "                                                                 \n",
            " dense_1 (Dense)             (None, 5)                 645       \n",
            "                                                                 \n",
            "=================================================================\n",
            "Total params: 733,957\n",
            "Trainable params: 733,957\n",
            "Non-trainable params: 0\n",
            "_________________________________________________________________\n"
          ]
        }
      ]
    },
    {
      "cell_type": "code",
      "source": [
        "# 모델 실행해보기\n",
        "history = model3.fit(train_x, train_y, epochs=3, batch_size=100, validation_split= 0.2)"
      ],
      "metadata": {
        "colab": {
          "base_uri": "https://localhost:8080/"
        },
        "id": "Q12_CL98Qllb",
        "outputId": "910058a1-fbae-48c4-f45b-0e2913501401"
      },
      "execution_count": null,
      "outputs": [
        {
          "output_type": "stream",
          "name": "stdout",
          "text": [
            "Epoch 1/3\n",
            "440/440 [==============================] - 81s 148ms/step - loss: 1.1000 - accuracy: 0.5587 - val_loss: 0.9049 - val_accuracy: 0.6529\n",
            "Epoch 2/3\n",
            "440/440 [==============================] - 29s 65ms/step - loss: 0.8516 - accuracy: 0.6727 - val_loss: 0.8664 - val_accuracy: 0.6697\n",
            "Epoch 3/3\n",
            "440/440 [==============================] - 25s 56ms/step - loss: 0.7914 - accuracy: 0.6963 - val_loss: 0.8809 - val_accuracy: 0.6649\n"
          ]
        }
      ]
    },
    {
      "cell_type": "code",
      "source": [
        "test_y = np.zeros((test_x.shape[0], 5))"
      ],
      "metadata": {
        "id": "J9lH0RMuffPG"
      },
      "execution_count": null,
      "outputs": []
    },
    {
      "cell_type": "code",
      "source": [
        "test_y=model3.predict(test_x)"
      ],
      "metadata": {
        "colab": {
          "base_uri": "https://localhost:8080/"
        },
        "id": "yNZEyOFufip5",
        "outputId": "d6405665-2a7a-4d45-d0b7-9af22e1c48ab"
      },
      "execution_count": null,
      "outputs": [
        {
          "output_type": "stream",
          "name": "stdout",
          "text": [
            "614/614 [==============================] - 10s 12ms/step\n"
          ]
        }
      ]
    },
    {
      "cell_type": "code",
      "source": [
        "submission=pd.read_csv('/content/drive/MyDrive/OB 1조/프로젝트2/data/sample_submission.csv')"
      ],
      "metadata": {
        "id": "6Mp_wYcXd82T"
      },
      "execution_count": null,
      "outputs": []
    },
    {
      "cell_type": "code",
      "source": [
        "submission[['0','1','2','3','4']] = test_y\n",
        "submission"
      ],
      "metadata": {
        "colab": {
          "base_uri": "https://localhost:8080/",
          "height": 424
        },
        "id": "19ICAjVEfzYG",
        "outputId": "9b3b49d8-2345-44c7-85a7-9799934dc76f"
      },
      "execution_count": null,
      "outputs": [
        {
          "output_type": "execute_result",
          "data": {
            "text/plain": [
              "       index         0         1         2         3         4\n",
              "0          0  0.009924  0.979991  0.003958  0.004423  0.001704\n",
              "1          1  0.136090  0.476137  0.013067  0.068047  0.306659\n",
              "2          2  0.948561  0.004269  0.014697  0.006532  0.025941\n",
              "3          3  0.002620  0.013792  0.964845  0.014191  0.004552\n",
              "4          4  0.869990  0.017768  0.021046  0.051194  0.040002\n",
              "...      ...       ...       ...       ...       ...       ...\n",
              "19612  19612  0.004929  0.993410  0.000348  0.000790  0.000524\n",
              "19613  19613  0.041558  0.004386  0.148260  0.002817  0.802978\n",
              "19614  19614  0.006331  0.992041  0.000424  0.000683  0.000521\n",
              "19615  19615  0.007207  0.989782  0.000687  0.001225  0.001099\n",
              "19616  19616  0.014912  0.003872  0.028384  0.948047  0.004785\n",
              "\n",
              "[19617 rows x 6 columns]"
            ],
            "text/html": [
              "\n",
              "  <div id=\"df-f2b85915-0a02-4b53-b650-21b9d6737875\">\n",
              "    <div class=\"colab-df-container\">\n",
              "      <div>\n",
              "<style scoped>\n",
              "    .dataframe tbody tr th:only-of-type {\n",
              "        vertical-align: middle;\n",
              "    }\n",
              "\n",
              "    .dataframe tbody tr th {\n",
              "        vertical-align: top;\n",
              "    }\n",
              "\n",
              "    .dataframe thead th {\n",
              "        text-align: right;\n",
              "    }\n",
              "</style>\n",
              "<table border=\"1\" class=\"dataframe\">\n",
              "  <thead>\n",
              "    <tr style=\"text-align: right;\">\n",
              "      <th></th>\n",
              "      <th>index</th>\n",
              "      <th>0</th>\n",
              "      <th>1</th>\n",
              "      <th>2</th>\n",
              "      <th>3</th>\n",
              "      <th>4</th>\n",
              "    </tr>\n",
              "  </thead>\n",
              "  <tbody>\n",
              "    <tr>\n",
              "      <th>0</th>\n",
              "      <td>0</td>\n",
              "      <td>0.009924</td>\n",
              "      <td>0.979991</td>\n",
              "      <td>0.003958</td>\n",
              "      <td>0.004423</td>\n",
              "      <td>0.001704</td>\n",
              "    </tr>\n",
              "    <tr>\n",
              "      <th>1</th>\n",
              "      <td>1</td>\n",
              "      <td>0.136090</td>\n",
              "      <td>0.476137</td>\n",
              "      <td>0.013067</td>\n",
              "      <td>0.068047</td>\n",
              "      <td>0.306659</td>\n",
              "    </tr>\n",
              "    <tr>\n",
              "      <th>2</th>\n",
              "      <td>2</td>\n",
              "      <td>0.948561</td>\n",
              "      <td>0.004269</td>\n",
              "      <td>0.014697</td>\n",
              "      <td>0.006532</td>\n",
              "      <td>0.025941</td>\n",
              "    </tr>\n",
              "    <tr>\n",
              "      <th>3</th>\n",
              "      <td>3</td>\n",
              "      <td>0.002620</td>\n",
              "      <td>0.013792</td>\n",
              "      <td>0.964845</td>\n",
              "      <td>0.014191</td>\n",
              "      <td>0.004552</td>\n",
              "    </tr>\n",
              "    <tr>\n",
              "      <th>4</th>\n",
              "      <td>4</td>\n",
              "      <td>0.869990</td>\n",
              "      <td>0.017768</td>\n",
              "      <td>0.021046</td>\n",
              "      <td>0.051194</td>\n",
              "      <td>0.040002</td>\n",
              "    </tr>\n",
              "    <tr>\n",
              "      <th>...</th>\n",
              "      <td>...</td>\n",
              "      <td>...</td>\n",
              "      <td>...</td>\n",
              "      <td>...</td>\n",
              "      <td>...</td>\n",
              "      <td>...</td>\n",
              "    </tr>\n",
              "    <tr>\n",
              "      <th>19612</th>\n",
              "      <td>19612</td>\n",
              "      <td>0.004929</td>\n",
              "      <td>0.993410</td>\n",
              "      <td>0.000348</td>\n",
              "      <td>0.000790</td>\n",
              "      <td>0.000524</td>\n",
              "    </tr>\n",
              "    <tr>\n",
              "      <th>19613</th>\n",
              "      <td>19613</td>\n",
              "      <td>0.041558</td>\n",
              "      <td>0.004386</td>\n",
              "      <td>0.148260</td>\n",
              "      <td>0.002817</td>\n",
              "      <td>0.802978</td>\n",
              "    </tr>\n",
              "    <tr>\n",
              "      <th>19614</th>\n",
              "      <td>19614</td>\n",
              "      <td>0.006331</td>\n",
              "      <td>0.992041</td>\n",
              "      <td>0.000424</td>\n",
              "      <td>0.000683</td>\n",
              "      <td>0.000521</td>\n",
              "    </tr>\n",
              "    <tr>\n",
              "      <th>19615</th>\n",
              "      <td>19615</td>\n",
              "      <td>0.007207</td>\n",
              "      <td>0.989782</td>\n",
              "      <td>0.000687</td>\n",
              "      <td>0.001225</td>\n",
              "      <td>0.001099</td>\n",
              "    </tr>\n",
              "    <tr>\n",
              "      <th>19616</th>\n",
              "      <td>19616</td>\n",
              "      <td>0.014912</td>\n",
              "      <td>0.003872</td>\n",
              "      <td>0.028384</td>\n",
              "      <td>0.948047</td>\n",
              "      <td>0.004785</td>\n",
              "    </tr>\n",
              "  </tbody>\n",
              "</table>\n",
              "<p>19617 rows × 6 columns</p>\n",
              "</div>\n",
              "      <button class=\"colab-df-convert\" onclick=\"convertToInteractive('df-f2b85915-0a02-4b53-b650-21b9d6737875')\"\n",
              "              title=\"Convert this dataframe to an interactive table.\"\n",
              "              style=\"display:none;\">\n",
              "        \n",
              "  <svg xmlns=\"http://www.w3.org/2000/svg\" height=\"24px\"viewBox=\"0 0 24 24\"\n",
              "       width=\"24px\">\n",
              "    <path d=\"M0 0h24v24H0V0z\" fill=\"none\"/>\n",
              "    <path d=\"M18.56 5.44l.94 2.06.94-2.06 2.06-.94-2.06-.94-.94-2.06-.94 2.06-2.06.94zm-11 1L8.5 8.5l.94-2.06 2.06-.94-2.06-.94L8.5 2.5l-.94 2.06-2.06.94zm10 10l.94 2.06.94-2.06 2.06-.94-2.06-.94-.94-2.06-.94 2.06-2.06.94z\"/><path d=\"M17.41 7.96l-1.37-1.37c-.4-.4-.92-.59-1.43-.59-.52 0-1.04.2-1.43.59L10.3 9.45l-7.72 7.72c-.78.78-.78 2.05 0 2.83L4 21.41c.39.39.9.59 1.41.59.51 0 1.02-.2 1.41-.59l7.78-7.78 2.81-2.81c.8-.78.8-2.07 0-2.86zM5.41 20L4 18.59l7.72-7.72 1.47 1.35L5.41 20z\"/>\n",
              "  </svg>\n",
              "      </button>\n",
              "      \n",
              "  <style>\n",
              "    .colab-df-container {\n",
              "      display:flex;\n",
              "      flex-wrap:wrap;\n",
              "      gap: 12px;\n",
              "    }\n",
              "\n",
              "    .colab-df-convert {\n",
              "      background-color: #E8F0FE;\n",
              "      border: none;\n",
              "      border-radius: 50%;\n",
              "      cursor: pointer;\n",
              "      display: none;\n",
              "      fill: #1967D2;\n",
              "      height: 32px;\n",
              "      padding: 0 0 0 0;\n",
              "      width: 32px;\n",
              "    }\n",
              "\n",
              "    .colab-df-convert:hover {\n",
              "      background-color: #E2EBFA;\n",
              "      box-shadow: 0px 1px 2px rgba(60, 64, 67, 0.3), 0px 1px 3px 1px rgba(60, 64, 67, 0.15);\n",
              "      fill: #174EA6;\n",
              "    }\n",
              "\n",
              "    [theme=dark] .colab-df-convert {\n",
              "      background-color: #3B4455;\n",
              "      fill: #D2E3FC;\n",
              "    }\n",
              "\n",
              "    [theme=dark] .colab-df-convert:hover {\n",
              "      background-color: #434B5C;\n",
              "      box-shadow: 0px 1px 3px 1px rgba(0, 0, 0, 0.15);\n",
              "      filter: drop-shadow(0px 1px 2px rgba(0, 0, 0, 0.3));\n",
              "      fill: #FFFFFF;\n",
              "    }\n",
              "  </style>\n",
              "\n",
              "      <script>\n",
              "        const buttonEl =\n",
              "          document.querySelector('#df-f2b85915-0a02-4b53-b650-21b9d6737875 button.colab-df-convert');\n",
              "        buttonEl.style.display =\n",
              "          google.colab.kernel.accessAllowed ? 'block' : 'none';\n",
              "\n",
              "        async function convertToInteractive(key) {\n",
              "          const element = document.querySelector('#df-f2b85915-0a02-4b53-b650-21b9d6737875');\n",
              "          const dataTable =\n",
              "            await google.colab.kernel.invokeFunction('convertToInteractive',\n",
              "                                                     [key], {});\n",
              "          if (!dataTable) return;\n",
              "\n",
              "          const docLinkHtml = 'Like what you see? Visit the ' +\n",
              "            '<a target=\"_blank\" href=https://colab.research.google.com/notebooks/data_table.ipynb>data table notebook</a>'\n",
              "            + ' to learn more about interactive tables.';\n",
              "          element.innerHTML = '';\n",
              "          dataTable['output_type'] = 'display_data';\n",
              "          await google.colab.output.renderOutput(dataTable, element);\n",
              "          const docLink = document.createElement('div');\n",
              "          docLink.innerHTML = docLinkHtml;\n",
              "          element.appendChild(docLink);\n",
              "        }\n",
              "      </script>\n",
              "    </div>\n",
              "  </div>\n",
              "  "
            ]
          },
          "metadata": {},
          "execution_count": 31
        }
      ]
    },
    {
      "cell_type": "code",
      "source": [
        "# CSV 파일로 내보내기\n",
        "submission.to_csv('/content/drive/MyDrive/김수빈/ESAA/OB/data/submission1.csv', index=False)  # 'submission.csv'는 저장할 파일의 경로와 이름을 나타냅니다."
      ],
      "metadata": {
        "id": "_z_r5fmajjjx"
      },
      "execution_count": null,
      "outputs": []
    },
    {
      "cell_type": "markdown",
      "source": [
        "2. 코드 안지운 거로 모델링"
      ],
      "metadata": {
        "id": "9ReXgjL3idQp"
      }
    },
    {
      "cell_type": "code",
      "source": [
        "X_train=np.array([x for x in train_L['text']])\n",
        "X_test = np.array([x for x in test_L['text']])\n",
        "Y_train = np.array([x for x in train['author']])"
      ],
      "metadata": {
        "id": "KTKRuWxHidau"
      },
      "execution_count": null,
      "outputs": []
    },
    {
      "cell_type": "code",
      "source": [
        "print(X_train)\n",
        "print(X_test)\n",
        "print(Y_train)"
      ],
      "metadata": {
        "colab": {
          "base_uri": "https://localhost:8080/"
        },
        "outputId": "d9acd4b5-fbc0-4d45-e0ec-4010ba0de76e",
        "id": "y8ifCWaMidau"
      },
      "execution_count": null,
      "outputs": [
        {
          "output_type": "stream",
          "name": "stdout",
          "text": [
            "['almost choke much much want say strange exclamations come lips pole gaze fixedly bundle note hand look odin evident perplexity'\n",
            " 'sister ask suppose'\n",
            " 'engage one day walk peruse janes last letter dwell passages prove jane not write spirit instead surprise mr odin saw look odin meet put away letter immediately force smile say'\n",
            " ... 'sincere wellwisher friend sister lucy odin' 'want lend money'\n",
            " 'certainly not occur say yes like']\n",
            "['not think one charm young ladies ever meet might useful work decide genius way witness way preserve agra plan paper father love emotional thing whatever emotional oppose true cold reason place things never marry lest bias judgment'\n",
            " 'no reply sudden consciousness not find can not ignorant goodness owe alli feel iti express couldbut well know no orator'\n",
            " 'lady state intention scream course scream additional boldness exertion render unnecessary hasty knock door no sooner hear mr odin dart much agility wine bottle begin dust great violence matron sharply demand'\n",
            " ...\n",
            " 'odin carry thank odin proceed happiness lucy excess time reach bartletts build able assure mrs odin call next day congratulations never see spirit life'\n",
            " 'soon upon odins leave room mama say odin alarm subject illness can not conceal sure odin not well now almost fortnight yet not come nothing real indisposition occasion extraordinary delay else can detain norland'\n",
            " 'worse doom man denouncer wellknown citizen attach friend father wife one frenzied aspirations populace imitations questionable public virtues antiquity sacrifice selfimmolations people altar therefore president say else head quiver shoulder good physician republic deserve better still republic root obnoxious family aristocrats doubtless feel sacred glow joy make daughter widow child orphan wild excitement patriotic fervour not touch human sympathy']\n",
            "[3 2 1 ... 1 3 0]\n"
          ]
        }
      ]
    },
    {
      "cell_type": "markdown",
      "source": [
        "**Vectorization**"
      ],
      "metadata": {
        "id": "iTSm8-nbidav"
      }
    },
    {
      "cell_type": "code",
      "source": [
        "# Tokenizer\n",
        "from keras.preprocessing.text import Tokenizer\n",
        "vocab_size = 2000  \n",
        "\n",
        "tokenizer = Tokenizer(num_words = vocab_size)  \n",
        "  # Tokenizer 는 데이터에 출현하는 모든 단어의 개수를 세고 빈도 수로 정렬해서 \n",
        "  # num_words 에 지정된 만큼만 숫자로 반환하고, 나머지는 0 으로 반환합니다                 \n",
        "tokenizer.fit_on_texts(X_train) # Tokenizer 에 데이터 실제로 입력\n",
        "sequences_train = tokenizer.texts_to_sequences(X_train)    # 문장 내 모든 단어를 시퀀스 번호로 변환\n",
        "sequences_test = tokenizer.texts_to_sequences(X_test)      # 문장 내 모든 단어를 시퀀스 번호로 변환\n",
        "\n",
        "print(len(sequences_train), len(sequences_test))"
      ],
      "metadata": {
        "colab": {
          "base_uri": "https://localhost:8080/"
        },
        "outputId": "cf55905d-42d3-49a9-9dbc-6e3841eca855",
        "id": "c2RYymD2idav"
      },
      "execution_count": null,
      "outputs": [
        {
          "output_type": "stream",
          "name": "stdout",
          "text": [
            "54879 19617\n"
          ]
        }
      ]
    },
    {
      "cell_type": "code",
      "source": [
        "# 변환된 시퀀스 번호를 이용해 단어 임베딩 벡터 생성\n",
        "word_index = tokenizer.word_index"
      ],
      "metadata": {
        "id": "9OeoZW3_idav"
      },
      "execution_count": null,
      "outputs": []
    },
    {
      "cell_type": "code",
      "source": [
        "# 독립변수 데이터 전처리\n",
        "  ## 문장의 길이기 제각각이기 때문에 벡터 크기 다 다름\n",
        "  ## 그러므로 최대 시퀀스 길이 크기(211) 만큼 넉넉하게 늘리고\n",
        "  ## 패딩(padding) 작업을 통해 나머지 빈 공간을 0으로 채움\n",
        "\n",
        "from tensorflow.keras.preprocessing.sequence import pad_sequences\n",
        "\n",
        "max_length = 150    # 위에서 그래프 확인 후 정함\n",
        "padding_type='post'\n",
        "\n",
        "train_x = pad_sequences(sequences_train, padding='post', maxlen=max_length)\n",
        "test_x = pad_sequences(sequences_test, padding=padding_type, maxlen=max_length)\n",
        "\n",
        "print(train_x.shape, test_x.shape)"
      ],
      "metadata": {
        "colab": {
          "base_uri": "https://localhost:8080/"
        },
        "outputId": "9a902157-f588-4ad9-862d-5524d14c5b61",
        "id": "r1pm2DUZidaw"
      },
      "execution_count": null,
      "outputs": [
        {
          "output_type": "stream",
          "name": "stdout",
          "text": [
            "(54879, 150) (19617, 150)\n"
          ]
        }
      ]
    },
    {
      "cell_type": "code",
      "source": [
        "from keras.utils import np_utils\n",
        "\n",
        "# 종속변수 데이터 전처리\n",
        "train_y = np_utils.to_categorical(Y_train) # Y_train 에 원-핫 인코딩\n",
        "print(train_y)\n",
        "print(train_y.shape)"
      ],
      "metadata": {
        "colab": {
          "base_uri": "https://localhost:8080/"
        },
        "outputId": "af24b59b-1a63-44b7-a34e-8dd4e109f015",
        "id": "Xo86EJJCidaw"
      },
      "execution_count": null,
      "outputs": [
        {
          "output_type": "stream",
          "name": "stdout",
          "text": [
            "[[0. 0. 0. 1. 0.]\n",
            " [0. 0. 1. 0. 0.]\n",
            " [0. 1. 0. 0. 0.]\n",
            " ...\n",
            " [0. 1. 0. 0. 0.]\n",
            " [0. 0. 0. 1. 0.]\n",
            " [1. 0. 0. 0. 0.]]\n",
            "(54879, 5)\n"
          ]
        }
      ]
    },
    {
      "cell_type": "markdown",
      "source": [
        "**모델링**\n"
      ],
      "metadata": {
        "id": "ggCW4XQXidax"
      }
    },
    {
      "cell_type": "code",
      "source": [
        "pip install keras"
      ],
      "metadata": {
        "colab": {
          "base_uri": "https://localhost:8080/"
        },
        "outputId": "39aaddf5-9db9-4f50-d4c8-8fbe289b72d7",
        "id": "LzhrFk4bidax"
      },
      "execution_count": null,
      "outputs": [
        {
          "output_type": "stream",
          "name": "stdout",
          "text": [
            "Looking in indexes: https://pypi.org/simple, https://us-python.pkg.dev/colab-wheels/public/simple/\n",
            "Requirement already satisfied: keras in /usr/local/lib/python3.10/dist-packages (2.12.0)\n"
          ]
        }
      ]
    },
    {
      "cell_type": "code",
      "source": [
        "#파라미터 설정\n",
        "vocab_size = 2000 # 제일 많이 사용하는 사이즈\n",
        "embedding_dim = 200  \n",
        "max_length = 150    # 위에서 그래프 확인 후 정함\n",
        "padding_type='post'\n",
        "#oov_tok = \"<OOV>\""
      ],
      "metadata": {
        "id": "_5bLHsUaidax"
      },
      "execution_count": null,
      "outputs": []
    },
    {
      "cell_type": "code",
      "source": [
        "# 양방향 LSTM 레이어를 사용한 모델 (model3) 정의\n",
        "\n",
        "from keras.models import Sequential\n",
        "from keras.layers import Embedding\n",
        "import tensorflow as tf\n",
        "from keras.layers import LSTM\n",
        "from keras.layers import Dense\n",
        "\n",
        "\n",
        "model3 = Sequential([Embedding(vocab_size, embedding_dim, input_length =max_length),\n",
        "        tf.keras.layers.Bidirectional(LSTM(units = 64, return_sequences = True)),\n",
        "        tf.keras.layers.Bidirectional(LSTM(units = 64, return_sequences = True)),\n",
        "        tf.keras.layers.Bidirectional(LSTM(units = 64)),\n",
        "        Dense(5, activation='softmax')    # 결과값이 0~4 이므로 Dense(5)\n",
        "    ])\n",
        "    \n",
        "model3.compile(loss= 'categorical_crossentropy', #여러개 정답 중 하나 맞추는 문제이므로 손실 함수는 categorical_crossentropy\n",
        "              optimizer= 'adam',\n",
        "              metrics = ['accuracy']) \n",
        "model3.summary()"
      ],
      "metadata": {
        "colab": {
          "base_uri": "https://localhost:8080/"
        },
        "outputId": "864259f8-2adc-400f-8d34-af1a2b2ab293",
        "id": "xlMVwuI7iday"
      },
      "execution_count": null,
      "outputs": [
        {
          "output_type": "stream",
          "name": "stdout",
          "text": [
            "Model: \"sequential_1\"\n",
            "_________________________________________________________________\n",
            " Layer (type)                Output Shape              Param #   \n",
            "=================================================================\n",
            " embedding_1 (Embedding)     (None, 150, 200)          400000    \n",
            "                                                                 \n",
            " bidirectional_3 (Bidirectio  (None, 150, 128)         135680    \n",
            " nal)                                                            \n",
            "                                                                 \n",
            " bidirectional_4 (Bidirectio  (None, 150, 128)         98816     \n",
            " nal)                                                            \n",
            "                                                                 \n",
            " bidirectional_5 (Bidirectio  (None, 128)              98816     \n",
            " nal)                                                            \n",
            "                                                                 \n",
            " dense_1 (Dense)             (None, 5)                 645       \n",
            "                                                                 \n",
            "=================================================================\n",
            "Total params: 733,957\n",
            "Trainable params: 733,957\n",
            "Non-trainable params: 0\n",
            "_________________________________________________________________\n"
          ]
        }
      ]
    },
    {
      "cell_type": "code",
      "source": [
        "# 모델 실행해보기\n",
        "history = model3.fit(train_x, train_y, epochs=3, batch_size=100, validation_split= 0.2)"
      ],
      "metadata": {
        "colab": {
          "base_uri": "https://localhost:8080/"
        },
        "outputId": "910058a1-fbae-48c4-f45b-0e2913501401",
        "id": "myW6Fdz0iday"
      },
      "execution_count": null,
      "outputs": [
        {
          "output_type": "stream",
          "name": "stdout",
          "text": [
            "Epoch 1/3\n",
            "440/440 [==============================] - 81s 148ms/step - loss: 1.1000 - accuracy: 0.5587 - val_loss: 0.9049 - val_accuracy: 0.6529\n",
            "Epoch 2/3\n",
            "440/440 [==============================] - 29s 65ms/step - loss: 0.8516 - accuracy: 0.6727 - val_loss: 0.8664 - val_accuracy: 0.6697\n",
            "Epoch 3/3\n",
            "440/440 [==============================] - 25s 56ms/step - loss: 0.7914 - accuracy: 0.6963 - val_loss: 0.8809 - val_accuracy: 0.6649\n"
          ]
        }
      ]
    },
    {
      "cell_type": "code",
      "source": [
        "test_y = np.zeros((test_x.shape[0], 5))"
      ],
      "metadata": {
        "id": "cz17H2ZIiday"
      },
      "execution_count": null,
      "outputs": []
    },
    {
      "cell_type": "code",
      "source": [
        "test_y=model3.predict(test_x)"
      ],
      "metadata": {
        "colab": {
          "base_uri": "https://localhost:8080/"
        },
        "outputId": "d6405665-2a7a-4d45-d0b7-9af22e1c48ab",
        "id": "RFlNSHTRidaz"
      },
      "execution_count": null,
      "outputs": [
        {
          "output_type": "stream",
          "name": "stdout",
          "text": [
            "614/614 [==============================] - 10s 12ms/step\n"
          ]
        }
      ]
    },
    {
      "cell_type": "code",
      "source": [
        "submission=pd.read_csv('/content/drive/MyDrive/OB 1조/프로젝트2/data/sample_submission.csv')"
      ],
      "metadata": {
        "id": "7I4wbAkXidaz"
      },
      "execution_count": null,
      "outputs": []
    },
    {
      "cell_type": "code",
      "source": [
        "submission[['0','1','2','3','4']] = test_y\n",
        "submission"
      ],
      "metadata": {
        "colab": {
          "base_uri": "https://localhost:8080/",
          "height": 424
        },
        "outputId": "9b3b49d8-2345-44c7-85a7-9799934dc76f",
        "id": "MWCR5sxNidaz"
      },
      "execution_count": null,
      "outputs": [
        {
          "output_type": "execute_result",
          "data": {
            "text/plain": [
              "       index         0         1         2         3         4\n",
              "0          0  0.009924  0.979991  0.003958  0.004423  0.001704\n",
              "1          1  0.136090  0.476137  0.013067  0.068047  0.306659\n",
              "2          2  0.948561  0.004269  0.014697  0.006532  0.025941\n",
              "3          3  0.002620  0.013792  0.964845  0.014191  0.004552\n",
              "4          4  0.869990  0.017768  0.021046  0.051194  0.040002\n",
              "...      ...       ...       ...       ...       ...       ...\n",
              "19612  19612  0.004929  0.993410  0.000348  0.000790  0.000524\n",
              "19613  19613  0.041558  0.004386  0.148260  0.002817  0.802978\n",
              "19614  19614  0.006331  0.992041  0.000424  0.000683  0.000521\n",
              "19615  19615  0.007207  0.989782  0.000687  0.001225  0.001099\n",
              "19616  19616  0.014912  0.003872  0.028384  0.948047  0.004785\n",
              "\n",
              "[19617 rows x 6 columns]"
            ],
            "text/html": [
              "\n",
              "  <div id=\"df-f2b85915-0a02-4b53-b650-21b9d6737875\">\n",
              "    <div class=\"colab-df-container\">\n",
              "      <div>\n",
              "<style scoped>\n",
              "    .dataframe tbody tr th:only-of-type {\n",
              "        vertical-align: middle;\n",
              "    }\n",
              "\n",
              "    .dataframe tbody tr th {\n",
              "        vertical-align: top;\n",
              "    }\n",
              "\n",
              "    .dataframe thead th {\n",
              "        text-align: right;\n",
              "    }\n",
              "</style>\n",
              "<table border=\"1\" class=\"dataframe\">\n",
              "  <thead>\n",
              "    <tr style=\"text-align: right;\">\n",
              "      <th></th>\n",
              "      <th>index</th>\n",
              "      <th>0</th>\n",
              "      <th>1</th>\n",
              "      <th>2</th>\n",
              "      <th>3</th>\n",
              "      <th>4</th>\n",
              "    </tr>\n",
              "  </thead>\n",
              "  <tbody>\n",
              "    <tr>\n",
              "      <th>0</th>\n",
              "      <td>0</td>\n",
              "      <td>0.009924</td>\n",
              "      <td>0.979991</td>\n",
              "      <td>0.003958</td>\n",
              "      <td>0.004423</td>\n",
              "      <td>0.001704</td>\n",
              "    </tr>\n",
              "    <tr>\n",
              "      <th>1</th>\n",
              "      <td>1</td>\n",
              "      <td>0.136090</td>\n",
              "      <td>0.476137</td>\n",
              "      <td>0.013067</td>\n",
              "      <td>0.068047</td>\n",
              "      <td>0.306659</td>\n",
              "    </tr>\n",
              "    <tr>\n",
              "      <th>2</th>\n",
              "      <td>2</td>\n",
              "      <td>0.948561</td>\n",
              "      <td>0.004269</td>\n",
              "      <td>0.014697</td>\n",
              "      <td>0.006532</td>\n",
              "      <td>0.025941</td>\n",
              "    </tr>\n",
              "    <tr>\n",
              "      <th>3</th>\n",
              "      <td>3</td>\n",
              "      <td>0.002620</td>\n",
              "      <td>0.013792</td>\n",
              "      <td>0.964845</td>\n",
              "      <td>0.014191</td>\n",
              "      <td>0.004552</td>\n",
              "    </tr>\n",
              "    <tr>\n",
              "      <th>4</th>\n",
              "      <td>4</td>\n",
              "      <td>0.869990</td>\n",
              "      <td>0.017768</td>\n",
              "      <td>0.021046</td>\n",
              "      <td>0.051194</td>\n",
              "      <td>0.040002</td>\n",
              "    </tr>\n",
              "    <tr>\n",
              "      <th>...</th>\n",
              "      <td>...</td>\n",
              "      <td>...</td>\n",
              "      <td>...</td>\n",
              "      <td>...</td>\n",
              "      <td>...</td>\n",
              "      <td>...</td>\n",
              "    </tr>\n",
              "    <tr>\n",
              "      <th>19612</th>\n",
              "      <td>19612</td>\n",
              "      <td>0.004929</td>\n",
              "      <td>0.993410</td>\n",
              "      <td>0.000348</td>\n",
              "      <td>0.000790</td>\n",
              "      <td>0.000524</td>\n",
              "    </tr>\n",
              "    <tr>\n",
              "      <th>19613</th>\n",
              "      <td>19613</td>\n",
              "      <td>0.041558</td>\n",
              "      <td>0.004386</td>\n",
              "      <td>0.148260</td>\n",
              "      <td>0.002817</td>\n",
              "      <td>0.802978</td>\n",
              "    </tr>\n",
              "    <tr>\n",
              "      <th>19614</th>\n",
              "      <td>19614</td>\n",
              "      <td>0.006331</td>\n",
              "      <td>0.992041</td>\n",
              "      <td>0.000424</td>\n",
              "      <td>0.000683</td>\n",
              "      <td>0.000521</td>\n",
              "    </tr>\n",
              "    <tr>\n",
              "      <th>19615</th>\n",
              "      <td>19615</td>\n",
              "      <td>0.007207</td>\n",
              "      <td>0.989782</td>\n",
              "      <td>0.000687</td>\n",
              "      <td>0.001225</td>\n",
              "      <td>0.001099</td>\n",
              "    </tr>\n",
              "    <tr>\n",
              "      <th>19616</th>\n",
              "      <td>19616</td>\n",
              "      <td>0.014912</td>\n",
              "      <td>0.003872</td>\n",
              "      <td>0.028384</td>\n",
              "      <td>0.948047</td>\n",
              "      <td>0.004785</td>\n",
              "    </tr>\n",
              "  </tbody>\n",
              "</table>\n",
              "<p>19617 rows × 6 columns</p>\n",
              "</div>\n",
              "      <button class=\"colab-df-convert\" onclick=\"convertToInteractive('df-f2b85915-0a02-4b53-b650-21b9d6737875')\"\n",
              "              title=\"Convert this dataframe to an interactive table.\"\n",
              "              style=\"display:none;\">\n",
              "        \n",
              "  <svg xmlns=\"http://www.w3.org/2000/svg\" height=\"24px\"viewBox=\"0 0 24 24\"\n",
              "       width=\"24px\">\n",
              "    <path d=\"M0 0h24v24H0V0z\" fill=\"none\"/>\n",
              "    <path d=\"M18.56 5.44l.94 2.06.94-2.06 2.06-.94-2.06-.94-.94-2.06-.94 2.06-2.06.94zm-11 1L8.5 8.5l.94-2.06 2.06-.94-2.06-.94L8.5 2.5l-.94 2.06-2.06.94zm10 10l.94 2.06.94-2.06 2.06-.94-2.06-.94-.94-2.06-.94 2.06-2.06.94z\"/><path d=\"M17.41 7.96l-1.37-1.37c-.4-.4-.92-.59-1.43-.59-.52 0-1.04.2-1.43.59L10.3 9.45l-7.72 7.72c-.78.78-.78 2.05 0 2.83L4 21.41c.39.39.9.59 1.41.59.51 0 1.02-.2 1.41-.59l7.78-7.78 2.81-2.81c.8-.78.8-2.07 0-2.86zM5.41 20L4 18.59l7.72-7.72 1.47 1.35L5.41 20z\"/>\n",
              "  </svg>\n",
              "      </button>\n",
              "      \n",
              "  <style>\n",
              "    .colab-df-container {\n",
              "      display:flex;\n",
              "      flex-wrap:wrap;\n",
              "      gap: 12px;\n",
              "    }\n",
              "\n",
              "    .colab-df-convert {\n",
              "      background-color: #E8F0FE;\n",
              "      border: none;\n",
              "      border-radius: 50%;\n",
              "      cursor: pointer;\n",
              "      display: none;\n",
              "      fill: #1967D2;\n",
              "      height: 32px;\n",
              "      padding: 0 0 0 0;\n",
              "      width: 32px;\n",
              "    }\n",
              "\n",
              "    .colab-df-convert:hover {\n",
              "      background-color: #E2EBFA;\n",
              "      box-shadow: 0px 1px 2px rgba(60, 64, 67, 0.3), 0px 1px 3px 1px rgba(60, 64, 67, 0.15);\n",
              "      fill: #174EA6;\n",
              "    }\n",
              "\n",
              "    [theme=dark] .colab-df-convert {\n",
              "      background-color: #3B4455;\n",
              "      fill: #D2E3FC;\n",
              "    }\n",
              "\n",
              "    [theme=dark] .colab-df-convert:hover {\n",
              "      background-color: #434B5C;\n",
              "      box-shadow: 0px 1px 3px 1px rgba(0, 0, 0, 0.15);\n",
              "      filter: drop-shadow(0px 1px 2px rgba(0, 0, 0, 0.3));\n",
              "      fill: #FFFFFF;\n",
              "    }\n",
              "  </style>\n",
              "\n",
              "      <script>\n",
              "        const buttonEl =\n",
              "          document.querySelector('#df-f2b85915-0a02-4b53-b650-21b9d6737875 button.colab-df-convert');\n",
              "        buttonEl.style.display =\n",
              "          google.colab.kernel.accessAllowed ? 'block' : 'none';\n",
              "\n",
              "        async function convertToInteractive(key) {\n",
              "          const element = document.querySelector('#df-f2b85915-0a02-4b53-b650-21b9d6737875');\n",
              "          const dataTable =\n",
              "            await google.colab.kernel.invokeFunction('convertToInteractive',\n",
              "                                                     [key], {});\n",
              "          if (!dataTable) return;\n",
              "\n",
              "          const docLinkHtml = 'Like what you see? Visit the ' +\n",
              "            '<a target=\"_blank\" href=https://colab.research.google.com/notebooks/data_table.ipynb>data table notebook</a>'\n",
              "            + ' to learn more about interactive tables.';\n",
              "          element.innerHTML = '';\n",
              "          dataTable['output_type'] = 'display_data';\n",
              "          await google.colab.output.renderOutput(dataTable, element);\n",
              "          const docLink = document.createElement('div');\n",
              "          docLink.innerHTML = docLinkHtml;\n",
              "          element.appendChild(docLink);\n",
              "        }\n",
              "      </script>\n",
              "    </div>\n",
              "  </div>\n",
              "  "
            ]
          },
          "metadata": {},
          "execution_count": 31
        }
      ]
    },
    {
      "cell_type": "code",
      "source": [
        "# CSV 파일로 내보내기\n",
        "submission.to_csv('/content/drive/MyDrive/김수빈/ESAA/OB/data/submission1.csv', index=False)  # 'submission.csv'는 저장할 파일의 경로와 이름을 나타냅니다."
      ],
      "metadata": {
        "id": "XdnJmJyAida0"
      },
      "execution_count": null,
      "outputs": []
    },
    {
      "cell_type": "markdown",
      "source": [
        "### 데이터셋 4(민경)"
      ],
      "metadata": {
        "id": "R7ZjTF6hn4L9"
      }
    },
    {
      "cell_type": "markdown",
      "source": [
        "### 데이터셋 5(재령)"
      ],
      "metadata": {
        "id": "56v0WJekn4L9"
      }
    },
    {
      "cell_type": "markdown",
      "source": [
        "## 4) Keras"
      ],
      "metadata": {
        "id": "Rsn7y5vtPKyB"
      }
    },
    {
      "cell_type": "markdown",
      "source": [
        "### 데이터셋1 (세영)"
      ],
      "metadata": {
        "id": "uDAuUvvZn5Tp"
      }
    },
    {
      "cell_type": "code",
      "source": [
        "# 원하는 데이터셋으로 사용-S, L의 문장부호 제거 버전도 가능\n",
        "\n",
        "# X_train = np.array([x for x in X_train_1['S_o']])\n",
        "# X_test = np.array([x for x in X_test_1['S_o']])\n",
        "# y_train = np.array([x for x in X_train_1['author']])\n",
        "X_train = np.array([x for x in X_train_1['L_o']])\n",
        "X_test = np.array([x for x in X_train_1['L_o']])\n",
        "y_train = np.array([x for x in X_test_1['author']])"
      ],
      "metadata": {
        "id": "0AcrcJw9w6zB"
      },
      "execution_count": null,
      "outputs": []
    },
    {
      "cell_type": "markdown",
      "source": [
        "### 데이터셋2 (유빈)"
      ],
      "metadata": {
        "id": "3-UbksSFn5Tq"
      }
    },
    {
      "cell_type": "code",
      "source": [
        "# 원하는 데이터셋으로 사용-S, L의 문장부호 제거 버전도 가능\n",
        "\n",
        "# X_train = np.array([x for x in train_2_S['text_Stem']])\n",
        "# X_test = np.array([x for x in test_2_S['text_Stem_stop_20']])\n",
        "# y_train = np.array([x for x in train_2_S['author']])\n",
        "X_train = np.array([x for x in train_2_L['text_Lem_stop_20']])\n",
        "X_test = np.array([x for x in test_2_L['text_Lem_stop_20']])\n",
        "y_train = np.array([x for x in train_2_L['author']])"
      ],
      "metadata": {
        "id": "2An8EP-NxDeQ"
      },
      "execution_count": null,
      "outputs": []
    },
    {
      "cell_type": "markdown",
      "source": [
        "### 데이터셋3 (수빈)"
      ],
      "metadata": {
        "id": "2QiiWnV1n5Tq"
      }
    },
    {
      "cell_type": "code",
      "source": [
        "# 원하는 데이터셋으로 사용-S, L의 문장부호 제거 버전도 가능\n",
        "\n",
        "# X_train = np.array([x for x in train_3-2['text']])\n",
        "# X_test = np.array([x for x in test_3-2['text']])\n",
        "# y_train = np.array([x for x in train_3-2['author']])\n",
        "X_train = np.array([x for x in train_3-2['text']])\n",
        "X_test = np.array([x for x in test_3-2['text']])\n",
        "y_train = np.array([x for x in train_3-2['author']])"
      ],
      "metadata": {
        "id": "NxHwrN9ixESC"
      },
      "execution_count": null,
      "outputs": []
    },
    {
      "cell_type": "markdown",
      "source": [
        "### 데이터셋 4(민경)"
      ],
      "metadata": {
        "id": "VrvJOqxGn5Tr"
      }
    },
    {
      "cell_type": "code",
      "source": [
        "# 원하는 데이터셋으로 사용-S, L의 문장부호 제거 버전도 가능\n",
        "\n",
        "# X_train = np.array([x for x in train_4_S['S_o']])\n",
        "# X_test = np.array([x for x in test_4_S['S_o']])\n",
        "# y_train = np.array([x for x in train_4_S['author']])\n",
        "X_train = np.array([x for x in train_4_L['L_o']])\n",
        "X_test = np.array([x for x in test_4_L['L_o']])\n",
        "y_train = np.array([x for x in train_4_S['author']])"
      ],
      "metadata": {
        "id": "xsQ2aDIhxGIQ"
      },
      "execution_count": null,
      "outputs": []
    },
    {
      "cell_type": "markdown",
      "source": [
        "### 데이터셋 5(재령)"
      ],
      "metadata": {
        "id": "fWlUtkXfn5Tr"
      }
    },
    {
      "cell_type": "code",
      "source": [
        "# 원하는 데이터셋으로 사용-S, L의 문장부호 제거 버전도 가능\n",
        "\n",
        "# X_train = np.array([x for x in train_5['text_Stem1']])\n",
        "# X_test = np.array([x for x in test_5.index])\n",
        "# y_train = np.array([x for x in train_5.index])\n",
        "X_train = np.array([x for x in train_5['text_Lem1']])\n",
        "X_test = np.array([x for x in test_5['text_Lem1']])\n",
        "y_train = np.array([x for x in train_5.index])"
      ],
      "metadata": {
        "id": "DQAObgnDxHDE"
      },
      "execution_count": null,
      "outputs": []
    },
    {
      "cell_type": "markdown",
      "source": [
        "### Keras 실행"
      ],
      "metadata": {
        "id": "_LWMl-vOxtvn"
      }
    },
    {
      "cell_type": "code",
      "source": [
        "#파라미터 설정\n",
        "vocab_size = 20000\n",
        "embedding_dim = 16\n",
        "max_length = 500\n",
        "padding_type='post'\n",
        "#oov_tok = \"<OOV>\""
      ],
      "metadata": {
        "id": "g5hhVh4FvaIx"
      },
      "execution_count": null,
      "outputs": []
    },
    {
      "cell_type": "code",
      "source": [
        "# #tokenizer에 fit\n",
        "from tensorflow.keras.preprocessing.text import Tokenizer\n",
        "\n",
        "tokenizer = Tokenizer(num_words = vocab_size)#, oov_token=oov_tok)\n",
        "tokenizer.fit_on_texts(X_train)\n",
        "word_index = tokenizer.word_index"
      ],
      "metadata": {
        "id": "JyaXtb-WvbkE"
      },
      "execution_count": null,
      "outputs": []
    },
    {
      "cell_type": "code",
      "source": [
        "# #데이터를 sequence로 변환해주고 padding\n",
        "from tensorflow.keras.preprocessing.sequence import pad_sequences\n",
        "\n",
        "train_sequences = tokenizer.texts_to_sequences(X_train)\n",
        "train_padded = pad_sequences(train_sequences, padding=padding_type, maxlen=max_length)\n",
        "\n",
        "test_sequences = tokenizer.texts_to_sequences(X_test)\n",
        "test_padded = pad_sequences(test_sequences, padding=padding_type, maxlen=max_length)"
      ],
      "metadata": {
        "id": "pVqH4WiUvelu"
      },
      "execution_count": null,
      "outputs": []
    },
    {
      "cell_type": "code",
      "source": [
        "import tensorflow as tf"
      ],
      "metadata": {
        "id": "VcbbZ7xfv_nx"
      },
      "execution_count": null,
      "outputs": []
    },
    {
      "cell_type": "code",
      "source": [
        "#가벼운 NLP모델 생성\n",
        "model = tf.keras.Sequential([\n",
        "    tf.keras.layers.Embedding(vocab_size, embedding_dim, input_length=max_length),\n",
        "    tf.keras.layers.GlobalAveragePooling1D(),\n",
        "    tf.keras.layers.Dense(72, activation='relu'),\n",
        "    tf.keras.layers.Dense(36),\n",
        "    tf.keras.layers.Dense(18),\n",
        "    tf.keras.layers.Dense(5, activation='softmax')\n",
        "])"
      ],
      "metadata": {
        "id": "an5OnTuOvg0e"
      },
      "execution_count": null,
      "outputs": []
    },
    {
      "cell_type": "code",
      "source": [
        "# compile model\n",
        "model.compile(loss='sparse_categorical_crossentropy',\n",
        "              optimizer='adam',\n",
        "              metrics=['accuracy'])\n",
        "\n",
        "# model summary\n",
        "print(model.summary())"
      ],
      "metadata": {
        "colab": {
          "base_uri": "https://localhost:8080/"
        },
        "id": "qR9dLSsyvig2",
        "outputId": "e3f0d7ea-a5e9-4854-acd7-9d7ac8415224"
      },
      "execution_count": null,
      "outputs": [
        {
          "output_type": "stream",
          "name": "stdout",
          "text": [
            "Model: \"sequential\"\n",
            "_________________________________________________________________\n",
            " Layer (type)                Output Shape              Param #   \n",
            "=================================================================\n",
            " embedding (Embedding)       (None, 500, 16)           320000    \n",
            "                                                                 \n",
            " global_average_pooling1d (G  (None, 16)               0         \n",
            " lobalAveragePooling1D)                                          \n",
            "                                                                 \n",
            " dense (Dense)               (None, 72)                1224      \n",
            "                                                                 \n",
            " dense_1 (Dense)             (None, 36)                2628      \n",
            "                                                                 \n",
            " dense_2 (Dense)             (None, 18)                666       \n",
            "                                                                 \n",
            " dense_3 (Dense)             (None, 5)                 95        \n",
            "                                                                 \n",
            "=================================================================\n",
            "Total params: 324,613\n",
            "Trainable params: 324,613\n",
            "Non-trainable params: 0\n",
            "_________________________________________________________________\n",
            "None\n"
          ]
        }
      ]
    },
    {
      "cell_type": "code",
      "source": [
        "from keras.callbacks import EarlyStopping\n",
        "early_stopping = EarlyStopping()\n",
        "\n",
        "EarlyStopping(monitor = 'val_loss', min_delta = 0, patience = 500, mode = 'auto')"
      ],
      "metadata": {
        "id": "v0DJQs25db8W"
      },
      "execution_count": null,
      "outputs": []
    },
    {
      "cell_type": "code",
      "source": [
        "# fit model\n",
        "# num_epochs = 20\n",
        "num_epochs = 1000\n",
        "history = model.fit(train_padded, y_train, \n",
        "                    epochs=num_epochs, verbose=2, \n",
        "                    validation_split=0.2,\n",
        "                    batch_size = 10\n",
        "                    # , \n",
        "                    # callbacks = [early_stopping]\n",
        "                    )"
      ],
      "metadata": {
        "colab": {
          "base_uri": "https://localhost:8080/",
          "height": 1000
        },
        "id": "YRjX_HjCvj8f",
        "outputId": "dd38f8d6-7893-4008-99de-84a96dd9e6e4"
      },
      "execution_count": null,
      "outputs": [
        {
          "output_type": "stream",
          "name": "stdout",
          "text": [
            "Epoch 1/1000\n",
            "4391/4391 - 39s - loss: 1.2506 - accuracy: 0.4604 - val_loss: 0.9520 - val_accuracy: 0.6142 - 39s/epoch - 9ms/step\n",
            "Epoch 2/1000\n",
            "4391/4391 - 41s - loss: 0.8340 - accuracy: 0.6734 - val_loss: 0.8324 - val_accuracy: 0.6837 - 41s/epoch - 9ms/step\n",
            "Epoch 3/1000\n",
            "4391/4391 - 37s - loss: 0.7075 - accuracy: 0.7310 - val_loss: 0.7588 - val_accuracy: 0.7057 - 37s/epoch - 8ms/step\n",
            "Epoch 4/1000\n",
            "4391/4391 - 39s - loss: 0.6319 - accuracy: 0.7605 - val_loss: 0.7840 - val_accuracy: 0.7027 - 39s/epoch - 9ms/step\n",
            "Epoch 5/1000\n",
            "4391/4391 - 39s - loss: 0.5789 - accuracy: 0.7817 - val_loss: 0.6713 - val_accuracy: 0.7545 - 39s/epoch - 9ms/step\n",
            "Epoch 6/1000\n",
            "4391/4391 - 39s - loss: 0.5180 - accuracy: 0.8070 - val_loss: 0.8174 - val_accuracy: 0.7180 - 39s/epoch - 9ms/step\n",
            "Epoch 7/1000\n",
            "4391/4391 - 38s - loss: 0.4876 - accuracy: 0.8188 - val_loss: 0.7146 - val_accuracy: 0.7423 - 38s/epoch - 9ms/step\n",
            "Epoch 8/1000\n",
            "4391/4391 - 40s - loss: 0.4528 - accuracy: 0.8303 - val_loss: 0.7714 - val_accuracy: 0.7221 - 40s/epoch - 9ms/step\n",
            "Epoch 9/1000\n",
            "4391/4391 - 41s - loss: 0.4306 - accuracy: 0.8405 - val_loss: 0.6773 - val_accuracy: 0.7655 - 41s/epoch - 9ms/step\n",
            "Epoch 10/1000\n",
            "4391/4391 - 40s - loss: 0.4123 - accuracy: 0.8468 - val_loss: 0.6894 - val_accuracy: 0.7621 - 40s/epoch - 9ms/step\n",
            "Epoch 11/1000\n",
            "4391/4391 - 39s - loss: 0.3963 - accuracy: 0.8530 - val_loss: 0.6822 - val_accuracy: 0.7672 - 39s/epoch - 9ms/step\n",
            "Epoch 12/1000\n",
            "4391/4391 - 38s - loss: 0.3836 - accuracy: 0.8564 - val_loss: 0.6673 - val_accuracy: 0.7746 - 38s/epoch - 9ms/step\n",
            "Epoch 13/1000\n",
            "4391/4391 - 42s - loss: 0.3660 - accuracy: 0.8640 - val_loss: 0.6876 - val_accuracy: 0.7760 - 42s/epoch - 10ms/step\n",
            "Epoch 14/1000\n",
            "4391/4391 - 39s - loss: 0.3567 - accuracy: 0.8680 - val_loss: 0.9099 - val_accuracy: 0.7232 - 39s/epoch - 9ms/step\n",
            "Epoch 15/1000\n",
            "4391/4391 - 39s - loss: 0.3454 - accuracy: 0.8726 - val_loss: 0.7447 - val_accuracy: 0.7611 - 39s/epoch - 9ms/step\n",
            "Epoch 16/1000\n",
            "4391/4391 - 40s - loss: 0.3342 - accuracy: 0.8757 - val_loss: 0.8912 - val_accuracy: 0.7167 - 40s/epoch - 9ms/step\n",
            "Epoch 17/1000\n",
            "4391/4391 - 41s - loss: 0.3286 - accuracy: 0.8778 - val_loss: 0.7433 - val_accuracy: 0.7654 - 41s/epoch - 9ms/step\n",
            "Epoch 18/1000\n",
            "4391/4391 - 40s - loss: 0.3209 - accuracy: 0.8824 - val_loss: 0.7775 - val_accuracy: 0.7658 - 40s/epoch - 9ms/step\n",
            "Epoch 19/1000\n",
            "4391/4391 - 40s - loss: 0.3171 - accuracy: 0.8817 - val_loss: 0.8093 - val_accuracy: 0.7612 - 40s/epoch - 9ms/step\n",
            "Epoch 20/1000\n",
            "4391/4391 - 39s - loss: 0.3096 - accuracy: 0.8859 - val_loss: 0.8814 - val_accuracy: 0.7399 - 39s/epoch - 9ms/step\n",
            "Epoch 21/1000\n",
            "4391/4391 - 39s - loss: 0.3040 - accuracy: 0.8870 - val_loss: 0.8286 - val_accuracy: 0.7719 - 39s/epoch - 9ms/step\n",
            "Epoch 22/1000\n",
            "4391/4391 - 39s - loss: 0.3016 - accuracy: 0.8874 - val_loss: 0.8260 - val_accuracy: 0.7675 - 39s/epoch - 9ms/step\n",
            "Epoch 23/1000\n",
            "4391/4391 - 40s - loss: 0.2924 - accuracy: 0.8908 - val_loss: 0.8426 - val_accuracy: 0.7688 - 40s/epoch - 9ms/step\n",
            "Epoch 24/1000\n",
            "4391/4391 - 40s - loss: 0.2902 - accuracy: 0.8922 - val_loss: 0.8675 - val_accuracy: 0.7616 - 40s/epoch - 9ms/step\n",
            "Epoch 25/1000\n",
            "4391/4391 - 38s - loss: 0.2849 - accuracy: 0.8961 - val_loss: 0.9100 - val_accuracy: 0.7594 - 38s/epoch - 9ms/step\n",
            "Epoch 26/1000\n",
            "4391/4391 - 38s - loss: 0.2805 - accuracy: 0.8971 - val_loss: 0.9104 - val_accuracy: 0.7625 - 38s/epoch - 9ms/step\n",
            "Epoch 27/1000\n",
            "4391/4391 - 37s - loss: 0.2782 - accuracy: 0.8973 - val_loss: 0.8808 - val_accuracy: 0.7600 - 37s/epoch - 8ms/step\n",
            "Epoch 28/1000\n",
            "4391/4391 - 36s - loss: 0.2728 - accuracy: 0.8996 - val_loss: 0.9086 - val_accuracy: 0.7633 - 36s/epoch - 8ms/step\n",
            "Epoch 29/1000\n",
            "4391/4391 - 38s - loss: 0.2651 - accuracy: 0.9026 - val_loss: 1.0213 - val_accuracy: 0.7403 - 38s/epoch - 9ms/step\n",
            "Epoch 30/1000\n",
            "4391/4391 - 39s - loss: 0.2622 - accuracy: 0.9022 - val_loss: 0.9290 - val_accuracy: 0.7680 - 39s/epoch - 9ms/step\n",
            "Epoch 31/1000\n",
            "4391/4391 - 38s - loss: 0.2579 - accuracy: 0.9044 - val_loss: 1.0152 - val_accuracy: 0.7611 - 38s/epoch - 9ms/step\n",
            "Epoch 32/1000\n",
            "4391/4391 - 40s - loss: 0.2527 - accuracy: 0.9052 - val_loss: 1.0001 - val_accuracy: 0.7482 - 40s/epoch - 9ms/step\n",
            "Epoch 33/1000\n",
            "4391/4391 - 41s - loss: 0.2491 - accuracy: 0.9071 - val_loss: 0.9823 - val_accuracy: 0.7706 - 41s/epoch - 9ms/step\n",
            "Epoch 34/1000\n",
            "4391/4391 - 43s - loss: 0.2477 - accuracy: 0.9078 - val_loss: 1.0365 - val_accuracy: 0.7647 - 43s/epoch - 10ms/step\n",
            "Epoch 35/1000\n",
            "4391/4391 - 43s - loss: 0.2423 - accuracy: 0.9102 - val_loss: 1.0202 - val_accuracy: 0.7649 - 43s/epoch - 10ms/step\n",
            "Epoch 36/1000\n",
            "4391/4391 - 38s - loss: 0.2384 - accuracy: 0.9119 - val_loss: 1.0312 - val_accuracy: 0.7587 - 38s/epoch - 9ms/step\n",
            "Epoch 37/1000\n",
            "4391/4391 - 40s - loss: 0.2364 - accuracy: 0.9108 - val_loss: 1.0828 - val_accuracy: 0.7627 - 40s/epoch - 9ms/step\n",
            "Epoch 38/1000\n",
            "4391/4391 - 40s - loss: 0.2326 - accuracy: 0.9137 - val_loss: 1.1049 - val_accuracy: 0.7530 - 40s/epoch - 9ms/step\n",
            "Epoch 39/1000\n",
            "4391/4391 - 41s - loss: 0.2305 - accuracy: 0.9137 - val_loss: 1.0848 - val_accuracy: 0.7540 - 41s/epoch - 9ms/step\n",
            "Epoch 40/1000\n",
            "4391/4391 - 40s - loss: 0.2251 - accuracy: 0.9160 - val_loss: 1.1098 - val_accuracy: 0.7495 - 40s/epoch - 9ms/step\n",
            "Epoch 41/1000\n",
            "4391/4391 - 40s - loss: 0.2218 - accuracy: 0.9177 - val_loss: 1.2395 - val_accuracy: 0.7454 - 40s/epoch - 9ms/step\n",
            "Epoch 42/1000\n",
            "4391/4391 - 41s - loss: 0.2203 - accuracy: 0.9185 - val_loss: 1.1538 - val_accuracy: 0.7532 - 41s/epoch - 9ms/step\n",
            "Epoch 43/1000\n",
            "4391/4391 - 48s - loss: 0.2183 - accuracy: 0.9188 - val_loss: 1.2171 - val_accuracy: 0.7435 - 48s/epoch - 11ms/step\n",
            "Epoch 44/1000\n",
            "4391/4391 - 48s - loss: 0.2134 - accuracy: 0.9197 - val_loss: 1.2776 - val_accuracy: 0.7408 - 48s/epoch - 11ms/step\n",
            "Epoch 45/1000\n",
            "4391/4391 - 48s - loss: 0.2128 - accuracy: 0.9213 - val_loss: 1.1917 - val_accuracy: 0.7532 - 48s/epoch - 11ms/step\n",
            "Epoch 46/1000\n",
            "4391/4391 - 49s - loss: 0.2095 - accuracy: 0.9207 - val_loss: 1.2212 - val_accuracy: 0.7547 - 49s/epoch - 11ms/step\n",
            "Epoch 47/1000\n",
            "4391/4391 - 52s - loss: 0.2047 - accuracy: 0.9224 - val_loss: 1.2588 - val_accuracy: 0.7625 - 52s/epoch - 12ms/step\n",
            "Epoch 48/1000\n",
            "4391/4391 - 50s - loss: 0.2038 - accuracy: 0.9225 - val_loss: 1.3759 - val_accuracy: 0.7408 - 50s/epoch - 11ms/step\n",
            "Epoch 49/1000\n",
            "4391/4391 - 52s - loss: 0.2009 - accuracy: 0.9257 - val_loss: 1.5211 - val_accuracy: 0.7339 - 52s/epoch - 12ms/step\n",
            "Epoch 50/1000\n",
            "4391/4391 - 49s - loss: 0.2000 - accuracy: 0.9250 - val_loss: 1.3274 - val_accuracy: 0.7475 - 49s/epoch - 11ms/step\n",
            "Epoch 51/1000\n",
            "4391/4391 - 51s - loss: 0.1971 - accuracy: 0.9264 - val_loss: 1.4238 - val_accuracy: 0.7491 - 51s/epoch - 12ms/step\n",
            "Epoch 52/1000\n",
            "4391/4391 - 51s - loss: 0.1952 - accuracy: 0.9259 - val_loss: 1.3905 - val_accuracy: 0.7397 - 51s/epoch - 12ms/step\n",
            "Epoch 53/1000\n",
            "4391/4391 - 59s - loss: 0.1946 - accuracy: 0.9265 - val_loss: 1.4026 - val_accuracy: 0.7547 - 59s/epoch - 13ms/step\n",
            "Epoch 54/1000\n",
            "4391/4391 - 56s - loss: 0.1879 - accuracy: 0.9298 - val_loss: 1.3724 - val_accuracy: 0.7577 - 56s/epoch - 13ms/step\n",
            "Epoch 55/1000\n",
            "4391/4391 - 52s - loss: 0.1885 - accuracy: 0.9301 - val_loss: 1.3748 - val_accuracy: 0.7599 - 52s/epoch - 12ms/step\n",
            "Epoch 56/1000\n",
            "4391/4391 - 45s - loss: 0.1857 - accuracy: 0.9300 - val_loss: 1.5316 - val_accuracy: 0.7349 - 45s/epoch - 10ms/step\n",
            "Epoch 57/1000\n",
            "4391/4391 - 40s - loss: 0.1854 - accuracy: 0.9301 - val_loss: 1.4076 - val_accuracy: 0.7571 - 40s/epoch - 9ms/step\n",
            "Epoch 58/1000\n",
            "4391/4391 - 37s - loss: 0.1804 - accuracy: 0.9320 - val_loss: 1.4894 - val_accuracy: 0.7535 - 37s/epoch - 8ms/step\n",
            "Epoch 59/1000\n",
            "4391/4391 - 38s - loss: 0.1796 - accuracy: 0.9328 - val_loss: 1.4132 - val_accuracy: 0.7547 - 38s/epoch - 9ms/step\n",
            "Epoch 60/1000\n",
            "4391/4391 - 39s - loss: 0.1745 - accuracy: 0.9345 - val_loss: 1.5133 - val_accuracy: 0.7550 - 39s/epoch - 9ms/step\n",
            "Epoch 61/1000\n",
            "4391/4391 - 40s - loss: 0.1778 - accuracy: 0.9333 - val_loss: 1.5495 - val_accuracy: 0.7392 - 40s/epoch - 9ms/step\n",
            "Epoch 62/1000\n",
            "4391/4391 - 45s - loss: 0.1729 - accuracy: 0.9361 - val_loss: 1.5341 - val_accuracy: 0.7614 - 45s/epoch - 10ms/step\n",
            "Epoch 63/1000\n",
            "4391/4391 - 45s - loss: 0.1727 - accuracy: 0.9346 - val_loss: 1.6581 - val_accuracy: 0.7522 - 45s/epoch - 10ms/step\n",
            "Epoch 64/1000\n",
            "4391/4391 - 46s - loss: 0.1729 - accuracy: 0.9356 - val_loss: 1.6175 - val_accuracy: 0.7554 - 46s/epoch - 10ms/step\n",
            "Epoch 65/1000\n",
            "4391/4391 - 42s - loss: 0.1660 - accuracy: 0.9378 - val_loss: 1.7905 - val_accuracy: 0.7455 - 42s/epoch - 10ms/step\n",
            "Epoch 66/1000\n",
            "4391/4391 - 43s - loss: 0.1664 - accuracy: 0.9370 - val_loss: 1.6683 - val_accuracy: 0.7459 - 43s/epoch - 10ms/step\n",
            "Epoch 67/1000\n",
            "4391/4391 - 40s - loss: 0.1644 - accuracy: 0.9374 - val_loss: 1.7600 - val_accuracy: 0.7536 - 40s/epoch - 9ms/step\n",
            "Epoch 68/1000\n",
            "4391/4391 - 40s - loss: 0.1631 - accuracy: 0.9378 - val_loss: 1.8401 - val_accuracy: 0.7383 - 40s/epoch - 9ms/step\n",
            "Epoch 69/1000\n",
            "4391/4391 - 39s - loss: 0.1608 - accuracy: 0.9399 - val_loss: 1.6873 - val_accuracy: 0.7485 - 39s/epoch - 9ms/step\n",
            "Epoch 70/1000\n",
            "4391/4391 - 37s - loss: 0.1580 - accuracy: 0.9389 - val_loss: 1.7280 - val_accuracy: 0.7562 - 37s/epoch - 8ms/step\n",
            "Epoch 71/1000\n",
            "4391/4391 - 38s - loss: 0.1567 - accuracy: 0.9413 - val_loss: 1.7558 - val_accuracy: 0.7556 - 38s/epoch - 9ms/step\n",
            "Epoch 72/1000\n",
            "4391/4391 - 40s - loss: 0.1592 - accuracy: 0.9399 - val_loss: 1.8102 - val_accuracy: 0.7600 - 40s/epoch - 9ms/step\n",
            "Epoch 73/1000\n",
            "4391/4391 - 39s - loss: 0.1552 - accuracy: 0.9415 - val_loss: 1.7937 - val_accuracy: 0.7525 - 39s/epoch - 9ms/step\n",
            "Epoch 74/1000\n",
            "4391/4391 - 38s - loss: 0.1522 - accuracy: 0.9420 - val_loss: 1.8179 - val_accuracy: 0.7403 - 38s/epoch - 9ms/step\n",
            "Epoch 75/1000\n",
            "4391/4391 - 37s - loss: 0.1504 - accuracy: 0.9431 - val_loss: 1.9075 - val_accuracy: 0.7520 - 37s/epoch - 9ms/step\n",
            "Epoch 76/1000\n",
            "4391/4391 - 38s - loss: 0.1516 - accuracy: 0.9439 - val_loss: 1.9107 - val_accuracy: 0.7579 - 38s/epoch - 9ms/step\n",
            "Epoch 77/1000\n",
            "4391/4391 - 38s - loss: 0.1483 - accuracy: 0.9443 - val_loss: 1.9372 - val_accuracy: 0.7565 - 38s/epoch - 9ms/step\n",
            "Epoch 78/1000\n",
            "4391/4391 - 37s - loss: 0.1467 - accuracy: 0.9440 - val_loss: 1.9205 - val_accuracy: 0.7458 - 37s/epoch - 8ms/step\n",
            "Epoch 79/1000\n",
            "4391/4391 - 39s - loss: 0.1481 - accuracy: 0.9436 - val_loss: 1.9642 - val_accuracy: 0.7433 - 39s/epoch - 9ms/step\n",
            "Epoch 80/1000\n",
            "4391/4391 - 38s - loss: 0.1449 - accuracy: 0.9456 - val_loss: 2.0819 - val_accuracy: 0.7344 - 38s/epoch - 9ms/step\n",
            "Epoch 81/1000\n",
            "4391/4391 - 38s - loss: 0.1417 - accuracy: 0.9459 - val_loss: 1.9684 - val_accuracy: 0.7553 - 38s/epoch - 9ms/step\n",
            "Epoch 82/1000\n",
            "4391/4391 - 39s - loss: 0.1419 - accuracy: 0.9467 - val_loss: 2.1819 - val_accuracy: 0.7367 - 39s/epoch - 9ms/step\n",
            "Epoch 83/1000\n",
            "4391/4391 - 39s - loss: 0.1384 - accuracy: 0.9474 - val_loss: 1.9749 - val_accuracy: 0.7496 - 39s/epoch - 9ms/step\n",
            "Epoch 84/1000\n",
            "4391/4391 - 40s - loss: 0.1390 - accuracy: 0.9476 - val_loss: 2.1148 - val_accuracy: 0.7318 - 40s/epoch - 9ms/step\n",
            "Epoch 85/1000\n",
            "4391/4391 - 40s - loss: 0.1389 - accuracy: 0.9476 - val_loss: 2.0791 - val_accuracy: 0.7540 - 40s/epoch - 9ms/step\n",
            "Epoch 86/1000\n",
            "4391/4391 - 38s - loss: 0.1361 - accuracy: 0.9488 - val_loss: 2.1750 - val_accuracy: 0.7539 - 38s/epoch - 9ms/step\n",
            "Epoch 87/1000\n",
            "4391/4391 - 39s - loss: 0.1397 - accuracy: 0.9482 - val_loss: 2.1140 - val_accuracy: 0.7472 - 39s/epoch - 9ms/step\n",
            "Epoch 88/1000\n",
            "4391/4391 - 40s - loss: 0.1336 - accuracy: 0.9493 - val_loss: 2.1506 - val_accuracy: 0.7515 - 40s/epoch - 9ms/step\n",
            "Epoch 89/1000\n",
            "4391/4391 - 38s - loss: 0.1356 - accuracy: 0.9485 - val_loss: 2.0910 - val_accuracy: 0.7554 - 38s/epoch - 9ms/step\n",
            "Epoch 90/1000\n",
            "4391/4391 - 39s - loss: 0.1328 - accuracy: 0.9498 - val_loss: 2.0583 - val_accuracy: 0.7526 - 39s/epoch - 9ms/step\n",
            "Epoch 91/1000\n",
            "4391/4391 - 38s - loss: 0.1323 - accuracy: 0.9507 - val_loss: 2.1369 - val_accuracy: 0.7526 - 38s/epoch - 9ms/step\n",
            "Epoch 92/1000\n",
            "4391/4391 - 40s - loss: 0.1319 - accuracy: 0.9509 - val_loss: 2.4201 - val_accuracy: 0.7319 - 40s/epoch - 9ms/step\n",
            "Epoch 93/1000\n",
            "4391/4391 - 41s - loss: 0.1279 - accuracy: 0.9518 - val_loss: 2.2820 - val_accuracy: 0.7524 - 41s/epoch - 9ms/step\n",
            "Epoch 94/1000\n",
            "4391/4391 - 41s - loss: 0.1296 - accuracy: 0.9512 - val_loss: 2.2593 - val_accuracy: 0.7502 - 41s/epoch - 9ms/step\n",
            "Epoch 95/1000\n",
            "4391/4391 - 40s - loss: 0.1250 - accuracy: 0.9523 - val_loss: 2.2699 - val_accuracy: 0.7454 - 40s/epoch - 9ms/step\n",
            "Epoch 96/1000\n",
            "4391/4391 - 43s - loss: 0.1282 - accuracy: 0.9522 - val_loss: 2.3375 - val_accuracy: 0.7515 - 43s/epoch - 10ms/step\n",
            "Epoch 97/1000\n",
            "4391/4391 - 41s - loss: 0.1265 - accuracy: 0.9525 - val_loss: 2.3030 - val_accuracy: 0.7510 - 41s/epoch - 9ms/step\n",
            "Epoch 98/1000\n",
            "4391/4391 - 40s - loss: 0.1258 - accuracy: 0.9526 - val_loss: 2.2598 - val_accuracy: 0.7554 - 40s/epoch - 9ms/step\n",
            "Epoch 99/1000\n",
            "4391/4391 - 40s - loss: 0.1260 - accuracy: 0.9514 - val_loss: 2.2857 - val_accuracy: 0.7528 - 40s/epoch - 9ms/step\n",
            "Epoch 100/1000\n",
            "4391/4391 - 42s - loss: 0.1235 - accuracy: 0.9533 - val_loss: 2.3122 - val_accuracy: 0.7414 - 42s/epoch - 10ms/step\n",
            "Epoch 101/1000\n",
            "4391/4391 - 41s - loss: 0.1222 - accuracy: 0.9542 - val_loss: 2.2989 - val_accuracy: 0.7412 - 41s/epoch - 9ms/step\n",
            "Epoch 102/1000\n",
            "4391/4391 - 41s - loss: 0.1187 - accuracy: 0.9548 - val_loss: 2.6949 - val_accuracy: 0.7225 - 41s/epoch - 9ms/step\n",
            "Epoch 103/1000\n",
            "4391/4391 - 42s - loss: 0.1199 - accuracy: 0.9550 - val_loss: 2.3716 - val_accuracy: 0.7477 - 42s/epoch - 9ms/step\n",
            "Epoch 104/1000\n",
            "4391/4391 - 41s - loss: 0.1175 - accuracy: 0.9562 - val_loss: 2.4441 - val_accuracy: 0.7472 - 41s/epoch - 9ms/step\n",
            "Epoch 105/1000\n",
            "4391/4391 - 41s - loss: 0.1196 - accuracy: 0.9545 - val_loss: 2.4186 - val_accuracy: 0.7460 - 41s/epoch - 9ms/step\n",
            "Epoch 106/1000\n",
            "4391/4391 - 40s - loss: 0.1176 - accuracy: 0.9557 - val_loss: 2.4348 - val_accuracy: 0.7453 - 40s/epoch - 9ms/step\n",
            "Epoch 107/1000\n",
            "4391/4391 - 39s - loss: 0.1183 - accuracy: 0.9559 - val_loss: 2.4781 - val_accuracy: 0.7393 - 39s/epoch - 9ms/step\n",
            "Epoch 108/1000\n",
            "4391/4391 - 42s - loss: 0.1156 - accuracy: 0.9561 - val_loss: 2.4915 - val_accuracy: 0.7449 - 42s/epoch - 9ms/step\n",
            "Epoch 109/1000\n",
            "4391/4391 - 41s - loss: 0.1133 - accuracy: 0.9563 - val_loss: 2.3985 - val_accuracy: 0.7433 - 41s/epoch - 9ms/step\n",
            "Epoch 110/1000\n",
            "4391/4391 - 39s - loss: 0.1156 - accuracy: 0.9552 - val_loss: 2.6378 - val_accuracy: 0.7423 - 39s/epoch - 9ms/step\n",
            "Epoch 111/1000\n",
            "4391/4391 - 40s - loss: 0.1137 - accuracy: 0.9565 - val_loss: 2.4954 - val_accuracy: 0.7484 - 40s/epoch - 9ms/step\n",
            "Epoch 112/1000\n",
            "4391/4391 - 41s - loss: 0.1136 - accuracy: 0.9574 - val_loss: 2.6356 - val_accuracy: 0.7352 - 41s/epoch - 9ms/step\n",
            "Epoch 113/1000\n",
            "4391/4391 - 41s - loss: 0.1135 - accuracy: 0.9573 - val_loss: 2.5212 - val_accuracy: 0.7422 - 41s/epoch - 9ms/step\n",
            "Epoch 114/1000\n",
            "4391/4391 - 41s - loss: 0.1110 - accuracy: 0.9580 - val_loss: 2.5430 - val_accuracy: 0.7422 - 41s/epoch - 9ms/step\n",
            "Epoch 115/1000\n",
            "4391/4391 - 41s - loss: 0.1114 - accuracy: 0.9581 - val_loss: 2.6331 - val_accuracy: 0.7506 - 41s/epoch - 9ms/step\n",
            "Epoch 116/1000\n",
            "4391/4391 - 40s - loss: 0.1108 - accuracy: 0.9591 - val_loss: 2.5008 - val_accuracy: 0.7441 - 40s/epoch - 9ms/step\n",
            "Epoch 117/1000\n",
            "4391/4391 - 40s - loss: 0.1098 - accuracy: 0.9578 - val_loss: 2.6659 - val_accuracy: 0.7521 - 40s/epoch - 9ms/step\n",
            "Epoch 118/1000\n",
            "4391/4391 - 41s - loss: 0.1103 - accuracy: 0.9578 - val_loss: 2.7029 - val_accuracy: 0.7347 - 41s/epoch - 9ms/step\n",
            "Epoch 119/1000\n",
            "4391/4391 - 39s - loss: 0.1087 - accuracy: 0.9591 - val_loss: 2.6785 - val_accuracy: 0.7341 - 39s/epoch - 9ms/step\n",
            "Epoch 120/1000\n",
            "4391/4391 - 40s - loss: 0.1113 - accuracy: 0.9580 - val_loss: 2.6027 - val_accuracy: 0.7406 - 40s/epoch - 9ms/step\n",
            "Epoch 121/1000\n",
            "4391/4391 - 39s - loss: 0.1051 - accuracy: 0.9607 - val_loss: 2.6407 - val_accuracy: 0.7358 - 39s/epoch - 9ms/step\n",
            "Epoch 122/1000\n",
            "4391/4391 - 41s - loss: 0.1038 - accuracy: 0.9607 - val_loss: 2.7394 - val_accuracy: 0.7445 - 41s/epoch - 9ms/step\n",
            "Epoch 123/1000\n",
            "4391/4391 - 44s - loss: 0.1060 - accuracy: 0.9597 - val_loss: 2.7369 - val_accuracy: 0.7309 - 44s/epoch - 10ms/step\n",
            "Epoch 124/1000\n",
            "4391/4391 - 47s - loss: 0.1033 - accuracy: 0.9609 - val_loss: 2.8139 - val_accuracy: 0.7486 - 47s/epoch - 11ms/step\n",
            "Epoch 125/1000\n",
            "4391/4391 - 44s - loss: 0.1065 - accuracy: 0.9593 - val_loss: 2.7411 - val_accuracy: 0.7440 - 44s/epoch - 10ms/step\n",
            "Epoch 126/1000\n",
            "4391/4391 - 43s - loss: 0.1041 - accuracy: 0.9597 - val_loss: 2.8483 - val_accuracy: 0.7411 - 43s/epoch - 10ms/step\n",
            "Epoch 127/1000\n",
            "4391/4391 - 42s - loss: 0.1024 - accuracy: 0.9614 - val_loss: 2.8451 - val_accuracy: 0.7352 - 42s/epoch - 10ms/step\n",
            "Epoch 128/1000\n",
            "4391/4391 - 41s - loss: 0.1020 - accuracy: 0.9608 - val_loss: 2.8577 - val_accuracy: 0.7341 - 41s/epoch - 9ms/step\n",
            "Epoch 129/1000\n",
            "4391/4391 - 43s - loss: 0.1017 - accuracy: 0.9617 - val_loss: 2.7417 - val_accuracy: 0.7446 - 43s/epoch - 10ms/step\n",
            "Epoch 130/1000\n",
            "4391/4391 - 41s - loss: 0.1007 - accuracy: 0.9616 - val_loss: 2.9501 - val_accuracy: 0.7455 - 41s/epoch - 9ms/step\n",
            "Epoch 131/1000\n",
            "4391/4391 - 38s - loss: 0.0999 - accuracy: 0.9626 - val_loss: 3.0338 - val_accuracy: 0.7279 - 38s/epoch - 9ms/step\n",
            "Epoch 132/1000\n",
            "4391/4391 - 39s - loss: 0.1022 - accuracy: 0.9618 - val_loss: 2.7501 - val_accuracy: 0.7382 - 39s/epoch - 9ms/step\n",
            "Epoch 133/1000\n",
            "4391/4391 - 40s - loss: 0.1007 - accuracy: 0.9615 - val_loss: 2.9585 - val_accuracy: 0.7355 - 40s/epoch - 9ms/step\n",
            "Epoch 134/1000\n",
            "4391/4391 - 39s - loss: 0.0987 - accuracy: 0.9630 - val_loss: 2.8275 - val_accuracy: 0.7433 - 39s/epoch - 9ms/step\n",
            "Epoch 135/1000\n",
            "4391/4391 - 39s - loss: 0.0993 - accuracy: 0.9630 - val_loss: 2.8873 - val_accuracy: 0.7382 - 39s/epoch - 9ms/step\n",
            "Epoch 136/1000\n",
            "4391/4391 - 39s - loss: 0.0996 - accuracy: 0.9623 - val_loss: 2.7591 - val_accuracy: 0.7414 - 39s/epoch - 9ms/step\n",
            "Epoch 137/1000\n",
            "4391/4391 - 38s - loss: 0.0950 - accuracy: 0.9639 - val_loss: 3.0500 - val_accuracy: 0.7440 - 38s/epoch - 9ms/step\n",
            "Epoch 138/1000\n",
            "4391/4391 - 41s - loss: 0.0977 - accuracy: 0.9633 - val_loss: 3.0471 - val_accuracy: 0.7301 - 41s/epoch - 9ms/step\n",
            "Epoch 139/1000\n",
            "4391/4391 - 40s - loss: 0.0972 - accuracy: 0.9631 - val_loss: 2.8702 - val_accuracy: 0.7405 - 40s/epoch - 9ms/step\n",
            "Epoch 140/1000\n",
            "4391/4391 - 41s - loss: 0.0969 - accuracy: 0.9637 - val_loss: 3.0253 - val_accuracy: 0.7426 - 41s/epoch - 9ms/step\n",
            "Epoch 141/1000\n",
            "4391/4391 - 39s - loss: 0.0949 - accuracy: 0.9634 - val_loss: 3.1083 - val_accuracy: 0.7420 - 39s/epoch - 9ms/step\n",
            "Epoch 142/1000\n",
            "4391/4391 - 38s - loss: 0.0933 - accuracy: 0.9648 - val_loss: 3.0404 - val_accuracy: 0.7404 - 38s/epoch - 9ms/step\n",
            "Epoch 143/1000\n",
            "4391/4391 - 40s - loss: 0.0938 - accuracy: 0.9649 - val_loss: 3.0778 - val_accuracy: 0.7400 - 40s/epoch - 9ms/step\n",
            "Epoch 144/1000\n",
            "4391/4391 - 39s - loss: 0.0955 - accuracy: 0.9640 - val_loss: 3.1683 - val_accuracy: 0.7328 - 39s/epoch - 9ms/step\n",
            "Epoch 145/1000\n",
            "4391/4391 - 40s - loss: 0.0911 - accuracy: 0.9658 - val_loss: 3.1972 - val_accuracy: 0.7385 - 40s/epoch - 9ms/step\n",
            "Epoch 146/1000\n",
            "4391/4391 - 40s - loss: 0.0933 - accuracy: 0.9642 - val_loss: 3.1745 - val_accuracy: 0.7373 - 40s/epoch - 9ms/step\n",
            "Epoch 147/1000\n",
            "4391/4391 - 39s - loss: 0.0914 - accuracy: 0.9646 - val_loss: 3.1905 - val_accuracy: 0.7433 - 39s/epoch - 9ms/step\n",
            "Epoch 148/1000\n",
            "4391/4391 - 40s - loss: 0.0906 - accuracy: 0.9653 - val_loss: 3.0875 - val_accuracy: 0.7403 - 40s/epoch - 9ms/step\n",
            "Epoch 149/1000\n",
            "4391/4391 - 41s - loss: 0.0916 - accuracy: 0.9656 - val_loss: 3.1825 - val_accuracy: 0.7337 - 41s/epoch - 9ms/step\n",
            "Epoch 150/1000\n",
            "4391/4391 - 41s - loss: 0.0899 - accuracy: 0.9668 - val_loss: 3.2421 - val_accuracy: 0.7438 - 41s/epoch - 9ms/step\n",
            "Epoch 151/1000\n",
            "4391/4391 - 41s - loss: 0.0908 - accuracy: 0.9657 - val_loss: 3.3440 - val_accuracy: 0.7233 - 41s/epoch - 9ms/step\n",
            "Epoch 152/1000\n",
            "4391/4391 - 41s - loss: 0.0896 - accuracy: 0.9664 - val_loss: 3.1468 - val_accuracy: 0.7403 - 41s/epoch - 9ms/step\n",
            "Epoch 153/1000\n",
            "4391/4391 - 40s - loss: 0.0918 - accuracy: 0.9659 - val_loss: 3.1427 - val_accuracy: 0.7336 - 40s/epoch - 9ms/step\n",
            "Epoch 154/1000\n",
            "4391/4391 - 40s - loss: 0.0885 - accuracy: 0.9672 - val_loss: 3.2975 - val_accuracy: 0.7389 - 40s/epoch - 9ms/step\n",
            "Epoch 155/1000\n",
            "4391/4391 - 42s - loss: 0.0895 - accuracy: 0.9659 - val_loss: 3.2050 - val_accuracy: 0.7456 - 42s/epoch - 10ms/step\n",
            "Epoch 156/1000\n",
            "4391/4391 - 42s - loss: 0.0883 - accuracy: 0.9669 - val_loss: 3.1365 - val_accuracy: 0.7447 - 42s/epoch - 10ms/step\n",
            "Epoch 157/1000\n",
            "4391/4391 - 41s - loss: 0.0882 - accuracy: 0.9669 - val_loss: 3.2052 - val_accuracy: 0.7341 - 41s/epoch - 9ms/step\n",
            "Epoch 158/1000\n",
            "4391/4391 - 40s - loss: 0.0858 - accuracy: 0.9670 - val_loss: 3.2198 - val_accuracy: 0.7331 - 40s/epoch - 9ms/step\n",
            "Epoch 159/1000\n",
            "4391/4391 - 40s - loss: 0.0848 - accuracy: 0.9684 - val_loss: 3.4428 - val_accuracy: 0.7434 - 40s/epoch - 9ms/step\n",
            "Epoch 160/1000\n",
            "4391/4391 - 41s - loss: 0.0843 - accuracy: 0.9682 - val_loss: 3.4601 - val_accuracy: 0.7418 - 41s/epoch - 9ms/step\n",
            "Epoch 161/1000\n",
            "4391/4391 - 39s - loss: 0.0862 - accuracy: 0.9669 - val_loss: 3.7888 - val_accuracy: 0.7187 - 39s/epoch - 9ms/step\n",
            "Epoch 162/1000\n",
            "4391/4391 - 40s - loss: 0.0854 - accuracy: 0.9684 - val_loss: 3.3066 - val_accuracy: 0.7404 - 40s/epoch - 9ms/step\n",
            "Epoch 163/1000\n",
            "4391/4391 - 41s - loss: 0.0869 - accuracy: 0.9671 - val_loss: 3.3768 - val_accuracy: 0.7341 - 41s/epoch - 9ms/step\n",
            "Epoch 164/1000\n",
            "4391/4391 - 39s - loss: 0.0847 - accuracy: 0.9684 - val_loss: 3.4401 - val_accuracy: 0.7130 - 39s/epoch - 9ms/step\n",
            "Epoch 165/1000\n",
            "4391/4391 - 39s - loss: 0.0867 - accuracy: 0.9677 - val_loss: 3.4028 - val_accuracy: 0.7396 - 39s/epoch - 9ms/step\n",
            "Epoch 166/1000\n",
            "4391/4391 - 40s - loss: 0.0827 - accuracy: 0.9688 - val_loss: 3.3840 - val_accuracy: 0.7257 - 40s/epoch - 9ms/step\n",
            "Epoch 167/1000\n",
            "4391/4391 - 39s - loss: 0.0847 - accuracy: 0.9678 - val_loss: 3.3890 - val_accuracy: 0.7431 - 39s/epoch - 9ms/step\n",
            "Epoch 168/1000\n",
            "4391/4391 - 40s - loss: 0.0851 - accuracy: 0.9685 - val_loss: 3.5261 - val_accuracy: 0.7370 - 40s/epoch - 9ms/step\n",
            "Epoch 169/1000\n",
            "4391/4391 - 40s - loss: 0.0839 - accuracy: 0.9687 - val_loss: 3.4726 - val_accuracy: 0.7418 - 40s/epoch - 9ms/step\n",
            "Epoch 170/1000\n",
            "4391/4391 - 39s - loss: 0.0819 - accuracy: 0.9695 - val_loss: 3.5098 - val_accuracy: 0.7291 - 39s/epoch - 9ms/step\n",
            "Epoch 171/1000\n",
            "4391/4391 - 40s - loss: 0.0824 - accuracy: 0.9683 - val_loss: 3.4739 - val_accuracy: 0.7395 - 40s/epoch - 9ms/step\n",
            "Epoch 172/1000\n",
            "4391/4391 - 41s - loss: 0.0802 - accuracy: 0.9699 - val_loss: 3.6407 - val_accuracy: 0.7292 - 41s/epoch - 9ms/step\n",
            "Epoch 173/1000\n",
            "4391/4391 - 40s - loss: 0.0807 - accuracy: 0.9694 - val_loss: 3.6653 - val_accuracy: 0.7354 - 40s/epoch - 9ms/step\n",
            "Epoch 174/1000\n",
            "4391/4391 - 41s - loss: 0.0817 - accuracy: 0.9697 - val_loss: 3.4547 - val_accuracy: 0.7427 - 41s/epoch - 9ms/step\n",
            "Epoch 175/1000\n",
            "4391/4391 - 40s - loss: 0.0834 - accuracy: 0.9695 - val_loss: 3.9011 - val_accuracy: 0.7296 - 40s/epoch - 9ms/step\n",
            "Epoch 176/1000\n",
            "4391/4391 - 39s - loss: 0.0816 - accuracy: 0.9692 - val_loss: 3.6761 - val_accuracy: 0.7428 - 39s/epoch - 9ms/step\n",
            "Epoch 177/1000\n",
            "4391/4391 - 39s - loss: 0.0790 - accuracy: 0.9704 - val_loss: 3.5107 - val_accuracy: 0.7441 - 39s/epoch - 9ms/step\n",
            "Epoch 178/1000\n",
            "4391/4391 - 38s - loss: 0.0801 - accuracy: 0.9703 - val_loss: 3.8598 - val_accuracy: 0.7339 - 38s/epoch - 9ms/step\n",
            "Epoch 179/1000\n",
            "4391/4391 - 38s - loss: 0.0784 - accuracy: 0.9706 - val_loss: 3.7071 - val_accuracy: 0.7423 - 38s/epoch - 9ms/step\n",
            "Epoch 180/1000\n",
            "4391/4391 - 40s - loss: 0.0774 - accuracy: 0.9712 - val_loss: 3.7506 - val_accuracy: 0.7272 - 40s/epoch - 9ms/step\n",
            "Epoch 181/1000\n",
            "4391/4391 - 41s - loss: 0.0795 - accuracy: 0.9704 - val_loss: 3.6182 - val_accuracy: 0.7393 - 41s/epoch - 9ms/step\n",
            "Epoch 182/1000\n",
            "4391/4391 - 39s - loss: 0.0783 - accuracy: 0.9708 - val_loss: 3.6049 - val_accuracy: 0.7393 - 39s/epoch - 9ms/step\n",
            "Epoch 183/1000\n",
            "4391/4391 - 39s - loss: 0.0789 - accuracy: 0.9700 - val_loss: 3.6834 - val_accuracy: 0.7402 - 39s/epoch - 9ms/step\n",
            "Epoch 184/1000\n",
            "4391/4391 - 40s - loss: 0.0800 - accuracy: 0.9699 - val_loss: 3.6111 - val_accuracy: 0.7373 - 40s/epoch - 9ms/step\n",
            "Epoch 185/1000\n",
            "4391/4391 - 40s - loss: 0.0732 - accuracy: 0.9726 - val_loss: 3.6354 - val_accuracy: 0.7386 - 40s/epoch - 9ms/step\n",
            "Epoch 186/1000\n",
            "4391/4391 - 39s - loss: 0.0782 - accuracy: 0.9711 - val_loss: 3.6707 - val_accuracy: 0.7416 - 39s/epoch - 9ms/step\n",
            "Epoch 187/1000\n",
            "4391/4391 - 37s - loss: 0.0745 - accuracy: 0.9718 - val_loss: 3.7667 - val_accuracy: 0.7371 - 37s/epoch - 8ms/step\n",
            "Epoch 188/1000\n",
            "4391/4391 - 38s - loss: 0.0774 - accuracy: 0.9725 - val_loss: 3.7832 - val_accuracy: 0.7349 - 38s/epoch - 9ms/step\n",
            "Epoch 189/1000\n",
            "4391/4391 - 41s - loss: 0.0745 - accuracy: 0.9726 - val_loss: 3.8984 - val_accuracy: 0.7321 - 41s/epoch - 9ms/step\n",
            "Epoch 190/1000\n",
            "4391/4391 - 40s - loss: 0.0776 - accuracy: 0.9705 - val_loss: 3.6563 - val_accuracy: 0.7417 - 40s/epoch - 9ms/step\n",
            "Epoch 191/1000\n",
            "4391/4391 - 39s - loss: 0.0760 - accuracy: 0.9717 - val_loss: 3.7130 - val_accuracy: 0.7243 - 39s/epoch - 9ms/step\n",
            "Epoch 192/1000\n",
            "4391/4391 - 39s - loss: 0.0760 - accuracy: 0.9720 - val_loss: 3.8106 - val_accuracy: 0.7392 - 39s/epoch - 9ms/step\n",
            "Epoch 193/1000\n",
            "4391/4391 - 39s - loss: 0.0749 - accuracy: 0.9722 - val_loss: 3.7488 - val_accuracy: 0.7401 - 39s/epoch - 9ms/step\n",
            "Epoch 194/1000\n",
            "4391/4391 - 39s - loss: 0.0728 - accuracy: 0.9732 - val_loss: 3.9353 - val_accuracy: 0.7345 - 39s/epoch - 9ms/step\n",
            "Epoch 195/1000\n",
            "4391/4391 - 40s - loss: 0.0769 - accuracy: 0.9720 - val_loss: 3.7611 - val_accuracy: 0.7331 - 40s/epoch - 9ms/step\n",
            "Epoch 196/1000\n",
            "4391/4391 - 39s - loss: 0.0759 - accuracy: 0.9724 - val_loss: 3.8255 - val_accuracy: 0.7407 - 39s/epoch - 9ms/step\n",
            "Epoch 197/1000\n",
            "4391/4391 - 39s - loss: 0.0757 - accuracy: 0.9725 - val_loss: 3.7871 - val_accuracy: 0.7324 - 39s/epoch - 9ms/step\n",
            "Epoch 198/1000\n",
            "4391/4391 - 39s - loss: 0.0738 - accuracy: 0.9725 - val_loss: 3.7504 - val_accuracy: 0.7361 - 39s/epoch - 9ms/step\n",
            "Epoch 199/1000\n",
            "4391/4391 - 40s - loss: 0.0701 - accuracy: 0.9741 - val_loss: 4.0028 - val_accuracy: 0.7385 - 40s/epoch - 9ms/step\n",
            "Epoch 200/1000\n",
            "4391/4391 - 41s - loss: 0.0722 - accuracy: 0.9728 - val_loss: 3.9514 - val_accuracy: 0.7385 - 41s/epoch - 9ms/step\n",
            "Epoch 201/1000\n",
            "4391/4391 - 40s - loss: 0.0728 - accuracy: 0.9731 - val_loss: 3.9347 - val_accuracy: 0.7304 - 40s/epoch - 9ms/step\n",
            "Epoch 202/1000\n",
            "4391/4391 - 41s - loss: 0.0696 - accuracy: 0.9733 - val_loss: 3.8993 - val_accuracy: 0.7259 - 41s/epoch - 9ms/step\n",
            "Epoch 203/1000\n",
            "4391/4391 - 40s - loss: 0.0733 - accuracy: 0.9730 - val_loss: 3.8882 - val_accuracy: 0.7351 - 40s/epoch - 9ms/step\n",
            "Epoch 204/1000\n",
            "4391/4391 - 40s - loss: 0.0723 - accuracy: 0.9729 - val_loss: 4.0121 - val_accuracy: 0.7336 - 40s/epoch - 9ms/step\n",
            "Epoch 205/1000\n",
            "4391/4391 - 40s - loss: 0.0724 - accuracy: 0.9725 - val_loss: 3.9581 - val_accuracy: 0.7304 - 40s/epoch - 9ms/step\n",
            "Epoch 206/1000\n",
            "4391/4391 - 39s - loss: 0.0684 - accuracy: 0.9744 - val_loss: 3.9633 - val_accuracy: 0.7341 - 39s/epoch - 9ms/step\n",
            "Epoch 207/1000\n",
            "4391/4391 - 36s - loss: 0.0710 - accuracy: 0.9738 - val_loss: 4.1484 - val_accuracy: 0.7336 - 36s/epoch - 8ms/step\n",
            "Epoch 208/1000\n",
            "4391/4391 - 39s - loss: 0.0709 - accuracy: 0.9735 - val_loss: 4.1096 - val_accuracy: 0.7234 - 39s/epoch - 9ms/step\n",
            "Epoch 209/1000\n",
            "4391/4391 - 40s - loss: 0.0691 - accuracy: 0.9738 - val_loss: 4.0375 - val_accuracy: 0.7350 - 40s/epoch - 9ms/step\n",
            "Epoch 210/1000\n",
            "4391/4391 - 41s - loss: 0.0702 - accuracy: 0.9736 - val_loss: 4.1915 - val_accuracy: 0.7342 - 41s/epoch - 9ms/step\n",
            "Epoch 211/1000\n",
            "4391/4391 - 39s - loss: 0.0695 - accuracy: 0.9741 - val_loss: 4.0904 - val_accuracy: 0.7344 - 39s/epoch - 9ms/step\n",
            "Epoch 212/1000\n"
          ]
        },
        {
          "output_type": "error",
          "ename": "KeyboardInterrupt",
          "evalue": "ignored",
          "traceback": [
            "\u001b[0;31m---------------------------------------------------------------------------\u001b[0m",
            "\u001b[0;31mKeyboardInterrupt\u001b[0m                         Traceback (most recent call last)",
            "\u001b[0;32m<ipython-input-13-84040a3fe755>\u001b[0m in \u001b[0;36m<cell line: 4>\u001b[0;34m()\u001b[0m\n\u001b[1;32m      2\u001b[0m \u001b[0;31m# num_epochs = 20\u001b[0m\u001b[0;34m\u001b[0m\u001b[0;34m\u001b[0m\u001b[0m\n\u001b[1;32m      3\u001b[0m \u001b[0mnum_epochs\u001b[0m \u001b[0;34m=\u001b[0m \u001b[0;36m1000\u001b[0m\u001b[0;34m\u001b[0m\u001b[0;34m\u001b[0m\u001b[0m\n\u001b[0;32m----> 4\u001b[0;31m history = model.fit(train_padded, y_train, \n\u001b[0m\u001b[1;32m      5\u001b[0m                     \u001b[0mepochs\u001b[0m\u001b[0;34m=\u001b[0m\u001b[0mnum_epochs\u001b[0m\u001b[0;34m,\u001b[0m \u001b[0mverbose\u001b[0m\u001b[0;34m=\u001b[0m\u001b[0;36m2\u001b[0m\u001b[0;34m,\u001b[0m\u001b[0;34m\u001b[0m\u001b[0;34m\u001b[0m\u001b[0m\n\u001b[1;32m      6\u001b[0m                     \u001b[0mvalidation_split\u001b[0m\u001b[0;34m=\u001b[0m\u001b[0;36m0.2\u001b[0m\u001b[0;34m,\u001b[0m\u001b[0;34m\u001b[0m\u001b[0;34m\u001b[0m\u001b[0m\n",
            "\u001b[0;32m/usr/local/lib/python3.10/dist-packages/keras/utils/traceback_utils.py\u001b[0m in \u001b[0;36merror_handler\u001b[0;34m(*args, **kwargs)\u001b[0m\n\u001b[1;32m     63\u001b[0m         \u001b[0mfiltered_tb\u001b[0m \u001b[0;34m=\u001b[0m \u001b[0;32mNone\u001b[0m\u001b[0;34m\u001b[0m\u001b[0;34m\u001b[0m\u001b[0m\n\u001b[1;32m     64\u001b[0m         \u001b[0;32mtry\u001b[0m\u001b[0;34m:\u001b[0m\u001b[0;34m\u001b[0m\u001b[0;34m\u001b[0m\u001b[0m\n\u001b[0;32m---> 65\u001b[0;31m             \u001b[0;32mreturn\u001b[0m \u001b[0mfn\u001b[0m\u001b[0;34m(\u001b[0m\u001b[0;34m*\u001b[0m\u001b[0margs\u001b[0m\u001b[0;34m,\u001b[0m \u001b[0;34m**\u001b[0m\u001b[0mkwargs\u001b[0m\u001b[0;34m)\u001b[0m\u001b[0;34m\u001b[0m\u001b[0;34m\u001b[0m\u001b[0m\n\u001b[0m\u001b[1;32m     66\u001b[0m         \u001b[0;32mexcept\u001b[0m \u001b[0mException\u001b[0m \u001b[0;32mas\u001b[0m \u001b[0me\u001b[0m\u001b[0;34m:\u001b[0m\u001b[0;34m\u001b[0m\u001b[0;34m\u001b[0m\u001b[0m\n\u001b[1;32m     67\u001b[0m             \u001b[0mfiltered_tb\u001b[0m \u001b[0;34m=\u001b[0m \u001b[0m_process_traceback_frames\u001b[0m\u001b[0;34m(\u001b[0m\u001b[0me\u001b[0m\u001b[0;34m.\u001b[0m\u001b[0m__traceback__\u001b[0m\u001b[0;34m)\u001b[0m\u001b[0;34m\u001b[0m\u001b[0;34m\u001b[0m\u001b[0m\n",
            "\u001b[0;32m/usr/local/lib/python3.10/dist-packages/keras/engine/training.py\u001b[0m in \u001b[0;36mfit\u001b[0;34m(self, x, y, batch_size, epochs, verbose, callbacks, validation_split, validation_data, shuffle, class_weight, sample_weight, initial_epoch, steps_per_epoch, validation_steps, validation_batch_size, validation_freq, max_queue_size, workers, use_multiprocessing)\u001b[0m\n\u001b[1;32m   1674\u001b[0m                 \u001b[0mcallbacks\u001b[0m\u001b[0;34m.\u001b[0m\u001b[0mon_epoch_begin\u001b[0m\u001b[0;34m(\u001b[0m\u001b[0mepoch\u001b[0m\u001b[0;34m)\u001b[0m\u001b[0;34m\u001b[0m\u001b[0;34m\u001b[0m\u001b[0m\n\u001b[1;32m   1675\u001b[0m                 \u001b[0;32mwith\u001b[0m \u001b[0mdata_handler\u001b[0m\u001b[0;34m.\u001b[0m\u001b[0mcatch_stop_iteration\u001b[0m\u001b[0;34m(\u001b[0m\u001b[0;34m)\u001b[0m\u001b[0;34m:\u001b[0m\u001b[0;34m\u001b[0m\u001b[0;34m\u001b[0m\u001b[0m\n\u001b[0;32m-> 1676\u001b[0;31m                     \u001b[0;32mfor\u001b[0m \u001b[0mstep\u001b[0m \u001b[0;32min\u001b[0m \u001b[0mdata_handler\u001b[0m\u001b[0;34m.\u001b[0m\u001b[0msteps\u001b[0m\u001b[0;34m(\u001b[0m\u001b[0;34m)\u001b[0m\u001b[0;34m:\u001b[0m\u001b[0;34m\u001b[0m\u001b[0;34m\u001b[0m\u001b[0m\n\u001b[0m\u001b[1;32m   1677\u001b[0m                         with tf.profiler.experimental.Trace(\n\u001b[1;32m   1678\u001b[0m                             \u001b[0;34m\"train\"\u001b[0m\u001b[0;34m,\u001b[0m\u001b[0;34m\u001b[0m\u001b[0;34m\u001b[0m\u001b[0m\n",
            "\u001b[0;32m/usr/local/lib/python3.10/dist-packages/keras/engine/data_adapter.py\u001b[0m in \u001b[0;36msteps\u001b[0;34m(self)\u001b[0m\n\u001b[1;32m   1373\u001b[0m             \u001b[0;32mif\u001b[0m \u001b[0mself\u001b[0m\u001b[0;34m.\u001b[0m\u001b[0m_insufficient_data\u001b[0m\u001b[0;34m:\u001b[0m  \u001b[0;31m# Set by `catch_stop_iteration`.\u001b[0m\u001b[0;34m\u001b[0m\u001b[0;34m\u001b[0m\u001b[0m\n\u001b[1;32m   1374\u001b[0m                 \u001b[0;32mbreak\u001b[0m\u001b[0;34m\u001b[0m\u001b[0;34m\u001b[0m\u001b[0m\n\u001b[0;32m-> 1375\u001b[0;31m             \u001b[0moriginal_spe\u001b[0m \u001b[0;34m=\u001b[0m \u001b[0mself\u001b[0m\u001b[0;34m.\u001b[0m\u001b[0m_steps_per_execution\u001b[0m\u001b[0;34m.\u001b[0m\u001b[0mnumpy\u001b[0m\u001b[0;34m(\u001b[0m\u001b[0;34m)\u001b[0m\u001b[0;34m.\u001b[0m\u001b[0mitem\u001b[0m\u001b[0;34m(\u001b[0m\u001b[0;34m)\u001b[0m\u001b[0;34m\u001b[0m\u001b[0;34m\u001b[0m\u001b[0m\n\u001b[0m\u001b[1;32m   1376\u001b[0m             can_run_full_execution = (\n\u001b[1;32m   1377\u001b[0m                 \u001b[0moriginal_spe\u001b[0m \u001b[0;34m==\u001b[0m \u001b[0;36m1\u001b[0m\u001b[0;34m\u001b[0m\u001b[0;34m\u001b[0m\u001b[0m\n",
            "\u001b[0;32m/usr/local/lib/python3.10/dist-packages/tensorflow/python/ops/resource_variable_ops.py\u001b[0m in \u001b[0;36mnumpy\u001b[0;34m(self)\u001b[0m\n\u001b[1;32m    645\u001b[0m   \u001b[0;32mdef\u001b[0m \u001b[0mnumpy\u001b[0m\u001b[0;34m(\u001b[0m\u001b[0mself\u001b[0m\u001b[0;34m)\u001b[0m\u001b[0;34m:\u001b[0m\u001b[0;34m\u001b[0m\u001b[0;34m\u001b[0m\u001b[0m\n\u001b[1;32m    646\u001b[0m     \u001b[0;32mif\u001b[0m \u001b[0mcontext\u001b[0m\u001b[0;34m.\u001b[0m\u001b[0mexecuting_eagerly\u001b[0m\u001b[0;34m(\u001b[0m\u001b[0;34m)\u001b[0m\u001b[0;34m:\u001b[0m\u001b[0;34m\u001b[0m\u001b[0;34m\u001b[0m\u001b[0m\n\u001b[0;32m--> 647\u001b[0;31m       \u001b[0;32mreturn\u001b[0m \u001b[0mself\u001b[0m\u001b[0;34m.\u001b[0m\u001b[0mread_value\u001b[0m\u001b[0;34m(\u001b[0m\u001b[0;34m)\u001b[0m\u001b[0;34m.\u001b[0m\u001b[0mnumpy\u001b[0m\u001b[0;34m(\u001b[0m\u001b[0;34m)\u001b[0m\u001b[0;34m\u001b[0m\u001b[0;34m\u001b[0m\u001b[0m\n\u001b[0m\u001b[1;32m    648\u001b[0m     raise NotImplementedError(\n\u001b[1;32m    649\u001b[0m         \"numpy() is only available when eager execution is enabled.\")\n",
            "\u001b[0;32m/usr/local/lib/python3.10/dist-packages/tensorflow/python/ops/resource_variable_ops.py\u001b[0m in \u001b[0;36mread_value\u001b[0;34m(self)\u001b[0m\n\u001b[1;32m    772\u001b[0m     \"\"\"\n\u001b[1;32m    773\u001b[0m     \u001b[0;32mwith\u001b[0m \u001b[0mops\u001b[0m\u001b[0;34m.\u001b[0m\u001b[0mname_scope\u001b[0m\u001b[0;34m(\u001b[0m\u001b[0;34m\"Read\"\u001b[0m\u001b[0;34m)\u001b[0m\u001b[0;34m:\u001b[0m\u001b[0;34m\u001b[0m\u001b[0;34m\u001b[0m\u001b[0m\n\u001b[0;32m--> 774\u001b[0;31m       \u001b[0mvalue\u001b[0m \u001b[0;34m=\u001b[0m \u001b[0mself\u001b[0m\u001b[0;34m.\u001b[0m\u001b[0m_read_variable_op\u001b[0m\u001b[0;34m(\u001b[0m\u001b[0;34m)\u001b[0m\u001b[0;34m\u001b[0m\u001b[0;34m\u001b[0m\u001b[0m\n\u001b[0m\u001b[1;32m    775\u001b[0m     \u001b[0;31m# Return an identity so it can get placed on whatever device the context\u001b[0m\u001b[0;34m\u001b[0m\u001b[0;34m\u001b[0m\u001b[0m\n\u001b[1;32m    776\u001b[0m     \u001b[0;31m# specifies instead of the device where the variable is.\u001b[0m\u001b[0;34m\u001b[0m\u001b[0;34m\u001b[0m\u001b[0m\n",
            "\u001b[0;32m/usr/local/lib/python3.10/dist-packages/tensorflow/python/ops/resource_variable_ops.py\u001b[0m in \u001b[0;36m_read_variable_op\u001b[0;34m(self, no_copy)\u001b[0m\n\u001b[1;32m    753\u001b[0m       \u001b[0mresult\u001b[0m \u001b[0;34m=\u001b[0m \u001b[0mread_and_set_handle\u001b[0m\u001b[0;34m(\u001b[0m\u001b[0mno_copy\u001b[0m\u001b[0;34m)\u001b[0m\u001b[0;34m\u001b[0m\u001b[0;34m\u001b[0m\u001b[0m\n\u001b[1;32m    754\u001b[0m \u001b[0;34m\u001b[0m\u001b[0m\n\u001b[0;32m--> 755\u001b[0;31m     \u001b[0;32mif\u001b[0m \u001b[0;32mnot\u001b[0m \u001b[0mcontext\u001b[0m\u001b[0;34m.\u001b[0m\u001b[0mexecuting_eagerly\u001b[0m\u001b[0;34m(\u001b[0m\u001b[0;34m)\u001b[0m\u001b[0;34m:\u001b[0m\u001b[0;34m\u001b[0m\u001b[0;34m\u001b[0m\u001b[0m\n\u001b[0m\u001b[1;32m    756\u001b[0m       \u001b[0;31m# Note that if a control flow context is active the input of the read op\u001b[0m\u001b[0;34m\u001b[0m\u001b[0;34m\u001b[0m\u001b[0m\n\u001b[1;32m    757\u001b[0m       \u001b[0;31m# might not actually be the handle. This line bypasses it.\u001b[0m\u001b[0;34m\u001b[0m\u001b[0;34m\u001b[0m\u001b[0m\n",
            "\u001b[0;32m/usr/local/lib/python3.10/dist-packages/tensorflow/python/eager/context.py\u001b[0m in \u001b[0;36mexecuting_eagerly\u001b[0;34m()\u001b[0m\n\u001b[1;32m   2164\u001b[0m \u001b[0;34m\u001b[0m\u001b[0m\n\u001b[1;32m   2165\u001b[0m \u001b[0;34m\u001b[0m\u001b[0m\n\u001b[0;32m-> 2166\u001b[0;31m \u001b[0;34m@\u001b[0m\u001b[0mtf_export\u001b[0m\u001b[0;34m(\u001b[0m\u001b[0;34m\"executing_eagerly\"\u001b[0m\u001b[0;34m,\u001b[0m \u001b[0mv1\u001b[0m\u001b[0;34m=\u001b[0m\u001b[0;34m[\u001b[0m\u001b[0;34m]\u001b[0m\u001b[0;34m)\u001b[0m\u001b[0;34m\u001b[0m\u001b[0;34m\u001b[0m\u001b[0m\n\u001b[0m\u001b[1;32m   2167\u001b[0m \u001b[0;32mdef\u001b[0m \u001b[0mexecuting_eagerly\u001b[0m\u001b[0;34m(\u001b[0m\u001b[0;34m)\u001b[0m\u001b[0;34m:\u001b[0m\u001b[0;34m\u001b[0m\u001b[0;34m\u001b[0m\u001b[0m\n\u001b[1;32m   2168\u001b[0m   \"\"\"Checks whether the current thread has eager execution enabled.\n",
            "\u001b[0;31mKeyboardInterrupt\u001b[0m: "
          ]
        }
      ]
    },
    {
      "cell_type": "code",
      "source": [
        "# 모델 학습과정 표시\n",
        "%matplotlib inline\n",
        "import matplotlib.pyplot as plt\n",
        "\n",
        "fig, loss_ax = plt.subplots()\n",
        "acc_ax = loss_ax.twinx()\n",
        "\n",
        "loss_ax.plot(history.history['loss'], 'y', label = 'train loss')\n",
        "loss_ax.plot(history.history['val_loss'], 'r', label = 'val loss')\n",
        "acc_ax.plot(history.history['accuracy'], 'b', label = 'train accuracy')\n",
        "acc_ax.plot(history.history['val_accuracy'], 'g', label = 'val accuracy')\n",
        "\n",
        "loss_ax.set_xlabel('epoch')\n",
        "loss_ax.set_ylabel('loss')\n",
        "acc_ax.set_xlabel('accuracy')\n",
        "\n",
        "loss_ax.legend(loc = 'upper left')\n",
        "acc_ax.legend(loc = 'lower left')\n",
        "\n",
        "plt.show()"
      ],
      "metadata": {
        "id": "rvOne-dKhs9d"
      },
      "execution_count": null,
      "outputs": []
    },
    {
      "cell_type": "code",
      "source": [
        "# predict values\n",
        "pred = model.predict(test_padded)"
      ],
      "metadata": {
        "id": "EtEKr0DHvlcy",
        "colab": {
          "base_uri": "https://localhost:8080/"
        },
        "outputId": "641c8d7e-6d4d-4b16-8df6-4f8279fa71bd"
      },
      "execution_count": null,
      "outputs": [
        {
          "output_type": "stream",
          "name": "stdout",
          "text": [
            "614/614 [==============================] - 1s 2ms/step\n"
          ]
        }
      ]
    },
    {
      "cell_type": "code",
      "source": [
        "classes = np.argmax(pred,axis=1)"
      ],
      "metadata": {
        "id": "TAUL4SGlCQMa"
      },
      "execution_count": null,
      "outputs": []
    },
    {
      "cell_type": "code",
      "source": [
        "s = pd.DataFrame({'author':classes})"
      ],
      "metadata": {
        "id": "S_M1KNH1vnwM"
      },
      "execution_count": null,
      "outputs": []
    },
    {
      "cell_type": "code",
      "source": [
        "from sklearn.preprocessing import OneHotEncoder\n",
        "onehot_encoder = OneHotEncoder()\n",
        "s_onehot = onehot_encoder.fit_transform(s)\n",
        "print(s_onehot.toarray()[:10])\n",
        "print(onehot_encoder.categories_)"
      ],
      "metadata": {
        "id": "LUUq10r4DiOI"
      },
      "execution_count": null,
      "outputs": []
    },
    {
      "cell_type": "code",
      "source": [
        "s = s.drop(\"author\", axis=1)\n",
        "s = np.c_[s_onehot.toarray(), s]\n",
        "print(s[:10])"
      ],
      "metadata": {
        "id": "AVzDN2j2DyJx"
      },
      "execution_count": null,
      "outputs": []
    },
    {
      "cell_type": "code",
      "source": [
        "sample_submission = pd.read_csv('sample_submission.csv', index_col=0)"
      ],
      "metadata": {
        "id": "W5kNrWI9vxsX"
      },
      "execution_count": null,
      "outputs": []
    },
    {
      "cell_type": "code",
      "source": [
        "sample_submission[['0','1','2','3','4']] = s\n",
        "sample_submission"
      ],
      "metadata": {
        "colab": {
          "base_uri": "https://localhost:8080/",
          "height": 455
        },
        "id": "ZnAYK2UpBPqO",
        "outputId": "de21878e-24b9-4c8b-b220-316cef02a7d4"
      },
      "execution_count": null,
      "outputs": [
        {
          "output_type": "execute_result",
          "data": {
            "text/plain": [
              "         0    1    2    3    4\n",
              "index                         \n",
              "0      0.0  1.0  0.0  0.0  0.0\n",
              "1      0.0  0.0  0.0  1.0  0.0\n",
              "2      1.0  0.0  0.0  0.0  0.0\n",
              "3      0.0  0.0  1.0  0.0  0.0\n",
              "4      1.0  0.0  0.0  0.0  0.0\n",
              "...    ...  ...  ...  ...  ...\n",
              "19612  0.0  1.0  0.0  0.0  0.0\n",
              "19613  0.0  0.0  0.0  0.0  1.0\n",
              "19614  0.0  1.0  0.0  0.0  0.0\n",
              "19615  0.0  1.0  0.0  0.0  0.0\n",
              "19616  0.0  0.0  0.0  0.0  1.0\n",
              "\n",
              "[19617 rows x 5 columns]"
            ],
            "text/html": [
              "\n",
              "  <div id=\"df-1a19a57b-04ac-4f97-9e5e-db91918bbb29\">\n",
              "    <div class=\"colab-df-container\">\n",
              "      <div>\n",
              "<style scoped>\n",
              "    .dataframe tbody tr th:only-of-type {\n",
              "        vertical-align: middle;\n",
              "    }\n",
              "\n",
              "    .dataframe tbody tr th {\n",
              "        vertical-align: top;\n",
              "    }\n",
              "\n",
              "    .dataframe thead th {\n",
              "        text-align: right;\n",
              "    }\n",
              "</style>\n",
              "<table border=\"1\" class=\"dataframe\">\n",
              "  <thead>\n",
              "    <tr style=\"text-align: right;\">\n",
              "      <th></th>\n",
              "      <th>0</th>\n",
              "      <th>1</th>\n",
              "      <th>2</th>\n",
              "      <th>3</th>\n",
              "      <th>4</th>\n",
              "    </tr>\n",
              "    <tr>\n",
              "      <th>index</th>\n",
              "      <th></th>\n",
              "      <th></th>\n",
              "      <th></th>\n",
              "      <th></th>\n",
              "      <th></th>\n",
              "    </tr>\n",
              "  </thead>\n",
              "  <tbody>\n",
              "    <tr>\n",
              "      <th>0</th>\n",
              "      <td>0.0</td>\n",
              "      <td>1.0</td>\n",
              "      <td>0.0</td>\n",
              "      <td>0.0</td>\n",
              "      <td>0.0</td>\n",
              "    </tr>\n",
              "    <tr>\n",
              "      <th>1</th>\n",
              "      <td>0.0</td>\n",
              "      <td>0.0</td>\n",
              "      <td>0.0</td>\n",
              "      <td>1.0</td>\n",
              "      <td>0.0</td>\n",
              "    </tr>\n",
              "    <tr>\n",
              "      <th>2</th>\n",
              "      <td>1.0</td>\n",
              "      <td>0.0</td>\n",
              "      <td>0.0</td>\n",
              "      <td>0.0</td>\n",
              "      <td>0.0</td>\n",
              "    </tr>\n",
              "    <tr>\n",
              "      <th>3</th>\n",
              "      <td>0.0</td>\n",
              "      <td>0.0</td>\n",
              "      <td>1.0</td>\n",
              "      <td>0.0</td>\n",
              "      <td>0.0</td>\n",
              "    </tr>\n",
              "    <tr>\n",
              "      <th>4</th>\n",
              "      <td>1.0</td>\n",
              "      <td>0.0</td>\n",
              "      <td>0.0</td>\n",
              "      <td>0.0</td>\n",
              "      <td>0.0</td>\n",
              "    </tr>\n",
              "    <tr>\n",
              "      <th>...</th>\n",
              "      <td>...</td>\n",
              "      <td>...</td>\n",
              "      <td>...</td>\n",
              "      <td>...</td>\n",
              "      <td>...</td>\n",
              "    </tr>\n",
              "    <tr>\n",
              "      <th>19612</th>\n",
              "      <td>0.0</td>\n",
              "      <td>1.0</td>\n",
              "      <td>0.0</td>\n",
              "      <td>0.0</td>\n",
              "      <td>0.0</td>\n",
              "    </tr>\n",
              "    <tr>\n",
              "      <th>19613</th>\n",
              "      <td>0.0</td>\n",
              "      <td>0.0</td>\n",
              "      <td>0.0</td>\n",
              "      <td>0.0</td>\n",
              "      <td>1.0</td>\n",
              "    </tr>\n",
              "    <tr>\n",
              "      <th>19614</th>\n",
              "      <td>0.0</td>\n",
              "      <td>1.0</td>\n",
              "      <td>0.0</td>\n",
              "      <td>0.0</td>\n",
              "      <td>0.0</td>\n",
              "    </tr>\n",
              "    <tr>\n",
              "      <th>19615</th>\n",
              "      <td>0.0</td>\n",
              "      <td>1.0</td>\n",
              "      <td>0.0</td>\n",
              "      <td>0.0</td>\n",
              "      <td>0.0</td>\n",
              "    </tr>\n",
              "    <tr>\n",
              "      <th>19616</th>\n",
              "      <td>0.0</td>\n",
              "      <td>0.0</td>\n",
              "      <td>0.0</td>\n",
              "      <td>0.0</td>\n",
              "      <td>1.0</td>\n",
              "    </tr>\n",
              "  </tbody>\n",
              "</table>\n",
              "<p>19617 rows × 5 columns</p>\n",
              "</div>\n",
              "      <button class=\"colab-df-convert\" onclick=\"convertToInteractive('df-1a19a57b-04ac-4f97-9e5e-db91918bbb29')\"\n",
              "              title=\"Convert this dataframe to an interactive table.\"\n",
              "              style=\"display:none;\">\n",
              "        \n",
              "  <svg xmlns=\"http://www.w3.org/2000/svg\" height=\"24px\"viewBox=\"0 0 24 24\"\n",
              "       width=\"24px\">\n",
              "    <path d=\"M0 0h24v24H0V0z\" fill=\"none\"/>\n",
              "    <path d=\"M18.56 5.44l.94 2.06.94-2.06 2.06-.94-2.06-.94-.94-2.06-.94 2.06-2.06.94zm-11 1L8.5 8.5l.94-2.06 2.06-.94-2.06-.94L8.5 2.5l-.94 2.06-2.06.94zm10 10l.94 2.06.94-2.06 2.06-.94-2.06-.94-.94-2.06-.94 2.06-2.06.94z\"/><path d=\"M17.41 7.96l-1.37-1.37c-.4-.4-.92-.59-1.43-.59-.52 0-1.04.2-1.43.59L10.3 9.45l-7.72 7.72c-.78.78-.78 2.05 0 2.83L4 21.41c.39.39.9.59 1.41.59.51 0 1.02-.2 1.41-.59l7.78-7.78 2.81-2.81c.8-.78.8-2.07 0-2.86zM5.41 20L4 18.59l7.72-7.72 1.47 1.35L5.41 20z\"/>\n",
              "  </svg>\n",
              "      </button>\n",
              "      \n",
              "  <style>\n",
              "    .colab-df-container {\n",
              "      display:flex;\n",
              "      flex-wrap:wrap;\n",
              "      gap: 12px;\n",
              "    }\n",
              "\n",
              "    .colab-df-convert {\n",
              "      background-color: #E8F0FE;\n",
              "      border: none;\n",
              "      border-radius: 50%;\n",
              "      cursor: pointer;\n",
              "      display: none;\n",
              "      fill: #1967D2;\n",
              "      height: 32px;\n",
              "      padding: 0 0 0 0;\n",
              "      width: 32px;\n",
              "    }\n",
              "\n",
              "    .colab-df-convert:hover {\n",
              "      background-color: #E2EBFA;\n",
              "      box-shadow: 0px 1px 2px rgba(60, 64, 67, 0.3), 0px 1px 3px 1px rgba(60, 64, 67, 0.15);\n",
              "      fill: #174EA6;\n",
              "    }\n",
              "\n",
              "    [theme=dark] .colab-df-convert {\n",
              "      background-color: #3B4455;\n",
              "      fill: #D2E3FC;\n",
              "    }\n",
              "\n",
              "    [theme=dark] .colab-df-convert:hover {\n",
              "      background-color: #434B5C;\n",
              "      box-shadow: 0px 1px 3px 1px rgba(0, 0, 0, 0.15);\n",
              "      filter: drop-shadow(0px 1px 2px rgba(0, 0, 0, 0.3));\n",
              "      fill: #FFFFFF;\n",
              "    }\n",
              "  </style>\n",
              "\n",
              "      <script>\n",
              "        const buttonEl =\n",
              "          document.querySelector('#df-1a19a57b-04ac-4f97-9e5e-db91918bbb29 button.colab-df-convert');\n",
              "        buttonEl.style.display =\n",
              "          google.colab.kernel.accessAllowed ? 'block' : 'none';\n",
              "\n",
              "        async function convertToInteractive(key) {\n",
              "          const element = document.querySelector('#df-1a19a57b-04ac-4f97-9e5e-db91918bbb29');\n",
              "          const dataTable =\n",
              "            await google.colab.kernel.invokeFunction('convertToInteractive',\n",
              "                                                     [key], {});\n",
              "          if (!dataTable) return;\n",
              "\n",
              "          const docLinkHtml = 'Like what you see? Visit the ' +\n",
              "            '<a target=\"_blank\" href=https://colab.research.google.com/notebooks/data_table.ipynb>data table notebook</a>'\n",
              "            + ' to learn more about interactive tables.';\n",
              "          element.innerHTML = '';\n",
              "          dataTable['output_type'] = 'display_data';\n",
              "          await google.colab.output.renderOutput(dataTable, element);\n",
              "          const docLink = document.createElement('div');\n",
              "          docLink.innerHTML = docLinkHtml;\n",
              "          element.appendChild(docLink);\n",
              "        }\n",
              "      </script>\n",
              "    </div>\n",
              "  </div>\n",
              "  "
            ]
          },
          "metadata": {},
          "execution_count": 77
        }
      ]
    },
    {
      "cell_type": "code",
      "source": [
        "# 저장 파일 이름 바꿔 사용\n",
        "\n",
        "sample_submission.to_csv('submission_5_L_o.csv', encoding = 'utf-8')"
      ],
      "metadata": {
        "id": "pntAqH1IvpLZ"
      },
      "execution_count": null,
      "outputs": []
    }
  ]
}